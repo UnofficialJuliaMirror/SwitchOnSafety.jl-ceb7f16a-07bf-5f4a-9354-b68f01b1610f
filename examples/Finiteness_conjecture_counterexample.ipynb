{
 "cells": [
  {
   "cell_type": "markdown",
   "metadata": {},
   "source": [
    "This example was introduced in [BTV03] showing that there exists values of $\\alpha$ for which the finiteness conjecture does not hold, that is, there is no $w = \\sigma_1, \\ldots, \\sigma_k$ such that\n",
    "$\\sqrt[k]{\\rho(A_{\\sigma_k} \\cdots A_{\\sigma_1})}$ is equal to the JSR (such product is called a Spectral Maximizing Product (s.m.p.)).\n",
    "Let $J_w \\subseteq [0, 1]$ be the set of $\\alpha$ such that $w$ is a s.m.p.\n",
    "They show that for two words $u, v$ we have either $J_u = J_v$ (in which case $uuu\\cdots$ and $vvv\\cdots$ are identical up to a different prefix) or $J_u \\cap J_v = \\emptyset$.\n",
    "In fact, let $\\beta = \\log(\\alpha)$, since the function $h_w(\\beta) = \\log(\\sqrt[|w|]{\\rho(A_w)}) = \\frac{1}{|w|}(\\log(\\rho(A_w)) + |w|_1 \\beta)$ is affine in $\\beta$, $J_u$ and $J_v$ can only be either equal, with empty intersection or with intersection equal to one of their two boundary points.\n",
    "So [BTV03] excludes this last case.\n",
    "The authors also mention that\n",
    "$$ J_{0} = \\{0\\} \\quad \\text{ and } \\quad J_1 = \\emptyset. $$\n",
    "\n",
    "The, in [Section V, GZ05], the authors show that\n",
    "$$J_{10} = [4/5, 1] \\quad \\text{ and } \\quad J_{100} \\approx [0.5734, 0.7444] $$\n",
    "\n",
    "It was then shown in [Section 6, GZ08] that for\n",
    "$$J_{10010} =\n",
    "\\left[\\frac{222924 - 23339 \\sqrt{6}}{221184}, \\frac{36864(222924 - 23339 \\sqrt{6})}{7737809375} \\right]\n",
    "\\approx [0.74940031328298342722, 0.789681582229248583974]$$\n",
    "\n",
    "It was then proved in [HMST11] that the finiteness property does not hold for\n",
    "$$\\alpha = 0.749326546330367557943961948091344672091327370236064317358024...$$\n",
    "\n",
    "[BTV03] V. D. Blondel, J. Theys and A. A. Vladimirov,\n",
    "*An elementary counterexample to the finiteness conjecture*,\n",
    "SIAM Journal on Matrix Analysis and Applications, **2003**. 24, 963-970.\n",
    "\n",
    "[GZ05] N. Guglielmi and M. Zennaro.\n",
    "*Polytope norms and related algorithms for the computation of the joint spectral radius*.\n",
    "44th IEEE Conference on Decision and Control, and European Control Conference, **2005**, pp. 3007-3012.\n",
    "\n",
    "[GZ08] N. Guglielmi and M. Zennaro.\n",
    "*An algorithm for finding extremal polytope norms of matrix families*.\n",
    "Linear Algebra and its Applications, **2008**, 428(10), 2265-2282.\n",
    "\n",
    "[HMST11] K. G. Hare, I. D Morris, N. Sidorov and J. Theys,\n",
    "*An explicit counterexample to the Lagarias–Wang finiteness conjecture*.\n",
    "Advances in Mathematics, **2011**, 226(6), 4667-4701."
   ]
  },
  {
   "cell_type": "markdown",
   "metadata": {},
   "source": [
    "# Defining the system\n",
    "\n",
    "We start by defining the system using [HybridSystems](https://github.com/blegat/HybridSystems.jl) to represent the system and [StaticArrays](https://github.com/JuliaArrays/StaticArrays.jl) for an allocation-free representation of the matrices."
   ]
  },
  {
   "cell_type": "code",
   "execution_count": 2,
   "metadata": {},
   "outputs": [
    {
     "data": {
      "text/plain": [
       "Hybrid System with automaton OneStateAutomaton(2)"
      ]
     },
     "execution_count": 2,
     "metadata": {},
     "output_type": "execute_result"
    }
   ],
   "source": [
    "using HybridSystems\n",
    "using StaticArrays\n",
    "A0 = @SMatrix [1 1; 0 1]\n",
    "A1 = @SMatrix [1 0; 1 1]\n",
    "A(α) = discreteswitchedsystem([A0, α * A1])\n",
    "s1 = A(1.0)"
   ]
  },
  {
   "cell_type": "markdown",
   "metadata": {},
   "source": [
    "We define a convenient printing function for printing the s.m.p. candidate we find. "
   ]
  },
  {
   "cell_type": "code",
   "execution_count": 3,
   "metadata": {},
   "outputs": [
    {
     "data": {
      "text/plain": [
       "show_smp (generic function with 1 method)"
      ]
     },
     "execution_count": 3,
     "metadata": {},
     "output_type": "execute_result"
    }
   ],
   "source": [
    "using SwitchOnSafety\n",
    "binstr(smp::SwitchOnSafety.DiscretePeriodicSwitching) = join(map(tr -> tr.σ - 1, smp.period))\n",
    "function show_smp(smp)\n",
    "    println(\"   SMP: \", binstr(smp))\n",
    "    println(\"Length: \", length(smp.period))\n",
    "    println(\"Growth: \", smp.growthrate)\n",
    "end"
   ]
  },
  {
   "cell_type": "markdown",
   "metadata": {},
   "source": [
    "# Truncated $h$ functions\n",
    "\n",
    "In [BTV03], the authors introduce the function $h(\\beta) = \\sup_{w} h_w(\\beta)$ which is a convex continuous function.\n",
    "We consider here truncated version of the $h$ function: $h^K(\\beta) = \\sup_{|w| \\le K} h_w(\\beta)$,\n",
    "the functions $h^K$ are polyhedral function and the $J_w^K$ sets in $h^K$ are supersets of the real $J_w$ sets.\n",
    "Moreover, they are all strict supersets on both extremities (except for $J_0$ at $\\alpha=0$ or $\\beta = -\\infty$) as they cannot intersect.\n",
    "So we know that there will always be a $K' > K$ such that each vertex of $h_K$ is cut at $h_{K'}$."
   ]
  },
  {
   "cell_type": "code",
   "execution_count": 3,
   "metadata": {},
   "outputs": [],
   "source": [
    "using SwitchOnSafety\n",
    "# Represents a function h_w(β)\n",
    "struct H{S}\n",
    "    smp::SwitchOnSafety.DiscretePeriodicSwitching{S, HybridSystems.OneStateTransition}\n",
    "    constant::Float64 # log(ρ(A_w))\n",
    "    coefficient::Int  # |w|_1\n",
    "    k::Int            # |w|\n",
    "end\n",
    "function H(w::Int, k)\n",
    "    smp = periodicswitching(s1, [HybridSystems.OneStateTransition(((w >> i) & 1) + 1) for i in 0:(k-1)])\n",
    "    constant = log(smp.growthrate) * k\n",
    "    coefficient = count(tr -> tr.σ == 2, smp.period)\n",
    "    H{typeof(s1)}(smp, constant, coefficient, k)\n",
    "end\n",
    "binstr(h::H) = binstr(h.smp)\n",
    "heval(h::H, β::Float64) = (h.constant + h.coefficient * β) / h.k\n",
    "# Computes the intersection point β of two functions h_{w_1} and h_{w_2},\n",
    "# that is, the β such that h_{w_1}(β) = h_{w_2}(β)\n",
    "function intersect(h1::H, h2::H)\n",
    "    if h1.coefficient/h1.k == h2.coefficient/h2.k\n",
    "        return -Inf\n",
    "    else\n",
    "        -(h1.constant/h1.k - h2.constant/h2.k) / (h1.coefficient/h1.k - h2.coefficient/h2.k)\n",
    "    end\n",
    "end\n",
    "# Returns a vector of all h_w function for |w| ≤ K\n",
    "function hs(K)\n",
    "    h = Vector{H{typeof(s1)}}(undef, (1 << (K+1)) - 2)\n",
    "    j = 0\n",
    "    for k in 1:K\n",
    "        for w in 0:((1 << k) - 1)\n",
    "            j += 1\n",
    "            h[j] = H(w, k)\n",
    "        end\n",
    "    end\n",
    "    return h\n",
    "end\n",
    "# Returns the intersection points β and the indices of active w for h^K\n",
    "function hs_β_smp(K)\n",
    "    hs = Main.hs(K)\n",
    "    smp0 = 1\n",
    "    for i in 2:length(hs)\n",
    "        if heval(hs[i], 0.0) ≈ heval(hs[smp0], 0.0)\n",
    "            if hs[i].coefficient / hs[i].k < hs[smp0].coefficient / hs[i].k\n",
    "                smp0 = i\n",
    "            end\n",
    "        else\n",
    "            if heval(hs[i], 0.0) > heval(hs[smp0], 0.0)\n",
    "                smp0 = i\n",
    "            end\n",
    "        end\n",
    "    end\n",
    "    smp = [smp0]\n",
    "    β = [0.0]\n",
    "    while smp[end] != 1\n",
    "        smpnext = 1\n",
    "        function obj(h::H)\n",
    "            i = intersect(h, hs[smp[end]])\n",
    "            if i > β[end] || i ≈ β[end]\n",
    "                return -Inf\n",
    "            end\n",
    "            return i\n",
    "        end\n",
    "        for i in 2:length(hs)\n",
    "            o = obj(hs[i])\n",
    "            if o ≈ obj(hs[smpnext])\n",
    "                if hs[i].coefficient / hs[i].k < hs[smp0].coefficient / hs[i].k\n",
    "                    smpnext = i\n",
    "                end\n",
    "            else\n",
    "                if o < obj(hs[smpnext])\n",
    "                    smpnext = i\n",
    "                end\n",
    "            end\n",
    "        end\n",
    "        j = argmax(obj.(hs))\n",
    "        push!(β, obj(hs[j]))\n",
    "        @assert β[end] < β[end-1]\n",
    "        push!(smp, j)\n",
    "    end\n",
    "    return hs, β, smp\n",
    "end\n",
    "# Represents a set J_w^k\n",
    "struct J{S}\n",
    "    h::H{S}\n",
    "    αmin::Float64\n",
    "    αmax::Float64\n",
    "end\n",
    "function js(K)\n",
    "    hs, β, smp = hs_β_smp(K)\n",
    "    @assert length(β) == length(smp)\n",
    "    return map(i -> begin\n",
    "        αmax = exp(β[i])\n",
    "        if i == length(β)\n",
    "            αmin = 0.0\n",
    "        else\n",
    "            αmin = exp(β[i+1])\n",
    "        end\n",
    "        return J(hs[smp[i]], αmin, αmax)\n",
    "    end, length(β):-1:1)\n",
    "end\n",
    "function Base.show(io::IO, j::J)\n",
    "    println(io, \" smp: \", binstr(j.h))\n",
    "    println(io, \"From: \", j.αmin)\n",
    "    println(io, \"  To: \", j.αmax)\n",
    "end"
   ]
  },
  {
   "cell_type": "code",
   "execution_count": 4,
   "metadata": {},
   "outputs": [
    {
     "data": {
      "text/plain": [
       "plot_hα (generic function with 1 method)"
      ]
     },
     "execution_count": 4,
     "metadata": {},
     "output_type": "execute_result"
    }
   ],
   "source": [
    "using Plots\n",
    "pyplot()\n",
    "# plots h^K(β)\n",
    "function plot_hβ(K)\n",
    "    hs, β, smp = hs_β_smp(K)\n",
    "    @show β\n",
    "    plot()\n",
    "    for i in 1:length(β)\n",
    "        βnext = i == length(β) ? β[i] - 1 : β[i + 1]\n",
    "        h = hs[smp[i]]\n",
    "        plot!([β[i], βnext], [heval(h, β[i]), heval(h, βnext)], label=binstr(h))\n",
    "    end\n",
    "    plot!()\n",
    "end\n",
    "# plots h^K(α)\n",
    "function plot_hα(K)\n",
    "    hs, β, smp = hs_β_smp(K)\n",
    "    @show exp.(β)\n",
    "    plot(xlim = (0.0, 1.0))\n",
    "    for i in 1:length(β)\n",
    "        βnext = i == length(β) ? β[i] - 1 : β[i + 1]\n",
    "        h = hs[smp[i]]\n",
    "        plot!([exp(β[i]), exp(βnext)], [heval(h, β[i]), heval(h, βnext)], label=binstr(h))\n",
    "    end\n",
    "    plot!()\n",
    "end"
   ]
  },
  {
   "cell_type": "markdown",
   "metadata": {},
   "source": [
    "We can see that the intervals are indeed supersets of the intervals given in [GZ05] and [GZ08]."
   ]
  },
  {
   "cell_type": "code",
   "execution_count": 8,
   "metadata": {},
   "outputs": [
    {
     "data": {
      "text/plain": [
       "6-element Array{J{HybridSystem{OneStateAutomaton,MathematicalSystems.DiscreteIdentitySystem,MathematicalSystems.LinearDiscreteSystem{Float64,SArray{Tuple{2,2},Float64,2,4}},AutonomousSwitching}},1}:\n",
       "  smp: 0\n",
       "From: 0.0\n",
       "  To: 0.1715728752538099\n",
       "                    \n",
       "  smp: 10000\n",
       "From: 0.1715728752538099\n",
       "  To: 0.45702943146534875\n",
       "\n",
       "  smp: 1000\n",
       "From: 0.45702943146534875\n",
       "  To: 0.5669785102410742\n",
       " \n",
       "  smp: 100\n",
       "From: 0.5669785102410742\n",
       "  To: 0.7463911219155626\n",
       "   \n",
       "  smp: 10100\n",
       "From: 0.7463911219155626\n",
       "  To: 0.7967176639288206\n",
       " \n",
       "  smp: 10\n",
       "From: 0.7967176639288206\n",
       "  To: 1.0\n",
       "                   "
      ]
     },
     "execution_count": 8,
     "metadata": {},
     "output_type": "execute_result"
    }
   ],
   "source": [
    "js(5)"
   ]
  },
  {
   "cell_type": "markdown",
   "metadata": {},
   "source": [
    "We can plot the function $h^K(\\beta)$ which is indeed convex and the function $h^K(\\alpha)$ which isn't."
   ]
  },
  {
   "cell_type": "code",
   "execution_count": 5,
   "metadata": {},
   "outputs": [
    {
     "name": "stdout",
     "output_type": "stream",
     "text": [
      "β = [0.0, -0.227255, -0.292506, -0.567434, -0.783007, -1.76275]\n"
     ]
    },
    {
     "data": {
      "image/png": "[encoded data removed]"
     },
     "execution_count": 5,
     "metadata": {},
     "output_type": "execute_result"
    }
   ],
   "source": [
    "plot_hβ(5)"
   ]
  },
  {
   "cell_type": "code",
   "execution_count": 7,
   "metadata": {},
   "outputs": [
    {
     "name": "stdout",
     "output_type": "stream",
     "text": [
      "exp.(β) = [1.0, 0.796718, 0.746391, 0.566979, 0.457029, 0.171573]\n"
     ]
    },
    {
     "data": {
      "image/png": "[encoded data removed]"
     },
     "execution_count": 7,
     "metadata": {},
     "output_type": "execute_result"
    }
   ],
   "source": [
    "plot_hα(5)"
   ]
  },
  {
   "cell_type": "markdown",
   "metadata": {},
   "source": [
    "# Getting close to non-finiteness\n",
    "\n",
    "It was shown in [HMST11] that the finiteness conjecture does not hold for $\\alpha = 0.749326546330367557943961948091344672091327370236064317358024$.\n",
    "In a double-precision floating point number, the closest value we can represent is $\\alpha = 0.7493265463303675$.\n",
    "We create the switched system corresponding for this value of $\\alpha$ and look for approximating the JSR for this value."
   ]
  },
  {
   "cell_type": "code",
   "execution_count": 4,
   "metadata": {},
   "outputs": [
    {
     "name": "stdout",
     "output_type": "stream",
     "text": [
      "significand(α∞) = 1.498653092660735\n",
      "exponent(α∞) = -1\n",
      "significand(α∞) / (1 << -(exponent(α∞))) = 0.7493265463303675\n"
     ]
    },
    {
     "data": {
      "text/plain": [
       "Hybrid System with automaton OneStateAutomaton(2)"
      ]
     },
     "execution_count": 4,
     "metadata": {},
     "output_type": "execute_result"
    }
   ],
   "source": [
    "α∞ = 0.749326546330367557943961948091344672091327370236064317358024\n",
    "@show significand(α∞)\n",
    "@show exponent(α∞)\n",
    "@show significand(α∞) / (1 << -exponent(α∞))\n",
    "s∞ = A(α∞)"
   ]
  },
  {
   "cell_type": "markdown",
   "metadata": {},
   "source": [
    "## Sum-of-Squares approach\n",
    "\n",
    "We start with the Sum-of-Squares approach to have an idea of the value of the JSR.\n",
    "We first choose an SDP solver."
   ]
  },
  {
   "cell_type": "code",
   "execution_count": 7,
   "metadata": {},
   "outputs": [],
   "source": [
    "using MathOptInterfaceMosek\n",
    "using JuMP\n",
    "factory = with_optimizer(MosekOptimizer, QUIET=true);"
   ]
  },
  {
   "cell_type": "code",
   "execution_count": 53,
   "metadata": {},
   "outputs": [
    {
     "data": {
      "text/plain": [
       "sos (generic function with 2 methods)"
      ]
     },
     "execution_count": 53,
     "metadata": {},
     "output_type": "execute_result"
    }
   ],
   "source": [
    "using SwitchOnSafety\n",
    "lb = zeros(15)\n",
    "ub = zeros(15)\n",
    "function sos(d, tol; kws...)\n",
    "    # Prevents the binary search to use a lower bound found by a cycle\n",
    "    # to have to full timing of the binary search\n",
    "    sosdata(s∞).lb = 0.0\n",
    "    # Force recomputing it to have correct timing even when the function called twice with the same d\n",
    "    if length(sosdata(s∞).lyaps) >= d\n",
    "        sosdata(s∞).lyaps[d] = nothing\n",
    "    end\n",
    "    println(\"   Degree d: \", d)\n",
    "    @time lb[d], ub[d] = soslyapb(s∞, d; factory=factory, tol=tol, verbose=1, kws...)\n",
    "end"
   ]
  },
  {
   "cell_type": "markdown",
   "metadata": {},
   "source": [
    "We start with degree $2d = 2$, i.e. the Common Quadratic Lyapunov Function (CQLF)."
   ]
  },
  {
   "cell_type": "code",
   "execution_count": 58,
   "metadata": {},
   "outputs": [
    {
     "name": "stdout",
     "output_type": "stream",
     "text": [
      "   Degree d: 1\n",
      "Lower bound: 1.4264937524583678\n",
      "Upper bound: 1.4264938090951405\n",
      "Log-diff   : 3.9703483722952626e-8 ≤ 4.0e-8\n",
      "  0.078548 seconds (136.90 k allocations: 12.064 MiB)\n"
     ]
    },
    {
     "data": {
      "text/plain": [
       "(1.008683405683556, 1.4264938090951405)"
      ]
     },
     "execution_count": 58,
     "metadata": {},
     "output_type": "execute_result"
    }
   ],
   "source": [
    "sos(1, 4e-8)"
   ]
  },
  {
   "cell_type": "markdown",
   "metadata": {},
   "source": [
    "Using $l = 4$, the time taken to build the sequence is still neglibible to the time used to solve the SDP and the first 21 matrices of the sequence produces give a sequence of growth rate $1.4092$."
   ]
  },
  {
   "cell_type": "code",
   "execution_count": 50,
   "metadata": {},
   "outputs": [
    {
     "name": "stdout",
     "output_type": "stream",
     "text": [
      "  0.001386 seconds (27.56 k allocations: 1.584 MiB)\n",
      "  0.000520 seconds (8.37 k allocations: 752.922 KiB)\n",
      "   SMP: 010010100100101001001\n",
      "Length: 21\n",
      "Growth: 1.4092472220583487\n"
     ]
    }
   ],
   "source": [
    "@time seq = sosbuildsequence(s∞, 1, niter=21, l=4, p_0=:Primal)\n",
    "@time psw = findsmp(seq)\n",
    "show_smp(psw)"
   ]
  },
  {
   "cell_type": "markdown",
   "metadata": {},
   "source": [
    "With degree $2d = 4$, the upper bound gets closer to the lower bound given by the cycle of length 21 just found."
   ]
  },
  {
   "cell_type": "code",
   "execution_count": 59,
   "metadata": {},
   "outputs": [
    {
     "name": "stdout",
     "output_type": "stream",
     "text": [
      "   Degree d: 2\n",
      "Lower bound: 1.415875244461504\n",
      "Upper bound: 1.415875286727847\n",
      "Log-diff   : 2.985174202274621e-8 ≤ 3.0e-8\n",
      "  0.105753 seconds (264.64 k allocations: 22.662 MiB, 5.22% gc time)\n"
     ]
    },
    {
     "data": {
      "text/plain": [
       "(1.1906044175141555, 1.415875286727847)"
      ]
     },
     "execution_count": 59,
     "metadata": {},
     "output_type": "execute_result"
    }
   ],
   "source": [
    "sos(2, 3e-8)"
   ]
  },
  {
   "cell_type": "markdown",
   "metadata": {},
   "source": [
    "With $l=4$, we find the same cycle."
   ]
  },
  {
   "cell_type": "code",
   "execution_count": 51,
   "metadata": {},
   "outputs": [
    {
     "name": "stdout",
     "output_type": "stream",
     "text": [
      "  0.018201 seconds (254.39 k allocations: 15.831 MiB, 30.55% gc time)\n",
      "  0.013571 seconds (155.21 k allocations: 16.153 MiB, 35.88% gc time)\n",
      "   SMP: 010100100101001001010\n",
      "Length: 21\n",
      "Growth: 1.4092472220583487\n"
     ]
    }
   ],
   "source": [
    "@time seq = sosbuildsequence(s∞, 2, niter=100, l=4, p_0=:Primal)\n",
    "@time psw = findsmp(seq)\n",
    "show_smp(psw)"
   ]
  },
  {
   "cell_type": "markdown",
   "metadata": {},
   "source": [
    "We continue increasing the degree until $2d = 30$. The tolerance here were tuned by hand."
   ]
  },
  {
   "cell_type": "code",
   "execution_count": 56,
   "metadata": {},
   "outputs": [
    {
     "name": "stdout",
     "output_type": "stream",
     "text": [
      "   Degree d: 3\n",
      "Lower bound: 1.4128282163020807\n",
      "Upper bound: 1.412832323892235\n",
      "Log-diff   : 2.9073486328412557e-6 ≤ 4.0e-6\n",
      "  0.086978 seconds (247.96 k allocations: 20.454 MiB, 6.32% gc time)\n",
      "   Degree d: 4\n",
      "Lower bound: 1.4117968151376181\n",
      "Upper bound: 1.411809259753992\n",
      "Log-diff   : 8.814697265768778e-6 ≤ 1.0e-5\n",
      "  0.160244 seconds (500.25 k allocations: 39.960 MiB, 6.49% gc time)\n",
      "   Degree d: 5\n",
      "Lower bound: 1.410241058404017\n",
      "Upper bound: 1.4107575986796927\n",
      "Log-diff   : 0.0003662109375000555 ≤ 0.0004\n",
      "  0.123199 seconds (620.20 k allocations: 45.094 MiB, 8.71% gc time)\n",
      "   Degree d: 6\n",
      "Lower bound: 1.4097951952539558\n",
      "Upper bound: 1.41032348554655\n",
      "Log-diff   : 0.0003746582031249335 ≤ 0.0004\n",
      "  0.250244 seconds (1.17 M allocations: 83.482 MiB, 8.44% gc time)\n",
      "   Degree d: 7\n",
      "Lower bound: 1.4097247072564076\n",
      "Upper bound: 1.4102410584040173\n",
      "Log-diff   : 0.0003662109375000555 ≤ 0.0004\n",
      "  0.228689 seconds (1.35 M allocations: 90.105 MiB, 8.80% gc time)\n",
      "   Degree d: 8\n",
      "Lower bound: 1.4097247072564076\n",
      "Upper bound: 1.4099828591935328\n",
      "Log-diff   : 0.0001831054687500555 ≤ 0.0002\n",
      "  0.316231 seconds (1.89 M allocations: 123.398 MiB, 9.37% gc time)\n",
      "   Degree d: 9\n",
      "Lower bound: 1.4097599508146317\n",
      "Upper bound: 1.4100300200534477\n",
      "Log-diff   : 0.00019155273437521103 ≤ 0.0002\n",
      "  0.630662 seconds (3.16 M allocations: 206.543 MiB, 6.89% gc time)\n",
      "   Degree d: 10\n",
      "Lower bound: 1.4097247072564074\n",
      "Upper bound: 1.4098968032956563\n",
      "Log-diff   : 0.00012207031250011102 ≤ 0.0002\n",
      "  0.547571 seconds (3.73 M allocations: 224.347 MiB, 8.94% gc time)\n",
      "   Degree d: 11\n",
      "Lower bound: 1.4097247072564076\n",
      "Upper bound: 1.4099828591935328\n",
      "Log-diff   : 0.0001831054687500555 ≤ 0.0002\n",
      "  0.663740 seconds (4.34 M allocations: 255.191 MiB, 8.82% gc time)\n",
      "   Degree d: 12\n",
      "Lower bound: 1.4097247072564074\n",
      "Upper bound: 1.4098968032956563\n",
      "Log-diff   : 0.00012207031250011102 ≤ 0.0002\n",
      "  0.858781 seconds (6.20 M allocations: 344.213 MiB, 8.93% gc time)\n",
      "   Degree d: 13\n",
      "Lower bound: 1.4097247072564074\n",
      "Upper bound: 1.409861556316163\n",
      "Log-diff   : 9.707031250011378e-5 ≤ 0.0001\n",
      "  1.273023 seconds (8.21 M allocations: 461.281 MiB, 8.14% gc time)\n",
      "   Degree d: 14\n",
      "Lower bound: 1.4097272003435477\n",
      "Upper bound: 1.4098547819537248\n",
      "Log-diff   : 9.049682617151555e-5 ≤ 0.0001\n",
      "  1.977996 seconds (16.37 M allocations: 852.694 MiB, 9.67% gc time)\n",
      "   Degree d: 15\n",
      "Lower bound: 1.4097247072564076\n",
      "Upper bound: 1.4099828591935328\n",
      "Log-diff   : 0.0001831054687500555 ≤ 0.0002\n",
      "  1.404364 seconds (11.07 M allocations: 568.565 MiB, 8.96% gc time)\n"
     ]
    }
   ],
   "source": [
    "sos(3, 4e-6)\n",
    "sos(4, 1e-5)\n",
    "sos(5, 4e-4)\n",
    "sos(6, 4e-4)\n",
    "sos(7, 4e-4)\n",
    "sos(8, 2e-4)\n",
    "sos(9, 2e-4)\n",
    "sos(10, 2e-4)\n",
    "sos(11, 2e-4)\n",
    "sos(12, 2e-4)\n",
    "sos(13, 1e-4)\n",
    "sos(14, 1e-4, scaling=1.41)\n",
    "sos(15, 2e-4);"
   ]
  },
  {
   "cell_type": "markdown",
   "metadata": {},
   "source": [
    "We see the upper bounds for the different values of $d$ below:"
   ]
  },
  {
   "cell_type": "code",
   "execution_count": 60,
   "metadata": {},
   "outputs": [
    {
     "data": {
      "text/plain": [
       "15-element Array{Float64,1}:\n",
       " 1.4264938090951405\n",
       " 1.415875286727847 \n",
       " 1.412832323892235 \n",
       " 1.411809259753992 \n",
       " 1.4107575986796927\n",
       " 1.41032348554655  \n",
       " 1.4102410584040173\n",
       " 1.4099828591935328\n",
       " 1.4100300200534477\n",
       " 1.4098968032956563\n",
       " 1.4099828591935328\n",
       " 1.4098968032956563\n",
       " 1.409861556316163 \n",
       " 1.4098547819537248\n",
       " 1.4099828591935328"
      ]
     },
     "execution_count": 60,
     "metadata": {},
     "output_type": "execute_result"
    }
   ],
   "source": [
    "ub"
   ]
  },
  {
   "cell_type": "markdown",
   "metadata": {},
   "source": [
    "The best one is the following (we show two equivalent ways to obtain it):"
   ]
  },
  {
   "cell_type": "code",
   "execution_count": 63,
   "metadata": {},
   "outputs": [
    {
     "data": {
      "text/plain": [
       "(1.4098547819537248, 1.4098547819537248)"
      ]
     },
     "execution_count": 63,
     "metadata": {},
     "output_type": "execute_result"
    }
   ],
   "source": [
    "minimum(ub), sosdata(s∞).ub"
   ]
  },
  {
   "cell_type": "markdown",
   "metadata": {},
   "source": [
    "The cycle found is till the same even with $2d = 30$."
   ]
  },
  {
   "cell_type": "code",
   "execution_count": 62,
   "metadata": {},
   "outputs": [
    {
     "name": "stdout",
     "output_type": "stream",
     "text": [
      "  1.367011 seconds (10.29 M allocations: 956.310 MiB, 13.09% gc time)\n",
      "  0.008859 seconds (155.21 k allocations: 16.153 MiB)\n",
      "   SMP: 010100100101001001010\n",
      "Length: 21\n",
      "Growth: 1.4092472220583487\n"
     ]
    }
   ],
   "source": [
    "@time seq = sosbuildsequence(s∞, 15, niter=100, l=4, p_0=:Primal)\n",
    "@time psw = findsmp(seq)\n",
    "show_smp(psw)"
   ]
  },
  {
   "cell_type": "markdown",
   "metadata": {},
   "source": [
    "In conclusion we know that the JSR is in the interval:"
   ]
  },
  {
   "cell_type": "code",
   "execution_count": 64,
   "metadata": {},
   "outputs": [
    {
     "name": "stdout",
     "output_type": "stream",
     "text": [
      "Lower bound: 1.4092472220583487\n",
      "Upper bound: 1.4098547819537248\n"
     ]
    }
   ],
   "source": [
    "println(\"Lower bound: \", sosdata(s∞).lb)\n",
    "println(\"Upper bound: \", sosdata(s∞).ub)"
   ]
  },
  {
   "cell_type": "markdown",
   "metadata": {},
   "source": [
    "We can plot the lyapunov functions for increasing degrees as follows:"
   ]
  },
  {
   "cell_type": "code",
   "execution_count": 145,
   "metadata": {},
   "outputs": [
    {
     "data": {
      "text/plain": [
       "plot_lyap (generic function with 1 method)"
      ]
     },
     "execution_count": 145,
     "metadata": {},
     "output_type": "execute_result"
    }
   ],
   "source": [
    "using MultivariatePolynomials\n",
    "using Plots\n",
    "function plot_lyap(p)\n",
    "    d = mindegree(p)\n",
    "    @assert d == maxdegree(p)\n",
    "    @assert nvariables(p) == 2\n",
    "    α = range(0., stop=2π, length=1000)\n",
    "    X = cos.(α)\n",
    "    Y = sin.(α)\n",
    "    λ = map(x -> p(variables(p) => x), zip(X, Y))\n",
    "    λ = λ.^(1/d)\n",
    "    plot(X ./ λ, Y ./ λ, axis=false, aspect_ratio=:equal, label=\"\", grid=false, border=nothing, ticks=nothing, linewidth=3)#, grid=false, label=\"\")\n",
    "    plot!(X, Y, label=\"\", linestyle=:dash, linecolor=:black, linewidth=2)\n",
    "end"
   ]
  },
  {
   "cell_type": "code",
   "execution_count": 149,
   "metadata": {
    "collapsed": true
   },
   "outputs": [],
   "source": [
    "gr()\n",
    "for d in 1:15\n",
    "    plot_lyap(sosdata(s∞).lyaps[d].primal[1])\n",
    "    savefig(\"FinConjCounterEx_d\" * string(d) * \".pdf\")\n",
    "end"
   ]
  },
  {
   "cell_type": "markdown",
   "metadata": {},
   "source": [
    "## Brute-force\n",
    "\n",
    "A brute force search for a cycle with a better with length up to 32 shows that the cycle of length 21 found with $2d = 2$ is the best one up to length 32.\n",
    "It remains unknown whether the cycle is an s.m.p."
   ]
  },
  {
   "cell_type": "code",
   "execution_count": 18,
   "metadata": {},
   "outputs": [
    {
     "name": "stdout",
     "output_type": "stream",
     "text": [
      " 16.904939 seconds (326.30 M allocations: 19.173 GiB, 20.25% gc time)\n",
      "   SMP: 001001010010010100101\n",
      "Length: 21\n",
      "Growth: 1.4092472220583487\n"
     ]
    }
   ],
   "source": [
    "using SwitchOnSafety\n",
    "sosdata(s∞).smp = nothing\n",
    "@time quicklb(s∞, 1:23)\n",
    "show_smp(sosdata(s∞).smp)"
   ]
  },
  {
   "cell_type": "code",
   "execution_count": 19,
   "metadata": {},
   "outputs": [
    {
     "name": "stdout",
     "output_type": "stream",
     "text": [
      " 22.579059 seconds (505.57 M allocations: 27.854 GiB, 22.94% gc time)\n",
      "   SMP: 001001010010010100101\n",
      "Length: 21\n",
      "Growth: 1.4092472220583487\n"
     ]
    }
   ],
   "source": [
    "@time quicklb(s∞, 24)\n",
    "show_smp(sosdata(s∞).smp)"
   ]
  },
  {
   "cell_type": "code",
   "execution_count": 20,
   "metadata": {},
   "outputs": [
    {
     "name": "stdout",
     "output_type": "stream",
     "text": [
      " 37.700757 seconds (639.70 M allocations: 39.097 GiB, 21.99% gc time)\n",
      "   SMP: 001001010010010100101\n",
      "Length: 21\n",
      "Growth: 1.4092472220583487\n"
     ]
    }
   ],
   "source": [
    "@time quicklb(s∞, 25)\n",
    "show_smp(sosdata(s∞).smp)"
   ]
  },
  {
   "cell_type": "code",
   "execution_count": 21,
   "metadata": {},
   "outputs": [
    {
     "name": "stdout",
     "output_type": "stream",
     "text": [
      " 80.704443 seconds (1.45 G allocations: 86.021 GiB, 22.12% gc time)\n",
      "   SMP: 001001010010010100101\n",
      "Length: 21\n",
      "Growth: 1.4092472220583487\n"
     ]
    }
   ],
   "source": [
    "@time quicklb(s∞, 26)\n",
    "show_smp(sosdata(s∞).smp)"
   ]
  },
  {
   "cell_type": "code",
   "execution_count": 22,
   "metadata": {},
   "outputs": [
    {
     "name": "stdout",
     "output_type": "stream",
     "text": [
      "158.086423 seconds (2.86 G allocations: 169.739 GiB, 22.24% gc time)\n",
      "   SMP: 001001010010010100101\n",
      "Length: 21\n",
      "Growth: 1.4092472220583487\n"
     ]
    }
   ],
   "source": [
    "@time quicklb(s∞, 27)\n",
    "show_smp(sosdata(s∞).smp)"
   ]
  },
  {
   "cell_type": "code",
   "execution_count": 11,
   "metadata": {},
   "outputs": [
    {
     "name": "stdout",
     "output_type": "stream",
     "text": [
      "247.754003 seconds (6.93 G allocations: 393.833 GiB, 15.79% gc time)\n",
      "   SMP: 001001010010010100101\n",
      "Length: 21\n",
      "Growth: 1.4092472220583487\n"
     ]
    }
   ],
   "source": [
    "@time quicklb(s∞, 28)\n",
    "show_smp(sosdata(s∞).smp)"
   ]
  },
  {
   "cell_type": "code",
   "execution_count": 12,
   "metadata": {},
   "outputs": [
    {
     "name": "stdout",
     "output_type": "stream",
     "text": [
      "451.648584 seconds (9.13 G allocations: 576.000 GiB, 14.99% gc time)\n",
      "   SMP: 001001010010010100101\n",
      "Length: 21\n",
      "Growth: 1.4092472220583487\n"
     ]
    }
   ],
   "source": [
    "@time quicklb(s∞, 29)\n",
    "show_smp(sosdata(s∞).smp)"
   ]
  },
  {
   "cell_type": "code",
   "execution_count": 13,
   "metadata": {},
   "outputs": [
    {
     "name": "stdout",
     "output_type": "stream",
     "text": [
      "1108.237883 seconds (32.27 G allocations: 1.737 TiB, 18.45% gc time)\n",
      "   SMP: 001001010010010100101\n",
      "Length: 21\n",
      "Growth: 1.4092472220583487\n"
     ]
    }
   ],
   "source": [
    "@time quicklb(s∞, 30)\n",
    "show_smp(sosdata(s∞).smp)"
   ]
  },
  {
   "cell_type": "code",
   "execution_count": 14,
   "metadata": {},
   "outputs": [
    {
     "name": "stdout",
     "output_type": "stream",
     "text": [
      "1700.920575 seconds (36.51 G allocations: 2.375 TiB, 16.06% gc time)\n",
      "   SMP: 001001010010010100101\n",
      "Length: 21\n",
      "Growth: 1.4092472220583487\n"
     ]
    }
   ],
   "source": [
    "@time quicklb(s∞, 31)\n",
    "show_smp(sosdata(s∞).smp)"
   ]
  },
  {
   "cell_type": "code",
   "execution_count": 168,
   "metadata": {},
   "outputs": [
    {
     "name": "stdout",
     "output_type": "stream",
     "text": [
      "6920.461502 seconds (110.85 G allocations: 6.402 TiB, 30.46% gc time)\n",
      "   SMP: 010100100101001001010\n",
      "Length: 21\n",
      "Growth: 1.4092472220583487\n"
     ]
    }
   ],
   "source": [
    "@time quicklb(s∞, 32)\n",
    "show_smp(sosdata(s∞).smp)"
   ]
  },
  {
   "cell_type": "code",
   "execution_count": null,
   "metadata": {
    "collapsed": true
   },
   "outputs": [],
   "source": []
  }
 ],
 "metadata": {
  "kernelspec": {
   "display_name": "Julia 1.0.1",
   "language": "julia",
   "name": "julia-1.0"
  },
  "language_info": {
   "file_extension": ".jl",
   "mimetype": "application/julia",
   "name": "julia",
   "version": "1.0.1"
  }
 },
 "nbformat": 4,
 "nbformat_minor": 2
}
