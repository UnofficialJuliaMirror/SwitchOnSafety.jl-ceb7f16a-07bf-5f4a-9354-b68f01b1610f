{
 "cells": [
  {
   "cell_type": "code",
   "execution_count": 1,
   "metadata": {},
   "outputs": [
    {
     "name": "stdout",
     "output_type": "stream",
     "text": [
      "\u001b[32m\u001b[1m  Updating\u001b[22m\u001b[39m registry at `~/.julia/registries/General`\n",
      "\u001b[32m\u001b[1m  Updating\u001b[22m\u001b[39m git-repo `https://github.com/JuliaRegistries/General.git`\n",
      "\u001b[?25l\u001b[2K\u001b[?25h"
     ]
    }
   ],
   "source": [
    "import Pkg\n",
    "Pkg.activate(@__DIR__)\n",
    "Pkg.instantiate()"
   ]
  },
  {
   "cell_type": "markdown",
   "metadata": {},
   "source": [
    "This example was introduced in [BTV03] showing that there exists values of $\\alpha$ for which the finiteness conjecture does not hold, that is, there is no $w = \\sigma_1, \\ldots, \\sigma_k$ such that\n",
    "$\\sqrt[k]{\\rho(A_{\\sigma_k} \\cdots A_{\\sigma_1})}$ is equal to the JSR (such product is called a Spectral Maximizing Product (s.m.p.)).\n",
    "Let $J_w \\subseteq [0, 1]$ be the set of $\\alpha$ such that $w$ is a s.m.p.\n",
    "They show that for two words $u, v$ we have either $J_u = J_v$ (in which case $uuu\\cdots$ and $vvv\\cdots$ are identical up to a different prefix) or $J_u \\cap J_v = \\emptyset$.\n",
    "In fact, let $\\beta = \\log(\\alpha)$, since the function $h_w(\\beta) = \\log(\\sqrt[|w|]{\\rho(A_w)}) = \\frac{1}{|w|}(\\log(\\rho(A_w)) + |w|_1 \\beta)$ is affine in $\\beta$, $J_u$ and $J_v$ can only be either equal, with empty intersection or with intersection equal to one of their two boundary points.\n",
    "So [BTV03] excludes this last case.\n",
    "The authors also mention that\n",
    "$$ J_{0} = \\{0\\} \\quad \\text{ and } \\quad J_1 = \\emptyset. $$\n",
    "\n",
    "In [Section V, GZ05], the authors show that\n",
    "$$J_{10} = [4/5, 1] \\quad \\text{ and } \\quad J_{100} \\approx [0.5734, 0.7444]$$\n",
    "The s.m.p. $10$ is not dominant for $\\alpha = 4/5$ (see [Example 1, GP13]) but is dominant for $\\alpha = 9/10$ (see [Example 2, GP13]).\n",
    "\n",
    "It was then shown in [Section 6, GZ08] that for\n",
    "$$J_{10010} =\n",
    "\\left[\\frac{222924 - 23339 \\sqrt{6}}{221184}, \\frac{36864(222924 - 23339 \\sqrt{6})}{7737809375} \\right]\n",
    "\\approx [0.74940031328298342722, 0.789681582229248583974]$$\n",
    "\n",
    "It was then proved in [HMST11] that the finiteness property does not hold for\n",
    "$$\\alpha = 0.749326546330367557943961948091344672091327370236064317358024...$$\n",
    "\n",
    "[BTV03] V. D. Blondel, J. Theys and A. A. Vladimirov,\n",
    "*An elementary counterexample to the finiteness conjecture*,\n",
    "SIAM Journal on Matrix Analysis and Applications, **2003**. 24, 963-970.\n",
    "\n",
    "[GP13] N. Guglielmi and V. Protasov.\n",
    "*Exact computation of joint spectral characteristics of linear operators*.\n",
    "Foundations of Computational Mathematics 13.1, **2013**, 37-97.\n",
    "\n",
    "[GZ05] N. Guglielmi and M. Zennaro.\n",
    "*Polytope norms and related algorithms for the computation of the joint spectral radius*.\n",
    "44th IEEE Conference on Decision and Control, and European Control Conference, **2005**, pp. 3007-3012.\n",
    "\n",
    "[GZ08] N. Guglielmi and M. Zennaro.\n",
    "*An algorithm for finding extremal polytope norms of matrix families*.\n",
    "Linear Algebra and its Applications, **2008**, 428(10), 2265-2282.\n",
    "\n",
    "[HMST11] K. G. Hare, I. D Morris, N. Sidorov and J. Theys,\n",
    "*An explicit counterexample to the Lagarias–Wang finiteness conjecture*.\n",
    "Advances in Mathematics, **2011**, 226(6), 4667-4701."
   ]
  },
  {
   "cell_type": "markdown",
   "metadata": {},
   "source": [
    "# Defining the system\n",
    "\n",
    "We start by defining the system using [HybridSystems](https://github.com/blegat/HybridSystems.jl) to represent the system and [StaticArrays](https://github.com/JuliaArrays/StaticArrays.jl) for an allocation-free representation of the matrices."
   ]
  },
  {
   "cell_type": "code",
   "execution_count": 2,
   "metadata": {},
   "outputs": [
    {
     "data": {
      "text/plain": [
       "Hybrid System with automaton OneStateAutomaton(2)"
      ]
     },
     "execution_count": 2,
     "metadata": {},
     "output_type": "execute_result"
    }
   ],
   "source": [
    "using HybridSystems\n",
    "using StaticArrays\n",
    "A0 = @SMatrix [1 1; 0 1]\n",
    "A1 = @SMatrix [1 0; 1 1]\n",
    "A(α) = discreteswitchedsystem([A0, α * A1])\n",
    "s1 = A(1.0)"
   ]
  },
  {
   "cell_type": "markdown",
   "metadata": {},
   "source": [
    "We define a convenient printing function for printing the s.m.p. candidate we find. "
   ]
  },
  {
   "cell_type": "code",
   "execution_count": 3,
   "metadata": {},
   "outputs": [
    {
     "name": "stderr",
     "output_type": "stream",
     "text": [
      "┌ Info: Recompiling stale cache file /home/blegat/.julia/compiled/v1.1/SwitchOnSafety/EUPLd.ji for SwitchOnSafety [ceb7f16a-07bf-5f4a-9354-b68f01b1610f]\n",
      "└ @ Base loading.jl:1184\n"
     ]
    },
    {
     "data": {
      "text/plain": [
       "show_smp (generic function with 1 method)"
      ]
     },
     "execution_count": 3,
     "metadata": {},
     "output_type": "execute_result"
    }
   ],
   "source": [
    "using SwitchOnSafety\n",
    "strbin(s, bin::String) = periodicswitching(s, [HybridSystems.OneStateTransition(b - '0' + 1) for b in bin])\n",
    "binstr(smp::SwitchOnSafety.DiscretePeriodicSwitching) = join(map(tr -> tr.σ - 1, smp.period))\n",
    "function show_smp(smp)\n",
    "    println(\"   SMP: \", binstr(smp))\n",
    "    println(\"Length: \", length(smp.period))\n",
    "    println(\"Growth: \", smp.growthrate)\n",
    "end"
   ]
  },
  {
   "cell_type": "markdown",
   "metadata": {},
   "source": [
    "## $\\alpha = 8/10$\n",
    "\n",
    "For $\\alpha = 8/10$, 10 is not a dominant s.m.p. but as the algorithm removes path lying on the boundary of the polytope, it still converges (see [Example 1, GP13])."
   ]
  },
  {
   "cell_type": "code",
   "execution_count": 4,
   "metadata": {},
   "outputs": [
    {
     "name": "stdout",
     "output_type": "stream",
     "text": [
      "v_1 = [0.850651, 0.525731]\n",
      "v_2 = [0.470228, 0.760845]\n",
      "Depth 1: [2] points, 2 living leaves...\n",
      "Path starting starting at root 1: Int64[]:\n",
      "1 : [0.951057, 0.363271] : \u001b[32mliving leaf\u001b[39m: -0.10557280900008414 < 0.0\n",
      "\n",
      "Path starting starting at root 2: Int64[]:\n",
      "2 : [0.259936, 0.680521] : \u001b[31mdead leaf\u001b[39m: 0.11803398874989468 ≥ 0.0\n",
      "\n",
      "Depth 2: [3] points, 1 living leaves...\n",
      "Path starting starting at root 1: [1]:\n",
      "1 : [0.908178, 0.251014] : \u001b[31mdead leaf\u001b[39m: 0.04721359549995796 ≥ 0.0\n",
      "\n",
      "2 : [0.525731, 0.726543] : \u001b[31mdead leaf\u001b[39m: 0.0 ≥ 0.0\n",
      "\n",
      "0 living leaves, PSW(1.447214, [2, 1]) is a \u001b[0m\u001b[1mspectral maximizing product\u001b[22m (s.m.p.)\n",
      "Use `tol` < -0.10557280900008414 to eliminite at least one more living leaf.\n",
      "Use `tol` > 0.0 to keep at least one more dead leaf.\n"
     ]
    }
   ],
   "source": [
    "using GLPK\n",
    "using SwitchOnSafety\n",
    "s = A(0.8)\n",
    "smp, done, polys = invariant_polytopes(s, with_optimizer(GLPK.Optimizer),\n",
    "    SwitchOnSafety.periodicswitching(s, [2, 1]), tol=0.0, verbose=2);"
   ]
  },
  {
   "cell_type": "code",
   "execution_count": 10,
   "metadata": {},
   "outputs": [
    {
     "name": "stdout",
     "output_type": "stream",
     "text": [
      "v_1 = [0.850651, 0.525731]\n",
      "v_2 = [0.470228, 0.760845]\n",
      "Depth 1: [2] points, 2 living leaves...\n",
      "Path starting starting at root 1: Int64[]:\n",
      "1 : [0.951057, 0.363271] : \u001b[32mliving leaf\u001b[39m: -0.10557280900008414 < 1.0e-15\n",
      "\n",
      "Path starting starting at root 2: Int64[]:\n",
      "2 : [0.259936, 0.680521] : \u001b[31mdead leaf\u001b[39m: 0.11803398874989468 ≥ 1.0e-15\n",
      "\n",
      "Depth 2: [3] points, 1 living leaves...\n",
      "Path starting starting at root 1: [1]:\n",
      "1 : [0.908178, 0.251014] : \u001b[31mdead leaf\u001b[39m: 0.04721359549995796 ≥ 1.0e-15\n",
      "\n",
      "2 : [0.525731, 0.726543] : \u001b[32mliving leaf\u001b[39m: 0.0 < 1.0e-15\n",
      "\n",
      "Depth 3: [4] points, 1 living leaves...\n",
      "Path starting starting at root 1: [2, 1]:\n",
      "1 : [0.8653, 0.502029] : \u001b[32mliving leaf\u001b[39m: 0.0 < 1.0e-15\n",
      "\n",
      "2 : [0.290617, 0.69224] : \u001b[31mdead leaf\u001b[39m: 0.09910635852267946 ≥ 1.0e-15\n",
      "\n",
      "Depth 4: [5] points, 1 living leaves...\n",
      "Path starting starting at root 1: [1, 2, 1]:\n",
      "1 : [0.944801, 0.346893] : \u001b[31mdead leaf\u001b[39m: 0.006621362806405129 ≥ 1.0e-15\n",
      "\n",
      "2 : [0.478326, 0.755841] : \u001b[32mliving leaf\u001b[39m: 2.220446049250313e-16 < 1.0e-15\n",
      "\n",
      "Depth 5: [6] points, 1 living leaves...\n",
      "Path starting starting at root 1: [2, 1, 2, 1]:\n",
      "1 : [0.852788, 0.522273] : \u001b[32mliving leaf\u001b[39m: -2.220446049250313e-16 < 1.0e-15\n",
      "\n",
      "2 : [0.264412, 0.68223] : \u001b[31mdead leaf\u001b[39m: 0.1152319691296948 ≥ 1.0e-15\n",
      "\n",
      "Depth 6: [7] points, 1 living leaves...\n",
      "Path starting starting at root 1: [1, 2, 1, 2, 1]:\n",
      "1 : [0.950144, 0.360882] : \u001b[31mdead leaf\u001b[39m: 0.0009606112511491016 ≥ 1.0e-15\n",
      "\n",
      "2 : [0.47141, 0.760115] : \u001b[32mliving leaf\u001b[39m: 0.0 < 1.0e-15\n",
      "\n",
      "Depth 7: [8] points, 1 living leaves...\n",
      "Path starting starting at root 1: [2, 1, 2, 1, 2, 1]:\n",
      "1 : [0.850963, 0.525227] : \u001b[32mliving leaf\u001b[39m: -1.1102230246251565e-16 < 1.0e-15\n",
      "\n",
      "2 : [0.260589, 0.68077] : \u001b[31mdead leaf\u001b[39m: 0.11762430264214907 ≥ 1.0e-15\n",
      "\n",
      "Depth 8: [9] points, 1 living leaves...\n",
      "Path starting starting at root 1: [1, 2, 1, 2, 1, 2, 1]:\n",
      "1 : [0.950923, 0.362923] : \u001b[31mdead leaf\u001b[39m: 0.00014003639848292337 ≥ 1.0e-15\n",
      "\n",
      "2 : [0.470401, 0.760739] : \u001b[32mliving leaf\u001b[39m: -3.3306690738754696e-16 < 1.0e-15\n",
      "\n",
      "Depth 9: [10] points, 1 living leaves...\n",
      "Path starting starting at root 1: [2, 1, 2, 1, 2, 1, 2, 1]:\n",
      "1 : [0.850696, 0.525658] : \u001b[32mliving leaf\u001b[39m: -5.551115123125783e-16 < 1.0e-15\n",
      "\n",
      "2 : [0.260031, 0.680557] : \u001b[31mdead leaf\u001b[39m: 0.11797419763935602 ≥ 1.0e-15\n",
      "\n",
      "Depth 10: [11] points, 1 living leaves...\n",
      "Path starting starting at root 1: [1, 2, 1, 2, 1, 2, 1, 2, 1]:\n",
      "1 : [0.951037, 0.36322] : \u001b[31mdead leaf\u001b[39m: 2.04285918226077e-5 ≥ 1.0e-15\n",
      "\n",
      "2 : [0.470253, 0.76083] : \u001b[32mliving leaf\u001b[39m: -3.3306690738754696e-16 < 1.0e-15\n",
      "\n",
      "Still 1 living leaves, \u001b[31m\u001b[1maborting\u001b[22m\u001b[39m at depth 10. Increase the `max_length` keyword argument to go further.\n",
      "Use `tol` < 2.220446049250313e-16 to eliminite at least one more living leaf.\n",
      "Use `tol` > 2.04285918226077e-5 to keep at least one more dead leaf.\n"
     ]
    }
   ],
   "source": [
    "using GLPK\n",
    "using SwitchOnSafety\n",
    "s = A(0.8)\n",
    "smp, done, polys = invariant_polytopes(s, with_optimizer(GLPK.Optimizer),\n",
    "    SwitchOnSafety.periodicswitching(s, [2, 1]), tol=1e-15, verbose=2);"
   ]
  },
  {
   "cell_type": "code",
   "execution_count": 11,
   "metadata": {},
   "outputs": [
    {
     "name": "stdout",
     "output_type": "stream",
     "text": [
      "v_1 = [0.850651, 0.525731]\n",
      "v_2 = [0.470228, 0.760845]\n",
      "Depth 1: [2] points, 2 living leaves...\n",
      "Path starting starting at root 1: Int64[]:\n",
      "1 : [0.951057, 0.363271] : \u001b[32mliving leaf\u001b[39m: -0.10557280900008414 < 1.0e-16\n",
      "\n",
      "Path starting starting at root 2: Int64[]:\n",
      "2 : [0.259936, 0.680521] : \u001b[31mdead leaf\u001b[39m: 0.11803398874989468 ≥ 1.0e-16\n",
      "\n",
      "Depth 2: [3] points, 1 living leaves...\n",
      "Path starting starting at root 1: [1]:\n",
      "1 : [0.908178, 0.251014] : \u001b[31mdead leaf\u001b[39m: 0.04721359549995796 ≥ 1.0e-16\n",
      "\n",
      "2 : [0.525731, 0.726543] : \u001b[32mliving leaf\u001b[39m: 0.0 < 1.0e-16\n",
      "\n",
      "Depth 3: [4] points, 1 living leaves...\n",
      "Path starting starting at root 1: [2, 1]:\n",
      "1 : [0.8653, 0.502029] : \u001b[32mliving leaf\u001b[39m: 0.0 < 1.0e-16\n",
      "\n",
      "2 : [0.290617, 0.69224] : \u001b[31mdead leaf\u001b[39m: 0.09910635852267946 ≥ 1.0e-16\n",
      "\n",
      "Depth 4: [5] points, 1 living leaves...\n",
      "Path starting starting at root 1: [1, 2, 1]:\n",
      "1 : [0.944801, 0.346893] : \u001b[31mdead leaf\u001b[39m: 0.006621362806405129 ≥ 1.0e-16\n",
      "\n",
      "2 : [0.478326, 0.755841] : \u001b[31mdead leaf\u001b[39m: 2.220446049250313e-16 ≥ 1.0e-16\n",
      "\n",
      "0 living leaves, PSW(1.447214, [2, 1]) is a \u001b[0m\u001b[1mspectral maximizing product\u001b[22m (s.m.p.)\n",
      "Use `tol` < 0.0 to eliminite at least one more living leaf.\n",
      "Use `tol` > 2.220446049250313e-16 to keep at least one more dead leaf.\n"
     ]
    }
   ],
   "source": [
    "using GLPK\n",
    "using SwitchOnSafety\n",
    "s = A(0.8)\n",
    "smp, done, polys = invariant_polytopes(s, with_optimizer(GLPK.Optimizer),\n",
    "    SwitchOnSafety.periodicswitching(s, [2, 1]), tol=1e-16, verbose=2);"
   ]
  },
  {
   "cell_type": "code",
   "execution_count": 12,
   "metadata": {},
   "outputs": [
    {
     "name": "stdout",
     "output_type": "stream",
     "text": [
      "Depth 1: [2] points, 2 living leaves...\n",
      "Depth 2: [3] points, 1 living leaves...\n",
      "0 living leaves, PSW(1.447214, [2, 1]) is a \u001b[0m\u001b[1mspectral maximizing product\u001b[22m (s.m.p.)\n",
      "Use the `tol` keyword argument to change the threshold to evaluate dead and living leaves.\n"
     ]
    }
   ],
   "source": [
    "using GLPK\n",
    "using SwitchOnSafety\n",
    "s = A(0.8)\n",
    "smp, done, polys = invariant_polytopes(s, with_optimizer(GLPK.Optimizer), SwitchOnSafety.periodicswitching(s, [2, 1]));"
   ]
  },
  {
   "cell_type": "markdown",
   "metadata": {},
   "source": [
    "## $\\alpha = 9/10$\n",
    "\n",
    "For $\\alpha = 9/10$, 10 is a dominant s.m.p. (see [Example 2, GP13])."
   ]
  },
  {
   "cell_type": "code",
   "execution_count": 13,
   "metadata": {},
   "outputs": [
    {
     "name": "stdout",
     "output_type": "stream",
     "text": [
      "Depth 1: [2] points, 2 living leaves...\n",
      "Depth 2: [3] points, 1 living leaves...\n",
      "0 living leaves, PSW(1.535002, [2, 1]) is a \u001b[0m\u001b[1mspectral maximizing product\u001b[22m (s.m.p.)\n",
      "Use the `tol` keyword argument to change the threshold to evaluate dead and living leaves.\n"
     ]
    }
   ],
   "source": [
    "using GLPK\n",
    "using SwitchOnSafety\n",
    "s = A(0.9)\n",
    "smp, done, polys = invariant_polytopes(s, with_optimizer(GLPK.Optimizer),\n",
    "    SwitchOnSafety.periodicswitching(s, [2, 1]));"
   ]
  },
  {
   "cell_type": "markdown",
   "metadata": {},
   "source": [
    "We can reproduce [Figure 2, GP13] below."
   ]
  },
  {
   "cell_type": "code",
   "execution_count": 4,
   "metadata": {},
   "outputs": [
    {
     "data": {
      "image/svg+xml": [
       "<?xml version=\"1.0\" encoding=\"utf-8\"?>\n",
       "<svg xmlns=\"http://www.w3.org/2000/svg\" xmlns:xlink=\"http://www.w3.org/1999/xlink\" width=\"600\" height=\"400\" viewBox=\"0 0 2400 1600\">\n",
       "<defs>\n",
       "  <clipPath id=\"clip9400\">\n",
       "    <rect x=\"0\" y=\"0\" width=\"2400\" height=\"1600\"/>\n",
       "  </clipPath>\n",
       "</defs>\n",
       "<polygon clip-path=\"url(#clip9400)\" points=\"\n",
       "0,1600 2400,1600 2400,0 0,0 \n",
       "  \" fill=\"#ffffff\" fill-rule=\"evenodd\" fill-opacity=\"1\"/>\n",
       "<defs>\n",
       "  <clipPath id=\"clip9401\">\n",
       "    <rect x=\"480\" y=\"0\" width=\"1681\" height=\"1600\"/>\n",
       "  </clipPath>\n",
       "</defs>\n",
       "<polygon clip-path=\"url(#clip9400)\" points=\"\n",
       "189.504,1503.47 2321.26,1503.47 2321.26,47.2441 189.504,47.2441 \n",
       "  \" fill=\"#ffffff\" fill-rule=\"evenodd\" fill-opacity=\"1\"/>\n",
       "<defs>\n",
       "  <clipPath id=\"clip9402\">\n",
       "    <rect x=\"189\" y=\"47\" width=\"2133\" height=\"1457\"/>\n",
       "  </clipPath>\n",
       "</defs>\n",
       "<polyline clip-path=\"url(#clip9402)\" style=\"stroke:#000000; stroke-width:2; stroke-opacity:0.1; fill:none\" points=\"\n",
       "  414.311,1503.47 414.311,47.2441 \n",
       "  \"/>\n",
       "<polyline clip-path=\"url(#clip9402)\" style=\"stroke:#000000; stroke-width:2; stroke-opacity:0.1; fill:none\" points=\"\n",
       "  694.668,1503.47 694.668,47.2441 \n",
       "  \"/>\n",
       "<polyline clip-path=\"url(#clip9402)\" style=\"stroke:#000000; stroke-width:2; stroke-opacity:0.1; fill:none\" points=\"\n",
       "  975.025,1503.47 975.025,47.2441 \n",
       "  \"/>\n",
       "<polyline clip-path=\"url(#clip9402)\" style=\"stroke:#000000; stroke-width:2; stroke-opacity:0.1; fill:none\" points=\"\n",
       "  1255.38,1503.47 1255.38,47.2441 \n",
       "  \"/>\n",
       "<polyline clip-path=\"url(#clip9402)\" style=\"stroke:#000000; stroke-width:2; stroke-opacity:0.1; fill:none\" points=\"\n",
       "  1535.74,1503.47 1535.74,47.2441 \n",
       "  \"/>\n",
       "<polyline clip-path=\"url(#clip9402)\" style=\"stroke:#000000; stroke-width:2; stroke-opacity:0.1; fill:none\" points=\"\n",
       "  1816.1,1503.47 1816.1,47.2441 \n",
       "  \"/>\n",
       "<polyline clip-path=\"url(#clip9402)\" style=\"stroke:#000000; stroke-width:2; stroke-opacity:0.1; fill:none\" points=\"\n",
       "  2096.45,1503.47 2096.45,47.2441 \n",
       "  \"/>\n",
       "<polyline clip-path=\"url(#clip9402)\" style=\"stroke:#000000; stroke-width:2; stroke-opacity:0.1; fill:none\" points=\"\n",
       "  189.504,1286.07 2321.26,1286.07 \n",
       "  \"/>\n",
       "<polyline clip-path=\"url(#clip9402)\" style=\"stroke:#000000; stroke-width:2; stroke-opacity:0.1; fill:none\" points=\"\n",
       "  189.504,1030.71 2321.26,1030.71 \n",
       "  \"/>\n",
       "<polyline clip-path=\"url(#clip9402)\" style=\"stroke:#000000; stroke-width:2; stroke-opacity:0.1; fill:none\" points=\"\n",
       "  189.504,775.359 2321.26,775.359 \n",
       "  \"/>\n",
       "<polyline clip-path=\"url(#clip9402)\" style=\"stroke:#000000; stroke-width:2; stroke-opacity:0.1; fill:none\" points=\"\n",
       "  189.504,520.005 2321.26,520.005 \n",
       "  \"/>\n",
       "<polyline clip-path=\"url(#clip9402)\" style=\"stroke:#000000; stroke-width:2; stroke-opacity:0.1; fill:none\" points=\"\n",
       "  189.504,264.651 2321.26,264.651 \n",
       "  \"/>\n",
       "<polyline clip-path=\"url(#clip9400)\" style=\"stroke:#000000; stroke-width:4; stroke-opacity:1; fill:none\" points=\"\n",
       "  189.504,1503.47 2321.26,1503.47 \n",
       "  \"/>\n",
       "<polyline clip-path=\"url(#clip9400)\" style=\"stroke:#000000; stroke-width:4; stroke-opacity:1; fill:none\" points=\"\n",
       "  189.504,1503.47 189.504,47.2441 \n",
       "  \"/>\n",
       "<polyline clip-path=\"url(#clip9400)\" style=\"stroke:#000000; stroke-width:4; stroke-opacity:1; fill:none\" points=\"\n",
       "  414.311,1503.47 414.311,1481.63 \n",
       "  \"/>\n",
       "<polyline clip-path=\"url(#clip9400)\" style=\"stroke:#000000; stroke-width:4; stroke-opacity:1; fill:none\" points=\"\n",
       "  694.668,1503.47 694.668,1481.63 \n",
       "  \"/>\n",
       "<polyline clip-path=\"url(#clip9400)\" style=\"stroke:#000000; stroke-width:4; stroke-opacity:1; fill:none\" points=\"\n",
       "  975.025,1503.47 975.025,1481.63 \n",
       "  \"/>\n",
       "<polyline clip-path=\"url(#clip9400)\" style=\"stroke:#000000; stroke-width:4; stroke-opacity:1; fill:none\" points=\"\n",
       "  1255.38,1503.47 1255.38,1481.63 \n",
       "  \"/>\n",
       "<polyline clip-path=\"url(#clip9400)\" style=\"stroke:#000000; stroke-width:4; stroke-opacity:1; fill:none\" points=\"\n",
       "  1535.74,1503.47 1535.74,1481.63 \n",
       "  \"/>\n",
       "<polyline clip-path=\"url(#clip9400)\" style=\"stroke:#000000; stroke-width:4; stroke-opacity:1; fill:none\" points=\"\n",
       "  1816.1,1503.47 1816.1,1481.63 \n",
       "  \"/>\n",
       "<polyline clip-path=\"url(#clip9400)\" style=\"stroke:#000000; stroke-width:4; stroke-opacity:1; fill:none\" points=\"\n",
       "  2096.45,1503.47 2096.45,1481.63 \n",
       "  \"/>\n",
       "<polyline clip-path=\"url(#clip9400)\" style=\"stroke:#000000; stroke-width:4; stroke-opacity:1; fill:none\" points=\"\n",
       "  189.504,1286.07 221.48,1286.07 \n",
       "  \"/>\n",
       "<polyline clip-path=\"url(#clip9400)\" style=\"stroke:#000000; stroke-width:4; stroke-opacity:1; fill:none\" points=\"\n",
       "  189.504,1030.71 221.48,1030.71 \n",
       "  \"/>\n",
       "<polyline clip-path=\"url(#clip9400)\" style=\"stroke:#000000; stroke-width:4; stroke-opacity:1; fill:none\" points=\"\n",
       "  189.504,775.359 221.48,775.359 \n",
       "  \"/>\n",
       "<polyline clip-path=\"url(#clip9400)\" style=\"stroke:#000000; stroke-width:4; stroke-opacity:1; fill:none\" points=\"\n",
       "  189.504,520.005 221.48,520.005 \n",
       "  \"/>\n",
       "<polyline clip-path=\"url(#clip9400)\" style=\"stroke:#000000; stroke-width:4; stroke-opacity:1; fill:none\" points=\"\n",
       "  189.504,264.651 221.48,264.651 \n",
       "  \"/>\n",
       "<g clip-path=\"url(#clip9400)\">\n",
       "<text style=\"fill:#000000; fill-opacity:1; font-family:Arial,Helvetica Neue,Helvetica,sans-serif; font-size:48px; text-anchor:middle;\" transform=\"rotate(0, 414.311, 1557.47)\" x=\"414.311\" y=\"1557.47\">-0.75</text>\n",
       "</g>\n",
       "<g clip-path=\"url(#clip9400)\">\n",
       "<text style=\"fill:#000000; fill-opacity:1; font-family:Arial,Helvetica Neue,Helvetica,sans-serif; font-size:48px; text-anchor:middle;\" transform=\"rotate(0, 694.668, 1557.47)\" x=\"694.668\" y=\"1557.47\">-0.50</text>\n",
       "</g>\n",
       "<g clip-path=\"url(#clip9400)\">\n",
       "<text style=\"fill:#000000; fill-opacity:1; font-family:Arial,Helvetica Neue,Helvetica,sans-serif; font-size:48px; text-anchor:middle;\" transform=\"rotate(0, 975.025, 1557.47)\" x=\"975.025\" y=\"1557.47\">-0.25</text>\n",
       "</g>\n",
       "<g clip-path=\"url(#clip9400)\">\n",
       "<text style=\"fill:#000000; fill-opacity:1; font-family:Arial,Helvetica Neue,Helvetica,sans-serif; font-size:48px; text-anchor:middle;\" transform=\"rotate(0, 1255.38, 1557.47)\" x=\"1255.38\" y=\"1557.47\">0.00</text>\n",
       "</g>\n",
       "<g clip-path=\"url(#clip9400)\">\n",
       "<text style=\"fill:#000000; fill-opacity:1; font-family:Arial,Helvetica Neue,Helvetica,sans-serif; font-size:48px; text-anchor:middle;\" transform=\"rotate(0, 1535.74, 1557.47)\" x=\"1535.74\" y=\"1557.47\">0.25</text>\n",
       "</g>\n",
       "<g clip-path=\"url(#clip9400)\">\n",
       "<text style=\"fill:#000000; fill-opacity:1; font-family:Arial,Helvetica Neue,Helvetica,sans-serif; font-size:48px; text-anchor:middle;\" transform=\"rotate(0, 1816.1, 1557.47)\" x=\"1816.1\" y=\"1557.47\">0.50</text>\n",
       "</g>\n",
       "<g clip-path=\"url(#clip9400)\">\n",
       "<text style=\"fill:#000000; fill-opacity:1; font-family:Arial,Helvetica Neue,Helvetica,sans-serif; font-size:48px; text-anchor:middle;\" transform=\"rotate(0, 2096.45, 1557.47)\" x=\"2096.45\" y=\"1557.47\">0.75</text>\n",
       "</g>\n",
       "<g clip-path=\"url(#clip9400)\">\n",
       "<text style=\"fill:#000000; fill-opacity:1; font-family:Arial,Helvetica Neue,Helvetica,sans-serif; font-size:48px; text-anchor:end;\" transform=\"rotate(0, 165.504, 1303.57)\" x=\"165.504\" y=\"1303.57\">-0.6</text>\n",
       "</g>\n",
       "<g clip-path=\"url(#clip9400)\">\n",
       "<text style=\"fill:#000000; fill-opacity:1; font-family:Arial,Helvetica Neue,Helvetica,sans-serif; font-size:48px; text-anchor:end;\" transform=\"rotate(0, 165.504, 1048.21)\" x=\"165.504\" y=\"1048.21\">-0.3</text>\n",
       "</g>\n",
       "<g clip-path=\"url(#clip9400)\">\n",
       "<text style=\"fill:#000000; fill-opacity:1; font-family:Arial,Helvetica Neue,Helvetica,sans-serif; font-size:48px; text-anchor:end;\" transform=\"rotate(0, 165.504, 792.859)\" x=\"165.504\" y=\"792.859\">0.0</text>\n",
       "</g>\n",
       "<g clip-path=\"url(#clip9400)\">\n",
       "<text style=\"fill:#000000; fill-opacity:1; font-family:Arial,Helvetica Neue,Helvetica,sans-serif; font-size:48px; text-anchor:end;\" transform=\"rotate(0, 165.504, 537.505)\" x=\"165.504\" y=\"537.505\">0.3</text>\n",
       "</g>\n",
       "<g clip-path=\"url(#clip9400)\">\n",
       "<text style=\"fill:#000000; fill-opacity:1; font-family:Arial,Helvetica Neue,Helvetica,sans-serif; font-size:48px; text-anchor:end;\" transform=\"rotate(0, 165.504, 282.151)\" x=\"165.504\" y=\"282.151\">0.6</text>\n",
       "</g>\n",
       "<polygon clip-path=\"url(#clip9402)\" points=\"\n",
       "249.837,1066.88 249.837,88.4582 1814.7,88.4582 2209.33,327.867 2260.93,483.834 2260.93,1462.26 696.067,1462.26 301.438,1222.85 249.837,1066.88 249.837,1066.88 \n",
       "  \n",
       "  \" fill=\"#009af9\" fill-rule=\"evenodd\" fill-opacity=\"1\"/>\n",
       "<polyline clip-path=\"url(#clip9402)\" style=\"stroke:#000000; stroke-width:4; stroke-opacity:1; fill:none\" points=\"\n",
       "  249.837,1066.88 249.837,88.4582 1814.7,88.4582 2209.33,327.867 2260.93,483.834 2260.93,1462.26 696.067,1462.26 301.438,1222.85 249.837,1066.88 \n",
       "  \n",
       "  \"/>\n",
       "</svg>\n"
      ]
     },
     "execution_count": 4,
     "metadata": {},
     "output_type": "execute_result"
    }
   ],
   "source": [
    "using Polyhedra\n",
    "p = polyhedron(polys[1])\n",
    "using Plots\n",
    "plot(p)"
   ]
  },
  {
   "cell_type": "markdown",
   "metadata": {},
   "source": [
    "# Getting close to non-finiteness\n",
    "\n",
    "It was shown in [HMST11] that the finiteness conjecture does not hold for $\\alpha = 0.749326546330367557943961948091344672091327370236064317358024$.\n",
    "In a double-precision floating point number, the closest value we can represent is $\\alpha = 0.7493265463303675$.\n",
    "We create the switched system corresponding for this value of $\\alpha$ and look for approximating the JSR for this value."
   ]
  },
  {
   "cell_type": "code",
   "execution_count": 4,
   "metadata": {},
   "outputs": [
    {
     "name": "stdout",
     "output_type": "stream",
     "text": [
      "significand(α∞) = 1.498653092660735\n",
      "exponent(α∞) = -1\n",
      "significand(α∞) / (1 << -(exponent(α∞))) = 0.7493265463303675\n"
     ]
    },
    {
     "data": {
      "text/plain": [
       "Hybrid System with automaton OneStateAutomaton(2)"
      ]
     },
     "execution_count": 4,
     "metadata": {},
     "output_type": "execute_result"
    }
   ],
   "source": [
    "α∞ = 0.749326546330367557943961948091344672091327370236064317358024\n",
    "@show significand(α∞)\n",
    "@show exponent(α∞)\n",
    "@show significand(α∞) / (1 << -exponent(α∞))\n",
    "s∞ = A(α∞)"
   ]
  },
  {
   "cell_type": "markdown",
   "metadata": {},
   "source": [
    "## Sum-of-Squares approach\n",
    "\n",
    "We start with the Sum-of-Squares approach to have an idea of the value of the JSR.\n",
    "We first choose an SDP solver."
   ]
  },
  {
   "cell_type": "code",
   "execution_count": 5,
   "metadata": {},
   "outputs": [],
   "source": [
    "using MosekTools\n",
    "using JuMP\n",
    "factory = with_optimizer(Mosek.Optimizer, QUIET=true);"
   ]
  },
  {
   "cell_type": "code",
   "execution_count": 28,
   "metadata": {},
   "outputs": [
    {
     "data": {
      "text/plain": [
       "sos (generic function with 1 method)"
      ]
     },
     "execution_count": 28,
     "metadata": {},
     "output_type": "execute_result"
    }
   ],
   "source": [
    "using SwitchOnSafety\n",
    "sos_lb = zeros(15)\n",
    "sos_ub = zeros(15)\n",
    "function sos(d, tol; kws...)\n",
    "    # Prevents the binary search to use a lower bound found by a cycle\n",
    "    # to have to full timing of the binary search\n",
    "    sosdata(s∞).lb = 0.0\n",
    "    # Force recomputing it to have correct timing even when the function called twice with the same d\n",
    "    if length(sosdata(s∞).lyaps) >= d\n",
    "        sosdata(s∞).lyaps[d] = nothing\n",
    "    end\n",
    "    println(\"   Degree d: \", d)\n",
    "    @time sos_lb[d], sos_ub[d] = soslyapb(s∞, d; factory=factory, tol=tol, verbose=1, kws...)\n",
    "end"
   ]
  },
  {
   "cell_type": "markdown",
   "metadata": {},
   "source": [
    "We start with degree $2d = 2$, i.e. the Common Quadratic Lyapunov Function (CQLF)."
   ]
  },
  {
   "cell_type": "code",
   "execution_count": 10,
   "metadata": {},
   "outputs": [
    {
     "name": "stdout",
     "output_type": "stream",
     "text": [
      "   Degree d: 1\n",
      "Lower bound: 1.4264937578077195\n",
      "Upper bound: 1.426493800391043\n",
      "Log-diff   : 2.985174152314585e-8 ≤ 3.0e-8\n",
      "  0.482680 seconds (269.12 k allocations: 16.531 MiB, 1.60% gc time)\n"
     ]
    },
    {
     "data": {
      "text/plain": [
       "(1.008683409466119, 1.426493800391043)"
      ]
     },
     "execution_count": 10,
     "metadata": {},
     "output_type": "execute_result"
    }
   ],
   "source": [
    "sos(1, 3e-8)"
   ]
  },
  {
   "cell_type": "code",
   "execution_count": 15,
   "metadata": {},
   "outputs": [
    {
     "name": "stdout",
     "output_type": "stream",
     "text": [
      "   Degree d: 1\n",
      "Lower bound: 1.4264937524583678\n",
      "Upper bound: 1.4264938090951405\n",
      "Log-diff   : 3.9703483722952626e-8 ≤ 4.0e-8\n",
      "  0.105495 seconds (136.87 k allocations: 12.054 MiB)\n"
     ]
    },
    {
     "data": {
      "text/plain": [
       "(1.008683405683556, 1.4264938090951405)"
      ]
     },
     "execution_count": 15,
     "metadata": {},
     "output_type": "execute_result"
    }
   ],
   "source": [
    "sos(1, 4e-8)"
   ]
  },
  {
   "cell_type": "markdown",
   "metadata": {},
   "source": [
    "Using $l = 4$, the time taken to build the sequence is still neglibible to the time used to solve the SDP and the first 21 matrices of the sequence produces give a sequence of growth rate $1.4092$."
   ]
  },
  {
   "cell_type": "code",
   "execution_count": 29,
   "metadata": {},
   "outputs": [
    {
     "name": "stdout",
     "output_type": "stream",
     "text": [
      "   Degree d: 1\n",
      "Lower bound: 1.4167978996991486\n",
      "Upper bound: 1.4279099833483804\n",
      "Log-diff   : 0.007812500000000056 ≤ 0.01\n",
      "  0.121544 seconds (67.11 k allocations: 4.281 MiB)\n"
     ]
    },
    {
     "data": {
      "text/plain": [
       "(1.001827402448126, 1.4279099833483804)"
      ]
     },
     "execution_count": 29,
     "metadata": {},
     "output_type": "execute_result"
    }
   ],
   "source": [
    "sos(1, 1e-2)"
   ]
  },
  {
   "cell_type": "code",
   "execution_count": 30,
   "metadata": {},
   "outputs": [
    {
     "name": "stdout",
     "output_type": "stream",
     "text": [
      "  0.000502 seconds (7.29 k allocations: 426.719 KiB)\n",
      "  0.000671 seconds (8.34 k allocations: 752.047 KiB)\n",
      "   SMP: 010010100100101001001\n",
      "Length: 21\n",
      "Growth: 1.4092472220583487\n"
     ]
    }
   ],
   "source": [
    "@time seq = sosbuildsequence(s∞, 1, niter=21, l=4, p_0=:Primal)\n",
    "@time psw = findsmp(seq)\n",
    "show_smp(psw)"
   ]
  },
  {
   "cell_type": "markdown",
   "metadata": {},
   "source": [
    "With degree $2d = 4$, the upper bound gets closer to the lower bound given by the cycle of length 21 just found."
   ]
  },
  {
   "cell_type": "code",
   "execution_count": 40,
   "metadata": {},
   "outputs": [
    {
     "name": "stdout",
     "output_type": "stream",
     "text": [
      "   Degree d: 2\n",
      "Lower bound: 1.415875249771036\n",
      "Upper bound: 1.4158752920373792\n",
      "Log-diff   : 2.9851741911723906e-8 ≤ 3.0e-8\n",
      "  0.484901 seconds (338.67 k allocations: 22.678 MiB, 1.31% gc time)\n"
     ]
    },
    {
     "data": {
      "text/plain": [
       "(1.190604421978922, 1.4158752920373792)"
      ]
     },
     "execution_count": 40,
     "metadata": {},
     "output_type": "execute_result"
    }
   ],
   "source": [
    "sos(2, 3e-8)"
   ]
  },
  {
   "cell_type": "markdown",
   "metadata": {},
   "source": [
    "With $l=4$, we find the same cycle."
   ]
  },
  {
   "cell_type": "code",
   "execution_count": 43,
   "metadata": {},
   "outputs": [
    {
     "name": "stdout",
     "output_type": "stream",
     "text": [
      "  0.001424 seconds (11.43 k allocations: 714.375 KiB)\n",
      "  0.001404 seconds (8.35 k allocations: 752.578 KiB)\n",
      "   SMP: 010010100100101001001\n",
      "Length: 21\n",
      "Growth: 1.4092472220583487\n"
     ]
    }
   ],
   "source": [
    "@time seq = sosbuildsequence(s∞, 2, niter=21, l=4, p_0=:Primal)\n",
    "@time psw = findsmp(seq)\n",
    "show_smp(psw)"
   ]
  },
  {
   "cell_type": "markdown",
   "metadata": {},
   "source": [
    "We continue increasing the degree until $2d = 30$. The tolerance here were tuned by hand."
   ]
  },
  {
   "cell_type": "code",
   "execution_count": 44,
   "metadata": {},
   "outputs": [
    {
     "name": "stdout",
     "output_type": "stream",
     "text": [
      "   Degree d: 3\n",
      "Lower bound: 1.412829693184879\n",
      "Upper bound: 1.4128299886223639\n",
      "Log-diff   : 2.0911045078841894e-7 ≤ 3.0e-7\n",
      "  0.453285 seconds (344.09 k allocations: 23.507 MiB, 1.38% gc time)\n"
     ]
    },
    {
     "data": {
      "text/plain": [
       "(1.2586881626090174, 1.4128299886223639)"
      ]
     },
     "execution_count": 44,
     "metadata": {},
     "output_type": "execute_result"
    }
   ],
   "source": [
    "sos(3, 3e-7)"
   ]
  },
  {
   "cell_type": "code",
   "execution_count": 45,
   "metadata": {},
   "outputs": [
    {
     "name": "stdout",
     "output_type": "stream",
     "text": [
      "   Degree d: 4\n",
      "Lower bound: 1.4117969350593536\n",
      "Upper bound: 1.4117978553213555\n",
      "Log-diff   : 6.518371581387683e-7 ≤ 7.0e-7\n",
      "  0.479464 seconds (444.09 k allocations: 32.152 MiB, 2.77% gc time)\n"
     ]
    },
    {
     "data": {
      "text/plain": [
       "(1.29462349763339, 1.4117978553213555)"
      ]
     },
     "execution_count": 45,
     "metadata": {},
     "output_type": "execute_result"
    }
   ],
   "source": [
    "sos(4, 7e-7)"
   ]
  },
  {
   "cell_type": "code",
   "execution_count": 46,
   "metadata": {},
   "outputs": [
    {
     "name": "stdout",
     "output_type": "stream",
     "text": [
      "   Degree d: 5\n",
      "Lower bound: 1.410248109626937\n",
      "Upper bound: 1.4102733366296667\n",
      "Log-diff   : 1.7888183593717244e-5 ≤ 2.0e-5\n",
      "  0.695910 seconds (1.26 M allocations: 78.386 MiB, 3.33% gc time)\n",
      "sos_ub[5] - smp.growthrate = 0.0010261145713179598\n"
     ]
    },
    {
     "data": {
      "text/plain": [
       "0.0010261145713179598"
      ]
     },
     "execution_count": 46,
     "metadata": {},
     "output_type": "execute_result"
    }
   ],
   "source": [
    "sos(5, 2e-5)\n",
    "@show sos_ub[5] - smp.growthrate"
   ]
  },
  {
   "cell_type": "code",
   "execution_count": 47,
   "metadata": {},
   "outputs": [
    {
     "name": "stdout",
     "output_type": "stream",
     "text": [
      "   Degree d: 6\n",
      "Lower bound: 1.4098195639947941\n",
      "Upper bound: 1.4098879914681728\n",
      "Log-diff   : 4.8535156250140155e-5 ≤ 5.0e-5\n",
      "  0.473659 seconds (1.14 M allocations: 79.557 MiB, 5.51% gc time)\n",
      "sos_ub[6] - smp.growthrate = 0.0006407694098240491\n"
     ]
    },
    {
     "data": {
      "text/plain": [
       "0.0006407694098240491"
      ]
     },
     "execution_count": 47,
     "metadata": {},
     "output_type": "execute_result"
    }
   ],
   "source": [
    "sos(6, 5e-5)\n",
    "@show sos_ub[6] - smp.growthrate"
   ]
  },
  {
   "cell_type": "code",
   "execution_count": 48,
   "metadata": {},
   "outputs": [
    {
     "name": "stdout",
     "output_type": "stream",
     "text": [
      "   Degree d: 7\n",
      "Lower bound: 1.409797216501079\n",
      "Upper bound: 1.409836514586889\n",
      "Log-diff   : 2.787460327147162e-5 ≤ 3.0e-5\n",
      "  0.777881 seconds (1.93 M allocations: 137.653 MiB, 4.71% gc time)\n",
      "sos_ub[7] - smp.growthrate = 0.0005892925285402306\n"
     ]
    },
    {
     "data": {
      "text/plain": [
       "0.0005892925285402306"
      ]
     },
     "execution_count": 48,
     "metadata": {},
     "output_type": "execute_result"
    }
   ],
   "source": [
    "sos(7, 3e-5)\n",
    "@show sos_ub[7] - smp.growthrate"
   ]
  },
  {
   "cell_type": "code",
   "execution_count": 49,
   "metadata": {},
   "outputs": [
    {
     "name": "stdout",
     "output_type": "stream",
     "text": [
      "   Degree d: 8\n",
      "Lower bound: 1.4097677292967568\n",
      "Upper bound: 1.4098322648190718\n",
      "Log-diff   : 4.57763671875e-5 ≤ 5.0e-5\n",
      "  0.520423 seconds (2.10 M allocations: 144.471 MiB, 8.27% gc time)\n",
      "sos_ub[8] - smp.growthrate = 0.0005850427607230202\n"
     ]
    },
    {
     "data": {
      "text/plain": [
       "0.0005850427607230202"
      ]
     },
     "execution_count": 49,
     "metadata": {},
     "output_type": "execute_result"
    }
   ],
   "source": [
    "sos(8, 5e-5)\n",
    "@show sos_ub[8] - smp.growthrate"
   ]
  },
  {
   "cell_type": "code",
   "execution_count": 50,
   "metadata": {},
   "outputs": [
    {
     "name": "stdout",
     "output_type": "stream",
     "text": [
      "   Degree d: 9\n",
      "Lower bound: 1.4097423289253832\n",
      "Upper bound: 1.4098107526500547\n",
      "Log-diff   : 4.8535156250140155e-5 ≤ 5.0e-5\n",
      "  0.667288 seconds (3.23 M allocations: 213.821 MiB, 9.44% gc time)\n",
      "sos_ub[9] - smp.growthrate = 0.0005635305917059963\n"
     ]
    },
    {
     "data": {
      "text/plain": [
       "0.0005635305917059963"
      ]
     },
     "execution_count": 50,
     "metadata": {},
     "output_type": "execute_result"
    }
   ],
   "source": [
    "sos(9, 5e-5)\n",
    "@show sos_ub[9] - smp.growthrate"
   ]
  },
  {
   "cell_type": "code",
   "execution_count": 51,
   "metadata": {},
   "outputs": [
    {
     "name": "stdout",
     "output_type": "stream",
     "text": [
      "   Degree d: 10\n",
      "Lower bound: 1.40975399651882\n",
      "Upper bound: 1.409803703613914\n",
      "Log-diff   : 3.525878906240898e-5 ≤ 4.0e-5\n",
      "  0.980113 seconds (4.78 M allocations: 319.296 MiB, 8.56% gc time)\n",
      "sos_ub[10] - smp.growthrate = 0.0005564815555652025\n"
     ]
    },
    {
     "data": {
      "text/plain": [
       "0.0005564815555652025"
      ]
     },
     "execution_count": 51,
     "metadata": {},
     "output_type": "execute_result"
    }
   ],
   "source": [
    "sos(10, 4e-5)\n",
    "@show sos_ub[10] - smp.growthrate"
   ]
  },
  {
   "cell_type": "code",
   "execution_count": 52,
   "metadata": {},
   "outputs": [
    {
     "name": "stdout",
     "output_type": "stream",
     "text": [
      "   Degree d: 11\n",
      "Lower bound: 1.4097395342241223\n",
      "Upper bound: 1.4097892408092847\n",
      "Log-diff   : 3.5258789062686535e-5 ≤ 4.0e-5\n",
      "  1.116944 seconds (5.29 M allocations: 360.315 MiB, 9.07% gc time)\n",
      "sos_ub[11] - smp.growthrate = 0.0005420187509359575\n"
     ]
    },
    {
     "data": {
      "text/plain": [
       "0.0005420187509359575"
      ]
     },
     "execution_count": 52,
     "metadata": {},
     "output_type": "execute_result"
    }
   ],
   "source": [
    "sos(11, 4e-5)\n",
    "@show sos_ub[11] - smp.growthrate"
   ]
  },
  {
   "cell_type": "code",
   "execution_count": 53,
   "metadata": {},
   "outputs": [
    {
     "name": "stdout",
     "output_type": "stream",
     "text": [
      "   Degree d: 12\n",
      "Lower bound: 1.4097391693989973\n",
      "Upper bound: 1.4097888759712958\n",
      "Log-diff   : 3.525878906235347e-5 ≤ 4.0e-5\n",
      "  1.259871 seconds (7.24 M allocations: 465.759 MiB, 9.99% gc time)\n",
      "sos_ub[12] - smp.growthrate = 0.0005416539129470266\n"
     ]
    },
    {
     "data": {
      "text/plain": [
       "0.0005416539129470266"
      ]
     },
     "execution_count": 53,
     "metadata": {},
     "output_type": "execute_result"
    }
   ],
   "source": [
    "sos(12, 4e-5)\n",
    "@show sos_ub[12] - smp.growthrate"
   ]
  },
  {
   "cell_type": "code",
   "execution_count": 54,
   "metadata": {},
   "outputs": [
    {
     "name": "stdout",
     "output_type": "stream",
     "text": [
      "   Degree d: 13\n",
      "Lower bound: 1.4097388169642486\n",
      "Upper bound: 1.4097677292967568\n",
      "Log-diff   : 2.0508789062734234e-5 ≤ 2.1e-5\n",
      "  1.459461 seconds (9.93 M allocations: 600.301 MiB, 11.56% gc time)\n",
      "sos_ub[13] - smp.growthrate = 0.0005205072384080189\n"
     ]
    },
    {
     "data": {
      "text/plain": [
       "0.0005205072384080189"
      ]
     },
     "execution_count": 54,
     "metadata": {},
     "output_type": "execute_result"
    }
   ],
   "source": [
    "sos(13, 21e-6)\n",
    "@show sos_ub[13] - smp.growthrate"
   ]
  },
  {
   "cell_type": "code",
   "execution_count": 55,
   "metadata": {},
   "outputs": [
    {
     "name": "stdout",
     "output_type": "stream",
     "text": [
      "   Degree d: 14\n",
      "Lower bound: 1.4097408403676797\n",
      "Upper bound: 1.4097579921324812\n",
      "Log-diff   : 1.2166534423818653e-5 ≤ 2.1e-5\n",
      "  1.785501 seconds (10.65 M allocations: 669.105 MiB, 9.71% gc time)\n",
      "sos_ub[14] - smp.growthrate = 0.0005107700741324717\n"
     ]
    },
    {
     "data": {
      "text/plain": [
       "0.0005107700741324717"
      ]
     },
     "execution_count": 55,
     "metadata": {},
     "output_type": "execute_result"
    }
   ],
   "source": [
    "sos(14, 21e-6)\n",
    "@show sos_ub[14] - smp.growthrate"
   ]
  },
  {
   "cell_type": "code",
   "execution_count": 32,
   "metadata": {},
   "outputs": [
    {
     "name": "stdout",
     "output_type": "stream",
     "text": [
      "   Degree d: 15\n",
      "Lower bound: 1.4097368070725529\n",
      "Upper bound: 1.4097631455284172\n",
      "Log-diff   : 1.8683068847558104e-5 ≤ 2.02e-5\n",
      "  2.342687 seconds (16.02 M allocations: 993.005 MiB, 10.98% gc time)\n",
      "sos_ub[15] - smp.growthrate = 0.0005159234700684578\n"
     ]
    },
    {
     "data": {
      "text/plain": [
       "0.0005159234700684578"
      ]
     },
     "execution_count": 32,
     "metadata": {},
     "output_type": "execute_result"
    }
   ],
   "source": [
    "sos(15, 20.2e-6)\n",
    "@show sos_ub[15] - smp.growthrate"
   ]
  },
  {
   "cell_type": "markdown",
   "metadata": {},
   "source": [
    "We see the upper bounds for the different values of $d$ below:"
   ]
  },
  {
   "cell_type": "code",
   "execution_count": 24,
   "metadata": {},
   "outputs": [
    {
     "data": {
      "text/plain": [
       "15-element Array{Float64,1}:\n",
       " 1.4264938090951405\n",
       " 1.415875286727847 \n",
       " 1.412832323892235 \n",
       " 1.411809259753992 \n",
       " 1.4107575986796927\n",
       " 1.41032348554655  \n",
       " 1.4102410584040173\n",
       " 1.4099828591935328\n",
       " 1.4100300200534477\n",
       " 1.4098968032956563\n",
       " 1.4099828591935328\n",
       " 1.4098968032956563\n",
       " 1.409861556316163 \n",
       " 1.4098547819537248\n",
       " 1.4099828591935328"
      ]
     },
     "execution_count": 24,
     "metadata": {},
     "output_type": "execute_result"
    }
   ],
   "source": [
    "sos_ub"
   ]
  },
  {
   "cell_type": "markdown",
   "metadata": {},
   "source": [
    "The best one is the following (we show two equivalent ways to obtain it):"
   ]
  },
  {
   "cell_type": "code",
   "execution_count": 25,
   "metadata": {},
   "outputs": [
    {
     "data": {
      "text/plain": [
       "(1.4098547819537248, 1.4098547819537248)"
      ]
     },
     "execution_count": 25,
     "metadata": {},
     "output_type": "execute_result"
    }
   ],
   "source": [
    "minimum(sos_ub), sosdata(s∞).sos_ub"
   ]
  },
  {
   "cell_type": "markdown",
   "metadata": {},
   "source": [
    "The cycle found is till the same even with $2d = 30$ but can now be found with $l = 2$."
   ]
  },
  {
   "cell_type": "code",
   "execution_count": 84,
   "metadata": {},
   "outputs": [
    {
     "name": "stdout",
     "output_type": "stream",
     "text": [
      "   Degree d: 15\n",
      "Lower bound: 1.4057722909709325\n",
      "Upper bound: 1.4167978996991486\n",
      "Log-diff   : 0.0078125 ≤ 0.01\n",
      "  0.757571 seconds (6.38 M allocations: 349.782 MiB, 13.02% gc time)\n"
     ]
    },
    {
     "data": {
      "text/plain": [
       "(1.373664407470894, 1.4167978996991486)"
      ]
     },
     "execution_count": 84,
     "metadata": {},
     "output_type": "execute_result"
    }
   ],
   "source": [
    "sos(15, 1e-2)"
   ]
  },
  {
   "cell_type": "code",
   "execution_count": 85,
   "metadata": {},
   "outputs": [
    {
     "name": "stdout",
     "output_type": "stream",
     "text": [
      "  0.009879 seconds (93.67 k allocations: 8.403 MiB)\n",
      "  0.000532 seconds (7.00 k allocations: 629.906 KiB)\n",
      "   SMP: 010100100101001001010\n",
      "Length: 21\n",
      "Growth: 1.4092472220583487\n"
     ]
    }
   ],
   "source": [
    "@time seq = sosbuildsequence(s∞, 15, niter=21, l=2, p_0=:Primal)\n",
    "@time psw = findsmp(seq)\n",
    "show_smp(psw)"
   ]
  },
  {
   "cell_type": "markdown",
   "metadata": {},
   "source": [
    "In conclusion we know that the JSR is in the interval:"
   ]
  },
  {
   "cell_type": "code",
   "execution_count": 30,
   "metadata": {},
   "outputs": [
    {
     "name": "stdout",
     "output_type": "stream",
     "text": [
      "Lower bound: 1.4092472220583487\n",
      "Upper bound: 1.4098547819537248\n"
     ]
    }
   ],
   "source": [
    "println(\"Lower bound: \", sosdata(s∞).lb)\n",
    "println(\"Upper bound: \", sosdata(s∞).ub)"
   ]
  },
  {
   "cell_type": "markdown",
   "metadata": {},
   "source": [
    "We can plot the lyapunov functions for increasing degrees as follows:"
   ]
  },
  {
   "cell_type": "code",
   "execution_count": 32,
   "metadata": {},
   "outputs": [
    {
     "data": {
      "text/plain": [
       "plot_lyap (generic function with 1 method)"
      ]
     },
     "execution_count": 32,
     "metadata": {},
     "output_type": "execute_result"
    }
   ],
   "source": [
    "using MultivariatePolynomials\n",
    "using Plots\n",
    "function plot_lyap(p)\n",
    "    d = mindegree(p)\n",
    "    @assert d == maxdegree(p)\n",
    "    @assert nvariables(p) == 2\n",
    "    α = range(0., stop=2π, length=1000)\n",
    "    X = cos.(α)\n",
    "    Y = sin.(α)\n",
    "    λ = map(x -> p(variables(p) => x), zip(X, Y))\n",
    "    λ = λ.^(1/d)\n",
    "    plot(X ./ λ, Y ./ λ, axis=false, aspect_ratio=:equal, label=\"\", grid=false, border=nothing, ticks=nothing, linewidth=3)#, grid=false, label=\"\")\n",
    "    plot!(X, Y, label=\"\", linestyle=:dash, linecolor=:black, linewidth=2)\n",
    "end"
   ]
  },
  {
   "cell_type": "markdown",
   "metadata": {},
   "source": [
    "### Reproducing the README figure\n",
    "\n",
    "The cell below is used to plot the figure on the README with the $3 \\times 5$ sublevel sets"
   ]
  },
  {
   "cell_type": "code",
   "execution_count": 43,
   "metadata": {
    "collapsed": true
   },
   "outputs": [],
   "source": [
    "pyplot()\n",
    "lyap_plots = map(d -> begin\n",
    "    plot_lyap(sosdata(s∞).lyaps[d].primal[1])\n",
    "    #savefig(\"FinConjCounterEx_d\" * string(d) * \".pdf\")\n",
    "end, 1:15)\n",
    "plot(lyap_plots..., layout=(3, 5));\n",
    "#savefig(\"FinConjCounterEx.png\")"
   ]
  },
  {
   "cell_type": "markdown",
   "metadata": {},
   "source": [
    "## Brute-force\n",
    "\n",
    "A brute force search for a cycle with a better with length up to 32 shows that the cycle of length 21 found with $2d = 2$ is the best one up to length 32.\n",
    "It remains unknown whether the cycle is an s.m.p."
   ]
  },
  {
   "cell_type": "code",
   "execution_count": 18,
   "metadata": {},
   "outputs": [
    {
     "name": "stdout",
     "output_type": "stream",
     "text": [
      " 16.904939 seconds (326.30 M allocations: 19.173 GiB, 20.25% gc time)\n",
      "   SMP: 001001010010010100101\n",
      "Length: 21\n",
      "Growth: 1.4092472220583487\n"
     ]
    }
   ],
   "source": [
    "using SwitchOnSafety\n",
    "sosdata(s∞).smp = nothing\n",
    "@time quicklb(s∞, 1:23)\n",
    "show_smp(sosdata(s∞).smp)"
   ]
  },
  {
   "cell_type": "code",
   "execution_count": 19,
   "metadata": {},
   "outputs": [
    {
     "name": "stdout",
     "output_type": "stream",
     "text": [
      " 22.579059 seconds (505.57 M allocations: 27.854 GiB, 22.94% gc time)\n",
      "   SMP: 001001010010010100101\n",
      "Length: 21\n",
      "Growth: 1.4092472220583487\n"
     ]
    }
   ],
   "source": [
    "@time quicklb(s∞, 24)\n",
    "show_smp(sosdata(s∞).smp)"
   ]
  },
  {
   "cell_type": "code",
   "execution_count": 20,
   "metadata": {},
   "outputs": [
    {
     "name": "stdout",
     "output_type": "stream",
     "text": [
      " 37.700757 seconds (639.70 M allocations: 39.097 GiB, 21.99% gc time)\n",
      "   SMP: 001001010010010100101\n",
      "Length: 21\n",
      "Growth: 1.4092472220583487\n"
     ]
    }
   ],
   "source": [
    "@time quicklb(s∞, 25)\n",
    "show_smp(sosdata(s∞).smp)"
   ]
  },
  {
   "cell_type": "code",
   "execution_count": 21,
   "metadata": {},
   "outputs": [
    {
     "name": "stdout",
     "output_type": "stream",
     "text": [
      " 80.704443 seconds (1.45 G allocations: 86.021 GiB, 22.12% gc time)\n",
      "   SMP: 001001010010010100101\n",
      "Length: 21\n",
      "Growth: 1.4092472220583487\n"
     ]
    }
   ],
   "source": [
    "@time quicklb(s∞, 26)\n",
    "show_smp(sosdata(s∞).smp)"
   ]
  },
  {
   "cell_type": "code",
   "execution_count": 22,
   "metadata": {},
   "outputs": [
    {
     "name": "stdout",
     "output_type": "stream",
     "text": [
      "158.086423 seconds (2.86 G allocations: 169.739 GiB, 22.24% gc time)\n",
      "   SMP: 001001010010010100101\n",
      "Length: 21\n",
      "Growth: 1.4092472220583487\n"
     ]
    }
   ],
   "source": [
    "@time quicklb(s∞, 27)\n",
    "show_smp(sosdata(s∞).smp)"
   ]
  },
  {
   "cell_type": "code",
   "execution_count": 11,
   "metadata": {},
   "outputs": [
    {
     "name": "stdout",
     "output_type": "stream",
     "text": [
      "247.754003 seconds (6.93 G allocations: 393.833 GiB, 15.79% gc time)\n",
      "   SMP: 001001010010010100101\n",
      "Length: 21\n",
      "Growth: 1.4092472220583487\n"
     ]
    }
   ],
   "source": [
    "@time quicklb(s∞, 28)\n",
    "show_smp(sosdata(s∞).smp)"
   ]
  },
  {
   "cell_type": "code",
   "execution_count": 12,
   "metadata": {},
   "outputs": [
    {
     "name": "stdout",
     "output_type": "stream",
     "text": [
      "451.648584 seconds (9.13 G allocations: 576.000 GiB, 14.99% gc time)\n",
      "   SMP: 001001010010010100101\n",
      "Length: 21\n",
      "Growth: 1.4092472220583487\n"
     ]
    }
   ],
   "source": [
    "@time quicklb(s∞, 29)\n",
    "show_smp(sosdata(s∞).smp)"
   ]
  },
  {
   "cell_type": "code",
   "execution_count": 13,
   "metadata": {},
   "outputs": [
    {
     "name": "stdout",
     "output_type": "stream",
     "text": [
      "1108.237883 seconds (32.27 G allocations: 1.737 TiB, 18.45% gc time)\n",
      "   SMP: 001001010010010100101\n",
      "Length: 21\n",
      "Growth: 1.4092472220583487\n"
     ]
    }
   ],
   "source": [
    "@time quicklb(s∞, 30)\n",
    "show_smp(sosdata(s∞).smp)"
   ]
  },
  {
   "cell_type": "code",
   "execution_count": 14,
   "metadata": {},
   "outputs": [
    {
     "name": "stdout",
     "output_type": "stream",
     "text": [
      "1700.920575 seconds (36.51 G allocations: 2.375 TiB, 16.06% gc time)\n",
      "   SMP: 001001010010010100101\n",
      "Length: 21\n",
      "Growth: 1.4092472220583487\n"
     ]
    }
   ],
   "source": [
    "@time quicklb(s∞, 31)\n",
    "show_smp(sosdata(s∞).smp)"
   ]
  },
  {
   "cell_type": "code",
   "execution_count": 168,
   "metadata": {},
   "outputs": [
    {
     "name": "stdout",
     "output_type": "stream",
     "text": [
      "6920.461502 seconds (110.85 G allocations: 6.402 TiB, 30.46% gc time)\n",
      "   SMP: 010100100101001001010\n",
      "Length: 21\n",
      "Growth: 1.4092472220583487\n"
     ]
    }
   ],
   "source": [
    "@time quicklb(s∞, 32)\n",
    "show_smp(sosdata(s∞).smp)"
   ]
  },
  {
   "cell_type": "markdown",
   "metadata": {},
   "source": [
    "## Gripenberg"
   ]
  },
  {
   "cell_type": "code",
   "execution_count": 7,
   "metadata": {},
   "outputs": [
    {
     "name": "stdout",
     "output_type": "stream",
     "text": [
      "ρ evaluations   : 20 < 10000 = max_ρ_eval.\n",
      "norm evaluations: 20 < 10000 = max_norm_eval.\n",
      "switch length   : 7 < 50 = max_length.\n",
      "  0.000839 seconds (1.29 k allocations: 72.375 KiB)\n",
      "ub = 1.4192450962501781\n",
      "   SMP: 00101\n",
      "Length: 5\n",
      "Growth: 1.4092450962501781\n"
     ]
    }
   ],
   "source": [
    "@time smp, ub = gripenberg(s∞, δ=1e-2)\n",
    "@show ub\n",
    "show_smp(smp)"
   ]
  },
  {
   "cell_type": "code",
   "execution_count": 8,
   "metadata": {},
   "outputs": [
    {
     "name": "stdout",
     "output_type": "stream",
     "text": [
      "ρ evaluations   : 7532 < 10000 = max_ρ_eval.\n",
      "norm evaluations: 7532 < 10000 = max_norm_eval.\n",
      "switch length   : 53 < 1000 = max_length.\n",
      "  0.066787 seconds (363.52 k allocations: 26.096 MiB, 10.53% gc time)\n",
      "ub = 1.4102472220583486\n",
      "   SMP: 001001010010010100101\n",
      "Length: 21\n",
      "Growth: 1.4092472220583487\n"
     ]
    }
   ],
   "source": [
    "@time smp, ub = gripenberg(s∞, δ=1e-3, max_eval=10_000, max_length=1000)\n",
    "@show ub\n",
    "show_smp(smp)"
   ]
  },
  {
   "cell_type": "code",
   "execution_count": 9,
   "metadata": {},
   "outputs": [
    {
     "name": "stdout",
     "output_type": "stream",
     "text": [
      "ρ evaluations   : 218008 < 1000000 = max_ρ_eval.\n",
      "norm evaluations: 218008 < 1000000 = max_norm_eval.\n",
      "switch length   : 81 < 100 = max_length.\n",
      "  1.221414 seconds (10.11 M allocations: 766.773 MiB, 16.68% gc time)\n",
      "ub = 1.4098472220583487\n",
      "   SMP: 001001010010010100101\n",
      "Length: 21\n",
      "Growth: 1.4092472220583487\n"
     ]
    }
   ],
   "source": [
    "@time smp, ub = gripenberg(s∞, δ=6e-4, max_eval=1_000_000, max_length=100)\n",
    "@show ub\n",
    "show_smp(smp)"
   ]
  },
  {
   "cell_type": "code",
   "execution_count": 10,
   "metadata": {},
   "outputs": [
    {
     "name": "stdout",
     "output_type": "stream",
     "text": [
      "ρ evaluations   : 437502 < 10000000 = max_ρ_eval.\n",
      "norm evaluations: 437502 < 10000000 = max_norm_eval.\n",
      "switch length   : 87 < 1000 = max_length.\n",
      "  2.470424 seconds (20.32 M allocations: 1.518 GiB, 16.61% gc time)\n",
      "ub = 1.4097972220583488\n",
      "   SMP: 001001010010010100101\n",
      "Length: 21\n",
      "Growth: 1.4092472220583487\n"
     ]
    }
   ],
   "source": [
    "@time smp, ub = gripenberg(s∞, δ=55e-5, max_eval=10_000_000, max_length=1000)\n",
    "@show ub\n",
    "show_smp(smp)"
   ]
  },
  {
   "cell_type": "code",
   "execution_count": 11,
   "metadata": {},
   "outputs": [
    {
     "name": "stdout",
     "output_type": "stream",
     "text": [
      "ρ evaluations   : 510498 < 10000000 = max_ρ_eval.\n",
      "norm evaluations: 510498 < 10000000 = max_norm_eval.\n",
      "switch length   : 89 < 1000 = max_length.\n",
      "  3.296410 seconds (23.71 M allocations: 1.776 GiB, 18.66% gc time)\n",
      "ub = 1.4097872220583487\n",
      "   SMP: 001001010010010100101\n",
      "Length: 21\n",
      "Growth: 1.4092472220583487\n"
     ]
    }
   ],
   "source": [
    "@time smp, ub = gripenberg(s∞, δ=54e-5, max_eval=10_000_000, max_length=1000)\n",
    "@show ub\n",
    "show_smp(smp)"
   ]
  },
  {
   "cell_type": "code",
   "execution_count": 13,
   "metadata": {},
   "outputs": [
    {
     "name": "stdout",
     "output_type": "stream",
     "text": [
      "ρ evaluations   : 609498 < 10000000 = max_ρ_eval.\n",
      "norm evaluations: 609498 < 10000000 = max_norm_eval.\n",
      "switch length   : 91 < 1000 = max_length.\n",
      "  3.425558 seconds (28.31 M allocations: 2.128 GiB, 19.54% gc time)\n",
      "ub = 1.4097772220583487\n",
      "   SMP: 001001010010010100101\n",
      "Length: 21\n",
      "Growth: 1.4092472220583487\n"
     ]
    }
   ],
   "source": [
    "@time smp, ub = gripenberg(s∞, δ=53e-5, max_eval=10_000_000, max_length=1000)\n",
    "@show ub\n",
    "show_smp(smp)"
   ]
  },
  {
   "cell_type": "code",
   "execution_count": 14,
   "metadata": {},
   "outputs": [
    {
     "name": "stdout",
     "output_type": "stream",
     "text": [
      "ρ evaluations   : 726966 < 10000000 = max_ρ_eval.\n",
      "norm evaluations: 726966 < 10000000 = max_norm_eval.\n",
      "switch length   : 92 < 1000 = max_length.\n",
      "  4.247816 seconds (33.77 M allocations: 2.544 GiB, 18.13% gc time)\n",
      "ub = 1.4097672220583488\n",
      "   SMP: 001001010010010100101\n",
      "Length: 21\n",
      "Growth: 1.4092472220583487\n"
     ]
    }
   ],
   "source": [
    "@time smp, ub = gripenberg(s∞, δ=52e-5, max_eval=10_000_000, max_length=1000)\n",
    "@show ub\n",
    "show_smp(smp)"
   ]
  },
  {
   "cell_type": "code",
   "execution_count": 15,
   "metadata": {},
   "outputs": [
    {
     "name": "stdout",
     "output_type": "stream",
     "text": [
      "ρ evaluations   : 866588 < 10000000 = max_ρ_eval.\n",
      "norm evaluations: 866588 < 10000000 = max_norm_eval.\n",
      "switch length   : 94 < 1000 = max_length.\n",
      "  5.389752 seconds (40.26 M allocations: 3.041 GiB, 19.56% gc time)\n",
      "ub = 1.4097572220583487\n",
      "   SMP: 001001010010010100101\n",
      "Length: 21\n",
      "Growth: 1.4092472220583487\n"
     ]
    }
   ],
   "source": [
    "@time smp, ub = gripenberg(s∞, δ=51e-5, max_eval=10_000_000, max_length=1000)\n",
    "@show ub\n",
    "show_smp(smp)"
   ]
  },
  {
   "cell_type": "markdown",
   "metadata": {},
   "source": [
    "## Polytopic proof of the s.m.p."
   ]
  },
  {
   "cell_type": "code",
   "execution_count": 16,
   "metadata": {},
   "outputs": [
    {
     "data": {
      "text/plain": [
       "PSW(1.4092472220583487, [1, 2, 1, 2, 1, 1, 2, 1, 1, 2, 1, 2, 1, 1, 2, 1, 1, 2, 1, 2, 1])"
      ]
     },
     "execution_count": 16,
     "metadata": {},
     "output_type": "execute_result"
    }
   ],
   "source": [
    "smp = strbin(s∞, \"010100100101001001010\")"
   ]
  },
  {
   "cell_type": "code",
   "execution_count": 17,
   "metadata": {},
   "outputs": [
    {
     "name": "stdout",
     "output_type": "stream",
     "text": [
      "Depth 1: [21] points, 21 living leaves...\n",
      "Depth 2: [22] points, 1 living leaves...\n",
      "Depth 3: [23] points, 1 living leaves...\n",
      "Depth 4: [24] points, 1 living leaves...\n",
      "Depth 5: [25] points, 1 living leaves...\n",
      "Depth 6: [26] points, 1 living leaves...\n",
      "Depth 7: [27] points, 1 living leaves...\n",
      "Depth 8: [28] points, 1 living leaves...\n",
      "Depth 9: [29] points, 1 living leaves...\n",
      "Depth 10: [30] points, 1 living leaves...\n",
      "Depth 11: [31] points, 1 living leaves...\n",
      "Depth 12: [32] points, 1 living leaves...\n",
      "Depth 13: [33] points, 1 living leaves...\n",
      "Depth 14: [34] points, 1 living leaves...\n",
      "Depth 15: [36] points, 2 living leaves...\n",
      "Depth 16: [38] points, 2 living leaves...\n",
      "Depth 17: [40] points, 2 living leaves...\n",
      "Depth 18: [42] points, 2 living leaves...\n",
      "Depth 19: [44] points, 2 living leaves...\n",
      "Depth 20: [46] points, 2 living leaves...\n",
      "Depth 21: [48] points, 2 living leaves...\n",
      "Depth 22: [50] points, 2 living leaves...\n",
      "Depth 23: [51] points, 1 living leaves...\n",
      "Depth 24: [52] points, 1 living leaves...\n",
      "Depth 25: [53] points, 1 living leaves...\n",
      "Depth 26: [54] points, 1 living leaves...\n",
      "Depth 27: [55] points, 1 living leaves...\n",
      "Depth 28: [57] points, 2 living leaves...\n",
      "Depth 29: [59] points, 2 living leaves...\n",
      "Depth 30: [61] points, 2 living leaves...\n",
      "Depth 31: [63] points, 2 living leaves...\n",
      "Depth 32: [65] points, 2 living leaves...\n",
      "Depth 33: [67] points, 2 living leaves...\n",
      "Depth 34: [69] points, 2 living leaves...\n",
      "Depth 35: [71] points, 2 living leaves...\n",
      "Depth 36: [72] points, 1 living leaves...\n",
      "Depth 37: [73] points, 1 living leaves...\n",
      "Depth 38: [74] points, 1 living leaves...\n",
      "Depth 39: [75] points, 1 living leaves...\n",
      "Depth 40: [76] points, 1 living leaves...\n",
      "Depth 41: [78] points, 2 living leaves...\n",
      "Depth 42: [80] points, 2 living leaves...\n",
      "Depth 43: [82] points, 2 living leaves...\n",
      "Depth 44: [84] points, 2 living leaves...\n",
      "Depth 45: [86] points, 2 living leaves...\n",
      "Depth 46: [88] points, 2 living leaves...\n",
      "Depth 47: [90] points, 2 living leaves...\n",
      "Depth 48: [92] points, 2 living leaves...\n",
      "Depth 49: [93] points, 1 living leaves...\n",
      "Depth 50: [94] points, 1 living leaves...\n",
      "Depth 51: [95] points, 1 living leaves...\n",
      "Depth 52: [96] points, 1 living leaves...\n",
      "Depth 53: [97] points, 1 living leaves...\n",
      "Depth 54: [99] points, 2 living leaves...\n",
      "Depth 55: [101] points, 2 living leaves...\n",
      "Depth 56: [103] points, 2 living leaves...\n",
      "Depth 57: [105] points, 2 living leaves...\n",
      "Depth 58: [107] points, 2 living leaves...\n",
      "Depth 59: [109] points, 2 living leaves...\n",
      "Depth 60: [111] points, 2 living leaves...\n",
      "Depth 61: [113] points, 2 living leaves...\n",
      "Depth 62: [114] points, 1 living leaves...\n",
      "Depth 63: [115] points, 1 living leaves...\n",
      "Depth 64: [116] points, 1 living leaves...\n",
      "Depth 65: [117] points, 1 living leaves...\n",
      "Depth 66: [118] points, 1 living leaves...\n",
      "Depth 67: [120] points, 2 living leaves...\n",
      "Depth 68: [122] points, 2 living leaves...\n",
      "Depth 69: [124] points, 2 living leaves...\n",
      "Depth 70: [126] points, 2 living leaves...\n",
      "Depth 71: [128] points, 2 living leaves...\n",
      "Depth 72: [130] points, 2 living leaves...\n",
      "Depth 73: [132] points, 2 living leaves...\n",
      "Depth 74: [134] points, 2 living leaves...\n",
      "Depth 75: [135] points, 1 living leaves...\n",
      "Depth 76: [136] points, 1 living leaves...\n",
      "Depth 77: [137] points, 1 living leaves...\n",
      "Depth 78: [138] points, 1 living leaves...\n",
      "Depth 79: [139] points, 1 living leaves...\n",
      "Depth 80: [141] points, 2 living leaves...\n",
      "Depth 81: [143] points, 2 living leaves...\n",
      "Depth 82: [145] points, 2 living leaves...\n",
      "Depth 83: [147] points, 2 living leaves...\n",
      "Depth 84: [149] points, 2 living leaves...\n",
      "Depth 85: [151] points, 2 living leaves...\n",
      "Depth 86: [153] points, 2 living leaves...\n",
      "Depth 87: [155] points, 2 living leaves...\n",
      "Depth 88: [156] points, 1 living leaves...\n",
      "Depth 89: [157] points, 1 living leaves...\n",
      "Depth 90: [158] points, 1 living leaves...\n",
      "Depth 91: [159] points, 1 living leaves...\n",
      "Depth 92: [160] points, 1 living leaves...\n",
      "Depth 93: [162] points, 2 living leaves...\n",
      "Depth 94: [164] points, 2 living leaves...\n",
      "Depth 95: [166] points, 2 living leaves...\n",
      "Depth 96: [168] points, 2 living leaves...\n",
      "Depth 97: [170] points, 2 living leaves...\n",
      "Depth 98: [172] points, 2 living leaves...\n",
      "Depth 99: [174] points, 2 living leaves...\n",
      "Depth 100: [176] points, 2 living leaves...\n",
      "Depth 101: [177] points, 1 living leaves...\n",
      "Depth 102: [178] points, 1 living leaves...\n",
      "Depth 103: [179] points, 1 living leaves...\n",
      "Depth 104: [180] points, 1 living leaves...\n",
      "Depth 105: [181] points, 1 living leaves...\n",
      "Depth 106: [183] points, 2 living leaves...\n",
      "Depth 107: [185] points, 2 living leaves...\n",
      "Depth 108: [187] points, 2 living leaves...\n",
      "Depth 109: [189] points, 2 living leaves...\n",
      "Depth 110: [191] points, 2 living leaves...\n",
      "Depth 111: [193] points, 2 living leaves...\n",
      "Depth 112: [195] points, 2 living leaves...\n",
      "Depth 113: [197] points, 2 living leaves...\n",
      "Depth 114: [198] points, 1 living leaves...\n",
      "Depth 115: [199] points, 1 living leaves...\n",
      "Depth 116: [200] points, 1 living leaves...\n",
      "Depth 117: [201] points, 1 living leaves...\n",
      "Depth 118: [202] points, 1 living leaves...\n",
      "Depth 119: [204] points, 2 living leaves...\n",
      "Depth 120: [206] points, 2 living leaves...\n",
      "Depth 121: [208] points, 2 living leaves...\n",
      "Depth 122: [210] points, 2 living leaves...\n",
      "Depth 123: [212] points, 2 living leaves...\n",
      "Depth 124: [214] points, 2 living leaves...\n",
      "Depth 125: [216] points, 2 living leaves...\n",
      "Depth 126: [218] points, 2 living leaves...\n",
      "Depth 127: [219] points, 1 living leaves...\n",
      "Depth 128: [220] points, 1 living leaves...\n",
      "Depth 129: [221] points, 1 living leaves...\n",
      "Depth 130: [222] points, 1 living leaves...\n",
      "Depth 131: [223] points, 1 living leaves...\n",
      "Depth 132: [225] points, 2 living leaves...\n",
      "Depth 133: [227] points, 2 living leaves...\n",
      "Depth 134: [229] points, 2 living leaves...\n",
      "Depth 135: [231] points, 2 living leaves...\n",
      "Depth 136: [233] points, 2 living leaves...\n",
      "Depth 137: [235] points, 2 living leaves...\n",
      "Depth 138: [237] points, 2 living leaves...\n",
      "Depth 139: [239] points, 2 living leaves...\n",
      "Depth 140: [240] points, 1 living leaves...\n",
      "Depth 141: [241] points, 1 living leaves...\n",
      "Depth 142: [242] points, 1 living leaves...\n",
      "Depth 143: [243] points, 1 living leaves...\n",
      "Depth 144: [244] points, 1 living leaves...\n",
      "Depth 145: [246] points, 2 living leaves...\n",
      "Depth 146: [248] points, 2 living leaves...\n",
      "Depth 147: [250] points, 2 living leaves...\n",
      "Depth 148: [252] points, 2 living leaves...\n",
      "Depth 149: [254] points, 2 living leaves...\n",
      "Depth 150: [256] points, 2 living leaves...\n",
      "Depth 151: [258] points, 2 living leaves...\n",
      "Depth 152: [260] points, 2 living leaves...\n",
      "Depth 153: [261] points, 1 living leaves...\n",
      "Depth 154: [262] points, 1 living leaves...\n",
      "Depth 155: [263] points, 1 living leaves...\n",
      "Depth 156: [264] points, 1 living leaves...\n",
      "Depth 157: [265] points, 1 living leaves...\n",
      "Depth 158: [267] points, 2 living leaves...\n",
      "Depth 159: [269] points, 2 living leaves...\n",
      "Depth 160: [271] points, 2 living leaves...\n",
      "Depth 161: [273] points, 2 living leaves...\n",
      "Depth 162: [275] points, 2 living leaves...\n",
      "Depth 163: [277] points, 2 living leaves...\n",
      "Depth 164: [279] points, 2 living leaves...\n",
      "Depth 165: [281] points, 2 living leaves...\n",
      "Depth 166: [282] points, 1 living leaves...\n",
      "Depth 167: [283] points, 1 living leaves...\n",
      "Depth 168: [284] points, 1 living leaves...\n",
      "Depth 169: [285] points, 1 living leaves...\n",
      "Depth 170: [286] points, 1 living leaves...\n",
      "Depth 171: [288] points, 2 living leaves...\n",
      "Depth 172: [290] points, 2 living leaves...\n",
      "Depth 173: [292] points, 2 living leaves...\n",
      "Depth 174: [294] points, 2 living leaves...\n",
      "Depth 175: [296] points, 2 living leaves...\n",
      "Depth 176: [298] points, 2 living leaves...\n",
      "Depth 177: [300] points, 2 living leaves...\n",
      "Depth 178: [302] points, 2 living leaves...\n",
      "Depth 179: [303] points, 1 living leaves...\n",
      "Depth 180: [304] points, 1 living leaves...\n",
      "Depth 181: [305] points, 1 living leaves...\n",
      "Depth 182: [306] points, 1 living leaves...\n",
      "Depth 183: [307] points, 1 living leaves...\n",
      "Depth 184: [309] points, 2 living leaves...\n",
      "Depth 185: [311] points, 2 living leaves...\n",
      "Depth 186: [313] points, 2 living leaves...\n",
      "Depth 187: [315] points, 2 living leaves...\n",
      "Depth 188: [317] points, 2 living leaves...\n",
      "Depth 189: [319] points, 2 living leaves...\n",
      "Depth 190: [321] points, 2 living leaves...\n",
      "Depth 191: [323] points, 2 living leaves...\n",
      "Depth 192: [324] points, 1 living leaves...\n",
      "Depth 193: [325] points, 1 living leaves...\n",
      "Depth 194: [326] points, 1 living leaves...\n",
      "Depth 195: [327] points, 1 living leaves...\n",
      "Depth 196: [328] points, 1 living leaves...\n",
      "Depth 197: [330] points, 2 living leaves...\n"
     ]
    },
    {
     "name": "stdout",
     "output_type": "stream",
     "text": [
      "Depth 198: [332] points, 2 living leaves...\n",
      "Depth 199: [334] points, 2 living leaves...\n",
      "Depth 200: [336] points, 2 living leaves...\n",
      "Depth 201: [338] points, 2 living leaves...\n",
      "Depth 202: [340] points, 2 living leaves...\n",
      "Depth 203: [342] points, 2 living leaves...\n",
      "Depth 204: [344] points, 2 living leaves...\n",
      "Depth 205: [345] points, 1 living leaves...\n",
      "Depth 206: [346] points, 1 living leaves...\n",
      "Depth 207: [347] points, 1 living leaves...\n",
      "Depth 208: [348] points, 1 living leaves...\n",
      "Depth 209: [349] points, 1 living leaves...\n",
      "Depth 210: [351] points, 2 living leaves...\n",
      "Depth 211: [353] points, 2 living leaves...\n",
      "Depth 212: [355] points, 2 living leaves...\n",
      "Depth 213: [357] points, 2 living leaves...\n",
      "Depth 214: [359] points, 2 living leaves...\n",
      "Depth 215: [361] points, 2 living leaves...\n",
      "Depth 216: [363] points, 2 living leaves...\n",
      "Depth 217: [365] points, 2 living leaves...\n",
      "Depth 218: [366] points, 1 living leaves...\n",
      "Depth 219: [367] points, 1 living leaves...\n",
      "Depth 220: [368] points, 1 living leaves...\n",
      "Depth 221: [369] points, 1 living leaves...\n",
      "Depth 222: [370] points, 1 living leaves...\n",
      "Depth 223: [372] points, 2 living leaves...\n",
      "Depth 224: [374] points, 2 living leaves...\n",
      "Depth 225: [376] points, 2 living leaves...\n",
      "Depth 226: [378] points, 2 living leaves...\n",
      "Depth 227: [380] points, 2 living leaves...\n",
      "Depth 228: [382] points, 2 living leaves...\n",
      "Depth 229: [384] points, 2 living leaves...\n",
      "Depth 230: [386] points, 2 living leaves...\n",
      "Depth 231: [387] points, 1 living leaves...\n",
      "Depth 232: [388] points, 1 living leaves...\n",
      "Depth 233: [389] points, 1 living leaves...\n",
      "Depth 234: [390] points, 1 living leaves...\n",
      "Depth 235: [391] points, 1 living leaves...\n",
      "Depth 236: [393] points, 2 living leaves...\n",
      "Depth 237: [395] points, 2 living leaves...\n",
      "Depth 238: [397] points, 2 living leaves...\n",
      "Depth 239: [399] points, 2 living leaves...\n",
      "Depth 240: [401] points, 2 living leaves...\n",
      "Depth 241: [403] points, 2 living leaves...\n",
      "Depth 242: [405] points, 2 living leaves...\n",
      "Depth 243: [407] points, 2 living leaves...\n",
      "Depth 244: [408] points, 1 living leaves...\n",
      "Depth 245: [409] points, 1 living leaves...\n",
      "Depth 246: [410] points, 1 living leaves...\n",
      "Depth 247: [411] points, 1 living leaves...\n",
      "Depth 248: [412] points, 1 living leaves...\n",
      "Depth 249: [414] points, 2 living leaves...\n",
      "Depth 250: [416] points, 2 living leaves...\n",
      "Depth 251: [418] points, 2 living leaves...\n",
      "Depth 252: [420] points, 2 living leaves...\n",
      "Depth 253: [422] points, 2 living leaves...\n",
      "Depth 254: [424] points, 2 living leaves...\n",
      "Depth 255: [426] points, 2 living leaves...\n",
      "Depth 256: [428] points, 2 living leaves...\n",
      "Depth 257: [429] points, 1 living leaves...\n",
      "Depth 258: [430] points, 1 living leaves...\n",
      "Depth 259: [431] points, 1 living leaves...\n",
      "Depth 260: [432] points, 1 living leaves...\n",
      "Depth 261: [433] points, 1 living leaves...\n",
      "Depth 262: [435] points, 2 living leaves...\n",
      "Depth 263: [437] points, 2 living leaves...\n",
      "Depth 264: [439] points, 2 living leaves...\n",
      "Depth 265: [441] points, 2 living leaves...\n",
      "Depth 266: [443] points, 2 living leaves...\n",
      "Depth 267: [445] points, 2 living leaves...\n",
      "Depth 268: [447] points, 2 living leaves...\n",
      "Depth 269: [449] points, 2 living leaves...\n",
      "Depth 270: [450] points, 1 living leaves...\n",
      "Depth 271: [451] points, 1 living leaves...\n",
      "Depth 272: [452] points, 1 living leaves...\n",
      "Depth 273: [453] points, 1 living leaves...\n",
      "Depth 274: [454] points, 1 living leaves...\n",
      "Depth 275: [456] points, 2 living leaves...\n",
      "Depth 276: [458] points, 2 living leaves...\n",
      "Depth 277: [460] points, 2 living leaves...\n",
      "Depth 278: [462] points, 2 living leaves...\n",
      "Depth 279: [464] points, 2 living leaves...\n",
      "Depth 280: [466] points, 2 living leaves...\n",
      "Depth 281: [468] points, 2 living leaves...\n",
      "Depth 282: [470] points, 2 living leaves...\n",
      "Depth 283: [471] points, 1 living leaves...\n",
      "Depth 284: [472] points, 1 living leaves...\n",
      "Depth 285: [473] points, 1 living leaves...\n",
      "Depth 286: [474] points, 1 living leaves...\n",
      "Depth 287: [475] points, 1 living leaves...\n",
      "Depth 288: [477] points, 2 living leaves...\n",
      "Depth 289: [479] points, 2 living leaves...\n",
      "Depth 290: [481] points, 2 living leaves...\n",
      "Depth 291: [483] points, 2 living leaves...\n",
      "Depth 292: [485] points, 2 living leaves...\n",
      "Depth 293: [487] points, 2 living leaves...\n",
      "Depth 294: [489] points, 2 living leaves...\n",
      "Depth 295: [491] points, 2 living leaves...\n",
      "Depth 296: [492] points, 1 living leaves...\n",
      "Depth 297: [493] points, 1 living leaves...\n",
      "Depth 298: [494] points, 1 living leaves...\n",
      "Depth 299: [495] points, 1 living leaves...\n",
      "Depth 300: [496] points, 1 living leaves...\n",
      "Depth 301: [498] points, 2 living leaves...\n",
      "Depth 302: [500] points, 2 living leaves...\n",
      "Depth 303: [502] points, 2 living leaves...\n",
      "Depth 304: [504] points, 2 living leaves...\n",
      "Depth 305: [506] points, 2 living leaves...\n",
      "Depth 306: [508] points, 2 living leaves...\n",
      "Depth 307: [510] points, 2 living leaves...\n",
      "Depth 308: [512] points, 2 living leaves...\n",
      "Depth 309: [513] points, 1 living leaves...\n",
      "Depth 310: [514] points, 1 living leaves...\n",
      "Depth 311: [515] points, 1 living leaves...\n",
      "Depth 312: [516] points, 1 living leaves...\n",
      "Depth 313: [517] points, 1 living leaves...\n",
      "Depth 314: [519] points, 2 living leaves...\n",
      "Depth 315: [521] points, 2 living leaves...\n",
      "Depth 316: [523] points, 2 living leaves...\n",
      "Depth 317: [525] points, 2 living leaves...\n",
      "Depth 318: [527] points, 2 living leaves...\n",
      "Depth 319: [529] points, 2 living leaves...\n",
      "Depth 320: [530] points, 1 living leaves...\n",
      "Depth 321: [531] points, 1 living leaves...\n",
      "0 living leaves, PSW(1.4092472220583487, [1, 2, 1, 2, 1, 1, 2, 1, 1, 2, 1, 2, 1, 1, 2, 1, 1, 2, 1, 2, 1]) is a \u001b[0m\u001b[1mspectral maximizing product\u001b[22m (s.m.p.)\n",
      "Use `tol` < 9.79216707719388e-13 to eliminite at least one more living leaf.\n",
      "Use `tol` > 1.0200729150255938e-12 to keep at least one more dead leaf.\n",
      "Use `new_candidate_tol` < 0.00231302613966311 to consider at least one more candidate as s.m.p.\n",
      " 15.817456 seconds (60.66 M allocations: 9.187 GiB, 11.27% gc time)\n"
     ]
    }
   ],
   "source": [
    "using JuMP, GLPK\n",
    "@time smp, done, polys = invariant_polytopes(s∞, with_optimizer(GLPK.Optimizer), smp,\n",
    "    tol=1e-12, verbose=1, new_candidate_tol = 3e-3, max_length=1000);"
   ]
  },
  {
   "cell_type": "code",
   "execution_count": 19,
   "metadata": {},
   "outputs": [
    {
     "name": "stdout",
     "output_type": "stream",
     "text": [
      "Depth 1: [21] points, 21 living leaves...\n",
      "Depth 2: [22] points, 1 living leaves...\n",
      "Depth 3: [23] points, 1 living leaves...\n",
      "Depth 4: [24] points, 1 living leaves...\n",
      "Depth 5: [25] points, 1 living leaves...\n",
      "Depth 6: [26] points, 1 living leaves...\n",
      "Depth 7: [27] points, 1 living leaves...\n",
      "Depth 8: [28] points, 1 living leaves...\n",
      "Depth 9: [29] points, 1 living leaves...\n",
      "Depth 10: [30] points, 1 living leaves...\n",
      "Depth 11: [31] points, 1 living leaves...\n",
      "Depth 12: [32] points, 1 living leaves...\n",
      "Depth 13: [33] points, 1 living leaves...\n",
      "Depth 14: [34] points, 1 living leaves...\n",
      "Depth 15: [36] points, 2 living leaves...\n",
      "Depth 16: [38] points, 2 living leaves...\n",
      "Depth 17: [40] points, 2 living leaves...\n",
      "Depth 18: [42] points, 2 living leaves...\n",
      "Depth 19: [44] points, 2 living leaves...\n",
      "Depth 20: [46] points, 2 living leaves...\n",
      "Depth 21: [48] points, 2 living leaves...\n",
      "Depth 22: [50] points, 2 living leaves...\n",
      "Depth 23: [52] points, 2 living leaves...\n",
      "Depth 24: [54] points, 2 living leaves...\n",
      "Depth 25: [56] points, 2 living leaves...\n",
      "Depth 26: [58] points, 2 living leaves...\n",
      "Depth 27: [60] points, 2 living leaves...\n",
      "Depth 28: [63] points, 3 living leaves...\n",
      "Depth 29: [66] points, 3 living leaves...\n",
      "Depth 30: [69] points, 3 living leaves...\n",
      "Depth 31: [72] points, 3 living leaves...\n",
      "Depth 32: [75] points, 3 living leaves...\n",
      "Depth 33: [78] points, 3 living leaves...\n",
      "Depth 34: [81] points, 3 living leaves...\n",
      "Depth 35: [83] points, 2 living leaves...\n",
      "Depth 36: [86] points, 3 living leaves...\n",
      "Depth 37: [89] points, 3 living leaves...\n",
      "Depth 38: [92] points, 3 living leaves...\n",
      "Depth 39: [95] points, 3 living leaves...\n",
      "Depth 40: [98] points, 3 living leaves...\n",
      "Depth 41: [102] points, 4 living leaves...\n",
      "Depth 42: [106] points, 4 living leaves...\n",
      "Depth 43: [109] points, 3 living leaves...\n",
      "Depth 44: [112] points, 3 living leaves...\n",
      "Depth 45: [114] points, 2 living leaves...\n",
      "Depth 46: [116] points, 2 living leaves...\n",
      "Depth 47: [118] points, 2 living leaves...\n",
      "Depth 48: [120] points, 2 living leaves...\n",
      "Depth 49: [123] points, 3 living leaves...\n",
      "Depth 50: [126] points, 3 living leaves...\n",
      "Depth 51: [129] points, 3 living leaves...\n",
      "Depth 52: [132] points, 3 living leaves...\n",
      "Depth 53: [134] points, 2 living leaves...\n",
      "Depth 54: [137] points, 3 living leaves...\n",
      "Depth 55: [140] points, 3 living leaves...\n",
      "Depth 56: [143] points, 3 living leaves...\n",
      "Depth 57: [146] points, 3 living leaves...\n",
      "Depth 58: [149] points, 3 living leaves...\n",
      "Depth 59: [152] points, 3 living leaves...\n",
      "Depth 60: [153] points, 1 living leaves...\n",
      "Depth 61: [154] points, 1 living leaves...\n",
      "Depth 62: [156] points, 2 living leaves...\n",
      "Depth 63: [158] points, 2 living leaves...\n",
      "Depth 64: [160] points, 2 living leaves...\n",
      "Depth 65: [162] points, 2 living leaves...\n",
      "Depth 66: [164] points, 2 living leaves...\n",
      "Depth 67: [166] points, 2 living leaves...\n",
      "Depth 68: [167] points, 1 living leaves...\n",
      "Depth 69: [168] points, 1 living leaves...\n",
      "Depth 70: [169] points, 1 living leaves...\n",
      "Depth 71: [170] points, 1 living leaves...\n",
      "Depth 72: [171] points, 1 living leaves...\n",
      "Depth 73: [172] points, 1 living leaves...\n",
      "Depth 74: [173] points, 1 living leaves...\n",
      "Depth 75: [175] points, 2 living leaves...\n",
      "Depth 76: [177] points, 2 living leaves...\n",
      "Depth 77: [179] points, 2 living leaves...\n",
      "Depth 78: [181] points, 2 living leaves...\n",
      "Depth 79: [183] points, 2 living leaves...\n",
      "Depth 80: [185] points, 2 living leaves...\n",
      "Depth 81: [186] points, 1 living leaves...\n",
      "Depth 82: [187] points, 1 living leaves...\n",
      "Depth 83: [188] points, 1 living leaves...\n",
      "Depth 84: [189] points, 1 living leaves...\n",
      "Depth 85: [190] points, 1 living leaves...\n",
      "Depth 86: [191] points, 1 living leaves...\n",
      "Depth 87: [192] points, 1 living leaves...\n",
      "Depth 88: [194] points, 2 living leaves...\n",
      "Depth 89: [196] points, 2 living leaves...\n",
      "Depth 90: [198] points, 2 living leaves...\n",
      "Depth 91: [200] points, 2 living leaves...\n",
      "Depth 92: [202] points, 2 living leaves...\n",
      "Depth 93: [204] points, 2 living leaves...\n",
      "Depth 94: [205] points, 1 living leaves...\n",
      "Depth 95: [206] points, 1 living leaves...\n",
      "Depth 96: [207] points, 1 living leaves...\n",
      "Depth 97: [208] points, 1 living leaves...\n",
      "Depth 98: [209] points, 1 living leaves...\n",
      "Depth 99: [210] points, 1 living leaves...\n",
      "Depth 100: [211] points, 1 living leaves...\n",
      "Depth 101: [213] points, 2 living leaves...\n",
      "Depth 102: [215] points, 2 living leaves...\n",
      "Depth 103: [217] points, 2 living leaves...\n",
      "Depth 104: [219] points, 2 living leaves...\n",
      "Depth 105: [221] points, 2 living leaves...\n",
      "Depth 106: [223] points, 2 living leaves...\n",
      "Depth 107: [224] points, 1 living leaves...\n",
      "Depth 108: [225] points, 1 living leaves...\n",
      "Depth 109: [226] points, 1 living leaves...\n",
      "Depth 110: [227] points, 1 living leaves...\n",
      "Depth 111: [228] points, 1 living leaves...\n",
      "Depth 112: [229] points, 1 living leaves...\n",
      "Depth 113: [230] points, 1 living leaves...\n",
      "Depth 114: [232] points, 2 living leaves...\n",
      "Depth 115: [234] points, 2 living leaves...\n",
      "Depth 116: [236] points, 2 living leaves...\n",
      "Depth 117: [238] points, 2 living leaves...\n",
      "Depth 118: [240] points, 2 living leaves...\n",
      "Depth 119: [242] points, 2 living leaves...\n",
      "Depth 120: [243] points, 1 living leaves...\n",
      "Depth 121: [244] points, 1 living leaves...\n",
      "Depth 122: [245] points, 1 living leaves...\n",
      "Depth 123: [246] points, 1 living leaves...\n",
      "Depth 124: [247] points, 1 living leaves...\n",
      "Depth 125: [248] points, 1 living leaves...\n",
      "Depth 126: [249] points, 1 living leaves...\n",
      "Depth 127: [251] points, 2 living leaves...\n",
      "Depth 128: [253] points, 2 living leaves...\n",
      "Depth 129: [255] points, 2 living leaves...\n",
      "Depth 130: [257] points, 2 living leaves...\n",
      "Depth 131: [259] points, 2 living leaves...\n",
      "Depth 132: [261] points, 2 living leaves...\n",
      "Depth 133: [262] points, 1 living leaves...\n",
      "Depth 134: [263] points, 1 living leaves...\n",
      "Depth 135: [264] points, 1 living leaves...\n",
      "Depth 136: [265] points, 1 living leaves...\n",
      "Depth 137: [266] points, 1 living leaves...\n",
      "Depth 138: [267] points, 1 living leaves...\n",
      "Depth 139: [268] points, 1 living leaves...\n",
      "Depth 140: [270] points, 2 living leaves...\n",
      "Depth 141: [272] points, 2 living leaves...\n",
      "Depth 142: [274] points, 2 living leaves...\n",
      "Depth 143: [276] points, 2 living leaves...\n",
      "Depth 144: [278] points, 2 living leaves...\n",
      "Depth 145: [280] points, 2 living leaves...\n",
      "Depth 146: [281] points, 1 living leaves...\n",
      "Depth 147: [282] points, 1 living leaves...\n",
      "Depth 148: [283] points, 1 living leaves...\n",
      "Depth 149: [284] points, 1 living leaves...\n",
      "Depth 150: [285] points, 1 living leaves...\n",
      "Depth 151: [286] points, 1 living leaves...\n",
      "Depth 152: [287] points, 1 living leaves...\n",
      "Depth 153: [289] points, 2 living leaves...\n",
      "Depth 154: [291] points, 2 living leaves...\n",
      "Depth 155: [293] points, 2 living leaves...\n",
      "Depth 156: [295] points, 2 living leaves...\n",
      "Depth 157: [297] points, 2 living leaves...\n",
      "Depth 158: [299] points, 2 living leaves...\n",
      "Depth 159: [300] points, 1 living leaves...\n",
      "Depth 160: [301] points, 1 living leaves...\n",
      "Depth 161: [302] points, 1 living leaves...\n",
      "Depth 162: [303] points, 1 living leaves...\n",
      "Depth 163: [304] points, 1 living leaves...\n",
      "Depth 164: [305] points, 1 living leaves...\n",
      "Depth 165: [306] points, 1 living leaves...\n",
      "Depth 166: [308] points, 2 living leaves...\n",
      "Depth 167: [310] points, 2 living leaves...\n",
      "Depth 168: [312] points, 2 living leaves...\n",
      "Depth 169: [314] points, 2 living leaves...\n",
      "Depth 170: [316] points, 2 living leaves...\n",
      "Depth 171: [318] points, 2 living leaves...\n",
      "Depth 172: [319] points, 1 living leaves...\n",
      "Depth 173: [320] points, 1 living leaves...\n",
      "Depth 174: [321] points, 1 living leaves...\n",
      "Depth 175: [322] points, 1 living leaves...\n",
      "Depth 176: [323] points, 1 living leaves...\n",
      "Depth 177: [324] points, 1 living leaves...\n",
      "Depth 178: [325] points, 1 living leaves...\n",
      "Depth 179: [327] points, 2 living leaves...\n",
      "Depth 180: [329] points, 2 living leaves...\n",
      "Depth 181: [331] points, 2 living leaves...\n",
      "Depth 182: [333] points, 2 living leaves...\n",
      "Depth 183: [335] points, 2 living leaves...\n",
      "Depth 184: [337] points, 2 living leaves...\n",
      "Depth 185: [338] points, 1 living leaves...\n",
      "Depth 186: [339] points, 1 living leaves...\n",
      "Depth 187: [340] points, 1 living leaves...\n",
      "Depth 188: [341] points, 1 living leaves...\n",
      "Depth 189: [342] points, 1 living leaves...\n",
      "Depth 190: [343] points, 1 living leaves...\n",
      "Depth 191: [344] points, 1 living leaves...\n",
      "Depth 192: [346] points, 2 living leaves...\n",
      "Depth 193: [348] points, 2 living leaves...\n",
      "Depth 194: [350] points, 2 living leaves...\n"
     ]
    },
    {
     "name": "stdout",
     "output_type": "stream",
     "text": [
      "Depth 195: [352] points, 2 living leaves...\n",
      "Depth 196: [354] points, 2 living leaves...\n",
      "Depth 197: [356] points, 2 living leaves...\n",
      "Depth 198: [357] points, 1 living leaves...\n",
      "Depth 199: [358] points, 1 living leaves...\n",
      "Depth 200: [359] points, 1 living leaves...\n",
      "Depth 201: [360] points, 1 living leaves...\n",
      "Depth 202: [361] points, 1 living leaves...\n",
      "Depth 203: [362] points, 1 living leaves...\n",
      "Depth 204: [363] points, 1 living leaves...\n",
      "Depth 205: [365] points, 2 living leaves...\n",
      "Depth 206: [367] points, 2 living leaves...\n",
      "Depth 207: [369] points, 2 living leaves...\n",
      "Depth 208: [371] points, 2 living leaves...\n",
      "Depth 209: [373] points, 2 living leaves...\n",
      "Depth 210: [375] points, 2 living leaves...\n",
      "Depth 211: [376] points, 1 living leaves...\n",
      "Depth 212: [377] points, 1 living leaves...\n",
      "Depth 213: [378] points, 1 living leaves...\n",
      "Depth 214: [379] points, 1 living leaves...\n",
      "Depth 215: [380] points, 1 living leaves...\n",
      "Depth 216: [381] points, 1 living leaves...\n",
      "Depth 217: [382] points, 1 living leaves...\n",
      "Depth 218: [384] points, 2 living leaves...\n",
      "Depth 219: [386] points, 2 living leaves...\n",
      "Depth 220: [388] points, 2 living leaves...\n",
      "Depth 221: [390] points, 2 living leaves...\n",
      "Depth 222: [392] points, 2 living leaves...\n",
      "Depth 223: [394] points, 2 living leaves...\n",
      "Depth 224: [395] points, 1 living leaves...\n",
      "Depth 225: [396] points, 1 living leaves...\n",
      "Depth 226: [397] points, 1 living leaves...\n",
      "Depth 227: [398] points, 1 living leaves...\n",
      "Depth 228: [399] points, 1 living leaves...\n",
      "Depth 229: [400] points, 1 living leaves...\n",
      "Depth 230: [401] points, 1 living leaves...\n",
      "Depth 231: [403] points, 2 living leaves...\n",
      "Depth 232: [405] points, 2 living leaves...\n",
      "Depth 233: [407] points, 2 living leaves...\n",
      "Depth 234: [409] points, 2 living leaves...\n",
      "Depth 235: [411] points, 2 living leaves...\n",
      "Depth 236: [413] points, 2 living leaves...\n",
      "Depth 237: [414] points, 1 living leaves...\n",
      "Depth 238: [415] points, 1 living leaves...\n",
      "Depth 239: [416] points, 1 living leaves...\n",
      "Depth 240: [417] points, 1 living leaves...\n",
      "Depth 241: [418] points, 1 living leaves...\n",
      "Depth 242: [419] points, 1 living leaves...\n",
      "Depth 243: [420] points, 1 living leaves...\n",
      "Depth 244: [422] points, 2 living leaves...\n",
      "Depth 245: [424] points, 2 living leaves...\n",
      "Depth 246: [426] points, 2 living leaves...\n",
      "Depth 247: [428] points, 2 living leaves...\n",
      "Depth 248: [430] points, 2 living leaves...\n",
      "Depth 249: [432] points, 2 living leaves...\n",
      "Depth 250: [433] points, 1 living leaves...\n",
      "Depth 251: [434] points, 1 living leaves...\n",
      "Depth 252: [435] points, 1 living leaves...\n",
      "Depth 253: [436] points, 1 living leaves...\n",
      "Depth 254: [437] points, 1 living leaves...\n",
      "Depth 255: [438] points, 1 living leaves...\n",
      "Depth 256: [439] points, 1 living leaves...\n",
      "Depth 257: [441] points, 2 living leaves...\n",
      "Depth 258: [443] points, 2 living leaves...\n",
      "Depth 259: [445] points, 2 living leaves...\n",
      "Depth 260: [447] points, 2 living leaves...\n",
      "Depth 261: [449] points, 2 living leaves...\n",
      "Depth 262: [451] points, 2 living leaves...\n",
      "Depth 263: [452] points, 1 living leaves...\n",
      "Depth 264: [453] points, 1 living leaves...\n",
      "Depth 265: [454] points, 1 living leaves...\n",
      "Depth 266: [455] points, 1 living leaves...\n",
      "Depth 267: [456] points, 1 living leaves...\n",
      "Depth 268: [457] points, 1 living leaves...\n",
      "Depth 269: [458] points, 1 living leaves...\n",
      "Depth 270: [460] points, 2 living leaves...\n",
      "Depth 271: [462] points, 2 living leaves...\n",
      "Depth 272: [464] points, 2 living leaves...\n",
      "Depth 273: [466] points, 2 living leaves...\n",
      "Depth 274: [468] points, 2 living leaves...\n",
      "Depth 275: [470] points, 2 living leaves...\n",
      "Depth 276: [471] points, 1 living leaves...\n",
      "Depth 277: [472] points, 1 living leaves...\n",
      "Depth 278: [473] points, 1 living leaves...\n",
      "Depth 279: [474] points, 1 living leaves...\n",
      "Depth 280: [475] points, 1 living leaves...\n",
      "Depth 281: [476] points, 1 living leaves...\n",
      "Depth 282: [477] points, 1 living leaves...\n",
      "Depth 283: [479] points, 2 living leaves...\n",
      "Depth 284: [481] points, 2 living leaves...\n",
      "Depth 285: [483] points, 2 living leaves...\n",
      "Depth 286: [485] points, 2 living leaves...\n",
      "Depth 287: [487] points, 2 living leaves...\n",
      "Depth 288: [489] points, 2 living leaves...\n",
      "Depth 289: [490] points, 1 living leaves...\n",
      "Depth 290: [491] points, 1 living leaves...\n",
      "Depth 291: [492] points, 1 living leaves...\n",
      "Depth 292: [493] points, 1 living leaves...\n",
      "Depth 293: [494] points, 1 living leaves...\n",
      "Depth 294: [495] points, 1 living leaves...\n",
      "Depth 295: [496] points, 1 living leaves...\n",
      "Depth 296: [498] points, 2 living leaves...\n",
      "Depth 297: [500] points, 2 living leaves...\n",
      "Depth 298: [502] points, 2 living leaves...\n",
      "Depth 299: [504] points, 2 living leaves...\n",
      "Depth 300: [506] points, 2 living leaves...\n",
      "Depth 301: [508] points, 2 living leaves...\n",
      "Depth 302: [509] points, 1 living leaves...\n",
      "Depth 303: [510] points, 1 living leaves...\n",
      "Depth 304: [511] points, 1 living leaves...\n",
      "Depth 305: [512] points, 1 living leaves...\n",
      "Depth 306: [513] points, 1 living leaves...\n",
      "Depth 307: [514] points, 1 living leaves...\n",
      "Depth 308: [515] points, 1 living leaves...\n",
      "Depth 309: [517] points, 2 living leaves...\n",
      "Depth 310: [519] points, 2 living leaves...\n",
      "Depth 311: [521] points, 2 living leaves...\n",
      "Depth 312: [523] points, 2 living leaves...\n",
      "Depth 313: [525] points, 2 living leaves...\n",
      "Depth 314: [527] points, 2 living leaves...\n",
      "Depth 315: [528] points, 1 living leaves...\n",
      "Depth 316: [529] points, 1 living leaves...\n",
      "Depth 317: [530] points, 1 living leaves...\n",
      "Depth 318: [531] points, 1 living leaves...\n",
      "Depth 319: [532] points, 1 living leaves...\n",
      "Depth 320: [533] points, 1 living leaves...\n",
      "Depth 321: [534] points, 1 living leaves...\n",
      "Depth 322: [536] points, 2 living leaves...\n",
      "Depth 323: [538] points, 2 living leaves...\n",
      "Depth 324: [540] points, 2 living leaves...\n",
      "Depth 325: [542] points, 2 living leaves...\n",
      "Depth 326: [544] points, 2 living leaves...\n",
      "Depth 327: [546] points, 2 living leaves...\n",
      "Depth 328: [547] points, 1 living leaves...\n",
      "Depth 329: [548] points, 1 living leaves...\n",
      "Depth 330: [549] points, 1 living leaves...\n",
      "Depth 331: [550] points, 1 living leaves...\n",
      "Depth 332: [551] points, 1 living leaves...\n",
      "Depth 333: [552] points, 1 living leaves...\n",
      "Depth 334: [553] points, 1 living leaves...\n",
      "Depth 335: [555] points, 2 living leaves...\n",
      "Depth 336: [557] points, 2 living leaves...\n",
      "Depth 337: [559] points, 2 living leaves...\n",
      "Depth 338: [561] points, 2 living leaves...\n",
      "Depth 339: [563] points, 2 living leaves...\n",
      "Depth 340: [565] points, 2 living leaves...\n",
      "Depth 341: [566] points, 1 living leaves...\n",
      "Depth 342: [567] points, 1 living leaves...\n",
      "Depth 343: [568] points, 1 living leaves...\n",
      "Depth 344: [569] points, 1 living leaves...\n",
      "Depth 345: [570] points, 1 living leaves...\n",
      "Depth 346: [571] points, 1 living leaves...\n",
      "Depth 347: [572] points, 1 living leaves...\n",
      "Depth 348: [574] points, 2 living leaves...\n",
      "Depth 349: [576] points, 2 living leaves...\n",
      "Depth 350: [578] points, 2 living leaves...\n",
      "Depth 351: [580] points, 2 living leaves...\n",
      "Depth 352: [582] points, 2 living leaves...\n",
      "Depth 353: [584] points, 2 living leaves...\n",
      "Depth 354: [585] points, 1 living leaves...\n",
      "Depth 355: [586] points, 1 living leaves...\n",
      "Depth 356: [587] points, 1 living leaves...\n",
      "Depth 357: [588] points, 1 living leaves...\n",
      "Depth 358: [589] points, 1 living leaves...\n",
      "Depth 359: [590] points, 1 living leaves...\n",
      "Depth 360: [591] points, 1 living leaves...\n",
      "Depth 361: [592] points, 1 living leaves...\n",
      "Depth 362: [593] points, 1 living leaves...\n",
      "Depth 363: [594] points, 1 living leaves...\n",
      "Depth 364: [595] points, 1 living leaves...\n",
      "Depth 365: [596] points, 1 living leaves...\n",
      "Depth 366: [597] points, 1 living leaves...\n",
      "0 living leaves, PSW(1.4092472220583487, [1, 2, 1, 2, 1, 1, 2, 1, 1, 2, 1, 2, 1, 1, 2, 1, 1, 2, 1, 2, 1]) is a \u001b[0m\u001b[1mspectral maximizing product\u001b[22m (s.m.p.)\n",
      "Use `tol` < 9.78994663114463e-13 to eliminite at least one more living leaf.\n",
      "Use `tol` > 1.0045297926808416e-12 to keep at least one more dead leaf.\n",
      "Use `new_candidate_tol` < 0.00231302613967177 to consider at least one more candidate as s.m.p.\n",
      "  6.666797 seconds (31.59 M allocations: 10.447 GiB, 19.17% gc time)\n"
     ]
    }
   ],
   "source": [
    "using JuMP, GLPK\n",
    "@time smp, done, polys = invariant_polytopes(s∞, with_optimizer(Mosek.Optimizer, QUIET=true), smp,\n",
    "    tol=1e-12, verbose=1, new_candidate_tol = 3e-3, max_length=1000);"
   ]
  },
  {
   "cell_type": "code",
   "execution_count": 15,
   "metadata": {},
   "outputs": [
    {
     "data": {
      "text/plain": [
       "1.4092472210956486"
      ]
     },
     "execution_count": 15,
     "metadata": {},
     "output_type": "execute_result"
    }
   ],
   "source": [
    "quicklb(s∞, 1:10)"
   ]
  },
  {
   "cell_type": "code",
   "execution_count": 5,
   "metadata": {},
   "outputs": [
    {
     "data": {
      "text/plain": [
       "PSW(1.4092472210956486, [1, 1, 2, 1, 1, 2, 1, 2])"
      ]
     },
     "execution_count": 5,
     "metadata": {},
     "output_type": "execute_result"
    }
   ],
   "source": [
    "psw = strbin(s∞, \"00100101\")"
   ]
  },
  {
   "cell_type": "markdown",
   "metadata": {},
   "source": [
    "The s.m.p. is 00100101 00100101 00101 so it should should find a better s.m.p. candidate starting at 0010 and then taking 100 and then add two cycles."
   ]
  },
  {
   "cell_type": "code",
   "execution_count": 9,
   "metadata": {},
   "outputs": [
    {
     "name": "stdout",
     "output_type": "stream",
     "text": [
      "Depth 1: [8] points, 8 living leaves...\n",
      "Depth 2: [9] points, 1 living leaves...\n",
      "Depth 3: [10] points, 1 living leaves...\n",
      "Depth 4: [11] points, 1 living leaves...\n",
      "Depth 5: [12] points, 1 living leaves...\n",
      "Depth 6: [13] points, 1 living leaves...\n",
      "Depth 7: [14] points, 1 living leaves...\n",
      "Depth 8: [15] points, 1 living leaves...\n",
      "Depth 9: [16] points, 1 living leaves...\n",
      "Depth 10: [17] points, 1 living leaves...\n",
      "Depth 11: [18] points, 1 living leaves...\n",
      "Depth 12: [19] points, 1 living leaves...\n",
      "Depth 13: [20] points, 1 living leaves...\n",
      "\u001b[34m\u001b[1mNew candidate s.m.p. found\u001b[22m\u001b[39m because ⟨v_5*, v⟩ - 1 = 1.3064575199450701e-8 > 1.0e-8:\n",
      "PSW(1.4092472220583485, [1, 2, 1, 2, 1, 1, 2, 1, 2, 1, 1, 2, 1, 1, 2, 1, 2, 1, 1, 2, 1])\n",
      "Depth 1: [21] points, 21 living leaves...\n",
      "Depth 2: [22] points, 1 living leaves...\n",
      "Depth 3: [23] points, 1 living leaves...\n",
      "Depth 4: [24] points, 1 living leaves...\n",
      "Depth 5: [25] points, 1 living leaves...\n",
      "Depth 6: [26] points, 1 living leaves...\n",
      "Depth 7: [27] points, 1 living leaves...\n",
      "Depth 8: [28] points, 1 living leaves...\n",
      "Depth 9: [29] points, 1 living leaves...\n",
      "Depth 10: [30] points, 1 living leaves...\n",
      "Depth 11: [31] points, 1 living leaves...\n",
      "Depth 12: [32] points, 1 living leaves...\n",
      "Depth 13: [33] points, 1 living leaves...\n",
      "Depth 14: [34] points, 1 living leaves...\n",
      "Depth 15: [36] points, 2 living leaves...\n",
      "Depth 16: [38] points, 2 living leaves...\n",
      "Depth 17: [40] points, 2 living leaves...\n",
      "Depth 18: [42] points, 2 living leaves...\n",
      "Depth 19: [44] points, 2 living leaves...\n",
      "Depth 20: [46] points, 2 living leaves...\n",
      "Depth 21: [48] points, 2 living leaves...\n",
      "Depth 22: [50] points, 2 living leaves...\n",
      "Depth 23: [51] points, 1 living leaves...\n",
      "Depth 24: [52] points, 1 living leaves...\n",
      "Depth 25: [53] points, 1 living leaves...\n",
      "Depth 26: [54] points, 1 living leaves...\n",
      "Depth 27: [55] points, 1 living leaves...\n",
      "Depth 28: [57] points, 2 living leaves...\n",
      "Depth 29: [59] points, 2 living leaves...\n",
      "Depth 30: [61] points, 2 living leaves...\n",
      "Depth 31: [63] points, 2 living leaves...\n",
      "Depth 32: [65] points, 2 living leaves...\n",
      "Depth 33: [67] points, 2 living leaves...\n",
      "Depth 34: [69] points, 2 living leaves...\n",
      "Depth 35: [71] points, 2 living leaves...\n",
      "Depth 36: [72] points, 1 living leaves...\n",
      "Depth 37: [73] points, 1 living leaves...\n",
      "Depth 38: [74] points, 1 living leaves...\n",
      "Depth 39: [75] points, 1 living leaves...\n",
      "Depth 40: [76] points, 1 living leaves...\n",
      "Depth 41: [78] points, 2 living leaves...\n",
      "Depth 42: [80] points, 2 living leaves...\n",
      "Depth 43: [82] points, 2 living leaves...\n",
      "Depth 44: [84] points, 2 living leaves...\n",
      "Depth 45: [86] points, 2 living leaves...\n",
      "Depth 46: [88] points, 2 living leaves...\n",
      "Depth 47: [90] points, 2 living leaves...\n",
      "Depth 48: [92] points, 2 living leaves...\n",
      "Depth 49: [93] points, 1 living leaves...\n",
      "Depth 50: [94] points, 1 living leaves...\n",
      "Depth 51: [95] points, 1 living leaves...\n",
      "Depth 52: [96] points, 1 living leaves...\n",
      "Depth 53: [97] points, 1 living leaves...\n",
      "Depth 54: [99] points, 2 living leaves...\n",
      "Depth 55: [101] points, 2 living leaves...\n",
      "Depth 56: [103] points, 2 living leaves...\n",
      "Depth 57: [105] points, 2 living leaves...\n",
      "Depth 58: [107] points, 2 living leaves...\n",
      "Depth 59: [109] points, 2 living leaves...\n",
      "Depth 60: [111] points, 2 living leaves...\n",
      "Depth 61: [113] points, 2 living leaves...\n",
      "Depth 62: [114] points, 1 living leaves...\n",
      "Depth 63: [115] points, 1 living leaves...\n",
      "Depth 64: [116] points, 1 living leaves...\n",
      "Depth 65: [117] points, 1 living leaves...\n",
      "Depth 66: [118] points, 1 living leaves...\n",
      "Depth 67: [120] points, 2 living leaves...\n",
      "Depth 68: [122] points, 2 living leaves...\n",
      "Depth 69: [124] points, 2 living leaves...\n",
      "Depth 70: [126] points, 2 living leaves...\n",
      "Depth 71: [128] points, 2 living leaves...\n",
      "Depth 72: [130] points, 2 living leaves...\n",
      "Depth 73: [132] points, 2 living leaves...\n",
      "Depth 74: [134] points, 2 living leaves...\n",
      "Depth 75: [135] points, 1 living leaves...\n",
      "Depth 76: [136] points, 1 living leaves...\n",
      "Depth 77: [137] points, 1 living leaves...\n",
      "Depth 78: [138] points, 1 living leaves...\n",
      "Depth 79: [139] points, 1 living leaves...\n",
      "Depth 80: [141] points, 2 living leaves...\n",
      "Depth 81: [143] points, 2 living leaves...\n",
      "Depth 82: [145] points, 2 living leaves...\n",
      "Depth 83: [147] points, 2 living leaves...\n",
      "Depth 84: [149] points, 2 living leaves...\n",
      "Depth 85: [151] points, 2 living leaves...\n",
      "Depth 86: [153] points, 2 living leaves...\n",
      "Depth 87: [155] points, 2 living leaves...\n",
      "Depth 88: [156] points, 1 living leaves...\n",
      "Depth 89: [157] points, 1 living leaves...\n",
      "Depth 90: [158] points, 1 living leaves...\n",
      "Depth 91: [159] points, 1 living leaves...\n",
      "Depth 92: [160] points, 1 living leaves...\n",
      "Depth 93: [162] points, 2 living leaves...\n",
      "Depth 94: [164] points, 2 living leaves...\n",
      "Depth 95: [166] points, 2 living leaves...\n",
      "Depth 96: [168] points, 2 living leaves...\n",
      "Depth 97: [170] points, 2 living leaves...\n",
      "Depth 98: [172] points, 2 living leaves...\n",
      "Depth 99: [174] points, 2 living leaves...\n",
      "Depth 100: [176] points, 2 living leaves...\n",
      "Depth 101: [177] points, 1 living leaves...\n",
      "Depth 102: [178] points, 1 living leaves...\n",
      "Depth 103: [179] points, 1 living leaves...\n",
      "Depth 104: [180] points, 1 living leaves...\n",
      "Depth 105: [181] points, 1 living leaves...\n",
      "Depth 106: [183] points, 2 living leaves...\n",
      "Depth 107: [185] points, 2 living leaves...\n",
      "Depth 108: [187] points, 2 living leaves...\n",
      "Depth 109: [189] points, 2 living leaves...\n",
      "Depth 110: [191] points, 2 living leaves...\n",
      "Depth 111: [193] points, 2 living leaves...\n",
      "Depth 112: [195] points, 2 living leaves...\n",
      "Depth 113: [197] points, 2 living leaves...\n",
      "Depth 114: [198] points, 1 living leaves...\n",
      "Depth 115: [199] points, 1 living leaves...\n",
      "Depth 116: [200] points, 1 living leaves...\n",
      "Depth 117: [201] points, 1 living leaves...\n",
      "Depth 118: [202] points, 1 living leaves...\n",
      "Depth 119: [204] points, 2 living leaves...\n",
      "Depth 120: [206] points, 2 living leaves...\n",
      "Depth 121: [208] points, 2 living leaves...\n",
      "Depth 122: [210] points, 2 living leaves...\n",
      "Depth 123: [212] points, 2 living leaves...\n",
      "Depth 124: [214] points, 2 living leaves...\n",
      "Depth 125: [216] points, 2 living leaves...\n",
      "Depth 126: [218] points, 2 living leaves...\n",
      "Depth 127: [219] points, 1 living leaves...\n",
      "Depth 128: [220] points, 1 living leaves...\n",
      "Depth 129: [221] points, 1 living leaves...\n",
      "Depth 130: [222] points, 1 living leaves...\n",
      "Depth 131: [223] points, 1 living leaves...\n",
      "Depth 132: [225] points, 2 living leaves...\n",
      "Depth 133: [227] points, 2 living leaves...\n",
      "Depth 134: [229] points, 2 living leaves...\n",
      "Depth 135: [231] points, 2 living leaves...\n",
      "Depth 136: [233] points, 2 living leaves...\n",
      "Depth 137: [235] points, 2 living leaves...\n",
      "Depth 138: [237] points, 2 living leaves...\n",
      "Depth 139: [239] points, 2 living leaves...\n",
      "Depth 140: [240] points, 1 living leaves...\n",
      "Depth 141: [241] points, 1 living leaves...\n",
      "Depth 142: [242] points, 1 living leaves...\n",
      "Depth 143: [243] points, 1 living leaves...\n",
      "Depth 144: [244] points, 1 living leaves...\n",
      "Depth 145: [246] points, 2 living leaves...\n",
      "Depth 146: [248] points, 2 living leaves...\n",
      "Depth 147: [250] points, 2 living leaves...\n",
      "Depth 148: [252] points, 2 living leaves...\n",
      "Depth 149: [254] points, 2 living leaves...\n",
      "Depth 150: [256] points, 2 living leaves...\n",
      "Depth 151: [258] points, 2 living leaves...\n",
      "Depth 152: [260] points, 2 living leaves...\n",
      "Depth 153: [261] points, 1 living leaves...\n",
      "Depth 154: [262] points, 1 living leaves...\n",
      "Depth 155: [263] points, 1 living leaves...\n",
      "Depth 156: [264] points, 1 living leaves...\n",
      "Depth 157: [265] points, 1 living leaves...\n",
      "Depth 158: [267] points, 2 living leaves...\n",
      "Depth 159: [269] points, 2 living leaves...\n",
      "Depth 160: [271] points, 2 living leaves...\n",
      "Depth 161: [273] points, 2 living leaves...\n",
      "Depth 162: [275] points, 2 living leaves...\n",
      "Depth 163: [277] points, 2 living leaves...\n",
      "Depth 164: [279] points, 2 living leaves...\n",
      "Depth 165: [281] points, 2 living leaves...\n",
      "Depth 166: [282] points, 1 living leaves...\n",
      "Depth 167: [283] points, 1 living leaves...\n",
      "Depth 168: [284] points, 1 living leaves...\n",
      "Depth 169: [285] points, 1 living leaves...\n",
      "Depth 170: [286] points, 1 living leaves...\n",
      "Depth 171: [288] points, 2 living leaves...\n",
      "Depth 172: [290] points, 2 living leaves...\n",
      "Depth 173: [292] points, 2 living leaves...\n"
     ]
    },
    {
     "name": "stdout",
     "output_type": "stream",
     "text": [
      "Depth 174: [294] points, 2 living leaves...\n",
      "Depth 175: [296] points, 2 living leaves...\n",
      "Depth 176: [298] points, 2 living leaves...\n",
      "Depth 177: [300] points, 2 living leaves...\n",
      "Depth 178: [302] points, 2 living leaves...\n",
      "Depth 179: [303] points, 1 living leaves...\n",
      "Depth 180: [304] points, 1 living leaves...\n",
      "Depth 181: [305] points, 1 living leaves...\n",
      "Depth 182: [306] points, 1 living leaves...\n",
      "Depth 183: [307] points, 1 living leaves...\n",
      "Depth 184: [309] points, 2 living leaves...\n",
      "Depth 185: [311] points, 2 living leaves...\n",
      "Depth 186: [313] points, 2 living leaves...\n",
      "Depth 187: [315] points, 2 living leaves...\n",
      "Depth 188: [317] points, 2 living leaves...\n",
      "Depth 189: [319] points, 2 living leaves...\n",
      "Depth 190: [321] points, 2 living leaves...\n",
      "Depth 191: [323] points, 2 living leaves...\n",
      "Depth 192: [324] points, 1 living leaves...\n",
      "Depth 193: [325] points, 1 living leaves...\n",
      "Depth 194: [326] points, 1 living leaves...\n",
      "Depth 195: [327] points, 1 living leaves...\n",
      "Depth 196: [328] points, 1 living leaves...\n",
      "Depth 197: [330] points, 2 living leaves...\n",
      "Depth 198: [332] points, 2 living leaves...\n",
      "Depth 199: [334] points, 2 living leaves...\n",
      "Depth 200: [336] points, 2 living leaves...\n",
      "Depth 201: [338] points, 2 living leaves...\n",
      "Depth 202: [340] points, 2 living leaves...\n",
      "Depth 203: [342] points, 2 living leaves...\n",
      "Depth 204: [344] points, 2 living leaves...\n",
      "Depth 205: [345] points, 1 living leaves...\n",
      "Depth 206: [346] points, 1 living leaves...\n",
      "Depth 207: [347] points, 1 living leaves...\n",
      "Depth 208: [348] points, 1 living leaves...\n",
      "Depth 209: [349] points, 1 living leaves...\n",
      "Depth 210: [351] points, 2 living leaves...\n",
      "Depth 211: [353] points, 2 living leaves...\n",
      "Depth 212: [355] points, 2 living leaves...\n",
      "Depth 213: [357] points, 2 living leaves...\n",
      "Depth 214: [359] points, 2 living leaves...\n",
      "Depth 215: [361] points, 2 living leaves...\n",
      "Depth 216: [363] points, 2 living leaves...\n",
      "Depth 217: [365] points, 2 living leaves...\n",
      "Depth 218: [366] points, 1 living leaves...\n",
      "Depth 219: [367] points, 1 living leaves...\n",
      "Depth 220: [368] points, 1 living leaves...\n",
      "Depth 221: [369] points, 1 living leaves...\n",
      "Depth 222: [370] points, 1 living leaves...\n",
      "Depth 223: [372] points, 2 living leaves...\n",
      "Depth 224: [374] points, 2 living leaves...\n",
      "Depth 225: [376] points, 2 living leaves...\n",
      "Depth 226: [378] points, 2 living leaves...\n",
      "Depth 227: [380] points, 2 living leaves...\n",
      "Depth 228: [382] points, 2 living leaves...\n",
      "Depth 229: [384] points, 2 living leaves...\n",
      "Depth 230: [386] points, 2 living leaves...\n",
      "Depth 231: [387] points, 1 living leaves...\n",
      "Depth 232: [388] points, 1 living leaves...\n",
      "Depth 233: [389] points, 1 living leaves...\n",
      "Depth 234: [390] points, 1 living leaves...\n",
      "Depth 235: [391] points, 1 living leaves...\n",
      "Depth 236: [393] points, 2 living leaves...\n",
      "Depth 237: [395] points, 2 living leaves...\n",
      "Depth 238: [397] points, 2 living leaves...\n",
      "Depth 239: [399] points, 2 living leaves...\n",
      "Depth 240: [401] points, 2 living leaves...\n",
      "Depth 241: [403] points, 2 living leaves...\n",
      "Depth 242: [405] points, 2 living leaves...\n",
      "Depth 243: [407] points, 2 living leaves...\n",
      "Depth 244: [408] points, 1 living leaves...\n",
      "Depth 245: [409] points, 1 living leaves...\n",
      "Depth 246: [410] points, 1 living leaves...\n",
      "Depth 247: [411] points, 1 living leaves...\n",
      "Depth 248: [412] points, 1 living leaves...\n",
      "Depth 249: [414] points, 2 living leaves...\n",
      "Depth 250: [416] points, 2 living leaves...\n",
      "Depth 251: [418] points, 2 living leaves...\n",
      "Depth 252: [420] points, 2 living leaves...\n",
      "Depth 253: [422] points, 2 living leaves...\n",
      "Depth 254: [424] points, 2 living leaves...\n",
      "Depth 255: [426] points, 2 living leaves...\n",
      "Depth 256: [428] points, 2 living leaves...\n",
      "Depth 257: [429] points, 1 living leaves...\n",
      "Depth 258: [430] points, 1 living leaves...\n",
      "Depth 259: [431] points, 1 living leaves...\n",
      "Depth 260: [432] points, 1 living leaves...\n",
      "Depth 261: [433] points, 1 living leaves...\n",
      "Depth 262: [435] points, 2 living leaves...\n",
      "Depth 263: [437] points, 2 living leaves...\n",
      "Depth 264: [439] points, 2 living leaves...\n",
      "Depth 265: [441] points, 2 living leaves...\n",
      "Depth 266: [443] points, 2 living leaves...\n",
      "Depth 267: [445] points, 2 living leaves...\n",
      "Depth 268: [447] points, 2 living leaves...\n",
      "Depth 269: [449] points, 2 living leaves...\n",
      "Depth 270: [450] points, 1 living leaves...\n",
      "Depth 271: [451] points, 1 living leaves...\n",
      "Depth 272: [452] points, 1 living leaves...\n",
      "Depth 273: [453] points, 1 living leaves...\n",
      "Depth 274: [454] points, 1 living leaves...\n",
      "Depth 275: [456] points, 2 living leaves...\n",
      "Depth 276: [458] points, 2 living leaves...\n",
      "Depth 277: [460] points, 2 living leaves...\n",
      "Depth 278: [462] points, 2 living leaves...\n",
      "Depth 279: [464] points, 2 living leaves...\n",
      "Depth 280: [466] points, 2 living leaves...\n",
      "Depth 281: [468] points, 2 living leaves...\n",
      "Depth 282: [470] points, 2 living leaves...\n",
      "Depth 283: [471] points, 1 living leaves...\n",
      "Depth 284: [472] points, 1 living leaves...\n",
      "Depth 285: [473] points, 1 living leaves...\n",
      "Depth 286: [474] points, 1 living leaves...\n",
      "Depth 287: [475] points, 1 living leaves...\n",
      "Depth 288: [477] points, 2 living leaves...\n",
      "Depth 289: [479] points, 2 living leaves...\n",
      "Depth 290: [481] points, 2 living leaves...\n",
      "Depth 291: [483] points, 2 living leaves...\n",
      "Depth 292: [485] points, 2 living leaves...\n",
      "Depth 293: [487] points, 2 living leaves...\n",
      "Depth 294: [489] points, 2 living leaves...\n",
      "Depth 295: [491] points, 2 living leaves...\n",
      "0 living leaves, PSW(1.4092472220583485, [1, 2, 1, 2, 1, 1, 2, 1, 2, 1, 1, 2, 1, 1, 2, 1, 2, 1, 1, 2, 1]) is a \u001b[0m\u001b[1mspectral maximizing product\u001b[22m (s.m.p.)\n",
      "Use `tol` < 9.85878045867139e-13 to eliminite at least one more living leaf.\n",
      "Use `tol` > 1.0269562977782698e-12 to keep at least one more dead leaf.\n",
      "Use `new_candidate_tol` < 0.0 to consider at least one more candidate as s.m.p.\n",
      "Use `new_candidate_tol` > 1.3064575199450701e-8 to eliminate at least one s.m.p. candidate.\n"
     ]
    }
   ],
   "source": [
    "using JuMP, GLPK\n",
    "psw = strbin(s∞, \"00100101\")\n",
    "smp, done, polys = invariant_polytopes(s∞, with_optimizer(GLPK.Optimizer), psw, verbose=1, tol=1e-12,\n",
    "    max_length=1000, new_candidate_tol=1e-8, gready=true);"
   ]
  },
  {
   "cell_type": "markdown",
   "metadata": {},
   "source": [
    "The s.m.p. is 01010010 01010010 10010 so it should should find a better s.m.p. candidate starting at 10010 and then add two cycles."
   ]
  },
  {
   "cell_type": "code",
   "execution_count": 13,
   "metadata": {},
   "outputs": [
    {
     "name": "stdout",
     "output_type": "stream",
     "text": [
      "Depth 1: [8] points, 8 living leaves...\n",
      "Depth 2: [9] points, 1 living leaves...\n",
      "Depth 3: [10] points, 1 living leaves...\n",
      "Depth 4: [11] points, 1 living leaves...\n",
      "Depth 5: [12] points, 1 living leaves...\n",
      "\u001b[34m\u001b[1mNew candidate s.m.p. found\u001b[22m\u001b[39m because ⟨v_1*, v⟩ - 1 = 1.43497476123855e-8 > 1.0e-9:\n",
      "PSW(1.4092472220583443, [1, 2, 1, 2, 1, 1, 2, 1, 2, 1, 1, 2, 1])\n",
      "Depth 1: [13] points, 13 living leaves...\n",
      "Depth 2: [14] points, 1 living leaves...\n",
      "Depth 3: [15] points, 1 living leaves...\n",
      "\u001b[34m\u001b[1mNew candidate s.m.p. found\u001b[22m\u001b[39m because ⟨v_9*, v⟩ - 1 = 0.001712882328195553 > 1.0e-9:\n",
      "\u001b[31m\u001b[1maborting\u001b[22m\u001b[39m with smp candidate PSW(1.4092472218751113, [2, 1, 1, 2, 1, 1, 2, 1, 2, 1, 1, 2, 1, 2, 1, 1, 2, 1, 1, 2, 1, 2, 1, 1, 2, 1, 2, 1, 1, 2, 1, 1, 2, 1, 2, 1, 1, 2, 1, 1, 2, 1]) of length 42 after prefixing the suffix with 3 times the current s.m.p.Increase the value of the `max_smp_length` keyword argument to go further.\n",
      "Depth 4: [16] points, 1 living leaves...\n",
      "Depth 5: [17] points, 1 living leaves...\n",
      "\u001b[34m\u001b[1mNew candidate s.m.p. found\u001b[22m\u001b[39m because ⟨v_9*, v⟩ - 1 = 1.7034457400200154e-8 > 1.0e-9:\n",
      "\u001b[31m\u001b[1maborting\u001b[22m\u001b[39m with smp candidate PSW(1.4089182467185097, [2, 1, 1, 2, 1, 1, 2, 1, 2, 1, 1, 2, 1, 2, 1, 1, 2, 1, 1, 2, 1, 2, 1, 1, 2, 1, 2, 1, 1, 2, 1, 1, 2, 1, 2, 1, 1, 2, 1, 1, 2, 1, 2, 1]) of length 44 after prefixing the suffix with 3 times the current s.m.p.Increase the value of the `max_smp_length` keyword argument to go further.\n",
      "Depth 6: [18] points, 1 living leaves...\n",
      "Depth 7: [19] points, 1 living leaves...\n",
      "Depth 8: [20] points, 1 living leaves...\n",
      "\u001b[34m\u001b[1mNew candidate s.m.p. found\u001b[22m\u001b[39m because ⟨v_9*, v⟩ - 1 = 0.0022834789008214784 > 1.0e-9:\n",
      "PSW(1.4092472220583487, [2, 1, 1, 2, 1, 1, 2, 1, 2, 1, 1, 2, 1, 1, 2, 1, 2, 1, 1, 2, 1])\n",
      "Depth 1: [21] points, 21 living leaves...\n",
      "Depth 2: [22] points, 1 living leaves...\n",
      "Depth 3: [23] points, 1 living leaves...\n",
      "\u001b[34m\u001b[1mNew candidate s.m.p. found\u001b[22m\u001b[39m because ⟨v_14*, v⟩ - 1 = 0.012920091635884257 > 1.0e-9:\n",
      "\u001b[31m\u001b[1maborting\u001b[22m\u001b[39m with smp candidate PSW(1.4068704064763808, [1, 2, 1, 2, 1, 1, 2, 1, 2, 1, 1, 2, 1, 1, 2, 1, 2, 1, 1, 2, 1, 1, 2, 1, 2, 1, 1, 2, 1, 2, 1, 1, 2, 1, 1, 2, 1, 2, 1, 1, 2, 1, 2, 1, 1]) of length 45 after prefixing the suffix with 2 times the current s.m.p.Increase the value of the `max_smp_length` keyword argument to go further.\n",
      "Depth 4: [24] points, 1 living leaves...\n",
      "Depth 5: [25] points, 1 living leaves...\n",
      "Depth 6: [26] points, 1 living leaves...\n",
      "\u001b[34m\u001b[1mNew candidate s.m.p. found\u001b[22m\u001b[39m because ⟨v_14*, v⟩ - 1 = 0.013114153993670774 > 1.0e-9:\n",
      "\u001b[31m\u001b[1maborting\u001b[22m\u001b[39m with smp candidate PSW(1.4068309460221968, [1, 2, 1, 2, 1, 1, 2, 1, 2, 1, 1, 2, 1, 1, 2, 1, 2, 1, 1, 2, 1, 1, 2, 1, 2, 1, 1, 2, 1, 2, 1, 1, 2, 1, 1, 2, 1, 2, 1, 1, 2, 1, 2, 1, 1, 2, 1, 1]) of length 48 after prefixing the suffix with 2 times the current s.m.p.Increase the value of the `max_smp_length` keyword argument to go further.\n",
      "Depth 7: [27] points, 1 living leaves...\n",
      "Depth 8: [28] points, 1 living leaves...\n",
      "Depth 9: [29] points, 1 living leaves...\n",
      "Depth 10: [30] points, 1 living leaves...\n",
      "Depth 11: [31] points, 1 living leaves...\n",
      "\u001b[34m\u001b[1mNew candidate s.m.p. found\u001b[22m\u001b[39m because ⟨v_14*, v⟩ - 1 = 0.01292953752959547 > 1.0e-9:\n",
      "\u001b[31m\u001b[1maborting\u001b[22m\u001b[39m with smp candidate PSW(1.405903459230217, [1, 2, 1, 2, 1, 1, 2, 1, 2, 1, 1, 2, 1, 1, 2, 1, 2, 1, 1, 2, 1, 2, 1, 1, 2, 1, 1, 2, 1, 2, 1, 1]) of length 32 after prefixing the suffix with 1 times the current s.m.p.Increase the value of the `max_smp_length` keyword argument to go further.\n",
      "Depth 12: [32] points, 1 living leaves...\n",
      "Depth 13: [33] points, 1 living leaves...\n",
      "Depth 14: [34] points, 1 living leaves...\n",
      "\u001b[34m\u001b[1mNew candidate s.m.p. found\u001b[22m\u001b[39m because ⟨v_14*, v⟩ - 1 = 0.013114283513353753 > 1.0e-9:\n",
      "\u001b[31m\u001b[1maborting\u001b[22m\u001b[39m with smp candidate PSW(1.4059343401341133, [1, 2, 1, 2, 1, 1, 2, 1, 2, 1, 1, 2, 1, 1, 2, 1, 2, 1, 1, 2, 1, 2, 1, 1, 2, 1, 1, 2, 1, 2, 1, 1, 2, 1, 1]) of length 35 after prefixing the suffix with 1 times the current s.m.p.Increase the value of the `max_smp_length` keyword argument to go further.\n",
      "Depth 15: [36] points, 2 living leaves...\n",
      "Depth 16: [38] points, 2 living leaves...\n",
      "\u001b[34m\u001b[1mNew candidate s.m.p. found\u001b[22m\u001b[39m because ⟨v_14*, v⟩ - 1 = 9.645102538868855e-8 > 1.0e-9:\n",
      "\u001b[31m\u001b[1maborting\u001b[22m\u001b[39m with smp candidate PSW(1.4092193288031207, [1, 2, 1, 2, 1, 1, 2, 1, 2, 1, 1, 2, 1, 1, 2, 1, 2, 1, 1, 2, 1, 2, 1, 1, 2, 1, 1, 2, 1, 2, 1, 1, 2, 1, 1, 2, 1]) of length 37 after prefixing the suffix with 1 times the current s.m.p.Increase the value of the `max_smp_length` keyword argument to go further.\n",
      "\u001b[34m\u001b[1mNew candidate s.m.p. found\u001b[22m\u001b[39m because ⟨v_14*, v⟩ - 1 = 0.01292009163584229 > 1.0e-9:\n",
      "\u001b[31m\u001b[1maborting\u001b[22m\u001b[39m with smp candidate PSW(1.40635702772876, [1, 2, 1, 2, 1, 1, 2, 1, 2, 1, 1, 2, 1, 1, 2, 1, 2, 1, 1, 2, 1, 2, 1, 1, 2, 1, 1, 2, 1, 2, 1, 1, 2, 1, 2, 1, 1]) of length 37 after prefixing the suffix with 1 times the current s.m.p.Increase the value of the `max_smp_length` keyword argument to go further.\n",
      "Depth 17: [40] points, 2 living leaves...\n",
      "Depth 18: [42] points, 2 living leaves...\n",
      "Depth 19: [44] points, 2 living leaves...\n",
      "\u001b[34m\u001b[1mNew candidate s.m.p. found\u001b[22m\u001b[39m because ⟨v_14*, v⟩ - 1 = 0.01292953890788584 > 1.0e-9:\n",
      "\u001b[31m\u001b[1maborting\u001b[22m\u001b[39m with smp candidate PSW(1.406571574822522, [1, 2, 1, 2, 1, 1, 2, 1, 2, 1, 1, 2, 1, 1, 2, 1, 2, 1, 1, 2, 1, 2, 1, 1, 2, 1, 1, 2, 1, 2, 1, 1, 2, 1, 1, 2, 1, 2, 1, 1]) of length 40 after prefixing the suffix with 1 times the current s.m.p.Increase the value of the `max_smp_length` keyword argument to go further.\n",
      "\u001b[34m\u001b[1mNew candidate s.m.p. found\u001b[22m\u001b[39m because ⟨v_14*, v⟩ - 1 = 0.013114153993629474 > 1.0e-9:\n",
      "\u001b[31m\u001b[1maborting\u001b[22m\u001b[39m with smp candidate PSW(1.406348188208284, [1, 2, 1, 2, 1, 1, 2, 1, 2, 1, 1, 2, 1, 1, 2, 1, 2, 1, 1, 2, 1, 2, 1, 1, 2, 1, 1, 2, 1, 2, 1, 1, 2, 1, 2, 1, 1, 2, 1, 1]) of length 40 after prefixing the suffix with 1 times the current s.m.p.Increase the value of the `max_smp_length` keyword argument to go further.\n",
      "Depth 20: [46] points, 2 living leaves...\n",
      "Depth 21: [48] points, 2 living leaves...\n",
      "Depth 22: [50] points, 2 living leaves...\n",
      "Depth 23: [51] points, 1 living leaves...\n",
      "Depth 24: [52] points, 1 living leaves...\n",
      "\u001b[34m\u001b[1mNew candidate s.m.p. found\u001b[22m\u001b[39m because ⟨v_14*, v⟩ - 1 = 0.012929537529554613 > 1.0e-9:\n",
      "\u001b[31m\u001b[1maborting\u001b[22m\u001b[39m with smp candidate PSW(1.4068686193932, [1, 2, 1, 2, 1, 1, 2, 1, 2, 1, 1, 2, 1, 1, 2, 1, 2, 1, 1, 2, 1, 2, 1, 1, 2, 1, 1, 2, 1, 2, 1, 1, 2, 1, 2, 1, 1, 2, 1, 1, 2, 1, 2, 1, 1]) of length 45 after prefixing the suffix with 1 times the current s.m.p.Increase the value of the `max_smp_length` keyword argument to go further.\n",
      "Depth 25: [53] points, 1 living leaves...\n",
      "Depth 26: [54] points, 1 living leaves...\n",
      "Depth 27: [55] points, 1 living leaves...\n",
      "\u001b[34m\u001b[1mNew candidate s.m.p. found\u001b[22m\u001b[39m because ⟨v_14*, v⟩ - 1 = 0.013114283513313119 > 1.0e-9:\n",
      "\u001b[31m\u001b[1maborting\u001b[22m\u001b[39m with smp candidate PSW(1.4068308092265356, [1, 2, 1, 2, 1, 1, 2, 1, 2, 1, 1, 2, 1, 1, 2, 1, 2, 1, 1, 2, 1, 2, 1, 1, 2, 1, 1, 2, 1, 2, 1, 1, 2, 1, 2, 1, 1, 2, 1, 1, 2, 1, 2, 1, 1, 2, 1, 1]) of length 48 after prefixing the suffix with 1 times the current s.m.p.Increase the value of the `max_smp_length` keyword argument to go further.\n",
      "Depth 28: [57] points, 2 living leaves...\n",
      "Depth 29: [59] points, 2 living leaves...\n",
      "\u001b[34m\u001b[1mNew candidate s.m.p. found\u001b[22m\u001b[39m because ⟨v_14*, v⟩ - 1 = 9.645098497657045e-8 > 1.0e-9:\n",
      "\u001b[31m\u001b[1maborting\u001b[22m\u001b[39m with smp candidate PSW(1.409226580996367, [1, 2, 1, 2, 1, 1, 2, 1, 2, 1, 1, 2, 1, 1, 2, 1, 2, 1, 1, 2, 1, 2, 1, 1, 2, 1, 1, 2, 1, 2, 1, 1, 2, 1, 2, 1, 1, 2, 1, 1, 2, 1, 2, 1, 1, 2, 1, 1, 2, 1]) of length 50 after prefixing the suffix with 1 times the current s.m.p.Increase the value of the `max_smp_length` keyword argument to go further.\n",
      "\u001b[34m\u001b[1mNew candidate s.m.p. found\u001b[22m\u001b[39m because ⟨v_14*, v⟩ - 1 = 0.012920091635801434 > 1.0e-9:\n",
      "\u001b[31m\u001b[1maborting\u001b[22m\u001b[39m with smp candidate PSW(1.4071079075433324, [1, 2, 1, 2, 1, 1, 2, 1, 2, 1, 1, 2, 1, 1, 2, 1, 2, 1, 1, 2, 1, 2, 1, 1, 2, 1, 1, 2, 1, 2, 1, 1, 2, 1, 2, 1, 1, 2, 1, 1, 2, 1, 2, 1, 1, 2, 1, 2, 1, 1]) of length 50 after prefixing the suffix with 1 times the current s.m.p.Increase the value of the `max_smp_length` keyword argument to go further.\n",
      "Depth 30: [61] points, 2 living leaves...\n",
      "Depth 31: [63] points, 2 living leaves...\n",
      "Depth 32: [65] points, 2 living leaves...\n",
      "\u001b[34m\u001b[1mNew candidate s.m.p. found\u001b[22m\u001b[39m because ⟨v_14*, v⟩ - 1 = 0.012929538907844984 > 1.0e-9:\n",
      "\u001b[31m\u001b[1maborting\u001b[22m\u001b[39m with smp candidate PSW(1.4092149702737653, [2, 1, 1, 2, 1, 1, 2, 1, 2, 1, 1, 2, 1, 2, 1, 1, 2, 1, 1, 2, 1, 2, 1, 1, 2, 1, 1, 2, 1, 2, 1, 1]) of length 32 after prefixing the suffix with 0 times the current s.m.p.Increase the value of the `max_smp_length` keyword argument to go further.\n",
      "\u001b[34m\u001b[1mNew candidate s.m.p. found\u001b[22m\u001b[39m because ⟨v_14*, v⟩ - 1 = 0.013114153993588396 > 1.0e-9:\n",
      "\u001b[31m\u001b[1maborting\u001b[22m\u001b[39m with smp candidate PSW(1.409180407270659, [2, 1, 1, 2, 1, 1, 2, 1, 2, 1, 1, 2, 1, 2, 1, 1, 2, 1, 1, 2, 1, 2, 1, 1, 2, 1, 2, 1, 1, 2, 1, 1]) of length 32 after prefixing the suffix with 0 times the current s.m.p.Increase the value of the `max_smp_length` keyword argument to go further.\n",
      "Depth 33: [67] points, 2 living leaves...\n",
      "Depth 34: [69] points, 2 living leaves...\n",
      "Depth 35: [71] points, 2 living leaves...\n",
      "Depth 36: [72] points, 1 living leaves...\n",
      "Depth 37: [73] points, 1 living leaves...\n",
      "\u001b[34m\u001b[1mNew candidate s.m.p. found\u001b[22m\u001b[39m because ⟨v_14*, v⟩ - 1 = 0.012929537529513313 > 1.0e-9:\n",
      "\u001b[31m\u001b[1maborting\u001b[22m\u001b[39m with smp candidate PSW(1.4092193288031207, [2, 1, 1, 2, 1, 1, 2, 1, 2, 1, 1, 2, 1, 2, 1, 1, 2, 1, 1, 2, 1, 2, 1, 1, 2, 1, 2, 1, 1, 2, 1, 1, 2, 1, 2, 1, 1]) of length 37 after prefixing the suffix with 0 times the current s.m.p.Increase the value of the `max_smp_length` keyword argument to go further.\n",
      "Depth 38: [74] points, 1 living leaves...\n",
      "Depth 39: [75] points, 1 living leaves...\n",
      "Depth 40: [76] points, 1 living leaves...\n",
      "\u001b[34m\u001b[1mNew candidate s.m.p. found\u001b[22m\u001b[39m because ⟨v_14*, v⟩ - 1 = 0.013114283513271818 > 1.0e-9:\n",
      "\u001b[31m\u001b[1maborting\u001b[22m\u001b[39m with smp candidate PSW(1.4091937495472568, [2, 1, 1, 2, 1, 1, 2, 1, 2, 1, 1, 2, 1, 2, 1, 1, 2, 1, 1, 2, 1, 2, 1, 1, 2, 1, 2, 1, 1, 2, 1, 1, 2, 1, 2, 1, 1, 2, 1, 1]) of length 40 after prefixing the suffix with 0 times the current s.m.p.Increase the value of the `max_smp_length` keyword argument to go further.\n",
      "Depth 41: [78] points, 2 living leaves...\n",
      "Depth 42: [80] points, 2 living leaves...\n",
      "\u001b[34m\u001b[1mNew candidate s.m.p. found\u001b[22m\u001b[39m because ⟨v_14*, v⟩ - 1 = 9.645094412036315e-8 > 1.0e-9:\n",
      "\u001b[31m\u001b[1maborting\u001b[22m\u001b[39m with smp candidate PSW(1.4092472218751113, [2, 1, 1, 2, 1, 1, 2, 1, 2, 1, 1, 2, 1, 2, 1, 1, 2, 1, 1, 2, 1, 2, 1, 1, 2, 1, 2, 1, 1, 2, 1, 1, 2, 1, 2, 1, 1, 2, 1, 1, 2, 1]) of length 42 after prefixing the suffix with 0 times the current s.m.p.Increase the value of the `max_smp_length` keyword argument to go further.\n",
      "\u001b[34m\u001b[1mNew candidate s.m.p. found\u001b[22m\u001b[39m because ⟨v_14*, v⟩ - 1 = 0.012920091635759912 > 1.0e-9:\n",
      "\u001b[31m\u001b[1maborting\u001b[22m\u001b[39m with smp candidate PSW(1.4092226675517883, [2, 1, 1, 2, 1, 1, 2, 1, 2, 1, 1, 2, 1, 2, 1, 1, 2, 1, 1, 2, 1, 2, 1, 1, 2, 1, 2, 1, 1, 2, 1, 1, 2, 1, 2, 1, 1, 2, 1, 2, 1, 1]) of length 42 after prefixing the suffix with 0 times the current s.m.p.Increase the value of the `max_smp_length` keyword argument to go further.\n",
      "Depth 43: [82] points, 2 living leaves...\n",
      "Depth 44: [84] points, 2 living leaves...\n",
      "Depth 45: [86] points, 2 living leaves...\n",
      "\u001b[34m\u001b[1mNew candidate s.m.p. found\u001b[22m\u001b[39m because ⟨v_14*, v⟩ - 1 = 0.012929538907803684 > 1.0e-9:\n",
      "\u001b[31m\u001b[1maborting\u001b[22m\u001b[39m with smp candidate PSW(1.4092242873802874, [2, 1, 1, 2, 1, 1, 2, 1, 2, 1, 1, 2, 1, 2, 1, 1, 2, 1, 1, 2, 1, 2, 1, 1, 2, 1, 2, 1, 1, 2, 1, 1, 2, 1, 2, 1, 1, 2, 1, 1, 2, 1, 2, 1, 1]) of length 45 after prefixing the suffix with 0 times the current s.m.p.Increase the value of the `max_smp_length` keyword argument to go further.\n",
      "\u001b[34m\u001b[1mNew candidate s.m.p. found\u001b[22m\u001b[39m because ⟨v_14*, v⟩ - 1 = 0.013114153993547317 > 1.0e-9:\n",
      "\u001b[31m\u001b[1maborting\u001b[22m\u001b[39m with smp candidate PSW(1.409199708995044, [2, 1, 1, 2, 1, 1, 2, 1, 2, 1, 1, 2, 1, 2, 1, 1, 2, 1, 1, 2, 1, 2, 1, 1, 2, 1, 2, 1, 1, 2, 1, 1, 2, 1, 2, 1, 1, 2, 1, 2, 1, 1, 2, 1, 1]) of length 45 after prefixing the suffix with 0 times the current s.m.p.Increase the value of the `max_smp_length` keyword argument to go further.\n",
      "Depth 46: [88] points, 2 living leaves...\n",
      "Depth 47: [90] points, 2 living leaves...\n",
      "Depth 48: [92] points, 2 living leaves...\n",
      "Depth 49: [93] points, 1 living leaves...\n",
      "Depth 50: [94] points, 1 living leaves...\n",
      "\u001b[34m\u001b[1mNew candidate s.m.p. found\u001b[22m\u001b[39m because ⟨v_14*, v⟩ - 1 = 0.01292953752947179 > 1.0e-9:\n",
      "\u001b[31m\u001b[1maborting\u001b[22m\u001b[39m with smp candidate PSW(1.4092265809963673, [2, 1, 1, 2, 1, 1, 2, 1, 2, 1, 1, 2, 1, 2, 1, 1, 2, 1, 1, 2, 1, 2, 1, 1, 2, 1, 2, 1, 1, 2, 1, 1, 2, 1, 2, 1, 1, 2, 1, 2, 1, 1, 2, 1, 1, 2, 1, 2, 1, 1]) of length 50 after prefixing the suffix with 0 times the current s.m.p.Increase the value of the `max_smp_length` keyword argument to go further.\n",
      "Depth 51: [95] points, 1 living leaves...\n",
      "Depth 52: [96] points, 1 living leaves...\n",
      "Depth 53: [97] points, 1 living leaves...\n",
      "\u001b[34m\u001b[1mNew candidate s.m.p. found\u001b[22m\u001b[39m because ⟨v_14*, v⟩ - 1 = 0.013114283513230074 > 1.0e-9:\n",
      "\u001b[31m\u001b[1maborting\u001b[22m\u001b[39m with smp candidate PSW(1.4092068652583998, [2, 1, 1, 2, 1, 1, 2, 1, 2, 1, 1, 2, 1, 2, 1, 1, 2, 1, 1, 2, 1, 2, 1, 1, 2, 1, 2, 1, 1, 2, 1, 1, 2, 1, 2, 1, 1, 2, 1, 2, 1, 1, 2, 1, 1, 2, 1, 2, 1, 1, 2, 1, 1]) of length 53 after prefixing the suffix with 0 times the current s.m.p.Increase the value of the `max_smp_length` keyword argument to go further.\n",
      "Depth 54: [99] points, 2 living leaves...\n"
     ]
    },
    {
     "name": "stdout",
     "output_type": "stream",
     "text": [
      "Depth 55: [101] points, 2 living leaves...\n",
      "\u001b[34m\u001b[1mNew candidate s.m.p. found\u001b[22m\u001b[39m because ⟨v_14*, v⟩ - 1 = 9.645090304211124e-8 > 1.0e-9:\n",
      "\u001b[31m\u001b[1maborting\u001b[22m\u001b[39m with smp candidate PSW(1.409247221918421, [2, 1, 1, 2, 1, 1, 2, 1, 2, 1, 1, 2, 1, 2, 1, 1, 2, 1, 1, 2, 1, 2, 1, 1, 2, 1, 2, 1, 1, 2, 1, 1, 2, 1, 2, 1, 1, 2, 1, 2, 1, 1, 2, 1, 1, 2, 1, 2, 1, 1, 2, 1, 1, 2, 1]) of length 55 after prefixing the suffix with 0 times the current s.m.p.Increase the value of the `max_smp_length` keyword argument to go further.\n",
      "\u001b[34m\u001b[1mNew candidate s.m.p. found\u001b[22m\u001b[39m because ⟨v_14*, v⟩ - 1 = 0.01292009163571839 > 1.0e-9:\n",
      "\u001b[31m\u001b[1maborting\u001b[22m\u001b[39m with smp candidate PSW(1.4092284713056353, [2, 1, 1, 2, 1, 1, 2, 1, 2, 1, 1, 2, 1, 2, 1, 1, 2, 1, 1, 2, 1, 2, 1, 1, 2, 1, 2, 1, 1, 2, 1, 1, 2, 1, 2, 1, 1, 2, 1, 2, 1, 1, 2, 1, 1, 2, 1, 2, 1, 1, 2, 1, 2, 1, 1]) of length 55 after prefixing the suffix with 0 times the current s.m.p.Increase the value of the `max_smp_length` keyword argument to go further.\n",
      "Depth 56: [103] points, 2 living leaves...\n",
      "Depth 57: [105] points, 2 living leaves...\n",
      "Depth 58: [107] points, 2 living leaves...\n",
      "\u001b[34m\u001b[1mNew candidate s.m.p. found\u001b[22m\u001b[39m because ⟨v_14*, v⟩ - 1 = 0.012929538907762161 > 1.0e-9:\n",
      "\u001b[31m\u001b[1maborting\u001b[22m\u001b[39m with smp candidate PSW(1.4092294278791218, [2, 1, 1, 2, 1, 1, 2, 1, 2, 1, 1, 2, 1, 2, 1, 1, 2, 1, 1, 2, 1, 2, 1, 1, 2, 1, 2, 1, 1, 2, 1, 1, 2, 1, 2, 1, 1, 2, 1, 2, 1, 1, 2, 1, 1, 2, 1, 2, 1, 1, 2, 1, 1, 2, 1, 2, 1, 1]) of length 58 after prefixing the suffix with 0 times the current s.m.p.Increase the value of the `max_smp_length` keyword argument to go further.\n",
      "\u001b[34m\u001b[1mNew candidate s.m.p. found\u001b[22m\u001b[39m because ⟨v_14*, v⟩ - 1 = 0.013114153993505573 > 1.0e-9:\n",
      "\u001b[31m\u001b[1maborting\u001b[22m\u001b[39m with smp candidate PSW(1.409210358335461, [2, 1, 1, 2, 1, 1, 2, 1, 2, 1, 1, 2, 1, 2, 1, 1, 2, 1, 1, 2, 1, 2, 1, 1, 2, 1, 2, 1, 1, 2, 1, 1, 2, 1, 2, 1, 1, 2, 1, 2, 1, 1, 2, 1, 1, 2, 1, 2, 1, 1, 2, 1, 2, 1, 1, 2, 1, 1]) of length 58 after prefixing the suffix with 0 times the current s.m.p.Increase the value of the `max_smp_length` keyword argument to go further.\n",
      "Depth 59: [109] points, 2 living leaves...\n",
      "Depth 60: [111] points, 2 living leaves...\n",
      "Depth 61: [113] points, 2 living leaves...\n",
      "Depth 62: [114] points, 1 living leaves...\n",
      "Depth 63: [115] points, 1 living leaves...\n",
      "\u001b[34m\u001b[1mNew candidate s.m.p. found\u001b[22m\u001b[39m because ⟨v_14*, v⟩ - 1 = 0.012929537529430268 > 1.0e-9:\n",
      "\u001b[31m\u001b[1maborting\u001b[22m\u001b[39m with smp candidate PSW(1.4092308402383684, [2, 1, 1, 2, 1, 1, 2, 1, 2, 1, 1, 2, 1, 2, 1, 1, 2, 1, 1, 2, 1, 2, 1, 1, 2, 1, 2, 1, 1, 2, 1, 1, 2, 1, 2, 1, 1, 2, 1, 2, 1, 1, 2, 1, 1, 2, 1, 2, 1, 1, 2, 1, 2, 1, 1, 2, 1, 1, 2, 1, 2, 1, 1]) of length 63 after prefixing the suffix with 0 times the current s.m.p.Increase the value of the `max_smp_length` keyword argument to go further.\n",
      "Depth 64: [116] points, 1 living leaves...\n",
      "Depth 65: [117] points, 1 living leaves...\n",
      "Depth 66: [118] points, 1 living leaves...\n",
      "\u001b[34m\u001b[1mNew candidate s.m.p. found\u001b[22m\u001b[39m because ⟨v_14*, v⟩ - 1 = 0.013114283513188552 > 1.0e-9:\n",
      "\u001b[31m\u001b[1maborting\u001b[22m\u001b[39m with smp candidate PSW(1.4092148142336542, [2, 1, 1, 2, 1, 1, 2, 1, 2, 1, 1, 2, 1, 2, 1, 1, 2, 1, 1, 2, 1, 2, 1, 1, 2, 1, 2, 1, 1, 2, 1, 1, 2, 1, 2, 1, 1, 2, 1, 2, 1, 1, 2, 1, 1, 2, 1, 2, 1, 1, 2, 1, 2, 1, 1, 2, 1, 1, 2, 1, 2, 1, 1, 2, 1, 1]) of length 66 after prefixing the suffix with 0 times the current s.m.p.Increase the value of the `max_smp_length` keyword argument to go further.\n",
      "Depth 67: [120] points, 2 living leaves...\n",
      "Depth 68: [122] points, 2 living leaves...\n",
      "\u001b[34m\u001b[1mNew candidate s.m.p. found\u001b[22m\u001b[39m because ⟨v_14*, v⟩ - 1 = 9.645086218590393e-8 > 1.0e-9:\n",
      "\u001b[31m\u001b[1maborting\u001b[22m\u001b[39m with smp candidate PSW(1.409247221945171, [2, 1, 1, 2, 1, 1, 2, 1, 2, 1, 1, 2, 1, 2, 1, 1, 2, 1, 1, 2, 1, 2, 1, 1, 2, 1, 2, 1, 1, 2, 1, 1, 2, 1, 2, 1, 1, 2, 1, 2, 1, 1, 2, 1, 1, 2, 1, 2, 1, 1, 2, 1, 2, 1, 1, 2, 1, 1, 2, 1, 2, 1, 1, 2, 1, 1, 2, 1]) of length 68 after prefixing the suffix with 0 times the current s.m.p.Increase the value of the `max_smp_length` keyword argument to go further.\n",
      "\u001b[34m\u001b[1mNew candidate s.m.p. found\u001b[22m\u001b[39m because ⟨v_14*, v⟩ - 1 = 0.012920091635676867 > 1.0e-9:\n",
      "\u001b[31m\u001b[1maborting\u001b[22m\u001b[39m with smp candidate PSW(1.40923205598907, [2, 1, 1, 2, 1, 1, 2, 1, 2, 1, 1, 2, 1, 2, 1, 1, 2, 1, 1, 2, 1, 2, 1, 1, 2, 1, 2, 1, 1, 2, 1, 1, 2, 1, 2, 1, 1, 2, 1, 2, 1, 1, 2, 1, 1, 2, 1, 2, 1, 1, 2, 1, 2, 1, 1, 2, 1, 1, 2, 1, 2, 1, 1, 2, 1, 2, 1, 1]) of length 68 after prefixing the suffix with 0 times the current s.m.p.Increase the value of the `max_smp_length` keyword argument to go further.\n",
      "Depth 69: [124] points, 2 living leaves...\n",
      "Depth 70: [126] points, 2 living leaves...\n",
      "Depth 71: [128] points, 2 living leaves...\n",
      "\u001b[34m\u001b[1mNew candidate s.m.p. found\u001b[22m\u001b[39m because ⟨v_14*, v⟩ - 1 = 0.012929538907720861 > 1.0e-9:\n",
      "\u001b[31m\u001b[1maborting\u001b[22m\u001b[39m with smp candidate PSW(1.4092326859514719, [2, 1, 1, 2, 1, 1, 2, 1, 2, 1, 1, 2, 1, 2, 1, 1, 2, 1, 1, 2, 1, 2, 1, 1, 2, 1, 2, 1, 1, 2, 1, 1, 2, 1, 2, 1, 1, 2, 1, 2, 1, 1, 2, 1, 1, 2, 1, 2, 1, 1, 2, 1, 2, 1, 1, 2, 1, 1, 2, 1, 2, 1, 1, 2, 1, 1, 2, 1, 2, 1, 1]) of length 71 after prefixing the suffix with 0 times the current s.m.p.Increase the value of the `max_smp_length` keyword argument to go further.\n",
      "\u001b[34m\u001b[1mNew candidate s.m.p. found\u001b[22m\u001b[39m because ⟨v_14*, v⟩ - 1 = 0.013114153993463828 > 1.0e-9:\n",
      "\u001b[31m\u001b[1maborting\u001b[22m\u001b[39m with smp candidate PSW(1.4092171079590827, [2, 1, 1, 2, 1, 1, 2, 1, 2, 1, 1, 2, 1, 2, 1, 1, 2, 1, 1, 2, 1, 2, 1, 1, 2, 1, 2, 1, 1, 2, 1, 1, 2, 1, 2, 1, 1, 2, 1, 2, 1, 1, 2, 1, 1, 2, 1, 2, 1, 1, 2, 1, 2, 1, 1, 2, 1, 1, 2, 1, 2, 1, 1, 2, 1, 2, 1, 1, 2, 1, 1]) of length 71 after prefixing the suffix with 0 times the current s.m.p.Increase the value of the `max_smp_length` keyword argument to go further.\n",
      "Depth 72: [130] points, 2 living leaves...\n",
      "Depth 73: [132] points, 2 living leaves...\n",
      "Depth 74: [134] points, 2 living leaves...\n",
      "Depth 75: [135] points, 1 living leaves...\n",
      "Depth 76: [136] points, 1 living leaves...\n",
      "\u001b[34m\u001b[1mNew candidate s.m.p. found\u001b[22m\u001b[39m because ⟨v_14*, v⟩ - 1 = 0.01292953752938919 > 1.0e-9:\n",
      "\u001b[31m\u001b[1maborting\u001b[22m\u001b[39m with smp candidate PSW(1.4092336423782843, [2, 1, 1, 2, 1, 1, 2, 1, 2, 1, 1, 2, 1, 2, 1, 1, 2, 1, 1, 2, 1, 2, 1, 1, 2, 1, 2, 1, 1, 2, 1, 1, 2, 1, 2, 1, 1, 2, 1, 2, 1, 1, 2, 1, 1, 2, 1, 2, 1, 1, 2, 1, 2, 1, 1, 2, 1, 1, 2, 1, 2, 1, 1, 2, 1, 2, 1, 1, 2, 1, 1, 2, 1, 2, 1, 1]) of length 76 after prefixing the suffix with 0 times the current s.m.p.Increase the value of the `max_smp_length` keyword argument to go further.\n",
      "Depth 77: [137] points, 1 living leaves...\n",
      "Depth 78: [138] points, 1 living leaves...\n",
      "Depth 79: [139] points, 1 living leaves...\n",
      "\u001b[34m\u001b[1mNew candidate s.m.p. found\u001b[22m\u001b[39m because ⟨v_14*, v⟩ - 1 = 0.013114283513147473 > 1.0e-9:\n",
      "\u001b[31m\u001b[1maborting\u001b[22m\u001b[39m with smp candidate PSW(1.4092201471156016, [2, 1, 1, 2, 1, 1, 2, 1, 2, 1, 1, 2, 1, 2, 1, 1, 2, 1, 1, 2, 1, 2, 1, 1, 2, 1, 2, 1, 1, 2, 1, 1, 2, 1, 2, 1, 1, 2, 1, 2, 1, 1, 2, 1, 1, 2, 1, 2, 1, 1, 2, 1, 2, 1, 1, 2, 1, 1, 2, 1, 2, 1, 1, 2, 1, 2, 1, 1, 2, 1, 1, 2, 1, 2, 1, 1, 2, 1, 1]) of length 79 after prefixing the suffix with 0 times the current s.m.p.Increase the value of the `max_smp_length` keyword argument to go further.\n",
      "Depth 80: [141] points, 2 living leaves...\n",
      "Depth 81: [143] points, 2 living leaves...\n",
      "\u001b[34m\u001b[1mNew candidate s.m.p. found\u001b[22m\u001b[39m because ⟨v_14*, v⟩ - 1 = 9.645082132969662e-8 > 1.0e-9:\n",
      "\u001b[31m\u001b[1maborting\u001b[22m\u001b[39m with smp candidate PSW(1.4092472219633347, [2, 1, 1, 2, 1, 1, 2, 1, 2, 1, 1, 2, 1, 2, 1, 1, 2, 1, 1, 2, 1, 2, 1, 1, 2, 1, 2, 1, 1, 2, 1, 1, 2, 1, 2, 1, 1, 2, 1, 2, 1, 1, 2, 1, 1, 2, 1, 2, 1, 1, 2, 1, 2, 1, 1, 2, 1, 1, 2, 1, 2, 1, 1, 2, 1, 2, 1, 1, 2, 1, 1, 2, 1, 2, 1, 1, 2, 1, 1, 2, 1]) of length 81 after prefixing the suffix with 0 times the current s.m.p.Increase the value of the `max_smp_length` keyword argument to go further.\n",
      "\u001b[34m\u001b[1mNew candidate s.m.p. found\u001b[22m\u001b[39m because ⟨v_14*, v⟩ - 1 = 0.012920091635635789 > 1.0e-9:\n",
      "\u001b[31m\u001b[1maborting\u001b[22m\u001b[39m with smp candidate PSW(1.4092344900385756, [2, 1, 1, 2, 1, 1, 2, 1, 2, 1, 1, 2, 1, 2, 1, 1, 2, 1, 1, 2, 1, 2, 1, 1, 2, 1, 2, 1, 1, 2, 1, 1, 2, 1, 2, 1, 1, 2, 1, 2, 1, 1, 2, 1, 1, 2, 1, 2, 1, 1, 2, 1, 2, 1, 1, 2, 1, 1, 2, 1, 2, 1, 1, 2, 1, 2, 1, 1, 2, 1, 1, 2, 1, 2, 1, 1, 2, 1, 2, 1, 1]) of length 81 after prefixing the suffix with 0 times the current s.m.p.Increase the value of the `max_smp_length` keyword argument to go further.\n",
      "Depth 82: [145] points, 2 living leaves...\n",
      "Depth 83: [147] points, 2 living leaves...\n",
      "Depth 84: [149] points, 2 living leaves...\n",
      "\u001b[34m\u001b[1mNew candidate s.m.p. found\u001b[22m\u001b[39m because ⟨v_14*, v⟩ - 1 = 0.012929538907679339 > 1.0e-9:\n",
      "\u001b[31m\u001b[1maborting\u001b[22m\u001b[39m with smp candidate PSW(1.4092349355772524, [2, 1, 1, 2, 1, 1, 2, 1, 2, 1, 1, 2, 1, 2, 1, 1, 2, 1, 1, 2, 1, 2, 1, 1, 2, 1, 2, 1, 1, 2, 1, 1, 2, 1, 2, 1, 1, 2, 1, 2, 1, 1, 2, 1, 1, 2, 1, 2, 1, 1, 2, 1, 2, 1, 1, 2, 1, 1, 2, 1, 2, 1, 1, 2, 1, 2, 1, 1, 2, 1, 1, 2, 1, 2, 1, 1, 2, 1, 1, 2, 1, 2, 1, 1]) of length 84 after prefixing the suffix with 0 times the current s.m.p.Increase the value of the `max_smp_length` keyword argument to go further.\n",
      "\u001b[34m\u001b[1mNew candidate s.m.p. found\u001b[22m\u001b[39m because ⟨v_14*, v⟩ - 1 = 0.01311415399342275 > 1.0e-9:\n",
      "\u001b[31m\u001b[1maborting\u001b[22m\u001b[39m with smp candidate PSW(1.4092217684323556, [2, 1, 1, 2, 1, 1, 2, 1, 2, 1, 1, 2, 1, 2, 1, 1, 2, 1, 1, 2, 1, 2, 1, 1, 2, 1, 2, 1, 1, 2, 1, 1, 2, 1, 2, 1, 1, 2, 1, 2, 1, 1, 2, 1, 1, 2, 1, 2, 1, 1, 2, 1, 2, 1, 1, 2, 1, 1, 2, 1, 2, 1, 1, 2, 1, 2, 1, 1, 2, 1, 1, 2, 1, 2, 1, 1, 2, 1, 2, 1, 1, 2, 1, 1]) of length 84 after prefixing the suffix with 0 times the current s.m.p.Increase the value of the `max_smp_length` keyword argument to go further.\n",
      "Depth 85: [151] points, 2 living leaves...\n",
      "Depth 86: [153] points, 2 living leaves...\n",
      "Depth 87: [155] points, 2 living leaves...\n",
      "Depth 88: [156] points, 1 living leaves...\n",
      "Depth 89: [157] points, 1 living leaves...\n",
      "\u001b[34m\u001b[1mNew candidate s.m.p. found\u001b[22m\u001b[39m because ⟨v_14*, v⟩ - 1 = 0.012929537529347668 > 1.0e-9:\n",
      "\u001b[31m\u001b[1maborting\u001b[22m\u001b[39m with smp candidate PSW(1.409235625918896, [2, 1, 1, 2, 1, 1, 2, 1, 2, 1, 1, 2, 1, 2, 1, 1, 2, 1, 1, 2, 1, 2, 1, 1, 2, 1, 2, 1, 1, 2, 1, 1, 2, 1, 2, 1, 1, 2, 1, 2, 1, 1, 2, 1, 1, 2, 1, 2, 1, 1, 2, 1, 2, 1, 1, 2, 1, 1, 2, 1, 2, 1, 1, 2, 1, 2, 1, 1, 2, 1, 1, 2, 1, 2, 1, 1, 2, 1, 2, 1, 1, 2, 1, 1, 2, 1, 2, 1, 1]) of length 89 after prefixing the suffix with 0 times the current s.m.p.Increase the value of the `max_smp_length` keyword argument to go further.\n",
      "Depth 90: [158] points, 1 living leaves...\n",
      "Depth 91: [159] points, 1 living leaves...\n",
      "Depth 92: [160] points, 1 living leaves...\n",
      "\u001b[34m\u001b[1mNew candidate s.m.p. found\u001b[22m\u001b[39m because ⟨v_14*, v⟩ - 1 = 0.013114283513105951 > 1.0e-9:\n",
      "\u001b[31m\u001b[1maborting\u001b[22m\u001b[39m with smp candidate PSW(1.40922397289117, [2, 1, 1, 2, 1, 1, 2, 1, 2, 1, 1, 2, 1, 2, 1, 1, 2, 1, 1, 2, 1, 2, 1, 1, 2, 1, 2, 1, 1, 2, 1, 1, 2, 1, 2, 1, 1, 2, 1, 2, 1, 1, 2, 1, 1, 2, 1, 2, 1, 1, 2, 1, 2, 1, 1, 2, 1, 1, 2, 1, 2, 1, 1, 2, 1, 2, 1, 1, 2, 1, 1, 2, 1, 2, 1, 1, 2, 1, 2, 1, 1, 2, 1, 1, 2, 1, 2, 1, 1, 2, 1, 1]) of length 92 after prefixing the suffix with 0 times the current s.m.p.Increase the value of the `max_smp_length` keyword argument to go further.\n",
      "Depth 93: [162] points, 2 living leaves...\n",
      "Depth 94: [164] points, 2 living leaves...\n",
      "\u001b[34m\u001b[1mNew candidate s.m.p. found\u001b[22m\u001b[39m because ⟨v_14*, v⟩ - 1 = 9.645078069553392e-8 > 1.0e-9:\n",
      "\u001b[31m\u001b[1maborting\u001b[22m\u001b[39m with smp candidate PSW(1.4092472219764742, [2, 1, 1, 2, 1, 1, 2, 1, 2, 1, 1, 2, 1, 2, 1, 1, 2, 1, 1, 2, 1, 2, 1, 1, 2, 1, 2, 1, 1, 2, 1, 1, 2, 1, 2, 1, 1, 2, 1, 2, 1, 1, 2, 1, 1, 2, 1, 2, 1, 1, 2, 1, 2, 1, 1, 2, 1, 1, 2, 1, 2, 1, 1, 2, 1, 2, 1, 1, 2, 1, 1, 2, 1, 2, 1, 1, 2, 1, 2, 1, 1, 2, 1, 1, 2, 1, 2, 1, 1, 2, 1, 1, 2, 1]) of length 94 after prefixing the suffix with 0 times the current s.m.p.Increase the value of the `max_smp_length` keyword argument to go further.\n",
      "\u001b[34m\u001b[1mNew candidate s.m.p. found\u001b[22m\u001b[39m because ⟨v_14*, v⟩ - 1 = 0.01292009163559471 > 1.0e-9:\n",
      "\u001b[31m\u001b[1maborting\u001b[22m\u001b[39m with smp candidate PSW(1.409236250842966, [2, 1, 1, 2, 1, 1, 2, 1, 2, 1, 1, 2, 1, 2, 1, 1, 2, 1, 1, 2, 1, 2, 1, 1, 2, 1, 2, 1, 1, 2, 1, 1, 2, 1, 2, 1, 1, 2, 1, 2, 1, 1, 2, 1, 1, 2, 1, 2, 1, 1, 2, 1, 2, 1, 1, 2, 1, 1, 2, 1, 2, 1, 1, 2, 1, 2, 1, 1, 2, 1, 1, 2, 1, 2, 1, 1, 2, 1, 2, 1, 1, 2, 1, 1, 2, 1, 2, 1, 1, 2, 1, 2, 1, 1]) of length 94 after prefixing the suffix with 0 times the current s.m.p.Increase the value of the `max_smp_length` keyword argument to go further.\n",
      "Depth 95: [166] points, 2 living leaves...\n",
      "Depth 96: [168] points, 2 living leaves...\n",
      "Depth 97: [170] points, 2 living leaves...\n",
      "\u001b[34m\u001b[1mNew candidate s.m.p. found\u001b[22m\u001b[39m because ⟨v_14*, v⟩ - 1 = 0.012929538907638038 > 1.0e-9:\n",
      "\u001b[31m\u001b[1maborting\u001b[22m\u001b[39m with smp candidate PSW(1.409236582212832, [2, 1, 1, 2, 1, 1, 2, 1, 2, 1, 1, 2, 1, 2, 1, 1, 2, 1, 1, 2, 1, 2, 1, 1, 2, 1, 2, 1, 1, 2, 1, 1, 2, 1, 2, 1, 1, 2, 1, 2, 1, 1, 2, 1, 1, 2, 1, 2, 1, 1, 2, 1, 2, 1, 1, 2, 1, 1, 2, 1, 2, 1, 1, 2, 1, 2, 1, 1, 2, 1, 1, 2, 1, 2, 1, 1, 2, 1, 2, 1, 1, 2, 1, 1, 2, 1, 2, 1, 1, 2, 1, 1, 2, 1, 2, 1, 1]) of length 97 after prefixing the suffix with 0 times the current s.m.p.Increase the value of the `max_smp_length` keyword argument to go further.\n",
      "\u001b[34m\u001b[1mNew candidate s.m.p. found\u001b[22m\u001b[39m because ⟨v_14*, v⟩ - 1 = 0.013114153993381672 > 1.0e-9:\n",
      "\u001b[31m\u001b[1maborting\u001b[22m\u001b[39m with smp candidate PSW(1.4092251797163764, [2, 1, 1, 2, 1, 1, 2, 1, 2, 1, 1, 2, 1, 2, 1, 1, 2, 1, 1, 2, 1, 2, 1, 1, 2, 1, 2, 1, 1, 2, 1, 1, 2, 1, 2, 1, 1, 2, 1, 2, 1, 1, 2, 1, 1, 2, 1, 2, 1, 1, 2, 1, 2, 1, 1, 2, 1, 1, 2, 1, 2, 1, 1, 2, 1, 2, 1, 1, 2, 1, 1, 2, 1, 2, 1, 1, 2, 1, 2, 1, 1, 2, 1, 1, 2, 1, 2, 1, 1, 2, 1, 2, 1, 1, 2, 1, 1]) of length 97 after prefixing the suffix with 0 times the current s.m.p.Increase the value of the `max_smp_length` keyword argument to go further.\n",
      "Depth 98: [172] points, 2 living leaves...\n",
      "Depth 99: [174] points, 2 living leaves...\n",
      "Depth 100: [176] points, 2 living leaves...\n"
     ]
    },
    {
     "name": "stdout",
     "output_type": "stream",
     "text": [
      "Depth 101: [177] points, 1 living leaves...\n",
      "Depth 102: [178] points, 1 living leaves...\n",
      "\u001b[34m\u001b[1mNew candidate s.m.p. found\u001b[22m\u001b[39m because ⟨v_14*, v⟩ - 1 = 0.012929537529306367 > 1.0e-9:\n",
      "\u001b[31m\u001b[1maborting\u001b[22m\u001b[39m with smp candidate PSW(1.4092371038529319, [2, 1, 1, 2, 1, 1, 2, 1, 2, 1, 1, 2, 1, 2, 1, 1, 2, 1, 1, 2, 1, 2, 1, 1, 2, 1, 2, 1, 1, 2, 1, 1, 2, 1, 2, 1, 1, 2, 1, 2, 1, 1, 2, 1, 1, 2, 1, 2, 1, 1, 2, 1, 2, 1, 1, 2, 1, 1, 2, 1, 2, 1, 1, 2, 1, 2, 1, 1, 2, 1, 1, 2, 1, 2, 1, 1, 2, 1, 2, 1, 1, 2, 1, 1, 2, 1, 2, 1, 1, 2, 1, 2, 1, 1, 2, 1, 1, 2, 1, 2, 1, 1]) of length 102 after prefixing the suffix with 0 times the current s.m.p.Increase the value of the `max_smp_length` keyword argument to go further.\n",
      "Depth 103: [179] points, 1 living leaves...\n",
      "Depth 104: [180] points, 1 living leaves...\n",
      "Depth 105: [181] points, 1 living leaves...\n",
      "\u001b[34m\u001b[1mNew candidate s.m.p. found\u001b[22m\u001b[39m because ⟨v_14*, v⟩ - 1 = 0.013114283513064873 > 1.0e-9:\n",
      "\u001b[31m\u001b[1maborting\u001b[22m\u001b[39m with smp candidate PSW(1.4092268513386823, [2, 1, 1, 2, 1, 1, 2, 1, 2, 1, 1, 2, 1, 2, 1, 1, 2, 1, 1, 2, 1, 2, 1, 1, 2, 1, 2, 1, 1, 2, 1, 1, 2, 1, 2, 1, 1, 2, 1, 2, 1, 1, 2, 1, 1, 2, 1, 2, 1, 1, 2, 1, 2, 1, 1, 2, 1, 1, 2, 1, 2, 1, 1, 2, 1, 2, 1, 1, 2, 1, 1, 2, 1, 2, 1, 1, 2, 1, 2, 1, 1, 2, 1, 1, 2, 1, 2, 1, 1, 2, 1, 2, 1, 1, 2, 1, 1, 2, 1, 2, 1, 1, 2, 1, 1]) of length 105 after prefixing the suffix with 0 times the current s.m.p.Increase the value of the `max_smp_length` keyword argument to go further.\n",
      "Depth 106: [183] points, 2 living leaves...\n",
      "Depth 107: [185] points, 2 living leaves...\n",
      "\u001b[34m\u001b[1mNew candidate s.m.p. found\u001b[22m\u001b[39m because ⟨v_14*, v⟩ - 1 = 9.645073983932662e-8 > 1.0e-9:\n",
      "\u001b[31m\u001b[1maborting\u001b[22m\u001b[39m with smp candidate PSW(1.4092472219864212, [2, 1, 1, 2, 1, 1, 2, 1, 2, 1, 1, 2, 1, 2, 1, 1, 2, 1, 1, 2, 1, 2, 1, 1, 2, 1, 2, 1, 1, 2, 1, 1, 2, 1, 2, 1, 1, 2, 1, 2, 1, 1, 2, 1, 1, 2, 1, 2, 1, 1, 2, 1, 2, 1, 1, 2, 1, 1, 2, 1, 2, 1, 1, 2, 1, 2, 1, 1, 2, 1, 1, 2, 1, 2, 1, 1, 2, 1, 2, 1, 1, 2, 1, 1, 2, 1, 2, 1, 1, 2, 1, 2, 1, 1, 2, 1, 1, 2, 1, 2, 1, 1, 2, 1, 1, 2, 1]) of length 107 after prefixing the suffix with 0 times the current s.m.p.Increase the value of the `max_smp_length` keyword argument to go further.\n",
      "\u001b[34m\u001b[1mNew candidate s.m.p. found\u001b[22m\u001b[39m because ⟨v_14*, v⟩ - 1 = 0.012920091635553188 > 1.0e-9:\n",
      "\u001b[31m\u001b[1maborting\u001b[22m\u001b[39m with smp candidate PSW(1.4092375837898088, [2, 1, 1, 2, 1, 1, 2, 1, 2, 1, 1, 2, 1, 2, 1, 1, 2, 1, 1, 2, 1, 2, 1, 1, 2, 1, 2, 1, 1, 2, 1, 1, 2, 1, 2, 1, 1, 2, 1, 2, 1, 1, 2, 1, 1, 2, 1, 2, 1, 1, 2, 1, 2, 1, 1, 2, 1, 1, 2, 1, 2, 1, 1, 2, 1, 2, 1, 1, 2, 1, 1, 2, 1, 2, 1, 1, 2, 1, 2, 1, 1, 2, 1, 1, 2, 1, 2, 1, 1, 2, 1, 2, 1, 1, 2, 1, 1, 2, 1, 2, 1, 1, 2, 1, 2, 1, 1]) of length 107 after prefixing the suffix with 0 times the current s.m.p.Increase the value of the `max_smp_length` keyword argument to go further.\n",
      "Depth 108: [187] points, 2 living leaves...\n",
      "Depth 109: [189] points, 2 living leaves...\n",
      "Depth 110: [191] points, 2 living leaves...\n",
      "\u001b[34m\u001b[1mNew candidate s.m.p. found\u001b[22m\u001b[39m because ⟨v_14*, v⟩ - 1 = 0.01292953890759696 > 1.0e-9:\n",
      "\u001b[31m\u001b[1maborting\u001b[22m\u001b[39m with smp candidate PSW(1.409237839644934, [2, 1, 1, 2, 1, 1, 2, 1, 2, 1, 1, 2, 1, 2, 1, 1, 2, 1, 1, 2, 1, 2, 1, 1, 2, 1, 2, 1, 1, 2, 1, 1, 2, 1, 2, 1, 1, 2, 1, 2, 1, 1, 2, 1, 1, 2, 1, 2, 1, 1, 2, 1, 2, 1, 1, 2, 1, 1, 2, 1, 2, 1, 1, 2, 1, 2, 1, 1, 2, 1, 1, 2, 1, 2, 1, 1, 2, 1, 2, 1, 1, 2, 1, 1, 2, 1, 2, 1, 1, 2, 1, 2, 1, 1, 2, 1, 1, 2, 1, 2, 1, 1, 2, 1, 1, 2, 1, 2, 1, 1]) of length 110 after prefixing the suffix with 0 times the current s.m.p.Increase the value of the `max_smp_length` keyword argument to go further.\n",
      "\u001b[34m\u001b[1mNew candidate s.m.p. found\u001b[22m\u001b[39m because ⟨v_14*, v⟩ - 1 = 0.01311415399334015 > 1.0e-9:\n",
      "\u001b[31m\u001b[1maborting\u001b[22m\u001b[39m with smp candidate PSW(1.4092277847024621, [2, 1, 1, 2, 1, 1, 2, 1, 2, 1, 1, 2, 1, 2, 1, 1, 2, 1, 1, 2, 1, 2, 1, 1, 2, 1, 2, 1, 1, 2, 1, 1, 2, 1, 2, 1, 1, 2, 1, 2, 1, 1, 2, 1, 1, 2, 1, 2, 1, 1, 2, 1, 2, 1, 1, 2, 1, 1, 2, 1, 2, 1, 1, 2, 1, 2, 1, 1, 2, 1, 1, 2, 1, 2, 1, 1, 2, 1, 2, 1, 1, 2, 1, 1, 2, 1, 2, 1, 1, 2, 1, 2, 1, 1, 2, 1, 1, 2, 1, 2, 1, 1, 2, 1, 2, 1, 1, 2, 1, 1]) of length 110 after prefixing the suffix with 0 times the current s.m.p.Increase the value of the `max_smp_length` keyword argument to go further.\n",
      "Depth 111: [193] points, 2 living leaves...\n",
      "Depth 112: [195] points, 2 living leaves...\n",
      "Depth 113: [197] points, 2 living leaves...\n",
      "Depth 114: [198] points, 1 living leaves...\n",
      "Depth 115: [199] points, 1 living leaves...\n",
      "\u001b[34m\u001b[1mNew candidate s.m.p. found\u001b[22m\u001b[39m because ⟨v_14*, v⟩ - 1 = 0.012929537529265067 > 1.0e-9:\n",
      "\u001b[31m\u001b[1maborting\u001b[22m\u001b[39m with smp candidate PSW(1.4092382476464234, [2, 1, 1, 2, 1, 1, 2, 1, 2, 1, 1, 2, 1, 2, 1, 1, 2, 1, 1, 2, 1, 2, 1, 1, 2, 1, 2, 1, 1, 2, 1, 1, 2, 1, 2, 1, 1, 2, 1, 2, 1, 1, 2, 1, 1, 2, 1, 2, 1, 1, 2, 1, 2, 1, 1, 2, 1, 1, 2, 1, 2, 1, 1, 2, 1, 2, 1, 1, 2, 1, 1, 2, 1, 2, 1, 1, 2, 1, 2, 1, 1, 2, 1, 1, 2, 1, 2, 1, 1, 2, 1, 2, 1, 1, 2, 1, 1, 2, 1, 2, 1, 1, 2, 1, 2, 1, 1, 2, 1, 1, 2, 1, 2, 1, 1]) of length 115 after prefixing the suffix with 0 times the current s.m.p.Increase the value of the `max_smp_length` keyword argument to go further.\n",
      "Depth 116: [200] points, 1 living leaves...\n",
      "Depth 117: [201] points, 1 living leaves...\n",
      "Depth 118: [202] points, 1 living leaves...\n",
      "\u001b[34m\u001b[1mNew candidate s.m.p. found\u001b[22m\u001b[39m because ⟨v_14*, v⟩ - 1 = 0.013114283513023572 > 1.0e-9:\n",
      "\u001b[31m\u001b[1maborting\u001b[22m\u001b[39m with smp candidate PSW(1.4092290955560762, [2, 1, 1, 2, 1, 1, 2, 1, 2, 1, 1, 2, 1, 2, 1, 1, 2, 1, 1, 2, 1, 2, 1, 1, 2, 1, 2, 1, 1, 2, 1, 1, 2, 1, 2, 1, 1, 2, 1, 2, 1, 1, 2, 1, 1, 2, 1, 2, 1, 1, 2, 1, 2, 1, 1, 2, 1, 1, 2, 1, 2, 1, 1, 2, 1, 2, 1, 1, 2, 1, 1, 2, 1, 2, 1, 1, 2, 1, 2, 1, 1, 2, 1, 1, 2, 1, 2, 1, 1, 2, 1, 2, 1, 1, 2, 1, 1, 2, 1, 2, 1, 1, 2, 1, 2, 1, 1, 2, 1, 1, 2, 1, 2, 1, 1, 2, 1, 1]) of length 118 after prefixing the suffix with 0 times the current s.m.p.Increase the value of the `max_smp_length` keyword argument to go further.\n",
      "Depth 119: [204] points, 2 living leaves...\n",
      "Depth 120: [206] points, 2 living leaves...\n",
      "\u001b[34m\u001b[1mNew candidate s.m.p. found\u001b[22m\u001b[39m because ⟨v_14*, v⟩ - 1 = 9.645069898311931e-8 > 1.0e-9:\n",
      "\u001b[31m\u001b[1maborting\u001b[22m\u001b[39m with smp candidate PSW(1.4092472219942127, [2, 1, 1, 2, 1, 1, 2, 1, 2, 1, 1, 2, 1, 2, 1, 1, 2, 1, 1, 2, 1, 2, 1, 1, 2, 1, 2, 1, 1, 2, 1, 1, 2, 1, 2, 1, 1, 2, 1, 2, 1, 1, 2, 1, 1, 2, 1, 2, 1, 1, 2, 1, 2, 1, 1, 2, 1, 1, 2, 1, 2, 1, 1, 2, 1, 2, 1, 1, 2, 1, 1, 2, 1, 2, 1, 1, 2, 1, 2, 1, 1, 2, 1, 1, 2, 1, 2, 1, 1, 2, 1, 2, 1, 1, 2, 1, 1, 2, 1, 2, 1, 1, 2, 1, 2, 1, 1, 2, 1, 1, 2, 1, 2, 1, 1, 2, 1, 1, 2, 1]) of length 120 after prefixing the suffix with 0 times the current s.m.p.Increase the value of the `max_smp_length` keyword argument to go further.\n",
      "\u001b[34m\u001b[1mNew candidate s.m.p. found\u001b[22m\u001b[39m because ⟨v_14*, v⟩ - 1 = 0.012920091635511888 > 1.0e-9:\n",
      "\u001b[31m\u001b[1maborting\u001b[22m\u001b[39m with smp candidate PSW(1.409238627932383, [2, 1, 1, 2, 1, 1, 2, 1, 2, 1, 1, 2, 1, 2, 1, 1, 2, 1, 1, 2, 1, 2, 1, 1, 2, 1, 2, 1, 1, 2, 1, 1, 2, 1, 2, 1, 1, 2, 1, 2, 1, 1, 2, 1, 1, 2, 1, 2, 1, 1, 2, 1, 2, 1, 1, 2, 1, 1, 2, 1, 2, 1, 1, 2, 1, 2, 1, 1, 2, 1, 1, 2, 1, 2, 1, 1, 2, 1, 2, 1, 1, 2, 1, 1, 2, 1, 2, 1, 1, 2, 1, 2, 1, 1, 2, 1, 1, 2, 1, 2, 1, 1, 2, 1, 2, 1, 1, 2, 1, 1, 2, 1, 2, 1, 1, 2, 1, 2, 1, 1]) of length 120 after prefixing the suffix with 0 times the current s.m.p.Increase the value of the `max_smp_length` keyword argument to go further.\n",
      "Depth 121: [208] points, 2 living leaves...\n",
      "Depth 122: [210] points, 2 living leaves...\n",
      "Depth 123: [212] points, 2 living leaves...\n",
      "\u001b[34m\u001b[1mNew candidate s.m.p. found\u001b[22m\u001b[39m because ⟨v_14*, v⟩ - 1 = 0.012929538907555438 > 1.0e-9:\n",
      "\u001b[31m\u001b[1maborting\u001b[22m\u001b[39m with smp candidate PSW(1.4092388312791715, [2, 1, 1, 2, 1, 1, 2, 1, 2, 1, 1, 2, 1, 2, 1, 1, 2, 1, 1, 2, 1, 2, 1, 1, 2, 1, 2, 1, 1, 2, 1, 1, 2, 1, 2, 1, 1, 2, 1, 2, 1, 1, 2, 1, 1, 2, 1, 2, 1, 1, 2, 1, 2, 1, 1, 2, 1, 1, 2, 1, 2, 1, 1, 2, 1, 2, 1, 1, 2, 1, 1, 2, 1, 2, 1, 1, 2, 1, 2, 1, 1, 2, 1, 1, 2, 1, 2, 1, 1, 2, 1, 2, 1, 1, 2, 1, 1, 2, 1, 2, 1, 1, 2, 1, 2, 1, 1, 2, 1, 1, 2, 1, 2, 1, 1, 2, 1, 1, 2, 1, 2, 1, 1]) of length 123 after prefixing the suffix with 0 times the current s.m.p.Increase the value of the `max_smp_length` keyword argument to go further.\n",
      "\u001b[34m\u001b[1mNew candidate s.m.p. found\u001b[22m\u001b[39m because ⟨v_14*, v⟩ - 1 = 0.01311415399329885 > 1.0e-9:\n",
      "\u001b[31m\u001b[1maborting\u001b[22m\u001b[39m with smp candidate PSW(1.4092298390444784, [2, 1, 1, 2, 1, 1, 2, 1, 2, 1, 1, 2, 1, 2, 1, 1, 2, 1, 1, 2, 1, 2, 1, 1, 2, 1, 2, 1, 1, 2, 1, 1, 2, 1, 2, 1, 1, 2, 1, 2, 1, 1, 2, 1, 1, 2, 1, 2, 1, 1, 2, 1, 2, 1, 1, 2, 1, 1, 2, 1, 2, 1, 1, 2, 1, 2, 1, 1, 2, 1, 1, 2, 1, 2, 1, 1, 2, 1, 2, 1, 1, 2, 1, 1, 2, 1, 2, 1, 1, 2, 1, 2, 1, 1, 2, 1, 1, 2, 1, 2, 1, 1, 2, 1, 2, 1, 1, 2, 1, 1, 2, 1, 2, 1, 1, 2, 1, 2, 1, 1, 2, 1, 1]) of length 123 after prefixing the suffix with 0 times the current s.m.p.Increase the value of the `max_smp_length` keyword argument to go further.\n",
      "Depth 124: [214] points, 2 living leaves...\n",
      "Depth 125: [216] points, 2 living leaves...\n",
      "Depth 126: [218] points, 2 living leaves...\n",
      "Depth 127: [219] points, 1 living leaves...\n",
      "Depth 128: [220] points, 1 living leaves...\n",
      "\u001b[34m\u001b[1mNew candidate s.m.p. found\u001b[22m\u001b[39m because ⟨v_14*, v⟩ - 1 = 0.012929537529223767 > 1.0e-9:\n",
      "\u001b[31m\u001b[1maborting\u001b[22m\u001b[39m with smp candidate PSW(1.4092391591075266, [2, 1, 1, 2, 1, 1, 2, 1, 2, 1, 1, 2, 1, 2, 1, 1, 2, 1, 1, 2, 1, 2, 1, 1, 2, 1, 2, 1, 1, 2, 1, 1, 2, 1, 2, 1, 1, 2, 1, 2, 1, 1, 2, 1, 1, 2, 1, 2, 1, 1, 2, 1, 2, 1, 1, 2, 1, 1, 2, 1, 2, 1, 1, 2, 1, 2, 1, 1, 2, 1, 1, 2, 1, 2, 1, 1, 2, 1, 2, 1, 1, 2, 1, 1, 2, 1, 2, 1, 1, 2, 1, 2, 1, 1, 2, 1, 1, 2, 1, 2, 1, 1, 2, 1, 2, 1, 1, 2, 1, 1, 2, 1, 2, 1, 1, 2, 1, 2, 1, 1, 2, 1, 1, 2, 1, 2, 1, 1]) of length 128 after prefixing the suffix with 0 times the current s.m.p.Increase the value of the `max_smp_length` keyword argument to go further.\n",
      "Depth 129: [221] points, 1 living leaves...\n",
      "Depth 130: [222] points, 1 living leaves...\n",
      "Depth 131: [223] points, 1 living leaves...\n",
      "\u001b[34m\u001b[1mNew candidate s.m.p. found\u001b[22m\u001b[39m because ⟨v_14*, v⟩ - 1 = 0.013114283512982272 > 1.0e-9:\n",
      "\u001b[31m\u001b[1maborting\u001b[22m\u001b[39m with smp candidate PSW(1.4092308943588576, [2, 1, 1, 2, 1, 1, 2, 1, 2, 1, 1, 2, 1, 2, 1, 1, 2, 1, 1, 2, 1, 2, 1, 1, 2, 1, 2, 1, 1, 2, 1, 1, 2, 1, 2, 1, 1, 2, 1, 2, 1, 1, 2, 1, 1, 2, 1, 2, 1, 1, 2, 1, 2, 1, 1, 2, 1, 1, 2, 1, 2, 1, 1, 2, 1, 2, 1, 1, 2, 1, 1, 2, 1, 2, 1, 1, 2, 1, 2, 1, 1, 2, 1, 1, 2, 1, 2, 1, 1, 2, 1, 2, 1, 1, 2, 1, 1, 2, 1, 2, 1, 1, 2, 1, 2, 1, 1, 2, 1, 1, 2, 1, 2, 1, 1, 2, 1, 2, 1, 1, 2, 1, 1, 2, 1, 2, 1, 1, 2, 1, 1]) of length 131 after prefixing the suffix with 0 times the current s.m.p.Increase the value of the `max_smp_length` keyword argument to go further.\n",
      "Depth 132: [225] points, 2 living leaves...\n",
      "Depth 133: [227] points, 2 living leaves...\n",
      "\u001b[34m\u001b[1mNew candidate s.m.p. found\u001b[22m\u001b[39m because ⟨v_14*, v⟩ - 1 = 9.645065834895661e-8 > 1.0e-9:\n",
      "\u001b[31m\u001b[1maborting\u001b[22m\u001b[39m with smp candidate PSW(1.4092472220004812, [2, 1, 1, 2, 1, 1, 2, 1, 2, 1, 1, 2, 1, 2, 1, 1, 2, 1, 1, 2, 1, 2, 1, 1, 2, 1, 2, 1, 1, 2, 1, 1, 2, 1, 2, 1, 1, 2, 1, 2, 1, 1, 2, 1, 1, 2, 1, 2, 1, 1, 2, 1, 2, 1, 1, 2, 1, 1, 2, 1, 2, 1, 1, 2, 1, 2, 1, 1, 2, 1, 1, 2, 1, 2, 1, 1, 2, 1, 2, 1, 1, 2, 1, 1, 2, 1, 2, 1, 1, 2, 1, 2, 1, 1, 2, 1, 1, 2, 1, 2, 1, 1, 2, 1, 2, 1, 1, 2, 1, 1, 2, 1, 2, 1, 1, 2, 1, 2, 1, 1, 2, 1, 1, 2, 1, 2, 1, 1, 2, 1, 1, 2, 1]) of length 133 after prefixing the suffix with 0 times the current s.m.p.Increase the value of the `max_smp_length` keyword argument to go further.\n"
     ]
    },
    {
     "name": "stdout",
     "output_type": "stream",
     "text": [
      "\u001b[34m\u001b[1mNew candidate s.m.p. found\u001b[22m\u001b[39m because ⟨v_14*, v⟩ - 1 = 0.012920091635470587 > 1.0e-9:\n",
      "\u001b[31m\u001b[1maborting\u001b[22m\u001b[39m with smp candidate PSW(1.4092394679574216, [2, 1, 1, 2, 1, 1, 2, 1, 2, 1, 1, 2, 1, 2, 1, 1, 2, 1, 1, 2, 1, 2, 1, 1, 2, 1, 2, 1, 1, 2, 1, 1, 2, 1, 2, 1, 1, 2, 1, 2, 1, 1, 2, 1, 1, 2, 1, 2, 1, 1, 2, 1, 2, 1, 1, 2, 1, 1, 2, 1, 2, 1, 1, 2, 1, 2, 1, 1, 2, 1, 1, 2, 1, 2, 1, 1, 2, 1, 2, 1, 1, 2, 1, 1, 2, 1, 2, 1, 1, 2, 1, 2, 1, 1, 2, 1, 1, 2, 1, 2, 1, 1, 2, 1, 2, 1, 1, 2, 1, 1, 2, 1, 2, 1, 1, 2, 1, 2, 1, 1, 2, 1, 1, 2, 1, 2, 1, 1, 2, 1, 2, 1, 1]) of length 133 after prefixing the suffix with 0 times the current s.m.p.Increase the value of the `max_smp_length` keyword argument to go further.\n",
      "Depth 134: [229] points, 2 living leaves...\n",
      "Depth 135: [231] points, 2 living leaves...\n",
      "Depth 136: [233] points, 2 living leaves...\n",
      "\u001b[34m\u001b[1mNew candidate s.m.p. found\u001b[22m\u001b[39m because ⟨v_14*, v⟩ - 1 = 0.012929538907514138 > 1.0e-9:\n",
      "\u001b[31m\u001b[1maborting\u001b[22m\u001b[39m with smp candidate PSW(1.409239633336786, [2, 1, 1, 2, 1, 1, 2, 1, 2, 1, 1, 2, 1, 2, 1, 1, 2, 1, 1, 2, 1, 2, 1, 1, 2, 1, 2, 1, 1, 2, 1, 1, 2, 1, 2, 1, 1, 2, 1, 2, 1, 1, 2, 1, 1, 2, 1, 2, 1, 1, 2, 1, 2, 1, 1, 2, 1, 1, 2, 1, 2, 1, 1, 2, 1, 2, 1, 1, 2, 1, 1, 2, 1, 2, 1, 1, 2, 1, 2, 1, 1, 2, 1, 1, 2, 1, 2, 1, 1, 2, 1, 2, 1, 1, 2, 1, 1, 2, 1, 2, 1, 1, 2, 1, 2, 1, 1, 2, 1, 1, 2, 1, 2, 1, 1, 2, 1, 2, 1, 1, 2, 1, 1, 2, 1, 2, 1, 1, 2, 1, 1, 2, 1, 2, 1, 1]) of length 136 after prefixing the suffix with 0 times the current s.m.p.Increase the value of the `max_smp_length` keyword argument to go further.\n",
      "\u001b[34m\u001b[1mNew candidate s.m.p. found\u001b[22m\u001b[39m because ⟨v_14*, v⟩ - 1 = 0.013114153993257549 > 1.0e-9:\n",
      "\u001b[31m\u001b[1maborting\u001b[22m\u001b[39m with smp candidate PSW(1.4092315006468297, [2, 1, 1, 2, 1, 1, 2, 1, 2, 1, 1, 2, 1, 2, 1, 1, 2, 1, 1, 2, 1, 2, 1, 1, 2, 1, 2, 1, 1, 2, 1, 1, 2, 1, 2, 1, 1, 2, 1, 2, 1, 1, 2, 1, 1, 2, 1, 2, 1, 1, 2, 1, 2, 1, 1, 2, 1, 1, 2, 1, 2, 1, 1, 2, 1, 2, 1, 1, 2, 1, 1, 2, 1, 2, 1, 1, 2, 1, 2, 1, 1, 2, 1, 1, 2, 1, 2, 1, 1, 2, 1, 2, 1, 1, 2, 1, 1, 2, 1, 2, 1, 1, 2, 1, 2, 1, 1, 2, 1, 1, 2, 1, 2, 1, 1, 2, 1, 2, 1, 1, 2, 1, 1, 2, 1, 2, 1, 1, 2, 1, 2, 1, 1, 2, 1, 1]) of length 136 after prefixing the suffix with 0 times the current s.m.p.Increase the value of the `max_smp_length` keyword argument to go further.\n",
      "Depth 137: [235] points, 2 living leaves...\n",
      "Depth 138: [237] points, 2 living leaves...\n",
      "Depth 139: [239] points, 2 living leaves...\n",
      "Depth 140: [240] points, 1 living leaves...\n",
      "Depth 141: [241] points, 1 living leaves...\n",
      "\u001b[34m\u001b[1mNew candidate s.m.p. found\u001b[22m\u001b[39m because ⟨v_14*, v⟩ - 1 = 0.012929537529182467 > 1.0e-9:\n",
      "\u001b[31m\u001b[1maborting\u001b[22m\u001b[39m with smp candidate PSW(1.4092399024982247, [2, 1, 1, 2, 1, 1, 2, 1, 2, 1, 1, 2, 1, 2, 1, 1, 2, 1, 1, 2, 1, 2, 1, 1, 2, 1, 2, 1, 1, 2, 1, 1, 2, 1, 2, 1, 1, 2, 1, 2, 1, 1, 2, 1, 1, 2, 1, 2, 1, 1, 2, 1, 2, 1, 1, 2, 1, 1, 2, 1, 2, 1, 1, 2, 1, 2, 1, 1, 2, 1, 1, 2, 1, 2, 1, 1, 2, 1, 2, 1, 1, 2, 1, 1, 2, 1, 2, 1, 1, 2, 1, 2, 1, 1, 2, 1, 1, 2, 1, 2, 1, 1, 2, 1, 2, 1, 1, 2, 1, 1, 2, 1, 2, 1, 1, 2, 1, 2, 1, 1, 2, 1, 1, 2, 1, 2, 1, 1, 2, 1, 2, 1, 1, 2, 1, 1, 2, 1, 2, 1, 1]) of length 141 after prefixing the suffix with 0 times the current s.m.p.Increase the value of the `max_smp_length` keyword argument to go further.\n",
      "Depth 142: [242] points, 1 living leaves...\n",
      "Depth 143: [243] points, 1 living leaves...\n",
      "Depth 144: [244] points, 1 living leaves...\n",
      "\u001b[34m\u001b[1mNew candidate s.m.p. found\u001b[22m\u001b[39m because ⟨v_14*, v⟩ - 1 = 0.01311428351294075 > 1.0e-9:\n",
      "\u001b[31m\u001b[1maborting\u001b[22m\u001b[39m with smp candidate PSW(1.4092323683795152, [2, 1, 1, 2, 1, 1, 2, 1, 2, 1, 1, 2, 1, 2, 1, 1, 2, 1, 1, 2, 1, 2, 1, 1, 2, 1, 2, 1, 1, 2, 1, 1, 2, 1, 2, 1, 1, 2, 1, 2, 1, 1, 2, 1, 1, 2, 1, 2, 1, 1, 2, 1, 2, 1, 1, 2, 1, 1, 2, 1, 2, 1, 1, 2, 1, 2, 1, 1, 2, 1, 1, 2, 1, 2, 1, 1, 2, 1, 2, 1, 1, 2, 1, 1, 2, 1, 2, 1, 1, 2, 1, 2, 1, 1, 2, 1, 1, 2, 1, 2, 1, 1, 2, 1, 2, 1, 1, 2, 1, 1, 2, 1, 2, 1, 1, 2, 1, 2, 1, 1, 2, 1, 1, 2, 1, 2, 1, 1, 2, 1, 2, 1, 1, 2, 1, 1, 2, 1, 2, 1, 1, 2, 1, 1]) of length 144 after prefixing the suffix with 0 times the current s.m.p.Increase the value of the `max_smp_length` keyword argument to go further.\n",
      "Depth 145: [246] points, 2 living leaves...\n",
      "Depth 146: [248] points, 2 living leaves...\n",
      "\u001b[34m\u001b[1mNew candidate s.m.p. found\u001b[22m\u001b[39m because ⟨v_14*, v⟩ - 1 = 9.64506172707047e-8 > 1.0e-9:\n",
      "\u001b[31m\u001b[1maborting\u001b[22m\u001b[39m with smp candidate PSW(1.4092472220056333, [2, 1, 1, 2, 1, 1, 2, 1, 2, 1, 1, 2, 1, 2, 1, 1, 2, 1, 1, 2, 1, 2, 1, 1, 2, 1, 2, 1, 1, 2, 1, 1, 2, 1, 2, 1, 1, 2, 1, 2, 1, 1, 2, 1, 1, 2, 1, 2, 1, 1, 2, 1, 2, 1, 1, 2, 1, 1, 2, 1, 2, 1, 1, 2, 1, 2, 1, 1, 2, 1, 1, 2, 1, 2, 1, 1, 2, 1, 2, 1, 1, 2, 1, 1, 2, 1, 2, 1, 1, 2, 1, 2, 1, 1, 2, 1, 1, 2, 1, 2, 1, 1, 2, 1, 2, 1, 1, 2, 1, 1, 2, 1, 2, 1, 1, 2, 1, 2, 1, 1, 2, 1, 1, 2, 1, 2, 1, 1, 2, 1, 2, 1, 1, 2, 1, 1, 2, 1, 2, 1, 1, 2, 1, 1, 2, 1]) of length 146 after prefixing the suffix with 0 times the current s.m.p.Increase the value of the `max_smp_length` keyword argument to go further.\n",
      "\u001b[34m\u001b[1mNew candidate s.m.p. found\u001b[22m\u001b[39m because ⟨v_14*, v⟩ - 1 = 0.012920091635429065 > 1.0e-9:\n",
      "\u001b[31m\u001b[1maborting\u001b[22m\u001b[39m with smp candidate PSW(1.409240158389335, [2, 1, 1, 2, 1, 1, 2, 1, 2, 1, 1, 2, 1, 2, 1, 1, 2, 1, 1, 2, 1, 2, 1, 1, 2, 1, 2, 1, 1, 2, 1, 1, 2, 1, 2, 1, 1, 2, 1, 2, 1, 1, 2, 1, 1, 2, 1, 2, 1, 1, 2, 1, 2, 1, 1, 2, 1, 1, 2, 1, 2, 1, 1, 2, 1, 2, 1, 1, 2, 1, 1, 2, 1, 2, 1, 1, 2, 1, 2, 1, 1, 2, 1, 1, 2, 1, 2, 1, 1, 2, 1, 2, 1, 1, 2, 1, 1, 2, 1, 2, 1, 1, 2, 1, 2, 1, 1, 2, 1, 1, 2, 1, 2, 1, 1, 2, 1, 2, 1, 1, 2, 1, 1, 2, 1, 2, 1, 1, 2, 1, 2, 1, 1, 2, 1, 1, 2, 1, 2, 1, 1, 2, 1, 2, 1, 1]) of length 146 after prefixing the suffix with 0 times the current s.m.p.Increase the value of the `max_smp_length` keyword argument to go further.\n",
      "Depth 147: [250] points, 2 living leaves...\n",
      "Depth 148: [252] points, 2 living leaves...\n",
      "Depth 149: [254] points, 2 living leaves...\n",
      "\u001b[34m\u001b[1mNew candidate s.m.p. found\u001b[22m\u001b[39m because ⟨v_14*, v⟩ - 1 = 0.01292953890747306 > 1.0e-9:\n",
      "\u001b[31m\u001b[1maborting\u001b[22m\u001b[39m with smp candidate PSW(1.409240295438382, [2, 1, 1, 2, 1, 1, 2, 1, 2, 1, 1, 2, 1, 2, 1, 1, 2, 1, 1, 2, 1, 2, 1, 1, 2, 1, 2, 1, 1, 2, 1, 1, 2, 1, 2, 1, 1, 2, 1, 2, 1, 1, 2, 1, 1, 2, 1, 2, 1, 1, 2, 1, 2, 1, 1, 2, 1, 1, 2, 1, 2, 1, 1, 2, 1, 2, 1, 1, 2, 1, 1, 2, 1, 2, 1, 1, 2, 1, 2, 1, 1, 2, 1, 1, 2, 1, 2, 1, 1, 2, 1, 2, 1, 1, 2, 1, 1, 2, 1, 2, 1, 1, 2, 1, 2, 1, 1, 2, 1, 1, 2, 1, 2, 1, 1, 2, 1, 2, 1, 1, 2, 1, 1, 2, 1, 2, 1, 1, 2, 1, 2, 1, 1, 2, 1, 1, 2, 1, 2, 1, 1, 2, 1, 1, 2, 1, 2, 1, 1]) of length 149 after prefixing the suffix with 0 times the current s.m.p.Increase the value of the `max_smp_length` keyword argument to go further.\n",
      "\u001b[34m\u001b[1mNew candidate s.m.p. found\u001b[22m\u001b[39m because ⟨v_14*, v⟩ - 1 = 0.013114153993216027 > 1.0e-9:\n",
      "\u001b[31m\u001b[1maborting\u001b[22m\u001b[39m with smp candidate PSW(1.4092328723066225, [2, 1, 1, 2, 1, 1, 2, 1, 2, 1, 1, 2, 1, 2, 1, 1, 2, 1, 1, 2, 1, 2, 1, 1, 2, 1, 2, 1, 1, 2, 1, 1, 2, 1, 2, 1, 1, 2, 1, 2, 1, 1, 2, 1, 1, 2, 1, 2, 1, 1, 2, 1, 2, 1, 1, 2, 1, 1, 2, 1, 2, 1, 1, 2, 1, 2, 1, 1, 2, 1, 1, 2, 1, 2, 1, 1, 2, 1, 2, 1, 1, 2, 1, 1, 2, 1, 2, 1, 1, 2, 1, 2, 1, 1, 2, 1, 1, 2, 1, 2, 1, 1, 2, 1, 2, 1, 1, 2, 1, 1, 2, 1, 2, 1, 1, 2, 1, 2, 1, 1, 2, 1, 1, 2, 1, 2, 1, 1, 2, 1, 2, 1, 1, 2, 1, 1, 2, 1, 2, 1, 1, 2, 1, 2, 1, 1, 2, 1, 1]) of length 149 after prefixing the suffix with 0 times the current s.m.p.Increase the value of the `max_smp_length` keyword argument to go further.\n",
      "Depth 150: [256] points, 2 living leaves...\n",
      "Depth 151: [258] points, 2 living leaves...\n",
      "Depth 152: [260] points, 2 living leaves...\n",
      "Depth 153: [261] points, 1 living leaves...\n",
      "Depth 154: [262] points, 1 living leaves...\n",
      "\u001b[34m\u001b[1mNew candidate s.m.p. found\u001b[22m\u001b[39m because ⟨v_14*, v⟩ - 1 = 0.012929537529141388 > 1.0e-9:\n",
      "\u001b[31m\u001b[1maborting\u001b[22m\u001b[39m with smp candidate PSW(1.4092405203817007, [2, 1, 1, 2, 1, 1, 2, 1, 2, 1, 1, 2, 1, 2, 1, 1, 2, 1, 1, 2, 1, 2, 1, 1, 2, 1, 2, 1, 1, 2, 1, 1, 2, 1, 2, 1, 1, 2, 1, 2, 1, 1, 2, 1, 1, 2, 1, 2, 1, 1, 2, 1, 2, 1, 1, 2, 1, 1, 2, 1, 2, 1, 1, 2, 1, 2, 1, 1, 2, 1, 1, 2, 1, 2, 1, 1, 2, 1, 2, 1, 1, 2, 1, 1, 2, 1, 2, 1, 1, 2, 1, 2, 1, 1, 2, 1, 1, 2, 1, 2, 1, 1, 2, 1, 2, 1, 1, 2, 1, 1, 2, 1, 2, 1, 1, 2, 1, 2, 1, 1, 2, 1, 1, 2, 1, 2, 1, 1, 2, 1, 2, 1, 1, 2, 1, 1, 2, 1, 2, 1, 1, 2, 1, 2, 1, 1, 2, 1, 1, 2, 1, 2, 1, 1]) of length 154 after prefixing the suffix with 0 times the current s.m.p.Increase the value of the `max_smp_length` keyword argument to go further.\n",
      "Depth 155: [263] points, 1 living leaves...\n",
      "Depth 156: [264] points, 1 living leaves...\n"
     ]
    },
    {
     "name": "stdout",
     "output_type": "stream",
     "text": [
      "Depth 157: [265] points, 1 living leaves...\n",
      "\u001b[34m\u001b[1mNew candidate s.m.p. found\u001b[22m\u001b[39m because ⟨v_14*, v⟩ - 1 = 0.01311428351289945 > 1.0e-9:\n",
      "\u001b[31m\u001b[1maborting\u001b[22m\u001b[39m with smp candidate PSW(1.409233598296021, [2, 1, 1, 2, 1, 1, 2, 1, 2, 1, 1, 2, 1, 2, 1, 1, 2, 1, 1, 2, 1, 2, 1, 1, 2, 1, 2, 1, 1, 2, 1, 1, 2, 1, 2, 1, 1, 2, 1, 2, 1, 1, 2, 1, 1, 2, 1, 2, 1, 1, 2, 1, 2, 1, 1, 2, 1, 1, 2, 1, 2, 1, 1, 2, 1, 2, 1, 1, 2, 1, 1, 2, 1, 2, 1, 1, 2, 1, 2, 1, 1, 2, 1, 1, 2, 1, 2, 1, 1, 2, 1, 2, 1, 1, 2, 1, 1, 2, 1, 2, 1, 1, 2, 1, 2, 1, 1, 2, 1, 1, 2, 1, 2, 1, 1, 2, 1, 2, 1, 1, 2, 1, 1, 2, 1, 2, 1, 1, 2, 1, 2, 1, 1, 2, 1, 1, 2, 1, 2, 1, 1, 2, 1, 2, 1, 1, 2, 1, 1, 2, 1, 2, 1, 1, 2, 1, 1]) of length 157 after prefixing the suffix with 0 times the current s.m.p.Increase the value of the `max_smp_length` keyword argument to go further.\n",
      "Depth 158: [267] points, 2 living leaves...\n",
      "Depth 159: [269] points, 2 living leaves...\n",
      "\u001b[34m\u001b[1mNew candidate s.m.p. found\u001b[22m\u001b[39m because ⟨v_14*, v⟩ - 1 = 9.64505768585866e-8 > 1.0e-9:\n",
      "\u001b[31m\u001b[1maborting\u001b[22m\u001b[39m with smp candidate PSW(1.4092472220099432, [2, 1, 1, 2, 1, 1, 2, 1, 2, 1, 1, 2, 1, 2, 1, 1, 2, 1, 1, 2, 1, 2, 1, 1, 2, 1, 2, 1, 1, 2, 1, 1, 2, 1, 2, 1, 1, 2, 1, 2, 1, 1, 2, 1, 1, 2, 1, 2, 1, 1, 2, 1, 2, 1, 1, 2, 1, 1, 2, 1, 2, 1, 1, 2, 1, 2, 1, 1, 2, 1, 1, 2, 1, 2, 1, 1, 2, 1, 2, 1, 1, 2, 1, 1, 2, 1, 2, 1, 1, 2, 1, 2, 1, 1, 2, 1, 1, 2, 1, 2, 1, 1, 2, 1, 2, 1, 1, 2, 1, 1, 2, 1, 2, 1, 1, 2, 1, 2, 1, 1, 2, 1, 1, 2, 1, 2, 1, 1, 2, 1, 2, 1, 1, 2, 1, 1, 2, 1, 2, 1, 1, 2, 1, 2, 1, 1, 2, 1, 1, 2, 1, 2, 1, 1, 2, 1, 1, 2, 1]) of length 159 after prefixing the suffix with 0 times the current s.m.p.Increase the value of the `max_smp_length` keyword argument to go further.\n",
      "\u001b[34m\u001b[1mNew candidate s.m.p. found\u001b[22m\u001b[39m because ⟨v_14*, v⟩ - 1 = 0.012920091635387987 > 1.0e-9:\n",
      "\u001b[31m\u001b[1maborting\u001b[22m\u001b[39m with smp candidate PSW(1.4092407359206922, [2, 1, 1, 2, 1, 1, 2, 1, 2, 1, 1, 2, 1, 2, 1, 1, 2, 1, 1, 2, 1, 2, 1, 1, 2, 1, 2, 1, 1, 2, 1, 1, 2, 1, 2, 1, 1, 2, 1, 2, 1, 1, 2, 1, 1, 2, 1, 2, 1, 1, 2, 1, 2, 1, 1, 2, 1, 1, 2, 1, 2, 1, 1, 2, 1, 2, 1, 1, 2, 1, 1, 2, 1, 2, 1, 1, 2, 1, 2, 1, 1, 2, 1, 1, 2, 1, 2, 1, 1, 2, 1, 2, 1, 1, 2, 1, 1, 2, 1, 2, 1, 1, 2, 1, 2, 1, 1, 2, 1, 1, 2, 1, 2, 1, 1, 2, 1, 2, 1, 1, 2, 1, 1, 2, 1, 2, 1, 1, 2, 1, 2, 1, 1, 2, 1, 1, 2, 1, 2, 1, 1, 2, 1, 2, 1, 1, 2, 1, 1, 2, 1, 2, 1, 1, 2, 1, 2, 1, 1]) of length 159 after prefixing the suffix with 0 times the current s.m.p.Increase the value of the `max_smp_length` keyword argument to go further.\n",
      "Depth 160: [271] points, 2 living leaves...\n",
      "Depth 161: [273] points, 2 living leaves...\n",
      "Depth 162: [275] points, 2 living leaves...\n",
      "\u001b[34m\u001b[1mNew candidate s.m.p. found\u001b[22m\u001b[39m because ⟨v_14*, v⟩ - 1 = 0.012929538907431537 > 1.0e-9:\n",
      "\u001b[31m\u001b[1maborting\u001b[22m\u001b[39m with smp candidate PSW(1.4092408512769992, [2, 1, 1, 2, 1, 1, 2, 1, 2, 1, 1, 2, 1, 2, 1, 1, 2, 1, 1, 2, 1, 2, 1, 1, 2, 1, 2, 1, 1, 2, 1, 1, 2, 1, 2, 1, 1, 2, 1, 2, 1, 1, 2, 1, 1, 2, 1, 2, 1, 1, 2, 1, 2, 1, 1, 2, 1, 1, 2, 1, 2, 1, 1, 2, 1, 2, 1, 1, 2, 1, 1, 2, 1, 2, 1, 1, 2, 1, 2, 1, 1, 2, 1, 1, 2, 1, 2, 1, 1, 2, 1, 2, 1, 1, 2, 1, 1, 2, 1, 2, 1, 1, 2, 1, 2, 1, 1, 2, 1, 1, 2, 1, 2, 1, 1, 2, 1, 2, 1, 1, 2, 1, 1, 2, 1, 2, 1, 1, 2, 1, 2, 1, 1, 2, 1, 1, 2, 1, 2, 1, 1, 2, 1, 2, 1, 1, 2, 1, 1, 2, 1, 2, 1, 1, 2, 1, 1, 2, 1, 2, 1, 1]) of length 162 after prefixing the suffix with 0 times the current s.m.p.Increase the value of the `max_smp_length` keyword argument to go further.\n",
      "\u001b[34m\u001b[1mNew candidate s.m.p. found\u001b[22m\u001b[39m because ⟨v_14*, v⟩ - 1 = 0.013114153993174948 > 1.0e-9:\n",
      "\u001b[31m\u001b[1maborting\u001b[22m\u001b[39m with smp candidate PSW(1.4092340238245165, [2, 1, 1, 2, 1, 1, 2, 1, 2, 1, 1, 2, 1, 2, 1, 1, 2, 1, 1, 2, 1, 2, 1, 1, 2, 1, 2, 1, 1, 2, 1, 1, 2, 1, 2, 1, 1, 2, 1, 2, 1, 1, 2, 1, 1, 2, 1, 2, 1, 1, 2, 1, 2, 1, 1, 2, 1, 1, 2, 1, 2, 1, 1, 2, 1, 2, 1, 1, 2, 1, 1, 2, 1, 2, 1, 1, 2, 1, 2, 1, 1, 2, 1, 1, 2, 1, 2, 1, 1, 2, 1, 2, 1, 1, 2, 1, 1, 2, 1, 2, 1, 1, 2, 1, 2, 1, 1, 2, 1, 1, 2, 1, 2, 1, 1, 2, 1, 2, 1, 1, 2, 1, 1, 2, 1, 2, 1, 1, 2, 1, 2, 1, 1, 2, 1, 1, 2, 1, 2, 1, 1, 2, 1, 2, 1, 1, 2, 1, 1, 2, 1, 2, 1, 1, 2, 1, 2, 1, 1, 2, 1, 1]) of length 162 after prefixing the suffix with 0 times the current s.m.p.Increase the value of the `max_smp_length` keyword argument to go further.\n",
      "Depth 163: [277] points, 2 living leaves...\n",
      "Depth 164: [279] points, 2 living leaves...\n",
      "Depth 165: [281] points, 2 living leaves...\n",
      "Depth 166: [282] points, 1 living leaves...\n",
      "Depth 167: [283] points, 1 living leaves...\n",
      "\u001b[34m\u001b[1mNew candidate s.m.p. found\u001b[22m\u001b[39m because ⟨v_14*, v⟩ - 1 = 0.012929537529099866 > 1.0e-9:\n",
      "\u001b[31m\u001b[1maborting\u001b[22m\u001b[39m with smp candidate PSW(1.4092410420679602, [2, 1, 1, 2, 1, 1, 2, 1, 2, 1, 1, 2, 1, 2, 1, 1, 2, 1, 1, 2, 1, 2, 1, 1, 2, 1, 2, 1, 1, 2, 1, 1, 2, 1, 2, 1, 1, 2, 1, 2, 1, 1, 2, 1, 1, 2, 1, 2, 1, 1, 2, 1, 2, 1, 1, 2, 1, 1, 2, 1, 2, 1, 1, 2, 1, 2, 1, 1, 2, 1, 1, 2, 1, 2, 1, 1, 2, 1, 2, 1, 1, 2, 1, 1, 2, 1, 2, 1, 1, 2, 1, 2, 1, 1, 2, 1, 1, 2, 1, 2, 1, 1, 2, 1, 2, 1, 1, 2, 1, 1, 2, 1, 2, 1, 1, 2, 1, 2, 1, 1, 2, 1, 1, 2, 1, 2, 1, 1, 2, 1, 2, 1, 1, 2, 1, 1, 2, 1, 2, 1, 1, 2, 1, 2, 1, 1, 2, 1, 1, 2, 1, 2, 1, 1, 2, 1, 2, 1, 1, 2, 1, 1, 2, 1, 2, 1, 1]) of length 167 after prefixing the suffix with 0 times the current s.m.p.Increase the value of the `max_smp_length` keyword argument to go further.\n",
      "Depth 168: [284] points, 1 living leaves...\n",
      "Depth 169: [285] points, 1 living leaves...\n",
      "Depth 170: [286] points, 1 living leaves...\n",
      "\u001b[34m\u001b[1mNew candidate s.m.p. found\u001b[22m\u001b[39m because ⟨v_14*, v⟩ - 1 = 0.01311428351285815 > 1.0e-9:\n",
      "\u001b[31m\u001b[1maborting\u001b[22m\u001b[39m with smp candidate PSW(1.4092346401084892, [2, 1, 1, 2, 1, 1, 2, 1, 2, 1, 1, 2, 1, 2, 1, 1, 2, 1, 1, 2, 1, 2, 1, 1, 2, 1, 2, 1, 1, 2, 1, 1, 2, 1, 2, 1, 1, 2, 1, 2, 1, 1, 2, 1, 1, 2, 1, 2, 1, 1, 2, 1, 2, 1, 1, 2, 1, 1, 2, 1, 2, 1, 1, 2, 1, 2, 1, 1, 2, 1, 1, 2, 1, 2, 1, 1, 2, 1, 2, 1, 1, 2, 1, 1, 2, 1, 2, 1, 1, 2, 1, 2, 1, 1, 2, 1, 1, 2, 1, 2, 1, 1, 2, 1, 2, 1, 1, 2, 1, 1, 2, 1, 2, 1, 1, 2, 1, 2, 1, 1, 2, 1, 1, 2, 1, 2, 1, 1, 2, 1, 2, 1, 1, 2, 1, 1, 2, 1, 2, 1, 1, 2, 1, 2, 1, 1, 2, 1, 1, 2, 1, 2, 1, 1, 2, 1, 2, 1, 1, 2, 1, 1, 2, 1, 2, 1, 1, 2, 1, 1]) of length 170 after prefixing the suffix with 0 times the current s.m.p.Increase the value of the `max_smp_length` keyword argument to go further.\n",
      "Depth 171: [288] points, 2 living leaves...\n",
      "Depth 172: [290] points, 2 living leaves...\n",
      "\u001b[34m\u001b[1mNew candidate s.m.p. found\u001b[22m\u001b[39m because ⟨v_14*, v⟩ - 1 = 9.64505360023793e-8 > 1.0e-9:\n",
      "\u001b[31m\u001b[1maborting\u001b[22m\u001b[39m with smp candidate PSW(1.4092472220136014, [2, 1, 1, 2, 1, 1, 2, 1, 2, 1, 1, 2, 1, 2, 1, 1, 2, 1, 1, 2, 1, 2, 1, 1, 2, 1, 2, 1, 1, 2, 1, 1, 2, 1, 2, 1, 1, 2, 1, 2, 1, 1, 2, 1, 1, 2, 1, 2, 1, 1, 2, 1, 2, 1, 1, 2, 1, 1, 2, 1, 2, 1, 1, 2, 1, 2, 1, 1, 2, 1, 1, 2, 1, 2, 1, 1, 2, 1, 2, 1, 1, 2, 1, 1, 2, 1, 2, 1, 1, 2, 1, 2, 1, 1, 2, 1, 1, 2, 1, 2, 1, 1, 2, 1, 2, 1, 1, 2, 1, 1, 2, 1, 2, 1, 1, 2, 1, 2, 1, 1, 2, 1, 1, 2, 1, 2, 1, 1, 2, 1, 2, 1, 1, 2, 1, 1, 2, 1, 2, 1, 1, 2, 1, 2, 1, 1, 2, 1, 1, 2, 1, 2, 1, 1, 2, 1, 2, 1, 1, 2, 1, 1, 2, 1, 2, 1, 1, 2, 1, 1, 2, 1]) of length 172 after prefixing the suffix with 0 times the current s.m.p.Increase the value of the `max_smp_length` keyword argument to go further.\n",
      "\u001b[34m\u001b[1mNew candidate s.m.p. found\u001b[22m\u001b[39m because ⟨v_14*, v⟩ - 1 = 0.012920091635346465 > 1.0e-9:\n",
      "\u001b[31m\u001b[1maborting\u001b[22m\u001b[39m with smp candidate PSW(1.4092412261509835, [2, 1, 1, 2, 1, 1, 2, 1, 2, 1, 1, 2, 1, 2, 1, 1, 2, 1, 1, 2, 1, 2, 1, 1, 2, 1, 2, 1, 1, 2, 1, 1, 2, 1, 2, 1, 1, 2, 1, 2, 1, 1, 2, 1, 1, 2, 1, 2, 1, 1, 2, 1, 2, 1, 1, 2, 1, 1, 2, 1, 2, 1, 1, 2, 1, 2, 1, 1, 2, 1, 1, 2, 1, 2, 1, 1, 2, 1, 2, 1, 1, 2, 1, 1, 2, 1, 2, 1, 1, 2, 1, 2, 1, 1, 2, 1, 1, 2, 1, 2, 1, 1, 2, 1, 2, 1, 1, 2, 1, 1, 2, 1, 2, 1, 1, 2, 1, 2, 1, 1, 2, 1, 1, 2, 1, 2, 1, 1, 2, 1, 2, 1, 1, 2, 1, 1, 2, 1, 2, 1, 1, 2, 1, 2, 1, 1, 2, 1, 1, 2, 1, 2, 1, 1, 2, 1, 2, 1, 1, 2, 1, 1, 2, 1, 2, 1, 1, 2, 1, 2, 1, 1]) of length 172 after prefixing the suffix with 0 times the current s.m.p.Increase the value of the `max_smp_length` keyword argument to go further.\n",
      "Depth 173: [292] points, 2 living leaves...\n",
      "Depth 174: [294] points, 2 living leaves...\n",
      "Depth 175: [296] points, 2 living leaves...\n",
      "\u001b[34m\u001b[1mNew candidate s.m.p. found\u001b[22m\u001b[39m because ⟨v_14*, v⟩ - 1 = 0.012929538907390459 > 1.0e-9:\n",
      "\u001b[31m\u001b[1maborting\u001b[22m\u001b[39m with smp candidate PSW(1.4092413245340516, [2, 1, 1, 2, 1, 1, 2, 1, 2, 1, 1, 2, 1, 2, 1, 1, 2, 1, 1, 2, 1, 2, 1, 1, 2, 1, 2, 1, 1, 2, 1, 1, 2, 1, 2, 1, 1, 2, 1, 2, 1, 1, 2, 1, 1, 2, 1, 2, 1, 1, 2, 1, 2, 1, 1, 2, 1, 1, 2, 1, 2, 1, 1, 2, 1, 2, 1, 1, 2, 1, 1, 2, 1, 2, 1, 1, 2, 1, 2, 1, 1, 2, 1, 1, 2, 1, 2, 1, 1, 2, 1, 2, 1, 1, 2, 1, 1, 2, 1, 2, 1, 1, 2, 1, 2, 1, 1, 2, 1, 1, 2, 1, 2, 1, 1, 2, 1, 2, 1, 1, 2, 1, 1, 2, 1, 2, 1, 1, 2, 1, 2, 1, 1, 2, 1, 1, 2, 1, 2, 1, 1, 2, 1, 2, 1, 1, 2, 1, 1, 2, 1, 2, 1, 1, 2, 1, 2, 1, 1, 2, 1, 1, 2, 1, 2, 1, 1, 2, 1, 1, 2, 1, 2, 1, 1]) of length 175 after prefixing the suffix with 0 times the current s.m.p.Increase the value of the `max_smp_length` keyword argument to go further.\n",
      "\u001b[34m\u001b[1mNew candidate s.m.p. found\u001b[22m\u001b[39m because ⟨v_14*, v⟩ - 1 = 0.013114153993133426 > 1.0e-9:\n",
      "\u001b[31m\u001b[1maborting\u001b[22m\u001b[39m with smp candidate PSW(1.4092350042604938, [2, 1, 1, 2, 1, 1, 2, 1, 2, 1, 1, 2, 1, 2, 1, 1, 2, 1, 1, 2, 1, 2, 1, 1, 2, 1, 2, 1, 1, 2, 1, 1, 2, 1, 2, 1, 1, 2, 1, 2, 1, 1, 2, 1, 1, 2, 1, 2, 1, 1, 2, 1, 2, 1, 1, 2, 1, 1, 2, 1, 2, 1, 1, 2, 1, 2, 1, 1, 2, 1, 1, 2, 1, 2, 1, 1, 2, 1, 2, 1, 1, 2, 1, 1, 2, 1, 2, 1, 1, 2, 1, 2, 1, 1, 2, 1, 1, 2, 1, 2, 1, 1, 2, 1, 2, 1, 1, 2, 1, 1, 2, 1, 2, 1, 1, 2, 1, 2, 1, 1, 2, 1, 1, 2, 1, 2, 1, 1, 2, 1, 2, 1, 1, 2, 1, 1, 2, 1, 2, 1, 1, 2, 1, 2, 1, 1, 2, 1, 1, 2, 1, 2, 1, 1, 2, 1, 2, 1, 1, 2, 1, 1, 2, 1, 2, 1, 1, 2, 1, 2, 1, 1, 2, 1, 1]) of length 175 after prefixing the suffix with 0 times the current s.m.p.Increase the value of the `max_smp_length` keyword argument to go further.\n",
      "Depth 176: [298] points, 2 living leaves...\n"
     ]
    },
    {
     "name": "stdout",
     "output_type": "stream",
     "text": [
      "Depth 177: [300] points, 2 living leaves...\n",
      "Depth 178: [302] points, 2 living leaves...\n",
      "Depth 179: [303] points, 1 living leaves...\n",
      "Depth 180: [304] points, 1 living leaves...\n",
      "\u001b[34m\u001b[1mNew candidate s.m.p. found\u001b[22m\u001b[39m because ⟨v_14*, v⟩ - 1 = 0.012929537529058566 > 1.0e-9:\n",
      "\u001b[31m\u001b[1maborting\u001b[22m\u001b[39m with smp candidate PSW(1.409241488399691, [2, 1, 1, 2, 1, 1, 2, 1, 2, 1, 1, 2, 1, 2, 1, 1, 2, 1, 1, 2, 1, 2, 1, 1, 2, 1, 2, 1, 1, 2, 1, 1, 2, 1, 2, 1, 1, 2, 1, 2, 1, 1, 2, 1, 1, 2, 1, 2, 1, 1, 2, 1, 2, 1, 1, 2, 1, 1, 2, 1, 2, 1, 1, 2, 1, 2, 1, 1, 2, 1, 1, 2, 1, 2, 1, 1, 2, 1, 2, 1, 1, 2, 1, 1, 2, 1, 2, 1, 1, 2, 1, 2, 1, 1, 2, 1, 1, 2, 1, 2, 1, 1, 2, 1, 2, 1, 1, 2, 1, 1, 2, 1, 2, 1, 1, 2, 1, 2, 1, 1, 2, 1, 1, 2, 1, 2, 1, 1, 2, 1, 2, 1, 1, 2, 1, 1, 2, 1, 2, 1, 1, 2, 1, 2, 1, 1, 2, 1, 1, 2, 1, 2, 1, 1, 2, 1, 2, 1, 1, 2, 1, 1, 2, 1, 2, 1, 1, 2, 1, 2, 1, 1, 2, 1, 1, 2, 1, 2, 1, 1]) of length 180 after prefixing the suffix with 0 times the current s.m.p.Increase the value of the `max_smp_length` keyword argument to go further.\n",
      "Depth 181: [305] points, 1 living leaves...\n",
      "Depth 182: [306] points, 1 living leaves...\n",
      "Depth 183: [307] points, 1 living leaves...\n",
      "\u001b[34m\u001b[1mNew candidate s.m.p. found\u001b[22m\u001b[39m because ⟨v_14*, v⟩ - 1 = 0.013114283512816849 > 1.0e-9:\n",
      "\u001b[31m\u001b[1maborting\u001b[22m\u001b[39m with smp candidate PSW(1.409235533904499, [2, 1, 1, 2, 1, 1, 2, 1, 2, 1, 1, 2, 1, 2, 1, 1, 2, 1, 1, 2, 1, 2, 1, 1, 2, 1, 2, 1, 1, 2, 1, 1, 2, 1, 2, 1, 1, 2, 1, 2, 1, 1, 2, 1, 1, 2, 1, 2, 1, 1, 2, 1, 2, 1, 1, 2, 1, 1, 2, 1, 2, 1, 1, 2, 1, 2, 1, 1, 2, 1, 1, 2, 1, 2, 1, 1, 2, 1, 2, 1, 1, 2, 1, 1, 2, 1, 2, 1, 1, 2, 1, 2, 1, 1, 2, 1, 1, 2, 1, 2, 1, 1, 2, 1, 2, 1, 1, 2, 1, 1, 2, 1, 2, 1, 1, 2, 1, 2, 1, 1, 2, 1, 1, 2, 1, 2, 1, 1, 2, 1, 2, 1, 1, 2, 1, 1, 2, 1, 2, 1, 1, 2, 1, 2, 1, 1, 2, 1, 1, 2, 1, 2, 1, 1, 2, 1, 2, 1, 1, 2, 1, 1, 2, 1, 2, 1, 1, 2, 1, 2, 1, 1, 2, 1, 1, 2, 1, 2, 1, 1, 2, 1, 1]) of length 183 after prefixing the suffix with 0 times the current s.m.p.Increase the value of the `max_smp_length` keyword argument to go further.\n",
      "Depth 184: [309] points, 2 living leaves...\n",
      "Depth 185: [311] points, 2 living leaves...\n",
      "\u001b[34m\u001b[1mNew candidate s.m.p. found\u001b[22m\u001b[39m because ⟨v_14*, v⟩ - 1 = 9.645049514617199e-8 > 1.0e-9:\n",
      "\u001b[31m\u001b[1maborting\u001b[22m\u001b[39m with smp candidate PSW(1.4092472220167456, [2, 1, 1, 2, 1, 1, 2, 1, 2, 1, 1, 2, 1, 2, 1, 1, 2, 1, 1, 2, 1, 2, 1, 1, 2, 1, 2, 1, 1, 2, 1, 1, 2, 1, 2, 1, 1, 2, 1, 2, 1, 1, 2, 1, 1, 2, 1, 2, 1, 1, 2, 1, 2, 1, 1, 2, 1, 1, 2, 1, 2, 1, 1, 2, 1, 2, 1, 1, 2, 1, 1, 2, 1, 2, 1, 1, 2, 1, 2, 1, 1, 2, 1, 1, 2, 1, 2, 1, 1, 2, 1, 2, 1, 1, 2, 1, 1, 2, 1, 2, 1, 1, 2, 1, 2, 1, 1, 2, 1, 1, 2, 1, 2, 1, 1, 2, 1, 2, 1, 1, 2, 1, 1, 2, 1, 2, 1, 1, 2, 1, 2, 1, 1, 2, 1, 1, 2, 1, 2, 1, 1, 2, 1, 2, 1, 1, 2, 1, 1, 2, 1, 2, 1, 1, 2, 1, 2, 1, 1, 2, 1, 1, 2, 1, 2, 1, 1, 2, 1, 2, 1, 1, 2, 1, 1, 2, 1, 2, 1, 1, 2, 1, 1, 2, 1]) of length 185 after prefixing the suffix with 0 times the current s.m.p.Increase the value of the `max_smp_length` keyword argument to go further.\n",
      "\u001b[34m\u001b[1mNew candidate s.m.p. found\u001b[22m\u001b[39m because ⟨v_14*, v⟩ - 1 = 0.012920091635305164 > 1.0e-9:\n",
      "\u001b[31m\u001b[1maborting\u001b[22m\u001b[39m with smp candidate PSW(1.409241647484181, [2, 1, 1, 2, 1, 1, 2, 1, 2, 1, 1, 2, 1, 2, 1, 1, 2, 1, 1, 2, 1, 2, 1, 1, 2, 1, 2, 1, 1, 2, 1, 1, 2, 1, 2, 1, 1, 2, 1, 2, 1, 1, 2, 1, 1, 2, 1, 2, 1, 1, 2, 1, 2, 1, 1, 2, 1, 1, 2, 1, 2, 1, 1, 2, 1, 2, 1, 1, 2, 1, 1, 2, 1, 2, 1, 1, 2, 1, 2, 1, 1, 2, 1, 1, 2, 1, 2, 1, 1, 2, 1, 2, 1, 1, 2, 1, 1, 2, 1, 2, 1, 1, 2, 1, 2, 1, 1, 2, 1, 1, 2, 1, 2, 1, 1, 2, 1, 2, 1, 1, 2, 1, 1, 2, 1, 2, 1, 1, 2, 1, 2, 1, 1, 2, 1, 1, 2, 1, 2, 1, 1, 2, 1, 2, 1, 1, 2, 1, 1, 2, 1, 2, 1, 1, 2, 1, 2, 1, 1, 2, 1, 1, 2, 1, 2, 1, 1, 2, 1, 2, 1, 1, 2, 1, 1, 2, 1, 2, 1, 1, 2, 1, 2, 1, 1]) of length 185 after prefixing the suffix with 0 times the current s.m.p.Increase the value of the `max_smp_length` keyword argument to go further.\n",
      "Depth 186: [313] points, 2 living leaves...\n",
      "Depth 187: [315] points, 2 living leaves...\n",
      "Depth 188: [317] points, 2 living leaves...\n",
      "\u001b[34m\u001b[1mNew candidate s.m.p. found\u001b[22m\u001b[39m because ⟨v_14*, v⟩ - 1 = 0.012929538907348936 > 1.0e-9:\n",
      "\u001b[31m\u001b[1maborting\u001b[22m\u001b[39m with smp candidate PSW(1.4092417323407882, [2, 1, 1, 2, 1, 1, 2, 1, 2, 1, 1, 2, 1, 2, 1, 1, 2, 1, 1, 2, 1, 2, 1, 1, 2, 1, 2, 1, 1, 2, 1, 1, 2, 1, 2, 1, 1, 2, 1, 2, 1, 1, 2, 1, 1, 2, 1, 2, 1, 1, 2, 1, 2, 1, 1, 2, 1, 1, 2, 1, 2, 1, 1, 2, 1, 2, 1, 1, 2, 1, 1, 2, 1, 2, 1, 1, 2, 1, 2, 1, 1, 2, 1, 1, 2, 1, 2, 1, 1, 2, 1, 2, 1, 1, 2, 1, 1, 2, 1, 2, 1, 1, 2, 1, 2, 1, 1, 2, 1, 1, 2, 1, 2, 1, 1, 2, 1, 2, 1, 1, 2, 1, 1, 2, 1, 2, 1, 1, 2, 1, 2, 1, 1, 2, 1, 1, 2, 1, 2, 1, 1, 2, 1, 2, 1, 1, 2, 1, 1, 2, 1, 2, 1, 1, 2, 1, 2, 1, 1, 2, 1, 1, 2, 1, 2, 1, 1, 2, 1, 2, 1, 1, 2, 1, 1, 2, 1, 2, 1, 1, 2, 1, 1, 2, 1, 2, 1, 1]) of length 188 after prefixing the suffix with 0 times the current s.m.p.Increase the value of the `max_smp_length` keyword argument to go further.\n",
      "\u001b[34m\u001b[1mNew candidate s.m.p. found\u001b[22m\u001b[39m because ⟨v_14*, v⟩ - 1 = 0.013114153993092126 > 1.0e-9:\n",
      "\u001b[31m\u001b[1maborting\u001b[22m\u001b[39m with smp candidate PSW(1.4092358491048083, [2, 1, 1, 2, 1, 1, 2, 1, 2, 1, 1, 2, 1, 2, 1, 1, 2, 1, 1, 2, 1, 2, 1, 1, 2, 1, 2, 1, 1, 2, 1, 1, 2, 1, 2, 1, 1, 2, 1, 2, 1, 1, 2, 1, 1, 2, 1, 2, 1, 1, 2, 1, 2, 1, 1, 2, 1, 1, 2, 1, 2, 1, 1, 2, 1, 2, 1, 1, 2, 1, 1, 2, 1, 2, 1, 1, 2, 1, 2, 1, 1, 2, 1, 1, 2, 1, 2, 1, 1, 2, 1, 2, 1, 1, 2, 1, 1, 2, 1, 2, 1, 1, 2, 1, 2, 1, 1, 2, 1, 1, 2, 1, 2, 1, 1, 2, 1, 2, 1, 1, 2, 1, 1, 2, 1, 2, 1, 1, 2, 1, 2, 1, 1, 2, 1, 1, 2, 1, 2, 1, 1, 2, 1, 2, 1, 1, 2, 1, 1, 2, 1, 2, 1, 1, 2, 1, 2, 1, 1, 2, 1, 1, 2, 1, 2, 1, 1, 2, 1, 2, 1, 1, 2, 1, 1, 2, 1, 2, 1, 1, 2, 1, 2, 1, 1, 2, 1, 1]) of length 188 after prefixing the suffix with 0 times the current s.m.p.Increase the value of the `max_smp_length` keyword argument to go further.\n",
      "Depth 189: [319] points, 2 living leaves...\n",
      "Depth 190: [321] points, 2 living leaves...\n",
      "Depth 191: [323] points, 2 living leaves...\n",
      "Depth 192: [324] points, 1 living leaves...\n",
      "Depth 193: [325] points, 1 living leaves...\n",
      "\u001b[34m\u001b[1mNew candidate s.m.p. found\u001b[22m\u001b[39m because ⟨v_14*, v⟩ - 1 = 0.012929537529017043 > 1.0e-9:\n",
      "\u001b[31m\u001b[1maborting\u001b[22m\u001b[39m with smp candidate PSW(1.4092418746039452, [2, 1, 1, 2, 1, 1, 2, 1, 2, 1, 1, 2, 1, 2, 1, 1, 2, 1, 1, 2, 1, 2, 1, 1, 2, 1, 2, 1, 1, 2, 1, 1, 2, 1, 2, 1, 1, 2, 1, 2, 1, 1, 2, 1, 1, 2, 1, 2, 1, 1, 2, 1, 2, 1, 1, 2, 1, 1, 2, 1, 2, 1, 1, 2, 1, 2, 1, 1, 2, 1, 1, 2, 1, 2, 1, 1, 2, 1, 2, 1, 1, 2, 1, 1, 2, 1, 2, 1, 1, 2, 1, 2, 1, 1, 2, 1, 1, 2, 1, 2, 1, 1, 2, 1, 2, 1, 1, 2, 1, 1, 2, 1, 2, 1, 1, 2, 1, 2, 1, 1, 2, 1, 1, 2, 1, 2, 1, 1, 2, 1, 2, 1, 1, 2, 1, 1, 2, 1, 2, 1, 1, 2, 1, 2, 1, 1, 2, 1, 1, 2, 1, 2, 1, 1, 2, 1, 2, 1, 1, 2, 1, 1, 2, 1, 2, 1, 1, 2, 1, 2, 1, 1, 2, 1, 1, 2, 1, 2, 1, 1, 2, 1, 2, 1, 1, 2, 1, 1, 2, 1, 2, 1, 1]) of length 193 after prefixing the suffix with 0 times the current s.m.p.Increase the value of the `max_smp_length` keyword argument to go further.\n",
      "Depth 194: [326] points, 1 living leaves...\n",
      "Depth 195: [327] points, 1 living leaves...\n",
      "Depth 196: [328] points, 1 living leaves...\n",
      "\u001b[34m\u001b[1mNew candidate s.m.p. found\u001b[22m\u001b[39m because ⟨v_14*, v⟩ - 1 = 0.013114283512775327 > 1.0e-9:\n",
      "\u001b[31m\u001b[1maborting\u001b[22m\u001b[39m with smp candidate PSW(1.4092363091361912, [2, 1, 1, 2, 1, 1, 2, 1, 2, 1, 1, 2, 1, 2, 1, 1, 2, 1, 1, 2, 1, 2, 1, 1, 2, 1, 2, 1, 1, 2, 1, 1, 2, 1, 2, 1, 1, 2, 1, 2, 1, 1, 2, 1, 1, 2, 1, 2, 1, 1, 2, 1, 2, 1, 1, 2, 1, 1, 2, 1, 2, 1, 1, 2, 1, 2, 1, 1, 2, 1, 1, 2, 1, 2, 1, 1, 2, 1, 2, 1, 1, 2, 1, 1, 2, 1, 2, 1, 1, 2, 1, 2, 1, 1, 2, 1, 1, 2, 1, 2, 1, 1, 2, 1, 2, 1, 1, 2, 1, 1, 2, 1, 2, 1, 1, 2, 1, 2, 1, 1, 2, 1, 1, 2, 1, 2, 1, 1, 2, 1, 2, 1, 1, 2, 1, 1, 2, 1, 2, 1, 1, 2, 1, 2, 1, 1, 2, 1, 1, 2, 1, 2, 1, 1, 2, 1, 2, 1, 1, 2, 1, 1, 2, 1, 2, 1, 1, 2, 1, 2, 1, 1, 2, 1, 1, 2, 1, 2, 1, 1, 2, 1, 2, 1, 1, 2, 1, 1, 2, 1, 2, 1, 1, 2, 1, 1]) of length 196 after prefixing the suffix with 0 times the current s.m.p.Increase the value of the `max_smp_length` keyword argument to go further.\n",
      "Depth 197: [330] points, 2 living leaves...\n",
      "Depth 198: [332] points, 2 living leaves...\n",
      "\u001b[34m\u001b[1mNew candidate s.m.p. found\u001b[22m\u001b[39m because ⟨v_14*, v⟩ - 1 = 9.645045406792008e-8 > 1.0e-9:\n",
      "\u001b[31m\u001b[1maborting\u001b[22m\u001b[39m with smp candidate PSW(1.4092472220194767, [2, 1, 1, 2, 1, 1, 2, 1, 2, 1, 1, 2, 1, 2, 1, 1, 2, 1, 1, 2, 1, 2, 1, 1, 2, 1, 2, 1, 1, 2, 1, 1, 2, 1, 2, 1, 1, 2, 1, 2, 1, 1, 2, 1, 1, 2, 1, 2, 1, 1, 2, 1, 2, 1, 1, 2, 1, 1, 2, 1, 2, 1, 1, 2, 1, 2, 1, 1, 2, 1, 1, 2, 1, 2, 1, 1, 2, 1, 2, 1, 1, 2, 1, 1, 2, 1, 2, 1, 1, 2, 1, 2, 1, 1, 2, 1, 1, 2, 1, 2, 1, 1, 2, 1, 2, 1, 1, 2, 1, 1, 2, 1, 2, 1, 1, 2, 1, 2, 1, 1, 2, 1, 1, 2, 1, 2, 1, 1, 2, 1, 2, 1, 1, 2, 1, 1, 2, 1, 2, 1, 1, 2, 1, 2, 1, 1, 2, 1, 1, 2, 1, 2, 1, 1, 2, 1, 2, 1, 1, 2, 1, 1, 2, 1, 2, 1, 1, 2, 1, 2, 1, 1, 2, 1, 1, 2, 1, 2, 1, 1, 2, 1, 2, 1, 1, 2, 1, 1, 2, 1, 2, 1, 1, 2, 1, 1, 2, 1]) of length 198 after prefixing the suffix with 0 times the current s.m.p.Increase the value of the `max_smp_length` keyword argument to go further.\n",
      "\u001b[34m\u001b[1mNew candidate s.m.p. found\u001b[22m\u001b[39m because ⟨v_14*, v⟩ - 1 = 0.012920091635263642 > 1.0e-9:\n",
      "\u001b[31m\u001b[1maborting\u001b[22m\u001b[39m with smp candidate PSW(1.4092420134908992, [2, 1, 1, 2, 1, 1, 2, 1, 2, 1, 1, 2, 1, 2, 1, 1, 2, 1, 1, 2, 1, 2, 1, 1, 2, 1, 2, 1, 1, 2, 1, 1, 2, 1, 2, 1, 1, 2, 1, 2, 1, 1, 2, 1, 1, 2, 1, 2, 1, 1, 2, 1, 2, 1, 1, 2, 1, 1, 2, 1, 2, 1, 1, 2, 1, 2, 1, 1, 2, 1, 1, 2, 1, 2, 1, 1, 2, 1, 2, 1, 1, 2, 1, 1, 2, 1, 2, 1, 1, 2, 1, 2, 1, 1, 2, 1, 1, 2, 1, 2, 1, 1, 2, 1, 2, 1, 1, 2, 1, 1, 2, 1, 2, 1, 1, 2, 1, 2, 1, 1, 2, 1, 1, 2, 1, 2, 1, 1, 2, 1, 2, 1, 1, 2, 1, 1, 2, 1, 2, 1, 1, 2, 1, 2, 1, 1, 2, 1, 1, 2, 1, 2, 1, 1, 2, 1, 2, 1, 1, 2, 1, 1, 2, 1, 2, 1, 1, 2, 1, 2, 1, 1, 2, 1, 1, 2, 1, 2, 1, 1, 2, 1, 2, 1, 1, 2, 1, 1, 2, 1, 2, 1, 1, 2, 1, 2, 1, 1]) of length 198 after prefixing the suffix with 0 times the current s.m.p.Increase the value of the `max_smp_length` keyword argument to go further.\n",
      "Depth 199: [334] points, 2 living leaves...\n",
      "Depth 200: [336] points, 2 living leaves...\n",
      "Depth 201: [338] points, 2 living leaves...\n",
      "\u001b[34m\u001b[1mNew candidate s.m.p. found\u001b[22m\u001b[39m because ⟨v_14*, v⟩ - 1 = 0.012929538907307414 > 1.0e-9:\n",
      "\u001b[31m\u001b[1maborting\u001b[22m\u001b[39m with smp candidate PSW(1.4092420873965008, [2, 1, 1, 2, 1, 1, 2, 1, 2, 1, 1, 2, 1, 2, 1, 1, 2, 1, 1, 2, 1, 2, 1, 1, 2, 1, 2, 1, 1, 2, 1, 1, 2, 1, 2, 1, 1, 2, 1, 2, 1, 1, 2, 1, 1, 2, 1, 2, 1, 1, 2, 1, 2, 1, 1, 2, 1, 1, 2, 1, 2, 1, 1, 2, 1, 2, 1, 1, 2, 1, 1, 2, 1, 2, 1, 1, 2, 1, 2, 1, 1, 2, 1, 1, 2, 1, 2, 1, 1, 2, 1, 2, 1, 1, 2, 1, 1, 2, 1, 2, 1, 1, 2, 1, 2, 1, 1, 2, 1, 1, 2, 1, 2, 1, 1, 2, 1, 2, 1, 1, 2, 1, 1, 2, 1, 2, 1, 1, 2, 1, 2, 1, 1, 2, 1, 1, 2, 1, 2, 1, 1, 2, 1, 2, 1, 1, 2, 1, 1, 2, 1, 2, 1, 1, 2, 1, 2, 1, 1, 2, 1, 1, 2, 1, 2, 1, 1, 2, 1, 2, 1, 1, 2, 1, 1, 2, 1, 2, 1, 1, 2, 1, 2, 1, 1, 2, 1, 1, 2, 1, 2, 1, 1, 2, 1, 1, 2, 1, 2, 1, 1]) of length 201 after prefixing the suffix with 0 times the current s.m.p.Increase the value of the `max_smp_length` keyword argument to go further.\n",
      "\u001b[34m\u001b[1mNew candidate s.m.p. found\u001b[22m\u001b[39m because ⟨v_14*, v⟩ - 1 = 0.013114153993050603 > 1.0e-9:\n",
      "\u001b[31m\u001b[1maborting\u001b[22m\u001b[39m with smp candidate PSW(1.4092365846661912, [2, 1, 1, 2, 1, 1, 2, 1, 2, 1, 1, 2, 1, 2, 1, 1, 2, 1, 1, 2, 1, 2, 1, 1, 2, 1, 2, 1, 1, 2, 1, 1, 2, 1, 2, 1, 1, 2, 1, 2, 1, 1, 2, 1, 1, 2, 1, 2, 1, 1, 2, 1, 2, 1, 1, 2, 1, 1, 2, 1, 2, 1, 1, 2, 1, 2, 1, 1, 2, 1, 1, 2, 1, 2, 1, 1, 2, 1, 2, 1, 1, 2, 1, 1, 2, 1, 2, 1, 1, 2, 1, 2, 1, 1, 2, 1, 1, 2, 1, 2, 1, 1, 2, 1, 2, 1, 1, 2, 1, 1, 2, 1, 2, 1, 1, 2, 1, 2, 1, 1, 2, 1, 1, 2, 1, 2, 1, 1, 2, 1, 2, 1, 1, 2, 1, 1, 2, 1, 2, 1, 1, 2, 1, 2, 1, 1, 2, 1, 1, 2, 1, 2, 1, 1, 2, 1, 2, 1, 1, 2, 1, 1, 2, 1, 2, 1, 1, 2, 1, 2, 1, 1, 2, 1, 1, 2, 1, 2, 1, 1, 2, 1, 2, 1, 1, 2, 1, 1, 2, 1, 2, 1, 1, 2, 1, 2, 1, 1, 2, 1, 1]) of length 201 after prefixing the suffix with 0 times the current s.m.p.Increase the value of the `max_smp_length` keyword argument to go further.\n",
      "Depth 202: [340] points, 2 living leaves...\n"
     ]
    },
    {
     "name": "stdout",
     "output_type": "stream",
     "text": [
      "Depth 203: [342] points, 2 living leaves...\n",
      "Depth 204: [344] points, 2 living leaves...\n",
      "Depth 205: [345] points, 1 living leaves...\n",
      "Depth 206: [346] points, 1 living leaves...\n",
      "\u001b[34m\u001b[1mNew candidate s.m.p. found\u001b[22m\u001b[39m because ⟨v_14*, v⟩ - 1 = 0.012929537528975743 > 1.0e-9:\n",
      "\u001b[31m\u001b[1maborting\u001b[22m\u001b[39m with smp candidate PSW(1.40924221206406, [2, 1, 1, 2, 1, 1, 2, 1, 2, 1, 1, 2, 1, 2, 1, 1, 2, 1, 1, 2, 1, 2, 1, 1, 2, 1, 2, 1, 1, 2, 1, 1, 2, 1, 2, 1, 1, 2, 1, 2, 1, 1, 2, 1, 1, 2, 1, 2, 1, 1, 2, 1, 2, 1, 1, 2, 1, 1, 2, 1, 2, 1, 1, 2, 1, 2, 1, 1, 2, 1, 1, 2, 1, 2, 1, 1, 2, 1, 2, 1, 1, 2, 1, 1, 2, 1, 2, 1, 1, 2, 1, 2, 1, 1, 2, 1, 1, 2, 1, 2, 1, 1, 2, 1, 2, 1, 1, 2, 1, 1, 2, 1, 2, 1, 1, 2, 1, 2, 1, 1, 2, 1, 1, 2, 1, 2, 1, 1, 2, 1, 2, 1, 1, 2, 1, 1, 2, 1, 2, 1, 1, 2, 1, 2, 1, 1, 2, 1, 1, 2, 1, 2, 1, 1, 2, 1, 2, 1, 1, 2, 1, 1, 2, 1, 2, 1, 1, 2, 1, 2, 1, 1, 2, 1, 1, 2, 1, 2, 1, 1, 2, 1, 2, 1, 1, 2, 1, 1, 2, 1, 2, 1, 1, 2, 1, 2, 1, 1, 2, 1, 1, 2, 1, 2, 1, 1]) of length 206 after prefixing the suffix with 0 times the current s.m.p.Increase the value of the `max_smp_length` keyword argument to go further.\n",
      "Depth 207: [347] points, 1 living leaves...\n",
      "Depth 208: [348] points, 1 living leaves...\n",
      "Depth 209: [349] points, 1 living leaves...\n",
      "\u001b[34m\u001b[1mNew candidate s.m.p. found\u001b[22m\u001b[39m because ⟨v_14*, v⟩ - 1 = 0.013114283512734026 > 1.0e-9:\n",
      "\u001b[31m\u001b[1maborting\u001b[22m\u001b[39m with smp candidate PSW(1.4092369879279274, [2, 1, 1, 2, 1, 1, 2, 1, 2, 1, 1, 2, 1, 2, 1, 1, 2, 1, 1, 2, 1, 2, 1, 1, 2, 1, 2, 1, 1, 2, 1, 1, 2, 1, 2, 1, 1, 2, 1, 2, 1, 1, 2, 1, 1, 2, 1, 2, 1, 1, 2, 1, 2, 1, 1, 2, 1, 1, 2, 1, 2, 1, 1, 2, 1, 2, 1, 1, 2, 1, 1, 2, 1, 2, 1, 1, 2, 1, 2, 1, 1, 2, 1, 1, 2, 1, 2, 1, 1, 2, 1, 2, 1, 1, 2, 1, 1, 2, 1, 2, 1, 1, 2, 1, 2, 1, 1, 2, 1, 1, 2, 1, 2, 1, 1, 2, 1, 2, 1, 1, 2, 1, 1, 2, 1, 2, 1, 1, 2, 1, 2, 1, 1, 2, 1, 1, 2, 1, 2, 1, 1, 2, 1, 2, 1, 1, 2, 1, 1, 2, 1, 2, 1, 1, 2, 1, 2, 1, 1, 2, 1, 1, 2, 1, 2, 1, 1, 2, 1, 2, 1, 1, 2, 1, 1, 2, 1, 2, 1, 1, 2, 1, 2, 1, 1, 2, 1, 1, 2, 1, 2, 1, 1, 2, 1, 2, 1, 1, 2, 1, 1, 2, 1, 2, 1, 1, 2, 1, 1]) of length 209 after prefixing the suffix with 0 times the current s.m.p.Increase the value of the `max_smp_length` keyword argument to go further.\n",
      "Depth 210: [351] points, 2 living leaves...\n",
      "Depth 211: [353] points, 2 living leaves...\n",
      "\u001b[34m\u001b[1mNew candidate s.m.p. found\u001b[22m\u001b[39m because ⟨v_14*, v⟩ - 1 = 9.645041343375738e-8 > 1.0e-9:\n",
      "\u001b[31m\u001b[1maborting\u001b[22m\u001b[39m with smp candidate PSW(1.4092472220218715, [2, 1, 1, 2, 1, 1, 2, 1, 2, 1, 1, 2, 1, 2, 1, 1, 2, 1, 1, 2, 1, 2, 1, 1, 2, 1, 2, 1, 1, 2, 1, 1, 2, 1, 2, 1, 1, 2, 1, 2, 1, 1, 2, 1, 1, 2, 1, 2, 1, 1, 2, 1, 2, 1, 1, 2, 1, 1, 2, 1, 2, 1, 1, 2, 1, 2, 1, 1, 2, 1, 1, 2, 1, 2, 1, 1, 2, 1, 2, 1, 1, 2, 1, 1, 2, 1, 2, 1, 1, 2, 1, 2, 1, 1, 2, 1, 1, 2, 1, 2, 1, 1, 2, 1, 2, 1, 1, 2, 1, 1, 2, 1, 2, 1, 1, 2, 1, 2, 1, 1, 2, 1, 1, 2, 1, 2, 1, 1, 2, 1, 2, 1, 1, 2, 1, 1, 2, 1, 2, 1, 1, 2, 1, 2, 1, 1, 2, 1, 1, 2, 1, 2, 1, 1, 2, 1, 2, 1, 1, 2, 1, 1, 2, 1, 2, 1, 1, 2, 1, 2, 1, 1, 2, 1, 1, 2, 1, 2, 1, 1, 2, 1, 2, 1, 1, 2, 1, 1, 2, 1, 2, 1, 1, 2, 1, 2, 1, 1, 2, 1, 1, 2, 1, 2, 1, 1, 2, 1, 1, 2, 1]) of length 211 after prefixing the suffix with 0 times the current s.m.p.Increase the value of the `max_smp_length` keyword argument to go further.\n",
      "\u001b[34m\u001b[1mNew candidate s.m.p. found\u001b[22m\u001b[39m because ⟨v_14*, v⟩ - 1 = 0.012920091635222564 > 1.0e-9:\n",
      "\u001b[31m\u001b[1maborting\u001b[22m\u001b[39m with smp candidate PSW(1.4092423343973415, [2, 1, 1, 2, 1, 1, 2, 1, 2, 1, 1, 2, 1, 2, 1, 1, 2, 1, 1, 2, 1, 2, 1, 1, 2, 1, 2, 1, 1, 2, 1, 1, 2, 1, 2, 1, 1, 2, 1, 2, 1, 1, 2, 1, 1, 2, 1, 2, 1, 1, 2, 1, 2, 1, 1, 2, 1, 1, 2, 1, 2, 1, 1, 2, 1, 2, 1, 1, 2, 1, 1, 2, 1, 2, 1, 1, 2, 1, 2, 1, 1, 2, 1, 1, 2, 1, 2, 1, 1, 2, 1, 2, 1, 1, 2, 1, 1, 2, 1, 2, 1, 1, 2, 1, 2, 1, 1, 2, 1, 1, 2, 1, 2, 1, 1, 2, 1, 2, 1, 1, 2, 1, 1, 2, 1, 2, 1, 1, 2, 1, 2, 1, 1, 2, 1, 1, 2, 1, 2, 1, 1, 2, 1, 2, 1, 1, 2, 1, 1, 2, 1, 2, 1, 1, 2, 1, 2, 1, 1, 2, 1, 1, 2, 1, 2, 1, 1, 2, 1, 2, 1, 1, 2, 1, 1, 2, 1, 2, 1, 1, 2, 1, 2, 1, 1, 2, 1, 1, 2, 1, 2, 1, 1, 2, 1, 2, 1, 1, 2, 1, 1, 2, 1, 2, 1, 1, 2, 1, 2, 1, 1]) of length 211 after prefixing the suffix with 0 times the current s.m.p.Increase the value of the `max_smp_length` keyword argument to go further.\n",
      "Depth 212: [355] points, 2 living leaves...\n",
      "Depth 213: [357] points, 2 living leaves...\n",
      "Depth 214: [359] points, 2 living leaves...\n",
      "\u001b[34m\u001b[1mNew candidate s.m.p. found\u001b[22m\u001b[39m because ⟨v_14*, v⟩ - 1 = 0.012929538907266336 > 1.0e-9:\n",
      "\u001b[31m\u001b[1maborting\u001b[22m\u001b[39m with smp candidate PSW(1.4092423993146772, [2, 1, 1, 2, 1, 1, 2, 1, 2, 1, 1, 2, 1, 2, 1, 1, 2, 1, 1, 2, 1, 2, 1, 1, 2, 1, 2, 1, 1, 2, 1, 1, 2, 1, 2, 1, 1, 2, 1, 2, 1, 1, 2, 1, 1, 2, 1, 2, 1, 1, 2, 1, 2, 1, 1, 2, 1, 1, 2, 1, 2, 1, 1, 2, 1, 2, 1, 1, 2, 1, 1, 2, 1, 2, 1, 1, 2, 1, 2, 1, 1, 2, 1, 1, 2, 1, 2, 1, 1, 2, 1, 2, 1, 1, 2, 1, 1, 2, 1, 2, 1, 1, 2, 1, 2, 1, 1, 2, 1, 1, 2, 1, 2, 1, 1, 2, 1, 2, 1, 1, 2, 1, 1, 2, 1, 2, 1, 1, 2, 1, 2, 1, 1, 2, 1, 1, 2, 1, 2, 1, 1, 2, 1, 2, 1, 1, 2, 1, 1, 2, 1, 2, 1, 1, 2, 1, 2, 1, 1, 2, 1, 1, 2, 1, 2, 1, 1, 2, 1, 2, 1, 1, 2, 1, 1, 2, 1, 2, 1, 1, 2, 1, 2, 1, 1, 2, 1, 1, 2, 1, 2, 1, 1, 2, 1, 2, 1, 1, 2, 1, 1, 2, 1, 2, 1, 1, 2, 1, 1, 2, 1, 2, 1, 1]) of length 214 after prefixing the suffix with 0 times the current s.m.p.Increase the value of the `max_smp_length` keyword argument to go further.\n",
      "\u001b[34m\u001b[1mNew candidate s.m.p. found\u001b[22m\u001b[39m because ⟨v_14*, v⟩ - 1 = 0.013114153993009525 > 1.0e-9:\n",
      "\u001b[31m\u001b[1maborting\u001b[22m\u001b[39m with smp candidate PSW(1.40923723086062, [2, 1, 1, 2, 1, 1, 2, 1, 2, 1, 1, 2, 1, 2, 1, 1, 2, 1, 1, 2, 1, 2, 1, 1, 2, 1, 2, 1, 1, 2, 1, 1, 2, 1, 2, 1, 1, 2, 1, 2, 1, 1, 2, 1, 1, 2, 1, 2, 1, 1, 2, 1, 2, 1, 1, 2, 1, 1, 2, 1, 2, 1, 1, 2, 1, 2, 1, 1, 2, 1, 1, 2, 1, 2, 1, 1, 2, 1, 2, 1, 1, 2, 1, 1, 2, 1, 2, 1, 1, 2, 1, 2, 1, 1, 2, 1, 1, 2, 1, 2, 1, 1, 2, 1, 2, 1, 1, 2, 1, 1, 2, 1, 2, 1, 1, 2, 1, 2, 1, 1, 2, 1, 1, 2, 1, 2, 1, 1, 2, 1, 2, 1, 1, 2, 1, 1, 2, 1, 2, 1, 1, 2, 1, 2, 1, 1, 2, 1, 1, 2, 1, 2, 1, 1, 2, 1, 2, 1, 1, 2, 1, 1, 2, 1, 2, 1, 1, 2, 1, 2, 1, 1, 2, 1, 1, 2, 1, 2, 1, 1, 2, 1, 2, 1, 1, 2, 1, 1, 2, 1, 2, 1, 1, 2, 1, 2, 1, 1, 2, 1, 1, 2, 1, 2, 1, 1, 2, 1, 2, 1, 1, 2, 1, 1]) of length 214 after prefixing the suffix with 0 times the current s.m.p.Increase the value of the `max_smp_length` keyword argument to go further.\n",
      "Depth 215: [361] points, 2 living leaves...\n",
      "Depth 216: [363] points, 2 living leaves...\n",
      "Depth 217: [365] points, 2 living leaves...\n",
      "Depth 218: [366] points, 1 living leaves...\n",
      "Depth 219: [367] points, 1 living leaves...\n",
      "\u001b[34m\u001b[1mNew candidate s.m.p. found\u001b[22m\u001b[39m because ⟨v_14*, v⟩ - 1 = 0.012929537528934443 > 1.0e-9:\n",
      "\u001b[31m\u001b[1maborting\u001b[22m\u001b[39m with smp candidate PSW(1.4092425094604837, [2, 1, 1, 2, 1, 1, 2, 1, 2, 1, 1, 2, 1, 2, 1, 1, 2, 1, 1, 2, 1, 2, 1, 1, 2, 1, 2, 1, 1, 2, 1, 1, 2, 1, 2, 1, 1, 2, 1, 2, 1, 1, 2, 1, 1, 2, 1, 2, 1, 1, 2, 1, 2, 1, 1, 2, 1, 1, 2, 1, 2, 1, 1, 2, 1, 2, 1, 1, 2, 1, 1, 2, 1, 2, 1, 1, 2, 1, 2, 1, 1, 2, 1, 1, 2, 1, 2, 1, 1, 2, 1, 2, 1, 1, 2, 1, 1, 2, 1, 2, 1, 1, 2, 1, 2, 1, 1, 2, 1, 1, 2, 1, 2, 1, 1, 2, 1, 2, 1, 1, 2, 1, 1, 2, 1, 2, 1, 1, 2, 1, 2, 1, 1, 2, 1, 1, 2, 1, 2, 1, 1, 2, 1, 2, 1, 1, 2, 1, 1, 2, 1, 2, 1, 1, 2, 1, 2, 1, 1, 2, 1, 1, 2, 1, 2, 1, 1, 2, 1, 2, 1, 1, 2, 1, 1, 2, 1, 2, 1, 1, 2, 1, 2, 1, 1, 2, 1, 1, 2, 1, 2, 1, 1, 2, 1, 2, 1, 1, 2, 1, 1, 2, 1, 2, 1, 1, 2, 1, 2, 1, 1, 2, 1, 1, 2, 1, 2, 1, 1]) of length 219 after prefixing the suffix with 0 times the current s.m.p.Increase the value of the `max_smp_length` keyword argument to go further.\n",
      "Depth 220: [368] points, 1 living leaves...\n",
      "Depth 221: [369] points, 1 living leaves...\n",
      "Depth 222: [370] points, 1 living leaves...\n",
      "\u001b[34m\u001b[1mNew candidate s.m.p. found\u001b[22m\u001b[39m because ⟨v_14*, v⟩ - 1 = 0.013114283512692726 > 1.0e-9:\n",
      "\u001b[31m\u001b[1maborting\u001b[22m\u001b[39m with smp candidate PSW(1.4092375872218041, [2, 1, 1, 2, 1, 1, 2, 1, 2, 1, 1, 2, 1, 2, 1, 1, 2, 1, 1, 2, 1, 2, 1, 1, 2, 1, 2, 1, 1, 2, 1, 1, 2, 1, 2, 1, 1, 2, 1, 2, 1, 1, 2, 1, 1, 2, 1, 2, 1, 1, 2, 1, 2, 1, 1, 2, 1, 1, 2, 1, 2, 1, 1, 2, 1, 2, 1, 1, 2, 1, 1, 2, 1, 2, 1, 1, 2, 1, 2, 1, 1, 2, 1, 1, 2, 1, 2, 1, 1, 2, 1, 2, 1, 1, 2, 1, 1, 2, 1, 2, 1, 1, 2, 1, 2, 1, 1, 2, 1, 1, 2, 1, 2, 1, 1, 2, 1, 2, 1, 1, 2, 1, 1, 2, 1, 2, 1, 1, 2, 1, 2, 1, 1, 2, 1, 1, 2, 1, 2, 1, 1, 2, 1, 2, 1, 1, 2, 1, 1, 2, 1, 2, 1, 1, 2, 1, 2, 1, 1, 2, 1, 1, 2, 1, 2, 1, 1, 2, 1, 2, 1, 1, 2, 1, 1, 2, 1, 2, 1, 1, 2, 1, 2, 1, 1, 2, 1, 1, 2, 1, 2, 1, 1, 2, 1, 2, 1, 1, 2, 1, 1, 2, 1, 2, 1, 1, 2, 1, 2, 1, 1, 2, 1, 1, 2, 1, 2, 1, 1, 2, 1, 1]) of length 222 after prefixing the suffix with 0 times the current s.m.p.Increase the value of the `max_smp_length` keyword argument to go further.\n",
      "Depth 223: [372] points, 2 living leaves...\n",
      "Depth 224: [374] points, 2 living leaves...\n",
      "\u001b[34m\u001b[1mNew candidate s.m.p. found\u001b[22m\u001b[39m because ⟨v_14*, v⟩ - 1 = 9.645037279959467e-8 > 1.0e-9:\n",
      "\u001b[31m\u001b[1maborting\u001b[22m\u001b[39m with smp candidate PSW(1.409247222023988, [2, 1, 1, 2, 1, 1, 2, 1, 2, 1, 1, 2, 1, 2, 1, 1, 2, 1, 1, 2, 1, 2, 1, 1, 2, 1, 2, 1, 1, 2, 1, 1, 2, 1, 2, 1, 1, 2, 1, 2, 1, 1, 2, 1, 1, 2, 1, 2, 1, 1, 2, 1, 2, 1, 1, 2, 1, 1, 2, 1, 2, 1, 1, 2, 1, 2, 1, 1, 2, 1, 1, 2, 1, 2, 1, 1, 2, 1, 2, 1, 1, 2, 1, 1, 2, 1, 2, 1, 1, 2, 1, 2, 1, 1, 2, 1, 1, 2, 1, 2, 1, 1, 2, 1, 2, 1, 1, 2, 1, 1, 2, 1, 2, 1, 1, 2, 1, 2, 1, 1, 2, 1, 1, 2, 1, 2, 1, 1, 2, 1, 2, 1, 1, 2, 1, 1, 2, 1, 2, 1, 1, 2, 1, 2, 1, 1, 2, 1, 1, 2, 1, 2, 1, 1, 2, 1, 2, 1, 1, 2, 1, 1, 2, 1, 2, 1, 1, 2, 1, 2, 1, 1, 2, 1, 1, 2, 1, 2, 1, 1, 2, 1, 2, 1, 1, 2, 1, 1, 2, 1, 2, 1, 1, 2, 1, 2, 1, 1, 2, 1, 1, 2, 1, 2, 1, 1, 2, 1, 2, 1, 1, 2, 1, 1, 2, 1, 2, 1, 1, 2, 1, 1, 2, 1]) of length 224 after prefixing the suffix with 0 times the current s.m.p.Increase the value of the `max_smp_length` keyword argument to go further.\n",
      "\u001b[34m\u001b[1mNew candidate s.m.p. found\u001b[22m\u001b[39m because ⟨v_14*, v⟩ - 1 = 0.012920091635181041 > 1.0e-9:\n",
      "\u001b[31m\u001b[1maborting\u001b[22m\u001b[39m with smp candidate PSW(1.4092426180557758, [2, 1, 1, 2, 1, 1, 2, 1, 2, 1, 1, 2, 1, 2, 1, 1, 2, 1, 1, 2, 1, 2, 1, 1, 2, 1, 2, 1, 1, 2, 1, 1, 2, 1, 2, 1, 1, 2, 1, 2, 1, 1, 2, 1, 1, 2, 1, 2, 1, 1, 2, 1, 2, 1, 1, 2, 1, 1, 2, 1, 2, 1, 1, 2, 1, 2, 1, 1, 2, 1, 1, 2, 1, 2, 1, 1, 2, 1, 2, 1, 1, 2, 1, 1, 2, 1, 2, 1, 1, 2, 1, 2, 1, 1, 2, 1, 1, 2, 1, 2, 1, 1, 2, 1, 2, 1, 1, 2, 1, 1, 2, 1, 2, 1, 1, 2, 1, 2, 1, 1, 2, 1, 1, 2, 1, 2, 1, 1, 2, 1, 2, 1, 1, 2, 1, 1, 2, 1, 2, 1, 1, 2, 1, 2, 1, 1, 2, 1, 1, 2, 1, 2, 1, 1, 2, 1, 2, 1, 1, 2, 1, 1, 2, 1, 2, 1, 1, 2, 1, 2, 1, 1, 2, 1, 1, 2, 1, 2, 1, 1, 2, 1, 2, 1, 1, 2, 1, 1, 2, 1, 2, 1, 1, 2, 1, 2, 1, 1, 2, 1, 1, 2, 1, 2, 1, 1, 2, 1, 2, 1, 1, 2, 1, 1, 2, 1, 2, 1, 1, 2, 1, 2, 1, 1]) of length 224 after prefixing the suffix with 0 times the current s.m.p.Increase the value of the `max_smp_length` keyword argument to go further.\n",
      "Depth 225: [376] points, 2 living leaves...\n"
     ]
    },
    {
     "name": "stdout",
     "output_type": "stream",
     "text": [
      "Depth 226: [378] points, 2 living leaves...\n",
      "Depth 227: [380] points, 2 living leaves...\n",
      "\u001b[34m\u001b[1mNew candidate s.m.p. found\u001b[22m\u001b[39m because ⟨v_14*, v⟩ - 1 = 0.012929538907225258 > 1.0e-9:\n",
      "\u001b[31m\u001b[1maborting\u001b[22m\u001b[39m with smp candidate PSW(1.4092426755066003, [2, 1, 1, 2, 1, 1, 2, 1, 2, 1, 1, 2, 1, 2, 1, 1, 2, 1, 1, 2, 1, 2, 1, 1, 2, 1, 2, 1, 1, 2, 1, 1, 2, 1, 2, 1, 1, 2, 1, 2, 1, 1, 2, 1, 1, 2, 1, 2, 1, 1, 2, 1, 2, 1, 1, 2, 1, 1, 2, 1, 2, 1, 1, 2, 1, 2, 1, 1, 2, 1, 1, 2, 1, 2, 1, 1, 2, 1, 2, 1, 1, 2, 1, 1, 2, 1, 2, 1, 1, 2, 1, 2, 1, 1, 2, 1, 1, 2, 1, 2, 1, 1, 2, 1, 2, 1, 1, 2, 1, 1, 2, 1, 2, 1, 1, 2, 1, 2, 1, 1, 2, 1, 1, 2, 1, 2, 1, 1, 2, 1, 2, 1, 1, 2, 1, 1, 2, 1, 2, 1, 1, 2, 1, 2, 1, 1, 2, 1, 1, 2, 1, 2, 1, 1, 2, 1, 2, 1, 1, 2, 1, 1, 2, 1, 2, 1, 1, 2, 1, 2, 1, 1, 2, 1, 1, 2, 1, 2, 1, 1, 2, 1, 2, 1, 1, 2, 1, 1, 2, 1, 2, 1, 1, 2, 1, 2, 1, 1, 2, 1, 1, 2, 1, 2, 1, 1, 2, 1, 2, 1, 1, 2, 1, 1, 2, 1, 2, 1, 1, 2, 1, 1, 2, 1, 2, 1, 1]) of length 227 after prefixing the suffix with 0 times the current s.m.p.Increase the value of the `max_smp_length` keyword argument to go further.\n",
      "\u001b[34m\u001b[1mNew candidate s.m.p. found\u001b[22m\u001b[39m because ⟨v_14*, v⟩ - 1 = 0.013114153992968003 > 1.0e-9:\n",
      "\u001b[31m\u001b[1maborting\u001b[22m\u001b[39m with smp candidate PSW(1.4092378030418375, [2, 1, 1, 2, 1, 1, 2, 1, 2, 1, 1, 2, 1, 2, 1, 1, 2, 1, 1, 2, 1, 2, 1, 1, 2, 1, 2, 1, 1, 2, 1, 1, 2, 1, 2, 1, 1, 2, 1, 2, 1, 1, 2, 1, 1, 2, 1, 2, 1, 1, 2, 1, 2, 1, 1, 2, 1, 1, 2, 1, 2, 1, 1, 2, 1, 2, 1, 1, 2, 1, 1, 2, 1, 2, 1, 1, 2, 1, 2, 1, 1, 2, 1, 1, 2, 1, 2, 1, 1, 2, 1, 2, 1, 1, 2, 1, 1, 2, 1, 2, 1, 1, 2, 1, 2, 1, 1, 2, 1, 1, 2, 1, 2, 1, 1, 2, 1, 2, 1, 1, 2, 1, 1, 2, 1, 2, 1, 1, 2, 1, 2, 1, 1, 2, 1, 1, 2, 1, 2, 1, 1, 2, 1, 2, 1, 1, 2, 1, 1, 2, 1, 2, 1, 1, 2, 1, 2, 1, 1, 2, 1, 1, 2, 1, 2, 1, 1, 2, 1, 2, 1, 1, 2, 1, 1, 2, 1, 2, 1, 1, 2, 1, 2, 1, 1, 2, 1, 1, 2, 1, 2, 1, 1, 2, 1, 2, 1, 1, 2, 1, 1, 2, 1, 2, 1, 1, 2, 1, 2, 1, 1, 2, 1, 1, 2, 1, 2, 1, 1, 2, 1, 2, 1, 1, 2, 1, 1]) of length 227 after prefixing the suffix with 0 times the current s.m.p.Increase the value of the `max_smp_length` keyword argument to go further.\n",
      "Depth 228: [382] points, 2 living leaves...\n",
      "Depth 229: [384] points, 2 living leaves...\n",
      "Depth 230: [386] points, 2 living leaves...\n",
      "Depth 231: [387] points, 1 living leaves...\n",
      "Depth 232: [388] points, 1 living leaves...\n",
      "\u001b[34m\u001b[1mNew candidate s.m.p. found\u001b[22m\u001b[39m because ⟨v_14*, v⟩ - 1 = 0.01292953752889292 > 1.0e-9:\n",
      "\u001b[31m\u001b[1maborting\u001b[22m\u001b[39m with smp candidate PSW(1.4092427735280506, [2, 1, 1, 2, 1, 1, 2, 1, 2, 1, 1, 2, 1, 2, 1, 1, 2, 1, 1, 2, 1, 2, 1, 1, 2, 1, 2, 1, 1, 2, 1, 1, 2, 1, 2, 1, 1, 2, 1, 2, 1, 1, 2, 1, 1, 2, 1, 2, 1, 1, 2, 1, 2, 1, 1, 2, 1, 1, 2, 1, 2, 1, 1, 2, 1, 2, 1, 1, 2, 1, 1, 2, 1, 2, 1, 1, 2, 1, 2, 1, 1, 2, 1, 1, 2, 1, 2, 1, 1, 2, 1, 2, 1, 1, 2, 1, 1, 2, 1, 2, 1, 1, 2, 1, 2, 1, 1, 2, 1, 1, 2, 1, 2, 1, 1, 2, 1, 2, 1, 1, 2, 1, 1, 2, 1, 2, 1, 1, 2, 1, 2, 1, 1, 2, 1, 1, 2, 1, 2, 1, 1, 2, 1, 2, 1, 1, 2, 1, 1, 2, 1, 2, 1, 1, 2, 1, 2, 1, 1, 2, 1, 1, 2, 1, 2, 1, 1, 2, 1, 2, 1, 1, 2, 1, 1, 2, 1, 2, 1, 1, 2, 1, 2, 1, 1, 2, 1, 1, 2, 1, 2, 1, 1, 2, 1, 2, 1, 1, 2, 1, 1, 2, 1, 2, 1, 1, 2, 1, 2, 1, 1, 2, 1, 1, 2, 1, 2, 1, 1, 2, 1, 2, 1, 1, 2, 1, 1, 2, 1, 2, 1, 1]) of length 232 after prefixing the suffix with 0 times the current s.m.p.Increase the value of the `max_smp_length` keyword argument to go further.\n",
      "Depth 233: [389] points, 1 living leaves...\n",
      "Depth 234: [390] points, 1 living leaves...\n",
      "Depth 235: [391] points, 1 living leaves...\n",
      "\u001b[34m\u001b[1mNew candidate s.m.p. found\u001b[22m\u001b[39m because ⟨v_14*, v⟩ - 1 = 0.013114283512650982 > 1.0e-9:\n",
      "\u001b[31m\u001b[1maborting\u001b[22m\u001b[39m with smp candidate PSW(1.4092381202110404, [2, 1, 1, 2, 1, 1, 2, 1, 2, 1, 1, 2, 1, 2, 1, 1, 2, 1, 1, 2, 1, 2, 1, 1, 2, 1, 2, 1, 1, 2, 1, 1, 2, 1, 2, 1, 1, 2, 1, 2, 1, 1, 2, 1, 1, 2, 1, 2, 1, 1, 2, 1, 2, 1, 1, 2, 1, 1, 2, 1, 2, 1, 1, 2, 1, 2, 1, 1, 2, 1, 1, 2, 1, 2, 1, 1, 2, 1, 2, 1, 1, 2, 1, 1, 2, 1, 2, 1, 1, 2, 1, 2, 1, 1, 2, 1, 1, 2, 1, 2, 1, 1, 2, 1, 2, 1, 1, 2, 1, 1, 2, 1, 2, 1, 1, 2, 1, 2, 1, 1, 2, 1, 1, 2, 1, 2, 1, 1, 2, 1, 2, 1, 1, 2, 1, 1, 2, 1, 2, 1, 1, 2, 1, 2, 1, 1, 2, 1, 1, 2, 1, 2, 1, 1, 2, 1, 2, 1, 1, 2, 1, 1, 2, 1, 2, 1, 1, 2, 1, 2, 1, 1, 2, 1, 1, 2, 1, 2, 1, 1, 2, 1, 2, 1, 1, 2, 1, 1, 2, 1, 2, 1, 1, 2, 1, 2, 1, 1, 2, 1, 1, 2, 1, 2, 1, 1, 2, 1, 2, 1, 1, 2, 1, 1, 2, 1, 2, 1, 1, 2, 1, 2, 1, 1, 2, 1, 1, 2, 1, 2, 1, 1, 2, 1, 1]) of length 235 after prefixing the suffix with 0 times the current s.m.p.Increase the value of the `max_smp_length` keyword argument to go further.\n",
      "Depth 236: [393] points, 2 living leaves...\n",
      "Depth 237: [395] points, 2 living leaves...\n",
      "\u001b[34m\u001b[1mNew candidate s.m.p. found\u001b[22m\u001b[39m because ⟨v_14*, v⟩ - 1 = 9.645033149929816e-8 > 1.0e-9:\n",
      "\u001b[31m\u001b[1maborting\u001b[22m\u001b[39m with smp candidate PSW(1.4092472220258727, [2, 1, 1, 2, 1, 1, 2, 1, 2, 1, 1, 2, 1, 2, 1, 1, 2, 1, 1, 2, 1, 2, 1, 1, 2, 1, 2, 1, 1, 2, 1, 1, 2, 1, 2, 1, 1, 2, 1, 2, 1, 1, 2, 1, 1, 2, 1, 2, 1, 1, 2, 1, 2, 1, 1, 2, 1, 1, 2, 1, 2, 1, 1, 2, 1, 2, 1, 1, 2, 1, 1, 2, 1, 2, 1, 1, 2, 1, 2, 1, 1, 2, 1, 1, 2, 1, 2, 1, 1, 2, 1, 2, 1, 1, 2, 1, 1, 2, 1, 2, 1, 1, 2, 1, 2, 1, 1, 2, 1, 1, 2, 1, 2, 1, 1, 2, 1, 2, 1, 1, 2, 1, 1, 2, 1, 2, 1, 1, 2, 1, 2, 1, 1, 2, 1, 1, 2, 1, 2, 1, 1, 2, 1, 2, 1, 1, 2, 1, 1, 2, 1, 2, 1, 1, 2, 1, 2, 1, 1, 2, 1, 1, 2, 1, 2, 1, 1, 2, 1, 2, 1, 1, 2, 1, 1, 2, 1, 2, 1, 1, 2, 1, 2, 1, 1, 2, 1, 1, 2, 1, 2, 1, 1, 2, 1, 2, 1, 1, 2, 1, 1, 2, 1, 2, 1, 1, 2, 1, 2, 1, 1, 2, 1, 1, 2, 1, 2, 1, 1, 2, 1, 2, 1, 1, 2, 1, 1, 2, 1, 2, 1, 1, 2, 1, 1, 2, 1]) of length 237 after prefixing the suffix with 0 times the current s.m.p.Increase the value of the `max_smp_length` keyword argument to go further.\n",
      "\u001b[34m\u001b[1mNew candidate s.m.p. found\u001b[22m\u001b[39m because ⟨v_14*, v⟩ - 1 = 0.012920091635139519 > 1.0e-9:\n",
      "\u001b[31m\u001b[1maborting\u001b[22m\u001b[39m with smp candidate PSW(1.409242870595611, [2, 1, 1, 2, 1, 1, 2, 1, 2, 1, 1, 2, 1, 2, 1, 1, 2, 1, 1, 2, 1, 2, 1, 1, 2, 1, 2, 1, 1, 2, 1, 1, 2, 1, 2, 1, 1, 2, 1, 2, 1, 1, 2, 1, 1, 2, 1, 2, 1, 1, 2, 1, 2, 1, 1, 2, 1, 1, 2, 1, 2, 1, 1, 2, 1, 2, 1, 1, 2, 1, 1, 2, 1, 2, 1, 1, 2, 1, 2, 1, 1, 2, 1, 1, 2, 1, 2, 1, 1, 2, 1, 2, 1, 1, 2, 1, 1, 2, 1, 2, 1, 1, 2, 1, 2, 1, 1, 2, 1, 1, 2, 1, 2, 1, 1, 2, 1, 2, 1, 1, 2, 1, 1, 2, 1, 2, 1, 1, 2, 1, 2, 1, 1, 2, 1, 1, 2, 1, 2, 1, 1, 2, 1, 2, 1, 1, 2, 1, 1, 2, 1, 2, 1, 1, 2, 1, 2, 1, 1, 2, 1, 1, 2, 1, 2, 1, 1, 2, 1, 2, 1, 1, 2, 1, 1, 2, 1, 2, 1, 1, 2, 1, 2, 1, 1, 2, 1, 1, 2, 1, 2, 1, 1, 2, 1, 2, 1, 1, 2, 1, 1, 2, 1, 2, 1, 1, 2, 1, 2, 1, 1, 2, 1, 1, 2, 1, 2, 1, 1, 2, 1, 2, 1, 1, 2, 1, 1, 2, 1, 2, 1, 1, 2, 1, 2, 1, 1]) of length 237 after prefixing the suffix with 0 times the current s.m.p.Increase the value of the `max_smp_length` keyword argument to go further.\n",
      "Depth 238: [397] points, 2 living leaves...\n",
      "Depth 239: [399] points, 2 living leaves...\n",
      "Depth 240: [401] points, 2 living leaves...\n",
      "\u001b[34m\u001b[1mNew candidate s.m.p. found\u001b[22m\u001b[39m because ⟨v_14*, v⟩ - 1 = 0.012929538907183291 > 1.0e-9:\n",
      "\u001b[31m\u001b[1maborting\u001b[22m\u001b[39m with smp candidate PSW(1.4092429217777773, [2, 1, 1, 2, 1, 1, 2, 1, 2, 1, 1, 2, 1, 2, 1, 1, 2, 1, 1, 2, 1, 2, 1, 1, 2, 1, 2, 1, 1, 2, 1, 1, 2, 1, 2, 1, 1, 2, 1, 2, 1, 1, 2, 1, 1, 2, 1, 2, 1, 1, 2, 1, 2, 1, 1, 2, 1, 1, 2, 1, 2, 1, 1, 2, 1, 2, 1, 1, 2, 1, 1, 2, 1, 2, 1, 1, 2, 1, 2, 1, 1, 2, 1, 1, 2, 1, 2, 1, 1, 2, 1, 2, 1, 1, 2, 1, 1, 2, 1, 2, 1, 1, 2, 1, 2, 1, 1, 2, 1, 1, 2, 1, 2, 1, 1, 2, 1, 2, 1, 1, 2, 1, 1, 2, 1, 2, 1, 1, 2, 1, 2, 1, 1, 2, 1, 1, 2, 1, 2, 1, 1, 2, 1, 2, 1, 1, 2, 1, 1, 2, 1, 2, 1, 1, 2, 1, 2, 1, 1, 2, 1, 1, 2, 1, 2, 1, 1, 2, 1, 2, 1, 1, 2, 1, 1, 2, 1, 2, 1, 1, 2, 1, 2, 1, 1, 2, 1, 1, 2, 1, 2, 1, 1, 2, 1, 2, 1, 1, 2, 1, 1, 2, 1, 2, 1, 1, 2, 1, 2, 1, 1, 2, 1, 1, 2, 1, 2, 1, 1, 2, 1, 2, 1, 1, 2, 1, 1, 2, 1, 2, 1, 1, 2, 1, 1, 2, 1, 2, 1, 1]) of length 240 after prefixing the suffix with 0 times the current s.m.p.Increase the value of the `max_smp_length` keyword argument to go further.\n",
      "\u001b[34m\u001b[1mNew candidate s.m.p. found\u001b[22m\u001b[39m because ⟨v_14*, v⟩ - 1 = 0.01311415399292648 > 1.0e-9:\n",
      "\u001b[31m\u001b[1maborting\u001b[22m\u001b[39m with smp candidate PSW(1.4092383132369524, [2, 1, 1, 2, 1, 1, 2, 1, 2, 1, 1, 2, 1, 2, 1, 1, 2, 1, 1, 2, 1, 2, 1, 1, 2, 1, 2, 1, 1, 2, 1, 1, 2, 1, 2, 1, 1, 2, 1, 2, 1, 1, 2, 1, 1, 2, 1, 2, 1, 1, 2, 1, 2, 1, 1, 2, 1, 1, 2, 1, 2, 1, 1, 2, 1, 2, 1, 1, 2, 1, 1, 2, 1, 2, 1, 1, 2, 1, 2, 1, 1, 2, 1, 1, 2, 1, 2, 1, 1, 2, 1, 2, 1, 1, 2, 1, 1, 2, 1, 2, 1, 1, 2, 1, 2, 1, 1, 2, 1, 1, 2, 1, 2, 1, 1, 2, 1, 2, 1, 1, 2, 1, 1, 2, 1, 2, 1, 1, 2, 1, 2, 1, 1, 2, 1, 1, 2, 1, 2, 1, 1, 2, 1, 2, 1, 1, 2, 1, 1, 2, 1, 2, 1, 1, 2, 1, 2, 1, 1, 2, 1, 1, 2, 1, 2, 1, 1, 2, 1, 2, 1, 1, 2, 1, 1, 2, 1, 2, 1, 1, 2, 1, 2, 1, 1, 2, 1, 1, 2, 1, 2, 1, 1, 2, 1, 2, 1, 1, 2, 1, 1, 2, 1, 2, 1, 1, 2, 1, 2, 1, 1, 2, 1, 1, 2, 1, 2, 1, 1, 2, 1, 2, 1, 1, 2, 1, 1, 2, 1, 2, 1, 1, 2, 1, 2, 1, 1, 2, 1, 1]) of length 240 after prefixing the suffix with 0 times the current s.m.p.Increase the value of the `max_smp_length` keyword argument to go further.\n",
      "Depth 241: [403] points, 2 living leaves...\n",
      "Depth 242: [405] points, 2 living leaves...\n",
      "Depth 243: [407] points, 2 living leaves...\n",
      "Depth 244: [408] points, 1 living leaves...\n",
      "Depth 245: [409] points, 1 living leaves...\n"
     ]
    },
    {
     "name": "stdout",
     "output_type": "stream",
     "text": [
      "\u001b[34m\u001b[1mNew candidate s.m.p. found\u001b[22m\u001b[39m because ⟨v_14*, v⟩ - 1 = 0.012929537528851398 > 1.0e-9:\n",
      "\u001b[31m\u001b[1maborting\u001b[22m\u001b[39m with smp candidate PSW(1.4092430095721622, [2, 1, 1, 2, 1, 1, 2, 1, 2, 1, 1, 2, 1, 2, 1, 1, 2, 1, 1, 2, 1, 2, 1, 1, 2, 1, 2, 1, 1, 2, 1, 1, 2, 1, 2, 1, 1, 2, 1, 2, 1, 1, 2, 1, 1, 2, 1, 2, 1, 1, 2, 1, 2, 1, 1, 2, 1, 1, 2, 1, 2, 1, 1, 2, 1, 2, 1, 1, 2, 1, 1, 2, 1, 2, 1, 1, 2, 1, 2, 1, 1, 2, 1, 1, 2, 1, 2, 1, 1, 2, 1, 2, 1, 1, 2, 1, 1, 2, 1, 2, 1, 1, 2, 1, 2, 1, 1, 2, 1, 1, 2, 1, 2, 1, 1, 2, 1, 2, 1, 1, 2, 1, 1, 2, 1, 2, 1, 1, 2, 1, 2, 1, 1, 2, 1, 1, 2, 1, 2, 1, 1, 2, 1, 2, 1, 1, 2, 1, 1, 2, 1, 2, 1, 1, 2, 1, 2, 1, 1, 2, 1, 1, 2, 1, 2, 1, 1, 2, 1, 2, 1, 1, 2, 1, 1, 2, 1, 2, 1, 1, 2, 1, 2, 1, 1, 2, 1, 1, 2, 1, 2, 1, 1, 2, 1, 2, 1, 1, 2, 1, 1, 2, 1, 2, 1, 1, 2, 1, 2, 1, 1, 2, 1, 1, 2, 1, 2, 1, 1, 2, 1, 2, 1, 1, 2, 1, 1, 2, 1, 2, 1, 1, 2, 1, 2, 1, 1, 2, 1, 1, 2, 1, 2, 1, 1]) of length 245 after prefixing the suffix with 0 times the current s.m.p.Increase the value of the `max_smp_length` keyword argument to go further.\n",
      "Depth 246: [410] points, 1 living leaves...\n",
      "Depth 247: [411] points, 1 living leaves...\n",
      "Depth 248: [412] points, 1 living leaves...\n",
      "\u001b[34m\u001b[1mNew candidate s.m.p. found\u001b[22m\u001b[39m because ⟨v_14*, v⟩ - 1 = 0.013114283512609681 > 1.0e-9:\n",
      "\u001b[31m\u001b[1maborting\u001b[22m\u001b[39m with smp candidate PSW(1.4092385973225439, [2, 1, 1, 2, 1, 1, 2, 1, 2, 1, 1, 2, 1, 2, 1, 1, 2, 1, 1, 2, 1, 2, 1, 1, 2, 1, 2, 1, 1, 2, 1, 1, 2, 1, 2, 1, 1, 2, 1, 2, 1, 1, 2, 1, 1, 2, 1, 2, 1, 1, 2, 1, 2, 1, 1, 2, 1, 1, 2, 1, 2, 1, 1, 2, 1, 2, 1, 1, 2, 1, 1, 2, 1, 2, 1, 1, 2, 1, 2, 1, 1, 2, 1, 1, 2, 1, 2, 1, 1, 2, 1, 2, 1, 1, 2, 1, 1, 2, 1, 2, 1, 1, 2, 1, 2, 1, 1, 2, 1, 1, 2, 1, 2, 1, 1, 2, 1, 2, 1, 1, 2, 1, 1, 2, 1, 2, 1, 1, 2, 1, 2, 1, 1, 2, 1, 1, 2, 1, 2, 1, 1, 2, 1, 2, 1, 1, 2, 1, 1, 2, 1, 2, 1, 1, 2, 1, 2, 1, 1, 2, 1, 1, 2, 1, 2, 1, 1, 2, 1, 2, 1, 1, 2, 1, 1, 2, 1, 2, 1, 1, 2, 1, 2, 1, 1, 2, 1, 1, 2, 1, 2, 1, 1, 2, 1, 2, 1, 1, 2, 1, 1, 2, 1, 2, 1, 1, 2, 1, 2, 1, 1, 2, 1, 1, 2, 1, 2, 1, 1, 2, 1, 2, 1, 1, 2, 1, 1, 2, 1, 2, 1, 1, 2, 1, 2, 1, 1, 2, 1, 1, 2, 1, 2, 1, 1, 2, 1, 1]) of length 248 after prefixing the suffix with 0 times the current s.m.p.Increase the value of the `max_smp_length` keyword argument to go further.\n",
      "Depth 249: [414] points, 2 living leaves...\n",
      "Depth 250: [416] points, 2 living leaves...\n",
      "\u001b[34m\u001b[1mNew candidate s.m.p. found\u001b[22m\u001b[39m because ⟨v_14*, v⟩ - 1 = 9.645029064309085e-8 > 1.0e-9:\n",
      "\u001b[31m\u001b[1maborting\u001b[22m\u001b[39m with smp candidate PSW(1.4092472220275611, [2, 1, 1, 2, 1, 1, 2, 1, 2, 1, 1, 2, 1, 2, 1, 1, 2, 1, 1, 2, 1, 2, 1, 1, 2, 1, 2, 1, 1, 2, 1, 1, 2, 1, 2, 1, 1, 2, 1, 2, 1, 1, 2, 1, 1, 2, 1, 2, 1, 1, 2, 1, 2, 1, 1, 2, 1, 1, 2, 1, 2, 1, 1, 2, 1, 2, 1, 1, 2, 1, 1, 2, 1, 2, 1, 1, 2, 1, 2, 1, 1, 2, 1, 1, 2, 1, 2, 1, 1, 2, 1, 2, 1, 1, 2, 1, 1, 2, 1, 2, 1, 1, 2, 1, 2, 1, 1, 2, 1, 1, 2, 1, 2, 1, 1, 2, 1, 2, 1, 1, 2, 1, 1, 2, 1, 2, 1, 1, 2, 1, 2, 1, 1, 2, 1, 1, 2, 1, 2, 1, 1, 2, 1, 2, 1, 1, 2, 1, 1, 2, 1, 2, 1, 1, 2, 1, 2, 1, 1, 2, 1, 1, 2, 1, 2, 1, 1, 2, 1, 2, 1, 1, 2, 1, 1, 2, 1, 2, 1, 1, 2, 1, 2, 1, 1, 2, 1, 1, 2, 1, 2, 1, 1, 2, 1, 2, 1, 1, 2, 1, 1, 2, 1, 2, 1, 1, 2, 1, 2, 1, 1, 2, 1, 1, 2, 1, 2, 1, 1, 2, 1, 2, 1, 1, 2, 1, 1, 2, 1, 2, 1, 1, 2, 1, 2, 1, 1, 2, 1, 1, 2, 1, 2, 1, 1, 2, 1, 1, 2, 1]) of length 250 after prefixing the suffix with 0 times the current s.m.p.Increase the value of the `max_smp_length` keyword argument to go further.\n",
      "\u001b[34m\u001b[1mNew candidate s.m.p. found\u001b[22m\u001b[39m because ⟨v_14*, v⟩ - 1 = 0.012920091635097997 > 1.0e-9:\n",
      "\u001b[31m\u001b[1maborting\u001b[22m\u001b[39m with smp candidate PSW(1.409243096871342, [2, 1, 1, 2, 1, 1, 2, 1, 2, 1, 1, 2, 1, 2, 1, 1, 2, 1, 1, 2, 1, 2, 1, 1, 2, 1, 2, 1, 1, 2, 1, 1, 2, 1, 2, 1, 1, 2, 1, 2, 1, 1, 2, 1, 1, 2, 1, 2, 1, 1, 2, 1, 2, 1, 1, 2, 1, 1, 2, 1, 2, 1, 1, 2, 1, 2, 1, 1, 2, 1, 1, 2, 1, 2, 1, 1, 2, 1, 2, 1, 1, 2, 1, 1, 2, 1, 2, 1, 1, 2, 1, 2, 1, 1, 2, 1, 1, 2, 1, 2, 1, 1, 2, 1, 2, 1, 1, 2, 1, 1, 2, 1, 2, 1, 1, 2, 1, 2, 1, 1, 2, 1, 1, 2, 1, 2, 1, 1, 2, 1, 2, 1, 1, 2, 1, 1, 2, 1, 2, 1, 1, 2, 1, 2, 1, 1, 2, 1, 1, 2, 1, 2, 1, 1, 2, 1, 2, 1, 1, 2, 1, 1, 2, 1, 2, 1, 1, 2, 1, 2, 1, 1, 2, 1, 1, 2, 1, 2, 1, 1, 2, 1, 2, 1, 1, 2, 1, 1, 2, 1, 2, 1, 1, 2, 1, 2, 1, 1, 2, 1, 1, 2, 1, 2, 1, 1, 2, 1, 2, 1, 1, 2, 1, 1, 2, 1, 2, 1, 1, 2, 1, 2, 1, 1, 2, 1, 1, 2, 1, 2, 1, 1, 2, 1, 2, 1, 1, 2, 1, 1, 2, 1, 2, 1, 1, 2, 1, 2, 1, 1]) of length 250 after prefixing the suffix with 0 times the current s.m.p.Increase the value of the `max_smp_length` keyword argument to go further.\n",
      "Depth 251: [418] points, 2 living leaves...\n",
      "Depth 252: [420] points, 2 living leaves...\n",
      "Depth 253: [422] points, 2 living leaves...\n",
      "\u001b[34m\u001b[1mNew candidate s.m.p. found\u001b[22m\u001b[39m because ⟨v_14*, v⟩ - 1 = 0.01292953890714199 > 1.0e-9:\n",
      "\u001b[31m\u001b[1maborting\u001b[22m\u001b[39m with smp candidate PSW(1.4092431427404906, [2, 1, 1, 2, 1, 1, 2, 1, 2, 1, 1, 2, 1, 2, 1, 1, 2, 1, 1, 2, 1, 2, 1, 1, 2, 1, 2, 1, 1, 2, 1, 1, 2, 1, 2, 1, 1, 2, 1, 2, 1, 1, 2, 1, 1, 2, 1, 2, 1, 1, 2, 1, 2, 1, 1, 2, 1, 1, 2, 1, 2, 1, 1, 2, 1, 2, 1, 1, 2, 1, 1, 2, 1, 2, 1, 1, 2, 1, 2, 1, 1, 2, 1, 1, 2, 1, 2, 1, 1, 2, 1, 2, 1, 1, 2, 1, 1, 2, 1, 2, 1, 1, 2, 1, 2, 1, 1, 2, 1, 1, 2, 1, 2, 1, 1, 2, 1, 2, 1, 1, 2, 1, 1, 2, 1, 2, 1, 1, 2, 1, 2, 1, 1, 2, 1, 1, 2, 1, 2, 1, 1, 2, 1, 2, 1, 1, 2, 1, 1, 2, 1, 2, 1, 1, 2, 1, 2, 1, 1, 2, 1, 1, 2, 1, 2, 1, 1, 2, 1, 2, 1, 1, 2, 1, 1, 2, 1, 2, 1, 1, 2, 1, 2, 1, 1, 2, 1, 1, 2, 1, 2, 1, 1, 2, 1, 2, 1, 1, 2, 1, 1, 2, 1, 2, 1, 1, 2, 1, 2, 1, 1, 2, 1, 1, 2, 1, 2, 1, 1, 2, 1, 2, 1, 1, 2, 1, 1, 2, 1, 2, 1, 1, 2, 1, 2, 1, 1, 2, 1, 1, 2, 1, 2, 1, 1, 2, 1, 1, 2, 1, 2, 1, 1]) of length 253 after prefixing the suffix with 0 times the current s.m.p.Increase the value of the `max_smp_length` keyword argument to go further.\n",
      "\u001b[34m\u001b[1mNew candidate s.m.p. found\u001b[22m\u001b[39m because ⟨v_14*, v⟩ - 1 = 0.013114153992884958 > 1.0e-9:\n",
      "\u001b[31m\u001b[1maborting\u001b[22m\u001b[39m with smp candidate PSW(1.4092387710011058, [2, 1, 1, 2, 1, 1, 2, 1, 2, 1, 1, 2, 1, 2, 1, 1, 2, 1, 1, 2, 1, 2, 1, 1, 2, 1, 2, 1, 1, 2, 1, 1, 2, 1, 2, 1, 1, 2, 1, 2, 1, 1, 2, 1, 1, 2, 1, 2, 1, 1, 2, 1, 2, 1, 1, 2, 1, 1, 2, 1, 2, 1, 1, 2, 1, 2, 1, 1, 2, 1, 1, 2, 1, 2, 1, 1, 2, 1, 2, 1, 1, 2, 1, 1, 2, 1, 2, 1, 1, 2, 1, 2, 1, 1, 2, 1, 1, 2, 1, 2, 1, 1, 2, 1, 2, 1, 1, 2, 1, 1, 2, 1, 2, 1, 1, 2, 1, 2, 1, 1, 2, 1, 1, 2, 1, 2, 1, 1, 2, 1, 2, 1, 1, 2, 1, 1, 2, 1, 2, 1, 1, 2, 1, 2, 1, 1, 2, 1, 1, 2, 1, 2, 1, 1, 2, 1, 2, 1, 1, 2, 1, 1, 2, 1, 2, 1, 1, 2, 1, 2, 1, 1, 2, 1, 1, 2, 1, 2, 1, 1, 2, 1, 2, 1, 1, 2, 1, 1, 2, 1, 2, 1, 1, 2, 1, 2, 1, 1, 2, 1, 1, 2, 1, 2, 1, 1, 2, 1, 2, 1, 1, 2, 1, 1, 2, 1, 2, 1, 1, 2, 1, 2, 1, 1, 2, 1, 1, 2, 1, 2, 1, 1, 2, 1, 2, 1, 1, 2, 1, 1, 2, 1, 2, 1, 1, 2, 1, 2, 1, 1, 2, 1, 1]) of length 253 after prefixing the suffix with 0 times the current s.m.p.Increase the value of the `max_smp_length` keyword argument to go further.\n",
      "Depth 254: [424] points, 2 living leaves...\n",
      "Depth 255: [426] points, 2 living leaves...\n",
      "Depth 256: [428] points, 2 living leaves...\n",
      "Depth 257: [429] points, 1 living leaves...\n",
      "Depth 258: [430] points, 1 living leaves...\n",
      "\u001b[34m\u001b[1mNew candidate s.m.p. found\u001b[22m\u001b[39m because ⟨v_14*, v⟩ - 1 = 0.012929537528809876 > 1.0e-9:\n",
      "\u001b[31m\u001b[1maborting\u001b[22m\u001b[39m with smp candidate PSW(1.4092432218289166, [2, 1, 1, 2, 1, 1, 2, 1, 2, 1, 1, 2, 1, 2, 1, 1, 2, 1, 1, 2, 1, 2, 1, 1, 2, 1, 2, 1, 1, 2, 1, 1, 2, 1, 2, 1, 1, 2, 1, 2, 1, 1, 2, 1, 1, 2, 1, 2, 1, 1, 2, 1, 2, 1, 1, 2, 1, 1, 2, 1, 2, 1, 1, 2, 1, 2, 1, 1, 2, 1, 1, 2, 1, 2, 1, 1, 2, 1, 2, 1, 1, 2, 1, 1, 2, 1, 2, 1, 1, 2, 1, 2, 1, 1, 2, 1, 1, 2, 1, 2, 1, 1, 2, 1, 2, 1, 1, 2, 1, 1, 2, 1, 2, 1, 1, 2, 1, 2, 1, 1, 2, 1, 1, 2, 1, 2, 1, 1, 2, 1, 2, 1, 1, 2, 1, 1, 2, 1, 2, 1, 1, 2, 1, 2, 1, 1, 2, 1, 1, 2, 1, 2, 1, 1, 2, 1, 2, 1, 1, 2, 1, 1, 2, 1, 2, 1, 1, 2, 1, 2, 1, 1, 2, 1, 1, 2, 1, 2, 1, 1, 2, 1, 2, 1, 1, 2, 1, 1, 2, 1, 2, 1, 1, 2, 1, 2, 1, 1, 2, 1, 1, 2, 1, 2, 1, 1, 2, 1, 2, 1, 1, 2, 1, 1, 2, 1, 2, 1, 1, 2, 1, 2, 1, 1, 2, 1, 1, 2, 1, 2, 1, 1, 2, 1, 2, 1, 1, 2, 1, 1, 2, 1, 2, 1, 1, 2, 1, 2, 1, 1, 2, 1, 1, 2, 1, 2, 1, 1]) of length 258 after prefixing the suffix with 0 times the current s.m.p.Increase the value of the `max_smp_length` keyword argument to go further.\n",
      "Depth 259: [431] points, 1 living leaves...\n",
      "Depth 260: [432] points, 1 living leaves...\n",
      "Depth 261: [433] points, 1 living leaves...\n",
      "\u001b[34m\u001b[1mNew candidate s.m.p. found\u001b[22m\u001b[39m because ⟨v_14*, v⟩ - 1 = 0.013114283512568381 > 1.0e-9:\n",
      "\u001b[31m\u001b[1maborting\u001b[22m\u001b[39m with smp candidate PSW(1.4092390269058366, [2, 1, 1, 2, 1, 1, 2, 1, 2, 1, 1, 2, 1, 2, 1, 1, 2, 1, 1, 2, 1, 2, 1, 1, 2, 1, 2, 1, 1, 2, 1, 1, 2, 1, 2, 1, 1, 2, 1, 2, 1, 1, 2, 1, 1, 2, 1, 2, 1, 1, 2, 1, 2, 1, 1, 2, 1, 1, 2, 1, 2, 1, 1, 2, 1, 2, 1, 1, 2, 1, 1, 2, 1, 2, 1, 1, 2, 1, 2, 1, 1, 2, 1, 1, 2, 1, 2, 1, 1, 2, 1, 2, 1, 1, 2, 1, 1, 2, 1, 2, 1, 1, 2, 1, 2, 1, 1, 2, 1, 1, 2, 1, 2, 1, 1, 2, 1, 2, 1, 1, 2, 1, 1, 2, 1, 2, 1, 1, 2, 1, 2, 1, 1, 2, 1, 1, 2, 1, 2, 1, 1, 2, 1, 2, 1, 1, 2, 1, 1, 2, 1, 2, 1, 1, 2, 1, 2, 1, 1, 2, 1, 1, 2, 1, 2, 1, 1, 2, 1, 2, 1, 1, 2, 1, 1, 2, 1, 2, 1, 1, 2, 1, 2, 1, 1, 2, 1, 1, 2, 1, 2, 1, 1, 2, 1, 2, 1, 1, 2, 1, 1, 2, 1, 2, 1, 1, 2, 1, 2, 1, 1, 2, 1, 1, 2, 1, 2, 1, 1, 2, 1, 2, 1, 1, 2, 1, 1, 2, 1, 2, 1, 1, 2, 1, 2, 1, 1, 2, 1, 1, 2, 1, 2, 1, 1, 2, 1, 2, 1, 1, 2, 1, 1, 2, 1, 2, 1, 1, 2, 1, 1]) of length 261 after prefixing the suffix with 0 times the current s.m.p.Increase the value of the `max_smp_length` keyword argument to go further.\n",
      "Depth 262: [435] points, 2 living leaves...\n",
      "Depth 263: [437] points, 2 living leaves...\n",
      "\u001b[34m\u001b[1mNew candidate s.m.p. found\u001b[22m\u001b[39m because ⟨v_14*, v⟩ - 1 = 9.645025000892815e-8 > 1.0e-9:\n",
      "\u001b[31m\u001b[1maborting\u001b[22m\u001b[39m with smp candidate PSW(1.4092472220290826, [2, 1, 1, 2, 1, 1, 2, 1, 2, 1, 1, 2, 1, 2, 1, 1, 2, 1, 1, 2, 1, 2, 1, 1, 2, 1, 2, 1, 1, 2, 1, 1, 2, 1, 2, 1, 1, 2, 1, 2, 1, 1, 2, 1, 1, 2, 1, 2, 1, 1, 2, 1, 2, 1, 1, 2, 1, 1, 2, 1, 2, 1, 1, 2, 1, 2, 1, 1, 2, 1, 1, 2, 1, 2, 1, 1, 2, 1, 2, 1, 1, 2, 1, 1, 2, 1, 2, 1, 1, 2, 1, 2, 1, 1, 2, 1, 1, 2, 1, 2, 1, 1, 2, 1, 2, 1, 1, 2, 1, 1, 2, 1, 2, 1, 1, 2, 1, 2, 1, 1, 2, 1, 1, 2, 1, 2, 1, 1, 2, 1, 2, 1, 1, 2, 1, 1, 2, 1, 2, 1, 1, 2, 1, 2, 1, 1, 2, 1, 1, 2, 1, 2, 1, 1, 2, 1, 2, 1, 1, 2, 1, 1, 2, 1, 2, 1, 1, 2, 1, 2, 1, 1, 2, 1, 1, 2, 1, 2, 1, 1, 2, 1, 2, 1, 1, 2, 1, 1, 2, 1, 2, 1, 1, 2, 1, 2, 1, 1, 2, 1, 1, 2, 1, 2, 1, 1, 2, 1, 2, 1, 1, 2, 1, 1, 2, 1, 2, 1, 1, 2, 1, 2, 1, 1, 2, 1, 1, 2, 1, 2, 1, 1, 2, 1, 2, 1, 1, 2, 1, 1, 2, 1, 2, 1, 1, 2, 1, 2, 1, 1, 2, 1, 1, 2, 1, 2, 1, 1, 2, 1, 1, 2, 1]) of length 263 after prefixing the suffix with 0 times the current s.m.p.Increase the value of the `max_smp_length` keyword argument to go further.\n",
      "\u001b[34m\u001b[1mNew candidate s.m.p. found\u001b[22m\u001b[39m because ⟨v_14*, v⟩ - 1 = 0.012920091635056696 > 1.0e-9:\n",
      "\u001b[31m\u001b[1maborting\u001b[22m\u001b[39m with smp candidate PSW(1.4092433007776402, [2, 1, 1, 2, 1, 1, 2, 1, 2, 1, 1, 2, 1, 2, 1, 1, 2, 1, 1, 2, 1, 2, 1, 1, 2, 1, 2, 1, 1, 2, 1, 1, 2, 1, 2, 1, 1, 2, 1, 2, 1, 1, 2, 1, 1, 2, 1, 2, 1, 1, 2, 1, 2, 1, 1, 2, 1, 1, 2, 1, 2, 1, 1, 2, 1, 2, 1, 1, 2, 1, 1, 2, 1, 2, 1, 1, 2, 1, 2, 1, 1, 2, 1, 1, 2, 1, 2, 1, 1, 2, 1, 2, 1, 1, 2, 1, 1, 2, 1, 2, 1, 1, 2, 1, 2, 1, 1, 2, 1, 1, 2, 1, 2, 1, 1, 2, 1, 2, 1, 1, 2, 1, 1, 2, 1, 2, 1, 1, 2, 1, 2, 1, 1, 2, 1, 1, 2, 1, 2, 1, 1, 2, 1, 2, 1, 1, 2, 1, 1, 2, 1, 2, 1, 1, 2, 1, 2, 1, 1, 2, 1, 1, 2, 1, 2, 1, 1, 2, 1, 2, 1, 1, 2, 1, 1, 2, 1, 2, 1, 1, 2, 1, 2, 1, 1, 2, 1, 1, 2, 1, 2, 1, 1, 2, 1, 2, 1, 1, 2, 1, 1, 2, 1, 2, 1, 1, 2, 1, 2, 1, 1, 2, 1, 1, 2, 1, 2, 1, 1, 2, 1, 2, 1, 1, 2, 1, 1, 2, 1, 2, 1, 1, 2, 1, 2, 1, 1, 2, 1, 1, 2, 1, 2, 1, 1, 2, 1, 2, 1, 1, 2, 1, 1, 2, 1, 2, 1, 1, 2, 1, 2, 1, 1]) of length 263 after prefixing the suffix with 0 times the current s.m.p.Increase the value of the `max_smp_length` keyword argument to go further.\n"
     ]
    },
    {
     "name": "stdout",
     "output_type": "stream",
     "text": [
      "Depth 264: [439] points, 2 living leaves...\n",
      "Depth 265: [441] points, 2 living leaves...\n",
      "Depth 266: [443] points, 2 living leaves...\n",
      "\u001b[34m\u001b[1mNew candidate s.m.p. found\u001b[22m\u001b[39m because ⟨v_14*, v⟩ - 1 = 0.01292953890710069 > 1.0e-9:\n",
      "\u001b[31m\u001b[1maborting\u001b[22m\u001b[39m with smp candidate PSW(1.4092433421053743, [2, 1, 1, 2, 1, 1, 2, 1, 2, 1, 1, 2, 1, 2, 1, 1, 2, 1, 1, 2, 1, 2, 1, 1, 2, 1, 2, 1, 1, 2, 1, 1, 2, 1, 2, 1, 1, 2, 1, 2, 1, 1, 2, 1, 1, 2, 1, 2, 1, 1, 2, 1, 2, 1, 1, 2, 1, 1, 2, 1, 2, 1, 1, 2, 1, 2, 1, 1, 2, 1, 1, 2, 1, 2, 1, 1, 2, 1, 2, 1, 1, 2, 1, 1, 2, 1, 2, 1, 1, 2, 1, 2, 1, 1, 2, 1, 1, 2, 1, 2, 1, 1, 2, 1, 2, 1, 1, 2, 1, 1, 2, 1, 2, 1, 1, 2, 1, 2, 1, 1, 2, 1, 1, 2, 1, 2, 1, 1, 2, 1, 2, 1, 1, 2, 1, 1, 2, 1, 2, 1, 1, 2, 1, 2, 1, 1, 2, 1, 1, 2, 1, 2, 1, 1, 2, 1, 2, 1, 1, 2, 1, 1, 2, 1, 2, 1, 1, 2, 1, 2, 1, 1, 2, 1, 1, 2, 1, 2, 1, 1, 2, 1, 2, 1, 1, 2, 1, 1, 2, 1, 2, 1, 1, 2, 1, 2, 1, 1, 2, 1, 1, 2, 1, 2, 1, 1, 2, 1, 2, 1, 1, 2, 1, 1, 2, 1, 2, 1, 1, 2, 1, 2, 1, 1, 2, 1, 1, 2, 1, 2, 1, 1, 2, 1, 2, 1, 1, 2, 1, 1, 2, 1, 2, 1, 1, 2, 1, 2, 1, 1, 2, 1, 1, 2, 1, 2, 1, 1, 2, 1, 1, 2, 1, 2, 1, 1]) of length 266 after prefixing the suffix with 0 times the current s.m.p.Increase the value of the `max_smp_length` keyword argument to go further.\n",
      "\u001b[34m\u001b[1mNew candidate s.m.p. found\u001b[22m\u001b[39m because ⟨v_14*, v⟩ - 1 = 0.013114153992843436 > 1.0e-9:\n",
      "\u001b[31m\u001b[1maborting\u001b[22m\u001b[39m with smp candidate PSW(1.4092391840215224, [2, 1, 1, 2, 1, 1, 2, 1, 2, 1, 1, 2, 1, 2, 1, 1, 2, 1, 1, 2, 1, 2, 1, 1, 2, 1, 2, 1, 1, 2, 1, 1, 2, 1, 2, 1, 1, 2, 1, 2, 1, 1, 2, 1, 1, 2, 1, 2, 1, 1, 2, 1, 2, 1, 1, 2, 1, 1, 2, 1, 2, 1, 1, 2, 1, 2, 1, 1, 2, 1, 1, 2, 1, 2, 1, 1, 2, 1, 2, 1, 1, 2, 1, 1, 2, 1, 2, 1, 1, 2, 1, 2, 1, 1, 2, 1, 1, 2, 1, 2, 1, 1, 2, 1, 2, 1, 1, 2, 1, 1, 2, 1, 2, 1, 1, 2, 1, 2, 1, 1, 2, 1, 1, 2, 1, 2, 1, 1, 2, 1, 2, 1, 1, 2, 1, 1, 2, 1, 2, 1, 1, 2, 1, 2, 1, 1, 2, 1, 1, 2, 1, 2, 1, 1, 2, 1, 2, 1, 1, 2, 1, 1, 2, 1, 2, 1, 1, 2, 1, 2, 1, 1, 2, 1, 1, 2, 1, 2, 1, 1, 2, 1, 2, 1, 1, 2, 1, 1, 2, 1, 2, 1, 1, 2, 1, 2, 1, 1, 2, 1, 1, 2, 1, 2, 1, 1, 2, 1, 2, 1, 1, 2, 1, 1, 2, 1, 2, 1, 1, 2, 1, 2, 1, 1, 2, 1, 1, 2, 1, 2, 1, 1, 2, 1, 2, 1, 1, 2, 1, 1, 2, 1, 2, 1, 1, 2, 1, 2, 1, 1, 2, 1, 1, 2, 1, 2, 1, 1, 2, 1, 2, 1, 1, 2, 1, 1]) of length 266 after prefixing the suffix with 0 times the current s.m.p.Increase the value of the `max_smp_length` keyword argument to go further.\n",
      "Depth 267: [445] points, 2 living leaves...\n",
      "Depth 268: [447] points, 2 living leaves...\n",
      "Depth 269: [449] points, 2 living leaves...\n",
      "Depth 270: [450] points, 1 living leaves...\n",
      "Depth 271: [451] points, 1 living leaves...\n",
      "\u001b[34m\u001b[1mNew candidate s.m.p. found\u001b[22m\u001b[39m because ⟨v_14*, v⟩ - 1 = 0.012929537528768353 > 1.0e-9:\n",
      "\u001b[31m\u001b[1maborting\u001b[22m\u001b[39m with smp candidate PSW(1.409243413721582, [2, 1, 1, 2, 1, 1, 2, 1, 2, 1, 1, 2, 1, 2, 1, 1, 2, 1, 1, 2, 1, 2, 1, 1, 2, 1, 2, 1, 1, 2, 1, 1, 2, 1, 2, 1, 1, 2, 1, 2, 1, 1, 2, 1, 1, 2, 1, 2, 1, 1, 2, 1, 2, 1, 1, 2, 1, 1, 2, 1, 2, 1, 1, 2, 1, 2, 1, 1, 2, 1, 1, 2, 1, 2, 1, 1, 2, 1, 2, 1, 1, 2, 1, 1, 2, 1, 2, 1, 1, 2, 1, 2, 1, 1, 2, 1, 1, 2, 1, 2, 1, 1, 2, 1, 2, 1, 1, 2, 1, 1, 2, 1, 2, 1, 1, 2, 1, 2, 1, 1, 2, 1, 1, 2, 1, 2, 1, 1, 2, 1, 2, 1, 1, 2, 1, 1, 2, 1, 2, 1, 1, 2, 1, 2, 1, 1, 2, 1, 1, 2, 1, 2, 1, 1, 2, 1, 2, 1, 1, 2, 1, 1, 2, 1, 2, 1, 1, 2, 1, 2, 1, 1, 2, 1, 1, 2, 1, 2, 1, 1, 2, 1, 2, 1, 1, 2, 1, 1, 2, 1, 2, 1, 1, 2, 1, 2, 1, 1, 2, 1, 1, 2, 1, 2, 1, 1, 2, 1, 2, 1, 1, 2, 1, 1, 2, 1, 2, 1, 1, 2, 1, 2, 1, 1, 2, 1, 1, 2, 1, 2, 1, 1, 2, 1, 2, 1, 1, 2, 1, 1, 2, 1, 2, 1, 1, 2, 1, 2, 1, 1, 2, 1, 1, 2, 1, 2, 1, 1, 2, 1, 2, 1, 1, 2, 1, 1, 2, 1, 2, 1, 1]) of length 271 after prefixing the suffix with 0 times the current s.m.p.Increase the value of the `max_smp_length` keyword argument to go further.\n",
      "Depth 272: [452] points, 1 living leaves...\n",
      "Depth 273: [453] points, 1 living leaves...\n",
      "Depth 274: [454] points, 1 living leaves...\n",
      "\u001b[34m\u001b[1mNew candidate s.m.p. found\u001b[22m\u001b[39m because ⟨v_14*, v⟩ - 1 = 0.013114283512526859 > 1.0e-9:\n",
      "\u001b[31m\u001b[1maborting\u001b[22m\u001b[39m with smp candidate PSW(1.409239415725864, [2, 1, 1, 2, 1, 1, 2, 1, 2, 1, 1, 2, 1, 2, 1, 1, 2, 1, 1, 2, 1, 2, 1, 1, 2, 1, 2, 1, 1, 2, 1, 1, 2, 1, 2, 1, 1, 2, 1, 2, 1, 1, 2, 1, 1, 2, 1, 2, 1, 1, 2, 1, 2, 1, 1, 2, 1, 1, 2, 1, 2, 1, 1, 2, 1, 2, 1, 1, 2, 1, 1, 2, 1, 2, 1, 1, 2, 1, 2, 1, 1, 2, 1, 1, 2, 1, 2, 1, 1, 2, 1, 2, 1, 1, 2, 1, 1, 2, 1, 2, 1, 1, 2, 1, 2, 1, 1, 2, 1, 1, 2, 1, 2, 1, 1, 2, 1, 2, 1, 1, 2, 1, 1, 2, 1, 2, 1, 1, 2, 1, 2, 1, 1, 2, 1, 1, 2, 1, 2, 1, 1, 2, 1, 2, 1, 1, 2, 1, 1, 2, 1, 2, 1, 1, 2, 1, 2, 1, 1, 2, 1, 1, 2, 1, 2, 1, 1, 2, 1, 2, 1, 1, 2, 1, 1, 2, 1, 2, 1, 1, 2, 1, 2, 1, 1, 2, 1, 1, 2, 1, 2, 1, 1, 2, 1, 2, 1, 1, 2, 1, 1, 2, 1, 2, 1, 1, 2, 1, 2, 1, 1, 2, 1, 1, 2, 1, 2, 1, 1, 2, 1, 2, 1, 1, 2, 1, 1, 2, 1, 2, 1, 1, 2, 1, 2, 1, 1, 2, 1, 1, 2, 1, 2, 1, 1, 2, 1, 2, 1, 1, 2, 1, 1, 2, 1, 2, 1, 1, 2, 1, 2, 1, 1, 2, 1, 1, 2, 1, 2, 1, 1, 2, 1, 1]) of length 274 after prefixing the suffix with 0 times the current s.m.p.Increase the value of the `max_smp_length` keyword argument to go further.\n",
      "Depth 275: [456] points, 2 living leaves...\n",
      "Depth 276: [458] points, 2 living leaves...\n",
      "\u001b[34m\u001b[1mNew candidate s.m.p. found\u001b[22m\u001b[39m because ⟨v_14*, v⟩ - 1 = 9.645020893067624e-8 > 1.0e-9:\n",
      "\u001b[31m\u001b[1maborting\u001b[22m\u001b[39m with smp candidate PSW(1.409247222030461, [2, 1, 1, 2, 1, 1, 2, 1, 2, 1, 1, 2, 1, 2, 1, 1, 2, 1, 1, 2, 1, 2, 1, 1, 2, 1, 2, 1, 1, 2, 1, 1, 2, 1, 2, 1, 1, 2, 1, 2, 1, 1, 2, 1, 1, 2, 1, 2, 1, 1, 2, 1, 2, 1, 1, 2, 1, 1, 2, 1, 2, 1, 1, 2, 1, 2, 1, 1, 2, 1, 1, 2, 1, 2, 1, 1, 2, 1, 2, 1, 1, 2, 1, 1, 2, 1, 2, 1, 1, 2, 1, 2, 1, 1, 2, 1, 1, 2, 1, 2, 1, 1, 2, 1, 2, 1, 1, 2, 1, 1, 2, 1, 2, 1, 1, 2, 1, 2, 1, 1, 2, 1, 1, 2, 1, 2, 1, 1, 2, 1, 2, 1, 1, 2, 1, 1, 2, 1, 2, 1, 1, 2, 1, 2, 1, 1, 2, 1, 1, 2, 1, 2, 1, 1, 2, 1, 2, 1, 1, 2, 1, 1, 2, 1, 2, 1, 1, 2, 1, 2, 1, 1, 2, 1, 1, 2, 1, 2, 1, 1, 2, 1, 2, 1, 1, 2, 1, 1, 2, 1, 2, 1, 1, 2, 1, 2, 1, 1, 2, 1, 1, 2, 1, 2, 1, 1, 2, 1, 2, 1, 1, 2, 1, 1, 2, 1, 2, 1, 1, 2, 1, 2, 1, 1, 2, 1, 1, 2, 1, 2, 1, 1, 2, 1, 2, 1, 1, 2, 1, 1, 2, 1, 2, 1, 1, 2, 1, 2, 1, 1, 2, 1, 1, 2, 1, 2, 1, 1, 2, 1, 2, 1, 1, 2, 1, 1, 2, 1, 2, 1, 1, 2, 1, 1, 2, 1]) of length 276 after prefixing the suffix with 0 times the current s.m.p.Increase the value of the `max_smp_length` keyword argument to go further.\n",
      "\u001b[34m\u001b[1mNew candidate s.m.p. found\u001b[22m\u001b[39m because ⟨v_14*, v⟩ - 1 = 0.012920091635014952 > 1.0e-9:\n",
      "\u001b[31m\u001b[1maborting\u001b[22m\u001b[39m with smp candidate PSW(1.4092434854753995, [2, 1, 1, 2, 1, 1, 2, 1, 2, 1, 1, 2, 1, 2, 1, 1, 2, 1, 1, 2, 1, 2, 1, 1, 2, 1, 2, 1, 1, 2, 1, 1, 2, 1, 2, 1, 1, 2, 1, 2, 1, 1, 2, 1, 1, 2, 1, 2, 1, 1, 2, 1, 2, 1, 1, 2, 1, 1, 2, 1, 2, 1, 1, 2, 1, 2, 1, 1, 2, 1, 1, 2, 1, 2, 1, 1, 2, 1, 2, 1, 1, 2, 1, 1, 2, 1, 2, 1, 1, 2, 1, 2, 1, 1, 2, 1, 1, 2, 1, 2, 1, 1, 2, 1, 2, 1, 1, 2, 1, 1, 2, 1, 2, 1, 1, 2, 1, 2, 1, 1, 2, 1, 1, 2, 1, 2, 1, 1, 2, 1, 2, 1, 1, 2, 1, 1, 2, 1, 2, 1, 1, 2, 1, 2, 1, 1, 2, 1, 1, 2, 1, 2, 1, 1, 2, 1, 2, 1, 1, 2, 1, 1, 2, 1, 2, 1, 1, 2, 1, 2, 1, 1, 2, 1, 1, 2, 1, 2, 1, 1, 2, 1, 2, 1, 1, 2, 1, 1, 2, 1, 2, 1, 1, 2, 1, 2, 1, 1, 2, 1, 1, 2, 1, 2, 1, 1, 2, 1, 2, 1, 1, 2, 1, 1, 2, 1, 2, 1, 1, 2, 1, 2, 1, 1, 2, 1, 1, 2, 1, 2, 1, 1, 2, 1, 2, 1, 1, 2, 1, 1, 2, 1, 2, 1, 1, 2, 1, 2, 1, 1, 2, 1, 1, 2, 1, 2, 1, 1, 2, 1, 2, 1, 1, 2, 1, 1, 2, 1, 2, 1, 1, 2, 1, 2, 1, 1]) of length 276 after prefixing the suffix with 0 times the current s.m.p.Increase the value of the `max_smp_length` keyword argument to go further.\n",
      "Depth 277: [460] points, 2 living leaves...\n",
      "Depth 278: [462] points, 2 living leaves...\n",
      "Depth 279: [464] points, 2 living leaves...\n",
      "\u001b[34m\u001b[1mNew candidate s.m.p. found\u001b[22m\u001b[39m because ⟨v_14*, v⟩ - 1 = 0.012929538907058946 > 1.0e-9:\n",
      "\u001b[31m\u001b[1maborting\u001b[22m\u001b[39m with smp candidate PSW(1.4092435228914761, [2, 1, 1, 2, 1, 1, 2, 1, 2, 1, 1, 2, 1, 2, 1, 1, 2, 1, 1, 2, 1, 2, 1, 1, 2, 1, 2, 1, 1, 2, 1, 1, 2, 1, 2, 1, 1, 2, 1, 2, 1, 1, 2, 1, 1, 2, 1, 2, 1, 1, 2, 1, 2, 1, 1, 2, 1, 1, 2, 1, 2, 1, 1, 2, 1, 2, 1, 1, 2, 1, 1, 2, 1, 2, 1, 1, 2, 1, 2, 1, 1, 2, 1, 1, 2, 1, 2, 1, 1, 2, 1, 2, 1, 1, 2, 1, 1, 2, 1, 2, 1, 1, 2, 1, 2, 1, 1, 2, 1, 1, 2, 1, 2, 1, 1, 2, 1, 2, 1, 1, 2, 1, 1, 2, 1, 2, 1, 1, 2, 1, 2, 1, 1, 2, 1, 1, 2, 1, 2, 1, 1, 2, 1, 2, 1, 1, 2, 1, 1, 2, 1, 2, 1, 1, 2, 1, 2, 1, 1, 2, 1, 1, 2, 1, 2, 1, 1, 2, 1, 2, 1, 1, 2, 1, 1, 2, 1, 2, 1, 1, 2, 1, 2, 1, 1, 2, 1, 1, 2, 1, 2, 1, 1, 2, 1, 2, 1, 1, 2, 1, 1, 2, 1, 2, 1, 1, 2, 1, 2, 1, 1, 2, 1, 1, 2, 1, 2, 1, 1, 2, 1, 2, 1, 1, 2, 1, 1, 2, 1, 2, 1, 1, 2, 1, 2, 1, 1, 2, 1, 1, 2, 1, 2, 1, 1, 2, 1, 2, 1, 1, 2, 1, 1, 2, 1, 2, 1, 1, 2, 1, 2, 1, 1, 2, 1, 1, 2, 1, 2, 1, 1, 2, 1, 1, 2, 1, 2, 1, 1]) of length 279 after prefixing the suffix with 0 times the current s.m.p.Increase the value of the `max_smp_length` keyword argument to go further.\n",
      "\u001b[34m\u001b[1mNew candidate s.m.p. found\u001b[22m\u001b[39m because ⟨v_14*, v⟩ - 1 = 0.013114153992801914 > 1.0e-9:\n",
      "\u001b[31m\u001b[1maborting\u001b[22m\u001b[39m with smp candidate PSW(1.4092395585526856, [2, 1, 1, 2, 1, 1, 2, 1, 2, 1, 1, 2, 1, 2, 1, 1, 2, 1, 1, 2, 1, 2, 1, 1, 2, 1, 2, 1, 1, 2, 1, 1, 2, 1, 2, 1, 1, 2, 1, 2, 1, 1, 2, 1, 1, 2, 1, 2, 1, 1, 2, 1, 2, 1, 1, 2, 1, 1, 2, 1, 2, 1, 1, 2, 1, 2, 1, 1, 2, 1, 1, 2, 1, 2, 1, 1, 2, 1, 2, 1, 1, 2, 1, 1, 2, 1, 2, 1, 1, 2, 1, 2, 1, 1, 2, 1, 1, 2, 1, 2, 1, 1, 2, 1, 2, 1, 1, 2, 1, 1, 2, 1, 2, 1, 1, 2, 1, 2, 1, 1, 2, 1, 1, 2, 1, 2, 1, 1, 2, 1, 2, 1, 1, 2, 1, 1, 2, 1, 2, 1, 1, 2, 1, 2, 1, 1, 2, 1, 1, 2, 1, 2, 1, 1, 2, 1, 2, 1, 1, 2, 1, 1, 2, 1, 2, 1, 1, 2, 1, 2, 1, 1, 2, 1, 1, 2, 1, 2, 1, 1, 2, 1, 2, 1, 1, 2, 1, 1, 2, 1, 2, 1, 1, 2, 1, 2, 1, 1, 2, 1, 1, 2, 1, 2, 1, 1, 2, 1, 2, 1, 1, 2, 1, 1, 2, 1, 2, 1, 1, 2, 1, 2, 1, 1, 2, 1, 1, 2, 1, 2, 1, 1, 2, 1, 2, 1, 1, 2, 1, 1, 2, 1, 2, 1, 1, 2, 1, 2, 1, 1, 2, 1, 1, 2, 1, 2, 1, 1, 2, 1, 2, 1, 1, 2, 1, 1, 2, 1, 2, 1, 1, 2, 1, 2, 1, 1, 2, 1, 1]) of length 279 after prefixing the suffix with 0 times the current s.m.p.Increase the value of the `max_smp_length` keyword argument to go further.\n",
      "Depth 280: [466] points, 2 living leaves...\n",
      "Depth 281: [468] points, 2 living leaves...\n"
     ]
    },
    {
     "name": "stdout",
     "output_type": "stream",
     "text": [
      "Depth 282: [470] points, 2 living leaves...\n",
      "0 living leaves, PSW(1.4092472220583487, [2, 1, 1, 2, 1, 1, 2, 1, 2, 1, 1, 2, 1, 1, 2, 1, 2, 1, 1, 2, 1]) is a \u001b[0m\u001b[1mspectral maximizing product\u001b[22m (s.m.p.)\n",
      "Use `tol` < 9.015010959956271e-13 to eliminite at least one more living leaf.\n",
      "Use `tol` > 1.0271783423831948e-12 to keep at least one more dead leaf.\n",
      "Use `new_candidate_tol` < -7.606137941706947e-13 to consider at least one more candidate as s.m.p.\n",
      "Use `new_candidate_tol` > 1.43497476123855e-8 to eliminate at least one s.m.p. candidate.\n"
     ]
    }
   ],
   "source": [
    "using JuMP, GLPK\n",
    "smp = strbin(s∞, \"01010010\")\n",
    "smp, done, polys = invariant_polytopes(s∞, with_optimizer(GLPK.Optimizer), smp, verbose=1, tol=1e-12,\n",
    "    new_candidate_tol=1e-9, max_cycles=5, max_length=1000);"
   ]
  },
  {
   "cell_type": "code",
   "execution_count": null,
   "metadata": {},
   "outputs": [
    {
     "name": "stdout",
     "output_type": "stream",
     "text": [
      "Depth 1: [1] points, 1 living leaves...\n",
      "\u001b[34m\u001b[1mNew candidate s.m.p. found\u001b[22m\u001b[39m because ⟨v_1*, v⟩ - 1 = 3.3746667548322635e15 > 1.0e-9:\n",
      "PSW(1.4006292753492893, [1, 2])\n",
      "Depth 1: [2] points, 2 living leaves...\n",
      "\u001b[34m\u001b[1mNew candidate s.m.p. found\u001b[22m\u001b[39m because ⟨v_2*, v⟩ - 1 = 0.033259564804577924 > 1.0e-9:\n",
      "PSW(1.408876381693086, [2, 1, 1])\n",
      "Depth 1: [3] points, 3 living leaves...\n",
      "Depth 2: [4] points, 1 living leaves...\n",
      "\u001b[34m\u001b[1mNew candidate s.m.p. found\u001b[22m\u001b[39m because ⟨v_3*, v⟩ - 1 = 0.017949192431122363 > 1.0e-9:\n",
      "PSW(1.409245096250178, [1, 2, 1, 2, 1])\n",
      "Depth 1: [5] points, 5 living leaves...\n",
      "Depth 2: [6] points, 1 living leaves...\n",
      "\u001b[34m\u001b[1mNew candidate s.m.p. found\u001b[22m\u001b[39m because ⟨v_4*, v⟩ - 1 = 0.00019331467996108742 > 1.0e-9:\n",
      "\u001b[31m\u001b[1maborting\u001b[22m\u001b[39m with smp candidate PSW(1.3998973616860197, [2, 1, 1, 2, 1, 2, 1, 1, 2, 1, 2, 1, 1, 2, 1, 2, 1, 1, 2, 1, 2, 1, 1, 2, 1, 1, 2]) of length 27 after prefixing the suffix with 5 times the current s.m.p.Increase the value of the `max_cycles` keyword argument to go further.\n",
      "Depth 3: [7] points, 1 living leaves...\n",
      "\u001b[34m\u001b[1mNew candidate s.m.p. found\u001b[22m\u001b[39m because ⟨v_4*, v⟩ - 1 = 0.01680676203503917 > 1.0e-9:\n",
      "PSW(1.4092472210956484, [2, 1, 1, 2, 1, 1, 2, 1])\n",
      "Depth 1: [8] points, 8 living leaves...\n",
      "Depth 2: [9] points, 1 living leaves...\n",
      "Depth 3: [10] points, 1 living leaves...\n",
      "Depth 4: [11] points, 1 living leaves...\n",
      "Depth 5: [12] points, 1 living leaves...\n",
      "Depth 6: [13] points, 1 living leaves...\n",
      "\u001b[34m\u001b[1mNew candidate s.m.p. found\u001b[22m\u001b[39m because ⟨v_6*, v⟩ - 1 = 0.00045558441763060564 > 1.0e-9:\n",
      "\u001b[31m\u001b[1maborting\u001b[22m\u001b[39m with smp candidate PSW(1.4067240985808263, [1, 2, 1, 2, 1, 1, 2, 1, 1, 2, 1, 2, 1, 1, 2, 1, 1, 2, 1, 2, 1, 1, 2, 1, 1, 2, 1, 2, 1, 1, 2, 1, 1, 2, 1, 2, 1, 1, 2, 1, 2, 1, 1, 2, 1, 1]) of length 46 after prefixing the suffix with 5 times the current s.m.p.Increase the value of the `max_cycles` keyword argument to go further.\n",
      "Depth 7: [14] points, 1 living leaves...\n",
      "Depth 8: [15] points, 1 living leaves...\n",
      "Depth 9: [16] points, 1 living leaves...\n",
      "Depth 10: [17] points, 1 living leaves...\n",
      "Depth 11: [18] points, 1 living leaves...\n",
      "\u001b[34m\u001b[1mNew candidate s.m.p. found\u001b[22m\u001b[39m because ⟨v_6*, v⟩ - 1 = 5.477159392697217e-9 > 1.0e-9:\n",
      "\u001b[31m\u001b[1maborting\u001b[22m\u001b[39m with smp candidate PSW(1.406756211215478, [1, 2, 1, 2, 1, 1, 2, 1, 1, 2, 1, 2, 1, 1, 2, 1, 1, 2, 1, 2, 1, 1, 2, 1, 1, 2, 1, 2, 1, 1, 2, 1, 2, 1, 1, 2, 1, 1, 2, 1, 2, 1, 1]) of length 43 after prefixing the suffix with 4 times the current s.m.p.Increase the value of the `max_smp_length` keyword argument to go further.\n",
      "Depth 12: [19] points, 1 living leaves...\n",
      "Depth 13: [20] points, 1 living leaves...\n",
      "Depth 14: [21] points, 1 living leaves...\n",
      "\u001b[34m\u001b[1mNew candidate s.m.p. found\u001b[22m\u001b[39m because ⟨v_6*, v⟩ - 1 = 0.0004559176909744167 > 1.0e-9:\n",
      "\u001b[31m\u001b[1maborting\u001b[22m\u001b[39m with smp candidate PSW(1.4067239559032667, [1, 2, 1, 2, 1, 1, 2, 1, 1, 2, 1, 2, 1, 1, 2, 1, 1, 2, 1, 2, 1, 1, 2, 1, 1, 2, 1, 2, 1, 1, 2, 1, 2, 1, 1, 2, 1, 1, 2, 1, 2, 1, 1, 2, 1, 1]) of length 46 after prefixing the suffix with 4 times the current s.m.p.Increase the value of the `max_smp_length` keyword argument to go further.\n",
      "Depth 15: [23] points, 2 living leaves...\n",
      "Depth 16: [25] points, 2 living leaves...\n",
      "Depth 17: [27] points, 2 living leaves...\n",
      "Depth 18: [29] points, 2 living leaves...\n",
      "Depth 19: [31] points, 2 living leaves...\n",
      "\u001b[34m\u001b[1mNew candidate s.m.p. found\u001b[22m\u001b[39m because ⟨v_6*, v⟩ - 1 = 1.4343256804494331e-8 > 1.0e-9:\n",
      "\u001b[31m\u001b[1maborting\u001b[22m\u001b[39m with smp candidate PSW(1.4067562098475028, [1, 2, 1, 2, 1, 1, 2, 1, 1, 2, 1, 2, 1, 1, 2, 1, 1, 2, 1, 2, 1, 1, 2, 1, 2, 1, 1, 2, 1, 1, 2, 1, 2, 1, 1, 2, 1, 1, 2, 1, 2, 1, 1]) of length 43 after prefixing the suffix with 3 times the current s.m.p.Increase the value of the `max_smp_length` keyword argument to go further.\n",
      "\u001b[34m\u001b[1mNew candidate s.m.p. found\u001b[22m\u001b[39m because ⟨v_6*, v⟩ - 1 = 0.0004555932998868695 > 1.0e-9:\n",
      "\u001b[31m\u001b[1maborting\u001b[22m\u001b[39m with smp candidate PSW(1.406548235742147, [1, 2, 1, 2, 1, 1, 2, 1, 1, 2, 1, 2, 1, 1, 2, 1, 1, 2, 1, 2, 1, 1, 2, 1, 2, 1, 1, 2, 1, 1, 2, 1, 2, 1, 1, 2, 1, 2, 1, 1, 2, 1, 1]) of length 43 after prefixing the suffix with 3 times the current s.m.p.Increase the value of the `max_smp_length` keyword argument to go further.\n",
      "Depth 20: [33] points, 2 living leaves...\n",
      "Depth 21: [35] points, 2 living leaves...\n",
      "Depth 22: [37] points, 2 living leaves...\n",
      "\u001b[34m\u001b[1mNew candidate s.m.p. found\u001b[22m\u001b[39m because ⟨v_6*, v⟩ - 1 = 0.00045591793477361975 > 1.0e-9:\n",
      "\u001b[31m\u001b[1maborting\u001b[22m\u001b[39m with smp candidate PSW(1.406723955799902, [1, 2, 1, 2, 1, 1, 2, 1, 1, 2, 1, 2, 1, 1, 2, 1, 1, 2, 1, 2, 1, 1, 2, 1, 2, 1, 1, 2, 1, 1, 2, 1, 2, 1, 1, 2, 1, 1, 2, 1, 2, 1, 1, 2, 1, 1]) of length 46 after prefixing the suffix with 3 times the current s.m.p.Increase the value of the `max_smp_length` keyword argument to go further.\n",
      "Depth 23: [40] points, 3 living leaves...\n",
      "Depth 24: [42] points, 2 living leaves...\n",
      "\u001b[34m\u001b[1mNew candidate s.m.p. found\u001b[22m\u001b[39m because ⟨v_6*, v⟩ - 1 = 1.4357793176600353e-8 > 1.0e-9:\n",
      "\u001b[31m\u001b[1maborting\u001b[22m\u001b[39m with smp candidate PSW(1.407015486096551, [1, 2, 1, 2, 1, 1, 2, 1, 1, 2, 1, 2, 1, 1, 2, 1, 1, 2, 1, 2, 1, 1, 2, 1, 2, 1, 1, 2, 1, 1, 2, 1, 2, 1, 1, 2, 1, 2, 1, 1, 2, 1, 1, 2, 1, 2, 1, 1]) of length 48 after prefixing the suffix with 3 times the current s.m.p.Increase the value of the `max_smp_length` keyword argument to go further.\n",
      "Depth 25: [44] points, 2 living leaves...\n",
      "Depth 26: [46] points, 2 living leaves...\n",
      "Depth 27: [48] points, 2 living leaves...\n",
      "\u001b[34m\u001b[1mNew candidate s.m.p. found\u001b[22m\u001b[39m because ⟨v_6*, v⟩ - 1 = 0.0004555987699104147 > 1.0e-9:\n",
      "\u001b[31m\u001b[1maborting\u001b[22m\u001b[39m with smp candidate PSW(1.4065482373939424, [1, 2, 1, 2, 1, 1, 2, 1, 1, 2, 1, 2, 1, 1, 2, 1, 2, 1, 1, 2, 1, 1, 2, 1, 2, 1, 1, 2, 1, 1, 2, 1, 2, 1, 1, 2, 1, 2, 1, 1, 2, 1, 1]) of length 43 after prefixing the suffix with 2 times the current s.m.p.Increase the value of the `max_smp_length` keyword argument to go further.\n",
      "\u001b[34m\u001b[1mNew candidate s.m.p. found\u001b[22m\u001b[39m because ⟨v_6*, v⟩ - 1 = 0.00045592657572135487 > 1.0e-9:\n",
      "\u001b[31m\u001b[1maborting\u001b[22m\u001b[39m with smp candidate PSW(1.4065480846025402, [1, 2, 1, 2, 1, 1, 2, 1, 1, 2, 1, 2, 1, 1, 2, 1, 2, 1, 1, 2, 1, 1, 2, 1, 2, 1, 1, 2, 1, 2, 1, 1, 2, 1, 1, 2, 1, 2, 1, 1, 2, 1, 1]) of length 43 after prefixing the suffix with 2 times the current s.m.p.Increase the value of the `max_smp_length` keyword argument to go further.\n",
      "Depth 28: [51] points, 3 living leaves...\n",
      "Depth 29: [54] points, 3 living leaves...\n",
      "Depth 30: [57] points, 3 living leaves...\n",
      "Depth 31: [60] points, 3 living leaves...\n",
      "Depth 32: [63] points, 3 living leaves...\n",
      "\u001b[34m\u001b[1mNew candidate s.m.p. found\u001b[22m\u001b[39m because ⟨v_6*, v⟩ - 1 = 1.9822905539257363e-8 > 1.0e-9:\n",
      "\u001b[31m\u001b[1maborting\u001b[22m\u001b[39m with smp candidate PSW(1.4070154874833376, [1, 2, 1, 2, 1, 1, 2, 1, 1, 2, 1, 2, 1, 1, 2, 1, 2, 1, 1, 2, 1, 1, 2, 1, 2, 1, 1, 2, 1, 1, 2, 1, 2, 1, 1, 2, 1, 2, 1, 1, 2, 1, 1, 2, 1, 2, 1, 1]) of length 48 after prefixing the suffix with 2 times the current s.m.p.Increase the value of the `max_smp_length` keyword argument to go further.\n",
      "\u001b[34m\u001b[1mNew candidate s.m.p. found\u001b[22m\u001b[39m because ⟨v_6*, v⟩ - 1 = 2.3223956757689734e-8 > 1.0e-9:\n",
      "\u001b[31m\u001b[1maborting\u001b[22m\u001b[39m with smp candidate PSW(1.407015486096551, [1, 2, 1, 2, 1, 1, 2, 1, 1, 2, 1, 2, 1, 1, 2, 1, 2, 1, 1, 2, 1, 1, 2, 1, 2, 1, 1, 2, 1, 2, 1, 1, 2, 1, 1, 2, 1, 2, 1, 1, 2, 1, 1, 2, 1, 2, 1, 1]) of length 48 after prefixing the suffix with 2 times the current s.m.p.Increase the value of the `max_smp_length` keyword argument to go further.\n",
      "\u001b[34m\u001b[1mNew candidate s.m.p. found\u001b[22m\u001b[39m because ⟨v_6*, v⟩ - 1 = 0.00045560218459206325 > 1.0e-9:\n",
      "\u001b[31m\u001b[1maborting\u001b[22m\u001b[39m with smp candidate PSW(1.4068291402815882, [1, 2, 1, 2, 1, 1, 2, 1, 1, 2, 1, 2, 1, 1, 2, 1, 2, 1, 1, 2, 1, 1, 2, 1, 2, 1, 1, 2, 1, 2, 1, 1, 2, 1, 1, 2, 1, 2, 1, 1, 2, 1, 2, 1, 1, 2, 1, 1]) of length 48 after prefixing the suffix with 2 times the current s.m.p.Increase the value of the `max_smp_length` keyword argument to go further.\n",
      "Depth 33: [66] points, 3 living leaves...\n",
      "Depth 34: [69] points, 3 living leaves...\n",
      "Depth 35: [72] points, 3 living leaves...\n",
      "\u001b[34m\u001b[1mNew candidate s.m.p. found\u001b[22m\u001b[39m because ⟨v_6*, v⟩ - 1 = 0.0004559320432608871 > 1.0e-9:\n",
      "\u001b[31m\u001b[1maborting\u001b[22m\u001b[39m with smp candidate PSW(1.4065501000165013, [1, 2, 1, 2, 1, 1, 2, 1, 2, 1, 1, 2, 1, 1, 2, 1, 2, 1, 1, 2, 1, 1, 2, 1, 2, 1, 1, 2, 1, 2, 1, 1, 2, 1, 1, 2, 1, 2, 1, 1, 2, 1, 1]) of length 43 after prefixing the suffix with 1 times the current s.m.p.Increase the value of the `max_smp_length` keyword argument to go further.\n",
      "Depth 36: [75] points, 3 living leaves...\n",
      "Depth 37: [78] points, 3 living leaves...\n",
      "\u001b[34m\u001b[1mNew candidate s.m.p. found\u001b[22m\u001b[39m because ⟨v_6*, v⟩ - 1 = 2.3238452939722265e-8 > 1.0e-9:\n",
      "\u001b[31m\u001b[1maborting\u001b[22m\u001b[39m with smp candidate PSW(1.4068686193932, [1, 2, 1, 2, 1, 1, 2, 1, 2, 1, 1, 2, 1, 1, 2, 1, 2, 1, 1, 2, 1, 2, 1, 1, 2, 1, 1, 2, 1, 2, 1, 1, 2, 1, 2, 1, 1, 2, 1, 1, 2, 1, 2, 1, 1]) of length 45 after prefixing the suffix with 1 times the current s.m.p.Increase the value of the `max_smp_length` keyword argument to go further.\n",
      "Depth 38: [81] points, 3 living leaves...\n",
      "Depth 39: [84] points, 3 living leaves...\n",
      "Depth 40: [87] points, 3 living leaves...\n",
      "\u001b[34m\u001b[1mNew candidate s.m.p. found\u001b[22m\u001b[39m because ⟨v_6*, v⟩ - 1 = 2.8689002951054476e-8 > 1.0e-9:\n",
      "\u001b[31m\u001b[1maborting\u001b[22m\u001b[39m with smp candidate PSW(1.4070171629719188, [1, 2, 1, 2, 1, 1, 2, 1, 2, 1, 1, 2, 1, 1, 2, 1, 2, 1, 1, 2, 1, 1, 2, 1, 2, 1, 1, 2, 1, 2, 1, 1, 2, 1, 1, 2, 1, 2, 1, 1, 2, 1, 1, 2, 1, 2, 1, 1]) of length 48 after prefixing the suffix with 1 times the current s.m.p.Increase the value of the `max_smp_length` keyword argument to go further.\n",
      "\u001b[34m\u001b[1mNew candidate s.m.p. found\u001b[22m\u001b[39m because ⟨v_6*, v⟩ - 1 = 0.00045560765216823285 > 1.0e-9:\n",
      "\u001b[31m\u001b[1maborting\u001b[22m\u001b[39m with smp candidate PSW(1.4068309460221968, [1, 2, 1, 2, 1, 1, 2, 1, 2, 1, 1, 2, 1, 1, 2, 1, 2, 1, 1, 2, 1, 1, 2, 1, 2, 1, 1, 2, 1, 2, 1, 1, 2, 1, 1, 2, 1, 2, 1, 1, 2, 1, 2, 1, 1, 2, 1, 1]) of length 48 after prefixing the suffix with 1 times the current s.m.p.Increase the value of the `max_smp_length` keyword argument to go further.\n",
      "\u001b[34m\u001b[1mNew candidate s.m.p. found\u001b[22m\u001b[39m because ⟨v_6*, v⟩ - 1 = 0.0004559354604298793 > 1.0e-9:\n",
      "\u001b[31m\u001b[1maborting\u001b[22m\u001b[39m with smp candidate PSW(1.4068308092265358, [1, 2, 1, 2, 1, 1, 2, 1, 2, 1, 1, 2, 1, 1, 2, 1, 2, 1, 1, 2, 1, 2, 1, 1, 2, 1, 1, 2, 1, 2, 1, 1, 2, 1, 2, 1, 1, 2, 1, 1, 2, 1, 2, 1, 1, 2, 1, 1]) of length 48 after prefixing the suffix with 1 times the current s.m.p.Increase the value of the `max_smp_length` keyword argument to go further.\n",
      "Depth 41: [91] points, 4 living leaves...\n",
      "Depth 42: [95] points, 4 living leaves...\n",
      "Depth 43: [99] points, 4 living leaves...\n",
      "\u001b[34m\u001b[1mNew candidate s.m.p. found\u001b[22m\u001b[39m because ⟨v_6*, v⟩ - 1 = 0.0004559322870598681 > 1.0e-9:\n",
      "\u001b[31m\u001b[1maborting\u001b[22m\u001b[39m with smp candidate PSW(1.409197460925545, [2, 1, 1, 2, 1, 1, 2, 1, 2, 1, 1, 2, 1, 1, 2, 1, 2, 1, 1, 2, 1, 2, 1, 1, 2, 1, 1, 2, 1, 2, 1, 1, 2, 1, 1, 2, 1, 2, 1, 1, 2, 1, 1]) of length 43 after prefixing the suffix with 0 times the current s.m.p.Increase the value of the `max_smp_length` keyword argument to go further.\n",
      "Depth 44: [104] points, 5 living leaves...\n"
     ]
    },
    {
     "name": "stdout",
     "output_type": "stream",
     "text": [
      "Depth 45: [108] points, 4 living leaves...\n",
      "\u001b[34m\u001b[1mNew candidate s.m.p. found\u001b[22m\u001b[39m because ⟨v_6*, v⟩ - 1 = 2.8703539101115894e-8 > 1.0e-9:\n",
      "\u001b[31m\u001b[1maborting\u001b[22m\u001b[39m with smp candidate PSW(1.4092242706095388, [2, 1, 1, 2, 1, 1, 2, 1, 2, 1, 1, 2, 1, 1, 2, 1, 2, 1, 1, 2, 1, 2, 1, 1, 2, 1, 1, 2, 1, 2, 1, 1, 2, 1, 2, 1, 1, 2, 1, 1, 2, 1, 2, 1, 1]) of length 45 after prefixing the suffix with 0 times the current s.m.p.Increase the value of the `max_smp_length` keyword argument to go further.\n",
      "\u001b[34m\u001b[1mNew candidate s.m.p. found\u001b[22m\u001b[39m because ⟨v_6*, v⟩ - 1 = 3.2104616520811646e-8 > 1.0e-9:\n",
      "\u001b[31m\u001b[1maborting\u001b[22m\u001b[39m with smp candidate PSW(1.4092242873802874, [2, 1, 1, 2, 1, 1, 2, 1, 2, 1, 1, 2, 1, 2, 1, 1, 2, 1, 1, 2, 1, 2, 1, 1, 2, 1, 2, 1, 1, 2, 1, 1, 2, 1, 2, 1, 1, 2, 1, 1, 2, 1, 2, 1, 1]) of length 45 after prefixing the suffix with 0 times the current s.m.p.Increase the value of the `max_smp_length` keyword argument to go further.\n",
      "\u001b[34m\u001b[1mNew candidate s.m.p. found\u001b[22m\u001b[39m because ⟨v_6*, v⟩ - 1 = 0.000455611069297035 > 1.0e-9:\n",
      "\u001b[31m\u001b[1maborting\u001b[22m\u001b[39m with smp candidate PSW(1.409199708995044, [2, 1, 1, 2, 1, 1, 2, 1, 2, 1, 1, 2, 1, 2, 1, 1, 2, 1, 1, 2, 1, 2, 1, 1, 2, 1, 2, 1, 1, 2, 1, 1, 2, 1, 2, 1, 1, 2, 1, 2, 1, 1, 2, 1, 1]) of length 45 after prefixing the suffix with 0 times the current s.m.p.Increase the value of the `max_smp_length` keyword argument to go further.\n",
      "Depth 46: [112] points, 4 living leaves...\n",
      "Depth 47: [116] points, 4 living leaves...\n",
      "Depth 48: [120] points, 4 living leaves...\n",
      "\u001b[34m\u001b[1mNew candidate s.m.p. found\u001b[22m\u001b[39m because ⟨v_6*, v⟩ - 1 = 0.00045561312219266625 > 1.0e-9:\n",
      "\u001b[31m\u001b[1maborting\u001b[22m\u001b[39m with smp candidate PSW(1.4092026614914106, [2, 1, 1, 2, 1, 1, 2, 1, 2, 1, 1, 2, 1, 1, 2, 1, 2, 1, 1, 2, 1, 2, 1, 1, 2, 1, 1, 2, 1, 2, 1, 1, 2, 1, 1, 2, 1, 2, 1, 1, 2, 1, 2, 1, 1, 2, 1, 1]) of length 48 after prefixing the suffix with 0 times the current s.m.p.Increase the value of the `max_smp_length` keyword argument to go further.\n",
      "\u001b[34m\u001b[1mNew candidate s.m.p. found\u001b[22m\u001b[39m because ⟨v_6*, v⟩ - 1 = 0.0004559409280076032 > 1.0e-9:\n",
      "\u001b[31m\u001b[1maborting\u001b[22m\u001b[39m with smp candidate PSW(1.4092026444676766, [2, 1, 1, 2, 1, 1, 2, 1, 2, 1, 1, 2, 1, 1, 2, 1, 2, 1, 1, 2, 1, 2, 1, 1, 2, 1, 1, 2, 1, 2, 1, 1, 2, 1, 2, 1, 1, 2, 1, 1, 2, 1, 2, 1, 1, 2, 1, 1]) of length 48 after prefixing the suffix with 0 times the current s.m.p.Increase the value of the `max_smp_length` keyword argument to go further.\n",
      "Depth 49: [124] points, 4 living leaves...\n",
      "Depth 50: [128] points, 4 living leaves...\n",
      "\u001b[34m\u001b[1mNew candidate s.m.p. found\u001b[22m\u001b[39m because ⟨v_6*, v⟩ - 1 = 3.211911225875497e-8 > 1.0e-9:\n",
      "\u001b[31m\u001b[1maborting\u001b[22m\u001b[39m with smp candidate PSW(1.4092265809963673, [2, 1, 1, 2, 1, 1, 2, 1, 2, 1, 1, 2, 1, 2, 1, 1, 2, 1, 1, 2, 1, 2, 1, 1, 2, 1, 2, 1, 1, 2, 1, 1, 2, 1, 2, 1, 1, 2, 1, 2, 1, 1, 2, 1, 1, 2, 1, 2, 1, 1]) of length 50 after prefixing the suffix with 0 times the current s.m.p.Increase the value of the `max_smp_length` keyword argument to go further.\n",
      "Depth 51: [132] points, 4 living leaves...\n",
      "Depth 52: [136] points, 4 living leaves...\n",
      "Depth 53: [140] points, 4 living leaves...\n",
      "\u001b[34m\u001b[1mNew candidate s.m.p. found\u001b[22m\u001b[39m because ⟨v_6*, v⟩ - 1 = 3.416865235195132e-8 > 1.0e-9:\n",
      "\u001b[31m\u001b[1maborting\u001b[22m\u001b[39m with smp candidate PSW(1.4092277349552176, [2, 1, 1, 2, 1, 1, 2, 1, 2, 1, 1, 2, 1, 1, 2, 1, 2, 1, 1, 2, 1, 2, 1, 1, 2, 1, 1, 2, 1, 2, 1, 1, 2, 1, 1, 2, 1, 2, 1, 1, 2, 1, 2, 1, 1, 2, 1, 1, 2, 1, 2, 1, 1]) of length 53 after prefixing the suffix with 0 times the current s.m.p.Increase the value of the `max_smp_length` keyword argument to go further.\n",
      "\u001b[34m\u001b[1mNew candidate s.m.p. found\u001b[22m\u001b[39m because ⟨v_6*, v⟩ - 1 = 3.756970290424988e-8 > 1.0e-9:\n",
      "\u001b[31m\u001b[1maborting\u001b[22m\u001b[39m with smp candidate PSW(1.4092277347994824, [2, 1, 1, 2, 1, 1, 2, 1, 2, 1, 1, 2, 1, 1, 2, 1, 2, 1, 1, 2, 1, 2, 1, 1, 2, 1, 1, 2, 1, 2, 1, 1, 2, 1, 2, 1, 1, 2, 1, 1, 2, 1, 2, 1, 1, 2, 1, 1, 2, 1, 2, 1, 1]) of length 53 after prefixing the suffix with 0 times the current s.m.p.Increase the value of the `max_smp_length` keyword argument to go further.\n",
      "\u001b[34m\u001b[1mNew candidate s.m.p. found\u001b[22m\u001b[39m because ⟨v_6*, v⟩ - 1 = 0.0004556165368734266 > 1.0e-9:\n",
      "\u001b[31m\u001b[1maborting\u001b[22m\u001b[39m with smp candidate PSW(1.4092068652583998, [2, 1, 1, 2, 1, 1, 2, 1, 2, 1, 1, 2, 1, 1, 2, 1, 2, 1, 1, 2, 1, 2, 1, 1, 2, 1, 1, 2, 1, 2, 1, 1, 2, 1, 2, 1, 1, 2, 1, 1, 2, 1, 2, 1, 1, 2, 1, 2, 1, 1, 2, 1, 1]) of length 53 after prefixing the suffix with 0 times the current s.m.p.Increase the value of the `max_smp_length` keyword argument to go further.\n",
      "\u001b[34m\u001b[1mNew candidate s.m.p. found\u001b[22m\u001b[39m because ⟨v_6*, v⟩ - 1 = 0.00045594434513795967 > 1.0e-9:\n",
      "\u001b[31m\u001b[1maborting\u001b[22m\u001b[39m with smp candidate PSW(1.4092068652583998, [2, 1, 1, 2, 1, 1, 2, 1, 2, 1, 1, 2, 1, 2, 1, 1, 2, 1, 1, 2, 1, 2, 1, 1, 2, 1, 2, 1, 1, 2, 1, 1, 2, 1, 2, 1, 1, 2, 1, 2, 1, 1, 2, 1, 1, 2, 1, 2, 1, 1, 2, 1, 1]) of length 53 after prefixing the suffix with 0 times the current s.m.p.Increase the value of the `max_smp_length` keyword argument to go further.\n",
      "Depth 54: [145] points, 5 living leaves...\n",
      "Depth 55: [150] points, 5 living leaves...\n",
      "Depth 56: [155] points, 5 living leaves...\n",
      "\u001b[34m\u001b[1mNew candidate s.m.p. found\u001b[22m\u001b[39m because ⟨v_6*, v⟩ - 1 = 0.0004559463955482457 > 1.0e-9:\n",
      "\u001b[31m\u001b[1maborting\u001b[22m\u001b[39m with smp candidate PSW(1.4092090126085826, [2, 1, 1, 2, 1, 1, 2, 1, 2, 1, 1, 2, 1, 1, 2, 1, 2, 1, 1, 2, 1, 2, 1, 1, 2, 1, 1, 2, 1, 2, 1, 1, 2, 1, 1, 2, 1, 2, 1, 1, 2, 1, 2, 1, 1, 2, 1, 1, 2, 1, 2, 1, 1, 2, 1, 1]) of length 56 after prefixing the suffix with 0 times the current s.m.p.Increase the value of the `max_smp_length` keyword argument to go further.\n",
      "Depth 57: [160] points, 5 living leaves...\n",
      "Depth 58: [165] points, 5 living leaves...\n",
      "\u001b[34m\u001b[1mNew candidate s.m.p. found\u001b[22m\u001b[39m because ⟨v_6*, v⟩ - 1 = 3.7584198420148596e-8 > 1.0e-9:\n",
      "\u001b[31m\u001b[1maborting\u001b[22m\u001b[39m with smp candidate PSW(1.4092294148672866, [2, 1, 1, 2, 1, 1, 2, 1, 2, 1, 1, 2, 1, 1, 2, 1, 2, 1, 1, 2, 1, 2, 1, 1, 2, 1, 1, 2, 1, 2, 1, 1, 2, 1, 2, 1, 1, 2, 1, 1, 2, 1, 2, 1, 1, 2, 1, 2, 1, 1, 2, 1, 1, 2, 1, 2, 1, 1]) of length 58 after prefixing the suffix with 0 times the current s.m.p.Increase the value of the `max_smp_length` keyword argument to go further.\n",
      "\u001b[34m\u001b[1mNew candidate s.m.p. found\u001b[22m\u001b[39m because ⟨v_6*, v⟩ - 1 = 4.098527583984435e-8 > 1.0e-9:\n",
      "\u001b[31m\u001b[1maborting\u001b[22m\u001b[39m with smp candidate PSW(1.4092294278791218, [2, 1, 1, 2, 1, 1, 2, 1, 2, 1, 1, 2, 1, 2, 1, 1, 2, 1, 1, 2, 1, 2, 1, 1, 2, 1, 2, 1, 1, 2, 1, 1, 2, 1, 2, 1, 1, 2, 1, 2, 1, 1, 2, 1, 1, 2, 1, 2, 1, 1, 2, 1, 1, 2, 1, 2, 1, 1]) of length 58 after prefixing the suffix with 0 times the current s.m.p.Increase the value of the `max_smp_length` keyword argument to go further.\n",
      "\u001b[34m\u001b[1mNew candidate s.m.p. found\u001b[22m\u001b[39m because ⟨v_6*, v⟩ - 1 = 0.0004556199540024508 > 1.0e-9:\n",
      "\u001b[31m\u001b[1maborting\u001b[22m\u001b[39m with smp candidate PSW(1.409210358335461, [2, 1, 1, 2, 1, 1, 2, 1, 2, 1, 1, 2, 1, 2, 1, 1, 2, 1, 1, 2, 1, 2, 1, 1, 2, 1, 2, 1, 1, 2, 1, 1, 2, 1, 2, 1, 1, 2, 1, 2, 1, 1, 2, 1, 1, 2, 1, 2, 1, 1, 2, 1, 2, 1, 1, 2, 1, 1]) of length 58 after prefixing the suffix with 0 times the current s.m.p.Increase the value of the `max_smp_length` keyword argument to go further.\n",
      "Depth 59: [170] points, 5 living leaves...\n",
      "Depth 60: [175] points, 5 living leaves...\n",
      "Depth 61: [180] points, 5 living leaves...\n",
      "\u001b[34m\u001b[1mNew candidate s.m.p. found\u001b[22m\u001b[39m because ⟨v_6*, v⟩ - 1 = 4.3034750207837646e-8 > 1.0e-9:\n",
      "\u001b[31m\u001b[1maborting\u001b[22m\u001b[39m with smp candidate PSW(1.40923029049021, [2, 1, 1, 2, 1, 1, 2, 1, 2, 1, 1, 2, 1, 1, 2, 1, 2, 1, 1, 2, 1, 2, 1, 1, 2, 1, 1, 2, 1, 2, 1, 1, 2, 1, 1, 2, 1, 2, 1, 1, 2, 1, 2, 1, 1, 2, 1, 1, 2, 1, 2, 1, 1, 2, 1, 1, 2, 1, 2, 1, 1]) of length 61 after prefixing the suffix with 0 times the current s.m.p.Increase the value of the `max_smp_length` keyword argument to go further.\n",
      "\u001b[34m\u001b[1mNew candidate s.m.p. found\u001b[22m\u001b[39m because ⟨v_6*, v⟩ - 1 = 0.00045562200445115053 > 1.0e-9:\n",
      "\u001b[31m\u001b[1maborting\u001b[22m\u001b[39m with smp candidate PSW(1.4092121578876302, [2, 1, 1, 2, 1, 1, 2, 1, 2, 1, 1, 2, 1, 1, 2, 1, 2, 1, 1, 2, 1, 2, 1, 1, 2, 1, 1, 2, 1, 2, 1, 1, 2, 1, 1, 2, 1, 2, 1, 1, 2, 1, 2, 1, 1, 2, 1, 1, 2, 1, 2, 1, 1, 2, 1, 2, 1, 1, 2, 1, 1]) of length 61 after prefixing the suffix with 0 times the current s.m.p.Increase the value of the `max_smp_length` keyword argument to go further.\n"
     ]
    },
    {
     "name": "stdout",
     "output_type": "stream",
     "text": [
      "\u001b[34m\u001b[1mNew candidate s.m.p. found\u001b[22m\u001b[39m because ⟨v_6*, v⟩ - 1 = 0.0004559498127159056 > 1.0e-9:\n",
      "\u001b[31m\u001b[1maborting\u001b[22m\u001b[39m with smp candidate PSW(1.409212144491715, [2, 1, 1, 2, 1, 1, 2, 1, 2, 1, 1, 2, 1, 1, 2, 1, 2, 1, 1, 2, 1, 2, 1, 1, 2, 1, 1, 2, 1, 2, 1, 1, 2, 1, 2, 1, 1, 2, 1, 1, 2, 1, 2, 1, 1, 2, 1, 2, 1, 1, 2, 1, 1, 2, 1, 2, 1, 1, 2, 1, 1]) of length 61 after prefixing the suffix with 0 times the current s.m.p.Increase the value of the `max_smp_length` keyword argument to go further.\n",
      "Depth 62: [185] points, 5 living leaves...\n",
      "Depth 63: [190] points, 5 living leaves...\n",
      "\u001b[34m\u001b[1mNew candidate s.m.p. found\u001b[22m\u001b[39m because ⟨v_6*, v⟩ - 1 = 4.099977157778767e-8 > 1.0e-9:\n",
      "\u001b[31m\u001b[1maborting\u001b[22m\u001b[39m with smp candidate PSW(1.4092308402383684, [2, 1, 1, 2, 1, 1, 2, 1, 2, 1, 1, 2, 1, 2, 1, 1, 2, 1, 1, 2, 1, 2, 1, 1, 2, 1, 2, 1, 1, 2, 1, 1, 2, 1, 2, 1, 1, 2, 1, 2, 1, 1, 2, 1, 1, 2, 1, 2, 1, 1, 2, 1, 2, 1, 1, 2, 1, 1, 2, 1, 2, 1, 1]) of length 63 after prefixing the suffix with 0 times the current s.m.p.Increase the value of the `max_smp_length` keyword argument to go further.\n",
      "Depth 64: [195] points, 5 living leaves...\n",
      "\u001b[34m\u001b[1mNew candidate s.m.p. found\u001b[22m\u001b[39m because ⟨v_6*, v⟩ - 1 = 0.0004559466393474487 > 1.0e-9:\n",
      "\u001b[31m\u001b[1maborting\u001b[22m\u001b[39m with smp candidate PSW(1.4092137886035605, [2, 1, 1, 2, 1, 1, 2, 1, 2, 1, 1, 2, 1, 1, 2, 1, 2, 1, 1, 2, 1, 2, 1, 1, 2, 1, 1, 2, 1, 2, 1, 1, 2, 1, 1, 2, 1, 2, 1, 1, 2, 1, 2, 1, 1, 2, 1, 1, 2, 1, 2, 1, 1, 2, 1, 1, 2, 1, 2, 1, 1, 2, 1, 1]) of length 64 after prefixing the suffix with 0 times the current s.m.p.Increase the value of the `max_smp_length` keyword argument to go further.\n",
      "Depth 65: [201] points, 6 living leaves...\n",
      "Depth 66: [206] points, 5 living leaves...\n",
      "\u001b[34m\u001b[1mNew candidate s.m.p. found\u001b[22m\u001b[39m because ⟨v_6*, v⟩ - 1 = 4.304928657994367e-8 > 1.0e-9:\n",
      "\u001b[31m\u001b[1maborting\u001b[22m\u001b[39m with smp candidate PSW(1.4092315733027048, [2, 1, 1, 2, 1, 1, 2, 1, 2, 1, 1, 2, 1, 1, 2, 1, 2, 1, 1, 2, 1, 2, 1, 1, 2, 1, 1, 2, 1, 2, 1, 1, 2, 1, 1, 2, 1, 2, 1, 1, 2, 1, 2, 1, 1, 2, 1, 1, 2, 1, 2, 1, 1, 2, 1, 2, 1, 1, 2, 1, 1, 2, 1, 2, 1, 1]) of length 66 after prefixing the suffix with 0 times the current s.m.p.Increase the value of the `max_smp_length` keyword argument to go further.\n",
      "\u001b[34m\u001b[1mNew candidate s.m.p. found\u001b[22m\u001b[39m because ⟨v_6*, v⟩ - 1 = 4.645036222328258e-8 > 1.0e-9:\n",
      "\u001b[31m\u001b[1maborting\u001b[22m\u001b[39m with smp candidate PSW(1.4092315731776435, [2, 1, 1, 2, 1, 1, 2, 1, 2, 1, 1, 2, 1, 1, 2, 1, 2, 1, 1, 2, 1, 2, 1, 1, 2, 1, 1, 2, 1, 2, 1, 1, 2, 1, 2, 1, 1, 2, 1, 1, 2, 1, 2, 1, 1, 2, 1, 2, 1, 1, 2, 1, 1, 2, 1, 2, 1, 1, 2, 1, 1, 2, 1, 2, 1, 1]) of length 66 after prefixing the suffix with 0 times the current s.m.p.Increase the value of the `max_smp_length` keyword argument to go further.\n",
      "\u001b[34m\u001b[1mNew candidate s.m.p. found\u001b[22m\u001b[39m because ⟨v_6*, v⟩ - 1 = 0.00045562542157884245 > 1.0e-9:\n",
      "\u001b[31m\u001b[1maborting\u001b[22m\u001b[39m with smp candidate PSW(1.4092148142336542, [2, 1, 1, 2, 1, 1, 2, 1, 2, 1, 1, 2, 1, 1, 2, 1, 2, 1, 1, 2, 1, 2, 1, 1, 2, 1, 1, 2, 1, 2, 1, 1, 2, 1, 2, 1, 1, 2, 1, 1, 2, 1, 2, 1, 1, 2, 1, 2, 1, 1, 2, 1, 1, 2, 1, 2, 1, 1, 2, 1, 2, 1, 1, 2, 1, 1]) of length 66 after prefixing the suffix with 0 times the current s.m.p.Increase the value of the `max_smp_length` keyword argument to go further.\n",
      "\u001b[34m\u001b[1mNew candidate s.m.p. found\u001b[22m\u001b[39m because ⟨v_6*, v⟩ - 1 = 0.00045595322984604003 > 1.0e-9:\n",
      "\u001b[31m\u001b[1maborting\u001b[22m\u001b[39m with smp candidate PSW(1.4092148142336542, [2, 1, 1, 2, 1, 1, 2, 1, 2, 1, 1, 2, 1, 2, 1, 1, 2, 1, 1, 2, 1, 2, 1, 1, 2, 1, 2, 1, 1, 2, 1, 1, 2, 1, 2, 1, 1, 2, 1, 2, 1, 1, 2, 1, 1, 2, 1, 2, 1, 1, 2, 1, 2, 1, 1, 2, 1, 1, 2, 1, 2, 1, 1, 2, 1, 1]) of length 66 after prefixing the suffix with 0 times the current s.m.p.Increase the value of the `max_smp_length` keyword argument to go further.\n",
      "Depth 67: [212] points, 6 living leaves...\n",
      "Depth 68: [218] points, 6 living leaves...\n",
      "Depth 69: [224] points, 6 living leaves...\n",
      "\u001b[34m\u001b[1mNew candidate s.m.p. found\u001b[22m\u001b[39m because ⟨v_6*, v⟩ - 1 = 0.0004556274744753619 > 1.0e-9:\n",
      "\u001b[31m\u001b[1maborting\u001b[22m\u001b[39m with smp candidate PSW(1.4092162232539274, [2, 1, 1, 2, 1, 1, 2, 1, 2, 1, 1, 2, 1, 1, 2, 1, 2, 1, 1, 2, 1, 2, 1, 1, 2, 1, 1, 2, 1, 2, 1, 1, 2, 1, 1, 2, 1, 2, 1, 1, 2, 1, 2, 1, 1, 2, 1, 1, 2, 1, 2, 1, 1, 2, 1, 1, 2, 1, 2, 1, 1, 2, 1, 2, 1, 1, 2, 1, 1]) of length 69 after prefixing the suffix with 0 times the current s.m.p.Increase the value of the `max_smp_length` keyword argument to go further.\n",
      "\u001b[34m\u001b[1mNew candidate s.m.p. found\u001b[22m\u001b[39m because ⟨v_6*, v⟩ - 1 = 0.00045595528029562793 > 1.0e-9:\n",
      "\u001b[31m\u001b[1maborting\u001b[22m\u001b[39m with smp candidate PSW(1.4092162114112157, [2, 1, 1, 2, 1, 1, 2, 1, 2, 1, 1, 2, 1, 1, 2, 1, 2, 1, 1, 2, 1, 2, 1, 1, 2, 1, 1, 2, 1, 2, 1, 1, 2, 1, 1, 2, 1, 2, 1, 1, 2, 1, 2, 1, 1, 2, 1, 1, 2, 1, 2, 1, 1, 2, 1, 2, 1, 1, 2, 1, 1, 2, 1, 2, 1, 1, 2, 1, 1]) of length 69 after prefixing the suffix with 0 times the current s.m.p.Increase the value of the `max_smp_length` keyword argument to go further.\n",
      "Depth 70: [230] points, 6 living leaves...\n",
      "Depth 71: [236] points, 6 living leaves...\n",
      "\u001b[34m\u001b[1mNew candidate s.m.p. found\u001b[22m\u001b[39m because ⟨v_6*, v⟩ - 1 = 4.646485818327051e-8 > 1.0e-9:\n",
      "\u001b[31m\u001b[1maborting\u001b[22m\u001b[39m with smp candidate PSW(1.4092326753220608, [2, 1, 1, 2, 1, 1, 2, 1, 2, 1, 1, 2, 1, 1, 2, 1, 2, 1, 1, 2, 1, 2, 1, 1, 2, 1, 1, 2, 1, 2, 1, 1, 2, 1, 2, 1, 1, 2, 1, 1, 2, 1, 2, 1, 1, 2, 1, 2, 1, 1, 2, 1, 1, 2, 1, 2, 1, 1, 2, 1, 2, 1, 1, 2, 1, 1, 2, 1, 2, 1, 1]) of length 71 after prefixing the suffix with 0 times the current s.m.p.Increase the value of the `max_smp_length` keyword argument to go further.\n",
      "\u001b[34m\u001b[1mNew candidate s.m.p. found\u001b[22m\u001b[39m because ⟨v_6*, v⟩ - 1 = 4.986593515887705e-8 > 1.0e-9:\n",
      "\u001b[31m\u001b[1maborting\u001b[22m\u001b[39m with smp candidate PSW(1.4092326859514719, [2, 1, 1, 2, 1, 1, 2, 1, 2, 1, 1, 2, 1, 2, 1, 1, 2, 1, 1, 2, 1, 2, 1, 1, 2, 1, 2, 1, 1, 2, 1, 1, 2, 1, 2, 1, 1, 2, 1, 2, 1, 1, 2, 1, 1, 2, 1, 2, 1, 1, 2, 1, 2, 1, 1, 2, 1, 1, 2, 1, 2, 1, 1, 2, 1, 1, 2, 1, 2, 1, 1]) of length 71 after prefixing the suffix with 0 times the current s.m.p.Increase the value of the `max_smp_length` keyword argument to go further.\n",
      "\u001b[34m\u001b[1mNew candidate s.m.p. found\u001b[22m\u001b[39m because ⟨v_6*, v⟩ - 1 = 0.00045562883870786663 > 1.0e-9:\n",
      "\u001b[31m\u001b[1maborting\u001b[22m\u001b[39m with smp candidate PSW(1.4092171079590827, [2, 1, 1, 2, 1, 1, 2, 1, 2, 1, 1, 2, 1, 2, 1, 1, 2, 1, 1, 2, 1, 2, 1, 1, 2, 1, 2, 1, 1, 2, 1, 1, 2, 1, 2, 1, 1, 2, 1, 2, 1, 1, 2, 1, 1, 2, 1, 2, 1, 1, 2, 1, 2, 1, 1, 2, 1, 1, 2, 1, 2, 1, 1, 2, 1, 2, 1, 1, 2, 1, 1]) of length 71 after prefixing the suffix with 0 times the current s.m.p.Increase the value of the `max_smp_length` keyword argument to go further.\n",
      "Depth 72: [242] points, 6 living leaves...\n",
      "Depth 73: [248] points, 6 living leaves...\n",
      "Depth 74: [254] points, 6 living leaves...\n",
      "\u001b[34m\u001b[1mNew candidate s.m.p. found\u001b[22m\u001b[39m because ⟨v_6*, v⟩ - 1 = 4.851439916464528e-8 > 1.0e-9:\n",
      "\u001b[31m\u001b[1maborting\u001b[22m\u001b[39m with smp candidate PSW(1.4092332650516943, [2, 1, 1, 2, 1, 1, 2, 1, 2, 1, 1, 2, 1, 1, 2, 1, 2, 1, 1, 2, 1, 2, 1, 1, 2, 1, 1, 2, 1, 2, 1, 1, 2, 1, 1, 2, 1, 2, 1, 1, 2, 1, 2, 1, 1, 2, 1, 1, 2, 1, 2, 1, 1, 2, 1, 1, 2, 1, 2, 1, 1, 2, 1, 2, 1, 1, 2, 1, 1, 2, 1, 2, 1, 1]) of length 74 after prefixing the suffix with 0 times the current s.m.p.Increase the value of the `max_smp_length` keyword argument to go further.\n",
      "\u001b[34m\u001b[1mNew candidate s.m.p. found\u001b[22m\u001b[39m because ⟨v_6*, v⟩ - 1 = 5.1915450383077655e-8 > 1.0e-9:\n",
      "\u001b[31m\u001b[1maborting\u001b[22m\u001b[39m with smp candidate PSW(1.4092332649401536, [2, 1, 1, 2, 1, 1, 2, 1, 2, 1, 1, 2, 1, 1, 2, 1, 2, 1, 1, 2, 1, 2, 1, 1, 2, 1, 1, 2, 1, 2, 1, 1, 2, 1, 1, 2, 1, 2, 1, 1, 2, 1, 2, 1, 1, 2, 1, 1, 2, 1, 2, 1, 1, 2, 1, 2, 1, 1, 2, 1, 1, 2, 1, 2, 1, 1, 2, 1, 1, 2, 1, 2, 1, 1]) of length 74 after prefixing the suffix with 0 times the current s.m.p.Increase the value of the `max_smp_length` keyword argument to go further.\n",
      "\u001b[34m\u001b[1mNew candidate s.m.p. found\u001b[22m\u001b[39m because ⟨v_6*, v⟩ - 1 = 0.0004556308891567884 > 1.0e-9:\n",
      "\u001b[31m\u001b[1maborting\u001b[22m\u001b[39m with smp candidate PSW(1.4092183177463407, [2, 1, 1, 2, 1, 1, 2, 1, 2, 1, 1, 2, 1, 1, 2, 1, 2, 1, 1, 2, 1, 2, 1, 1, 2, 1, 1, 2, 1, 2, 1, 1, 2, 1, 1, 2, 1, 2, 1, 1, 2, 1, 2, 1, 1, 2, 1, 1, 2, 1, 2, 1, 1, 2, 1, 2, 1, 1, 2, 1, 1, 2, 1, 2, 1, 1, 2, 1, 2, 1, 1, 2, 1, 1]) of length 74 after prefixing the suffix with 0 times the current s.m.p.Increase the value of the `max_smp_length` keyword argument to go further.\n",
      "\u001b[34m\u001b[1mNew candidate s.m.p. found\u001b[22m\u001b[39m because ⟨v_6*, v⟩ - 1 = 0.000455958697424208 > 1.0e-9:\n",
      "\u001b[31m\u001b[1maborting\u001b[22m\u001b[39m with smp candidate PSW(1.4092183067037134, [2, 1, 1, 2, 1, 1, 2, 1, 2, 1, 1, 2, 1, 1, 2, 1, 2, 1, 1, 2, 1, 2, 1, 1, 2, 1, 1, 2, 1, 2, 1, 1, 2, 1, 2, 1, 1, 2, 1, 1, 2, 1, 2, 1, 1, 2, 1, 2, 1, 1, 2, 1, 1, 2, 1, 2, 1, 1, 2, 1, 2, 1, 1, 2, 1, 1, 2, 1, 2, 1, 1, 2, 1, 1]) of length 74 after prefixing the suffix with 0 times the current s.m.p.Increase the value of the `max_smp_length` keyword argument to go further.\n",
      "Depth 75: [260] points, 6 living leaves...\n",
      "Depth 76: [266] points, 6 living leaves...\n"
     ]
    },
    {
     "name": "stdout",
     "output_type": "stream",
     "text": [
      "\u001b[34m\u001b[1mNew candidate s.m.p. found\u001b[22m\u001b[39m because ⟨v_6*, v⟩ - 1 = 4.988043089682037e-8 > 1.0e-9:\n",
      "\u001b[31m\u001b[1maborting\u001b[22m\u001b[39m with smp candidate PSW(1.4092336423782843, [2, 1, 1, 2, 1, 1, 2, 1, 2, 1, 1, 2, 1, 2, 1, 1, 2, 1, 1, 2, 1, 2, 1, 1, 2, 1, 2, 1, 1, 2, 1, 1, 2, 1, 2, 1, 1, 2, 1, 2, 1, 1, 2, 1, 1, 2, 1, 2, 1, 1, 2, 1, 2, 1, 1, 2, 1, 1, 2, 1, 2, 1, 1, 2, 1, 2, 1, 1, 2, 1, 1, 2, 1, 2, 1, 1]) of length 76 after prefixing the suffix with 0 times the current s.m.p.Increase the value of the `max_smp_length` keyword argument to go further.\n",
      "Depth 77: [272] points, 6 living leaves...\n",
      "\u001b[34m\u001b[1mNew candidate s.m.p. found\u001b[22m\u001b[39m because ⟨v_6*, v⟩ - 1 = 0.00045596074783560425 > 1.0e-9:\n",
      "\u001b[31m\u001b[1maborting\u001b[22m\u001b[39m with smp candidate PSW(1.409219433264866, [2, 1, 1, 2, 1, 1, 2, 1, 2, 1, 1, 2, 1, 1, 2, 1, 2, 1, 1, 2, 1, 2, 1, 1, 2, 1, 1, 2, 1, 2, 1, 1, 2, 1, 1, 2, 1, 2, 1, 1, 2, 1, 2, 1, 1, 2, 1, 1, 2, 1, 2, 1, 1, 2, 1, 1, 2, 1, 2, 1, 1, 2, 1, 2, 1, 1, 2, 1, 1, 2, 1, 2, 1, 1, 2, 1, 1]) of length 77 after prefixing the suffix with 0 times the current s.m.p.Increase the value of the `max_smp_length` keyword argument to go further.\n",
      "Depth 78: [278] points, 6 living leaves...\n",
      "Depth 79: [284] points, 6 living leaves...\n",
      "\u001b[34m\u001b[1mNew candidate s.m.p. found\u001b[22m\u001b[39m because ⟨v_6*, v⟩ - 1 = 5.1929946565110185e-8 > 1.0e-9:\n",
      "\u001b[31m\u001b[1maborting\u001b[22m\u001b[39m with smp candidate PSW(1.4092341484024475, [2, 1, 1, 2, 1, 1, 2, 1, 2, 1, 1, 2, 1, 1, 2, 1, 2, 1, 1, 2, 1, 2, 1, 1, 2, 1, 1, 2, 1, 2, 1, 1, 2, 1, 1, 2, 1, 2, 1, 1, 2, 1, 2, 1, 1, 2, 1, 1, 2, 1, 2, 1, 1, 2, 1, 2, 1, 1, 2, 1, 1, 2, 1, 2, 1, 1, 2, 1, 2, 1, 1, 2, 1, 1, 2, 1, 2, 1, 1]) of length 79 after prefixing the suffix with 0 times the current s.m.p.Increase the value of the `max_smp_length` keyword argument to go further.\n",
      "\u001b[34m\u001b[1mNew candidate s.m.p. found\u001b[22m\u001b[39m because ⟨v_6*, v⟩ - 1 = 5.5331021986404494e-8 > 1.0e-9:\n",
      "\u001b[31m\u001b[1maborting\u001b[22m\u001b[39m with smp candidate PSW(1.4092341482979656, [2, 1, 1, 2, 1, 1, 2, 1, 2, 1, 1, 2, 1, 1, 2, 1, 2, 1, 1, 2, 1, 2, 1, 1, 2, 1, 1, 2, 1, 2, 1, 1, 2, 1, 2, 1, 1, 2, 1, 1, 2, 1, 2, 1, 1, 2, 1, 2, 1, 1, 2, 1, 1, 2, 1, 2, 1, 1, 2, 1, 2, 1, 1, 2, 1, 1, 2, 1, 2, 1, 1, 2, 1, 1, 2, 1, 2, 1, 1]) of length 79 after prefixing the suffix with 0 times the current s.m.p.Increase the value of the `max_smp_length` keyword argument to go further.\n",
      "\u001b[34m\u001b[1mNew candidate s.m.p. found\u001b[22m\u001b[39m because ⟨v_6*, v⟩ - 1 = 0.00045563430628425827 > 1.0e-9:\n",
      "\u001b[31m\u001b[1maborting\u001b[22m\u001b[39m with smp candidate PSW(1.4092201471156016, [2, 1, 1, 2, 1, 1, 2, 1, 2, 1, 1, 2, 1, 1, 2, 1, 2, 1, 1, 2, 1, 2, 1, 1, 2, 1, 1, 2, 1, 2, 1, 1, 2, 1, 2, 1, 1, 2, 1, 1, 2, 1, 2, 1, 1, 2, 1, 2, 1, 1, 2, 1, 1, 2, 1, 2, 1, 1, 2, 1, 2, 1, 1, 2, 1, 1, 2, 1, 2, 1, 1, 2, 1, 2, 1, 1, 2, 1, 1]) of length 79 after prefixing the suffix with 0 times the current s.m.p.Increase the value of the `max_smp_length` keyword argument to go further.\n",
      "\u001b[34m\u001b[1mNew candidate s.m.p. found\u001b[22m\u001b[39m because ⟨v_6*, v⟩ - 1 = 0.00045596211455434243 > 1.0e-9:\n",
      "\u001b[31m\u001b[1maborting\u001b[22m\u001b[39m with smp candidate PSW(1.4092201471156016, [2, 1, 1, 2, 1, 1, 2, 1, 2, 1, 1, 2, 1, 2, 1, 1, 2, 1, 1, 2, 1, 2, 1, 1, 2, 1, 2, 1, 1, 2, 1, 1, 2, 1, 2, 1, 1, 2, 1, 2, 1, 1, 2, 1, 1, 2, 1, 2, 1, 1, 2, 1, 2, 1, 1, 2, 1, 1, 2, 1, 2, 1, 1, 2, 1, 2, 1, 1, 2, 1, 1, 2, 1, 2, 1, 1, 2, 1, 1]) of length 79 after prefixing the suffix with 0 times the current s.m.p.Increase the value of the `max_smp_length` keyword argument to go further.\n",
      "Depth 80: [291] points, 7 living leaves...\n",
      "Depth 81: [298] points, 7 living leaves...\n",
      "Depth 82: [305] points, 7 living leaves...\n",
      "\u001b[34m\u001b[1mNew candidate s.m.p. found\u001b[22m\u001b[39m because ⟨v_6*, v⟩ - 1 = 5.738049702053161e-8 > 1.0e-9:\n",
      "\u001b[31m\u001b[1maborting\u001b[22m\u001b[39m with smp candidate PSW(1.4092346266041362, [2, 1, 1, 2, 1, 1, 2, 1, 2, 1, 1, 2, 1, 1, 2, 1, 2, 1, 1, 2, 1, 2, 1, 1, 2, 1, 1, 2, 1, 2, 1, 1, 2, 1, 1, 2, 1, 2, 1, 1, 2, 1, 2, 1, 1, 2, 1, 1, 2, 1, 2, 1, 1, 2, 1, 1, 2, 1, 2, 1, 1, 2, 1, 2, 1, 1, 2, 1, 1, 2, 1, 2, 1, 1, 2, 1, 1, 2, 1, 2, 1, 1]) of length 82 after prefixing the suffix with 0 times the current s.m.p.Increase the value of the `max_smp_length` keyword argument to go further.\n",
      "\u001b[34m\u001b[1mNew candidate s.m.p. found\u001b[22m\u001b[39m because ⟨v_6*, v⟩ - 1 = 0.00045563635673384617 > 1.0e-9:\n",
      "\u001b[31m\u001b[1maborting\u001b[22m\u001b[39m with smp candidate PSW(1.4092211376531223, [2, 1, 1, 2, 1, 1, 2, 1, 2, 1, 1, 2, 1, 1, 2, 1, 2, 1, 1, 2, 1, 2, 1, 1, 2, 1, 1, 2, 1, 2, 1, 1, 2, 1, 1, 2, 1, 2, 1, 1, 2, 1, 2, 1, 1, 2, 1, 1, 2, 1, 2, 1, 1, 2, 1, 1, 2, 1, 2, 1, 1, 2, 1, 2, 1, 1, 2, 1, 1, 2, 1, 2, 1, 1, 2, 1, 2, 1, 1, 2, 1, 1]) of length 82 after prefixing the suffix with 0 times the current s.m.p.Increase the value of the `max_smp_length` keyword argument to go further.\n",
      "\u001b[34m\u001b[1mNew candidate s.m.p. found\u001b[22m\u001b[39m because ⟨v_6*, v⟩ - 1 = 0.0004559641650043744 > 1.0e-9:\n",
      "\u001b[31m\u001b[1maborting\u001b[22m\u001b[39m with smp candidate PSW(1.4092211276878046, [2, 1, 1, 2, 1, 1, 2, 1, 2, 1, 1, 2, 1, 1, 2, 1, 2, 1, 1, 2, 1, 2, 1, 1, 2, 1, 1, 2, 1, 2, 1, 1, 2, 1, 1, 2, 1, 2, 1, 1, 2, 1, 2, 1, 1, 2, 1, 1, 2, 1, 2, 1, 1, 2, 1, 2, 1, 1, 2, 1, 1, 2, 1, 2, 1, 1, 2, 1, 2, 1, 1, 2, 1, 1, 2, 1, 2, 1, 1, 2, 1, 1]) of length 82 after prefixing the suffix with 0 times the current s.m.p.Increase the value of the `max_smp_length` keyword argument to go further.\n",
      "Depth 83: [312] points, 7 living leaves...\n",
      "Depth 84: [319] points, 7 living leaves...\n",
      "\u001b[34m\u001b[1mNew candidate s.m.p. found\u001b[22m\u001b[39m because ⟨v_6*, v⟩ - 1 = 5.534551794639242e-8 > 1.0e-9:\n",
      "\u001b[31m\u001b[1maborting\u001b[22m\u001b[39m with smp candidate PSW(1.409234926592855, [2, 1, 1, 2, 1, 1, 2, 1, 2, 1, 1, 2, 1, 1, 2, 1, 2, 1, 1, 2, 1, 2, 1, 1, 2, 1, 1, 2, 1, 2, 1, 1, 2, 1, 2, 1, 1, 2, 1, 1, 2, 1, 2, 1, 1, 2, 1, 2, 1, 1, 2, 1, 1, 2, 1, 2, 1, 1, 2, 1, 2, 1, 1, 2, 1, 1, 2, 1, 2, 1, 1, 2, 1, 2, 1, 1, 2, 1, 1, 2, 1, 2, 1, 1]) of length 84 after prefixing the suffix with 0 times the current s.m.p.Increase the value of the `max_smp_length` keyword argument to go further.\n",
      "\u001b[34m\u001b[1mNew candidate s.m.p. found\u001b[22m\u001b[39m because ⟨v_6*, v⟩ - 1 = 5.874659492199896e-8 > 1.0e-9:\n",
      "\u001b[31m\u001b[1maborting\u001b[22m\u001b[39m with smp candidate PSW(1.4092349355772527, [2, 1, 1, 2, 1, 1, 2, 1, 2, 1, 1, 2, 1, 2, 1, 1, 2, 1, 1, 2, 1, 2, 1, 1, 2, 1, 2, 1, 1, 2, 1, 1, 2, 1, 2, 1, 1, 2, 1, 2, 1, 1, 2, 1, 1, 2, 1, 2, 1, 1, 2, 1, 2, 1, 1, 2, 1, 1, 2, 1, 2, 1, 1, 2, 1, 2, 1, 1, 2, 1, 1, 2, 1, 2, 1, 1, 2, 1, 1, 2, 1, 2, 1, 1]) of length 84 after prefixing the suffix with 0 times the current s.m.p.Increase the value of the `max_smp_length` keyword argument to go further.\n",
      "\u001b[34m\u001b[1mNew candidate s.m.p. found\u001b[22m\u001b[39m because ⟨v_6*, v⟩ - 1 = 0.00045563772341283837 > 1.0e-9:\n",
      "\u001b[31m\u001b[1maborting\u001b[22m\u001b[39m with smp candidate PSW(1.4092217684323556, [2, 1, 1, 2, 1, 1, 2, 1, 2, 1, 1, 2, 1, 2, 1, 1, 2, 1, 1, 2, 1, 2, 1, 1, 2, 1, 2, 1, 1, 2, 1, 1, 2, 1, 2, 1, 1, 2, 1, 2, 1, 1, 2, 1, 1, 2, 1, 2, 1, 1, 2, 1, 2, 1, 1, 2, 1, 1, 2, 1, 2, 1, 1, 2, 1, 2, 1, 1, 2, 1, 1, 2, 1, 2, 1, 1, 2, 1, 2, 1, 1, 2, 1, 1]) of length 84 after prefixing the suffix with 0 times the current s.m.p.Increase the value of the `max_smp_length` keyword argument to go further.\n",
      "Depth 85: [326] points, 7 living leaves...\n",
      "\u001b[34m\u001b[1mNew candidate s.m.p. found\u001b[22m\u001b[39m because ⟨v_6*, v⟩ - 1 = 0.00045596099163458526 > 1.0e-9:\n",
      "\u001b[31m\u001b[1maborting\u001b[22m\u001b[39m with smp candidate PSW(1.4092220485597917, [2, 1, 1, 2, 1, 1, 2, 1, 2, 1, 1, 2, 1, 1, 2, 1, 2, 1, 1, 2, 1, 2, 1, 1, 2, 1, 1, 2, 1, 2, 1, 1, 2, 1, 1, 2, 1, 2, 1, 1, 2, 1, 2, 1, 1, 2, 1, 1, 2, 1, 2, 1, 1, 2, 1, 1, 2, 1, 2, 1, 1, 2, 1, 2, 1, 1, 2, 1, 1, 2, 1, 2, 1, 1, 2, 1, 1, 2, 1, 2, 1, 1, 2, 1, 1]) of length 85 after prefixing the suffix with 0 times the current s.m.p.Increase the value of the `max_smp_length` keyword argument to go further.\n",
      "Depth 86: [334] points, 8 living leaves...\n",
      "Depth 87: [341] points, 7 living leaves...\n",
      "\u001b[34m\u001b[1mNew candidate s.m.p. found\u001b[22m\u001b[39m because ⟨v_6*, v⟩ - 1 = 5.7395033170593024e-8 > 1.0e-9:\n",
      "\u001b[31m\u001b[1maborting\u001b[22m\u001b[39m with smp candidate PSW(1.40923535057264, [2, 1, 1, 2, 1, 1, 2, 1, 2, 1, 1, 2, 1, 1, 2, 1, 2, 1, 1, 2, 1, 2, 1, 1, 2, 1, 1, 2, 1, 2, 1, 1, 2, 1, 1, 2, 1, 2, 1, 1, 2, 1, 2, 1, 1, 2, 1, 1, 2, 1, 2, 1, 1, 2, 1, 1, 2, 1, 2, 1, 1, 2, 1, 2, 1, 1, 2, 1, 1, 2, 1, 2, 1, 1, 2, 1, 2, 1, 1, 2, 1, 1, 2, 1, 2, 1, 1]) of length 87 after prefixing the suffix with 0 times the current s.m.p.Increase the value of the `max_smp_length` keyword argument to go further.\n",
      "\u001b[34m\u001b[1mNew candidate s.m.p. found\u001b[22m\u001b[39m because ⟨v_6*, v⟩ - 1 = 6.079611036824417e-8 > 1.0e-9:\n",
      "\u001b[31m\u001b[1maborting\u001b[22m\u001b[39m with smp candidate PSW(1.4092353504777655, [2, 1, 1, 2, 1, 1, 2, 1, 2, 1, 1, 2, 1, 1, 2, 1, 2, 1, 1, 2, 1, 2, 1, 1, 2, 1, 1, 2, 1, 2, 1, 1, 2, 1, 1, 2, 1, 2, 1, 1, 2, 1, 2, 1, 1, 2, 1, 1, 2, 1, 2, 1, 1, 2, 1, 2, 1, 1, 2, 1, 1, 2, 1, 2, 1, 1, 2, 1, 2, 1, 1, 2, 1, 1, 2, 1, 2, 1, 1, 2, 1, 1, 2, 1, 2, 1, 1]) of length 87 after prefixing the suffix with 0 times the current s.m.p.Increase the value of the `max_smp_length` keyword argument to go further.\n",
      "\u001b[34m\u001b[1mNew candidate s.m.p. found\u001b[22m\u001b[39m because ⟨v_6*, v⟩ - 1 = 0.00045563977386242627 > 1.0e-9:\n",
      "\u001b[31m\u001b[1maborting\u001b[22m\u001b[39m with smp candidate PSW(1.409222636743793, [2, 1, 1, 2, 1, 1, 2, 1, 2, 1, 1, 2, 1, 1, 2, 1, 2, 1, 1, 2, 1, 2, 1, 1, 2, 1, 1, 2, 1, 2, 1, 1, 2, 1, 1, 2, 1, 2, 1, 1, 2, 1, 2, 1, 1, 2, 1, 1, 2, 1, 2, 1, 1, 2, 1, 2, 1, 1, 2, 1, 1, 2, 1, 2, 1, 1, 2, 1, 2, 1, 1, 2, 1, 1, 2, 1, 2, 1, 1, 2, 1, 2, 1, 1, 2, 1, 1]) of length 87 after prefixing the suffix with 0 times the current s.m.p.Increase the value of the `max_smp_length` keyword argument to go further.\n"
     ]
    },
    {
     "name": "stdout",
     "output_type": "stream",
     "text": [
      "\u001b[34m\u001b[1mNew candidate s.m.p. found\u001b[22m\u001b[39m because ⟨v_6*, v⟩ - 1 = 0.0004559675821329545 > 1.0e-9:\n",
      "\u001b[31m\u001b[1maborting\u001b[22m\u001b[39m with smp candidate PSW(1.4092226273511848, [2, 1, 1, 2, 1, 1, 2, 1, 2, 1, 1, 2, 1, 1, 2, 1, 2, 1, 1, 2, 1, 2, 1, 1, 2, 1, 1, 2, 1, 2, 1, 1, 2, 1, 2, 1, 1, 2, 1, 1, 2, 1, 2, 1, 1, 2, 1, 2, 1, 1, 2, 1, 1, 2, 1, 2, 1, 1, 2, 1, 2, 1, 1, 2, 1, 1, 2, 1, 2, 1, 1, 2, 1, 2, 1, 1, 2, 1, 1, 2, 1, 2, 1, 1, 2, 1, 1]) of length 87 after prefixing the suffix with 0 times the current s.m.p.Increase the value of the `max_smp_length` keyword argument to go further.\n",
      "Depth 88: [348] points, 7 living leaves...\n",
      "Depth 89: [355] points, 7 living leaves...\n",
      "\u001b[34m\u001b[1mNew candidate s.m.p. found\u001b[22m\u001b[39m because ⟨v_6*, v⟩ - 1 = 5.876109043789768e-8 > 1.0e-9:\n",
      "\u001b[31m\u001b[1maborting\u001b[22m\u001b[39m with smp candidate PSW(1.4092356259188963, [2, 1, 1, 2, 1, 1, 2, 1, 2, 1, 1, 2, 1, 2, 1, 1, 2, 1, 1, 2, 1, 2, 1, 1, 2, 1, 2, 1, 1, 2, 1, 1, 2, 1, 2, 1, 1, 2, 1, 2, 1, 1, 2, 1, 1, 2, 1, 2, 1, 1, 2, 1, 2, 1, 1, 2, 1, 1, 2, 1, 2, 1, 1, 2, 1, 2, 1, 1, 2, 1, 1, 2, 1, 2, 1, 1, 2, 1, 2, 1, 1, 2, 1, 1, 2, 1, 2, 1, 1]) of length 89 after prefixing the suffix with 0 times the current s.m.p.Increase the value of the `max_smp_length` keyword argument to go further.\n",
      "Depth 90: [362] points, 7 living leaves...\n",
      "\u001b[34m\u001b[1mNew candidate s.m.p. found\u001b[22m\u001b[39m because ⟨v_6*, v⟩ - 1 = 0.0004556418267578355 > 1.0e-9:\n",
      "\u001b[31m\u001b[1maborting\u001b[22m\u001b[39m with smp candidate PSW(1.409223456247302, [2, 1, 1, 2, 1, 1, 2, 1, 2, 1, 1, 2, 1, 1, 2, 1, 2, 1, 1, 2, 1, 2, 1, 1, 2, 1, 1, 2, 1, 2, 1, 1, 2, 1, 1, 2, 1, 2, 1, 1, 2, 1, 2, 1, 1, 2, 1, 1, 2, 1, 2, 1, 1, 2, 1, 1, 2, 1, 2, 1, 1, 2, 1, 2, 1, 1, 2, 1, 1, 2, 1, 2, 1, 1, 2, 1, 1, 2, 1, 2, 1, 1, 2, 1, 2, 1, 1, 2, 1, 1]) of length 90 after prefixing the suffix with 0 times the current s.m.p.Increase the value of the `max_smp_length` keyword argument to go further.\n",
      "\u001b[34m\u001b[1mNew candidate s.m.p. found\u001b[22m\u001b[39m because ⟨v_6*, v⟩ - 1 = 0.00045596963258276446 > 1.0e-9:\n",
      "\u001b[31m\u001b[1maborting\u001b[22m\u001b[39m with smp candidate PSW(1.4092234471678433, [2, 1, 1, 2, 1, 1, 2, 1, 2, 1, 1, 2, 1, 1, 2, 1, 2, 1, 1, 2, 1, 2, 1, 1, 2, 1, 1, 2, 1, 2, 1, 1, 2, 1, 1, 2, 1, 2, 1, 1, 2, 1, 2, 1, 1, 2, 1, 1, 2, 1, 2, 1, 1, 2, 1, 1, 2, 1, 2, 1, 1, 2, 1, 2, 1, 1, 2, 1, 1, 2, 1, 2, 1, 1, 2, 1, 2, 1, 1, 2, 1, 1, 2, 1, 2, 1, 1, 2, 1, 1]) of length 90 after prefixing the suffix with 0 times the current s.m.p.Increase the value of the `max_smp_length` keyword argument to go further.\n",
      "Depth 91: [369] points, 7 living leaves...\n",
      "Depth 92: [376] points, 7 living leaves...\n",
      "\u001b[34m\u001b[1mNew candidate s.m.p. found\u001b[22m\u001b[39m because ⟨v_6*, v⟩ - 1 = 6.08106063282321e-8 > 1.0e-9:\n",
      "\u001b[31m\u001b[1maborting\u001b[22m\u001b[39m with smp candidate PSW(1.4092359957595095, [2, 1, 1, 2, 1, 1, 2, 1, 2, 1, 1, 2, 1, 1, 2, 1, 2, 1, 1, 2, 1, 2, 1, 1, 2, 1, 1, 2, 1, 2, 1, 1, 2, 1, 1, 2, 1, 2, 1, 1, 2, 1, 2, 1, 1, 2, 1, 1, 2, 1, 2, 1, 1, 2, 1, 2, 1, 1, 2, 1, 1, 2, 1, 2, 1, 1, 2, 1, 2, 1, 1, 2, 1, 1, 2, 1, 2, 1, 1, 2, 1, 2, 1, 1, 2, 1, 1, 2, 1, 2, 1, 1]) of length 92 after prefixing the suffix with 0 times the current s.m.p.Increase the value of the `max_smp_length` keyword argument to go further.\n",
      "\u001b[34m\u001b[1mNew candidate s.m.p. found\u001b[22m\u001b[39m because ⟨v_6*, v⟩ - 1 = 6.42116817495264e-8 > 1.0e-9:\n",
      "\u001b[31m\u001b[1maborting\u001b[22m\u001b[39m with smp candidate PSW(1.4092359956697913, [2, 1, 1, 2, 1, 1, 2, 1, 2, 1, 1, 2, 1, 1, 2, 1, 2, 1, 1, 2, 1, 2, 1, 1, 2, 1, 1, 2, 1, 2, 1, 1, 2, 1, 2, 1, 1, 2, 1, 1, 2, 1, 2, 1, 1, 2, 1, 2, 1, 1, 2, 1, 1, 2, 1, 2, 1, 1, 2, 1, 2, 1, 1, 2, 1, 1, 2, 1, 2, 1, 1, 2, 1, 2, 1, 1, 2, 1, 1, 2, 1, 2, 1, 1, 2, 1, 1, 2, 1, 2, 1, 1]) of length 92 after prefixing the suffix with 0 times the current s.m.p.Increase the value of the `max_smp_length` keyword argument to go further.\n",
      "\u001b[34m\u001b[1mNew candidate s.m.p. found\u001b[22m\u001b[39m because ⟨v_6*, v⟩ - 1 = 0.0004556431909901182 > 1.0e-9:\n",
      "\u001b[31m\u001b[1maborting\u001b[22m\u001b[39m with smp candidate PSW(1.40922397289117, [2, 1, 1, 2, 1, 1, 2, 1, 2, 1, 1, 2, 1, 1, 2, 1, 2, 1, 1, 2, 1, 2, 1, 1, 2, 1, 1, 2, 1, 2, 1, 1, 2, 1, 2, 1, 1, 2, 1, 1, 2, 1, 2, 1, 1, 2, 1, 2, 1, 1, 2, 1, 1, 2, 1, 2, 1, 1, 2, 1, 2, 1, 1, 2, 1, 1, 2, 1, 2, 1, 1, 2, 1, 2, 1, 1, 2, 1, 1, 2, 1, 2, 1, 1, 2, 1, 2, 1, 1, 2, 1, 1]) of length 92 after prefixing the suffix with 0 times the current s.m.p.Increase the value of the `max_smp_length` keyword argument to go further.\n",
      "\u001b[34m\u001b[1mNew candidate s.m.p. found\u001b[22m\u001b[39m because ⟨v_6*, v⟩ - 1 = 0.0004559709992628669 > 1.0e-9:\n",
      "\u001b[31m\u001b[1maborting\u001b[22m\u001b[39m with smp candidate PSW(1.40922397289117, [2, 1, 1, 2, 1, 1, 2, 1, 2, 1, 1, 2, 1, 2, 1, 1, 2, 1, 1, 2, 1, 2, 1, 1, 2, 1, 2, 1, 1, 2, 1, 1, 2, 1, 2, 1, 1, 2, 1, 2, 1, 1, 2, 1, 1, 2, 1, 2, 1, 1, 2, 1, 2, 1, 1, 2, 1, 1, 2, 1, 2, 1, 1, 2, 1, 2, 1, 1, 2, 1, 1, 2, 1, 2, 1, 1, 2, 1, 2, 1, 1, 2, 1, 1, 2, 1, 2, 1, 1, 2, 1, 1]) of length 92 after prefixing the suffix with 0 times the current s.m.p.Increase the value of the `max_smp_length` keyword argument to go further.\n",
      "Depth 93: [384] points, 8 living leaves...\n",
      "Depth 94: [392] points, 8 living leaves...\n",
      "Depth 95: [400] points, 8 living leaves...\n",
      "\u001b[34m\u001b[1mNew candidate s.m.p. found\u001b[22m\u001b[39m because ⟨v_6*, v⟩ - 1 = 6.286014597733924e-8 > 1.0e-9:\n",
      "\u001b[31m\u001b[1maborting\u001b[22m\u001b[39m with smp candidate PSW(1.4092363502728433, [2, 1, 1, 2, 1, 1, 2, 1, 2, 1, 1, 2, 1, 1, 2, 1, 2, 1, 1, 2, 1, 2, 1, 1, 2, 1, 1, 2, 1, 2, 1, 1, 2, 1, 1, 2, 1, 2, 1, 1, 2, 1, 2, 1, 1, 2, 1, 1, 2, 1, 2, 1, 1, 2, 1, 1, 2, 1, 2, 1, 1, 2, 1, 2, 1, 1, 2, 1, 1, 2, 1, 2, 1, 1, 2, 1, 1, 2, 1, 2, 1, 1, 2, 1, 2, 1, 1, 2, 1, 1, 2, 1, 2, 1, 1]) of length 95 after prefixing the suffix with 0 times the current s.m.p.Increase the value of the `max_smp_length` keyword argument to go further.\n",
      "\u001b[34m\u001b[1mNew candidate s.m.p. found\u001b[22m\u001b[39m because ⟨v_6*, v⟩ - 1 = 6.626119719577162e-8 > 1.0e-9:\n",
      "\u001b[31m\u001b[1maborting\u001b[22m\u001b[39m with smp candidate PSW(1.409236350185959, [2, 1, 1, 2, 1, 1, 2, 1, 2, 1, 1, 2, 1, 1, 2, 1, 2, 1, 1, 2, 1, 2, 1, 1, 2, 1, 1, 2, 1, 2, 1, 1, 2, 1, 1, 2, 1, 2, 1, 1, 2, 1, 2, 1, 1, 2, 1, 1, 2, 1, 2, 1, 1, 2, 1, 1, 2, 1, 2, 1, 1, 2, 1, 2, 1, 1, 2, 1, 1, 2, 1, 2, 1, 1, 2, 1, 2, 1, 1, 2, 1, 1, 2, 1, 2, 1, 1, 2, 1, 1, 2, 1, 2, 1, 1]) of length 95 after prefixing the suffix with 0 times the current s.m.p.Increase the value of the `max_smp_length` keyword argument to go further.\n",
      "\u001b[34m\u001b[1mNew candidate s.m.p. found\u001b[22m\u001b[39m because ⟨v_6*, v⟩ - 1 = 0.00045564524143903995 > 1.0e-9:\n",
      "\u001b[31m\u001b[1maborting\u001b[22m\u001b[39m with smp candidate PSW(1.4092247070695334, [2, 1, 1, 2, 1, 1, 2, 1, 2, 1, 1, 2, 1, 1, 2, 1, 2, 1, 1, 2, 1, 2, 1, 1, 2, 1, 1, 2, 1, 2, 1, 1, 2, 1, 1, 2, 1, 2, 1, 1, 2, 1, 2, 1, 1, 2, 1, 1, 2, 1, 2, 1, 1, 2, 1, 1, 2, 1, 2, 1, 1, 2, 1, 2, 1, 1, 2, 1, 1, 2, 1, 2, 1, 1, 2, 1, 2, 1, 1, 2, 1, 1, 2, 1, 2, 1, 1, 2, 1, 2, 1, 1, 2, 1, 1]) of length 95 after prefixing the suffix with 0 times the current s.m.p.Increase the value of the `max_smp_length` keyword argument to go further.\n",
      "\u001b[34m\u001b[1mNew candidate s.m.p. found\u001b[22m\u001b[39m because ⟨v_6*, v⟩ - 1 = 0.00045597304971289887 > 1.0e-9:\n",
      "\u001b[31m\u001b[1maborting\u001b[22m\u001b[39m with smp candidate PSW(1.409224698467869, [2, 1, 1, 2, 1, 1, 2, 1, 2, 1, 1, 2, 1, 1, 2, 1, 2, 1, 1, 2, 1, 2, 1, 1, 2, 1, 1, 2, 1, 2, 1, 1, 2, 1, 1, 2, 1, 2, 1, 1, 2, 1, 2, 1, 1, 2, 1, 1, 2, 1, 2, 1, 1, 2, 1, 2, 1, 1, 2, 1, 1, 2, 1, 2, 1, 1, 2, 1, 2, 1, 1, 2, 1, 1, 2, 1, 2, 1, 1, 2, 1, 2, 1, 1, 2, 1, 1, 2, 1, 2, 1, 1, 2, 1, 1]) of length 95 after prefixing the suffix with 0 times the current s.m.p.Increase the value of the `max_smp_length` keyword argument to go further.\n",
      "Depth 96: [408] points, 8 living leaves...\n",
      "Depth 97: [416] points, 8 living leaves...\n",
      "\u001b[34m\u001b[1mNew candidate s.m.p. found\u001b[22m\u001b[39m because ⟨v_6*, v⟩ - 1 = 6.422617770951433e-8 > 1.0e-9:\n",
      "\u001b[31m\u001b[1maborting\u001b[22m\u001b[39m with smp candidate PSW(1.4092365744325202, [2, 1, 1, 2, 1, 1, 2, 1, 2, 1, 1, 2, 1, 1, 2, 1, 2, 1, 1, 2, 1, 2, 1, 1, 2, 1, 1, 2, 1, 2, 1, 1, 2, 1, 2, 1, 1, 2, 1, 1, 2, 1, 2, 1, 1, 2, 1, 2, 1, 1, 2, 1, 1, 2, 1, 2, 1, 1, 2, 1, 2, 1, 1, 2, 1, 1, 2, 1, 2, 1, 1, 2, 1, 2, 1, 1, 2, 1, 1, 2, 1, 2, 1, 1, 2, 1, 2, 1, 1, 2, 1, 1, 2, 1, 2, 1, 1]) of length 97 after prefixing the suffix with 0 times the current s.m.p.Increase the value of the `max_smp_length` keyword argument to go further.\n",
      "\u001b[34m\u001b[1mNew candidate s.m.p. found\u001b[22m\u001b[39m because ⟨v_6*, v⟩ - 1 = 6.762725468512087e-8 > 1.0e-9:\n",
      "\u001b[31m\u001b[1maborting\u001b[22m\u001b[39m with smp candidate PSW(1.409236582212832, [2, 1, 1, 2, 1, 1, 2, 1, 2, 1, 1, 2, 1, 2, 1, 1, 2, 1, 1, 2, 1, 2, 1, 1, 2, 1, 2, 1, 1, 2, 1, 1, 2, 1, 2, 1, 1, 2, 1, 2, 1, 1, 2, 1, 1, 2, 1, 2, 1, 1, 2, 1, 2, 1, 1, 2, 1, 1, 2, 1, 2, 1, 1, 2, 1, 2, 1, 1, 2, 1, 1, 2, 1, 2, 1, 1, 2, 1, 2, 1, 1, 2, 1, 1, 2, 1, 2, 1, 1, 2, 1, 1, 2, 1, 2, 1, 1]) of length 97 after prefixing the suffix with 0 times the current s.m.p.Increase the value of the `max_smp_length` keyword argument to go further.\n",
      "\u001b[34m\u001b[1mNew candidate s.m.p. found\u001b[22m\u001b[39m because ⟨v_6*, v⟩ - 1 = 0.0004556466081186983 > 1.0e-9:\n",
      "\u001b[31m\u001b[1maborting\u001b[22m\u001b[39m with smp candidate PSW(1.4092251797163764, [2, 1, 1, 2, 1, 1, 2, 1, 2, 1, 1, 2, 1, 2, 1, 1, 2, 1, 1, 2, 1, 2, 1, 1, 2, 1, 2, 1, 1, 2, 1, 1, 2, 1, 2, 1, 1, 2, 1, 2, 1, 1, 2, 1, 1, 2, 1, 2, 1, 1, 2, 1, 2, 1, 1, 2, 1, 1, 2, 1, 2, 1, 1, 2, 1, 2, 1, 1, 2, 1, 1, 2, 1, 2, 1, 1, 2, 1, 2, 1, 1, 2, 1, 1, 2, 1, 2, 1, 1, 2, 1, 2, 1, 1, 2, 1, 1]) of length 97 after prefixing the suffix with 0 times the current s.m.p.Increase the value of the `max_smp_length` keyword argument to go further.\n",
      "Depth 98: [424] points, 8 living leaves...\n",
      "\u001b[34m\u001b[1mNew candidate s.m.p. found\u001b[22m\u001b[39m because ⟨v_6*, v⟩ - 1 = 0.0004559751001227408 > 1.0e-9:\n",
      "\u001b[31m\u001b[1maborting\u001b[22m\u001b[39m with smp candidate PSW(1.4092253879601966, [2, 1, 1, 2, 1, 1, 2, 1, 2, 1, 1, 2, 1, 1, 2, 1, 2, 1, 1, 2, 1, 2, 1, 1, 2, 1, 1, 2, 1, 2, 1, 1, 2, 1, 1, 2, 1, 2, 1, 1, 2, 1, 2, 1, 1, 2, 1, 1, 2, 1, 2, 1, 1, 2, 1, 1, 2, 1, 2, 1, 1, 2, 1, 2, 1, 1, 2, 1, 1, 2, 1, 2, 1, 1, 2, 1, 1, 2, 1, 2, 1, 1, 2, 1, 2, 1, 1, 2, 1, 1, 2, 1, 2, 1, 1, 2, 1, 1]) of length 98 after prefixing the suffix with 0 times the current s.m.p.Increase the value of the `max_smp_length` keyword argument to go further.\n"
     ]
    },
    {
     "name": "stdout",
     "output_type": "stream",
     "text": [
      "Depth 99: [432] points, 8 living leaves...\n",
      "Depth 100: [440] points, 8 living leaves...\n",
      "\u001b[34m\u001b[1mNew candidate s.m.p. found\u001b[22m\u001b[39m because ⟨v_6*, v⟩ - 1 = 6.627569315575954e-8 > 1.0e-9:\n",
      "\u001b[31m\u001b[1maborting\u001b[22m\u001b[39m with smp candidate PSW(1.4092368938601263, [2, 1, 1, 2, 1, 1, 2, 1, 2, 1, 1, 2, 1, 1, 2, 1, 2, 1, 1, 2, 1, 2, 1, 1, 2, 1, 1, 2, 1, 2, 1, 1, 2, 1, 1, 2, 1, 2, 1, 1, 2, 1, 2, 1, 1, 2, 1, 1, 2, 1, 2, 1, 1, 2, 1, 1, 2, 1, 2, 1, 1, 2, 1, 2, 1, 1, 2, 1, 1, 2, 1, 2, 1, 1, 2, 1, 2, 1, 1, 2, 1, 1, 2, 1, 2, 1, 1, 2, 1, 2, 1, 1, 2, 1, 1, 2, 1, 2, 1, 1]) of length 100 after prefixing the suffix with 0 times the current s.m.p.Increase the value of the `max_smp_length` keyword argument to go further.\n",
      "\u001b[34m\u001b[1mNew candidate s.m.p. found\u001b[22m\u001b[39m because ⟨v_6*, v⟩ - 1 = 6.967677013136608e-8 > 1.0e-9:\n",
      "\u001b[31m\u001b[1maborting\u001b[22m\u001b[39m with smp candidate PSW(1.4092368937775852, [2, 1, 1, 2, 1, 1, 2, 1, 2, 1, 1, 2, 1, 1, 2, 1, 2, 1, 1, 2, 1, 2, 1, 1, 2, 1, 1, 2, 1, 2, 1, 1, 2, 1, 1, 2, 1, 2, 1, 1, 2, 1, 2, 1, 1, 2, 1, 1, 2, 1, 2, 1, 1, 2, 1, 2, 1, 1, 2, 1, 1, 2, 1, 2, 1, 1, 2, 1, 2, 1, 1, 2, 1, 1, 2, 1, 2, 1, 1, 2, 1, 2, 1, 1, 2, 1, 1, 2, 1, 2, 1, 1, 2, 1, 1, 2, 1, 2, 1, 1]) of length 100 after prefixing the suffix with 0 times the current s.m.p.Increase the value of the `max_smp_length` keyword argument to go further.\n",
      "\u001b[34m\u001b[1mNew candidate s.m.p. found\u001b[22m\u001b[39m because ⟨v_6*, v⟩ - 1 = 0.0004556486585682862 > 1.0e-9:\n",
      "\u001b[31m\u001b[1maborting\u001b[22m\u001b[39m with smp candidate PSW(1.40922583281043, [2, 1, 1, 2, 1, 1, 2, 1, 2, 1, 1, 2, 1, 1, 2, 1, 2, 1, 1, 2, 1, 2, 1, 1, 2, 1, 1, 2, 1, 2, 1, 1, 2, 1, 1, 2, 1, 2, 1, 1, 2, 1, 2, 1, 1, 2, 1, 1, 2, 1, 2, 1, 1, 2, 1, 2, 1, 1, 2, 1, 1, 2, 1, 2, 1, 1, 2, 1, 2, 1, 1, 2, 1, 1, 2, 1, 2, 1, 1, 2, 1, 2, 1, 1, 2, 1, 1, 2, 1, 2, 1, 1, 2, 1, 2, 1, 1, 2, 1, 1]) of length 100 after prefixing the suffix with 0 times the current s.m.p.Increase the value of the `max_smp_length` keyword argument to go further.\n",
      "\u001b[34m\u001b[1mNew candidate s.m.p. found\u001b[22m\u001b[39m because ⟨v_6*, v⟩ - 1 = 0.00045597646684147897 > 1.0e-9:\n",
      "\u001b[31m\u001b[1maborting\u001b[22m\u001b[39m with smp candidate PSW(1.4092258246388423, [2, 1, 1, 2, 1, 1, 2, 1, 2, 1, 1, 2, 1, 1, 2, 1, 2, 1, 1, 2, 1, 2, 1, 1, 2, 1, 1, 2, 1, 2, 1, 1, 2, 1, 2, 1, 1, 2, 1, 1, 2, 1, 2, 1, 1, 2, 1, 2, 1, 1, 2, 1, 1, 2, 1, 2, 1, 1, 2, 1, 2, 1, 1, 2, 1, 1, 2, 1, 2, 1, 1, 2, 1, 2, 1, 1, 2, 1, 1, 2, 1, 2, 1, 1, 2, 1, 2, 1, 1, 2, 1, 1, 2, 1, 2, 1, 1, 2, 1, 1]) of length 100 after prefixing the suffix with 0 times the current s.m.p.Increase the value of the `max_smp_length` keyword argument to go further.\n",
      "Depth 101: [448] points, 8 living leaves...\n",
      "Depth 102: [456] points, 8 living leaves...\n",
      "\u001b[34m\u001b[1mNew candidate s.m.p. found\u001b[22m\u001b[39m because ⟨v_6*, v⟩ - 1 = 6.764175020101959e-8 > 1.0e-9:\n",
      "\u001b[31m\u001b[1maborting\u001b[22m\u001b[39m with smp candidate PSW(1.4092371038529319, [2, 1, 1, 2, 1, 1, 2, 1, 2, 1, 1, 2, 1, 2, 1, 1, 2, 1, 1, 2, 1, 2, 1, 1, 2, 1, 2, 1, 1, 2, 1, 1, 2, 1, 2, 1, 1, 2, 1, 2, 1, 1, 2, 1, 1, 2, 1, 2, 1, 1, 2, 1, 2, 1, 1, 2, 1, 1, 2, 1, 2, 1, 1, 2, 1, 2, 1, 1, 2, 1, 1, 2, 1, 2, 1, 1, 2, 1, 2, 1, 1, 2, 1, 1, 2, 1, 2, 1, 1, 2, 1, 2, 1, 1, 2, 1, 1, 2, 1, 2, 1, 1]) of length 102 after prefixing the suffix with 0 times the current s.m.p.Increase the value of the `max_smp_length` keyword argument to go further.\n",
      "Depth 103: [464] points, 8 living leaves...\n",
      "\u001b[34m\u001b[1mNew candidate s.m.p. found\u001b[22m\u001b[39m because ⟨v_6*, v⟩ - 1 = 7.172624427731478e-8 > 1.0e-9:\n",
      "\u001b[31m\u001b[1maborting\u001b[22m\u001b[39m with smp candidate PSW(1.4092371946002278, [2, 1, 1, 2, 1, 1, 2, 1, 2, 1, 1, 2, 1, 1, 2, 1, 2, 1, 1, 2, 1, 2, 1, 1, 2, 1, 1, 2, 1, 2, 1, 1, 2, 1, 1, 2, 1, 2, 1, 1, 2, 1, 2, 1, 1, 2, 1, 1, 2, 1, 2, 1, 1, 2, 1, 1, 2, 1, 2, 1, 1, 2, 1, 2, 1, 1, 2, 1, 1, 2, 1, 2, 1, 1, 2, 1, 1, 2, 1, 2, 1, 1, 2, 1, 2, 1, 1, 2, 1, 1, 2, 1, 2, 1, 1, 2, 1, 1, 2, 1, 2, 1, 1]) of length 103 after prefixing the suffix with 0 times the current s.m.p.Increase the value of the `max_smp_length` keyword argument to go further.\n",
      "\u001b[34m\u001b[1mNew candidate s.m.p. found\u001b[22m\u001b[39m because ⟨v_6*, v⟩ - 1 = 0.0004556507090160977 > 1.0e-9:\n",
      "\u001b[31m\u001b[1maborting\u001b[22m\u001b[39m with smp candidate PSW(1.409226455793645, [2, 1, 1, 2, 1, 1, 2, 1, 2, 1, 1, 2, 1, 1, 2, 1, 2, 1, 1, 2, 1, 2, 1, 1, 2, 1, 1, 2, 1, 2, 1, 1, 2, 1, 1, 2, 1, 2, 1, 1, 2, 1, 2, 1, 1, 2, 1, 1, 2, 1, 2, 1, 1, 2, 1, 1, 2, 1, 2, 1, 1, 2, 1, 2, 1, 1, 2, 1, 1, 2, 1, 2, 1, 1, 2, 1, 1, 2, 1, 2, 1, 1, 2, 1, 2, 1, 1, 2, 1, 1, 2, 1, 2, 1, 1, 2, 1, 2, 1, 1, 2, 1, 1]) of length 103 after prefixing the suffix with 0 times the current s.m.p.Increase the value of the `max_smp_length` keyword argument to go further.\n",
      "\u001b[34m\u001b[1mNew candidate s.m.p. found\u001b[22m\u001b[39m because ⟨v_6*, v⟩ - 1 = 0.00045597851729151095 > 1.0e-9:\n",
      "\u001b[31m\u001b[1maborting\u001b[22m\u001b[39m with smp candidate PSW(1.409226447860061, [2, 1, 1, 2, 1, 1, 2, 1, 2, 1, 1, 2, 1, 1, 2, 1, 2, 1, 1, 2, 1, 2, 1, 1, 2, 1, 1, 2, 1, 2, 1, 1, 2, 1, 1, 2, 1, 2, 1, 1, 2, 1, 2, 1, 1, 2, 1, 1, 2, 1, 2, 1, 1, 2, 1, 1, 2, 1, 2, 1, 1, 2, 1, 2, 1, 1, 2, 1, 1, 2, 1, 2, 1, 1, 2, 1, 2, 1, 1, 2, 1, 1, 2, 1, 2, 1, 1, 2, 1, 2, 1, 1, 2, 1, 1, 2, 1, 2, 1, 1, 2, 1, 1]) of length 103 after prefixing the suffix with 0 times the current s.m.p.Increase the value of the `max_smp_length` keyword argument to go further.\n",
      "Depth 104: [472] points, 8 living leaves...\n",
      "Depth 105: [480] points, 8 living leaves...\n",
      "\u001b[34m\u001b[1mNew candidate s.m.p. found\u001b[22m\u001b[39m because ⟨v_6*, v⟩ - 1 = 6.969126609135401e-8 > 1.0e-9:\n",
      "\u001b[31m\u001b[1maborting\u001b[22m\u001b[39m with smp candidate PSW(1.4092373856773717, [2, 1, 1, 2, 1, 1, 2, 1, 2, 1, 1, 2, 1, 1, 2, 1, 2, 1, 1, 2, 1, 2, 1, 1, 2, 1, 1, 2, 1, 2, 1, 1, 2, 1, 1, 2, 1, 2, 1, 1, 2, 1, 2, 1, 1, 2, 1, 1, 2, 1, 2, 1, 1, 2, 1, 2, 1, 1, 2, 1, 1, 2, 1, 2, 1, 1, 2, 1, 2, 1, 1, 2, 1, 1, 2, 1, 2, 1, 1, 2, 1, 2, 1, 1, 2, 1, 1, 2, 1, 2, 1, 1, 2, 1, 2, 1, 1, 2, 1, 1, 2, 1, 2, 1, 1]) of length 105 after prefixing the suffix with 0 times the current s.m.p.Increase the value of the `max_smp_length` keyword argument to go further.\n",
      "\u001b[34m\u001b[1mNew candidate s.m.p. found\u001b[22m\u001b[39m because ⟨v_6*, v⟩ - 1 = 7.309234195673753e-8 > 1.0e-9:\n",
      "\u001b[31m\u001b[1maborting\u001b[22m\u001b[39m with smp candidate PSW(1.4092373855987612, [2, 1, 1, 2, 1, 1, 2, 1, 2, 1, 1, 2, 1, 1, 2, 1, 2, 1, 1, 2, 1, 2, 1, 1, 2, 1, 1, 2, 1, 2, 1, 1, 2, 1, 2, 1, 1, 2, 1, 1, 2, 1, 2, 1, 1, 2, 1, 2, 1, 1, 2, 1, 1, 2, 1, 2, 1, 1, 2, 1, 2, 1, 1, 2, 1, 1, 2, 1, 2, 1, 1, 2, 1, 2, 1, 1, 2, 1, 1, 2, 1, 2, 1, 1, 2, 1, 2, 1, 1, 2, 1, 1, 2, 1, 2, 1, 1, 2, 1, 1, 2, 1, 2, 1, 1]) of length 105 after prefixing the suffix with 0 times the current s.m.p.Increase the value of the `max_smp_length` keyword argument to go further.\n",
      "\u001b[34m\u001b[1mNew candidate s.m.p. found\u001b[22m\u001b[39m because ⟨v_6*, v⟩ - 1 = 0.000455652075695534 > 1.0e-9:\n",
      "\u001b[31m\u001b[1maborting\u001b[22m\u001b[39m with smp candidate PSW(1.4092268513386823, [2, 1, 1, 2, 1, 1, 2, 1, 2, 1, 1, 2, 1, 1, 2, 1, 2, 1, 1, 2, 1, 2, 1, 1, 2, 1, 1, 2, 1, 2, 1, 1, 2, 1, 2, 1, 1, 2, 1, 1, 2, 1, 2, 1, 1, 2, 1, 2, 1, 1, 2, 1, 1, 2, 1, 2, 1, 1, 2, 1, 2, 1, 1, 2, 1, 1, 2, 1, 2, 1, 1, 2, 1, 2, 1, 1, 2, 1, 1, 2, 1, 2, 1, 1, 2, 1, 2, 1, 1, 2, 1, 1, 2, 1, 2, 1, 1, 2, 1, 2, 1, 1, 2, 1, 1]) of length 105 after prefixing the suffix with 0 times the current s.m.p.Increase the value of the `max_smp_length` keyword argument to go further.\n",
      "\u001b[34m\u001b[1mNew candidate s.m.p. found\u001b[22m\u001b[39m because ⟨v_6*, v⟩ - 1 = 0.00045597988397094724 > 1.0e-9:\n",
      "\u001b[31m\u001b[1maborting\u001b[22m\u001b[39m with smp candidate PSW(1.4092268513386823, [2, 1, 1, 2, 1, 1, 2, 1, 2, 1, 1, 2, 1, 2, 1, 1, 2, 1, 1, 2, 1, 2, 1, 1, 2, 1, 2, 1, 1, 2, 1, 1, 2, 1, 2, 1, 1, 2, 1, 2, 1, 1, 2, 1, 1, 2, 1, 2, 1, 1, 2, 1, 2, 1, 1, 2, 1, 1, 2, 1, 2, 1, 1, 2, 1, 2, 1, 1, 2, 1, 1, 2, 1, 2, 1, 1, 2, 1, 2, 1, 1, 2, 1, 1, 2, 1, 2, 1, 1, 2, 1, 2, 1, 1, 2, 1, 1, 2, 1, 2, 1, 1, 2, 1, 1]) of length 105 after prefixing the suffix with 0 times the current s.m.p.Increase the value of the `max_smp_length` keyword argument to go further.\n",
      "Depth 106: [489] points, 9 living leaves...\n",
      "Depth 107: [497] points, 8 living leaves...\n",
      "Depth 108: [505] points, 8 living leaves...\n",
      "\u001b[34m\u001b[1mNew candidate s.m.p. found\u001b[22m\u001b[39m because ⟨v_6*, v⟩ - 1 = 7.17407804273762e-8 > 1.0e-9:\n",
      "\u001b[31m\u001b[1maborting\u001b[22m\u001b[39m with smp candidate PSW(1.409237658909251, [2, 1, 1, 2, 1, 1, 2, 1, 2, 1, 1, 2, 1, 1, 2, 1, 2, 1, 1, 2, 1, 2, 1, 1, 2, 1, 1, 2, 1, 2, 1, 1, 2, 1, 1, 2, 1, 2, 1, 1, 2, 1, 2, 1, 1, 2, 1, 1, 2, 1, 2, 1, 1, 2, 1, 1, 2, 1, 2, 1, 1, 2, 1, 2, 1, 1, 2, 1, 1, 2, 1, 2, 1, 1, 2, 1, 1, 2, 1, 2, 1, 1, 2, 1, 2, 1, 1, 2, 1, 1, 2, 1, 2, 1, 1, 2, 1, 2, 1, 1, 2, 1, 1, 2, 1, 2, 1, 1]) of length 108 after prefixing the suffix with 0 times the current s.m.p.Increase the value of the `max_smp_length` keyword argument to go further.\n",
      "\u001b[34m\u001b[1mNew candidate s.m.p. found\u001b[22m\u001b[39m because ⟨v_6*, v⟩ - 1 = 7.514185762502734e-8 > 1.0e-9:\n",
      "\u001b[31m\u001b[1maborting\u001b[22m\u001b[39m with smp candidate PSW(1.4092376588328244, [2, 1, 1, 2, 1, 1, 2, 1, 2, 1, 1, 2, 1, 1, 2, 1, 2, 1, 1, 2, 1, 2, 1, 1, 2, 1, 1, 2, 1, 2, 1, 1, 2, 1, 1, 2, 1, 2, 1, 1, 2, 1, 2, 1, 1, 2, 1, 1, 2, 1, 2, 1, 1, 2, 1, 1, 2, 1, 2, 1, 1, 2, 1, 2, 1, 1, 2, 1, 1, 2, 1, 2, 1, 1, 2, 1, 2, 1, 1, 2, 1, 1, 2, 1, 2, 1, 1, 2, 1, 2, 1, 1, 2, 1, 1, 2, 1, 2, 1, 1, 2, 1, 1, 2, 1, 2, 1, 1]) of length 108 after prefixing the suffix with 0 times the current s.m.p.Increase the value of the `max_smp_length` keyword argument to go further.\n",
      "\u001b[34m\u001b[1mNew candidate s.m.p. found\u001b[22m\u001b[39m because ⟨v_6*, v⟩ - 1 = 0.0004556541261451219 > 1.0e-9:\n",
      "\u001b[31m\u001b[1maborting\u001b[22m\u001b[39m with smp candidate PSW(1.409227417188032, [2, 1, 1, 2, 1, 1, 2, 1, 2, 1, 1, 2, 1, 1, 2, 1, 2, 1, 1, 2, 1, 2, 1, 1, 2, 1, 1, 2, 1, 2, 1, 1, 2, 1, 1, 2, 1, 2, 1, 1, 2, 1, 2, 1, 1, 2, 1, 1, 2, 1, 2, 1, 1, 2, 1, 1, 2, 1, 2, 1, 1, 2, 1, 2, 1, 1, 2, 1, 1, 2, 1, 2, 1, 1, 2, 1, 2, 1, 1, 2, 1, 1, 2, 1, 2, 1, 1, 2, 1, 2, 1, 1, 2, 1, 1, 2, 1, 2, 1, 1, 2, 1, 2, 1, 1, 2, 1, 1]) of length 108 after prefixing the suffix with 0 times the current s.m.p.Increase the value of the `max_smp_length` keyword argument to go further.\n",
      "\u001b[34m\u001b[1mNew candidate s.m.p. found\u001b[22m\u001b[39m because ⟨v_6*, v⟩ - 1 = 0.0004559819344214233 > 1.0e-9:\n",
      "\u001b[31m\u001b[1maborting\u001b[22m\u001b[39m with smp candidate PSW(1.4092274096217385, [2, 1, 1, 2, 1, 1, 2, 1, 2, 1, 1, 2, 1, 1, 2, 1, 2, 1, 1, 2, 1, 2, 1, 1, 2, 1, 1, 2, 1, 2, 1, 1, 2, 1, 1, 2, 1, 2, 1, 1, 2, 1, 2, 1, 1, 2, 1, 1, 2, 1, 2, 1, 1, 2, 1, 2, 1, 1, 2, 1, 1, 2, 1, 2, 1, 1, 2, 1, 2, 1, 1, 2, 1, 1, 2, 1, 2, 1, 1, 2, 1, 2, 1, 1, 2, 1, 1, 2, 1, 2, 1, 1, 2, 1, 2, 1, 1, 2, 1, 1, 2, 1, 2, 1, 1, 2, 1, 1]) of length 108 after prefixing the suffix with 0 times the current s.m.p.Increase the value of the `max_smp_length` keyword argument to go further.\n"
     ]
    },
    {
     "name": "stdout",
     "output_type": "stream",
     "text": [
      "Depth 109: [513] points, 8 living leaves...\n",
      "Depth 110: [521] points, 8 living leaves...\n",
      "\u001b[34m\u001b[1mNew candidate s.m.p. found\u001b[22m\u001b[39m because ⟨v_6*, v⟩ - 1 = 7.310683725059164e-8 > 1.0e-9:\n",
      "\u001b[31m\u001b[1maborting\u001b[22m\u001b[39m with smp candidate PSW(1.4092378327841075, [2, 1, 1, 2, 1, 1, 2, 1, 2, 1, 1, 2, 1, 1, 2, 1, 2, 1, 1, 2, 1, 2, 1, 1, 2, 1, 1, 2, 1, 2, 1, 1, 2, 1, 2, 1, 1, 2, 1, 1, 2, 1, 2, 1, 1, 2, 1, 2, 1, 1, 2, 1, 1, 2, 1, 2, 1, 1, 2, 1, 2, 1, 1, 2, 1, 1, 2, 1, 2, 1, 1, 2, 1, 2, 1, 1, 2, 1, 1, 2, 1, 2, 1, 1, 2, 1, 2, 1, 1, 2, 1, 1, 2, 1, 2, 1, 1, 2, 1, 2, 1, 1, 2, 1, 1, 2, 1, 2, 1, 1]) of length 110 after prefixing the suffix with 0 times the current s.m.p.Increase the value of the `max_smp_length` keyword argument to go further.\n",
      "\u001b[34m\u001b[1mNew candidate s.m.p. found\u001b[22m\u001b[39m because ⟨v_6*, v⟩ - 1 = 7.650791422619818e-8 > 1.0e-9:\n",
      "\u001b[31m\u001b[1maborting\u001b[22m\u001b[39m with smp candidate PSW(1.409237839644934, [2, 1, 1, 2, 1, 1, 2, 1, 2, 1, 1, 2, 1, 2, 1, 1, 2, 1, 1, 2, 1, 2, 1, 1, 2, 1, 2, 1, 1, 2, 1, 1, 2, 1, 2, 1, 1, 2, 1, 2, 1, 1, 2, 1, 1, 2, 1, 2, 1, 1, 2, 1, 2, 1, 1, 2, 1, 1, 2, 1, 2, 1, 1, 2, 1, 2, 1, 1, 2, 1, 1, 2, 1, 2, 1, 1, 2, 1, 2, 1, 1, 2, 1, 1, 2, 1, 2, 1, 1, 2, 1, 2, 1, 1, 2, 1, 1, 2, 1, 2, 1, 1, 2, 1, 1, 2, 1, 2, 1, 1]) of length 110 after prefixing the suffix with 0 times the current s.m.p.Increase the value of the `max_smp_length` keyword argument to go further.\n",
      "\u001b[34m\u001b[1mNew candidate s.m.p. found\u001b[22m\u001b[39m because ⟨v_6*, v⟩ - 1 = 0.0004556554928241141 > 1.0e-9:\n",
      "\u001b[31m\u001b[1maborting\u001b[22m\u001b[39m with smp candidate PSW(1.4092277847024621, [2, 1, 1, 2, 1, 1, 2, 1, 2, 1, 1, 2, 1, 2, 1, 1, 2, 1, 1, 2, 1, 2, 1, 1, 2, 1, 2, 1, 1, 2, 1, 1, 2, 1, 2, 1, 1, 2, 1, 2, 1, 1, 2, 1, 1, 2, 1, 2, 1, 1, 2, 1, 2, 1, 1, 2, 1, 1, 2, 1, 2, 1, 1, 2, 1, 2, 1, 1, 2, 1, 1, 2, 1, 2, 1, 1, 2, 1, 2, 1, 1, 2, 1, 1, 2, 1, 2, 1, 1, 2, 1, 2, 1, 1, 2, 1, 1, 2, 1, 2, 1, 1, 2, 1, 2, 1, 1, 2, 1, 1]) of length 110 after prefixing the suffix with 0 times the current s.m.p.Increase the value of the `max_smp_length` keyword argument to go further.\n",
      "Depth 111: [529] points, 8 living leaves...\n",
      "\u001b[34m\u001b[1mNew candidate s.m.p. found\u001b[22m\u001b[39m because ⟨v_6*, v⟩ - 1 = 0.0004559839848703451 > 1.0e-9:\n",
      "\u001b[31m\u001b[1maborting\u001b[22m\u001b[39m with smp candidate PSW(1.4092279450893372, [2, 1, 1, 2, 1, 1, 2, 1, 2, 1, 1, 2, 1, 1, 2, 1, 2, 1, 1, 2, 1, 2, 1, 1, 2, 1, 1, 2, 1, 2, 1, 1, 2, 1, 1, 2, 1, 2, 1, 1, 2, 1, 2, 1, 1, 2, 1, 1, 2, 1, 2, 1, 1, 2, 1, 1, 2, 1, 2, 1, 1, 2, 1, 2, 1, 1, 2, 1, 1, 2, 1, 2, 1, 1, 2, 1, 1, 2, 1, 2, 1, 1, 2, 1, 2, 1, 1, 2, 1, 1, 2, 1, 2, 1, 1, 2, 1, 2, 1, 1, 2, 1, 1, 2, 1, 2, 1, 1, 2, 1, 1]) of length 111 after prefixing the suffix with 0 times the current s.m.p.Increase the value of the `max_smp_length` keyword argument to go further.\n",
      "Depth 112: [537] points, 8 living leaves...\n",
      "Depth 113: [545] points, 8 living leaves...\n",
      "\u001b[34m\u001b[1mNew candidate s.m.p. found\u001b[22m\u001b[39m because ⟨v_6*, v⟩ - 1 = 7.515635314092606e-8 > 1.0e-9:\n",
      "\u001b[31m\u001b[1maborting\u001b[22m\u001b[39m with smp candidate PSW(1.4092380820560682, [2, 1, 1, 2, 1, 1, 2, 1, 2, 1, 1, 2, 1, 1, 2, 1, 2, 1, 1, 2, 1, 2, 1, 1, 2, 1, 1, 2, 1, 2, 1, 1, 2, 1, 1, 2, 1, 2, 1, 1, 2, 1, 2, 1, 1, 2, 1, 1, 2, 1, 2, 1, 1, 2, 1, 1, 2, 1, 2, 1, 1, 2, 1, 2, 1, 1, 2, 1, 1, 2, 1, 2, 1, 1, 2, 1, 2, 1, 1, 2, 1, 1, 2, 1, 2, 1, 1, 2, 1, 2, 1, 1, 2, 1, 1, 2, 1, 2, 1, 1, 2, 1, 2, 1, 1, 2, 1, 1, 2, 1, 2, 1, 1]) of length 113 after prefixing the suffix with 0 times the current s.m.p.Increase the value of the `max_smp_length` keyword argument to go further.\n",
      "\u001b[34m\u001b[1mNew candidate s.m.p. found\u001b[22m\u001b[39m because ⟨v_6*, v⟩ - 1 = 7.85574301165326e-8 > 1.0e-9:\n",
      "\u001b[31m\u001b[1maborting\u001b[22m\u001b[39m with smp candidate PSW(1.4092380819830228, [2, 1, 1, 2, 1, 1, 2, 1, 2, 1, 1, 2, 1, 1, 2, 1, 2, 1, 1, 2, 1, 2, 1, 1, 2, 1, 1, 2, 1, 2, 1, 1, 2, 1, 1, 2, 1, 2, 1, 1, 2, 1, 2, 1, 1, 2, 1, 1, 2, 1, 2, 1, 1, 2, 1, 2, 1, 1, 2, 1, 1, 2, 1, 2, 1, 1, 2, 1, 2, 1, 1, 2, 1, 1, 2, 1, 2, 1, 1, 2, 1, 2, 1, 1, 2, 1, 1, 2, 1, 2, 1, 1, 2, 1, 2, 1, 1, 2, 1, 1, 2, 1, 2, 1, 1, 2, 1, 1, 2, 1, 2, 1, 1]) of length 113 after prefixing the suffix with 0 times the current s.m.p.Increase the value of the `max_smp_length` keyword argument to go further.\n",
      "\u001b[34m\u001b[1mNew candidate s.m.p. found\u001b[22m\u001b[39m because ⟨v_6*, v⟩ - 1 = 0.00045565754327347996 > 1.0e-9:\n",
      "\u001b[31m\u001b[1maborting\u001b[22m\u001b[39m with smp candidate PSW(1.4092282935038412, [2, 1, 1, 2, 1, 1, 2, 1, 2, 1, 1, 2, 1, 1, 2, 1, 2, 1, 1, 2, 1, 2, 1, 1, 2, 1, 1, 2, 1, 2, 1, 1, 2, 1, 1, 2, 1, 2, 1, 1, 2, 1, 2, 1, 1, 2, 1, 1, 2, 1, 2, 1, 1, 2, 1, 2, 1, 1, 2, 1, 1, 2, 1, 2, 1, 1, 2, 1, 2, 1, 1, 2, 1, 1, 2, 1, 2, 1, 1, 2, 1, 2, 1, 1, 2, 1, 1, 2, 1, 2, 1, 1, 2, 1, 2, 1, 1, 2, 1, 1, 2, 1, 2, 1, 1, 2, 1, 2, 1, 1, 2, 1, 1]) of length 113 after prefixing the suffix with 0 times the current s.m.p.Increase the value of the `max_smp_length` keyword argument to go further.\n",
      "\u001b[34m\u001b[1mNew candidate s.m.p. found\u001b[22m\u001b[39m because ⟨v_6*, v⟩ - 1 = 0.0004559853515500034 > 1.0e-9:\n",
      "\u001b[31m\u001b[1maborting\u001b[22m\u001b[39m with smp candidate PSW(1.4092282862723349, [2, 1, 1, 2, 1, 1, 2, 1, 2, 1, 1, 2, 1, 1, 2, 1, 2, 1, 1, 2, 1, 2, 1, 1, 2, 1, 1, 2, 1, 2, 1, 1, 2, 1, 2, 1, 1, 2, 1, 1, 2, 1, 2, 1, 1, 2, 1, 2, 1, 1, 2, 1, 1, 2, 1, 2, 1, 1, 2, 1, 2, 1, 1, 2, 1, 1, 2, 1, 2, 1, 1, 2, 1, 2, 1, 1, 2, 1, 1, 2, 1, 2, 1, 1, 2, 1, 2, 1, 1, 2, 1, 1, 2, 1, 2, 1, 1, 2, 1, 2, 1, 1, 2, 1, 1, 2, 1, 2, 1, 1, 2, 1, 1]) of length 113 after prefixing the suffix with 0 times the current s.m.p.Increase the value of the `max_smp_length` keyword argument to go further.\n",
      "Depth 114: [553] points, 8 living leaves...\n",
      "Depth 115: [561] points, 8 living leaves...\n",
      "\u001b[34m\u001b[1mNew candidate s.m.p. found\u001b[22m\u001b[39m because ⟨v_6*, v⟩ - 1 = 7.65224099641415e-8 > 1.0e-9:\n",
      "\u001b[31m\u001b[1maborting\u001b[22m\u001b[39m with smp candidate PSW(1.4092382476464234, [2, 1, 1, 2, 1, 1, 2, 1, 2, 1, 1, 2, 1, 2, 1, 1, 2, 1, 1, 2, 1, 2, 1, 1, 2, 1, 2, 1, 1, 2, 1, 1, 2, 1, 2, 1, 1, 2, 1, 2, 1, 1, 2, 1, 1, 2, 1, 2, 1, 1, 2, 1, 2, 1, 1, 2, 1, 1, 2, 1, 2, 1, 1, 2, 1, 2, 1, 1, 2, 1, 1, 2, 1, 2, 1, 1, 2, 1, 2, 1, 1, 2, 1, 1, 2, 1, 2, 1, 1, 2, 1, 2, 1, 1, 2, 1, 1, 2, 1, 2, 1, 1, 2, 1, 2, 1, 1, 2, 1, 1, 2, 1, 2, 1, 1]) of length 115 after prefixing the suffix with 0 times the current s.m.p.Increase the value of the `max_smp_length` keyword argument to go further.\n",
      "Depth 116: [569] points, 8 living leaves...\n",
      "\u001b[34m\u001b[1mNew candidate s.m.p. found\u001b[22m\u001b[39m because ⟨v_6*, v⟩ - 1 = 8.060694467459939e-8 > 1.0e-9:\n",
      "\u001b[31m\u001b[1maborting\u001b[22m\u001b[39m with smp candidate PSW(1.409238318363536, [2, 1, 1, 2, 1, 1, 2, 1, 2, 1, 1, 2, 1, 1, 2, 1, 2, 1, 1, 2, 1, 2, 1, 1, 2, 1, 1, 2, 1, 2, 1, 1, 2, 1, 1, 2, 1, 2, 1, 1, 2, 1, 2, 1, 1, 2, 1, 1, 2, 1, 2, 1, 1, 2, 1, 1, 2, 1, 2, 1, 1, 2, 1, 2, 1, 1, 2, 1, 1, 2, 1, 2, 1, 1, 2, 1, 1, 2, 1, 2, 1, 1, 2, 1, 2, 1, 1, 2, 1, 1, 2, 1, 2, 1, 1, 2, 1, 2, 1, 1, 2, 1, 1, 2, 1, 2, 1, 1, 2, 1, 1, 2, 1, 2, 1, 1]) of length 116 after prefixing the suffix with 0 times the current s.m.p.Increase the value of the `max_smp_length` keyword argument to go further.\n",
      "\u001b[34m\u001b[1mNew candidate s.m.p. found\u001b[22m\u001b[39m because ⟨v_6*, v⟩ - 1 = 0.00045565959372195763 > 1.0e-9:\n",
      "\u001b[31m\u001b[1maborting\u001b[22m\u001b[39m with smp candidate PSW(1.409228783032222, [2, 1, 1, 2, 1, 1, 2, 1, 2, 1, 1, 2, 1, 1, 2, 1, 2, 1, 1, 2, 1, 2, 1, 1, 2, 1, 1, 2, 1, 2, 1, 1, 2, 1, 1, 2, 1, 2, 1, 1, 2, 1, 2, 1, 1, 2, 1, 1, 2, 1, 2, 1, 1, 2, 1, 1, 2, 1, 2, 1, 1, 2, 1, 2, 1, 1, 2, 1, 1, 2, 1, 2, 1, 1, 2, 1, 1, 2, 1, 2, 1, 1, 2, 1, 2, 1, 1, 2, 1, 1, 2, 1, 2, 1, 1, 2, 1, 2, 1, 1, 2, 1, 1, 2, 1, 2, 1, 1, 2, 1, 2, 1, 1, 2, 1, 1]) of length 116 after prefixing the suffix with 0 times the current s.m.p.Increase the value of the `max_smp_length` keyword argument to go further.\n",
      "\u001b[34m\u001b[1mNew candidate s.m.p. found\u001b[22m\u001b[39m because ⟨v_6*, v⟩ - 1 = 0.0004559874020000354 > 1.0e-9:\n",
      "\u001b[31m\u001b[1maborting\u001b[22m\u001b[39m with smp candidate PSW(1.409228775987735, [2, 1, 1, 2, 1, 1, 2, 1, 2, 1, 1, 2, 1, 1, 2, 1, 2, 1, 1, 2, 1, 2, 1, 1, 2, 1, 1, 2, 1, 2, 1, 1, 2, 1, 1, 2, 1, 2, 1, 1, 2, 1, 2, 1, 1, 2, 1, 1, 2, 1, 2, 1, 1, 2, 1, 1, 2, 1, 2, 1, 1, 2, 1, 2, 1, 1, 2, 1, 1, 2, 1, 2, 1, 1, 2, 1, 2, 1, 1, 2, 1, 1, 2, 1, 2, 1, 1, 2, 1, 2, 1, 1, 2, 1, 1, 2, 1, 2, 1, 1, 2, 1, 2, 1, 1, 2, 1, 1, 2, 1, 2, 1, 1, 2, 1, 1]) of length 116 after prefixing the suffix with 0 times the current s.m.p.Increase the value of the `max_smp_length` keyword argument to go further.\n"
     ]
    },
    {
     "name": "stdout",
     "output_type": "stream",
     "text": [
      "Depth 117: [577] points, 8 living leaves...\n",
      "Depth 118: [585] points, 8 living leaves...\n",
      "\u001b[34m\u001b[1mNew candidate s.m.p. found\u001b[22m\u001b[39m because ⟨v_6*, v⟩ - 1 = 7.857192541038671e-8 > 1.0e-9:\n",
      "\u001b[31m\u001b[1maborting\u001b[22m\u001b[39m with smp candidate PSW(1.4092384693430966, [2, 1, 1, 2, 1, 1, 2, 1, 2, 1, 1, 2, 1, 1, 2, 1, 2, 1, 1, 2, 1, 2, 1, 1, 2, 1, 1, 2, 1, 2, 1, 1, 2, 1, 1, 2, 1, 2, 1, 1, 2, 1, 2, 1, 1, 2, 1, 1, 2, 1, 2, 1, 1, 2, 1, 2, 1, 1, 2, 1, 1, 2, 1, 2, 1, 1, 2, 1, 2, 1, 1, 2, 1, 1, 2, 1, 2, 1, 1, 2, 1, 2, 1, 1, 2, 1, 1, 2, 1, 2, 1, 1, 2, 1, 2, 1, 1, 2, 1, 1, 2, 1, 2, 1, 1, 2, 1, 2, 1, 1, 2, 1, 1, 2, 1, 2, 1, 1]) of length 118 after prefixing the suffix with 0 times the current s.m.p.Increase the value of the `max_smp_length` keyword argument to go further.\n",
      "\u001b[34m\u001b[1mNew candidate s.m.p. found\u001b[22m\u001b[39m because ⟨v_6*, v⟩ - 1 = 8.197300171985944e-8 > 1.0e-9:\n",
      "\u001b[31m\u001b[1maborting\u001b[22m\u001b[39m with smp candidate PSW(1.4092384692731466, [2, 1, 1, 2, 1, 1, 2, 1, 2, 1, 1, 2, 1, 1, 2, 1, 2, 1, 1, 2, 1, 2, 1, 1, 2, 1, 1, 2, 1, 2, 1, 1, 2, 1, 2, 1, 1, 2, 1, 1, 2, 1, 2, 1, 1, 2, 1, 2, 1, 1, 2, 1, 1, 2, 1, 2, 1, 1, 2, 1, 2, 1, 1, 2, 1, 1, 2, 1, 2, 1, 1, 2, 1, 2, 1, 1, 2, 1, 1, 2, 1, 2, 1, 1, 2, 1, 2, 1, 1, 2, 1, 1, 2, 1, 2, 1, 1, 2, 1, 2, 1, 1, 2, 1, 1, 2, 1, 2, 1, 1, 2, 1, 1, 2, 1, 2, 1, 1]) of length 118 after prefixing the suffix with 0 times the current s.m.p.Increase the value of the `max_smp_length` keyword argument to go further.\n",
      "\u001b[34m\u001b[1mNew candidate s.m.p. found\u001b[22m\u001b[39m because ⟨v_6*, v⟩ - 1 = 0.0004556609604013939 > 1.0e-9:\n",
      "\u001b[31m\u001b[1maborting\u001b[22m\u001b[39m with smp candidate PSW(1.4092290955560762, [2, 1, 1, 2, 1, 1, 2, 1, 2, 1, 1, 2, 1, 1, 2, 1, 2, 1, 1, 2, 1, 2, 1, 1, 2, 1, 1, 2, 1, 2, 1, 1, 2, 1, 2, 1, 1, 2, 1, 1, 2, 1, 2, 1, 1, 2, 1, 2, 1, 1, 2, 1, 1, 2, 1, 2, 1, 1, 2, 1, 2, 1, 1, 2, 1, 1, 2, 1, 2, 1, 1, 2, 1, 2, 1, 1, 2, 1, 1, 2, 1, 2, 1, 1, 2, 1, 2, 1, 1, 2, 1, 1, 2, 1, 2, 1, 1, 2, 1, 2, 1, 1, 2, 1, 1, 2, 1, 2, 1, 1, 2, 1, 2, 1, 1, 2, 1, 1]) of length 118 after prefixing the suffix with 0 times the current s.m.p.Increase the value of the `max_smp_length` keyword argument to go further.\n",
      "\u001b[34m\u001b[1mNew candidate s.m.p. found\u001b[22m\u001b[39m because ⟨v_6*, v⟩ - 1 = 0.0004559887686794717 > 1.0e-9:\n",
      "\u001b[31m\u001b[1maborting\u001b[22m\u001b[39m with smp candidate PSW(1.4092290955560762, [2, 1, 1, 2, 1, 1, 2, 1, 2, 1, 1, 2, 1, 2, 1, 1, 2, 1, 1, 2, 1, 2, 1, 1, 2, 1, 2, 1, 1, 2, 1, 1, 2, 1, 2, 1, 1, 2, 1, 2, 1, 1, 2, 1, 1, 2, 1, 2, 1, 1, 2, 1, 2, 1, 1, 2, 1, 1, 2, 1, 2, 1, 1, 2, 1, 2, 1, 1, 2, 1, 1, 2, 1, 2, 1, 1, 2, 1, 2, 1, 1, 2, 1, 1, 2, 1, 2, 1, 1, 2, 1, 2, 1, 1, 2, 1, 1, 2, 1, 2, 1, 1, 2, 1, 2, 1, 1, 2, 1, 1, 2, 1, 2, 1, 1, 2, 1, 1]) of length 118 after prefixing the suffix with 0 times the current s.m.p.Increase the value of the `max_smp_length` keyword argument to go further.\n",
      "Depth 119: [594] points, 9 living leaves...\n",
      "Depth 120: [602] points, 8 living leaves...\n",
      "Depth 121: [610] points, 8 living leaves...\n",
      "\u001b[34m\u001b[1mNew candidate s.m.p. found\u001b[22m\u001b[39m because ⟨v_6*, v⟩ - 1 = 8.06214401904981e-8 > 1.0e-9:\n",
      "\u001b[31m\u001b[1maborting\u001b[22m\u001b[39m with smp candidate PSW(1.40923868635191, [2, 1, 1, 2, 1, 1, 2, 1, 2, 1, 1, 2, 1, 1, 2, 1, 2, 1, 1, 2, 1, 2, 1, 1, 2, 1, 1, 2, 1, 2, 1, 1, 2, 1, 1, 2, 1, 2, 1, 1, 2, 1, 2, 1, 1, 2, 1, 1, 2, 1, 2, 1, 1, 2, 1, 1, 2, 1, 2, 1, 1, 2, 1, 2, 1, 1, 2, 1, 1, 2, 1, 2, 1, 1, 2, 1, 1, 2, 1, 2, 1, 1, 2, 1, 2, 1, 1, 2, 1, 1, 2, 1, 2, 1, 1, 2, 1, 2, 1, 1, 2, 1, 1, 2, 1, 2, 1, 1, 2, 1, 2, 1, 1, 2, 1, 1, 2, 1, 2, 1, 1]) of length 121 after prefixing the suffix with 0 times the current s.m.p.Increase the value of the `max_smp_length` keyword argument to go further.\n",
      "\u001b[34m\u001b[1mNew candidate s.m.p. found\u001b[22m\u001b[39m because ⟨v_6*, v⟩ - 1 = 8.402251716610465e-8 > 1.0e-9:\n",
      "\u001b[31m\u001b[1maborting\u001b[22m\u001b[39m with smp candidate PSW(1.409238686283694, [2, 1, 1, 2, 1, 1, 2, 1, 2, 1, 1, 2, 1, 1, 2, 1, 2, 1, 1, 2, 1, 2, 1, 1, 2, 1, 1, 2, 1, 2, 1, 1, 2, 1, 1, 2, 1, 2, 1, 1, 2, 1, 2, 1, 1, 2, 1, 1, 2, 1, 2, 1, 1, 2, 1, 1, 2, 1, 2, 1, 1, 2, 1, 2, 1, 1, 2, 1, 1, 2, 1, 2, 1, 1, 2, 1, 2, 1, 1, 2, 1, 1, 2, 1, 2, 1, 1, 2, 1, 2, 1, 1, 2, 1, 1, 2, 1, 2, 1, 1, 2, 1, 2, 1, 1, 2, 1, 1, 2, 1, 2, 1, 1, 2, 1, 1, 2, 1, 2, 1, 1]) of length 121 after prefixing the suffix with 0 times the current s.m.p.Increase the value of the `max_smp_length` keyword argument to go further.\n",
      "\u001b[34m\u001b[1mNew candidate s.m.p. found\u001b[22m\u001b[39m because ⟨v_6*, v⟩ - 1 = 0.0004556630108507598 > 1.0e-9:\n",
      "\u001b[31m\u001b[1maborting\u001b[22m\u001b[39m with smp candidate PSW(1.4092295449706707, [2, 1, 1, 2, 1, 1, 2, 1, 2, 1, 1, 2, 1, 1, 2, 1, 2, 1, 1, 2, 1, 2, 1, 1, 2, 1, 1, 2, 1, 2, 1, 1, 2, 1, 1, 2, 1, 2, 1, 1, 2, 1, 2, 1, 1, 2, 1, 1, 2, 1, 2, 1, 1, 2, 1, 1, 2, 1, 2, 1, 1, 2, 1, 2, 1, 1, 2, 1, 1, 2, 1, 2, 1, 1, 2, 1, 2, 1, 1, 2, 1, 1, 2, 1, 2, 1, 1, 2, 1, 2, 1, 1, 2, 1, 1, 2, 1, 2, 1, 1, 2, 1, 2, 1, 1, 2, 1, 1, 2, 1, 2, 1, 1, 2, 1, 2, 1, 1, 2, 1, 1]) of length 121 after prefixing the suffix with 0 times the current s.m.p.Increase the value of the `max_smp_length` keyword argument to go further.\n",
      "\u001b[34m\u001b[1mNew candidate s.m.p. found\u001b[22m\u001b[39m because ⟨v_6*, v⟩ - 1 = 0.0004559908191297257 > 1.0e-9:\n",
      "\u001b[31m\u001b[1maborting\u001b[22m\u001b[39m with smp candidate PSW(1.4092295382172746, [2, 1, 1, 2, 1, 1, 2, 1, 2, 1, 1, 2, 1, 1, 2, 1, 2, 1, 1, 2, 1, 2, 1, 1, 2, 1, 1, 2, 1, 2, 1, 1, 2, 1, 1, 2, 1, 2, 1, 1, 2, 1, 2, 1, 1, 2, 1, 1, 2, 1, 2, 1, 1, 2, 1, 2, 1, 1, 2, 1, 1, 2, 1, 2, 1, 1, 2, 1, 2, 1, 1, 2, 1, 1, 2, 1, 2, 1, 1, 2, 1, 2, 1, 1, 2, 1, 1, 2, 1, 2, 1, 1, 2, 1, 2, 1, 1, 2, 1, 1, 2, 1, 2, 1, 1, 2, 1, 2, 1, 1, 2, 1, 1, 2, 1, 2, 1, 1, 2, 1, 1]) of length 121 after prefixing the suffix with 0 times the current s.m.p.Increase the value of the `max_smp_length` keyword argument to go further.\n",
      "Depth 122: [618] points, 8 living leaves...\n",
      "Depth 123: [626] points, 8 living leaves...\n",
      "\u001b[34m\u001b[1mNew candidate s.m.p. found\u001b[22m\u001b[39m because ⟨v_6*, v⟩ - 1 = 8.198749723575816e-8 > 1.0e-9:\n",
      "\u001b[31m\u001b[1maborting\u001b[22m\u001b[39m with smp candidate PSW(1.4092388251434687, [2, 1, 1, 2, 1, 1, 2, 1, 2, 1, 1, 2, 1, 1, 2, 1, 2, 1, 1, 2, 1, 2, 1, 1, 2, 1, 1, 2, 1, 2, 1, 1, 2, 1, 2, 1, 1, 2, 1, 1, 2, 1, 2, 1, 1, 2, 1, 2, 1, 1, 2, 1, 1, 2, 1, 2, 1, 1, 2, 1, 2, 1, 1, 2, 1, 1, 2, 1, 2, 1, 1, 2, 1, 2, 1, 1, 2, 1, 1, 2, 1, 2, 1, 1, 2, 1, 2, 1, 1, 2, 1, 1, 2, 1, 2, 1, 1, 2, 1, 2, 1, 1, 2, 1, 1, 2, 1, 2, 1, 1, 2, 1, 2, 1, 1, 2, 1, 1, 2, 1, 2, 1, 1]) of length 123 after prefixing the suffix with 0 times the current s.m.p.Increase the value of the `max_smp_length` keyword argument to go further.\n",
      "\u001b[34m\u001b[1mNew candidate s.m.p. found\u001b[22m\u001b[39m because ⟨v_6*, v⟩ - 1 = 8.53885739893201e-8 > 1.0e-9:\n",
      "\u001b[31m\u001b[1maborting\u001b[22m\u001b[39m with smp candidate PSW(1.4092388312791717, [2, 1, 1, 2, 1, 1, 2, 1, 2, 1, 1, 2, 1, 2, 1, 1, 2, 1, 1, 2, 1, 2, 1, 1, 2, 1, 2, 1, 1, 2, 1, 1, 2, 1, 2, 1, 1, 2, 1, 2, 1, 1, 2, 1, 1, 2, 1, 2, 1, 1, 2, 1, 2, 1, 1, 2, 1, 1, 2, 1, 2, 1, 1, 2, 1, 2, 1, 1, 2, 1, 1, 2, 1, 2, 1, 1, 2, 1, 2, 1, 1, 2, 1, 1, 2, 1, 2, 1, 1, 2, 1, 2, 1, 1, 2, 1, 1, 2, 1, 2, 1, 1, 2, 1, 2, 1, 1, 2, 1, 1, 2, 1, 2, 1, 1, 2, 1, 1, 2, 1, 2, 1, 1]) of length 123 after prefixing the suffix with 0 times the current s.m.p.Increase the value of the `max_smp_length` keyword argument to go further.\n",
      "\u001b[34m\u001b[1mNew candidate s.m.p. found\u001b[22m\u001b[39m because ⟨v_6*, v⟩ - 1 = 0.000455664377529974 > 1.0e-9:\n",
      "\u001b[31m\u001b[1maborting\u001b[22m\u001b[39m with smp candidate PSW(1.4092298390444786, [2, 1, 1, 2, 1, 1, 2, 1, 2, 1, 1, 2, 1, 2, 1, 1, 2, 1, 1, 2, 1, 2, 1, 1, 2, 1, 2, 1, 1, 2, 1, 1, 2, 1, 2, 1, 1, 2, 1, 2, 1, 1, 2, 1, 1, 2, 1, 2, 1, 1, 2, 1, 2, 1, 1, 2, 1, 1, 2, 1, 2, 1, 1, 2, 1, 2, 1, 1, 2, 1, 1, 2, 1, 2, 1, 1, 2, 1, 2, 1, 1, 2, 1, 1, 2, 1, 2, 1, 1, 2, 1, 2, 1, 1, 2, 1, 1, 2, 1, 2, 1, 1, 2, 1, 2, 1, 1, 2, 1, 1, 2, 1, 2, 1, 1, 2, 1, 2, 1, 1, 2, 1, 1]) of length 123 after prefixing the suffix with 0 times the current s.m.p.Increase the value of the `max_smp_length` keyword argument to go further.\n",
      "Depth 124: [634] points, 8 living leaves...\n",
      "\u001b[34m\u001b[1mNew candidate s.m.p. found\u001b[22m\u001b[39m because ⟨v_6*, v⟩ - 1 = 0.00045599286957886953 > 1.0e-9:\n",
      "\u001b[31m\u001b[1maborting\u001b[22m\u001b[39m with smp candidate PSW(1.4092299660495213, [2, 1, 1, 2, 1, 1, 2, 1, 2, 1, 1, 2, 1, 1, 2, 1, 2, 1, 1, 2, 1, 2, 1, 1, 2, 1, 1, 2, 1, 2, 1, 1, 2, 1, 1, 2, 1, 2, 1, 1, 2, 1, 2, 1, 1, 2, 1, 1, 2, 1, 2, 1, 1, 2, 1, 1, 2, 1, 2, 1, 1, 2, 1, 2, 1, 1, 2, 1, 1, 2, 1, 2, 1, 1, 2, 1, 1, 2, 1, 2, 1, 1, 2, 1, 2, 1, 1, 2, 1, 1, 2, 1, 2, 1, 1, 2, 1, 2, 1, 1, 2, 1, 1, 2, 1, 2, 1, 1, 2, 1, 2, 1, 1, 2, 1, 1, 2, 1, 2, 1, 1, 2, 1, 1]) of length 124 after prefixing the suffix with 0 times the current s.m.p.Increase the value of the `max_smp_length` keyword argument to go further.\n"
     ]
    },
    {
     "name": "stdout",
     "output_type": "stream",
     "text": [
      "Depth 125: [642] points, 8 living leaves...\n",
      "Depth 126: [650] points, 8 living leaves...\n",
      "\u001b[34m\u001b[1mNew candidate s.m.p. found\u001b[22m\u001b[39m because ⟨v_6*, v⟩ - 1 = 8.403701312609257e-8 > 1.0e-9:\n",
      "\u001b[31m\u001b[1maborting\u001b[22m\u001b[39m with smp candidate PSW(1.4092390250694333, [2, 1, 1, 2, 1, 1, 2, 1, 2, 1, 1, 2, 1, 1, 2, 1, 2, 1, 1, 2, 1, 2, 1, 1, 2, 1, 1, 2, 1, 2, 1, 1, 2, 1, 1, 2, 1, 2, 1, 1, 2, 1, 2, 1, 1, 2, 1, 1, 2, 1, 2, 1, 1, 2, 1, 1, 2, 1, 2, 1, 1, 2, 1, 2, 1, 1, 2, 1, 1, 2, 1, 2, 1, 1, 2, 1, 2, 1, 1, 2, 1, 1, 2, 1, 2, 1, 1, 2, 1, 2, 1, 1, 2, 1, 1, 2, 1, 2, 1, 1, 2, 1, 2, 1, 1, 2, 1, 1, 2, 1, 2, 1, 1, 2, 1, 2, 1, 1, 2, 1, 1, 2, 1, 2, 1, 1]) of length 126 after prefixing the suffix with 0 times the current s.m.p.Increase the value of the `max_smp_length` keyword argument to go further.\n",
      "\u001b[34m\u001b[1mNew candidate s.m.p. found\u001b[22m\u001b[39m because ⟨v_6*, v⟩ - 1 = 8.743809010169912e-8 > 1.0e-9:\n",
      "\u001b[31m\u001b[1maborting\u001b[22m\u001b[39m with smp candidate PSW(1.4092390250039246, [2, 1, 1, 2, 1, 1, 2, 1, 2, 1, 1, 2, 1, 1, 2, 1, 2, 1, 1, 2, 1, 2, 1, 1, 2, 1, 1, 2, 1, 2, 1, 1, 2, 1, 1, 2, 1, 2, 1, 1, 2, 1, 2, 1, 1, 2, 1, 1, 2, 1, 2, 1, 1, 2, 1, 2, 1, 1, 2, 1, 1, 2, 1, 2, 1, 1, 2, 1, 2, 1, 1, 2, 1, 1, 2, 1, 2, 1, 1, 2, 1, 2, 1, 1, 2, 1, 1, 2, 1, 2, 1, 1, 2, 1, 2, 1, 1, 2, 1, 1, 2, 1, 2, 1, 1, 2, 1, 2, 1, 1, 2, 1, 1, 2, 1, 2, 1, 1, 2, 1, 1, 2, 1, 2, 1, 1]) of length 126 after prefixing the suffix with 0 times the current s.m.p.Increase the value of the `max_smp_length` keyword argument to go further.\n",
      "\u001b[34m\u001b[1mNew candidate s.m.p. found\u001b[22m\u001b[39m because ⟨v_6*, v⟩ - 1 = 0.00045566642797933987 > 1.0e-9:\n",
      "\u001b[31m\u001b[1maborting\u001b[22m\u001b[39m with smp candidate PSW(1.409230246438178, [2, 1, 1, 2, 1, 1, 2, 1, 2, 1, 1, 2, 1, 1, 2, 1, 2, 1, 1, 2, 1, 2, 1, 1, 2, 1, 1, 2, 1, 2, 1, 1, 2, 1, 1, 2, 1, 2, 1, 1, 2, 1, 2, 1, 1, 2, 1, 1, 2, 1, 2, 1, 1, 2, 1, 2, 1, 1, 2, 1, 1, 2, 1, 2, 1, 1, 2, 1, 2, 1, 1, 2, 1, 1, 2, 1, 2, 1, 1, 2, 1, 2, 1, 1, 2, 1, 1, 2, 1, 2, 1, 1, 2, 1, 2, 1, 1, 2, 1, 1, 2, 1, 2, 1, 1, 2, 1, 2, 1, 1, 2, 1, 1, 2, 1, 2, 1, 1, 2, 1, 2, 1, 1, 2, 1, 1]) of length 126 after prefixing the suffix with 0 times the current s.m.p.Increase the value of the `max_smp_length` keyword argument to go further.\n",
      "\u001b[34m\u001b[1mNew candidate s.m.p. found\u001b[22m\u001b[39m because ⟨v_6*, v⟩ - 1 = 0.0004559942362587499 > 1.0e-9:\n",
      "\u001b[31m\u001b[1maborting\u001b[22m\u001b[39m with smp candidate PSW(1.4092302399527707, [2, 1, 1, 2, 1, 1, 2, 1, 2, 1, 1, 2, 1, 1, 2, 1, 2, 1, 1, 2, 1, 2, 1, 1, 2, 1, 1, 2, 1, 2, 1, 1, 2, 1, 2, 1, 1, 2, 1, 1, 2, 1, 2, 1, 1, 2, 1, 2, 1, 1, 2, 1, 1, 2, 1, 2, 1, 1, 2, 1, 2, 1, 1, 2, 1, 1, 2, 1, 2, 1, 1, 2, 1, 2, 1, 1, 2, 1, 1, 2, 1, 2, 1, 1, 2, 1, 2, 1, 1, 2, 1, 1, 2, 1, 2, 1, 1, 2, 1, 2, 1, 1, 2, 1, 1, 2, 1, 2, 1, 1, 2, 1, 2, 1, 1, 2, 1, 1, 2, 1, 2, 1, 1, 2, 1, 1]) of length 126 after prefixing the suffix with 0 times the current s.m.p.Increase the value of the `max_smp_length` keyword argument to go further.\n",
      "Depth 127: [658] points, 8 living leaves...\n",
      "Depth 128: [666] points, 8 living leaves...\n",
      "\u001b[34m\u001b[1mNew candidate s.m.p. found\u001b[22m\u001b[39m because ⟨v_6*, v⟩ - 1 = 8.540306950521881e-8 > 1.0e-9:\n",
      "\u001b[31m\u001b[1maborting\u001b[22m\u001b[39m with smp candidate PSW(1.4092391591075268, [2, 1, 1, 2, 1, 1, 2, 1, 2, 1, 1, 2, 1, 2, 1, 1, 2, 1, 1, 2, 1, 2, 1, 1, 2, 1, 2, 1, 1, 2, 1, 1, 2, 1, 2, 1, 1, 2, 1, 2, 1, 1, 2, 1, 1, 2, 1, 2, 1, 1, 2, 1, 2, 1, 1, 2, 1, 1, 2, 1, 2, 1, 1, 2, 1, 2, 1, 1, 2, 1, 1, 2, 1, 2, 1, 1, 2, 1, 2, 1, 1, 2, 1, 1, 2, 1, 2, 1, 1, 2, 1, 2, 1, 1, 2, 1, 1, 2, 1, 2, 1, 1, 2, 1, 2, 1, 1, 2, 1, 1, 2, 1, 2, 1, 1, 2, 1, 2, 1, 1, 2, 1, 1, 2, 1, 2, 1, 1]) of length 128 after prefixing the suffix with 0 times the current s.m.p.Increase the value of the `max_smp_length` keyword argument to go further.\n",
      "Depth 129: [674] points, 8 living leaves...\n",
      "\u001b[34m\u001b[1mNew candidate s.m.p. found\u001b[22m\u001b[39m because ⟨v_6*, v⟩ - 1 = 8.94876044377213e-8 > 1.0e-9:\n",
      "\u001b[31m\u001b[1maborting\u001b[22m\u001b[39m with smp candidate PSW(1.409239215632557, [2, 1, 1, 2, 1, 1, 2, 1, 2, 1, 1, 2, 1, 1, 2, 1, 2, 1, 1, 2, 1, 2, 1, 1, 2, 1, 1, 2, 1, 2, 1, 1, 2, 1, 1, 2, 1, 2, 1, 1, 2, 1, 2, 1, 1, 2, 1, 1, 2, 1, 2, 1, 1, 2, 1, 1, 2, 1, 2, 1, 1, 2, 1, 2, 1, 1, 2, 1, 1, 2, 1, 2, 1, 1, 2, 1, 1, 2, 1, 2, 1, 1, 2, 1, 2, 1, 1, 2, 1, 1, 2, 1, 2, 1, 1, 2, 1, 2, 1, 1, 2, 1, 1, 2, 1, 2, 1, 1, 2, 1, 2, 1, 1, 2, 1, 1, 2, 1, 2, 1, 1, 2, 1, 1, 2, 1, 2, 1, 1]) of length 129 after prefixing the suffix with 0 times the current s.m.p.Increase the value of the `max_smp_length` keyword argument to go further.\n",
      "\u001b[34m\u001b[1mNew candidate s.m.p. found\u001b[22m\u001b[39m because ⟨v_6*, v⟩ - 1 = 0.00045566847842781755 > 1.0e-9:\n",
      "\u001b[31m\u001b[1maborting\u001b[22m\u001b[39m with smp candidate PSW(1.4092306412177213, [2, 1, 1, 2, 1, 1, 2, 1, 2, 1, 1, 2, 1, 1, 2, 1, 2, 1, 1, 2, 1, 2, 1, 1, 2, 1, 1, 2, 1, 2, 1, 1, 2, 1, 1, 2, 1, 2, 1, 1, 2, 1, 2, 1, 1, 2, 1, 1, 2, 1, 2, 1, 1, 2, 1, 1, 2, 1, 2, 1, 1, 2, 1, 2, 1, 1, 2, 1, 1, 2, 1, 2, 1, 1, 2, 1, 1, 2, 1, 2, 1, 1, 2, 1, 2, 1, 1, 2, 1, 1, 2, 1, 2, 1, 1, 2, 1, 2, 1, 1, 2, 1, 1, 2, 1, 2, 1, 1, 2, 1, 2, 1, 1, 2, 1, 1, 2, 1, 2, 1, 1, 2, 1, 2, 1, 1, 2, 1, 1]) of length 129 after prefixing the suffix with 0 times the current s.m.p.Increase the value of the `max_smp_length` keyword argument to go further.\n",
      "\u001b[34m\u001b[1mNew candidate s.m.p. found\u001b[22m\u001b[39m because ⟨v_6*, v⟩ - 1 = 0.00045599628670855985 > 1.0e-9:\n",
      "\u001b[31m\u001b[1maborting\u001b[22m\u001b[39m with smp candidate PSW(1.4092306348831356, [2, 1, 1, 2, 1, 1, 2, 1, 2, 1, 1, 2, 1, 1, 2, 1, 2, 1, 1, 2, 1, 2, 1, 1, 2, 1, 1, 2, 1, 2, 1, 1, 2, 1, 1, 2, 1, 2, 1, 1, 2, 1, 2, 1, 1, 2, 1, 1, 2, 1, 2, 1, 1, 2, 1, 1, 2, 1, 2, 1, 1, 2, 1, 2, 1, 1, 2, 1, 1, 2, 1, 2, 1, 1, 2, 1, 2, 1, 1, 2, 1, 1, 2, 1, 2, 1, 1, 2, 1, 2, 1, 1, 2, 1, 1, 2, 1, 2, 1, 1, 2, 1, 2, 1, 1, 2, 1, 1, 2, 1, 2, 1, 1, 2, 1, 2, 1, 1, 2, 1, 1, 2, 1, 2, 1, 1, 2, 1, 1]) of length 129 after prefixing the suffix with 0 times the current s.m.p.Increase the value of the `max_smp_length` keyword argument to go further.\n",
      "Depth 130: [682] points, 8 living leaves...\n",
      "Depth 131: [690] points, 8 living leaves...\n",
      "\u001b[34m\u001b[1mNew candidate s.m.p. found\u001b[22m\u001b[39m because ⟨v_6*, v⟩ - 1 = 8.745258583964244e-8 > 1.0e-9:\n",
      "\u001b[31m\u001b[1maborting\u001b[22m\u001b[39m with smp candidate PSW(1.4092393379307295, [2, 1, 1, 2, 1, 1, 2, 1, 2, 1, 1, 2, 1, 1, 2, 1, 2, 1, 1, 2, 1, 2, 1, 1, 2, 1, 1, 2, 1, 2, 1, 1, 2, 1, 1, 2, 1, 2, 1, 1, 2, 1, 2, 1, 1, 2, 1, 1, 2, 1, 2, 1, 1, 2, 1, 2, 1, 1, 2, 1, 1, 2, 1, 2, 1, 1, 2, 1, 2, 1, 1, 2, 1, 1, 2, 1, 2, 1, 1, 2, 1, 2, 1, 1, 2, 1, 1, 2, 1, 2, 1, 1, 2, 1, 2, 1, 1, 2, 1, 1, 2, 1, 2, 1, 1, 2, 1, 2, 1, 1, 2, 1, 1, 2, 1, 2, 1, 1, 2, 1, 2, 1, 1, 2, 1, 1, 2, 1, 2, 1, 1]) of length 131 after prefixing the suffix with 0 times the current s.m.p.Increase the value of the `max_smp_length` keyword argument to go further.\n",
      "\u001b[34m\u001b[1mNew candidate s.m.p. found\u001b[22m\u001b[39m because ⟨v_6*, v⟩ - 1 = 9.085366126093675e-8 > 1.0e-9:\n",
      "\u001b[31m\u001b[1maborting\u001b[22m\u001b[39m with smp candidate PSW(1.4092393378677213, [2, 1, 1, 2, 1, 1, 2, 1, 2, 1, 1, 2, 1, 1, 2, 1, 2, 1, 1, 2, 1, 2, 1, 1, 2, 1, 1, 2, 1, 2, 1, 1, 2, 1, 2, 1, 1, 2, 1, 1, 2, 1, 2, 1, 1, 2, 1, 2, 1, 1, 2, 1, 1, 2, 1, 2, 1, 1, 2, 1, 2, 1, 1, 2, 1, 1, 2, 1, 2, 1, 1, 2, 1, 2, 1, 1, 2, 1, 1, 2, 1, 2, 1, 1, 2, 1, 2, 1, 1, 2, 1, 1, 2, 1, 2, 1, 1, 2, 1, 2, 1, 1, 2, 1, 1, 2, 1, 2, 1, 1, 2, 1, 2, 1, 1, 2, 1, 1, 2, 1, 2, 1, 1, 2, 1, 1, 2, 1, 2, 1, 1]) of length 131 after prefixing the suffix with 0 times the current s.m.p.Increase the value of the `max_smp_length` keyword argument to go further.\n",
      "\u001b[34m\u001b[1mNew candidate s.m.p. found\u001b[22m\u001b[39m because ⟨v_6*, v⟩ - 1 = 0.0004556698451070318 > 1.0e-9:\n",
      "\u001b[31m\u001b[1maborting\u001b[22m\u001b[39m with smp candidate PSW(1.4092308943588576, [2, 1, 1, 2, 1, 1, 2, 1, 2, 1, 1, 2, 1, 1, 2, 1, 2, 1, 1, 2, 1, 2, 1, 1, 2, 1, 1, 2, 1, 2, 1, 1, 2, 1, 2, 1, 1, 2, 1, 1, 2, 1, 2, 1, 1, 2, 1, 2, 1, 1, 2, 1, 1, 2, 1, 2, 1, 1, 2, 1, 2, 1, 1, 2, 1, 1, 2, 1, 2, 1, 1, 2, 1, 2, 1, 1, 2, 1, 1, 2, 1, 2, 1, 1, 2, 1, 2, 1, 1, 2, 1, 1, 2, 1, 2, 1, 1, 2, 1, 2, 1, 1, 2, 1, 1, 2, 1, 2, 1, 1, 2, 1, 2, 1, 1, 2, 1, 1, 2, 1, 2, 1, 1, 2, 1, 2, 1, 1, 2, 1, 1]) of length 131 after prefixing the suffix with 0 times the current s.m.p.Increase the value of the `max_smp_length` keyword argument to go further.\n",
      "\u001b[34m\u001b[1mNew candidate s.m.p. found\u001b[22m\u001b[39m because ⟨v_6*, v⟩ - 1 = 0.0004559976533882182 > 1.0e-9:\n",
      "\u001b[31m\u001b[1maborting\u001b[22m\u001b[39m with smp candidate PSW(1.4092308943588576, [2, 1, 1, 2, 1, 1, 2, 1, 2, 1, 1, 2, 1, 2, 1, 1, 2, 1, 1, 2, 1, 2, 1, 1, 2, 1, 2, 1, 1, 2, 1, 1, 2, 1, 2, 1, 1, 2, 1, 2, 1, 1, 2, 1, 1, 2, 1, 2, 1, 1, 2, 1, 2, 1, 1, 2, 1, 1, 2, 1, 2, 1, 1, 2, 1, 2, 1, 1, 2, 1, 1, 2, 1, 2, 1, 1, 2, 1, 2, 1, 1, 2, 1, 1, 2, 1, 2, 1, 1, 2, 1, 2, 1, 1, 2, 1, 1, 2, 1, 2, 1, 1, 2, 1, 2, 1, 1, 2, 1, 1, 2, 1, 2, 1, 1, 2, 1, 2, 1, 1, 2, 1, 1, 2, 1, 2, 1, 1, 2, 1, 1]) of length 131 after prefixing the suffix with 0 times the current s.m.p.Increase the value of the `max_smp_length` keyword argument to go further.\n",
      "Depth 132: [699] points, 9 living leaves...\n"
     ]
    },
    {
     "name": "stdout",
     "output_type": "stream",
     "text": [
      "Depth 133: [707] points, 8 living leaves...\n",
      "Depth 134: [715] points, 8 living leaves...\n",
      "\u001b[34m\u001b[1mNew candidate s.m.p. found\u001b[22m\u001b[39m because ⟨v_6*, v⟩ - 1 = 8.950210039770923e-8 > 1.0e-9:\n",
      "\u001b[31m\u001b[1maborting\u001b[22m\u001b[39m with smp candidate PSW(1.409239514440568, [2, 1, 1, 2, 1, 1, 2, 1, 2, 1, 1, 2, 1, 1, 2, 1, 2, 1, 1, 2, 1, 2, 1, 1, 2, 1, 1, 2, 1, 2, 1, 1, 2, 1, 1, 2, 1, 2, 1, 1, 2, 1, 2, 1, 1, 2, 1, 1, 2, 1, 2, 1, 1, 2, 1, 1, 2, 1, 2, 1, 1, 2, 1, 2, 1, 1, 2, 1, 1, 2, 1, 2, 1, 1, 2, 1, 1, 2, 1, 2, 1, 1, 2, 1, 2, 1, 1, 2, 1, 1, 2, 1, 2, 1, 1, 2, 1, 2, 1, 1, 2, 1, 1, 2, 1, 2, 1, 1, 2, 1, 2, 1, 1, 2, 1, 1, 2, 1, 2, 1, 1, 2, 1, 2, 1, 1, 2, 1, 1, 2, 1, 2, 1, 1]) of length 134 after prefixing the suffix with 0 times the current s.m.p.Increase the value of the `max_smp_length` keyword argument to go further.\n",
      "\u001b[34m\u001b[1mNew candidate s.m.p. found\u001b[22m\u001b[39m because ⟨v_6*, v⟩ - 1 = 9.290317715127117e-8 > 1.0e-9:\n",
      "\u001b[31m\u001b[1maborting\u001b[22m\u001b[39m with smp candidate PSW(1.4092395143789702, [2, 1, 1, 2, 1, 1, 2, 1, 2, 1, 1, 2, 1, 1, 2, 1, 2, 1, 1, 2, 1, 2, 1, 1, 2, 1, 1, 2, 1, 2, 1, 1, 2, 1, 1, 2, 1, 2, 1, 1, 2, 1, 2, 1, 1, 2, 1, 1, 2, 1, 2, 1, 1, 2, 1, 1, 2, 1, 2, 1, 1, 2, 1, 2, 1, 1, 2, 1, 1, 2, 1, 2, 1, 1, 2, 1, 2, 1, 1, 2, 1, 1, 2, 1, 2, 1, 1, 2, 1, 2, 1, 1, 2, 1, 1, 2, 1, 2, 1, 1, 2, 1, 2, 1, 1, 2, 1, 1, 2, 1, 2, 1, 1, 2, 1, 2, 1, 1, 2, 1, 1, 2, 1, 2, 1, 1, 2, 1, 1, 2, 1, 2, 1, 1]) of length 134 after prefixing the suffix with 0 times the current s.m.p.Increase the value of the `max_smp_length` keyword argument to go further.\n",
      "\u001b[34m\u001b[1mNew candidate s.m.p. found\u001b[22m\u001b[39m because ⟨v_6*, v⟩ - 1 = 0.00045567189555639764 > 1.0e-9:\n",
      "\u001b[31m\u001b[1maborting\u001b[22m\u001b[39m with smp candidate PSW(1.4092312599022998, [2, 1, 1, 2, 1, 1, 2, 1, 2, 1, 1, 2, 1, 1, 2, 1, 2, 1, 1, 2, 1, 2, 1, 1, 2, 1, 1, 2, 1, 2, 1, 1, 2, 1, 1, 2, 1, 2, 1, 1, 2, 1, 2, 1, 1, 2, 1, 1, 2, 1, 2, 1, 1, 2, 1, 1, 2, 1, 2, 1, 1, 2, 1, 2, 1, 1, 2, 1, 1, 2, 1, 2, 1, 1, 2, 1, 2, 1, 1, 2, 1, 1, 2, 1, 2, 1, 1, 2, 1, 2, 1, 1, 2, 1, 1, 2, 1, 2, 1, 1, 2, 1, 2, 1, 1, 2, 1, 1, 2, 1, 2, 1, 1, 2, 1, 2, 1, 1, 2, 1, 1, 2, 1, 2, 1, 1, 2, 1, 2, 1, 1, 2, 1, 1]) of length 134 after prefixing the suffix with 0 times the current s.m.p.Increase the value of the `max_smp_length` keyword argument to go further.\n",
      "\u001b[34m\u001b[1mNew candidate s.m.p. found\u001b[22m\u001b[39m because ⟨v_6*, v⟩ - 1 = 0.0004559997038389163 > 1.0e-9:\n",
      "\u001b[31m\u001b[1maborting\u001b[22m\u001b[39m with smp candidate PSW(1.4092312538040765, [2, 1, 1, 2, 1, 1, 2, 1, 2, 1, 1, 2, 1, 1, 2, 1, 2, 1, 1, 2, 1, 2, 1, 1, 2, 1, 1, 2, 1, 2, 1, 1, 2, 1, 1, 2, 1, 2, 1, 1, 2, 1, 2, 1, 1, 2, 1, 1, 2, 1, 2, 1, 1, 2, 1, 2, 1, 1, 2, 1, 1, 2, 1, 2, 1, 1, 2, 1, 2, 1, 1, 2, 1, 1, 2, 1, 2, 1, 1, 2, 1, 2, 1, 1, 2, 1, 1, 2, 1, 2, 1, 1, 2, 1, 2, 1, 1, 2, 1, 1, 2, 1, 2, 1, 1, 2, 1, 2, 1, 1, 2, 1, 1, 2, 1, 2, 1, 1, 2, 1, 2, 1, 1, 2, 1, 1, 2, 1, 2, 1, 1, 2, 1, 1]) of length 134 after prefixing the suffix with 0 times the current s.m.p.Increase the value of the `max_smp_length` keyword argument to go further.\n",
      "Depth 135: [723] points, 8 living leaves...\n",
      "Depth 136: [731] points, 8 living leaves...\n",
      "\u001b[34m\u001b[1mNew candidate s.m.p. found\u001b[22m\u001b[39m because ⟨v_6*, v⟩ - 1 = 9.086815722092467e-8 > 1.0e-9:\n",
      "\u001b[31m\u001b[1maborting\u001b[22m\u001b[39m with smp candidate PSW(1.409239627787581, [2, 1, 1, 2, 1, 1, 2, 1, 2, 1, 1, 2, 1, 1, 2, 1, 2, 1, 1, 2, 1, 2, 1, 1, 2, 1, 1, 2, 1, 2, 1, 1, 2, 1, 2, 1, 1, 2, 1, 1, 2, 1, 2, 1, 1, 2, 1, 2, 1, 1, 2, 1, 1, 2, 1, 2, 1, 1, 2, 1, 2, 1, 1, 2, 1, 1, 2, 1, 2, 1, 1, 2, 1, 2, 1, 1, 2, 1, 1, 2, 1, 2, 1, 1, 2, 1, 2, 1, 1, 2, 1, 1, 2, 1, 2, 1, 1, 2, 1, 2, 1, 1, 2, 1, 1, 2, 1, 2, 1, 1, 2, 1, 2, 1, 1, 2, 1, 1, 2, 1, 2, 1, 1, 2, 1, 2, 1, 1, 2, 1, 1, 2, 1, 2, 1, 1]) of length 136 after prefixing the suffix with 0 times the current s.m.p.Increase the value of the `max_smp_length` keyword argument to go further.\n",
      "\u001b[34m\u001b[1mNew candidate s.m.p. found\u001b[22m\u001b[39m because ⟨v_6*, v⟩ - 1 = 9.426923397448661e-8 > 1.0e-9:\n",
      "\u001b[31m\u001b[1maborting\u001b[22m\u001b[39m with smp candidate PSW(1.409239633336786, [2, 1, 1, 2, 1, 1, 2, 1, 2, 1, 1, 2, 1, 2, 1, 1, 2, 1, 1, 2, 1, 2, 1, 1, 2, 1, 2, 1, 1, 2, 1, 1, 2, 1, 2, 1, 1, 2, 1, 2, 1, 1, 2, 1, 1, 2, 1, 2, 1, 1, 2, 1, 2, 1, 1, 2, 1, 1, 2, 1, 2, 1, 1, 2, 1, 2, 1, 1, 2, 1, 1, 2, 1, 2, 1, 1, 2, 1, 2, 1, 1, 2, 1, 1, 2, 1, 2, 1, 1, 2, 1, 2, 1, 1, 2, 1, 1, 2, 1, 2, 1, 1, 2, 1, 2, 1, 1, 2, 1, 1, 2, 1, 2, 1, 1, 2, 1, 2, 1, 1, 2, 1, 1, 2, 1, 2, 1, 1, 2, 1, 1, 2, 1, 2, 1, 1]) of length 136 after prefixing the suffix with 0 times the current s.m.p.Increase the value of the `max_smp_length` keyword argument to go further.\n",
      "\u001b[34m\u001b[1mNew candidate s.m.p. found\u001b[22m\u001b[39m because ⟨v_6*, v⟩ - 1 = 0.00045567326223538984 > 1.0e-9:\n",
      "\u001b[31m\u001b[1maborting\u001b[22m\u001b[39m with smp candidate PSW(1.4092315006468297, [2, 1, 1, 2, 1, 1, 2, 1, 2, 1, 1, 2, 1, 2, 1, 1, 2, 1, 1, 2, 1, 2, 1, 1, 2, 1, 2, 1, 1, 2, 1, 1, 2, 1, 2, 1, 1, 2, 1, 2, 1, 1, 2, 1, 1, 2, 1, 2, 1, 1, 2, 1, 2, 1, 1, 2, 1, 1, 2, 1, 2, 1, 1, 2, 1, 2, 1, 1, 2, 1, 1, 2, 1, 2, 1, 1, 2, 1, 2, 1, 1, 2, 1, 1, 2, 1, 2, 1, 1, 2, 1, 2, 1, 1, 2, 1, 1, 2, 1, 2, 1, 1, 2, 1, 2, 1, 1, 2, 1, 1, 2, 1, 2, 1, 1, 2, 1, 2, 1, 1, 2, 1, 1, 2, 1, 2, 1, 1, 2, 1, 2, 1, 1, 2, 1, 1]) of length 136 after prefixing the suffix with 0 times the current s.m.p.Increase the value of the `max_smp_length` keyword argument to go further.\n",
      "Depth 137: [739] points, 8 living leaves...\n",
      "\u001b[34m\u001b[1mNew candidate s.m.p. found\u001b[22m\u001b[39m because ⟨v_6*, v⟩ - 1 = 0.00045600175428783807 > 1.0e-9:\n",
      "\u001b[31m\u001b[1maborting\u001b[22m\u001b[39m with smp candidate PSW(1.4092316034719417, [2, 1, 1, 2, 1, 1, 2, 1, 2, 1, 1, 2, 1, 1, 2, 1, 2, 1, 1, 2, 1, 2, 1, 1, 2, 1, 1, 2, 1, 2, 1, 1, 2, 1, 1, 2, 1, 2, 1, 1, 2, 1, 2, 1, 1, 2, 1, 1, 2, 1, 2, 1, 1, 2, 1, 1, 2, 1, 2, 1, 1, 2, 1, 2, 1, 1, 2, 1, 1, 2, 1, 2, 1, 1, 2, 1, 1, 2, 1, 2, 1, 1, 2, 1, 2, 1, 1, 2, 1, 1, 2, 1, 2, 1, 1, 2, 1, 2, 1, 1, 2, 1, 1, 2, 1, 2, 1, 1, 2, 1, 2, 1, 1, 2, 1, 1, 2, 1, 2, 1, 1, 2, 1, 2, 1, 1, 2, 1, 1, 2, 1, 2, 1, 1, 2, 1, 1]) of length 137 after prefixing the suffix with 0 times the current s.m.p.Increase the value of the `max_smp_length` keyword argument to go further.\n",
      "Depth 138: [747] points, 8 living leaves...\n",
      "Depth 139: [755] points, 8 living leaves...\n",
      "\u001b[34m\u001b[1mNew candidate s.m.p. found\u001b[22m\u001b[39m because ⟨v_6*, v⟩ - 1 = 9.291767288921449e-8 > 1.0e-9:\n",
      "\u001b[31m\u001b[1maborting\u001b[22m\u001b[39m with smp candidate PSW(1.4092397916922743, [2, 1, 1, 2, 1, 1, 2, 1, 2, 1, 1, 2, 1, 1, 2, 1, 2, 1, 1, 2, 1, 2, 1, 1, 2, 1, 1, 2, 1, 2, 1, 1, 2, 1, 1, 2, 1, 2, 1, 1, 2, 1, 2, 1, 1, 2, 1, 1, 2, 1, 2, 1, 1, 2, 1, 1, 2, 1, 2, 1, 1, 2, 1, 2, 1, 1, 2, 1, 1, 2, 1, 2, 1, 1, 2, 1, 2, 1, 1, 2, 1, 1, 2, 1, 2, 1, 1, 2, 1, 2, 1, 1, 2, 1, 1, 2, 1, 2, 1, 1, 2, 1, 2, 1, 1, 2, 1, 1, 2, 1, 2, 1, 1, 2, 1, 2, 1, 1, 2, 1, 1, 2, 1, 2, 1, 1, 2, 1, 2, 1, 1, 2, 1, 1, 2, 1, 2, 1, 1]) of length 139 after prefixing the suffix with 0 times the current s.m.p.Increase the value of the `max_smp_length` keyword argument to go further.\n",
      "\u001b[34m\u001b[1mNew candidate s.m.p. found\u001b[22m\u001b[39m because ⟨v_6*, v⟩ - 1 = 9.631875030891024e-8 > 1.0e-9:\n",
      "\u001b[31m\u001b[1maborting\u001b[22m\u001b[39m with smp candidate PSW(1.4092397916328925, [2, 1, 1, 2, 1, 1, 2, 1, 2, 1, 1, 2, 1, 1, 2, 1, 2, 1, 1, 2, 1, 2, 1, 1, 2, 1, 1, 2, 1, 2, 1, 1, 2, 1, 1, 2, 1, 2, 1, 1, 2, 1, 2, 1, 1, 2, 1, 1, 2, 1, 2, 1, 1, 2, 1, 2, 1, 1, 2, 1, 1, 2, 1, 2, 1, 1, 2, 1, 2, 1, 1, 2, 1, 1, 2, 1, 2, 1, 1, 2, 1, 2, 1, 1, 2, 1, 1, 2, 1, 2, 1, 1, 2, 1, 2, 1, 1, 2, 1, 1, 2, 1, 2, 1, 1, 2, 1, 2, 1, 1, 2, 1, 1, 2, 1, 2, 1, 1, 2, 1, 2, 1, 1, 2, 1, 1, 2, 1, 2, 1, 1, 2, 1, 1, 2, 1, 2, 1, 1]) of length 139 after prefixing the suffix with 0 times the current s.m.p.Increase the value of the `max_smp_length` keyword argument to go further.\n",
      "\u001b[34m\u001b[1mNew candidate s.m.p. found\u001b[22m\u001b[39m because ⟨v_6*, v⟩ - 1 = 0.0004556753126856439 > 1.0e-9:\n",
      "\u001b[31m\u001b[1maborting\u001b[22m\u001b[39m with smp candidate PSW(1.4092318340774392, [2, 1, 1, 2, 1, 1, 2, 1, 2, 1, 1, 2, 1, 1, 2, 1, 2, 1, 1, 2, 1, 2, 1, 1, 2, 1, 1, 2, 1, 2, 1, 1, 2, 1, 1, 2, 1, 2, 1, 1, 2, 1, 2, 1, 1, 2, 1, 1, 2, 1, 2, 1, 1, 2, 1, 2, 1, 1, 2, 1, 1, 2, 1, 2, 1, 1, 2, 1, 2, 1, 1, 2, 1, 1, 2, 1, 2, 1, 1, 2, 1, 2, 1, 1, 2, 1, 1, 2, 1, 2, 1, 1, 2, 1, 2, 1, 1, 2, 1, 1, 2, 1, 2, 1, 1, 2, 1, 2, 1, 1, 2, 1, 1, 2, 1, 2, 1, 1, 2, 1, 2, 1, 1, 2, 1, 1, 2, 1, 2, 1, 1, 2, 1, 2, 1, 1, 2, 1, 1]) of length 139 after prefixing the suffix with 0 times the current s.m.p.Increase the value of the `max_smp_length` keyword argument to go further.\n",
      "\u001b[34m\u001b[1mNew candidate s.m.p. found\u001b[22m\u001b[39m because ⟨v_6*, v⟩ - 1 = 0.00045600312096727436 > 1.0e-9:\n",
      "\u001b[31m\u001b[1maborting\u001b[22m\u001b[39m with smp candidate PSW(1.409231828198574, [2, 1, 1, 2, 1, 1, 2, 1, 2, 1, 1, 2, 1, 1, 2, 1, 2, 1, 1, 2, 1, 2, 1, 1, 2, 1, 1, 2, 1, 2, 1, 1, 2, 1, 2, 1, 1, 2, 1, 1, 2, 1, 2, 1, 1, 2, 1, 2, 1, 1, 2, 1, 1, 2, 1, 2, 1, 1, 2, 1, 2, 1, 1, 2, 1, 1, 2, 1, 2, 1, 1, 2, 1, 2, 1, 1, 2, 1, 1, 2, 1, 2, 1, 1, 2, 1, 2, 1, 1, 2, 1, 1, 2, 1, 2, 1, 1, 2, 1, 2, 1, 1, 2, 1, 1, 2, 1, 2, 1, 1, 2, 1, 2, 1, 1, 2, 1, 1, 2, 1, 2, 1, 1, 2, 1, 2, 1, 1, 2, 1, 1, 2, 1, 2, 1, 1, 2, 1, 1]) of length 139 after prefixing the suffix with 0 times the current s.m.p.Increase the value of the `max_smp_length` keyword argument to go further.\n",
      "Depth 140: [763] points, 8 living leaves...\n"
     ]
    },
    {
     "name": "stdout",
     "output_type": "stream",
     "text": [
      "Depth 141: [771] points, 8 living leaves...\n",
      "\u001b[34m\u001b[1mNew candidate s.m.p. found\u001b[22m\u001b[39m because ⟨v_6*, v⟩ - 1 = 9.428372949038533e-8 > 1.0e-9:\n",
      "\u001b[31m\u001b[1maborting\u001b[22m\u001b[39m with smp candidate PSW(1.4092399024982247, [2, 1, 1, 2, 1, 1, 2, 1, 2, 1, 1, 2, 1, 2, 1, 1, 2, 1, 1, 2, 1, 2, 1, 1, 2, 1, 2, 1, 1, 2, 1, 1, 2, 1, 2, 1, 1, 2, 1, 2, 1, 1, 2, 1, 1, 2, 1, 2, 1, 1, 2, 1, 2, 1, 1, 2, 1, 1, 2, 1, 2, 1, 1, 2, 1, 2, 1, 1, 2, 1, 1, 2, 1, 2, 1, 1, 2, 1, 2, 1, 1, 2, 1, 1, 2, 1, 2, 1, 1, 2, 1, 2, 1, 1, 2, 1, 1, 2, 1, 2, 1, 1, 2, 1, 2, 1, 1, 2, 1, 1, 2, 1, 2, 1, 1, 2, 1, 2, 1, 1, 2, 1, 1, 2, 1, 2, 1, 1, 2, 1, 2, 1, 1, 2, 1, 1, 2, 1, 2, 1, 1]) of length 141 after prefixing the suffix with 0 times the current s.m.p.Increase the value of the `max_smp_length` keyword argument to go further.\n",
      "Depth 142: [779] points, 8 living leaves...\n",
      "\u001b[34m\u001b[1mNew candidate s.m.p. found\u001b[22m\u001b[39m because ⟨v_6*, v⟩ - 1 = 9.836826464493242e-8 > 1.0e-9:\n",
      "\u001b[31m\u001b[1maborting\u001b[22m\u001b[39m with smp candidate PSW(1.409239948613308, [2, 1, 1, 2, 1, 1, 2, 1, 2, 1, 1, 2, 1, 1, 2, 1, 2, 1, 1, 2, 1, 2, 1, 1, 2, 1, 1, 2, 1, 2, 1, 1, 2, 1, 1, 2, 1, 2, 1, 1, 2, 1, 2, 1, 1, 2, 1, 1, 2, 1, 2, 1, 1, 2, 1, 1, 2, 1, 2, 1, 1, 2, 1, 2, 1, 1, 2, 1, 1, 2, 1, 2, 1, 1, 2, 1, 1, 2, 1, 2, 1, 1, 2, 1, 2, 1, 1, 2, 1, 1, 2, 1, 2, 1, 1, 2, 1, 2, 1, 1, 2, 1, 1, 2, 1, 2, 1, 1, 2, 1, 2, 1, 1, 2, 1, 1, 2, 1, 2, 1, 1, 2, 1, 2, 1, 1, 2, 1, 1, 2, 1, 2, 1, 1, 2, 1, 1, 2, 1, 2, 1, 1]) of length 142 after prefixing the suffix with 0 times the current s.m.p.Increase the value of the `max_smp_length` keyword argument to go further.\n",
      "\u001b[34m\u001b[1mNew candidate s.m.p. found\u001b[22m\u001b[39m because ⟨v_6*, v⟩ - 1 = 0.00045567736313367746 > 1.0e-9:\n",
      "\u001b[31m\u001b[1maborting\u001b[22m\u001b[39m with smp candidate PSW(1.4092321591738912, [2, 1, 1, 2, 1, 1, 2, 1, 2, 1, 1, 2, 1, 1, 2, 1, 2, 1, 1, 2, 1, 2, 1, 1, 2, 1, 1, 2, 1, 2, 1, 1, 2, 1, 1, 2, 1, 2, 1, 1, 2, 1, 2, 1, 1, 2, 1, 1, 2, 1, 2, 1, 1, 2, 1, 1, 2, 1, 2, 1, 1, 2, 1, 2, 1, 1, 2, 1, 1, 2, 1, 2, 1, 1, 2, 1, 1, 2, 1, 2, 1, 1, 2, 1, 2, 1, 1, 2, 1, 1, 2, 1, 2, 1, 1, 2, 1, 2, 1, 1, 2, 1, 1, 2, 1, 2, 1, 1, 2, 1, 2, 1, 1, 2, 1, 1, 2, 1, 2, 1, 1, 2, 1, 2, 1, 1, 2, 1, 1, 2, 1, 2, 1, 1, 2, 1, 2, 1, 1, 2, 1, 1]) of length 142 after prefixing the suffix with 0 times the current s.m.p.Increase the value of the `max_smp_length` keyword argument to go further.\n",
      "\u001b[34m\u001b[1mNew candidate s.m.p. found\u001b[22m\u001b[39m because ⟨v_6*, v⟩ - 1 = 0.0004560051714175284 > 1.0e-9:\n",
      "\u001b[31m\u001b[1maborting\u001b[22m\u001b[39m with smp candidate PSW(1.4092321534192263, [2, 1, 1, 2, 1, 1, 2, 1, 2, 1, 1, 2, 1, 1, 2, 1, 2, 1, 1, 2, 1, 2, 1, 1, 2, 1, 1, 2, 1, 2, 1, 1, 2, 1, 1, 2, 1, 2, 1, 1, 2, 1, 2, 1, 1, 2, 1, 1, 2, 1, 2, 1, 1, 2, 1, 1, 2, 1, 2, 1, 1, 2, 1, 2, 1, 1, 2, 1, 1, 2, 1, 2, 1, 1, 2, 1, 2, 1, 1, 2, 1, 1, 2, 1, 2, 1, 1, 2, 1, 2, 1, 1, 2, 1, 1, 2, 1, 2, 1, 1, 2, 1, 2, 1, 1, 2, 1, 1, 2, 1, 2, 1, 1, 2, 1, 2, 1, 1, 2, 1, 1, 2, 1, 2, 1, 1, 2, 1, 2, 1, 1, 2, 1, 1, 2, 1, 2, 1, 1, 2, 1, 1]) of length 142 after prefixing the suffix with 0 times the current s.m.p.Increase the value of the `max_smp_length` keyword argument to go further.\n",
      "Depth 143: [787] points, 8 living leaves...\n",
      "Depth 144: [795] points, 8 living leaves...\n",
      "\u001b[34m\u001b[1mNew candidate s.m.p. found\u001b[22m\u001b[39m because ⟨v_6*, v⟩ - 1 = 9.633324604685356e-8 > 1.0e-9:\n",
      "\u001b[31m\u001b[1maborting\u001b[22m\u001b[39m with smp candidate PSW(1.4092400496904391, [2, 1, 1, 2, 1, 1, 2, 1, 2, 1, 1, 2, 1, 1, 2, 1, 2, 1, 1, 2, 1, 2, 1, 1, 2, 1, 1, 2, 1, 2, 1, 1, 2, 1, 1, 2, 1, 2, 1, 1, 2, 1, 2, 1, 1, 2, 1, 1, 2, 1, 2, 1, 1, 2, 1, 2, 1, 1, 2, 1, 1, 2, 1, 2, 1, 1, 2, 1, 2, 1, 1, 2, 1, 1, 2, 1, 2, 1, 1, 2, 1, 2, 1, 1, 2, 1, 1, 2, 1, 2, 1, 1, 2, 1, 2, 1, 1, 2, 1, 1, 2, 1, 2, 1, 1, 2, 1, 2, 1, 1, 2, 1, 1, 2, 1, 2, 1, 1, 2, 1, 2, 1, 1, 2, 1, 1, 2, 1, 2, 1, 1, 2, 1, 2, 1, 1, 2, 1, 1, 2, 1, 2, 1, 1]) of length 144 after prefixing the suffix with 0 times the current s.m.p.Increase the value of the `max_smp_length` keyword argument to go further.\n",
      "\u001b[34m\u001b[1mNew candidate s.m.p. found\u001b[22m\u001b[39m because ⟨v_6*, v⟩ - 1 = 9.973432124610326e-8 > 1.0e-9:\n",
      "\u001b[31m\u001b[1maborting\u001b[22m\u001b[39m with smp candidate PSW(1.409240049633119, [2, 1, 1, 2, 1, 1, 2, 1, 2, 1, 1, 2, 1, 1, 2, 1, 2, 1, 1, 2, 1, 2, 1, 1, 2, 1, 1, 2, 1, 2, 1, 1, 2, 1, 2, 1, 1, 2, 1, 1, 2, 1, 2, 1, 1, 2, 1, 2, 1, 1, 2, 1, 1, 2, 1, 2, 1, 1, 2, 1, 2, 1, 1, 2, 1, 1, 2, 1, 2, 1, 1, 2, 1, 2, 1, 1, 2, 1, 1, 2, 1, 2, 1, 1, 2, 1, 2, 1, 1, 2, 1, 1, 2, 1, 2, 1, 1, 2, 1, 2, 1, 1, 2, 1, 1, 2, 1, 2, 1, 1, 2, 1, 2, 1, 1, 2, 1, 1, 2, 1, 2, 1, 1, 2, 1, 2, 1, 1, 2, 1, 1, 2, 1, 2, 1, 1, 2, 1, 1, 2, 1, 2, 1, 1]) of length 144 after prefixing the suffix with 0 times the current s.m.p.Increase the value of the `max_smp_length` keyword argument to go further.\n",
      "\u001b[34m\u001b[1mNew candidate s.m.p. found\u001b[22m\u001b[39m because ⟨v_6*, v⟩ - 1 = 0.00045567872981311375 > 1.0e-9:\n",
      "\u001b[31m\u001b[1maborting\u001b[22m\u001b[39m with smp candidate PSW(1.4092323683795154, [2, 1, 1, 2, 1, 1, 2, 1, 2, 1, 1, 2, 1, 1, 2, 1, 2, 1, 1, 2, 1, 2, 1, 1, 2, 1, 1, 2, 1, 2, 1, 1, 2, 1, 2, 1, 1, 2, 1, 1, 2, 1, 2, 1, 1, 2, 1, 2, 1, 1, 2, 1, 1, 2, 1, 2, 1, 1, 2, 1, 2, 1, 1, 2, 1, 1, 2, 1, 2, 1, 1, 2, 1, 2, 1, 1, 2, 1, 1, 2, 1, 2, 1, 1, 2, 1, 2, 1, 1, 2, 1, 1, 2, 1, 2, 1, 1, 2, 1, 2, 1, 1, 2, 1, 1, 2, 1, 2, 1, 1, 2, 1, 2, 1, 1, 2, 1, 1, 2, 1, 2, 1, 1, 2, 1, 2, 1, 1, 2, 1, 1, 2, 1, 2, 1, 1, 2, 1, 2, 1, 1, 2, 1, 1]) of length 144 after prefixing the suffix with 0 times the current s.m.p.Increase the value of the `max_smp_length` keyword argument to go further.\n",
      "\u001b[34m\u001b[1mNew candidate s.m.p. found\u001b[22m\u001b[39m because ⟨v_6*, v⟩ - 1 = 0.0004560065380969647 > 1.0e-9:\n",
      "\u001b[31m\u001b[1maborting\u001b[22m\u001b[39m with smp candidate PSW(1.4092323683795154, [2, 1, 1, 2, 1, 1, 2, 1, 2, 1, 1, 2, 1, 2, 1, 1, 2, 1, 1, 2, 1, 2, 1, 1, 2, 1, 2, 1, 1, 2, 1, 1, 2, 1, 2, 1, 1, 2, 1, 2, 1, 1, 2, 1, 1, 2, 1, 2, 1, 1, 2, 1, 2, 1, 1, 2, 1, 1, 2, 1, 2, 1, 1, 2, 1, 2, 1, 1, 2, 1, 1, 2, 1, 2, 1, 1, 2, 1, 2, 1, 1, 2, 1, 1, 2, 1, 2, 1, 1, 2, 1, 2, 1, 1, 2, 1, 1, 2, 1, 2, 1, 1, 2, 1, 2, 1, 1, 2, 1, 1, 2, 1, 2, 1, 1, 2, 1, 2, 1, 1, 2, 1, 1, 2, 1, 2, 1, 1, 2, 1, 2, 1, 1, 2, 1, 1, 2, 1, 2, 1, 1, 2, 1, 1]) of length 144 after prefixing the suffix with 0 times the current s.m.p.Increase the value of the `max_smp_length` keyword argument to go further.\n",
      "Depth 145: [804] points, 9 living leaves...\n",
      "Depth 146: [812] points, 8 living leaves...\n",
      "Depth 147: [820] points, 8 living leaves...\n",
      "\u001b[34m\u001b[1mNew candidate s.m.p. found\u001b[22m\u001b[39m because ⟨v_6*, v⟩ - 1 = 9.838276060492035e-8 > 1.0e-9:\n",
      "\u001b[31m\u001b[1maborting\u001b[22m\u001b[39m with smp candidate PSW(1.4092401960649308, [2, 1, 1, 2, 1, 1, 2, 1, 2, 1, 1, 2, 1, 1, 2, 1, 2, 1, 1, 2, 1, 2, 1, 1, 2, 1, 1, 2, 1, 2, 1, 1, 2, 1, 1, 2, 1, 2, 1, 1, 2, 1, 2, 1, 1, 2, 1, 1, 2, 1, 2, 1, 1, 2, 1, 1, 2, 1, 2, 1, 1, 2, 1, 2, 1, 1, 2, 1, 1, 2, 1, 2, 1, 1, 2, 1, 1, 2, 1, 2, 1, 1, 2, 1, 2, 1, 1, 2, 1, 1, 2, 1, 2, 1, 1, 2, 1, 2, 1, 1, 2, 1, 1, 2, 1, 2, 1, 1, 2, 1, 2, 1, 1, 2, 1, 1, 2, 1, 2, 1, 1, 2, 1, 2, 1, 1, 2, 1, 1, 2, 1, 2, 1, 1, 2, 1, 2, 1, 1, 2, 1, 1, 2, 1, 2, 1, 1]) of length 147 after prefixing the suffix with 0 times the current s.m.p.Increase the value of the `max_smp_length` keyword argument to go further.\n",
      "\u001b[34m\u001b[1mNew candidate s.m.p. found\u001b[22m\u001b[39m because ⟨v_6*, v⟩ - 1 = 1.0178383713643768e-7 > 1.0e-9:\n",
      "\u001b[31m\u001b[1maborting\u001b[22m\u001b[39m with smp candidate PSW(1.4092401960087804, [2, 1, 1, 2, 1, 1, 2, 1, 2, 1, 1, 2, 1, 1, 2, 1, 2, 1, 1, 2, 1, 2, 1, 1, 2, 1, 1, 2, 1, 2, 1, 1, 2, 1, 1, 2, 1, 2, 1, 1, 2, 1, 2, 1, 1, 2, 1, 1, 2, 1, 2, 1, 1, 2, 1, 1, 2, 1, 2, 1, 1, 2, 1, 2, 1, 1, 2, 1, 1, 2, 1, 2, 1, 1, 2, 1, 2, 1, 1, 2, 1, 1, 2, 1, 2, 1, 1, 2, 1, 2, 1, 1, 2, 1, 1, 2, 1, 2, 1, 1, 2, 1, 2, 1, 1, 2, 1, 1, 2, 1, 2, 1, 1, 2, 1, 2, 1, 1, 2, 1, 1, 2, 1, 2, 1, 1, 2, 1, 2, 1, 1, 2, 1, 1, 2, 1, 2, 1, 1, 2, 1, 1, 2, 1, 2, 1, 1]) of length 147 after prefixing the suffix with 0 times the current s.m.p.Increase the value of the `max_smp_length` keyword argument to go further.\n",
      "\u001b[34m\u001b[1mNew candidate s.m.p. found\u001b[22m\u001b[39m because ⟨v_6*, v⟩ - 1 = 0.0004556807802624796 > 1.0e-9:\n",
      "\u001b[31m\u001b[1maborting\u001b[22m\u001b[39m with smp candidate PSW(1.4092326715142542, [2, 1, 1, 2, 1, 1, 2, 1, 2, 1, 1, 2, 1, 1, 2, 1, 2, 1, 1, 2, 1, 2, 1, 1, 2, 1, 1, 2, 1, 2, 1, 1, 2, 1, 1, 2, 1, 2, 1, 1, 2, 1, 2, 1, 1, 2, 1, 1, 2, 1, 2, 1, 1, 2, 1, 1, 2, 1, 2, 1, 1, 2, 1, 2, 1, 1, 2, 1, 1, 2, 1, 2, 1, 1, 2, 1, 2, 1, 1, 2, 1, 1, 2, 1, 2, 1, 1, 2, 1, 2, 1, 1, 2, 1, 1, 2, 1, 2, 1, 1, 2, 1, 2, 1, 1, 2, 1, 1, 2, 1, 2, 1, 1, 2, 1, 2, 1, 1, 2, 1, 1, 2, 1, 2, 1, 1, 2, 1, 2, 1, 1, 2, 1, 1, 2, 1, 2, 1, 1, 2, 1, 2, 1, 1, 2, 1, 1]) of length 147 after prefixing the suffix with 0 times the current s.m.p.Increase the value of the `max_smp_length` keyword argument to go further.\n"
     ]
    },
    {
     "name": "stdout",
     "output_type": "stream",
     "text": [
      "\u001b[34m\u001b[1mNew candidate s.m.p. found\u001b[22m\u001b[39m because ⟨v_6*, v⟩ - 1 = 0.00045600858854788484 > 1.0e-9:\n",
      "\u001b[31m\u001b[1maborting\u001b[22m\u001b[39m with smp candidate PSW(1.409232665955324, [2, 1, 1, 2, 1, 1, 2, 1, 2, 1, 1, 2, 1, 1, 2, 1, 2, 1, 1, 2, 1, 2, 1, 1, 2, 1, 1, 2, 1, 2, 1, 1, 2, 1, 1, 2, 1, 2, 1, 1, 2, 1, 2, 1, 1, 2, 1, 1, 2, 1, 2, 1, 1, 2, 1, 2, 1, 1, 2, 1, 1, 2, 1, 2, 1, 1, 2, 1, 2, 1, 1, 2, 1, 1, 2, 1, 2, 1, 1, 2, 1, 2, 1, 1, 2, 1, 1, 2, 1, 2, 1, 1, 2, 1, 2, 1, 1, 2, 1, 1, 2, 1, 2, 1, 1, 2, 1, 2, 1, 1, 2, 1, 1, 2, 1, 2, 1, 1, 2, 1, 2, 1, 1, 2, 1, 1, 2, 1, 2, 1, 1, 2, 1, 2, 1, 1, 2, 1, 1, 2, 1, 2, 1, 1, 2, 1, 1]) of length 147 after prefixing the suffix with 0 times the current s.m.p.Increase the value of the `max_smp_length` keyword argument to go further.\n",
      "Depth 148: [828] points, 8 living leaves...\n",
      "Depth 149: [836] points, 8 living leaves...\n",
      "\u001b[34m\u001b[1mNew candidate s.m.p. found\u001b[22m\u001b[39m because ⟨v_6*, v⟩ - 1 = 9.97488176501804e-8 > 1.0e-9:\n",
      "\u001b[31m\u001b[1maborting\u001b[22m\u001b[39m with smp candidate PSW(1.4092402903733334, [2, 1, 1, 2, 1, 1, 2, 1, 2, 1, 1, 2, 1, 1, 2, 1, 2, 1, 1, 2, 1, 2, 1, 1, 2, 1, 1, 2, 1, 2, 1, 1, 2, 1, 2, 1, 1, 2, 1, 1, 2, 1, 2, 1, 1, 2, 1, 2, 1, 1, 2, 1, 1, 2, 1, 2, 1, 1, 2, 1, 2, 1, 1, 2, 1, 1, 2, 1, 2, 1, 1, 2, 1, 2, 1, 1, 2, 1, 1, 2, 1, 2, 1, 1, 2, 1, 2, 1, 1, 2, 1, 1, 2, 1, 2, 1, 1, 2, 1, 2, 1, 1, 2, 1, 1, 2, 1, 2, 1, 1, 2, 1, 2, 1, 1, 2, 1, 1, 2, 1, 2, 1, 1, 2, 1, 2, 1, 1, 2, 1, 1, 2, 1, 2, 1, 1, 2, 1, 2, 1, 1, 2, 1, 1, 2, 1, 2, 1, 1]) of length 149 after prefixing the suffix with 0 times the current s.m.p.Increase the value of the `max_smp_length` keyword argument to go further.\n",
      "\u001b[34m\u001b[1mNew candidate s.m.p. found\u001b[22m\u001b[39m because ⟨v_6*, v⟩ - 1 = 1.0314989395965313e-7 > 1.0e-9:\n",
      "\u001b[31m\u001b[1maborting\u001b[22m\u001b[39m with smp candidate PSW(1.409240295438382, [2, 1, 1, 2, 1, 1, 2, 1, 2, 1, 1, 2, 1, 2, 1, 1, 2, 1, 1, 2, 1, 2, 1, 1, 2, 1, 2, 1, 1, 2, 1, 1, 2, 1, 2, 1, 1, 2, 1, 2, 1, 1, 2, 1, 1, 2, 1, 2, 1, 1, 2, 1, 2, 1, 1, 2, 1, 1, 2, 1, 2, 1, 1, 2, 1, 2, 1, 1, 2, 1, 1, 2, 1, 2, 1, 1, 2, 1, 2, 1, 1, 2, 1, 1, 2, 1, 2, 1, 1, 2, 1, 2, 1, 1, 2, 1, 1, 2, 1, 2, 1, 1, 2, 1, 2, 1, 1, 2, 1, 1, 2, 1, 2, 1, 1, 2, 1, 2, 1, 1, 2, 1, 1, 2, 1, 2, 1, 1, 2, 1, 2, 1, 1, 2, 1, 1, 2, 1, 2, 1, 1, 2, 1, 1, 2, 1, 2, 1, 1]) of length 149 after prefixing the suffix with 0 times the current s.m.p.Increase the value of the `max_smp_length` keyword argument to go further.\n",
      "\u001b[34m\u001b[1mNew candidate s.m.p. found\u001b[22m\u001b[39m because ⟨v_6*, v⟩ - 1 = 0.00045568214694124975 > 1.0e-9:\n",
      "\u001b[31m\u001b[1maborting\u001b[22m\u001b[39m with smp candidate PSW(1.4092328723066225, [2, 1, 1, 2, 1, 1, 2, 1, 2, 1, 1, 2, 1, 2, 1, 1, 2, 1, 1, 2, 1, 2, 1, 1, 2, 1, 2, 1, 1, 2, 1, 1, 2, 1, 2, 1, 1, 2, 1, 2, 1, 1, 2, 1, 1, 2, 1, 2, 1, 1, 2, 1, 2, 1, 1, 2, 1, 1, 2, 1, 2, 1, 1, 2, 1, 2, 1, 1, 2, 1, 1, 2, 1, 2, 1, 1, 2, 1, 2, 1, 1, 2, 1, 1, 2, 1, 2, 1, 1, 2, 1, 2, 1, 1, 2, 1, 1, 2, 1, 2, 1, 1, 2, 1, 2, 1, 1, 2, 1, 1, 2, 1, 2, 1, 1, 2, 1, 2, 1, 1, 2, 1, 1, 2, 1, 2, 1, 1, 2, 1, 2, 1, 1, 2, 1, 1, 2, 1, 2, 1, 1, 2, 1, 2, 1, 1, 2, 1, 1]) of length 149 after prefixing the suffix with 0 times the current s.m.p.Increase the value of the `max_smp_length` keyword argument to go further.\n",
      "Depth 150: [844] points, 8 living leaves...\n",
      "\u001b[34m\u001b[1mNew candidate s.m.p. found\u001b[22m\u001b[39m because ⟨v_6*, v⟩ - 1 = 0.0004560106389968066 > 1.0e-9:\n",
      "\u001b[31m\u001b[1maborting\u001b[22m\u001b[39m with smp candidate PSW(1.4092329570759123, [2, 1, 1, 2, 1, 1, 2, 1, 2, 1, 1, 2, 1, 1, 2, 1, 2, 1, 1, 2, 1, 2, 1, 1, 2, 1, 1, 2, 1, 2, 1, 1, 2, 1, 1, 2, 1, 2, 1, 1, 2, 1, 2, 1, 1, 2, 1, 1, 2, 1, 2, 1, 1, 2, 1, 1, 2, 1, 2, 1, 1, 2, 1, 2, 1, 1, 2, 1, 1, 2, 1, 2, 1, 1, 2, 1, 1, 2, 1, 2, 1, 1, 2, 1, 2, 1, 1, 2, 1, 1, 2, 1, 2, 1, 1, 2, 1, 2, 1, 1, 2, 1, 1, 2, 1, 2, 1, 1, 2, 1, 2, 1, 1, 2, 1, 1, 2, 1, 2, 1, 1, 2, 1, 2, 1, 1, 2, 1, 1, 2, 1, 2, 1, 1, 2, 1, 2, 1, 1, 2, 1, 1, 2, 1, 2, 1, 1, 2, 1, 1]) of length 150 after prefixing the suffix with 0 times the current s.m.p.Increase the value of the `max_smp_length` keyword argument to go further.\n",
      "Depth 151: [852] points, 8 living leaves...\n",
      "Depth 152: [860] points, 8 living leaves...\n",
      "\u001b[34m\u001b[1mNew candidate s.m.p. found\u001b[22m\u001b[39m because ⟨v_6*, v⟩ - 1 = 1.0179833309642561e-7 > 1.0e-9:\n",
      "\u001b[31m\u001b[1maborting\u001b[22m\u001b[39m with smp candidate PSW(1.4092404271825774, [2, 1, 1, 2, 1, 1, 2, 1, 2, 1, 1, 2, 1, 1, 2, 1, 2, 1, 1, 2, 1, 2, 1, 1, 2, 1, 1, 2, 1, 2, 1, 1, 2, 1, 1, 2, 1, 2, 1, 1, 2, 1, 2, 1, 1, 2, 1, 1, 2, 1, 2, 1, 1, 2, 1, 1, 2, 1, 2, 1, 1, 2, 1, 2, 1, 1, 2, 1, 1, 2, 1, 2, 1, 1, 2, 1, 2, 1, 1, 2, 1, 1, 2, 1, 2, 1, 1, 2, 1, 2, 1, 1, 2, 1, 1, 2, 1, 2, 1, 1, 2, 1, 2, 1, 1, 2, 1, 1, 2, 1, 2, 1, 1, 2, 1, 2, 1, 1, 2, 1, 1, 2, 1, 2, 1, 1, 2, 1, 2, 1, 1, 2, 1, 1, 2, 1, 2, 1, 1, 2, 1, 2, 1, 1, 2, 1, 1, 2, 1, 2, 1, 1]) of length 152 after prefixing the suffix with 0 times the current s.m.p.Increase the value of the `max_smp_length` keyword argument to go further.\n",
      "\u001b[34m\u001b[1mNew candidate s.m.p. found\u001b[22m\u001b[39m because ⟨v_6*, v⟩ - 1 = 1.0519941029407676e-7 > 1.0e-9:\n",
      "\u001b[31m\u001b[1maborting\u001b[22m\u001b[39m with smp candidate PSW(1.409240427128274, [2, 1, 1, 2, 1, 1, 2, 1, 2, 1, 1, 2, 1, 1, 2, 1, 2, 1, 1, 2, 1, 2, 1, 1, 2, 1, 1, 2, 1, 2, 1, 1, 2, 1, 1, 2, 1, 2, 1, 1, 2, 1, 2, 1, 1, 2, 1, 1, 2, 1, 2, 1, 1, 2, 1, 2, 1, 1, 2, 1, 1, 2, 1, 2, 1, 1, 2, 1, 2, 1, 1, 2, 1, 1, 2, 1, 2, 1, 1, 2, 1, 2, 1, 1, 2, 1, 1, 2, 1, 2, 1, 1, 2, 1, 2, 1, 1, 2, 1, 1, 2, 1, 2, 1, 1, 2, 1, 2, 1, 1, 2, 1, 1, 2, 1, 2, 1, 1, 2, 1, 2, 1, 1, 2, 1, 1, 2, 1, 2, 1, 1, 2, 1, 2, 1, 1, 2, 1, 1, 2, 1, 2, 1, 1, 2, 1, 1, 2, 1, 2, 1, 1]) of length 152 after prefixing the suffix with 0 times the current s.m.p.Increase the value of the `max_smp_length` keyword argument to go further.\n",
      "\u001b[34m\u001b[1mNew candidate s.m.p. found\u001b[22m\u001b[39m because ⟨v_6*, v⟩ - 1 = 0.00045568419739128174 > 1.0e-9:\n",
      "\u001b[31m\u001b[1maborting\u001b[22m\u001b[39m with smp candidate PSW(1.4092331501481825, [2, 1, 1, 2, 1, 1, 2, 1, 2, 1, 1, 2, 1, 1, 2, 1, 2, 1, 1, 2, 1, 2, 1, 1, 2, 1, 1, 2, 1, 2, 1, 1, 2, 1, 1, 2, 1, 2, 1, 1, 2, 1, 2, 1, 1, 2, 1, 1, 2, 1, 2, 1, 1, 2, 1, 2, 1, 1, 2, 1, 1, 2, 1, 2, 1, 1, 2, 1, 2, 1, 1, 2, 1, 1, 2, 1, 2, 1, 1, 2, 1, 2, 1, 1, 2, 1, 1, 2, 1, 2, 1, 1, 2, 1, 2, 1, 1, 2, 1, 1, 2, 1, 2, 1, 1, 2, 1, 2, 1, 1, 2, 1, 1, 2, 1, 2, 1, 1, 2, 1, 2, 1, 1, 2, 1, 1, 2, 1, 2, 1, 1, 2, 1, 2, 1, 1, 2, 1, 1, 2, 1, 2, 1, 1, 2, 1, 2, 1, 1, 2, 1, 1]) of length 152 after prefixing the suffix with 0 times the current s.m.p.Increase the value of the `max_smp_length` keyword argument to go further.\n",
      "\u001b[34m\u001b[1mNew candidate s.m.p. found\u001b[22m\u001b[39m because ⟨v_6*, v⟩ - 1 = 0.000456012005676687 > 1.0e-9:\n",
      "\u001b[31m\u001b[1maborting\u001b[22m\u001b[39m with smp candidate PSW(1.4092331447721103, [2, 1, 1, 2, 1, 1, 2, 1, 2, 1, 1, 2, 1, 1, 2, 1, 2, 1, 1, 2, 1, 2, 1, 1, 2, 1, 1, 2, 1, 2, 1, 1, 2, 1, 2, 1, 1, 2, 1, 1, 2, 1, 2, 1, 1, 2, 1, 2, 1, 1, 2, 1, 1, 2, 1, 2, 1, 1, 2, 1, 2, 1, 1, 2, 1, 1, 2, 1, 2, 1, 1, 2, 1, 2, 1, 1, 2, 1, 1, 2, 1, 2, 1, 1, 2, 1, 2, 1, 1, 2, 1, 1, 2, 1, 2, 1, 1, 2, 1, 2, 1, 1, 2, 1, 1, 2, 1, 2, 1, 1, 2, 1, 2, 1, 1, 2, 1, 1, 2, 1, 2, 1, 1, 2, 1, 2, 1, 1, 2, 1, 1, 2, 1, 2, 1, 1, 2, 1, 2, 1, 1, 2, 1, 1, 2, 1, 2, 1, 1, 2, 1, 1]) of length 152 after prefixing the suffix with 0 times the current s.m.p.Increase the value of the `max_smp_length` keyword argument to go further.\n",
      "Depth 153: [868] points, 8 living leaves...\n",
      "Depth 154: [876] points, 8 living leaves...\n",
      "\u001b[34m\u001b[1mNew candidate s.m.p. found\u001b[22m\u001b[39m because ⟨v_6*, v⟩ - 1 = 1.0316438947555184e-7 > 1.0e-9:\n",
      "\u001b[31m\u001b[1maborting\u001b[22m\u001b[39m with smp candidate PSW(1.4092405203817007, [2, 1, 1, 2, 1, 1, 2, 1, 2, 1, 1, 2, 1, 2, 1, 1, 2, 1, 1, 2, 1, 2, 1, 1, 2, 1, 2, 1, 1, 2, 1, 1, 2, 1, 2, 1, 1, 2, 1, 2, 1, 1, 2, 1, 1, 2, 1, 2, 1, 1, 2, 1, 2, 1, 1, 2, 1, 1, 2, 1, 2, 1, 1, 2, 1, 2, 1, 1, 2, 1, 1, 2, 1, 2, 1, 1, 2, 1, 2, 1, 1, 2, 1, 1, 2, 1, 2, 1, 1, 2, 1, 2, 1, 1, 2, 1, 1, 2, 1, 2, 1, 1, 2, 1, 2, 1, 1, 2, 1, 1, 2, 1, 2, 1, 1, 2, 1, 2, 1, 1, 2, 1, 1, 2, 1, 2, 1, 1, 2, 1, 2, 1, 1, 2, 1, 1, 2, 1, 2, 1, 1, 2, 1, 2, 1, 1, 2, 1, 1, 2, 1, 2, 1, 1]) of length 154 after prefixing the suffix with 0 times the current s.m.p.Increase the value of the `max_smp_length` keyword argument to go further.\n",
      "Depth 155: [884] points, 8 living leaves...\n",
      "\u001b[34m\u001b[1mNew candidate s.m.p. found\u001b[22m\u001b[39m because ⟨v_6*, v⟩ - 1 = 1.0724892485214355e-7 > 1.0e-9:\n",
      "\u001b[31m\u001b[1maborting\u001b[22m\u001b[39m with smp candidate PSW(1.4092405586427397, [2, 1, 1, 2, 1, 1, 2, 1, 2, 1, 1, 2, 1, 1, 2, 1, 2, 1, 1, 2, 1, 2, 1, 1, 2, 1, 1, 2, 1, 2, 1, 1, 2, 1, 1, 2, 1, 2, 1, 1, 2, 1, 2, 1, 1, 2, 1, 1, 2, 1, 2, 1, 1, 2, 1, 1, 2, 1, 2, 1, 1, 2, 1, 2, 1, 1, 2, 1, 1, 2, 1, 2, 1, 1, 2, 1, 1, 2, 1, 2, 1, 1, 2, 1, 2, 1, 1, 2, 1, 1, 2, 1, 2, 1, 1, 2, 1, 2, 1, 1, 2, 1, 1, 2, 1, 2, 1, 1, 2, 1, 2, 1, 1, 2, 1, 1, 2, 1, 2, 1, 1, 2, 1, 2, 1, 1, 2, 1, 1, 2, 1, 2, 1, 1, 2, 1, 2, 1, 1, 2, 1, 1, 2, 1, 2, 1, 1, 2, 1, 1, 2, 1, 2, 1, 1]) of length 155 after prefixing the suffix with 0 times the current s.m.p.Increase the value of the `max_smp_length` keyword argument to go further.\n",
      "\u001b[34m\u001b[1mNew candidate s.m.p. found\u001b[22m\u001b[39m because ⟨v_6*, v⟩ - 1 = 0.00045568624783998146 > 1.0e-9:\n",
      "\u001b[31m\u001b[1maborting\u001b[22m\u001b[39m with smp candidate PSW(1.4092334225064018, [2, 1, 1, 2, 1, 1, 2, 1, 2, 1, 1, 2, 1, 1, 2, 1, 2, 1, 1, 2, 1, 2, 1, 1, 2, 1, 1, 2, 1, 2, 1, 1, 2, 1, 1, 2, 1, 2, 1, 1, 2, 1, 2, 1, 1, 2, 1, 1, 2, 1, 2, 1, 1, 2, 1, 1, 2, 1, 2, 1, 1, 2, 1, 2, 1, 1, 2, 1, 1, 2, 1, 2, 1, 1, 2, 1, 1, 2, 1, 2, 1, 1, 2, 1, 2, 1, 1, 2, 1, 1, 2, 1, 2, 1, 1, 2, 1, 2, 1, 1, 2, 1, 1, 2, 1, 2, 1, 1, 2, 1, 2, 1, 1, 2, 1, 1, 2, 1, 2, 1, 1, 2, 1, 2, 1, 1, 2, 1, 1, 2, 1, 2, 1, 1, 2, 1, 2, 1, 1, 2, 1, 1, 2, 1, 2, 1, 1, 2, 1, 2, 1, 1, 2, 1, 1]) of length 155 after prefixing the suffix with 0 times the current s.m.p.Increase the value of the `max_smp_length` keyword argument to go further.\n"
     ]
    },
    {
     "name": "stdout",
     "output_type": "stream",
     "text": [
      "\u001b[34m\u001b[1mNew candidate s.m.p. found\u001b[22m\u001b[39m because ⟨v_6*, v⟩ - 1 = 0.0004560140561264969 > 1.0e-9:\n",
      "\u001b[31m\u001b[1maborting\u001b[22m\u001b[39m with smp candidate PSW(1.4092334172343814, [2, 1, 1, 2, 1, 1, 2, 1, 2, 1, 1, 2, 1, 1, 2, 1, 2, 1, 1, 2, 1, 2, 1, 1, 2, 1, 1, 2, 1, 2, 1, 1, 2, 1, 1, 2, 1, 2, 1, 1, 2, 1, 2, 1, 1, 2, 1, 1, 2, 1, 2, 1, 1, 2, 1, 1, 2, 1, 2, 1, 1, 2, 1, 2, 1, 1, 2, 1, 1, 2, 1, 2, 1, 1, 2, 1, 2, 1, 1, 2, 1, 1, 2, 1, 2, 1, 1, 2, 1, 2, 1, 1, 2, 1, 1, 2, 1, 2, 1, 1, 2, 1, 2, 1, 1, 2, 1, 1, 2, 1, 2, 1, 1, 2, 1, 2, 1, 1, 2, 1, 1, 2, 1, 2, 1, 1, 2, 1, 2, 1, 1, 2, 1, 1, 2, 1, 2, 1, 1, 2, 1, 2, 1, 1, 2, 1, 1, 2, 1, 2, 1, 1, 2, 1, 1]) of length 155 after prefixing the suffix with 0 times the current s.m.p.Increase the value of the `max_smp_length` keyword argument to go further.\n",
      "Depth 156: [892] points, 8 living leaves...\n",
      "Depth 157: [900] points, 8 living leaves...\n",
      "\u001b[34m\u001b[1mNew candidate s.m.p. found\u001b[22m\u001b[39m because ⟨v_6*, v⟩ - 1 = 1.0521390603202008e-7 > 1.0e-9:\n",
      "\u001b[31m\u001b[1maborting\u001b[22m\u001b[39m with smp candidate PSW(1.409240643579389, [2, 1, 1, 2, 1, 1, 2, 1, 2, 1, 1, 2, 1, 1, 2, 1, 2, 1, 1, 2, 1, 2, 1, 1, 2, 1, 1, 2, 1, 2, 1, 1, 2, 1, 1, 2, 1, 2, 1, 1, 2, 1, 2, 1, 1, 2, 1, 1, 2, 1, 2, 1, 1, 2, 1, 2, 1, 1, 2, 1, 1, 2, 1, 2, 1, 1, 2, 1, 2, 1, 1, 2, 1, 1, 2, 1, 2, 1, 1, 2, 1, 2, 1, 1, 2, 1, 1, 2, 1, 2, 1, 1, 2, 1, 2, 1, 1, 2, 1, 1, 2, 1, 2, 1, 1, 2, 1, 2, 1, 1, 2, 1, 1, 2, 1, 2, 1, 1, 2, 1, 2, 1, 1, 2, 1, 1, 2, 1, 2, 1, 1, 2, 1, 2, 1, 1, 2, 1, 1, 2, 1, 2, 1, 1, 2, 1, 2, 1, 1, 2, 1, 1, 2, 1, 2, 1, 1]) of length 157 after prefixing the suffix with 0 times the current s.m.p.Increase the value of the `max_smp_length` keyword argument to go further.\n",
      "\u001b[34m\u001b[1mNew candidate s.m.p. found\u001b[22m\u001b[39m because ⟨v_6*, v⟩ - 1 = 1.086149821194482e-7 > 1.0e-9:\n",
      "\u001b[31m\u001b[1maborting\u001b[22m\u001b[39m with smp candidate PSW(1.409240643526815, [2, 1, 1, 2, 1, 1, 2, 1, 2, 1, 1, 2, 1, 1, 2, 1, 2, 1, 1, 2, 1, 2, 1, 1, 2, 1, 1, 2, 1, 2, 1, 1, 2, 1, 2, 1, 1, 2, 1, 1, 2, 1, 2, 1, 1, 2, 1, 2, 1, 1, 2, 1, 1, 2, 1, 2, 1, 1, 2, 1, 2, 1, 1, 2, 1, 1, 2, 1, 2, 1, 1, 2, 1, 2, 1, 1, 2, 1, 1, 2, 1, 2, 1, 1, 2, 1, 2, 1, 1, 2, 1, 1, 2, 1, 2, 1, 1, 2, 1, 2, 1, 1, 2, 1, 1, 2, 1, 2, 1, 1, 2, 1, 2, 1, 1, 2, 1, 1, 2, 1, 2, 1, 1, 2, 1, 2, 1, 1, 2, 1, 1, 2, 1, 2, 1, 1, 2, 1, 2, 1, 1, 2, 1, 1, 2, 1, 2, 1, 1, 2, 1, 1, 2, 1, 2, 1, 1]) of length 157 after prefixing the suffix with 0 times the current s.m.p.Increase the value of the `max_smp_length` keyword argument to go further.\n",
      "\u001b[34m\u001b[1mNew candidate s.m.p. found\u001b[22m\u001b[39m because ⟨v_6*, v⟩ - 1 = 0.0004556876145191957 > 1.0e-9:\n",
      "\u001b[31m\u001b[1maborting\u001b[22m\u001b[39m with smp candidate PSW(1.4092335982960211, [2, 1, 1, 2, 1, 1, 2, 1, 2, 1, 1, 2, 1, 1, 2, 1, 2, 1, 1, 2, 1, 2, 1, 1, 2, 1, 1, 2, 1, 2, 1, 1, 2, 1, 2, 1, 1, 2, 1, 1, 2, 1, 2, 1, 1, 2, 1, 2, 1, 1, 2, 1, 1, 2, 1, 2, 1, 1, 2, 1, 2, 1, 1, 2, 1, 1, 2, 1, 2, 1, 1, 2, 1, 2, 1, 1, 2, 1, 1, 2, 1, 2, 1, 1, 2, 1, 2, 1, 1, 2, 1, 1, 2, 1, 2, 1, 1, 2, 1, 2, 1, 1, 2, 1, 1, 2, 1, 2, 1, 1, 2, 1, 2, 1, 1, 2, 1, 1, 2, 1, 2, 1, 1, 2, 1, 2, 1, 1, 2, 1, 1, 2, 1, 2, 1, 1, 2, 1, 2, 1, 1, 2, 1, 1, 2, 1, 2, 1, 1, 2, 1, 2, 1, 1, 2, 1, 1]) of length 157 after prefixing the suffix with 0 times the current s.m.p.Increase the value of the `max_smp_length` keyword argument to go further.\n",
      "\u001b[34m\u001b[1mNew candidate s.m.p. found\u001b[22m\u001b[39m because ⟨v_6*, v⟩ - 1 = 0.00045601542280615526 > 1.0e-9:\n",
      "\u001b[31m\u001b[1maborting\u001b[22m\u001b[39m with smp candidate PSW(1.4092335982960211, [2, 1, 1, 2, 1, 1, 2, 1, 2, 1, 1, 2, 1, 2, 1, 1, 2, 1, 1, 2, 1, 2, 1, 1, 2, 1, 2, 1, 1, 2, 1, 1, 2, 1, 2, 1, 1, 2, 1, 2, 1, 1, 2, 1, 1, 2, 1, 2, 1, 1, 2, 1, 2, 1, 1, 2, 1, 1, 2, 1, 2, 1, 1, 2, 1, 2, 1, 1, 2, 1, 1, 2, 1, 2, 1, 1, 2, 1, 2, 1, 1, 2, 1, 1, 2, 1, 2, 1, 1, 2, 1, 2, 1, 1, 2, 1, 1, 2, 1, 2, 1, 1, 2, 1, 2, 1, 1, 2, 1, 1, 2, 1, 2, 1, 1, 2, 1, 2, 1, 1, 2, 1, 1, 2, 1, 2, 1, 1, 2, 1, 2, 1, 1, 2, 1, 1, 2, 1, 2, 1, 1, 2, 1, 2, 1, 1, 2, 1, 1, 2, 1, 2, 1, 1, 2, 1, 1]) of length 157 after prefixing the suffix with 0 times the current s.m.p.Increase the value of the `max_smp_length` keyword argument to go further.\n",
      "Depth 158: [909] points, 9 living leaves...\n",
      "Depth 159: [917] points, 8 living leaves...\n",
      "Depth 160: [925] points, 8 living leaves...\n",
      "\u001b[34m\u001b[1mNew candidate s.m.p. found\u001b[22m\u001b[39m because ⟨v_6*, v⟩ - 1 = 1.0726342059008687e-7 > 1.0e-9:\n",
      "\u001b[31m\u001b[1maborting\u001b[22m\u001b[39m with smp candidate PSW(1.4092407669255882, [2, 1, 1, 2, 1, 1, 2, 1, 2, 1, 1, 2, 1, 1, 2, 1, 2, 1, 1, 2, 1, 2, 1, 1, 2, 1, 1, 2, 1, 2, 1, 1, 2, 1, 1, 2, 1, 2, 1, 1, 2, 1, 2, 1, 1, 2, 1, 1, 2, 1, 2, 1, 1, 2, 1, 1, 2, 1, 2, 1, 1, 2, 1, 2, 1, 1, 2, 1, 1, 2, 1, 2, 1, 1, 2, 1, 1, 2, 1, 2, 1, 1, 2, 1, 2, 1, 1, 2, 1, 1, 2, 1, 2, 1, 1, 2, 1, 2, 1, 1, 2, 1, 1, 2, 1, 2, 1, 1, 2, 1, 2, 1, 1, 2, 1, 1, 2, 1, 2, 1, 1, 2, 1, 2, 1, 1, 2, 1, 1, 2, 1, 2, 1, 1, 2, 1, 2, 1, 1, 2, 1, 1, 2, 1, 2, 1, 1, 2, 1, 2, 1, 1, 2, 1, 1, 2, 1, 2, 1, 1]) of length 160 after prefixing the suffix with 0 times the current s.m.p.Increase the value of the `max_smp_length` keyword argument to go further.\n",
      "\u001b[34m\u001b[1mNew candidate s.m.p. found\u001b[22m\u001b[39m because ⟨v_6*, v⟩ - 1 = 1.1066449756569341e-7 > 1.0e-9:\n",
      "\u001b[31m\u001b[1maborting\u001b[22m\u001b[39m with smp candidate PSW(1.409240766874, [2, 1, 1, 2, 1, 1, 2, 1, 2, 1, 1, 2, 1, 1, 2, 1, 2, 1, 1, 2, 1, 2, 1, 1, 2, 1, 1, 2, 1, 2, 1, 1, 2, 1, 1, 2, 1, 2, 1, 1, 2, 1, 2, 1, 1, 2, 1, 1, 2, 1, 2, 1, 1, 2, 1, 1, 2, 1, 2, 1, 1, 2, 1, 2, 1, 1, 2, 1, 1, 2, 1, 2, 1, 1, 2, 1, 2, 1, 1, 2, 1, 1, 2, 1, 2, 1, 1, 2, 1, 2, 1, 1, 2, 1, 1, 2, 1, 2, 1, 1, 2, 1, 2, 1, 1, 2, 1, 1, 2, 1, 2, 1, 1, 2, 1, 2, 1, 1, 2, 1, 1, 2, 1, 2, 1, 1, 2, 1, 2, 1, 1, 2, 1, 1, 2, 1, 2, 1, 1, 2, 1, 2, 1, 1, 2, 1, 1, 2, 1, 2, 1, 1, 2, 1, 1, 2, 1, 2, 1, 1]) of length 160 after prefixing the suffix with 0 times the current s.m.p.Increase the value of the `max_smp_length` keyword argument to go further.\n",
      "\u001b[34m\u001b[1mNew candidate s.m.p. found\u001b[22m\u001b[39m because ⟨v_6*, v⟩ - 1 = 0.00045568966496856156 > 1.0e-9:\n",
      "\u001b[31m\u001b[1maborting\u001b[22m\u001b[39m with smp candidate PSW(1.4092338537403541, [2, 1, 1, 2, 1, 1, 2, 1, 2, 1, 1, 2, 1, 1, 2, 1, 2, 1, 1, 2, 1, 2, 1, 1, 2, 1, 1, 2, 1, 2, 1, 1, 2, 1, 1, 2, 1, 2, 1, 1, 2, 1, 2, 1, 1, 2, 1, 1, 2, 1, 2, 1, 1, 2, 1, 1, 2, 1, 2, 1, 1, 2, 1, 2, 1, 1, 2, 1, 1, 2, 1, 2, 1, 1, 2, 1, 2, 1, 1, 2, 1, 1, 2, 1, 2, 1, 1, 2, 1, 2, 1, 1, 2, 1, 1, 2, 1, 2, 1, 1, 2, 1, 2, 1, 1, 2, 1, 1, 2, 1, 2, 1, 1, 2, 1, 2, 1, 1, 2, 1, 1, 2, 1, 2, 1, 1, 2, 1, 2, 1, 1, 2, 1, 1, 2, 1, 2, 1, 1, 2, 1, 2, 1, 1, 2, 1, 1, 2, 1, 2, 1, 1, 2, 1, 2, 1, 1, 2, 1, 1]) of length 160 after prefixing the suffix with 0 times the current s.m.p.Increase the value of the `max_smp_length` keyword argument to go further.\n",
      "\u001b[34m\u001b[1mNew candidate s.m.p. found\u001b[22m\u001b[39m because ⟨v_6*, v⟩ - 1 = 0.0004560174732564093 > 1.0e-9:\n",
      "\u001b[31m\u001b[1maborting\u001b[22m\u001b[39m with smp candidate PSW(1.4092338486330829, [2, 1, 1, 2, 1, 1, 2, 1, 2, 1, 1, 2, 1, 1, 2, 1, 2, 1, 1, 2, 1, 2, 1, 1, 2, 1, 1, 2, 1, 2, 1, 1, 2, 1, 1, 2, 1, 2, 1, 1, 2, 1, 2, 1, 1, 2, 1, 1, 2, 1, 2, 1, 1, 2, 1, 2, 1, 1, 2, 1, 1, 2, 1, 2, 1, 1, 2, 1, 2, 1, 1, 2, 1, 1, 2, 1, 2, 1, 1, 2, 1, 2, 1, 1, 2, 1, 1, 2, 1, 2, 1, 1, 2, 1, 2, 1, 1, 2, 1, 1, 2, 1, 2, 1, 1, 2, 1, 2, 1, 1, 2, 1, 1, 2, 1, 2, 1, 1, 2, 1, 2, 1, 1, 2, 1, 1, 2, 1, 2, 1, 1, 2, 1, 2, 1, 1, 2, 1, 1, 2, 1, 2, 1, 1, 2, 1, 2, 1, 1, 2, 1, 1, 2, 1, 2, 1, 1, 2, 1, 1]) of length 160 after prefixing the suffix with 0 times the current s.m.p.Increase the value of the `max_smp_length` keyword argument to go further.\n",
      "Depth 161: [933] points, 8 living leaves...\n",
      "Depth 162: [941] points, 8 living leaves...\n",
      "\u001b[34m\u001b[1mNew candidate s.m.p. found\u001b[22m\u001b[39m because ⟨v_6*, v⟩ - 1 = 1.0862947763534692e-7 > 1.0e-9:\n",
      "\u001b[31m\u001b[1maborting\u001b[22m\u001b[39m with smp candidate PSW(1.4092408466184032, [2, 1, 1, 2, 1, 1, 2, 1, 2, 1, 1, 2, 1, 1, 2, 1, 2, 1, 1, 2, 1, 2, 1, 1, 2, 1, 1, 2, 1, 2, 1, 1, 2, 1, 2, 1, 1, 2, 1, 1, 2, 1, 2, 1, 1, 2, 1, 2, 1, 1, 2, 1, 1, 2, 1, 2, 1, 1, 2, 1, 2, 1, 1, 2, 1, 1, 2, 1, 2, 1, 1, 2, 1, 2, 1, 1, 2, 1, 1, 2, 1, 2, 1, 1, 2, 1, 2, 1, 1, 2, 1, 1, 2, 1, 2, 1, 1, 2, 1, 2, 1, 1, 2, 1, 1, 2, 1, 2, 1, 1, 2, 1, 2, 1, 1, 2, 1, 1, 2, 1, 2, 1, 1, 2, 1, 2, 1, 1, 2, 1, 1, 2, 1, 2, 1, 1, 2, 1, 2, 1, 1, 2, 1, 1, 2, 1, 2, 1, 1, 2, 1, 2, 1, 1, 2, 1, 1, 2, 1, 2, 1, 1]) of length 162 after prefixing the suffix with 0 times the current s.m.p.Increase the value of the `max_smp_length` keyword argument to go further.\n",
      "\u001b[34m\u001b[1mNew candidate s.m.p. found\u001b[22m\u001b[39m because ⟨v_6*, v⟩ - 1 = 1.1203055461095346e-7 > 1.0e-9:\n",
      "\u001b[31m\u001b[1maborting\u001b[22m\u001b[39m with smp candidate PSW(1.4092408512769992, [2, 1, 1, 2, 1, 1, 2, 1, 2, 1, 1, 2, 1, 2, 1, 1, 2, 1, 1, 2, 1, 2, 1, 1, 2, 1, 2, 1, 1, 2, 1, 1, 2, 1, 2, 1, 1, 2, 1, 2, 1, 1, 2, 1, 1, 2, 1, 2, 1, 1, 2, 1, 2, 1, 1, 2, 1, 1, 2, 1, 2, 1, 1, 2, 1, 2, 1, 1, 2, 1, 1, 2, 1, 2, 1, 1, 2, 1, 2, 1, 1, 2, 1, 1, 2, 1, 2, 1, 1, 2, 1, 2, 1, 1, 2, 1, 1, 2, 1, 2, 1, 1, 2, 1, 2, 1, 1, 2, 1, 1, 2, 1, 2, 1, 1, 2, 1, 2, 1, 1, 2, 1, 1, 2, 1, 2, 1, 1, 2, 1, 2, 1, 1, 2, 1, 1, 2, 1, 2, 1, 1, 2, 1, 2, 1, 1, 2, 1, 1, 2, 1, 2, 1, 1, 2, 1, 1, 2, 1, 2, 1, 1]) of length 162 after prefixing the suffix with 0 times the current s.m.p.Increase the value of the `max_smp_length` keyword argument to go further.\n",
      "\u001b[34m\u001b[1mNew candidate s.m.p. found\u001b[22m\u001b[39m because ⟨v_6*, v⟩ - 1 = 0.0004556910316477758 > 1.0e-9:\n",
      "\u001b[31m\u001b[1maborting\u001b[22m\u001b[39m with smp candidate PSW(1.4092340238245165, [2, 1, 1, 2, 1, 1, 2, 1, 2, 1, 1, 2, 1, 2, 1, 1, 2, 1, 1, 2, 1, 2, 1, 1, 2, 1, 2, 1, 1, 2, 1, 1, 2, 1, 2, 1, 1, 2, 1, 2, 1, 1, 2, 1, 1, 2, 1, 2, 1, 1, 2, 1, 2, 1, 1, 2, 1, 1, 2, 1, 2, 1, 1, 2, 1, 2, 1, 1, 2, 1, 1, 2, 1, 2, 1, 1, 2, 1, 2, 1, 1, 2, 1, 1, 2, 1, 2, 1, 1, 2, 1, 2, 1, 1, 2, 1, 1, 2, 1, 2, 1, 1, 2, 1, 2, 1, 1, 2, 1, 1, 2, 1, 2, 1, 1, 2, 1, 2, 1, 1, 2, 1, 1, 2, 1, 2, 1, 1, 2, 1, 2, 1, 1, 2, 1, 1, 2, 1, 2, 1, 1, 2, 1, 2, 1, 1, 2, 1, 1, 2, 1, 2, 1, 1, 2, 1, 2, 1, 1, 2, 1, 1]) of length 162 after prefixing the suffix with 0 times the current s.m.p.Increase the value of the `max_smp_length` keyword argument to go further.\n"
     ]
    },
    {
     "name": "stdout",
     "output_type": "stream",
     "text": [
      "Depth 163: [949] points, 8 living leaves...\n",
      "\u001b[34m\u001b[1mNew candidate s.m.p. found\u001b[22m\u001b[39m because ⟨v_6*, v⟩ - 1 = 0.00045601952370577514 > 1.0e-9:\n",
      "\u001b[31m\u001b[1maborting\u001b[22m\u001b[39m with smp candidate PSW(1.4092340947685988, [2, 1, 1, 2, 1, 1, 2, 1, 2, 1, 1, 2, 1, 1, 2, 1, 2, 1, 1, 2, 1, 2, 1, 1, 2, 1, 1, 2, 1, 2, 1, 1, 2, 1, 1, 2, 1, 2, 1, 1, 2, 1, 2, 1, 1, 2, 1, 1, 2, 1, 2, 1, 1, 2, 1, 1, 2, 1, 2, 1, 1, 2, 1, 2, 1, 1, 2, 1, 1, 2, 1, 2, 1, 1, 2, 1, 1, 2, 1, 2, 1, 1, 2, 1, 2, 1, 1, 2, 1, 1, 2, 1, 2, 1, 1, 2, 1, 2, 1, 1, 2, 1, 1, 2, 1, 2, 1, 1, 2, 1, 2, 1, 1, 2, 1, 1, 2, 1, 2, 1, 1, 2, 1, 2, 1, 1, 2, 1, 1, 2, 1, 2, 1, 1, 2, 1, 2, 1, 1, 2, 1, 1, 2, 1, 2, 1, 1, 2, 1, 2, 1, 1, 2, 1, 1, 2, 1, 2, 1, 1, 2, 1, 1]) of length 163 after prefixing the suffix with 0 times the current s.m.p.Increase the value of the `max_smp_length` keyword argument to go further.\n",
      "Depth 164: [957] points, 8 living leaves...\n",
      "Depth 165: [965] points, 8 living leaves...\n",
      "\u001b[34m\u001b[1mNew candidate s.m.p. found\u001b[22m\u001b[39m because ⟨v_6*, v⟩ - 1 = 1.1067899352568134e-7 > 1.0e-9:\n",
      "\u001b[31m\u001b[1maborting\u001b[22m\u001b[39m with smp candidate PSW(1.4092409625352367, [2, 1, 1, 2, 1, 1, 2, 1, 2, 1, 1, 2, 1, 1, 2, 1, 2, 1, 1, 2, 1, 2, 1, 1, 2, 1, 1, 2, 1, 2, 1, 1, 2, 1, 1, 2, 1, 2, 1, 1, 2, 1, 2, 1, 1, 2, 1, 1, 2, 1, 2, 1, 1, 2, 1, 1, 2, 1, 2, 1, 1, 2, 1, 2, 1, 1, 2, 1, 1, 2, 1, 2, 1, 1, 2, 1, 2, 1, 1, 2, 1, 1, 2, 1, 2, 1, 1, 2, 1, 2, 1, 1, 2, 1, 1, 2, 1, 2, 1, 1, 2, 1, 2, 1, 1, 2, 1, 1, 2, 1, 2, 1, 1, 2, 1, 2, 1, 1, 2, 1, 1, 2, 1, 2, 1, 1, 2, 1, 2, 1, 1, 2, 1, 1, 2, 1, 2, 1, 1, 2, 1, 2, 1, 1, 2, 1, 1, 2, 1, 2, 1, 1, 2, 1, 2, 1, 1, 2, 1, 1, 2, 1, 2, 1, 1]) of length 165 after prefixing the suffix with 0 times the current s.m.p.Increase the value of the `max_smp_length` keyword argument to go further.\n",
      "\u001b[34m\u001b[1mNew candidate s.m.p. found\u001b[22m\u001b[39m because ⟨v_6*, v⟩ - 1 = 1.1408007005719867e-7 > 1.0e-9:\n",
      "\u001b[31m\u001b[1maborting\u001b[22m\u001b[39m with smp candidate PSW(1.4092409624852118, [2, 1, 1, 2, 1, 1, 2, 1, 2, 1, 1, 2, 1, 1, 2, 1, 2, 1, 1, 2, 1, 2, 1, 1, 2, 1, 1, 2, 1, 2, 1, 1, 2, 1, 1, 2, 1, 2, 1, 1, 2, 1, 2, 1, 1, 2, 1, 1, 2, 1, 2, 1, 1, 2, 1, 2, 1, 1, 2, 1, 1, 2, 1, 2, 1, 1, 2, 1, 2, 1, 1, 2, 1, 1, 2, 1, 2, 1, 1, 2, 1, 2, 1, 1, 2, 1, 1, 2, 1, 2, 1, 1, 2, 1, 2, 1, 1, 2, 1, 1, 2, 1, 2, 1, 1, 2, 1, 2, 1, 1, 2, 1, 1, 2, 1, 2, 1, 1, 2, 1, 2, 1, 1, 2, 1, 1, 2, 1, 2, 1, 1, 2, 1, 2, 1, 1, 2, 1, 1, 2, 1, 2, 1, 1, 2, 1, 2, 1, 1, 2, 1, 1, 2, 1, 2, 1, 1, 2, 1, 1, 2, 1, 2, 1, 1]) of length 165 after prefixing the suffix with 0 times the current s.m.p.Increase the value of the `max_smp_length` keyword argument to go further.\n",
      "\u001b[34m\u001b[1mNew candidate s.m.p. found\u001b[22m\u001b[39m because ⟨v_6*, v⟩ - 1 = 0.00045569308209714166 > 1.0e-9:\n",
      "\u001b[31m\u001b[1maborting\u001b[22m\u001b[39m with smp candidate PSW(1.4092342588390354, [2, 1, 1, 2, 1, 1, 2, 1, 2, 1, 1, 2, 1, 1, 2, 1, 2, 1, 1, 2, 1, 2, 1, 1, 2, 1, 1, 2, 1, 2, 1, 1, 2, 1, 1, 2, 1, 2, 1, 1, 2, 1, 2, 1, 1, 2, 1, 1, 2, 1, 2, 1, 1, 2, 1, 2, 1, 1, 2, 1, 1, 2, 1, 2, 1, 1, 2, 1, 2, 1, 1, 2, 1, 1, 2, 1, 2, 1, 1, 2, 1, 2, 1, 1, 2, 1, 1, 2, 1, 2, 1, 1, 2, 1, 2, 1, 1, 2, 1, 1, 2, 1, 2, 1, 1, 2, 1, 2, 1, 1, 2, 1, 1, 2, 1, 2, 1, 1, 2, 1, 2, 1, 1, 2, 1, 1, 2, 1, 2, 1, 1, 2, 1, 2, 1, 1, 2, 1, 1, 2, 1, 2, 1, 1, 2, 1, 2, 1, 1, 2, 1, 1, 2, 1, 2, 1, 1, 2, 1, 2, 1, 1, 2, 1, 1]) of length 165 after prefixing the suffix with 0 times the current s.m.p.Increase the value of the `max_smp_length` keyword argument to go further.\n",
      "\u001b[34m\u001b[1mNew candidate s.m.p. found\u001b[22m\u001b[39m because ⟨v_6*, v⟩ - 1 = 0.0004560208903856555 > 1.0e-9:\n",
      "\u001b[31m\u001b[1maborting\u001b[22m\u001b[39m with smp candidate PSW(1.4092342538865286, [2, 1, 1, 2, 1, 1, 2, 1, 2, 1, 1, 2, 1, 1, 2, 1, 2, 1, 1, 2, 1, 2, 1, 1, 2, 1, 1, 2, 1, 2, 1, 1, 2, 1, 2, 1, 1, 2, 1, 1, 2, 1, 2, 1, 1, 2, 1, 2, 1, 1, 2, 1, 1, 2, 1, 2, 1, 1, 2, 1, 2, 1, 1, 2, 1, 1, 2, 1, 2, 1, 1, 2, 1, 2, 1, 1, 2, 1, 1, 2, 1, 2, 1, 1, 2, 1, 2, 1, 1, 2, 1, 1, 2, 1, 2, 1, 1, 2, 1, 2, 1, 1, 2, 1, 1, 2, 1, 2, 1, 1, 2, 1, 2, 1, 1, 2, 1, 1, 2, 1, 2, 1, 1, 2, 1, 2, 1, 1, 2, 1, 1, 2, 1, 2, 1, 1, 2, 1, 2, 1, 1, 2, 1, 1, 2, 1, 2, 1, 1, 2, 1, 2, 1, 1, 2, 1, 1, 2, 1, 2, 1, 1, 2, 1, 1]) of length 165 after prefixing the suffix with 0 times the current s.m.p.Increase the value of the `max_smp_length` keyword argument to go further.\n",
      "Depth 166: [973] points, 8 living leaves...\n",
      "Depth 167: [981] points, 8 living leaves...\n",
      "\u001b[34m\u001b[1mNew candidate s.m.p. found\u001b[22m\u001b[39m because ⟨v_6*, v⟩ - 1 = 1.1204505012685217e-7 > 1.0e-9:\n",
      "\u001b[31m\u001b[1maborting\u001b[22m\u001b[39m with smp candidate PSW(1.4092410420679602, [2, 1, 1, 2, 1, 1, 2, 1, 2, 1, 1, 2, 1, 2, 1, 1, 2, 1, 1, 2, 1, 2, 1, 1, 2, 1, 2, 1, 1, 2, 1, 1, 2, 1, 2, 1, 1, 2, 1, 2, 1, 1, 2, 1, 1, 2, 1, 2, 1, 1, 2, 1, 2, 1, 1, 2, 1, 1, 2, 1, 2, 1, 1, 2, 1, 2, 1, 1, 2, 1, 1, 2, 1, 2, 1, 1, 2, 1, 2, 1, 1, 2, 1, 1, 2, 1, 2, 1, 1, 2, 1, 2, 1, 1, 2, 1, 1, 2, 1, 2, 1, 1, 2, 1, 2, 1, 1, 2, 1, 1, 2, 1, 2, 1, 1, 2, 1, 2, 1, 1, 2, 1, 1, 2, 1, 2, 1, 1, 2, 1, 2, 1, 1, 2, 1, 1, 2, 1, 2, 1, 1, 2, 1, 2, 1, 1, 2, 1, 1, 2, 1, 2, 1, 1, 2, 1, 2, 1, 1, 2, 1, 1, 2, 1, 2, 1, 1]) of length 167 after prefixing the suffix with 0 times the current s.m.p.Increase the value of the `max_smp_length` keyword argument to go further.\n",
      "Depth 168: [989] points, 8 living leaves...\n",
      "\u001b[34m\u001b[1mNew candidate s.m.p. found\u001b[22m\u001b[39m because ⟨v_6*, v⟩ - 1 = 1.1612958528139927e-7 > 1.0e-9:\n",
      "\u001b[31m\u001b[1maborting\u001b[22m\u001b[39m with smp candidate PSW(1.4092410742630606, [2, 1, 1, 2, 1, 1, 2, 1, 2, 1, 1, 2, 1, 1, 2, 1, 2, 1, 1, 2, 1, 2, 1, 1, 2, 1, 1, 2, 1, 2, 1, 1, 2, 1, 1, 2, 1, 2, 1, 1, 2, 1, 2, 1, 1, 2, 1, 1, 2, 1, 2, 1, 1, 2, 1, 1, 2, 1, 2, 1, 1, 2, 1, 2, 1, 1, 2, 1, 1, 2, 1, 2, 1, 1, 2, 1, 1, 2, 1, 2, 1, 1, 2, 1, 2, 1, 1, 2, 1, 1, 2, 1, 2, 1, 1, 2, 1, 2, 1, 1, 2, 1, 1, 2, 1, 2, 1, 1, 2, 1, 2, 1, 1, 2, 1, 1, 2, 1, 2, 1, 1, 2, 1, 2, 1, 1, 2, 1, 1, 2, 1, 2, 1, 1, 2, 1, 2, 1, 1, 2, 1, 1, 2, 1, 2, 1, 1, 2, 1, 2, 1, 1, 2, 1, 1, 2, 1, 2, 1, 1, 2, 1, 1, 2, 1, 2, 1, 1]) of length 168 after prefixing the suffix with 0 times the current s.m.p.Increase the value of the `max_smp_length` keyword argument to go further.\n",
      "\u001b[34m\u001b[1mNew candidate s.m.p. found\u001b[22m\u001b[39m because ⟨v_6*, v⟩ - 1 = 0.0004556951325460634 > 1.0e-9:\n",
      "\u001b[31m\u001b[1maborting\u001b[22m\u001b[39m with smp candidate PSW(1.40923449032405, [2, 1, 1, 2, 1, 1, 2, 1, 2, 1, 1, 2, 1, 1, 2, 1, 2, 1, 1, 2, 1, 2, 1, 1, 2, 1, 1, 2, 1, 2, 1, 1, 2, 1, 1, 2, 1, 2, 1, 1, 2, 1, 2, 1, 1, 2, 1, 1, 2, 1, 2, 1, 1, 2, 1, 1, 2, 1, 2, 1, 1, 2, 1, 2, 1, 1, 2, 1, 1, 2, 1, 2, 1, 1, 2, 1, 1, 2, 1, 2, 1, 1, 2, 1, 2, 1, 1, 2, 1, 1, 2, 1, 2, 1, 1, 2, 1, 2, 1, 1, 2, 1, 1, 2, 1, 2, 1, 1, 2, 1, 2, 1, 1, 2, 1, 1, 2, 1, 2, 1, 1, 2, 1, 2, 1, 1, 2, 1, 1, 2, 1, 2, 1, 1, 2, 1, 2, 1, 1, 2, 1, 1, 2, 1, 2, 1, 1, 2, 1, 2, 1, 1, 2, 1, 1, 2, 1, 2, 1, 1, 2, 1, 2, 1, 1, 2, 1, 1]) of length 168 after prefixing the suffix with 0 times the current s.m.p.Increase the value of the `max_smp_length` keyword argument to go further.\n",
      "\u001b[34m\u001b[1mNew candidate s.m.p. found\u001b[22m\u001b[39m because ⟨v_6*, v⟩ - 1 = 0.0004560229408356875 > 1.0e-9:\n",
      "\u001b[31m\u001b[1maborting\u001b[22m\u001b[39m with smp candidate PSW(1.4092344854599799, [2, 1, 1, 2, 1, 1, 2, 1, 2, 1, 1, 2, 1, 1, 2, 1, 2, 1, 1, 2, 1, 2, 1, 1, 2, 1, 1, 2, 1, 2, 1, 1, 2, 1, 1, 2, 1, 2, 1, 1, 2, 1, 2, 1, 1, 2, 1, 1, 2, 1, 2, 1, 1, 2, 1, 1, 2, 1, 2, 1, 1, 2, 1, 2, 1, 1, 2, 1, 1, 2, 1, 2, 1, 1, 2, 1, 2, 1, 1, 2, 1, 1, 2, 1, 2, 1, 1, 2, 1, 2, 1, 1, 2, 1, 1, 2, 1, 2, 1, 1, 2, 1, 2, 1, 1, 2, 1, 1, 2, 1, 2, 1, 1, 2, 1, 2, 1, 1, 2, 1, 1, 2, 1, 2, 1, 1, 2, 1, 2, 1, 1, 2, 1, 1, 2, 1, 2, 1, 1, 2, 1, 2, 1, 1, 2, 1, 1, 2, 1, 2, 1, 1, 2, 1, 2, 1, 1, 2, 1, 1, 2, 1, 2, 1, 1, 2, 1, 1]) of length 168 after prefixing the suffix with 0 times the current s.m.p.Increase the value of the `max_smp_length` keyword argument to go further.\n",
      "Depth 169: [997] points, 8 living leaves...\n",
      "Depth 170: [1005] points, 8 living leaves...\n",
      "\u001b[34m\u001b[1mNew candidate s.m.p. found\u001b[22m\u001b[39m because ⟨v_6*, v⟩ - 1 = 1.140945662392312e-7 > 1.0e-9:\n",
      "\u001b[31m\u001b[1maborting\u001b[22m\u001b[39m with smp candidate PSW(1.4092411466384602, [2, 1, 1, 2, 1, 1, 2, 1, 2, 1, 1, 2, 1, 1, 2, 1, 2, 1, 1, 2, 1, 2, 1, 1, 2, 1, 1, 2, 1, 2, 1, 1, 2, 1, 1, 2, 1, 2, 1, 1, 2, 1, 2, 1, 1, 2, 1, 1, 2, 1, 2, 1, 1, 2, 1, 2, 1, 1, 2, 1, 1, 2, 1, 2, 1, 1, 2, 1, 2, 1, 1, 2, 1, 1, 2, 1, 2, 1, 1, 2, 1, 2, 1, 1, 2, 1, 1, 2, 1, 2, 1, 1, 2, 1, 2, 1, 1, 2, 1, 1, 2, 1, 2, 1, 1, 2, 1, 2, 1, 1, 2, 1, 1, 2, 1, 2, 1, 1, 2, 1, 2, 1, 1, 2, 1, 1, 2, 1, 2, 1, 1, 2, 1, 2, 1, 1, 2, 1, 1, 2, 1, 2, 1, 1, 2, 1, 2, 1, 1, 2, 1, 1, 2, 1, 2, 1, 1, 2, 1, 2, 1, 1, 2, 1, 1, 2, 1, 2, 1, 1]) of length 170 after prefixing the suffix with 0 times the current s.m.p.Increase the value of the `max_smp_length` keyword argument to go further.\n",
      "\u001b[34m\u001b[1mNew candidate s.m.p. found\u001b[22m\u001b[39m because ⟨v_6*, v⟩ - 1 = 1.1749564232665932e-7 > 1.0e-9:\n",
      "\u001b[31m\u001b[1maborting\u001b[22m\u001b[39m with smp candidate PSW(1.4092411465899066, [2, 1, 1, 2, 1, 1, 2, 1, 2, 1, 1, 2, 1, 1, 2, 1, 2, 1, 1, 2, 1, 2, 1, 1, 2, 1, 1, 2, 1, 2, 1, 1, 2, 1, 2, 1, 1, 2, 1, 1, 2, 1, 2, 1, 1, 2, 1, 2, 1, 1, 2, 1, 1, 2, 1, 2, 1, 1, 2, 1, 2, 1, 1, 2, 1, 1, 2, 1, 2, 1, 1, 2, 1, 2, 1, 1, 2, 1, 1, 2, 1, 2, 1, 1, 2, 1, 2, 1, 1, 2, 1, 1, 2, 1, 2, 1, 1, 2, 1, 2, 1, 1, 2, 1, 1, 2, 1, 2, 1, 1, 2, 1, 2, 1, 1, 2, 1, 1, 2, 1, 2, 1, 1, 2, 1, 2, 1, 1, 2, 1, 1, 2, 1, 2, 1, 1, 2, 1, 2, 1, 1, 2, 1, 1, 2, 1, 2, 1, 1, 2, 1, 2, 1, 1, 2, 1, 1, 2, 1, 2, 1, 1, 2, 1, 1, 2, 1, 2, 1, 1]) of length 170 after prefixing the suffix with 0 times the current s.m.p.Increase the value of the `max_smp_length` keyword argument to go further.\n",
      "\u001b[34m\u001b[1mNew candidate s.m.p. found\u001b[22m\u001b[39m because ⟨v_6*, v⟩ - 1 = 0.00045569649922527766 > 1.0e-9:\n",
      "\u001b[31m\u001b[1maborting\u001b[22m\u001b[39m with smp candidate PSW(1.409234640108489, [2, 1, 1, 2, 1, 1, 2, 1, 2, 1, 1, 2, 1, 1, 2, 1, 2, 1, 1, 2, 1, 2, 1, 1, 2, 1, 1, 2, 1, 2, 1, 1, 2, 1, 2, 1, 1, 2, 1, 1, 2, 1, 2, 1, 1, 2, 1, 2, 1, 1, 2, 1, 1, 2, 1, 2, 1, 1, 2, 1, 2, 1, 1, 2, 1, 1, 2, 1, 2, 1, 1, 2, 1, 2, 1, 1, 2, 1, 1, 2, 1, 2, 1, 1, 2, 1, 2, 1, 1, 2, 1, 1, 2, 1, 2, 1, 1, 2, 1, 2, 1, 1, 2, 1, 1, 2, 1, 2, 1, 1, 2, 1, 2, 1, 1, 2, 1, 1, 2, 1, 2, 1, 1, 2, 1, 2, 1, 1, 2, 1, 1, 2, 1, 2, 1, 1, 2, 1, 2, 1, 1, 2, 1, 1, 2, 1, 2, 1, 1, 2, 1, 2, 1, 1, 2, 1, 1, 2, 1, 2, 1, 1, 2, 1, 2, 1, 1, 2, 1, 1]) of length 170 after prefixing the suffix with 0 times the current s.m.p.Increase the value of the `max_smp_length` keyword argument to go further.\n"
     ]
    },
    {
     "name": "stdout",
     "output_type": "stream",
     "text": [
      "\u001b[34m\u001b[1mNew candidate s.m.p. found\u001b[22m\u001b[39m because ⟨v_6*, v⟩ - 1 = 0.00045602430751490175 > 1.0e-9:\n",
      "\u001b[31m\u001b[1maborting\u001b[22m\u001b[39m with smp candidate PSW(1.409234640108489, [2, 1, 1, 2, 1, 1, 2, 1, 2, 1, 1, 2, 1, 2, 1, 1, 2, 1, 1, 2, 1, 2, 1, 1, 2, 1, 2, 1, 1, 2, 1, 1, 2, 1, 2, 1, 1, 2, 1, 2, 1, 1, 2, 1, 1, 2, 1, 2, 1, 1, 2, 1, 2, 1, 1, 2, 1, 1, 2, 1, 2, 1, 1, 2, 1, 2, 1, 1, 2, 1, 1, 2, 1, 2, 1, 1, 2, 1, 2, 1, 1, 2, 1, 1, 2, 1, 2, 1, 1, 2, 1, 2, 1, 1, 2, 1, 1, 2, 1, 2, 1, 1, 2, 1, 2, 1, 1, 2, 1, 1, 2, 1, 2, 1, 1, 2, 1, 2, 1, 1, 2, 1, 1, 2, 1, 2, 1, 1, 2, 1, 2, 1, 1, 2, 1, 1, 2, 1, 2, 1, 1, 2, 1, 2, 1, 1, 2, 1, 1, 2, 1, 2, 1, 1, 2, 1, 2, 1, 1, 2, 1, 1, 2, 1, 2, 1, 1, 2, 1, 1]) of length 170 after prefixing the suffix with 0 times the current s.m.p.Increase the value of the `max_smp_length` keyword argument to go further.\n",
      "Depth 171: [1014] points, 9 living leaves...\n",
      "Depth 172: [1022] points, 8 living leaves...\n",
      "Depth 173: [1030] points, 8 living leaves...\n",
      "\u001b[34m\u001b[1mNew candidate s.m.p. found\u001b[22m\u001b[39m because ⟨v_6*, v⟩ - 1 = 1.161440812413872e-7 > 1.0e-9:\n",
      "\u001b[31m\u001b[1maborting\u001b[22m\u001b[39m with smp candidate PSW(1.40924125199234, [2, 1, 1, 2, 1, 1, 2, 1, 2, 1, 1, 2, 1, 1, 2, 1, 2, 1, 1, 2, 1, 2, 1, 1, 2, 1, 1, 2, 1, 2, 1, 1, 2, 1, 1, 2, 1, 2, 1, 1, 2, 1, 2, 1, 1, 2, 1, 1, 2, 1, 2, 1, 1, 2, 1, 1, 2, 1, 2, 1, 1, 2, 1, 2, 1, 1, 2, 1, 1, 2, 1, 2, 1, 1, 2, 1, 1, 2, 1, 2, 1, 1, 2, 1, 2, 1, 1, 2, 1, 1, 2, 1, 2, 1, 1, 2, 1, 2, 1, 1, 2, 1, 1, 2, 1, 2, 1, 1, 2, 1, 2, 1, 1, 2, 1, 1, 2, 1, 2, 1, 1, 2, 1, 2, 1, 1, 2, 1, 1, 2, 1, 2, 1, 1, 2, 1, 2, 1, 1, 2, 1, 1, 2, 1, 2, 1, 1, 2, 1, 2, 1, 1, 2, 1, 1, 2, 1, 2, 1, 1, 2, 1, 2, 1, 1, 2, 1, 1, 2, 1, 2, 1, 1]) of length 173 after prefixing the suffix with 0 times the current s.m.p.Increase the value of the `max_smp_length` keyword argument to go further.\n",
      "\u001b[34m\u001b[1mNew candidate s.m.p. found\u001b[22m\u001b[39m because ⟨v_6*, v⟩ - 1 = 1.1954515777290453e-7 > 1.0e-9:\n",
      "\u001b[31m\u001b[1maborting\u001b[22m\u001b[39m with smp candidate PSW(1.4092412519446285, [2, 1, 1, 2, 1, 1, 2, 1, 2, 1, 1, 2, 1, 1, 2, 1, 2, 1, 1, 2, 1, 2, 1, 1, 2, 1, 1, 2, 1, 2, 1, 1, 2, 1, 1, 2, 1, 2, 1, 1, 2, 1, 2, 1, 1, 2, 1, 1, 2, 1, 2, 1, 1, 2, 1, 1, 2, 1, 2, 1, 1, 2, 1, 2, 1, 1, 2, 1, 1, 2, 1, 2, 1, 1, 2, 1, 2, 1, 1, 2, 1, 1, 2, 1, 2, 1, 1, 2, 1, 2, 1, 1, 2, 1, 1, 2, 1, 2, 1, 1, 2, 1, 2, 1, 1, 2, 1, 1, 2, 1, 2, 1, 1, 2, 1, 2, 1, 1, 2, 1, 1, 2, 1, 2, 1, 1, 2, 1, 2, 1, 1, 2, 1, 1, 2, 1, 2, 1, 1, 2, 1, 2, 1, 1, 2, 1, 1, 2, 1, 2, 1, 1, 2, 1, 2, 1, 1, 2, 1, 1, 2, 1, 2, 1, 1, 2, 1, 1, 2, 1, 2, 1, 1]) of length 173 after prefixing the suffix with 0 times the current s.m.p.Increase the value of the `max_smp_length` keyword argument to go further.\n",
      "\u001b[34m\u001b[1mNew candidate s.m.p. found\u001b[22m\u001b[39m because ⟨v_6*, v⟩ - 1 = 0.0004556985496750876 > 1.0e-9:\n",
      "\u001b[31m\u001b[1maborting\u001b[22m\u001b[39m with smp candidate PSW(1.4092348582916345, [2, 1, 1, 2, 1, 1, 2, 1, 2, 1, 1, 2, 1, 1, 2, 1, 2, 1, 1, 2, 1, 2, 1, 1, 2, 1, 1, 2, 1, 2, 1, 1, 2, 1, 1, 2, 1, 2, 1, 1, 2, 1, 2, 1, 1, 2, 1, 1, 2, 1, 2, 1, 1, 2, 1, 1, 2, 1, 2, 1, 1, 2, 1, 2, 1, 1, 2, 1, 1, 2, 1, 2, 1, 1, 2, 1, 2, 1, 1, 2, 1, 1, 2, 1, 2, 1, 1, 2, 1, 2, 1, 1, 2, 1, 1, 2, 1, 2, 1, 1, 2, 1, 2, 1, 1, 2, 1, 1, 2, 1, 2, 1, 1, 2, 1, 2, 1, 1, 2, 1, 1, 2, 1, 2, 1, 1, 2, 1, 2, 1, 1, 2, 1, 1, 2, 1, 2, 1, 1, 2, 1, 2, 1, 1, 2, 1, 1, 2, 1, 2, 1, 1, 2, 1, 2, 1, 1, 2, 1, 1, 2, 1, 2, 1, 1, 2, 1, 2, 1, 1, 2, 1, 1]) of length 173 after prefixing the suffix with 0 times the current s.m.p.Increase the value of the `max_smp_length` keyword argument to go further.\n",
      "\u001b[34m\u001b[1mNew candidate s.m.p. found\u001b[22m\u001b[39m because ⟨v_6*, v⟩ - 1 = 0.00045602635796559987 > 1.0e-9:\n",
      "\u001b[31m\u001b[1maborting\u001b[22m\u001b[39m with smp candidate PSW(1.4092348535681434, [2, 1, 1, 2, 1, 1, 2, 1, 2, 1, 1, 2, 1, 1, 2, 1, 2, 1, 1, 2, 1, 2, 1, 1, 2, 1, 1, 2, 1, 2, 1, 1, 2, 1, 1, 2, 1, 2, 1, 1, 2, 1, 2, 1, 1, 2, 1, 1, 2, 1, 2, 1, 1, 2, 1, 2, 1, 1, 2, 1, 1, 2, 1, 2, 1, 1, 2, 1, 2, 1, 1, 2, 1, 1, 2, 1, 2, 1, 1, 2, 1, 2, 1, 1, 2, 1, 1, 2, 1, 2, 1, 1, 2, 1, 2, 1, 1, 2, 1, 1, 2, 1, 2, 1, 1, 2, 1, 2, 1, 1, 2, 1, 1, 2, 1, 2, 1, 1, 2, 1, 2, 1, 1, 2, 1, 1, 2, 1, 2, 1, 1, 2, 1, 2, 1, 1, 2, 1, 1, 2, 1, 2, 1, 1, 2, 1, 2, 1, 1, 2, 1, 1, 2, 1, 2, 1, 1, 2, 1, 2, 1, 1, 2, 1, 1, 2, 1, 2, 1, 1, 2, 1, 1]) of length 173 after prefixing the suffix with 0 times the current s.m.p.Increase the value of the `max_smp_length` keyword argument to go further.\n",
      "Depth 174: [1038] points, 8 living leaves...\n",
      "Depth 175: [1046] points, 8 living leaves...\n",
      "\u001b[34m\u001b[1mNew candidate s.m.p. found\u001b[22m\u001b[39m because ⟨v_6*, v⟩ - 1 = 1.1751013806460264e-7 > 1.0e-9:\n",
      "\u001b[31m\u001b[1maborting\u001b[22m\u001b[39m with smp candidate PSW(1.4092413202215213, [2, 1, 1, 2, 1, 1, 2, 1, 2, 1, 1, 2, 1, 1, 2, 1, 2, 1, 1, 2, 1, 2, 1, 1, 2, 1, 1, 2, 1, 2, 1, 1, 2, 1, 2, 1, 1, 2, 1, 1, 2, 1, 2, 1, 1, 2, 1, 2, 1, 1, 2, 1, 1, 2, 1, 2, 1, 1, 2, 1, 2, 1, 1, 2, 1, 1, 2, 1, 2, 1, 1, 2, 1, 2, 1, 1, 2, 1, 1, 2, 1, 2, 1, 1, 2, 1, 2, 1, 1, 2, 1, 1, 2, 1, 2, 1, 1, 2, 1, 2, 1, 1, 2, 1, 1, 2, 1, 2, 1, 1, 2, 1, 2, 1, 1, 2, 1, 1, 2, 1, 2, 1, 1, 2, 1, 2, 1, 1, 2, 1, 1, 2, 1, 2, 1, 1, 2, 1, 2, 1, 1, 2, 1, 1, 2, 1, 2, 1, 1, 2, 1, 2, 1, 1, 2, 1, 1, 2, 1, 2, 1, 1, 2, 1, 2, 1, 1, 2, 1, 1, 2, 1, 2, 1, 1]) of length 175 after prefixing the suffix with 0 times the current s.m.p.Increase the value of the `max_smp_length` keyword argument to go further.\n",
      "\u001b[34m\u001b[1mNew candidate s.m.p. found\u001b[22m\u001b[39m because ⟨v_6*, v⟩ - 1 = 1.2091121415203077e-7 > 1.0e-9:\n",
      "\u001b[31m\u001b[1maborting\u001b[22m\u001b[39m with smp candidate PSW(1.4092413245340516, [2, 1, 1, 2, 1, 1, 2, 1, 2, 1, 1, 2, 1, 2, 1, 1, 2, 1, 1, 2, 1, 2, 1, 1, 2, 1, 2, 1, 1, 2, 1, 1, 2, 1, 2, 1, 1, 2, 1, 2, 1, 1, 2, 1, 1, 2, 1, 2, 1, 1, 2, 1, 2, 1, 1, 2, 1, 1, 2, 1, 2, 1, 1, 2, 1, 2, 1, 1, 2, 1, 1, 2, 1, 2, 1, 1, 2, 1, 2, 1, 1, 2, 1, 1, 2, 1, 2, 1, 1, 2, 1, 2, 1, 1, 2, 1, 1, 2, 1, 2, 1, 1, 2, 1, 2, 1, 1, 2, 1, 1, 2, 1, 2, 1, 1, 2, 1, 2, 1, 1, 2, 1, 1, 2, 1, 2, 1, 1, 2, 1, 2, 1, 1, 2, 1, 1, 2, 1, 2, 1, 1, 2, 1, 2, 1, 1, 2, 1, 1, 2, 1, 2, 1, 1, 2, 1, 2, 1, 1, 2, 1, 1, 2, 1, 2, 1, 1, 2, 1, 1, 2, 1, 2, 1, 1]) of length 175 after prefixing the suffix with 0 times the current s.m.p.Increase the value of the `max_smp_length` keyword argument to go further.\n",
      "\u001b[34m\u001b[1mNew candidate s.m.p. found\u001b[22m\u001b[39m because ⟨v_6*, v⟩ - 1 = 0.0004556999163536357 > 1.0e-9:\n",
      "\u001b[31m\u001b[1maborting\u001b[22m\u001b[39m with smp candidate PSW(1.4092350042604938, [2, 1, 1, 2, 1, 1, 2, 1, 2, 1, 1, 2, 1, 2, 1, 1, 2, 1, 1, 2, 1, 2, 1, 1, 2, 1, 2, 1, 1, 2, 1, 1, 2, 1, 2, 1, 1, 2, 1, 2, 1, 1, 2, 1, 1, 2, 1, 2, 1, 1, 2, 1, 2, 1, 1, 2, 1, 1, 2, 1, 2, 1, 1, 2, 1, 2, 1, 1, 2, 1, 1, 2, 1, 2, 1, 1, 2, 1, 2, 1, 1, 2, 1, 1, 2, 1, 2, 1, 1, 2, 1, 2, 1, 1, 2, 1, 1, 2, 1, 2, 1, 1, 2, 1, 2, 1, 1, 2, 1, 1, 2, 1, 2, 1, 1, 2, 1, 2, 1, 1, 2, 1, 1, 2, 1, 2, 1, 1, 2, 1, 2, 1, 1, 2, 1, 1, 2, 1, 2, 1, 1, 2, 1, 2, 1, 1, 2, 1, 1, 2, 1, 2, 1, 1, 2, 1, 2, 1, 1, 2, 1, 1, 2, 1, 2, 1, 1, 2, 1, 2, 1, 1, 2, 1, 1]) of length 175 after prefixing the suffix with 0 times the current s.m.p.Increase the value of the `max_smp_length` keyword argument to go further.\n",
      "Depth 176: [1054] points, 8 living leaves...\n",
      "\u001b[34m\u001b[1mNew candidate s.m.p. found\u001b[22m\u001b[39m because ⟨v_6*, v⟩ - 1 = 0.0004560284084154098 > 1.0e-9:\n",
      "\u001b[31m\u001b[1maborting\u001b[22m\u001b[39m with smp candidate PSW(1.4092350643937723, [2, 1, 1, 2, 1, 1, 2, 1, 2, 1, 1, 2, 1, 1, 2, 1, 2, 1, 1, 2, 1, 2, 1, 1, 2, 1, 1, 2, 1, 2, 1, 1, 2, 1, 1, 2, 1, 2, 1, 1, 2, 1, 2, 1, 1, 2, 1, 1, 2, 1, 2, 1, 1, 2, 1, 1, 2, 1, 2, 1, 1, 2, 1, 2, 1, 1, 2, 1, 1, 2, 1, 2, 1, 1, 2, 1, 1, 2, 1, 2, 1, 1, 2, 1, 2, 1, 1, 2, 1, 1, 2, 1, 2, 1, 1, 2, 1, 2, 1, 1, 2, 1, 1, 2, 1, 2, 1, 1, 2, 1, 2, 1, 1, 2, 1, 1, 2, 1, 2, 1, 1, 2, 1, 2, 1, 1, 2, 1, 1, 2, 1, 2, 1, 1, 2, 1, 2, 1, 1, 2, 1, 1, 2, 1, 2, 1, 1, 2, 1, 2, 1, 1, 2, 1, 1, 2, 1, 2, 1, 1, 2, 1, 2, 1, 1, 2, 1, 1, 2, 1, 2, 1, 1, 2, 1, 1]) of length 176 after prefixing the suffix with 0 times the current s.m.p.Increase the value of the `max_smp_length` keyword argument to go further.\n",
      "Depth 177: [1062] points, 8 living leaves...\n",
      "Depth 178: [1070] points, 8 living leaves...\n",
      "\u001b[34m\u001b[1mNew candidate s.m.p. found\u001b[22m\u001b[39m because ⟨v_6*, v⟩ - 1 = 1.1955965373289246e-7 > 1.0e-9:\n",
      "\u001b[31m\u001b[1maborting\u001b[22m\u001b[39m with smp candidate PSW(1.4092414196904777, [2, 1, 1, 2, 1, 1, 2, 1, 2, 1, 1, 2, 1, 1, 2, 1, 2, 1, 1, 2, 1, 2, 1, 1, 2, 1, 1, 2, 1, 2, 1, 1, 2, 1, 1, 2, 1, 2, 1, 1, 2, 1, 2, 1, 1, 2, 1, 1, 2, 1, 2, 1, 1, 2, 1, 1, 2, 1, 2, 1, 1, 2, 1, 2, 1, 1, 2, 1, 1, 2, 1, 2, 1, 1, 2, 1, 2, 1, 1, 2, 1, 1, 2, 1, 2, 1, 1, 2, 1, 2, 1, 1, 2, 1, 1, 2, 1, 2, 1, 1, 2, 1, 2, 1, 1, 2, 1, 1, 2, 1, 2, 1, 1, 2, 1, 2, 1, 1, 2, 1, 1, 2, 1, 2, 1, 1, 2, 1, 2, 1, 1, 2, 1, 1, 2, 1, 2, 1, 1, 2, 1, 2, 1, 1, 2, 1, 1, 2, 1, 2, 1, 1, 2, 1, 2, 1, 1, 2, 1, 1, 2, 1, 2, 1, 1, 2, 1, 2, 1, 1, 2, 1, 1, 2, 1, 2, 1, 1]) of length 178 after prefixing the suffix with 0 times the current s.m.p.Increase the value of the `max_smp_length` keyword argument to go further.\n",
      "\u001b[34m\u001b[1mNew candidate s.m.p. found\u001b[22m\u001b[39m because ⟨v_6*, v⟩ - 1 = 1.22960730708499e-7 > 1.0e-9:\n",
      "\u001b[31m\u001b[1maborting\u001b[22m\u001b[39m with smp candidate PSW(1.409241419644106, [2, 1, 1, 2, 1, 1, 2, 1, 2, 1, 1, 2, 1, 1, 2, 1, 2, 1, 1, 2, 1, 2, 1, 1, 2, 1, 1, 2, 1, 2, 1, 1, 2, 1, 1, 2, 1, 2, 1, 1, 2, 1, 2, 1, 1, 2, 1, 1, 2, 1, 2, 1, 1, 2, 1, 2, 1, 1, 2, 1, 1, 2, 1, 2, 1, 1, 2, 1, 2, 1, 1, 2, 1, 1, 2, 1, 2, 1, 1, 2, 1, 2, 1, 1, 2, 1, 1, 2, 1, 2, 1, 1, 2, 1, 2, 1, 1, 2, 1, 1, 2, 1, 2, 1, 1, 2, 1, 2, 1, 1, 2, 1, 1, 2, 1, 2, 1, 1, 2, 1, 2, 1, 1, 2, 1, 1, 2, 1, 2, 1, 1, 2, 1, 2, 1, 1, 2, 1, 1, 2, 1, 2, 1, 1, 2, 1, 2, 1, 1, 2, 1, 1, 2, 1, 2, 1, 1, 2, 1, 2, 1, 1, 2, 1, 1, 2, 1, 2, 1, 1, 2, 1, 1, 2, 1, 2, 1, 1]) of length 178 after prefixing the suffix with 0 times the current s.m.p.Increase the value of the `max_smp_length` keyword argument to go further.\n",
      "\u001b[34m\u001b[1mNew candidate s.m.p. found\u001b[22m\u001b[39m because ⟨v_6*, v⟩ - 1 = 0.00045570196680344566 > 1.0e-9:\n",
      "\u001b[31m\u001b[1maborting\u001b[22m\u001b[39m with smp candidate PSW(1.409235205586971, [2, 1, 1, 2, 1, 1, 2, 1, 2, 1, 1, 2, 1, 1, 2, 1, 2, 1, 1, 2, 1, 2, 1, 1, 2, 1, 1, 2, 1, 2, 1, 1, 2, 1, 1, 2, 1, 2, 1, 1, 2, 1, 2, 1, 1, 2, 1, 1, 2, 1, 2, 1, 1, 2, 1, 2, 1, 1, 2, 1, 1, 2, 1, 2, 1, 1, 2, 1, 2, 1, 1, 2, 1, 1, 2, 1, 2, 1, 1, 2, 1, 2, 1, 1, 2, 1, 1, 2, 1, 2, 1, 1, 2, 1, 2, 1, 1, 2, 1, 1, 2, 1, 2, 1, 1, 2, 1, 2, 1, 1, 2, 1, 1, 2, 1, 2, 1, 1, 2, 1, 2, 1, 1, 2, 1, 1, 2, 1, 2, 1, 1, 2, 1, 2, 1, 1, 2, 1, 1, 2, 1, 2, 1, 1, 2, 1, 2, 1, 1, 2, 1, 1, 2, 1, 2, 1, 1, 2, 1, 2, 1, 1, 2, 1, 1, 2, 1, 2, 1, 1, 2, 1, 2, 1, 1, 2, 1, 1]) of length 178 after prefixing the suffix with 0 times the current s.m.p.Increase the value of the `max_smp_length` keyword argument to go further.\n"
     ]
    },
    {
     "name": "stdout",
     "output_type": "stream",
     "text": [
      "\u001b[34m\u001b[1mNew candidate s.m.p. found\u001b[22m\u001b[39m because ⟨v_6*, v⟩ - 1 = 0.00045602977509462406 > 1.0e-9:\n",
      "\u001b[31m\u001b[1maborting\u001b[22m\u001b[39m with smp candidate PSW(1.4092352009961608, [2, 1, 1, 2, 1, 1, 2, 1, 2, 1, 1, 2, 1, 1, 2, 1, 2, 1, 1, 2, 1, 2, 1, 1, 2, 1, 1, 2, 1, 2, 1, 1, 2, 1, 2, 1, 1, 2, 1, 1, 2, 1, 2, 1, 1, 2, 1, 2, 1, 1, 2, 1, 1, 2, 1, 2, 1, 1, 2, 1, 2, 1, 1, 2, 1, 1, 2, 1, 2, 1, 1, 2, 1, 2, 1, 1, 2, 1, 1, 2, 1, 2, 1, 1, 2, 1, 2, 1, 1, 2, 1, 1, 2, 1, 2, 1, 1, 2, 1, 2, 1, 1, 2, 1, 1, 2, 1, 2, 1, 1, 2, 1, 2, 1, 1, 2, 1, 1, 2, 1, 2, 1, 1, 2, 1, 2, 1, 1, 2, 1, 1, 2, 1, 2, 1, 1, 2, 1, 2, 1, 1, 2, 1, 1, 2, 1, 2, 1, 1, 2, 1, 2, 1, 1, 2, 1, 1, 2, 1, 2, 1, 1, 2, 1, 2, 1, 1, 2, 1, 1, 2, 1, 2, 1, 1, 2, 1, 1]) of length 178 after prefixing the suffix with 0 times the current s.m.p.Increase the value of the `max_smp_length` keyword argument to go further.\n",
      "Depth 179: [1078] points, 8 living leaves...\n",
      "Depth 180: [1086] points, 8 living leaves...\n",
      "\u001b[34m\u001b[1mNew candidate s.m.p. found\u001b[22m\u001b[39m because ⟨v_6*, v⟩ - 1 = 1.209257101120187e-7 > 1.0e-9:\n",
      "\u001b[31m\u001b[1maborting\u001b[22m\u001b[39m with smp candidate PSW(1.409241488399691, [2, 1, 1, 2, 1, 1, 2, 1, 2, 1, 1, 2, 1, 2, 1, 1, 2, 1, 1, 2, 1, 2, 1, 1, 2, 1, 2, 1, 1, 2, 1, 1, 2, 1, 2, 1, 1, 2, 1, 2, 1, 1, 2, 1, 1, 2, 1, 2, 1, 1, 2, 1, 2, 1, 1, 2, 1, 1, 2, 1, 2, 1, 1, 2, 1, 2, 1, 1, 2, 1, 1, 2, 1, 2, 1, 1, 2, 1, 2, 1, 1, 2, 1, 1, 2, 1, 2, 1, 1, 2, 1, 2, 1, 1, 2, 1, 1, 2, 1, 2, 1, 1, 2, 1, 2, 1, 1, 2, 1, 1, 2, 1, 2, 1, 1, 2, 1, 2, 1, 1, 2, 1, 1, 2, 1, 2, 1, 1, 2, 1, 2, 1, 1, 2, 1, 1, 2, 1, 2, 1, 1, 2, 1, 2, 1, 1, 2, 1, 1, 2, 1, 2, 1, 1, 2, 1, 2, 1, 1, 2, 1, 1, 2, 1, 2, 1, 1, 2, 1, 2, 1, 1, 2, 1, 1, 2, 1, 2, 1, 1]) of length 180 after prefixing the suffix with 0 times the current s.m.p.Increase the value of the `max_smp_length` keyword argument to go further.\n",
      "Depth 181: [1094] points, 8 living leaves...\n",
      "\u001b[34m\u001b[1mNew candidate s.m.p. found\u001b[22m\u001b[39m because ⟨v_6*, v⟩ - 1 = 1.250102461547442e-7 > 1.0e-9:\n",
      "\u001b[31m\u001b[1maborting\u001b[22m\u001b[39m with smp candidate PSW(1.4092415158165241, [2, 1, 1, 2, 1, 1, 2, 1, 2, 1, 1, 2, 1, 1, 2, 1, 2, 1, 1, 2, 1, 2, 1, 1, 2, 1, 1, 2, 1, 2, 1, 1, 2, 1, 1, 2, 1, 2, 1, 1, 2, 1, 2, 1, 1, 2, 1, 1, 2, 1, 2, 1, 1, 2, 1, 1, 2, 1, 2, 1, 1, 2, 1, 2, 1, 1, 2, 1, 1, 2, 1, 2, 1, 1, 2, 1, 1, 2, 1, 2, 1, 1, 2, 1, 2, 1, 1, 2, 1, 1, 2, 1, 2, 1, 1, 2, 1, 2, 1, 1, 2, 1, 1, 2, 1, 2, 1, 1, 2, 1, 2, 1, 1, 2, 1, 1, 2, 1, 2, 1, 1, 2, 1, 2, 1, 1, 2, 1, 1, 2, 1, 2, 1, 1, 2, 1, 2, 1, 1, 2, 1, 1, 2, 1, 2, 1, 1, 2, 1, 2, 1, 1, 2, 1, 1, 2, 1, 2, 1, 1, 2, 1, 2, 1, 1, 2, 1, 1, 2, 1, 2, 1, 1, 2, 1, 1, 2, 1, 2, 1, 1]) of length 181 after prefixing the suffix with 0 times the current s.m.p.Increase the value of the `max_smp_length` keyword argument to go further.\n",
      "\u001b[34m\u001b[1mNew candidate s.m.p. found\u001b[22m\u001b[39m because ⟨v_6*, v⟩ - 1 = 0.00045570401725258947 > 1.0e-9:\n",
      "\u001b[31m\u001b[1maborting\u001b[22m\u001b[39m with smp candidate PSW(1.4092354047541709, [2, 1, 1, 2, 1, 1, 2, 1, 2, 1, 1, 2, 1, 1, 2, 1, 2, 1, 1, 2, 1, 2, 1, 1, 2, 1, 1, 2, 1, 2, 1, 1, 2, 1, 1, 2, 1, 2, 1, 1, 2, 1, 2, 1, 1, 2, 1, 1, 2, 1, 2, 1, 1, 2, 1, 1, 2, 1, 2, 1, 1, 2, 1, 2, 1, 1, 2, 1, 1, 2, 1, 2, 1, 1, 2, 1, 1, 2, 1, 2, 1, 1, 2, 1, 2, 1, 1, 2, 1, 1, 2, 1, 2, 1, 1, 2, 1, 2, 1, 1, 2, 1, 1, 2, 1, 2, 1, 1, 2, 1, 2, 1, 1, 2, 1, 1, 2, 1, 2, 1, 1, 2, 1, 2, 1, 1, 2, 1, 1, 2, 1, 2, 1, 1, 2, 1, 2, 1, 1, 2, 1, 1, 2, 1, 2, 1, 1, 2, 1, 2, 1, 1, 2, 1, 1, 2, 1, 2, 1, 1, 2, 1, 2, 1, 1, 2, 1, 1, 2, 1, 2, 1, 1, 2, 1, 2, 1, 1, 2, 1, 1]) of length 181 after prefixing the suffix with 0 times the current s.m.p.Increase the value of the `max_smp_length` keyword argument to go further.\n",
      "\u001b[34m\u001b[1mNew candidate s.m.p. found\u001b[22m\u001b[39m because ⟨v_6*, v⟩ - 1 = 0.0004560318255448781 > 1.0e-9:\n",
      "\u001b[31m\u001b[1maborting\u001b[22m\u001b[39m with smp candidate PSW(1.4092354002394507, [2, 1, 1, 2, 1, 1, 2, 1, 2, 1, 1, 2, 1, 1, 2, 1, 2, 1, 1, 2, 1, 2, 1, 1, 2, 1, 1, 2, 1, 2, 1, 1, 2, 1, 1, 2, 1, 2, 1, 1, 2, 1, 2, 1, 1, 2, 1, 1, 2, 1, 2, 1, 1, 2, 1, 1, 2, 1, 2, 1, 1, 2, 1, 2, 1, 1, 2, 1, 1, 2, 1, 2, 1, 1, 2, 1, 2, 1, 1, 2, 1, 1, 2, 1, 2, 1, 1, 2, 1, 2, 1, 1, 2, 1, 1, 2, 1, 2, 1, 1, 2, 1, 2, 1, 1, 2, 1, 1, 2, 1, 2, 1, 1, 2, 1, 2, 1, 1, 2, 1, 1, 2, 1, 2, 1, 1, 2, 1, 2, 1, 1, 2, 1, 1, 2, 1, 2, 1, 1, 2, 1, 2, 1, 1, 2, 1, 1, 2, 1, 2, 1, 1, 2, 1, 2, 1, 1, 2, 1, 1, 2, 1, 2, 1, 1, 2, 1, 2, 1, 1, 2, 1, 1, 2, 1, 2, 1, 1, 2, 1, 1]) of length 181 after prefixing the suffix with 0 times the current s.m.p.Increase the value of the `max_smp_length` keyword argument to go further.\n",
      "Depth 182: [1102] points, 8 living leaves...\n",
      "Depth 183: [1110] points, 8 living leaves...\n",
      "\u001b[34m\u001b[1mNew candidate s.m.p. found\u001b[22m\u001b[39m because ⟨v_6*, v⟩ - 1 = 1.229752260023531e-7 > 1.0e-9:\n",
      "\u001b[31m\u001b[1maborting\u001b[22m\u001b[39m with smp candidate PSW(1.4092415782248007, [2, 1, 1, 2, 1, 1, 2, 1, 2, 1, 1, 2, 1, 1, 2, 1, 2, 1, 1, 2, 1, 2, 1, 1, 2, 1, 1, 2, 1, 2, 1, 1, 2, 1, 1, 2, 1, 2, 1, 1, 2, 1, 2, 1, 1, 2, 1, 1, 2, 1, 2, 1, 1, 2, 1, 2, 1, 1, 2, 1, 1, 2, 1, 2, 1, 1, 2, 1, 2, 1, 1, 2, 1, 1, 2, 1, 2, 1, 1, 2, 1, 2, 1, 1, 2, 1, 1, 2, 1, 2, 1, 1, 2, 1, 2, 1, 1, 2, 1, 1, 2, 1, 2, 1, 1, 2, 1, 2, 1, 1, 2, 1, 1, 2, 1, 2, 1, 1, 2, 1, 2, 1, 1, 2, 1, 1, 2, 1, 2, 1, 1, 2, 1, 2, 1, 1, 2, 1, 1, 2, 1, 2, 1, 1, 2, 1, 2, 1, 1, 2, 1, 1, 2, 1, 2, 1, 1, 2, 1, 2, 1, 1, 2, 1, 1, 2, 1, 2, 1, 1, 2, 1, 2, 1, 1, 2, 1, 1, 2, 1, 2, 1, 1]) of length 183 after prefixing the suffix with 0 times the current s.m.p.Increase the value of the `max_smp_length` keyword argument to go further.\n",
      "\u001b[34m\u001b[1mNew candidate s.m.p. found\u001b[22m\u001b[39m because ⟨v_6*, v⟩ - 1 = 1.2637630253387044e-7 > 1.0e-9:\n",
      "\u001b[31m\u001b[1maborting\u001b[22m\u001b[39m with smp candidate PSW(1.4092415781796963, [2, 1, 1, 2, 1, 1, 2, 1, 2, 1, 1, 2, 1, 1, 2, 1, 2, 1, 1, 2, 1, 2, 1, 1, 2, 1, 1, 2, 1, 2, 1, 1, 2, 1, 2, 1, 1, 2, 1, 1, 2, 1, 2, 1, 1, 2, 1, 2, 1, 1, 2, 1, 1, 2, 1, 2, 1, 1, 2, 1, 2, 1, 1, 2, 1, 1, 2, 1, 2, 1, 1, 2, 1, 2, 1, 1, 2, 1, 1, 2, 1, 2, 1, 1, 2, 1, 2, 1, 1, 2, 1, 1, 2, 1, 2, 1, 1, 2, 1, 2, 1, 1, 2, 1, 1, 2, 1, 2, 1, 1, 2, 1, 2, 1, 1, 2, 1, 1, 2, 1, 2, 1, 1, 2, 1, 2, 1, 1, 2, 1, 1, 2, 1, 2, 1, 1, 2, 1, 2, 1, 1, 2, 1, 1, 2, 1, 2, 1, 1, 2, 1, 2, 1, 1, 2, 1, 1, 2, 1, 2, 1, 1, 2, 1, 2, 1, 1, 2, 1, 1, 2, 1, 2, 1, 1, 2, 1, 1, 2, 1, 2, 1, 1]) of length 183 after prefixing the suffix with 0 times the current s.m.p.Increase the value of the `max_smp_length` keyword argument to go further.\n",
      "\u001b[34m\u001b[1mNew candidate s.m.p. found\u001b[22m\u001b[39m because ⟨v_6*, v⟩ - 1 = 0.00045570538393158166 > 1.0e-9:\n",
      "\u001b[31m\u001b[1maborting\u001b[22m\u001b[39m with smp candidate PSW(1.409235533904499, [2, 1, 1, 2, 1, 1, 2, 1, 2, 1, 1, 2, 1, 1, 2, 1, 2, 1, 1, 2, 1, 2, 1, 1, 2, 1, 1, 2, 1, 2, 1, 1, 2, 1, 2, 1, 1, 2, 1, 1, 2, 1, 2, 1, 1, 2, 1, 2, 1, 1, 2, 1, 1, 2, 1, 2, 1, 1, 2, 1, 2, 1, 1, 2, 1, 1, 2, 1, 2, 1, 1, 2, 1, 2, 1, 1, 2, 1, 1, 2, 1, 2, 1, 1, 2, 1, 2, 1, 1, 2, 1, 1, 2, 1, 2, 1, 1, 2, 1, 2, 1, 1, 2, 1, 1, 2, 1, 2, 1, 1, 2, 1, 2, 1, 1, 2, 1, 1, 2, 1, 2, 1, 1, 2, 1, 2, 1, 1, 2, 1, 1, 2, 1, 2, 1, 1, 2, 1, 2, 1, 1, 2, 1, 1, 2, 1, 2, 1, 1, 2, 1, 2, 1, 1, 2, 1, 1, 2, 1, 2, 1, 1, 2, 1, 2, 1, 1, 2, 1, 1, 2, 1, 2, 1, 1, 2, 1, 2, 1, 1, 2, 1, 1]) of length 183 after prefixing the suffix with 0 times the current s.m.p.Increase the value of the `max_smp_length` keyword argument to go further.\n",
      "\u001b[34m\u001b[1mNew candidate s.m.p. found\u001b[22m\u001b[39m because ⟨v_6*, v⟩ - 1 = 0.00045603319222409233 > 1.0e-9:\n",
      "\u001b[31m\u001b[1maborting\u001b[22m\u001b[39m with smp candidate PSW(1.409235533904499, [2, 1, 1, 2, 1, 1, 2, 1, 2, 1, 1, 2, 1, 2, 1, 1, 2, 1, 1, 2, 1, 2, 1, 1, 2, 1, 2, 1, 1, 2, 1, 1, 2, 1, 2, 1, 1, 2, 1, 2, 1, 1, 2, 1, 1, 2, 1, 2, 1, 1, 2, 1, 2, 1, 1, 2, 1, 1, 2, 1, 2, 1, 1, 2, 1, 2, 1, 1, 2, 1, 1, 2, 1, 2, 1, 1, 2, 1, 2, 1, 1, 2, 1, 1, 2, 1, 2, 1, 1, 2, 1, 2, 1, 1, 2, 1, 1, 2, 1, 2, 1, 1, 2, 1, 2, 1, 1, 2, 1, 1, 2, 1, 2, 1, 1, 2, 1, 2, 1, 1, 2, 1, 1, 2, 1, 2, 1, 1, 2, 1, 2, 1, 1, 2, 1, 1, 2, 1, 2, 1, 1, 2, 1, 2, 1, 1, 2, 1, 1, 2, 1, 2, 1, 1, 2, 1, 2, 1, 1, 2, 1, 1, 2, 1, 2, 1, 1, 2, 1, 2, 1, 1, 2, 1, 1, 2, 1, 2, 1, 1, 2, 1, 1]) of length 183 after prefixing the suffix with 0 times the current s.m.p.Increase the value of the `max_smp_length` keyword argument to go further.\n",
      "Depth 184: [1119] points, 9 living leaves...\n",
      "Depth 185: [1127] points, 8 living leaves...\n",
      "Depth 186: [1135] points, 8 living leaves...\n",
      "\u001b[34m\u001b[1mNew candidate s.m.p. found\u001b[22m\u001b[39m because ⟨v_6*, v⟩ - 1 = 1.2502474189268753e-7 > 1.0e-9:\n",
      "\u001b[31m\u001b[1maborting\u001b[22m\u001b[39m with smp candidate PSW(1.4092416692541956, [2, 1, 1, 2, 1, 1, 2, 1, 2, 1, 1, 2, 1, 1, 2, 1, 2, 1, 1, 2, 1, 2, 1, 1, 2, 1, 1, 2, 1, 2, 1, 1, 2, 1, 1, 2, 1, 2, 1, 1, 2, 1, 2, 1, 1, 2, 1, 1, 2, 1, 2, 1, 1, 2, 1, 1, 2, 1, 2, 1, 1, 2, 1, 2, 1, 1, 2, 1, 1, 2, 1, 2, 1, 1, 2, 1, 1, 2, 1, 2, 1, 1, 2, 1, 2, 1, 1, 2, 1, 1, 2, 1, 2, 1, 1, 2, 1, 2, 1, 1, 2, 1, 1, 2, 1, 2, 1, 1, 2, 1, 2, 1, 1, 2, 1, 1, 2, 1, 2, 1, 1, 2, 1, 2, 1, 1, 2, 1, 1, 2, 1, 2, 1, 1, 2, 1, 2, 1, 1, 2, 1, 1, 2, 1, 2, 1, 1, 2, 1, 2, 1, 1, 2, 1, 1, 2, 1, 2, 1, 1, 2, 1, 2, 1, 1, 2, 1, 1, 2, 1, 2, 1, 1, 2, 1, 2, 1, 1, 2, 1, 1, 2, 1, 2, 1, 1]) of length 186 after prefixing the suffix with 0 times the current s.m.p.Increase the value of the `max_smp_length` keyword argument to go further.\n",
      "\u001b[34m\u001b[1mNew candidate s.m.p. found\u001b[22m\u001b[39m because ⟨v_6*, v⟩ - 1 = 1.2842581842420486e-7 > 1.0e-9:\n",
      "\u001b[31m\u001b[1maborting\u001b[22m\u001b[39m with smp candidate PSW(1.4092416692098186, [2, 1, 1, 2, 1, 1, 2, 1, 2, 1, 1, 2, 1, 1, 2, 1, 2, 1, 1, 2, 1, 2, 1, 1, 2, 1, 1, 2, 1, 2, 1, 1, 2, 1, 1, 2, 1, 2, 1, 1, 2, 1, 2, 1, 1, 2, 1, 1, 2, 1, 2, 1, 1, 2, 1, 1, 2, 1, 2, 1, 1, 2, 1, 2, 1, 1, 2, 1, 1, 2, 1, 2, 1, 1, 2, 1, 2, 1, 1, 2, 1, 1, 2, 1, 2, 1, 1, 2, 1, 2, 1, 1, 2, 1, 1, 2, 1, 2, 1, 1, 2, 1, 2, 1, 1, 2, 1, 1, 2, 1, 2, 1, 1, 2, 1, 2, 1, 1, 2, 1, 1, 2, 1, 2, 1, 1, 2, 1, 2, 1, 1, 2, 1, 1, 2, 1, 2, 1, 1, 2, 1, 2, 1, 1, 2, 1, 1, 2, 1, 2, 1, 1, 2, 1, 2, 1, 1, 2, 1, 1, 2, 1, 2, 1, 1, 2, 1, 2, 1, 1, 2, 1, 1, 2, 1, 2, 1, 1, 2, 1, 1, 2, 1, 2, 1, 1]) of length 186 after prefixing the suffix with 0 times the current s.m.p.Increase the value of the `max_smp_length` keyword argument to go further.\n"
     ]
    },
    {
     "name": "stdout",
     "output_type": "stream",
     "text": [
      "\u001b[34m\u001b[1mNew candidate s.m.p. found\u001b[22m\u001b[39m because ⟨v_6*, v⟩ - 1 = 0.00045570743438116956 > 1.0e-9:\n",
      "\u001b[31m\u001b[1maborting\u001b[22m\u001b[39m with smp candidate PSW(1.4092357224223413, [2, 1, 1, 2, 1, 1, 2, 1, 2, 1, 1, 2, 1, 1, 2, 1, 2, 1, 1, 2, 1, 2, 1, 1, 2, 1, 1, 2, 1, 2, 1, 1, 2, 1, 1, 2, 1, 2, 1, 1, 2, 1, 2, 1, 1, 2, 1, 1, 2, 1, 2, 1, 1, 2, 1, 1, 2, 1, 2, 1, 1, 2, 1, 2, 1, 1, 2, 1, 1, 2, 1, 2, 1, 1, 2, 1, 2, 1, 1, 2, 1, 1, 2, 1, 2, 1, 1, 2, 1, 2, 1, 1, 2, 1, 1, 2, 1, 2, 1, 1, 2, 1, 2, 1, 1, 2, 1, 1, 2, 1, 2, 1, 1, 2, 1, 2, 1, 1, 2, 1, 1, 2, 1, 2, 1, 1, 2, 1, 2, 1, 1, 2, 1, 1, 2, 1, 2, 1, 1, 2, 1, 2, 1, 1, 2, 1, 1, 2, 1, 2, 1, 1, 2, 1, 2, 1, 1, 2, 1, 1, 2, 1, 2, 1, 1, 2, 1, 2, 1, 1, 2, 1, 1, 2, 1, 2, 1, 1, 2, 1, 2, 1, 1, 2, 1, 1]) of length 186 after prefixing the suffix with 0 times the current s.m.p.Increase the value of the `max_smp_length` keyword argument to go further.\n",
      "\u001b[34m\u001b[1mNew candidate s.m.p. found\u001b[22m\u001b[39m because ⟨v_6*, v⟩ - 1 = 0.00045603524267434636 > 1.0e-9:\n",
      "\u001b[31m\u001b[1maborting\u001b[22m\u001b[39m with smp candidate PSW(1.4092357180289838, [2, 1, 1, 2, 1, 1, 2, 1, 2, 1, 1, 2, 1, 1, 2, 1, 2, 1, 1, 2, 1, 2, 1, 1, 2, 1, 1, 2, 1, 2, 1, 1, 2, 1, 1, 2, 1, 2, 1, 1, 2, 1, 2, 1, 1, 2, 1, 1, 2, 1, 2, 1, 1, 2, 1, 2, 1, 1, 2, 1, 1, 2, 1, 2, 1, 1, 2, 1, 2, 1, 1, 2, 1, 1, 2, 1, 2, 1, 1, 2, 1, 2, 1, 1, 2, 1, 1, 2, 1, 2, 1, 1, 2, 1, 2, 1, 1, 2, 1, 1, 2, 1, 2, 1, 1, 2, 1, 2, 1, 1, 2, 1, 1, 2, 1, 2, 1, 1, 2, 1, 2, 1, 1, 2, 1, 1, 2, 1, 2, 1, 1, 2, 1, 2, 1, 1, 2, 1, 1, 2, 1, 2, 1, 1, 2, 1, 2, 1, 1, 2, 1, 1, 2, 1, 2, 1, 1, 2, 1, 2, 1, 1, 2, 1, 1, 2, 1, 2, 1, 1, 2, 1, 2, 1, 1, 2, 1, 1, 2, 1, 2, 1, 1, 2, 1, 1]) of length 186 after prefixing the suffix with 0 times the current s.m.p.Increase the value of the `max_smp_length` keyword argument to go further.\n",
      "Depth 187: [1143] points, 8 living leaves...\n",
      "Depth 188: [1151] points, 8 living leaves...\n",
      "\u001b[34m\u001b[1mNew candidate s.m.p. found\u001b[22m\u001b[39m because ⟨v_6*, v⟩ - 1 = 1.2639079827181376e-7 > 1.0e-9:\n",
      "\u001b[31m\u001b[1maborting\u001b[22m\u001b[39m with smp candidate PSW(1.4092417283264635, [2, 1, 1, 2, 1, 1, 2, 1, 2, 1, 1, 2, 1, 1, 2, 1, 2, 1, 1, 2, 1, 2, 1, 1, 2, 1, 1, 2, 1, 2, 1, 1, 2, 1, 2, 1, 1, 2, 1, 1, 2, 1, 2, 1, 1, 2, 1, 2, 1, 1, 2, 1, 1, 2, 1, 2, 1, 1, 2, 1, 2, 1, 1, 2, 1, 1, 2, 1, 2, 1, 1, 2, 1, 2, 1, 1, 2, 1, 1, 2, 1, 2, 1, 1, 2, 1, 2, 1, 1, 2, 1, 1, 2, 1, 2, 1, 1, 2, 1, 2, 1, 1, 2, 1, 1, 2, 1, 2, 1, 1, 2, 1, 2, 1, 1, 2, 1, 1, 2, 1, 2, 1, 1, 2, 1, 2, 1, 1, 2, 1, 1, 2, 1, 2, 1, 1, 2, 1, 2, 1, 1, 2, 1, 1, 2, 1, 2, 1, 1, 2, 1, 2, 1, 1, 2, 1, 1, 2, 1, 2, 1, 1, 2, 1, 2, 1, 1, 2, 1, 1, 2, 1, 2, 1, 1, 2, 1, 2, 1, 1, 2, 1, 1, 2, 1, 2, 1, 1]) of length 188 after prefixing the suffix with 0 times the current s.m.p.Increase the value of the `max_smp_length` keyword argument to go further.\n",
      "\u001b[34m\u001b[1mNew candidate s.m.p. found\u001b[22m\u001b[39m because ⟨v_6*, v⟩ - 1 = 1.297918748033311e-7 > 1.0e-9:\n",
      "\u001b[31m\u001b[1maborting\u001b[22m\u001b[39m with smp candidate PSW(1.4092417323407884, [2, 1, 1, 2, 1, 1, 2, 1, 2, 1, 1, 2, 1, 2, 1, 1, 2, 1, 1, 2, 1, 2, 1, 1, 2, 1, 2, 1, 1, 2, 1, 1, 2, 1, 2, 1, 1, 2, 1, 2, 1, 1, 2, 1, 1, 2, 1, 2, 1, 1, 2, 1, 2, 1, 1, 2, 1, 1, 2, 1, 2, 1, 1, 2, 1, 2, 1, 1, 2, 1, 1, 2, 1, 2, 1, 1, 2, 1, 2, 1, 1, 2, 1, 1, 2, 1, 2, 1, 1, 2, 1, 2, 1, 1, 2, 1, 1, 2, 1, 2, 1, 1, 2, 1, 2, 1, 1, 2, 1, 1, 2, 1, 2, 1, 1, 2, 1, 2, 1, 1, 2, 1, 1, 2, 1, 2, 1, 1, 2, 1, 2, 1, 1, 2, 1, 1, 2, 1, 2, 1, 1, 2, 1, 2, 1, 1, 2, 1, 1, 2, 1, 2, 1, 1, 2, 1, 2, 1, 1, 2, 1, 1, 2, 1, 2, 1, 1, 2, 1, 2, 1, 1, 2, 1, 1, 2, 1, 2, 1, 1, 2, 1, 1, 2, 1, 2, 1, 1]) of length 188 after prefixing the suffix with 0 times the current s.m.p.Increase the value of the `max_smp_length` keyword argument to go further.\n",
      "\u001b[34m\u001b[1mNew candidate s.m.p. found\u001b[22m\u001b[39m because ⟨v_6*, v⟩ - 1 = 0.00045570880105971767 > 1.0e-9:\n",
      "\u001b[31m\u001b[1maborting\u001b[22m\u001b[39m with smp candidate PSW(1.4092358491048083, [2, 1, 1, 2, 1, 1, 2, 1, 2, 1, 1, 2, 1, 2, 1, 1, 2, 1, 1, 2, 1, 2, 1, 1, 2, 1, 2, 1, 1, 2, 1, 1, 2, 1, 2, 1, 1, 2, 1, 2, 1, 1, 2, 1, 1, 2, 1, 2, 1, 1, 2, 1, 2, 1, 1, 2, 1, 1, 2, 1, 2, 1, 1, 2, 1, 2, 1, 1, 2, 1, 1, 2, 1, 2, 1, 1, 2, 1, 2, 1, 1, 2, 1, 1, 2, 1, 2, 1, 1, 2, 1, 2, 1, 1, 2, 1, 1, 2, 1, 2, 1, 1, 2, 1, 2, 1, 1, 2, 1, 1, 2, 1, 2, 1, 1, 2, 1, 2, 1, 1, 2, 1, 1, 2, 1, 2, 1, 1, 2, 1, 2, 1, 1, 2, 1, 1, 2, 1, 2, 1, 1, 2, 1, 2, 1, 1, 2, 1, 1, 2, 1, 2, 1, 1, 2, 1, 2, 1, 1, 2, 1, 1, 2, 1, 2, 1, 1, 2, 1, 2, 1, 1, 2, 1, 1, 2, 1, 2, 1, 1, 2, 1, 2, 1, 1, 2, 1, 1]) of length 188 after prefixing the suffix with 0 times the current s.m.p.Increase the value of the `max_smp_length` keyword argument to go further.\n",
      "Depth 189: [1159] points, 8 living leaves...\n",
      "\u001b[34m\u001b[1mNew candidate s.m.p. found\u001b[22m\u001b[39m because ⟨v_6*, v⟩ - 1 = 0.00045603729312437835 > 1.0e-9:\n",
      "\u001b[31m\u001b[1maborting\u001b[22m\u001b[39m with smp candidate PSW(1.4092359006318917, [2, 1, 1, 2, 1, 1, 2, 1, 2, 1, 1, 2, 1, 1, 2, 1, 2, 1, 1, 2, 1, 2, 1, 1, 2, 1, 1, 2, 1, 2, 1, 1, 2, 1, 1, 2, 1, 2, 1, 1, 2, 1, 2, 1, 1, 2, 1, 1, 2, 1, 2, 1, 1, 2, 1, 1, 2, 1, 2, 1, 1, 2, 1, 2, 1, 1, 2, 1, 1, 2, 1, 2, 1, 1, 2, 1, 1, 2, 1, 2, 1, 1, 2, 1, 2, 1, 1, 2, 1, 1, 2, 1, 2, 1, 1, 2, 1, 2, 1, 1, 2, 1, 1, 2, 1, 2, 1, 1, 2, 1, 2, 1, 1, 2, 1, 1, 2, 1, 2, 1, 1, 2, 1, 2, 1, 1, 2, 1, 1, 2, 1, 2, 1, 1, 2, 1, 2, 1, 1, 2, 1, 1, 2, 1, 2, 1, 1, 2, 1, 2, 1, 1, 2, 1, 1, 2, 1, 2, 1, 1, 2, 1, 2, 1, 1, 2, 1, 1, 2, 1, 2, 1, 1, 2, 1, 2, 1, 1, 2, 1, 1, 2, 1, 2, 1, 1, 2, 1, 1]) of length 189 after prefixing the suffix with 0 times the current s.m.p.Increase the value of the `max_smp_length` keyword argument to go further.\n",
      "Depth 190: [1167] points, 8 living leaves...\n",
      "Depth 191: [1175] points, 8 living leaves...\n",
      "\u001b[34m\u001b[1mNew candidate s.m.p. found\u001b[22m\u001b[39m because ⟨v_6*, v⟩ - 1 = 1.284403143841928e-7 > 1.0e-9:\n",
      "\u001b[31m\u001b[1maborting\u001b[22m\u001b[39m with smp candidate PSW(1.4092418146152814, [2, 1, 1, 2, 1, 1, 2, 1, 2, 1, 1, 2, 1, 1, 2, 1, 2, 1, 1, 2, 1, 2, 1, 1, 2, 1, 1, 2, 1, 2, 1, 1, 2, 1, 1, 2, 1, 2, 1, 1, 2, 1, 2, 1, 1, 2, 1, 1, 2, 1, 2, 1, 1, 2, 1, 1, 2, 1, 2, 1, 1, 2, 1, 2, 1, 1, 2, 1, 1, 2, 1, 2, 1, 1, 2, 1, 2, 1, 1, 2, 1, 1, 2, 1, 2, 1, 1, 2, 1, 2, 1, 1, 2, 1, 1, 2, 1, 2, 1, 1, 2, 1, 2, 1, 1, 2, 1, 1, 2, 1, 2, 1, 1, 2, 1, 2, 1, 1, 2, 1, 1, 2, 1, 2, 1, 1, 2, 1, 2, 1, 1, 2, 1, 1, 2, 1, 2, 1, 1, 2, 1, 2, 1, 1, 2, 1, 1, 2, 1, 2, 1, 1, 2, 1, 2, 1, 1, 2, 1, 1, 2, 1, 2, 1, 1, 2, 1, 2, 1, 1, 2, 1, 1, 2, 1, 2, 1, 1, 2, 1, 2, 1, 1, 2, 1, 1, 2, 1, 2, 1, 1]) of length 191 after prefixing the suffix with 0 times the current s.m.p.Increase the value of the `max_smp_length` keyword argument to go further.\n",
      "\u001b[34m\u001b[1mNew candidate s.m.p. found\u001b[22m\u001b[39m because ⟨v_6*, v⟩ - 1 = 1.3184139091571012e-7 > 1.0e-9:\n",
      "\u001b[31m\u001b[1maborting\u001b[22m\u001b[39m with smp candidate PSW(1.4092418145720662, [2, 1, 1, 2, 1, 1, 2, 1, 2, 1, 1, 2, 1, 1, 2, 1, 2, 1, 1, 2, 1, 2, 1, 1, 2, 1, 1, 2, 1, 2, 1, 1, 2, 1, 1, 2, 1, 2, 1, 1, 2, 1, 2, 1, 1, 2, 1, 1, 2, 1, 2, 1, 1, 2, 1, 2, 1, 1, 2, 1, 1, 2, 1, 2, 1, 1, 2, 1, 2, 1, 1, 2, 1, 1, 2, 1, 2, 1, 1, 2, 1, 2, 1, 1, 2, 1, 1, 2, 1, 2, 1, 1, 2, 1, 2, 1, 1, 2, 1, 1, 2, 1, 2, 1, 1, 2, 1, 2, 1, 1, 2, 1, 1, 2, 1, 2, 1, 1, 2, 1, 2, 1, 1, 2, 1, 1, 2, 1, 2, 1, 1, 2, 1, 2, 1, 1, 2, 1, 1, 2, 1, 2, 1, 1, 2, 1, 2, 1, 1, 2, 1, 1, 2, 1, 2, 1, 1, 2, 1, 2, 1, 1, 2, 1, 1, 2, 1, 2, 1, 1, 2, 1, 2, 1, 1, 2, 1, 1, 2, 1, 2, 1, 1, 2, 1, 1, 2, 1, 2, 1, 1]) of length 191 after prefixing the suffix with 0 times the current s.m.p.Increase the value of the `max_smp_length` keyword argument to go further.\n",
      "\u001b[34m\u001b[1mNew candidate s.m.p. found\u001b[22m\u001b[39m because ⟨v_6*, v⟩ - 1 = 0.00045571085150930557 > 1.0e-9:\n",
      "\u001b[31m\u001b[1maborting\u001b[22m\u001b[39m with smp candidate PSW(1.4092360234587364, [2, 1, 1, 2, 1, 1, 2, 1, 2, 1, 1, 2, 1, 1, 2, 1, 2, 1, 1, 2, 1, 2, 1, 1, 2, 1, 1, 2, 1, 2, 1, 1, 2, 1, 1, 2, 1, 2, 1, 1, 2, 1, 2, 1, 1, 2, 1, 1, 2, 1, 2, 1, 1, 2, 1, 2, 1, 1, 2, 1, 1, 2, 1, 2, 1, 1, 2, 1, 2, 1, 1, 2, 1, 1, 2, 1, 2, 1, 1, 2, 1, 2, 1, 1, 2, 1, 1, 2, 1, 2, 1, 1, 2, 1, 2, 1, 1, 2, 1, 1, 2, 1, 2, 1, 1, 2, 1, 2, 1, 1, 2, 1, 1, 2, 1, 2, 1, 1, 2, 1, 2, 1, 1, 2, 1, 1, 2, 1, 2, 1, 1, 2, 1, 2, 1, 1, 2, 1, 1, 2, 1, 2, 1, 1, 2, 1, 2, 1, 1, 2, 1, 1, 2, 1, 2, 1, 1, 2, 1, 2, 1, 1, 2, 1, 1, 2, 1, 2, 1, 1, 2, 1, 2, 1, 1, 2, 1, 1, 2, 1, 2, 1, 1, 2, 1, 2, 1, 1, 2, 1, 1]) of length 191 after prefixing the suffix with 0 times the current s.m.p.Increase the value of the `max_smp_length` keyword argument to go further.\n"
     ]
    },
    {
     "name": "stdout",
     "output_type": "stream",
     "text": [
      "\u001b[34m\u001b[1mNew candidate s.m.p. found\u001b[22m\u001b[39m because ⟨v_6*, v⟩ - 1 = 0.00045603865980381464 > 1.0e-9:\n",
      "\u001b[31m\u001b[1maborting\u001b[22m\u001b[39m with smp candidate PSW(1.4092360191803872, [2, 1, 1, 2, 1, 1, 2, 1, 2, 1, 1, 2, 1, 1, 2, 1, 2, 1, 1, 2, 1, 2, 1, 1, 2, 1, 1, 2, 1, 2, 1, 1, 2, 1, 2, 1, 1, 2, 1, 1, 2, 1, 2, 1, 1, 2, 1, 2, 1, 1, 2, 1, 1, 2, 1, 2, 1, 1, 2, 1, 2, 1, 1, 2, 1, 1, 2, 1, 2, 1, 1, 2, 1, 2, 1, 1, 2, 1, 1, 2, 1, 2, 1, 1, 2, 1, 2, 1, 1, 2, 1, 1, 2, 1, 2, 1, 1, 2, 1, 2, 1, 1, 2, 1, 1, 2, 1, 2, 1, 1, 2, 1, 2, 1, 1, 2, 1, 1, 2, 1, 2, 1, 1, 2, 1, 2, 1, 1, 2, 1, 1, 2, 1, 2, 1, 1, 2, 1, 2, 1, 1, 2, 1, 1, 2, 1, 2, 1, 1, 2, 1, 2, 1, 1, 2, 1, 1, 2, 1, 2, 1, 1, 2, 1, 2, 1, 1, 2, 1, 1, 2, 1, 2, 1, 1, 2, 1, 2, 1, 1, 2, 1, 1, 2, 1, 2, 1, 1, 2, 1, 1]) of length 191 after prefixing the suffix with 0 times the current s.m.p.Increase the value of the `max_smp_length` keyword argument to go further.\n",
      "Depth 192: [1183] points, 8 living leaves...\n",
      "Depth 193: [1191] points, 8 living leaves...\n",
      "\u001b[34m\u001b[1mNew candidate s.m.p. found\u001b[22m\u001b[39m because ⟨v_6*, v⟩ - 1 = 1.2980637054127442e-7 > 1.0e-9:\n",
      "\u001b[31m\u001b[1maborting\u001b[22m\u001b[39m with smp candidate PSW(1.4092418746039452, [2, 1, 1, 2, 1, 1, 2, 1, 2, 1, 1, 2, 1, 2, 1, 1, 2, 1, 1, 2, 1, 2, 1, 1, 2, 1, 2, 1, 1, 2, 1, 1, 2, 1, 2, 1, 1, 2, 1, 2, 1, 1, 2, 1, 1, 2, 1, 2, 1, 1, 2, 1, 2, 1, 1, 2, 1, 1, 2, 1, 2, 1, 1, 2, 1, 2, 1, 1, 2, 1, 1, 2, 1, 2, 1, 1, 2, 1, 2, 1, 1, 2, 1, 1, 2, 1, 2, 1, 1, 2, 1, 2, 1, 1, 2, 1, 1, 2, 1, 2, 1, 1, 2, 1, 2, 1, 1, 2, 1, 1, 2, 1, 2, 1, 1, 2, 1, 2, 1, 1, 2, 1, 1, 2, 1, 2, 1, 1, 2, 1, 2, 1, 1, 2, 1, 1, 2, 1, 2, 1, 1, 2, 1, 2, 1, 1, 2, 1, 1, 2, 1, 2, 1, 1, 2, 1, 2, 1, 1, 2, 1, 1, 2, 1, 2, 1, 1, 2, 1, 2, 1, 1, 2, 1, 1, 2, 1, 2, 1, 1, 2, 1, 2, 1, 1, 2, 1, 1, 2, 1, 2, 1, 1]) of length 193 after prefixing the suffix with 0 times the current s.m.p.Increase the value of the `max_smp_length` keyword argument to go further.\n",
      "Depth 194: [1199] points, 8 living leaves...\n",
      "\u001b[34m\u001b[1mNew candidate s.m.p. found\u001b[22m\u001b[39m because ⟨v_6*, v⟩ - 1 = 1.3389090636195533e-7 > 1.0e-9:\n",
      "\u001b[31m\u001b[1maborting\u001b[22m\u001b[39m with smp candidate PSW(1.409241898192831, [2, 1, 1, 2, 1, 1, 2, 1, 2, 1, 1, 2, 1, 1, 2, 1, 2, 1, 1, 2, 1, 2, 1, 1, 2, 1, 1, 2, 1, 2, 1, 1, 2, 1, 1, 2, 1, 2, 1, 1, 2, 1, 2, 1, 1, 2, 1, 1, 2, 1, 2, 1, 1, 2, 1, 1, 2, 1, 2, 1, 1, 2, 1, 2, 1, 1, 2, 1, 1, 2, 1, 2, 1, 1, 2, 1, 1, 2, 1, 2, 1, 1, 2, 1, 2, 1, 1, 2, 1, 1, 2, 1, 2, 1, 1, 2, 1, 2, 1, 1, 2, 1, 1, 2, 1, 2, 1, 1, 2, 1, 2, 1, 1, 2, 1, 1, 2, 1, 2, 1, 1, 2, 1, 2, 1, 1, 2, 1, 1, 2, 1, 2, 1, 1, 2, 1, 2, 1, 1, 2, 1, 1, 2, 1, 2, 1, 1, 2, 1, 2, 1, 1, 2, 1, 1, 2, 1, 2, 1, 1, 2, 1, 2, 1, 1, 2, 1, 1, 2, 1, 2, 1, 1, 2, 1, 2, 1, 1, 2, 1, 1, 2, 1, 2, 1, 1, 2, 1, 1, 2, 1, 2, 1, 1]) of length 194 after prefixing the suffix with 0 times the current s.m.p.Increase the value of the `max_smp_length` keyword argument to go further.\n",
      "\u001b[34m\u001b[1mNew candidate s.m.p. found\u001b[22m\u001b[39m because ⟨v_6*, v⟩ - 1 = 0.00045571290195889347 > 1.0e-9:\n",
      "\u001b[31m\u001b[1maborting\u001b[22m\u001b[39m with smp candidate PSW(1.4092361966322806, [2, 1, 1, 2, 1, 1, 2, 1, 2, 1, 1, 2, 1, 1, 2, 1, 2, 1, 1, 2, 1, 2, 1, 1, 2, 1, 1, 2, 1, 2, 1, 1, 2, 1, 1, 2, 1, 2, 1, 1, 2, 1, 2, 1, 1, 2, 1, 1, 2, 1, 2, 1, 1, 2, 1, 1, 2, 1, 2, 1, 1, 2, 1, 2, 1, 1, 2, 1, 1, 2, 1, 2, 1, 1, 2, 1, 1, 2, 1, 2, 1, 1, 2, 1, 2, 1, 1, 2, 1, 1, 2, 1, 2, 1, 1, 2, 1, 2, 1, 1, 2, 1, 1, 2, 1, 2, 1, 1, 2, 1, 2, 1, 1, 2, 1, 1, 2, 1, 2, 1, 1, 2, 1, 2, 1, 1, 2, 1, 1, 2, 1, 2, 1, 1, 2, 1, 2, 1, 1, 2, 1, 1, 2, 1, 2, 1, 1, 2, 1, 2, 1, 1, 2, 1, 1, 2, 1, 2, 1, 1, 2, 1, 2, 1, 1, 2, 1, 1, 2, 1, 2, 1, 1, 2, 1, 2, 1, 1, 2, 1, 1, 2, 1, 2, 1, 1, 2, 1, 2, 1, 1, 2, 1, 1]) of length 194 after prefixing the suffix with 0 times the current s.m.p.Increase the value of the `max_smp_length` keyword argument to go further.\n",
      "\u001b[34m\u001b[1mNew candidate s.m.p. found\u001b[22m\u001b[39m because ⟨v_6*, v⟩ - 1 = 0.00045604071025406867 > 1.0e-9:\n",
      "\u001b[31m\u001b[1maborting\u001b[22m\u001b[39m with smp candidate PSW(1.4092361924200911, [2, 1, 1, 2, 1, 1, 2, 1, 2, 1, 1, 2, 1, 1, 2, 1, 2, 1, 1, 2, 1, 2, 1, 1, 2, 1, 1, 2, 1, 2, 1, 1, 2, 1, 1, 2, 1, 2, 1, 1, 2, 1, 2, 1, 1, 2, 1, 1, 2, 1, 2, 1, 1, 2, 1, 1, 2, 1, 2, 1, 1, 2, 1, 2, 1, 1, 2, 1, 1, 2, 1, 2, 1, 1, 2, 1, 2, 1, 1, 2, 1, 1, 2, 1, 2, 1, 1, 2, 1, 2, 1, 1, 2, 1, 1, 2, 1, 2, 1, 1, 2, 1, 2, 1, 1, 2, 1, 1, 2, 1, 2, 1, 1, 2, 1, 2, 1, 1, 2, 1, 1, 2, 1, 2, 1, 1, 2, 1, 2, 1, 1, 2, 1, 1, 2, 1, 2, 1, 1, 2, 1, 2, 1, 1, 2, 1, 1, 2, 1, 2, 1, 1, 2, 1, 2, 1, 1, 2, 1, 1, 2, 1, 2, 1, 1, 2, 1, 2, 1, 1, 2, 1, 1, 2, 1, 2, 1, 1, 2, 1, 2, 1, 1, 2, 1, 1, 2, 1, 2, 1, 1, 2, 1, 1]) of length 194 after prefixing the suffix with 0 times the current s.m.p.Increase the value of the `max_smp_length` keyword argument to go further.\n",
      "Depth 195: [1207] points, 8 living leaves...\n",
      "Depth 196: [1215] points, 8 living leaves...\n",
      "\u001b[34m\u001b[1mNew candidate s.m.p. found\u001b[22m\u001b[39m because ⟨v_6*, v⟩ - 1 = 1.3185588643160884e-7 > 1.0e-9:\n",
      "\u001b[31m\u001b[1maborting\u001b[22m\u001b[39m with smp candidate PSW(1.409241952559999, [2, 1, 1, 2, 1, 1, 2, 1, 2, 1, 1, 2, 1, 1, 2, 1, 2, 1, 1, 2, 1, 2, 1, 1, 2, 1, 1, 2, 1, 2, 1, 1, 2, 1, 1, 2, 1, 2, 1, 1, 2, 1, 2, 1, 1, 2, 1, 1, 2, 1, 2, 1, 1, 2, 1, 2, 1, 1, 2, 1, 1, 2, 1, 2, 1, 1, 2, 1, 2, 1, 1, 2, 1, 1, 2, 1, 2, 1, 1, 2, 1, 2, 1, 1, 2, 1, 1, 2, 1, 2, 1, 1, 2, 1, 2, 1, 1, 2, 1, 1, 2, 1, 2, 1, 1, 2, 1, 2, 1, 1, 2, 1, 1, 2, 1, 2, 1, 1, 2, 1, 2, 1, 1, 2, 1, 1, 2, 1, 2, 1, 1, 2, 1, 2, 1, 1, 2, 1, 1, 2, 1, 2, 1, 1, 2, 1, 2, 1, 1, 2, 1, 1, 2, 1, 2, 1, 1, 2, 1, 2, 1, 1, 2, 1, 1, 2, 1, 2, 1, 1, 2, 1, 2, 1, 1, 2, 1, 1, 2, 1, 2, 1, 1, 2, 1, 2, 1, 1, 2, 1, 1, 2, 1, 2, 1, 1]) of length 196 after prefixing the suffix with 0 times the current s.m.p.Increase the value of the `max_smp_length` keyword argument to go further.\n",
      "\u001b[34m\u001b[1mNew candidate s.m.p. found\u001b[22m\u001b[39m because ⟨v_6*, v⟩ - 1 = 1.3525696296312617e-7 > 1.0e-9:\n",
      "\u001b[31m\u001b[1maborting\u001b[22m\u001b[39m with smp candidate PSW(1.4092419525178863, [2, 1, 1, 2, 1, 1, 2, 1, 2, 1, 1, 2, 1, 1, 2, 1, 2, 1, 1, 2, 1, 2, 1, 1, 2, 1, 1, 2, 1, 2, 1, 1, 2, 1, 2, 1, 1, 2, 1, 1, 2, 1, 2, 1, 1, 2, 1, 2, 1, 1, 2, 1, 1, 2, 1, 2, 1, 1, 2, 1, 2, 1, 1, 2, 1, 1, 2, 1, 2, 1, 1, 2, 1, 2, 1, 1, 2, 1, 1, 2, 1, 2, 1, 1, 2, 1, 2, 1, 1, 2, 1, 1, 2, 1, 2, 1, 1, 2, 1, 2, 1, 1, 2, 1, 1, 2, 1, 2, 1, 1, 2, 1, 2, 1, 1, 2, 1, 1, 2, 1, 2, 1, 1, 2, 1, 2, 1, 1, 2, 1, 1, 2, 1, 2, 1, 1, 2, 1, 2, 1, 1, 2, 1, 1, 2, 1, 2, 1, 1, 2, 1, 2, 1, 1, 2, 1, 1, 2, 1, 2, 1, 1, 2, 1, 2, 1, 1, 2, 1, 1, 2, 1, 2, 1, 1, 2, 1, 2, 1, 1, 2, 1, 1, 2, 1, 2, 1, 1, 2, 1, 1, 2, 1, 2, 1, 1]) of length 196 after prefixing the suffix with 0 times the current s.m.p.Increase the value of the `max_smp_length` keyword argument to go further.\n",
      "\u001b[34m\u001b[1mNew candidate s.m.p. found\u001b[22m\u001b[39m because ⟨v_6*, v⟩ - 1 = 0.0004557142686374416 > 1.0e-9:\n",
      "\u001b[31m\u001b[1maborting\u001b[22m\u001b[39m with smp candidate PSW(1.4092363091361912, [2, 1, 1, 2, 1, 1, 2, 1, 2, 1, 1, 2, 1, 1, 2, 1, 2, 1, 1, 2, 1, 2, 1, 1, 2, 1, 1, 2, 1, 2, 1, 1, 2, 1, 2, 1, 1, 2, 1, 1, 2, 1, 2, 1, 1, 2, 1, 2, 1, 1, 2, 1, 1, 2, 1, 2, 1, 1, 2, 1, 2, 1, 1, 2, 1, 1, 2, 1, 2, 1, 1, 2, 1, 2, 1, 1, 2, 1, 1, 2, 1, 2, 1, 1, 2, 1, 2, 1, 1, 2, 1, 1, 2, 1, 2, 1, 1, 2, 1, 2, 1, 1, 2, 1, 1, 2, 1, 2, 1, 1, 2, 1, 2, 1, 1, 2, 1, 1, 2, 1, 2, 1, 1, 2, 1, 2, 1, 1, 2, 1, 1, 2, 1, 2, 1, 1, 2, 1, 2, 1, 1, 2, 1, 1, 2, 1, 2, 1, 1, 2, 1, 2, 1, 1, 2, 1, 1, 2, 1, 2, 1, 1, 2, 1, 2, 1, 1, 2, 1, 1, 2, 1, 2, 1, 1, 2, 1, 2, 1, 1, 2, 1, 1, 2, 1, 2, 1, 1, 2, 1, 2, 1, 1, 2, 1, 1]) of length 196 after prefixing the suffix with 0 times the current s.m.p.Increase the value of the `max_smp_length` keyword argument to go further.\n",
      "\u001b[34m\u001b[1mNew candidate s.m.p. found\u001b[22m\u001b[39m because ⟨v_6*, v⟩ - 1 = 0.0004560420769332829 > 1.0e-9:\n",
      "\u001b[31m\u001b[1maborting\u001b[22m\u001b[39m with smp candidate PSW(1.4092363091361912, [2, 1, 1, 2, 1, 1, 2, 1, 2, 1, 1, 2, 1, 2, 1, 1, 2, 1, 1, 2, 1, 2, 1, 1, 2, 1, 2, 1, 1, 2, 1, 1, 2, 1, 2, 1, 1, 2, 1, 2, 1, 1, 2, 1, 1, 2, 1, 2, 1, 1, 2, 1, 2, 1, 1, 2, 1, 1, 2, 1, 2, 1, 1, 2, 1, 2, 1, 1, 2, 1, 1, 2, 1, 2, 1, 1, 2, 1, 2, 1, 1, 2, 1, 1, 2, 1, 2, 1, 1, 2, 1, 2, 1, 1, 2, 1, 1, 2, 1, 2, 1, 1, 2, 1, 2, 1, 1, 2, 1, 1, 2, 1, 2, 1, 1, 2, 1, 2, 1, 1, 2, 1, 1, 2, 1, 2, 1, 1, 2, 1, 2, 1, 1, 2, 1, 1, 2, 1, 2, 1, 1, 2, 1, 2, 1, 1, 2, 1, 1, 2, 1, 2, 1, 1, 2, 1, 2, 1, 1, 2, 1, 1, 2, 1, 2, 1, 1, 2, 1, 2, 1, 1, 2, 1, 1, 2, 1, 2, 1, 1, 2, 1, 2, 1, 1, 2, 1, 1, 2, 1, 2, 1, 1, 2, 1, 1]) of length 196 after prefixing the suffix with 0 times the current s.m.p.Increase the value of the `max_smp_length` keyword argument to go further.\n",
      "Depth 197: [1224] points, 9 living leaves...\n"
     ]
    },
    {
     "name": "stdout",
     "output_type": "stream",
     "text": [
      "Depth 198: [1232] points, 8 living leaves...\n",
      "Depth 199: [1240] points, 8 living leaves...\n",
      "\u001b[34m\u001b[1mNew candidate s.m.p. found\u001b[22m\u001b[39m because ⟨v_6*, v⟩ - 1 = 1.3390540232194326e-7 > 1.0e-9:\n",
      "\u001b[31m\u001b[1maborting\u001b[22m\u001b[39m with smp candidate PSW(1.4092420319995274, [2, 1, 1, 2, 1, 1, 2, 1, 2, 1, 1, 2, 1, 1, 2, 1, 2, 1, 1, 2, 1, 2, 1, 1, 2, 1, 1, 2, 1, 2, 1, 1, 2, 1, 1, 2, 1, 2, 1, 1, 2, 1, 2, 1, 1, 2, 1, 1, 2, 1, 2, 1, 1, 2, 1, 1, 2, 1, 2, 1, 1, 2, 1, 2, 1, 1, 2, 1, 1, 2, 1, 2, 1, 1, 2, 1, 1, 2, 1, 2, 1, 1, 2, 1, 2, 1, 1, 2, 1, 1, 2, 1, 2, 1, 1, 2, 1, 2, 1, 1, 2, 1, 1, 2, 1, 2, 1, 1, 2, 1, 2, 1, 1, 2, 1, 1, 2, 1, 2, 1, 1, 2, 1, 2, 1, 1, 2, 1, 1, 2, 1, 2, 1, 1, 2, 1, 2, 1, 1, 2, 1, 1, 2, 1, 2, 1, 1, 2, 1, 2, 1, 1, 2, 1, 1, 2, 1, 2, 1, 1, 2, 1, 2, 1, 1, 2, 1, 1, 2, 1, 2, 1, 1, 2, 1, 2, 1, 1, 2, 1, 1, 2, 1, 2, 1, 1, 2, 1, 2, 1, 1, 2, 1, 1, 2, 1, 2, 1, 1]) of length 199 after prefixing the suffix with 0 times the current s.m.p.Increase the value of the `max_smp_length` keyword argument to go further.\n",
      "\u001b[34m\u001b[1mNew candidate s.m.p. found\u001b[22m\u001b[39m because ⟨v_6*, v⟩ - 1 = 1.373064790755052e-7 > 1.0e-9:\n",
      "\u001b[31m\u001b[1maborting\u001b[22m\u001b[39m with smp candidate PSW(1.4092420319580494, [2, 1, 1, 2, 1, 1, 2, 1, 2, 1, 1, 2, 1, 1, 2, 1, 2, 1, 1, 2, 1, 2, 1, 1, 2, 1, 1, 2, 1, 2, 1, 1, 2, 1, 1, 2, 1, 2, 1, 1, 2, 1, 2, 1, 1, 2, 1, 1, 2, 1, 2, 1, 1, 2, 1, 1, 2, 1, 2, 1, 1, 2, 1, 2, 1, 1, 2, 1, 1, 2, 1, 2, 1, 1, 2, 1, 2, 1, 1, 2, 1, 1, 2, 1, 2, 1, 1, 2, 1, 2, 1, 1, 2, 1, 1, 2, 1, 2, 1, 1, 2, 1, 2, 1, 1, 2, 1, 1, 2, 1, 2, 1, 1, 2, 1, 2, 1, 1, 2, 1, 1, 2, 1, 2, 1, 1, 2, 1, 2, 1, 1, 2, 1, 1, 2, 1, 2, 1, 1, 2, 1, 2, 1, 1, 2, 1, 1, 2, 1, 2, 1, 1, 2, 1, 2, 1, 1, 2, 1, 1, 2, 1, 2, 1, 1, 2, 1, 2, 1, 1, 2, 1, 1, 2, 1, 2, 1, 1, 2, 1, 2, 1, 1, 2, 1, 1, 2, 1, 2, 1, 1, 2, 1, 1, 2, 1, 2, 1, 1]) of length 199 after prefixing the suffix with 0 times the current s.m.p.Increase the value of the `max_smp_length` keyword argument to go further.\n",
      "\u001b[34m\u001b[1mNew candidate s.m.p. found\u001b[22m\u001b[39m because ⟨v_6*, v⟩ - 1 = 0.00045571631908747356 > 1.0e-9:\n",
      "\u001b[31m\u001b[1maborting\u001b[22m\u001b[39m with smp candidate PSW(1.4092364736519791, [2, 1, 1, 2, 1, 1, 2, 1, 2, 1, 1, 2, 1, 1, 2, 1, 2, 1, 1, 2, 1, 2, 1, 1, 2, 1, 1, 2, 1, 2, 1, 1, 2, 1, 1, 2, 1, 2, 1, 1, 2, 1, 2, 1, 1, 2, 1, 1, 2, 1, 2, 1, 1, 2, 1, 1, 2, 1, 2, 1, 1, 2, 1, 2, 1, 1, 2, 1, 1, 2, 1, 2, 1, 1, 2, 1, 2, 1, 1, 2, 1, 1, 2, 1, 2, 1, 1, 2, 1, 2, 1, 1, 2, 1, 1, 2, 1, 2, 1, 1, 2, 1, 2, 1, 1, 2, 1, 1, 2, 1, 2, 1, 1, 2, 1, 2, 1, 1, 2, 1, 1, 2, 1, 2, 1, 1, 2, 1, 2, 1, 1, 2, 1, 1, 2, 1, 2, 1, 1, 2, 1, 2, 1, 1, 2, 1, 1, 2, 1, 2, 1, 1, 2, 1, 2, 1, 1, 2, 1, 1, 2, 1, 2, 1, 1, 2, 1, 2, 1, 1, 2, 1, 1, 2, 1, 2, 1, 1, 2, 1, 2, 1, 1, 2, 1, 1, 2, 1, 2, 1, 1, 2, 1, 2, 1, 1, 2, 1, 1]) of length 199 after prefixing the suffix with 0 times the current s.m.p.Increase the value of the `max_smp_length` keyword argument to go further.\n",
      "\u001b[34m\u001b[1mNew candidate s.m.p. found\u001b[22m\u001b[39m because ⟨v_6*, v⟩ - 1 = 0.000456044127383759 > 1.0e-9:\n",
      "\u001b[31m\u001b[1maborting\u001b[22m\u001b[39m with smp candidate PSW(1.4092364695456228, [2, 1, 1, 2, 1, 1, 2, 1, 2, 1, 1, 2, 1, 1, 2, 1, 2, 1, 1, 2, 1, 2, 1, 1, 2, 1, 1, 2, 1, 2, 1, 1, 2, 1, 1, 2, 1, 2, 1, 1, 2, 1, 2, 1, 1, 2, 1, 1, 2, 1, 2, 1, 1, 2, 1, 2, 1, 1, 2, 1, 1, 2, 1, 2, 1, 1, 2, 1, 2, 1, 1, 2, 1, 1, 2, 1, 2, 1, 1, 2, 1, 2, 1, 1, 2, 1, 1, 2, 1, 2, 1, 1, 2, 1, 2, 1, 1, 2, 1, 1, 2, 1, 2, 1, 1, 2, 1, 2, 1, 1, 2, 1, 1, 2, 1, 2, 1, 1, 2, 1, 2, 1, 1, 2, 1, 1, 2, 1, 2, 1, 1, 2, 1, 2, 1, 1, 2, 1, 1, 2, 1, 2, 1, 1, 2, 1, 2, 1, 1, 2, 1, 1, 2, 1, 2, 1, 1, 2, 1, 2, 1, 1, 2, 1, 1, 2, 1, 2, 1, 1, 2, 1, 2, 1, 1, 2, 1, 1, 2, 1, 2, 1, 1, 2, 1, 2, 1, 1, 2, 1, 1, 2, 1, 2, 1, 1, 2, 1, 1]) of length 199 after prefixing the suffix with 0 times the current s.m.p.Increase the value of the `max_smp_length` keyword argument to go further.\n",
      "Depth 200: [1248] points, 8 living leaves...\n",
      "Depth 201: [1256] points, 8 living leaves...\n",
      "\u001b[34m\u001b[1mNew candidate s.m.p. found\u001b[22m\u001b[39m because ⟨v_6*, v⟩ - 1 = 1.3527145825698028e-7 > 1.0e-9:\n",
      "\u001b[31m\u001b[1maborting\u001b[22m\u001b[39m with smp candidate PSW(1.4092420836418083, [2, 1, 1, 2, 1, 1, 2, 1, 2, 1, 1, 2, 1, 1, 2, 1, 2, 1, 1, 2, 1, 2, 1, 1, 2, 1, 1, 2, 1, 2, 1, 1, 2, 1, 2, 1, 1, 2, 1, 1, 2, 1, 2, 1, 1, 2, 1, 2, 1, 1, 2, 1, 1, 2, 1, 2, 1, 1, 2, 1, 2, 1, 1, 2, 1, 1, 2, 1, 2, 1, 1, 2, 1, 2, 1, 1, 2, 1, 1, 2, 1, 2, 1, 1, 2, 1, 2, 1, 1, 2, 1, 1, 2, 1, 2, 1, 1, 2, 1, 2, 1, 1, 2, 1, 1, 2, 1, 2, 1, 1, 2, 1, 2, 1, 1, 2, 1, 1, 2, 1, 2, 1, 1, 2, 1, 2, 1, 1, 2, 1, 1, 2, 1, 2, 1, 1, 2, 1, 2, 1, 1, 2, 1, 1, 2, 1, 2, 1, 1, 2, 1, 2, 1, 1, 2, 1, 1, 2, 1, 2, 1, 1, 2, 1, 2, 1, 1, 2, 1, 1, 2, 1, 2, 1, 1, 2, 1, 2, 1, 1, 2, 1, 1, 2, 1, 2, 1, 1, 2, 1, 2, 1, 1, 2, 1, 1, 2, 1, 2, 1, 1]) of length 201 after prefixing the suffix with 0 times the current s.m.p.Increase the value of the `max_smp_length` keyword argument to go further.\n",
      "\u001b[34m\u001b[1mNew candidate s.m.p. found\u001b[22m\u001b[39m because ⟨v_6*, v⟩ - 1 = 1.3867253523258682e-7 > 1.0e-9:\n",
      "\u001b[31m\u001b[1maborting\u001b[22m\u001b[39m with smp candidate PSW(1.4092420873965008, [2, 1, 1, 2, 1, 1, 2, 1, 2, 1, 1, 2, 1, 2, 1, 1, 2, 1, 1, 2, 1, 2, 1, 1, 2, 1, 2, 1, 1, 2, 1, 1, 2, 1, 2, 1, 1, 2, 1, 2, 1, 1, 2, 1, 1, 2, 1, 2, 1, 1, 2, 1, 2, 1, 1, 2, 1, 1, 2, 1, 2, 1, 1, 2, 1, 2, 1, 1, 2, 1, 1, 2, 1, 2, 1, 1, 2, 1, 2, 1, 1, 2, 1, 1, 2, 1, 2, 1, 1, 2, 1, 2, 1, 1, 2, 1, 1, 2, 1, 2, 1, 1, 2, 1, 2, 1, 1, 2, 1, 1, 2, 1, 2, 1, 1, 2, 1, 2, 1, 1, 2, 1, 1, 2, 1, 2, 1, 1, 2, 1, 2, 1, 1, 2, 1, 1, 2, 1, 2, 1, 1, 2, 1, 2, 1, 1, 2, 1, 1, 2, 1, 2, 1, 1, 2, 1, 2, 1, 1, 2, 1, 1, 2, 1, 2, 1, 1, 2, 1, 2, 1, 1, 2, 1, 1, 2, 1, 2, 1, 1, 2, 1, 2, 1, 1, 2, 1, 1, 2, 1, 2, 1, 1, 2, 1, 1, 2, 1, 2, 1, 1]) of length 201 after prefixing the suffix with 0 times the current s.m.p.Increase the value of the `max_smp_length` keyword argument to go further.\n",
      "\u001b[34m\u001b[1mNew candidate s.m.p. found\u001b[22m\u001b[39m because ⟨v_6*, v⟩ - 1 = 0.0004557176857660217 > 1.0e-9:\n",
      "\u001b[31m\u001b[1maborting\u001b[22m\u001b[39m with smp candidate PSW(1.4092365846661912, [2, 1, 1, 2, 1, 1, 2, 1, 2, 1, 1, 2, 1, 2, 1, 1, 2, 1, 1, 2, 1, 2, 1, 1, 2, 1, 2, 1, 1, 2, 1, 1, 2, 1, 2, 1, 1, 2, 1, 2, 1, 1, 2, 1, 1, 2, 1, 2, 1, 1, 2, 1, 2, 1, 1, 2, 1, 1, 2, 1, 2, 1, 1, 2, 1, 2, 1, 1, 2, 1, 1, 2, 1, 2, 1, 1, 2, 1, 2, 1, 1, 2, 1, 1, 2, 1, 2, 1, 1, 2, 1, 2, 1, 1, 2, 1, 1, 2, 1, 2, 1, 1, 2, 1, 2, 1, 1, 2, 1, 1, 2, 1, 2, 1, 1, 2, 1, 2, 1, 1, 2, 1, 1, 2, 1, 2, 1, 1, 2, 1, 2, 1, 1, 2, 1, 1, 2, 1, 2, 1, 1, 2, 1, 2, 1, 1, 2, 1, 1, 2, 1, 2, 1, 1, 2, 1, 2, 1, 1, 2, 1, 1, 2, 1, 2, 1, 1, 2, 1, 2, 1, 1, 2, 1, 1, 2, 1, 2, 1, 1, 2, 1, 2, 1, 1, 2, 1, 1, 2, 1, 2, 1, 1, 2, 1, 2, 1, 1, 2, 1, 1]) of length 201 after prefixing the suffix with 0 times the current s.m.p.Increase the value of the `max_smp_length` keyword argument to go further.\n",
      "Depth 202: [1264] points, 8 living leaves...\n",
      "\u001b[34m\u001b[1mNew candidate s.m.p. found\u001b[22m\u001b[39m because ⟨v_6*, v⟩ - 1 = 0.000456046177833791 > 1.0e-9:\n",
      "\u001b[31m\u001b[1maborting\u001b[22m\u001b[39m with smp candidate PSW(1.4092366292358063, [2, 1, 1, 2, 1, 1, 2, 1, 2, 1, 1, 2, 1, 1, 2, 1, 2, 1, 1, 2, 1, 2, 1, 1, 2, 1, 1, 2, 1, 2, 1, 1, 2, 1, 1, 2, 1, 2, 1, 1, 2, 1, 2, 1, 1, 2, 1, 1, 2, 1, 2, 1, 1, 2, 1, 1, 2, 1, 2, 1, 1, 2, 1, 2, 1, 1, 2, 1, 1, 2, 1, 2, 1, 1, 2, 1, 1, 2, 1, 2, 1, 1, 2, 1, 2, 1, 1, 2, 1, 1, 2, 1, 2, 1, 1, 2, 1, 2, 1, 1, 2, 1, 1, 2, 1, 2, 1, 1, 2, 1, 2, 1, 1, 2, 1, 1, 2, 1, 2, 1, 1, 2, 1, 2, 1, 1, 2, 1, 1, 2, 1, 2, 1, 1, 2, 1, 2, 1, 1, 2, 1, 1, 2, 1, 2, 1, 1, 2, 1, 2, 1, 1, 2, 1, 1, 2, 1, 2, 1, 1, 2, 1, 2, 1, 1, 2, 1, 1, 2, 1, 2, 1, 1, 2, 1, 2, 1, 1, 2, 1, 1, 2, 1, 2, 1, 1, 2, 1, 2, 1, 1, 2, 1, 1, 2, 1, 2, 1, 1, 2, 1, 1]) of length 202 after prefixing the suffix with 0 times the current s.m.p.Increase the value of the `max_smp_length` keyword argument to go further.\n",
      "Depth 203: [1272] points, 8 living leaves...\n",
      "Depth 204: [1280] points, 8 living leaves...\n",
      "\u001b[34m\u001b[1mNew candidate s.m.p. found\u001b[22m\u001b[39m because ⟨v_6*, v⟩ - 1 = 1.373209743693593e-7 > 1.0e-9:\n",
      "\u001b[31m\u001b[1maborting\u001b[22m\u001b[39m with smp candidate PSW(1.4092421592066224, [2, 1, 1, 2, 1, 1, 2, 1, 2, 1, 1, 2, 1, 1, 2, 1, 2, 1, 1, 2, 1, 2, 1, 1, 2, 1, 1, 2, 1, 2, 1, 1, 2, 1, 1, 2, 1, 2, 1, 1, 2, 1, 2, 1, 1, 2, 1, 1, 2, 1, 2, 1, 1, 2, 1, 1, 2, 1, 2, 1, 1, 2, 1, 2, 1, 1, 2, 1, 1, 2, 1, 2, 1, 1, 2, 1, 2, 1, 1, 2, 1, 1, 2, 1, 2, 1, 1, 2, 1, 2, 1, 1, 2, 1, 1, 2, 1, 2, 1, 1, 2, 1, 2, 1, 1, 2, 1, 1, 2, 1, 2, 1, 1, 2, 1, 2, 1, 1, 2, 1, 1, 2, 1, 2, 1, 1, 2, 1, 2, 1, 1, 2, 1, 1, 2, 1, 2, 1, 1, 2, 1, 2, 1, 1, 2, 1, 1, 2, 1, 2, 1, 1, 2, 1, 2, 1, 1, 2, 1, 1, 2, 1, 2, 1, 1, 2, 1, 2, 1, 1, 2, 1, 1, 2, 1, 2, 1, 1, 2, 1, 2, 1, 1, 2, 1, 1, 2, 1, 2, 1, 1, 2, 1, 2, 1, 1, 2, 1, 1, 2, 1, 2, 1, 1]) of length 204 after prefixing the suffix with 0 times the current s.m.p.Increase the value of the `max_smp_length` keyword argument to go further.\n",
      "\u001b[34m\u001b[1mNew candidate s.m.p. found\u001b[22m\u001b[39m because ⟨v_6*, v⟩ - 1 = 1.4072205134496585e-7 > 1.0e-9:\n",
      "\u001b[31m\u001b[1maborting\u001b[22m\u001b[39m with smp candidate PSW(1.409242159166161, [2, 1, 1, 2, 1, 1, 2, 1, 2, 1, 1, 2, 1, 1, 2, 1, 2, 1, 1, 2, 1, 2, 1, 1, 2, 1, 1, 2, 1, 2, 1, 1, 2, 1, 1, 2, 1, 2, 1, 1, 2, 1, 2, 1, 1, 2, 1, 1, 2, 1, 2, 1, 1, 2, 1, 2, 1, 1, 2, 1, 1, 2, 1, 2, 1, 1, 2, 1, 2, 1, 1, 2, 1, 1, 2, 1, 2, 1, 1, 2, 1, 2, 1, 1, 2, 1, 1, 2, 1, 2, 1, 1, 2, 1, 2, 1, 1, 2, 1, 1, 2, 1, 2, 1, 1, 2, 1, 2, 1, 1, 2, 1, 1, 2, 1, 2, 1, 1, 2, 1, 2, 1, 1, 2, 1, 1, 2, 1, 2, 1, 1, 2, 1, 2, 1, 1, 2, 1, 1, 2, 1, 2, 1, 1, 2, 1, 2, 1, 1, 2, 1, 1, 2, 1, 2, 1, 1, 2, 1, 2, 1, 1, 2, 1, 1, 2, 1, 2, 1, 1, 2, 1, 2, 1, 1, 2, 1, 1, 2, 1, 2, 1, 1, 2, 1, 2, 1, 1, 2, 1, 1, 2, 1, 2, 1, 1, 2, 1, 1, 2, 1, 2, 1, 1]) of length 204 after prefixing the suffix with 0 times the current s.m.p.Increase the value of the `max_smp_length` keyword argument to go further.\n"
     ]
    },
    {
     "name": "stdout",
     "output_type": "stream",
     "text": [
      "\u001b[34m\u001b[1mNew candidate s.m.p. found\u001b[22m\u001b[39m because ⟨v_6*, v⟩ - 1 = 0.00045571973621605366 > 1.0e-9:\n",
      "\u001b[31m\u001b[1maborting\u001b[22m\u001b[39m with smp candidate PSW(1.409236737092331, [2, 1, 1, 2, 1, 1, 2, 1, 2, 1, 1, 2, 1, 1, 2, 1, 2, 1, 1, 2, 1, 2, 1, 1, 2, 1, 1, 2, 1, 2, 1, 1, 2, 1, 1, 2, 1, 2, 1, 1, 2, 1, 2, 1, 1, 2, 1, 1, 2, 1, 2, 1, 1, 2, 1, 2, 1, 1, 2, 1, 1, 2, 1, 2, 1, 1, 2, 1, 2, 1, 1, 2, 1, 1, 2, 1, 2, 1, 1, 2, 1, 2, 1, 1, 2, 1, 1, 2, 1, 2, 1, 1, 2, 1, 2, 1, 1, 2, 1, 1, 2, 1, 2, 1, 1, 2, 1, 2, 1, 1, 2, 1, 1, 2, 1, 2, 1, 1, 2, 1, 2, 1, 1, 2, 1, 1, 2, 1, 2, 1, 1, 2, 1, 2, 1, 1, 2, 1, 1, 2, 1, 2, 1, 1, 2, 1, 2, 1, 1, 2, 1, 1, 2, 1, 2, 1, 1, 2, 1, 2, 1, 1, 2, 1, 1, 2, 1, 2, 1, 1, 2, 1, 2, 1, 1, 2, 1, 1, 2, 1, 2, 1, 1, 2, 1, 2, 1, 1, 2, 1, 1, 2, 1, 2, 1, 1, 2, 1, 2, 1, 1, 2, 1, 1]) of length 204 after prefixing the suffix with 0 times the current s.m.p.Increase the value of the `max_smp_length` keyword argument to go further.\n",
      "\u001b[34m\u001b[1mNew candidate s.m.p. found\u001b[22m\u001b[39m because ⟨v_6*, v⟩ - 1 = 0.00045604754451256113 > 1.0e-9:\n",
      "\u001b[31m\u001b[1maborting\u001b[22m\u001b[39m with smp candidate PSW(1.40923673308662, [2, 1, 1, 2, 1, 1, 2, 1, 2, 1, 1, 2, 1, 1, 2, 1, 2, 1, 1, 2, 1, 2, 1, 1, 2, 1, 1, 2, 1, 2, 1, 1, 2, 1, 2, 1, 1, 2, 1, 1, 2, 1, 2, 1, 1, 2, 1, 2, 1, 1, 2, 1, 1, 2, 1, 2, 1, 1, 2, 1, 2, 1, 1, 2, 1, 1, 2, 1, 2, 1, 1, 2, 1, 2, 1, 1, 2, 1, 1, 2, 1, 2, 1, 1, 2, 1, 2, 1, 1, 2, 1, 1, 2, 1, 2, 1, 1, 2, 1, 2, 1, 1, 2, 1, 1, 2, 1, 2, 1, 1, 2, 1, 2, 1, 1, 2, 1, 1, 2, 1, 2, 1, 1, 2, 1, 2, 1, 1, 2, 1, 1, 2, 1, 2, 1, 1, 2, 1, 2, 1, 1, 2, 1, 1, 2, 1, 2, 1, 1, 2, 1, 2, 1, 1, 2, 1, 1, 2, 1, 2, 1, 1, 2, 1, 2, 1, 1, 2, 1, 1, 2, 1, 2, 1, 1, 2, 1, 2, 1, 1, 2, 1, 1, 2, 1, 2, 1, 1, 2, 1, 2, 1, 1, 2, 1, 1, 2, 1, 2, 1, 1, 2, 1, 1]) of length 204 after prefixing the suffix with 0 times the current s.m.p.Increase the value of the `max_smp_length` keyword argument to go further.\n",
      "Depth 205: [1288] points, 8 living leaves...\n",
      "Depth 206: [1296] points, 8 living leaves...\n",
      "\u001b[34m\u001b[1mNew candidate s.m.p. found\u001b[22m\u001b[39m because ⟨v_6*, v⟩ - 1 = 1.3868703074848554e-7 > 1.0e-9:\n",
      "\u001b[31m\u001b[1maborting\u001b[22m\u001b[39m with smp candidate PSW(1.40924221206406, [2, 1, 1, 2, 1, 1, 2, 1, 2, 1, 1, 2, 1, 2, 1, 1, 2, 1, 1, 2, 1, 2, 1, 1, 2, 1, 2, 1, 1, 2, 1, 1, 2, 1, 2, 1, 1, 2, 1, 2, 1, 1, 2, 1, 1, 2, 1, 2, 1, 1, 2, 1, 2, 1, 1, 2, 1, 1, 2, 1, 2, 1, 1, 2, 1, 2, 1, 1, 2, 1, 1, 2, 1, 2, 1, 1, 2, 1, 2, 1, 1, 2, 1, 1, 2, 1, 2, 1, 1, 2, 1, 2, 1, 1, 2, 1, 1, 2, 1, 2, 1, 1, 2, 1, 2, 1, 1, 2, 1, 1, 2, 1, 2, 1, 1, 2, 1, 2, 1, 1, 2, 1, 1, 2, 1, 2, 1, 1, 2, 1, 2, 1, 1, 2, 1, 1, 2, 1, 2, 1, 1, 2, 1, 2, 1, 1, 2, 1, 1, 2, 1, 2, 1, 1, 2, 1, 2, 1, 1, 2, 1, 1, 2, 1, 2, 1, 1, 2, 1, 2, 1, 1, 2, 1, 1, 2, 1, 2, 1, 1, 2, 1, 2, 1, 1, 2, 1, 1, 2, 1, 2, 1, 1, 2, 1, 2, 1, 1, 2, 1, 1, 2, 1, 2, 1, 1]) of length 206 after prefixing the suffix with 0 times the current s.m.p.Increase the value of the `max_smp_length` keyword argument to go further.\n",
      "Depth 207: [1304] points, 8 living leaves...\n",
      "\u001b[34m\u001b[1mNew candidate s.m.p. found\u001b[22m\u001b[39m because ⟨v_6*, v⟩ - 1 = 1.4277156723530027e-7 > 1.0e-9:\n",
      "\u001b[31m\u001b[1maborting\u001b[22m\u001b[39m with smp candidate PSW(1.409242232541281, [2, 1, 1, 2, 1, 1, 2, 1, 2, 1, 1, 2, 1, 1, 2, 1, 2, 1, 1, 2, 1, 2, 1, 1, 2, 1, 1, 2, 1, 2, 1, 1, 2, 1, 1, 2, 1, 2, 1, 1, 2, 1, 2, 1, 1, 2, 1, 1, 2, 1, 2, 1, 1, 2, 1, 1, 2, 1, 2, 1, 1, 2, 1, 2, 1, 1, 2, 1, 1, 2, 1, 2, 1, 1, 2, 1, 1, 2, 1, 2, 1, 1, 2, 1, 2, 1, 1, 2, 1, 1, 2, 1, 2, 1, 1, 2, 1, 2, 1, 1, 2, 1, 1, 2, 1, 2, 1, 1, 2, 1, 2, 1, 1, 2, 1, 1, 2, 1, 2, 1, 1, 2, 1, 2, 1, 1, 2, 1, 1, 2, 1, 2, 1, 1, 2, 1, 2, 1, 1, 2, 1, 1, 2, 1, 2, 1, 1, 2, 1, 2, 1, 1, 2, 1, 1, 2, 1, 2, 1, 1, 2, 1, 2, 1, 1, 2, 1, 1, 2, 1, 2, 1, 1, 2, 1, 2, 1, 1, 2, 1, 1, 2, 1, 2, 1, 1, 2, 1, 2, 1, 1, 2, 1, 1, 2, 1, 2, 1, 1, 2, 1, 1, 2, 1, 2, 1, 1]) of length 207 after prefixing the suffix with 0 times the current s.m.p.Increase the value of the `max_smp_length` keyword argument to go further.\n",
      "\u001b[34m\u001b[1mNew candidate s.m.p. found\u001b[22m\u001b[39m because ⟨v_6*, v⟩ - 1 = 0.0004557217866654195 > 1.0e-9:\n",
      "\u001b[31m\u001b[1maborting\u001b[22m\u001b[39m with smp candidate PSW(1.4092368890478042, [2, 1, 1, 2, 1, 1, 2, 1, 2, 1, 1, 2, 1, 1, 2, 1, 2, 1, 1, 2, 1, 2, 1, 1, 2, 1, 1, 2, 1, 2, 1, 1, 2, 1, 1, 2, 1, 2, 1, 1, 2, 1, 2, 1, 1, 2, 1, 1, 2, 1, 2, 1, 1, 2, 1, 1, 2, 1, 2, 1, 1, 2, 1, 2, 1, 1, 2, 1, 1, 2, 1, 2, 1, 1, 2, 1, 1, 2, 1, 2, 1, 1, 2, 1, 2, 1, 1, 2, 1, 1, 2, 1, 2, 1, 1, 2, 1, 2, 1, 1, 2, 1, 1, 2, 1, 2, 1, 1, 2, 1, 2, 1, 1, 2, 1, 1, 2, 1, 2, 1, 1, 2, 1, 2, 1, 1, 2, 1, 1, 2, 1, 2, 1, 1, 2, 1, 2, 1, 1, 2, 1, 1, 2, 1, 2, 1, 1, 2, 1, 2, 1, 1, 2, 1, 1, 2, 1, 2, 1, 1, 2, 1, 2, 1, 1, 2, 1, 1, 2, 1, 2, 1, 1, 2, 1, 2, 1, 1, 2, 1, 1, 2, 1, 2, 1, 1, 2, 1, 2, 1, 1, 2, 1, 1, 2, 1, 2, 1, 1, 2, 1, 2, 1, 1, 2, 1, 1]) of length 207 after prefixing the suffix with 0 times the current s.m.p.Increase the value of the `max_smp_length` keyword argument to go further.\n",
      "\u001b[34m\u001b[1mNew candidate s.m.p. found\u001b[22m\u001b[39m because ⟨v_6*, v⟩ - 1 = 0.0004560495949630372 > 1.0e-9:\n",
      "\u001b[31m\u001b[1maborting\u001b[22m\u001b[39m with smp candidate PSW(1.4092368851001462, [2, 1, 1, 2, 1, 1, 2, 1, 2, 1, 1, 2, 1, 1, 2, 1, 2, 1, 1, 2, 1, 2, 1, 1, 2, 1, 1, 2, 1, 2, 1, 1, 2, 1, 1, 2, 1, 2, 1, 1, 2, 1, 2, 1, 1, 2, 1, 1, 2, 1, 2, 1, 1, 2, 1, 1, 2, 1, 2, 1, 1, 2, 1, 2, 1, 1, 2, 1, 1, 2, 1, 2, 1, 1, 2, 1, 2, 1, 1, 2, 1, 1, 2, 1, 2, 1, 1, 2, 1, 2, 1, 1, 2, 1, 1, 2, 1, 2, 1, 1, 2, 1, 2, 1, 1, 2, 1, 1, 2, 1, 2, 1, 1, 2, 1, 2, 1, 1, 2, 1, 1, 2, 1, 2, 1, 1, 2, 1, 2, 1, 1, 2, 1, 1, 2, 1, 2, 1, 1, 2, 1, 2, 1, 1, 2, 1, 1, 2, 1, 2, 1, 1, 2, 1, 2, 1, 1, 2, 1, 1, 2, 1, 2, 1, 1, 2, 1, 2, 1, 1, 2, 1, 1, 2, 1, 2, 1, 1, 2, 1, 2, 1, 1, 2, 1, 1, 2, 1, 2, 1, 1, 2, 1, 2, 1, 1, 2, 1, 1, 2, 1, 2, 1, 1, 2, 1, 1]) of length 207 after prefixing the suffix with 0 times the current s.m.p.Increase the value of the `max_smp_length` keyword argument to go further.\n",
      "Depth 208: [1312] points, 8 living leaves...\n",
      "Depth 209: [1320] points, 8 living leaves...\n",
      "\u001b[34m\u001b[1mNew candidate s.m.p. found\u001b[22m\u001b[39m because ⟨v_6*, v⟩ - 1 = 1.4073654730495377e-7 > 1.0e-9:\n",
      "\u001b[31m\u001b[1maborting\u001b[22m\u001b[39m with smp candidate PSW(1.4092422803272642, [2, 1, 1, 2, 1, 1, 2, 1, 2, 1, 1, 2, 1, 1, 2, 1, 2, 1, 1, 2, 1, 2, 1, 1, 2, 1, 1, 2, 1, 2, 1, 1, 2, 1, 1, 2, 1, 2, 1, 1, 2, 1, 2, 1, 1, 2, 1, 1, 2, 1, 2, 1, 1, 2, 1, 2, 1, 1, 2, 1, 1, 2, 1, 2, 1, 1, 2, 1, 2, 1, 1, 2, 1, 1, 2, 1, 2, 1, 1, 2, 1, 2, 1, 1, 2, 1, 1, 2, 1, 2, 1, 1, 2, 1, 2, 1, 1, 2, 1, 1, 2, 1, 2, 1, 1, 2, 1, 2, 1, 1, 2, 1, 1, 2, 1, 2, 1, 1, 2, 1, 2, 1, 1, 2, 1, 1, 2, 1, 2, 1, 1, 2, 1, 2, 1, 1, 2, 1, 1, 2, 1, 2, 1, 1, 2, 1, 2, 1, 1, 2, 1, 1, 2, 1, 2, 1, 1, 2, 1, 2, 1, 1, 2, 1, 1, 2, 1, 2, 1, 1, 2, 1, 2, 1, 1, 2, 1, 1, 2, 1, 2, 1, 1, 2, 1, 2, 1, 1, 2, 1, 1, 2, 1, 2, 1, 1, 2, 1, 2, 1, 1, 2, 1, 1, 2, 1, 2, 1, 1]) of length 209 after prefixing the suffix with 0 times the current s.m.p.Increase the value of the `max_smp_length` keyword argument to go further.\n",
      "\u001b[34m\u001b[1mNew candidate s.m.p. found\u001b[22m\u001b[39m because ⟨v_6*, v⟩ - 1 = 1.441376229482927e-7 > 1.0e-9:\n",
      "\u001b[31m\u001b[1maborting\u001b[22m\u001b[39m with smp candidate PSW(1.4092422802877709, [2, 1, 1, 2, 1, 1, 2, 1, 2, 1, 1, 2, 1, 1, 2, 1, 2, 1, 1, 2, 1, 2, 1, 1, 2, 1, 1, 2, 1, 2, 1, 1, 2, 1, 2, 1, 1, 2, 1, 1, 2, 1, 2, 1, 1, 2, 1, 2, 1, 1, 2, 1, 1, 2, 1, 2, 1, 1, 2, 1, 2, 1, 1, 2, 1, 1, 2, 1, 2, 1, 1, 2, 1, 2, 1, 1, 2, 1, 1, 2, 1, 2, 1, 1, 2, 1, 2, 1, 1, 2, 1, 1, 2, 1, 2, 1, 1, 2, 1, 2, 1, 1, 2, 1, 1, 2, 1, 2, 1, 1, 2, 1, 2, 1, 1, 2, 1, 1, 2, 1, 2, 1, 1, 2, 1, 2, 1, 1, 2, 1, 1, 2, 1, 2, 1, 1, 2, 1, 2, 1, 1, 2, 1, 1, 2, 1, 2, 1, 1, 2, 1, 2, 1, 1, 2, 1, 1, 2, 1, 2, 1, 1, 2, 1, 2, 1, 1, 2, 1, 1, 2, 1, 2, 1, 1, 2, 1, 2, 1, 1, 2, 1, 1, 2, 1, 2, 1, 1, 2, 1, 2, 1, 1, 2, 1, 1, 2, 1, 2, 1, 1, 2, 1, 1, 2, 1, 2, 1, 1]) of length 209 after prefixing the suffix with 0 times the current s.m.p.Increase the value of the `max_smp_length` keyword argument to go further.\n",
      "\u001b[34m\u001b[1mNew candidate s.m.p. found\u001b[22m\u001b[39m because ⟨v_6*, v⟩ - 1 = 0.0004557231533439676 > 1.0e-9:\n",
      "\u001b[31m\u001b[1maborting\u001b[22m\u001b[39m with smp candidate PSW(1.4092369879279274, [2, 1, 1, 2, 1, 1, 2, 1, 2, 1, 1, 2, 1, 1, 2, 1, 2, 1, 1, 2, 1, 2, 1, 1, 2, 1, 1, 2, 1, 2, 1, 1, 2, 1, 2, 1, 1, 2, 1, 1, 2, 1, 2, 1, 1, 2, 1, 2, 1, 1, 2, 1, 1, 2, 1, 2, 1, 1, 2, 1, 2, 1, 1, 2, 1, 1, 2, 1, 2, 1, 1, 2, 1, 2, 1, 1, 2, 1, 1, 2, 1, 2, 1, 1, 2, 1, 2, 1, 1, 2, 1, 1, 2, 1, 2, 1, 1, 2, 1, 2, 1, 1, 2, 1, 1, 2, 1, 2, 1, 1, 2, 1, 2, 1, 1, 2, 1, 1, 2, 1, 2, 1, 1, 2, 1, 2, 1, 1, 2, 1, 1, 2, 1, 2, 1, 1, 2, 1, 2, 1, 1, 2, 1, 1, 2, 1, 2, 1, 1, 2, 1, 2, 1, 1, 2, 1, 1, 2, 1, 2, 1, 1, 2, 1, 2, 1, 1, 2, 1, 1, 2, 1, 2, 1, 1, 2, 1, 2, 1, 1, 2, 1, 1, 2, 1, 2, 1, 1, 2, 1, 2, 1, 1, 2, 1, 1, 2, 1, 2, 1, 1, 2, 1, 2, 1, 1, 2, 1, 1]) of length 209 after prefixing the suffix with 0 times the current s.m.p.Increase the value of the `max_smp_length` keyword argument to go further.\n",
      "\u001b[34m\u001b[1mNew candidate s.m.p. found\u001b[22m\u001b[39m because ⟨v_6*, v⟩ - 1 = 0.00045605096164225145 > 1.0e-9:\n",
      "\u001b[31m\u001b[1maborting\u001b[22m\u001b[39m with smp candidate PSW(1.4092369879279274, [2, 1, 1, 2, 1, 1, 2, 1, 2, 1, 1, 2, 1, 2, 1, 1, 2, 1, 1, 2, 1, 2, 1, 1, 2, 1, 2, 1, 1, 2, 1, 1, 2, 1, 2, 1, 1, 2, 1, 2, 1, 1, 2, 1, 1, 2, 1, 2, 1, 1, 2, 1, 2, 1, 1, 2, 1, 1, 2, 1, 2, 1, 1, 2, 1, 2, 1, 1, 2, 1, 1, 2, 1, 2, 1, 1, 2, 1, 2, 1, 1, 2, 1, 1, 2, 1, 2, 1, 1, 2, 1, 2, 1, 1, 2, 1, 1, 2, 1, 2, 1, 1, 2, 1, 2, 1, 1, 2, 1, 1, 2, 1, 2, 1, 1, 2, 1, 2, 1, 1, 2, 1, 1, 2, 1, 2, 1, 1, 2, 1, 2, 1, 1, 2, 1, 1, 2, 1, 2, 1, 1, 2, 1, 2, 1, 1, 2, 1, 1, 2, 1, 2, 1, 1, 2, 1, 2, 1, 1, 2, 1, 1, 2, 1, 2, 1, 1, 2, 1, 2, 1, 1, 2, 1, 1, 2, 1, 2, 1, 1, 2, 1, 2, 1, 1, 2, 1, 1, 2, 1, 2, 1, 1, 2, 1, 2, 1, 1, 2, 1, 1, 2, 1, 2, 1, 1, 2, 1, 1]) of length 209 after prefixing the suffix with 0 times the current s.m.p.Increase the value of the `max_smp_length` keyword argument to go further.\n",
      "Depth 210: [1329] points, 9 living leaves...\n"
     ]
    },
    {
     "name": "stdout",
     "output_type": "stream",
     "text": [
      "Depth 211: [1337] points, 8 living leaves...\n",
      "Depth 212: [1345] points, 8 living leaves...\n",
      "\u001b[34m\u001b[1mNew candidate s.m.p. found\u001b[22m\u001b[39m because ⟨v_6*, v⟩ - 1 = 1.4278606275119898e-7 > 1.0e-9:\n",
      "\u001b[31m\u001b[1maborting\u001b[22m\u001b[39m with smp candidate PSW(1.4092423502573008, [2, 1, 1, 2, 1, 1, 2, 1, 2, 1, 1, 2, 1, 1, 2, 1, 2, 1, 1, 2, 1, 2, 1, 1, 2, 1, 1, 2, 1, 2, 1, 1, 2, 1, 1, 2, 1, 2, 1, 1, 2, 1, 2, 1, 1, 2, 1, 1, 2, 1, 2, 1, 1, 2, 1, 1, 2, 1, 2, 1, 1, 2, 1, 2, 1, 1, 2, 1, 1, 2, 1, 2, 1, 1, 2, 1, 1, 2, 1, 2, 1, 1, 2, 1, 2, 1, 1, 2, 1, 1, 2, 1, 2, 1, 1, 2, 1, 2, 1, 1, 2, 1, 1, 2, 1, 2, 1, 1, 2, 1, 2, 1, 1, 2, 1, 1, 2, 1, 2, 1, 1, 2, 1, 2, 1, 1, 2, 1, 1, 2, 1, 2, 1, 1, 2, 1, 2, 1, 1, 2, 1, 1, 2, 1, 2, 1, 1, 2, 1, 2, 1, 1, 2, 1, 1, 2, 1, 2, 1, 1, 2, 1, 2, 1, 1, 2, 1, 1, 2, 1, 2, 1, 1, 2, 1, 2, 1, 1, 2, 1, 1, 2, 1, 2, 1, 1, 2, 1, 2, 1, 1, 2, 1, 1, 2, 1, 2, 1, 1, 2, 1, 2, 1, 1, 2, 1, 1, 2, 1, 2, 1, 1]) of length 212 after prefixing the suffix with 0 times the current s.m.p.Increase the value of the `max_smp_length` keyword argument to go further.\n",
      "\u001b[34m\u001b[1mNew candidate s.m.p. found\u001b[22m\u001b[39m because ⟨v_6*, v⟩ - 1 = 1.461871390606717e-7 > 1.0e-9:\n",
      "\u001b[31m\u001b[1maborting\u001b[22m\u001b[39m with smp candidate PSW(1.4092423502183664, [2, 1, 1, 2, 1, 1, 2, 1, 2, 1, 1, 2, 1, 1, 2, 1, 2, 1, 1, 2, 1, 2, 1, 1, 2, 1, 1, 2, 1, 2, 1, 1, 2, 1, 1, 2, 1, 2, 1, 1, 2, 1, 2, 1, 1, 2, 1, 1, 2, 1, 2, 1, 1, 2, 1, 1, 2, 1, 2, 1, 1, 2, 1, 2, 1, 1, 2, 1, 1, 2, 1, 2, 1, 1, 2, 1, 2, 1, 1, 2, 1, 1, 2, 1, 2, 1, 1, 2, 1, 2, 1, 1, 2, 1, 1, 2, 1, 2, 1, 1, 2, 1, 2, 1, 1, 2, 1, 1, 2, 1, 2, 1, 1, 2, 1, 2, 1, 1, 2, 1, 1, 2, 1, 2, 1, 1, 2, 1, 2, 1, 1, 2, 1, 1, 2, 1, 2, 1, 1, 2, 1, 2, 1, 1, 2, 1, 1, 2, 1, 2, 1, 1, 2, 1, 2, 1, 1, 2, 1, 1, 2, 1, 2, 1, 1, 2, 1, 2, 1, 1, 2, 1, 1, 2, 1, 2, 1, 1, 2, 1, 2, 1, 1, 2, 1, 1, 2, 1, 2, 1, 1, 2, 1, 2, 1, 1, 2, 1, 1, 2, 1, 2, 1, 1, 2, 1, 1, 2, 1, 2, 1, 1]) of length 212 after prefixing the suffix with 0 times the current s.m.p.Increase the value of the `max_smp_length` keyword argument to go further.\n",
      "\u001b[34m\u001b[1mNew candidate s.m.p. found\u001b[22m\u001b[39m because ⟨v_6*, v⟩ - 1 = 0.0004557252037935555 > 1.0e-9:\n",
      "\u001b[31m\u001b[1maborting\u001b[22m\u001b[39m with smp candidate PSW(1.4092371327500102, [2, 1, 1, 2, 1, 1, 2, 1, 2, 1, 1, 2, 1, 1, 2, 1, 2, 1, 1, 2, 1, 2, 1, 1, 2, 1, 1, 2, 1, 2, 1, 1, 2, 1, 1, 2, 1, 2, 1, 1, 2, 1, 2, 1, 1, 2, 1, 1, 2, 1, 2, 1, 1, 2, 1, 1, 2, 1, 2, 1, 1, 2, 1, 2, 1, 1, 2, 1, 1, 2, 1, 2, 1, 1, 2, 1, 2, 1, 1, 2, 1, 1, 2, 1, 2, 1, 1, 2, 1, 2, 1, 1, 2, 1, 1, 2, 1, 2, 1, 1, 2, 1, 2, 1, 1, 2, 1, 1, 2, 1, 2, 1, 1, 2, 1, 2, 1, 1, 2, 1, 1, 2, 1, 2, 1, 1, 2, 1, 2, 1, 1, 2, 1, 1, 2, 1, 2, 1, 1, 2, 1, 2, 1, 1, 2, 1, 1, 2, 1, 2, 1, 1, 2, 1, 2, 1, 1, 2, 1, 1, 2, 1, 2, 1, 1, 2, 1, 2, 1, 1, 2, 1, 1, 2, 1, 2, 1, 1, 2, 1, 2, 1, 1, 2, 1, 1, 2, 1, 2, 1, 1, 2, 1, 2, 1, 1, 2, 1, 1, 2, 1, 2, 1, 1, 2, 1, 2, 1, 1, 2, 1, 1]) of length 212 after prefixing the suffix with 0 times the current s.m.p.Increase the value of the `max_smp_length` keyword argument to go further.\n",
      "\u001b[34m\u001b[1mNew candidate s.m.p. found\u001b[22m\u001b[39m because ⟨v_6*, v⟩ - 1 = 0.0004560530120931716 > 1.0e-9:\n",
      "\u001b[31m\u001b[1maborting\u001b[22m\u001b[39m with smp candidate PSW(1.4092371288954566, [2, 1, 1, 2, 1, 1, 2, 1, 2, 1, 1, 2, 1, 1, 2, 1, 2, 1, 1, 2, 1, 2, 1, 1, 2, 1, 1, 2, 1, 2, 1, 1, 2, 1, 1, 2, 1, 2, 1, 1, 2, 1, 2, 1, 1, 2, 1, 1, 2, 1, 2, 1, 1, 2, 1, 2, 1, 1, 2, 1, 1, 2, 1, 2, 1, 1, 2, 1, 2, 1, 1, 2, 1, 1, 2, 1, 2, 1, 1, 2, 1, 2, 1, 1, 2, 1, 1, 2, 1, 2, 1, 1, 2, 1, 2, 1, 1, 2, 1, 1, 2, 1, 2, 1, 1, 2, 1, 2, 1, 1, 2, 1, 1, 2, 1, 2, 1, 1, 2, 1, 2, 1, 1, 2, 1, 1, 2, 1, 2, 1, 1, 2, 1, 2, 1, 1, 2, 1, 1, 2, 1, 2, 1, 1, 2, 1, 2, 1, 1, 2, 1, 1, 2, 1, 2, 1, 1, 2, 1, 2, 1, 1, 2, 1, 1, 2, 1, 2, 1, 1, 2, 1, 2, 1, 1, 2, 1, 1, 2, 1, 2, 1, 1, 2, 1, 2, 1, 1, 2, 1, 1, 2, 1, 2, 1, 1, 2, 1, 2, 1, 1, 2, 1, 1, 2, 1, 2, 1, 1, 2, 1, 1]) of length 212 after prefixing the suffix with 0 times the current s.m.p.Increase the value of the `max_smp_length` keyword argument to go further.\n",
      "Depth 213: [1353] points, 8 living leaves...\n",
      "Depth 214: [1361] points, 8 living leaves...\n",
      "\u001b[34m\u001b[1mNew candidate s.m.p. found\u001b[22m\u001b[39m because ⟨v_6*, v⟩ - 1 = 1.44152118686236e-7 > 1.0e-9:\n",
      "\u001b[31m\u001b[1maborting\u001b[22m\u001b[39m with smp candidate PSW(1.4092423957880724, [2, 1, 1, 2, 1, 1, 2, 1, 2, 1, 1, 2, 1, 1, 2, 1, 2, 1, 1, 2, 1, 2, 1, 1, 2, 1, 1, 2, 1, 2, 1, 1, 2, 1, 2, 1, 1, 2, 1, 1, 2, 1, 2, 1, 1, 2, 1, 2, 1, 1, 2, 1, 1, 2, 1, 2, 1, 1, 2, 1, 2, 1, 1, 2, 1, 1, 2, 1, 2, 1, 1, 2, 1, 2, 1, 1, 2, 1, 1, 2, 1, 2, 1, 1, 2, 1, 2, 1, 1, 2, 1, 1, 2, 1, 2, 1, 1, 2, 1, 2, 1, 1, 2, 1, 1, 2, 1, 2, 1, 1, 2, 1, 2, 1, 1, 2, 1, 1, 2, 1, 2, 1, 1, 2, 1, 2, 1, 1, 2, 1, 1, 2, 1, 2, 1, 1, 2, 1, 2, 1, 1, 2, 1, 1, 2, 1, 2, 1, 1, 2, 1, 2, 1, 1, 2, 1, 1, 2, 1, 2, 1, 1, 2, 1, 2, 1, 1, 2, 1, 1, 2, 1, 2, 1, 1, 2, 1, 2, 1, 1, 2, 1, 1, 2, 1, 2, 1, 1, 2, 1, 2, 1, 1, 2, 1, 1, 2, 1, 2, 1, 1, 2, 1, 2, 1, 1, 2, 1, 1, 2, 1, 2, 1, 1]) of length 214 after prefixing the suffix with 0 times the current s.m.p.Increase the value of the `max_smp_length` keyword argument to go further.\n",
      "\u001b[34m\u001b[1mNew candidate s.m.p. found\u001b[22m\u001b[39m because ⟨v_6*, v⟩ - 1 = 1.4755319521775334e-7 > 1.0e-9:\n",
      "\u001b[31m\u001b[1maborting\u001b[22m\u001b[39m with smp candidate PSW(1.4092423993146772, [2, 1, 1, 2, 1, 1, 2, 1, 2, 1, 1, 2, 1, 2, 1, 1, 2, 1, 1, 2, 1, 2, 1, 1, 2, 1, 2, 1, 1, 2, 1, 1, 2, 1, 2, 1, 1, 2, 1, 2, 1, 1, 2, 1, 1, 2, 1, 2, 1, 1, 2, 1, 2, 1, 1, 2, 1, 1, 2, 1, 2, 1, 1, 2, 1, 2, 1, 1, 2, 1, 1, 2, 1, 2, 1, 1, 2, 1, 2, 1, 1, 2, 1, 1, 2, 1, 2, 1, 1, 2, 1, 2, 1, 1, 2, 1, 1, 2, 1, 2, 1, 1, 2, 1, 2, 1, 1, 2, 1, 1, 2, 1, 2, 1, 1, 2, 1, 2, 1, 1, 2, 1, 1, 2, 1, 2, 1, 1, 2, 1, 2, 1, 1, 2, 1, 1, 2, 1, 2, 1, 1, 2, 1, 2, 1, 1, 2, 1, 1, 2, 1, 2, 1, 1, 2, 1, 2, 1, 1, 2, 1, 1, 2, 1, 2, 1, 1, 2, 1, 2, 1, 1, 2, 1, 1, 2, 1, 2, 1, 1, 2, 1, 2, 1, 1, 2, 1, 1, 2, 1, 2, 1, 1, 2, 1, 2, 1, 1, 2, 1, 1, 2, 1, 2, 1, 1, 2, 1, 1, 2, 1, 2, 1, 1]) of length 214 after prefixing the suffix with 0 times the current s.m.p.Increase the value of the `max_smp_length` keyword argument to go further.\n",
      "\u001b[34m\u001b[1mNew candidate s.m.p. found\u001b[22m\u001b[39m because ⟨v_6*, v⟩ - 1 = 0.0004557265704718816 > 1.0e-9:\n",
      "\u001b[31m\u001b[1maborting\u001b[22m\u001b[39m with smp candidate PSW(1.40923723086062, [2, 1, 1, 2, 1, 1, 2, 1, 2, 1, 1, 2, 1, 2, 1, 1, 2, 1, 1, 2, 1, 2, 1, 1, 2, 1, 2, 1, 1, 2, 1, 1, 2, 1, 2, 1, 1, 2, 1, 2, 1, 1, 2, 1, 1, 2, 1, 2, 1, 1, 2, 1, 2, 1, 1, 2, 1, 1, 2, 1, 2, 1, 1, 2, 1, 2, 1, 1, 2, 1, 1, 2, 1, 2, 1, 1, 2, 1, 2, 1, 1, 2, 1, 1, 2, 1, 2, 1, 1, 2, 1, 2, 1, 1, 2, 1, 1, 2, 1, 2, 1, 1, 2, 1, 2, 1, 1, 2, 1, 1, 2, 1, 2, 1, 1, 2, 1, 2, 1, 1, 2, 1, 1, 2, 1, 2, 1, 1, 2, 1, 2, 1, 1, 2, 1, 1, 2, 1, 2, 1, 1, 2, 1, 2, 1, 1, 2, 1, 1, 2, 1, 2, 1, 1, 2, 1, 2, 1, 1, 2, 1, 1, 2, 1, 2, 1, 1, 2, 1, 2, 1, 1, 2, 1, 1, 2, 1, 2, 1, 1, 2, 1, 2, 1, 1, 2, 1, 1, 2, 1, 2, 1, 1, 2, 1, 2, 1, 1, 2, 1, 1, 2, 1, 2, 1, 1, 2, 1, 2, 1, 1, 2, 1, 1]) of length 214 after prefixing the suffix with 0 times the current s.m.p.Increase the value of the `max_smp_length` keyword argument to go further.\n",
      "Depth 215: [1369] points, 8 living leaves...\n",
      "\u001b[34m\u001b[1mNew candidate s.m.p. found\u001b[22m\u001b[39m because ⟨v_6*, v⟩ - 1 = 0.00045605506254298156 > 1.0e-9:\n",
      "\u001b[31m\u001b[1maborting\u001b[22m\u001b[39m with smp candidate PSW(1.4092372697297912, [2, 1, 1, 2, 1, 1, 2, 1, 2, 1, 1, 2, 1, 1, 2, 1, 2, 1, 1, 2, 1, 2, 1, 1, 2, 1, 1, 2, 1, 2, 1, 1, 2, 1, 1, 2, 1, 2, 1, 1, 2, 1, 2, 1, 1, 2, 1, 1, 2, 1, 2, 1, 1, 2, 1, 1, 2, 1, 2, 1, 1, 2, 1, 2, 1, 1, 2, 1, 1, 2, 1, 2, 1, 1, 2, 1, 1, 2, 1, 2, 1, 1, 2, 1, 2, 1, 1, 2, 1, 1, 2, 1, 2, 1, 1, 2, 1, 2, 1, 1, 2, 1, 1, 2, 1, 2, 1, 1, 2, 1, 2, 1, 1, 2, 1, 1, 2, 1, 2, 1, 1, 2, 1, 2, 1, 1, 2, 1, 1, 2, 1, 2, 1, 1, 2, 1, 2, 1, 1, 2, 1, 1, 2, 1, 2, 1, 1, 2, 1, 2, 1, 1, 2, 1, 1, 2, 1, 2, 1, 1, 2, 1, 2, 1, 1, 2, 1, 1, 2, 1, 2, 1, 1, 2, 1, 2, 1, 1, 2, 1, 1, 2, 1, 2, 1, 1, 2, 1, 2, 1, 1, 2, 1, 1, 2, 1, 2, 1, 1, 2, 1, 2, 1, 1, 2, 1, 1, 2, 1, 2, 1, 1, 2, 1, 1]) of length 215 after prefixing the suffix with 0 times the current s.m.p.Increase the value of the `max_smp_length` keyword argument to go further.\n",
      "Depth 216: [1377] points, 8 living leaves...\n",
      "Depth 217: [1385] points, 8 living leaves...\n",
      "\u001b[34m\u001b[1mNew candidate s.m.p. found\u001b[22m\u001b[39m because ⟨v_6*, v⟩ - 1 = 1.4620163502065964e-7 > 1.0e-9:\n",
      "\u001b[31m\u001b[1maborting\u001b[22m\u001b[39m with smp candidate PSW(1.4092424625105913, [2, 1, 1, 2, 1, 1, 2, 1, 2, 1, 1, 2, 1, 1, 2, 1, 2, 1, 1, 2, 1, 2, 1, 1, 2, 1, 1, 2, 1, 2, 1, 1, 2, 1, 1, 2, 1, 2, 1, 1, 2, 1, 2, 1, 1, 2, 1, 1, 2, 1, 2, 1, 1, 2, 1, 1, 2, 1, 2, 1, 1, 2, 1, 2, 1, 1, 2, 1, 1, 2, 1, 2, 1, 1, 2, 1, 2, 1, 1, 2, 1, 1, 2, 1, 2, 1, 1, 2, 1, 2, 1, 1, 2, 1, 1, 2, 1, 2, 1, 1, 2, 1, 2, 1, 1, 2, 1, 1, 2, 1, 2, 1, 1, 2, 1, 2, 1, 1, 2, 1, 1, 2, 1, 2, 1, 1, 2, 1, 2, 1, 1, 2, 1, 1, 2, 1, 2, 1, 1, 2, 1, 2, 1, 1, 2, 1, 1, 2, 1, 2, 1, 1, 2, 1, 2, 1, 1, 2, 1, 1, 2, 1, 2, 1, 1, 2, 1, 2, 1, 1, 2, 1, 1, 2, 1, 2, 1, 1, 2, 1, 2, 1, 1, 2, 1, 1, 2, 1, 2, 1, 1, 2, 1, 2, 1, 1, 2, 1, 1, 2, 1, 2, 1, 1, 2, 1, 2, 1, 1, 2, 1, 1, 2, 1, 2, 1, 1]) of length 217 after prefixing the suffix with 0 times the current s.m.p.Increase the value of the `max_smp_length` keyword argument to go further.\n",
      "\u001b[34m\u001b[1mNew candidate s.m.p. found\u001b[22m\u001b[39m because ⟨v_6*, v⟩ - 1 = 1.4960271221831078e-7 > 1.0e-9:\n",
      "\u001b[31m\u001b[1maborting\u001b[22m\u001b[39m with smp candidate PSW(1.409242462472554, [2, 1, 1, 2, 1, 1, 2, 1, 2, 1, 1, 2, 1, 1, 2, 1, 2, 1, 1, 2, 1, 2, 1, 1, 2, 1, 1, 2, 1, 2, 1, 1, 2, 1, 1, 2, 1, 2, 1, 1, 2, 1, 2, 1, 1, 2, 1, 1, 2, 1, 2, 1, 1, 2, 1, 2, 1, 1, 2, 1, 1, 2, 1, 2, 1, 1, 2, 1, 2, 1, 1, 2, 1, 1, 2, 1, 2, 1, 1, 2, 1, 2, 1, 1, 2, 1, 1, 2, 1, 2, 1, 1, 2, 1, 2, 1, 1, 2, 1, 1, 2, 1, 2, 1, 1, 2, 1, 2, 1, 1, 2, 1, 1, 2, 1, 2, 1, 1, 2, 1, 2, 1, 1, 2, 1, 1, 2, 1, 2, 1, 1, 2, 1, 2, 1, 1, 2, 1, 1, 2, 1, 2, 1, 1, 2, 1, 2, 1, 1, 2, 1, 1, 2, 1, 2, 1, 1, 2, 1, 2, 1, 1, 2, 1, 1, 2, 1, 2, 1, 1, 2, 1, 2, 1, 1, 2, 1, 1, 2, 1, 2, 1, 1, 2, 1, 2, 1, 1, 2, 1, 1, 2, 1, 2, 1, 1, 2, 1, 2, 1, 1, 2, 1, 1, 2, 1, 2, 1, 1, 2, 1, 1, 2, 1, 2, 1, 1]) of length 217 after prefixing the suffix with 0 times the current s.m.p.Increase the value of the `max_smp_length` keyword argument to go further.\n"
     ]
    },
    {
     "name": "stdout",
     "output_type": "stream",
     "text": [
      "\u001b[34m\u001b[1mNew candidate s.m.p. found\u001b[22m\u001b[39m because ⟨v_6*, v⟩ - 1 = 0.0004557286209225797 > 1.0e-9:\n",
      "\u001b[31m\u001b[1maborting\u001b[22m\u001b[39m with smp candidate PSW(1.409237365221739, [2, 1, 1, 2, 1, 1, 2, 1, 2, 1, 1, 2, 1, 1, 2, 1, 2, 1, 1, 2, 1, 2, 1, 1, 2, 1, 1, 2, 1, 2, 1, 1, 2, 1, 1, 2, 1, 2, 1, 1, 2, 1, 2, 1, 1, 2, 1, 1, 2, 1, 2, 1, 1, 2, 1, 2, 1, 1, 2, 1, 1, 2, 1, 2, 1, 1, 2, 1, 2, 1, 1, 2, 1, 1, 2, 1, 2, 1, 1, 2, 1, 2, 1, 1, 2, 1, 1, 2, 1, 2, 1, 1, 2, 1, 2, 1, 1, 2, 1, 1, 2, 1, 2, 1, 1, 2, 1, 2, 1, 1, 2, 1, 1, 2, 1, 2, 1, 1, 2, 1, 2, 1, 1, 2, 1, 1, 2, 1, 2, 1, 1, 2, 1, 2, 1, 1, 2, 1, 1, 2, 1, 2, 1, 1, 2, 1, 2, 1, 1, 2, 1, 1, 2, 1, 2, 1, 1, 2, 1, 2, 1, 1, 2, 1, 1, 2, 1, 2, 1, 1, 2, 1, 2, 1, 1, 2, 1, 1, 2, 1, 2, 1, 1, 2, 1, 2, 1, 1, 2, 1, 1, 2, 1, 2, 1, 1, 2, 1, 2, 1, 1, 2, 1, 1, 2, 1, 2, 1, 1, 2, 1, 2, 1, 1, 2, 1, 1]) of length 217 after prefixing the suffix with 0 times the current s.m.p.Increase the value of the `max_smp_length` keyword argument to go further.\n",
      "\u001b[34m\u001b[1mNew candidate s.m.p. found\u001b[22m\u001b[39m because ⟨v_6*, v⟩ - 1 = 0.0004560564292217517 > 1.0e-9:\n",
      "\u001b[31m\u001b[1maborting\u001b[22m\u001b[39m with smp candidate PSW(1.4092373614559996, [2, 1, 1, 2, 1, 1, 2, 1, 2, 1, 1, 2, 1, 1, 2, 1, 2, 1, 1, 2, 1, 2, 1, 1, 2, 1, 1, 2, 1, 2, 1, 1, 2, 1, 2, 1, 1, 2, 1, 1, 2, 1, 2, 1, 1, 2, 1, 2, 1, 1, 2, 1, 1, 2, 1, 2, 1, 1, 2, 1, 2, 1, 1, 2, 1, 1, 2, 1, 2, 1, 1, 2, 1, 2, 1, 1, 2, 1, 1, 2, 1, 2, 1, 1, 2, 1, 2, 1, 1, 2, 1, 1, 2, 1, 2, 1, 1, 2, 1, 2, 1, 1, 2, 1, 1, 2, 1, 2, 1, 1, 2, 1, 2, 1, 1, 2, 1, 1, 2, 1, 2, 1, 1, 2, 1, 2, 1, 1, 2, 1, 1, 2, 1, 2, 1, 1, 2, 1, 2, 1, 1, 2, 1, 1, 2, 1, 2, 1, 1, 2, 1, 2, 1, 1, 2, 1, 1, 2, 1, 2, 1, 1, 2, 1, 2, 1, 1, 2, 1, 1, 2, 1, 2, 1, 1, 2, 1, 2, 1, 1, 2, 1, 1, 2, 1, 2, 1, 1, 2, 1, 2, 1, 1, 2, 1, 1, 2, 1, 2, 1, 1, 2, 1, 2, 1, 1, 2, 1, 1, 2, 1, 2, 1, 1, 2, 1, 1]) of length 217 after prefixing the suffix with 0 times the current s.m.p.Increase the value of the `max_smp_length` keyword argument to go further.\n",
      "Depth 218: [1393] points, 8 living leaves...\n",
      "Depth 219: [1401] points, 8 living leaves...\n",
      "\u001b[34m\u001b[1mNew candidate s.m.p. found\u001b[22m\u001b[39m because ⟨v_6*, v⟩ - 1 = 1.4756769095569666e-7 > 1.0e-9:\n",
      "\u001b[31m\u001b[1maborting\u001b[22m\u001b[39m with smp candidate PSW(1.409242509460484, [2, 1, 1, 2, 1, 1, 2, 1, 2, 1, 1, 2, 1, 2, 1, 1, 2, 1, 1, 2, 1, 2, 1, 1, 2, 1, 2, 1, 1, 2, 1, 1, 2, 1, 2, 1, 1, 2, 1, 2, 1, 1, 2, 1, 1, 2, 1, 2, 1, 1, 2, 1, 2, 1, 1, 2, 1, 1, 2, 1, 2, 1, 1, 2, 1, 2, 1, 1, 2, 1, 1, 2, 1, 2, 1, 1, 2, 1, 2, 1, 1, 2, 1, 1, 2, 1, 2, 1, 1, 2, 1, 2, 1, 1, 2, 1, 1, 2, 1, 2, 1, 1, 2, 1, 2, 1, 1, 2, 1, 1, 2, 1, 2, 1, 1, 2, 1, 2, 1, 1, 2, 1, 1, 2, 1, 2, 1, 1, 2, 1, 2, 1, 1, 2, 1, 1, 2, 1, 2, 1, 1, 2, 1, 2, 1, 1, 2, 1, 1, 2, 1, 2, 1, 1, 2, 1, 2, 1, 1, 2, 1, 1, 2, 1, 2, 1, 1, 2, 1, 2, 1, 1, 2, 1, 1, 2, 1, 2, 1, 1, 2, 1, 2, 1, 1, 2, 1, 1, 2, 1, 2, 1, 1, 2, 1, 2, 1, 1, 2, 1, 1, 2, 1, 2, 1, 1, 2, 1, 2, 1, 1, 2, 1, 1, 2, 1, 2, 1, 1]) of length 219 after prefixing the suffix with 0 times the current s.m.p.Increase the value of the `max_smp_length` keyword argument to go further.\n",
      "Depth 220: [1409] points, 8 living leaves...\n",
      "\u001b[34m\u001b[1mNew candidate s.m.p. found\u001b[22m\u001b[39m because ⟨v_6*, v⟩ - 1 = 1.516522274425114e-7 > 1.0e-9:\n",
      "\u001b[31m\u001b[1maborting\u001b[22m\u001b[39m with smp candidate PSW(1.409242527375889, [2, 1, 1, 2, 1, 1, 2, 1, 2, 1, 1, 2, 1, 1, 2, 1, 2, 1, 1, 2, 1, 2, 1, 1, 2, 1, 1, 2, 1, 2, 1, 1, 2, 1, 1, 2, 1, 2, 1, 1, 2, 1, 2, 1, 1, 2, 1, 1, 2, 1, 2, 1, 1, 2, 1, 1, 2, 1, 2, 1, 1, 2, 1, 2, 1, 1, 2, 1, 1, 2, 1, 2, 1, 1, 2, 1, 1, 2, 1, 2, 1, 1, 2, 1, 2, 1, 1, 2, 1, 1, 2, 1, 2, 1, 1, 2, 1, 2, 1, 1, 2, 1, 1, 2, 1, 2, 1, 1, 2, 1, 2, 1, 1, 2, 1, 1, 2, 1, 2, 1, 1, 2, 1, 2, 1, 1, 2, 1, 1, 2, 1, 2, 1, 1, 2, 1, 2, 1, 1, 2, 1, 1, 2, 1, 2, 1, 1, 2, 1, 2, 1, 1, 2, 1, 1, 2, 1, 2, 1, 1, 2, 1, 2, 1, 1, 2, 1, 1, 2, 1, 2, 1, 1, 2, 1, 2, 1, 1, 2, 1, 1, 2, 1, 2, 1, 1, 2, 1, 2, 1, 1, 2, 1, 1, 2, 1, 2, 1, 1, 2, 1, 2, 1, 1, 2, 1, 1, 2, 1, 2, 1, 1, 2, 1, 1, 2, 1, 2, 1, 1]) of length 220 after prefixing the suffix with 0 times the current s.m.p.Increase the value of the `max_smp_length` keyword argument to go further.\n",
      "\u001b[34m\u001b[1mNew candidate s.m.p. found\u001b[22m\u001b[39m because ⟨v_6*, v⟩ - 1 = 0.00045573067137150147 > 1.0e-9:\n",
      "\u001b[31m\u001b[1maborting\u001b[22m\u001b[39m with smp candidate PSW(1.4092374996326842, [2, 1, 1, 2, 1, 1, 2, 1, 2, 1, 1, 2, 1, 1, 2, 1, 2, 1, 1, 2, 1, 2, 1, 1, 2, 1, 1, 2, 1, 2, 1, 1, 2, 1, 1, 2, 1, 2, 1, 1, 2, 1, 2, 1, 1, 2, 1, 1, 2, 1, 2, 1, 1, 2, 1, 1, 2, 1, 2, 1, 1, 2, 1, 2, 1, 1, 2, 1, 1, 2, 1, 2, 1, 1, 2, 1, 1, 2, 1, 2, 1, 1, 2, 1, 2, 1, 1, 2, 1, 1, 2, 1, 2, 1, 1, 2, 1, 2, 1, 1, 2, 1, 1, 2, 1, 2, 1, 1, 2, 1, 2, 1, 1, 2, 1, 1, 2, 1, 2, 1, 1, 2, 1, 2, 1, 1, 2, 1, 1, 2, 1, 2, 1, 1, 2, 1, 2, 1, 1, 2, 1, 1, 2, 1, 2, 1, 1, 2, 1, 2, 1, 1, 2, 1, 1, 2, 1, 2, 1, 1, 2, 1, 2, 1, 1, 2, 1, 1, 2, 1, 2, 1, 1, 2, 1, 2, 1, 1, 2, 1, 1, 2, 1, 2, 1, 1, 2, 1, 2, 1, 1, 2, 1, 1, 2, 1, 2, 1, 1, 2, 1, 2, 1, 1, 2, 1, 1, 2, 1, 2, 1, 1, 2, 1, 2, 1, 1, 2, 1, 1]) of length 220 after prefixing the suffix with 0 times the current s.m.p.Increase the value of the `max_smp_length` keyword argument to go further.\n",
      "\u001b[34m\u001b[1mNew candidate s.m.p. found\u001b[22m\u001b[39m because ⟨v_6*, v⟩ - 1 = 0.0004560584796726719 > 1.0e-9:\n",
      "\u001b[31m\u001b[1maborting\u001b[22m\u001b[39m with smp candidate PSW(1.4092374959182956, [2, 1, 1, 2, 1, 1, 2, 1, 2, 1, 1, 2, 1, 1, 2, 1, 2, 1, 1, 2, 1, 2, 1, 1, 2, 1, 1, 2, 1, 2, 1, 1, 2, 1, 1, 2, 1, 2, 1, 1, 2, 1, 2, 1, 1, 2, 1, 1, 2, 1, 2, 1, 1, 2, 1, 1, 2, 1, 2, 1, 1, 2, 1, 2, 1, 1, 2, 1, 1, 2, 1, 2, 1, 1, 2, 1, 2, 1, 1, 2, 1, 1, 2, 1, 2, 1, 1, 2, 1, 2, 1, 1, 2, 1, 1, 2, 1, 2, 1, 1, 2, 1, 2, 1, 1, 2, 1, 1, 2, 1, 2, 1, 1, 2, 1, 2, 1, 1, 2, 1, 1, 2, 1, 2, 1, 1, 2, 1, 2, 1, 1, 2, 1, 1, 2, 1, 2, 1, 1, 2, 1, 2, 1, 1, 2, 1, 1, 2, 1, 2, 1, 1, 2, 1, 2, 1, 1, 2, 1, 1, 2, 1, 2, 1, 1, 2, 1, 2, 1, 1, 2, 1, 1, 2, 1, 2, 1, 1, 2, 1, 2, 1, 1, 2, 1, 1, 2, 1, 2, 1, 1, 2, 1, 2, 1, 1, 2, 1, 1, 2, 1, 2, 1, 1, 2, 1, 2, 1, 1, 2, 1, 1, 2, 1, 2, 1, 1, 2, 1, 1]) of length 220 after prefixing the suffix with 0 times the current s.m.p.Increase the value of the `max_smp_length` keyword argument to go further.\n",
      "Depth 221: [1417] points, 8 living leaves...\n",
      "Depth 222: [1425] points, 8 living leaves...\n",
      "\u001b[34m\u001b[1mNew candidate s.m.p. found\u001b[22m\u001b[39m because ⟨v_6*, v⟩ - 1 = 1.496172081782987e-7 > 1.0e-9:\n",
      "\u001b[31m\u001b[1maborting\u001b[22m\u001b[39m with smp candidate PSW(1.4092425697074353, [2, 1, 1, 2, 1, 1, 2, 1, 2, 1, 1, 2, 1, 1, 2, 1, 2, 1, 1, 2, 1, 2, 1, 1, 2, 1, 1, 2, 1, 2, 1, 1, 2, 1, 1, 2, 1, 2, 1, 1, 2, 1, 2, 1, 1, 2, 1, 1, 2, 1, 2, 1, 1, 2, 1, 2, 1, 1, 2, 1, 1, 2, 1, 2, 1, 1, 2, 1, 2, 1, 1, 2, 1, 1, 2, 1, 2, 1, 1, 2, 1, 2, 1, 1, 2, 1, 1, 2, 1, 2, 1, 1, 2, 1, 2, 1, 1, 2, 1, 1, 2, 1, 2, 1, 1, 2, 1, 2, 1, 1, 2, 1, 1, 2, 1, 2, 1, 1, 2, 1, 2, 1, 1, 2, 1, 1, 2, 1, 2, 1, 1, 2, 1, 2, 1, 1, 2, 1, 1, 2, 1, 2, 1, 1, 2, 1, 2, 1, 1, 2, 1, 1, 2, 1, 2, 1, 1, 2, 1, 2, 1, 1, 2, 1, 1, 2, 1, 2, 1, 1, 2, 1, 2, 1, 1, 2, 1, 1, 2, 1, 2, 1, 1, 2, 1, 2, 1, 1, 2, 1, 1, 2, 1, 2, 1, 1, 2, 1, 2, 1, 1, 2, 1, 1, 2, 1, 2, 1, 1, 2, 1, 2, 1, 1, 2, 1, 1, 2, 1, 2, 1, 1]) of length 222 after prefixing the suffix with 0 times the current s.m.p.Increase the value of the `max_smp_length` keyword argument to go further.\n",
      "\u001b[34m\u001b[1mNew candidate s.m.p. found\u001b[22m\u001b[39m because ⟨v_6*, v⟩ - 1 = 1.5301828359959302e-7 > 1.0e-9:\n",
      "\u001b[31m\u001b[1maborting\u001b[22m\u001b[39m with smp candidate PSW(1.4092425696702546, [2, 1, 1, 2, 1, 1, 2, 1, 2, 1, 1, 2, 1, 1, 2, 1, 2, 1, 1, 2, 1, 2, 1, 1, 2, 1, 1, 2, 1, 2, 1, 1, 2, 1, 2, 1, 1, 2, 1, 1, 2, 1, 2, 1, 1, 2, 1, 2, 1, 1, 2, 1, 1, 2, 1, 2, 1, 1, 2, 1, 2, 1, 1, 2, 1, 1, 2, 1, 2, 1, 1, 2, 1, 2, 1, 1, 2, 1, 1, 2, 1, 2, 1, 1, 2, 1, 2, 1, 1, 2, 1, 1, 2, 1, 2, 1, 1, 2, 1, 2, 1, 1, 2, 1, 1, 2, 1, 2, 1, 1, 2, 1, 2, 1, 1, 2, 1, 1, 2, 1, 2, 1, 1, 2, 1, 2, 1, 1, 2, 1, 1, 2, 1, 2, 1, 1, 2, 1, 2, 1, 1, 2, 1, 1, 2, 1, 2, 1, 1, 2, 1, 2, 1, 1, 2, 1, 1, 2, 1, 2, 1, 1, 2, 1, 2, 1, 1, 2, 1, 1, 2, 1, 2, 1, 1, 2, 1, 2, 1, 1, 2, 1, 1, 2, 1, 2, 1, 1, 2, 1, 2, 1, 1, 2, 1, 1, 2, 1, 2, 1, 1, 2, 1, 2, 1, 1, 2, 1, 1, 2, 1, 2, 1, 1, 2, 1, 1, 2, 1, 2, 1, 1]) of length 222 after prefixing the suffix with 0 times the current s.m.p.Increase the value of the `max_smp_length` keyword argument to go further.\n",
      "\u001b[34m\u001b[1mNew candidate s.m.p. found\u001b[22m\u001b[39m because ⟨v_6*, v⟩ - 1 = 0.00045573203804982754 > 1.0e-9:\n",
      "\u001b[31m\u001b[1maborting\u001b[22m\u001b[39m with smp candidate PSW(1.409237587221804, [2, 1, 1, 2, 1, 1, 2, 1, 2, 1, 1, 2, 1, 1, 2, 1, 2, 1, 1, 2, 1, 2, 1, 1, 2, 1, 1, 2, 1, 2, 1, 1, 2, 1, 2, 1, 1, 2, 1, 1, 2, 1, 2, 1, 1, 2, 1, 2, 1, 1, 2, 1, 1, 2, 1, 2, 1, 1, 2, 1, 2, 1, 1, 2, 1, 1, 2, 1, 2, 1, 1, 2, 1, 2, 1, 1, 2, 1, 1, 2, 1, 2, 1, 1, 2, 1, 2, 1, 1, 2, 1, 1, 2, 1, 2, 1, 1, 2, 1, 2, 1, 1, 2, 1, 1, 2, 1, 2, 1, 1, 2, 1, 2, 1, 1, 2, 1, 1, 2, 1, 2, 1, 1, 2, 1, 2, 1, 1, 2, 1, 1, 2, 1, 2, 1, 1, 2, 1, 2, 1, 1, 2, 1, 1, 2, 1, 2, 1, 1, 2, 1, 2, 1, 1, 2, 1, 1, 2, 1, 2, 1, 1, 2, 1, 2, 1, 1, 2, 1, 1, 2, 1, 2, 1, 1, 2, 1, 2, 1, 1, 2, 1, 1, 2, 1, 2, 1, 1, 2, 1, 2, 1, 1, 2, 1, 1, 2, 1, 2, 1, 1, 2, 1, 2, 1, 1, 2, 1, 1, 2, 1, 2, 1, 1, 2, 1, 2, 1, 1, 2, 1, 1]) of length 222 after prefixing the suffix with 0 times the current s.m.p.Increase the value of the `max_smp_length` keyword argument to go further.\n",
      "\u001b[34m\u001b[1mNew candidate s.m.p. found\u001b[22m\u001b[39m because ⟨v_6*, v⟩ - 1 = 0.00045605984635099794 > 1.0e-9:\n",
      "\u001b[31m\u001b[1maborting\u001b[22m\u001b[39m with smp candidate PSW(1.409237587221804, [2, 1, 1, 2, 1, 1, 2, 1, 2, 1, 1, 2, 1, 2, 1, 1, 2, 1, 1, 2, 1, 2, 1, 1, 2, 1, 2, 1, 1, 2, 1, 1, 2, 1, 2, 1, 1, 2, 1, 2, 1, 1, 2, 1, 1, 2, 1, 2, 1, 1, 2, 1, 2, 1, 1, 2, 1, 1, 2, 1, 2, 1, 1, 2, 1, 2, 1, 1, 2, 1, 1, 2, 1, 2, 1, 1, 2, 1, 2, 1, 1, 2, 1, 1, 2, 1, 2, 1, 1, 2, 1, 2, 1, 1, 2, 1, 1, 2, 1, 2, 1, 1, 2, 1, 2, 1, 1, 2, 1, 1, 2, 1, 2, 1, 1, 2, 1, 2, 1, 1, 2, 1, 1, 2, 1, 2, 1, 1, 2, 1, 2, 1, 1, 2, 1, 1, 2, 1, 2, 1, 1, 2, 1, 2, 1, 1, 2, 1, 1, 2, 1, 2, 1, 1, 2, 1, 2, 1, 1, 2, 1, 1, 2, 1, 2, 1, 1, 2, 1, 2, 1, 1, 2, 1, 1, 2, 1, 2, 1, 1, 2, 1, 2, 1, 1, 2, 1, 1, 2, 1, 2, 1, 1, 2, 1, 2, 1, 1, 2, 1, 1, 2, 1, 2, 1, 1, 2, 1, 2, 1, 1, 2, 1, 1, 2, 1, 2, 1, 1, 2, 1, 1]) of length 222 after prefixing the suffix with 0 times the current s.m.p.Increase the value of the `max_smp_length` keyword argument to go further.\n"
     ]
    },
    {
     "name": "stdout",
     "output_type": "stream",
     "text": [
      "Depth 223: [1434] points, 9 living leaves...\n",
      "Depth 224: [1442] points, 8 living leaves...\n",
      "Depth 225: [1450] points, 8 living leaves...\n",
      "\u001b[34m\u001b[1mNew candidate s.m.p. found\u001b[22m\u001b[39m because ⟨v_6*, v⟩ - 1 = 1.516667229584101e-7 > 1.0e-9:\n",
      "\u001b[31m\u001b[1maborting\u001b[22m\u001b[39m with smp candidate PSW(1.4092426317386806, [2, 1, 1, 2, 1, 1, 2, 1, 2, 1, 1, 2, 1, 1, 2, 1, 2, 1, 1, 2, 1, 2, 1, 1, 2, 1, 1, 2, 1, 2, 1, 1, 2, 1, 1, 2, 1, 2, 1, 1, 2, 1, 2, 1, 1, 2, 1, 1, 2, 1, 2, 1, 1, 2, 1, 1, 2, 1, 2, 1, 1, 2, 1, 2, 1, 1, 2, 1, 1, 2, 1, 2, 1, 1, 2, 1, 1, 2, 1, 2, 1, 1, 2, 1, 2, 1, 1, 2, 1, 1, 2, 1, 2, 1, 1, 2, 1, 2, 1, 1, 2, 1, 1, 2, 1, 2, 1, 1, 2, 1, 2, 1, 1, 2, 1, 1, 2, 1, 2, 1, 1, 2, 1, 2, 1, 1, 2, 1, 1, 2, 1, 2, 1, 1, 2, 1, 2, 1, 1, 2, 1, 1, 2, 1, 2, 1, 1, 2, 1, 2, 1, 1, 2, 1, 1, 2, 1, 2, 1, 1, 2, 1, 2, 1, 1, 2, 1, 1, 2, 1, 2, 1, 1, 2, 1, 2, 1, 1, 2, 1, 1, 2, 1, 2, 1, 1, 2, 1, 2, 1, 1, 2, 1, 1, 2, 1, 2, 1, 1, 2, 1, 2, 1, 1, 2, 1, 1, 2, 1, 2, 1, 1, 2, 1, 2, 1, 1, 2, 1, 1, 2, 1, 2, 1, 1]) of length 225 after prefixing the suffix with 0 times the current s.m.p.Increase the value of the `max_smp_length` keyword argument to go further.\n",
      "\u001b[34m\u001b[1mNew candidate s.m.p. found\u001b[22m\u001b[39m because ⟨v_6*, v⟩ - 1 = 1.5506779993401665e-7 > 1.0e-9:\n",
      "\u001b[31m\u001b[1maborting\u001b[22m\u001b[39m with smp candidate PSW(1.4092426317019957, [2, 1, 1, 2, 1, 1, 2, 1, 2, 1, 1, 2, 1, 1, 2, 1, 2, 1, 1, 2, 1, 2, 1, 1, 2, 1, 1, 2, 1, 2, 1, 1, 2, 1, 1, 2, 1, 2, 1, 1, 2, 1, 2, 1, 1, 2, 1, 1, 2, 1, 2, 1, 1, 2, 1, 1, 2, 1, 2, 1, 1, 2, 1, 2, 1, 1, 2, 1, 1, 2, 1, 2, 1, 1, 2, 1, 2, 1, 1, 2, 1, 1, 2, 1, 2, 1, 1, 2, 1, 2, 1, 1, 2, 1, 1, 2, 1, 2, 1, 1, 2, 1, 2, 1, 1, 2, 1, 1, 2, 1, 2, 1, 1, 2, 1, 2, 1, 1, 2, 1, 1, 2, 1, 2, 1, 1, 2, 1, 2, 1, 1, 2, 1, 1, 2, 1, 2, 1, 1, 2, 1, 2, 1, 1, 2, 1, 1, 2, 1, 2, 1, 1, 2, 1, 2, 1, 1, 2, 1, 1, 2, 1, 2, 1, 1, 2, 1, 2, 1, 1, 2, 1, 1, 2, 1, 2, 1, 1, 2, 1, 2, 1, 1, 2, 1, 1, 2, 1, 2, 1, 1, 2, 1, 2, 1, 1, 2, 1, 1, 2, 1, 2, 1, 1, 2, 1, 2, 1, 1, 2, 1, 1, 2, 1, 2, 1, 1, 2, 1, 1, 2, 1, 2, 1, 1]) of length 225 after prefixing the suffix with 0 times the current s.m.p.Increase the value of the `max_smp_length` keyword argument to go further.\n",
      "\u001b[34m\u001b[1mNew candidate s.m.p. found\u001b[22m\u001b[39m because ⟨v_6*, v⟩ - 1 = 0.00045573408850008157 > 1.0e-9:\n",
      "\u001b[31m\u001b[1maborting\u001b[22m\u001b[39m with smp candidate PSW(1.4092377156858589, [2, 1, 1, 2, 1, 1, 2, 1, 2, 1, 1, 2, 1, 1, 2, 1, 2, 1, 1, 2, 1, 2, 1, 1, 2, 1, 1, 2, 1, 2, 1, 1, 2, 1, 1, 2, 1, 2, 1, 1, 2, 1, 2, 1, 1, 2, 1, 1, 2, 1, 2, 1, 1, 2, 1, 1, 2, 1, 2, 1, 1, 2, 1, 2, 1, 1, 2, 1, 1, 2, 1, 2, 1, 1, 2, 1, 2, 1, 1, 2, 1, 1, 2, 1, 2, 1, 1, 2, 1, 2, 1, 1, 2, 1, 1, 2, 1, 2, 1, 1, 2, 1, 2, 1, 1, 2, 1, 1, 2, 1, 2, 1, 1, 2, 1, 2, 1, 1, 2, 1, 1, 2, 1, 2, 1, 1, 2, 1, 2, 1, 1, 2, 1, 1, 2, 1, 2, 1, 1, 2, 1, 2, 1, 1, 2, 1, 1, 2, 1, 2, 1, 1, 2, 1, 2, 1, 1, 2, 1, 1, 2, 1, 2, 1, 1, 2, 1, 2, 1, 1, 2, 1, 1, 2, 1, 2, 1, 1, 2, 1, 2, 1, 1, 2, 1, 1, 2, 1, 2, 1, 1, 2, 1, 2, 1, 1, 2, 1, 1, 2, 1, 2, 1, 1, 2, 1, 2, 1, 1, 2, 1, 1, 2, 1, 2, 1, 1, 2, 1, 2, 1, 1, 2, 1, 1]) of length 225 after prefixing the suffix with 0 times the current s.m.p.Increase the value of the `max_smp_length` keyword argument to go further.\n",
      "\u001b[34m\u001b[1mNew candidate s.m.p. found\u001b[22m\u001b[39m because ⟨v_6*, v⟩ - 1 = 0.0004560618968028063 > 1.0e-9:\n",
      "\u001b[31m\u001b[1maborting\u001b[22m\u001b[39m with smp candidate PSW(1.4092377120540114, [2, 1, 1, 2, 1, 1, 2, 1, 2, 1, 1, 2, 1, 1, 2, 1, 2, 1, 1, 2, 1, 2, 1, 1, 2, 1, 1, 2, 1, 2, 1, 1, 2, 1, 1, 2, 1, 2, 1, 1, 2, 1, 2, 1, 1, 2, 1, 1, 2, 1, 2, 1, 1, 2, 1, 2, 1, 1, 2, 1, 1, 2, 1, 2, 1, 1, 2, 1, 2, 1, 1, 2, 1, 1, 2, 1, 2, 1, 1, 2, 1, 2, 1, 1, 2, 1, 1, 2, 1, 2, 1, 1, 2, 1, 2, 1, 1, 2, 1, 1, 2, 1, 2, 1, 1, 2, 1, 2, 1, 1, 2, 1, 1, 2, 1, 2, 1, 1, 2, 1, 2, 1, 1, 2, 1, 1, 2, 1, 2, 1, 1, 2, 1, 2, 1, 1, 2, 1, 1, 2, 1, 2, 1, 1, 2, 1, 2, 1, 1, 2, 1, 1, 2, 1, 2, 1, 1, 2, 1, 2, 1, 1, 2, 1, 1, 2, 1, 2, 1, 1, 2, 1, 2, 1, 1, 2, 1, 1, 2, 1, 2, 1, 1, 2, 1, 2, 1, 1, 2, 1, 1, 2, 1, 2, 1, 1, 2, 1, 2, 1, 1, 2, 1, 1, 2, 1, 2, 1, 1, 2, 1, 2, 1, 1, 2, 1, 1, 2, 1, 2, 1, 1, 2, 1, 1]) of length 225 after prefixing the suffix with 0 times the current s.m.p.Increase the value of the `max_smp_length` keyword argument to go further.\n",
      "Depth 226: [1458] points, 8 living leaves...\n",
      "Depth 227: [1466] points, 8 living leaves...\n",
      "\u001b[34m\u001b[1mNew candidate s.m.p. found\u001b[22m\u001b[39m because ⟨v_6*, v⟩ - 1 = 1.5303277911549173e-7 > 1.0e-9:\n",
      "\u001b[31m\u001b[1maborting\u001b[22m\u001b[39m with smp candidate PSW(1.409242672181959, [2, 1, 1, 2, 1, 1, 2, 1, 2, 1, 1, 2, 1, 1, 2, 1, 2, 1, 1, 2, 1, 2, 1, 1, 2, 1, 1, 2, 1, 2, 1, 1, 2, 1, 2, 1, 1, 2, 1, 1, 2, 1, 2, 1, 1, 2, 1, 2, 1, 1, 2, 1, 1, 2, 1, 2, 1, 1, 2, 1, 2, 1, 1, 2, 1, 1, 2, 1, 2, 1, 1, 2, 1, 2, 1, 1, 2, 1, 1, 2, 1, 2, 1, 1, 2, 1, 2, 1, 1, 2, 1, 1, 2, 1, 2, 1, 1, 2, 1, 2, 1, 1, 2, 1, 1, 2, 1, 2, 1, 1, 2, 1, 2, 1, 1, 2, 1, 1, 2, 1, 2, 1, 1, 2, 1, 2, 1, 1, 2, 1, 1, 2, 1, 2, 1, 1, 2, 1, 2, 1, 1, 2, 1, 1, 2, 1, 2, 1, 1, 2, 1, 2, 1, 1, 2, 1, 1, 2, 1, 2, 1, 1, 2, 1, 2, 1, 1, 2, 1, 1, 2, 1, 2, 1, 1, 2, 1, 2, 1, 1, 2, 1, 1, 2, 1, 2, 1, 1, 2, 1, 2, 1, 1, 2, 1, 1, 2, 1, 2, 1, 1, 2, 1, 2, 1, 1, 2, 1, 1, 2, 1, 2, 1, 1, 2, 1, 2, 1, 1, 2, 1, 1, 2, 1, 2, 1, 1]) of length 227 after prefixing the suffix with 0 times the current s.m.p.Increase the value of the `max_smp_length` keyword argument to go further.\n",
      "\u001b[34m\u001b[1mNew candidate s.m.p. found\u001b[22m\u001b[39m because ⟨v_6*, v⟩ - 1 = 1.5643385564700907e-7 > 1.0e-9:\n",
      "\u001b[31m\u001b[1maborting\u001b[22m\u001b[39m with smp candidate PSW(1.4092426755066003, [2, 1, 1, 2, 1, 1, 2, 1, 2, 1, 1, 2, 1, 2, 1, 1, 2, 1, 1, 2, 1, 2, 1, 1, 2, 1, 2, 1, 1, 2, 1, 1, 2, 1, 2, 1, 1, 2, 1, 2, 1, 1, 2, 1, 1, 2, 1, 2, 1, 1, 2, 1, 2, 1, 1, 2, 1, 1, 2, 1, 2, 1, 1, 2, 1, 2, 1, 1, 2, 1, 1, 2, 1, 2, 1, 1, 2, 1, 2, 1, 1, 2, 1, 1, 2, 1, 2, 1, 1, 2, 1, 2, 1, 1, 2, 1, 1, 2, 1, 2, 1, 1, 2, 1, 2, 1, 1, 2, 1, 1, 2, 1, 2, 1, 1, 2, 1, 2, 1, 1, 2, 1, 1, 2, 1, 2, 1, 1, 2, 1, 2, 1, 1, 2, 1, 1, 2, 1, 2, 1, 1, 2, 1, 2, 1, 1, 2, 1, 1, 2, 1, 2, 1, 1, 2, 1, 2, 1, 1, 2, 1, 1, 2, 1, 2, 1, 1, 2, 1, 2, 1, 1, 2, 1, 1, 2, 1, 2, 1, 1, 2, 1, 2, 1, 1, 2, 1, 1, 2, 1, 2, 1, 1, 2, 1, 2, 1, 1, 2, 1, 1, 2, 1, 2, 1, 1, 2, 1, 2, 1, 1, 2, 1, 1, 2, 1, 2, 1, 1, 2, 1, 1, 2, 1, 2, 1, 1]) of length 227 after prefixing the suffix with 0 times the current s.m.p.Increase the value of the `max_smp_length` keyword argument to go further.\n",
      "\u001b[34m\u001b[1mNew candidate s.m.p. found\u001b[22m\u001b[39m because ⟨v_6*, v⟩ - 1 = 0.0004557354551781856 > 1.0e-9:\n",
      "\u001b[31m\u001b[1maborting\u001b[22m\u001b[39m with smp candidate PSW(1.4092378030418375, [2, 1, 1, 2, 1, 1, 2, 1, 2, 1, 1, 2, 1, 2, 1, 1, 2, 1, 1, 2, 1, 2, 1, 1, 2, 1, 2, 1, 1, 2, 1, 1, 2, 1, 2, 1, 1, 2, 1, 2, 1, 1, 2, 1, 1, 2, 1, 2, 1, 1, 2, 1, 2, 1, 1, 2, 1, 1, 2, 1, 2, 1, 1, 2, 1, 2, 1, 1, 2, 1, 1, 2, 1, 2, 1, 1, 2, 1, 2, 1, 1, 2, 1, 1, 2, 1, 2, 1, 1, 2, 1, 2, 1, 1, 2, 1, 1, 2, 1, 2, 1, 1, 2, 1, 2, 1, 1, 2, 1, 1, 2, 1, 2, 1, 1, 2, 1, 2, 1, 1, 2, 1, 1, 2, 1, 2, 1, 1, 2, 1, 2, 1, 1, 2, 1, 1, 2, 1, 2, 1, 1, 2, 1, 2, 1, 1, 2, 1, 1, 2, 1, 2, 1, 1, 2, 1, 2, 1, 1, 2, 1, 1, 2, 1, 2, 1, 1, 2, 1, 2, 1, 1, 2, 1, 1, 2, 1, 2, 1, 1, 2, 1, 2, 1, 1, 2, 1, 1, 2, 1, 2, 1, 1, 2, 1, 2, 1, 1, 2, 1, 1, 2, 1, 2, 1, 1, 2, 1, 2, 1, 1, 2, 1, 1, 2, 1, 2, 1, 1, 2, 1, 2, 1, 1, 2, 1, 1]) of length 227 after prefixing the suffix with 0 times the current s.m.p.Increase the value of the `max_smp_length` keyword argument to go further.\n",
      "Depth 228: [1474] points, 8 living leaves...\n",
      "\u001b[34m\u001b[1mNew candidate s.m.p. found\u001b[22m\u001b[39m because ⟨v_6*, v⟩ - 1 = 0.00045606394725217214 > 1.0e-9:\n",
      "\u001b[31m\u001b[1maborting\u001b[22m\u001b[39m with smp candidate PSW(1.4092378371852317, [2, 1, 1, 2, 1, 1, 2, 1, 2, 1, 1, 2, 1, 1, 2, 1, 2, 1, 1, 2, 1, 2, 1, 1, 2, 1, 1, 2, 1, 2, 1, 1, 2, 1, 1, 2, 1, 2, 1, 1, 2, 1, 2, 1, 1, 2, 1, 1, 2, 1, 2, 1, 1, 2, 1, 1, 2, 1, 2, 1, 1, 2, 1, 2, 1, 1, 2, 1, 1, 2, 1, 2, 1, 1, 2, 1, 1, 2, 1, 2, 1, 1, 2, 1, 2, 1, 1, 2, 1, 1, 2, 1, 2, 1, 1, 2, 1, 2, 1, 1, 2, 1, 1, 2, 1, 2, 1, 1, 2, 1, 2, 1, 1, 2, 1, 1, 2, 1, 2, 1, 1, 2, 1, 2, 1, 1, 2, 1, 1, 2, 1, 2, 1, 1, 2, 1, 2, 1, 1, 2, 1, 1, 2, 1, 2, 1, 1, 2, 1, 2, 1, 1, 2, 1, 1, 2, 1, 2, 1, 1, 2, 1, 2, 1, 1, 2, 1, 1, 2, 1, 2, 1, 1, 2, 1, 2, 1, 1, 2, 1, 1, 2, 1, 2, 1, 1, 2, 1, 2, 1, 1, 2, 1, 1, 2, 1, 2, 1, 1, 2, 1, 2, 1, 1, 2, 1, 1, 2, 1, 2, 1, 1, 2, 1, 2, 1, 1, 2, 1, 1, 2, 1, 2, 1, 1, 2, 1, 1]) of length 228 after prefixing the suffix with 0 times the current s.m.p.Increase the value of the `max_smp_length` keyword argument to go further.\n"
     ]
    },
    {
     "name": "stdout",
     "output_type": "stream",
     "text": [
      "Depth 229: [1482] points, 8 living leaves...\n",
      "Depth 230: [1490] points, 8 living leaves...\n",
      "\u001b[34m\u001b[1mNew candidate s.m.p. found\u001b[22m\u001b[39m because ⟨v_6*, v⟩ - 1 = 1.5508229544991536e-7 > 1.0e-9:\n",
      "\u001b[31m\u001b[1maborting\u001b[22m\u001b[39m with smp candidate PSW(1.409242731528079, [2, 1, 1, 2, 1, 1, 2, 1, 2, 1, 1, 2, 1, 1, 2, 1, 2, 1, 1, 2, 1, 2, 1, 1, 2, 1, 1, 2, 1, 2, 1, 1, 2, 1, 1, 2, 1, 2, 1, 1, 2, 1, 2, 1, 1, 2, 1, 1, 2, 1, 2, 1, 1, 2, 1, 1, 2, 1, 2, 1, 1, 2, 1, 2, 1, 1, 2, 1, 1, 2, 1, 2, 1, 1, 2, 1, 2, 1, 1, 2, 1, 1, 2, 1, 2, 1, 1, 2, 1, 2, 1, 1, 2, 1, 1, 2, 1, 2, 1, 1, 2, 1, 2, 1, 1, 2, 1, 1, 2, 1, 2, 1, 1, 2, 1, 2, 1, 1, 2, 1, 1, 2, 1, 2, 1, 1, 2, 1, 2, 1, 1, 2, 1, 1, 2, 1, 2, 1, 1, 2, 1, 2, 1, 1, 2, 1, 1, 2, 1, 2, 1, 1, 2, 1, 2, 1, 1, 2, 1, 1, 2, 1, 2, 1, 1, 2, 1, 2, 1, 1, 2, 1, 1, 2, 1, 2, 1, 1, 2, 1, 2, 1, 1, 2, 1, 1, 2, 1, 2, 1, 1, 2, 1, 2, 1, 1, 2, 1, 1, 2, 1, 2, 1, 1, 2, 1, 2, 1, 1, 2, 1, 1, 2, 1, 2, 1, 1, 2, 1, 2, 1, 1, 2, 1, 1, 2, 1, 2, 1, 1]) of length 230 after prefixing the suffix with 0 times the current s.m.p.Increase the value of the `max_smp_length` keyword argument to go further.\n",
      "\u001b[34m\u001b[1mNew candidate s.m.p. found\u001b[22m\u001b[39m because ⟨v_6*, v⟩ - 1 = 1.5848337286961112e-7 > 1.0e-9:\n",
      "\u001b[31m\u001b[1maborting\u001b[22m\u001b[39m with smp candidate PSW(1.4092427314921916, [2, 1, 1, 2, 1, 1, 2, 1, 2, 1, 1, 2, 1, 1, 2, 1, 2, 1, 1, 2, 1, 2, 1, 1, 2, 1, 1, 2, 1, 2, 1, 1, 2, 1, 1, 2, 1, 2, 1, 1, 2, 1, 2, 1, 1, 2, 1, 1, 2, 1, 2, 1, 1, 2, 1, 2, 1, 1, 2, 1, 1, 2, 1, 2, 1, 1, 2, 1, 2, 1, 1, 2, 1, 1, 2, 1, 2, 1, 1, 2, 1, 2, 1, 1, 2, 1, 1, 2, 1, 2, 1, 1, 2, 1, 2, 1, 1, 2, 1, 1, 2, 1, 2, 1, 1, 2, 1, 2, 1, 1, 2, 1, 1, 2, 1, 2, 1, 1, 2, 1, 2, 1, 1, 2, 1, 1, 2, 1, 2, 1, 1, 2, 1, 2, 1, 1, 2, 1, 1, 2, 1, 2, 1, 1, 2, 1, 2, 1, 1, 2, 1, 1, 2, 1, 2, 1, 1, 2, 1, 2, 1, 1, 2, 1, 1, 2, 1, 2, 1, 1, 2, 1, 2, 1, 1, 2, 1, 1, 2, 1, 2, 1, 1, 2, 1, 2, 1, 1, 2, 1, 1, 2, 1, 2, 1, 1, 2, 1, 2, 1, 1, 2, 1, 1, 2, 1, 2, 1, 1, 2, 1, 2, 1, 1, 2, 1, 1, 2, 1, 2, 1, 1, 2, 1, 1, 2, 1, 2, 1, 1]) of length 230 after prefixing the suffix with 0 times the current s.m.p.Increase the value of the `max_smp_length` keyword argument to go further.\n",
      "\u001b[34m\u001b[1mNew candidate s.m.p. found\u001b[22m\u001b[39m because ⟨v_6*, v⟩ - 1 = 0.00045573750562910575 > 1.0e-9:\n",
      "\u001b[31m\u001b[1maborting\u001b[22m\u001b[39m with smp candidate PSW(1.4092379223454479, [2, 1, 1, 2, 1, 1, 2, 1, 2, 1, 1, 2, 1, 1, 2, 1, 2, 1, 1, 2, 1, 2, 1, 1, 2, 1, 1, 2, 1, 2, 1, 1, 2, 1, 1, 2, 1, 2, 1, 1, 2, 1, 2, 1, 1, 2, 1, 1, 2, 1, 2, 1, 1, 2, 1, 2, 1, 1, 2, 1, 1, 2, 1, 2, 1, 1, 2, 1, 2, 1, 1, 2, 1, 1, 2, 1, 2, 1, 1, 2, 1, 2, 1, 1, 2, 1, 1, 2, 1, 2, 1, 1, 2, 1, 2, 1, 1, 2, 1, 1, 2, 1, 2, 1, 1, 2, 1, 2, 1, 1, 2, 1, 1, 2, 1, 2, 1, 1, 2, 1, 2, 1, 1, 2, 1, 1, 2, 1, 2, 1, 1, 2, 1, 2, 1, 1, 2, 1, 1, 2, 1, 2, 1, 1, 2, 1, 2, 1, 1, 2, 1, 1, 2, 1, 2, 1, 1, 2, 1, 2, 1, 1, 2, 1, 1, 2, 1, 2, 1, 1, 2, 1, 2, 1, 1, 2, 1, 1, 2, 1, 2, 1, 1, 2, 1, 2, 1, 1, 2, 1, 1, 2, 1, 2, 1, 1, 2, 1, 2, 1, 1, 2, 1, 1, 2, 1, 2, 1, 1, 2, 1, 2, 1, 1, 2, 1, 1, 2, 1, 2, 1, 1, 2, 1, 2, 1, 1, 2, 1, 1]) of length 230 after prefixing the suffix with 0 times the current s.m.p.Increase the value of the `max_smp_length` keyword argument to go further.\n",
      "\u001b[34m\u001b[1mNew candidate s.m.p. found\u001b[22m\u001b[39m because ⟨v_6*, v⟩ - 1 = 0.0004560653139309423 > 1.0e-9:\n",
      "\u001b[31m\u001b[1maborting\u001b[22m\u001b[39m with smp candidate PSW(1.4092379187925532, [2, 1, 1, 2, 1, 1, 2, 1, 2, 1, 1, 2, 1, 1, 2, 1, 2, 1, 1, 2, 1, 2, 1, 1, 2, 1, 1, 2, 1, 2, 1, 1, 2, 1, 2, 1, 1, 2, 1, 1, 2, 1, 2, 1, 1, 2, 1, 2, 1, 1, 2, 1, 1, 2, 1, 2, 1, 1, 2, 1, 2, 1, 1, 2, 1, 1, 2, 1, 2, 1, 1, 2, 1, 2, 1, 1, 2, 1, 1, 2, 1, 2, 1, 1, 2, 1, 2, 1, 1, 2, 1, 1, 2, 1, 2, 1, 1, 2, 1, 2, 1, 1, 2, 1, 1, 2, 1, 2, 1, 1, 2, 1, 2, 1, 1, 2, 1, 1, 2, 1, 2, 1, 1, 2, 1, 2, 1, 1, 2, 1, 1, 2, 1, 2, 1, 1, 2, 1, 2, 1, 1, 2, 1, 1, 2, 1, 2, 1, 1, 2, 1, 2, 1, 1, 2, 1, 1, 2, 1, 2, 1, 1, 2, 1, 2, 1, 1, 2, 1, 1, 2, 1, 2, 1, 1, 2, 1, 2, 1, 1, 2, 1, 1, 2, 1, 2, 1, 1, 2, 1, 2, 1, 1, 2, 1, 1, 2, 1, 2, 1, 1, 2, 1, 2, 1, 1, 2, 1, 1, 2, 1, 2, 1, 1, 2, 1, 2, 1, 1, 2, 1, 1, 2, 1, 2, 1, 1, 2, 1, 1]) of length 230 after prefixing the suffix with 0 times the current s.m.p.Increase the value of the `max_smp_length` keyword argument to go further.\n",
      "Depth 231: [1498] points, 8 living leaves...\n",
      "Depth 232: [1506] points, 8 living leaves...\n",
      "\u001b[34m\u001b[1mNew candidate s.m.p. found\u001b[22m\u001b[39m because ⟨v_6*, v⟩ - 1 = 1.56448351606997e-7 > 1.0e-9:\n",
      "\u001b[31m\u001b[1maborting\u001b[22m\u001b[39m with smp candidate PSW(1.4092427735280506, [2, 1, 1, 2, 1, 1, 2, 1, 2, 1, 1, 2, 1, 2, 1, 1, 2, 1, 1, 2, 1, 2, 1, 1, 2, 1, 2, 1, 1, 2, 1, 1, 2, 1, 2, 1, 1, 2, 1, 2, 1, 1, 2, 1, 1, 2, 1, 2, 1, 1, 2, 1, 2, 1, 1, 2, 1, 1, 2, 1, 2, 1, 1, 2, 1, 2, 1, 1, 2, 1, 1, 2, 1, 2, 1, 1, 2, 1, 2, 1, 1, 2, 1, 1, 2, 1, 2, 1, 1, 2, 1, 2, 1, 1, 2, 1, 1, 2, 1, 2, 1, 1, 2, 1, 2, 1, 1, 2, 1, 1, 2, 1, 2, 1, 1, 2, 1, 2, 1, 1, 2, 1, 1, 2, 1, 2, 1, 1, 2, 1, 2, 1, 1, 2, 1, 1, 2, 1, 2, 1, 1, 2, 1, 2, 1, 1, 2, 1, 1, 2, 1, 2, 1, 1, 2, 1, 2, 1, 1, 2, 1, 1, 2, 1, 2, 1, 1, 2, 1, 2, 1, 1, 2, 1, 1, 2, 1, 2, 1, 1, 2, 1, 2, 1, 1, 2, 1, 1, 2, 1, 2, 1, 1, 2, 1, 2, 1, 1, 2, 1, 1, 2, 1, 2, 1, 1, 2, 1, 2, 1, 1, 2, 1, 1, 2, 1, 2, 1, 1, 2, 1, 2, 1, 1, 2, 1, 1, 2, 1, 2, 1, 1]) of length 232 after prefixing the suffix with 0 times the current s.m.p.Increase the value of the `max_smp_length` keyword argument to go further.\n",
      "Depth 233: [1514] points, 8 living leaves...\n",
      "\u001b[34m\u001b[1mNew candidate s.m.p. found\u001b[22m\u001b[39m because ⟨v_6*, v⟩ - 1 = 1.6053288787176712e-7 > 1.0e-9:\n",
      "\u001b[31m\u001b[1maborting\u001b[22m\u001b[39m with smp candidate PSW(1.4092427893105497, [2, 1, 1, 2, 1, 1, 2, 1, 2, 1, 1, 2, 1, 1, 2, 1, 2, 1, 1, 2, 1, 2, 1, 1, 2, 1, 1, 2, 1, 2, 1, 1, 2, 1, 1, 2, 1, 2, 1, 1, 2, 1, 2, 1, 1, 2, 1, 1, 2, 1, 2, 1, 1, 2, 1, 1, 2, 1, 2, 1, 1, 2, 1, 2, 1, 1, 2, 1, 1, 2, 1, 2, 1, 1, 2, 1, 1, 2, 1, 2, 1, 1, 2, 1, 2, 1, 1, 2, 1, 1, 2, 1, 2, 1, 1, 2, 1, 2, 1, 1, 2, 1, 1, 2, 1, 2, 1, 1, 2, 1, 2, 1, 1, 2, 1, 1, 2, 1, 2, 1, 1, 2, 1, 2, 1, 1, 2, 1, 1, 2, 1, 2, 1, 1, 2, 1, 2, 1, 1, 2, 1, 1, 2, 1, 2, 1, 1, 2, 1, 2, 1, 1, 2, 1, 1, 2, 1, 2, 1, 1, 2, 1, 2, 1, 1, 2, 1, 1, 2, 1, 2, 1, 1, 2, 1, 2, 1, 1, 2, 1, 1, 2, 1, 2, 1, 1, 2, 1, 2, 1, 1, 2, 1, 1, 2, 1, 2, 1, 1, 2, 1, 2, 1, 1, 2, 1, 1, 2, 1, 2, 1, 1, 2, 1, 2, 1, 1, 2, 1, 1, 2, 1, 2, 1, 1, 2, 1, 1, 2, 1, 2, 1, 1]) of length 233 after prefixing the suffix with 0 times the current s.m.p.Increase the value of the `max_smp_length` keyword argument to go further.\n",
      "\u001b[34m\u001b[1mNew candidate s.m.p. found\u001b[22m\u001b[39m because ⟨v_6*, v⟩ - 1 = 0.0004557395560778055 > 1.0e-9:\n",
      "\u001b[31m\u001b[1maborting\u001b[22m\u001b[39m with smp candidate PSW(1.4092380420838515, [2, 1, 1, 2, 1, 1, 2, 1, 2, 1, 1, 2, 1, 1, 2, 1, 2, 1, 1, 2, 1, 2, 1, 1, 2, 1, 1, 2, 1, 2, 1, 1, 2, 1, 1, 2, 1, 2, 1, 1, 2, 1, 2, 1, 1, 2, 1, 1, 2, 1, 2, 1, 1, 2, 1, 1, 2, 1, 2, 1, 1, 2, 1, 2, 1, 1, 2, 1, 1, 2, 1, 2, 1, 1, 2, 1, 1, 2, 1, 2, 1, 1, 2, 1, 2, 1, 1, 2, 1, 1, 2, 1, 2, 1, 1, 2, 1, 2, 1, 1, 2, 1, 1, 2, 1, 2, 1, 1, 2, 1, 2, 1, 1, 2, 1, 1, 2, 1, 2, 1, 1, 2, 1, 2, 1, 1, 2, 1, 1, 2, 1, 2, 1, 1, 2, 1, 2, 1, 1, 2, 1, 1, 2, 1, 2, 1, 1, 2, 1, 2, 1, 1, 2, 1, 1, 2, 1, 2, 1, 1, 2, 1, 2, 1, 1, 2, 1, 1, 2, 1, 2, 1, 1, 2, 1, 2, 1, 1, 2, 1, 1, 2, 1, 2, 1, 1, 2, 1, 2, 1, 1, 2, 1, 1, 2, 1, 2, 1, 1, 2, 1, 2, 1, 1, 2, 1, 1, 2, 1, 2, 1, 1, 2, 1, 2, 1, 1, 2, 1, 1, 2, 1, 2, 1, 1, 2, 1, 2, 1, 1, 2, 1, 1]) of length 233 after prefixing the suffix with 0 times the current s.m.p.Increase the value of the `max_smp_length` keyword argument to go further.\n",
      "\u001b[34m\u001b[1mNew candidate s.m.p. found\u001b[22m\u001b[39m because ⟨v_6*, v⟩ - 1 = 0.00045606736438186246 > 1.0e-9:\n",
      "\u001b[31m\u001b[1maborting\u001b[22m\u001b[39m with smp candidate PSW(1.4092380385767018, [2, 1, 1, 2, 1, 1, 2, 1, 2, 1, 1, 2, 1, 1, 2, 1, 2, 1, 1, 2, 1, 2, 1, 1, 2, 1, 1, 2, 1, 2, 1, 1, 2, 1, 1, 2, 1, 2, 1, 1, 2, 1, 2, 1, 1, 2, 1, 1, 2, 1, 2, 1, 1, 2, 1, 1, 2, 1, 2, 1, 1, 2, 1, 2, 1, 1, 2, 1, 1, 2, 1, 2, 1, 1, 2, 1, 2, 1, 1, 2, 1, 1, 2, 1, 2, 1, 1, 2, 1, 2, 1, 1, 2, 1, 1, 2, 1, 2, 1, 1, 2, 1, 2, 1, 1, 2, 1, 1, 2, 1, 2, 1, 1, 2, 1, 2, 1, 1, 2, 1, 1, 2, 1, 2, 1, 1, 2, 1, 2, 1, 1, 2, 1, 1, 2, 1, 2, 1, 1, 2, 1, 2, 1, 1, 2, 1, 1, 2, 1, 2, 1, 1, 2, 1, 2, 1, 1, 2, 1, 1, 2, 1, 2, 1, 1, 2, 1, 2, 1, 1, 2, 1, 1, 2, 1, 2, 1, 1, 2, 1, 2, 1, 1, 2, 1, 1, 2, 1, 2, 1, 1, 2, 1, 2, 1, 1, 2, 1, 1, 2, 1, 2, 1, 1, 2, 1, 2, 1, 1, 2, 1, 1, 2, 1, 2, 1, 1, 2, 1, 2, 1, 1, 2, 1, 1, 2, 1, 2, 1, 1, 2, 1, 1]) of length 233 after prefixing the suffix with 0 times the current s.m.p.Increase the value of the `max_smp_length` keyword argument to go further.\n"
     ]
    },
    {
     "name": "stdout",
     "output_type": "stream",
     "text": [
      "Depth 234: [1522] points, 8 living leaves...\n",
      "Depth 235: [1530] points, 8 living leaves...\n",
      "\u001b[34m\u001b[1mNew candidate s.m.p. found\u001b[22m\u001b[39m because ⟨v_6*, v⟩ - 1 = 1.5849786860755444e-7 > 1.0e-9:\n",
      "\u001b[31m\u001b[1maborting\u001b[22m\u001b[39m with smp candidate PSW(1.4092428270711268, [2, 1, 1, 2, 1, 1, 2, 1, 2, 1, 1, 2, 1, 1, 2, 1, 2, 1, 1, 2, 1, 2, 1, 1, 2, 1, 1, 2, 1, 2, 1, 1, 2, 1, 1, 2, 1, 2, 1, 1, 2, 1, 2, 1, 1, 2, 1, 1, 2, 1, 2, 1, 1, 2, 1, 2, 1, 1, 2, 1, 1, 2, 1, 2, 1, 1, 2, 1, 2, 1, 1, 2, 1, 1, 2, 1, 2, 1, 1, 2, 1, 2, 1, 1, 2, 1, 1, 2, 1, 2, 1, 1, 2, 1, 2, 1, 1, 2, 1, 1, 2, 1, 2, 1, 1, 2, 1, 2, 1, 1, 2, 1, 1, 2, 1, 2, 1, 1, 2, 1, 2, 1, 1, 2, 1, 1, 2, 1, 2, 1, 1, 2, 1, 2, 1, 1, 2, 1, 1, 2, 1, 2, 1, 1, 2, 1, 2, 1, 1, 2, 1, 1, 2, 1, 2, 1, 1, 2, 1, 2, 1, 1, 2, 1, 1, 2, 1, 2, 1, 1, 2, 1, 2, 1, 1, 2, 1, 1, 2, 1, 2, 1, 1, 2, 1, 2, 1, 1, 2, 1, 1, 2, 1, 2, 1, 1, 2, 1, 2, 1, 1, 2, 1, 1, 2, 1, 2, 1, 1, 2, 1, 2, 1, 1, 2, 1, 1, 2, 1, 2, 1, 1, 2, 1, 2, 1, 1, 2, 1, 1, 2, 1, 2, 1, 1]) of length 235 after prefixing the suffix with 0 times the current s.m.p.Increase the value of the `max_smp_length` keyword argument to go further.\n",
      "\u001b[34m\u001b[1mNew candidate s.m.p. found\u001b[22m\u001b[39m because ⟨v_6*, v⟩ - 1 = 1.6189894425089335e-7 > 1.0e-9:\n",
      "\u001b[31m\u001b[1maborting\u001b[22m\u001b[39m with smp candidate PSW(1.409242827036003, [2, 1, 1, 2, 1, 1, 2, 1, 2, 1, 1, 2, 1, 1, 2, 1, 2, 1, 1, 2, 1, 2, 1, 1, 2, 1, 1, 2, 1, 2, 1, 1, 2, 1, 2, 1, 1, 2, 1, 1, 2, 1, 2, 1, 1, 2, 1, 2, 1, 1, 2, 1, 1, 2, 1, 2, 1, 1, 2, 1, 2, 1, 1, 2, 1, 1, 2, 1, 2, 1, 1, 2, 1, 2, 1, 1, 2, 1, 1, 2, 1, 2, 1, 1, 2, 1, 2, 1, 1, 2, 1, 1, 2, 1, 2, 1, 1, 2, 1, 2, 1, 1, 2, 1, 1, 2, 1, 2, 1, 1, 2, 1, 2, 1, 1, 2, 1, 1, 2, 1, 2, 1, 1, 2, 1, 2, 1, 1, 2, 1, 1, 2, 1, 2, 1, 1, 2, 1, 2, 1, 1, 2, 1, 1, 2, 1, 2, 1, 1, 2, 1, 2, 1, 1, 2, 1, 1, 2, 1, 2, 1, 1, 2, 1, 2, 1, 1, 2, 1, 1, 2, 1, 2, 1, 1, 2, 1, 2, 1, 1, 2, 1, 1, 2, 1, 2, 1, 1, 2, 1, 2, 1, 1, 2, 1, 1, 2, 1, 2, 1, 1, 2, 1, 2, 1, 1, 2, 1, 1, 2, 1, 2, 1, 1, 2, 1, 2, 1, 1, 2, 1, 1, 2, 1, 2, 1, 1, 2, 1, 1, 2, 1, 2, 1, 1]) of length 235 after prefixing the suffix with 0 times the current s.m.p.Increase the value of the `max_smp_length` keyword argument to go further.\n",
      "\u001b[34m\u001b[1mNew candidate s.m.p. found\u001b[22m\u001b[39m because ⟨v_6*, v⟩ - 1 = 0.0004557409227563536 > 1.0e-9:\n",
      "\u001b[31m\u001b[1maborting\u001b[22m\u001b[39m with smp candidate PSW(1.4092381202110404, [2, 1, 1, 2, 1, 1, 2, 1, 2, 1, 1, 2, 1, 1, 2, 1, 2, 1, 1, 2, 1, 2, 1, 1, 2, 1, 1, 2, 1, 2, 1, 1, 2, 1, 2, 1, 1, 2, 1, 1, 2, 1, 2, 1, 1, 2, 1, 2, 1, 1, 2, 1, 1, 2, 1, 2, 1, 1, 2, 1, 2, 1, 1, 2, 1, 1, 2, 1, 2, 1, 1, 2, 1, 2, 1, 1, 2, 1, 1, 2, 1, 2, 1, 1, 2, 1, 2, 1, 1, 2, 1, 1, 2, 1, 2, 1, 1, 2, 1, 2, 1, 1, 2, 1, 1, 2, 1, 2, 1, 1, 2, 1, 2, 1, 1, 2, 1, 1, 2, 1, 2, 1, 1, 2, 1, 2, 1, 1, 2, 1, 1, 2, 1, 2, 1, 1, 2, 1, 2, 1, 1, 2, 1, 1, 2, 1, 2, 1, 1, 2, 1, 2, 1, 1, 2, 1, 1, 2, 1, 2, 1, 1, 2, 1, 2, 1, 1, 2, 1, 1, 2, 1, 2, 1, 1, 2, 1, 2, 1, 1, 2, 1, 1, 2, 1, 2, 1, 1, 2, 1, 2, 1, 1, 2, 1, 1, 2, 1, 2, 1, 1, 2, 1, 2, 1, 1, 2, 1, 1, 2, 1, 2, 1, 1, 2, 1, 2, 1, 1, 2, 1, 1, 2, 1, 2, 1, 1, 2, 1, 2, 1, 1, 2, 1, 1]) of length 235 after prefixing the suffix with 0 times the current s.m.p.Increase the value of the `max_smp_length` keyword argument to go further.\n",
      "\u001b[34m\u001b[1mNew candidate s.m.p. found\u001b[22m\u001b[39m because ⟨v_6*, v⟩ - 1 = 0.0004560687310606326 > 1.0e-9:\n",
      "\u001b[31m\u001b[1maborting\u001b[22m\u001b[39m with smp candidate PSW(1.4092381202110404, [2, 1, 1, 2, 1, 1, 2, 1, 2, 1, 1, 2, 1, 2, 1, 1, 2, 1, 1, 2, 1, 2, 1, 1, 2, 1, 2, 1, 1, 2, 1, 1, 2, 1, 2, 1, 1, 2, 1, 2, 1, 1, 2, 1, 1, 2, 1, 2, 1, 1, 2, 1, 2, 1, 1, 2, 1, 1, 2, 1, 2, 1, 1, 2, 1, 2, 1, 1, 2, 1, 1, 2, 1, 2, 1, 1, 2, 1, 2, 1, 1, 2, 1, 1, 2, 1, 2, 1, 1, 2, 1, 2, 1, 1, 2, 1, 1, 2, 1, 2, 1, 1, 2, 1, 2, 1, 1, 2, 1, 1, 2, 1, 2, 1, 1, 2, 1, 2, 1, 1, 2, 1, 1, 2, 1, 2, 1, 1, 2, 1, 2, 1, 1, 2, 1, 1, 2, 1, 2, 1, 1, 2, 1, 2, 1, 1, 2, 1, 1, 2, 1, 2, 1, 1, 2, 1, 2, 1, 1, 2, 1, 1, 2, 1, 2, 1, 1, 2, 1, 2, 1, 1, 2, 1, 1, 2, 1, 2, 1, 1, 2, 1, 2, 1, 1, 2, 1, 1, 2, 1, 2, 1, 1, 2, 1, 2, 1, 1, 2, 1, 1, 2, 1, 2, 1, 1, 2, 1, 2, 1, 1, 2, 1, 1, 2, 1, 2, 1, 1, 2, 1, 2, 1, 1, 2, 1, 1, 2, 1, 2, 1, 1, 2, 1, 1]) of length 235 after prefixing the suffix with 0 times the current s.m.p.Increase the value of the `max_smp_length` keyword argument to go further.\n",
      "Depth 236: [1539] points, 9 living leaves...\n",
      "Depth 237: [1547] points, 8 living leaves...\n",
      "Depth 238: [1555] points, 8 living leaves...\n",
      "\u001b[34m\u001b[1mNew candidate s.m.p. found\u001b[22m\u001b[39m because ⟨v_6*, v⟩ - 1 = 1.6054738360971044e-7 > 1.0e-9:\n",
      "\u001b[31m\u001b[1maborting\u001b[22m\u001b[39m with smp candidate PSW(1.409242882470041, [2, 1, 1, 2, 1, 1, 2, 1, 2, 1, 1, 2, 1, 1, 2, 1, 2, 1, 1, 2, 1, 2, 1, 1, 2, 1, 1, 2, 1, 2, 1, 1, 2, 1, 1, 2, 1, 2, 1, 1, 2, 1, 2, 1, 1, 2, 1, 1, 2, 1, 2, 1, 1, 2, 1, 1, 2, 1, 2, 1, 1, 2, 1, 2, 1, 1, 2, 1, 1, 2, 1, 2, 1, 1, 2, 1, 1, 2, 1, 2, 1, 1, 2, 1, 2, 1, 1, 2, 1, 1, 2, 1, 2, 1, 1, 2, 1, 2, 1, 1, 2, 1, 1, 2, 1, 2, 1, 1, 2, 1, 2, 1, 1, 2, 1, 1, 2, 1, 2, 1, 1, 2, 1, 2, 1, 1, 2, 1, 1, 2, 1, 2, 1, 1, 2, 1, 2, 1, 1, 2, 1, 1, 2, 1, 2, 1, 1, 2, 1, 2, 1, 1, 2, 1, 1, 2, 1, 2, 1, 1, 2, 1, 2, 1, 1, 2, 1, 1, 2, 1, 2, 1, 1, 2, 1, 2, 1, 1, 2, 1, 1, 2, 1, 2, 1, 1, 2, 1, 2, 1, 1, 2, 1, 1, 2, 1, 2, 1, 1, 2, 1, 2, 1, 1, 2, 1, 1, 2, 1, 2, 1, 1, 2, 1, 2, 1, 1, 2, 1, 1, 2, 1, 2, 1, 1, 2, 1, 2, 1, 1, 2, 1, 1, 2, 1, 2, 1, 1]) of length 238 after prefixing the suffix with 0 times the current s.m.p.Increase the value of the `max_smp_length` keyword argument to go further.\n",
      "\u001b[34m\u001b[1mNew candidate s.m.p. found\u001b[22m\u001b[39m because ⟨v_6*, v⟩ - 1 = 1.6394846036327237e-7 > 1.0e-9:\n",
      "\u001b[31m\u001b[1maborting\u001b[22m\u001b[39m with smp candidate PSW(1.4092428824353598, [2, 1, 1, 2, 1, 1, 2, 1, 2, 1, 1, 2, 1, 1, 2, 1, 2, 1, 1, 2, 1, 2, 1, 1, 2, 1, 1, 2, 1, 2, 1, 1, 2, 1, 1, 2, 1, 2, 1, 1, 2, 1, 2, 1, 1, 2, 1, 1, 2, 1, 2, 1, 1, 2, 1, 1, 2, 1, 2, 1, 1, 2, 1, 2, 1, 1, 2, 1, 1, 2, 1, 2, 1, 1, 2, 1, 2, 1, 1, 2, 1, 1, 2, 1, 2, 1, 1, 2, 1, 2, 1, 1, 2, 1, 1, 2, 1, 2, 1, 1, 2, 1, 2, 1, 1, 2, 1, 1, 2, 1, 2, 1, 1, 2, 1, 2, 1, 1, 2, 1, 1, 2, 1, 2, 1, 1, 2, 1, 2, 1, 1, 2, 1, 1, 2, 1, 2, 1, 1, 2, 1, 2, 1, 1, 2, 1, 1, 2, 1, 2, 1, 1, 2, 1, 2, 1, 1, 2, 1, 1, 2, 1, 2, 1, 1, 2, 1, 2, 1, 1, 2, 1, 1, 2, 1, 2, 1, 1, 2, 1, 2, 1, 1, 2, 1, 1, 2, 1, 2, 1, 1, 2, 1, 2, 1, 1, 2, 1, 1, 2, 1, 2, 1, 1, 2, 1, 2, 1, 1, 2, 1, 1, 2, 1, 2, 1, 1, 2, 1, 2, 1, 1, 2, 1, 1, 2, 1, 2, 1, 1, 2, 1, 1, 2, 1, 2, 1, 1]) of length 238 after prefixing the suffix with 0 times the current s.m.p.Increase the value of the `max_smp_length` keyword argument to go further.\n",
      "\u001b[34m\u001b[1mNew candidate s.m.p. found\u001b[22m\u001b[39m because ⟨v_6*, v⟩ - 1 = 0.0004557429732066076 > 1.0e-9:\n",
      "\u001b[31m\u001b[1maborting\u001b[22m\u001b[39m with smp candidate PSW(1.4092382349398431, [2, 1, 1, 2, 1, 1, 2, 1, 2, 1, 1, 2, 1, 1, 2, 1, 2, 1, 1, 2, 1, 2, 1, 1, 2, 1, 1, 2, 1, 2, 1, 1, 2, 1, 1, 2, 1, 2, 1, 1, 2, 1, 2, 1, 1, 2, 1, 1, 2, 1, 2, 1, 1, 2, 1, 1, 2, 1, 2, 1, 1, 2, 1, 2, 1, 1, 2, 1, 1, 2, 1, 2, 1, 1, 2, 1, 2, 1, 1, 2, 1, 1, 2, 1, 2, 1, 1, 2, 1, 2, 1, 1, 2, 1, 1, 2, 1, 2, 1, 1, 2, 1, 2, 1, 1, 2, 1, 1, 2, 1, 2, 1, 1, 2, 1, 2, 1, 1, 2, 1, 1, 2, 1, 2, 1, 1, 2, 1, 2, 1, 1, 2, 1, 1, 2, 1, 2, 1, 1, 2, 1, 2, 1, 1, 2, 1, 1, 2, 1, 2, 1, 1, 2, 1, 2, 1, 1, 2, 1, 1, 2, 1, 2, 1, 1, 2, 1, 2, 1, 1, 2, 1, 1, 2, 1, 2, 1, 1, 2, 1, 2, 1, 1, 2, 1, 1, 2, 1, 2, 1, 1, 2, 1, 2, 1, 1, 2, 1, 1, 2, 1, 2, 1, 1, 2, 1, 2, 1, 1, 2, 1, 1, 2, 1, 2, 1, 1, 2, 1, 2, 1, 1, 2, 1, 1, 2, 1, 2, 1, 1, 2, 1, 2, 1, 1, 2, 1, 1]) of length 238 after prefixing the suffix with 0 times the current s.m.p.Increase the value of the `max_smp_length` keyword argument to go further.\n",
      "\u001b[34m\u001b[1mNew candidate s.m.p. found\u001b[22m\u001b[39m because ⟨v_6*, v⟩ - 1 = 0.00045607078151199687 > 1.0e-9:\n",
      "\u001b[31m\u001b[1maborting\u001b[22m\u001b[39m with smp candidate PSW(1.4092382315063725, [2, 1, 1, 2, 1, 1, 2, 1, 2, 1, 1, 2, 1, 1, 2, 1, 2, 1, 1, 2, 1, 2, 1, 1, 2, 1, 1, 2, 1, 2, 1, 1, 2, 1, 1, 2, 1, 2, 1, 1, 2, 1, 2, 1, 1, 2, 1, 1, 2, 1, 2, 1, 1, 2, 1, 2, 1, 1, 2, 1, 1, 2, 1, 2, 1, 1, 2, 1, 2, 1, 1, 2, 1, 1, 2, 1, 2, 1, 1, 2, 1, 2, 1, 1, 2, 1, 1, 2, 1, 2, 1, 1, 2, 1, 2, 1, 1, 2, 1, 1, 2, 1, 2, 1, 1, 2, 1, 2, 1, 1, 2, 1, 1, 2, 1, 2, 1, 1, 2, 1, 2, 1, 1, 2, 1, 1, 2, 1, 2, 1, 1, 2, 1, 2, 1, 1, 2, 1, 1, 2, 1, 2, 1, 1, 2, 1, 2, 1, 1, 2, 1, 1, 2, 1, 2, 1, 1, 2, 1, 2, 1, 1, 2, 1, 1, 2, 1, 2, 1, 1, 2, 1, 2, 1, 1, 2, 1, 1, 2, 1, 2, 1, 1, 2, 1, 2, 1, 1, 2, 1, 1, 2, 1, 2, 1, 1, 2, 1, 2, 1, 1, 2, 1, 1, 2, 1, 2, 1, 1, 2, 1, 2, 1, 1, 2, 1, 1, 2, 1, 2, 1, 1, 2, 1, 2, 1, 1, 2, 1, 1, 2, 1, 2, 1, 1, 2, 1, 1]) of length 238 after prefixing the suffix with 0 times the current s.m.p.Increase the value of the `max_smp_length` keyword argument to go further.\n"
     ]
    },
    {
     "name": "stdout",
     "output_type": "stream",
     "text": [
      "Depth 239: [1563] points, 8 living leaves...\n",
      "Depth 240: [1571] points, 8 living leaves...\n",
      "\u001b[34m\u001b[1mNew candidate s.m.p. found\u001b[22m\u001b[39m because ⟨v_6*, v⟩ - 1 = 1.6191343954474746e-7 > 1.0e-9:\n",
      "\u001b[31m\u001b[1maborting\u001b[22m\u001b[39m with smp candidate PSW(1.4092429186332203, [2, 1, 1, 2, 1, 1, 2, 1, 2, 1, 1, 2, 1, 1, 2, 1, 2, 1, 1, 2, 1, 2, 1, 1, 2, 1, 1, 2, 1, 2, 1, 1, 2, 1, 2, 1, 1, 2, 1, 1, 2, 1, 2, 1, 1, 2, 1, 2, 1, 1, 2, 1, 1, 2, 1, 2, 1, 1, 2, 1, 2, 1, 1, 2, 1, 1, 2, 1, 2, 1, 1, 2, 1, 2, 1, 1, 2, 1, 1, 2, 1, 2, 1, 1, 2, 1, 2, 1, 1, 2, 1, 1, 2, 1, 2, 1, 1, 2, 1, 2, 1, 1, 2, 1, 1, 2, 1, 2, 1, 1, 2, 1, 2, 1, 1, 2, 1, 1, 2, 1, 2, 1, 1, 2, 1, 2, 1, 1, 2, 1, 1, 2, 1, 2, 1, 1, 2, 1, 2, 1, 1, 2, 1, 1, 2, 1, 2, 1, 1, 2, 1, 2, 1, 1, 2, 1, 1, 2, 1, 2, 1, 1, 2, 1, 2, 1, 1, 2, 1, 1, 2, 1, 2, 1, 1, 2, 1, 2, 1, 1, 2, 1, 1, 2, 1, 2, 1, 1, 2, 1, 2, 1, 1, 2, 1, 1, 2, 1, 2, 1, 1, 2, 1, 2, 1, 1, 2, 1, 1, 2, 1, 2, 1, 1, 2, 1, 2, 1, 1, 2, 1, 1, 2, 1, 2, 1, 1, 2, 1, 2, 1, 1, 2, 1, 1, 2, 1, 2, 1, 1]) of length 240 after prefixing the suffix with 0 times the current s.m.p.Increase the value of the `max_smp_length` keyword argument to go further.\n",
      "\u001b[34m\u001b[1mNew candidate s.m.p. found\u001b[22m\u001b[39m because ⟨v_6*, v⟩ - 1 = 1.653145167423986e-7 > 1.0e-9:\n",
      "\u001b[31m\u001b[1maborting\u001b[22m\u001b[39m with smp candidate PSW(1.4092429217777773, [2, 1, 1, 2, 1, 1, 2, 1, 2, 1, 1, 2, 1, 2, 1, 1, 2, 1, 1, 2, 1, 2, 1, 1, 2, 1, 2, 1, 1, 2, 1, 1, 2, 1, 2, 1, 1, 2, 1, 2, 1, 1, 2, 1, 1, 2, 1, 2, 1, 1, 2, 1, 2, 1, 1, 2, 1, 1, 2, 1, 2, 1, 1, 2, 1, 2, 1, 1, 2, 1, 1, 2, 1, 2, 1, 1, 2, 1, 2, 1, 1, 2, 1, 1, 2, 1, 2, 1, 1, 2, 1, 2, 1, 1, 2, 1, 1, 2, 1, 2, 1, 1, 2, 1, 2, 1, 1, 2, 1, 1, 2, 1, 2, 1, 1, 2, 1, 2, 1, 1, 2, 1, 1, 2, 1, 2, 1, 1, 2, 1, 2, 1, 1, 2, 1, 1, 2, 1, 2, 1, 1, 2, 1, 2, 1, 1, 2, 1, 1, 2, 1, 2, 1, 1, 2, 1, 2, 1, 1, 2, 1, 1, 2, 1, 2, 1, 1, 2, 1, 2, 1, 1, 2, 1, 1, 2, 1, 2, 1, 1, 2, 1, 2, 1, 1, 2, 1, 1, 2, 1, 2, 1, 1, 2, 1, 2, 1, 1, 2, 1, 1, 2, 1, 2, 1, 1, 2, 1, 2, 1, 1, 2, 1, 1, 2, 1, 2, 1, 1, 2, 1, 2, 1, 1, 2, 1, 1, 2, 1, 2, 1, 1, 2, 1, 1, 2, 1, 2, 1, 1]) of length 240 after prefixing the suffix with 0 times the current s.m.p.Increase the value of the `max_smp_length` keyword argument to go further.\n",
      "\u001b[34m\u001b[1mNew candidate s.m.p. found\u001b[22m\u001b[39m because ⟨v_6*, v⟩ - 1 = 0.00045574433988471164 > 1.0e-9:\n",
      "\u001b[31m\u001b[1maborting\u001b[22m\u001b[39m with smp candidate PSW(1.4092383132369524, [2, 1, 1, 2, 1, 1, 2, 1, 2, 1, 1, 2, 1, 2, 1, 1, 2, 1, 1, 2, 1, 2, 1, 1, 2, 1, 2, 1, 1, 2, 1, 1, 2, 1, 2, 1, 1, 2, 1, 2, 1, 1, 2, 1, 1, 2, 1, 2, 1, 1, 2, 1, 2, 1, 1, 2, 1, 1, 2, 1, 2, 1, 1, 2, 1, 2, 1, 1, 2, 1, 1, 2, 1, 2, 1, 1, 2, 1, 2, 1, 1, 2, 1, 1, 2, 1, 2, 1, 1, 2, 1, 2, 1, 1, 2, 1, 1, 2, 1, 2, 1, 1, 2, 1, 2, 1, 1, 2, 1, 1, 2, 1, 2, 1, 1, 2, 1, 2, 1, 1, 2, 1, 1, 2, 1, 2, 1, 1, 2, 1, 2, 1, 1, 2, 1, 1, 2, 1, 2, 1, 1, 2, 1, 2, 1, 1, 2, 1, 1, 2, 1, 2, 1, 1, 2, 1, 2, 1, 1, 2, 1, 1, 2, 1, 2, 1, 1, 2, 1, 2, 1, 1, 2, 1, 1, 2, 1, 2, 1, 1, 2, 1, 2, 1, 1, 2, 1, 1, 2, 1, 2, 1, 1, 2, 1, 2, 1, 1, 2, 1, 1, 2, 1, 2, 1, 1, 2, 1, 2, 1, 1, 2, 1, 1, 2, 1, 2, 1, 1, 2, 1, 2, 1, 1, 2, 1, 1, 2, 1, 2, 1, 1, 2, 1, 2, 1, 1, 2, 1, 1]) of length 240 after prefixing the suffix with 0 times the current s.m.p.Increase the value of the `max_smp_length` keyword argument to go further.\n",
      "Depth 241: [1579] points, 8 living leaves...\n",
      "\u001b[34m\u001b[1mNew candidate s.m.p. found\u001b[22m\u001b[39m because ⟨v_6*, v⟩ - 1 = 0.00045607283196158477 > 1.0e-9:\n",
      "\u001b[31m\u001b[1maborting\u001b[22m\u001b[39m with smp candidate PSW(1.4092383434216054, [2, 1, 1, 2, 1, 1, 2, 1, 2, 1, 1, 2, 1, 1, 2, 1, 2, 1, 1, 2, 1, 2, 1, 1, 2, 1, 1, 2, 1, 2, 1, 1, 2, 1, 1, 2, 1, 2, 1, 1, 2, 1, 2, 1, 1, 2, 1, 1, 2, 1, 2, 1, 1, 2, 1, 1, 2, 1, 2, 1, 1, 2, 1, 2, 1, 1, 2, 1, 1, 2, 1, 2, 1, 1, 2, 1, 1, 2, 1, 2, 1, 1, 2, 1, 2, 1, 1, 2, 1, 1, 2, 1, 2, 1, 1, 2, 1, 2, 1, 1, 2, 1, 1, 2, 1, 2, 1, 1, 2, 1, 2, 1, 1, 2, 1, 1, 2, 1, 2, 1, 1, 2, 1, 2, 1, 1, 2, 1, 1, 2, 1, 2, 1, 1, 2, 1, 2, 1, 1, 2, 1, 1, 2, 1, 2, 1, 1, 2, 1, 2, 1, 1, 2, 1, 1, 2, 1, 2, 1, 1, 2, 1, 2, 1, 1, 2, 1, 1, 2, 1, 2, 1, 1, 2, 1, 2, 1, 1, 2, 1, 1, 2, 1, 2, 1, 1, 2, 1, 2, 1, 1, 2, 1, 1, 2, 1, 2, 1, 1, 2, 1, 2, 1, 1, 2, 1, 1, 2, 1, 2, 1, 1, 2, 1, 2, 1, 1, 2, 1, 1, 2, 1, 2, 1, 1, 2, 1, 2, 1, 1, 2, 1, 1, 2, 1, 2, 1, 1, 2, 1, 1]) of length 241 after prefixing the suffix with 0 times the current s.m.p.Increase the value of the `max_smp_length` keyword argument to go further.\n",
      "Depth 242: [1587] points, 8 living leaves...\n",
      "Depth 243: [1595] points, 8 living leaves...\n",
      "\u001b[34m\u001b[1mNew candidate s.m.p. found\u001b[22m\u001b[39m because ⟨v_6*, v⟩ - 1 = 1.639629565453049e-7 > 1.0e-9:\n",
      "\u001b[31m\u001b[1maborting\u001b[22m\u001b[39m with smp candidate PSW(1.4092429717618462, [2, 1, 1, 2, 1, 1, 2, 1, 2, 1, 1, 2, 1, 1, 2, 1, 2, 1, 1, 2, 1, 2, 1, 1, 2, 1, 1, 2, 1, 2, 1, 1, 2, 1, 1, 2, 1, 2, 1, 1, 2, 1, 2, 1, 1, 2, 1, 1, 2, 1, 2, 1, 1, 2, 1, 1, 2, 1, 2, 1, 1, 2, 1, 2, 1, 1, 2, 1, 1, 2, 1, 2, 1, 1, 2, 1, 2, 1, 1, 2, 1, 1, 2, 1, 2, 1, 1, 2, 1, 2, 1, 1, 2, 1, 1, 2, 1, 2, 1, 1, 2, 1, 2, 1, 1, 2, 1, 1, 2, 1, 2, 1, 1, 2, 1, 2, 1, 1, 2, 1, 1, 2, 1, 2, 1, 1, 2, 1, 2, 1, 1, 2, 1, 1, 2, 1, 2, 1, 1, 2, 1, 2, 1, 1, 2, 1, 1, 2, 1, 2, 1, 1, 2, 1, 2, 1, 1, 2, 1, 1, 2, 1, 2, 1, 1, 2, 1, 2, 1, 1, 2, 1, 1, 2, 1, 2, 1, 1, 2, 1, 2, 1, 1, 2, 1, 1, 2, 1, 2, 1, 1, 2, 1, 2, 1, 1, 2, 1, 1, 2, 1, 2, 1, 1, 2, 1, 2, 1, 1, 2, 1, 1, 2, 1, 2, 1, 1, 2, 1, 2, 1, 1, 2, 1, 1, 2, 1, 2, 1, 1, 2, 1, 2, 1, 1, 2, 1, 1, 2, 1, 2, 1, 1]) of length 243 after prefixing the suffix with 0 times the current s.m.p.Increase the value of the `max_smp_length` keyword argument to go further.\n",
      "\u001b[34m\u001b[1mNew candidate s.m.p. found\u001b[22m\u001b[39m because ⟨v_6*, v⟩ - 1 = 1.6736403329886684e-7 > 1.0e-9:\n",
      "\u001b[31m\u001b[1maborting\u001b[22m\u001b[39m with smp candidate PSW(1.4092429717278785, [2, 1, 1, 2, 1, 1, 2, 1, 2, 1, 1, 2, 1, 1, 2, 1, 2, 1, 1, 2, 1, 2, 1, 1, 2, 1, 1, 2, 1, 2, 1, 1, 2, 1, 1, 2, 1, 2, 1, 1, 2, 1, 2, 1, 1, 2, 1, 1, 2, 1, 2, 1, 1, 2, 1, 2, 1, 1, 2, 1, 1, 2, 1, 2, 1, 1, 2, 1, 2, 1, 1, 2, 1, 1, 2, 1, 2, 1, 1, 2, 1, 2, 1, 1, 2, 1, 1, 2, 1, 2, 1, 1, 2, 1, 2, 1, 1, 2, 1, 1, 2, 1, 2, 1, 1, 2, 1, 2, 1, 1, 2, 1, 1, 2, 1, 2, 1, 1, 2, 1, 2, 1, 1, 2, 1, 1, 2, 1, 2, 1, 1, 2, 1, 2, 1, 1, 2, 1, 1, 2, 1, 2, 1, 1, 2, 1, 2, 1, 1, 2, 1, 1, 2, 1, 2, 1, 1, 2, 1, 2, 1, 1, 2, 1, 1, 2, 1, 2, 1, 1, 2, 1, 2, 1, 1, 2, 1, 1, 2, 1, 2, 1, 1, 2, 1, 2, 1, 1, 2, 1, 1, 2, 1, 2, 1, 1, 2, 1, 2, 1, 1, 2, 1, 1, 2, 1, 2, 1, 1, 2, 1, 2, 1, 1, 2, 1, 1, 2, 1, 2, 1, 1, 2, 1, 2, 1, 1, 2, 1, 1, 2, 1, 2, 1, 1, 2, 1, 1, 2, 1, 2, 1, 1]) of length 243 after prefixing the suffix with 0 times the current s.m.p.Increase the value of the `max_smp_length` keyword argument to go further.\n",
      "\u001b[34m\u001b[1mNew candidate s.m.p. found\u001b[22m\u001b[39m because ⟨v_6*, v⟩ - 1 = 0.0004557463903356318 > 1.0e-9:\n",
      "\u001b[31m\u001b[1maborting\u001b[22m\u001b[39m with smp candidate PSW(1.4092384198593988, [2, 1, 1, 2, 1, 1, 2, 1, 2, 1, 1, 2, 1, 1, 2, 1, 2, 1, 1, 2, 1, 2, 1, 1, 2, 1, 1, 2, 1, 2, 1, 1, 2, 1, 1, 2, 1, 2, 1, 1, 2, 1, 2, 1, 1, 2, 1, 1, 2, 1, 2, 1, 1, 2, 1, 2, 1, 1, 2, 1, 1, 2, 1, 2, 1, 1, 2, 1, 2, 1, 1, 2, 1, 1, 2, 1, 2, 1, 1, 2, 1, 2, 1, 1, 2, 1, 1, 2, 1, 2, 1, 1, 2, 1, 2, 1, 1, 2, 1, 1, 2, 1, 2, 1, 1, 2, 1, 2, 1, 1, 2, 1, 1, 2, 1, 2, 1, 1, 2, 1, 2, 1, 1, 2, 1, 1, 2, 1, 2, 1, 1, 2, 1, 2, 1, 1, 2, 1, 1, 2, 1, 2, 1, 1, 2, 1, 2, 1, 1, 2, 1, 1, 2, 1, 2, 1, 1, 2, 1, 2, 1, 1, 2, 1, 1, 2, 1, 2, 1, 1, 2, 1, 2, 1, 1, 2, 1, 1, 2, 1, 2, 1, 1, 2, 1, 2, 1, 1, 2, 1, 1, 2, 1, 2, 1, 1, 2, 1, 2, 1, 1, 2, 1, 1, 2, 1, 2, 1, 1, 2, 1, 2, 1, 1, 2, 1, 1, 2, 1, 2, 1, 1, 2, 1, 2, 1, 1, 2, 1, 1, 2, 1, 2, 1, 1, 2, 1, 2, 1, 1, 2, 1, 1]) of length 243 after prefixing the suffix with 0 times the current s.m.p.Increase the value of the `max_smp_length` keyword argument to go further.\n",
      "\u001b[34m\u001b[1mNew candidate s.m.p. found\u001b[22m\u001b[39m because ⟨v_6*, v⟩ - 1 = 0.0004560741986401329 > 1.0e-9:\n",
      "\u001b[31m\u001b[1maborting\u001b[22m\u001b[39m with smp candidate PSW(1.4092384164965754, [2, 1, 1, 2, 1, 1, 2, 1, 2, 1, 1, 2, 1, 1, 2, 1, 2, 1, 1, 2, 1, 2, 1, 1, 2, 1, 1, 2, 1, 2, 1, 1, 2, 1, 2, 1, 1, 2, 1, 1, 2, 1, 2, 1, 1, 2, 1, 2, 1, 1, 2, 1, 1, 2, 1, 2, 1, 1, 2, 1, 2, 1, 1, 2, 1, 1, 2, 1, 2, 1, 1, 2, 1, 2, 1, 1, 2, 1, 1, 2, 1, 2, 1, 1, 2, 1, 2, 1, 1, 2, 1, 1, 2, 1, 2, 1, 1, 2, 1, 2, 1, 1, 2, 1, 1, 2, 1, 2, 1, 1, 2, 1, 2, 1, 1, 2, 1, 1, 2, 1, 2, 1, 1, 2, 1, 2, 1, 1, 2, 1, 1, 2, 1, 2, 1, 1, 2, 1, 2, 1, 1, 2, 1, 1, 2, 1, 2, 1, 1, 2, 1, 2, 1, 1, 2, 1, 1, 2, 1, 2, 1, 1, 2, 1, 2, 1, 1, 2, 1, 1, 2, 1, 2, 1, 1, 2, 1, 2, 1, 1, 2, 1, 1, 2, 1, 2, 1, 1, 2, 1, 2, 1, 1, 2, 1, 1, 2, 1, 2, 1, 1, 2, 1, 2, 1, 1, 2, 1, 1, 2, 1, 2, 1, 1, 2, 1, 2, 1, 1, 2, 1, 1, 2, 1, 2, 1, 1, 2, 1, 2, 1, 1, 2, 1, 1, 2, 1, 2, 1, 1, 2, 1, 1]) of length 243 after prefixing the suffix with 0 times the current s.m.p.Increase the value of the `max_smp_length` keyword argument to go further.\n"
     ]
    },
    {
     "name": "stdout",
     "output_type": "stream",
     "text": [
      "Depth 244: [1603] points, 8 living leaves...\n",
      "Depth 245: [1611] points, 8 living leaves...\n",
      "\u001b[34m\u001b[1mNew candidate s.m.p. found\u001b[22m\u001b[39m because ⟨v_6*, v⟩ - 1 = 1.6532901203625272e-7 > 1.0e-9:\n",
      "\u001b[31m\u001b[1maborting\u001b[22m\u001b[39m with smp candidate PSW(1.4092430095721622, [2, 1, 1, 2, 1, 1, 2, 1, 2, 1, 1, 2, 1, 2, 1, 1, 2, 1, 1, 2, 1, 2, 1, 1, 2, 1, 2, 1, 1, 2, 1, 1, 2, 1, 2, 1, 1, 2, 1, 2, 1, 1, 2, 1, 1, 2, 1, 2, 1, 1, 2, 1, 2, 1, 1, 2, 1, 1, 2, 1, 2, 1, 1, 2, 1, 2, 1, 1, 2, 1, 1, 2, 1, 2, 1, 1, 2, 1, 2, 1, 1, 2, 1, 1, 2, 1, 2, 1, 1, 2, 1, 2, 1, 1, 2, 1, 1, 2, 1, 2, 1, 1, 2, 1, 2, 1, 1, 2, 1, 1, 2, 1, 2, 1, 1, 2, 1, 2, 1, 1, 2, 1, 1, 2, 1, 2, 1, 1, 2, 1, 2, 1, 1, 2, 1, 1, 2, 1, 2, 1, 1, 2, 1, 2, 1, 1, 2, 1, 1, 2, 1, 2, 1, 1, 2, 1, 2, 1, 1, 2, 1, 1, 2, 1, 2, 1, 1, 2, 1, 2, 1, 1, 2, 1, 1, 2, 1, 2, 1, 1, 2, 1, 2, 1, 1, 2, 1, 1, 2, 1, 2, 1, 1, 2, 1, 2, 1, 1, 2, 1, 1, 2, 1, 2, 1, 1, 2, 1, 2, 1, 1, 2, 1, 1, 2, 1, 2, 1, 1, 2, 1, 2, 1, 1, 2, 1, 1, 2, 1, 2, 1, 1, 2, 1, 2, 1, 1, 2, 1, 1, 2, 1, 2, 1, 1]) of length 245 after prefixing the suffix with 0 times the current s.m.p.Increase the value of the `max_smp_length` keyword argument to go further.\n",
      "Depth 246: [1619] points, 8 living leaves...\n",
      "\u001b[34m\u001b[1mNew candidate s.m.p. found\u001b[22m\u001b[39m because ⟨v_6*, v⟩ - 1 = 1.6941354896715666e-7 > 1.0e-9:\n",
      "\u001b[31m\u001b[1maborting\u001b[22m\u001b[39m with smp candidate PSW(1.4092430235611006, [2, 1, 1, 2, 1, 1, 2, 1, 2, 1, 1, 2, 1, 1, 2, 1, 2, 1, 1, 2, 1, 2, 1, 1, 2, 1, 1, 2, 1, 2, 1, 1, 2, 1, 1, 2, 1, 2, 1, 1, 2, 1, 2, 1, 1, 2, 1, 1, 2, 1, 2, 1, 1, 2, 1, 1, 2, 1, 2, 1, 1, 2, 1, 2, 1, 1, 2, 1, 1, 2, 1, 2, 1, 1, 2, 1, 1, 2, 1, 2, 1, 1, 2, 1, 2, 1, 1, 2, 1, 1, 2, 1, 2, 1, 1, 2, 1, 2, 1, 1, 2, 1, 1, 2, 1, 2, 1, 1, 2, 1, 2, 1, 1, 2, 1, 1, 2, 1, 2, 1, 1, 2, 1, 2, 1, 1, 2, 1, 1, 2, 1, 2, 1, 1, 2, 1, 2, 1, 1, 2, 1, 1, 2, 1, 2, 1, 1, 2, 1, 2, 1, 1, 2, 1, 1, 2, 1, 2, 1, 1, 2, 1, 2, 1, 1, 2, 1, 1, 2, 1, 2, 1, 1, 2, 1, 2, 1, 1, 2, 1, 1, 2, 1, 2, 1, 1, 2, 1, 2, 1, 1, 2, 1, 1, 2, 1, 2, 1, 1, 2, 1, 2, 1, 1, 2, 1, 1, 2, 1, 2, 1, 1, 2, 1, 2, 1, 1, 2, 1, 1, 2, 1, 2, 1, 1, 2, 1, 2, 1, 1, 2, 1, 1, 2, 1, 2, 1, 1, 2, 1, 1, 2, 1, 2, 1, 1]) of length 246 after prefixing the suffix with 0 times the current s.m.p.Increase the value of the `max_smp_length` keyword argument to go further.\n",
      "\u001b[34m\u001b[1mNew candidate s.m.p. found\u001b[22m\u001b[39m because ⟨v_6*, v⟩ - 1 = 0.00045574844078455357 > 1.0e-9:\n",
      "\u001b[31m\u001b[1maborting\u001b[22m\u001b[39m with smp candidate PSW(1.4092385272029582, [2, 1, 1, 2, 1, 1, 2, 1, 2, 1, 1, 2, 1, 1, 2, 1, 2, 1, 1, 2, 1, 2, 1, 1, 2, 1, 1, 2, 1, 2, 1, 1, 2, 1, 1, 2, 1, 2, 1, 1, 2, 1, 2, 1, 1, 2, 1, 1, 2, 1, 2, 1, 1, 2, 1, 1, 2, 1, 2, 1, 1, 2, 1, 2, 1, 1, 2, 1, 1, 2, 1, 2, 1, 1, 2, 1, 1, 2, 1, 2, 1, 1, 2, 1, 2, 1, 1, 2, 1, 1, 2, 1, 2, 1, 1, 2, 1, 2, 1, 1, 2, 1, 1, 2, 1, 2, 1, 1, 2, 1, 2, 1, 1, 2, 1, 1, 2, 1, 2, 1, 1, 2, 1, 2, 1, 1, 2, 1, 1, 2, 1, 2, 1, 1, 2, 1, 2, 1, 1, 2, 1, 1, 2, 1, 2, 1, 1, 2, 1, 2, 1, 1, 2, 1, 1, 2, 1, 2, 1, 1, 2, 1, 2, 1, 1, 2, 1, 1, 2, 1, 2, 1, 1, 2, 1, 2, 1, 1, 2, 1, 1, 2, 1, 2, 1, 1, 2, 1, 2, 1, 1, 2, 1, 1, 2, 1, 2, 1, 1, 2, 1, 2, 1, 1, 2, 1, 1, 2, 1, 2, 1, 1, 2, 1, 2, 1, 1, 2, 1, 1, 2, 1, 2, 1, 1, 2, 1, 2, 1, 1, 2, 1, 1, 2, 1, 2, 1, 1, 2, 1, 2, 1, 1, 2, 1, 1]) of length 246 after prefixing the suffix with 0 times the current s.m.p.Increase the value of the `max_smp_length` keyword argument to go further.\n",
      "\u001b[34m\u001b[1mNew candidate s.m.p. found\u001b[22m\u001b[39m because ⟨v_6*, v⟩ - 1 = 0.00045607624909149713 > 1.0e-9:\n",
      "\u001b[31m\u001b[1maborting\u001b[22m\u001b[39m with smp candidate PSW(1.4092385238811447, [2, 1, 1, 2, 1, 1, 2, 1, 2, 1, 1, 2, 1, 1, 2, 1, 2, 1, 1, 2, 1, 2, 1, 1, 2, 1, 1, 2, 1, 2, 1, 1, 2, 1, 1, 2, 1, 2, 1, 1, 2, 1, 2, 1, 1, 2, 1, 1, 2, 1, 2, 1, 1, 2, 1, 1, 2, 1, 2, 1, 1, 2, 1, 2, 1, 1, 2, 1, 1, 2, 1, 2, 1, 1, 2, 1, 2, 1, 1, 2, 1, 1, 2, 1, 2, 1, 1, 2, 1, 2, 1, 1, 2, 1, 1, 2, 1, 2, 1, 1, 2, 1, 2, 1, 1, 2, 1, 1, 2, 1, 2, 1, 1, 2, 1, 2, 1, 1, 2, 1, 1, 2, 1, 2, 1, 1, 2, 1, 2, 1, 1, 2, 1, 1, 2, 1, 2, 1, 1, 2, 1, 2, 1, 1, 2, 1, 1, 2, 1, 2, 1, 1, 2, 1, 2, 1, 1, 2, 1, 1, 2, 1, 2, 1, 1, 2, 1, 2, 1, 1, 2, 1, 1, 2, 1, 2, 1, 1, 2, 1, 2, 1, 1, 2, 1, 1, 2, 1, 2, 1, 1, 2, 1, 2, 1, 1, 2, 1, 1, 2, 1, 2, 1, 1, 2, 1, 2, 1, 1, 2, 1, 1, 2, 1, 2, 1, 1, 2, 1, 2, 1, 1, 2, 1, 1, 2, 1, 2, 1, 1, 2, 1, 2, 1, 1, 2, 1, 1, 2, 1, 2, 1, 1, 2, 1, 1]) of length 246 after prefixing the suffix with 0 times the current s.m.p.Increase the value of the `max_smp_length` keyword argument to go further.\n",
      "Depth 247: [1627] points, 8 living leaves...\n",
      "Depth 248: [1635] points, 8 living leaves...\n",
      "\u001b[34m\u001b[1mNew candidate s.m.p. found\u001b[22m\u001b[39m because ⟨v_6*, v⟩ - 1 = 1.6737852881476556e-7 > 1.0e-9:\n",
      "\u001b[31m\u001b[1maborting\u001b[22m\u001b[39m with smp candidate PSW(1.409243057453181, [2, 1, 1, 2, 1, 1, 2, 1, 2, 1, 1, 2, 1, 1, 2, 1, 2, 1, 1, 2, 1, 2, 1, 1, 2, 1, 1, 2, 1, 2, 1, 1, 2, 1, 1, 2, 1, 2, 1, 1, 2, 1, 2, 1, 1, 2, 1, 1, 2, 1, 2, 1, 1, 2, 1, 2, 1, 1, 2, 1, 1, 2, 1, 2, 1, 1, 2, 1, 2, 1, 1, 2, 1, 1, 2, 1, 2, 1, 1, 2, 1, 2, 1, 1, 2, 1, 1, 2, 1, 2, 1, 1, 2, 1, 2, 1, 1, 2, 1, 1, 2, 1, 2, 1, 1, 2, 1, 2, 1, 1, 2, 1, 1, 2, 1, 2, 1, 1, 2, 1, 2, 1, 1, 2, 1, 1, 2, 1, 2, 1, 1, 2, 1, 2, 1, 1, 2, 1, 1, 2, 1, 2, 1, 1, 2, 1, 2, 1, 1, 2, 1, 1, 2, 1, 2, 1, 1, 2, 1, 2, 1, 1, 2, 1, 1, 2, 1, 2, 1, 1, 2, 1, 2, 1, 1, 2, 1, 1, 2, 1, 2, 1, 1, 2, 1, 2, 1, 1, 2, 1, 1, 2, 1, 2, 1, 1, 2, 1, 2, 1, 1, 2, 1, 1, 2, 1, 2, 1, 1, 2, 1, 2, 1, 1, 2, 1, 1, 2, 1, 2, 1, 1, 2, 1, 2, 1, 1, 2, 1, 1, 2, 1, 2, 1, 1, 2, 1, 2, 1, 1, 2, 1, 1, 2, 1, 2, 1, 1]) of length 248 after prefixing the suffix with 0 times the current s.m.p.Increase the value of the `max_smp_length` keyword argument to go further.\n",
      "\u001b[34m\u001b[1mNew candidate s.m.p. found\u001b[22m\u001b[39m because ⟨v_6*, v⟩ - 1 = 1.7077960468014908e-7 > 1.0e-9:\n",
      "\u001b[31m\u001b[1maborting\u001b[22m\u001b[39m with smp candidate PSW(1.4092430574198982, [2, 1, 1, 2, 1, 1, 2, 1, 2, 1, 1, 2, 1, 1, 2, 1, 2, 1, 1, 2, 1, 2, 1, 1, 2, 1, 1, 2, 1, 2, 1, 1, 2, 1, 2, 1, 1, 2, 1, 1, 2, 1, 2, 1, 1, 2, 1, 2, 1, 1, 2, 1, 1, 2, 1, 2, 1, 1, 2, 1, 2, 1, 1, 2, 1, 1, 2, 1, 2, 1, 1, 2, 1, 2, 1, 1, 2, 1, 1, 2, 1, 2, 1, 1, 2, 1, 2, 1, 1, 2, 1, 1, 2, 1, 2, 1, 1, 2, 1, 2, 1, 1, 2, 1, 1, 2, 1, 2, 1, 1, 2, 1, 2, 1, 1, 2, 1, 1, 2, 1, 2, 1, 1, 2, 1, 2, 1, 1, 2, 1, 1, 2, 1, 2, 1, 1, 2, 1, 2, 1, 1, 2, 1, 1, 2, 1, 2, 1, 1, 2, 1, 2, 1, 1, 2, 1, 1, 2, 1, 2, 1, 1, 2, 1, 2, 1, 1, 2, 1, 1, 2, 1, 2, 1, 1, 2, 1, 2, 1, 1, 2, 1, 1, 2, 1, 2, 1, 1, 2, 1, 2, 1, 1, 2, 1, 1, 2, 1, 2, 1, 1, 2, 1, 2, 1, 1, 2, 1, 1, 2, 1, 2, 1, 1, 2, 1, 2, 1, 1, 2, 1, 1, 2, 1, 2, 1, 1, 2, 1, 2, 1, 1, 2, 1, 1, 2, 1, 2, 1, 1, 2, 1, 1, 2, 1, 2, 1, 1]) of length 248 after prefixing the suffix with 0 times the current s.m.p.Increase the value of the `max_smp_length` keyword argument to go further.\n",
      "\u001b[34m\u001b[1mNew candidate s.m.p. found\u001b[22m\u001b[39m because ⟨v_6*, v⟩ - 1 = 0.00045574980746287963 > 1.0e-9:\n",
      "\u001b[31m\u001b[1maborting\u001b[22m\u001b[39m with smp candidate PSW(1.4092385973225439, [2, 1, 1, 2, 1, 1, 2, 1, 2, 1, 1, 2, 1, 1, 2, 1, 2, 1, 1, 2, 1, 2, 1, 1, 2, 1, 1, 2, 1, 2, 1, 1, 2, 1, 2, 1, 1, 2, 1, 1, 2, 1, 2, 1, 1, 2, 1, 2, 1, 1, 2, 1, 1, 2, 1, 2, 1, 1, 2, 1, 2, 1, 1, 2, 1, 1, 2, 1, 2, 1, 1, 2, 1, 2, 1, 1, 2, 1, 1, 2, 1, 2, 1, 1, 2, 1, 2, 1, 1, 2, 1, 1, 2, 1, 2, 1, 1, 2, 1, 2, 1, 1, 2, 1, 1, 2, 1, 2, 1, 1, 2, 1, 2, 1, 1, 2, 1, 1, 2, 1, 2, 1, 1, 2, 1, 2, 1, 1, 2, 1, 1, 2, 1, 2, 1, 1, 2, 1, 2, 1, 1, 2, 1, 1, 2, 1, 2, 1, 1, 2, 1, 2, 1, 1, 2, 1, 1, 2, 1, 2, 1, 1, 2, 1, 2, 1, 1, 2, 1, 1, 2, 1, 2, 1, 1, 2, 1, 2, 1, 1, 2, 1, 1, 2, 1, 2, 1, 1, 2, 1, 2, 1, 1, 2, 1, 1, 2, 1, 2, 1, 1, 2, 1, 2, 1, 1, 2, 1, 1, 2, 1, 2, 1, 1, 2, 1, 2, 1, 1, 2, 1, 1, 2, 1, 2, 1, 1, 2, 1, 2, 1, 1, 2, 1, 1, 2, 1, 2, 1, 1, 2, 1, 2, 1, 1, 2, 1, 1]) of length 248 after prefixing the suffix with 0 times the current s.m.p.Increase the value of the `max_smp_length` keyword argument to go further.\n",
      "\u001b[34m\u001b[1mNew candidate s.m.p. found\u001b[22m\u001b[39m because ⟨v_6*, v⟩ - 1 = 0.0004560776157698232 > 1.0e-9:\n",
      "\u001b[31m\u001b[1maborting\u001b[22m\u001b[39m with smp candidate PSW(1.4092385973225439, [2, 1, 1, 2, 1, 1, 2, 1, 2, 1, 1, 2, 1, 2, 1, 1, 2, 1, 1, 2, 1, 2, 1, 1, 2, 1, 2, 1, 1, 2, 1, 1, 2, 1, 2, 1, 1, 2, 1, 2, 1, 1, 2, 1, 1, 2, 1, 2, 1, 1, 2, 1, 2, 1, 1, 2, 1, 1, 2, 1, 2, 1, 1, 2, 1, 2, 1, 1, 2, 1, 1, 2, 1, 2, 1, 1, 2, 1, 2, 1, 1, 2, 1, 1, 2, 1, 2, 1, 1, 2, 1, 2, 1, 1, 2, 1, 1, 2, 1, 2, 1, 1, 2, 1, 2, 1, 1, 2, 1, 1, 2, 1, 2, 1, 1, 2, 1, 2, 1, 1, 2, 1, 1, 2, 1, 2, 1, 1, 2, 1, 2, 1, 1, 2, 1, 1, 2, 1, 2, 1, 1, 2, 1, 2, 1, 1, 2, 1, 1, 2, 1, 2, 1, 1, 2, 1, 2, 1, 1, 2, 1, 1, 2, 1, 2, 1, 1, 2, 1, 2, 1, 1, 2, 1, 1, 2, 1, 2, 1, 1, 2, 1, 2, 1, 1, 2, 1, 1, 2, 1, 2, 1, 1, 2, 1, 2, 1, 1, 2, 1, 1, 2, 1, 2, 1, 1, 2, 1, 2, 1, 1, 2, 1, 1, 2, 1, 2, 1, 1, 2, 1, 2, 1, 1, 2, 1, 1, 2, 1, 2, 1, 1, 2, 1, 2, 1, 1, 2, 1, 1, 2, 1, 2, 1, 1, 2, 1, 1]) of length 248 after prefixing the suffix with 0 times the current s.m.p.Increase the value of the `max_smp_length` keyword argument to go further.\n"
     ]
    },
    {
     "name": "stdout",
     "output_type": "stream",
     "text": [
      "Depth 249: [1644] points, 9 living leaves...\n",
      "Depth 250: [1652] points, 8 living leaves...\n",
      "Depth 251: [1660] points, 8 living leaves...\n",
      "\u001b[34m\u001b[1mNew candidate s.m.p. found\u001b[22m\u001b[39m because ⟨v_6*, v⟩ - 1 = 1.6942804448305537e-7 > 1.0e-9:\n",
      "\u001b[31m\u001b[1maborting\u001b[22m\u001b[39m with smp candidate PSW(1.4092431072292662, [2, 1, 1, 2, 1, 1, 2, 1, 2, 1, 1, 2, 1, 1, 2, 1, 2, 1, 1, 2, 1, 2, 1, 1, 2, 1, 1, 2, 1, 2, 1, 1, 2, 1, 1, 2, 1, 2, 1, 1, 2, 1, 2, 1, 1, 2, 1, 1, 2, 1, 2, 1, 1, 2, 1, 1, 2, 1, 2, 1, 1, 2, 1, 2, 1, 1, 2, 1, 1, 2, 1, 2, 1, 1, 2, 1, 1, 2, 1, 2, 1, 1, 2, 1, 2, 1, 1, 2, 1, 1, 2, 1, 2, 1, 1, 2, 1, 2, 1, 1, 2, 1, 1, 2, 1, 2, 1, 1, 2, 1, 2, 1, 1, 2, 1, 1, 2, 1, 2, 1, 1, 2, 1, 2, 1, 1, 2, 1, 1, 2, 1, 2, 1, 1, 2, 1, 2, 1, 1, 2, 1, 1, 2, 1, 2, 1, 1, 2, 1, 2, 1, 1, 2, 1, 1, 2, 1, 2, 1, 1, 2, 1, 2, 1, 1, 2, 1, 1, 2, 1, 2, 1, 1, 2, 1, 2, 1, 1, 2, 1, 1, 2, 1, 2, 1, 1, 2, 1, 2, 1, 1, 2, 1, 1, 2, 1, 2, 1, 1, 2, 1, 2, 1, 1, 2, 1, 1, 2, 1, 2, 1, 1, 2, 1, 2, 1, 1, 2, 1, 1, 2, 1, 2, 1, 1, 2, 1, 2, 1, 1, 2, 1, 1, 2, 1, 2, 1, 1, 2, 1, 2, 1, 1, 2, 1, 1, 2, 1, 2, 1, 1]) of length 251 after prefixing the suffix with 0 times the current s.m.p.Increase the value of the `max_smp_length` keyword argument to go further.\n",
      "\u001b[34m\u001b[1mNew candidate s.m.p. found\u001b[22m\u001b[39m because ⟨v_6*, v⟩ - 1 = 1.7282912145866192e-7 > 1.0e-9:\n",
      "\u001b[31m\u001b[1maborting\u001b[22m\u001b[39m with smp candidate PSW(1.4092431071963814, [2, 1, 1, 2, 1, 1, 2, 1, 2, 1, 1, 2, 1, 1, 2, 1, 2, 1, 1, 2, 1, 2, 1, 1, 2, 1, 1, 2, 1, 2, 1, 1, 2, 1, 1, 2, 1, 2, 1, 1, 2, 1, 2, 1, 1, 2, 1, 1, 2, 1, 2, 1, 1, 2, 1, 1, 2, 1, 2, 1, 1, 2, 1, 2, 1, 1, 2, 1, 1, 2, 1, 2, 1, 1, 2, 1, 2, 1, 1, 2, 1, 1, 2, 1, 2, 1, 1, 2, 1, 2, 1, 1, 2, 1, 1, 2, 1, 2, 1, 1, 2, 1, 2, 1, 1, 2, 1, 1, 2, 1, 2, 1, 1, 2, 1, 2, 1, 1, 2, 1, 1, 2, 1, 2, 1, 1, 2, 1, 2, 1, 1, 2, 1, 1, 2, 1, 2, 1, 1, 2, 1, 2, 1, 1, 2, 1, 1, 2, 1, 2, 1, 1, 2, 1, 2, 1, 1, 2, 1, 1, 2, 1, 2, 1, 1, 2, 1, 2, 1, 1, 2, 1, 1, 2, 1, 2, 1, 1, 2, 1, 2, 1, 1, 2, 1, 1, 2, 1, 2, 1, 1, 2, 1, 2, 1, 1, 2, 1, 1, 2, 1, 2, 1, 1, 2, 1, 2, 1, 1, 2, 1, 1, 2, 1, 2, 1, 1, 2, 1, 2, 1, 1, 2, 1, 1, 2, 1, 2, 1, 1, 2, 1, 2, 1, 1, 2, 1, 1, 2, 1, 2, 1, 1, 2, 1, 1, 2, 1, 2, 1, 1]) of length 251 after prefixing the suffix with 0 times the current s.m.p.Increase the value of the `max_smp_length` keyword argument to go further.\n",
      "\u001b[34m\u001b[1mNew candidate s.m.p. found\u001b[22m\u001b[39m because ⟨v_6*, v⟩ - 1 = 0.0004557518579133557 > 1.0e-9:\n",
      "\u001b[31m\u001b[1maborting\u001b[22m\u001b[39m with smp candidate PSW(1.4092387004067246, [2, 1, 1, 2, 1, 1, 2, 1, 2, 1, 1, 2, 1, 1, 2, 1, 2, 1, 1, 2, 1, 2, 1, 1, 2, 1, 1, 2, 1, 2, 1, 1, 2, 1, 1, 2, 1, 2, 1, 1, 2, 1, 2, 1, 1, 2, 1, 1, 2, 1, 2, 1, 1, 2, 1, 1, 2, 1, 2, 1, 1, 2, 1, 2, 1, 1, 2, 1, 1, 2, 1, 2, 1, 1, 2, 1, 2, 1, 1, 2, 1, 1, 2, 1, 2, 1, 1, 2, 1, 2, 1, 1, 2, 1, 1, 2, 1, 2, 1, 1, 2, 1, 2, 1, 1, 2, 1, 1, 2, 1, 2, 1, 1, 2, 1, 2, 1, 1, 2, 1, 1, 2, 1, 2, 1, 1, 2, 1, 2, 1, 1, 2, 1, 1, 2, 1, 2, 1, 1, 2, 1, 2, 1, 1, 2, 1, 1, 2, 1, 2, 1, 1, 2, 1, 2, 1, 1, 2, 1, 1, 2, 1, 2, 1, 1, 2, 1, 2, 1, 1, 2, 1, 1, 2, 1, 2, 1, 1, 2, 1, 2, 1, 1, 2, 1, 1, 2, 1, 2, 1, 1, 2, 1, 2, 1, 1, 2, 1, 1, 2, 1, 2, 1, 1, 2, 1, 2, 1, 1, 2, 1, 1, 2, 1, 2, 1, 1, 2, 1, 2, 1, 1, 2, 1, 1, 2, 1, 2, 1, 1, 2, 1, 2, 1, 1, 2, 1, 1, 2, 1, 2, 1, 1, 2, 1, 2, 1, 1, 2, 1, 1]) of length 251 after prefixing the suffix with 0 times the current s.m.p.Increase the value of the `max_smp_length` keyword argument to go further.\n",
      "\u001b[34m\u001b[1mNew candidate s.m.p. found\u001b[22m\u001b[39m because ⟨v_6*, v⟩ - 1 = 0.00045607966622118745 > 1.0e-9:\n",
      "\u001b[31m\u001b[1maborting\u001b[22m\u001b[39m with smp candidate PSW(1.4092386971510822, [2, 1, 1, 2, 1, 1, 2, 1, 2, 1, 1, 2, 1, 1, 2, 1, 2, 1, 1, 2, 1, 2, 1, 1, 2, 1, 1, 2, 1, 2, 1, 1, 2, 1, 1, 2, 1, 2, 1, 1, 2, 1, 2, 1, 1, 2, 1, 1, 2, 1, 2, 1, 1, 2, 1, 2, 1, 1, 2, 1, 1, 2, 1, 2, 1, 1, 2, 1, 2, 1, 1, 2, 1, 1, 2, 1, 2, 1, 1, 2, 1, 2, 1, 1, 2, 1, 1, 2, 1, 2, 1, 1, 2, 1, 2, 1, 1, 2, 1, 1, 2, 1, 2, 1, 1, 2, 1, 2, 1, 1, 2, 1, 1, 2, 1, 2, 1, 1, 2, 1, 2, 1, 1, 2, 1, 1, 2, 1, 2, 1, 1, 2, 1, 2, 1, 1, 2, 1, 1, 2, 1, 2, 1, 1, 2, 1, 2, 1, 1, 2, 1, 1, 2, 1, 2, 1, 1, 2, 1, 2, 1, 1, 2, 1, 1, 2, 1, 2, 1, 1, 2, 1, 2, 1, 1, 2, 1, 1, 2, 1, 2, 1, 1, 2, 1, 2, 1, 1, 2, 1, 1, 2, 1, 2, 1, 1, 2, 1, 2, 1, 1, 2, 1, 1, 2, 1, 2, 1, 1, 2, 1, 2, 1, 1, 2, 1, 1, 2, 1, 2, 1, 1, 2, 1, 2, 1, 1, 2, 1, 1, 2, 1, 2, 1, 1, 2, 1, 2, 1, 1, 2, 1, 1, 2, 1, 2, 1, 1, 2, 1, 1]) of length 251 after prefixing the suffix with 0 times the current s.m.p.Increase the value of the `max_smp_length` keyword argument to go further.\n",
      "Depth 252: [1668] points, 8 living leaves...\n",
      "Depth 253: [1676] points, 8 living leaves...\n",
      "\u001b[34m\u001b[1mNew candidate s.m.p. found\u001b[22m\u001b[39m because ⟨v_6*, v⟩ - 1 = 1.70794100640137e-7 > 1.0e-9:\n",
      "\u001b[31m\u001b[1maborting\u001b[22m\u001b[39m with smp candidate PSW(1.4092431397575111, [2, 1, 1, 2, 1, 1, 2, 1, 2, 1, 1, 2, 1, 1, 2, 1, 2, 1, 1, 2, 1, 2, 1, 1, 2, 1, 1, 2, 1, 2, 1, 1, 2, 1, 2, 1, 1, 2, 1, 1, 2, 1, 2, 1, 1, 2, 1, 2, 1, 1, 2, 1, 1, 2, 1, 2, 1, 1, 2, 1, 2, 1, 1, 2, 1, 1, 2, 1, 2, 1, 1, 2, 1, 2, 1, 1, 2, 1, 1, 2, 1, 2, 1, 1, 2, 1, 2, 1, 1, 2, 1, 1, 2, 1, 2, 1, 1, 2, 1, 2, 1, 1, 2, 1, 1, 2, 1, 2, 1, 1, 2, 1, 2, 1, 1, 2, 1, 1, 2, 1, 2, 1, 1, 2, 1, 2, 1, 1, 2, 1, 1, 2, 1, 2, 1, 1, 2, 1, 2, 1, 1, 2, 1, 1, 2, 1, 2, 1, 1, 2, 1, 2, 1, 1, 2, 1, 1, 2, 1, 2, 1, 1, 2, 1, 2, 1, 1, 2, 1, 1, 2, 1, 2, 1, 1, 2, 1, 2, 1, 1, 2, 1, 1, 2, 1, 2, 1, 1, 2, 1, 2, 1, 1, 2, 1, 1, 2, 1, 2, 1, 1, 2, 1, 2, 1, 1, 2, 1, 1, 2, 1, 2, 1, 1, 2, 1, 2, 1, 1, 2, 1, 1, 2, 1, 2, 1, 1, 2, 1, 2, 1, 1, 2, 1, 1, 2, 1, 2, 1, 1, 2, 1, 2, 1, 1, 2, 1, 1, 2, 1, 2, 1, 1]) of length 253 after prefixing the suffix with 0 times the current s.m.p.Increase the value of the `max_smp_length` keyword argument to go further.\n",
      "\u001b[34m\u001b[1mNew candidate s.m.p. found\u001b[22m\u001b[39m because ⟨v_6*, v⟩ - 1 = 1.7419517717165434e-7 > 1.0e-9:\n",
      "\u001b[31m\u001b[1maborting\u001b[22m\u001b[39m with smp candidate PSW(1.4092431427404906, [2, 1, 1, 2, 1, 1, 2, 1, 2, 1, 1, 2, 1, 2, 1, 1, 2, 1, 1, 2, 1, 2, 1, 1, 2, 1, 2, 1, 1, 2, 1, 1, 2, 1, 2, 1, 1, 2, 1, 2, 1, 1, 2, 1, 1, 2, 1, 2, 1, 1, 2, 1, 2, 1, 1, 2, 1, 1, 2, 1, 2, 1, 1, 2, 1, 2, 1, 1, 2, 1, 1, 2, 1, 2, 1, 1, 2, 1, 2, 1, 1, 2, 1, 1, 2, 1, 2, 1, 1, 2, 1, 2, 1, 1, 2, 1, 1, 2, 1, 2, 1, 1, 2, 1, 2, 1, 1, 2, 1, 1, 2, 1, 2, 1, 1, 2, 1, 2, 1, 1, 2, 1, 1, 2, 1, 2, 1, 1, 2, 1, 2, 1, 1, 2, 1, 1, 2, 1, 2, 1, 1, 2, 1, 2, 1, 1, 2, 1, 1, 2, 1, 2, 1, 1, 2, 1, 2, 1, 1, 2, 1, 1, 2, 1, 2, 1, 1, 2, 1, 2, 1, 1, 2, 1, 1, 2, 1, 2, 1, 1, 2, 1, 2, 1, 1, 2, 1, 1, 2, 1, 2, 1, 1, 2, 1, 2, 1, 1, 2, 1, 1, 2, 1, 2, 1, 1, 2, 1, 2, 1, 1, 2, 1, 1, 2, 1, 2, 1, 1, 2, 1, 2, 1, 1, 2, 1, 1, 2, 1, 2, 1, 1, 2, 1, 2, 1, 1, 2, 1, 1, 2, 1, 2, 1, 1, 2, 1, 1, 2, 1, 2, 1, 1]) of length 253 after prefixing the suffix with 0 times the current s.m.p.Increase the value of the `max_smp_length` keyword argument to go further.\n",
      "\u001b[34m\u001b[1mNew candidate s.m.p. found\u001b[22m\u001b[39m because ⟨v_6*, v⟩ - 1 = 0.0004557532245914597 > 1.0e-9:\n",
      "\u001b[31m\u001b[1maborting\u001b[22m\u001b[39m with smp candidate PSW(1.4092387710011058, [2, 1, 1, 2, 1, 1, 2, 1, 2, 1, 1, 2, 1, 2, 1, 1, 2, 1, 1, 2, 1, 2, 1, 1, 2, 1, 2, 1, 1, 2, 1, 1, 2, 1, 2, 1, 1, 2, 1, 2, 1, 1, 2, 1, 1, 2, 1, 2, 1, 1, 2, 1, 2, 1, 1, 2, 1, 1, 2, 1, 2, 1, 1, 2, 1, 2, 1, 1, 2, 1, 1, 2, 1, 2, 1, 1, 2, 1, 2, 1, 1, 2, 1, 1, 2, 1, 2, 1, 1, 2, 1, 2, 1, 1, 2, 1, 1, 2, 1, 2, 1, 1, 2, 1, 2, 1, 1, 2, 1, 1, 2, 1, 2, 1, 1, 2, 1, 2, 1, 1, 2, 1, 1, 2, 1, 2, 1, 1, 2, 1, 2, 1, 1, 2, 1, 1, 2, 1, 2, 1, 1, 2, 1, 2, 1, 1, 2, 1, 1, 2, 1, 2, 1, 1, 2, 1, 2, 1, 1, 2, 1, 1, 2, 1, 2, 1, 1, 2, 1, 2, 1, 1, 2, 1, 1, 2, 1, 2, 1, 1, 2, 1, 2, 1, 1, 2, 1, 1, 2, 1, 2, 1, 1, 2, 1, 2, 1, 1, 2, 1, 1, 2, 1, 2, 1, 1, 2, 1, 2, 1, 1, 2, 1, 1, 2, 1, 2, 1, 1, 2, 1, 2, 1, 1, 2, 1, 1, 2, 1, 2, 1, 1, 2, 1, 2, 1, 1, 2, 1, 1, 2, 1, 2, 1, 1, 2, 1, 2, 1, 1, 2, 1, 1]) of length 253 after prefixing the suffix with 0 times the current s.m.p.Increase the value of the `max_smp_length` keyword argument to go further.\n",
      "Depth 254: [1684] points, 8 living leaves...\n",
      "\u001b[34m\u001b[1mNew candidate s.m.p. found\u001b[22m\u001b[39m because ⟨v_6*, v⟩ - 1 = 0.00045608171667121944 > 1.0e-9:\n",
      "\u001b[31m\u001b[1maborting\u001b[22m\u001b[39m with smp candidate PSW(1.4092387978386631, [2, 1, 1, 2, 1, 1, 2, 1, 2, 1, 1, 2, 1, 1, 2, 1, 2, 1, 1, 2, 1, 2, 1, 1, 2, 1, 1, 2, 1, 2, 1, 1, 2, 1, 1, 2, 1, 2, 1, 1, 2, 1, 2, 1, 1, 2, 1, 1, 2, 1, 2, 1, 1, 2, 1, 1, 2, 1, 2, 1, 1, 2, 1, 2, 1, 1, 2, 1, 1, 2, 1, 2, 1, 1, 2, 1, 1, 2, 1, 2, 1, 1, 2, 1, 2, 1, 1, 2, 1, 1, 2, 1, 2, 1, 1, 2, 1, 2, 1, 1, 2, 1, 1, 2, 1, 2, 1, 1, 2, 1, 2, 1, 1, 2, 1, 1, 2, 1, 2, 1, 1, 2, 1, 2, 1, 1, 2, 1, 1, 2, 1, 2, 1, 1, 2, 1, 2, 1, 1, 2, 1, 1, 2, 1, 2, 1, 1, 2, 1, 2, 1, 1, 2, 1, 1, 2, 1, 2, 1, 1, 2, 1, 2, 1, 1, 2, 1, 1, 2, 1, 2, 1, 1, 2, 1, 2, 1, 1, 2, 1, 1, 2, 1, 2, 1, 1, 2, 1, 2, 1, 1, 2, 1, 1, 2, 1, 2, 1, 1, 2, 1, 2, 1, 1, 2, 1, 1, 2, 1, 2, 1, 1, 2, 1, 2, 1, 1, 2, 1, 1, 2, 1, 2, 1, 1, 2, 1, 2, 1, 1, 2, 1, 1, 2, 1, 2, 1, 1, 2, 1, 2, 1, 1, 2, 1, 1, 2, 1, 2, 1, 1, 2, 1, 1]) of length 254 after prefixing the suffix with 0 times the current s.m.p.Increase the value of the `max_smp_length` keyword argument to go further.\n"
     ]
    },
    {
     "name": "stdout",
     "output_type": "stream",
     "text": [
      "Depth 255: [1692] points, 8 living leaves...\n",
      "Depth 256: [1700] points, 8 living leaves...\n",
      "\u001b[34m\u001b[1mNew candidate s.m.p. found\u001b[22m\u001b[39m because ⟨v_6*, v⟩ - 1 = 1.7284361697456063e-7 > 1.0e-9:\n",
      "\u001b[31m\u001b[1maborting\u001b[22m\u001b[39m with smp candidate PSW(1.4092431875969063, [2, 1, 1, 2, 1, 1, 2, 1, 2, 1, 1, 2, 1, 1, 2, 1, 2, 1, 1, 2, 1, 2, 1, 1, 2, 1, 1, 2, 1, 2, 1, 1, 2, 1, 1, 2, 1, 2, 1, 1, 2, 1, 2, 1, 1, 2, 1, 1, 2, 1, 2, 1, 1, 2, 1, 1, 2, 1, 2, 1, 1, 2, 1, 2, 1, 1, 2, 1, 1, 2, 1, 2, 1, 1, 2, 1, 2, 1, 1, 2, 1, 1, 2, 1, 2, 1, 1, 2, 1, 2, 1, 1, 2, 1, 1, 2, 1, 2, 1, 1, 2, 1, 2, 1, 1, 2, 1, 1, 2, 1, 2, 1, 1, 2, 1, 2, 1, 1, 2, 1, 1, 2, 1, 2, 1, 1, 2, 1, 2, 1, 1, 2, 1, 1, 2, 1, 2, 1, 1, 2, 1, 2, 1, 1, 2, 1, 1, 2, 1, 2, 1, 1, 2, 1, 2, 1, 1, 2, 1, 1, 2, 1, 2, 1, 1, 2, 1, 2, 1, 1, 2, 1, 1, 2, 1, 2, 1, 1, 2, 1, 2, 1, 1, 2, 1, 1, 2, 1, 2, 1, 1, 2, 1, 2, 1, 1, 2, 1, 1, 2, 1, 2, 1, 1, 2, 1, 2, 1, 1, 2, 1, 1, 2, 1, 2, 1, 1, 2, 1, 2, 1, 1, 2, 1, 1, 2, 1, 2, 1, 1, 2, 1, 2, 1, 1, 2, 1, 1, 2, 1, 2, 1, 1, 2, 1, 2, 1, 1, 2, 1, 1, 2, 1, 2, 1, 1]) of length 256 after prefixing the suffix with 0 times the current s.m.p.Increase the value of the `max_smp_length` keyword argument to go further.\n",
      "\u001b[34m\u001b[1mNew candidate s.m.p. found\u001b[22m\u001b[39m because ⟨v_6*, v⟩ - 1 = 1.7624469395016717e-7 > 1.0e-9:\n",
      "\u001b[31m\u001b[1maborting\u001b[22m\u001b[39m with smp candidate PSW(1.4092431875646636, [2, 1, 1, 2, 1, 1, 2, 1, 2, 1, 1, 2, 1, 1, 2, 1, 2, 1, 1, 2, 1, 2, 1, 1, 2, 1, 1, 2, 1, 2, 1, 1, 2, 1, 1, 2, 1, 2, 1, 1, 2, 1, 2, 1, 1, 2, 1, 1, 2, 1, 2, 1, 1, 2, 1, 2, 1, 1, 2, 1, 1, 2, 1, 2, 1, 1, 2, 1, 2, 1, 1, 2, 1, 1, 2, 1, 2, 1, 1, 2, 1, 2, 1, 1, 2, 1, 1, 2, 1, 2, 1, 1, 2, 1, 2, 1, 1, 2, 1, 1, 2, 1, 2, 1, 1, 2, 1, 2, 1, 1, 2, 1, 1, 2, 1, 2, 1, 1, 2, 1, 2, 1, 1, 2, 1, 1, 2, 1, 2, 1, 1, 2, 1, 2, 1, 1, 2, 1, 1, 2, 1, 2, 1, 1, 2, 1, 2, 1, 1, 2, 1, 1, 2, 1, 2, 1, 1, 2, 1, 2, 1, 1, 2, 1, 1, 2, 1, 2, 1, 1, 2, 1, 2, 1, 1, 2, 1, 1, 2, 1, 2, 1, 1, 2, 1, 2, 1, 1, 2, 1, 1, 2, 1, 2, 1, 1, 2, 1, 2, 1, 1, 2, 1, 1, 2, 1, 2, 1, 1, 2, 1, 2, 1, 1, 2, 1, 1, 2, 1, 2, 1, 1, 2, 1, 2, 1, 1, 2, 1, 1, 2, 1, 2, 1, 1, 2, 1, 2, 1, 1, 2, 1, 1, 2, 1, 2, 1, 1, 2, 1, 1, 2, 1, 2, 1, 1]) of length 256 after prefixing the suffix with 0 times the current s.m.p.Increase the value of the `max_smp_length` keyword argument to go further.\n",
      "\u001b[34m\u001b[1mNew candidate s.m.p. found\u001b[22m\u001b[39m because ⟨v_6*, v⟩ - 1 = 0.00045575527504215785 > 1.0e-9:\n",
      "\u001b[31m\u001b[1maborting\u001b[22m\u001b[39m with smp candidate PSW(1.409238866844739, [2, 1, 1, 2, 1, 1, 2, 1, 2, 1, 1, 2, 1, 1, 2, 1, 2, 1, 1, 2, 1, 2, 1, 1, 2, 1, 1, 2, 1, 2, 1, 1, 2, 1, 1, 2, 1, 2, 1, 1, 2, 1, 2, 1, 1, 2, 1, 1, 2, 1, 2, 1, 1, 2, 1, 2, 1, 1, 2, 1, 1, 2, 1, 2, 1, 1, 2, 1, 2, 1, 1, 2, 1, 1, 2, 1, 2, 1, 1, 2, 1, 2, 1, 1, 2, 1, 1, 2, 1, 2, 1, 1, 2, 1, 2, 1, 1, 2, 1, 1, 2, 1, 2, 1, 1, 2, 1, 2, 1, 1, 2, 1, 1, 2, 1, 2, 1, 1, 2, 1, 2, 1, 1, 2, 1, 1, 2, 1, 2, 1, 1, 2, 1, 2, 1, 1, 2, 1, 1, 2, 1, 2, 1, 1, 2, 1, 2, 1, 1, 2, 1, 1, 2, 1, 2, 1, 1, 2, 1, 2, 1, 1, 2, 1, 1, 2, 1, 2, 1, 1, 2, 1, 2, 1, 1, 2, 1, 1, 2, 1, 2, 1, 1, 2, 1, 2, 1, 1, 2, 1, 1, 2, 1, 2, 1, 1, 2, 1, 2, 1, 1, 2, 1, 1, 2, 1, 2, 1, 1, 2, 1, 2, 1, 1, 2, 1, 1, 2, 1, 2, 1, 1, 2, 1, 2, 1, 1, 2, 1, 1, 2, 1, 2, 1, 1, 2, 1, 2, 1, 1, 2, 1, 1, 2, 1, 2, 1, 1, 2, 1, 2, 1, 1, 2, 1, 1]) of length 256 after prefixing the suffix with 0 times the current s.m.p.Increase the value of the `max_smp_length` keyword argument to go further.\n",
      "\u001b[34m\u001b[1mNew candidate s.m.p. found\u001b[22m\u001b[39m because ⟨v_6*, v⟩ - 1 = 0.0004560830833499896 > 1.0e-9:\n",
      "\u001b[31m\u001b[1maborting\u001b[22m\u001b[39m with smp candidate PSW(1.409238863652683, [2, 1, 1, 2, 1, 1, 2, 1, 2, 1, 1, 2, 1, 1, 2, 1, 2, 1, 1, 2, 1, 2, 1, 1, 2, 1, 1, 2, 1, 2, 1, 1, 2, 1, 2, 1, 1, 2, 1, 1, 2, 1, 2, 1, 1, 2, 1, 2, 1, 1, 2, 1, 1, 2, 1, 2, 1, 1, 2, 1, 2, 1, 1, 2, 1, 1, 2, 1, 2, 1, 1, 2, 1, 2, 1, 1, 2, 1, 1, 2, 1, 2, 1, 1, 2, 1, 2, 1, 1, 2, 1, 1, 2, 1, 2, 1, 1, 2, 1, 2, 1, 1, 2, 1, 1, 2, 1, 2, 1, 1, 2, 1, 2, 1, 1, 2, 1, 1, 2, 1, 2, 1, 1, 2, 1, 2, 1, 1, 2, 1, 1, 2, 1, 2, 1, 1, 2, 1, 2, 1, 1, 2, 1, 1, 2, 1, 2, 1, 1, 2, 1, 2, 1, 1, 2, 1, 1, 2, 1, 2, 1, 1, 2, 1, 2, 1, 1, 2, 1, 1, 2, 1, 2, 1, 1, 2, 1, 2, 1, 1, 2, 1, 1, 2, 1, 2, 1, 1, 2, 1, 2, 1, 1, 2, 1, 1, 2, 1, 2, 1, 1, 2, 1, 2, 1, 1, 2, 1, 1, 2, 1, 2, 1, 1, 2, 1, 2, 1, 1, 2, 1, 1, 2, 1, 2, 1, 1, 2, 1, 2, 1, 1, 2, 1, 1, 2, 1, 2, 1, 1, 2, 1, 2, 1, 1, 2, 1, 1, 2, 1, 2, 1, 1, 2, 1, 1]) of length 256 after prefixing the suffix with 0 times the current s.m.p.Increase the value of the `max_smp_length` keyword argument to go further.\n",
      "Depth 257: [1708] points, 8 living leaves...\n",
      "Depth 258: [1716] points, 8 living leaves...\n",
      "\u001b[34m\u001b[1mNew candidate s.m.p. found\u001b[22m\u001b[39m because ⟨v_6*, v⟩ - 1 = 1.7420967313164226e-7 > 1.0e-9:\n",
      "\u001b[31m\u001b[1maborting\u001b[22m\u001b[39m with smp candidate PSW(1.4092432218289168, [2, 1, 1, 2, 1, 1, 2, 1, 2, 1, 1, 2, 1, 2, 1, 1, 2, 1, 1, 2, 1, 2, 1, 1, 2, 1, 2, 1, 1, 2, 1, 1, 2, 1, 2, 1, 1, 2, 1, 2, 1, 1, 2, 1, 1, 2, 1, 2, 1, 1, 2, 1, 2, 1, 1, 2, 1, 1, 2, 1, 2, 1, 1, 2, 1, 2, 1, 1, 2, 1, 1, 2, 1, 2, 1, 1, 2, 1, 2, 1, 1, 2, 1, 1, 2, 1, 2, 1, 1, 2, 1, 2, 1, 1, 2, 1, 1, 2, 1, 2, 1, 1, 2, 1, 2, 1, 1, 2, 1, 1, 2, 1, 2, 1, 1, 2, 1, 2, 1, 1, 2, 1, 1, 2, 1, 2, 1, 1, 2, 1, 2, 1, 1, 2, 1, 1, 2, 1, 2, 1, 1, 2, 1, 2, 1, 1, 2, 1, 1, 2, 1, 2, 1, 1, 2, 1, 2, 1, 1, 2, 1, 1, 2, 1, 2, 1, 1, 2, 1, 2, 1, 1, 2, 1, 1, 2, 1, 2, 1, 1, 2, 1, 2, 1, 1, 2, 1, 1, 2, 1, 2, 1, 1, 2, 1, 2, 1, 1, 2, 1, 1, 2, 1, 2, 1, 1, 2, 1, 2, 1, 1, 2, 1, 1, 2, 1, 2, 1, 1, 2, 1, 2, 1, 1, 2, 1, 1, 2, 1, 2, 1, 1, 2, 1, 2, 1, 1, 2, 1, 1, 2, 1, 2, 1, 1, 2, 1, 2, 1, 1, 2, 1, 1, 2, 1, 2, 1, 1]) of length 258 after prefixing the suffix with 0 times the current s.m.p.Increase the value of the `max_smp_length` keyword argument to go further.\n",
      "Depth 259: [1724] points, 8 living leaves...\n",
      "\u001b[34m\u001b[1mNew candidate s.m.p. found\u001b[22m\u001b[39m because ⟨v_6*, v⟩ - 1 = 1.78294209618457e-7 > 1.0e-9:\n",
      "\u001b[31m\u001b[1maborting\u001b[22m\u001b[39m with smp candidate PSW(1.4092432342961854, [2, 1, 1, 2, 1, 1, 2, 1, 2, 1, 1, 2, 1, 1, 2, 1, 2, 1, 1, 2, 1, 2, 1, 1, 2, 1, 1, 2, 1, 2, 1, 1, 2, 1, 1, 2, 1, 2, 1, 1, 2, 1, 2, 1, 1, 2, 1, 1, 2, 1, 2, 1, 1, 2, 1, 1, 2, 1, 2, 1, 1, 2, 1, 2, 1, 1, 2, 1, 1, 2, 1, 2, 1, 1, 2, 1, 1, 2, 1, 2, 1, 1, 2, 1, 2, 1, 1, 2, 1, 1, 2, 1, 2, 1, 1, 2, 1, 2, 1, 1, 2, 1, 1, 2, 1, 2, 1, 1, 2, 1, 2, 1, 1, 2, 1, 1, 2, 1, 2, 1, 1, 2, 1, 2, 1, 1, 2, 1, 1, 2, 1, 2, 1, 1, 2, 1, 2, 1, 1, 2, 1, 1, 2, 1, 2, 1, 1, 2, 1, 2, 1, 1, 2, 1, 1, 2, 1, 2, 1, 1, 2, 1, 2, 1, 1, 2, 1, 1, 2, 1, 2, 1, 1, 2, 1, 2, 1, 1, 2, 1, 1, 2, 1, 2, 1, 1, 2, 1, 2, 1, 1, 2, 1, 1, 2, 1, 2, 1, 1, 2, 1, 2, 1, 1, 2, 1, 1, 2, 1, 2, 1, 1, 2, 1, 2, 1, 1, 2, 1, 1, 2, 1, 2, 1, 1, 2, 1, 2, 1, 1, 2, 1, 1, 2, 1, 2, 1, 1, 2, 1, 2, 1, 1, 2, 1, 1, 2, 1, 2, 1, 1, 2, 1, 1, 2, 1, 2, 1, 1]) of length 259 after prefixing the suffix with 0 times the current s.m.p.Increase the value of the `max_smp_length` keyword argument to go further.\n",
      "\u001b[34m\u001b[1mNew candidate s.m.p. found\u001b[22m\u001b[39m because ⟨v_6*, v⟩ - 1 = 0.00045575732549130166 > 1.0e-9:\n",
      "\u001b[31m\u001b[1maborting\u001b[22m\u001b[39m with smp candidate PSW(1.4092389636229923, [2, 1, 1, 2, 1, 1, 2, 1, 2, 1, 1, 2, 1, 1, 2, 1, 2, 1, 1, 2, 1, 2, 1, 1, 2, 1, 1, 2, 1, 2, 1, 1, 2, 1, 1, 2, 1, 2, 1, 1, 2, 1, 2, 1, 1, 2, 1, 1, 2, 1, 2, 1, 1, 2, 1, 1, 2, 1, 2, 1, 1, 2, 1, 2, 1, 1, 2, 1, 1, 2, 1, 2, 1, 1, 2, 1, 1, 2, 1, 2, 1, 1, 2, 1, 2, 1, 1, 2, 1, 1, 2, 1, 2, 1, 1, 2, 1, 2, 1, 1, 2, 1, 1, 2, 1, 2, 1, 1, 2, 1, 2, 1, 1, 2, 1, 1, 2, 1, 2, 1, 1, 2, 1, 2, 1, 1, 2, 1, 1, 2, 1, 2, 1, 1, 2, 1, 2, 1, 1, 2, 1, 1, 2, 1, 2, 1, 1, 2, 1, 2, 1, 1, 2, 1, 1, 2, 1, 2, 1, 1, 2, 1, 2, 1, 1, 2, 1, 1, 2, 1, 2, 1, 1, 2, 1, 2, 1, 1, 2, 1, 1, 2, 1, 2, 1, 1, 2, 1, 2, 1, 1, 2, 1, 1, 2, 1, 2, 1, 1, 2, 1, 2, 1, 1, 2, 1, 1, 2, 1, 2, 1, 1, 2, 1, 2, 1, 1, 2, 1, 1, 2, 1, 2, 1, 1, 2, 1, 2, 1, 1, 2, 1, 1, 2, 1, 2, 1, 1, 2, 1, 2, 1, 1, 2, 1, 1, 2, 1, 2, 1, 1, 2, 1, 2, 1, 1, 2, 1, 1]) of length 259 after prefixing the suffix with 0 times the current s.m.p.Increase the value of the `max_smp_length` keyword argument to go further.\n",
      "\u001b[34m\u001b[1mNew candidate s.m.p. found\u001b[22m\u001b[39m because ⟨v_6*, v⟩ - 1 = 0.0004560851338006877 > 1.0e-9:\n",
      "\u001b[31m\u001b[1maborting\u001b[22m\u001b[39m with smp candidate PSW(1.4092389604679096, [2, 1, 1, 2, 1, 1, 2, 1, 2, 1, 1, 2, 1, 1, 2, 1, 2, 1, 1, 2, 1, 2, 1, 1, 2, 1, 1, 2, 1, 2, 1, 1, 2, 1, 1, 2, 1, 2, 1, 1, 2, 1, 2, 1, 1, 2, 1, 1, 2, 1, 2, 1, 1, 2, 1, 1, 2, 1, 2, 1, 1, 2, 1, 2, 1, 1, 2, 1, 1, 2, 1, 2, 1, 1, 2, 1, 2, 1, 1, 2, 1, 1, 2, 1, 2, 1, 1, 2, 1, 2, 1, 1, 2, 1, 1, 2, 1, 2, 1, 1, 2, 1, 2, 1, 1, 2, 1, 1, 2, 1, 2, 1, 1, 2, 1, 2, 1, 1, 2, 1, 1, 2, 1, 2, 1, 1, 2, 1, 2, 1, 1, 2, 1, 1, 2, 1, 2, 1, 1, 2, 1, 2, 1, 1, 2, 1, 1, 2, 1, 2, 1, 1, 2, 1, 2, 1, 1, 2, 1, 1, 2, 1, 2, 1, 1, 2, 1, 2, 1, 1, 2, 1, 1, 2, 1, 2, 1, 1, 2, 1, 2, 1, 1, 2, 1, 1, 2, 1, 2, 1, 1, 2, 1, 2, 1, 1, 2, 1, 1, 2, 1, 2, 1, 1, 2, 1, 2, 1, 1, 2, 1, 1, 2, 1, 2, 1, 1, 2, 1, 2, 1, 1, 2, 1, 1, 2, 1, 2, 1, 1, 2, 1, 2, 1, 1, 2, 1, 1, 2, 1, 2, 1, 1, 2, 1, 2, 1, 1, 2, 1, 1, 2, 1, 2, 1, 1, 2, 1, 1]) of length 259 after prefixing the suffix with 0 times the current s.m.p.Increase the value of the `max_smp_length` keyword argument to go further.\n"
     ]
    },
    {
     "name": "stdout",
     "output_type": "stream",
     "text": [
      "Depth 260: [1732] points, 8 living leaves...\n",
      "Depth 261: [1740] points, 8 living leaves...\n",
      "\u001b[34m\u001b[1mNew candidate s.m.p. found\u001b[22m\u001b[39m because ⟨v_6*, v⟩ - 1 = 1.762591901321997e-7 > 1.0e-9:\n",
      "\u001b[31m\u001b[1maborting\u001b[22m\u001b[39m with smp candidate PSW(1.4092432648853308, [2, 1, 1, 2, 1, 1, 2, 1, 2, 1, 1, 2, 1, 1, 2, 1, 2, 1, 1, 2, 1, 2, 1, 1, 2, 1, 1, 2, 1, 2, 1, 1, 2, 1, 1, 2, 1, 2, 1, 1, 2, 1, 2, 1, 1, 2, 1, 1, 2, 1, 2, 1, 1, 2, 1, 2, 1, 1, 2, 1, 1, 2, 1, 2, 1, 1, 2, 1, 2, 1, 1, 2, 1, 1, 2, 1, 2, 1, 1, 2, 1, 2, 1, 1, 2, 1, 1, 2, 1, 2, 1, 1, 2, 1, 2, 1, 1, 2, 1, 1, 2, 1, 2, 1, 1, 2, 1, 2, 1, 1, 2, 1, 1, 2, 1, 2, 1, 1, 2, 1, 2, 1, 1, 2, 1, 1, 2, 1, 2, 1, 1, 2, 1, 2, 1, 1, 2, 1, 1, 2, 1, 2, 1, 1, 2, 1, 2, 1, 1, 2, 1, 1, 2, 1, 2, 1, 1, 2, 1, 2, 1, 1, 2, 1, 1, 2, 1, 2, 1, 1, 2, 1, 2, 1, 1, 2, 1, 1, 2, 1, 2, 1, 1, 2, 1, 2, 1, 1, 2, 1, 1, 2, 1, 2, 1, 1, 2, 1, 2, 1, 1, 2, 1, 1, 2, 1, 2, 1, 1, 2, 1, 2, 1, 1, 2, 1, 1, 2, 1, 2, 1, 1, 2, 1, 2, 1, 1, 2, 1, 1, 2, 1, 2, 1, 1, 2, 1, 2, 1, 1, 2, 1, 1, 2, 1, 2, 1, 1, 2, 1, 2, 1, 1, 2, 1, 1, 2, 1, 2, 1, 1]) of length 261 after prefixing the suffix with 0 times the current s.m.p.Increase the value of the `max_smp_length` keyword argument to go further.\n",
      "\u001b[34m\u001b[1mNew candidate s.m.p. found\u001b[22m\u001b[39m because ⟨v_6*, v⟩ - 1 = 1.7966026555349401e-7 > 1.0e-9:\n",
      "\u001b[31m\u001b[1maborting\u001b[22m\u001b[39m with smp candidate PSW(1.4092432648537059, [2, 1, 1, 2, 1, 1, 2, 1, 2, 1, 1, 2, 1, 1, 2, 1, 2, 1, 1, 2, 1, 2, 1, 1, 2, 1, 1, 2, 1, 2, 1, 1, 2, 1, 2, 1, 1, 2, 1, 1, 2, 1, 2, 1, 1, 2, 1, 2, 1, 1, 2, 1, 1, 2, 1, 2, 1, 1, 2, 1, 2, 1, 1, 2, 1, 1, 2, 1, 2, 1, 1, 2, 1, 2, 1, 1, 2, 1, 1, 2, 1, 2, 1, 1, 2, 1, 2, 1, 1, 2, 1, 1, 2, 1, 2, 1, 1, 2, 1, 2, 1, 1, 2, 1, 1, 2, 1, 2, 1, 1, 2, 1, 2, 1, 1, 2, 1, 1, 2, 1, 2, 1, 1, 2, 1, 2, 1, 1, 2, 1, 1, 2, 1, 2, 1, 1, 2, 1, 2, 1, 1, 2, 1, 1, 2, 1, 2, 1, 1, 2, 1, 2, 1, 1, 2, 1, 1, 2, 1, 2, 1, 1, 2, 1, 2, 1, 1, 2, 1, 1, 2, 1, 2, 1, 1, 2, 1, 2, 1, 1, 2, 1, 1, 2, 1, 2, 1, 1, 2, 1, 2, 1, 1, 2, 1, 1, 2, 1, 2, 1, 1, 2, 1, 2, 1, 1, 2, 1, 1, 2, 1, 2, 1, 1, 2, 1, 2, 1, 1, 2, 1, 1, 2, 1, 2, 1, 1, 2, 1, 2, 1, 1, 2, 1, 1, 2, 1, 2, 1, 1, 2, 1, 2, 1, 1, 2, 1, 1, 2, 1, 2, 1, 1, 2, 1, 1, 2, 1, 2, 1, 1]) of length 261 after prefixing the suffix with 0 times the current s.m.p.Increase the value of the `max_smp_length` keyword argument to go further.\n",
      "\u001b[34m\u001b[1mNew candidate s.m.p. found\u001b[22m\u001b[39m because ⟨v_6*, v⟩ - 1 = 0.0004557586921696277 > 1.0e-9:\n",
      "\u001b[31m\u001b[1maborting\u001b[22m\u001b[39m with smp candidate PSW(1.4092390269058366, [2, 1, 1, 2, 1, 1, 2, 1, 2, 1, 1, 2, 1, 1, 2, 1, 2, 1, 1, 2, 1, 2, 1, 1, 2, 1, 1, 2, 1, 2, 1, 1, 2, 1, 2, 1, 1, 2, 1, 1, 2, 1, 2, 1, 1, 2, 1, 2, 1, 1, 2, 1, 1, 2, 1, 2, 1, 1, 2, 1, 2, 1, 1, 2, 1, 1, 2, 1, 2, 1, 1, 2, 1, 2, 1, 1, 2, 1, 1, 2, 1, 2, 1, 1, 2, 1, 2, 1, 1, 2, 1, 1, 2, 1, 2, 1, 1, 2, 1, 2, 1, 1, 2, 1, 1, 2, 1, 2, 1, 1, 2, 1, 2, 1, 1, 2, 1, 1, 2, 1, 2, 1, 1, 2, 1, 2, 1, 1, 2, 1, 1, 2, 1, 2, 1, 1, 2, 1, 2, 1, 1, 2, 1, 1, 2, 1, 2, 1, 1, 2, 1, 2, 1, 1, 2, 1, 1, 2, 1, 2, 1, 1, 2, 1, 2, 1, 1, 2, 1, 1, 2, 1, 2, 1, 1, 2, 1, 2, 1, 1, 2, 1, 1, 2, 1, 2, 1, 1, 2, 1, 2, 1, 1, 2, 1, 1, 2, 1, 2, 1, 1, 2, 1, 2, 1, 1, 2, 1, 1, 2, 1, 2, 1, 1, 2, 1, 2, 1, 1, 2, 1, 1, 2, 1, 2, 1, 1, 2, 1, 2, 1, 1, 2, 1, 1, 2, 1, 2, 1, 1, 2, 1, 2, 1, 1, 2, 1, 1, 2, 1, 2, 1, 1, 2, 1, 2, 1, 1, 2, 1, 1]) of length 261 after prefixing the suffix with 0 times the current s.m.p.Increase the value of the `max_smp_length` keyword argument to go further.\n",
      "\u001b[34m\u001b[1mNew candidate s.m.p. found\u001b[22m\u001b[39m because ⟨v_6*, v⟩ - 1 = 0.00045608650047990196 > 1.0e-9:\n",
      "\u001b[31m\u001b[1maborting\u001b[22m\u001b[39m with smp candidate PSW(1.4092390269058366, [2, 1, 1, 2, 1, 1, 2, 1, 2, 1, 1, 2, 1, 2, 1, 1, 2, 1, 1, 2, 1, 2, 1, 1, 2, 1, 2, 1, 1, 2, 1, 1, 2, 1, 2, 1, 1, 2, 1, 2, 1, 1, 2, 1, 1, 2, 1, 2, 1, 1, 2, 1, 2, 1, 1, 2, 1, 1, 2, 1, 2, 1, 1, 2, 1, 2, 1, 1, 2, 1, 1, 2, 1, 2, 1, 1, 2, 1, 2, 1, 1, 2, 1, 1, 2, 1, 2, 1, 1, 2, 1, 2, 1, 1, 2, 1, 1, 2, 1, 2, 1, 1, 2, 1, 2, 1, 1, 2, 1, 1, 2, 1, 2, 1, 1, 2, 1, 2, 1, 1, 2, 1, 1, 2, 1, 2, 1, 1, 2, 1, 2, 1, 1, 2, 1, 1, 2, 1, 2, 1, 1, 2, 1, 2, 1, 1, 2, 1, 1, 2, 1, 2, 1, 1, 2, 1, 2, 1, 1, 2, 1, 1, 2, 1, 2, 1, 1, 2, 1, 2, 1, 1, 2, 1, 1, 2, 1, 2, 1, 1, 2, 1, 2, 1, 1, 2, 1, 1, 2, 1, 2, 1, 1, 2, 1, 2, 1, 1, 2, 1, 1, 2, 1, 2, 1, 1, 2, 1, 2, 1, 1, 2, 1, 1, 2, 1, 2, 1, 1, 2, 1, 2, 1, 1, 2, 1, 1, 2, 1, 2, 1, 1, 2, 1, 2, 1, 1, 2, 1, 1, 2, 1, 2, 1, 1, 2, 1, 2, 1, 1, 2, 1, 1, 2, 1, 2, 1, 1, 2, 1, 1]) of length 261 after prefixing the suffix with 0 times the current s.m.p.Increase the value of the `max_smp_length` keyword argument to go further.\n",
      "Depth 262: [1749] points, 9 living leaves...\n",
      "Depth 263: [1757] points, 8 living leaves...\n",
      "Depth 264: [1765] points, 8 living leaves...\n",
      "\u001b[34m\u001b[1mNew candidate s.m.p. found\u001b[22m\u001b[39m because ⟨v_6*, v⟩ - 1 = 1.783087053564003e-7 > 1.0e-9:\n",
      "\u001b[31m\u001b[1maborting\u001b[22m\u001b[39m with smp candidate PSW(1.409243309853144, [2, 1, 1, 2, 1, 1, 2, 1, 2, 1, 1, 2, 1, 1, 2, 1, 2, 1, 1, 2, 1, 2, 1, 1, 2, 1, 1, 2, 1, 2, 1, 1, 2, 1, 1, 2, 1, 2, 1, 1, 2, 1, 2, 1, 1, 2, 1, 1, 2, 1, 2, 1, 1, 2, 1, 1, 2, 1, 2, 1, 1, 2, 1, 2, 1, 1, 2, 1, 1, 2, 1, 2, 1, 1, 2, 1, 1, 2, 1, 2, 1, 1, 2, 1, 2, 1, 1, 2, 1, 1, 2, 1, 2, 1, 1, 2, 1, 2, 1, 1, 2, 1, 1, 2, 1, 2, 1, 1, 2, 1, 2, 1, 1, 2, 1, 1, 2, 1, 2, 1, 1, 2, 1, 2, 1, 1, 2, 1, 1, 2, 1, 2, 1, 1, 2, 1, 2, 1, 1, 2, 1, 1, 2, 1, 2, 1, 1, 2, 1, 2, 1, 1, 2, 1, 1, 2, 1, 2, 1, 1, 2, 1, 2, 1, 1, 2, 1, 1, 2, 1, 2, 1, 1, 2, 1, 2, 1, 1, 2, 1, 1, 2, 1, 2, 1, 1, 2, 1, 2, 1, 1, 2, 1, 1, 2, 1, 2, 1, 1, 2, 1, 2, 1, 1, 2, 1, 1, 2, 1, 2, 1, 1, 2, 1, 2, 1, 1, 2, 1, 1, 2, 1, 2, 1, 1, 2, 1, 2, 1, 1, 2, 1, 1, 2, 1, 2, 1, 1, 2, 1, 2, 1, 1, 2, 1, 1, 2, 1, 2, 1, 1, 2, 1, 2, 1, 1, 2, 1, 1, 2, 1, 2, 1, 1]) of length 264 after prefixing the suffix with 0 times the current s.m.p.Increase the value of the `max_smp_length` keyword argument to go further.\n",
      "\u001b[34m\u001b[1mNew candidate s.m.p. found\u001b[22m\u001b[39m because ⟨v_6*, v⟩ - 1 = 1.8170978188791764e-7 > 1.0e-9:\n",
      "\u001b[31m\u001b[1maborting\u001b[22m\u001b[39m with smp candidate PSW(1.4092433098218786, [2, 1, 1, 2, 1, 1, 2, 1, 2, 1, 1, 2, 1, 1, 2, 1, 2, 1, 1, 2, 1, 2, 1, 1, 2, 1, 1, 2, 1, 2, 1, 1, 2, 1, 1, 2, 1, 2, 1, 1, 2, 1, 2, 1, 1, 2, 1, 1, 2, 1, 2, 1, 1, 2, 1, 1, 2, 1, 2, 1, 1, 2, 1, 2, 1, 1, 2, 1, 1, 2, 1, 2, 1, 1, 2, 1, 2, 1, 1, 2, 1, 1, 2, 1, 2, 1, 1, 2, 1, 2, 1, 1, 2, 1, 1, 2, 1, 2, 1, 1, 2, 1, 2, 1, 1, 2, 1, 1, 2, 1, 2, 1, 1, 2, 1, 2, 1, 1, 2, 1, 1, 2, 1, 2, 1, 1, 2, 1, 2, 1, 1, 2, 1, 1, 2, 1, 2, 1, 1, 2, 1, 2, 1, 1, 2, 1, 1, 2, 1, 2, 1, 1, 2, 1, 2, 1, 1, 2, 1, 1, 2, 1, 2, 1, 1, 2, 1, 2, 1, 1, 2, 1, 1, 2, 1, 2, 1, 1, 2, 1, 2, 1, 1, 2, 1, 1, 2, 1, 2, 1, 1, 2, 1, 2, 1, 1, 2, 1, 1, 2, 1, 2, 1, 1, 2, 1, 2, 1, 1, 2, 1, 1, 2, 1, 2, 1, 1, 2, 1, 2, 1, 1, 2, 1, 1, 2, 1, 2, 1, 1, 2, 1, 2, 1, 1, 2, 1, 1, 2, 1, 2, 1, 1, 2, 1, 2, 1, 1, 2, 1, 1, 2, 1, 2, 1, 1, 2, 1, 1, 2, 1, 2, 1, 1]) of length 264 after prefixing the suffix with 0 times the current s.m.p.Increase the value of the `max_smp_length` keyword argument to go further.\n",
      "\u001b[34m\u001b[1mNew candidate s.m.p. found\u001b[22m\u001b[39m because ⟨v_6*, v⟩ - 1 = 0.0004557607426196597 > 1.0e-9:\n",
      "\u001b[31m\u001b[1maborting\u001b[22m\u001b[39m with smp candidate PSW(1.4092391200323027, [2, 1, 1, 2, 1, 1, 2, 1, 2, 1, 1, 2, 1, 1, 2, 1, 2, 1, 1, 2, 1, 2, 1, 1, 2, 1, 1, 2, 1, 2, 1, 1, 2, 1, 1, 2, 1, 2, 1, 1, 2, 1, 2, 1, 1, 2, 1, 1, 2, 1, 2, 1, 1, 2, 1, 1, 2, 1, 2, 1, 1, 2, 1, 2, 1, 1, 2, 1, 1, 2, 1, 2, 1, 1, 2, 1, 2, 1, 1, 2, 1, 1, 2, 1, 2, 1, 1, 2, 1, 2, 1, 1, 2, 1, 1, 2, 1, 2, 1, 1, 2, 1, 2, 1, 1, 2, 1, 1, 2, 1, 2, 1, 1, 2, 1, 2, 1, 1, 2, 1, 1, 2, 1, 2, 1, 1, 2, 1, 2, 1, 1, 2, 1, 1, 2, 1, 2, 1, 1, 2, 1, 2, 1, 1, 2, 1, 1, 2, 1, 2, 1, 1, 2, 1, 2, 1, 1, 2, 1, 1, 2, 1, 2, 1, 1, 2, 1, 2, 1, 1, 2, 1, 1, 2, 1, 2, 1, 1, 2, 1, 2, 1, 1, 2, 1, 1, 2, 1, 2, 1, 1, 2, 1, 2, 1, 1, 2, 1, 1, 2, 1, 2, 1, 1, 2, 1, 2, 1, 1, 2, 1, 1, 2, 1, 2, 1, 1, 2, 1, 2, 1, 1, 2, 1, 1, 2, 1, 2, 1, 1, 2, 1, 2, 1, 1, 2, 1, 1, 2, 1, 2, 1, 1, 2, 1, 2, 1, 1, 2, 1, 1, 2, 1, 2, 1, 1, 2, 1, 2, 1, 1, 2, 1, 1]) of length 264 after prefixing the suffix with 0 times the current s.m.p.Increase the value of the `max_smp_length` keyword argument to go further.\n",
      "\u001b[34m\u001b[1mNew candidate s.m.p. found\u001b[22m\u001b[39m because ⟨v_6*, v⟩ - 1 = 0.0004560885509312662 > 1.0e-9:\n",
      "\u001b[31m\u001b[1maborting\u001b[22m\u001b[39m with smp candidate PSW(1.4092391169369751, [2, 1, 1, 2, 1, 1, 2, 1, 2, 1, 1, 2, 1, 1, 2, 1, 2, 1, 1, 2, 1, 2, 1, 1, 2, 1, 1, 2, 1, 2, 1, 1, 2, 1, 1, 2, 1, 2, 1, 1, 2, 1, 2, 1, 1, 2, 1, 1, 2, 1, 2, 1, 1, 2, 1, 2, 1, 1, 2, 1, 1, 2, 1, 2, 1, 1, 2, 1, 2, 1, 1, 2, 1, 1, 2, 1, 2, 1, 1, 2, 1, 2, 1, 1, 2, 1, 1, 2, 1, 2, 1, 1, 2, 1, 2, 1, 1, 2, 1, 1, 2, 1, 2, 1, 1, 2, 1, 2, 1, 1, 2, 1, 1, 2, 1, 2, 1, 1, 2, 1, 2, 1, 1, 2, 1, 1, 2, 1, 2, 1, 1, 2, 1, 2, 1, 1, 2, 1, 1, 2, 1, 2, 1, 1, 2, 1, 2, 1, 1, 2, 1, 1, 2, 1, 2, 1, 1, 2, 1, 2, 1, 1, 2, 1, 1, 2, 1, 2, 1, 1, 2, 1, 2, 1, 1, 2, 1, 1, 2, 1, 2, 1, 1, 2, 1, 2, 1, 1, 2, 1, 1, 2, 1, 2, 1, 1, 2, 1, 2, 1, 1, 2, 1, 1, 2, 1, 2, 1, 1, 2, 1, 2, 1, 1, 2, 1, 1, 2, 1, 2, 1, 1, 2, 1, 2, 1, 1, 2, 1, 1, 2, 1, 2, 1, 1, 2, 1, 2, 1, 1, 2, 1, 1, 2, 1, 2, 1, 1, 2, 1, 2, 1, 1, 2, 1, 1, 2, 1, 2, 1, 1, 2, 1, 1]) of length 264 after prefixing the suffix with 0 times the current s.m.p.Increase the value of the `max_smp_length` keyword argument to go further.\n"
     ]
    },
    {
     "name": "stdout",
     "output_type": "stream",
     "text": [
      "Depth 265: [1773] points, 8 living leaves...\n",
      "Depth 266: [1781] points, 8 living leaves...\n",
      "\u001b[34m\u001b[1mNew candidate s.m.p. found\u001b[22m\u001b[39m because ⟨v_6*, v⟩ - 1 = 1.7967476129143733e-7 > 1.0e-9:\n",
      "\u001b[31m\u001b[1maborting\u001b[22m\u001b[39m with smp candidate PSW(1.4092433392681794, [2, 1, 1, 2, 1, 1, 2, 1, 2, 1, 1, 2, 1, 1, 2, 1, 2, 1, 1, 2, 1, 2, 1, 1, 2, 1, 1, 2, 1, 2, 1, 1, 2, 1, 2, 1, 1, 2, 1, 1, 2, 1, 2, 1, 1, 2, 1, 2, 1, 1, 2, 1, 1, 2, 1, 2, 1, 1, 2, 1, 2, 1, 1, 2, 1, 1, 2, 1, 2, 1, 1, 2, 1, 2, 1, 1, 2, 1, 1, 2, 1, 2, 1, 1, 2, 1, 2, 1, 1, 2, 1, 1, 2, 1, 2, 1, 1, 2, 1, 2, 1, 1, 2, 1, 1, 2, 1, 2, 1, 1, 2, 1, 2, 1, 1, 2, 1, 1, 2, 1, 2, 1, 1, 2, 1, 2, 1, 1, 2, 1, 1, 2, 1, 2, 1, 1, 2, 1, 2, 1, 1, 2, 1, 1, 2, 1, 2, 1, 1, 2, 1, 2, 1, 1, 2, 1, 1, 2, 1, 2, 1, 1, 2, 1, 2, 1, 1, 2, 1, 1, 2, 1, 2, 1, 1, 2, 1, 2, 1, 1, 2, 1, 1, 2, 1, 2, 1, 1, 2, 1, 2, 1, 1, 2, 1, 1, 2, 1, 2, 1, 1, 2, 1, 2, 1, 1, 2, 1, 1, 2, 1, 2, 1, 1, 2, 1, 2, 1, 1, 2, 1, 1, 2, 1, 2, 1, 1, 2, 1, 2, 1, 1, 2, 1, 1, 2, 1, 2, 1, 1, 2, 1, 2, 1, 1, 2, 1, 1, 2, 1, 2, 1, 1, 2, 1, 2, 1, 1, 2, 1, 1, 2, 1, 2, 1, 1]) of length 266 after prefixing the suffix with 0 times the current s.m.p.Increase the value of the `max_smp_length` keyword argument to go further.\n",
      "\u001b[34m\u001b[1mNew candidate s.m.p. found\u001b[22m\u001b[39m because ⟨v_6*, v⟩ - 1 = 1.8307583826704388e-7 > 1.0e-9:\n",
      "\u001b[31m\u001b[1maborting\u001b[22m\u001b[39m with smp candidate PSW(1.4092433421053745, [2, 1, 1, 2, 1, 1, 2, 1, 2, 1, 1, 2, 1, 2, 1, 1, 2, 1, 1, 2, 1, 2, 1, 1, 2, 1, 2, 1, 1, 2, 1, 1, 2, 1, 2, 1, 1, 2, 1, 2, 1, 1, 2, 1, 1, 2, 1, 2, 1, 1, 2, 1, 2, 1, 1, 2, 1, 1, 2, 1, 2, 1, 1, 2, 1, 2, 1, 1, 2, 1, 1, 2, 1, 2, 1, 1, 2, 1, 2, 1, 1, 2, 1, 1, 2, 1, 2, 1, 1, 2, 1, 2, 1, 1, 2, 1, 1, 2, 1, 2, 1, 1, 2, 1, 2, 1, 1, 2, 1, 1, 2, 1, 2, 1, 1, 2, 1, 2, 1, 1, 2, 1, 1, 2, 1, 2, 1, 1, 2, 1, 2, 1, 1, 2, 1, 1, 2, 1, 2, 1, 1, 2, 1, 2, 1, 1, 2, 1, 1, 2, 1, 2, 1, 1, 2, 1, 2, 1, 1, 2, 1, 1, 2, 1, 2, 1, 1, 2, 1, 2, 1, 1, 2, 1, 1, 2, 1, 2, 1, 1, 2, 1, 2, 1, 1, 2, 1, 1, 2, 1, 2, 1, 1, 2, 1, 2, 1, 1, 2, 1, 1, 2, 1, 2, 1, 1, 2, 1, 2, 1, 1, 2, 1, 1, 2, 1, 2, 1, 1, 2, 1, 2, 1, 1, 2, 1, 1, 2, 1, 2, 1, 1, 2, 1, 2, 1, 1, 2, 1, 1, 2, 1, 2, 1, 1, 2, 1, 2, 1, 1, 2, 1, 1, 2, 1, 2, 1, 1, 2, 1, 1, 2, 1, 2, 1, 1]) of length 266 after prefixing the suffix with 0 times the current s.m.p.Increase the value of the `max_smp_length` keyword argument to go further.\n",
      "\u001b[34m\u001b[1mNew candidate s.m.p. found\u001b[22m\u001b[39m because ⟨v_6*, v⟩ - 1 = 0.0004557621092982078 > 1.0e-9:\n",
      "\u001b[31m\u001b[1maborting\u001b[22m\u001b[39m with smp candidate PSW(1.4092391840215222, [2, 1, 1, 2, 1, 1, 2, 1, 2, 1, 1, 2, 1, 2, 1, 1, 2, 1, 1, 2, 1, 2, 1, 1, 2, 1, 2, 1, 1, 2, 1, 1, 2, 1, 2, 1, 1, 2, 1, 2, 1, 1, 2, 1, 1, 2, 1, 2, 1, 1, 2, 1, 2, 1, 1, 2, 1, 1, 2, 1, 2, 1, 1, 2, 1, 2, 1, 1, 2, 1, 1, 2, 1, 2, 1, 1, 2, 1, 2, 1, 1, 2, 1, 1, 2, 1, 2, 1, 1, 2, 1, 2, 1, 1, 2, 1, 1, 2, 1, 2, 1, 1, 2, 1, 2, 1, 1, 2, 1, 1, 2, 1, 2, 1, 1, 2, 1, 2, 1, 1, 2, 1, 1, 2, 1, 2, 1, 1, 2, 1, 2, 1, 1, 2, 1, 1, 2, 1, 2, 1, 1, 2, 1, 2, 1, 1, 2, 1, 1, 2, 1, 2, 1, 1, 2, 1, 2, 1, 1, 2, 1, 1, 2, 1, 2, 1, 1, 2, 1, 2, 1, 1, 2, 1, 1, 2, 1, 2, 1, 1, 2, 1, 2, 1, 1, 2, 1, 1, 2, 1, 2, 1, 1, 2, 1, 2, 1, 1, 2, 1, 1, 2, 1, 2, 1, 1, 2, 1, 2, 1, 1, 2, 1, 1, 2, 1, 2, 1, 1, 2, 1, 2, 1, 1, 2, 1, 1, 2, 1, 2, 1, 1, 2, 1, 2, 1, 1, 2, 1, 1, 2, 1, 2, 1, 1, 2, 1, 2, 1, 1, 2, 1, 1, 2, 1, 2, 1, 1, 2, 1, 2, 1, 1, 2, 1, 1]) of length 266 after prefixing the suffix with 0 times the current s.m.p.Increase the value of the `max_smp_length` keyword argument to go further.\n",
      "Depth 267: [1789] points, 8 living leaves...\n",
      "\u001b[34m\u001b[1mNew candidate s.m.p. found\u001b[22m\u001b[39m because ⟨v_6*, v⟩ - 1 = 0.0004560906013808541 > 1.0e-9:\n",
      "\u001b[31m\u001b[1maborting\u001b[22m\u001b[39m with smp candidate PSW(1.4092392080054963, [2, 1, 1, 2, 1, 1, 2, 1, 2, 1, 1, 2, 1, 1, 2, 1, 2, 1, 1, 2, 1, 2, 1, 1, 2, 1, 1, 2, 1, 2, 1, 1, 2, 1, 1, 2, 1, 2, 1, 1, 2, 1, 2, 1, 1, 2, 1, 1, 2, 1, 2, 1, 1, 2, 1, 1, 2, 1, 2, 1, 1, 2, 1, 2, 1, 1, 2, 1, 1, 2, 1, 2, 1, 1, 2, 1, 1, 2, 1, 2, 1, 1, 2, 1, 2, 1, 1, 2, 1, 1, 2, 1, 2, 1, 1, 2, 1, 2, 1, 1, 2, 1, 1, 2, 1, 2, 1, 1, 2, 1, 2, 1, 1, 2, 1, 1, 2, 1, 2, 1, 1, 2, 1, 2, 1, 1, 2, 1, 1, 2, 1, 2, 1, 1, 2, 1, 2, 1, 1, 2, 1, 1, 2, 1, 2, 1, 1, 2, 1, 2, 1, 1, 2, 1, 1, 2, 1, 2, 1, 1, 2, 1, 2, 1, 1, 2, 1, 1, 2, 1, 2, 1, 1, 2, 1, 2, 1, 1, 2, 1, 1, 2, 1, 2, 1, 1, 2, 1, 2, 1, 1, 2, 1, 1, 2, 1, 2, 1, 1, 2, 1, 2, 1, 1, 2, 1, 1, 2, 1, 2, 1, 1, 2, 1, 2, 1, 1, 2, 1, 1, 2, 1, 2, 1, 1, 2, 1, 2, 1, 1, 2, 1, 1, 2, 1, 2, 1, 1, 2, 1, 2, 1, 1, 2, 1, 1, 2, 1, 2, 1, 1, 2, 1, 2, 1, 1, 2, 1, 1, 2, 1, 2, 1, 1, 2, 1, 1]) of length 267 after prefixing the suffix with 0 times the current s.m.p.Increase the value of the `max_smp_length` keyword argument to go further.\n",
      "Depth 268: [1797] points, 8 living leaves...\n",
      "Depth 269: [1805] points, 8 living leaves...\n",
      "\u001b[34m\u001b[1mNew candidate s.m.p. found\u001b[22m\u001b[39m because ⟨v_6*, v⟩ - 1 = 1.8172427784790557e-7 > 1.0e-9:\n",
      "\u001b[31m\u001b[1maborting\u001b[22m\u001b[39m with smp candidate PSW(1.4092433825706137, [2, 1, 1, 2, 1, 1, 2, 1, 2, 1, 1, 2, 1, 1, 2, 1, 2, 1, 1, 2, 1, 2, 1, 1, 2, 1, 1, 2, 1, 2, 1, 1, 2, 1, 1, 2, 1, 2, 1, 1, 2, 1, 2, 1, 1, 2, 1, 1, 2, 1, 2, 1, 1, 2, 1, 1, 2, 1, 2, 1, 1, 2, 1, 2, 1, 1, 2, 1, 1, 2, 1, 2, 1, 1, 2, 1, 2, 1, 1, 2, 1, 1, 2, 1, 2, 1, 1, 2, 1, 2, 1, 1, 2, 1, 1, 2, 1, 2, 1, 1, 2, 1, 2, 1, 1, 2, 1, 1, 2, 1, 2, 1, 1, 2, 1, 2, 1, 1, 2, 1, 1, 2, 1, 2, 1, 1, 2, 1, 2, 1, 1, 2, 1, 1, 2, 1, 2, 1, 1, 2, 1, 2, 1, 1, 2, 1, 1, 2, 1, 2, 1, 1, 2, 1, 2, 1, 1, 2, 1, 1, 2, 1, 2, 1, 1, 2, 1, 2, 1, 1, 2, 1, 1, 2, 1, 2, 1, 1, 2, 1, 2, 1, 1, 2, 1, 1, 2, 1, 2, 1, 1, 2, 1, 2, 1, 1, 2, 1, 1, 2, 1, 2, 1, 1, 2, 1, 2, 1, 1, 2, 1, 1, 2, 1, 2, 1, 1, 2, 1, 2, 1, 1, 2, 1, 1, 2, 1, 2, 1, 1, 2, 1, 2, 1, 1, 2, 1, 1, 2, 1, 2, 1, 1, 2, 1, 2, 1, 1, 2, 1, 1, 2, 1, 2, 1, 1, 2, 1, 2, 1, 1, 2, 1, 1, 2, 1, 2, 1, 1]) of length 269 after prefixing the suffix with 0 times the current s.m.p.Increase the value of the `max_smp_length` keyword argument to go further.\n",
      "\u001b[34m\u001b[1mNew candidate s.m.p. found\u001b[22m\u001b[39m because ⟨v_6*, v⟩ - 1 = 1.8512535548964593e-7 > 1.0e-9:\n",
      "\u001b[31m\u001b[1maborting\u001b[22m\u001b[39m with smp candidate PSW(1.409243382539929, [2, 1, 1, 2, 1, 1, 2, 1, 2, 1, 1, 2, 1, 1, 2, 1, 2, 1, 1, 2, 1, 2, 1, 1, 2, 1, 1, 2, 1, 2, 1, 1, 2, 1, 1, 2, 1, 2, 1, 1, 2, 1, 2, 1, 1, 2, 1, 1, 2, 1, 2, 1, 1, 2, 1, 2, 1, 1, 2, 1, 1, 2, 1, 2, 1, 1, 2, 1, 2, 1, 1, 2, 1, 1, 2, 1, 2, 1, 1, 2, 1, 2, 1, 1, 2, 1, 1, 2, 1, 2, 1, 1, 2, 1, 2, 1, 1, 2, 1, 1, 2, 1, 2, 1, 1, 2, 1, 2, 1, 1, 2, 1, 1, 2, 1, 2, 1, 1, 2, 1, 2, 1, 1, 2, 1, 1, 2, 1, 2, 1, 1, 2, 1, 2, 1, 1, 2, 1, 1, 2, 1, 2, 1, 1, 2, 1, 2, 1, 1, 2, 1, 1, 2, 1, 2, 1, 1, 2, 1, 2, 1, 1, 2, 1, 1, 2, 1, 2, 1, 1, 2, 1, 2, 1, 1, 2, 1, 1, 2, 1, 2, 1, 1, 2, 1, 2, 1, 1, 2, 1, 1, 2, 1, 2, 1, 1, 2, 1, 2, 1, 1, 2, 1, 1, 2, 1, 2, 1, 1, 2, 1, 2, 1, 1, 2, 1, 1, 2, 1, 2, 1, 1, 2, 1, 2, 1, 1, 2, 1, 1, 2, 1, 2, 1, 1, 2, 1, 2, 1, 1, 2, 1, 1, 2, 1, 2, 1, 1, 2, 1, 2, 1, 1, 2, 1, 1, 2, 1, 2, 1, 1, 2, 1, 1, 2, 1, 2, 1, 1]) of length 269 after prefixing the suffix with 0 times the current s.m.p.Increase the value of the `max_smp_length` keyword argument to go further.\n",
      "\u001b[34m\u001b[1mNew candidate s.m.p. found\u001b[22m\u001b[39m because ⟨v_6*, v⟩ - 1 = 0.00045576415974890594 > 1.0e-9:\n",
      "\u001b[31m\u001b[1maborting\u001b[22m\u001b[39m with smp candidate PSW(1.409239270627157, [2, 1, 1, 2, 1, 1, 2, 1, 2, 1, 1, 2, 1, 1, 2, 1, 2, 1, 1, 2, 1, 2, 1, 1, 2, 1, 1, 2, 1, 2, 1, 1, 2, 1, 1, 2, 1, 2, 1, 1, 2, 1, 2, 1, 1, 2, 1, 1, 2, 1, 2, 1, 1, 2, 1, 2, 1, 1, 2, 1, 1, 2, 1, 2, 1, 1, 2, 1, 2, 1, 1, 2, 1, 1, 2, 1, 2, 1, 1, 2, 1, 2, 1, 1, 2, 1, 1, 2, 1, 2, 1, 1, 2, 1, 2, 1, 1, 2, 1, 1, 2, 1, 2, 1, 1, 2, 1, 2, 1, 1, 2, 1, 1, 2, 1, 2, 1, 1, 2, 1, 2, 1, 1, 2, 1, 1, 2, 1, 2, 1, 1, 2, 1, 2, 1, 1, 2, 1, 1, 2, 1, 2, 1, 1, 2, 1, 2, 1, 1, 2, 1, 1, 2, 1, 2, 1, 1, 2, 1, 2, 1, 1, 2, 1, 1, 2, 1, 2, 1, 1, 2, 1, 2, 1, 1, 2, 1, 1, 2, 1, 2, 1, 1, 2, 1, 2, 1, 1, 2, 1, 1, 2, 1, 2, 1, 1, 2, 1, 2, 1, 1, 2, 1, 1, 2, 1, 2, 1, 1, 2, 1, 2, 1, 1, 2, 1, 1, 2, 1, 2, 1, 1, 2, 1, 2, 1, 1, 2, 1, 1, 2, 1, 2, 1, 1, 2, 1, 2, 1, 1, 2, 1, 1, 2, 1, 2, 1, 1, 2, 1, 2, 1, 1, 2, 1, 1, 2, 1, 2, 1, 1, 2, 1, 2, 1, 1, 2, 1, 1]) of length 269 after prefixing the suffix with 0 times the current s.m.p.Increase the value of the `max_smp_length` keyword argument to go further.\n",
      "\u001b[34m\u001b[1mNew candidate s.m.p. found\u001b[22m\u001b[39m because ⟨v_6*, v⟩ - 1 = 0.00045609196805962426 > 1.0e-9:\n",
      "\u001b[31m\u001b[1maborting\u001b[22m\u001b[39m with smp candidate PSW(1.4092392675893632, [2, 1, 1, 2, 1, 1, 2, 1, 2, 1, 1, 2, 1, 1, 2, 1, 2, 1, 1, 2, 1, 2, 1, 1, 2, 1, 1, 2, 1, 2, 1, 1, 2, 1, 2, 1, 1, 2, 1, 1, 2, 1, 2, 1, 1, 2, 1, 2, 1, 1, 2, 1, 1, 2, 1, 2, 1, 1, 2, 1, 2, 1, 1, 2, 1, 1, 2, 1, 2, 1, 1, 2, 1, 2, 1, 1, 2, 1, 1, 2, 1, 2, 1, 1, 2, 1, 2, 1, 1, 2, 1, 1, 2, 1, 2, 1, 1, 2, 1, 2, 1, 1, 2, 1, 1, 2, 1, 2, 1, 1, 2, 1, 2, 1, 1, 2, 1, 1, 2, 1, 2, 1, 1, 2, 1, 2, 1, 1, 2, 1, 1, 2, 1, 2, 1, 1, 2, 1, 2, 1, 1, 2, 1, 1, 2, 1, 2, 1, 1, 2, 1, 2, 1, 1, 2, 1, 1, 2, 1, 2, 1, 1, 2, 1, 2, 1, 1, 2, 1, 1, 2, 1, 2, 1, 1, 2, 1, 2, 1, 1, 2, 1, 1, 2, 1, 2, 1, 1, 2, 1, 2, 1, 1, 2, 1, 1, 2, 1, 2, 1, 1, 2, 1, 2, 1, 1, 2, 1, 1, 2, 1, 2, 1, 1, 2, 1, 2, 1, 1, 2, 1, 1, 2, 1, 2, 1, 1, 2, 1, 2, 1, 1, 2, 1, 1, 2, 1, 2, 1, 1, 2, 1, 2, 1, 1, 2, 1, 1, 2, 1, 2, 1, 1, 2, 1, 2, 1, 1, 2, 1, 1, 2, 1, 2, 1, 1, 2, 1, 1]) of length 269 after prefixing the suffix with 0 times the current s.m.p.Increase the value of the `max_smp_length` keyword argument to go further.\n"
     ]
    },
    {
     "name": "stdout",
     "output_type": "stream",
     "text": [
      "Depth 270: [1813] points, 8 living leaves...\n",
      "Depth 271: [1821] points, 8 living leaves...\n",
      "\u001b[34m\u001b[1mNew candidate s.m.p. found\u001b[22m\u001b[39m because ⟨v_6*, v⟩ - 1 = 1.830903337829426e-7 > 1.0e-9:\n",
      "\u001b[31m\u001b[1maborting\u001b[22m\u001b[39m with smp candidate PSW(1.409243413721582, [2, 1, 1, 2, 1, 1, 2, 1, 2, 1, 1, 2, 1, 2, 1, 1, 2, 1, 1, 2, 1, 2, 1, 1, 2, 1, 2, 1, 1, 2, 1, 1, 2, 1, 2, 1, 1, 2, 1, 2, 1, 1, 2, 1, 1, 2, 1, 2, 1, 1, 2, 1, 2, 1, 1, 2, 1, 1, 2, 1, 2, 1, 1, 2, 1, 2, 1, 1, 2, 1, 1, 2, 1, 2, 1, 1, 2, 1, 2, 1, 1, 2, 1, 1, 2, 1, 2, 1, 1, 2, 1, 2, 1, 1, 2, 1, 1, 2, 1, 2, 1, 1, 2, 1, 2, 1, 1, 2, 1, 1, 2, 1, 2, 1, 1, 2, 1, 2, 1, 1, 2, 1, 1, 2, 1, 2, 1, 1, 2, 1, 2, 1, 1, 2, 1, 1, 2, 1, 2, 1, 1, 2, 1, 2, 1, 1, 2, 1, 1, 2, 1, 2, 1, 1, 2, 1, 2, 1, 1, 2, 1, 1, 2, 1, 2, 1, 1, 2, 1, 2, 1, 1, 2, 1, 1, 2, 1, 2, 1, 1, 2, 1, 2, 1, 1, 2, 1, 1, 2, 1, 2, 1, 1, 2, 1, 2, 1, 1, 2, 1, 1, 2, 1, 2, 1, 1, 2, 1, 2, 1, 1, 2, 1, 1, 2, 1, 2, 1, 1, 2, 1, 2, 1, 1, 2, 1, 1, 2, 1, 2, 1, 1, 2, 1, 2, 1, 1, 2, 1, 1, 2, 1, 2, 1, 1, 2, 1, 2, 1, 1, 2, 1, 1, 2, 1, 2, 1, 1, 2, 1, 2, 1, 1, 2, 1, 1, 2, 1, 2, 1, 1]) of length 271 after prefixing the suffix with 0 times the current s.m.p.Increase the value of the `max_smp_length` keyword argument to go further.\n",
      "Depth 272: [1829] points, 8 living leaves...\n",
      "\u001b[34m\u001b[1mNew candidate s.m.p. found\u001b[22m\u001b[39m because ⟨v_6*, v⟩ - 1 = 1.8717487049180193e-7 > 1.0e-9:\n",
      "\u001b[31m\u001b[1maborting\u001b[22m\u001b[39m with smp candidate PSW(1.4092434248875023, [2, 1, 1, 2, 1, 1, 2, 1, 2, 1, 1, 2, 1, 1, 2, 1, 2, 1, 1, 2, 1, 2, 1, 1, 2, 1, 1, 2, 1, 2, 1, 1, 2, 1, 1, 2, 1, 2, 1, 1, 2, 1, 2, 1, 1, 2, 1, 1, 2, 1, 2, 1, 1, 2, 1, 1, 2, 1, 2, 1, 1, 2, 1, 2, 1, 1, 2, 1, 1, 2, 1, 2, 1, 1, 2, 1, 1, 2, 1, 2, 1, 1, 2, 1, 2, 1, 1, 2, 1, 1, 2, 1, 2, 1, 1, 2, 1, 2, 1, 1, 2, 1, 1, 2, 1, 2, 1, 1, 2, 1, 2, 1, 1, 2, 1, 1, 2, 1, 2, 1, 1, 2, 1, 2, 1, 1, 2, 1, 1, 2, 1, 2, 1, 1, 2, 1, 2, 1, 1, 2, 1, 1, 2, 1, 2, 1, 1, 2, 1, 2, 1, 1, 2, 1, 1, 2, 1, 2, 1, 1, 2, 1, 2, 1, 1, 2, 1, 1, 2, 1, 2, 1, 1, 2, 1, 2, 1, 1, 2, 1, 1, 2, 1, 2, 1, 1, 2, 1, 2, 1, 1, 2, 1, 1, 2, 1, 2, 1, 1, 2, 1, 2, 1, 1, 2, 1, 1, 2, 1, 2, 1, 1, 2, 1, 2, 1, 1, 2, 1, 1, 2, 1, 2, 1, 1, 2, 1, 2, 1, 1, 2, 1, 1, 2, 1, 2, 1, 1, 2, 1, 2, 1, 1, 2, 1, 1, 2, 1, 2, 1, 1, 2, 1, 2, 1, 1, 2, 1, 1, 2, 1, 2, 1, 1, 2, 1, 1, 2, 1, 2, 1, 1]) of length 272 after prefixing the suffix with 0 times the current s.m.p.Increase the value of the `max_smp_length` keyword argument to go further.\n",
      "\u001b[34m\u001b[1mNew candidate s.m.p. found\u001b[22m\u001b[39m because ⟨v_6*, v⟩ - 1 = 0.0004557662101978277 > 1.0e-9:\n",
      "\u001b[31m\u001b[1maborting\u001b[22m\u001b[39m with smp candidate PSW(1.4092393583265217, [2, 1, 1, 2, 1, 1, 2, 1, 2, 1, 1, 2, 1, 1, 2, 1, 2, 1, 1, 2, 1, 2, 1, 1, 2, 1, 1, 2, 1, 2, 1, 1, 2, 1, 1, 2, 1, 2, 1, 1, 2, 1, 2, 1, 1, 2, 1, 1, 2, 1, 2, 1, 1, 2, 1, 1, 2, 1, 2, 1, 1, 2, 1, 2, 1, 1, 2, 1, 1, 2, 1, 2, 1, 1, 2, 1, 1, 2, 1, 2, 1, 1, 2, 1, 2, 1, 1, 2, 1, 1, 2, 1, 2, 1, 1, 2, 1, 2, 1, 1, 2, 1, 1, 2, 1, 2, 1, 1, 2, 1, 2, 1, 1, 2, 1, 1, 2, 1, 2, 1, 1, 2, 1, 2, 1, 1, 2, 1, 1, 2, 1, 2, 1, 1, 2, 1, 2, 1, 1, 2, 1, 1, 2, 1, 2, 1, 1, 2, 1, 2, 1, 1, 2, 1, 1, 2, 1, 2, 1, 1, 2, 1, 2, 1, 1, 2, 1, 1, 2, 1, 2, 1, 1, 2, 1, 2, 1, 1, 2, 1, 1, 2, 1, 2, 1, 1, 2, 1, 2, 1, 1, 2, 1, 1, 2, 1, 2, 1, 1, 2, 1, 2, 1, 1, 2, 1, 1, 2, 1, 2, 1, 1, 2, 1, 2, 1, 1, 2, 1, 1, 2, 1, 2, 1, 1, 2, 1, 2, 1, 1, 2, 1, 1, 2, 1, 2, 1, 1, 2, 1, 2, 1, 1, 2, 1, 1, 2, 1, 2, 1, 1, 2, 1, 2, 1, 1, 2, 1, 1, 2, 1, 2, 1, 1, 2, 1, 2, 1, 1, 2, 1, 1]) of length 272 after prefixing the suffix with 0 times the current s.m.p.Increase the value of the `max_smp_length` keyword argument to go further.\n",
      "\u001b[34m\u001b[1mNew candidate s.m.p. found\u001b[22m\u001b[39m because ⟨v_6*, v⟩ - 1 = 0.00045609401851054443 > 1.0e-9:\n",
      "\u001b[31m\u001b[1maborting\u001b[22m\u001b[39m with smp candidate PSW(1.4092393553222327, [2, 1, 1, 2, 1, 1, 2, 1, 2, 1, 1, 2, 1, 1, 2, 1, 2, 1, 1, 2, 1, 2, 1, 1, 2, 1, 1, 2, 1, 2, 1, 1, 2, 1, 1, 2, 1, 2, 1, 1, 2, 1, 2, 1, 1, 2, 1, 1, 2, 1, 2, 1, 1, 2, 1, 1, 2, 1, 2, 1, 1, 2, 1, 2, 1, 1, 2, 1, 1, 2, 1, 2, 1, 1, 2, 1, 2, 1, 1, 2, 1, 1, 2, 1, 2, 1, 1, 2, 1, 2, 1, 1, 2, 1, 1, 2, 1, 2, 1, 1, 2, 1, 2, 1, 1, 2, 1, 1, 2, 1, 2, 1, 1, 2, 1, 2, 1, 1, 2, 1, 1, 2, 1, 2, 1, 1, 2, 1, 2, 1, 1, 2, 1, 1, 2, 1, 2, 1, 1, 2, 1, 2, 1, 1, 2, 1, 1, 2, 1, 2, 1, 1, 2, 1, 2, 1, 1, 2, 1, 1, 2, 1, 2, 1, 1, 2, 1, 2, 1, 1, 2, 1, 1, 2, 1, 2, 1, 1, 2, 1, 2, 1, 1, 2, 1, 1, 2, 1, 2, 1, 1, 2, 1, 2, 1, 1, 2, 1, 1, 2, 1, 2, 1, 1, 2, 1, 2, 1, 1, 2, 1, 1, 2, 1, 2, 1, 1, 2, 1, 2, 1, 1, 2, 1, 1, 2, 1, 2, 1, 1, 2, 1, 2, 1, 1, 2, 1, 1, 2, 1, 2, 1, 1, 2, 1, 2, 1, 1, 2, 1, 1, 2, 1, 2, 1, 1, 2, 1, 2, 1, 1, 2, 1, 1, 2, 1, 2, 1, 1, 2, 1, 1]) of length 272 after prefixing the suffix with 0 times the current s.m.p.Increase the value of the `max_smp_length` keyword argument to go further.\n",
      "Depth 273: [1837] points, 8 living leaves...\n",
      "Depth 274: [1845] points, 8 living leaves...\n",
      "\u001b[34m\u001b[1mNew candidate s.m.p. found\u001b[22m\u001b[39m because ⟨v_6*, v⟩ - 1 = 1.8513985100554464e-7 > 1.0e-9:\n",
      "\u001b[31m\u001b[1maborting\u001b[22m\u001b[39m with smp candidate PSW(1.4092434526341642, [2, 1, 1, 2, 1, 1, 2, 1, 2, 1, 1, 2, 1, 1, 2, 1, 2, 1, 1, 2, 1, 2, 1, 1, 2, 1, 1, 2, 1, 2, 1, 1, 2, 1, 1, 2, 1, 2, 1, 1, 2, 1, 2, 1, 1, 2, 1, 1, 2, 1, 2, 1, 1, 2, 1, 2, 1, 1, 2, 1, 1, 2, 1, 2, 1, 1, 2, 1, 2, 1, 1, 2, 1, 1, 2, 1, 2, 1, 1, 2, 1, 2, 1, 1, 2, 1, 1, 2, 1, 2, 1, 1, 2, 1, 2, 1, 1, 2, 1, 1, 2, 1, 2, 1, 1, 2, 1, 2, 1, 1, 2, 1, 1, 2, 1, 2, 1, 1, 2, 1, 2, 1, 1, 2, 1, 1, 2, 1, 2, 1, 1, 2, 1, 2, 1, 1, 2, 1, 1, 2, 1, 2, 1, 1, 2, 1, 2, 1, 1, 2, 1, 1, 2, 1, 2, 1, 1, 2, 1, 2, 1, 1, 2, 1, 1, 2, 1, 2, 1, 1, 2, 1, 2, 1, 1, 2, 1, 1, 2, 1, 2, 1, 1, 2, 1, 2, 1, 1, 2, 1, 1, 2, 1, 2, 1, 1, 2, 1, 2, 1, 1, 2, 1, 1, 2, 1, 2, 1, 1, 2, 1, 2, 1, 1, 2, 1, 1, 2, 1, 2, 1, 1, 2, 1, 2, 1, 1, 2, 1, 1, 2, 1, 2, 1, 1, 2, 1, 2, 1, 1, 2, 1, 1, 2, 1, 2, 1, 1, 2, 1, 2, 1, 1, 2, 1, 1, 2, 1, 2, 1, 1, 2, 1, 2, 1, 1, 2, 1, 1, 2, 1, 2, 1, 1]) of length 274 after prefixing the suffix with 0 times the current s.m.p.Increase the value of the `max_smp_length` keyword argument to go further.\n",
      "\u001b[34m\u001b[1mNew candidate s.m.p. found\u001b[22m\u001b[39m because ⟨v_6*, v⟩ - 1 = 1.8854092620479435e-7 > 1.0e-9:\n",
      "\u001b[31m\u001b[1maborting\u001b[22m\u001b[39m with smp candidate PSW(1.4092434526040396, [2, 1, 1, 2, 1, 1, 2, 1, 2, 1, 1, 2, 1, 1, 2, 1, 2, 1, 1, 2, 1, 2, 1, 1, 2, 1, 1, 2, 1, 2, 1, 1, 2, 1, 2, 1, 1, 2, 1, 1, 2, 1, 2, 1, 1, 2, 1, 2, 1, 1, 2, 1, 1, 2, 1, 2, 1, 1, 2, 1, 2, 1, 1, 2, 1, 1, 2, 1, 2, 1, 1, 2, 1, 2, 1, 1, 2, 1, 1, 2, 1, 2, 1, 1, 2, 1, 2, 1, 1, 2, 1, 1, 2, 1, 2, 1, 1, 2, 1, 2, 1, 1, 2, 1, 1, 2, 1, 2, 1, 1, 2, 1, 2, 1, 1, 2, 1, 1, 2, 1, 2, 1, 1, 2, 1, 2, 1, 1, 2, 1, 1, 2, 1, 2, 1, 1, 2, 1, 2, 1, 1, 2, 1, 1, 2, 1, 2, 1, 1, 2, 1, 2, 1, 1, 2, 1, 1, 2, 1, 2, 1, 1, 2, 1, 2, 1, 1, 2, 1, 1, 2, 1, 2, 1, 1, 2, 1, 2, 1, 1, 2, 1, 1, 2, 1, 2, 1, 1, 2, 1, 2, 1, 1, 2, 1, 1, 2, 1, 2, 1, 1, 2, 1, 2, 1, 1, 2, 1, 1, 2, 1, 2, 1, 1, 2, 1, 2, 1, 1, 2, 1, 1, 2, 1, 2, 1, 1, 2, 1, 2, 1, 1, 2, 1, 1, 2, 1, 2, 1, 1, 2, 1, 2, 1, 1, 2, 1, 1, 2, 1, 2, 1, 1, 2, 1, 2, 1, 1, 2, 1, 1, 2, 1, 2, 1, 1, 2, 1, 1, 2, 1, 2, 1, 1]) of length 274 after prefixing the suffix with 0 times the current s.m.p.Increase the value of the `max_smp_length` keyword argument to go further.\n",
      "\u001b[34m\u001b[1mNew candidate s.m.p. found\u001b[22m\u001b[39m because ⟨v_6*, v⟩ - 1 = 0.00045576757687615377 > 1.0e-9:\n",
      "\u001b[31m\u001b[1maborting\u001b[22m\u001b[39m with smp candidate PSW(1.409239415725864, [2, 1, 1, 2, 1, 1, 2, 1, 2, 1, 1, 2, 1, 1, 2, 1, 2, 1, 1, 2, 1, 2, 1, 1, 2, 1, 1, 2, 1, 2, 1, 1, 2, 1, 2, 1, 1, 2, 1, 1, 2, 1, 2, 1, 1, 2, 1, 2, 1, 1, 2, 1, 1, 2, 1, 2, 1, 1, 2, 1, 2, 1, 1, 2, 1, 1, 2, 1, 2, 1, 1, 2, 1, 2, 1, 1, 2, 1, 1, 2, 1, 2, 1, 1, 2, 1, 2, 1, 1, 2, 1, 1, 2, 1, 2, 1, 1, 2, 1, 2, 1, 1, 2, 1, 1, 2, 1, 2, 1, 1, 2, 1, 2, 1, 1, 2, 1, 1, 2, 1, 2, 1, 1, 2, 1, 2, 1, 1, 2, 1, 1, 2, 1, 2, 1, 1, 2, 1, 2, 1, 1, 2, 1, 1, 2, 1, 2, 1, 1, 2, 1, 2, 1, 1, 2, 1, 1, 2, 1, 2, 1, 1, 2, 1, 2, 1, 1, 2, 1, 1, 2, 1, 2, 1, 1, 2, 1, 2, 1, 1, 2, 1, 1, 2, 1, 2, 1, 1, 2, 1, 2, 1, 1, 2, 1, 1, 2, 1, 2, 1, 1, 2, 1, 2, 1, 1, 2, 1, 1, 2, 1, 2, 1, 1, 2, 1, 2, 1, 1, 2, 1, 1, 2, 1, 2, 1, 1, 2, 1, 2, 1, 1, 2, 1, 1, 2, 1, 2, 1, 1, 2, 1, 2, 1, 1, 2, 1, 1, 2, 1, 2, 1, 1, 2, 1, 2, 1, 1, 2, 1, 1, 2, 1, 2, 1, 1, 2, 1, 2, 1, 1, 2, 1, 1]) of length 274 after prefixing the suffix with 0 times the current s.m.p.Increase the value of the `max_smp_length` keyword argument to go further.\n"
     ]
    },
    {
     "name": "stdout",
     "output_type": "stream",
     "text": [
      "\u001b[34m\u001b[1mNew candidate s.m.p. found\u001b[22m\u001b[39m because ⟨v_6*, v⟩ - 1 = 0.0004560953851893146 > 1.0e-9:\n",
      "\u001b[31m\u001b[1maborting\u001b[22m\u001b[39m with smp candidate PSW(1.409239415725864, [2, 1, 1, 2, 1, 1, 2, 1, 2, 1, 1, 2, 1, 2, 1, 1, 2, 1, 1, 2, 1, 2, 1, 1, 2, 1, 2, 1, 1, 2, 1, 1, 2, 1, 2, 1, 1, 2, 1, 2, 1, 1, 2, 1, 1, 2, 1, 2, 1, 1, 2, 1, 2, 1, 1, 2, 1, 1, 2, 1, 2, 1, 1, 2, 1, 2, 1, 1, 2, 1, 1, 2, 1, 2, 1, 1, 2, 1, 2, 1, 1, 2, 1, 1, 2, 1, 2, 1, 1, 2, 1, 2, 1, 1, 2, 1, 1, 2, 1, 2, 1, 1, 2, 1, 2, 1, 1, 2, 1, 1, 2, 1, 2, 1, 1, 2, 1, 2, 1, 1, 2, 1, 1, 2, 1, 2, 1, 1, 2, 1, 2, 1, 1, 2, 1, 1, 2, 1, 2, 1, 1, 2, 1, 2, 1, 1, 2, 1, 1, 2, 1, 2, 1, 1, 2, 1, 2, 1, 1, 2, 1, 1, 2, 1, 2, 1, 1, 2, 1, 2, 1, 1, 2, 1, 1, 2, 1, 2, 1, 1, 2, 1, 2, 1, 1, 2, 1, 1, 2, 1, 2, 1, 1, 2, 1, 2, 1, 1, 2, 1, 1, 2, 1, 2, 1, 1, 2, 1, 2, 1, 1, 2, 1, 1, 2, 1, 2, 1, 1, 2, 1, 2, 1, 1, 2, 1, 1, 2, 1, 2, 1, 1, 2, 1, 2, 1, 1, 2, 1, 1, 2, 1, 2, 1, 1, 2, 1, 2, 1, 1, 2, 1, 1, 2, 1, 2, 1, 1, 2, 1, 2, 1, 1, 2, 1, 1, 2, 1, 2, 1, 1, 2, 1, 1]) of length 274 after prefixing the suffix with 0 times the current s.m.p.Increase the value of the `max_smp_length` keyword argument to go further.\n",
      "Depth 275: [1854] points, 9 living leaves...\n",
      "Depth 276: [1862] points, 8 living leaves...\n",
      "Depth 277: [1870] points, 8 living leaves...\n",
      "\u001b[34m\u001b[1mNew candidate s.m.p. found\u001b[22m\u001b[39m because ⟨v_6*, v⟩ - 1 = 1.8718936578565604e-7 > 1.0e-9:\n",
      "\u001b[31m\u001b[1maborting\u001b[22m\u001b[39m with smp candidate PSW(1.4092434934581994, [2, 1, 1, 2, 1, 1, 2, 1, 2, 1, 1, 2, 1, 1, 2, 1, 2, 1, 1, 2, 1, 2, 1, 1, 2, 1, 1, 2, 1, 2, 1, 1, 2, 1, 1, 2, 1, 2, 1, 1, 2, 1, 2, 1, 1, 2, 1, 1, 2, 1, 2, 1, 1, 2, 1, 1, 2, 1, 2, 1, 1, 2, 1, 2, 1, 1, 2, 1, 1, 2, 1, 2, 1, 1, 2, 1, 1, 2, 1, 2, 1, 1, 2, 1, 2, 1, 1, 2, 1, 1, 2, 1, 2, 1, 1, 2, 1, 2, 1, 1, 2, 1, 1, 2, 1, 2, 1, 1, 2, 1, 2, 1, 1, 2, 1, 1, 2, 1, 2, 1, 1, 2, 1, 2, 1, 1, 2, 1, 1, 2, 1, 2, 1, 1, 2, 1, 2, 1, 1, 2, 1, 1, 2, 1, 2, 1, 1, 2, 1, 2, 1, 1, 2, 1, 1, 2, 1, 2, 1, 1, 2, 1, 2, 1, 1, 2, 1, 1, 2, 1, 2, 1, 1, 2, 1, 2, 1, 1, 2, 1, 1, 2, 1, 2, 1, 1, 2, 1, 2, 1, 1, 2, 1, 1, 2, 1, 2, 1, 1, 2, 1, 2, 1, 1, 2, 1, 1, 2, 1, 2, 1, 1, 2, 1, 2, 1, 1, 2, 1, 1, 2, 1, 2, 1, 1, 2, 1, 2, 1, 1, 2, 1, 1, 2, 1, 2, 1, 1, 2, 1, 2, 1, 1, 2, 1, 1, 2, 1, 2, 1, 1, 2, 1, 2, 1, 1, 2, 1, 1, 2, 1, 2, 1, 1, 2, 1, 2, 1, 1, 2, 1, 1, 2, 1, 2, 1, 1]) of length 277 after prefixing the suffix with 0 times the current s.m.p.Increase the value of the `max_smp_length` keyword argument to go further.\n",
      "\u001b[34m\u001b[1mNew candidate s.m.p. found\u001b[22m\u001b[39m because ⟨v_6*, v⟩ - 1 = 1.9059044298330718e-7 > 1.0e-9:\n",
      "\u001b[31m\u001b[1maborting\u001b[22m\u001b[39m with smp candidate PSW(1.4092434934284013, [2, 1, 1, 2, 1, 1, 2, 1, 2, 1, 1, 2, 1, 1, 2, 1, 2, 1, 1, 2, 1, 2, 1, 1, 2, 1, 1, 2, 1, 2, 1, 1, 2, 1, 1, 2, 1, 2, 1, 1, 2, 1, 2, 1, 1, 2, 1, 1, 2, 1, 2, 1, 1, 2, 1, 1, 2, 1, 2, 1, 1, 2, 1, 2, 1, 1, 2, 1, 1, 2, 1, 2, 1, 1, 2, 1, 2, 1, 1, 2, 1, 1, 2, 1, 2, 1, 1, 2, 1, 2, 1, 1, 2, 1, 1, 2, 1, 2, 1, 1, 2, 1, 2, 1, 1, 2, 1, 1, 2, 1, 2, 1, 1, 2, 1, 2, 1, 1, 2, 1, 1, 2, 1, 2, 1, 1, 2, 1, 2, 1, 1, 2, 1, 1, 2, 1, 2, 1, 1, 2, 1, 2, 1, 1, 2, 1, 1, 2, 1, 2, 1, 1, 2, 1, 2, 1, 1, 2, 1, 1, 2, 1, 2, 1, 1, 2, 1, 2, 1, 1, 2, 1, 1, 2, 1, 2, 1, 1, 2, 1, 2, 1, 1, 2, 1, 1, 2, 1, 2, 1, 1, 2, 1, 2, 1, 1, 2, 1, 1, 2, 1, 2, 1, 1, 2, 1, 2, 1, 1, 2, 1, 1, 2, 1, 2, 1, 1, 2, 1, 2, 1, 1, 2, 1, 1, 2, 1, 2, 1, 1, 2, 1, 2, 1, 1, 2, 1, 1, 2, 1, 2, 1, 1, 2, 1, 2, 1, 1, 2, 1, 1, 2, 1, 2, 1, 1, 2, 1, 2, 1, 1, 2, 1, 1, 2, 1, 2, 1, 1, 2, 1, 1, 2, 1, 2, 1, 1]) of length 277 after prefixing the suffix with 0 times the current s.m.p.Increase the value of the `max_smp_length` keyword argument to go further.\n",
      "\u001b[34m\u001b[1mNew candidate s.m.p. found\u001b[22m\u001b[39m because ⟨v_6*, v⟩ - 1 = 0.0004557696273268519 > 1.0e-9:\n",
      "\u001b[31m\u001b[1maborting\u001b[22m\u001b[39m with smp candidate PSW(1.40923950027075, [2, 1, 1, 2, 1, 1, 2, 1, 2, 1, 1, 2, 1, 1, 2, 1, 2, 1, 1, 2, 1, 2, 1, 1, 2, 1, 1, 2, 1, 2, 1, 1, 2, 1, 1, 2, 1, 2, 1, 1, 2, 1, 2, 1, 1, 2, 1, 1, 2, 1, 2, 1, 1, 2, 1, 1, 2, 1, 2, 1, 1, 2, 1, 2, 1, 1, 2, 1, 1, 2, 1, 2, 1, 1, 2, 1, 2, 1, 1, 2, 1, 1, 2, 1, 2, 1, 1, 2, 1, 2, 1, 1, 2, 1, 1, 2, 1, 2, 1, 1, 2, 1, 2, 1, 1, 2, 1, 1, 2, 1, 2, 1, 1, 2, 1, 2, 1, 1, 2, 1, 1, 2, 1, 2, 1, 1, 2, 1, 2, 1, 1, 2, 1, 1, 2, 1, 2, 1, 1, 2, 1, 2, 1, 1, 2, 1, 1, 2, 1, 2, 1, 1, 2, 1, 2, 1, 1, 2, 1, 1, 2, 1, 2, 1, 1, 2, 1, 2, 1, 1, 2, 1, 1, 2, 1, 2, 1, 1, 2, 1, 2, 1, 1, 2, 1, 1, 2, 1, 2, 1, 1, 2, 1, 2, 1, 1, 2, 1, 1, 2, 1, 2, 1, 1, 2, 1, 2, 1, 1, 2, 1, 1, 2, 1, 2, 1, 1, 2, 1, 2, 1, 1, 2, 1, 1, 2, 1, 2, 1, 1, 2, 1, 2, 1, 1, 2, 1, 1, 2, 1, 2, 1, 1, 2, 1, 2, 1, 1, 2, 1, 1, 2, 1, 2, 1, 1, 2, 1, 2, 1, 1, 2, 1, 1, 2, 1, 2, 1, 1, 2, 1, 2, 1, 1, 2, 1, 1]) of length 277 after prefixing the suffix with 0 times the current s.m.p.Increase the value of the `max_smp_length` keyword argument to go further.\n",
      "\u001b[34m\u001b[1mNew candidate s.m.p. found\u001b[22m\u001b[39m because ⟨v_6*, v⟩ - 1 = 0.0004560974356409009 > 1.0e-9:\n",
      "\u001b[31m\u001b[1maborting\u001b[22m\u001b[39m with smp candidate PSW(1.4092394973206899, [2, 1, 1, 2, 1, 1, 2, 1, 2, 1, 1, 2, 1, 1, 2, 1, 2, 1, 1, 2, 1, 2, 1, 1, 2, 1, 1, 2, 1, 2, 1, 1, 2, 1, 1, 2, 1, 2, 1, 1, 2, 1, 2, 1, 1, 2, 1, 1, 2, 1, 2, 1, 1, 2, 1, 2, 1, 1, 2, 1, 1, 2, 1, 2, 1, 1, 2, 1, 2, 1, 1, 2, 1, 1, 2, 1, 2, 1, 1, 2, 1, 2, 1, 1, 2, 1, 1, 2, 1, 2, 1, 1, 2, 1, 2, 1, 1, 2, 1, 1, 2, 1, 2, 1, 1, 2, 1, 2, 1, 1, 2, 1, 1, 2, 1, 2, 1, 1, 2, 1, 2, 1, 1, 2, 1, 1, 2, 1, 2, 1, 1, 2, 1, 2, 1, 1, 2, 1, 1, 2, 1, 2, 1, 1, 2, 1, 2, 1, 1, 2, 1, 1, 2, 1, 2, 1, 1, 2, 1, 2, 1, 1, 2, 1, 1, 2, 1, 2, 1, 1, 2, 1, 2, 1, 1, 2, 1, 1, 2, 1, 2, 1, 1, 2, 1, 2, 1, 1, 2, 1, 1, 2, 1, 2, 1, 1, 2, 1, 2, 1, 1, 2, 1, 1, 2, 1, 2, 1, 1, 2, 1, 2, 1, 1, 2, 1, 1, 2, 1, 2, 1, 1, 2, 1, 2, 1, 1, 2, 1, 1, 2, 1, 2, 1, 1, 2, 1, 2, 1, 1, 2, 1, 1, 2, 1, 2, 1, 1, 2, 1, 2, 1, 1, 2, 1, 1, 2, 1, 2, 1, 1, 2, 1, 2, 1, 1, 2, 1, 1, 2, 1, 2, 1, 1, 2, 1, 1]) of length 277 after prefixing the suffix with 0 times the current s.m.p.Increase the value of the `max_smp_length` keyword argument to go further.\n",
      "Depth 278: [1878] points, 8 living leaves...\n",
      "Depth 279: [1886] points, 8 living leaves...\n",
      "\u001b[34m\u001b[1mNew candidate s.m.p. found\u001b[22m\u001b[39m because ⟨v_6*, v⟩ - 1 = 1.8855542194273767e-7 > 1.0e-9:\n",
      "\u001b[31m\u001b[1maborting\u001b[22m\u001b[39m with smp candidate PSW(1.4092435201864797, [2, 1, 1, 2, 1, 1, 2, 1, 2, 1, 1, 2, 1, 1, 2, 1, 2, 1, 1, 2, 1, 2, 1, 1, 2, 1, 1, 2, 1, 2, 1, 1, 2, 1, 2, 1, 1, 2, 1, 1, 2, 1, 2, 1, 1, 2, 1, 2, 1, 1, 2, 1, 1, 2, 1, 2, 1, 1, 2, 1, 2, 1, 1, 2, 1, 1, 2, 1, 2, 1, 1, 2, 1, 2, 1, 1, 2, 1, 1, 2, 1, 2, 1, 1, 2, 1, 2, 1, 1, 2, 1, 1, 2, 1, 2, 1, 1, 2, 1, 2, 1, 1, 2, 1, 1, 2, 1, 2, 1, 1, 2, 1, 2, 1, 1, 2, 1, 1, 2, 1, 2, 1, 1, 2, 1, 2, 1, 1, 2, 1, 1, 2, 1, 2, 1, 1, 2, 1, 2, 1, 1, 2, 1, 1, 2, 1, 2, 1, 1, 2, 1, 2, 1, 1, 2, 1, 1, 2, 1, 2, 1, 1, 2, 1, 2, 1, 1, 2, 1, 1, 2, 1, 2, 1, 1, 2, 1, 2, 1, 1, 2, 1, 1, 2, 1, 2, 1, 1, 2, 1, 2, 1, 1, 2, 1, 1, 2, 1, 2, 1, 1, 2, 1, 2, 1, 1, 2, 1, 1, 2, 1, 2, 1, 1, 2, 1, 2, 1, 1, 2, 1, 1, 2, 1, 2, 1, 1, 2, 1, 2, 1, 1, 2, 1, 1, 2, 1, 2, 1, 1, 2, 1, 2, 1, 1, 2, 1, 1, 2, 1, 2, 1, 1, 2, 1, 2, 1, 1, 2, 1, 1, 2, 1, 2, 1, 1, 2, 1, 2, 1, 1, 2, 1, 1, 2, 1, 2, 1, 1]) of length 279 after prefixing the suffix with 0 times the current s.m.p.Increase the value of the `max_smp_length` keyword argument to go further.\n",
      "\u001b[34m\u001b[1mNew candidate s.m.p. found\u001b[22m\u001b[39m because ⟨v_6*, v⟩ - 1 = 1.919564989183442e-7 > 1.0e-9:\n",
      "\u001b[31m\u001b[1maborting\u001b[22m\u001b[39m with smp candidate PSW(1.4092435228914761, [2, 1, 1, 2, 1, 1, 2, 1, 2, 1, 1, 2, 1, 2, 1, 1, 2, 1, 1, 2, 1, 2, 1, 1, 2, 1, 2, 1, 1, 2, 1, 1, 2, 1, 2, 1, 1, 2, 1, 2, 1, 1, 2, 1, 1, 2, 1, 2, 1, 1, 2, 1, 2, 1, 1, 2, 1, 1, 2, 1, 2, 1, 1, 2, 1, 2, 1, 1, 2, 1, 1, 2, 1, 2, 1, 1, 2, 1, 2, 1, 1, 2, 1, 1, 2, 1, 2, 1, 1, 2, 1, 2, 1, 1, 2, 1, 1, 2, 1, 2, 1, 1, 2, 1, 2, 1, 1, 2, 1, 1, 2, 1, 2, 1, 1, 2, 1, 2, 1, 1, 2, 1, 1, 2, 1, 2, 1, 1, 2, 1, 2, 1, 1, 2, 1, 1, 2, 1, 2, 1, 1, 2, 1, 2, 1, 1, 2, 1, 1, 2, 1, 2, 1, 1, 2, 1, 2, 1, 1, 2, 1, 1, 2, 1, 2, 1, 1, 2, 1, 2, 1, 1, 2, 1, 1, 2, 1, 2, 1, 1, 2, 1, 2, 1, 1, 2, 1, 1, 2, 1, 2, 1, 1, 2, 1, 2, 1, 1, 2, 1, 1, 2, 1, 2, 1, 1, 2, 1, 2, 1, 1, 2, 1, 1, 2, 1, 2, 1, 1, 2, 1, 2, 1, 1, 2, 1, 1, 2, 1, 2, 1, 1, 2, 1, 2, 1, 1, 2, 1, 1, 2, 1, 2, 1, 1, 2, 1, 2, 1, 1, 2, 1, 1, 2, 1, 2, 1, 1, 2, 1, 2, 1, 1, 2, 1, 1, 2, 1, 2, 1, 1, 2, 1, 1, 2, 1, 2, 1, 1]) of length 279 after prefixing the suffix with 0 times the current s.m.p.Increase the value of the `max_smp_length` keyword argument to go further.\n"
     ]
    },
    {
     "name": "stdout",
     "output_type": "stream",
     "text": [
      "\u001b[34m\u001b[1mNew candidate s.m.p. found\u001b[22m\u001b[39m because ⟨v_6*, v⟩ - 1 = 0.00045577099400473386 > 1.0e-9:\n",
      "\u001b[31m\u001b[1maborting\u001b[22m\u001b[39m with smp candidate PSW(1.4092395585526856, [2, 1, 1, 2, 1, 1, 2, 1, 2, 1, 1, 2, 1, 2, 1, 1, 2, 1, 1, 2, 1, 2, 1, 1, 2, 1, 2, 1, 1, 2, 1, 1, 2, 1, 2, 1, 1, 2, 1, 2, 1, 1, 2, 1, 1, 2, 1, 2, 1, 1, 2, 1, 2, 1, 1, 2, 1, 1, 2, 1, 2, 1, 1, 2, 1, 2, 1, 1, 2, 1, 1, 2, 1, 2, 1, 1, 2, 1, 2, 1, 1, 2, 1, 1, 2, 1, 2, 1, 1, 2, 1, 2, 1, 1, 2, 1, 1, 2, 1, 2, 1, 1, 2, 1, 2, 1, 1, 2, 1, 1, 2, 1, 2, 1, 1, 2, 1, 2, 1, 1, 2, 1, 1, 2, 1, 2, 1, 1, 2, 1, 2, 1, 1, 2, 1, 1, 2, 1, 2, 1, 1, 2, 1, 2, 1, 1, 2, 1, 1, 2, 1, 2, 1, 1, 2, 1, 2, 1, 1, 2, 1, 1, 2, 1, 2, 1, 1, 2, 1, 2, 1, 1, 2, 1, 1, 2, 1, 2, 1, 1, 2, 1, 2, 1, 1, 2, 1, 1, 2, 1, 2, 1, 1, 2, 1, 2, 1, 1, 2, 1, 1, 2, 1, 2, 1, 1, 2, 1, 2, 1, 1, 2, 1, 1, 2, 1, 2, 1, 1, 2, 1, 2, 1, 1, 2, 1, 1, 2, 1, 2, 1, 1, 2, 1, 2, 1, 1, 2, 1, 1, 2, 1, 2, 1, 1, 2, 1, 2, 1, 1, 2, 1, 1, 2, 1, 2, 1, 1, 2, 1, 2, 1, 1, 2, 1, 1, 2, 1, 2, 1, 1, 2, 1, 2, 1, 1, 2, 1, 1]) of length 279 after prefixing the suffix with 0 times the current s.m.p.Increase the value of the `max_smp_length` keyword argument to go further.\n",
      "Depth 280: [1894] points, 8 living leaves...\n",
      "\u001b[34m\u001b[1mNew candidate s.m.p. found\u001b[22m\u001b[39m because ⟨v_6*, v⟩ - 1 = 0.00045609948609026674 > 1.0e-9:\n",
      "\u001b[31m\u001b[1maborting\u001b[22m\u001b[39m with smp candidate PSW(1.4092395800855126, [2, 1, 1, 2, 1, 1, 2, 1, 2, 1, 1, 2, 1, 1, 2, 1, 2, 1, 1, 2, 1, 2, 1, 1, 2, 1, 1, 2, 1, 2, 1, 1, 2, 1, 1, 2, 1, 2, 1, 1, 2, 1, 2, 1, 1, 2, 1, 1, 2, 1, 2, 1, 1, 2, 1, 1, 2, 1, 2, 1, 1, 2, 1, 2, 1, 1, 2, 1, 1, 2, 1, 2, 1, 1, 2, 1, 1, 2, 1, 2, 1, 1, 2, 1, 2, 1, 1, 2, 1, 1, 2, 1, 2, 1, 1, 2, 1, 2, 1, 1, 2, 1, 1, 2, 1, 2, 1, 1, 2, 1, 2, 1, 1, 2, 1, 1, 2, 1, 2, 1, 1, 2, 1, 2, 1, 1, 2, 1, 1, 2, 1, 2, 1, 1, 2, 1, 2, 1, 1, 2, 1, 1, 2, 1, 2, 1, 1, 2, 1, 2, 1, 1, 2, 1, 1, 2, 1, 2, 1, 1, 2, 1, 2, 1, 1, 2, 1, 1, 2, 1, 2, 1, 1, 2, 1, 2, 1, 1, 2, 1, 1, 2, 1, 2, 1, 1, 2, 1, 2, 1, 1, 2, 1, 1, 2, 1, 2, 1, 1, 2, 1, 2, 1, 1, 2, 1, 1, 2, 1, 2, 1, 1, 2, 1, 2, 1, 1, 2, 1, 1, 2, 1, 2, 1, 1, 2, 1, 2, 1, 1, 2, 1, 1, 2, 1, 2, 1, 1, 2, 1, 2, 1, 1, 2, 1, 1, 2, 1, 2, 1, 1, 2, 1, 2, 1, 1, 2, 1, 1, 2, 1, 2, 1, 1, 2, 1, 2, 1, 1, 2, 1, 1, 2, 1, 2, 1, 1, 2, 1, 1]) of length 280 after prefixing the suffix with 0 times the current s.m.p.Increase the value of the `max_smp_length` keyword argument to go further.\n",
      "Depth 281: [1902] points, 8 living leaves...\n",
      "Depth 282: [1910] points, 8 living leaves...\n",
      "\u001b[34m\u001b[1mNew candidate s.m.p. found\u001b[22m\u001b[39m because ⟨v_6*, v⟩ - 1 = 1.906049389432951e-7 > 1.0e-9:\n",
      "\u001b[31m\u001b[1maborting\u001b[22m\u001b[39m with smp candidate PSW(1.409243559568045, [2, 1, 1, 2, 1, 1, 2, 1, 2, 1, 1, 2, 1, 1, 2, 1, 2, 1, 1, 2, 1, 2, 1, 1, 2, 1, 1, 2, 1, 2, 1, 1, 2, 1, 1, 2, 1, 2, 1, 1, 2, 1, 2, 1, 1, 2, 1, 1, 2, 1, 2, 1, 1, 2, 1, 1, 2, 1, 2, 1, 1, 2, 1, 2, 1, 1, 2, 1, 1, 2, 1, 2, 1, 1, 2, 1, 2, 1, 1, 2, 1, 1, 2, 1, 2, 1, 1, 2, 1, 2, 1, 1, 2, 1, 1, 2, 1, 2, 1, 1, 2, 1, 2, 1, 1, 2, 1, 1, 2, 1, 2, 1, 1, 2, 1, 2, 1, 1, 2, 1, 1, 2, 1, 2, 1, 1, 2, 1, 2, 1, 1, 2, 1, 1, 2, 1, 2, 1, 1, 2, 1, 2, 1, 1, 2, 1, 1, 2, 1, 2, 1, 1, 2, 1, 2, 1, 1, 2, 1, 1, 2, 1, 2, 1, 1, 2, 1, 2, 1, 1, 2, 1, 1, 2, 1, 2, 1, 1, 2, 1, 2, 1, 1, 2, 1, 1, 2, 1, 2, 1, 1, 2, 1, 2, 1, 1, 2, 1, 1, 2, 1, 2, 1, 1, 2, 1, 2, 1, 1, 2, 1, 1, 2, 1, 2, 1, 1, 2, 1, 2, 1, 1, 2, 1, 1, 2, 1, 2, 1, 1, 2, 1, 2, 1, 1, 2, 1, 1, 2, 1, 2, 1, 1, 2, 1, 2, 1, 1, 2, 1, 1, 2, 1, 2, 1, 1, 2, 1, 2, 1, 1, 2, 1, 1, 2, 1, 2, 1, 1, 2, 1, 2, 1, 1, 2, 1, 1, 2, 1, 2, 1, 1]) of length 282 after prefixing the suffix with 0 times the current s.m.p.Increase the value of the `max_smp_length` keyword argument to go further.\n",
      "\u001b[34m\u001b[1mNew candidate s.m.p. found\u001b[22m\u001b[39m because ⟨v_6*, v⟩ - 1 = 1.9400601636299086e-7 > 1.0e-9:\n",
      "\u001b[31m\u001b[1maborting\u001b[22m\u001b[39m with smp candidate PSW(1.409243559538775, [2, 1, 1, 2, 1, 1, 2, 1, 2, 1, 1, 2, 1, 1, 2, 1, 2, 1, 1, 2, 1, 2, 1, 1, 2, 1, 1, 2, 1, 2, 1, 1, 2, 1, 1, 2, 1, 2, 1, 1, 2, 1, 2, 1, 1, 2, 1, 1, 2, 1, 2, 1, 1, 2, 1, 2, 1, 1, 2, 1, 1, 2, 1, 2, 1, 1, 2, 1, 2, 1, 1, 2, 1, 1, 2, 1, 2, 1, 1, 2, 1, 2, 1, 1, 2, 1, 1, 2, 1, 2, 1, 1, 2, 1, 2, 1, 1, 2, 1, 1, 2, 1, 2, 1, 1, 2, 1, 2, 1, 1, 2, 1, 1, 2, 1, 2, 1, 1, 2, 1, 2, 1, 1, 2, 1, 1, 2, 1, 2, 1, 1, 2, 1, 2, 1, 1, 2, 1, 1, 2, 1, 2, 1, 1, 2, 1, 2, 1, 1, 2, 1, 1, 2, 1, 2, 1, 1, 2, 1, 2, 1, 1, 2, 1, 1, 2, 1, 2, 1, 1, 2, 1, 2, 1, 1, 2, 1, 1, 2, 1, 2, 1, 1, 2, 1, 2, 1, 1, 2, 1, 1, 2, 1, 2, 1, 1, 2, 1, 2, 1, 1, 2, 1, 1, 2, 1, 2, 1, 1, 2, 1, 2, 1, 1, 2, 1, 1, 2, 1, 2, 1, 1, 2, 1, 2, 1, 1, 2, 1, 1, 2, 1, 2, 1, 1, 2, 1, 2, 1, 1, 2, 1, 1, 2, 1, 2, 1, 1, 2, 1, 2, 1, 1, 2, 1, 1, 2, 1, 2, 1, 1, 2, 1, 2, 1, 1, 2, 1, 1, 2, 1, 2, 1, 1, 2, 1, 1, 2, 1, 2, 1, 1]) of length 282 after prefixing the suffix with 0 times the current s.m.p.Increase the value of the `max_smp_length` keyword argument to go further.\n",
      "\u001b[34m\u001b[1mNew candidate s.m.p. found\u001b[22m\u001b[39m because ⟨v_6*, v⟩ - 1 = 0.00045577304445565403 > 1.0e-9:\n",
      "\u001b[31m\u001b[1maborting\u001b[22m\u001b[39m with smp candidate PSW(1.409239637181509, [2, 1, 1, 2, 1, 1, 2, 1, 2, 1, 1, 2, 1, 1, 2, 1, 2, 1, 1, 2, 1, 2, 1, 1, 2, 1, 1, 2, 1, 2, 1, 1, 2, 1, 1, 2, 1, 2, 1, 1, 2, 1, 2, 1, 1, 2, 1, 1, 2, 1, 2, 1, 1, 2, 1, 2, 1, 1, 2, 1, 1, 2, 1, 2, 1, 1, 2, 1, 2, 1, 1, 2, 1, 1, 2, 1, 2, 1, 1, 2, 1, 2, 1, 1, 2, 1, 1, 2, 1, 2, 1, 1, 2, 1, 2, 1, 1, 2, 1, 1, 2, 1, 2, 1, 1, 2, 1, 2, 1, 1, 2, 1, 1, 2, 1, 2, 1, 1, 2, 1, 2, 1, 1, 2, 1, 1, 2, 1, 2, 1, 1, 2, 1, 2, 1, 1, 2, 1, 1, 2, 1, 2, 1, 1, 2, 1, 2, 1, 1, 2, 1, 1, 2, 1, 2, 1, 1, 2, 1, 2, 1, 1, 2, 1, 1, 2, 1, 2, 1, 1, 2, 1, 2, 1, 1, 2, 1, 1, 2, 1, 2, 1, 1, 2, 1, 2, 1, 1, 2, 1, 1, 2, 1, 2, 1, 1, 2, 1, 2, 1, 1, 2, 1, 1, 2, 1, 2, 1, 1, 2, 1, 2, 1, 1, 2, 1, 1, 2, 1, 2, 1, 1, 2, 1, 2, 1, 1, 2, 1, 1, 2, 1, 2, 1, 1, 2, 1, 2, 1, 1, 2, 1, 1, 2, 1, 2, 1, 1, 2, 1, 2, 1, 1, 2, 1, 1, 2, 1, 2, 1, 1, 2, 1, 2, 1, 1, 2, 1, 1, 2, 1, 2, 1, 1, 2, 1, 2, 1, 1, 2, 1, 1]) of length 282 after prefixing the suffix with 0 times the current s.m.p.Increase the value of the `max_smp_length` keyword argument to go further.\n",
      "\u001b[34m\u001b[1mNew candidate s.m.p. found\u001b[22m\u001b[39m because ⟨v_6*, v⟩ - 1 = 0.0004561008527690369 > 1.0e-9:\n",
      "\u001b[31m\u001b[1maborting\u001b[22m\u001b[39m with smp candidate PSW(1.4092396342837545, [2, 1, 1, 2, 1, 1, 2, 1, 2, 1, 1, 2, 1, 1, 2, 1, 2, 1, 1, 2, 1, 2, 1, 1, 2, 1, 1, 2, 1, 2, 1, 1, 2, 1, 2, 1, 1, 2, 1, 1, 2, 1, 2, 1, 1, 2, 1, 2, 1, 1, 2, 1, 1, 2, 1, 2, 1, 1, 2, 1, 2, 1, 1, 2, 1, 1, 2, 1, 2, 1, 1, 2, 1, 2, 1, 1, 2, 1, 1, 2, 1, 2, 1, 1, 2, 1, 2, 1, 1, 2, 1, 1, 2, 1, 2, 1, 1, 2, 1, 2, 1, 1, 2, 1, 1, 2, 1, 2, 1, 1, 2, 1, 2, 1, 1, 2, 1, 1, 2, 1, 2, 1, 1, 2, 1, 2, 1, 1, 2, 1, 1, 2, 1, 2, 1, 1, 2, 1, 2, 1, 1, 2, 1, 1, 2, 1, 2, 1, 1, 2, 1, 2, 1, 1, 2, 1, 1, 2, 1, 2, 1, 1, 2, 1, 2, 1, 1, 2, 1, 1, 2, 1, 2, 1, 1, 2, 1, 2, 1, 1, 2, 1, 1, 2, 1, 2, 1, 1, 2, 1, 2, 1, 1, 2, 1, 1, 2, 1, 2, 1, 1, 2, 1, 2, 1, 1, 2, 1, 1, 2, 1, 2, 1, 1, 2, 1, 2, 1, 1, 2, 1, 1, 2, 1, 2, 1, 1, 2, 1, 2, 1, 1, 2, 1, 1, 2, 1, 2, 1, 1, 2, 1, 2, 1, 1, 2, 1, 1, 2, 1, 2, 1, 1, 2, 1, 2, 1, 1, 2, 1, 1, 2, 1, 2, 1, 1, 2, 1, 2, 1, 1, 2, 1, 1, 2, 1, 2, 1, 1, 2, 1, 1]) of length 282 after prefixing the suffix with 0 times the current s.m.p.Increase the value of the `max_smp_length` keyword argument to go further.\n",
      "Depth 283: [1918] points, 8 living leaves...\n",
      "Depth 284: [1926] points, 8 living leaves...\n",
      "\u001b[34m\u001b[1mNew candidate s.m.p. found\u001b[22m\u001b[39m because ⟨v_6*, v⟩ - 1 = 1.9197099443424293e-7 > 1.0e-9:\n",
      "\u001b[31m\u001b[1maborting\u001b[22m\u001b[39m with smp candidate PSW(1.4092435880466314, [2, 1, 1, 2, 1, 1, 2, 1, 2, 1, 1, 2, 1, 2, 1, 1, 2, 1, 1, 2, 1, 2, 1, 1, 2, 1, 2, 1, 1, 2, 1, 1, 2, 1, 2, 1, 1, 2, 1, 2, 1, 1, 2, 1, 1, 2, 1, 2, 1, 1, 2, 1, 2, 1, 1, 2, 1, 1, 2, 1, 2, 1, 1, 2, 1, 2, 1, 1, 2, 1, 1, 2, 1, 2, 1, 1, 2, 1, 2, 1, 1, 2, 1, 1, 2, 1, 2, 1, 1, 2, 1, 2, 1, 1, 2, 1, 1, 2, 1, 2, 1, 1, 2, 1, 2, 1, 1, 2, 1, 1, 2, 1, 2, 1, 1, 2, 1, 2, 1, 1, 2, 1, 1, 2, 1, 2, 1, 1, 2, 1, 2, 1, 1, 2, 1, 1, 2, 1, 2, 1, 1, 2, 1, 2, 1, 1, 2, 1, 1, 2, 1, 2, 1, 1, 2, 1, 2, 1, 1, 2, 1, 1, 2, 1, 2, 1, 1, 2, 1, 2, 1, 1, 2, 1, 1, 2, 1, 2, 1, 1, 2, 1, 2, 1, 1, 2, 1, 1, 2, 1, 2, 1, 1, 2, 1, 2, 1, 1, 2, 1, 1, 2, 1, 2, 1, 1, 2, 1, 2, 1, 1, 2, 1, 1, 2, 1, 2, 1, 1, 2, 1, 2, 1, 1, 2, 1, 1, 2, 1, 2, 1, 1, 2, 1, 2, 1, 1, 2, 1, 1, 2, 1, 2, 1, 1, 2, 1, 2, 1, 1, 2, 1, 1, 2, 1, 2, 1, 1, 2, 1, 2, 1, 1, 2, 1, 1, 2, 1, 2, 1, 1, 2, 1, 2, 1, 1, 2, 1, 1, 2, 1, 2, 1, 1]) of length 284 after prefixing the suffix with 0 times the current s.m.p.Increase the value of the `max_smp_length` keyword argument to go further.\n",
      "Depth 285: [1934] points, 8 living leaves...\n"
     ]
    },
    {
     "name": "stdout",
     "output_type": "stream",
     "text": [
      "\u001b[34m\u001b[1mNew candidate s.m.p. found\u001b[22m\u001b[39m because ⟨v_6*, v⟩ - 1 = 1.9605553092105765e-7 > 1.0e-9:\n",
      "\u001b[31m\u001b[1maborting\u001b[22m\u001b[39m with smp candidate PSW(1.4092435980915636, [2, 1, 1, 2, 1, 1, 2, 1, 2, 1, 1, 2, 1, 1, 2, 1, 2, 1, 1, 2, 1, 2, 1, 1, 2, 1, 1, 2, 1, 2, 1, 1, 2, 1, 1, 2, 1, 2, 1, 1, 2, 1, 2, 1, 1, 2, 1, 1, 2, 1, 2, 1, 1, 2, 1, 1, 2, 1, 2, 1, 1, 2, 1, 2, 1, 1, 2, 1, 1, 2, 1, 2, 1, 1, 2, 1, 1, 2, 1, 2, 1, 1, 2, 1, 2, 1, 1, 2, 1, 1, 2, 1, 2, 1, 1, 2, 1, 2, 1, 1, 2, 1, 1, 2, 1, 2, 1, 1, 2, 1, 2, 1, 1, 2, 1, 1, 2, 1, 2, 1, 1, 2, 1, 2, 1, 1, 2, 1, 1, 2, 1, 2, 1, 1, 2, 1, 2, 1, 1, 2, 1, 1, 2, 1, 2, 1, 1, 2, 1, 2, 1, 1, 2, 1, 1, 2, 1, 2, 1, 1, 2, 1, 2, 1, 1, 2, 1, 1, 2, 1, 2, 1, 1, 2, 1, 2, 1, 1, 2, 1, 1, 2, 1, 2, 1, 1, 2, 1, 2, 1, 1, 2, 1, 1, 2, 1, 2, 1, 1, 2, 1, 2, 1, 1, 2, 1, 1, 2, 1, 2, 1, 1, 2, 1, 2, 1, 1, 2, 1, 1, 2, 1, 2, 1, 1, 2, 1, 2, 1, 1, 2, 1, 1, 2, 1, 2, 1, 1, 2, 1, 2, 1, 1, 2, 1, 1, 2, 1, 2, 1, 1, 2, 1, 2, 1, 1, 2, 1, 1, 2, 1, 2, 1, 1, 2, 1, 2, 1, 1, 2, 1, 1, 2, 1, 2, 1, 1, 2, 1, 1, 2, 1, 2, 1, 1]) of length 285 after prefixing the suffix with 0 times the current s.m.p.Increase the value of the `max_smp_length` keyword argument to go further.\n",
      "\u001b[34m\u001b[1mNew candidate s.m.p. found\u001b[22m\u001b[39m because ⟨v_6*, v⟩ - 1 = 0.00045577509490479784 > 1.0e-9:\n",
      "\u001b[31m\u001b[1maborting\u001b[22m\u001b[39m with smp candidate PSW(1.4092397170221058, [2, 1, 1, 2, 1, 1, 2, 1, 2, 1, 1, 2, 1, 1, 2, 1, 2, 1, 1, 2, 1, 2, 1, 1, 2, 1, 1, 2, 1, 2, 1, 1, 2, 1, 1, 2, 1, 2, 1, 1, 2, 1, 2, 1, 1, 2, 1, 1, 2, 1, 2, 1, 1, 2, 1, 1, 2, 1, 2, 1, 1, 2, 1, 2, 1, 1, 2, 1, 1, 2, 1, 2, 1, 1, 2, 1, 1, 2, 1, 2, 1, 1, 2, 1, 2, 1, 1, 2, 1, 1, 2, 1, 2, 1, 1, 2, 1, 2, 1, 1, 2, 1, 1, 2, 1, 2, 1, 1, 2, 1, 2, 1, 1, 2, 1, 1, 2, 1, 2, 1, 1, 2, 1, 2, 1, 1, 2, 1, 1, 2, 1, 2, 1, 1, 2, 1, 2, 1, 1, 2, 1, 1, 2, 1, 2, 1, 1, 2, 1, 2, 1, 1, 2, 1, 1, 2, 1, 2, 1, 1, 2, 1, 2, 1, 1, 2, 1, 1, 2, 1, 2, 1, 1, 2, 1, 2, 1, 1, 2, 1, 1, 2, 1, 2, 1, 1, 2, 1, 2, 1, 1, 2, 1, 1, 2, 1, 2, 1, 1, 2, 1, 2, 1, 1, 2, 1, 1, 2, 1, 2, 1, 1, 2, 1, 2, 1, 1, 2, 1, 1, 2, 1, 2, 1, 1, 2, 1, 2, 1, 1, 2, 1, 1, 2, 1, 2, 1, 1, 2, 1, 2, 1, 1, 2, 1, 1, 2, 1, 2, 1, 1, 2, 1, 2, 1, 1, 2, 1, 1, 2, 1, 2, 1, 1, 2, 1, 2, 1, 1, 2, 1, 1, 2, 1, 2, 1, 1, 2, 1, 2, 1, 1, 2, 1, 1]) of length 285 after prefixing the suffix with 0 times the current s.m.p.Increase the value of the `max_smp_length` keyword argument to go further.\n",
      "\u001b[34m\u001b[1mNew candidate s.m.p. found\u001b[22m\u001b[39m because ⟨v_6*, v⟩ - 1 = 0.00045610290322040115 > 1.0e-9:\n",
      "\u001b[31m\u001b[1maborting\u001b[22m\u001b[39m with smp candidate PSW(1.4092397141548538, [2, 1, 1, 2, 1, 1, 2, 1, 2, 1, 1, 2, 1, 1, 2, 1, 2, 1, 1, 2, 1, 2, 1, 1, 2, 1, 1, 2, 1, 2, 1, 1, 2, 1, 1, 2, 1, 2, 1, 1, 2, 1, 2, 1, 1, 2, 1, 1, 2, 1, 2, 1, 1, 2, 1, 1, 2, 1, 2, 1, 1, 2, 1, 2, 1, 1, 2, 1, 1, 2, 1, 2, 1, 1, 2, 1, 2, 1, 1, 2, 1, 1, 2, 1, 2, 1, 1, 2, 1, 2, 1, 1, 2, 1, 1, 2, 1, 2, 1, 1, 2, 1, 2, 1, 1, 2, 1, 1, 2, 1, 2, 1, 1, 2, 1, 2, 1, 1, 2, 1, 1, 2, 1, 2, 1, 1, 2, 1, 2, 1, 1, 2, 1, 1, 2, 1, 2, 1, 1, 2, 1, 2, 1, 1, 2, 1, 1, 2, 1, 2, 1, 1, 2, 1, 2, 1, 1, 2, 1, 1, 2, 1, 2, 1, 1, 2, 1, 2, 1, 1, 2, 1, 1, 2, 1, 2, 1, 1, 2, 1, 2, 1, 1, 2, 1, 1, 2, 1, 2, 1, 1, 2, 1, 2, 1, 1, 2, 1, 1, 2, 1, 2, 1, 1, 2, 1, 2, 1, 1, 2, 1, 1, 2, 1, 2, 1, 1, 2, 1, 2, 1, 1, 2, 1, 1, 2, 1, 2, 1, 1, 2, 1, 2, 1, 1, 2, 1, 1, 2, 1, 2, 1, 1, 2, 1, 2, 1, 1, 2, 1, 1, 2, 1, 2, 1, 1, 2, 1, 2, 1, 1, 2, 1, 1, 2, 1, 2, 1, 1, 2, 1, 2, 1, 1, 2, 1, 1, 2, 1, 2, 1, 1, 2, 1, 1]) of length 285 after prefixing the suffix with 0 times the current s.m.p.Increase the value of the `max_smp_length` keyword argument to go further.\n",
      "Depth 286: [1942] points, 8 living leaves...\n",
      "Depth 287: [1950] points, 8 living leaves...\n",
      "\u001b[34m\u001b[1mNew candidate s.m.p. found\u001b[22m\u001b[39m because ⟨v_6*, v⟩ - 1 = 1.9402051187888958e-7 > 1.0e-9:\n",
      "\u001b[31m\u001b[1maborting\u001b[22m\u001b[39m with smp candidate PSW(1.4092436233744143, [2, 1, 1, 2, 1, 1, 2, 1, 2, 1, 1, 2, 1, 1, 2, 1, 2, 1, 1, 2, 1, 2, 1, 1, 2, 1, 1, 2, 1, 2, 1, 1, 2, 1, 1, 2, 1, 2, 1, 1, 2, 1, 2, 1, 1, 2, 1, 1, 2, 1, 2, 1, 1, 2, 1, 2, 1, 1, 2, 1, 1, 2, 1, 2, 1, 1, 2, 1, 2, 1, 1, 2, 1, 1, 2, 1, 2, 1, 1, 2, 1, 2, 1, 1, 2, 1, 1, 2, 1, 2, 1, 1, 2, 1, 2, 1, 1, 2, 1, 1, 2, 1, 2, 1, 1, 2, 1, 2, 1, 1, 2, 1, 1, 2, 1, 2, 1, 1, 2, 1, 2, 1, 1, 2, 1, 1, 2, 1, 2, 1, 1, 2, 1, 2, 1, 1, 2, 1, 1, 2, 1, 2, 1, 1, 2, 1, 2, 1, 1, 2, 1, 1, 2, 1, 2, 1, 1, 2, 1, 2, 1, 1, 2, 1, 1, 2, 1, 2, 1, 1, 2, 1, 2, 1, 1, 2, 1, 1, 2, 1, 2, 1, 1, 2, 1, 2, 1, 1, 2, 1, 1, 2, 1, 2, 1, 1, 2, 1, 2, 1, 1, 2, 1, 1, 2, 1, 2, 1, 1, 2, 1, 2, 1, 1, 2, 1, 1, 2, 1, 2, 1, 1, 2, 1, 2, 1, 1, 2, 1, 1, 2, 1, 2, 1, 1, 2, 1, 2, 1, 1, 2, 1, 1, 2, 1, 2, 1, 1, 2, 1, 2, 1, 1, 2, 1, 1, 2, 1, 2, 1, 1, 2, 1, 2, 1, 1, 2, 1, 1, 2, 1, 2, 1, 1, 2, 1, 2, 1, 1, 2, 1, 1, 2, 1, 2, 1, 1]) of length 287 after prefixing the suffix with 0 times the current s.m.p.Increase the value of the `max_smp_length` keyword argument to go further.\n",
      "\u001b[34m\u001b[1mNew candidate s.m.p. found\u001b[22m\u001b[39m because ⟨v_6*, v⟩ - 1 = 1.9742158707813928e-7 > 1.0e-9:\n",
      "\u001b[31m\u001b[1maborting\u001b[22m\u001b[39m with smp candidate PSW(1.4092436233456542, [2, 1, 1, 2, 1, 1, 2, 1, 2, 1, 1, 2, 1, 1, 2, 1, 2, 1, 1, 2, 1, 2, 1, 1, 2, 1, 1, 2, 1, 2, 1, 1, 2, 1, 2, 1, 1, 2, 1, 1, 2, 1, 2, 1, 1, 2, 1, 2, 1, 1, 2, 1, 1, 2, 1, 2, 1, 1, 2, 1, 2, 1, 1, 2, 1, 1, 2, 1, 2, 1, 1, 2, 1, 2, 1, 1, 2, 1, 1, 2, 1, 2, 1, 1, 2, 1, 2, 1, 1, 2, 1, 1, 2, 1, 2, 1, 1, 2, 1, 2, 1, 1, 2, 1, 1, 2, 1, 2, 1, 1, 2, 1, 2, 1, 1, 2, 1, 1, 2, 1, 2, 1, 1, 2, 1, 2, 1, 1, 2, 1, 1, 2, 1, 2, 1, 1, 2, 1, 2, 1, 1, 2, 1, 1, 2, 1, 2, 1, 1, 2, 1, 2, 1, 1, 2, 1, 1, 2, 1, 2, 1, 1, 2, 1, 2, 1, 1, 2, 1, 1, 2, 1, 2, 1, 1, 2, 1, 2, 1, 1, 2, 1, 1, 2, 1, 2, 1, 1, 2, 1, 2, 1, 1, 2, 1, 1, 2, 1, 2, 1, 1, 2, 1, 2, 1, 1, 2, 1, 1, 2, 1, 2, 1, 1, 2, 1, 2, 1, 1, 2, 1, 1, 2, 1, 2, 1, 1, 2, 1, 2, 1, 1, 2, 1, 1, 2, 1, 2, 1, 1, 2, 1, 2, 1, 1, 2, 1, 1, 2, 1, 2, 1, 1, 2, 1, 2, 1, 1, 2, 1, 1, 2, 1, 2, 1, 1, 2, 1, 2, 1, 1, 2, 1, 1, 2, 1, 2, 1, 1, 2, 1, 1, 2, 1, 2, 1, 1]) of length 287 after prefixing the suffix with 0 times the current s.m.p.Increase the value of the `max_smp_length` keyword argument to go further.\n",
      "\u001b[34m\u001b[1mNew candidate s.m.p. found\u001b[22m\u001b[39m because ⟨v_6*, v⟩ - 1 = 0.00045577646158290186 > 1.0e-9:\n",
      "\u001b[31m\u001b[1maborting\u001b[22m\u001b[39m with smp candidate PSW(1.4092397693218708, [2, 1, 1, 2, 1, 1, 2, 1, 2, 1, 1, 2, 1, 1, 2, 1, 2, 1, 1, 2, 1, 2, 1, 1, 2, 1, 1, 2, 1, 2, 1, 1, 2, 1, 2, 1, 1, 2, 1, 1, 2, 1, 2, 1, 1, 2, 1, 2, 1, 1, 2, 1, 1, 2, 1, 2, 1, 1, 2, 1, 2, 1, 1, 2, 1, 1, 2, 1, 2, 1, 1, 2, 1, 2, 1, 1, 2, 1, 1, 2, 1, 2, 1, 1, 2, 1, 2, 1, 1, 2, 1, 1, 2, 1, 2, 1, 1, 2, 1, 2, 1, 1, 2, 1, 1, 2, 1, 2, 1, 1, 2, 1, 2, 1, 1, 2, 1, 1, 2, 1, 2, 1, 1, 2, 1, 2, 1, 1, 2, 1, 1, 2, 1, 2, 1, 1, 2, 1, 2, 1, 1, 2, 1, 1, 2, 1, 2, 1, 1, 2, 1, 2, 1, 1, 2, 1, 1, 2, 1, 2, 1, 1, 2, 1, 2, 1, 1, 2, 1, 1, 2, 1, 2, 1, 1, 2, 1, 2, 1, 1, 2, 1, 1, 2, 1, 2, 1, 1, 2, 1, 2, 1, 1, 2, 1, 1, 2, 1, 2, 1, 1, 2, 1, 2, 1, 1, 2, 1, 1, 2, 1, 2, 1, 1, 2, 1, 2, 1, 1, 2, 1, 1, 2, 1, 2, 1, 1, 2, 1, 2, 1, 1, 2, 1, 1, 2, 1, 2, 1, 1, 2, 1, 2, 1, 1, 2, 1, 1, 2, 1, 2, 1, 1, 2, 1, 2, 1, 1, 2, 1, 1, 2, 1, 2, 1, 1, 2, 1, 2, 1, 1, 2, 1, 1, 2, 1, 2, 1, 1, 2, 1, 2, 1, 1, 2, 1, 1]) of length 287 after prefixing the suffix with 0 times the current s.m.p.Increase the value of the `max_smp_length` keyword argument to go further.\n",
      "\u001b[34m\u001b[1mNew candidate s.m.p. found\u001b[22m\u001b[39m because ⟨v_6*, v⟩ - 1 = 0.0004561042698987272 > 1.0e-9:\n",
      "\u001b[31m\u001b[1maborting\u001b[22m\u001b[39m with smp candidate PSW(1.4092397693218708, [2, 1, 1, 2, 1, 1, 2, 1, 2, 1, 1, 2, 1, 2, 1, 1, 2, 1, 1, 2, 1, 2, 1, 1, 2, 1, 2, 1, 1, 2, 1, 1, 2, 1, 2, 1, 1, 2, 1, 2, 1, 1, 2, 1, 1, 2, 1, 2, 1, 1, 2, 1, 2, 1, 1, 2, 1, 1, 2, 1, 2, 1, 1, 2, 1, 2, 1, 1, 2, 1, 1, 2, 1, 2, 1, 1, 2, 1, 2, 1, 1, 2, 1, 1, 2, 1, 2, 1, 1, 2, 1, 2, 1, 1, 2, 1, 1, 2, 1, 2, 1, 1, 2, 1, 2, 1, 1, 2, 1, 1, 2, 1, 2, 1, 1, 2, 1, 2, 1, 1, 2, 1, 1, 2, 1, 2, 1, 1, 2, 1, 2, 1, 1, 2, 1, 1, 2, 1, 2, 1, 1, 2, 1, 2, 1, 1, 2, 1, 1, 2, 1, 2, 1, 1, 2, 1, 2, 1, 1, 2, 1, 1, 2, 1, 2, 1, 1, 2, 1, 2, 1, 1, 2, 1, 1, 2, 1, 2, 1, 1, 2, 1, 2, 1, 1, 2, 1, 1, 2, 1, 2, 1, 1, 2, 1, 2, 1, 1, 2, 1, 1, 2, 1, 2, 1, 1, 2, 1, 2, 1, 1, 2, 1, 1, 2, 1, 2, 1, 1, 2, 1, 2, 1, 1, 2, 1, 1, 2, 1, 2, 1, 1, 2, 1, 2, 1, 1, 2, 1, 1, 2, 1, 2, 1, 1, 2, 1, 2, 1, 1, 2, 1, 1, 2, 1, 2, 1, 1, 2, 1, 2, 1, 1, 2, 1, 1, 2, 1, 2, 1, 1, 2, 1, 2, 1, 1, 2, 1, 1, 2, 1, 2, 1, 1, 2, 1, 1]) of length 287 after prefixing the suffix with 0 times the current s.m.p.Increase the value of the `max_smp_length` keyword argument to go further.\n",
      "Depth 288: [1959] points, 9 living leaves...\n"
     ]
    },
    {
     "name": "stdout",
     "output_type": "stream",
     "text": [
      "Depth 289: [1967] points, 8 living leaves...\n",
      "Depth 290: [1975] points, 8 living leaves...\n",
      "\u001b[34m\u001b[1mNew candidate s.m.p. found\u001b[22m\u001b[39m because ⟨v_6*, v⟩ - 1 = 1.9607002710309018e-7 > 1.0e-9:\n",
      "\u001b[31m\u001b[1maborting\u001b[22m\u001b[39m with smp candidate PSW(1.4092436606021326, [2, 1, 1, 2, 1, 1, 2, 1, 2, 1, 1, 2, 1, 1, 2, 1, 2, 1, 1, 2, 1, 2, 1, 1, 2, 1, 1, 2, 1, 2, 1, 1, 2, 1, 1, 2, 1, 2, 1, 1, 2, 1, 2, 1, 1, 2, 1, 1, 2, 1, 2, 1, 1, 2, 1, 1, 2, 1, 2, 1, 1, 2, 1, 2, 1, 1, 2, 1, 1, 2, 1, 2, 1, 1, 2, 1, 1, 2, 1, 2, 1, 1, 2, 1, 2, 1, 1, 2, 1, 1, 2, 1, 2, 1, 1, 2, 1, 2, 1, 1, 2, 1, 1, 2, 1, 2, 1, 1, 2, 1, 2, 1, 1, 2, 1, 1, 2, 1, 2, 1, 1, 2, 1, 2, 1, 1, 2, 1, 1, 2, 1, 2, 1, 1, 2, 1, 2, 1, 1, 2, 1, 1, 2, 1, 2, 1, 1, 2, 1, 2, 1, 1, 2, 1, 1, 2, 1, 2, 1, 1, 2, 1, 2, 1, 1, 2, 1, 1, 2, 1, 2, 1, 1, 2, 1, 2, 1, 1, 2, 1, 1, 2, 1, 2, 1, 1, 2, 1, 2, 1, 1, 2, 1, 1, 2, 1, 2, 1, 1, 2, 1, 2, 1, 1, 2, 1, 1, 2, 1, 2, 1, 1, 2, 1, 2, 1, 1, 2, 1, 1, 2, 1, 2, 1, 1, 2, 1, 2, 1, 1, 2, 1, 1, 2, 1, 2, 1, 1, 2, 1, 2, 1, 1, 2, 1, 1, 2, 1, 2, 1, 1, 2, 1, 2, 1, 1, 2, 1, 1, 2, 1, 2, 1, 1, 2, 1, 2, 1, 1, 2, 1, 1, 2, 1, 2, 1, 1, 2, 1, 2, 1, 1, 2, 1, 1, 2, 1, 2, 1, 1]) of length 290 after prefixing the suffix with 0 times the current s.m.p.Increase the value of the `max_smp_length` keyword argument to go further.\n",
      "\u001b[34m\u001b[1mNew candidate s.m.p. found\u001b[22m\u001b[39m because ⟨v_6*, v⟩ - 1 = 1.9947110407869673e-7 > 1.0e-9:\n",
      "\u001b[31m\u001b[1maborting\u001b[22m\u001b[39m with smp candidate PSW(1.4092436605736702, [2, 1, 1, 2, 1, 1, 2, 1, 2, 1, 1, 2, 1, 1, 2, 1, 2, 1, 1, 2, 1, 2, 1, 1, 2, 1, 1, 2, 1, 2, 1, 1, 2, 1, 1, 2, 1, 2, 1, 1, 2, 1, 2, 1, 1, 2, 1, 1, 2, 1, 2, 1, 1, 2, 1, 1, 2, 1, 2, 1, 1, 2, 1, 2, 1, 1, 2, 1, 1, 2, 1, 2, 1, 1, 2, 1, 2, 1, 1, 2, 1, 1, 2, 1, 2, 1, 1, 2, 1, 2, 1, 1, 2, 1, 1, 2, 1, 2, 1, 1, 2, 1, 2, 1, 1, 2, 1, 1, 2, 1, 2, 1, 1, 2, 1, 2, 1, 1, 2, 1, 1, 2, 1, 2, 1, 1, 2, 1, 2, 1, 1, 2, 1, 1, 2, 1, 2, 1, 1, 2, 1, 2, 1, 1, 2, 1, 1, 2, 1, 2, 1, 1, 2, 1, 2, 1, 1, 2, 1, 1, 2, 1, 2, 1, 1, 2, 1, 2, 1, 1, 2, 1, 1, 2, 1, 2, 1, 1, 2, 1, 2, 1, 1, 2, 1, 1, 2, 1, 2, 1, 1, 2, 1, 2, 1, 1, 2, 1, 1, 2, 1, 2, 1, 1, 2, 1, 2, 1, 1, 2, 1, 1, 2, 1, 2, 1, 1, 2, 1, 2, 1, 1, 2, 1, 1, 2, 1, 2, 1, 1, 2, 1, 2, 1, 1, 2, 1, 1, 2, 1, 2, 1, 1, 2, 1, 2, 1, 1, 2, 1, 1, 2, 1, 2, 1, 1, 2, 1, 2, 1, 1, 2, 1, 1, 2, 1, 2, 1, 1, 2, 1, 2, 1, 1, 2, 1, 1, 2, 1, 2, 1, 1, 2, 1, 1, 2, 1, 2, 1, 1]) of length 290 after prefixing the suffix with 0 times the current s.m.p.Increase the value of the `max_smp_length` keyword argument to go further.\n",
      "\u001b[34m\u001b[1mNew candidate s.m.p. found\u001b[22m\u001b[39m because ⟨v_6*, v⟩ - 1 = 0.0004557785120336 > 1.0e-9:\n",
      "\u001b[31m\u001b[1maborting\u001b[22m\u001b[39m with smp candidate PSW(1.4092398464189435, [2, 1, 1, 2, 1, 1, 2, 1, 2, 1, 1, 2, 1, 1, 2, 1, 2, 1, 1, 2, 1, 2, 1, 1, 2, 1, 1, 2, 1, 2, 1, 1, 2, 1, 1, 2, 1, 2, 1, 1, 2, 1, 2, 1, 1, 2, 1, 1, 2, 1, 2, 1, 1, 2, 1, 1, 2, 1, 2, 1, 1, 2, 1, 2, 1, 1, 2, 1, 1, 2, 1, 2, 1, 1, 2, 1, 2, 1, 1, 2, 1, 1, 2, 1, 2, 1, 1, 2, 1, 2, 1, 1, 2, 1, 1, 2, 1, 2, 1, 1, 2, 1, 2, 1, 1, 2, 1, 1, 2, 1, 2, 1, 1, 2, 1, 2, 1, 1, 2, 1, 1, 2, 1, 2, 1, 1, 2, 1, 2, 1, 1, 2, 1, 1, 2, 1, 2, 1, 1, 2, 1, 2, 1, 1, 2, 1, 1, 2, 1, 2, 1, 1, 2, 1, 2, 1, 1, 2, 1, 1, 2, 1, 2, 1, 1, 2, 1, 2, 1, 1, 2, 1, 1, 2, 1, 2, 1, 1, 2, 1, 2, 1, 1, 2, 1, 1, 2, 1, 2, 1, 1, 2, 1, 2, 1, 1, 2, 1, 1, 2, 1, 2, 1, 1, 2, 1, 2, 1, 1, 2, 1, 1, 2, 1, 2, 1, 1, 2, 1, 2, 1, 1, 2, 1, 1, 2, 1, 2, 1, 1, 2, 1, 2, 1, 1, 2, 1, 1, 2, 1, 2, 1, 1, 2, 1, 2, 1, 1, 2, 1, 1, 2, 1, 2, 1, 1, 2, 1, 2, 1, 1, 2, 1, 1, 2, 1, 2, 1, 1, 2, 1, 2, 1, 1, 2, 1, 1, 2, 1, 2, 1, 1, 2, 1, 2, 1, 1, 2, 1, 1]) of length 290 after prefixing the suffix with 0 times the current s.m.p.Increase the value of the `max_smp_length` keyword argument to go further.\n",
      "\u001b[34m\u001b[1mNew candidate s.m.p. found\u001b[22m\u001b[39m because ⟨v_6*, v⟩ - 1 = 0.0004561063203507576 > 1.0e-9:\n",
      "\u001b[31m\u001b[1maborting\u001b[22m\u001b[39m with smp candidate PSW(1.4092398436011266, [2, 1, 1, 2, 1, 1, 2, 1, 2, 1, 1, 2, 1, 1, 2, 1, 2, 1, 1, 2, 1, 2, 1, 1, 2, 1, 1, 2, 1, 2, 1, 1, 2, 1, 1, 2, 1, 2, 1, 1, 2, 1, 2, 1, 1, 2, 1, 1, 2, 1, 2, 1, 1, 2, 1, 2, 1, 1, 2, 1, 1, 2, 1, 2, 1, 1, 2, 1, 2, 1, 1, 2, 1, 1, 2, 1, 2, 1, 1, 2, 1, 2, 1, 1, 2, 1, 1, 2, 1, 2, 1, 1, 2, 1, 2, 1, 1, 2, 1, 1, 2, 1, 2, 1, 1, 2, 1, 2, 1, 1, 2, 1, 1, 2, 1, 2, 1, 1, 2, 1, 2, 1, 1, 2, 1, 1, 2, 1, 2, 1, 1, 2, 1, 2, 1, 1, 2, 1, 1, 2, 1, 2, 1, 1, 2, 1, 2, 1, 1, 2, 1, 1, 2, 1, 2, 1, 1, 2, 1, 2, 1, 1, 2, 1, 1, 2, 1, 2, 1, 1, 2, 1, 2, 1, 1, 2, 1, 1, 2, 1, 2, 1, 1, 2, 1, 2, 1, 1, 2, 1, 1, 2, 1, 2, 1, 1, 2, 1, 2, 1, 1, 2, 1, 1, 2, 1, 2, 1, 1, 2, 1, 2, 1, 1, 2, 1, 1, 2, 1, 2, 1, 1, 2, 1, 2, 1, 1, 2, 1, 1, 2, 1, 2, 1, 1, 2, 1, 2, 1, 1, 2, 1, 1, 2, 1, 2, 1, 1, 2, 1, 2, 1, 1, 2, 1, 1, 2, 1, 2, 1, 1, 2, 1, 2, 1, 1, 2, 1, 1, 2, 1, 2, 1, 1, 2, 1, 2, 1, 1, 2, 1, 1, 2, 1, 2, 1, 1, 2, 1, 1]) of length 290 after prefixing the suffix with 0 times the current s.m.p.Increase the value of the `max_smp_length` keyword argument to go further.\n",
      "Depth 291: [1983] points, 8 living leaves...\n",
      "Depth 292: [1991] points, 8 living leaves...\n",
      "\u001b[34m\u001b[1mNew candidate s.m.p. found\u001b[22m\u001b[39m because ⟨v_6*, v⟩ - 1 = 1.974360828160826e-7 > 1.0e-9:\n",
      "\u001b[31m\u001b[1maborting\u001b[22m\u001b[39m with smp candidate PSW(1.409243684995637, [2, 1, 1, 2, 1, 1, 2, 1, 2, 1, 1, 2, 1, 1, 2, 1, 2, 1, 1, 2, 1, 2, 1, 1, 2, 1, 1, 2, 1, 2, 1, 1, 2, 1, 2, 1, 1, 2, 1, 1, 2, 1, 2, 1, 1, 2, 1, 2, 1, 1, 2, 1, 1, 2, 1, 2, 1, 1, 2, 1, 2, 1, 1, 2, 1, 1, 2, 1, 2, 1, 1, 2, 1, 2, 1, 1, 2, 1, 1, 2, 1, 2, 1, 1, 2, 1, 2, 1, 1, 2, 1, 1, 2, 1, 2, 1, 1, 2, 1, 2, 1, 1, 2, 1, 1, 2, 1, 2, 1, 1, 2, 1, 2, 1, 1, 2, 1, 1, 2, 1, 2, 1, 1, 2, 1, 2, 1, 1, 2, 1, 1, 2, 1, 2, 1, 1, 2, 1, 2, 1, 1, 2, 1, 1, 2, 1, 2, 1, 1, 2, 1, 2, 1, 1, 2, 1, 1, 2, 1, 2, 1, 1, 2, 1, 2, 1, 1, 2, 1, 1, 2, 1, 2, 1, 1, 2, 1, 2, 1, 1, 2, 1, 1, 2, 1, 2, 1, 1, 2, 1, 2, 1, 1, 2, 1, 1, 2, 1, 2, 1, 1, 2, 1, 2, 1, 1, 2, 1, 1, 2, 1, 2, 1, 1, 2, 1, 2, 1, 1, 2, 1, 1, 2, 1, 2, 1, 1, 2, 1, 2, 1, 1, 2, 1, 1, 2, 1, 2, 1, 1, 2, 1, 2, 1, 1, 2, 1, 1, 2, 1, 2, 1, 1, 2, 1, 2, 1, 1, 2, 1, 1, 2, 1, 2, 1, 1, 2, 1, 2, 1, 1, 2, 1, 1, 2, 1, 2, 1, 1, 2, 1, 2, 1, 1, 2, 1, 1, 2, 1, 2, 1, 1]) of length 292 after prefixing the suffix with 0 times the current s.m.p.Increase the value of the `max_smp_length` keyword argument to go further.\n",
      "\u001b[34m\u001b[1mNew candidate s.m.p. found\u001b[22m\u001b[39m because ⟨v_6*, v⟩ - 1 = 2.0083715979168915e-7 > 1.0e-9:\n",
      "\u001b[31m\u001b[1maborting\u001b[22m\u001b[39m with smp candidate PSW(1.4092436875802057, [2, 1, 1, 2, 1, 1, 2, 1, 2, 1, 1, 2, 1, 2, 1, 1, 2, 1, 1, 2, 1, 2, 1, 1, 2, 1, 2, 1, 1, 2, 1, 1, 2, 1, 2, 1, 1, 2, 1, 2, 1, 1, 2, 1, 1, 2, 1, 2, 1, 1, 2, 1, 2, 1, 1, 2, 1, 1, 2, 1, 2, 1, 1, 2, 1, 2, 1, 1, 2, 1, 1, 2, 1, 2, 1, 1, 2, 1, 2, 1, 1, 2, 1, 1, 2, 1, 2, 1, 1, 2, 1, 2, 1, 1, 2, 1, 1, 2, 1, 2, 1, 1, 2, 1, 2, 1, 1, 2, 1, 1, 2, 1, 2, 1, 1, 2, 1, 2, 1, 1, 2, 1, 1, 2, 1, 2, 1, 1, 2, 1, 2, 1, 1, 2, 1, 1, 2, 1, 2, 1, 1, 2, 1, 2, 1, 1, 2, 1, 1, 2, 1, 2, 1, 1, 2, 1, 2, 1, 1, 2, 1, 1, 2, 1, 2, 1, 1, 2, 1, 2, 1, 1, 2, 1, 1, 2, 1, 2, 1, 1, 2, 1, 2, 1, 1, 2, 1, 1, 2, 1, 2, 1, 1, 2, 1, 2, 1, 1, 2, 1, 1, 2, 1, 2, 1, 1, 2, 1, 2, 1, 1, 2, 1, 1, 2, 1, 2, 1, 1, 2, 1, 2, 1, 1, 2, 1, 1, 2, 1, 2, 1, 1, 2, 1, 2, 1, 1, 2, 1, 1, 2, 1, 2, 1, 1, 2, 1, 2, 1, 1, 2, 1, 1, 2, 1, 2, 1, 1, 2, 1, 2, 1, 1, 2, 1, 1, 2, 1, 2, 1, 1, 2, 1, 2, 1, 1, 2, 1, 1, 2, 1, 2, 1, 1, 2, 1, 1, 2, 1, 2, 1, 1]) of length 292 after prefixing the suffix with 0 times the current s.m.p.Increase the value of the `max_smp_length` keyword argument to go further.\n",
      "\u001b[34m\u001b[1mNew candidate s.m.p. found\u001b[22m\u001b[39m because ⟨v_6*, v⟩ - 1 = 0.000455779878711704 > 1.0e-9:\n",
      "\u001b[31m\u001b[1maborting\u001b[22m\u001b[39m with smp candidate PSW(1.4092398997352702, [2, 1, 1, 2, 1, 1, 2, 1, 2, 1, 1, 2, 1, 2, 1, 1, 2, 1, 1, 2, 1, 2, 1, 1, 2, 1, 2, 1, 1, 2, 1, 1, 2, 1, 2, 1, 1, 2, 1, 2, 1, 1, 2, 1, 1, 2, 1, 2, 1, 1, 2, 1, 2, 1, 1, 2, 1, 1, 2, 1, 2, 1, 1, 2, 1, 2, 1, 1, 2, 1, 1, 2, 1, 2, 1, 1, 2, 1, 2, 1, 1, 2, 1, 1, 2, 1, 2, 1, 1, 2, 1, 2, 1, 1, 2, 1, 1, 2, 1, 2, 1, 1, 2, 1, 2, 1, 1, 2, 1, 1, 2, 1, 2, 1, 1, 2, 1, 2, 1, 1, 2, 1, 1, 2, 1, 2, 1, 1, 2, 1, 2, 1, 1, 2, 1, 1, 2, 1, 2, 1, 1, 2, 1, 2, 1, 1, 2, 1, 1, 2, 1, 2, 1, 1, 2, 1, 2, 1, 1, 2, 1, 1, 2, 1, 2, 1, 1, 2, 1, 2, 1, 1, 2, 1, 1, 2, 1, 2, 1, 1, 2, 1, 2, 1, 1, 2, 1, 1, 2, 1, 2, 1, 1, 2, 1, 2, 1, 1, 2, 1, 1, 2, 1, 2, 1, 1, 2, 1, 2, 1, 1, 2, 1, 1, 2, 1, 2, 1, 1, 2, 1, 2, 1, 1, 2, 1, 1, 2, 1, 2, 1, 1, 2, 1, 2, 1, 1, 2, 1, 1, 2, 1, 2, 1, 1, 2, 1, 2, 1, 1, 2, 1, 1, 2, 1, 2, 1, 1, 2, 1, 2, 1, 1, 2, 1, 1, 2, 1, 2, 1, 1, 2, 1, 2, 1, 1, 2, 1, 1, 2, 1, 2, 1, 1, 2, 1, 2, 1, 1, 2, 1, 1]) of length 292 after prefixing the suffix with 0 times the current s.m.p.Increase the value of the `max_smp_length` keyword argument to go further.\n",
      "Depth 293: [1999] points, 8 living leaves...\n"
     ]
    },
    {
     "name": "stdout",
     "output_type": "stream",
     "text": [
      "\u001b[34m\u001b[1mNew candidate s.m.p. found\u001b[22m\u001b[39m because ⟨v_6*, v⟩ - 1 = 0.0004561083708003455 > 1.0e-9:\n",
      "\u001b[31m\u001b[1maborting\u001b[22m\u001b[39m with smp candidate PSW(1.409239919148275, [2, 1, 1, 2, 1, 1, 2, 1, 2, 1, 1, 2, 1, 1, 2, 1, 2, 1, 1, 2, 1, 2, 1, 1, 2, 1, 1, 2, 1, 2, 1, 1, 2, 1, 1, 2, 1, 2, 1, 1, 2, 1, 2, 1, 1, 2, 1, 1, 2, 1, 2, 1, 1, 2, 1, 1, 2, 1, 2, 1, 1, 2, 1, 2, 1, 1, 2, 1, 1, 2, 1, 2, 1, 1, 2, 1, 1, 2, 1, 2, 1, 1, 2, 1, 2, 1, 1, 2, 1, 1, 2, 1, 2, 1, 1, 2, 1, 2, 1, 1, 2, 1, 1, 2, 1, 2, 1, 1, 2, 1, 2, 1, 1, 2, 1, 1, 2, 1, 2, 1, 1, 2, 1, 2, 1, 1, 2, 1, 1, 2, 1, 2, 1, 1, 2, 1, 2, 1, 1, 2, 1, 1, 2, 1, 2, 1, 1, 2, 1, 2, 1, 1, 2, 1, 1, 2, 1, 2, 1, 1, 2, 1, 2, 1, 1, 2, 1, 1, 2, 1, 2, 1, 1, 2, 1, 2, 1, 1, 2, 1, 1, 2, 1, 2, 1, 1, 2, 1, 2, 1, 1, 2, 1, 1, 2, 1, 2, 1, 1, 2, 1, 2, 1, 1, 2, 1, 1, 2, 1, 2, 1, 1, 2, 1, 2, 1, 1, 2, 1, 1, 2, 1, 2, 1, 1, 2, 1, 2, 1, 1, 2, 1, 1, 2, 1, 2, 1, 1, 2, 1, 2, 1, 1, 2, 1, 1, 2, 1, 2, 1, 1, 2, 1, 2, 1, 1, 2, 1, 1, 2, 1, 2, 1, 1, 2, 1, 2, 1, 1, 2, 1, 1, 2, 1, 2, 1, 1, 2, 1, 2, 1, 1, 2, 1, 1, 2, 1, 2, 1, 1, 2, 1, 1]) of length 293 after prefixing the suffix with 0 times the current s.m.p.Increase the value of the `max_smp_length` keyword argument to go further.\n",
      "Depth 294: [2007] points, 8 living leaves...\n",
      "Depth 295: [2015] points, 8 living leaves...\n",
      "\u001b[34m\u001b[1mNew candidate s.m.p. found\u001b[22m\u001b[39m because ⟨v_6*, v⟩ - 1 = 1.9948560003868465e-7 > 1.0e-9:\n",
      "\u001b[31m\u001b[1maborting\u001b[22m\u001b[39m with smp candidate PSW(1.409243720965722, [2, 1, 1, 2, 1, 1, 2, 1, 2, 1, 1, 2, 1, 1, 2, 1, 2, 1, 1, 2, 1, 2, 1, 1, 2, 1, 1, 2, 1, 2, 1, 1, 2, 1, 1, 2, 1, 2, 1, 1, 2, 1, 2, 1, 1, 2, 1, 1, 2, 1, 2, 1, 1, 2, 1, 1, 2, 1, 2, 1, 1, 2, 1, 2, 1, 1, 2, 1, 1, 2, 1, 2, 1, 1, 2, 1, 2, 1, 1, 2, 1, 1, 2, 1, 2, 1, 1, 2, 1, 2, 1, 1, 2, 1, 1, 2, 1, 2, 1, 1, 2, 1, 2, 1, 1, 2, 1, 1, 2, 1, 2, 1, 1, 2, 1, 2, 1, 1, 2, 1, 1, 2, 1, 2, 1, 1, 2, 1, 2, 1, 1, 2, 1, 1, 2, 1, 2, 1, 1, 2, 1, 2, 1, 1, 2, 1, 1, 2, 1, 2, 1, 1, 2, 1, 2, 1, 1, 2, 1, 1, 2, 1, 2, 1, 1, 2, 1, 2, 1, 1, 2, 1, 1, 2, 1, 2, 1, 1, 2, 1, 2, 1, 1, 2, 1, 1, 2, 1, 2, 1, 1, 2, 1, 2, 1, 1, 2, 1, 1, 2, 1, 2, 1, 1, 2, 1, 2, 1, 1, 2, 1, 1, 2, 1, 2, 1, 1, 2, 1, 2, 1, 1, 2, 1, 1, 2, 1, 2, 1, 1, 2, 1, 2, 1, 1, 2, 1, 1, 2, 1, 2, 1, 1, 2, 1, 2, 1, 1, 2, 1, 1, 2, 1, 2, 1, 1, 2, 1, 2, 1, 1, 2, 1, 1, 2, 1, 2, 1, 1, 2, 1, 2, 1, 1, 2, 1, 1, 2, 1, 2, 1, 1, 2, 1, 2, 1, 1, 2, 1, 1, 2, 1, 2, 1, 1]) of length 295 after prefixing the suffix with 0 times the current s.m.p.Increase the value of the `max_smp_length` keyword argument to go further.\n",
      "\u001b[34m\u001b[1mNew candidate s.m.p. found\u001b[22m\u001b[39m because ⟨v_6*, v⟩ - 1 = 2.028866772363358e-7 > 1.0e-9:\n",
      "\u001b[31m\u001b[1maborting\u001b[22m\u001b[39m with smp candidate PSW(1.409243720937742, [2, 1, 1, 2, 1, 1, 2, 1, 2, 1, 1, 2, 1, 1, 2, 1, 2, 1, 1, 2, 1, 2, 1, 1, 2, 1, 1, 2, 1, 2, 1, 1, 2, 1, 1, 2, 1, 2, 1, 1, 2, 1, 2, 1, 1, 2, 1, 1, 2, 1, 2, 1, 1, 2, 1, 2, 1, 1, 2, 1, 1, 2, 1, 2, 1, 1, 2, 1, 2, 1, 1, 2, 1, 1, 2, 1, 2, 1, 1, 2, 1, 2, 1, 1, 2, 1, 1, 2, 1, 2, 1, 1, 2, 1, 2, 1, 1, 2, 1, 1, 2, 1, 2, 1, 1, 2, 1, 2, 1, 1, 2, 1, 1, 2, 1, 2, 1, 1, 2, 1, 2, 1, 1, 2, 1, 1, 2, 1, 2, 1, 1, 2, 1, 2, 1, 1, 2, 1, 1, 2, 1, 2, 1, 1, 2, 1, 2, 1, 1, 2, 1, 1, 2, 1, 2, 1, 1, 2, 1, 2, 1, 1, 2, 1, 1, 2, 1, 2, 1, 1, 2, 1, 2, 1, 1, 2, 1, 1, 2, 1, 2, 1, 1, 2, 1, 2, 1, 1, 2, 1, 1, 2, 1, 2, 1, 1, 2, 1, 2, 1, 1, 2, 1, 1, 2, 1, 2, 1, 1, 2, 1, 2, 1, 1, 2, 1, 1, 2, 1, 2, 1, 1, 2, 1, 2, 1, 1, 2, 1, 1, 2, 1, 2, 1, 1, 2, 1, 2, 1, 1, 2, 1, 1, 2, 1, 2, 1, 1, 2, 1, 2, 1, 1, 2, 1, 1, 2, 1, 2, 1, 1, 2, 1, 2, 1, 1, 2, 1, 1, 2, 1, 2, 1, 1, 2, 1, 2, 1, 1, 2, 1, 1, 2, 1, 2, 1, 1, 2, 1, 1, 2, 1, 2, 1, 1]) of length 295 after prefixing the suffix with 0 times the current s.m.p.Increase the value of the `max_smp_length` keyword argument to go further.\n",
      "\u001b[34m\u001b[1mNew candidate s.m.p. found\u001b[22m\u001b[39m because ⟨v_6*, v⟩ - 1 = 0.00045578192916306826 > 1.0e-9:\n",
      "\u001b[31m\u001b[1maborting\u001b[22m\u001b[39m with smp candidate PSW(1.4092399714294588, [2, 1, 1, 2, 1, 1, 2, 1, 2, 1, 1, 2, 1, 1, 2, 1, 2, 1, 1, 2, 1, 2, 1, 1, 2, 1, 1, 2, 1, 2, 1, 1, 2, 1, 1, 2, 1, 2, 1, 1, 2, 1, 2, 1, 1, 2, 1, 1, 2, 1, 2, 1, 1, 2, 1, 2, 1, 1, 2, 1, 1, 2, 1, 2, 1, 1, 2, 1, 2, 1, 1, 2, 1, 1, 2, 1, 2, 1, 1, 2, 1, 2, 1, 1, 2, 1, 1, 2, 1, 2, 1, 1, 2, 1, 2, 1, 1, 2, 1, 1, 2, 1, 2, 1, 1, 2, 1, 2, 1, 1, 2, 1, 1, 2, 1, 2, 1, 1, 2, 1, 2, 1, 1, 2, 1, 1, 2, 1, 2, 1, 1, 2, 1, 2, 1, 1, 2, 1, 1, 2, 1, 2, 1, 1, 2, 1, 2, 1, 1, 2, 1, 1, 2, 1, 2, 1, 1, 2, 1, 2, 1, 1, 2, 1, 1, 2, 1, 2, 1, 1, 2, 1, 2, 1, 1, 2, 1, 1, 2, 1, 2, 1, 1, 2, 1, 2, 1, 1, 2, 1, 1, 2, 1, 2, 1, 1, 2, 1, 2, 1, 1, 2, 1, 1, 2, 1, 2, 1, 1, 2, 1, 2, 1, 1, 2, 1, 1, 2, 1, 2, 1, 1, 2, 1, 2, 1, 1, 2, 1, 1, 2, 1, 2, 1, 1, 2, 1, 2, 1, 1, 2, 1, 1, 2, 1, 2, 1, 1, 2, 1, 2, 1, 1, 2, 1, 1, 2, 1, 2, 1, 1, 2, 1, 2, 1, 1, 2, 1, 1, 2, 1, 2, 1, 1, 2, 1, 2, 1, 1, 2, 1, 1, 2, 1, 2, 1, 1, 2, 1, 2, 1, 1, 2, 1, 1]) of length 295 after prefixing the suffix with 0 times the current s.m.p.Increase the value of the `max_smp_length` keyword argument to go further.\n",
      "\u001b[34m\u001b[1mNew candidate s.m.p. found\u001b[22m\u001b[39m because ⟨v_6*, v⟩ - 1 = 0.0004561097374788936 > 1.0e-9:\n",
      "\u001b[31m\u001b[1maborting\u001b[22m\u001b[39m with smp candidate PSW(1.4092399686594013, [2, 1, 1, 2, 1, 1, 2, 1, 2, 1, 1, 2, 1, 1, 2, 1, 2, 1, 1, 2, 1, 2, 1, 1, 2, 1, 1, 2, 1, 2, 1, 1, 2, 1, 2, 1, 1, 2, 1, 1, 2, 1, 2, 1, 1, 2, 1, 2, 1, 1, 2, 1, 1, 2, 1, 2, 1, 1, 2, 1, 2, 1, 1, 2, 1, 1, 2, 1, 2, 1, 1, 2, 1, 2, 1, 1, 2, 1, 1, 2, 1, 2, 1, 1, 2, 1, 2, 1, 1, 2, 1, 1, 2, 1, 2, 1, 1, 2, 1, 2, 1, 1, 2, 1, 1, 2, 1, 2, 1, 1, 2, 1, 2, 1, 1, 2, 1, 1, 2, 1, 2, 1, 1, 2, 1, 2, 1, 1, 2, 1, 1, 2, 1, 2, 1, 1, 2, 1, 2, 1, 1, 2, 1, 1, 2, 1, 2, 1, 1, 2, 1, 2, 1, 1, 2, 1, 1, 2, 1, 2, 1, 1, 2, 1, 2, 1, 1, 2, 1, 1, 2, 1, 2, 1, 1, 2, 1, 2, 1, 1, 2, 1, 1, 2, 1, 2, 1, 1, 2, 1, 2, 1, 1, 2, 1, 1, 2, 1, 2, 1, 1, 2, 1, 2, 1, 1, 2, 1, 1, 2, 1, 2, 1, 1, 2, 1, 2, 1, 1, 2, 1, 1, 2, 1, 2, 1, 1, 2, 1, 2, 1, 1, 2, 1, 1, 2, 1, 2, 1, 1, 2, 1, 2, 1, 1, 2, 1, 1, 2, 1, 2, 1, 1, 2, 1, 2, 1, 1, 2, 1, 1, 2, 1, 2, 1, 1, 2, 1, 2, 1, 1, 2, 1, 1, 2, 1, 2, 1, 1, 2, 1, 2, 1, 1, 2, 1, 1, 2, 1, 2, 1, 1, 2, 1, 1]) of length 295 after prefixing the suffix with 0 times the current s.m.p.Increase the value of the `max_smp_length` keyword argument to go further.\n",
      "Depth 296: [2023] points, 8 living leaves...\n",
      "Depth 297: [2031] points, 8 living leaves...\n",
      "\u001b[34m\u001b[1mNew candidate s.m.p. found\u001b[22m\u001b[39m because ⟨v_6*, v⟩ - 1 = 2.0085165552963247e-7 > 1.0e-9:\n",
      "\u001b[31m\u001b[1maborting\u001b[22m\u001b[39m with smp candidate PSW(1.4092437471109212, [2, 1, 1, 2, 1, 1, 2, 1, 2, 1, 1, 2, 1, 2, 1, 1, 2, 1, 1, 2, 1, 2, 1, 1, 2, 1, 2, 1, 1, 2, 1, 1, 2, 1, 2, 1, 1, 2, 1, 2, 1, 1, 2, 1, 1, 2, 1, 2, 1, 1, 2, 1, 2, 1, 1, 2, 1, 1, 2, 1, 2, 1, 1, 2, 1, 2, 1, 1, 2, 1, 1, 2, 1, 2, 1, 1, 2, 1, 2, 1, 1, 2, 1, 1, 2, 1, 2, 1, 1, 2, 1, 2, 1, 1, 2, 1, 1, 2, 1, 2, 1, 1, 2, 1, 2, 1, 1, 2, 1, 1, 2, 1, 2, 1, 1, 2, 1, 2, 1, 1, 2, 1, 1, 2, 1, 2, 1, 1, 2, 1, 2, 1, 1, 2, 1, 1, 2, 1, 2, 1, 1, 2, 1, 2, 1, 1, 2, 1, 1, 2, 1, 2, 1, 1, 2, 1, 2, 1, 1, 2, 1, 1, 2, 1, 2, 1, 1, 2, 1, 2, 1, 1, 2, 1, 1, 2, 1, 2, 1, 1, 2, 1, 2, 1, 1, 2, 1, 1, 2, 1, 2, 1, 1, 2, 1, 2, 1, 1, 2, 1, 1, 2, 1, 2, 1, 1, 2, 1, 2, 1, 1, 2, 1, 1, 2, 1, 2, 1, 1, 2, 1, 2, 1, 1, 2, 1, 1, 2, 1, 2, 1, 1, 2, 1, 2, 1, 1, 2, 1, 1, 2, 1, 2, 1, 1, 2, 1, 2, 1, 1, 2, 1, 1, 2, 1, 2, 1, 1, 2, 1, 2, 1, 1, 2, 1, 1, 2, 1, 2, 1, 1, 2, 1, 2, 1, 1, 2, 1, 1, 2, 1, 2, 1, 1, 2, 1, 2, 1, 1, 2, 1, 1, 2, 1, 2, 1, 1]) of length 297 after prefixing the suffix with 0 times the current s.m.p.Increase the value of the `max_smp_length` keyword argument to go further.\n",
      "Depth 298: [2039] points, 8 living leaves...\n",
      "\u001b[34m\u001b[1mNew candidate s.m.p. found\u001b[22m\u001b[39m because ⟨v_6*, v⟩ - 1 = 2.04936192682581e-7 > 1.0e-9:\n",
      "\u001b[31m\u001b[1maborting\u001b[22m\u001b[39m with smp candidate PSW(1.4092437561838798, [2, 1, 1, 2, 1, 1, 2, 1, 2, 1, 1, 2, 1, 1, 2, 1, 2, 1, 1, 2, 1, 2, 1, 1, 2, 1, 1, 2, 1, 2, 1, 1, 2, 1, 1, 2, 1, 2, 1, 1, 2, 1, 2, 1, 1, 2, 1, 1, 2, 1, 2, 1, 1, 2, 1, 1, 2, 1, 2, 1, 1, 2, 1, 2, 1, 1, 2, 1, 1, 2, 1, 2, 1, 1, 2, 1, 1, 2, 1, 2, 1, 1, 2, 1, 2, 1, 1, 2, 1, 1, 2, 1, 2, 1, 1, 2, 1, 2, 1, 1, 2, 1, 1, 2, 1, 2, 1, 1, 2, 1, 2, 1, 1, 2, 1, 1, 2, 1, 2, 1, 1, 2, 1, 2, 1, 1, 2, 1, 1, 2, 1, 2, 1, 1, 2, 1, 2, 1, 1, 2, 1, 1, 2, 1, 2, 1, 1, 2, 1, 2, 1, 1, 2, 1, 1, 2, 1, 2, 1, 1, 2, 1, 2, 1, 1, 2, 1, 1, 2, 1, 2, 1, 1, 2, 1, 2, 1, 1, 2, 1, 1, 2, 1, 2, 1, 1, 2, 1, 2, 1, 1, 2, 1, 1, 2, 1, 2, 1, 1, 2, 1, 2, 1, 1, 2, 1, 1, 2, 1, 2, 1, 1, 2, 1, 2, 1, 1, 2, 1, 1, 2, 1, 2, 1, 1, 2, 1, 2, 1, 1, 2, 1, 1, 2, 1, 2, 1, 1, 2, 1, 2, 1, 1, 2, 1, 1, 2, 1, 2, 1, 1, 2, 1, 2, 1, 1, 2, 1, 1, 2, 1, 2, 1, 1, 2, 1, 2, 1, 1, 2, 1, 1, 2, 1, 2, 1, 1, 2, 1, 2, 1, 1, 2, 1, 1, 2, 1, 2, 1, 1, 2, 1, 1, 2, 1, 2, 1, 1]) of length 298 after prefixing the suffix with 0 times the current s.m.p.Increase the value of the `max_smp_length` keyword argument to go further.\n"
     ]
    },
    {
     "name": "stdout",
     "output_type": "stream",
     "text": [
      "\u001b[34m\u001b[1mNew candidate s.m.p. found\u001b[22m\u001b[39m because ⟨v_6*, v⟩ - 1 = 0.000455783979611768 > 1.0e-9:\n",
      "\u001b[31m\u001b[1maborting\u001b[22m\u001b[39m with smp candidate PSW(1.4092400444221818, [2, 1, 1, 2, 1, 1, 2, 1, 2, 1, 1, 2, 1, 1, 2, 1, 2, 1, 1, 2, 1, 2, 1, 1, 2, 1, 1, 2, 1, 2, 1, 1, 2, 1, 1, 2, 1, 2, 1, 1, 2, 1, 2, 1, 1, 2, 1, 1, 2, 1, 2, 1, 1, 2, 1, 1, 2, 1, 2, 1, 1, 2, 1, 2, 1, 1, 2, 1, 1, 2, 1, 2, 1, 1, 2, 1, 1, 2, 1, 2, 1, 1, 2, 1, 2, 1, 1, 2, 1, 1, 2, 1, 2, 1, 1, 2, 1, 2, 1, 1, 2, 1, 1, 2, 1, 2, 1, 1, 2, 1, 2, 1, 1, 2, 1, 1, 2, 1, 2, 1, 1, 2, 1, 2, 1, 1, 2, 1, 1, 2, 1, 2, 1, 1, 2, 1, 2, 1, 1, 2, 1, 1, 2, 1, 2, 1, 1, 2, 1, 2, 1, 1, 2, 1, 1, 2, 1, 2, 1, 1, 2, 1, 2, 1, 1, 2, 1, 1, 2, 1, 2, 1, 1, 2, 1, 2, 1, 1, 2, 1, 1, 2, 1, 2, 1, 1, 2, 1, 2, 1, 1, 2, 1, 1, 2, 1, 2, 1, 1, 2, 1, 2, 1, 1, 2, 1, 1, 2, 1, 2, 1, 1, 2, 1, 2, 1, 1, 2, 1, 1, 2, 1, 2, 1, 1, 2, 1, 2, 1, 1, 2, 1, 1, 2, 1, 2, 1, 1, 2, 1, 2, 1, 1, 2, 1, 1, 2, 1, 2, 1, 1, 2, 1, 2, 1, 1, 2, 1, 1, 2, 1, 2, 1, 1, 2, 1, 2, 1, 1, 2, 1, 1, 2, 1, 2, 1, 1, 2, 1, 2, 1, 1, 2, 1, 1, 2, 1, 2, 1, 1, 2, 1, 2, 1, 1, 2, 1, 1]) of length 298 after prefixing the suffix with 0 times the current s.m.p.Increase the value of the `max_smp_length` keyword argument to go further.\n",
      "\u001b[34m\u001b[1mNew candidate s.m.p. found\u001b[22m\u001b[39m because ⟨v_6*, v⟩ - 1 = 0.00045611178793025786 > 1.0e-9:\n",
      "\u001b[31m\u001b[1maborting\u001b[22m\u001b[39m with smp candidate PSW(1.4092400416800106, [2, 1, 1, 2, 1, 1, 2, 1, 2, 1, 1, 2, 1, 1, 2, 1, 2, 1, 1, 2, 1, 2, 1, 1, 2, 1, 1, 2, 1, 2, 1, 1, 2, 1, 1, 2, 1, 2, 1, 1, 2, 1, 2, 1, 1, 2, 1, 1, 2, 1, 2, 1, 1, 2, 1, 1, 2, 1, 2, 1, 1, 2, 1, 2, 1, 1, 2, 1, 1, 2, 1, 2, 1, 1, 2, 1, 2, 1, 1, 2, 1, 1, 2, 1, 2, 1, 1, 2, 1, 2, 1, 1, 2, 1, 1, 2, 1, 2, 1, 1, 2, 1, 2, 1, 1, 2, 1, 1, 2, 1, 2, 1, 1, 2, 1, 2, 1, 1, 2, 1, 1, 2, 1, 2, 1, 1, 2, 1, 2, 1, 1, 2, 1, 1, 2, 1, 2, 1, 1, 2, 1, 2, 1, 1, 2, 1, 1, 2, 1, 2, 1, 1, 2, 1, 2, 1, 1, 2, 1, 1, 2, 1, 2, 1, 1, 2, 1, 2, 1, 1, 2, 1, 1, 2, 1, 2, 1, 1, 2, 1, 2, 1, 1, 2, 1, 1, 2, 1, 2, 1, 1, 2, 1, 2, 1, 1, 2, 1, 1, 2, 1, 2, 1, 1, 2, 1, 2, 1, 1, 2, 1, 1, 2, 1, 2, 1, 1, 2, 1, 2, 1, 1, 2, 1, 1, 2, 1, 2, 1, 1, 2, 1, 2, 1, 1, 2, 1, 1, 2, 1, 2, 1, 1, 2, 1, 2, 1, 1, 2, 1, 1, 2, 1, 2, 1, 1, 2, 1, 2, 1, 1, 2, 1, 1, 2, 1, 2, 1, 1, 2, 1, 2, 1, 1, 2, 1, 1, 2, 1, 2, 1, 1, 2, 1, 2, 1, 1, 2, 1, 1, 2, 1, 2, 1, 1, 2, 1, 1]) of length 298 after prefixing the suffix with 0 times the current s.m.p.Increase the value of the `max_smp_length` keyword argument to go further.\n",
      "Depth 299: [2047] points, 8 living leaves...\n",
      "Depth 300: [2055] points, 8 living leaves...\n",
      "\u001b[34m\u001b[1mNew candidate s.m.p. found\u001b[22m\u001b[39m because ⟨v_6*, v⟩ - 1 = 2.0290117319632373e-7 > 1.0e-9:\n",
      "\u001b[31m\u001b[1maborting\u001b[22m\u001b[39m with smp candidate PSW(1.4092437793171941, [2, 1, 1, 2, 1, 1, 2, 1, 2, 1, 1, 2, 1, 1, 2, 1, 2, 1, 1, 2, 1, 2, 1, 1, 2, 1, 1, 2, 1, 2, 1, 1, 2, 1, 1, 2, 1, 2, 1, 1, 2, 1, 2, 1, 1, 2, 1, 1, 2, 1, 2, 1, 1, 2, 1, 2, 1, 1, 2, 1, 1, 2, 1, 2, 1, 1, 2, 1, 2, 1, 1, 2, 1, 1, 2, 1, 2, 1, 1, 2, 1, 2, 1, 1, 2, 1, 1, 2, 1, 2, 1, 1, 2, 1, 2, 1, 1, 2, 1, 1, 2, 1, 2, 1, 1, 2, 1, 2, 1, 1, 2, 1, 1, 2, 1, 2, 1, 1, 2, 1, 2, 1, 1, 2, 1, 1, 2, 1, 2, 1, 1, 2, 1, 2, 1, 1, 2, 1, 1, 2, 1, 2, 1, 1, 2, 1, 2, 1, 1, 2, 1, 1, 2, 1, 2, 1, 1, 2, 1, 2, 1, 1, 2, 1, 1, 2, 1, 2, 1, 1, 2, 1, 2, 1, 1, 2, 1, 1, 2, 1, 2, 1, 1, 2, 1, 2, 1, 1, 2, 1, 1, 2, 1, 2, 1, 1, 2, 1, 2, 1, 1, 2, 1, 1, 2, 1, 2, 1, 1, 2, 1, 2, 1, 1, 2, 1, 1, 2, 1, 2, 1, 1, 2, 1, 2, 1, 1, 2, 1, 1, 2, 1, 2, 1, 1, 2, 1, 2, 1, 1, 2, 1, 1, 2, 1, 2, 1, 1, 2, 1, 2, 1, 1, 2, 1, 1, 2, 1, 2, 1, 1, 2, 1, 2, 1, 1, 2, 1, 1, 2, 1, 2, 1, 1, 2, 1, 2, 1, 1, 2, 1, 1, 2, 1, 2, 1, 1, 2, 1, 2, 1, 1, 2, 1, 1, 2, 1, 2, 1, 1]) of length 300 after prefixing the suffix with 0 times the current s.m.p.Increase the value of the `max_smp_length` keyword argument to go further.\n",
      "\u001b[34m\u001b[1mNew candidate s.m.p. found\u001b[22m\u001b[39m because ⟨v_6*, v⟩ - 1 = 2.0630224817352882e-7 > 1.0e-9:\n",
      "\u001b[31m\u001b[1maborting\u001b[22m\u001b[39m with smp candidate PSW(1.4092437792896804, [2, 1, 1, 2, 1, 1, 2, 1, 2, 1, 1, 2, 1, 1, 2, 1, 2, 1, 1, 2, 1, 2, 1, 1, 2, 1, 1, 2, 1, 2, 1, 1, 2, 1, 2, 1, 1, 2, 1, 1, 2, 1, 2, 1, 1, 2, 1, 2, 1, 1, 2, 1, 1, 2, 1, 2, 1, 1, 2, 1, 2, 1, 1, 2, 1, 1, 2, 1, 2, 1, 1, 2, 1, 2, 1, 1, 2, 1, 1, 2, 1, 2, 1, 1, 2, 1, 2, 1, 1, 2, 1, 1, 2, 1, 2, 1, 1, 2, 1, 2, 1, 1, 2, 1, 1, 2, 1, 2, 1, 1, 2, 1, 2, 1, 1, 2, 1, 1, 2, 1, 2, 1, 1, 2, 1, 2, 1, 1, 2, 1, 1, 2, 1, 2, 1, 1, 2, 1, 2, 1, 1, 2, 1, 1, 2, 1, 2, 1, 1, 2, 1, 2, 1, 1, 2, 1, 1, 2, 1, 2, 1, 1, 2, 1, 2, 1, 1, 2, 1, 1, 2, 1, 2, 1, 1, 2, 1, 2, 1, 1, 2, 1, 1, 2, 1, 2, 1, 1, 2, 1, 2, 1, 1, 2, 1, 1, 2, 1, 2, 1, 1, 2, 1, 2, 1, 1, 2, 1, 1, 2, 1, 2, 1, 1, 2, 1, 2, 1, 1, 2, 1, 1, 2, 1, 2, 1, 1, 2, 1, 2, 1, 1, 2, 1, 1, 2, 1, 2, 1, 1, 2, 1, 2, 1, 1, 2, 1, 1, 2, 1, 2, 1, 1, 2, 1, 2, 1, 1, 2, 1, 1, 2, 1, 2, 1, 1, 2, 1, 2, 1, 1, 2, 1, 1, 2, 1, 2, 1, 1, 2, 1, 2, 1, 1, 2, 1, 1, 2, 1, 2, 1, 1, 2, 1, 1, 2, 1, 2, 1, 1]) of length 300 after prefixing the suffix with 0 times the current s.m.p.Increase the value of the `max_smp_length` keyword argument to go further.\n",
      "\u001b[34m\u001b[1mNew candidate s.m.p. found\u001b[22m\u001b[39m because ⟨v_6*, v⟩ - 1 = 0.000455785346289872 > 1.0e-9:\n",
      "\u001b[31m\u001b[1maborting\u001b[22m\u001b[39m with smp candidate PSW(1.4092400922729675, [2, 1, 1, 2, 1, 1, 2, 1, 2, 1, 1, 2, 1, 1, 2, 1, 2, 1, 1, 2, 1, 2, 1, 1, 2, 1, 1, 2, 1, 2, 1, 1, 2, 1, 2, 1, 1, 2, 1, 1, 2, 1, 2, 1, 1, 2, 1, 2, 1, 1, 2, 1, 1, 2, 1, 2, 1, 1, 2, 1, 2, 1, 1, 2, 1, 1, 2, 1, 2, 1, 1, 2, 1, 2, 1, 1, 2, 1, 1, 2, 1, 2, 1, 1, 2, 1, 2, 1, 1, 2, 1, 1, 2, 1, 2, 1, 1, 2, 1, 2, 1, 1, 2, 1, 1, 2, 1, 2, 1, 1, 2, 1, 2, 1, 1, 2, 1, 1, 2, 1, 2, 1, 1, 2, 1, 2, 1, 1, 2, 1, 1, 2, 1, 2, 1, 1, 2, 1, 2, 1, 1, 2, 1, 1, 2, 1, 2, 1, 1, 2, 1, 2, 1, 1, 2, 1, 1, 2, 1, 2, 1, 1, 2, 1, 2, 1, 1, 2, 1, 1, 2, 1, 2, 1, 1, 2, 1, 2, 1, 1, 2, 1, 1, 2, 1, 2, 1, 1, 2, 1, 2, 1, 1, 2, 1, 1, 2, 1, 2, 1, 1, 2, 1, 2, 1, 1, 2, 1, 1, 2, 1, 2, 1, 1, 2, 1, 2, 1, 1, 2, 1, 1, 2, 1, 2, 1, 1, 2, 1, 2, 1, 1, 2, 1, 1, 2, 1, 2, 1, 1, 2, 1, 2, 1, 1, 2, 1, 1, 2, 1, 2, 1, 1, 2, 1, 2, 1, 1, 2, 1, 1, 2, 1, 2, 1, 1, 2, 1, 2, 1, 1, 2, 1, 1, 2, 1, 2, 1, 1, 2, 1, 2, 1, 1, 2, 1, 1, 2, 1, 2, 1, 1, 2, 1, 2, 1, 1, 2, 1, 1]) of length 300 after prefixing the suffix with 0 times the current s.m.p.Increase the value of the `max_smp_length` keyword argument to go further.\n",
      "\u001b[34m\u001b[1mNew candidate s.m.p. found\u001b[22m\u001b[39m because ⟨v_6*, v⟩ - 1 = 0.0004561131546085839 > 1.0e-9:\n",
      "\u001b[31m\u001b[1maborting\u001b[22m\u001b[39m with smp candidate PSW(1.4092400922729675, [2, 1, 1, 2, 1, 1, 2, 1, 2, 1, 1, 2, 1, 2, 1, 1, 2, 1, 1, 2, 1, 2, 1, 1, 2, 1, 2, 1, 1, 2, 1, 1, 2, 1, 2, 1, 1, 2, 1, 2, 1, 1, 2, 1, 1, 2, 1, 2, 1, 1, 2, 1, 2, 1, 1, 2, 1, 1, 2, 1, 2, 1, 1, 2, 1, 2, 1, 1, 2, 1, 1, 2, 1, 2, 1, 1, 2, 1, 2, 1, 1, 2, 1, 1, 2, 1, 2, 1, 1, 2, 1, 2, 1, 1, 2, 1, 1, 2, 1, 2, 1, 1, 2, 1, 2, 1, 1, 2, 1, 1, 2, 1, 2, 1, 1, 2, 1, 2, 1, 1, 2, 1, 1, 2, 1, 2, 1, 1, 2, 1, 2, 1, 1, 2, 1, 1, 2, 1, 2, 1, 1, 2, 1, 2, 1, 1, 2, 1, 1, 2, 1, 2, 1, 1, 2, 1, 2, 1, 1, 2, 1, 1, 2, 1, 2, 1, 1, 2, 1, 2, 1, 1, 2, 1, 1, 2, 1, 2, 1, 1, 2, 1, 2, 1, 1, 2, 1, 1, 2, 1, 2, 1, 1, 2, 1, 2, 1, 1, 2, 1, 1, 2, 1, 2, 1, 1, 2, 1, 2, 1, 1, 2, 1, 1, 2, 1, 2, 1, 1, 2, 1, 2, 1, 1, 2, 1, 1, 2, 1, 2, 1, 1, 2, 1, 2, 1, 1, 2, 1, 1, 2, 1, 2, 1, 1, 2, 1, 2, 1, 1, 2, 1, 1, 2, 1, 2, 1, 1, 2, 1, 2, 1, 1, 2, 1, 1, 2, 1, 2, 1, 1, 2, 1, 2, 1, 1, 2, 1, 1, 2, 1, 2, 1, 1, 2, 1, 2, 1, 1, 2, 1, 1, 2, 1, 2, 1, 1, 2, 1, 1]) of length 300 after prefixing the suffix with 0 times the current s.m.p.Increase the value of the `max_smp_length` keyword argument to go further.\n",
      "Depth 301: [2064] points, 9 living leaves...\n",
      "Depth 302: [2072] points, 8 living leaves...\n",
      "Depth 303: [2080] points, 8 living leaves...\n",
      "\u001b[34m\u001b[1mNew candidate s.m.p. found\u001b[22m\u001b[39m because ⟨v_6*, v⟩ - 1 = 2.0495068842052433e-7 > 1.0e-9:\n",
      "\u001b[31m\u001b[1maborting\u001b[22m\u001b[39m with smp candidate PSW(1.4092438134036995, [2, 1, 1, 2, 1, 1, 2, 1, 2, 1, 1, 2, 1, 1, 2, 1, 2, 1, 1, 2, 1, 2, 1, 1, 2, 1, 1, 2, 1, 2, 1, 1, 2, 1, 1, 2, 1, 2, 1, 1, 2, 1, 2, 1, 1, 2, 1, 1, 2, 1, 2, 1, 1, 2, 1, 1, 2, 1, 2, 1, 1, 2, 1, 2, 1, 1, 2, 1, 1, 2, 1, 2, 1, 1, 2, 1, 1, 2, 1, 2, 1, 1, 2, 1, 2, 1, 1, 2, 1, 1, 2, 1, 2, 1, 1, 2, 1, 2, 1, 1, 2, 1, 1, 2, 1, 2, 1, 1, 2, 1, 2, 1, 1, 2, 1, 1, 2, 1, 2, 1, 1, 2, 1, 2, 1, 1, 2, 1, 1, 2, 1, 2, 1, 1, 2, 1, 2, 1, 1, 2, 1, 1, 2, 1, 2, 1, 1, 2, 1, 2, 1, 1, 2, 1, 1, 2, 1, 2, 1, 1, 2, 1, 2, 1, 1, 2, 1, 1, 2, 1, 2, 1, 1, 2, 1, 2, 1, 1, 2, 1, 1, 2, 1, 2, 1, 1, 2, 1, 2, 1, 1, 2, 1, 1, 2, 1, 2, 1, 1, 2, 1, 2, 1, 1, 2, 1, 1, 2, 1, 2, 1, 1, 2, 1, 2, 1, 1, 2, 1, 1, 2, 1, 2, 1, 1, 2, 1, 2, 1, 1, 2, 1, 1, 2, 1, 2, 1, 1, 2, 1, 2, 1, 1, 2, 1, 1, 2, 1, 2, 1, 1, 2, 1, 2, 1, 1, 2, 1, 1, 2, 1, 2, 1, 1, 2, 1, 2, 1, 1, 2, 1, 1, 2, 1, 2, 1, 1, 2, 1, 2, 1, 1, 2, 1, 1, 2, 1, 2, 1, 1, 2, 1, 2, 1, 1, 2, 1, 1, 2, 1, 2, 1, 1]) of length 303 after prefixing the suffix with 0 times the current s.m.p.Increase the value of the `max_smp_length` keyword argument to go further.\n"
     ]
    },
    {
     "name": "stdout",
     "output_type": "stream",
     "text": [
      "\u001b[34m\u001b[1mNew candidate s.m.p. found\u001b[22m\u001b[39m because ⟨v_6*, v⟩ - 1 = 2.0835176561817548e-7 > 1.0e-9:\n",
      "\u001b[31m\u001b[1maborting\u001b[22m\u001b[39m with smp candidate PSW(1.4092438133764582, [2, 1, 1, 2, 1, 1, 2, 1, 2, 1, 1, 2, 1, 1, 2, 1, 2, 1, 1, 2, 1, 2, 1, 1, 2, 1, 1, 2, 1, 2, 1, 1, 2, 1, 1, 2, 1, 2, 1, 1, 2, 1, 2, 1, 1, 2, 1, 1, 2, 1, 2, 1, 1, 2, 1, 1, 2, 1, 2, 1, 1, 2, 1, 2, 1, 1, 2, 1, 1, 2, 1, 2, 1, 1, 2, 1, 2, 1, 1, 2, 1, 1, 2, 1, 2, 1, 1, 2, 1, 2, 1, 1, 2, 1, 1, 2, 1, 2, 1, 1, 2, 1, 2, 1, 1, 2, 1, 1, 2, 1, 2, 1, 1, 2, 1, 2, 1, 1, 2, 1, 1, 2, 1, 2, 1, 1, 2, 1, 2, 1, 1, 2, 1, 1, 2, 1, 2, 1, 1, 2, 1, 2, 1, 1, 2, 1, 1, 2, 1, 2, 1, 1, 2, 1, 2, 1, 1, 2, 1, 1, 2, 1, 2, 1, 1, 2, 1, 2, 1, 1, 2, 1, 1, 2, 1, 2, 1, 1, 2, 1, 2, 1, 1, 2, 1, 1, 2, 1, 2, 1, 1, 2, 1, 2, 1, 1, 2, 1, 1, 2, 1, 2, 1, 1, 2, 1, 2, 1, 1, 2, 1, 1, 2, 1, 2, 1, 1, 2, 1, 2, 1, 1, 2, 1, 1, 2, 1, 2, 1, 1, 2, 1, 2, 1, 1, 2, 1, 1, 2, 1, 2, 1, 1, 2, 1, 2, 1, 1, 2, 1, 1, 2, 1, 2, 1, 1, 2, 1, 2, 1, 1, 2, 1, 1, 2, 1, 2, 1, 1, 2, 1, 2, 1, 1, 2, 1, 1, 2, 1, 2, 1, 1, 2, 1, 2, 1, 1, 2, 1, 1, 2, 1, 2, 1, 1, 2, 1, 1, 2, 1, 2, 1, 1]) of length 303 after prefixing the suffix with 0 times the current s.m.p.Increase the value of the `max_smp_length` keyword argument to go further.\n",
      "\u001b[34m\u001b[1mNew candidate s.m.p. found\u001b[22m\u001b[39m because ⟨v_6*, v⟩ - 1 = 0.0004557873967405701 > 1.0e-9:\n",
      "\u001b[31m\u001b[1maborting\u001b[22m\u001b[39m with smp candidate PSW(1.4092401628647258, [2, 1, 1, 2, 1, 1, 2, 1, 2, 1, 1, 2, 1, 1, 2, 1, 2, 1, 1, 2, 1, 2, 1, 1, 2, 1, 1, 2, 1, 2, 1, 1, 2, 1, 1, 2, 1, 2, 1, 1, 2, 1, 2, 1, 1, 2, 1, 1, 2, 1, 2, 1, 1, 2, 1, 1, 2, 1, 2, 1, 1, 2, 1, 2, 1, 1, 2, 1, 1, 2, 1, 2, 1, 1, 2, 1, 2, 1, 1, 2, 1, 1, 2, 1, 2, 1, 1, 2, 1, 2, 1, 1, 2, 1, 1, 2, 1, 2, 1, 1, 2, 1, 2, 1, 1, 2, 1, 1, 2, 1, 2, 1, 1, 2, 1, 2, 1, 1, 2, 1, 1, 2, 1, 2, 1, 1, 2, 1, 2, 1, 1, 2, 1, 1, 2, 1, 2, 1, 1, 2, 1, 2, 1, 1, 2, 1, 1, 2, 1, 2, 1, 1, 2, 1, 2, 1, 1, 2, 1, 1, 2, 1, 2, 1, 1, 2, 1, 2, 1, 1, 2, 1, 1, 2, 1, 2, 1, 1, 2, 1, 2, 1, 1, 2, 1, 1, 2, 1, 2, 1, 1, 2, 1, 2, 1, 1, 2, 1, 1, 2, 1, 2, 1, 1, 2, 1, 2, 1, 1, 2, 1, 1, 2, 1, 2, 1, 1, 2, 1, 2, 1, 1, 2, 1, 1, 2, 1, 2, 1, 1, 2, 1, 2, 1, 1, 2, 1, 1, 2, 1, 2, 1, 1, 2, 1, 2, 1, 1, 2, 1, 1, 2, 1, 2, 1, 1, 2, 1, 2, 1, 1, 2, 1, 1, 2, 1, 2, 1, 1, 2, 1, 2, 1, 1, 2, 1, 1, 2, 1, 2, 1, 1, 2, 1, 2, 1, 1, 2, 1, 1, 2, 1, 2, 1, 1, 2, 1, 2, 1, 1, 2, 1, 1]) of length 303 after prefixing the suffix with 0 times the current s.m.p.Increase the value of the `max_smp_length` keyword argument to go further.\n",
      "\u001b[34m\u001b[1mNew candidate s.m.p. found\u001b[22m\u001b[39m because ⟨v_6*, v⟩ - 1 = 0.0004561152050606143 > 1.0e-9:\n",
      "\u001b[31m\u001b[1maborting\u001b[22m\u001b[39m with smp candidate PSW(1.4092401601678046, [2, 1, 1, 2, 1, 1, 2, 1, 2, 1, 1, 2, 1, 1, 2, 1, 2, 1, 1, 2, 1, 2, 1, 1, 2, 1, 1, 2, 1, 2, 1, 1, 2, 1, 1, 2, 1, 2, 1, 1, 2, 1, 2, 1, 1, 2, 1, 1, 2, 1, 2, 1, 1, 2, 1, 2, 1, 1, 2, 1, 1, 2, 1, 2, 1, 1, 2, 1, 2, 1, 1, 2, 1, 1, 2, 1, 2, 1, 1, 2, 1, 2, 1, 1, 2, 1, 1, 2, 1, 2, 1, 1, 2, 1, 2, 1, 1, 2, 1, 1, 2, 1, 2, 1, 1, 2, 1, 2, 1, 1, 2, 1, 1, 2, 1, 2, 1, 1, 2, 1, 2, 1, 1, 2, 1, 1, 2, 1, 2, 1, 1, 2, 1, 2, 1, 1, 2, 1, 1, 2, 1, 2, 1, 1, 2, 1, 2, 1, 1, 2, 1, 1, 2, 1, 2, 1, 1, 2, 1, 2, 1, 1, 2, 1, 1, 2, 1, 2, 1, 1, 2, 1, 2, 1, 1, 2, 1, 1, 2, 1, 2, 1, 1, 2, 1, 2, 1, 1, 2, 1, 1, 2, 1, 2, 1, 1, 2, 1, 2, 1, 1, 2, 1, 1, 2, 1, 2, 1, 1, 2, 1, 2, 1, 1, 2, 1, 1, 2, 1, 2, 1, 1, 2, 1, 2, 1, 1, 2, 1, 1, 2, 1, 2, 1, 1, 2, 1, 2, 1, 1, 2, 1, 1, 2, 1, 2, 1, 1, 2, 1, 2, 1, 1, 2, 1, 1, 2, 1, 2, 1, 1, 2, 1, 2, 1, 1, 2, 1, 1, 2, 1, 2, 1, 1, 2, 1, 2, 1, 1, 2, 1, 1, 2, 1, 2, 1, 1, 2, 1, 2, 1, 1, 2, 1, 1, 2, 1, 2, 1, 1, 2, 1, 1]) of length 303 after prefixing the suffix with 0 times the current s.m.p.Increase the value of the `max_smp_length` keyword argument to go further.\n",
      "Depth 304: [2088] points, 8 living leaves...\n",
      "Depth 305: [2096] points, 8 living leaves...\n",
      "\u001b[34m\u001b[1mNew candidate s.m.p. found\u001b[22m\u001b[39m because ⟨v_6*, v⟩ - 1 = 2.0631674391147214e-7 > 1.0e-9:\n",
      "\u001b[31m\u001b[1maborting\u001b[22m\u001b[39m with smp candidate PSW(1.4092438357555055, [2, 1, 1, 2, 1, 1, 2, 1, 2, 1, 1, 2, 1, 1, 2, 1, 2, 1, 1, 2, 1, 2, 1, 1, 2, 1, 1, 2, 1, 2, 1, 1, 2, 1, 2, 1, 1, 2, 1, 1, 2, 1, 2, 1, 1, 2, 1, 2, 1, 1, 2, 1, 1, 2, 1, 2, 1, 1, 2, 1, 2, 1, 1, 2, 1, 1, 2, 1, 2, 1, 1, 2, 1, 2, 1, 1, 2, 1, 1, 2, 1, 2, 1, 1, 2, 1, 2, 1, 1, 2, 1, 1, 2, 1, 2, 1, 1, 2, 1, 2, 1, 1, 2, 1, 1, 2, 1, 2, 1, 1, 2, 1, 2, 1, 1, 2, 1, 1, 2, 1, 2, 1, 1, 2, 1, 2, 1, 1, 2, 1, 1, 2, 1, 2, 1, 1, 2, 1, 2, 1, 1, 2, 1, 1, 2, 1, 2, 1, 1, 2, 1, 2, 1, 1, 2, 1, 1, 2, 1, 2, 1, 1, 2, 1, 2, 1, 1, 2, 1, 1, 2, 1, 2, 1, 1, 2, 1, 2, 1, 1, 2, 1, 1, 2, 1, 2, 1, 1, 2, 1, 2, 1, 1, 2, 1, 1, 2, 1, 2, 1, 1, 2, 1, 2, 1, 1, 2, 1, 1, 2, 1, 2, 1, 1, 2, 1, 2, 1, 1, 2, 1, 1, 2, 1, 2, 1, 1, 2, 1, 2, 1, 1, 2, 1, 1, 2, 1, 2, 1, 1, 2, 1, 2, 1, 1, 2, 1, 1, 2, 1, 2, 1, 1, 2, 1, 2, 1, 1, 2, 1, 1, 2, 1, 2, 1, 1, 2, 1, 2, 1, 1, 2, 1, 1, 2, 1, 2, 1, 1, 2, 1, 2, 1, 1, 2, 1, 1, 2, 1, 2, 1, 1, 2, 1, 2, 1, 1, 2, 1, 1, 2, 1, 2, 1, 1]) of length 305 after prefixing the suffix with 0 times the current s.m.p.Increase the value of the `max_smp_length` keyword argument to go further.\n",
      "\u001b[34m\u001b[1mNew candidate s.m.p. found\u001b[22m\u001b[39m because ⟨v_6*, v⟩ - 1 = 2.097178208870787e-7 > 1.0e-9:\n",
      "\u001b[31m\u001b[1maborting\u001b[22m\u001b[39m with smp candidate PSW(1.4092438382299126, [2, 1, 1, 2, 1, 1, 2, 1, 2, 1, 1, 2, 1, 2, 1, 1, 2, 1, 1, 2, 1, 2, 1, 1, 2, 1, 2, 1, 1, 2, 1, 1, 2, 1, 2, 1, 1, 2, 1, 2, 1, 1, 2, 1, 1, 2, 1, 2, 1, 1, 2, 1, 2, 1, 1, 2, 1, 1, 2, 1, 2, 1, 1, 2, 1, 2, 1, 1, 2, 1, 1, 2, 1, 2, 1, 1, 2, 1, 2, 1, 1, 2, 1, 1, 2, 1, 2, 1, 1, 2, 1, 2, 1, 1, 2, 1, 1, 2, 1, 2, 1, 1, 2, 1, 2, 1, 1, 2, 1, 1, 2, 1, 2, 1, 1, 2, 1, 2, 1, 1, 2, 1, 1, 2, 1, 2, 1, 1, 2, 1, 2, 1, 1, 2, 1, 1, 2, 1, 2, 1, 1, 2, 1, 2, 1, 1, 2, 1, 1, 2, 1, 2, 1, 1, 2, 1, 2, 1, 1, 2, 1, 1, 2, 1, 2, 1, 1, 2, 1, 2, 1, 1, 2, 1, 1, 2, 1, 2, 1, 1, 2, 1, 2, 1, 1, 2, 1, 1, 2, 1, 2, 1, 1, 2, 1, 2, 1, 1, 2, 1, 1, 2, 1, 2, 1, 1, 2, 1, 2, 1, 1, 2, 1, 1, 2, 1, 2, 1, 1, 2, 1, 2, 1, 1, 2, 1, 1, 2, 1, 2, 1, 1, 2, 1, 2, 1, 1, 2, 1, 1, 2, 1, 2, 1, 1, 2, 1, 2, 1, 1, 2, 1, 1, 2, 1, 2, 1, 1, 2, 1, 2, 1, 1, 2, 1, 1, 2, 1, 2, 1, 1, 2, 1, 2, 1, 1, 2, 1, 1, 2, 1, 2, 1, 1, 2, 1, 2, 1, 1, 2, 1, 1, 2, 1, 2, 1, 1, 2, 1, 1, 2, 1, 2, 1, 1]) of length 305 after prefixing the suffix with 0 times the current s.m.p.Increase the value of the `max_smp_length` keyword argument to go further.\n",
      "\u001b[34m\u001b[1mNew candidate s.m.p. found\u001b[22m\u001b[39m because ⟨v_6*, v⟩ - 1 = 0.00045578876341867414 > 1.0e-9:\n",
      "\u001b[31m\u001b[1maborting\u001b[22m\u001b[39m with smp candidate PSW(1.4092402118335103, [2, 1, 1, 2, 1, 1, 2, 1, 2, 1, 1, 2, 1, 2, 1, 1, 2, 1, 1, 2, 1, 2, 1, 1, 2, 1, 2, 1, 1, 2, 1, 1, 2, 1, 2, 1, 1, 2, 1, 2, 1, 1, 2, 1, 1, 2, 1, 2, 1, 1, 2, 1, 2, 1, 1, 2, 1, 1, 2, 1, 2, 1, 1, 2, 1, 2, 1, 1, 2, 1, 1, 2, 1, 2, 1, 1, 2, 1, 2, 1, 1, 2, 1, 1, 2, 1, 2, 1, 1, 2, 1, 2, 1, 1, 2, 1, 1, 2, 1, 2, 1, 1, 2, 1, 2, 1, 1, 2, 1, 1, 2, 1, 2, 1, 1, 2, 1, 2, 1, 1, 2, 1, 1, 2, 1, 2, 1, 1, 2, 1, 2, 1, 1, 2, 1, 1, 2, 1, 2, 1, 1, 2, 1, 2, 1, 1, 2, 1, 1, 2, 1, 2, 1, 1, 2, 1, 2, 1, 1, 2, 1, 1, 2, 1, 2, 1, 1, 2, 1, 2, 1, 1, 2, 1, 1, 2, 1, 2, 1, 1, 2, 1, 2, 1, 1, 2, 1, 1, 2, 1, 2, 1, 1, 2, 1, 2, 1, 1, 2, 1, 1, 2, 1, 2, 1, 1, 2, 1, 2, 1, 1, 2, 1, 1, 2, 1, 2, 1, 1, 2, 1, 2, 1, 1, 2, 1, 1, 2, 1, 2, 1, 1, 2, 1, 2, 1, 1, 2, 1, 1, 2, 1, 2, 1, 1, 2, 1, 2, 1, 1, 2, 1, 1, 2, 1, 2, 1, 1, 2, 1, 2, 1, 1, 2, 1, 1, 2, 1, 2, 1, 1, 2, 1, 2, 1, 1, 2, 1, 1, 2, 1, 2, 1, 1, 2, 1, 2, 1, 1, 2, 1, 1, 2, 1, 2, 1, 1, 2, 1, 2, 1, 1, 2, 1, 1]) of length 305 after prefixing the suffix with 0 times the current s.m.p.Increase the value of the `max_smp_length` keyword argument to go further.\n",
      "Depth 306: [2104] points, 8 living leaves...\n",
      "\u001b[34m\u001b[1mNew candidate s.m.p. found\u001b[22m\u001b[39m because ⟨v_6*, v⟩ - 1 = 0.0004561172555102022 > 1.0e-9:\n",
      "\u001b[31m\u001b[1maborting\u001b[22m\u001b[39m with smp candidate PSW(1.4092402294018547, [2, 1, 1, 2, 1, 1, 2, 1, 2, 1, 1, 2, 1, 1, 2, 1, 2, 1, 1, 2, 1, 2, 1, 1, 2, 1, 1, 2, 1, 2, 1, 1, 2, 1, 1, 2, 1, 2, 1, 1, 2, 1, 2, 1, 1, 2, 1, 1, 2, 1, 2, 1, 1, 2, 1, 1, 2, 1, 2, 1, 1, 2, 1, 2, 1, 1, 2, 1, 1, 2, 1, 2, 1, 1, 2, 1, 1, 2, 1, 2, 1, 1, 2, 1, 2, 1, 1, 2, 1, 1, 2, 1, 2, 1, 1, 2, 1, 2, 1, 1, 2, 1, 1, 2, 1, 2, 1, 1, 2, 1, 2, 1, 1, 2, 1, 1, 2, 1, 2, 1, 1, 2, 1, 2, 1, 1, 2, 1, 1, 2, 1, 2, 1, 1, 2, 1, 2, 1, 1, 2, 1, 1, 2, 1, 2, 1, 1, 2, 1, 2, 1, 1, 2, 1, 1, 2, 1, 2, 1, 1, 2, 1, 2, 1, 1, 2, 1, 1, 2, 1, 2, 1, 1, 2, 1, 2, 1, 1, 2, 1, 1, 2, 1, 2, 1, 1, 2, 1, 2, 1, 1, 2, 1, 1, 2, 1, 2, 1, 1, 2, 1, 2, 1, 1, 2, 1, 1, 2, 1, 2, 1, 1, 2, 1, 2, 1, 1, 2, 1, 1, 2, 1, 2, 1, 1, 2, 1, 2, 1, 1, 2, 1, 1, 2, 1, 2, 1, 1, 2, 1, 2, 1, 1, 2, 1, 1, 2, 1, 2, 1, 1, 2, 1, 2, 1, 1, 2, 1, 1, 2, 1, 2, 1, 1, 2, 1, 2, 1, 1, 2, 1, 1, 2, 1, 2, 1, 1, 2, 1, 2, 1, 1, 2, 1, 1, 2, 1, 2, 1, 1, 2, 1, 2, 1, 1, 2, 1, 1, 2, 1, 2, 1, 1, 2, 1, 1]) of length 306 after prefixing the suffix with 0 times the current s.m.p.Increase the value of the `max_smp_length` keyword argument to go further.\n"
     ]
    },
    {
     "name": "stdout",
     "output_type": "stream",
     "text": [
      "Depth 307: [2112] points, 8 living leaves...\n",
      "Depth 308: [2120] points, 8 living leaves...\n",
      "\u001b[34m\u001b[1mNew candidate s.m.p. found\u001b[22m\u001b[39m because ⟨v_6*, v⟩ - 1 = 2.083662611340742e-7 > 1.0e-9:\n",
      "\u001b[31m\u001b[1maborting\u001b[22m\u001b[39m with smp candidate PSW(1.4092438687389361, [2, 1, 1, 2, 1, 1, 2, 1, 2, 1, 1, 2, 1, 1, 2, 1, 2, 1, 1, 2, 1, 2, 1, 1, 2, 1, 1, 2, 1, 2, 1, 1, 2, 1, 1, 2, 1, 2, 1, 1, 2, 1, 2, 1, 1, 2, 1, 1, 2, 1, 2, 1, 1, 2, 1, 1, 2, 1, 2, 1, 1, 2, 1, 2, 1, 1, 2, 1, 1, 2, 1, 2, 1, 1, 2, 1, 2, 1, 1, 2, 1, 1, 2, 1, 2, 1, 1, 2, 1, 2, 1, 1, 2, 1, 1, 2, 1, 2, 1, 1, 2, 1, 2, 1, 1, 2, 1, 1, 2, 1, 2, 1, 1, 2, 1, 2, 1, 1, 2, 1, 1, 2, 1, 2, 1, 1, 2, 1, 2, 1, 1, 2, 1, 1, 2, 1, 2, 1, 1, 2, 1, 2, 1, 1, 2, 1, 1, 2, 1, 2, 1, 1, 2, 1, 2, 1, 1, 2, 1, 1, 2, 1, 2, 1, 1, 2, 1, 2, 1, 1, 2, 1, 1, 2, 1, 2, 1, 1, 2, 1, 2, 1, 1, 2, 1, 1, 2, 1, 2, 1, 1, 2, 1, 2, 1, 1, 2, 1, 1, 2, 1, 2, 1, 1, 2, 1, 2, 1, 1, 2, 1, 1, 2, 1, 2, 1, 1, 2, 1, 2, 1, 1, 2, 1, 1, 2, 1, 2, 1, 1, 2, 1, 2, 1, 1, 2, 1, 1, 2, 1, 2, 1, 1, 2, 1, 2, 1, 1, 2, 1, 1, 2, 1, 2, 1, 1, 2, 1, 2, 1, 1, 2, 1, 1, 2, 1, 2, 1, 1, 2, 1, 2, 1, 1, 2, 1, 1, 2, 1, 2, 1, 1, 2, 1, 2, 1, 1, 2, 1, 1, 2, 1, 2, 1, 1, 2, 1, 2, 1, 1, 2, 1, 1, 2, 1, 2, 1, 1]) of length 308 after prefixing the suffix with 0 times the current s.m.p.Increase the value of the `max_smp_length` keyword argument to go further.\n",
      "\u001b[34m\u001b[1mNew candidate s.m.p. found\u001b[22m\u001b[39m because ⟨v_6*, v⟩ - 1 = 2.1176733855376995e-7 > 1.0e-9:\n",
      "\u001b[31m\u001b[1maborting\u001b[22m\u001b[39m with smp candidate PSW(1.409243868712137, [2, 1, 1, 2, 1, 1, 2, 1, 2, 1, 1, 2, 1, 1, 2, 1, 2, 1, 1, 2, 1, 2, 1, 1, 2, 1, 1, 2, 1, 2, 1, 1, 2, 1, 1, 2, 1, 2, 1, 1, 2, 1, 2, 1, 1, 2, 1, 1, 2, 1, 2, 1, 1, 2, 1, 2, 1, 1, 2, 1, 1, 2, 1, 2, 1, 1, 2, 1, 2, 1, 1, 2, 1, 1, 2, 1, 2, 1, 1, 2, 1, 2, 1, 1, 2, 1, 1, 2, 1, 2, 1, 1, 2, 1, 2, 1, 1, 2, 1, 1, 2, 1, 2, 1, 1, 2, 1, 2, 1, 1, 2, 1, 1, 2, 1, 2, 1, 1, 2, 1, 2, 1, 1, 2, 1, 1, 2, 1, 2, 1, 1, 2, 1, 2, 1, 1, 2, 1, 1, 2, 1, 2, 1, 1, 2, 1, 2, 1, 1, 2, 1, 1, 2, 1, 2, 1, 1, 2, 1, 2, 1, 1, 2, 1, 1, 2, 1, 2, 1, 1, 2, 1, 2, 1, 1, 2, 1, 1, 2, 1, 2, 1, 1, 2, 1, 2, 1, 1, 2, 1, 1, 2, 1, 2, 1, 1, 2, 1, 2, 1, 1, 2, 1, 1, 2, 1, 2, 1, 1, 2, 1, 2, 1, 1, 2, 1, 1, 2, 1, 2, 1, 1, 2, 1, 2, 1, 1, 2, 1, 1, 2, 1, 2, 1, 1, 2, 1, 2, 1, 1, 2, 1, 1, 2, 1, 2, 1, 1, 2, 1, 2, 1, 1, 2, 1, 1, 2, 1, 2, 1, 1, 2, 1, 2, 1, 1, 2, 1, 1, 2, 1, 2, 1, 1, 2, 1, 2, 1, 1, 2, 1, 1, 2, 1, 2, 1, 1, 2, 1, 2, 1, 1, 2, 1, 1, 2, 1, 2, 1, 1, 2, 1, 1, 2, 1, 2, 1, 1]) of length 308 after prefixing the suffix with 0 times the current s.m.p.Increase the value of the `max_smp_length` keyword argument to go further.\n",
      "\u001b[34m\u001b[1mNew candidate s.m.p. found\u001b[22m\u001b[39m because ⟨v_6*, v⟩ - 1 = 0.0004557908138700384 > 1.0e-9:\n",
      "\u001b[31m\u001b[1maborting\u001b[22m\u001b[39m with smp candidate PSW(1.409240277461742, [2, 1, 1, 2, 1, 1, 2, 1, 2, 1, 1, 2, 1, 1, 2, 1, 2, 1, 1, 2, 1, 2, 1, 1, 2, 1, 1, 2, 1, 2, 1, 1, 2, 1, 1, 2, 1, 2, 1, 1, 2, 1, 2, 1, 1, 2, 1, 1, 2, 1, 2, 1, 1, 2, 1, 2, 1, 1, 2, 1, 1, 2, 1, 2, 1, 1, 2, 1, 2, 1, 1, 2, 1, 1, 2, 1, 2, 1, 1, 2, 1, 2, 1, 1, 2, 1, 1, 2, 1, 2, 1, 1, 2, 1, 2, 1, 1, 2, 1, 1, 2, 1, 2, 1, 1, 2, 1, 2, 1, 1, 2, 1, 1, 2, 1, 2, 1, 1, 2, 1, 2, 1, 1, 2, 1, 1, 2, 1, 2, 1, 1, 2, 1, 2, 1, 1, 2, 1, 1, 2, 1, 2, 1, 1, 2, 1, 2, 1, 1, 2, 1, 1, 2, 1, 2, 1, 1, 2, 1, 2, 1, 1, 2, 1, 1, 2, 1, 2, 1, 1, 2, 1, 2, 1, 1, 2, 1, 1, 2, 1, 2, 1, 1, 2, 1, 2, 1, 1, 2, 1, 1, 2, 1, 2, 1, 1, 2, 1, 2, 1, 1, 2, 1, 1, 2, 1, 2, 1, 1, 2, 1, 2, 1, 1, 2, 1, 1, 2, 1, 2, 1, 1, 2, 1, 2, 1, 1, 2, 1, 1, 2, 1, 2, 1, 1, 2, 1, 2, 1, 1, 2, 1, 1, 2, 1, 2, 1, 1, 2, 1, 2, 1, 1, 2, 1, 1, 2, 1, 2, 1, 1, 2, 1, 2, 1, 1, 2, 1, 1, 2, 1, 2, 1, 1, 2, 1, 2, 1, 1, 2, 1, 1, 2, 1, 2, 1, 1, 2, 1, 2, 1, 1, 2, 1, 1, 2, 1, 2, 1, 1, 2, 1, 2, 1, 1, 2, 1, 1]) of length 308 after prefixing the suffix with 0 times the current s.m.p.Increase the value of the `max_smp_length` keyword argument to go further.\n",
      "\u001b[34m\u001b[1mNew candidate s.m.p. found\u001b[22m\u001b[39m because ⟨v_6*, v⟩ - 1 = 0.0004561186221885283 > 1.0e-9:\n",
      "\u001b[31m\u001b[1maborting\u001b[22m\u001b[39m with smp candidate PSW(1.4092402748086021, [2, 1, 1, 2, 1, 1, 2, 1, 2, 1, 1, 2, 1, 1, 2, 1, 2, 1, 1, 2, 1, 2, 1, 1, 2, 1, 1, 2, 1, 2, 1, 1, 2, 1, 2, 1, 1, 2, 1, 1, 2, 1, 2, 1, 1, 2, 1, 2, 1, 1, 2, 1, 1, 2, 1, 2, 1, 1, 2, 1, 2, 1, 1, 2, 1, 1, 2, 1, 2, 1, 1, 2, 1, 2, 1, 1, 2, 1, 1, 2, 1, 2, 1, 1, 2, 1, 2, 1, 1, 2, 1, 1, 2, 1, 2, 1, 1, 2, 1, 2, 1, 1, 2, 1, 1, 2, 1, 2, 1, 1, 2, 1, 2, 1, 1, 2, 1, 1, 2, 1, 2, 1, 1, 2, 1, 2, 1, 1, 2, 1, 1, 2, 1, 2, 1, 1, 2, 1, 2, 1, 1, 2, 1, 1, 2, 1, 2, 1, 1, 2, 1, 2, 1, 1, 2, 1, 1, 2, 1, 2, 1, 1, 2, 1, 2, 1, 1, 2, 1, 1, 2, 1, 2, 1, 1, 2, 1, 2, 1, 1, 2, 1, 1, 2, 1, 2, 1, 1, 2, 1, 2, 1, 1, 2, 1, 1, 2, 1, 2, 1, 1, 2, 1, 2, 1, 1, 2, 1, 1, 2, 1, 2, 1, 1, 2, 1, 2, 1, 1, 2, 1, 1, 2, 1, 2, 1, 1, 2, 1, 2, 1, 1, 2, 1, 1, 2, 1, 2, 1, 1, 2, 1, 2, 1, 1, 2, 1, 1, 2, 1, 2, 1, 1, 2, 1, 2, 1, 1, 2, 1, 1, 2, 1, 2, 1, 1, 2, 1, 2, 1, 1, 2, 1, 1, 2, 1, 2, 1, 1, 2, 1, 2, 1, 1, 2, 1, 1, 2, 1, 2, 1, 1, 2, 1, 2, 1, 1, 2, 1, 1, 2, 1, 2, 1, 1, 2, 1, 1]) of length 308 after prefixing the suffix with 0 times the current s.m.p.Increase the value of the `max_smp_length` keyword argument to go further.\n",
      "Depth 309: [2128] points, 8 living leaves...\n",
      "Depth 310: [2136] points, 8 living leaves...\n",
      "\u001b[34m\u001b[1mNew candidate s.m.p. found\u001b[22m\u001b[39m because ⟨v_6*, v⟩ - 1 = 2.0973231706911122e-7 > 1.0e-9:\n",
      "\u001b[31m\u001b[1maborting\u001b[22m\u001b[39m with smp candidate PSW(1.4092438928343507, [2, 1, 1, 2, 1, 1, 2, 1, 2, 1, 1, 2, 1, 2, 1, 1, 2, 1, 1, 2, 1, 2, 1, 1, 2, 1, 2, 1, 1, 2, 1, 1, 2, 1, 2, 1, 1, 2, 1, 2, 1, 1, 2, 1, 1, 2, 1, 2, 1, 1, 2, 1, 2, 1, 1, 2, 1, 1, 2, 1, 2, 1, 1, 2, 1, 2, 1, 1, 2, 1, 1, 2, 1, 2, 1, 1, 2, 1, 2, 1, 1, 2, 1, 1, 2, 1, 2, 1, 1, 2, 1, 2, 1, 1, 2, 1, 1, 2, 1, 2, 1, 1, 2, 1, 2, 1, 1, 2, 1, 1, 2, 1, 2, 1, 1, 2, 1, 2, 1, 1, 2, 1, 1, 2, 1, 2, 1, 1, 2, 1, 2, 1, 1, 2, 1, 1, 2, 1, 2, 1, 1, 2, 1, 2, 1, 1, 2, 1, 1, 2, 1, 2, 1, 1, 2, 1, 2, 1, 1, 2, 1, 1, 2, 1, 2, 1, 1, 2, 1, 2, 1, 1, 2, 1, 1, 2, 1, 2, 1, 1, 2, 1, 2, 1, 1, 2, 1, 1, 2, 1, 2, 1, 1, 2, 1, 2, 1, 1, 2, 1, 1, 2, 1, 2, 1, 1, 2, 1, 2, 1, 1, 2, 1, 1, 2, 1, 2, 1, 1, 2, 1, 2, 1, 1, 2, 1, 1, 2, 1, 2, 1, 1, 2, 1, 2, 1, 1, 2, 1, 1, 2, 1, 2, 1, 1, 2, 1, 2, 1, 1, 2, 1, 1, 2, 1, 2, 1, 1, 2, 1, 2, 1, 1, 2, 1, 1, 2, 1, 2, 1, 1, 2, 1, 2, 1, 1, 2, 1, 1, 2, 1, 2, 1, 1, 2, 1, 2, 1, 1, 2, 1, 1, 2, 1, 2, 1, 1, 2, 1, 2, 1, 1, 2, 1, 1, 2, 1, 2, 1, 1]) of length 310 after prefixing the suffix with 0 times the current s.m.p.Increase the value of the `max_smp_length` keyword argument to go further.\n",
      "Depth 311: [2144] points, 8 living leaves...\n",
      "\u001b[34m\u001b[1mNew candidate s.m.p. found\u001b[22m\u001b[39m because ⟨v_6*, v⟩ - 1 = 2.1381685355592595e-7 > 1.0e-9:\n",
      "\u001b[31m\u001b[1maborting\u001b[22m\u001b[39m with smp candidate PSW(1.4092439010594906, [2, 1, 1, 2, 1, 1, 2, 1, 2, 1, 1, 2, 1, 1, 2, 1, 2, 1, 1, 2, 1, 2, 1, 1, 2, 1, 1, 2, 1, 2, 1, 1, 2, 1, 1, 2, 1, 2, 1, 1, 2, 1, 2, 1, 1, 2, 1, 1, 2, 1, 2, 1, 1, 2, 1, 1, 2, 1, 2, 1, 1, 2, 1, 2, 1, 1, 2, 1, 1, 2, 1, 2, 1, 1, 2, 1, 1, 2, 1, 2, 1, 1, 2, 1, 2, 1, 1, 2, 1, 1, 2, 1, 2, 1, 1, 2, 1, 2, 1, 1, 2, 1, 1, 2, 1, 2, 1, 1, 2, 1, 2, 1, 1, 2, 1, 1, 2, 1, 2, 1, 1, 2, 1, 2, 1, 1, 2, 1, 1, 2, 1, 2, 1, 1, 2, 1, 2, 1, 1, 2, 1, 1, 2, 1, 2, 1, 1, 2, 1, 2, 1, 1, 2, 1, 1, 2, 1, 2, 1, 1, 2, 1, 2, 1, 1, 2, 1, 1, 2, 1, 2, 1, 1, 2, 1, 2, 1, 1, 2, 1, 1, 2, 1, 2, 1, 1, 2, 1, 2, 1, 1, 2, 1, 1, 2, 1, 2, 1, 1, 2, 1, 2, 1, 1, 2, 1, 1, 2, 1, 2, 1, 1, 2, 1, 2, 1, 1, 2, 1, 1, 2, 1, 2, 1, 1, 2, 1, 2, 1, 1, 2, 1, 1, 2, 1, 2, 1, 1, 2, 1, 2, 1, 1, 2, 1, 1, 2, 1, 2, 1, 1, 2, 1, 2, 1, 1, 2, 1, 1, 2, 1, 2, 1, 1, 2, 1, 2, 1, 1, 2, 1, 1, 2, 1, 2, 1, 1, 2, 1, 2, 1, 1, 2, 1, 1, 2, 1, 2, 1, 1, 2, 1, 2, 1, 1, 2, 1, 1, 2, 1, 2, 1, 1, 2, 1, 1, 2, 1, 2, 1, 1]) of length 311 after prefixing the suffix with 0 times the current s.m.p.Increase the value of the `max_smp_length` keyword argument to go further.\n",
      "\u001b[34m\u001b[1mNew candidate s.m.p. found\u001b[22m\u001b[39m because ⟨v_6*, v⟩ - 1 = 0.0004557928643187381 > 1.0e-9:\n",
      "\u001b[31m\u001b[1maborting\u001b[22m\u001b[39m with smp candidate PSW(1.4092403444512571, [2, 1, 1, 2, 1, 1, 2, 1, 2, 1, 1, 2, 1, 1, 2, 1, 2, 1, 1, 2, 1, 2, 1, 1, 2, 1, 1, 2, 1, 2, 1, 1, 2, 1, 1, 2, 1, 2, 1, 1, 2, 1, 2, 1, 1, 2, 1, 1, 2, 1, 2, 1, 1, 2, 1, 1, 2, 1, 2, 1, 1, 2, 1, 2, 1, 1, 2, 1, 1, 2, 1, 2, 1, 1, 2, 1, 1, 2, 1, 2, 1, 1, 2, 1, 2, 1, 1, 2, 1, 1, 2, 1, 2, 1, 1, 2, 1, 2, 1, 1, 2, 1, 1, 2, 1, 2, 1, 1, 2, 1, 2, 1, 1, 2, 1, 1, 2, 1, 2, 1, 1, 2, 1, 2, 1, 1, 2, 1, 1, 2, 1, 2, 1, 1, 2, 1, 2, 1, 1, 2, 1, 1, 2, 1, 2, 1, 1, 2, 1, 2, 1, 1, 2, 1, 1, 2, 1, 2, 1, 1, 2, 1, 2, 1, 1, 2, 1, 1, 2, 1, 2, 1, 1, 2, 1, 2, 1, 1, 2, 1, 1, 2, 1, 2, 1, 1, 2, 1, 2, 1, 1, 2, 1, 1, 2, 1, 2, 1, 1, 2, 1, 2, 1, 1, 2, 1, 1, 2, 1, 2, 1, 1, 2, 1, 2, 1, 1, 2, 1, 1, 2, 1, 2, 1, 1, 2, 1, 2, 1, 1, 2, 1, 1, 2, 1, 2, 1, 1, 2, 1, 2, 1, 1, 2, 1, 1, 2, 1, 2, 1, 1, 2, 1, 2, 1, 1, 2, 1, 1, 2, 1, 2, 1, 1, 2, 1, 2, 1, 1, 2, 1, 1, 2, 1, 2, 1, 1, 2, 1, 2, 1, 1, 2, 1, 1, 2, 1, 2, 1, 1, 2, 1, 2, 1, 1, 2, 1, 1, 2, 1, 2, 1, 1, 2, 1, 2, 1, 1, 2, 1, 1]) of length 311 after prefixing the suffix with 0 times the current s.m.p.Increase the value of the `max_smp_length` keyword argument to go further.\n"
     ]
    },
    {
     "name": "stdout",
     "output_type": "stream",
     "text": [
      "\u001b[34m\u001b[1mNew candidate s.m.p. found\u001b[22m\u001b[39m because ⟨v_6*, v⟩ - 1 = 0.0004561206726403366 > 1.0e-9:\n",
      "\u001b[31m\u001b[1maborting\u001b[22m\u001b[39m with smp candidate PSW(1.4092403418237098, [2, 1, 1, 2, 1, 1, 2, 1, 2, 1, 1, 2, 1, 1, 2, 1, 2, 1, 1, 2, 1, 2, 1, 1, 2, 1, 1, 2, 1, 2, 1, 1, 2, 1, 1, 2, 1, 2, 1, 1, 2, 1, 2, 1, 1, 2, 1, 1, 2, 1, 2, 1, 1, 2, 1, 1, 2, 1, 2, 1, 1, 2, 1, 2, 1, 1, 2, 1, 1, 2, 1, 2, 1, 1, 2, 1, 2, 1, 1, 2, 1, 1, 2, 1, 2, 1, 1, 2, 1, 2, 1, 1, 2, 1, 1, 2, 1, 2, 1, 1, 2, 1, 2, 1, 1, 2, 1, 1, 2, 1, 2, 1, 1, 2, 1, 2, 1, 1, 2, 1, 1, 2, 1, 2, 1, 1, 2, 1, 2, 1, 1, 2, 1, 1, 2, 1, 2, 1, 1, 2, 1, 2, 1, 1, 2, 1, 1, 2, 1, 2, 1, 1, 2, 1, 2, 1, 1, 2, 1, 1, 2, 1, 2, 1, 1, 2, 1, 2, 1, 1, 2, 1, 1, 2, 1, 2, 1, 1, 2, 1, 2, 1, 1, 2, 1, 1, 2, 1, 2, 1, 1, 2, 1, 2, 1, 1, 2, 1, 1, 2, 1, 2, 1, 1, 2, 1, 2, 1, 1, 2, 1, 1, 2, 1, 2, 1, 1, 2, 1, 2, 1, 1, 2, 1, 1, 2, 1, 2, 1, 1, 2, 1, 2, 1, 1, 2, 1, 1, 2, 1, 2, 1, 1, 2, 1, 2, 1, 1, 2, 1, 1, 2, 1, 2, 1, 1, 2, 1, 2, 1, 1, 2, 1, 1, 2, 1, 2, 1, 1, 2, 1, 2, 1, 1, 2, 1, 1, 2, 1, 2, 1, 1, 2, 1, 2, 1, 1, 2, 1, 1, 2, 1, 2, 1, 1, 2, 1, 2, 1, 1, 2, 1, 1, 2, 1, 2, 1, 1, 2, 1, 1]) of length 311 after prefixing the suffix with 0 times the current s.m.p.Increase the value of the `max_smp_length` keyword argument to go further.\n",
      "Depth 312: [2152] points, 8 living leaves...\n",
      "Depth 313: [2160] points, 8 living leaves...\n",
      "\u001b[34m\u001b[1mNew candidate s.m.p. found\u001b[22m\u001b[39m because ⟨v_6*, v⟩ - 1 = 2.1178183451375787e-7 > 1.0e-9:\n",
      "\u001b[31m\u001b[1maborting\u001b[22m\u001b[39m with smp candidate PSW(1.4092439223062758, [2, 1, 1, 2, 1, 1, 2, 1, 2, 1, 1, 2, 1, 1, 2, 1, 2, 1, 1, 2, 1, 2, 1, 1, 2, 1, 1, 2, 1, 2, 1, 1, 2, 1, 1, 2, 1, 2, 1, 1, 2, 1, 2, 1, 1, 2, 1, 1, 2, 1, 2, 1, 1, 2, 1, 2, 1, 1, 2, 1, 1, 2, 1, 2, 1, 1, 2, 1, 2, 1, 1, 2, 1, 1, 2, 1, 2, 1, 1, 2, 1, 2, 1, 1, 2, 1, 1, 2, 1, 2, 1, 1, 2, 1, 2, 1, 1, 2, 1, 1, 2, 1, 2, 1, 1, 2, 1, 2, 1, 1, 2, 1, 1, 2, 1, 2, 1, 1, 2, 1, 2, 1, 1, 2, 1, 1, 2, 1, 2, 1, 1, 2, 1, 2, 1, 1, 2, 1, 1, 2, 1, 2, 1, 1, 2, 1, 2, 1, 1, 2, 1, 1, 2, 1, 2, 1, 1, 2, 1, 2, 1, 1, 2, 1, 1, 2, 1, 2, 1, 1, 2, 1, 2, 1, 1, 2, 1, 1, 2, 1, 2, 1, 1, 2, 1, 2, 1, 1, 2, 1, 1, 2, 1, 2, 1, 1, 2, 1, 2, 1, 1, 2, 1, 1, 2, 1, 2, 1, 1, 2, 1, 2, 1, 1, 2, 1, 1, 2, 1, 2, 1, 1, 2, 1, 2, 1, 1, 2, 1, 1, 2, 1, 2, 1, 1, 2, 1, 2, 1, 1, 2, 1, 1, 2, 1, 2, 1, 1, 2, 1, 2, 1, 1, 2, 1, 1, 2, 1, 2, 1, 1, 2, 1, 2, 1, 1, 2, 1, 1, 2, 1, 2, 1, 1, 2, 1, 2, 1, 1, 2, 1, 1, 2, 1, 2, 1, 1, 2, 1, 2, 1, 1, 2, 1, 1, 2, 1, 2, 1, 1, 2, 1, 2, 1, 1, 2, 1, 1, 2, 1, 2, 1, 1]) of length 313 after prefixing the suffix with 0 times the current s.m.p.Increase the value of the `max_smp_length` keyword argument to go further.\n",
      "\u001b[34m\u001b[1mNew candidate s.m.p. found\u001b[22m\u001b[39m because ⟨v_6*, v⟩ - 1 = 2.1518290926891837e-7 > 1.0e-9:\n",
      "\u001b[31m\u001b[1maborting\u001b[22m\u001b[39m with smp candidate PSW(1.4092439222799047, [2, 1, 1, 2, 1, 1, 2, 1, 2, 1, 1, 2, 1, 1, 2, 1, 2, 1, 1, 2, 1, 2, 1, 1, 2, 1, 1, 2, 1, 2, 1, 1, 2, 1, 2, 1, 1, 2, 1, 1, 2, 1, 2, 1, 1, 2, 1, 2, 1, 1, 2, 1, 1, 2, 1, 2, 1, 1, 2, 1, 2, 1, 1, 2, 1, 1, 2, 1, 2, 1, 1, 2, 1, 2, 1, 1, 2, 1, 1, 2, 1, 2, 1, 1, 2, 1, 2, 1, 1, 2, 1, 1, 2, 1, 2, 1, 1, 2, 1, 2, 1, 1, 2, 1, 1, 2, 1, 2, 1, 1, 2, 1, 2, 1, 1, 2, 1, 1, 2, 1, 2, 1, 1, 2, 1, 2, 1, 1, 2, 1, 1, 2, 1, 2, 1, 1, 2, 1, 2, 1, 1, 2, 1, 1, 2, 1, 2, 1, 1, 2, 1, 2, 1, 1, 2, 1, 1, 2, 1, 2, 1, 1, 2, 1, 2, 1, 1, 2, 1, 1, 2, 1, 2, 1, 1, 2, 1, 2, 1, 1, 2, 1, 1, 2, 1, 2, 1, 1, 2, 1, 2, 1, 1, 2, 1, 1, 2, 1, 2, 1, 1, 2, 1, 2, 1, 1, 2, 1, 1, 2, 1, 2, 1, 1, 2, 1, 2, 1, 1, 2, 1, 1, 2, 1, 2, 1, 1, 2, 1, 2, 1, 1, 2, 1, 1, 2, 1, 2, 1, 1, 2, 1, 2, 1, 1, 2, 1, 1, 2, 1, 2, 1, 1, 2, 1, 2, 1, 1, 2, 1, 1, 2, 1, 2, 1, 1, 2, 1, 2, 1, 1, 2, 1, 1, 2, 1, 2, 1, 1, 2, 1, 2, 1, 1, 2, 1, 1, 2, 1, 2, 1, 1, 2, 1, 2, 1, 1, 2, 1, 1, 2, 1, 2, 1, 1, 2, 1, 1, 2, 1, 2, 1, 1]) of length 313 after prefixing the suffix with 0 times the current s.m.p.Increase the value of the `max_smp_length` keyword argument to go further.\n",
      "\u001b[34m\u001b[1mNew candidate s.m.p. found\u001b[22m\u001b[39m because ⟨v_6*, v⟩ - 1 = 0.0004557942309966201 > 1.0e-9:\n",
      "\u001b[31m\u001b[1maborting\u001b[22m\u001b[39m with smp candidate PSW(1.4092403883975209, [2, 1, 1, 2, 1, 1, 2, 1, 2, 1, 1, 2, 1, 1, 2, 1, 2, 1, 1, 2, 1, 2, 1, 1, 2, 1, 1, 2, 1, 2, 1, 1, 2, 1, 2, 1, 1, 2, 1, 1, 2, 1, 2, 1, 1, 2, 1, 2, 1, 1, 2, 1, 1, 2, 1, 2, 1, 1, 2, 1, 2, 1, 1, 2, 1, 1, 2, 1, 2, 1, 1, 2, 1, 2, 1, 1, 2, 1, 1, 2, 1, 2, 1, 1, 2, 1, 2, 1, 1, 2, 1, 1, 2, 1, 2, 1, 1, 2, 1, 2, 1, 1, 2, 1, 1, 2, 1, 2, 1, 1, 2, 1, 2, 1, 1, 2, 1, 1, 2, 1, 2, 1, 1, 2, 1, 2, 1, 1, 2, 1, 1, 2, 1, 2, 1, 1, 2, 1, 2, 1, 1, 2, 1, 1, 2, 1, 2, 1, 1, 2, 1, 2, 1, 1, 2, 1, 1, 2, 1, 2, 1, 1, 2, 1, 2, 1, 1, 2, 1, 1, 2, 1, 2, 1, 1, 2, 1, 2, 1, 1, 2, 1, 1, 2, 1, 2, 1, 1, 2, 1, 2, 1, 1, 2, 1, 1, 2, 1, 2, 1, 1, 2, 1, 2, 1, 1, 2, 1, 1, 2, 1, 2, 1, 1, 2, 1, 2, 1, 1, 2, 1, 1, 2, 1, 2, 1, 1, 2, 1, 2, 1, 1, 2, 1, 1, 2, 1, 2, 1, 1, 2, 1, 2, 1, 1, 2, 1, 1, 2, 1, 2, 1, 1, 2, 1, 2, 1, 1, 2, 1, 1, 2, 1, 2, 1, 1, 2, 1, 2, 1, 1, 2, 1, 1, 2, 1, 2, 1, 1, 2, 1, 2, 1, 1, 2, 1, 1, 2, 1, 2, 1, 1, 2, 1, 2, 1, 1, 2, 1, 1, 2, 1, 2, 1, 1, 2, 1, 2, 1, 1, 2, 1, 1]) of length 313 after prefixing the suffix with 0 times the current s.m.p.Increase the value of the `max_smp_length` keyword argument to go further.\n",
      "\u001b[34m\u001b[1mNew candidate s.m.p. found\u001b[22m\u001b[39m because ⟨v_6*, v⟩ - 1 = 0.00045612203931888473 > 1.0e-9:\n",
      "\u001b[31m\u001b[1maborting\u001b[22m\u001b[39m with smp candidate PSW(1.4092403883975209, [2, 1, 1, 2, 1, 1, 2, 1, 2, 1, 1, 2, 1, 2, 1, 1, 2, 1, 1, 2, 1, 2, 1, 1, 2, 1, 2, 1, 1, 2, 1, 1, 2, 1, 2, 1, 1, 2, 1, 2, 1, 1, 2, 1, 1, 2, 1, 2, 1, 1, 2, 1, 2, 1, 1, 2, 1, 1, 2, 1, 2, 1, 1, 2, 1, 2, 1, 1, 2, 1, 1, 2, 1, 2, 1, 1, 2, 1, 2, 1, 1, 2, 1, 1, 2, 1, 2, 1, 1, 2, 1, 2, 1, 1, 2, 1, 1, 2, 1, 2, 1, 1, 2, 1, 2, 1, 1, 2, 1, 1, 2, 1, 2, 1, 1, 2, 1, 2, 1, 1, 2, 1, 1, 2, 1, 2, 1, 1, 2, 1, 2, 1, 1, 2, 1, 1, 2, 1, 2, 1, 1, 2, 1, 2, 1, 1, 2, 1, 1, 2, 1, 2, 1, 1, 2, 1, 2, 1, 1, 2, 1, 1, 2, 1, 2, 1, 1, 2, 1, 2, 1, 1, 2, 1, 1, 2, 1, 2, 1, 1, 2, 1, 2, 1, 1, 2, 1, 1, 2, 1, 2, 1, 1, 2, 1, 2, 1, 1, 2, 1, 1, 2, 1, 2, 1, 1, 2, 1, 2, 1, 1, 2, 1, 1, 2, 1, 2, 1, 1, 2, 1, 2, 1, 1, 2, 1, 1, 2, 1, 2, 1, 1, 2, 1, 2, 1, 1, 2, 1, 1, 2, 1, 2, 1, 1, 2, 1, 2, 1, 1, 2, 1, 1, 2, 1, 2, 1, 1, 2, 1, 2, 1, 1, 2, 1, 1, 2, 1, 2, 1, 1, 2, 1, 2, 1, 1, 2, 1, 1, 2, 1, 2, 1, 1, 2, 1, 2, 1, 1, 2, 1, 1, 2, 1, 2, 1, 1, 2, 1, 2, 1, 1, 2, 1, 1, 2, 1, 2, 1, 1, 2, 1, 1]) of length 313 after prefixing the suffix with 0 times the current s.m.p.Increase the value of the `max_smp_length` keyword argument to go further.\n",
      "Depth 314: [2169] points, 9 living leaves...\n",
      "Depth 315: [2177] points, 8 living leaves...\n",
      "Depth 316: [2185] points, 8 living leaves...\n",
      "\u001b[34m\u001b[1mNew candidate s.m.p. found\u001b[22m\u001b[39m because ⟨v_6*, v⟩ - 1 = 2.1383134929386927e-7 > 1.0e-9:\n",
      "\u001b[31m\u001b[1maborting\u001b[22m\u001b[39m with smp candidate PSW(1.4092439536330001, [2, 1, 1, 2, 1, 1, 2, 1, 2, 1, 1, 2, 1, 1, 2, 1, 2, 1, 1, 2, 1, 2, 1, 1, 2, 1, 1, 2, 1, 2, 1, 1, 2, 1, 1, 2, 1, 2, 1, 1, 2, 1, 2, 1, 1, 2, 1, 1, 2, 1, 2, 1, 1, 2, 1, 1, 2, 1, 2, 1, 1, 2, 1, 2, 1, 1, 2, 1, 1, 2, 1, 2, 1, 1, 2, 1, 1, 2, 1, 2, 1, 1, 2, 1, 2, 1, 1, 2, 1, 1, 2, 1, 2, 1, 1, 2, 1, 2, 1, 1, 2, 1, 1, 2, 1, 2, 1, 1, 2, 1, 2, 1, 1, 2, 1, 1, 2, 1, 2, 1, 1, 2, 1, 2, 1, 1, 2, 1, 1, 2, 1, 2, 1, 1, 2, 1, 2, 1, 1, 2, 1, 1, 2, 1, 2, 1, 1, 2, 1, 2, 1, 1, 2, 1, 1, 2, 1, 2, 1, 1, 2, 1, 2, 1, 1, 2, 1, 1, 2, 1, 2, 1, 1, 2, 1, 2, 1, 1, 2, 1, 1, 2, 1, 2, 1, 1, 2, 1, 2, 1, 1, 2, 1, 1, 2, 1, 2, 1, 1, 2, 1, 2, 1, 1, 2, 1, 1, 2, 1, 2, 1, 1, 2, 1, 2, 1, 1, 2, 1, 1, 2, 1, 2, 1, 1, 2, 1, 2, 1, 1, 2, 1, 1, 2, 1, 2, 1, 1, 2, 1, 2, 1, 1, 2, 1, 1, 2, 1, 2, 1, 1, 2, 1, 2, 1, 1, 2, 1, 1, 2, 1, 2, 1, 1, 2, 1, 2, 1, 1, 2, 1, 1, 2, 1, 2, 1, 1, 2, 1, 2, 1, 1, 2, 1, 1, 2, 1, 2, 1, 1, 2, 1, 2, 1, 1, 2, 1, 1, 2, 1, 2, 1, 1, 2, 1, 2, 1, 1, 2, 1, 1, 2, 1, 2, 1, 1]) of length 316 after prefixing the suffix with 0 times the current s.m.p.Increase the value of the `max_smp_length` keyword argument to go further.\n",
      "\u001b[34m\u001b[1mNew candidate s.m.p. found\u001b[22m\u001b[39m because ⟨v_6*, v⟩ - 1 = 2.1723242649152041e-7 > 1.0e-9:\n",
      "\u001b[31m\u001b[1maborting\u001b[22m\u001b[39m with smp candidate PSW(1.4092439536068795, [2, 1, 1, 2, 1, 1, 2, 1, 2, 1, 1, 2, 1, 1, 2, 1, 2, 1, 1, 2, 1, 2, 1, 1, 2, 1, 1, 2, 1, 2, 1, 1, 2, 1, 1, 2, 1, 2, 1, 1, 2, 1, 2, 1, 1, 2, 1, 1, 2, 1, 2, 1, 1, 2, 1, 1, 2, 1, 2, 1, 1, 2, 1, 2, 1, 1, 2, 1, 1, 2, 1, 2, 1, 1, 2, 1, 2, 1, 1, 2, 1, 1, 2, 1, 2, 1, 1, 2, 1, 2, 1, 1, 2, 1, 1, 2, 1, 2, 1, 1, 2, 1, 2, 1, 1, 2, 1, 1, 2, 1, 2, 1, 1, 2, 1, 2, 1, 1, 2, 1, 1, 2, 1, 2, 1, 1, 2, 1, 2, 1, 1, 2, 1, 1, 2, 1, 2, 1, 1, 2, 1, 2, 1, 1, 2, 1, 1, 2, 1, 2, 1, 1, 2, 1, 2, 1, 1, 2, 1, 1, 2, 1, 2, 1, 1, 2, 1, 2, 1, 1, 2, 1, 1, 2, 1, 2, 1, 1, 2, 1, 2, 1, 1, 2, 1, 1, 2, 1, 2, 1, 1, 2, 1, 2, 1, 1, 2, 1, 1, 2, 1, 2, 1, 1, 2, 1, 2, 1, 1, 2, 1, 1, 2, 1, 2, 1, 1, 2, 1, 2, 1, 1, 2, 1, 1, 2, 1, 2, 1, 1, 2, 1, 2, 1, 1, 2, 1, 1, 2, 1, 2, 1, 1, 2, 1, 2, 1, 1, 2, 1, 1, 2, 1, 2, 1, 1, 2, 1, 2, 1, 1, 2, 1, 1, 2, 1, 2, 1, 1, 2, 1, 2, 1, 1, 2, 1, 1, 2, 1, 2, 1, 1, 2, 1, 2, 1, 1, 2, 1, 1, 2, 1, 2, 1, 1, 2, 1, 2, 1, 1, 2, 1, 1, 2, 1, 2, 1, 1, 2, 1, 1, 2, 1, 2, 1, 1]) of length 316 after prefixing the suffix with 0 times the current s.m.p.Increase the value of the `max_smp_length` keyword argument to go further.\n"
     ]
    },
    {
     "name": "stdout",
     "output_type": "stream",
     "text": [
      "\u001b[34m\u001b[1mNew candidate s.m.p. found\u001b[22m\u001b[39m because ⟨v_6*, v⟩ - 1 = 0.00045579628144754025 > 1.0e-9:\n",
      "\u001b[31m\u001b[1maborting\u001b[22m\u001b[39m with smp candidate PSW(1.4092404532738925, [2, 1, 1, 2, 1, 1, 2, 1, 2, 1, 1, 2, 1, 1, 2, 1, 2, 1, 1, 2, 1, 2, 1, 1, 2, 1, 1, 2, 1, 2, 1, 1, 2, 1, 1, 2, 1, 2, 1, 1, 2, 1, 2, 1, 1, 2, 1, 1, 2, 1, 2, 1, 1, 2, 1, 1, 2, 1, 2, 1, 1, 2, 1, 2, 1, 1, 2, 1, 1, 2, 1, 2, 1, 1, 2, 1, 2, 1, 1, 2, 1, 1, 2, 1, 2, 1, 1, 2, 1, 2, 1, 1, 2, 1, 1, 2, 1, 2, 1, 1, 2, 1, 2, 1, 1, 2, 1, 1, 2, 1, 2, 1, 1, 2, 1, 2, 1, 1, 2, 1, 1, 2, 1, 2, 1, 1, 2, 1, 2, 1, 1, 2, 1, 1, 2, 1, 2, 1, 1, 2, 1, 2, 1, 1, 2, 1, 1, 2, 1, 2, 1, 1, 2, 1, 2, 1, 1, 2, 1, 1, 2, 1, 2, 1, 1, 2, 1, 2, 1, 1, 2, 1, 1, 2, 1, 2, 1, 1, 2, 1, 2, 1, 1, 2, 1, 1, 2, 1, 2, 1, 1, 2, 1, 2, 1, 1, 2, 1, 1, 2, 1, 2, 1, 1, 2, 1, 2, 1, 1, 2, 1, 1, 2, 1, 2, 1, 1, 2, 1, 2, 1, 1, 2, 1, 1, 2, 1, 2, 1, 1, 2, 1, 2, 1, 1, 2, 1, 1, 2, 1, 2, 1, 1, 2, 1, 2, 1, 1, 2, 1, 1, 2, 1, 2, 1, 1, 2, 1, 2, 1, 1, 2, 1, 1, 2, 1, 2, 1, 1, 2, 1, 2, 1, 1, 2, 1, 1, 2, 1, 2, 1, 1, 2, 1, 2, 1, 1, 2, 1, 1, 2, 1, 2, 1, 1, 2, 1, 2, 1, 1, 2, 1, 1, 2, 1, 2, 1, 1, 2, 1, 2, 1, 1, 2, 1, 1]) of length 316 after prefixing the suffix with 0 times the current s.m.p.Increase the value of the `max_smp_length` keyword argument to go further.\n",
      "\u001b[34m\u001b[1mNew candidate s.m.p. found\u001b[22m\u001b[39m because ⟨v_6*, v⟩ - 1 = 0.0004561240897706931 > 1.0e-9:\n",
      "\u001b[31m\u001b[1maborting\u001b[22m\u001b[39m with smp candidate PSW(1.4092404506879201, [2, 1, 1, 2, 1, 1, 2, 1, 2, 1, 1, 2, 1, 1, 2, 1, 2, 1, 1, 2, 1, 2, 1, 1, 2, 1, 1, 2, 1, 2, 1, 1, 2, 1, 1, 2, 1, 2, 1, 1, 2, 1, 2, 1, 1, 2, 1, 1, 2, 1, 2, 1, 1, 2, 1, 2, 1, 1, 2, 1, 1, 2, 1, 2, 1, 1, 2, 1, 2, 1, 1, 2, 1, 1, 2, 1, 2, 1, 1, 2, 1, 2, 1, 1, 2, 1, 1, 2, 1, 2, 1, 1, 2, 1, 2, 1, 1, 2, 1, 1, 2, 1, 2, 1, 1, 2, 1, 2, 1, 1, 2, 1, 1, 2, 1, 2, 1, 1, 2, 1, 2, 1, 1, 2, 1, 1, 2, 1, 2, 1, 1, 2, 1, 2, 1, 1, 2, 1, 1, 2, 1, 2, 1, 1, 2, 1, 2, 1, 1, 2, 1, 1, 2, 1, 2, 1, 1, 2, 1, 2, 1, 1, 2, 1, 1, 2, 1, 2, 1, 1, 2, 1, 2, 1, 1, 2, 1, 1, 2, 1, 2, 1, 1, 2, 1, 2, 1, 1, 2, 1, 1, 2, 1, 2, 1, 1, 2, 1, 2, 1, 1, 2, 1, 1, 2, 1, 2, 1, 1, 2, 1, 2, 1, 1, 2, 1, 1, 2, 1, 2, 1, 1, 2, 1, 2, 1, 1, 2, 1, 1, 2, 1, 2, 1, 1, 2, 1, 2, 1, 1, 2, 1, 1, 2, 1, 2, 1, 1, 2, 1, 2, 1, 1, 2, 1, 1, 2, 1, 2, 1, 1, 2, 1, 2, 1, 1, 2, 1, 1, 2, 1, 2, 1, 1, 2, 1, 2, 1, 1, 2, 1, 1, 2, 1, 2, 1, 1, 2, 1, 2, 1, 1, 2, 1, 1, 2, 1, 2, 1, 1, 2, 1, 2, 1, 1, 2, 1, 1, 2, 1, 2, 1, 1, 2, 1, 1]) of length 316 after prefixing the suffix with 0 times the current s.m.p.Increase the value of the `max_smp_length` keyword argument to go further.\n",
      "Depth 317: [2193] points, 8 living leaves...\n",
      "Depth 318: [2201] points, 8 living leaves...\n",
      "\u001b[34m\u001b[1mNew candidate s.m.p. found\u001b[22m\u001b[39m because ⟨v_6*, v⟩ - 1 = 2.1519740500686169e-7 > 1.0e-9:\n",
      "\u001b[31m\u001b[1maborting\u001b[22m\u001b[39m with smp candidate PSW(1.4092439741891098, [2, 1, 1, 2, 1, 1, 2, 1, 2, 1, 1, 2, 1, 1, 2, 1, 2, 1, 1, 2, 1, 2, 1, 1, 2, 1, 1, 2, 1, 2, 1, 1, 2, 1, 2, 1, 1, 2, 1, 1, 2, 1, 2, 1, 1, 2, 1, 2, 1, 1, 2, 1, 1, 2, 1, 2, 1, 1, 2, 1, 2, 1, 1, 2, 1, 1, 2, 1, 2, 1, 1, 2, 1, 2, 1, 1, 2, 1, 1, 2, 1, 2, 1, 1, 2, 1, 2, 1, 1, 2, 1, 1, 2, 1, 2, 1, 1, 2, 1, 2, 1, 1, 2, 1, 1, 2, 1, 2, 1, 1, 2, 1, 2, 1, 1, 2, 1, 1, 2, 1, 2, 1, 1, 2, 1, 2, 1, 1, 2, 1, 1, 2, 1, 2, 1, 1, 2, 1, 2, 1, 1, 2, 1, 1, 2, 1, 2, 1, 1, 2, 1, 2, 1, 1, 2, 1, 1, 2, 1, 2, 1, 1, 2, 1, 2, 1, 1, 2, 1, 1, 2, 1, 2, 1, 1, 2, 1, 2, 1, 1, 2, 1, 1, 2, 1, 2, 1, 1, 2, 1, 2, 1, 1, 2, 1, 1, 2, 1, 2, 1, 1, 2, 1, 2, 1, 1, 2, 1, 1, 2, 1, 2, 1, 1, 2, 1, 2, 1, 1, 2, 1, 1, 2, 1, 2, 1, 1, 2, 1, 2, 1, 1, 2, 1, 1, 2, 1, 2, 1, 1, 2, 1, 2, 1, 1, 2, 1, 1, 2, 1, 2, 1, 1, 2, 1, 2, 1, 1, 2, 1, 1, 2, 1, 2, 1, 1, 2, 1, 2, 1, 1, 2, 1, 1, 2, 1, 2, 1, 1, 2, 1, 2, 1, 1, 2, 1, 1, 2, 1, 2, 1, 1, 2, 1, 2, 1, 1, 2, 1, 1, 2, 1, 2, 1, 1, 2, 1, 2, 1, 1, 2, 1, 1, 2, 1, 2, 1, 1]) of length 318 after prefixing the suffix with 0 times the current s.m.p.Increase the value of the `max_smp_length` keyword argument to go further.\n",
      "\u001b[34m\u001b[1mNew candidate s.m.p. found\u001b[22m\u001b[39m because ⟨v_6*, v⟩ - 1 = 2.1859848242655744e-7 > 1.0e-9:\n",
      "\u001b[31m\u001b[1maborting\u001b[22m\u001b[39m with smp candidate PSW(1.409243976562362, [2, 1, 1, 2, 1, 1, 2, 1, 2, 1, 1, 2, 1, 2, 1, 1, 2, 1, 1, 2, 1, 2, 1, 1, 2, 1, 2, 1, 1, 2, 1, 1, 2, 1, 2, 1, 1, 2, 1, 2, 1, 1, 2, 1, 1, 2, 1, 2, 1, 1, 2, 1, 2, 1, 1, 2, 1, 1, 2, 1, 2, 1, 1, 2, 1, 2, 1, 1, 2, 1, 1, 2, 1, 2, 1, 1, 2, 1, 2, 1, 1, 2, 1, 1, 2, 1, 2, 1, 1, 2, 1, 2, 1, 1, 2, 1, 1, 2, 1, 2, 1, 1, 2, 1, 2, 1, 1, 2, 1, 1, 2, 1, 2, 1, 1, 2, 1, 2, 1, 1, 2, 1, 1, 2, 1, 2, 1, 1, 2, 1, 2, 1, 1, 2, 1, 1, 2, 1, 2, 1, 1, 2, 1, 2, 1, 1, 2, 1, 1, 2, 1, 2, 1, 1, 2, 1, 2, 1, 1, 2, 1, 1, 2, 1, 2, 1, 1, 2, 1, 2, 1, 1, 2, 1, 1, 2, 1, 2, 1, 1, 2, 1, 2, 1, 1, 2, 1, 1, 2, 1, 2, 1, 1, 2, 1, 2, 1, 1, 2, 1, 1, 2, 1, 2, 1, 1, 2, 1, 2, 1, 1, 2, 1, 1, 2, 1, 2, 1, 1, 2, 1, 2, 1, 1, 2, 1, 1, 2, 1, 2, 1, 1, 2, 1, 2, 1, 1, 2, 1, 1, 2, 1, 2, 1, 1, 2, 1, 2, 1, 1, 2, 1, 1, 2, 1, 2, 1, 1, 2, 1, 2, 1, 1, 2, 1, 1, 2, 1, 2, 1, 1, 2, 1, 2, 1, 1, 2, 1, 1, 2, 1, 2, 1, 1, 2, 1, 2, 1, 1, 2, 1, 1, 2, 1, 2, 1, 1, 2, 1, 2, 1, 1, 2, 1, 1, 2, 1, 2, 1, 1, 2, 1, 1, 2, 1, 2, 1, 1]) of length 318 after prefixing the suffix with 0 times the current s.m.p.Increase the value of the `max_smp_length` keyword argument to go further.\n",
      "\u001b[34m\u001b[1mNew candidate s.m.p. found\u001b[22m\u001b[39m because ⟨v_6*, v⟩ - 1 = 0.0004557976481258663 > 1.0e-9:\n",
      "\u001b[31m\u001b[1maborting\u001b[22m\u001b[39m with smp candidate PSW(1.409240498414345, [2, 1, 1, 2, 1, 1, 2, 1, 2, 1, 1, 2, 1, 2, 1, 1, 2, 1, 1, 2, 1, 2, 1, 1, 2, 1, 2, 1, 1, 2, 1, 1, 2, 1, 2, 1, 1, 2, 1, 2, 1, 1, 2, 1, 1, 2, 1, 2, 1, 1, 2, 1, 2, 1, 1, 2, 1, 1, 2, 1, 2, 1, 1, 2, 1, 2, 1, 1, 2, 1, 1, 2, 1, 2, 1, 1, 2, 1, 2, 1, 1, 2, 1, 1, 2, 1, 2, 1, 1, 2, 1, 2, 1, 1, 2, 1, 1, 2, 1, 2, 1, 1, 2, 1, 2, 1, 1, 2, 1, 1, 2, 1, 2, 1, 1, 2, 1, 2, 1, 1, 2, 1, 1, 2, 1, 2, 1, 1, 2, 1, 2, 1, 1, 2, 1, 1, 2, 1, 2, 1, 1, 2, 1, 2, 1, 1, 2, 1, 1, 2, 1, 2, 1, 1, 2, 1, 2, 1, 1, 2, 1, 1, 2, 1, 2, 1, 1, 2, 1, 2, 1, 1, 2, 1, 1, 2, 1, 2, 1, 1, 2, 1, 2, 1, 1, 2, 1, 1, 2, 1, 2, 1, 1, 2, 1, 2, 1, 1, 2, 1, 1, 2, 1, 2, 1, 1, 2, 1, 2, 1, 1, 2, 1, 1, 2, 1, 2, 1, 1, 2, 1, 2, 1, 1, 2, 1, 1, 2, 1, 2, 1, 1, 2, 1, 2, 1, 1, 2, 1, 1, 2, 1, 2, 1, 1, 2, 1, 2, 1, 1, 2, 1, 1, 2, 1, 2, 1, 1, 2, 1, 2, 1, 1, 2, 1, 1, 2, 1, 2, 1, 1, 2, 1, 2, 1, 1, 2, 1, 1, 2, 1, 2, 1, 1, 2, 1, 2, 1, 1, 2, 1, 1, 2, 1, 2, 1, 1, 2, 1, 2, 1, 1, 2, 1, 1, 2, 1, 2, 1, 1, 2, 1, 2, 1, 1, 2, 1, 1]) of length 318 after prefixing the suffix with 0 times the current s.m.p.Increase the value of the `max_smp_length` keyword argument to go further.\n",
      "Depth 319: [2209] points, 8 living leaves...\n",
      "\u001b[34m\u001b[1mNew candidate s.m.p. found\u001b[22m\u001b[39m because ⟨v_6*, v⟩ - 1 = 0.0004561261402198369 > 1.0e-9:\n",
      "\u001b[31m\u001b[1maborting\u001b[22m\u001b[39m with smp candidate PSW(1.4092405143683688, [2, 1, 1, 2, 1, 1, 2, 1, 2, 1, 1, 2, 1, 1, 2, 1, 2, 1, 1, 2, 1, 2, 1, 1, 2, 1, 1, 2, 1, 2, 1, 1, 2, 1, 1, 2, 1, 2, 1, 1, 2, 1, 2, 1, 1, 2, 1, 1, 2, 1, 2, 1, 1, 2, 1, 1, 2, 1, 2, 1, 1, 2, 1, 2, 1, 1, 2, 1, 1, 2, 1, 2, 1, 1, 2, 1, 1, 2, 1, 2, 1, 1, 2, 1, 2, 1, 1, 2, 1, 1, 2, 1, 2, 1, 1, 2, 1, 2, 1, 1, 2, 1, 1, 2, 1, 2, 1, 1, 2, 1, 2, 1, 1, 2, 1, 1, 2, 1, 2, 1, 1, 2, 1, 2, 1, 1, 2, 1, 1, 2, 1, 2, 1, 1, 2, 1, 2, 1, 1, 2, 1, 1, 2, 1, 2, 1, 1, 2, 1, 2, 1, 1, 2, 1, 1, 2, 1, 2, 1, 1, 2, 1, 2, 1, 1, 2, 1, 1, 2, 1, 2, 1, 1, 2, 1, 2, 1, 1, 2, 1, 1, 2, 1, 2, 1, 1, 2, 1, 2, 1, 1, 2, 1, 1, 2, 1, 2, 1, 1, 2, 1, 2, 1, 1, 2, 1, 1, 2, 1, 2, 1, 1, 2, 1, 2, 1, 1, 2, 1, 1, 2, 1, 2, 1, 1, 2, 1, 2, 1, 1, 2, 1, 1, 2, 1, 2, 1, 1, 2, 1, 2, 1, 1, 2, 1, 1, 2, 1, 2, 1, 1, 2, 1, 2, 1, 1, 2, 1, 1, 2, 1, 2, 1, 1, 2, 1, 2, 1, 1, 2, 1, 1, 2, 1, 2, 1, 1, 2, 1, 2, 1, 1, 2, 1, 1, 2, 1, 2, 1, 1, 2, 1, 2, 1, 1, 2, 1, 1, 2, 1, 2, 1, 1, 2, 1, 2, 1, 1, 2, 1, 1, 2, 1, 2, 1, 1, 2, 1, 1]) of length 319 after prefixing the suffix with 0 times the current s.m.p.Increase the value of the `max_smp_length` keyword argument to go further.\n",
      "Depth 320: [2217] points, 8 living leaves...\n",
      "Depth 321: [2225] points, 8 living leaves...\n",
      "\u001b[34m\u001b[1mNew candidate s.m.p. found\u001b[22m\u001b[39m because ⟨v_6*, v⟩ - 1 = 2.1724692222946373e-7 > 1.0e-9:\n",
      "\u001b[31m\u001b[1maborting\u001b[22m\u001b[39m with smp candidate PSW(1.409244004542994, [2, 1, 1, 2, 1, 1, 2, 1, 2, 1, 1, 2, 1, 1, 2, 1, 2, 1, 1, 2, 1, 2, 1, 1, 2, 1, 1, 2, 1, 2, 1, 1, 2, 1, 1, 2, 1, 2, 1, 1, 2, 1, 2, 1, 1, 2, 1, 1, 2, 1, 2, 1, 1, 2, 1, 1, 2, 1, 2, 1, 1, 2, 1, 2, 1, 1, 2, 1, 1, 2, 1, 2, 1, 1, 2, 1, 2, 1, 1, 2, 1, 1, 2, 1, 2, 1, 1, 2, 1, 2, 1, 1, 2, 1, 1, 2, 1, 2, 1, 1, 2, 1, 2, 1, 1, 2, 1, 1, 2, 1, 2, 1, 1, 2, 1, 2, 1, 1, 2, 1, 1, 2, 1, 2, 1, 1, 2, 1, 2, 1, 1, 2, 1, 1, 2, 1, 2, 1, 1, 2, 1, 2, 1, 1, 2, 1, 1, 2, 1, 2, 1, 1, 2, 1, 2, 1, 1, 2, 1, 1, 2, 1, 2, 1, 1, 2, 1, 2, 1, 1, 2, 1, 1, 2, 1, 2, 1, 1, 2, 1, 2, 1, 1, 2, 1, 1, 2, 1, 2, 1, 1, 2, 1, 2, 1, 1, 2, 1, 1, 2, 1, 2, 1, 1, 2, 1, 2, 1, 1, 2, 1, 1, 2, 1, 2, 1, 1, 2, 1, 2, 1, 1, 2, 1, 1, 2, 1, 2, 1, 1, 2, 1, 2, 1, 1, 2, 1, 1, 2, 1, 2, 1, 1, 2, 1, 2, 1, 1, 2, 1, 1, 2, 1, 2, 1, 1, 2, 1, 2, 1, 1, 2, 1, 1, 2, 1, 2, 1, 1, 2, 1, 2, 1, 1, 2, 1, 1, 2, 1, 2, 1, 1, 2, 1, 2, 1, 1, 2, 1, 1, 2, 1, 2, 1, 1, 2, 1, 2, 1, 1, 2, 1, 1, 2, 1, 2, 1, 1, 2, 1, 2, 1, 1, 2, 1, 1, 2, 1, 2, 1, 1]) of length 321 after prefixing the suffix with 0 times the current s.m.p.Increase the value of the `max_smp_length` keyword argument to go further.\n"
     ]
    },
    {
     "name": "stdout",
     "output_type": "stream",
     "text": [
      "\u001b[34m\u001b[1mNew candidate s.m.p. found\u001b[22m\u001b[39m because ⟨v_6*, v⟩ - 1 = 2.206479998712041e-7 > 1.0e-9:\n",
      "\u001b[31m\u001b[1maborting\u001b[22m\u001b[39m with smp candidate PSW(1.40924400451728, [2, 1, 1, 2, 1, 1, 2, 1, 2, 1, 1, 2, 1, 1, 2, 1, 2, 1, 1, 2, 1, 2, 1, 1, 2, 1, 1, 2, 1, 2, 1, 1, 2, 1, 1, 2, 1, 2, 1, 1, 2, 1, 2, 1, 1, 2, 1, 1, 2, 1, 2, 1, 1, 2, 1, 2, 1, 1, 2, 1, 1, 2, 1, 2, 1, 1, 2, 1, 2, 1, 1, 2, 1, 1, 2, 1, 2, 1, 1, 2, 1, 2, 1, 1, 2, 1, 1, 2, 1, 2, 1, 1, 2, 1, 2, 1, 1, 2, 1, 1, 2, 1, 2, 1, 1, 2, 1, 2, 1, 1, 2, 1, 1, 2, 1, 2, 1, 1, 2, 1, 2, 1, 1, 2, 1, 1, 2, 1, 2, 1, 1, 2, 1, 2, 1, 1, 2, 1, 1, 2, 1, 2, 1, 1, 2, 1, 2, 1, 1, 2, 1, 1, 2, 1, 2, 1, 1, 2, 1, 2, 1, 1, 2, 1, 1, 2, 1, 2, 1, 1, 2, 1, 2, 1, 1, 2, 1, 1, 2, 1, 2, 1, 1, 2, 1, 2, 1, 1, 2, 1, 1, 2, 1, 2, 1, 1, 2, 1, 2, 1, 1, 2, 1, 1, 2, 1, 2, 1, 1, 2, 1, 2, 1, 1, 2, 1, 1, 2, 1, 2, 1, 1, 2, 1, 2, 1, 1, 2, 1, 1, 2, 1, 2, 1, 1, 2, 1, 2, 1, 1, 2, 1, 1, 2, 1, 2, 1, 1, 2, 1, 2, 1, 1, 2, 1, 1, 2, 1, 2, 1, 1, 2, 1, 2, 1, 1, 2, 1, 1, 2, 1, 2, 1, 1, 2, 1, 2, 1, 1, 2, 1, 1, 2, 1, 2, 1, 1, 2, 1, 2, 1, 1, 2, 1, 1, 2, 1, 2, 1, 1, 2, 1, 2, 1, 1, 2, 1, 1, 2, 1, 2, 1, 1, 2, 1, 1, 2, 1, 2, 1, 1]) of length 321 after prefixing the suffix with 0 times the current s.m.p.Increase the value of the `max_smp_length` keyword argument to go further.\n",
      "\u001b[34m\u001b[1mNew candidate s.m.p. found\u001b[22m\u001b[39m because ⟨v_6*, v⟩ - 1 = 0.00045579969857723057 > 1.0e-9:\n",
      "\u001b[31m\u001b[1maborting\u001b[22m\u001b[39m with smp candidate PSW(1.4092405587064225, [2, 1, 1, 2, 1, 1, 2, 1, 2, 1, 1, 2, 1, 1, 2, 1, 2, 1, 1, 2, 1, 2, 1, 1, 2, 1, 1, 2, 1, 2, 1, 1, 2, 1, 1, 2, 1, 2, 1, 1, 2, 1, 2, 1, 1, 2, 1, 1, 2, 1, 2, 1, 1, 2, 1, 2, 1, 1, 2, 1, 1, 2, 1, 2, 1, 1, 2, 1, 2, 1, 1, 2, 1, 1, 2, 1, 2, 1, 1, 2, 1, 2, 1, 1, 2, 1, 1, 2, 1, 2, 1, 1, 2, 1, 2, 1, 1, 2, 1, 1, 2, 1, 2, 1, 1, 2, 1, 2, 1, 1, 2, 1, 1, 2, 1, 2, 1, 1, 2, 1, 2, 1, 1, 2, 1, 1, 2, 1, 2, 1, 1, 2, 1, 2, 1, 1, 2, 1, 1, 2, 1, 2, 1, 1, 2, 1, 2, 1, 1, 2, 1, 1, 2, 1, 2, 1, 1, 2, 1, 2, 1, 1, 2, 1, 1, 2, 1, 2, 1, 1, 2, 1, 2, 1, 1, 2, 1, 1, 2, 1, 2, 1, 1, 2, 1, 2, 1, 1, 2, 1, 1, 2, 1, 2, 1, 1, 2, 1, 2, 1, 1, 2, 1, 1, 2, 1, 2, 1, 1, 2, 1, 2, 1, 1, 2, 1, 1, 2, 1, 2, 1, 1, 2, 1, 2, 1, 1, 2, 1, 1, 2, 1, 2, 1, 1, 2, 1, 2, 1, 1, 2, 1, 1, 2, 1, 2, 1, 1, 2, 1, 2, 1, 1, 2, 1, 1, 2, 1, 2, 1, 1, 2, 1, 2, 1, 1, 2, 1, 1, 2, 1, 2, 1, 1, 2, 1, 2, 1, 1, 2, 1, 1, 2, 1, 2, 1, 1, 2, 1, 2, 1, 1, 2, 1, 1, 2, 1, 2, 1, 1, 2, 1, 2, 1, 1, 2, 1, 1, 2, 1, 2, 1, 1, 2, 1, 2, 1, 1, 2, 1, 1]) of length 321 after prefixing the suffix with 0 times the current s.m.p.Increase the value of the `max_smp_length` keyword argument to go further.\n",
      "\u001b[34m\u001b[1mNew candidate s.m.p. found\u001b[22m\u001b[39m because ⟨v_6*, v⟩ - 1 = 0.0004561275068988291 > 1.0e-9:\n",
      "\u001b[31m\u001b[1maborting\u001b[22m\u001b[39m with smp candidate PSW(1.40924055616073, [2, 1, 1, 2, 1, 1, 2, 1, 2, 1, 1, 2, 1, 1, 2, 1, 2, 1, 1, 2, 1, 2, 1, 1, 2, 1, 1, 2, 1, 2, 1, 1, 2, 1, 2, 1, 1, 2, 1, 1, 2, 1, 2, 1, 1, 2, 1, 2, 1, 1, 2, 1, 1, 2, 1, 2, 1, 1, 2, 1, 2, 1, 1, 2, 1, 1, 2, 1, 2, 1, 1, 2, 1, 2, 1, 1, 2, 1, 1, 2, 1, 2, 1, 1, 2, 1, 2, 1, 1, 2, 1, 1, 2, 1, 2, 1, 1, 2, 1, 2, 1, 1, 2, 1, 1, 2, 1, 2, 1, 1, 2, 1, 2, 1, 1, 2, 1, 1, 2, 1, 2, 1, 1, 2, 1, 2, 1, 1, 2, 1, 1, 2, 1, 2, 1, 1, 2, 1, 2, 1, 1, 2, 1, 1, 2, 1, 2, 1, 1, 2, 1, 2, 1, 1, 2, 1, 1, 2, 1, 2, 1, 1, 2, 1, 2, 1, 1, 2, 1, 1, 2, 1, 2, 1, 1, 2, 1, 2, 1, 1, 2, 1, 1, 2, 1, 2, 1, 1, 2, 1, 2, 1, 1, 2, 1, 1, 2, 1, 2, 1, 1, 2, 1, 2, 1, 1, 2, 1, 1, 2, 1, 2, 1, 1, 2, 1, 2, 1, 1, 2, 1, 1, 2, 1, 2, 1, 1, 2, 1, 2, 1, 1, 2, 1, 1, 2, 1, 2, 1, 1, 2, 1, 2, 1, 1, 2, 1, 1, 2, 1, 2, 1, 1, 2, 1, 2, 1, 1, 2, 1, 1, 2, 1, 2, 1, 1, 2, 1, 2, 1, 1, 2, 1, 1, 2, 1, 2, 1, 1, 2, 1, 2, 1, 1, 2, 1, 1, 2, 1, 2, 1, 1, 2, 1, 2, 1, 1, 2, 1, 1, 2, 1, 2, 1, 1, 2, 1, 2, 1, 1, 2, 1, 1, 2, 1, 2, 1, 1, 2, 1, 1]) of length 321 after prefixing the suffix with 0 times the current s.m.p.Increase the value of the `max_smp_length` keyword argument to go further.\n",
      "Depth 322: [2233] points, 8 living leaves...\n",
      "Depth 323: [2241] points, 8 living leaves...\n",
      "\u001b[34m\u001b[1mNew candidate s.m.p. found\u001b[22m\u001b[39m because ⟨v_6*, v⟩ - 1 = 2.1861297794245615e-7 > 1.0e-9:\n",
      "\u001b[31m\u001b[1maborting\u001b[22m\u001b[39m with smp candidate PSW(1.4092440268277342, [2, 1, 1, 2, 1, 1, 2, 1, 2, 1, 1, 2, 1, 2, 1, 1, 2, 1, 1, 2, 1, 2, 1, 1, 2, 1, 2, 1, 1, 2, 1, 1, 2, 1, 2, 1, 1, 2, 1, 2, 1, 1, 2, 1, 1, 2, 1, 2, 1, 1, 2, 1, 2, 1, 1, 2, 1, 1, 2, 1, 2, 1, 1, 2, 1, 2, 1, 1, 2, 1, 1, 2, 1, 2, 1, 1, 2, 1, 2, 1, 1, 2, 1, 1, 2, 1, 2, 1, 1, 2, 1, 2, 1, 1, 2, 1, 1, 2, 1, 2, 1, 1, 2, 1, 2, 1, 1, 2, 1, 1, 2, 1, 2, 1, 1, 2, 1, 2, 1, 1, 2, 1, 1, 2, 1, 2, 1, 1, 2, 1, 2, 1, 1, 2, 1, 1, 2, 1, 2, 1, 1, 2, 1, 2, 1, 1, 2, 1, 1, 2, 1, 2, 1, 1, 2, 1, 2, 1, 1, 2, 1, 1, 2, 1, 2, 1, 1, 2, 1, 2, 1, 1, 2, 1, 1, 2, 1, 2, 1, 1, 2, 1, 2, 1, 1, 2, 1, 1, 2, 1, 2, 1, 1, 2, 1, 2, 1, 1, 2, 1, 1, 2, 1, 2, 1, 1, 2, 1, 2, 1, 1, 2, 1, 1, 2, 1, 2, 1, 1, 2, 1, 2, 1, 1, 2, 1, 1, 2, 1, 2, 1, 1, 2, 1, 2, 1, 1, 2, 1, 1, 2, 1, 2, 1, 1, 2, 1, 2, 1, 1, 2, 1, 1, 2, 1, 2, 1, 1, 2, 1, 2, 1, 1, 2, 1, 1, 2, 1, 2, 1, 1, 2, 1, 2, 1, 1, 2, 1, 1, 2, 1, 2, 1, 1, 2, 1, 2, 1, 1, 2, 1, 1, 2, 1, 2, 1, 1, 2, 1, 2, 1, 1, 2, 1, 1, 2, 1, 2, 1, 1, 2, 1, 2, 1, 1, 2, 1, 1, 2, 1, 2, 1, 1]) of length 323 after prefixing the suffix with 0 times the current s.m.p.Increase the value of the `max_smp_length` keyword argument to go further.\n",
      "Depth 324: [2249] points, 8 living leaves...\n",
      "\u001b[34m\u001b[1mNew candidate s.m.p. found\u001b[22m\u001b[39m because ⟨v_6*, v⟩ - 1 = 2.2269751442927088e-7 > 1.0e-9:\n",
      "\u001b[31m\u001b[1maborting\u001b[22m\u001b[39m with smp candidate PSW(1.4092440343092938, [2, 1, 1, 2, 1, 1, 2, 1, 2, 1, 1, 2, 1, 1, 2, 1, 2, 1, 1, 2, 1, 2, 1, 1, 2, 1, 1, 2, 1, 2, 1, 1, 2, 1, 1, 2, 1, 2, 1, 1, 2, 1, 2, 1, 1, 2, 1, 1, 2, 1, 2, 1, 1, 2, 1, 1, 2, 1, 2, 1, 1, 2, 1, 2, 1, 1, 2, 1, 1, 2, 1, 2, 1, 1, 2, 1, 1, 2, 1, 2, 1, 1, 2, 1, 2, 1, 1, 2, 1, 1, 2, 1, 2, 1, 1, 2, 1, 2, 1, 1, 2, 1, 1, 2, 1, 2, 1, 1, 2, 1, 2, 1, 1, 2, 1, 1, 2, 1, 2, 1, 1, 2, 1, 2, 1, 1, 2, 1, 1, 2, 1, 2, 1, 1, 2, 1, 2, 1, 1, 2, 1, 1, 2, 1, 2, 1, 1, 2, 1, 2, 1, 1, 2, 1, 1, 2, 1, 2, 1, 1, 2, 1, 2, 1, 1, 2, 1, 1, 2, 1, 2, 1, 1, 2, 1, 2, 1, 1, 2, 1, 1, 2, 1, 2, 1, 1, 2, 1, 2, 1, 1, 2, 1, 1, 2, 1, 2, 1, 1, 2, 1, 2, 1, 1, 2, 1, 1, 2, 1, 2, 1, 1, 2, 1, 2, 1, 1, 2, 1, 1, 2, 1, 2, 1, 1, 2, 1, 2, 1, 1, 2, 1, 1, 2, 1, 2, 1, 1, 2, 1, 2, 1, 1, 2, 1, 1, 2, 1, 2, 1, 1, 2, 1, 2, 1, 1, 2, 1, 1, 2, 1, 2, 1, 1, 2, 1, 2, 1, 1, 2, 1, 1, 2, 1, 2, 1, 1, 2, 1, 2, 1, 1, 2, 1, 1, 2, 1, 2, 1, 1, 2, 1, 2, 1, 1, 2, 1, 1, 2, 1, 2, 1, 1, 2, 1, 2, 1, 1, 2, 1, 1, 2, 1, 2, 1, 1, 2, 1, 1, 2, 1, 2, 1, 1]) of length 324 after prefixing the suffix with 0 times the current s.m.p.Increase the value of the `max_smp_length` keyword argument to go further.\n",
      "\u001b[34m\u001b[1mNew candidate s.m.p. found\u001b[22m\u001b[39m because ⟨v_6*, v⟩ - 1 = 0.0004558017490259303 > 1.0e-9:\n",
      "\u001b[31m\u001b[1maborting\u001b[22m\u001b[39m with smp candidate PSW(1.4092406204039816, [2, 1, 1, 2, 1, 1, 2, 1, 2, 1, 1, 2, 1, 1, 2, 1, 2, 1, 1, 2, 1, 2, 1, 1, 2, 1, 1, 2, 1, 2, 1, 1, 2, 1, 1, 2, 1, 2, 1, 1, 2, 1, 2, 1, 1, 2, 1, 1, 2, 1, 2, 1, 1, 2, 1, 1, 2, 1, 2, 1, 1, 2, 1, 2, 1, 1, 2, 1, 1, 2, 1, 2, 1, 1, 2, 1, 1, 2, 1, 2, 1, 1, 2, 1, 2, 1, 1, 2, 1, 1, 2, 1, 2, 1, 1, 2, 1, 2, 1, 1, 2, 1, 1, 2, 1, 2, 1, 1, 2, 1, 2, 1, 1, 2, 1, 1, 2, 1, 2, 1, 1, 2, 1, 2, 1, 1, 2, 1, 1, 2, 1, 2, 1, 1, 2, 1, 2, 1, 1, 2, 1, 1, 2, 1, 2, 1, 1, 2, 1, 2, 1, 1, 2, 1, 1, 2, 1, 2, 1, 1, 2, 1, 2, 1, 1, 2, 1, 1, 2, 1, 2, 1, 1, 2, 1, 2, 1, 1, 2, 1, 1, 2, 1, 2, 1, 1, 2, 1, 2, 1, 1, 2, 1, 1, 2, 1, 2, 1, 1, 2, 1, 2, 1, 1, 2, 1, 1, 2, 1, 2, 1, 1, 2, 1, 2, 1, 1, 2, 1, 1, 2, 1, 2, 1, 1, 2, 1, 2, 1, 1, 2, 1, 1, 2, 1, 2, 1, 1, 2, 1, 2, 1, 1, 2, 1, 1, 2, 1, 2, 1, 1, 2, 1, 2, 1, 1, 2, 1, 1, 2, 1, 2, 1, 1, 2, 1, 2, 1, 1, 2, 1, 1, 2, 1, 2, 1, 1, 2, 1, 2, 1, 1, 2, 1, 1, 2, 1, 2, 1, 1, 2, 1, 2, 1, 1, 2, 1, 1, 2, 1, 2, 1, 1, 2, 1, 2, 1, 1, 2, 1, 1, 2, 1, 2, 1, 1, 2, 1, 2, 1, 1, 2, 1, 1]) of length 324 after prefixing the suffix with 0 times the current s.m.p.Increase the value of the `max_smp_length` keyword argument to go further.\n",
      "\u001b[34m\u001b[1mNew candidate s.m.p. found\u001b[22m\u001b[39m because ⟨v_6*, v⟩ - 1 = 0.0004561295573499713 > 1.0e-9:\n",
      "\u001b[31m\u001b[1maborting\u001b[22m\u001b[39m with smp candidate PSW(1.40924061788186, [2, 1, 1, 2, 1, 1, 2, 1, 2, 1, 1, 2, 1, 1, 2, 1, 2, 1, 1, 2, 1, 2, 1, 1, 2, 1, 1, 2, 1, 2, 1, 1, 2, 1, 1, 2, 1, 2, 1, 1, 2, 1, 2, 1, 1, 2, 1, 1, 2, 1, 2, 1, 1, 2, 1, 1, 2, 1, 2, 1, 1, 2, 1, 2, 1, 1, 2, 1, 1, 2, 1, 2, 1, 1, 2, 1, 2, 1, 1, 2, 1, 1, 2, 1, 2, 1, 1, 2, 1, 2, 1, 1, 2, 1, 1, 2, 1, 2, 1, 1, 2, 1, 2, 1, 1, 2, 1, 1, 2, 1, 2, 1, 1, 2, 1, 2, 1, 1, 2, 1, 1, 2, 1, 2, 1, 1, 2, 1, 2, 1, 1, 2, 1, 1, 2, 1, 2, 1, 1, 2, 1, 2, 1, 1, 2, 1, 1, 2, 1, 2, 1, 1, 2, 1, 2, 1, 1, 2, 1, 1, 2, 1, 2, 1, 1, 2, 1, 2, 1, 1, 2, 1, 1, 2, 1, 2, 1, 1, 2, 1, 2, 1, 1, 2, 1, 1, 2, 1, 2, 1, 1, 2, 1, 2, 1, 1, 2, 1, 1, 2, 1, 2, 1, 1, 2, 1, 2, 1, 1, 2, 1, 1, 2, 1, 2, 1, 1, 2, 1, 2, 1, 1, 2, 1, 1, 2, 1, 2, 1, 1, 2, 1, 2, 1, 1, 2, 1, 1, 2, 1, 2, 1, 1, 2, 1, 2, 1, 1, 2, 1, 1, 2, 1, 2, 1, 1, 2, 1, 2, 1, 1, 2, 1, 1, 2, 1, 2, 1, 1, 2, 1, 2, 1, 1, 2, 1, 1, 2, 1, 2, 1, 1, 2, 1, 2, 1, 1, 2, 1, 1, 2, 1, 2, 1, 1, 2, 1, 2, 1, 1, 2, 1, 1, 2, 1, 2, 1, 1, 2, 1, 2, 1, 1, 2, 1, 1, 2, 1, 2, 1, 1, 2, 1, 1]) of length 324 after prefixing the suffix with 0 times the current s.m.p.Increase the value of the `max_smp_length` keyword argument to go further.\n"
     ]
    },
    {
     "name": "stdout",
     "output_type": "stream",
     "text": [
      "Depth 325: [2257] points, 8 living leaves...\n",
      "Depth 326: [2265] points, 8 living leaves...\n",
      "\u001b[34m\u001b[1mNew candidate s.m.p. found\u001b[22m\u001b[39m because ⟨v_6*, v⟩ - 1 = 2.206624953871028e-7 > 1.0e-9:\n",
      "\u001b[31m\u001b[1maborting\u001b[22m\u001b[39m with smp candidate PSW(1.4092440538913331, [2, 1, 1, 2, 1, 1, 2, 1, 2, 1, 1, 2, 1, 1, 2, 1, 2, 1, 1, 2, 1, 2, 1, 1, 2, 1, 1, 2, 1, 2, 1, 1, 2, 1, 1, 2, 1, 2, 1, 1, 2, 1, 2, 1, 1, 2, 1, 1, 2, 1, 2, 1, 1, 2, 1, 2, 1, 1, 2, 1, 1, 2, 1, 2, 1, 1, 2, 1, 2, 1, 1, 2, 1, 1, 2, 1, 2, 1, 1, 2, 1, 2, 1, 1, 2, 1, 1, 2, 1, 2, 1, 1, 2, 1, 2, 1, 1, 2, 1, 1, 2, 1, 2, 1, 1, 2, 1, 2, 1, 1, 2, 1, 1, 2, 1, 2, 1, 1, 2, 1, 2, 1, 1, 2, 1, 1, 2, 1, 2, 1, 1, 2, 1, 2, 1, 1, 2, 1, 1, 2, 1, 2, 1, 1, 2, 1, 2, 1, 1, 2, 1, 1, 2, 1, 2, 1, 1, 2, 1, 2, 1, 1, 2, 1, 1, 2, 1, 2, 1, 1, 2, 1, 2, 1, 1, 2, 1, 1, 2, 1, 2, 1, 1, 2, 1, 2, 1, 1, 2, 1, 1, 2, 1, 2, 1, 1, 2, 1, 2, 1, 1, 2, 1, 1, 2, 1, 2, 1, 1, 2, 1, 2, 1, 1, 2, 1, 1, 2, 1, 2, 1, 1, 2, 1, 2, 1, 1, 2, 1, 1, 2, 1, 2, 1, 1, 2, 1, 2, 1, 1, 2, 1, 1, 2, 1, 2, 1, 1, 2, 1, 2, 1, 1, 2, 1, 1, 2, 1, 2, 1, 1, 2, 1, 2, 1, 1, 2, 1, 1, 2, 1, 2, 1, 1, 2, 1, 2, 1, 1, 2, 1, 1, 2, 1, 2, 1, 1, 2, 1, 2, 1, 1, 2, 1, 1, 2, 1, 2, 1, 1, 2, 1, 2, 1, 1, 2, 1, 1, 2, 1, 2, 1, 1, 2, 1, 2, 1, 1, 2, 1, 1, 2, 1, 2, 1, 1]) of length 326 after prefixing the suffix with 0 times the current s.m.p.Increase the value of the `max_smp_length` keyword argument to go further.\n",
      "\u001b[34m\u001b[1mNew candidate s.m.p. found\u001b[22m\u001b[39m because ⟨v_6*, v⟩ - 1 = 2.2406357080839712e-7 > 1.0e-9:\n",
      "\u001b[31m\u001b[1maborting\u001b[22m\u001b[39m with smp candidate PSW(1.4092440538660136, [2, 1, 1, 2, 1, 1, 2, 1, 2, 1, 1, 2, 1, 1, 2, 1, 2, 1, 1, 2, 1, 2, 1, 1, 2, 1, 1, 2, 1, 2, 1, 1, 2, 1, 2, 1, 1, 2, 1, 1, 2, 1, 2, 1, 1, 2, 1, 2, 1, 1, 2, 1, 1, 2, 1, 2, 1, 1, 2, 1, 2, 1, 1, 2, 1, 1, 2, 1, 2, 1, 1, 2, 1, 2, 1, 1, 2, 1, 1, 2, 1, 2, 1, 1, 2, 1, 2, 1, 1, 2, 1, 1, 2, 1, 2, 1, 1, 2, 1, 2, 1, 1, 2, 1, 1, 2, 1, 2, 1, 1, 2, 1, 2, 1, 1, 2, 1, 1, 2, 1, 2, 1, 1, 2, 1, 2, 1, 1, 2, 1, 1, 2, 1, 2, 1, 1, 2, 1, 2, 1, 1, 2, 1, 1, 2, 1, 2, 1, 1, 2, 1, 2, 1, 1, 2, 1, 1, 2, 1, 2, 1, 1, 2, 1, 2, 1, 1, 2, 1, 1, 2, 1, 2, 1, 1, 2, 1, 2, 1, 1, 2, 1, 1, 2, 1, 2, 1, 1, 2, 1, 2, 1, 1, 2, 1, 1, 2, 1, 2, 1, 1, 2, 1, 2, 1, 1, 2, 1, 1, 2, 1, 2, 1, 1, 2, 1, 2, 1, 1, 2, 1, 1, 2, 1, 2, 1, 1, 2, 1, 2, 1, 1, 2, 1, 1, 2, 1, 2, 1, 1, 2, 1, 2, 1, 1, 2, 1, 1, 2, 1, 2, 1, 1, 2, 1, 2, 1, 1, 2, 1, 1, 2, 1, 2, 1, 1, 2, 1, 2, 1, 1, 2, 1, 1, 2, 1, 2, 1, 1, 2, 1, 2, 1, 1, 2, 1, 1, 2, 1, 2, 1, 1, 2, 1, 2, 1, 1, 2, 1, 1, 2, 1, 2, 1, 1, 2, 1, 2, 1, 1, 2, 1, 1, 2, 1, 2, 1, 1, 2, 1, 1, 2, 1, 2, 1, 1]) of length 326 after prefixing the suffix with 0 times the current s.m.p.Increase the value of the `max_smp_length` keyword argument to go further.\n",
      "\u001b[34m\u001b[1mNew candidate s.m.p. found\u001b[22m\u001b[39m because ⟨v_6*, v⟩ - 1 = 0.0004558031157040343 > 1.0e-9:\n",
      "\u001b[31m\u001b[1maborting\u001b[22m\u001b[39m with smp candidate PSW(1.4092406609048334, [2, 1, 1, 2, 1, 1, 2, 1, 2, 1, 1, 2, 1, 1, 2, 1, 2, 1, 1, 2, 1, 2, 1, 1, 2, 1, 1, 2, 1, 2, 1, 1, 2, 1, 2, 1, 1, 2, 1, 1, 2, 1, 2, 1, 1, 2, 1, 2, 1, 1, 2, 1, 1, 2, 1, 2, 1, 1, 2, 1, 2, 1, 1, 2, 1, 1, 2, 1, 2, 1, 1, 2, 1, 2, 1, 1, 2, 1, 1, 2, 1, 2, 1, 1, 2, 1, 2, 1, 1, 2, 1, 1, 2, 1, 2, 1, 1, 2, 1, 2, 1, 1, 2, 1, 1, 2, 1, 2, 1, 1, 2, 1, 2, 1, 1, 2, 1, 1, 2, 1, 2, 1, 1, 2, 1, 2, 1, 1, 2, 1, 1, 2, 1, 2, 1, 1, 2, 1, 2, 1, 1, 2, 1, 1, 2, 1, 2, 1, 1, 2, 1, 2, 1, 1, 2, 1, 1, 2, 1, 2, 1, 1, 2, 1, 2, 1, 1, 2, 1, 1, 2, 1, 2, 1, 1, 2, 1, 2, 1, 1, 2, 1, 1, 2, 1, 2, 1, 1, 2, 1, 2, 1, 1, 2, 1, 1, 2, 1, 2, 1, 1, 2, 1, 2, 1, 1, 2, 1, 1, 2, 1, 2, 1, 1, 2, 1, 2, 1, 1, 2, 1, 1, 2, 1, 2, 1, 1, 2, 1, 2, 1, 1, 2, 1, 1, 2, 1, 2, 1, 1, 2, 1, 2, 1, 1, 2, 1, 1, 2, 1, 2, 1, 1, 2, 1, 2, 1, 1, 2, 1, 1, 2, 1, 2, 1, 1, 2, 1, 2, 1, 1, 2, 1, 1, 2, 1, 2, 1, 1, 2, 1, 2, 1, 1, 2, 1, 1, 2, 1, 2, 1, 1, 2, 1, 2, 1, 1, 2, 1, 1, 2, 1, 2, 1, 1, 2, 1, 2, 1, 1, 2, 1, 1, 2, 1, 2, 1, 1, 2, 1, 2, 1, 1, 2, 1, 1]) of length 326 after prefixing the suffix with 0 times the current s.m.p.Increase the value of the `max_smp_length` keyword argument to go further.\n",
      "\u001b[34m\u001b[1mNew candidate s.m.p. found\u001b[22m\u001b[39m because ⟨v_6*, v⟩ - 1 = 0.0004561309240285194 > 1.0e-9:\n",
      "\u001b[31m\u001b[1maborting\u001b[22m\u001b[39m with smp candidate PSW(1.4092406609048334, [2, 1, 1, 2, 1, 1, 2, 1, 2, 1, 1, 2, 1, 2, 1, 1, 2, 1, 1, 2, 1, 2, 1, 1, 2, 1, 2, 1, 1, 2, 1, 1, 2, 1, 2, 1, 1, 2, 1, 2, 1, 1, 2, 1, 1, 2, 1, 2, 1, 1, 2, 1, 2, 1, 1, 2, 1, 1, 2, 1, 2, 1, 1, 2, 1, 2, 1, 1, 2, 1, 1, 2, 1, 2, 1, 1, 2, 1, 2, 1, 1, 2, 1, 1, 2, 1, 2, 1, 1, 2, 1, 2, 1, 1, 2, 1, 1, 2, 1, 2, 1, 1, 2, 1, 2, 1, 1, 2, 1, 1, 2, 1, 2, 1, 1, 2, 1, 2, 1, 1, 2, 1, 1, 2, 1, 2, 1, 1, 2, 1, 2, 1, 1, 2, 1, 1, 2, 1, 2, 1, 1, 2, 1, 2, 1, 1, 2, 1, 1, 2, 1, 2, 1, 1, 2, 1, 2, 1, 1, 2, 1, 1, 2, 1, 2, 1, 1, 2, 1, 2, 1, 1, 2, 1, 1, 2, 1, 2, 1, 1, 2, 1, 2, 1, 1, 2, 1, 1, 2, 1, 2, 1, 1, 2, 1, 2, 1, 1, 2, 1, 1, 2, 1, 2, 1, 1, 2, 1, 2, 1, 1, 2, 1, 1, 2, 1, 2, 1, 1, 2, 1, 2, 1, 1, 2, 1, 1, 2, 1, 2, 1, 1, 2, 1, 2, 1, 1, 2, 1, 1, 2, 1, 2, 1, 1, 2, 1, 2, 1, 1, 2, 1, 1, 2, 1, 2, 1, 1, 2, 1, 2, 1, 1, 2, 1, 1, 2, 1, 2, 1, 1, 2, 1, 2, 1, 1, 2, 1, 1, 2, 1, 2, 1, 1, 2, 1, 2, 1, 1, 2, 1, 1, 2, 1, 2, 1, 1, 2, 1, 2, 1, 1, 2, 1, 1, 2, 1, 2, 1, 1, 2, 1, 2, 1, 1, 2, 1, 1, 2, 1, 2, 1, 1, 2, 1, 1]) of length 326 after prefixing the suffix with 0 times the current s.m.p.Increase the value of the `max_smp_length` keyword argument to go further.\n",
      "Depth 327: [2274] points, 9 living leaves...\n",
      "Depth 328: [2282] points, 8 living leaves...\n",
      "Depth 329: [2290] points, 8 living leaves...\n",
      "\u001b[34m\u001b[1mNew candidate s.m.p. found\u001b[22m\u001b[39m because ⟨v_6*, v⟩ - 1 = 2.2271201083334802e-7 > 1.0e-9:\n",
      "\u001b[31m\u001b[1maborting\u001b[22m\u001b[39m with smp candidate PSW(1.4092440827803623, [2, 1, 1, 2, 1, 1, 2, 1, 2, 1, 1, 2, 1, 1, 2, 1, 2, 1, 1, 2, 1, 2, 1, 1, 2, 1, 1, 2, 1, 2, 1, 1, 2, 1, 1, 2, 1, 2, 1, 1, 2, 1, 2, 1, 1, 2, 1, 1, 2, 1, 2, 1, 1, 2, 1, 1, 2, 1, 2, 1, 1, 2, 1, 2, 1, 1, 2, 1, 1, 2, 1, 2, 1, 1, 2, 1, 1, 2, 1, 2, 1, 1, 2, 1, 2, 1, 1, 2, 1, 1, 2, 1, 2, 1, 1, 2, 1, 2, 1, 1, 2, 1, 1, 2, 1, 2, 1, 1, 2, 1, 2, 1, 1, 2, 1, 1, 2, 1, 2, 1, 1, 2, 1, 2, 1, 1, 2, 1, 1, 2, 1, 2, 1, 1, 2, 1, 2, 1, 1, 2, 1, 1, 2, 1, 2, 1, 1, 2, 1, 2, 1, 1, 2, 1, 1, 2, 1, 2, 1, 1, 2, 1, 2, 1, 1, 2, 1, 1, 2, 1, 2, 1, 1, 2, 1, 2, 1, 1, 2, 1, 1, 2, 1, 2, 1, 1, 2, 1, 2, 1, 1, 2, 1, 1, 2, 1, 2, 1, 1, 2, 1, 2, 1, 1, 2, 1, 1, 2, 1, 2, 1, 1, 2, 1, 2, 1, 1, 2, 1, 1, 2, 1, 2, 1, 1, 2, 1, 2, 1, 1, 2, 1, 1, 2, 1, 2, 1, 1, 2, 1, 2, 1, 1, 2, 1, 1, 2, 1, 2, 1, 1, 2, 1, 2, 1, 1, 2, 1, 1, 2, 1, 2, 1, 1, 2, 1, 2, 1, 1, 2, 1, 1, 2, 1, 2, 1, 1, 2, 1, 2, 1, 1, 2, 1, 1, 2, 1, 2, 1, 1, 2, 1, 2, 1, 1, 2, 1, 1, 2, 1, 2, 1, 1, 2, 1, 2, 1, 1, 2, 1, 1, 2, 1, 2, 1, 1, 2, 1, 2, 1, 1, 2, 1, 1, 2, 1, 2, 1, 1]) of length 329 after prefixing the suffix with 0 times the current s.m.p.Increase the value of the `max_smp_length` keyword argument to go further.\n",
      "\u001b[34m\u001b[1mNew candidate s.m.p. found\u001b[22m\u001b[39m because ⟨v_6*, v⟩ - 1 = 2.2611308736486535e-7 > 1.0e-9:\n",
      "\u001b[31m\u001b[1maborting\u001b[22m\u001b[39m with smp candidate PSW(1.409244082755274, [2, 1, 1, 2, 1, 1, 2, 1, 2, 1, 1, 2, 1, 1, 2, 1, 2, 1, 1, 2, 1, 2, 1, 1, 2, 1, 1, 2, 1, 2, 1, 1, 2, 1, 1, 2, 1, 2, 1, 1, 2, 1, 2, 1, 1, 2, 1, 1, 2, 1, 2, 1, 1, 2, 1, 1, 2, 1, 2, 1, 1, 2, 1, 2, 1, 1, 2, 1, 1, 2, 1, 2, 1, 1, 2, 1, 2, 1, 1, 2, 1, 1, 2, 1, 2, 1, 1, 2, 1, 2, 1, 1, 2, 1, 1, 2, 1, 2, 1, 1, 2, 1, 2, 1, 1, 2, 1, 1, 2, 1, 2, 1, 1, 2, 1, 2, 1, 1, 2, 1, 1, 2, 1, 2, 1, 1, 2, 1, 2, 1, 1, 2, 1, 1, 2, 1, 2, 1, 1, 2, 1, 2, 1, 1, 2, 1, 1, 2, 1, 2, 1, 1, 2, 1, 2, 1, 1, 2, 1, 1, 2, 1, 2, 1, 1, 2, 1, 2, 1, 1, 2, 1, 1, 2, 1, 2, 1, 1, 2, 1, 2, 1, 1, 2, 1, 1, 2, 1, 2, 1, 1, 2, 1, 2, 1, 1, 2, 1, 1, 2, 1, 2, 1, 1, 2, 1, 2, 1, 1, 2, 1, 1, 2, 1, 2, 1, 1, 2, 1, 2, 1, 1, 2, 1, 1, 2, 1, 2, 1, 1, 2, 1, 2, 1, 1, 2, 1, 1, 2, 1, 2, 1, 1, 2, 1, 2, 1, 1, 2, 1, 1, 2, 1, 2, 1, 1, 2, 1, 2, 1, 1, 2, 1, 1, 2, 1, 2, 1, 1, 2, 1, 2, 1, 1, 2, 1, 1, 2, 1, 2, 1, 1, 2, 1, 2, 1, 1, 2, 1, 1, 2, 1, 2, 1, 1, 2, 1, 2, 1, 1, 2, 1, 1, 2, 1, 2, 1, 1, 2, 1, 2, 1, 1, 2, 1, 1, 2, 1, 2, 1, 1, 2, 1, 1, 2, 1, 2, 1, 1]) of length 329 after prefixing the suffix with 0 times the current s.m.p.Increase the value of the `max_smp_length` keyword argument to go further.\n",
      "\u001b[34m\u001b[1mNew candidate s.m.p. found\u001b[22m\u001b[39m because ⟨v_6*, v⟩ - 1 = 0.00045580516615428834 > 1.0e-9:\n",
      "\u001b[31m\u001b[1maborting\u001b[22m\u001b[39m with smp candidate PSW(1.4092407207328435, [2, 1, 1, 2, 1, 1, 2, 1, 2, 1, 1, 2, 1, 1, 2, 1, 2, 1, 1, 2, 1, 2, 1, 1, 2, 1, 1, 2, 1, 2, 1, 1, 2, 1, 1, 2, 1, 2, 1, 1, 2, 1, 2, 1, 1, 2, 1, 1, 2, 1, 2, 1, 1, 2, 1, 1, 2, 1, 2, 1, 1, 2, 1, 2, 1, 1, 2, 1, 1, 2, 1, 2, 1, 1, 2, 1, 2, 1, 1, 2, 1, 1, 2, 1, 2, 1, 1, 2, 1, 2, 1, 1, 2, 1, 1, 2, 1, 2, 1, 1, 2, 1, 2, 1, 1, 2, 1, 1, 2, 1, 2, 1, 1, 2, 1, 2, 1, 1, 2, 1, 1, 2, 1, 2, 1, 1, 2, 1, 2, 1, 1, 2, 1, 1, 2, 1, 2, 1, 1, 2, 1, 2, 1, 1, 2, 1, 1, 2, 1, 2, 1, 1, 2, 1, 2, 1, 1, 2, 1, 1, 2, 1, 2, 1, 1, 2, 1, 2, 1, 1, 2, 1, 1, 2, 1, 2, 1, 1, 2, 1, 2, 1, 1, 2, 1, 1, 2, 1, 2, 1, 1, 2, 1, 2, 1, 1, 2, 1, 1, 2, 1, 2, 1, 1, 2, 1, 2, 1, 1, 2, 1, 1, 2, 1, 2, 1, 1, 2, 1, 2, 1, 1, 2, 1, 1, 2, 1, 2, 1, 1, 2, 1, 2, 1, 1, 2, 1, 1, 2, 1, 2, 1, 1, 2, 1, 2, 1, 1, 2, 1, 1, 2, 1, 2, 1, 1, 2, 1, 2, 1, 1, 2, 1, 1, 2, 1, 2, 1, 1, 2, 1, 2, 1, 1, 2, 1, 1, 2, 1, 2, 1, 1, 2, 1, 2, 1, 1, 2, 1, 1, 2, 1, 2, 1, 1, 2, 1, 2, 1, 1, 2, 1, 1, 2, 1, 2, 1, 1, 2, 1, 2, 1, 1, 2, 1, 1, 2, 1, 2, 1, 1, 2, 1, 2, 1, 1, 2, 1, 1]) of length 329 after prefixing the suffix with 0 times the current s.m.p.Increase the value of the `max_smp_length` keyword argument to go further.\n"
     ]
    },
    {
     "name": "stdout",
     "output_type": "stream",
     "text": [
      "\u001b[34m\u001b[1mNew candidate s.m.p. found\u001b[22m\u001b[39m because ⟨v_6*, v⟩ - 1 = 0.0004561329744805498 > 1.0e-9:\n",
      "\u001b[31m\u001b[1maborting\u001b[22m\u001b[39m with smp candidate PSW(1.409240718249052, [2, 1, 1, 2, 1, 1, 2, 1, 2, 1, 1, 2, 1, 1, 2, 1, 2, 1, 1, 2, 1, 2, 1, 1, 2, 1, 1, 2, 1, 2, 1, 1, 2, 1, 1, 2, 1, 2, 1, 1, 2, 1, 2, 1, 1, 2, 1, 1, 2, 1, 2, 1, 1, 2, 1, 2, 1, 1, 2, 1, 1, 2, 1, 2, 1, 1, 2, 1, 2, 1, 1, 2, 1, 1, 2, 1, 2, 1, 1, 2, 1, 2, 1, 1, 2, 1, 1, 2, 1, 2, 1, 1, 2, 1, 2, 1, 1, 2, 1, 1, 2, 1, 2, 1, 1, 2, 1, 2, 1, 1, 2, 1, 1, 2, 1, 2, 1, 1, 2, 1, 2, 1, 1, 2, 1, 1, 2, 1, 2, 1, 1, 2, 1, 2, 1, 1, 2, 1, 1, 2, 1, 2, 1, 1, 2, 1, 2, 1, 1, 2, 1, 1, 2, 1, 2, 1, 1, 2, 1, 2, 1, 1, 2, 1, 1, 2, 1, 2, 1, 1, 2, 1, 2, 1, 1, 2, 1, 1, 2, 1, 2, 1, 1, 2, 1, 2, 1, 1, 2, 1, 1, 2, 1, 2, 1, 1, 2, 1, 2, 1, 1, 2, 1, 1, 2, 1, 2, 1, 1, 2, 1, 2, 1, 1, 2, 1, 1, 2, 1, 2, 1, 1, 2, 1, 2, 1, 1, 2, 1, 1, 2, 1, 2, 1, 1, 2, 1, 2, 1, 1, 2, 1, 1, 2, 1, 2, 1, 1, 2, 1, 2, 1, 1, 2, 1, 1, 2, 1, 2, 1, 1, 2, 1, 2, 1, 1, 2, 1, 1, 2, 1, 2, 1, 1, 2, 1, 2, 1, 1, 2, 1, 1, 2, 1, 2, 1, 1, 2, 1, 2, 1, 1, 2, 1, 1, 2, 1, 2, 1, 1, 2, 1, 2, 1, 1, 2, 1, 1, 2, 1, 2, 1, 1, 2, 1, 2, 1, 1, 2, 1, 1, 2, 1, 2, 1, 1, 2, 1, 1]) of length 329 after prefixing the suffix with 0 times the current s.m.p.Increase the value of the `max_smp_length` keyword argument to go further.\n",
      "Depth 330: [2298] points, 8 living leaves...\n",
      "Depth 331: [2306] points, 8 living leaves...\n",
      "\u001b[34m\u001b[1mNew candidate s.m.p. found\u001b[22m\u001b[39m because ⟨v_6*, v⟩ - 1 = 2.2407806654634044e-7 > 1.0e-9:\n",
      "\u001b[31m\u001b[1maborting\u001b[22m\u001b[39m with smp candidate PSW(1.4092441017487876, [2, 1, 1, 2, 1, 1, 2, 1, 2, 1, 1, 2, 1, 1, 2, 1, 2, 1, 1, 2, 1, 2, 1, 1, 2, 1, 1, 2, 1, 2, 1, 1, 2, 1, 2, 1, 1, 2, 1, 1, 2, 1, 2, 1, 1, 2, 1, 2, 1, 1, 2, 1, 1, 2, 1, 2, 1, 1, 2, 1, 2, 1, 1, 2, 1, 1, 2, 1, 2, 1, 1, 2, 1, 2, 1, 1, 2, 1, 1, 2, 1, 2, 1, 1, 2, 1, 2, 1, 1, 2, 1, 1, 2, 1, 2, 1, 1, 2, 1, 2, 1, 1, 2, 1, 1, 2, 1, 2, 1, 1, 2, 1, 2, 1, 1, 2, 1, 1, 2, 1, 2, 1, 1, 2, 1, 2, 1, 1, 2, 1, 1, 2, 1, 2, 1, 1, 2, 1, 2, 1, 1, 2, 1, 1, 2, 1, 2, 1, 1, 2, 1, 2, 1, 1, 2, 1, 1, 2, 1, 2, 1, 1, 2, 1, 2, 1, 1, 2, 1, 1, 2, 1, 2, 1, 1, 2, 1, 2, 1, 1, 2, 1, 1, 2, 1, 2, 1, 1, 2, 1, 2, 1, 1, 2, 1, 1, 2, 1, 2, 1, 1, 2, 1, 2, 1, 1, 2, 1, 1, 2, 1, 2, 1, 1, 2, 1, 2, 1, 1, 2, 1, 1, 2, 1, 2, 1, 1, 2, 1, 2, 1, 1, 2, 1, 1, 2, 1, 2, 1, 1, 2, 1, 2, 1, 1, 2, 1, 1, 2, 1, 2, 1, 1, 2, 1, 2, 1, 1, 2, 1, 1, 2, 1, 2, 1, 1, 2, 1, 2, 1, 1, 2, 1, 1, 2, 1, 2, 1, 1, 2, 1, 2, 1, 1, 2, 1, 1, 2, 1, 2, 1, 1, 2, 1, 2, 1, 1, 2, 1, 1, 2, 1, 2, 1, 1, 2, 1, 2, 1, 1, 2, 1, 1, 2, 1, 2, 1, 1, 2, 1, 2, 1, 1, 2, 1, 1, 2, 1, 2, 1, 1]) of length 331 after prefixing the suffix with 0 times the current s.m.p.Increase the value of the `max_smp_length` keyword argument to go further.\n",
      "\u001b[34m\u001b[1mNew candidate s.m.p. found\u001b[22m\u001b[39m because ⟨v_6*, v⟩ - 1 = 2.2747914329990238e-7 > 1.0e-9:\n",
      "\u001b[31m\u001b[1maborting\u001b[22m\u001b[39m with smp candidate PSW(1.4092441040288306, [2, 1, 1, 2, 1, 1, 2, 1, 2, 1, 1, 2, 1, 2, 1, 1, 2, 1, 1, 2, 1, 2, 1, 1, 2, 1, 2, 1, 1, 2, 1, 1, 2, 1, 2, 1, 1, 2, 1, 2, 1, 1, 2, 1, 1, 2, 1, 2, 1, 1, 2, 1, 2, 1, 1, 2, 1, 1, 2, 1, 2, 1, 1, 2, 1, 2, 1, 1, 2, 1, 1, 2, 1, 2, 1, 1, 2, 1, 2, 1, 1, 2, 1, 1, 2, 1, 2, 1, 1, 2, 1, 2, 1, 1, 2, 1, 1, 2, 1, 2, 1, 1, 2, 1, 2, 1, 1, 2, 1, 1, 2, 1, 2, 1, 1, 2, 1, 2, 1, 1, 2, 1, 1, 2, 1, 2, 1, 1, 2, 1, 2, 1, 1, 2, 1, 1, 2, 1, 2, 1, 1, 2, 1, 2, 1, 1, 2, 1, 1, 2, 1, 2, 1, 1, 2, 1, 2, 1, 1, 2, 1, 1, 2, 1, 2, 1, 1, 2, 1, 2, 1, 1, 2, 1, 1, 2, 1, 2, 1, 1, 2, 1, 2, 1, 1, 2, 1, 1, 2, 1, 2, 1, 1, 2, 1, 2, 1, 1, 2, 1, 1, 2, 1, 2, 1, 1, 2, 1, 2, 1, 1, 2, 1, 1, 2, 1, 2, 1, 1, 2, 1, 2, 1, 1, 2, 1, 1, 2, 1, 2, 1, 1, 2, 1, 2, 1, 1, 2, 1, 1, 2, 1, 2, 1, 1, 2, 1, 2, 1, 1, 2, 1, 1, 2, 1, 2, 1, 1, 2, 1, 2, 1, 1, 2, 1, 1, 2, 1, 2, 1, 1, 2, 1, 2, 1, 1, 2, 1, 1, 2, 1, 2, 1, 1, 2, 1, 2, 1, 1, 2, 1, 1, 2, 1, 2, 1, 1, 2, 1, 2, 1, 1, 2, 1, 1, 2, 1, 2, 1, 1, 2, 1, 2, 1, 1, 2, 1, 1, 2, 1, 2, 1, 1, 2, 1, 1, 2, 1, 2, 1, 1]) of length 331 after prefixing the suffix with 0 times the current s.m.p.Increase the value of the `max_smp_length` keyword argument to go further.\n",
      "\u001b[34m\u001b[1mNew candidate s.m.p. found\u001b[22m\u001b[39m because ⟨v_6*, v⟩ - 1 = 0.0004558065328326144 > 1.0e-9:\n",
      "\u001b[31m\u001b[1maborting\u001b[22m\u001b[39m with smp candidate PSW(1.4092407624843502, [2, 1, 1, 2, 1, 1, 2, 1, 2, 1, 1, 2, 1, 2, 1, 1, 2, 1, 1, 2, 1, 2, 1, 1, 2, 1, 2, 1, 1, 2, 1, 1, 2, 1, 2, 1, 1, 2, 1, 2, 1, 1, 2, 1, 1, 2, 1, 2, 1, 1, 2, 1, 2, 1, 1, 2, 1, 1, 2, 1, 2, 1, 1, 2, 1, 2, 1, 1, 2, 1, 1, 2, 1, 2, 1, 1, 2, 1, 2, 1, 1, 2, 1, 1, 2, 1, 2, 1, 1, 2, 1, 2, 1, 1, 2, 1, 1, 2, 1, 2, 1, 1, 2, 1, 2, 1, 1, 2, 1, 1, 2, 1, 2, 1, 1, 2, 1, 2, 1, 1, 2, 1, 1, 2, 1, 2, 1, 1, 2, 1, 2, 1, 1, 2, 1, 1, 2, 1, 2, 1, 1, 2, 1, 2, 1, 1, 2, 1, 1, 2, 1, 2, 1, 1, 2, 1, 2, 1, 1, 2, 1, 1, 2, 1, 2, 1, 1, 2, 1, 2, 1, 1, 2, 1, 1, 2, 1, 2, 1, 1, 2, 1, 2, 1, 1, 2, 1, 1, 2, 1, 2, 1, 1, 2, 1, 2, 1, 1, 2, 1, 1, 2, 1, 2, 1, 1, 2, 1, 2, 1, 1, 2, 1, 1, 2, 1, 2, 1, 1, 2, 1, 2, 1, 1, 2, 1, 1, 2, 1, 2, 1, 1, 2, 1, 2, 1, 1, 2, 1, 1, 2, 1, 2, 1, 1, 2, 1, 2, 1, 1, 2, 1, 1, 2, 1, 2, 1, 1, 2, 1, 2, 1, 1, 2, 1, 1, 2, 1, 2, 1, 1, 2, 1, 2, 1, 1, 2, 1, 1, 2, 1, 2, 1, 1, 2, 1, 2, 1, 1, 2, 1, 1, 2, 1, 2, 1, 1, 2, 1, 2, 1, 1, 2, 1, 1, 2, 1, 2, 1, 1, 2, 1, 2, 1, 1, 2, 1, 1, 2, 1, 2, 1, 1, 2, 1, 2, 1, 1, 2, 1, 1]) of length 331 after prefixing the suffix with 0 times the current s.m.p.Increase the value of the `max_smp_length` keyword argument to go further.\n",
      "Depth 332: [2314] points, 8 living leaves...\n",
      "\u001b[34m\u001b[1mNew candidate s.m.p. found\u001b[22m\u001b[39m because ⟨v_6*, v⟩ - 1 = 0.00045613502493035973 > 1.0e-9:\n",
      "\u001b[31m\u001b[1maborting\u001b[22m\u001b[39m with smp candidate PSW(1.4092407770182793, [2, 1, 1, 2, 1, 1, 2, 1, 2, 1, 1, 2, 1, 1, 2, 1, 2, 1, 1, 2, 1, 2, 1, 1, 2, 1, 1, 2, 1, 2, 1, 1, 2, 1, 1, 2, 1, 2, 1, 1, 2, 1, 2, 1, 1, 2, 1, 1, 2, 1, 2, 1, 1, 2, 1, 1, 2, 1, 2, 1, 1, 2, 1, 2, 1, 1, 2, 1, 1, 2, 1, 2, 1, 1, 2, 1, 1, 2, 1, 2, 1, 1, 2, 1, 2, 1, 1, 2, 1, 1, 2, 1, 2, 1, 1, 2, 1, 2, 1, 1, 2, 1, 1, 2, 1, 2, 1, 1, 2, 1, 2, 1, 1, 2, 1, 1, 2, 1, 2, 1, 1, 2, 1, 2, 1, 1, 2, 1, 1, 2, 1, 2, 1, 1, 2, 1, 2, 1, 1, 2, 1, 1, 2, 1, 2, 1, 1, 2, 1, 2, 1, 1, 2, 1, 1, 2, 1, 2, 1, 1, 2, 1, 2, 1, 1, 2, 1, 1, 2, 1, 2, 1, 1, 2, 1, 2, 1, 1, 2, 1, 1, 2, 1, 2, 1, 1, 2, 1, 2, 1, 1, 2, 1, 1, 2, 1, 2, 1, 1, 2, 1, 2, 1, 1, 2, 1, 1, 2, 1, 2, 1, 1, 2, 1, 2, 1, 1, 2, 1, 1, 2, 1, 2, 1, 1, 2, 1, 2, 1, 1, 2, 1, 1, 2, 1, 2, 1, 1, 2, 1, 2, 1, 1, 2, 1, 1, 2, 1, 2, 1, 1, 2, 1, 2, 1, 1, 2, 1, 1, 2, 1, 2, 1, 1, 2, 1, 2, 1, 1, 2, 1, 1, 2, 1, 2, 1, 1, 2, 1, 2, 1, 1, 2, 1, 1, 2, 1, 2, 1, 1, 2, 1, 2, 1, 1, 2, 1, 1, 2, 1, 2, 1, 1, 2, 1, 2, 1, 1, 2, 1, 1, 2, 1, 2, 1, 1, 2, 1, 2, 1, 1, 2, 1, 1, 2, 1, 2, 1, 1, 2, 1, 1]) of length 332 after prefixing the suffix with 0 times the current s.m.p.Increase the value of the `max_smp_length` keyword argument to go further.\n",
      "Depth 333: [2322] points, 8 living leaves...\n",
      "Depth 334: [2330] points, 8 living leaves...\n",
      "\u001b[34m\u001b[1mNew candidate s.m.p. found\u001b[22m\u001b[39m because ⟨v_6*, v⟩ - 1 = 2.2612758310280867e-7 > 1.0e-9:\n",
      "\u001b[31m\u001b[1maborting\u001b[22m\u001b[39m with smp candidate PSW(1.4092441297754899, [2, 1, 1, 2, 1, 1, 2, 1, 2, 1, 1, 2, 1, 1, 2, 1, 2, 1, 1, 2, 1, 2, 1, 1, 2, 1, 1, 2, 1, 2, 1, 1, 2, 1, 1, 2, 1, 2, 1, 1, 2, 1, 2, 1, 1, 2, 1, 1, 2, 1, 2, 1, 1, 2, 1, 1, 2, 1, 2, 1, 1, 2, 1, 2, 1, 1, 2, 1, 1, 2, 1, 2, 1, 1, 2, 1, 2, 1, 1, 2, 1, 1, 2, 1, 2, 1, 1, 2, 1, 2, 1, 1, 2, 1, 1, 2, 1, 2, 1, 1, 2, 1, 2, 1, 1, 2, 1, 1, 2, 1, 2, 1, 1, 2, 1, 2, 1, 1, 2, 1, 1, 2, 1, 2, 1, 1, 2, 1, 2, 1, 1, 2, 1, 1, 2, 1, 2, 1, 1, 2, 1, 2, 1, 1, 2, 1, 1, 2, 1, 2, 1, 1, 2, 1, 2, 1, 1, 2, 1, 1, 2, 1, 2, 1, 1, 2, 1, 2, 1, 1, 2, 1, 1, 2, 1, 2, 1, 1, 2, 1, 2, 1, 1, 2, 1, 1, 2, 1, 2, 1, 1, 2, 1, 2, 1, 1, 2, 1, 1, 2, 1, 2, 1, 1, 2, 1, 2, 1, 1, 2, 1, 1, 2, 1, 2, 1, 1, 2, 1, 2, 1, 1, 2, 1, 1, 2, 1, 2, 1, 1, 2, 1, 2, 1, 1, 2, 1, 1, 2, 1, 2, 1, 1, 2, 1, 2, 1, 1, 2, 1, 1, 2, 1, 2, 1, 1, 2, 1, 2, 1, 1, 2, 1, 1, 2, 1, 2, 1, 1, 2, 1, 2, 1, 1, 2, 1, 1, 2, 1, 2, 1, 1, 2, 1, 2, 1, 1, 2, 1, 1, 2, 1, 2, 1, 1, 2, 1, 2, 1, 1, 2, 1, 1, 2, 1, 2, 1, 1, 2, 1, 2, 1, 1, 2, 1, 1, 2, 1, 2, 1, 1, 2, 1, 2, 1, 1, 2, 1, 1, 2, 1, 2, 1, 1]) of length 334 after prefixing the suffix with 0 times the current s.m.p.Increase the value of the `max_smp_length` keyword argument to go further.\n",
      "\u001b[34m\u001b[1mNew candidate s.m.p. found\u001b[22m\u001b[39m because ⟨v_6*, v⟩ - 1 = 2.2952866118863824e-7 > 1.0e-9:\n",
      "\u001b[31m\u001b[1maborting\u001b[22m\u001b[39m with smp candidate PSW(1.409244129750777, [2, 1, 1, 2, 1, 1, 2, 1, 2, 1, 1, 2, 1, 1, 2, 1, 2, 1, 1, 2, 1, 2, 1, 1, 2, 1, 1, 2, 1, 2, 1, 1, 2, 1, 1, 2, 1, 2, 1, 1, 2, 1, 2, 1, 1, 2, 1, 1, 2, 1, 2, 1, 1, 2, 1, 2, 1, 1, 2, 1, 1, 2, 1, 2, 1, 1, 2, 1, 2, 1, 1, 2, 1, 1, 2, 1, 2, 1, 1, 2, 1, 2, 1, 1, 2, 1, 1, 2, 1, 2, 1, 1, 2, 1, 2, 1, 1, 2, 1, 1, 2, 1, 2, 1, 1, 2, 1, 2, 1, 1, 2, 1, 1, 2, 1, 2, 1, 1, 2, 1, 2, 1, 1, 2, 1, 1, 2, 1, 2, 1, 1, 2, 1, 2, 1, 1, 2, 1, 1, 2, 1, 2, 1, 1, 2, 1, 2, 1, 1, 2, 1, 1, 2, 1, 2, 1, 1, 2, 1, 2, 1, 1, 2, 1, 1, 2, 1, 2, 1, 1, 2, 1, 2, 1, 1, 2, 1, 1, 2, 1, 2, 1, 1, 2, 1, 2, 1, 1, 2, 1, 1, 2, 1, 2, 1, 1, 2, 1, 2, 1, 1, 2, 1, 1, 2, 1, 2, 1, 1, 2, 1, 2, 1, 1, 2, 1, 1, 2, 1, 2, 1, 1, 2, 1, 2, 1, 1, 2, 1, 1, 2, 1, 2, 1, 1, 2, 1, 2, 1, 1, 2, 1, 1, 2, 1, 2, 1, 1, 2, 1, 2, 1, 1, 2, 1, 1, 2, 1, 2, 1, 1, 2, 1, 2, 1, 1, 2, 1, 1, 2, 1, 2, 1, 1, 2, 1, 2, 1, 1, 2, 1, 1, 2, 1, 2, 1, 1, 2, 1, 2, 1, 1, 2, 1, 1, 2, 1, 2, 1, 1, 2, 1, 2, 1, 1, 2, 1, 1, 2, 1, 2, 1, 1, 2, 1, 2, 1, 1, 2, 1, 1, 2, 1, 2, 1, 1, 2, 1, 1, 2, 1, 2, 1, 1]) of length 334 after prefixing the suffix with 0 times the current s.m.p.Increase the value of the `max_smp_length` keyword argument to go further.\n"
     ]
    },
    {
     "name": "stdout",
     "output_type": "stream",
     "text": [
      "\u001b[34m\u001b[1mNew candidate s.m.p. found\u001b[22m\u001b[39m because ⟨v_6*, v⟩ - 1 = 0.00045580858328397866 > 1.0e-9:\n",
      "\u001b[31m\u001b[1maborting\u001b[22m\u001b[39m with smp candidate PSW(1.4092408180578542, [2, 1, 1, 2, 1, 1, 2, 1, 2, 1, 1, 2, 1, 1, 2, 1, 2, 1, 1, 2, 1, 2, 1, 1, 2, 1, 1, 2, 1, 2, 1, 1, 2, 1, 1, 2, 1, 2, 1, 1, 2, 1, 2, 1, 1, 2, 1, 1, 2, 1, 2, 1, 1, 2, 1, 2, 1, 1, 2, 1, 1, 2, 1, 2, 1, 1, 2, 1, 2, 1, 1, 2, 1, 1, 2, 1, 2, 1, 1, 2, 1, 2, 1, 1, 2, 1, 1, 2, 1, 2, 1, 1, 2, 1, 2, 1, 1, 2, 1, 1, 2, 1, 2, 1, 1, 2, 1, 2, 1, 1, 2, 1, 1, 2, 1, 2, 1, 1, 2, 1, 2, 1, 1, 2, 1, 1, 2, 1, 2, 1, 1, 2, 1, 2, 1, 1, 2, 1, 1, 2, 1, 2, 1, 1, 2, 1, 2, 1, 1, 2, 1, 1, 2, 1, 2, 1, 1, 2, 1, 2, 1, 1, 2, 1, 1, 2, 1, 2, 1, 1, 2, 1, 2, 1, 1, 2, 1, 1, 2, 1, 2, 1, 1, 2, 1, 2, 1, 1, 2, 1, 1, 2, 1, 2, 1, 1, 2, 1, 2, 1, 1, 2, 1, 1, 2, 1, 2, 1, 1, 2, 1, 2, 1, 1, 2, 1, 1, 2, 1, 2, 1, 1, 2, 1, 2, 1, 1, 2, 1, 1, 2, 1, 2, 1, 1, 2, 1, 2, 1, 1, 2, 1, 1, 2, 1, 2, 1, 1, 2, 1, 2, 1, 1, 2, 1, 1, 2, 1, 2, 1, 1, 2, 1, 2, 1, 1, 2, 1, 1, 2, 1, 2, 1, 1, 2, 1, 2, 1, 1, 2, 1, 1, 2, 1, 2, 1, 1, 2, 1, 2, 1, 1, 2, 1, 1, 2, 1, 2, 1, 1, 2, 1, 2, 1, 1, 2, 1, 1, 2, 1, 2, 1, 1, 2, 1, 2, 1, 1, 2, 1, 1, 2, 1, 2, 1, 1, 2, 1, 2, 1, 1, 2, 1, 1]) of length 334 after prefixing the suffix with 0 times the current s.m.p.Increase the value of the `max_smp_length` keyword argument to go further.\n",
      "\u001b[34m\u001b[1mNew candidate s.m.p. found\u001b[22m\u001b[39m because ⟨v_6*, v⟩ - 1 = 0.0004561363916086858 > 1.0e-9:\n",
      "\u001b[31m\u001b[1maborting\u001b[22m\u001b[39m with smp candidate PSW(1.409240815611245, [2, 1, 1, 2, 1, 1, 2, 1, 2, 1, 1, 2, 1, 1, 2, 1, 2, 1, 1, 2, 1, 2, 1, 1, 2, 1, 1, 2, 1, 2, 1, 1, 2, 1, 2, 1, 1, 2, 1, 1, 2, 1, 2, 1, 1, 2, 1, 2, 1, 1, 2, 1, 1, 2, 1, 2, 1, 1, 2, 1, 2, 1, 1, 2, 1, 1, 2, 1, 2, 1, 1, 2, 1, 2, 1, 1, 2, 1, 1, 2, 1, 2, 1, 1, 2, 1, 2, 1, 1, 2, 1, 1, 2, 1, 2, 1, 1, 2, 1, 2, 1, 1, 2, 1, 1, 2, 1, 2, 1, 1, 2, 1, 2, 1, 1, 2, 1, 1, 2, 1, 2, 1, 1, 2, 1, 2, 1, 1, 2, 1, 1, 2, 1, 2, 1, 1, 2, 1, 2, 1, 1, 2, 1, 1, 2, 1, 2, 1, 1, 2, 1, 2, 1, 1, 2, 1, 1, 2, 1, 2, 1, 1, 2, 1, 2, 1, 1, 2, 1, 1, 2, 1, 2, 1, 1, 2, 1, 2, 1, 1, 2, 1, 1, 2, 1, 2, 1, 1, 2, 1, 2, 1, 1, 2, 1, 1, 2, 1, 2, 1, 1, 2, 1, 2, 1, 1, 2, 1, 1, 2, 1, 2, 1, 1, 2, 1, 2, 1, 1, 2, 1, 1, 2, 1, 2, 1, 1, 2, 1, 2, 1, 1, 2, 1, 1, 2, 1, 2, 1, 1, 2, 1, 2, 1, 1, 2, 1, 1, 2, 1, 2, 1, 1, 2, 1, 2, 1, 1, 2, 1, 1, 2, 1, 2, 1, 1, 2, 1, 2, 1, 1, 2, 1, 1, 2, 1, 2, 1, 1, 2, 1, 2, 1, 1, 2, 1, 1, 2, 1, 2, 1, 1, 2, 1, 2, 1, 1, 2, 1, 1, 2, 1, 2, 1, 1, 2, 1, 2, 1, 1, 2, 1, 1, 2, 1, 2, 1, 1, 2, 1, 2, 1, 1, 2, 1, 1, 2, 1, 2, 1, 1, 2, 1, 1]) of length 334 after prefixing the suffix with 0 times the current s.m.p.Increase the value of the `max_smp_length` keyword argument to go further.\n",
      "Depth 335: [2338] points, 8 living leaves...\n",
      "Depth 336: [2346] points, 8 living leaves...\n",
      "\u001b[34m\u001b[1mNew candidate s.m.p. found\u001b[22m\u001b[39m because ⟨v_6*, v⟩ - 1 = 2.274936388158011e-7 > 1.0e-9:\n",
      "\u001b[31m\u001b[1maborting\u001b[22m\u001b[39m with smp candidate PSW(1.4092441504525932, [2, 1, 1, 2, 1, 1, 2, 1, 2, 1, 1, 2, 1, 2, 1, 1, 2, 1, 1, 2, 1, 2, 1, 1, 2, 1, 2, 1, 1, 2, 1, 1, 2, 1, 2, 1, 1, 2, 1, 2, 1, 1, 2, 1, 1, 2, 1, 2, 1, 1, 2, 1, 2, 1, 1, 2, 1, 1, 2, 1, 2, 1, 1, 2, 1, 2, 1, 1, 2, 1, 1, 2, 1, 2, 1, 1, 2, 1, 2, 1, 1, 2, 1, 1, 2, 1, 2, 1, 1, 2, 1, 2, 1, 1, 2, 1, 1, 2, 1, 2, 1, 1, 2, 1, 2, 1, 1, 2, 1, 1, 2, 1, 2, 1, 1, 2, 1, 2, 1, 1, 2, 1, 1, 2, 1, 2, 1, 1, 2, 1, 2, 1, 1, 2, 1, 1, 2, 1, 2, 1, 1, 2, 1, 2, 1, 1, 2, 1, 1, 2, 1, 2, 1, 1, 2, 1, 2, 1, 1, 2, 1, 1, 2, 1, 2, 1, 1, 2, 1, 2, 1, 1, 2, 1, 1, 2, 1, 2, 1, 1, 2, 1, 2, 1, 1, 2, 1, 1, 2, 1, 2, 1, 1, 2, 1, 2, 1, 1, 2, 1, 1, 2, 1, 2, 1, 1, 2, 1, 2, 1, 1, 2, 1, 1, 2, 1, 2, 1, 1, 2, 1, 2, 1, 1, 2, 1, 1, 2, 1, 2, 1, 1, 2, 1, 2, 1, 1, 2, 1, 1, 2, 1, 2, 1, 1, 2, 1, 2, 1, 1, 2, 1, 1, 2, 1, 2, 1, 1, 2, 1, 2, 1, 1, 2, 1, 1, 2, 1, 2, 1, 1, 2, 1, 2, 1, 1, 2, 1, 1, 2, 1, 2, 1, 1, 2, 1, 2, 1, 1, 2, 1, 1, 2, 1, 2, 1, 1, 2, 1, 2, 1, 1, 2, 1, 1, 2, 1, 2, 1, 1, 2, 1, 2, 1, 1, 2, 1, 1, 2, 1, 2, 1, 1, 2, 1, 2, 1, 1, 2, 1, 1, 2, 1, 2, 1, 1]) of length 336 after prefixing the suffix with 0 times the current s.m.p.Increase the value of the `max_smp_length` keyword argument to go further.\n",
      "Depth 337: [2354] points, 8 living leaves...\n",
      "\u001b[34m\u001b[1mNew candidate s.m.p. found\u001b[22m\u001b[39m because ⟨v_6*, v⟩ - 1 = 2.3157817663488345e-7 > 1.0e-9:\n",
      "\u001b[31m\u001b[1maborting\u001b[22m\u001b[39m with smp candidate PSW(1.4092441572787082, [2, 1, 1, 2, 1, 1, 2, 1, 2, 1, 1, 2, 1, 1, 2, 1, 2, 1, 1, 2, 1, 2, 1, 1, 2, 1, 1, 2, 1, 2, 1, 1, 2, 1, 1, 2, 1, 2, 1, 1, 2, 1, 2, 1, 1, 2, 1, 1, 2, 1, 2, 1, 1, 2, 1, 1, 2, 1, 2, 1, 1, 2, 1, 2, 1, 1, 2, 1, 1, 2, 1, 2, 1, 1, 2, 1, 1, 2, 1, 2, 1, 1, 2, 1, 2, 1, 1, 2, 1, 1, 2, 1, 2, 1, 1, 2, 1, 2, 1, 1, 2, 1, 1, 2, 1, 2, 1, 1, 2, 1, 2, 1, 1, 2, 1, 1, 2, 1, 2, 1, 1, 2, 1, 2, 1, 1, 2, 1, 1, 2, 1, 2, 1, 1, 2, 1, 2, 1, 1, 2, 1, 1, 2, 1, 2, 1, 1, 2, 1, 2, 1, 1, 2, 1, 1, 2, 1, 2, 1, 1, 2, 1, 2, 1, 1, 2, 1, 1, 2, 1, 2, 1, 1, 2, 1, 2, 1, 1, 2, 1, 1, 2, 1, 2, 1, 1, 2, 1, 2, 1, 1, 2, 1, 1, 2, 1, 2, 1, 1, 2, 1, 2, 1, 1, 2, 1, 1, 2, 1, 2, 1, 1, 2, 1, 2, 1, 1, 2, 1, 1, 2, 1, 2, 1, 1, 2, 1, 2, 1, 1, 2, 1, 1, 2, 1, 2, 1, 1, 2, 1, 2, 1, 1, 2, 1, 1, 2, 1, 2, 1, 1, 2, 1, 2, 1, 1, 2, 1, 1, 2, 1, 2, 1, 1, 2, 1, 2, 1, 1, 2, 1, 1, 2, 1, 2, 1, 1, 2, 1, 2, 1, 1, 2, 1, 1, 2, 1, 2, 1, 1, 2, 1, 2, 1, 1, 2, 1, 1, 2, 1, 2, 1, 1, 2, 1, 2, 1, 1, 2, 1, 1, 2, 1, 2, 1, 1, 2, 1, 2, 1, 1, 2, 1, 1, 2, 1, 2, 1, 1, 2, 1, 1, 2, 1, 2, 1, 1]) of length 337 after prefixing the suffix with 0 times the current s.m.p.Increase the value of the `max_smp_length` keyword argument to go further.\n",
      "\u001b[34m\u001b[1mNew candidate s.m.p. found\u001b[22m\u001b[39m because ⟨v_6*, v⟩ - 1 = 0.00045581063373290043 > 1.0e-9:\n",
      "\u001b[31m\u001b[1maborting\u001b[22m\u001b[39m with smp candidate PSW(1.4092408750666328, [2, 1, 1, 2, 1, 1, 2, 1, 2, 1, 1, 2, 1, 1, 2, 1, 2, 1, 1, 2, 1, 2, 1, 1, 2, 1, 1, 2, 1, 2, 1, 1, 2, 1, 1, 2, 1, 2, 1, 1, 2, 1, 2, 1, 1, 2, 1, 1, 2, 1, 2, 1, 1, 2, 1, 1, 2, 1, 2, 1, 1, 2, 1, 2, 1, 1, 2, 1, 1, 2, 1, 2, 1, 1, 2, 1, 1, 2, 1, 2, 1, 1, 2, 1, 2, 1, 1, 2, 1, 1, 2, 1, 2, 1, 1, 2, 1, 2, 1, 1, 2, 1, 1, 2, 1, 2, 1, 1, 2, 1, 2, 1, 1, 2, 1, 1, 2, 1, 2, 1, 1, 2, 1, 2, 1, 1, 2, 1, 1, 2, 1, 2, 1, 1, 2, 1, 2, 1, 1, 2, 1, 1, 2, 1, 2, 1, 1, 2, 1, 2, 1, 1, 2, 1, 1, 2, 1, 2, 1, 1, 2, 1, 2, 1, 1, 2, 1, 1, 2, 1, 2, 1, 1, 2, 1, 2, 1, 1, 2, 1, 1, 2, 1, 2, 1, 1, 2, 1, 2, 1, 1, 2, 1, 1, 2, 1, 2, 1, 1, 2, 1, 2, 1, 1, 2, 1, 1, 2, 1, 2, 1, 1, 2, 1, 2, 1, 1, 2, 1, 1, 2, 1, 2, 1, 1, 2, 1, 2, 1, 1, 2, 1, 1, 2, 1, 2, 1, 1, 2, 1, 2, 1, 1, 2, 1, 1, 2, 1, 2, 1, 1, 2, 1, 2, 1, 1, 2, 1, 1, 2, 1, 2, 1, 1, 2, 1, 2, 1, 1, 2, 1, 1, 2, 1, 2, 1, 1, 2, 1, 2, 1, 1, 2, 1, 1, 2, 1, 2, 1, 1, 2, 1, 2, 1, 1, 2, 1, 1, 2, 1, 2, 1, 1, 2, 1, 2, 1, 1, 2, 1, 1, 2, 1, 2, 1, 1, 2, 1, 2, 1, 1, 2, 1, 1, 2, 1, 2, 1, 1, 2, 1, 2, 1, 1, 2, 1, 1]) of length 337 after prefixing the suffix with 0 times the current s.m.p.Increase the value of the `max_smp_length` keyword argument to go further.\n",
      "\u001b[34m\u001b[1mNew candidate s.m.p. found\u001b[22m\u001b[39m because ⟨v_6*, v⟩ - 1 = 0.000456138442059828 > 1.0e-9:\n",
      "\u001b[31m\u001b[1maborting\u001b[22m\u001b[39m with smp candidate PSW(1.4092408726418033, [2, 1, 1, 2, 1, 1, 2, 1, 2, 1, 1, 2, 1, 1, 2, 1, 2, 1, 1, 2, 1, 2, 1, 1, 2, 1, 1, 2, 1, 2, 1, 1, 2, 1, 1, 2, 1, 2, 1, 1, 2, 1, 2, 1, 1, 2, 1, 1, 2, 1, 2, 1, 1, 2, 1, 1, 2, 1, 2, 1, 1, 2, 1, 2, 1, 1, 2, 1, 1, 2, 1, 2, 1, 1, 2, 1, 2, 1, 1, 2, 1, 1, 2, 1, 2, 1, 1, 2, 1, 2, 1, 1, 2, 1, 1, 2, 1, 2, 1, 1, 2, 1, 2, 1, 1, 2, 1, 1, 2, 1, 2, 1, 1, 2, 1, 2, 1, 1, 2, 1, 1, 2, 1, 2, 1, 1, 2, 1, 2, 1, 1, 2, 1, 1, 2, 1, 2, 1, 1, 2, 1, 2, 1, 1, 2, 1, 1, 2, 1, 2, 1, 1, 2, 1, 2, 1, 1, 2, 1, 1, 2, 1, 2, 1, 1, 2, 1, 2, 1, 1, 2, 1, 1, 2, 1, 2, 1, 1, 2, 1, 2, 1, 1, 2, 1, 1, 2, 1, 2, 1, 1, 2, 1, 2, 1, 1, 2, 1, 1, 2, 1, 2, 1, 1, 2, 1, 2, 1, 1, 2, 1, 1, 2, 1, 2, 1, 1, 2, 1, 2, 1, 1, 2, 1, 1, 2, 1, 2, 1, 1, 2, 1, 2, 1, 1, 2, 1, 1, 2, 1, 2, 1, 1, 2, 1, 2, 1, 1, 2, 1, 1, 2, 1, 2, 1, 1, 2, 1, 2, 1, 1, 2, 1, 1, 2, 1, 2, 1, 1, 2, 1, 2, 1, 1, 2, 1, 1, 2, 1, 2, 1, 1, 2, 1, 2, 1, 1, 2, 1, 1, 2, 1, 2, 1, 1, 2, 1, 2, 1, 1, 2, 1, 1, 2, 1, 2, 1, 1, 2, 1, 2, 1, 1, 2, 1, 1, 2, 1, 2, 1, 1, 2, 1, 2, 1, 1, 2, 1, 1, 2, 1, 2, 1, 1, 2, 1, 1]) of length 337 after prefixing the suffix with 0 times the current s.m.p.Increase the value of the `max_smp_length` keyword argument to go further.\n",
      "Depth 338: [2362] points, 8 living leaves...\n"
     ]
    },
    {
     "name": "stdout",
     "output_type": "stream",
     "text": [
      "Depth 339: [2370] points, 8 living leaves...\n",
      "\u001b[34m\u001b[1mNew candidate s.m.p. found\u001b[22m\u001b[39m because ⟨v_6*, v⟩ - 1 = 2.2954315692658156e-7 > 1.0e-9:\n",
      "\u001b[31m\u001b[1maborting\u001b[22m\u001b[39m with smp candidate PSW(1.409244175384332, [2, 1, 1, 2, 1, 1, 2, 1, 2, 1, 1, 2, 1, 1, 2, 1, 2, 1, 1, 2, 1, 2, 1, 1, 2, 1, 1, 2, 1, 2, 1, 1, 2, 1, 1, 2, 1, 2, 1, 1, 2, 1, 2, 1, 1, 2, 1, 1, 2, 1, 2, 1, 1, 2, 1, 2, 1, 1, 2, 1, 1, 2, 1, 2, 1, 1, 2, 1, 2, 1, 1, 2, 1, 1, 2, 1, 2, 1, 1, 2, 1, 2, 1, 1, 2, 1, 1, 2, 1, 2, 1, 1, 2, 1, 2, 1, 1, 2, 1, 1, 2, 1, 2, 1, 1, 2, 1, 2, 1, 1, 2, 1, 1, 2, 1, 2, 1, 1, 2, 1, 2, 1, 1, 2, 1, 1, 2, 1, 2, 1, 1, 2, 1, 2, 1, 1, 2, 1, 1, 2, 1, 2, 1, 1, 2, 1, 2, 1, 1, 2, 1, 1, 2, 1, 2, 1, 1, 2, 1, 2, 1, 1, 2, 1, 1, 2, 1, 2, 1, 1, 2, 1, 2, 1, 1, 2, 1, 1, 2, 1, 2, 1, 1, 2, 1, 2, 1, 1, 2, 1, 1, 2, 1, 2, 1, 1, 2, 1, 2, 1, 1, 2, 1, 1, 2, 1, 2, 1, 1, 2, 1, 2, 1, 1, 2, 1, 1, 2, 1, 2, 1, 1, 2, 1, 2, 1, 1, 2, 1, 1, 2, 1, 2, 1, 1, 2, 1, 2, 1, 1, 2, 1, 1, 2, 1, 2, 1, 1, 2, 1, 2, 1, 1, 2, 1, 1, 2, 1, 2, 1, 1, 2, 1, 2, 1, 1, 2, 1, 1, 2, 1, 2, 1, 1, 2, 1, 2, 1, 1, 2, 1, 1, 2, 1, 2, 1, 1, 2, 1, 2, 1, 1, 2, 1, 1, 2, 1, 2, 1, 1, 2, 1, 2, 1, 1, 2, 1, 1, 2, 1, 2, 1, 1, 2, 1, 2, 1, 1, 2, 1, 1, 2, 1, 2, 1, 1, 2, 1, 2, 1, 1, 2, 1, 1, 2, 1, 2, 1, 1]) of length 339 after prefixing the suffix with 0 times the current s.m.p.Increase the value of the `max_smp_length` keyword argument to go further.\n",
      "\u001b[34m\u001b[1mNew candidate s.m.p. found\u001b[22m\u001b[39m because ⟨v_6*, v⟩ - 1 = 2.3294423212583126e-7 > 1.0e-9:\n",
      "\u001b[31m\u001b[1maborting\u001b[22m\u001b[39m with smp candidate PSW(1.4092441753599836, [2, 1, 1, 2, 1, 1, 2, 1, 2, 1, 1, 2, 1, 1, 2, 1, 2, 1, 1, 2, 1, 2, 1, 1, 2, 1, 1, 2, 1, 2, 1, 1, 2, 1, 2, 1, 1, 2, 1, 1, 2, 1, 2, 1, 1, 2, 1, 2, 1, 1, 2, 1, 1, 2, 1, 2, 1, 1, 2, 1, 2, 1, 1, 2, 1, 1, 2, 1, 2, 1, 1, 2, 1, 2, 1, 1, 2, 1, 1, 2, 1, 2, 1, 1, 2, 1, 2, 1, 1, 2, 1, 1, 2, 1, 2, 1, 1, 2, 1, 2, 1, 1, 2, 1, 1, 2, 1, 2, 1, 1, 2, 1, 2, 1, 1, 2, 1, 1, 2, 1, 2, 1, 1, 2, 1, 2, 1, 1, 2, 1, 1, 2, 1, 2, 1, 1, 2, 1, 2, 1, 1, 2, 1, 1, 2, 1, 2, 1, 1, 2, 1, 2, 1, 1, 2, 1, 1, 2, 1, 2, 1, 1, 2, 1, 2, 1, 1, 2, 1, 1, 2, 1, 2, 1, 1, 2, 1, 2, 1, 1, 2, 1, 1, 2, 1, 2, 1, 1, 2, 1, 2, 1, 1, 2, 1, 1, 2, 1, 2, 1, 1, 2, 1, 2, 1, 1, 2, 1, 1, 2, 1, 2, 1, 1, 2, 1, 2, 1, 1, 2, 1, 1, 2, 1, 2, 1, 1, 2, 1, 2, 1, 1, 2, 1, 1, 2, 1, 2, 1, 1, 2, 1, 2, 1, 1, 2, 1, 1, 2, 1, 2, 1, 1, 2, 1, 2, 1, 1, 2, 1, 1, 2, 1, 2, 1, 1, 2, 1, 2, 1, 1, 2, 1, 1, 2, 1, 2, 1, 1, 2, 1, 2, 1, 1, 2, 1, 1, 2, 1, 2, 1, 1, 2, 1, 2, 1, 1, 2, 1, 1, 2, 1, 2, 1, 1, 2, 1, 2, 1, 1, 2, 1, 1, 2, 1, 2, 1, 1, 2, 1, 2, 1, 1, 2, 1, 1, 2, 1, 2, 1, 1, 2, 1, 1, 2, 1, 2, 1, 1]) of length 339 after prefixing the suffix with 0 times the current s.m.p.Increase the value of the `max_smp_length` keyword argument to go further.\n",
      "\u001b[34m\u001b[1mNew candidate s.m.p. found\u001b[22m\u001b[39m because ⟨v_6*, v⟩ - 1 = 0.00045581200041100445 > 1.0e-9:\n",
      "\u001b[31m\u001b[1maborting\u001b[22m\u001b[39m with smp candidate PSW(1.409240912511927, [2, 1, 1, 2, 1, 1, 2, 1, 2, 1, 1, 2, 1, 1, 2, 1, 2, 1, 1, 2, 1, 2, 1, 1, 2, 1, 1, 2, 1, 2, 1, 1, 2, 1, 2, 1, 1, 2, 1, 1, 2, 1, 2, 1, 1, 2, 1, 2, 1, 1, 2, 1, 1, 2, 1, 2, 1, 1, 2, 1, 2, 1, 1, 2, 1, 1, 2, 1, 2, 1, 1, 2, 1, 2, 1, 1, 2, 1, 1, 2, 1, 2, 1, 1, 2, 1, 2, 1, 1, 2, 1, 1, 2, 1, 2, 1, 1, 2, 1, 2, 1, 1, 2, 1, 1, 2, 1, 2, 1, 1, 2, 1, 2, 1, 1, 2, 1, 1, 2, 1, 2, 1, 1, 2, 1, 2, 1, 1, 2, 1, 1, 2, 1, 2, 1, 1, 2, 1, 2, 1, 1, 2, 1, 1, 2, 1, 2, 1, 1, 2, 1, 2, 1, 1, 2, 1, 1, 2, 1, 2, 1, 1, 2, 1, 2, 1, 1, 2, 1, 1, 2, 1, 2, 1, 1, 2, 1, 2, 1, 1, 2, 1, 1, 2, 1, 2, 1, 1, 2, 1, 2, 1, 1, 2, 1, 1, 2, 1, 2, 1, 1, 2, 1, 2, 1, 1, 2, 1, 1, 2, 1, 2, 1, 1, 2, 1, 2, 1, 1, 2, 1, 1, 2, 1, 2, 1, 1, 2, 1, 2, 1, 1, 2, 1, 1, 2, 1, 2, 1, 1, 2, 1, 2, 1, 1, 2, 1, 1, 2, 1, 2, 1, 1, 2, 1, 2, 1, 1, 2, 1, 1, 2, 1, 2, 1, 1, 2, 1, 2, 1, 1, 2, 1, 1, 2, 1, 2, 1, 1, 2, 1, 2, 1, 1, 2, 1, 1, 2, 1, 2, 1, 1, 2, 1, 2, 1, 1, 2, 1, 1, 2, 1, 2, 1, 1, 2, 1, 2, 1, 1, 2, 1, 1, 2, 1, 2, 1, 1, 2, 1, 2, 1, 1, 2, 1, 1, 2, 1, 2, 1, 1, 2, 1, 2, 1, 1, 2, 1, 1]) of length 339 after prefixing the suffix with 0 times the current s.m.p.Increase the value of the `max_smp_length` keyword argument to go further.\n",
      "\u001b[34m\u001b[1mNew candidate s.m.p. found\u001b[22m\u001b[39m because ⟨v_6*, v⟩ - 1 = 0.0004561398087381541 > 1.0e-9:\n",
      "\u001b[31m\u001b[1maborting\u001b[22m\u001b[39m with smp candidate PSW(1.409240912511927, [2, 1, 1, 2, 1, 1, 2, 1, 2, 1, 1, 2, 1, 2, 1, 1, 2, 1, 1, 2, 1, 2, 1, 1, 2, 1, 2, 1, 1, 2, 1, 1, 2, 1, 2, 1, 1, 2, 1, 2, 1, 1, 2, 1, 1, 2, 1, 2, 1, 1, 2, 1, 2, 1, 1, 2, 1, 1, 2, 1, 2, 1, 1, 2, 1, 2, 1, 1, 2, 1, 1, 2, 1, 2, 1, 1, 2, 1, 2, 1, 1, 2, 1, 1, 2, 1, 2, 1, 1, 2, 1, 2, 1, 1, 2, 1, 1, 2, 1, 2, 1, 1, 2, 1, 2, 1, 1, 2, 1, 1, 2, 1, 2, 1, 1, 2, 1, 2, 1, 1, 2, 1, 1, 2, 1, 2, 1, 1, 2, 1, 2, 1, 1, 2, 1, 1, 2, 1, 2, 1, 1, 2, 1, 2, 1, 1, 2, 1, 1, 2, 1, 2, 1, 1, 2, 1, 2, 1, 1, 2, 1, 1, 2, 1, 2, 1, 1, 2, 1, 2, 1, 1, 2, 1, 1, 2, 1, 2, 1, 1, 2, 1, 2, 1, 1, 2, 1, 1, 2, 1, 2, 1, 1, 2, 1, 2, 1, 1, 2, 1, 1, 2, 1, 2, 1, 1, 2, 1, 2, 1, 1, 2, 1, 1, 2, 1, 2, 1, 1, 2, 1, 2, 1, 1, 2, 1, 1, 2, 1, 2, 1, 1, 2, 1, 2, 1, 1, 2, 1, 1, 2, 1, 2, 1, 1, 2, 1, 2, 1, 1, 2, 1, 1, 2, 1, 2, 1, 1, 2, 1, 2, 1, 1, 2, 1, 1, 2, 1, 2, 1, 1, 2, 1, 2, 1, 1, 2, 1, 1, 2, 1, 2, 1, 1, 2, 1, 2, 1, 1, 2, 1, 1, 2, 1, 2, 1, 1, 2, 1, 2, 1, 1, 2, 1, 1, 2, 1, 2, 1, 1, 2, 1, 2, 1, 1, 2, 1, 1, 2, 1, 2, 1, 1, 2, 1, 2, 1, 1, 2, 1, 1, 2, 1, 2, 1, 1, 2, 1, 1]) of length 339 after prefixing the suffix with 0 times the current s.m.p.Increase the value of the `max_smp_length` keyword argument to go further.\n",
      "Depth 340: [2379] points, 9 living leaves...\n",
      "Depth 341: [2387] points, 8 living leaves...\n",
      "Depth 342: [2395] points, 8 living leaves...\n",
      "\u001b[34m\u001b[1mNew candidate s.m.p. found\u001b[22m\u001b[39m because ⟨v_6*, v⟩ - 1 = 2.3159267215078216e-7 > 1.0e-9:\n",
      "\u001b[31m\u001b[1maborting\u001b[22m\u001b[39m with smp candidate PSW(1.4092442021095144, [2, 1, 1, 2, 1, 1, 2, 1, 2, 1, 1, 2, 1, 1, 2, 1, 2, 1, 1, 2, 1, 2, 1, 1, 2, 1, 1, 2, 1, 2, 1, 1, 2, 1, 1, 2, 1, 2, 1, 1, 2, 1, 2, 1, 1, 2, 1, 1, 2, 1, 2, 1, 1, 2, 1, 1, 2, 1, 2, 1, 1, 2, 1, 2, 1, 1, 2, 1, 1, 2, 1, 2, 1, 1, 2, 1, 1, 2, 1, 2, 1, 1, 2, 1, 2, 1, 1, 2, 1, 1, 2, 1, 2, 1, 1, 2, 1, 2, 1, 1, 2, 1, 1, 2, 1, 2, 1, 1, 2, 1, 2, 1, 1, 2, 1, 1, 2, 1, 2, 1, 1, 2, 1, 2, 1, 1, 2, 1, 1, 2, 1, 2, 1, 1, 2, 1, 2, 1, 1, 2, 1, 1, 2, 1, 2, 1, 1, 2, 1, 2, 1, 1, 2, 1, 1, 2, 1, 2, 1, 1, 2, 1, 2, 1, 1, 2, 1, 1, 2, 1, 2, 1, 1, 2, 1, 2, 1, 1, 2, 1, 1, 2, 1, 2, 1, 1, 2, 1, 2, 1, 1, 2, 1, 1, 2, 1, 2, 1, 1, 2, 1, 2, 1, 1, 2, 1, 1, 2, 1, 2, 1, 1, 2, 1, 2, 1, 1, 2, 1, 1, 2, 1, 2, 1, 1, 2, 1, 2, 1, 1, 2, 1, 1, 2, 1, 2, 1, 1, 2, 1, 2, 1, 1, 2, 1, 1, 2, 1, 2, 1, 1, 2, 1, 2, 1, 1, 2, 1, 1, 2, 1, 2, 1, 1, 2, 1, 2, 1, 1, 2, 1, 1, 2, 1, 2, 1, 1, 2, 1, 2, 1, 1, 2, 1, 1, 2, 1, 2, 1, 1, 2, 1, 2, 1, 1, 2, 1, 1, 2, 1, 2, 1, 1, 2, 1, 2, 1, 1, 2, 1, 1, 2, 1, 2, 1, 1, 2, 1, 2, 1, 1, 2, 1, 1, 2, 1, 2, 1, 1, 2, 1, 2, 1, 1, 2, 1, 1, 2, 1, 2, 1, 1]) of length 342 after prefixing the suffix with 0 times the current s.m.p.Increase the value of the `max_smp_length` keyword argument to go further.\n",
      "\u001b[34m\u001b[1mNew candidate s.m.p. found\u001b[22m\u001b[39m because ⟨v_6*, v⟩ - 1 = 2.349937486822995e-7 > 1.0e-9:\n",
      "\u001b[31m\u001b[1maborting\u001b[22m\u001b[39m with smp candidate PSW(1.4092442020853795, [2, 1, 1, 2, 1, 1, 2, 1, 2, 1, 1, 2, 1, 1, 2, 1, 2, 1, 1, 2, 1, 2, 1, 1, 2, 1, 1, 2, 1, 2, 1, 1, 2, 1, 1, 2, 1, 2, 1, 1, 2, 1, 2, 1, 1, 2, 1, 1, 2, 1, 2, 1, 1, 2, 1, 1, 2, 1, 2, 1, 1, 2, 1, 2, 1, 1, 2, 1, 1, 2, 1, 2, 1, 1, 2, 1, 2, 1, 1, 2, 1, 1, 2, 1, 2, 1, 1, 2, 1, 2, 1, 1, 2, 1, 1, 2, 1, 2, 1, 1, 2, 1, 2, 1, 1, 2, 1, 1, 2, 1, 2, 1, 1, 2, 1, 2, 1, 1, 2, 1, 1, 2, 1, 2, 1, 1, 2, 1, 2, 1, 1, 2, 1, 1, 2, 1, 2, 1, 1, 2, 1, 2, 1, 1, 2, 1, 1, 2, 1, 2, 1, 1, 2, 1, 2, 1, 1, 2, 1, 1, 2, 1, 2, 1, 1, 2, 1, 2, 1, 1, 2, 1, 1, 2, 1, 2, 1, 1, 2, 1, 2, 1, 1, 2, 1, 1, 2, 1, 2, 1, 1, 2, 1, 2, 1, 1, 2, 1, 1, 2, 1, 2, 1, 1, 2, 1, 2, 1, 1, 2, 1, 1, 2, 1, 2, 1, 1, 2, 1, 2, 1, 1, 2, 1, 1, 2, 1, 2, 1, 1, 2, 1, 2, 1, 1, 2, 1, 1, 2, 1, 2, 1, 1, 2, 1, 2, 1, 1, 2, 1, 1, 2, 1, 2, 1, 1, 2, 1, 2, 1, 1, 2, 1, 1, 2, 1, 2, 1, 1, 2, 1, 2, 1, 1, 2, 1, 1, 2, 1, 2, 1, 1, 2, 1, 2, 1, 1, 2, 1, 1, 2, 1, 2, 1, 1, 2, 1, 2, 1, 1, 2, 1, 1, 2, 1, 2, 1, 1, 2, 1, 2, 1, 1, 2, 1, 1, 2, 1, 2, 1, 1, 2, 1, 2, 1, 1, 2, 1, 1, 2, 1, 2, 1, 1, 2, 1, 1, 2, 1, 2, 1, 1]) of length 342 after prefixing the suffix with 0 times the current s.m.p.Increase the value of the `max_smp_length` keyword argument to go further.\n"
     ]
    },
    {
     "name": "stdout",
     "output_type": "stream",
     "text": [
      "\u001b[34m\u001b[1mNew candidate s.m.p. found\u001b[22m\u001b[39m because ⟨v_6*, v⟩ - 1 = 0.0004558140508612585 > 1.0e-9:\n",
      "\u001b[31m\u001b[1maborting\u001b[22m\u001b[39m with smp candidate PSW(1.409240967858703, [2, 1, 1, 2, 1, 1, 2, 1, 2, 1, 1, 2, 1, 1, 2, 1, 2, 1, 1, 2, 1, 2, 1, 1, 2, 1, 1, 2, 1, 2, 1, 1, 2, 1, 1, 2, 1, 2, 1, 1, 2, 1, 2, 1, 1, 2, 1, 1, 2, 1, 2, 1, 1, 2, 1, 1, 2, 1, 2, 1, 1, 2, 1, 2, 1, 1, 2, 1, 1, 2, 1, 2, 1, 1, 2, 1, 2, 1, 1, 2, 1, 1, 2, 1, 2, 1, 1, 2, 1, 2, 1, 1, 2, 1, 1, 2, 1, 2, 1, 1, 2, 1, 2, 1, 1, 2, 1, 1, 2, 1, 2, 1, 1, 2, 1, 2, 1, 1, 2, 1, 1, 2, 1, 2, 1, 1, 2, 1, 2, 1, 1, 2, 1, 1, 2, 1, 2, 1, 1, 2, 1, 2, 1, 1, 2, 1, 1, 2, 1, 2, 1, 1, 2, 1, 2, 1, 1, 2, 1, 1, 2, 1, 2, 1, 1, 2, 1, 2, 1, 1, 2, 1, 1, 2, 1, 2, 1, 1, 2, 1, 2, 1, 1, 2, 1, 1, 2, 1, 2, 1, 1, 2, 1, 2, 1, 1, 2, 1, 1, 2, 1, 2, 1, 1, 2, 1, 2, 1, 1, 2, 1, 1, 2, 1, 2, 1, 1, 2, 1, 2, 1, 1, 2, 1, 1, 2, 1, 2, 1, 1, 2, 1, 2, 1, 1, 2, 1, 1, 2, 1, 2, 1, 1, 2, 1, 2, 1, 1, 2, 1, 1, 2, 1, 2, 1, 1, 2, 1, 2, 1, 1, 2, 1, 1, 2, 1, 2, 1, 1, 2, 1, 2, 1, 1, 2, 1, 1, 2, 1, 2, 1, 1, 2, 1, 2, 1, 1, 2, 1, 1, 2, 1, 2, 1, 1, 2, 1, 2, 1, 1, 2, 1, 1, 2, 1, 2, 1, 1, 2, 1, 2, 1, 1, 2, 1, 1, 2, 1, 2, 1, 1, 2, 1, 2, 1, 1, 2, 1, 1, 2, 1, 2, 1, 1, 2, 1, 2, 1, 1, 2, 1, 1]) of length 342 after prefixing the suffix with 0 times the current s.m.p.Increase the value of the `max_smp_length` keyword argument to go further.\n",
      "\u001b[34m\u001b[1mNew candidate s.m.p. found\u001b[22m\u001b[39m because ⟨v_6*, v⟩ - 1 = 0.00045614185919062855 > 1.0e-9:\n",
      "\u001b[31m\u001b[1maborting\u001b[22m\u001b[39m with smp candidate PSW(1.409240965469324, [2, 1, 1, 2, 1, 1, 2, 1, 2, 1, 1, 2, 1, 1, 2, 1, 2, 1, 1, 2, 1, 2, 1, 1, 2, 1, 1, 2, 1, 2, 1, 1, 2, 1, 1, 2, 1, 2, 1, 1, 2, 1, 2, 1, 1, 2, 1, 1, 2, 1, 2, 1, 1, 2, 1, 2, 1, 1, 2, 1, 1, 2, 1, 2, 1, 1, 2, 1, 2, 1, 1, 2, 1, 1, 2, 1, 2, 1, 1, 2, 1, 2, 1, 1, 2, 1, 1, 2, 1, 2, 1, 1, 2, 1, 2, 1, 1, 2, 1, 1, 2, 1, 2, 1, 1, 2, 1, 2, 1, 1, 2, 1, 1, 2, 1, 2, 1, 1, 2, 1, 2, 1, 1, 2, 1, 1, 2, 1, 2, 1, 1, 2, 1, 2, 1, 1, 2, 1, 1, 2, 1, 2, 1, 1, 2, 1, 2, 1, 1, 2, 1, 1, 2, 1, 2, 1, 1, 2, 1, 2, 1, 1, 2, 1, 1, 2, 1, 2, 1, 1, 2, 1, 2, 1, 1, 2, 1, 1, 2, 1, 2, 1, 1, 2, 1, 2, 1, 1, 2, 1, 1, 2, 1, 2, 1, 1, 2, 1, 2, 1, 1, 2, 1, 1, 2, 1, 2, 1, 1, 2, 1, 2, 1, 1, 2, 1, 1, 2, 1, 2, 1, 1, 2, 1, 2, 1, 1, 2, 1, 1, 2, 1, 2, 1, 1, 2, 1, 2, 1, 1, 2, 1, 1, 2, 1, 2, 1, 1, 2, 1, 2, 1, 1, 2, 1, 1, 2, 1, 2, 1, 1, 2, 1, 2, 1, 1, 2, 1, 1, 2, 1, 2, 1, 1, 2, 1, 2, 1, 1, 2, 1, 1, 2, 1, 2, 1, 1, 2, 1, 2, 1, 1, 2, 1, 1, 2, 1, 2, 1, 1, 2, 1, 2, 1, 1, 2, 1, 1, 2, 1, 2, 1, 1, 2, 1, 2, 1, 1, 2, 1, 1, 2, 1, 2, 1, 1, 2, 1, 2, 1, 1, 2, 1, 1, 2, 1, 2, 1, 1, 2, 1, 1]) of length 342 after prefixing the suffix with 0 times the current s.m.p.Increase the value of the `max_smp_length` keyword argument to go further.\n",
      "Depth 343: [2403] points, 8 living leaves...\n",
      "Depth 344: [2411] points, 8 living leaves...\n",
      "\u001b[34m\u001b[1mNew candidate s.m.p. found\u001b[22m\u001b[39m because ⟨v_6*, v⟩ - 1 = 2.3295872786377458e-7 > 1.0e-9:\n",
      "\u001b[31m\u001b[1maborting\u001b[22m\u001b[39m with smp candidate PSW(1.4092442196673372, [2, 1, 1, 2, 1, 1, 2, 1, 2, 1, 1, 2, 1, 1, 2, 1, 2, 1, 1, 2, 1, 2, 1, 1, 2, 1, 1, 2, 1, 2, 1, 1, 2, 1, 2, 1, 1, 2, 1, 1, 2, 1, 2, 1, 1, 2, 1, 2, 1, 1, 2, 1, 1, 2, 1, 2, 1, 1, 2, 1, 2, 1, 1, 2, 1, 1, 2, 1, 2, 1, 1, 2, 1, 2, 1, 1, 2, 1, 1, 2, 1, 2, 1, 1, 2, 1, 2, 1, 1, 2, 1, 1, 2, 1, 2, 1, 1, 2, 1, 2, 1, 1, 2, 1, 1, 2, 1, 2, 1, 1, 2, 1, 2, 1, 1, 2, 1, 1, 2, 1, 2, 1, 1, 2, 1, 2, 1, 1, 2, 1, 1, 2, 1, 2, 1, 1, 2, 1, 2, 1, 1, 2, 1, 1, 2, 1, 2, 1, 1, 2, 1, 2, 1, 1, 2, 1, 1, 2, 1, 2, 1, 1, 2, 1, 2, 1, 1, 2, 1, 1, 2, 1, 2, 1, 1, 2, 1, 2, 1, 1, 2, 1, 1, 2, 1, 2, 1, 1, 2, 1, 2, 1, 1, 2, 1, 1, 2, 1, 2, 1, 1, 2, 1, 2, 1, 1, 2, 1, 1, 2, 1, 2, 1, 1, 2, 1, 2, 1, 1, 2, 1, 1, 2, 1, 2, 1, 1, 2, 1, 2, 1, 1, 2, 1, 1, 2, 1, 2, 1, 1, 2, 1, 2, 1, 1, 2, 1, 1, 2, 1, 2, 1, 1, 2, 1, 2, 1, 1, 2, 1, 1, 2, 1, 2, 1, 1, 2, 1, 2, 1, 1, 2, 1, 1, 2, 1, 2, 1, 1, 2, 1, 2, 1, 1, 2, 1, 1, 2, 1, 2, 1, 1, 2, 1, 2, 1, 1, 2, 1, 1, 2, 1, 2, 1, 1, 2, 1, 2, 1, 1, 2, 1, 1, 2, 1, 2, 1, 1, 2, 1, 2, 1, 1, 2, 1, 1, 2, 1, 2, 1, 1, 2, 1, 2, 1, 1, 2, 1, 1, 2, 1, 2, 1, 1]) of length 344 after prefixing the suffix with 0 times the current s.m.p.Increase the value of the `max_smp_length` keyword argument to go further.\n",
      "\u001b[34m\u001b[1mNew candidate s.m.p. found\u001b[22m\u001b[39m because ⟨v_6*, v⟩ - 1 = 2.3635980439529192e-7 > 1.0e-9:\n",
      "\u001b[31m\u001b[1maborting\u001b[22m\u001b[39m with smp candidate PSW(1.409244221861216, [2, 1, 1, 2, 1, 1, 2, 1, 2, 1, 1, 2, 1, 2, 1, 1, 2, 1, 1, 2, 1, 2, 1, 1, 2, 1, 2, 1, 1, 2, 1, 1, 2, 1, 2, 1, 1, 2, 1, 2, 1, 1, 2, 1, 1, 2, 1, 2, 1, 1, 2, 1, 2, 1, 1, 2, 1, 1, 2, 1, 2, 1, 1, 2, 1, 2, 1, 1, 2, 1, 1, 2, 1, 2, 1, 1, 2, 1, 2, 1, 1, 2, 1, 1, 2, 1, 2, 1, 1, 2, 1, 2, 1, 1, 2, 1, 1, 2, 1, 2, 1, 1, 2, 1, 2, 1, 1, 2, 1, 1, 2, 1, 2, 1, 1, 2, 1, 2, 1, 1, 2, 1, 1, 2, 1, 2, 1, 1, 2, 1, 2, 1, 1, 2, 1, 1, 2, 1, 2, 1, 1, 2, 1, 2, 1, 1, 2, 1, 1, 2, 1, 2, 1, 1, 2, 1, 2, 1, 1, 2, 1, 1, 2, 1, 2, 1, 1, 2, 1, 2, 1, 1, 2, 1, 1, 2, 1, 2, 1, 1, 2, 1, 2, 1, 1, 2, 1, 1, 2, 1, 2, 1, 1, 2, 1, 2, 1, 1, 2, 1, 1, 2, 1, 2, 1, 1, 2, 1, 2, 1, 1, 2, 1, 1, 2, 1, 2, 1, 1, 2, 1, 2, 1, 1, 2, 1, 1, 2, 1, 2, 1, 1, 2, 1, 2, 1, 1, 2, 1, 1, 2, 1, 2, 1, 1, 2, 1, 2, 1, 1, 2, 1, 1, 2, 1, 2, 1, 1, 2, 1, 2, 1, 1, 2, 1, 1, 2, 1, 2, 1, 1, 2, 1, 2, 1, 1, 2, 1, 1, 2, 1, 2, 1, 1, 2, 1, 2, 1, 1, 2, 1, 1, 2, 1, 2, 1, 1, 2, 1, 2, 1, 1, 2, 1, 1, 2, 1, 2, 1, 1, 2, 1, 2, 1, 1, 2, 1, 1, 2, 1, 2, 1, 1, 2, 1, 2, 1, 1, 2, 1, 1, 2, 1, 2, 1, 1, 2, 1, 1, 2, 1, 2, 1, 1]) of length 344 after prefixing the suffix with 0 times the current s.m.p.Increase the value of the `max_smp_length` keyword argument to go further.\n",
      "\u001b[34m\u001b[1mNew candidate s.m.p. found\u001b[22m\u001b[39m because ⟨v_6*, v⟩ - 1 = 0.00045581541753958454 > 1.0e-9:\n",
      "\u001b[31m\u001b[1maborting\u001b[22m\u001b[39m with smp candidate PSW(1.4092410065956196, [2, 1, 1, 2, 1, 1, 2, 1, 2, 1, 1, 2, 1, 2, 1, 1, 2, 1, 1, 2, 1, 2, 1, 1, 2, 1, 2, 1, 1, 2, 1, 1, 2, 1, 2, 1, 1, 2, 1, 2, 1, 1, 2, 1, 1, 2, 1, 2, 1, 1, 2, 1, 2, 1, 1, 2, 1, 1, 2, 1, 2, 1, 1, 2, 1, 2, 1, 1, 2, 1, 1, 2, 1, 2, 1, 1, 2, 1, 2, 1, 1, 2, 1, 1, 2, 1, 2, 1, 1, 2, 1, 2, 1, 1, 2, 1, 1, 2, 1, 2, 1, 1, 2, 1, 2, 1, 1, 2, 1, 1, 2, 1, 2, 1, 1, 2, 1, 2, 1, 1, 2, 1, 1, 2, 1, 2, 1, 1, 2, 1, 2, 1, 1, 2, 1, 1, 2, 1, 2, 1, 1, 2, 1, 2, 1, 1, 2, 1, 1, 2, 1, 2, 1, 1, 2, 1, 2, 1, 1, 2, 1, 1, 2, 1, 2, 1, 1, 2, 1, 2, 1, 1, 2, 1, 1, 2, 1, 2, 1, 1, 2, 1, 2, 1, 1, 2, 1, 1, 2, 1, 2, 1, 1, 2, 1, 2, 1, 1, 2, 1, 1, 2, 1, 2, 1, 1, 2, 1, 2, 1, 1, 2, 1, 1, 2, 1, 2, 1, 1, 2, 1, 2, 1, 1, 2, 1, 1, 2, 1, 2, 1, 1, 2, 1, 2, 1, 1, 2, 1, 1, 2, 1, 2, 1, 1, 2, 1, 2, 1, 1, 2, 1, 1, 2, 1, 2, 1, 1, 2, 1, 2, 1, 1, 2, 1, 1, 2, 1, 2, 1, 1, 2, 1, 2, 1, 1, 2, 1, 1, 2, 1, 2, 1, 1, 2, 1, 2, 1, 1, 2, 1, 1, 2, 1, 2, 1, 1, 2, 1, 2, 1, 1, 2, 1, 1, 2, 1, 2, 1, 1, 2, 1, 2, 1, 1, 2, 1, 1, 2, 1, 2, 1, 1, 2, 1, 2, 1, 1, 2, 1, 1, 2, 1, 2, 1, 1, 2, 1, 2, 1, 1, 2, 1, 1]) of length 344 after prefixing the suffix with 0 times the current s.m.p.Increase the value of the `max_smp_length` keyword argument to go further.\n",
      "Depth 345: [2419] points, 8 living leaves...\n",
      "\u001b[34m\u001b[1mNew candidate s.m.p. found\u001b[22m\u001b[39m because ⟨v_6*, v⟩ - 1 = 0.0004561439096404385 > 1.0e-9:\n",
      "\u001b[31m\u001b[1maborting\u001b[22m\u001b[39m with smp candidate PSW(1.409241019874327, [2, 1, 1, 2, 1, 1, 2, 1, 2, 1, 1, 2, 1, 1, 2, 1, 2, 1, 1, 2, 1, 2, 1, 1, 2, 1, 1, 2, 1, 2, 1, 1, 2, 1, 1, 2, 1, 2, 1, 1, 2, 1, 2, 1, 1, 2, 1, 1, 2, 1, 2, 1, 1, 2, 1, 1, 2, 1, 2, 1, 1, 2, 1, 2, 1, 1, 2, 1, 1, 2, 1, 2, 1, 1, 2, 1, 1, 2, 1, 2, 1, 1, 2, 1, 2, 1, 1, 2, 1, 1, 2, 1, 2, 1, 1, 2, 1, 2, 1, 1, 2, 1, 1, 2, 1, 2, 1, 1, 2, 1, 2, 1, 1, 2, 1, 1, 2, 1, 2, 1, 1, 2, 1, 2, 1, 1, 2, 1, 1, 2, 1, 2, 1, 1, 2, 1, 2, 1, 1, 2, 1, 1, 2, 1, 2, 1, 1, 2, 1, 2, 1, 1, 2, 1, 1, 2, 1, 2, 1, 1, 2, 1, 2, 1, 1, 2, 1, 1, 2, 1, 2, 1, 1, 2, 1, 2, 1, 1, 2, 1, 1, 2, 1, 2, 1, 1, 2, 1, 2, 1, 1, 2, 1, 1, 2, 1, 2, 1, 1, 2, 1, 2, 1, 1, 2, 1, 1, 2, 1, 2, 1, 1, 2, 1, 2, 1, 1, 2, 1, 1, 2, 1, 2, 1, 1, 2, 1, 2, 1, 1, 2, 1, 1, 2, 1, 2, 1, 1, 2, 1, 2, 1, 1, 2, 1, 1, 2, 1, 2, 1, 1, 2, 1, 2, 1, 1, 2, 1, 1, 2, 1, 2, 1, 1, 2, 1, 2, 1, 1, 2, 1, 1, 2, 1, 2, 1, 1, 2, 1, 2, 1, 1, 2, 1, 1, 2, 1, 2, 1, 1, 2, 1, 2, 1, 1, 2, 1, 1, 2, 1, 2, 1, 1, 2, 1, 2, 1, 1, 2, 1, 1, 2, 1, 2, 1, 1, 2, 1, 2, 1, 1, 2, 1, 1, 2, 1, 2, 1, 1, 2, 1, 2, 1, 1, 2, 1, 1, 2, 1, 2, 1, 1, 2, 1, 1]) of length 345 after prefixing the suffix with 0 times the current s.m.p.Increase the value of the `max_smp_length` keyword argument to go further.\n"
     ]
    },
    {
     "name": "stdout",
     "output_type": "stream",
     "text": [
      "Depth 346: [2427] points, 8 living leaves...\n",
      "Depth 347: [2435] points, 8 living leaves...\n",
      "\u001b[34m\u001b[1mNew candidate s.m.p. found\u001b[22m\u001b[39m because ⟨v_6*, v⟩ - 1 = 2.350082441981982e-7 > 1.0e-9:\n",
      "\u001b[31m\u001b[1maborting\u001b[22m\u001b[39m with smp candidate PSW(1.409244245624581, [2, 1, 1, 2, 1, 1, 2, 1, 2, 1, 1, 2, 1, 1, 2, 1, 2, 1, 1, 2, 1, 2, 1, 1, 2, 1, 1, 2, 1, 2, 1, 1, 2, 1, 1, 2, 1, 2, 1, 1, 2, 1, 2, 1, 1, 2, 1, 1, 2, 1, 2, 1, 1, 2, 1, 1, 2, 1, 2, 1, 1, 2, 1, 2, 1, 1, 2, 1, 1, 2, 1, 2, 1, 1, 2, 1, 2, 1, 1, 2, 1, 1, 2, 1, 2, 1, 1, 2, 1, 2, 1, 1, 2, 1, 1, 2, 1, 2, 1, 1, 2, 1, 2, 1, 1, 2, 1, 1, 2, 1, 2, 1, 1, 2, 1, 2, 1, 1, 2, 1, 1, 2, 1, 2, 1, 1, 2, 1, 2, 1, 1, 2, 1, 1, 2, 1, 2, 1, 1, 2, 1, 2, 1, 1, 2, 1, 1, 2, 1, 2, 1, 1, 2, 1, 2, 1, 1, 2, 1, 1, 2, 1, 2, 1, 1, 2, 1, 2, 1, 1, 2, 1, 1, 2, 1, 2, 1, 1, 2, 1, 2, 1, 1, 2, 1, 1, 2, 1, 2, 1, 1, 2, 1, 2, 1, 1, 2, 1, 1, 2, 1, 2, 1, 1, 2, 1, 2, 1, 1, 2, 1, 1, 2, 1, 2, 1, 1, 2, 1, 2, 1, 1, 2, 1, 1, 2, 1, 2, 1, 1, 2, 1, 2, 1, 1, 2, 1, 1, 2, 1, 2, 1, 1, 2, 1, 2, 1, 1, 2, 1, 1, 2, 1, 2, 1, 1, 2, 1, 2, 1, 1, 2, 1, 1, 2, 1, 2, 1, 1, 2, 1, 2, 1, 1, 2, 1, 1, 2, 1, 2, 1, 1, 2, 1, 2, 1, 1, 2, 1, 1, 2, 1, 2, 1, 1, 2, 1, 2, 1, 1, 2, 1, 1, 2, 1, 2, 1, 1, 2, 1, 2, 1, 1, 2, 1, 1, 2, 1, 2, 1, 1, 2, 1, 2, 1, 1, 2, 1, 1, 2, 1, 2, 1, 1, 2, 1, 2, 1, 1, 2, 1, 1, 2, 1, 2, 1, 1]) of length 347 after prefixing the suffix with 0 times the current s.m.p.Increase the value of the `max_smp_length` keyword argument to go further.\n",
      "\u001b[34m\u001b[1mNew candidate s.m.p. found\u001b[22m\u001b[39m because ⟨v_6*, v⟩ - 1 = 2.3840932206198318e-7 > 1.0e-9:\n",
      "\u001b[31m\u001b[1maborting\u001b[22m\u001b[39m with smp candidate PSW(1.409244245600794, [2, 1, 1, 2, 1, 1, 2, 1, 2, 1, 1, 2, 1, 1, 2, 1, 2, 1, 1, 2, 1, 2, 1, 1, 2, 1, 1, 2, 1, 2, 1, 1, 2, 1, 1, 2, 1, 2, 1, 1, 2, 1, 2, 1, 1, 2, 1, 1, 2, 1, 2, 1, 1, 2, 1, 2, 1, 1, 2, 1, 1, 2, 1, 2, 1, 1, 2, 1, 2, 1, 1, 2, 1, 1, 2, 1, 2, 1, 1, 2, 1, 2, 1, 1, 2, 1, 1, 2, 1, 2, 1, 1, 2, 1, 2, 1, 1, 2, 1, 1, 2, 1, 2, 1, 1, 2, 1, 2, 1, 1, 2, 1, 1, 2, 1, 2, 1, 1, 2, 1, 2, 1, 1, 2, 1, 1, 2, 1, 2, 1, 1, 2, 1, 2, 1, 1, 2, 1, 1, 2, 1, 2, 1, 1, 2, 1, 2, 1, 1, 2, 1, 1, 2, 1, 2, 1, 1, 2, 1, 2, 1, 1, 2, 1, 1, 2, 1, 2, 1, 1, 2, 1, 2, 1, 1, 2, 1, 1, 2, 1, 2, 1, 1, 2, 1, 2, 1, 1, 2, 1, 1, 2, 1, 2, 1, 1, 2, 1, 2, 1, 1, 2, 1, 1, 2, 1, 2, 1, 1, 2, 1, 2, 1, 1, 2, 1, 1, 2, 1, 2, 1, 1, 2, 1, 2, 1, 1, 2, 1, 1, 2, 1, 2, 1, 1, 2, 1, 2, 1, 1, 2, 1, 1, 2, 1, 2, 1, 1, 2, 1, 2, 1, 1, 2, 1, 1, 2, 1, 2, 1, 1, 2, 1, 2, 1, 1, 2, 1, 1, 2, 1, 2, 1, 1, 2, 1, 2, 1, 1, 2, 1, 1, 2, 1, 2, 1, 1, 2, 1, 2, 1, 1, 2, 1, 1, 2, 1, 2, 1, 1, 2, 1, 2, 1, 1, 2, 1, 1, 2, 1, 2, 1, 1, 2, 1, 2, 1, 1, 2, 1, 1, 2, 1, 2, 1, 1, 2, 1, 2, 1, 1, 2, 1, 1, 2, 1, 2, 1, 1, 2, 1, 1, 2, 1, 2, 1, 1]) of length 347 after prefixing the suffix with 0 times the current s.m.p.Increase the value of the `max_smp_length` keyword argument to go further.\n",
      "\u001b[34m\u001b[1mNew candidate s.m.p. found\u001b[22m\u001b[39m because ⟨v_6*, v⟩ - 1 = 0.0004558174679909488 > 1.0e-9:\n",
      "\u001b[31m\u001b[1maborting\u001b[22m\u001b[39m with smp candidate PSW(1.409241057976656, [2, 1, 1, 2, 1, 1, 2, 1, 2, 1, 1, 2, 1, 1, 2, 1, 2, 1, 1, 2, 1, 2, 1, 1, 2, 1, 1, 2, 1, 2, 1, 1, 2, 1, 1, 2, 1, 2, 1, 1, 2, 1, 2, 1, 1, 2, 1, 1, 2, 1, 2, 1, 1, 2, 1, 2, 1, 1, 2, 1, 1, 2, 1, 2, 1, 1, 2, 1, 2, 1, 1, 2, 1, 1, 2, 1, 2, 1, 1, 2, 1, 2, 1, 1, 2, 1, 1, 2, 1, 2, 1, 1, 2, 1, 2, 1, 1, 2, 1, 1, 2, 1, 2, 1, 1, 2, 1, 2, 1, 1, 2, 1, 1, 2, 1, 2, 1, 1, 2, 1, 2, 1, 1, 2, 1, 1, 2, 1, 2, 1, 1, 2, 1, 2, 1, 1, 2, 1, 1, 2, 1, 2, 1, 1, 2, 1, 2, 1, 1, 2, 1, 1, 2, 1, 2, 1, 1, 2, 1, 2, 1, 1, 2, 1, 1, 2, 1, 2, 1, 1, 2, 1, 2, 1, 1, 2, 1, 1, 2, 1, 2, 1, 1, 2, 1, 2, 1, 1, 2, 1, 1, 2, 1, 2, 1, 1, 2, 1, 2, 1, 1, 2, 1, 1, 2, 1, 2, 1, 1, 2, 1, 2, 1, 1, 2, 1, 1, 2, 1, 2, 1, 1, 2, 1, 2, 1, 1, 2, 1, 1, 2, 1, 2, 1, 1, 2, 1, 2, 1, 1, 2, 1, 1, 2, 1, 2, 1, 1, 2, 1, 2, 1, 1, 2, 1, 1, 2, 1, 2, 1, 1, 2, 1, 2, 1, 1, 2, 1, 1, 2, 1, 2, 1, 1, 2, 1, 2, 1, 1, 2, 1, 1, 2, 1, 2, 1, 1, 2, 1, 2, 1, 1, 2, 1, 1, 2, 1, 2, 1, 1, 2, 1, 2, 1, 1, 2, 1, 1, 2, 1, 2, 1, 1, 2, 1, 2, 1, 1, 2, 1, 1, 2, 1, 2, 1, 1, 2, 1, 2, 1, 1, 2, 1, 1, 2, 1, 2, 1, 1, 2, 1, 2, 1, 1, 2, 1, 1]) of length 347 after prefixing the suffix with 0 times the current s.m.p.Increase the value of the `max_smp_length` keyword argument to go further.\n",
      "\u001b[34m\u001b[1mNew candidate s.m.p. found\u001b[22m\u001b[39m because ⟨v_6*, v⟩ - 1 = 0.0004561452763189866 > 1.0e-9:\n",
      "\u001b[31m\u001b[1maborting\u001b[22m\u001b[39m with smp candidate PSW(1.4092410556217063, [2, 1, 1, 2, 1, 1, 2, 1, 2, 1, 1, 2, 1, 1, 2, 1, 2, 1, 1, 2, 1, 2, 1, 1, 2, 1, 1, 2, 1, 2, 1, 1, 2, 1, 2, 1, 1, 2, 1, 1, 2, 1, 2, 1, 1, 2, 1, 2, 1, 1, 2, 1, 1, 2, 1, 2, 1, 1, 2, 1, 2, 1, 1, 2, 1, 1, 2, 1, 2, 1, 1, 2, 1, 2, 1, 1, 2, 1, 1, 2, 1, 2, 1, 1, 2, 1, 2, 1, 1, 2, 1, 1, 2, 1, 2, 1, 1, 2, 1, 2, 1, 1, 2, 1, 1, 2, 1, 2, 1, 1, 2, 1, 2, 1, 1, 2, 1, 1, 2, 1, 2, 1, 1, 2, 1, 2, 1, 1, 2, 1, 1, 2, 1, 2, 1, 1, 2, 1, 2, 1, 1, 2, 1, 1, 2, 1, 2, 1, 1, 2, 1, 2, 1, 1, 2, 1, 1, 2, 1, 2, 1, 1, 2, 1, 2, 1, 1, 2, 1, 1, 2, 1, 2, 1, 1, 2, 1, 2, 1, 1, 2, 1, 1, 2, 1, 2, 1, 1, 2, 1, 2, 1, 1, 2, 1, 1, 2, 1, 2, 1, 1, 2, 1, 2, 1, 1, 2, 1, 1, 2, 1, 2, 1, 1, 2, 1, 2, 1, 1, 2, 1, 1, 2, 1, 2, 1, 1, 2, 1, 2, 1, 1, 2, 1, 1, 2, 1, 2, 1, 1, 2, 1, 2, 1, 1, 2, 1, 1, 2, 1, 2, 1, 1, 2, 1, 2, 1, 1, 2, 1, 1, 2, 1, 2, 1, 1, 2, 1, 2, 1, 1, 2, 1, 1, 2, 1, 2, 1, 1, 2, 1, 2, 1, 1, 2, 1, 1, 2, 1, 2, 1, 1, 2, 1, 2, 1, 1, 2, 1, 1, 2, 1, 2, 1, 1, 2, 1, 2, 1, 1, 2, 1, 1, 2, 1, 2, 1, 1, 2, 1, 2, 1, 1, 2, 1, 1, 2, 1, 2, 1, 1, 2, 1, 2, 1, 1, 2, 1, 1, 2, 1, 2, 1, 1, 2, 1, 1]) of length 347 after prefixing the suffix with 0 times the current s.m.p.Increase the value of the `max_smp_length` keyword argument to go further.\n",
      "Depth 348: [2443] points, 8 living leaves...\n",
      "Depth 349: [2451] points, 8 living leaves...\n",
      "\u001b[34m\u001b[1mNew candidate s.m.p. found\u001b[22m\u001b[39m because ⟨v_6*, v⟩ - 1 = 2.3637430013323524e-7 > 1.0e-9:\n",
      "\u001b[31m\u001b[1maborting\u001b[22m\u001b[39m with smp candidate PSW(1.4092442648675871, [2, 1, 1, 2, 1, 1, 2, 1, 2, 1, 1, 2, 1, 2, 1, 1, 2, 1, 1, 2, 1, 2, 1, 1, 2, 1, 2, 1, 1, 2, 1, 1, 2, 1, 2, 1, 1, 2, 1, 2, 1, 1, 2, 1, 1, 2, 1, 2, 1, 1, 2, 1, 2, 1, 1, 2, 1, 1, 2, 1, 2, 1, 1, 2, 1, 2, 1, 1, 2, 1, 1, 2, 1, 2, 1, 1, 2, 1, 2, 1, 1, 2, 1, 1, 2, 1, 2, 1, 1, 2, 1, 2, 1, 1, 2, 1, 1, 2, 1, 2, 1, 1, 2, 1, 2, 1, 1, 2, 1, 1, 2, 1, 2, 1, 1, 2, 1, 2, 1, 1, 2, 1, 1, 2, 1, 2, 1, 1, 2, 1, 2, 1, 1, 2, 1, 1, 2, 1, 2, 1, 1, 2, 1, 2, 1, 1, 2, 1, 1, 2, 1, 2, 1, 1, 2, 1, 2, 1, 1, 2, 1, 1, 2, 1, 2, 1, 1, 2, 1, 2, 1, 1, 2, 1, 1, 2, 1, 2, 1, 1, 2, 1, 2, 1, 1, 2, 1, 1, 2, 1, 2, 1, 1, 2, 1, 2, 1, 1, 2, 1, 1, 2, 1, 2, 1, 1, 2, 1, 2, 1, 1, 2, 1, 1, 2, 1, 2, 1, 1, 2, 1, 2, 1, 1, 2, 1, 1, 2, 1, 2, 1, 1, 2, 1, 2, 1, 1, 2, 1, 1, 2, 1, 2, 1, 1, 2, 1, 2, 1, 1, 2, 1, 1, 2, 1, 2, 1, 1, 2, 1, 2, 1, 1, 2, 1, 1, 2, 1, 2, 1, 1, 2, 1, 2, 1, 1, 2, 1, 1, 2, 1, 2, 1, 1, 2, 1, 2, 1, 1, 2, 1, 1, 2, 1, 2, 1, 1, 2, 1, 2, 1, 1, 2, 1, 1, 2, 1, 2, 1, 1, 2, 1, 2, 1, 1, 2, 1, 1, 2, 1, 2, 1, 1, 2, 1, 2, 1, 1, 2, 1, 1, 2, 1, 2, 1, 1, 2, 1, 2, 1, 1, 2, 1, 1, 2, 1, 2, 1, 1]) of length 349 after prefixing the suffix with 0 times the current s.m.p.Increase the value of the `max_smp_length` keyword argument to go further.\n",
      "Depth 350: [2459] points, 8 living leaves...\n",
      "\u001b[34m\u001b[1mNew candidate s.m.p. found\u001b[22m\u001b[39m because ⟨v_6*, v⟩ - 1 = 2.40458837730273e-7 > 1.0e-9:\n",
      "\u001b[31m\u001b[1maborting\u001b[22m\u001b[39m with smp candidate PSW(1.4092442711132611, [2, 1, 1, 2, 1, 1, 2, 1, 2, 1, 1, 2, 1, 1, 2, 1, 2, 1, 1, 2, 1, 2, 1, 1, 2, 1, 1, 2, 1, 2, 1, 1, 2, 1, 1, 2, 1, 2, 1, 1, 2, 1, 2, 1, 1, 2, 1, 1, 2, 1, 2, 1, 1, 2, 1, 1, 2, 1, 2, 1, 1, 2, 1, 2, 1, 1, 2, 1, 1, 2, 1, 2, 1, 1, 2, 1, 1, 2, 1, 2, 1, 1, 2, 1, 2, 1, 1, 2, 1, 1, 2, 1, 2, 1, 1, 2, 1, 2, 1, 1, 2, 1, 1, 2, 1, 2, 1, 1, 2, 1, 2, 1, 1, 2, 1, 1, 2, 1, 2, 1, 1, 2, 1, 2, 1, 1, 2, 1, 1, 2, 1, 2, 1, 1, 2, 1, 2, 1, 1, 2, 1, 1, 2, 1, 2, 1, 1, 2, 1, 2, 1, 1, 2, 1, 1, 2, 1, 2, 1, 1, 2, 1, 2, 1, 1, 2, 1, 1, 2, 1, 2, 1, 1, 2, 1, 2, 1, 1, 2, 1, 1, 2, 1, 2, 1, 1, 2, 1, 2, 1, 1, 2, 1, 1, 2, 1, 2, 1, 1, 2, 1, 2, 1, 1, 2, 1, 1, 2, 1, 2, 1, 1, 2, 1, 2, 1, 1, 2, 1, 1, 2, 1, 2, 1, 1, 2, 1, 2, 1, 1, 2, 1, 1, 2, 1, 2, 1, 1, 2, 1, 2, 1, 1, 2, 1, 1, 2, 1, 2, 1, 1, 2, 1, 2, 1, 1, 2, 1, 1, 2, 1, 2, 1, 1, 2, 1, 2, 1, 1, 2, 1, 1, 2, 1, 2, 1, 1, 2, 1, 2, 1, 1, 2, 1, 1, 2, 1, 2, 1, 1, 2, 1, 2, 1, 1, 2, 1, 1, 2, 1, 2, 1, 1, 2, 1, 2, 1, 1, 2, 1, 1, 2, 1, 2, 1, 1, 2, 1, 2, 1, 1, 2, 1, 1, 2, 1, 2, 1, 1, 2, 1, 2, 1, 1, 2, 1, 1, 2, 1, 2, 1, 1, 2, 1, 1, 2, 1, 2, 1, 1]) of length 350 after prefixing the suffix with 0 times the current s.m.p.Increase the value of the `max_smp_length` keyword argument to go further.\n"
     ]
    },
    {
     "name": "stdout",
     "output_type": "stream",
     "text": [
      "\u001b[34m\u001b[1mNew candidate s.m.p. found\u001b[22m\u001b[39m because ⟨v_6*, v⟩ - 1 = 0.00045581951844031465 > 1.0e-9:\n",
      "\u001b[31m\u001b[1maborting\u001b[22m\u001b[39m with smp candidate PSW(1.409241110811528, [2, 1, 1, 2, 1, 1, 2, 1, 2, 1, 1, 2, 1, 1, 2, 1, 2, 1, 1, 2, 1, 2, 1, 1, 2, 1, 1, 2, 1, 2, 1, 1, 2, 1, 1, 2, 1, 2, 1, 1, 2, 1, 2, 1, 1, 2, 1, 1, 2, 1, 2, 1, 1, 2, 1, 1, 2, 1, 2, 1, 1, 2, 1, 2, 1, 1, 2, 1, 1, 2, 1, 2, 1, 1, 2, 1, 1, 2, 1, 2, 1, 1, 2, 1, 2, 1, 1, 2, 1, 1, 2, 1, 2, 1, 1, 2, 1, 2, 1, 1, 2, 1, 1, 2, 1, 2, 1, 1, 2, 1, 2, 1, 1, 2, 1, 1, 2, 1, 2, 1, 1, 2, 1, 2, 1, 1, 2, 1, 1, 2, 1, 2, 1, 1, 2, 1, 2, 1, 1, 2, 1, 1, 2, 1, 2, 1, 1, 2, 1, 2, 1, 1, 2, 1, 1, 2, 1, 2, 1, 1, 2, 1, 2, 1, 1, 2, 1, 1, 2, 1, 2, 1, 1, 2, 1, 2, 1, 1, 2, 1, 1, 2, 1, 2, 1, 1, 2, 1, 2, 1, 1, 2, 1, 1, 2, 1, 2, 1, 1, 2, 1, 2, 1, 1, 2, 1, 1, 2, 1, 2, 1, 1, 2, 1, 2, 1, 1, 2, 1, 1, 2, 1, 2, 1, 1, 2, 1, 2, 1, 1, 2, 1, 1, 2, 1, 2, 1, 1, 2, 1, 2, 1, 1, 2, 1, 1, 2, 1, 2, 1, 1, 2, 1, 2, 1, 1, 2, 1, 1, 2, 1, 2, 1, 1, 2, 1, 2, 1, 1, 2, 1, 1, 2, 1, 2, 1, 1, 2, 1, 2, 1, 1, 2, 1, 1, 2, 1, 2, 1, 1, 2, 1, 2, 1, 1, 2, 1, 1, 2, 1, 2, 1, 1, 2, 1, 2, 1, 1, 2, 1, 1, 2, 1, 2, 1, 1, 2, 1, 2, 1, 1, 2, 1, 1, 2, 1, 2, 1, 1, 2, 1, 2, 1, 1, 2, 1, 1, 2, 1, 2, 1, 1, 2, 1, 2, 1, 1, 2, 1, 1]) of length 350 after prefixing the suffix with 0 times the current s.m.p.Increase the value of the `max_smp_length` keyword argument to go further.\n",
      "\u001b[34m\u001b[1mNew candidate s.m.p. found\u001b[22m\u001b[39m because ⟨v_6*, v⟩ - 1 = 0.0004561473267696847 > 1.0e-9:\n",
      "\u001b[31m\u001b[1maborting\u001b[22m\u001b[39m with smp candidate PSW(1.4092411084767633, [2, 1, 1, 2, 1, 1, 2, 1, 2, 1, 1, 2, 1, 1, 2, 1, 2, 1, 1, 2, 1, 2, 1, 1, 2, 1, 1, 2, 1, 2, 1, 1, 2, 1, 1, 2, 1, 2, 1, 1, 2, 1, 2, 1, 1, 2, 1, 1, 2, 1, 2, 1, 1, 2, 1, 1, 2, 1, 2, 1, 1, 2, 1, 2, 1, 1, 2, 1, 1, 2, 1, 2, 1, 1, 2, 1, 2, 1, 1, 2, 1, 1, 2, 1, 2, 1, 1, 2, 1, 2, 1, 1, 2, 1, 1, 2, 1, 2, 1, 1, 2, 1, 2, 1, 1, 2, 1, 1, 2, 1, 2, 1, 1, 2, 1, 2, 1, 1, 2, 1, 1, 2, 1, 2, 1, 1, 2, 1, 2, 1, 1, 2, 1, 1, 2, 1, 2, 1, 1, 2, 1, 2, 1, 1, 2, 1, 1, 2, 1, 2, 1, 1, 2, 1, 2, 1, 1, 2, 1, 1, 2, 1, 2, 1, 1, 2, 1, 2, 1, 1, 2, 1, 1, 2, 1, 2, 1, 1, 2, 1, 2, 1, 1, 2, 1, 1, 2, 1, 2, 1, 1, 2, 1, 2, 1, 1, 2, 1, 1, 2, 1, 2, 1, 1, 2, 1, 2, 1, 1, 2, 1, 1, 2, 1, 2, 1, 1, 2, 1, 2, 1, 1, 2, 1, 1, 2, 1, 2, 1, 1, 2, 1, 2, 1, 1, 2, 1, 1, 2, 1, 2, 1, 1, 2, 1, 2, 1, 1, 2, 1, 1, 2, 1, 2, 1, 1, 2, 1, 2, 1, 1, 2, 1, 1, 2, 1, 2, 1, 1, 2, 1, 2, 1, 1, 2, 1, 1, 2, 1, 2, 1, 1, 2, 1, 2, 1, 1, 2, 1, 1, 2, 1, 2, 1, 1, 2, 1, 2, 1, 1, 2, 1, 1, 2, 1, 2, 1, 1, 2, 1, 2, 1, 1, 2, 1, 1, 2, 1, 2, 1, 1, 2, 1, 2, 1, 1, 2, 1, 1, 2, 1, 2, 1, 1, 2, 1, 2, 1, 1, 2, 1, 1, 2, 1, 2, 1, 1, 2, 1, 1]) of length 350 after prefixing the suffix with 0 times the current s.m.p.Increase the value of the `max_smp_length` keyword argument to go further.\n",
      "Depth 351: [2467] points, 8 living leaves...\n",
      "Depth 352: [2475] points, 8 living leaves...\n",
      "\u001b[34m\u001b[1mNew candidate s.m.p. found\u001b[22m\u001b[39m because ⟨v_6*, v⟩ - 1 = 2.384238175778819e-7 > 1.0e-9:\n",
      "\u001b[31m\u001b[1maborting\u001b[22m\u001b[39m with smp candidate PSW(1.4092442879034255, [2, 1, 1, 2, 1, 1, 2, 1, 2, 1, 1, 2, 1, 1, 2, 1, 2, 1, 1, 2, 1, 2, 1, 1, 2, 1, 1, 2, 1, 2, 1, 1, 2, 1, 1, 2, 1, 2, 1, 1, 2, 1, 2, 1, 1, 2, 1, 1, 2, 1, 2, 1, 1, 2, 1, 2, 1, 1, 2, 1, 1, 2, 1, 2, 1, 1, 2, 1, 2, 1, 1, 2, 1, 1, 2, 1, 2, 1, 1, 2, 1, 2, 1, 1, 2, 1, 1, 2, 1, 2, 1, 1, 2, 1, 2, 1, 1, 2, 1, 1, 2, 1, 2, 1, 1, 2, 1, 2, 1, 1, 2, 1, 1, 2, 1, 2, 1, 1, 2, 1, 2, 1, 1, 2, 1, 1, 2, 1, 2, 1, 1, 2, 1, 2, 1, 1, 2, 1, 1, 2, 1, 2, 1, 1, 2, 1, 2, 1, 1, 2, 1, 1, 2, 1, 2, 1, 1, 2, 1, 2, 1, 1, 2, 1, 1, 2, 1, 2, 1, 1, 2, 1, 2, 1, 1, 2, 1, 1, 2, 1, 2, 1, 1, 2, 1, 2, 1, 1, 2, 1, 1, 2, 1, 2, 1, 1, 2, 1, 2, 1, 1, 2, 1, 1, 2, 1, 2, 1, 1, 2, 1, 2, 1, 1, 2, 1, 1, 2, 1, 2, 1, 1, 2, 1, 2, 1, 1, 2, 1, 1, 2, 1, 2, 1, 1, 2, 1, 2, 1, 1, 2, 1, 1, 2, 1, 2, 1, 1, 2, 1, 2, 1, 1, 2, 1, 1, 2, 1, 2, 1, 1, 2, 1, 2, 1, 1, 2, 1, 1, 2, 1, 2, 1, 1, 2, 1, 2, 1, 1, 2, 1, 1, 2, 1, 2, 1, 1, 2, 1, 2, 1, 1, 2, 1, 1, 2, 1, 2, 1, 1, 2, 1, 2, 1, 1, 2, 1, 1, 2, 1, 2, 1, 1, 2, 1, 2, 1, 1, 2, 1, 1, 2, 1, 2, 1, 1, 2, 1, 2, 1, 1, 2, 1, 1, 2, 1, 2, 1, 1, 2, 1, 2, 1, 1, 2, 1, 1, 2, 1, 2, 1, 1]) of length 352 after prefixing the suffix with 0 times the current s.m.p.Increase the value of the `max_smp_length` keyword argument to go further.\n",
      "\u001b[34m\u001b[1mNew candidate s.m.p. found\u001b[22m\u001b[39m because ⟨v_6*, v⟩ - 1 = 2.418248934432654e-7 > 1.0e-9:\n",
      "\u001b[31m\u001b[1maborting\u001b[22m\u001b[39m with smp candidate PSW(1.4092442878799762, [2, 1, 1, 2, 1, 1, 2, 1, 2, 1, 1, 2, 1, 1, 2, 1, 2, 1, 1, 2, 1, 2, 1, 1, 2, 1, 1, 2, 1, 2, 1, 1, 2, 1, 2, 1, 1, 2, 1, 1, 2, 1, 2, 1, 1, 2, 1, 2, 1, 1, 2, 1, 1, 2, 1, 2, 1, 1, 2, 1, 2, 1, 1, 2, 1, 1, 2, 1, 2, 1, 1, 2, 1, 2, 1, 1, 2, 1, 1, 2, 1, 2, 1, 1, 2, 1, 2, 1, 1, 2, 1, 1, 2, 1, 2, 1, 1, 2, 1, 2, 1, 1, 2, 1, 1, 2, 1, 2, 1, 1, 2, 1, 2, 1, 1, 2, 1, 1, 2, 1, 2, 1, 1, 2, 1, 2, 1, 1, 2, 1, 1, 2, 1, 2, 1, 1, 2, 1, 2, 1, 1, 2, 1, 1, 2, 1, 2, 1, 1, 2, 1, 2, 1, 1, 2, 1, 1, 2, 1, 2, 1, 1, 2, 1, 2, 1, 1, 2, 1, 1, 2, 1, 2, 1, 1, 2, 1, 2, 1, 1, 2, 1, 1, 2, 1, 2, 1, 1, 2, 1, 2, 1, 1, 2, 1, 1, 2, 1, 2, 1, 1, 2, 1, 2, 1, 1, 2, 1, 1, 2, 1, 2, 1, 1, 2, 1, 2, 1, 1, 2, 1, 1, 2, 1, 2, 1, 1, 2, 1, 2, 1, 1, 2, 1, 1, 2, 1, 2, 1, 1, 2, 1, 2, 1, 1, 2, 1, 1, 2, 1, 2, 1, 1, 2, 1, 2, 1, 1, 2, 1, 1, 2, 1, 2, 1, 1, 2, 1, 2, 1, 1, 2, 1, 1, 2, 1, 2, 1, 1, 2, 1, 2, 1, 1, 2, 1, 1, 2, 1, 2, 1, 1, 2, 1, 2, 1, 1, 2, 1, 1, 2, 1, 2, 1, 1, 2, 1, 2, 1, 1, 2, 1, 1, 2, 1, 2, 1, 1, 2, 1, 2, 1, 1, 2, 1, 1, 2, 1, 2, 1, 1, 2, 1, 2, 1, 1, 2, 1, 1, 2, 1, 2, 1, 1, 2, 1, 1, 2, 1, 2, 1, 1]) of length 352 after prefixing the suffix with 0 times the current s.m.p.Increase the value of the `max_smp_length` keyword argument to go further.\n",
      "\u001b[34m\u001b[1mNew candidate s.m.p. found\u001b[22m\u001b[39m because ⟨v_6*, v⟩ - 1 = 0.0004558208851179746 > 1.0e-9:\n",
      "\u001b[31m\u001b[1maborting\u001b[22m\u001b[39m with smp candidate PSW(1.4092411455344456, [2, 1, 1, 2, 1, 1, 2, 1, 2, 1, 1, 2, 1, 1, 2, 1, 2, 1, 1, 2, 1, 2, 1, 1, 2, 1, 1, 2, 1, 2, 1, 1, 2, 1, 2, 1, 1, 2, 1, 1, 2, 1, 2, 1, 1, 2, 1, 2, 1, 1, 2, 1, 1, 2, 1, 2, 1, 1, 2, 1, 2, 1, 1, 2, 1, 1, 2, 1, 2, 1, 1, 2, 1, 2, 1, 1, 2, 1, 1, 2, 1, 2, 1, 1, 2, 1, 2, 1, 1, 2, 1, 1, 2, 1, 2, 1, 1, 2, 1, 2, 1, 1, 2, 1, 1, 2, 1, 2, 1, 1, 2, 1, 2, 1, 1, 2, 1, 1, 2, 1, 2, 1, 1, 2, 1, 2, 1, 1, 2, 1, 1, 2, 1, 2, 1, 1, 2, 1, 2, 1, 1, 2, 1, 1, 2, 1, 2, 1, 1, 2, 1, 2, 1, 1, 2, 1, 1, 2, 1, 2, 1, 1, 2, 1, 2, 1, 1, 2, 1, 1, 2, 1, 2, 1, 1, 2, 1, 2, 1, 1, 2, 1, 1, 2, 1, 2, 1, 1, 2, 1, 2, 1, 1, 2, 1, 1, 2, 1, 2, 1, 1, 2, 1, 2, 1, 1, 2, 1, 1, 2, 1, 2, 1, 1, 2, 1, 2, 1, 1, 2, 1, 1, 2, 1, 2, 1, 1, 2, 1, 2, 1, 1, 2, 1, 1, 2, 1, 2, 1, 1, 2, 1, 2, 1, 1, 2, 1, 1, 2, 1, 2, 1, 1, 2, 1, 2, 1, 1, 2, 1, 1, 2, 1, 2, 1, 1, 2, 1, 2, 1, 1, 2, 1, 1, 2, 1, 2, 1, 1, 2, 1, 2, 1, 1, 2, 1, 1, 2, 1, 2, 1, 1, 2, 1, 2, 1, 1, 2, 1, 1, 2, 1, 2, 1, 1, 2, 1, 2, 1, 1, 2, 1, 1, 2, 1, 2, 1, 1, 2, 1, 2, 1, 1, 2, 1, 1, 2, 1, 2, 1, 1, 2, 1, 2, 1, 1, 2, 1, 1, 2, 1, 2, 1, 1, 2, 1, 2, 1, 1, 2, 1, 1]) of length 352 after prefixing the suffix with 0 times the current s.m.p.Increase the value of the `max_smp_length` keyword argument to go further.\n",
      "\u001b[34m\u001b[1mNew candidate s.m.p. found\u001b[22m\u001b[39m because ⟨v_6*, v⟩ - 1 = 0.0004561486934486769 > 1.0e-9:\n",
      "\u001b[31m\u001b[1maborting\u001b[22m\u001b[39m with smp candidate PSW(1.4092411455344456, [2, 1, 1, 2, 1, 1, 2, 1, 2, 1, 1, 2, 1, 2, 1, 1, 2, 1, 1, 2, 1, 2, 1, 1, 2, 1, 2, 1, 1, 2, 1, 1, 2, 1, 2, 1, 1, 2, 1, 2, 1, 1, 2, 1, 1, 2, 1, 2, 1, 1, 2, 1, 2, 1, 1, 2, 1, 1, 2, 1, 2, 1, 1, 2, 1, 2, 1, 1, 2, 1, 1, 2, 1, 2, 1, 1, 2, 1, 2, 1, 1, 2, 1, 1, 2, 1, 2, 1, 1, 2, 1, 2, 1, 1, 2, 1, 1, 2, 1, 2, 1, 1, 2, 1, 2, 1, 1, 2, 1, 1, 2, 1, 2, 1, 1, 2, 1, 2, 1, 1, 2, 1, 1, 2, 1, 2, 1, 1, 2, 1, 2, 1, 1, 2, 1, 1, 2, 1, 2, 1, 1, 2, 1, 2, 1, 1, 2, 1, 1, 2, 1, 2, 1, 1, 2, 1, 2, 1, 1, 2, 1, 1, 2, 1, 2, 1, 1, 2, 1, 2, 1, 1, 2, 1, 1, 2, 1, 2, 1, 1, 2, 1, 2, 1, 1, 2, 1, 1, 2, 1, 2, 1, 1, 2, 1, 2, 1, 1, 2, 1, 1, 2, 1, 2, 1, 1, 2, 1, 2, 1, 1, 2, 1, 1, 2, 1, 2, 1, 1, 2, 1, 2, 1, 1, 2, 1, 1, 2, 1, 2, 1, 1, 2, 1, 2, 1, 1, 2, 1, 1, 2, 1, 2, 1, 1, 2, 1, 2, 1, 1, 2, 1, 1, 2, 1, 2, 1, 1, 2, 1, 2, 1, 1, 2, 1, 1, 2, 1, 2, 1, 1, 2, 1, 2, 1, 1, 2, 1, 1, 2, 1, 2, 1, 1, 2, 1, 2, 1, 1, 2, 1, 1, 2, 1, 2, 1, 1, 2, 1, 2, 1, 1, 2, 1, 1, 2, 1, 2, 1, 1, 2, 1, 2, 1, 1, 2, 1, 1, 2, 1, 2, 1, 1, 2, 1, 2, 1, 1, 2, 1, 1, 2, 1, 2, 1, 1, 2, 1, 2, 1, 1, 2, 1, 1, 2, 1, 2, 1, 1, 2, 1, 1]) of length 352 after prefixing the suffix with 0 times the current s.m.p.Increase the value of the `max_smp_length` keyword argument to go further.\n",
      "Depth 353: [2484] points, 9 living leaves...\n"
     ]
    },
    {
     "name": "stdout",
     "output_type": "stream",
     "text": [
      "Depth 354: [2492] points, 8 living leaves...\n",
      "Depth 355: [2500] points, 8 living leaves...\n",
      "\u001b[34m\u001b[1mNew candidate s.m.p. found\u001b[22m\u001b[39m because ⟨v_6*, v⟩ - 1 = 2.404733336902609e-7 > 1.0e-9:\n",
      "\u001b[31m\u001b[1maborting\u001b[22m\u001b[39m with smp candidate PSW(1.4092443126990757, [2, 1, 1, 2, 1, 1, 2, 1, 2, 1, 1, 2, 1, 1, 2, 1, 2, 1, 1, 2, 1, 2, 1, 1, 2, 1, 1, 2, 1, 2, 1, 1, 2, 1, 1, 2, 1, 2, 1, 1, 2, 1, 2, 1, 1, 2, 1, 1, 2, 1, 2, 1, 1, 2, 1, 1, 2, 1, 2, 1, 1, 2, 1, 2, 1, 1, 2, 1, 1, 2, 1, 2, 1, 1, 2, 1, 1, 2, 1, 2, 1, 1, 2, 1, 2, 1, 1, 2, 1, 1, 2, 1, 2, 1, 1, 2, 1, 2, 1, 1, 2, 1, 1, 2, 1, 2, 1, 1, 2, 1, 2, 1, 1, 2, 1, 1, 2, 1, 2, 1, 1, 2, 1, 2, 1, 1, 2, 1, 1, 2, 1, 2, 1, 1, 2, 1, 2, 1, 1, 2, 1, 1, 2, 1, 2, 1, 1, 2, 1, 2, 1, 1, 2, 1, 1, 2, 1, 2, 1, 1, 2, 1, 2, 1, 1, 2, 1, 1, 2, 1, 2, 1, 1, 2, 1, 2, 1, 1, 2, 1, 1, 2, 1, 2, 1, 1, 2, 1, 2, 1, 1, 2, 1, 1, 2, 1, 2, 1, 1, 2, 1, 2, 1, 1, 2, 1, 1, 2, 1, 2, 1, 1, 2, 1, 2, 1, 1, 2, 1, 1, 2, 1, 2, 1, 1, 2, 1, 2, 1, 1, 2, 1, 1, 2, 1, 2, 1, 1, 2, 1, 2, 1, 1, 2, 1, 1, 2, 1, 2, 1, 1, 2, 1, 2, 1, 1, 2, 1, 1, 2, 1, 2, 1, 1, 2, 1, 2, 1, 1, 2, 1, 1, 2, 1, 2, 1, 1, 2, 1, 2, 1, 1, 2, 1, 1, 2, 1, 2, 1, 1, 2, 1, 2, 1, 1, 2, 1, 1, 2, 1, 2, 1, 1, 2, 1, 2, 1, 1, 2, 1, 1, 2, 1, 2, 1, 1, 2, 1, 2, 1, 1, 2, 1, 1, 2, 1, 2, 1, 1, 2, 1, 2, 1, 1, 2, 1, 1, 2, 1, 2, 1, 1, 2, 1, 2, 1, 1, 2, 1, 1, 2, 1, 2, 1, 1]) of length 355 after prefixing the suffix with 0 times the current s.m.p.Increase the value of the `max_smp_length` keyword argument to go further.\n",
      "\u001b[34m\u001b[1mNew candidate s.m.p. found\u001b[22m\u001b[39m because ⟨v_6*, v⟩ - 1 = 2.4387440999973364e-7 > 1.0e-9:\n",
      "\u001b[31m\u001b[1maborting\u001b[22m\u001b[39m with smp candidate PSW(1.4092443126758247, [2, 1, 1, 2, 1, 1, 2, 1, 2, 1, 1, 2, 1, 1, 2, 1, 2, 1, 1, 2, 1, 2, 1, 1, 2, 1, 1, 2, 1, 2, 1, 1, 2, 1, 1, 2, 1, 2, 1, 1, 2, 1, 2, 1, 1, 2, 1, 1, 2, 1, 2, 1, 1, 2, 1, 1, 2, 1, 2, 1, 1, 2, 1, 2, 1, 1, 2, 1, 1, 2, 1, 2, 1, 1, 2, 1, 2, 1, 1, 2, 1, 1, 2, 1, 2, 1, 1, 2, 1, 2, 1, 1, 2, 1, 1, 2, 1, 2, 1, 1, 2, 1, 2, 1, 1, 2, 1, 1, 2, 1, 2, 1, 1, 2, 1, 2, 1, 1, 2, 1, 1, 2, 1, 2, 1, 1, 2, 1, 2, 1, 1, 2, 1, 1, 2, 1, 2, 1, 1, 2, 1, 2, 1, 1, 2, 1, 1, 2, 1, 2, 1, 1, 2, 1, 2, 1, 1, 2, 1, 1, 2, 1, 2, 1, 1, 2, 1, 2, 1, 1, 2, 1, 1, 2, 1, 2, 1, 1, 2, 1, 2, 1, 1, 2, 1, 1, 2, 1, 2, 1, 1, 2, 1, 2, 1, 1, 2, 1, 1, 2, 1, 2, 1, 1, 2, 1, 2, 1, 1, 2, 1, 1, 2, 1, 2, 1, 1, 2, 1, 2, 1, 1, 2, 1, 1, 2, 1, 2, 1, 1, 2, 1, 2, 1, 1, 2, 1, 1, 2, 1, 2, 1, 1, 2, 1, 2, 1, 1, 2, 1, 1, 2, 1, 2, 1, 1, 2, 1, 2, 1, 1, 2, 1, 1, 2, 1, 2, 1, 1, 2, 1, 2, 1, 1, 2, 1, 1, 2, 1, 2, 1, 1, 2, 1, 2, 1, 1, 2, 1, 1, 2, 1, 2, 1, 1, 2, 1, 2, 1, 1, 2, 1, 1, 2, 1, 2, 1, 1, 2, 1, 2, 1, 1, 2, 1, 1, 2, 1, 2, 1, 1, 2, 1, 2, 1, 1, 2, 1, 1, 2, 1, 2, 1, 1, 2, 1, 2, 1, 1, 2, 1, 1, 2, 1, 2, 1, 1, 2, 1, 1, 2, 1, 2, 1, 1]) of length 355 after prefixing the suffix with 0 times the current s.m.p.Increase the value of the `max_smp_length` keyword argument to go further.\n",
      "\u001b[34m\u001b[1mNew candidate s.m.p. found\u001b[22m\u001b[39m because ⟨v_6*, v⟩ - 1 = 0.0004558229355686727 > 1.0e-9:\n",
      "\u001b[31m\u001b[1maborting\u001b[22m\u001b[39m with smp candidate PSW(1.4092411968852427, [2, 1, 1, 2, 1, 1, 2, 1, 2, 1, 1, 2, 1, 1, 2, 1, 2, 1, 1, 2, 1, 2, 1, 1, 2, 1, 1, 2, 1, 2, 1, 1, 2, 1, 1, 2, 1, 2, 1, 1, 2, 1, 2, 1, 1, 2, 1, 1, 2, 1, 2, 1, 1, 2, 1, 1, 2, 1, 2, 1, 1, 2, 1, 2, 1, 1, 2, 1, 1, 2, 1, 2, 1, 1, 2, 1, 2, 1, 1, 2, 1, 1, 2, 1, 2, 1, 1, 2, 1, 2, 1, 1, 2, 1, 1, 2, 1, 2, 1, 1, 2, 1, 2, 1, 1, 2, 1, 1, 2, 1, 2, 1, 1, 2, 1, 2, 1, 1, 2, 1, 1, 2, 1, 2, 1, 1, 2, 1, 2, 1, 1, 2, 1, 1, 2, 1, 2, 1, 1, 2, 1, 2, 1, 1, 2, 1, 1, 2, 1, 2, 1, 1, 2, 1, 2, 1, 1, 2, 1, 1, 2, 1, 2, 1, 1, 2, 1, 2, 1, 1, 2, 1, 1, 2, 1, 2, 1, 1, 2, 1, 2, 1, 1, 2, 1, 1, 2, 1, 2, 1, 1, 2, 1, 2, 1, 1, 2, 1, 1, 2, 1, 2, 1, 1, 2, 1, 2, 1, 1, 2, 1, 1, 2, 1, 2, 1, 1, 2, 1, 2, 1, 1, 2, 1, 1, 2, 1, 2, 1, 1, 2, 1, 2, 1, 1, 2, 1, 1, 2, 1, 2, 1, 1, 2, 1, 2, 1, 1, 2, 1, 1, 2, 1, 2, 1, 1, 2, 1, 2, 1, 1, 2, 1, 1, 2, 1, 2, 1, 1, 2, 1, 2, 1, 1, 2, 1, 1, 2, 1, 2, 1, 1, 2, 1, 2, 1, 1, 2, 1, 1, 2, 1, 2, 1, 1, 2, 1, 2, 1, 1, 2, 1, 1, 2, 1, 2, 1, 1, 2, 1, 2, 1, 1, 2, 1, 1, 2, 1, 2, 1, 1, 2, 1, 2, 1, 1, 2, 1, 1, 2, 1, 2, 1, 1, 2, 1, 2, 1, 1, 2, 1, 1, 2, 1, 2, 1, 1, 2, 1, 2, 1, 1, 2, 1, 1]) of length 355 after prefixing the suffix with 0 times the current s.m.p.Increase the value of the `max_smp_length` keyword argument to go further.\n",
      "\u001b[34m\u001b[1mNew candidate s.m.p. found\u001b[22m\u001b[39m because ⟨v_6*, v⟩ - 1 = 0.00045615074390048527 > 1.0e-9:\n",
      "\u001b[31m\u001b[1maborting\u001b[22m\u001b[39m with smp candidate PSW(1.4092411945833618, [2, 1, 1, 2, 1, 1, 2, 1, 2, 1, 1, 2, 1, 1, 2, 1, 2, 1, 1, 2, 1, 2, 1, 1, 2, 1, 1, 2, 1, 2, 1, 1, 2, 1, 1, 2, 1, 2, 1, 1, 2, 1, 2, 1, 1, 2, 1, 1, 2, 1, 2, 1, 1, 2, 1, 2, 1, 1, 2, 1, 1, 2, 1, 2, 1, 1, 2, 1, 2, 1, 1, 2, 1, 1, 2, 1, 2, 1, 1, 2, 1, 2, 1, 1, 2, 1, 1, 2, 1, 2, 1, 1, 2, 1, 2, 1, 1, 2, 1, 1, 2, 1, 2, 1, 1, 2, 1, 2, 1, 1, 2, 1, 1, 2, 1, 2, 1, 1, 2, 1, 2, 1, 1, 2, 1, 1, 2, 1, 2, 1, 1, 2, 1, 2, 1, 1, 2, 1, 1, 2, 1, 2, 1, 1, 2, 1, 2, 1, 1, 2, 1, 1, 2, 1, 2, 1, 1, 2, 1, 2, 1, 1, 2, 1, 1, 2, 1, 2, 1, 1, 2, 1, 2, 1, 1, 2, 1, 1, 2, 1, 2, 1, 1, 2, 1, 2, 1, 1, 2, 1, 1, 2, 1, 2, 1, 1, 2, 1, 2, 1, 1, 2, 1, 1, 2, 1, 2, 1, 1, 2, 1, 2, 1, 1, 2, 1, 1, 2, 1, 2, 1, 1, 2, 1, 2, 1, 1, 2, 1, 1, 2, 1, 2, 1, 1, 2, 1, 2, 1, 1, 2, 1, 1, 2, 1, 2, 1, 1, 2, 1, 2, 1, 1, 2, 1, 1, 2, 1, 2, 1, 1, 2, 1, 2, 1, 1, 2, 1, 1, 2, 1, 2, 1, 1, 2, 1, 2, 1, 1, 2, 1, 1, 2, 1, 2, 1, 1, 2, 1, 2, 1, 1, 2, 1, 1, 2, 1, 2, 1, 1, 2, 1, 2, 1, 1, 2, 1, 1, 2, 1, 2, 1, 1, 2, 1, 2, 1, 1, 2, 1, 1, 2, 1, 2, 1, 1, 2, 1, 2, 1, 1, 2, 1, 1, 2, 1, 2, 1, 1, 2, 1, 2, 1, 1, 2, 1, 1, 2, 1, 2, 1, 1, 2, 1, 1]) of length 355 after prefixing the suffix with 0 times the current s.m.p.Increase the value of the `max_smp_length` keyword argument to go further.\n",
      "Depth 356: [2508] points, 8 living leaves...\n",
      "Depth 357: [2516] points, 8 living leaves...\n",
      "\u001b[34m\u001b[1mNew candidate s.m.p. found\u001b[22m\u001b[39m because ⟨v_6*, v⟩ - 1 = 2.418393889591641e-7 > 1.0e-9:\n",
      "\u001b[31m\u001b[1maborting\u001b[22m\u001b[39m with smp candidate PSW(1.4092443289979897, [2, 1, 1, 2, 1, 1, 2, 1, 2, 1, 1, 2, 1, 1, 2, 1, 2, 1, 1, 2, 1, 2, 1, 1, 2, 1, 1, 2, 1, 2, 1, 1, 2, 1, 2, 1, 1, 2, 1, 1, 2, 1, 2, 1, 1, 2, 1, 2, 1, 1, 2, 1, 1, 2, 1, 2, 1, 1, 2, 1, 2, 1, 1, 2, 1, 1, 2, 1, 2, 1, 1, 2, 1, 2, 1, 1, 2, 1, 1, 2, 1, 2, 1, 1, 2, 1, 2, 1, 1, 2, 1, 1, 2, 1, 2, 1, 1, 2, 1, 2, 1, 1, 2, 1, 1, 2, 1, 2, 1, 1, 2, 1, 2, 1, 1, 2, 1, 1, 2, 1, 2, 1, 1, 2, 1, 2, 1, 1, 2, 1, 1, 2, 1, 2, 1, 1, 2, 1, 2, 1, 1, 2, 1, 1, 2, 1, 2, 1, 1, 2, 1, 2, 1, 1, 2, 1, 1, 2, 1, 2, 1, 1, 2, 1, 2, 1, 1, 2, 1, 1, 2, 1, 2, 1, 1, 2, 1, 2, 1, 1, 2, 1, 1, 2, 1, 2, 1, 1, 2, 1, 2, 1, 1, 2, 1, 1, 2, 1, 2, 1, 1, 2, 1, 2, 1, 1, 2, 1, 1, 2, 1, 2, 1, 1, 2, 1, 2, 1, 1, 2, 1, 1, 2, 1, 2, 1, 1, 2, 1, 2, 1, 1, 2, 1, 1, 2, 1, 2, 1, 1, 2, 1, 2, 1, 1, 2, 1, 1, 2, 1, 2, 1, 1, 2, 1, 2, 1, 1, 2, 1, 1, 2, 1, 2, 1, 1, 2, 1, 2, 1, 1, 2, 1, 1, 2, 1, 2, 1, 1, 2, 1, 2, 1, 1, 2, 1, 1, 2, 1, 2, 1, 1, 2, 1, 2, 1, 1, 2, 1, 1, 2, 1, 2, 1, 1, 2, 1, 2, 1, 1, 2, 1, 1, 2, 1, 2, 1, 1, 2, 1, 2, 1, 1, 2, 1, 1, 2, 1, 2, 1, 1, 2, 1, 2, 1, 1, 2, 1, 1, 2, 1, 2, 1, 1, 2, 1, 2, 1, 1, 2, 1, 1, 2, 1, 2, 1, 1]) of length 357 after prefixing the suffix with 0 times the current s.m.p.Increase the value of the `max_smp_length` keyword argument to go further.\n",
      "\u001b[34m\u001b[1mNew candidate s.m.p. found\u001b[22m\u001b[39m because ⟨v_6*, v⟩ - 1 = 2.4524046615681527e-7 > 1.0e-9:\n",
      "\u001b[31m\u001b[1maborting\u001b[22m\u001b[39m with smp candidate PSW(1.4092443311119798, [2, 1, 1, 2, 1, 1, 2, 1, 2, 1, 1, 2, 1, 2, 1, 1, 2, 1, 1, 2, 1, 2, 1, 1, 2, 1, 2, 1, 1, 2, 1, 1, 2, 1, 2, 1, 1, 2, 1, 2, 1, 1, 2, 1, 1, 2, 1, 2, 1, 1, 2, 1, 2, 1, 1, 2, 1, 1, 2, 1, 2, 1, 1, 2, 1, 2, 1, 1, 2, 1, 1, 2, 1, 2, 1, 1, 2, 1, 2, 1, 1, 2, 1, 1, 2, 1, 2, 1, 1, 2, 1, 2, 1, 1, 2, 1, 1, 2, 1, 2, 1, 1, 2, 1, 2, 1, 1, 2, 1, 1, 2, 1, 2, 1, 1, 2, 1, 2, 1, 1, 2, 1, 1, 2, 1, 2, 1, 1, 2, 1, 2, 1, 1, 2, 1, 1, 2, 1, 2, 1, 1, 2, 1, 2, 1, 1, 2, 1, 1, 2, 1, 2, 1, 1, 2, 1, 2, 1, 1, 2, 1, 1, 2, 1, 2, 1, 1, 2, 1, 2, 1, 1, 2, 1, 1, 2, 1, 2, 1, 1, 2, 1, 2, 1, 1, 2, 1, 1, 2, 1, 2, 1, 1, 2, 1, 2, 1, 1, 2, 1, 1, 2, 1, 2, 1, 1, 2, 1, 2, 1, 1, 2, 1, 1, 2, 1, 2, 1, 1, 2, 1, 2, 1, 1, 2, 1, 1, 2, 1, 2, 1, 1, 2, 1, 2, 1, 1, 2, 1, 1, 2, 1, 2, 1, 1, 2, 1, 2, 1, 1, 2, 1, 1, 2, 1, 2, 1, 1, 2, 1, 2, 1, 1, 2, 1, 1, 2, 1, 2, 1, 1, 2, 1, 2, 1, 1, 2, 1, 1, 2, 1, 2, 1, 1, 2, 1, 2, 1, 1, 2, 1, 1, 2, 1, 2, 1, 1, 2, 1, 2, 1, 1, 2, 1, 1, 2, 1, 2, 1, 1, 2, 1, 2, 1, 1, 2, 1, 1, 2, 1, 2, 1, 1, 2, 1, 2, 1, 1, 2, 1, 1, 2, 1, 2, 1, 1, 2, 1, 2, 1, 1, 2, 1, 1, 2, 1, 2, 1, 1, 2, 1, 1, 2, 1, 2, 1, 1]) of length 357 after prefixing the suffix with 0 times the current s.m.p.Increase the value of the `max_smp_length` keyword argument to go further.\n"
     ]
    },
    {
     "name": "stdout",
     "output_type": "stream",
     "text": [
      "\u001b[34m\u001b[1mNew candidate s.m.p. found\u001b[22m\u001b[39m because ⟨v_6*, v⟩ - 1 = 0.00045582430224699877 > 1.0e-9:\n",
      "\u001b[31m\u001b[1maborting\u001b[22m\u001b[39m with smp candidate PSW(1.409241232928515, [2, 1, 1, 2, 1, 1, 2, 1, 2, 1, 1, 2, 1, 2, 1, 1, 2, 1, 1, 2, 1, 2, 1, 1, 2, 1, 2, 1, 1, 2, 1, 1, 2, 1, 2, 1, 1, 2, 1, 2, 1, 1, 2, 1, 1, 2, 1, 2, 1, 1, 2, 1, 2, 1, 1, 2, 1, 1, 2, 1, 2, 1, 1, 2, 1, 2, 1, 1, 2, 1, 1, 2, 1, 2, 1, 1, 2, 1, 2, 1, 1, 2, 1, 1, 2, 1, 2, 1, 1, 2, 1, 2, 1, 1, 2, 1, 1, 2, 1, 2, 1, 1, 2, 1, 2, 1, 1, 2, 1, 1, 2, 1, 2, 1, 1, 2, 1, 2, 1, 1, 2, 1, 1, 2, 1, 2, 1, 1, 2, 1, 2, 1, 1, 2, 1, 1, 2, 1, 2, 1, 1, 2, 1, 2, 1, 1, 2, 1, 1, 2, 1, 2, 1, 1, 2, 1, 2, 1, 1, 2, 1, 1, 2, 1, 2, 1, 1, 2, 1, 2, 1, 1, 2, 1, 1, 2, 1, 2, 1, 1, 2, 1, 2, 1, 1, 2, 1, 1, 2, 1, 2, 1, 1, 2, 1, 2, 1, 1, 2, 1, 1, 2, 1, 2, 1, 1, 2, 1, 2, 1, 1, 2, 1, 1, 2, 1, 2, 1, 1, 2, 1, 2, 1, 1, 2, 1, 1, 2, 1, 2, 1, 1, 2, 1, 2, 1, 1, 2, 1, 1, 2, 1, 2, 1, 1, 2, 1, 2, 1, 1, 2, 1, 1, 2, 1, 2, 1, 1, 2, 1, 2, 1, 1, 2, 1, 1, 2, 1, 2, 1, 1, 2, 1, 2, 1, 1, 2, 1, 1, 2, 1, 2, 1, 1, 2, 1, 2, 1, 1, 2, 1, 1, 2, 1, 2, 1, 1, 2, 1, 2, 1, 1, 2, 1, 1, 2, 1, 2, 1, 1, 2, 1, 2, 1, 1, 2, 1, 1, 2, 1, 2, 1, 1, 2, 1, 2, 1, 1, 2, 1, 1, 2, 1, 2, 1, 1, 2, 1, 2, 1, 1, 2, 1, 1, 2, 1, 2, 1, 1, 2, 1, 2, 1, 1, 2, 1, 1]) of length 357 after prefixing the suffix with 0 times the current s.m.p.Increase the value of the `max_smp_length` keyword argument to go further.\n",
      "Depth 358: [2524] points, 8 living leaves...\n",
      "\u001b[34m\u001b[1mNew candidate s.m.p. found\u001b[22m\u001b[39m because ⟨v_6*, v⟩ - 1 = 0.00045615279435096134 > 1.0e-9:\n",
      "\u001b[31m\u001b[1maborting\u001b[22m\u001b[39m with smp candidate PSW(1.409241245092822, [2, 1, 1, 2, 1, 1, 2, 1, 2, 1, 1, 2, 1, 1, 2, 1, 2, 1, 1, 2, 1, 2, 1, 1, 2, 1, 1, 2, 1, 2, 1, 1, 2, 1, 1, 2, 1, 2, 1, 1, 2, 1, 2, 1, 1, 2, 1, 1, 2, 1, 2, 1, 1, 2, 1, 1, 2, 1, 2, 1, 1, 2, 1, 2, 1, 1, 2, 1, 1, 2, 1, 2, 1, 1, 2, 1, 1, 2, 1, 2, 1, 1, 2, 1, 2, 1, 1, 2, 1, 1, 2, 1, 2, 1, 1, 2, 1, 2, 1, 1, 2, 1, 1, 2, 1, 2, 1, 1, 2, 1, 2, 1, 1, 2, 1, 1, 2, 1, 2, 1, 1, 2, 1, 2, 1, 1, 2, 1, 1, 2, 1, 2, 1, 1, 2, 1, 2, 1, 1, 2, 1, 1, 2, 1, 2, 1, 1, 2, 1, 2, 1, 1, 2, 1, 1, 2, 1, 2, 1, 1, 2, 1, 2, 1, 1, 2, 1, 1, 2, 1, 2, 1, 1, 2, 1, 2, 1, 1, 2, 1, 1, 2, 1, 2, 1, 1, 2, 1, 2, 1, 1, 2, 1, 1, 2, 1, 2, 1, 1, 2, 1, 2, 1, 1, 2, 1, 1, 2, 1, 2, 1, 1, 2, 1, 2, 1, 1, 2, 1, 1, 2, 1, 2, 1, 1, 2, 1, 2, 1, 1, 2, 1, 1, 2, 1, 2, 1, 1, 2, 1, 2, 1, 1, 2, 1, 1, 2, 1, 2, 1, 1, 2, 1, 2, 1, 1, 2, 1, 1, 2, 1, 2, 1, 1, 2, 1, 2, 1, 1, 2, 1, 1, 2, 1, 2, 1, 1, 2, 1, 2, 1, 1, 2, 1, 1, 2, 1, 2, 1, 1, 2, 1, 2, 1, 1, 2, 1, 1, 2, 1, 2, 1, 1, 2, 1, 2, 1, 1, 2, 1, 1, 2, 1, 2, 1, 1, 2, 1, 2, 1, 1, 2, 1, 1, 2, 1, 2, 1, 1, 2, 1, 2, 1, 1, 2, 1, 1, 2, 1, 2, 1, 1, 2, 1, 2, 1, 1, 2, 1, 1, 2, 1, 2, 1, 1, 2, 1, 1]) of length 358 after prefixing the suffix with 0 times the current s.m.p.Increase the value of the `max_smp_length` keyword argument to go further.\n",
      "Depth 359: [2532] points, 8 living leaves...\n",
      "Depth 360: [2540] points, 8 living leaves...\n",
      "\u001b[34m\u001b[1mNew candidate s.m.p. found\u001b[22m\u001b[39m because ⟨v_6*, v⟩ - 1 = 2.4388890551563236e-7 > 1.0e-9:\n",
      "\u001b[31m\u001b[1maborting\u001b[22m\u001b[39m with smp candidate PSW(1.409244353106802, [2, 1, 1, 2, 1, 1, 2, 1, 2, 1, 1, 2, 1, 1, 2, 1, 2, 1, 1, 2, 1, 2, 1, 1, 2, 1, 1, 2, 1, 2, 1, 1, 2, 1, 1, 2, 1, 2, 1, 1, 2, 1, 2, 1, 1, 2, 1, 1, 2, 1, 2, 1, 1, 2, 1, 1, 2, 1, 2, 1, 1, 2, 1, 2, 1, 1, 2, 1, 1, 2, 1, 2, 1, 1, 2, 1, 2, 1, 1, 2, 1, 1, 2, 1, 2, 1, 1, 2, 1, 2, 1, 1, 2, 1, 1, 2, 1, 2, 1, 1, 2, 1, 2, 1, 1, 2, 1, 1, 2, 1, 2, 1, 1, 2, 1, 2, 1, 1, 2, 1, 1, 2, 1, 2, 1, 1, 2, 1, 2, 1, 1, 2, 1, 1, 2, 1, 2, 1, 1, 2, 1, 2, 1, 1, 2, 1, 1, 2, 1, 2, 1, 1, 2, 1, 2, 1, 1, 2, 1, 1, 2, 1, 2, 1, 1, 2, 1, 2, 1, 1, 2, 1, 1, 2, 1, 2, 1, 1, 2, 1, 2, 1, 1, 2, 1, 1, 2, 1, 2, 1, 1, 2, 1, 2, 1, 1, 2, 1, 1, 2, 1, 2, 1, 1, 2, 1, 2, 1, 1, 2, 1, 1, 2, 1, 2, 1, 1, 2, 1, 2, 1, 1, 2, 1, 1, 2, 1, 2, 1, 1, 2, 1, 2, 1, 1, 2, 1, 1, 2, 1, 2, 1, 1, 2, 1, 2, 1, 1, 2, 1, 1, 2, 1, 2, 1, 1, 2, 1, 2, 1, 1, 2, 1, 1, 2, 1, 2, 1, 1, 2, 1, 2, 1, 1, 2, 1, 1, 2, 1, 2, 1, 1, 2, 1, 2, 1, 1, 2, 1, 1, 2, 1, 2, 1, 1, 2, 1, 2, 1, 1, 2, 1, 1, 2, 1, 2, 1, 1, 2, 1, 2, 1, 1, 2, 1, 1, 2, 1, 2, 1, 1, 2, 1, 2, 1, 1, 2, 1, 1, 2, 1, 2, 1, 1, 2, 1, 2, 1, 1, 2, 1, 1, 2, 1, 2, 1, 1, 2, 1, 2, 1, 1, 2, 1, 1, 2, 1, 2, 1, 1]) of length 360 after prefixing the suffix with 0 times the current s.m.p.Increase the value of the `max_smp_length` keyword argument to go further.\n",
      "\u001b[34m\u001b[1mNew candidate s.m.p. found\u001b[22m\u001b[39m because ⟨v_6*, v⟩ - 1 = 2.472899831573727e-7 > 1.0e-9:\n",
      "\u001b[31m\u001b[1maborting\u001b[22m\u001b[39m with smp candidate PSW(1.4092443530838739, [2, 1, 1, 2, 1, 1, 2, 1, 2, 1, 1, 2, 1, 1, 2, 1, 2, 1, 1, 2, 1, 2, 1, 1, 2, 1, 1, 2, 1, 2, 1, 1, 2, 1, 1, 2, 1, 2, 1, 1, 2, 1, 2, 1, 1, 2, 1, 1, 2, 1, 2, 1, 1, 2, 1, 2, 1, 1, 2, 1, 1, 2, 1, 2, 1, 1, 2, 1, 2, 1, 1, 2, 1, 1, 2, 1, 2, 1, 1, 2, 1, 2, 1, 1, 2, 1, 1, 2, 1, 2, 1, 1, 2, 1, 2, 1, 1, 2, 1, 1, 2, 1, 2, 1, 1, 2, 1, 2, 1, 1, 2, 1, 1, 2, 1, 2, 1, 1, 2, 1, 2, 1, 1, 2, 1, 1, 2, 1, 2, 1, 1, 2, 1, 2, 1, 1, 2, 1, 1, 2, 1, 2, 1, 1, 2, 1, 2, 1, 1, 2, 1, 1, 2, 1, 2, 1, 1, 2, 1, 2, 1, 1, 2, 1, 1, 2, 1, 2, 1, 1, 2, 1, 2, 1, 1, 2, 1, 1, 2, 1, 2, 1, 1, 2, 1, 2, 1, 1, 2, 1, 1, 2, 1, 2, 1, 1, 2, 1, 2, 1, 1, 2, 1, 1, 2, 1, 2, 1, 1, 2, 1, 2, 1, 1, 2, 1, 1, 2, 1, 2, 1, 1, 2, 1, 2, 1, 1, 2, 1, 1, 2, 1, 2, 1, 1, 2, 1, 2, 1, 1, 2, 1, 1, 2, 1, 2, 1, 1, 2, 1, 2, 1, 1, 2, 1, 1, 2, 1, 2, 1, 1, 2, 1, 2, 1, 1, 2, 1, 1, 2, 1, 2, 1, 1, 2, 1, 2, 1, 1, 2, 1, 1, 2, 1, 2, 1, 1, 2, 1, 2, 1, 1, 2, 1, 1, 2, 1, 2, 1, 1, 2, 1, 2, 1, 1, 2, 1, 1, 2, 1, 2, 1, 1, 2, 1, 2, 1, 1, 2, 1, 1, 2, 1, 2, 1, 1, 2, 1, 2, 1, 1, 2, 1, 1, 2, 1, 2, 1, 1, 2, 1, 2, 1, 1, 2, 1, 1, 2, 1, 2, 1, 1, 2, 1, 1, 2, 1, 2, 1, 1]) of length 360 after prefixing the suffix with 0 times the current s.m.p.Increase the value of the `max_smp_length` keyword argument to go further.\n",
      "\u001b[34m\u001b[1mNew candidate s.m.p. found\u001b[22m\u001b[39m because ⟨v_6*, v⟩ - 1 = 0.000455826352698141 > 1.0e-9:\n",
      "\u001b[31m\u001b[1maborting\u001b[22m\u001b[39m with smp candidate PSW(1.4092412805680257, [2, 1, 1, 2, 1, 1, 2, 1, 2, 1, 1, 2, 1, 1, 2, 1, 2, 1, 1, 2, 1, 2, 1, 1, 2, 1, 1, 2, 1, 2, 1, 1, 2, 1, 1, 2, 1, 2, 1, 1, 2, 1, 2, 1, 1, 2, 1, 1, 2, 1, 2, 1, 1, 2, 1, 2, 1, 1, 2, 1, 1, 2, 1, 2, 1, 1, 2, 1, 2, 1, 1, 2, 1, 1, 2, 1, 2, 1, 1, 2, 1, 2, 1, 1, 2, 1, 1, 2, 1, 2, 1, 1, 2, 1, 2, 1, 1, 2, 1, 1, 2, 1, 2, 1, 1, 2, 1, 2, 1, 1, 2, 1, 1, 2, 1, 2, 1, 1, 2, 1, 2, 1, 1, 2, 1, 1, 2, 1, 2, 1, 1, 2, 1, 2, 1, 1, 2, 1, 1, 2, 1, 2, 1, 1, 2, 1, 2, 1, 1, 2, 1, 1, 2, 1, 2, 1, 1, 2, 1, 2, 1, 1, 2, 1, 1, 2, 1, 2, 1, 1, 2, 1, 2, 1, 1, 2, 1, 1, 2, 1, 2, 1, 1, 2, 1, 2, 1, 1, 2, 1, 1, 2, 1, 2, 1, 1, 2, 1, 2, 1, 1, 2, 1, 1, 2, 1, 2, 1, 1, 2, 1, 2, 1, 1, 2, 1, 1, 2, 1, 2, 1, 1, 2, 1, 2, 1, 1, 2, 1, 1, 2, 1, 2, 1, 1, 2, 1, 2, 1, 1, 2, 1, 1, 2, 1, 2, 1, 1, 2, 1, 2, 1, 1, 2, 1, 1, 2, 1, 2, 1, 1, 2, 1, 2, 1, 1, 2, 1, 1, 2, 1, 2, 1, 1, 2, 1, 2, 1, 1, 2, 1, 1, 2, 1, 2, 1, 1, 2, 1, 2, 1, 1, 2, 1, 1, 2, 1, 2, 1, 1, 2, 1, 2, 1, 1, 2, 1, 1, 2, 1, 2, 1, 1, 2, 1, 2, 1, 1, 2, 1, 1, 2, 1, 2, 1, 1, 2, 1, 2, 1, 1, 2, 1, 1, 2, 1, 2, 1, 1, 2, 1, 2, 1, 1, 2, 1, 1, 2, 1, 2, 1, 1, 2, 1, 2, 1, 1, 2, 1, 1]) of length 360 after prefixing the suffix with 0 times the current s.m.p.Increase the value of the `max_smp_length` keyword argument to go further.\n",
      "\u001b[34m\u001b[1mNew candidate s.m.p. found\u001b[22m\u001b[39m because ⟨v_6*, v⟩ - 1 = 0.0004561541610288433 > 1.0e-9:\n",
      "\u001b[31m\u001b[1maborting\u001b[22m\u001b[39m with smp candidate PSW(1.4092412782981154, [2, 1, 1, 2, 1, 1, 2, 1, 2, 1, 1, 2, 1, 1, 2, 1, 2, 1, 1, 2, 1, 2, 1, 1, 2, 1, 1, 2, 1, 2, 1, 1, 2, 1, 2, 1, 1, 2, 1, 1, 2, 1, 2, 1, 1, 2, 1, 2, 1, 1, 2, 1, 1, 2, 1, 2, 1, 1, 2, 1, 2, 1, 1, 2, 1, 1, 2, 1, 2, 1, 1, 2, 1, 2, 1, 1, 2, 1, 1, 2, 1, 2, 1, 1, 2, 1, 2, 1, 1, 2, 1, 1, 2, 1, 2, 1, 1, 2, 1, 2, 1, 1, 2, 1, 1, 2, 1, 2, 1, 1, 2, 1, 2, 1, 1, 2, 1, 1, 2, 1, 2, 1, 1, 2, 1, 2, 1, 1, 2, 1, 1, 2, 1, 2, 1, 1, 2, 1, 2, 1, 1, 2, 1, 1, 2, 1, 2, 1, 1, 2, 1, 2, 1, 1, 2, 1, 1, 2, 1, 2, 1, 1, 2, 1, 2, 1, 1, 2, 1, 1, 2, 1, 2, 1, 1, 2, 1, 2, 1, 1, 2, 1, 1, 2, 1, 2, 1, 1, 2, 1, 2, 1, 1, 2, 1, 1, 2, 1, 2, 1, 1, 2, 1, 2, 1, 1, 2, 1, 1, 2, 1, 2, 1, 1, 2, 1, 2, 1, 1, 2, 1, 1, 2, 1, 2, 1, 1, 2, 1, 2, 1, 1, 2, 1, 1, 2, 1, 2, 1, 1, 2, 1, 2, 1, 1, 2, 1, 1, 2, 1, 2, 1, 1, 2, 1, 2, 1, 1, 2, 1, 1, 2, 1, 2, 1, 1, 2, 1, 2, 1, 1, 2, 1, 1, 2, 1, 2, 1, 1, 2, 1, 2, 1, 1, 2, 1, 1, 2, 1, 2, 1, 1, 2, 1, 2, 1, 1, 2, 1, 1, 2, 1, 2, 1, 1, 2, 1, 2, 1, 1, 2, 1, 1, 2, 1, 2, 1, 1, 2, 1, 2, 1, 1, 2, 1, 1, 2, 1, 2, 1, 1, 2, 1, 2, 1, 1, 2, 1, 1, 2, 1, 2, 1, 1, 2, 1, 2, 1, 1, 2, 1, 1, 2, 1, 2, 1, 1, 2, 1, 1]) of length 360 after prefixing the suffix with 0 times the current s.m.p.Increase the value of the `max_smp_length` keyword argument to go further.\n"
     ]
    },
    {
     "name": "stdout",
     "output_type": "stream",
     "text": [
      "Depth 361: [2548] points, 8 living leaves...\n",
      "Depth 362: [2556] points, 8 living leaves...\n",
      "\u001b[34m\u001b[1mNew candidate s.m.p. found\u001b[22m\u001b[39m because ⟨v_6*, v⟩ - 1 = 2.452549614506694e-7 > 1.0e-9:\n",
      "\u001b[31m\u001b[1maborting\u001b[22m\u001b[39m with smp candidate PSW(1.4092443710649378, [2, 1, 1, 2, 1, 1, 2, 1, 2, 1, 1, 2, 1, 2, 1, 1, 2, 1, 1, 2, 1, 2, 1, 1, 2, 1, 2, 1, 1, 2, 1, 1, 2, 1, 2, 1, 1, 2, 1, 2, 1, 1, 2, 1, 1, 2, 1, 2, 1, 1, 2, 1, 2, 1, 1, 2, 1, 1, 2, 1, 2, 1, 1, 2, 1, 2, 1, 1, 2, 1, 1, 2, 1, 2, 1, 1, 2, 1, 2, 1, 1, 2, 1, 1, 2, 1, 2, 1, 1, 2, 1, 2, 1, 1, 2, 1, 1, 2, 1, 2, 1, 1, 2, 1, 2, 1, 1, 2, 1, 1, 2, 1, 2, 1, 1, 2, 1, 2, 1, 1, 2, 1, 1, 2, 1, 2, 1, 1, 2, 1, 2, 1, 1, 2, 1, 1, 2, 1, 2, 1, 1, 2, 1, 2, 1, 1, 2, 1, 1, 2, 1, 2, 1, 1, 2, 1, 2, 1, 1, 2, 1, 1, 2, 1, 2, 1, 1, 2, 1, 2, 1, 1, 2, 1, 1, 2, 1, 2, 1, 1, 2, 1, 2, 1, 1, 2, 1, 1, 2, 1, 2, 1, 1, 2, 1, 2, 1, 1, 2, 1, 1, 2, 1, 2, 1, 1, 2, 1, 2, 1, 1, 2, 1, 1, 2, 1, 2, 1, 1, 2, 1, 2, 1, 1, 2, 1, 1, 2, 1, 2, 1, 1, 2, 1, 2, 1, 1, 2, 1, 1, 2, 1, 2, 1, 1, 2, 1, 2, 1, 1, 2, 1, 1, 2, 1, 2, 1, 1, 2, 1, 2, 1, 1, 2, 1, 1, 2, 1, 2, 1, 1, 2, 1, 2, 1, 1, 2, 1, 1, 2, 1, 2, 1, 1, 2, 1, 2, 1, 1, 2, 1, 1, 2, 1, 2, 1, 1, 2, 1, 2, 1, 1, 2, 1, 1, 2, 1, 2, 1, 1, 2, 1, 2, 1, 1, 2, 1, 1, 2, 1, 2, 1, 1, 2, 1, 2, 1, 1, 2, 1, 1, 2, 1, 2, 1, 1, 2, 1, 2, 1, 1, 2, 1, 1, 2, 1, 2, 1, 1, 2, 1, 2, 1, 1, 2, 1, 1, 2, 1, 2, 1, 1]) of length 362 after prefixing the suffix with 0 times the current s.m.p.Increase the value of the `max_smp_length` keyword argument to go further.\n",
      "Depth 363: [2564] points, 8 living leaves...\n",
      "\u001b[34m\u001b[1mNew candidate s.m.p. found\u001b[22m\u001b[39m because ⟨v_6*, v⟩ - 1 = 2.4933949971384095e-7 > 1.0e-9:\n",
      "\u001b[31m\u001b[1maborting\u001b[22m\u001b[39m with smp candidate PSW(1.4092443767943834, [2, 1, 1, 2, 1, 1, 2, 1, 2, 1, 1, 2, 1, 1, 2, 1, 2, 1, 1, 2, 1, 2, 1, 1, 2, 1, 1, 2, 1, 2, 1, 1, 2, 1, 1, 2, 1, 2, 1, 1, 2, 1, 2, 1, 1, 2, 1, 1, 2, 1, 2, 1, 1, 2, 1, 1, 2, 1, 2, 1, 1, 2, 1, 2, 1, 1, 2, 1, 1, 2, 1, 2, 1, 1, 2, 1, 1, 2, 1, 2, 1, 1, 2, 1, 2, 1, 1, 2, 1, 1, 2, 1, 2, 1, 1, 2, 1, 2, 1, 1, 2, 1, 1, 2, 1, 2, 1, 1, 2, 1, 2, 1, 1, 2, 1, 1, 2, 1, 2, 1, 1, 2, 1, 2, 1, 1, 2, 1, 1, 2, 1, 2, 1, 1, 2, 1, 2, 1, 1, 2, 1, 1, 2, 1, 2, 1, 1, 2, 1, 2, 1, 1, 2, 1, 1, 2, 1, 2, 1, 1, 2, 1, 2, 1, 1, 2, 1, 1, 2, 1, 2, 1, 1, 2, 1, 2, 1, 1, 2, 1, 1, 2, 1, 2, 1, 1, 2, 1, 2, 1, 1, 2, 1, 1, 2, 1, 2, 1, 1, 2, 1, 2, 1, 1, 2, 1, 1, 2, 1, 2, 1, 1, 2, 1, 2, 1, 1, 2, 1, 1, 2, 1, 2, 1, 1, 2, 1, 2, 1, 1, 2, 1, 1, 2, 1, 2, 1, 1, 2, 1, 2, 1, 1, 2, 1, 1, 2, 1, 2, 1, 1, 2, 1, 2, 1, 1, 2, 1, 1, 2, 1, 2, 1, 1, 2, 1, 2, 1, 1, 2, 1, 1, 2, 1, 2, 1, 1, 2, 1, 2, 1, 1, 2, 1, 1, 2, 1, 2, 1, 1, 2, 1, 2, 1, 1, 2, 1, 1, 2, 1, 2, 1, 1, 2, 1, 2, 1, 1, 2, 1, 1, 2, 1, 2, 1, 1, 2, 1, 2, 1, 1, 2, 1, 1, 2, 1, 2, 1, 1, 2, 1, 2, 1, 1, 2, 1, 1, 2, 1, 2, 1, 1, 2, 1, 2, 1, 1, 2, 1, 1, 2, 1, 2, 1, 1, 2, 1, 1, 2, 1, 2, 1, 1]) of length 363 after prefixing the suffix with 0 times the current s.m.p.Increase the value of the `max_smp_length` keyword argument to go further.\n",
      "\u001b[34m\u001b[1mNew candidate s.m.p. found\u001b[22m\u001b[39m because ⟨v_6*, v⟩ - 1 = 0.00045582840314750683 > 1.0e-9:\n",
      "\u001b[31m\u001b[1maborting\u001b[22m\u001b[39m with smp candidate PSW(1.4092413296711492, [2, 1, 1, 2, 1, 1, 2, 1, 2, 1, 1, 2, 1, 1, 2, 1, 2, 1, 1, 2, 1, 2, 1, 1, 2, 1, 1, 2, 1, 2, 1, 1, 2, 1, 1, 2, 1, 2, 1, 1, 2, 1, 2, 1, 1, 2, 1, 1, 2, 1, 2, 1, 1, 2, 1, 1, 2, 1, 2, 1, 1, 2, 1, 2, 1, 1, 2, 1, 1, 2, 1, 2, 1, 1, 2, 1, 1, 2, 1, 2, 1, 1, 2, 1, 2, 1, 1, 2, 1, 1, 2, 1, 2, 1, 1, 2, 1, 2, 1, 1, 2, 1, 1, 2, 1, 2, 1, 1, 2, 1, 2, 1, 1, 2, 1, 1, 2, 1, 2, 1, 1, 2, 1, 2, 1, 1, 2, 1, 1, 2, 1, 2, 1, 1, 2, 1, 2, 1, 1, 2, 1, 1, 2, 1, 2, 1, 1, 2, 1, 2, 1, 1, 2, 1, 1, 2, 1, 2, 1, 1, 2, 1, 2, 1, 1, 2, 1, 1, 2, 1, 2, 1, 1, 2, 1, 2, 1, 1, 2, 1, 1, 2, 1, 2, 1, 1, 2, 1, 2, 1, 1, 2, 1, 1, 2, 1, 2, 1, 1, 2, 1, 2, 1, 1, 2, 1, 1, 2, 1, 2, 1, 1, 2, 1, 2, 1, 1, 2, 1, 1, 2, 1, 2, 1, 1, 2, 1, 2, 1, 1, 2, 1, 1, 2, 1, 2, 1, 1, 2, 1, 2, 1, 1, 2, 1, 1, 2, 1, 2, 1, 1, 2, 1, 2, 1, 1, 2, 1, 1, 2, 1, 2, 1, 1, 2, 1, 2, 1, 1, 2, 1, 1, 2, 1, 2, 1, 1, 2, 1, 2, 1, 1, 2, 1, 1, 2, 1, 2, 1, 1, 2, 1, 2, 1, 1, 2, 1, 1, 2, 1, 2, 1, 1, 2, 1, 2, 1, 1, 2, 1, 1, 2, 1, 2, 1, 1, 2, 1, 2, 1, 1, 2, 1, 1, 2, 1, 2, 1, 1, 2, 1, 2, 1, 1, 2, 1, 1, 2, 1, 2, 1, 1, 2, 1, 2, 1, 1, 2, 1, 1, 2, 1, 2, 1, 1, 2, 1, 2, 1, 1, 2, 1, 1]) of length 363 after prefixing the suffix with 0 times the current s.m.p.Increase the value of the `max_smp_length` keyword argument to go further.\n",
      "\u001b[34m\u001b[1mNew candidate s.m.p. found\u001b[22m\u001b[39m because ⟨v_6*, v⟩ - 1 = 0.00045615621147998553 > 1.0e-9:\n",
      "\u001b[31m\u001b[1maborting\u001b[22m\u001b[39m with smp candidate PSW(1.4092413274199984, [2, 1, 1, 2, 1, 1, 2, 1, 2, 1, 1, 2, 1, 1, 2, 1, 2, 1, 1, 2, 1, 2, 1, 1, 2, 1, 1, 2, 1, 2, 1, 1, 2, 1, 1, 2, 1, 2, 1, 1, 2, 1, 2, 1, 1, 2, 1, 1, 2, 1, 2, 1, 1, 2, 1, 1, 2, 1, 2, 1, 1, 2, 1, 2, 1, 1, 2, 1, 1, 2, 1, 2, 1, 1, 2, 1, 2, 1, 1, 2, 1, 1, 2, 1, 2, 1, 1, 2, 1, 2, 1, 1, 2, 1, 1, 2, 1, 2, 1, 1, 2, 1, 2, 1, 1, 2, 1, 1, 2, 1, 2, 1, 1, 2, 1, 2, 1, 1, 2, 1, 1, 2, 1, 2, 1, 1, 2, 1, 2, 1, 1, 2, 1, 1, 2, 1, 2, 1, 1, 2, 1, 2, 1, 1, 2, 1, 1, 2, 1, 2, 1, 1, 2, 1, 2, 1, 1, 2, 1, 1, 2, 1, 2, 1, 1, 2, 1, 2, 1, 1, 2, 1, 1, 2, 1, 2, 1, 1, 2, 1, 2, 1, 1, 2, 1, 1, 2, 1, 2, 1, 1, 2, 1, 2, 1, 1, 2, 1, 1, 2, 1, 2, 1, 1, 2, 1, 2, 1, 1, 2, 1, 1, 2, 1, 2, 1, 1, 2, 1, 2, 1, 1, 2, 1, 1, 2, 1, 2, 1, 1, 2, 1, 2, 1, 1, 2, 1, 1, 2, 1, 2, 1, 1, 2, 1, 2, 1, 1, 2, 1, 1, 2, 1, 2, 1, 1, 2, 1, 2, 1, 1, 2, 1, 1, 2, 1, 2, 1, 1, 2, 1, 2, 1, 1, 2, 1, 1, 2, 1, 2, 1, 1, 2, 1, 2, 1, 1, 2, 1, 1, 2, 1, 2, 1, 1, 2, 1, 2, 1, 1, 2, 1, 1, 2, 1, 2, 1, 1, 2, 1, 2, 1, 1, 2, 1, 1, 2, 1, 2, 1, 1, 2, 1, 2, 1, 1, 2, 1, 1, 2, 1, 2, 1, 1, 2, 1, 2, 1, 1, 2, 1, 1, 2, 1, 2, 1, 1, 2, 1, 2, 1, 1, 2, 1, 1, 2, 1, 2, 1, 1, 2, 1, 1]) of length 363 after prefixing the suffix with 0 times the current s.m.p.Increase the value of the `max_smp_length` keyword argument to go further.\n",
      "Depth 364: [2572] points, 8 living leaves...\n",
      "Depth 365: [2580] points, 8 living leaves...\n",
      "\u001b[34m\u001b[1mNew candidate s.m.p. found\u001b[22m\u001b[39m because ⟨v_6*, v⟩ - 1 = 2.4730447933940525e-7 > 1.0e-9:\n",
      "\u001b[31m\u001b[1maborting\u001b[22m\u001b[39m with smp candidate PSW(1.4092443924074685, [2, 1, 1, 2, 1, 1, 2, 1, 2, 1, 1, 2, 1, 1, 2, 1, 2, 1, 1, 2, 1, 2, 1, 1, 2, 1, 1, 2, 1, 2, 1, 1, 2, 1, 1, 2, 1, 2, 1, 1, 2, 1, 2, 1, 1, 2, 1, 1, 2, 1, 2, 1, 1, 2, 1, 2, 1, 1, 2, 1, 1, 2, 1, 2, 1, 1, 2, 1, 2, 1, 1, 2, 1, 1, 2, 1, 2, 1, 1, 2, 1, 2, 1, 1, 2, 1, 1, 2, 1, 2, 1, 1, 2, 1, 2, 1, 1, 2, 1, 1, 2, 1, 2, 1, 1, 2, 1, 2, 1, 1, 2, 1, 1, 2, 1, 2, 1, 1, 2, 1, 2, 1, 1, 2, 1, 1, 2, 1, 2, 1, 1, 2, 1, 2, 1, 1, 2, 1, 1, 2, 1, 2, 1, 1, 2, 1, 2, 1, 1, 2, 1, 1, 2, 1, 2, 1, 1, 2, 1, 2, 1, 1, 2, 1, 1, 2, 1, 2, 1, 1, 2, 1, 2, 1, 1, 2, 1, 1, 2, 1, 2, 1, 1, 2, 1, 2, 1, 1, 2, 1, 1, 2, 1, 2, 1, 1, 2, 1, 2, 1, 1, 2, 1, 1, 2, 1, 2, 1, 1, 2, 1, 2, 1, 1, 2, 1, 1, 2, 1, 2, 1, 1, 2, 1, 2, 1, 1, 2, 1, 1, 2, 1, 2, 1, 1, 2, 1, 2, 1, 1, 2, 1, 1, 2, 1, 2, 1, 1, 2, 1, 2, 1, 1, 2, 1, 1, 2, 1, 2, 1, 1, 2, 1, 2, 1, 1, 2, 1, 1, 2, 1, 2, 1, 1, 2, 1, 2, 1, 1, 2, 1, 1, 2, 1, 2, 1, 1, 2, 1, 2, 1, 1, 2, 1, 1, 2, 1, 2, 1, 1, 2, 1, 2, 1, 1, 2, 1, 1, 2, 1, 2, 1, 1, 2, 1, 2, 1, 1, 2, 1, 1, 2, 1, 2, 1, 1, 2, 1, 2, 1, 1, 2, 1, 1, 2, 1, 2, 1, 1, 2, 1, 2, 1, 1, 2, 1, 1, 2, 1, 2, 1, 1, 2, 1, 2, 1, 1, 2, 1, 1, 2, 1, 2, 1, 1]) of length 365 after prefixing the suffix with 0 times the current s.m.p.Increase the value of the `max_smp_length` keyword argument to go further.\n",
      "\u001b[34m\u001b[1mNew candidate s.m.p. found\u001b[22m\u001b[39m because ⟨v_6*, v⟩ - 1 = 2.5070555498274416e-7 > 1.0e-9:\n",
      "\u001b[31m\u001b[1maborting\u001b[22m\u001b[39m with smp candidate PSW(1.4092443923848543, [2, 1, 1, 2, 1, 1, 2, 1, 2, 1, 1, 2, 1, 1, 2, 1, 2, 1, 1, 2, 1, 2, 1, 1, 2, 1, 1, 2, 1, 2, 1, 1, 2, 1, 2, 1, 1, 2, 1, 1, 2, 1, 2, 1, 1, 2, 1, 2, 1, 1, 2, 1, 1, 2, 1, 2, 1, 1, 2, 1, 2, 1, 1, 2, 1, 1, 2, 1, 2, 1, 1, 2, 1, 2, 1, 1, 2, 1, 1, 2, 1, 2, 1, 1, 2, 1, 2, 1, 1, 2, 1, 1, 2, 1, 2, 1, 1, 2, 1, 2, 1, 1, 2, 1, 1, 2, 1, 2, 1, 1, 2, 1, 2, 1, 1, 2, 1, 1, 2, 1, 2, 1, 1, 2, 1, 2, 1, 1, 2, 1, 1, 2, 1, 2, 1, 1, 2, 1, 2, 1, 1, 2, 1, 1, 2, 1, 2, 1, 1, 2, 1, 2, 1, 1, 2, 1, 1, 2, 1, 2, 1, 1, 2, 1, 2, 1, 1, 2, 1, 1, 2, 1, 2, 1, 1, 2, 1, 2, 1, 1, 2, 1, 1, 2, 1, 2, 1, 1, 2, 1, 2, 1, 1, 2, 1, 1, 2, 1, 2, 1, 1, 2, 1, 2, 1, 1, 2, 1, 1, 2, 1, 2, 1, 1, 2, 1, 2, 1, 1, 2, 1, 1, 2, 1, 2, 1, 1, 2, 1, 2, 1, 1, 2, 1, 1, 2, 1, 2, 1, 1, 2, 1, 2, 1, 1, 2, 1, 1, 2, 1, 2, 1, 1, 2, 1, 2, 1, 1, 2, 1, 1, 2, 1, 2, 1, 1, 2, 1, 2, 1, 1, 2, 1, 1, 2, 1, 2, 1, 1, 2, 1, 2, 1, 1, 2, 1, 1, 2, 1, 2, 1, 1, 2, 1, 2, 1, 1, 2, 1, 1, 2, 1, 2, 1, 1, 2, 1, 2, 1, 1, 2, 1, 1, 2, 1, 2, 1, 1, 2, 1, 2, 1, 1, 2, 1, 1, 2, 1, 2, 1, 1, 2, 1, 2, 1, 1, 2, 1, 1, 2, 1, 2, 1, 1, 2, 1, 2, 1, 1, 2, 1, 1, 2, 1, 2, 1, 1, 2, 1, 1, 2, 1, 2, 1, 1]) of length 365 after prefixing the suffix with 0 times the current s.m.p.Increase the value of the `max_smp_length` keyword argument to go further.\n"
     ]
    },
    {
     "name": "stdout",
     "output_type": "stream",
     "text": [
      "\u001b[34m\u001b[1mNew candidate s.m.p. found\u001b[22m\u001b[39m because ⟨v_6*, v⟩ - 1 = 0.0004558297698253888 > 1.0e-9:\n",
      "\u001b[31m\u001b[1maborting\u001b[22m\u001b[39m with smp candidate PSW(1.4092413619581345, [2, 1, 1, 2, 1, 1, 2, 1, 2, 1, 1, 2, 1, 1, 2, 1, 2, 1, 1, 2, 1, 2, 1, 1, 2, 1, 1, 2, 1, 2, 1, 1, 2, 1, 2, 1, 1, 2, 1, 1, 2, 1, 2, 1, 1, 2, 1, 2, 1, 1, 2, 1, 1, 2, 1, 2, 1, 1, 2, 1, 2, 1, 1, 2, 1, 1, 2, 1, 2, 1, 1, 2, 1, 2, 1, 1, 2, 1, 1, 2, 1, 2, 1, 1, 2, 1, 2, 1, 1, 2, 1, 1, 2, 1, 2, 1, 1, 2, 1, 2, 1, 1, 2, 1, 1, 2, 1, 2, 1, 1, 2, 1, 2, 1, 1, 2, 1, 1, 2, 1, 2, 1, 1, 2, 1, 2, 1, 1, 2, 1, 1, 2, 1, 2, 1, 1, 2, 1, 2, 1, 1, 2, 1, 1, 2, 1, 2, 1, 1, 2, 1, 2, 1, 1, 2, 1, 1, 2, 1, 2, 1, 1, 2, 1, 2, 1, 1, 2, 1, 1, 2, 1, 2, 1, 1, 2, 1, 2, 1, 1, 2, 1, 1, 2, 1, 2, 1, 1, 2, 1, 2, 1, 1, 2, 1, 1, 2, 1, 2, 1, 1, 2, 1, 2, 1, 1, 2, 1, 1, 2, 1, 2, 1, 1, 2, 1, 2, 1, 1, 2, 1, 1, 2, 1, 2, 1, 1, 2, 1, 2, 1, 1, 2, 1, 1, 2, 1, 2, 1, 1, 2, 1, 2, 1, 1, 2, 1, 1, 2, 1, 2, 1, 1, 2, 1, 2, 1, 1, 2, 1, 1, 2, 1, 2, 1, 1, 2, 1, 2, 1, 1, 2, 1, 1, 2, 1, 2, 1, 1, 2, 1, 2, 1, 1, 2, 1, 1, 2, 1, 2, 1, 1, 2, 1, 2, 1, 1, 2, 1, 1, 2, 1, 2, 1, 1, 2, 1, 2, 1, 1, 2, 1, 1, 2, 1, 2, 1, 1, 2, 1, 2, 1, 1, 2, 1, 1, 2, 1, 2, 1, 1, 2, 1, 2, 1, 1, 2, 1, 1, 2, 1, 2, 1, 1, 2, 1, 2, 1, 1, 2, 1, 1, 2, 1, 2, 1, 1, 2, 1, 2, 1, 1, 2, 1, 1]) of length 365 after prefixing the suffix with 0 times the current s.m.p.Increase the value of the `max_smp_length` keyword argument to go further.\n",
      "\u001b[34m\u001b[1mNew candidate s.m.p. found\u001b[22m\u001b[39m because ⟨v_6*, v⟩ - 1 = 0.00045615757815853364 > 1.0e-9:\n",
      "\u001b[31m\u001b[1maborting\u001b[22m\u001b[39m with smp candidate PSW(1.4092413619581345, [2, 1, 1, 2, 1, 1, 2, 1, 2, 1, 1, 2, 1, 2, 1, 1, 2, 1, 1, 2, 1, 2, 1, 1, 2, 1, 2, 1, 1, 2, 1, 1, 2, 1, 2, 1, 1, 2, 1, 2, 1, 1, 2, 1, 1, 2, 1, 2, 1, 1, 2, 1, 2, 1, 1, 2, 1, 1, 2, 1, 2, 1, 1, 2, 1, 2, 1, 1, 2, 1, 1, 2, 1, 2, 1, 1, 2, 1, 2, 1, 1, 2, 1, 1, 2, 1, 2, 1, 1, 2, 1, 2, 1, 1, 2, 1, 1, 2, 1, 2, 1, 1, 2, 1, 2, 1, 1, 2, 1, 1, 2, 1, 2, 1, 1, 2, 1, 2, 1, 1, 2, 1, 1, 2, 1, 2, 1, 1, 2, 1, 2, 1, 1, 2, 1, 1, 2, 1, 2, 1, 1, 2, 1, 2, 1, 1, 2, 1, 1, 2, 1, 2, 1, 1, 2, 1, 2, 1, 1, 2, 1, 1, 2, 1, 2, 1, 1, 2, 1, 2, 1, 1, 2, 1, 1, 2, 1, 2, 1, 1, 2, 1, 2, 1, 1, 2, 1, 1, 2, 1, 2, 1, 1, 2, 1, 2, 1, 1, 2, 1, 1, 2, 1, 2, 1, 1, 2, 1, 2, 1, 1, 2, 1, 1, 2, 1, 2, 1, 1, 2, 1, 2, 1, 1, 2, 1, 1, 2, 1, 2, 1, 1, 2, 1, 2, 1, 1, 2, 1, 1, 2, 1, 2, 1, 1, 2, 1, 2, 1, 1, 2, 1, 1, 2, 1, 2, 1, 1, 2, 1, 2, 1, 1, 2, 1, 1, 2, 1, 2, 1, 1, 2, 1, 2, 1, 1, 2, 1, 1, 2, 1, 2, 1, 1, 2, 1, 2, 1, 1, 2, 1, 1, 2, 1, 2, 1, 1, 2, 1, 2, 1, 1, 2, 1, 1, 2, 1, 2, 1, 1, 2, 1, 2, 1, 1, 2, 1, 1, 2, 1, 2, 1, 1, 2, 1, 2, 1, 1, 2, 1, 1, 2, 1, 2, 1, 1, 2, 1, 2, 1, 1, 2, 1, 1, 2, 1, 2, 1, 1, 2, 1, 2, 1, 1, 2, 1, 1, 2, 1, 2, 1, 1, 2, 1, 1]) of length 365 after prefixing the suffix with 0 times the current s.m.p.Increase the value of the `max_smp_length` keyword argument to go further.\n",
      "Depth 366: [2589] points, 9 living leaves...\n",
      "Depth 367: [2597] points, 8 living leaves...\n",
      "Depth 368: [2605] points, 8 living leaves...\n",
      "\u001b[34m\u001b[1mNew candidate s.m.p. found\u001b[22m\u001b[39m because ⟨v_6*, v⟩ - 1 = 2.4935399522973967e-7 > 1.0e-9:\n",
      "\u001b[31m\u001b[1maborting\u001b[22m\u001b[39m with smp candidate PSW(1.409244415475252, [2, 1, 1, 2, 1, 1, 2, 1, 2, 1, 1, 2, 1, 1, 2, 1, 2, 1, 1, 2, 1, 2, 1, 1, 2, 1, 1, 2, 1, 2, 1, 1, 2, 1, 1, 2, 1, 2, 1, 1, 2, 1, 2, 1, 1, 2, 1, 1, 2, 1, 2, 1, 1, 2, 1, 1, 2, 1, 2, 1, 1, 2, 1, 2, 1, 1, 2, 1, 1, 2, 1, 2, 1, 1, 2, 1, 1, 2, 1, 2, 1, 1, 2, 1, 2, 1, 1, 2, 1, 1, 2, 1, 2, 1, 1, 2, 1, 2, 1, 1, 2, 1, 1, 2, 1, 2, 1, 1, 2, 1, 2, 1, 1, 2, 1, 1, 2, 1, 2, 1, 1, 2, 1, 2, 1, 1, 2, 1, 1, 2, 1, 2, 1, 1, 2, 1, 2, 1, 1, 2, 1, 1, 2, 1, 2, 1, 1, 2, 1, 2, 1, 1, 2, 1, 1, 2, 1, 2, 1, 1, 2, 1, 2, 1, 1, 2, 1, 1, 2, 1, 2, 1, 1, 2, 1, 2, 1, 1, 2, 1, 1, 2, 1, 2, 1, 1, 2, 1, 2, 1, 1, 2, 1, 1, 2, 1, 2, 1, 1, 2, 1, 2, 1, 1, 2, 1, 1, 2, 1, 2, 1, 1, 2, 1, 2, 1, 1, 2, 1, 1, 2, 1, 2, 1, 1, 2, 1, 2, 1, 1, 2, 1, 1, 2, 1, 2, 1, 1, 2, 1, 2, 1, 1, 2, 1, 1, 2, 1, 2, 1, 1, 2, 1, 2, 1, 1, 2, 1, 1, 2, 1, 2, 1, 1, 2, 1, 2, 1, 1, 2, 1, 1, 2, 1, 2, 1, 1, 2, 1, 2, 1, 1, 2, 1, 1, 2, 1, 2, 1, 1, 2, 1, 2, 1, 1, 2, 1, 1, 2, 1, 2, 1, 1, 2, 1, 2, 1, 1, 2, 1, 1, 2, 1, 2, 1, 1, 2, 1, 2, 1, 1, 2, 1, 1, 2, 1, 2, 1, 1, 2, 1, 2, 1, 1, 2, 1, 1, 2, 1, 2, 1, 1, 2, 1, 2, 1, 1, 2, 1, 1, 2, 1, 2, 1, 1, 2, 1, 2, 1, 1, 2, 1, 1, 2, 1, 2, 1, 1]) of length 368 after prefixing the suffix with 0 times the current s.m.p.Increase the value of the `max_smp_length` keyword argument to go further.\n",
      "\u001b[34m\u001b[1mNew candidate s.m.p. found\u001b[22m\u001b[39m because ⟨v_6*, v⟩ - 1 = 2.527550715392124e-7 > 1.0e-9:\n",
      "\u001b[31m\u001b[1maborting\u001b[22m\u001b[39m with smp candidate PSW(1.4092444154528223, [2, 1, 1, 2, 1, 1, 2, 1, 2, 1, 1, 2, 1, 1, 2, 1, 2, 1, 1, 2, 1, 2, 1, 1, 2, 1, 1, 2, 1, 2, 1, 1, 2, 1, 1, 2, 1, 2, 1, 1, 2, 1, 2, 1, 1, 2, 1, 1, 2, 1, 2, 1, 1, 2, 1, 1, 2, 1, 2, 1, 1, 2, 1, 2, 1, 1, 2, 1, 1, 2, 1, 2, 1, 1, 2, 1, 2, 1, 1, 2, 1, 1, 2, 1, 2, 1, 1, 2, 1, 2, 1, 1, 2, 1, 1, 2, 1, 2, 1, 1, 2, 1, 2, 1, 1, 2, 1, 1, 2, 1, 2, 1, 1, 2, 1, 2, 1, 1, 2, 1, 1, 2, 1, 2, 1, 1, 2, 1, 2, 1, 1, 2, 1, 1, 2, 1, 2, 1, 1, 2, 1, 2, 1, 1, 2, 1, 1, 2, 1, 2, 1, 1, 2, 1, 2, 1, 1, 2, 1, 1, 2, 1, 2, 1, 1, 2, 1, 2, 1, 1, 2, 1, 1, 2, 1, 2, 1, 1, 2, 1, 2, 1, 1, 2, 1, 1, 2, 1, 2, 1, 1, 2, 1, 2, 1, 1, 2, 1, 1, 2, 1, 2, 1, 1, 2, 1, 2, 1, 1, 2, 1, 1, 2, 1, 2, 1, 1, 2, 1, 2, 1, 1, 2, 1, 1, 2, 1, 2, 1, 1, 2, 1, 2, 1, 1, 2, 1, 1, 2, 1, 2, 1, 1, 2, 1, 2, 1, 1, 2, 1, 1, 2, 1, 2, 1, 1, 2, 1, 2, 1, 1, 2, 1, 1, 2, 1, 2, 1, 1, 2, 1, 2, 1, 1, 2, 1, 1, 2, 1, 2, 1, 1, 2, 1, 2, 1, 1, 2, 1, 1, 2, 1, 2, 1, 1, 2, 1, 2, 1, 1, 2, 1, 1, 2, 1, 2, 1, 1, 2, 1, 2, 1, 1, 2, 1, 1, 2, 1, 2, 1, 1, 2, 1, 2, 1, 1, 2, 1, 1, 2, 1, 2, 1, 1, 2, 1, 2, 1, 1, 2, 1, 1, 2, 1, 2, 1, 1, 2, 1, 2, 1, 1, 2, 1, 1, 2, 1, 2, 1, 1, 2, 1, 1, 2, 1, 2, 1, 1]) of length 368 after prefixing the suffix with 0 times the current s.m.p.Increase the value of the `max_smp_length` keyword argument to go further.\n",
      "\u001b[34m\u001b[1mNew candidate s.m.p. found\u001b[22m\u001b[39m because ⟨v_6*, v⟩ - 1 = 0.0004558318202758649 > 1.0e-9:\n",
      "\u001b[31m\u001b[1maborting\u001b[22m\u001b[39m with smp candidate PSW(1.4092414097305925, [2, 1, 1, 2, 1, 1, 2, 1, 2, 1, 1, 2, 1, 1, 2, 1, 2, 1, 1, 2, 1, 2, 1, 1, 2, 1, 1, 2, 1, 2, 1, 1, 2, 1, 1, 2, 1, 2, 1, 1, 2, 1, 2, 1, 1, 2, 1, 1, 2, 1, 2, 1, 1, 2, 1, 1, 2, 1, 2, 1, 1, 2, 1, 2, 1, 1, 2, 1, 1, 2, 1, 2, 1, 1, 2, 1, 2, 1, 1, 2, 1, 1, 2, 1, 2, 1, 1, 2, 1, 2, 1, 1, 2, 1, 1, 2, 1, 2, 1, 1, 2, 1, 2, 1, 1, 2, 1, 1, 2, 1, 2, 1, 1, 2, 1, 2, 1, 1, 2, 1, 1, 2, 1, 2, 1, 1, 2, 1, 2, 1, 1, 2, 1, 1, 2, 1, 2, 1, 1, 2, 1, 2, 1, 1, 2, 1, 1, 2, 1, 2, 1, 1, 2, 1, 2, 1, 1, 2, 1, 1, 2, 1, 2, 1, 1, 2, 1, 2, 1, 1, 2, 1, 1, 2, 1, 2, 1, 1, 2, 1, 2, 1, 1, 2, 1, 1, 2, 1, 2, 1, 1, 2, 1, 2, 1, 1, 2, 1, 1, 2, 1, 2, 1, 1, 2, 1, 2, 1, 1, 2, 1, 1, 2, 1, 2, 1, 1, 2, 1, 2, 1, 1, 2, 1, 1, 2, 1, 2, 1, 1, 2, 1, 2, 1, 1, 2, 1, 1, 2, 1, 2, 1, 1, 2, 1, 2, 1, 1, 2, 1, 1, 2, 1, 2, 1, 1, 2, 1, 2, 1, 1, 2, 1, 1, 2, 1, 2, 1, 1, 2, 1, 2, 1, 1, 2, 1, 1, 2, 1, 2, 1, 1, 2, 1, 2, 1, 1, 2, 1, 1, 2, 1, 2, 1, 1, 2, 1, 2, 1, 1, 2, 1, 1, 2, 1, 2, 1, 1, 2, 1, 2, 1, 1, 2, 1, 1, 2, 1, 2, 1, 1, 2, 1, 2, 1, 1, 2, 1, 1, 2, 1, 2, 1, 1, 2, 1, 2, 1, 1, 2, 1, 1, 2, 1, 2, 1, 1, 2, 1, 2, 1, 1, 2, 1, 1, 2, 1, 2, 1, 1, 2, 1, 2, 1, 1, 2, 1, 1]) of length 368 after prefixing the suffix with 0 times the current s.m.p.Increase the value of the `max_smp_length` keyword argument to go further.\n",
      "\u001b[34m\u001b[1mNew candidate s.m.p. found\u001b[22m\u001b[39m because ⟨v_6*, v⟩ - 1 = 0.00045615962861078607 > 1.0e-9:\n",
      "\u001b[31m\u001b[1maborting\u001b[22m\u001b[39m with smp candidate PSW(1.409241407510028, [2, 1, 1, 2, 1, 1, 2, 1, 2, 1, 1, 2, 1, 1, 2, 1, 2, 1, 1, 2, 1, 2, 1, 1, 2, 1, 1, 2, 1, 2, 1, 1, 2, 1, 1, 2, 1, 2, 1, 1, 2, 1, 2, 1, 1, 2, 1, 1, 2, 1, 2, 1, 1, 2, 1, 2, 1, 1, 2, 1, 1, 2, 1, 2, 1, 1, 2, 1, 2, 1, 1, 2, 1, 1, 2, 1, 2, 1, 1, 2, 1, 2, 1, 1, 2, 1, 1, 2, 1, 2, 1, 1, 2, 1, 2, 1, 1, 2, 1, 1, 2, 1, 2, 1, 1, 2, 1, 2, 1, 1, 2, 1, 1, 2, 1, 2, 1, 1, 2, 1, 2, 1, 1, 2, 1, 1, 2, 1, 2, 1, 1, 2, 1, 2, 1, 1, 2, 1, 1, 2, 1, 2, 1, 1, 2, 1, 2, 1, 1, 2, 1, 1, 2, 1, 2, 1, 1, 2, 1, 2, 1, 1, 2, 1, 1, 2, 1, 2, 1, 1, 2, 1, 2, 1, 1, 2, 1, 1, 2, 1, 2, 1, 1, 2, 1, 2, 1, 1, 2, 1, 1, 2, 1, 2, 1, 1, 2, 1, 2, 1, 1, 2, 1, 1, 2, 1, 2, 1, 1, 2, 1, 2, 1, 1, 2, 1, 1, 2, 1, 2, 1, 1, 2, 1, 2, 1, 1, 2, 1, 1, 2, 1, 2, 1, 1, 2, 1, 2, 1, 1, 2, 1, 1, 2, 1, 2, 1, 1, 2, 1, 2, 1, 1, 2, 1, 1, 2, 1, 2, 1, 1, 2, 1, 2, 1, 1, 2, 1, 1, 2, 1, 2, 1, 1, 2, 1, 2, 1, 1, 2, 1, 1, 2, 1, 2, 1, 1, 2, 1, 2, 1, 1, 2, 1, 1, 2, 1, 2, 1, 1, 2, 1, 2, 1, 1, 2, 1, 1, 2, 1, 2, 1, 1, 2, 1, 2, 1, 1, 2, 1, 1, 2, 1, 2, 1, 1, 2, 1, 2, 1, 1, 2, 1, 1, 2, 1, 2, 1, 1, 2, 1, 2, 1, 1, 2, 1, 1, 2, 1, 2, 1, 1, 2, 1, 2, 1, 1, 2, 1, 1, 2, 1, 2, 1, 1, 2, 1, 1]) of length 368 after prefixing the suffix with 0 times the current s.m.p.Increase the value of the `max_smp_length` keyword argument to go further.\n"
     ]
    },
    {
     "name": "stdout",
     "output_type": "stream",
     "text": [
      "Depth 369: [2613] points, 8 living leaves...\n",
      "Depth 370: [2621] points, 8 living leaves...\n",
      "\u001b[34m\u001b[1mNew candidate s.m.p. found\u001b[22m\u001b[39m because ⟨v_6*, v⟩ - 1 = 2.5072005027659827e-7 > 1.0e-9:\n",
      "\u001b[31m\u001b[1maborting\u001b[22m\u001b[39m with smp candidate PSW(1.4092444306459557, [2, 1, 1, 2, 1, 1, 2, 1, 2, 1, 1, 2, 1, 1, 2, 1, 2, 1, 1, 2, 1, 2, 1, 1, 2, 1, 1, 2, 1, 2, 1, 1, 2, 1, 2, 1, 1, 2, 1, 1, 2, 1, 2, 1, 1, 2, 1, 2, 1, 1, 2, 1, 1, 2, 1, 2, 1, 1, 2, 1, 2, 1, 1, 2, 1, 1, 2, 1, 2, 1, 1, 2, 1, 2, 1, 1, 2, 1, 1, 2, 1, 2, 1, 1, 2, 1, 2, 1, 1, 2, 1, 1, 2, 1, 2, 1, 1, 2, 1, 2, 1, 1, 2, 1, 1, 2, 1, 2, 1, 1, 2, 1, 2, 1, 1, 2, 1, 1, 2, 1, 2, 1, 1, 2, 1, 2, 1, 1, 2, 1, 1, 2, 1, 2, 1, 1, 2, 1, 2, 1, 1, 2, 1, 1, 2, 1, 2, 1, 1, 2, 1, 2, 1, 1, 2, 1, 1, 2, 1, 2, 1, 1, 2, 1, 2, 1, 1, 2, 1, 1, 2, 1, 2, 1, 1, 2, 1, 2, 1, 1, 2, 1, 1, 2, 1, 2, 1, 1, 2, 1, 2, 1, 1, 2, 1, 1, 2, 1, 2, 1, 1, 2, 1, 2, 1, 1, 2, 1, 1, 2, 1, 2, 1, 1, 2, 1, 2, 1, 1, 2, 1, 1, 2, 1, 2, 1, 1, 2, 1, 2, 1, 1, 2, 1, 1, 2, 1, 2, 1, 1, 2, 1, 2, 1, 1, 2, 1, 1, 2, 1, 2, 1, 1, 2, 1, 2, 1, 1, 2, 1, 1, 2, 1, 2, 1, 1, 2, 1, 2, 1, 1, 2, 1, 1, 2, 1, 2, 1, 1, 2, 1, 2, 1, 1, 2, 1, 1, 2, 1, 2, 1, 1, 2, 1, 2, 1, 1, 2, 1, 1, 2, 1, 2, 1, 1, 2, 1, 2, 1, 1, 2, 1, 1, 2, 1, 2, 1, 1, 2, 1, 2, 1, 1, 2, 1, 1, 2, 1, 2, 1, 1, 2, 1, 2, 1, 1, 2, 1, 1, 2, 1, 2, 1, 1, 2, 1, 2, 1, 1, 2, 1, 1, 2, 1, 2, 1, 1, 2, 1, 2, 1, 1, 2, 1, 1, 2, 1, 2, 1, 1]) of length 370 after prefixing the suffix with 0 times the current s.m.p.Increase the value of the `max_smp_length` keyword argument to go further.\n",
      "\u001b[34m\u001b[1mNew candidate s.m.p. found\u001b[22m\u001b[39m because ⟨v_6*, v⟩ - 1 = 2.541211272522048e-7 > 1.0e-9:\n",
      "\u001b[31m\u001b[1maborting\u001b[22m\u001b[39m with smp candidate PSW(1.4092444326856706, [2, 1, 1, 2, 1, 1, 2, 1, 2, 1, 1, 2, 1, 2, 1, 1, 2, 1, 1, 2, 1, 2, 1, 1, 2, 1, 2, 1, 1, 2, 1, 1, 2, 1, 2, 1, 1, 2, 1, 2, 1, 1, 2, 1, 1, 2, 1, 2, 1, 1, 2, 1, 2, 1, 1, 2, 1, 1, 2, 1, 2, 1, 1, 2, 1, 2, 1, 1, 2, 1, 1, 2, 1, 2, 1, 1, 2, 1, 2, 1, 1, 2, 1, 1, 2, 1, 2, 1, 1, 2, 1, 2, 1, 1, 2, 1, 1, 2, 1, 2, 1, 1, 2, 1, 2, 1, 1, 2, 1, 1, 2, 1, 2, 1, 1, 2, 1, 2, 1, 1, 2, 1, 1, 2, 1, 2, 1, 1, 2, 1, 2, 1, 1, 2, 1, 1, 2, 1, 2, 1, 1, 2, 1, 2, 1, 1, 2, 1, 1, 2, 1, 2, 1, 1, 2, 1, 2, 1, 1, 2, 1, 1, 2, 1, 2, 1, 1, 2, 1, 2, 1, 1, 2, 1, 1, 2, 1, 2, 1, 1, 2, 1, 2, 1, 1, 2, 1, 1, 2, 1, 2, 1, 1, 2, 1, 2, 1, 1, 2, 1, 1, 2, 1, 2, 1, 1, 2, 1, 2, 1, 1, 2, 1, 1, 2, 1, 2, 1, 1, 2, 1, 2, 1, 1, 2, 1, 1, 2, 1, 2, 1, 1, 2, 1, 2, 1, 1, 2, 1, 1, 2, 1, 2, 1, 1, 2, 1, 2, 1, 1, 2, 1, 1, 2, 1, 2, 1, 1, 2, 1, 2, 1, 1, 2, 1, 1, 2, 1, 2, 1, 1, 2, 1, 2, 1, 1, 2, 1, 1, 2, 1, 2, 1, 1, 2, 1, 2, 1, 1, 2, 1, 1, 2, 1, 2, 1, 1, 2, 1, 2, 1, 1, 2, 1, 1, 2, 1, 2, 1, 1, 2, 1, 2, 1, 1, 2, 1, 1, 2, 1, 2, 1, 1, 2, 1, 2, 1, 1, 2, 1, 1, 2, 1, 2, 1, 1, 2, 1, 2, 1, 1, 2, 1, 1, 2, 1, 2, 1, 1, 2, 1, 2, 1, 1, 2, 1, 1, 2, 1, 2, 1, 1, 2, 1, 1, 2, 1, 2, 1, 1]) of length 370 after prefixing the suffix with 0 times the current s.m.p.Increase the value of the `max_smp_length` keyword argument to go further.\n",
      "\u001b[34m\u001b[1mNew candidate s.m.p. found\u001b[22m\u001b[39m because ⟨v_6*, v⟩ - 1 = 0.0004558331869539689 > 1.0e-9:\n",
      "\u001b[31m\u001b[1maborting\u001b[22m\u001b[39m with smp candidate PSW(1.4092414433569698, [2, 1, 1, 2, 1, 1, 2, 1, 2, 1, 1, 2, 1, 2, 1, 1, 2, 1, 1, 2, 1, 2, 1, 1, 2, 1, 2, 1, 1, 2, 1, 1, 2, 1, 2, 1, 1, 2, 1, 2, 1, 1, 2, 1, 1, 2, 1, 2, 1, 1, 2, 1, 2, 1, 1, 2, 1, 1, 2, 1, 2, 1, 1, 2, 1, 2, 1, 1, 2, 1, 1, 2, 1, 2, 1, 1, 2, 1, 2, 1, 1, 2, 1, 1, 2, 1, 2, 1, 1, 2, 1, 2, 1, 1, 2, 1, 1, 2, 1, 2, 1, 1, 2, 1, 2, 1, 1, 2, 1, 1, 2, 1, 2, 1, 1, 2, 1, 2, 1, 1, 2, 1, 1, 2, 1, 2, 1, 1, 2, 1, 2, 1, 1, 2, 1, 1, 2, 1, 2, 1, 1, 2, 1, 2, 1, 1, 2, 1, 1, 2, 1, 2, 1, 1, 2, 1, 2, 1, 1, 2, 1, 1, 2, 1, 2, 1, 1, 2, 1, 2, 1, 1, 2, 1, 1, 2, 1, 2, 1, 1, 2, 1, 2, 1, 1, 2, 1, 1, 2, 1, 2, 1, 1, 2, 1, 2, 1, 1, 2, 1, 1, 2, 1, 2, 1, 1, 2, 1, 2, 1, 1, 2, 1, 1, 2, 1, 2, 1, 1, 2, 1, 2, 1, 1, 2, 1, 1, 2, 1, 2, 1, 1, 2, 1, 2, 1, 1, 2, 1, 1, 2, 1, 2, 1, 1, 2, 1, 2, 1, 1, 2, 1, 1, 2, 1, 2, 1, 1, 2, 1, 2, 1, 1, 2, 1, 1, 2, 1, 2, 1, 1, 2, 1, 2, 1, 1, 2, 1, 1, 2, 1, 2, 1, 1, 2, 1, 2, 1, 1, 2, 1, 1, 2, 1, 2, 1, 1, 2, 1, 2, 1, 1, 2, 1, 1, 2, 1, 2, 1, 1, 2, 1, 2, 1, 1, 2, 1, 1, 2, 1, 2, 1, 1, 2, 1, 2, 1, 1, 2, 1, 1, 2, 1, 2, 1, 1, 2, 1, 2, 1, 1, 2, 1, 1, 2, 1, 2, 1, 1, 2, 1, 2, 1, 1, 2, 1, 1, 2, 1, 2, 1, 1, 2, 1, 2, 1, 1, 2, 1, 1]) of length 370 after prefixing the suffix with 0 times the current s.m.p.Increase the value of the `max_smp_length` keyword argument to go further.\n",
      "Depth 371: [2629] points, 8 living leaves...\n",
      "\u001b[34m\u001b[1mNew candidate s.m.p. found\u001b[22m\u001b[39m because ⟨v_6*, v⟩ - 1 = 0.0004561616790610401 > 1.0e-9:\n",
      "\u001b[31m\u001b[1maborting\u001b[22m\u001b[39m with smp candidate PSW(1.409241454527843, [2, 1, 1, 2, 1, 1, 2, 1, 2, 1, 1, 2, 1, 1, 2, 1, 2, 1, 1, 2, 1, 2, 1, 1, 2, 1, 1, 2, 1, 2, 1, 1, 2, 1, 1, 2, 1, 2, 1, 1, 2, 1, 2, 1, 1, 2, 1, 1, 2, 1, 2, 1, 1, 2, 1, 1, 2, 1, 2, 1, 1, 2, 1, 2, 1, 1, 2, 1, 1, 2, 1, 2, 1, 1, 2, 1, 1, 2, 1, 2, 1, 1, 2, 1, 2, 1, 1, 2, 1, 1, 2, 1, 2, 1, 1, 2, 1, 2, 1, 1, 2, 1, 1, 2, 1, 2, 1, 1, 2, 1, 2, 1, 1, 2, 1, 1, 2, 1, 2, 1, 1, 2, 1, 2, 1, 1, 2, 1, 1, 2, 1, 2, 1, 1, 2, 1, 2, 1, 1, 2, 1, 1, 2, 1, 2, 1, 1, 2, 1, 2, 1, 1, 2, 1, 1, 2, 1, 2, 1, 1, 2, 1, 2, 1, 1, 2, 1, 1, 2, 1, 2, 1, 1, 2, 1, 2, 1, 1, 2, 1, 1, 2, 1, 2, 1, 1, 2, 1, 2, 1, 1, 2, 1, 1, 2, 1, 2, 1, 1, 2, 1, 2, 1, 1, 2, 1, 1, 2, 1, 2, 1, 1, 2, 1, 2, 1, 1, 2, 1, 1, 2, 1, 2, 1, 1, 2, 1, 2, 1, 1, 2, 1, 1, 2, 1, 2, 1, 1, 2, 1, 2, 1, 1, 2, 1, 1, 2, 1, 2, 1, 1, 2, 1, 2, 1, 1, 2, 1, 1, 2, 1, 2, 1, 1, 2, 1, 2, 1, 1, 2, 1, 1, 2, 1, 2, 1, 1, 2, 1, 2, 1, 1, 2, 1, 1, 2, 1, 2, 1, 1, 2, 1, 2, 1, 1, 2, 1, 1, 2, 1, 2, 1, 1, 2, 1, 2, 1, 1, 2, 1, 1, 2, 1, 2, 1, 1, 2, 1, 2, 1, 1, 2, 1, 1, 2, 1, 2, 1, 1, 2, 1, 2, 1, 1, 2, 1, 1, 2, 1, 2, 1, 1, 2, 1, 2, 1, 1, 2, 1, 1, 2, 1, 2, 1, 1, 2, 1, 2, 1, 1, 2, 1, 1, 2, 1, 2, 1, 1, 2, 1, 1]) of length 371 after prefixing the suffix with 0 times the current s.m.p.Increase the value of the `max_smp_length` keyword argument to go further.\n",
      "Depth 372: [2637] points, 8 living leaves...\n",
      "Depth 373: [2645] points, 8 living leaves...\n",
      "\u001b[34m\u001b[1mNew candidate s.m.p. found\u001b[22m\u001b[39m because ⟨v_6*, v⟩ - 1 = 2.527695670551111e-7 > 1.0e-9:\n",
      "\u001b[31m\u001b[1maborting\u001b[22m\u001b[39m with smp candidate PSW(1.409244453096972, [2, 1, 1, 2, 1, 1, 2, 1, 2, 1, 1, 2, 1, 1, 2, 1, 2, 1, 1, 2, 1, 2, 1, 1, 2, 1, 1, 2, 1, 2, 1, 1, 2, 1, 1, 2, 1, 2, 1, 1, 2, 1, 2, 1, 1, 2, 1, 1, 2, 1, 2, 1, 1, 2, 1, 1, 2, 1, 2, 1, 1, 2, 1, 2, 1, 1, 2, 1, 1, 2, 1, 2, 1, 1, 2, 1, 2, 1, 1, 2, 1, 1, 2, 1, 2, 1, 1, 2, 1, 2, 1, 1, 2, 1, 1, 2, 1, 2, 1, 1, 2, 1, 2, 1, 1, 2, 1, 1, 2, 1, 2, 1, 1, 2, 1, 2, 1, 1, 2, 1, 1, 2, 1, 2, 1, 1, 2, 1, 2, 1, 1, 2, 1, 1, 2, 1, 2, 1, 1, 2, 1, 2, 1, 1, 2, 1, 1, 2, 1, 2, 1, 1, 2, 1, 2, 1, 1, 2, 1, 1, 2, 1, 2, 1, 1, 2, 1, 2, 1, 1, 2, 1, 1, 2, 1, 2, 1, 1, 2, 1, 2, 1, 1, 2, 1, 1, 2, 1, 2, 1, 1, 2, 1, 2, 1, 1, 2, 1, 1, 2, 1, 2, 1, 1, 2, 1, 2, 1, 1, 2, 1, 1, 2, 1, 2, 1, 1, 2, 1, 2, 1, 1, 2, 1, 1, 2, 1, 2, 1, 1, 2, 1, 2, 1, 1, 2, 1, 1, 2, 1, 2, 1, 1, 2, 1, 2, 1, 1, 2, 1, 1, 2, 1, 2, 1, 1, 2, 1, 2, 1, 1, 2, 1, 1, 2, 1, 2, 1, 1, 2, 1, 2, 1, 1, 2, 1, 1, 2, 1, 2, 1, 1, 2, 1, 2, 1, 1, 2, 1, 1, 2, 1, 2, 1, 1, 2, 1, 2, 1, 1, 2, 1, 1, 2, 1, 2, 1, 1, 2, 1, 2, 1, 1, 2, 1, 1, 2, 1, 2, 1, 1, 2, 1, 2, 1, 1, 2, 1, 1, 2, 1, 2, 1, 1, 2, 1, 2, 1, 1, 2, 1, 1, 2, 1, 2, 1, 1, 2, 1, 2, 1, 1, 2, 1, 1, 2, 1, 2, 1, 1, 2, 1, 2, 1, 1, 2, 1, 1, 2, 1, 2, 1, 1]) of length 373 after prefixing the suffix with 0 times the current s.m.p.Increase the value of the `max_smp_length` keyword argument to go further.\n",
      "\u001b[34m\u001b[1mNew candidate s.m.p. found\u001b[22m\u001b[39m because ⟨v_6*, v⟩ - 1 = 2.561706451409407e-7 > 1.0e-9:\n",
      "\u001b[31m\u001b[1maborting\u001b[22m\u001b[39m with smp candidate PSW(1.409244453074843, [2, 1, 1, 2, 1, 1, 2, 1, 2, 1, 1, 2, 1, 1, 2, 1, 2, 1, 1, 2, 1, 2, 1, 1, 2, 1, 1, 2, 1, 2, 1, 1, 2, 1, 1, 2, 1, 2, 1, 1, 2, 1, 2, 1, 1, 2, 1, 1, 2, 1, 2, 1, 1, 2, 1, 2, 1, 1, 2, 1, 1, 2, 1, 2, 1, 1, 2, 1, 2, 1, 1, 2, 1, 1, 2, 1, 2, 1, 1, 2, 1, 2, 1, 1, 2, 1, 1, 2, 1, 2, 1, 1, 2, 1, 2, 1, 1, 2, 1, 1, 2, 1, 2, 1, 1, 2, 1, 2, 1, 1, 2, 1, 1, 2, 1, 2, 1, 1, 2, 1, 2, 1, 1, 2, 1, 1, 2, 1, 2, 1, 1, 2, 1, 2, 1, 1, 2, 1, 1, 2, 1, 2, 1, 1, 2, 1, 2, 1, 1, 2, 1, 1, 2, 1, 2, 1, 1, 2, 1, 2, 1, 1, 2, 1, 1, 2, 1, 2, 1, 1, 2, 1, 2, 1, 1, 2, 1, 1, 2, 1, 2, 1, 1, 2, 1, 2, 1, 1, 2, 1, 1, 2, 1, 2, 1, 1, 2, 1, 2, 1, 1, 2, 1, 1, 2, 1, 2, 1, 1, 2, 1, 2, 1, 1, 2, 1, 1, 2, 1, 2, 1, 1, 2, 1, 2, 1, 1, 2, 1, 1, 2, 1, 2, 1, 1, 2, 1, 2, 1, 1, 2, 1, 1, 2, 1, 2, 1, 1, 2, 1, 2, 1, 1, 2, 1, 1, 2, 1, 2, 1, 1, 2, 1, 2, 1, 1, 2, 1, 1, 2, 1, 2, 1, 1, 2, 1, 2, 1, 1, 2, 1, 1, 2, 1, 2, 1, 1, 2, 1, 2, 1, 1, 2, 1, 1, 2, 1, 2, 1, 1, 2, 1, 2, 1, 1, 2, 1, 1, 2, 1, 2, 1, 1, 2, 1, 2, 1, 1, 2, 1, 1, 2, 1, 2, 1, 1, 2, 1, 2, 1, 1, 2, 1, 1, 2, 1, 2, 1, 1, 2, 1, 2, 1, 1, 2, 1, 1, 2, 1, 2, 1, 1, 2, 1, 2, 1, 1, 2, 1, 1, 2, 1, 2, 1, 1, 2, 1, 1, 2, 1, 2, 1, 1]) of length 373 after prefixing the suffix with 0 times the current s.m.p.Increase the value of the `max_smp_length` keyword argument to go further.\n"
     ]
    },
    {
     "name": "stdout",
     "output_type": "stream",
     "text": [
      "\u001b[34m\u001b[1mNew candidate s.m.p. found\u001b[22m\u001b[39m because ⟨v_6*, v⟩ - 1 = 0.0004558352374055552 > 1.0e-9:\n",
      "\u001b[31m\u001b[1maborting\u001b[22m\u001b[39m with smp candidate PSW(1.4092414876436743, [2, 1, 1, 2, 1, 1, 2, 1, 2, 1, 1, 2, 1, 1, 2, 1, 2, 1, 1, 2, 1, 2, 1, 1, 2, 1, 1, 2, 1, 2, 1, 1, 2, 1, 1, 2, 1, 2, 1, 1, 2, 1, 2, 1, 1, 2, 1, 1, 2, 1, 2, 1, 1, 2, 1, 2, 1, 1, 2, 1, 1, 2, 1, 2, 1, 1, 2, 1, 2, 1, 1, 2, 1, 1, 2, 1, 2, 1, 1, 2, 1, 2, 1, 1, 2, 1, 1, 2, 1, 2, 1, 1, 2, 1, 2, 1, 1, 2, 1, 1, 2, 1, 2, 1, 1, 2, 1, 2, 1, 1, 2, 1, 1, 2, 1, 2, 1, 1, 2, 1, 2, 1, 1, 2, 1, 1, 2, 1, 2, 1, 1, 2, 1, 2, 1, 1, 2, 1, 1, 2, 1, 2, 1, 1, 2, 1, 2, 1, 1, 2, 1, 1, 2, 1, 2, 1, 1, 2, 1, 2, 1, 1, 2, 1, 1, 2, 1, 2, 1, 1, 2, 1, 2, 1, 1, 2, 1, 1, 2, 1, 2, 1, 1, 2, 1, 2, 1, 1, 2, 1, 1, 2, 1, 2, 1, 1, 2, 1, 2, 1, 1, 2, 1, 1, 2, 1, 2, 1, 1, 2, 1, 2, 1, 1, 2, 1, 1, 2, 1, 2, 1, 1, 2, 1, 2, 1, 1, 2, 1, 1, 2, 1, 2, 1, 1, 2, 1, 2, 1, 1, 2, 1, 1, 2, 1, 2, 1, 1, 2, 1, 2, 1, 1, 2, 1, 1, 2, 1, 2, 1, 1, 2, 1, 2, 1, 1, 2, 1, 1, 2, 1, 2, 1, 1, 2, 1, 2, 1, 1, 2, 1, 1, 2, 1, 2, 1, 1, 2, 1, 2, 1, 1, 2, 1, 1, 2, 1, 2, 1, 1, 2, 1, 2, 1, 1, 2, 1, 1, 2, 1, 2, 1, 1, 2, 1, 2, 1, 1, 2, 1, 1, 2, 1, 2, 1, 1, 2, 1, 2, 1, 1, 2, 1, 1, 2, 1, 2, 1, 1, 2, 1, 2, 1, 1, 2, 1, 1, 2, 1, 2, 1, 1, 2, 1, 2, 1, 1, 2, 1, 1, 2, 1, 2, 1, 1, 2, 1, 2, 1, 1, 2, 1, 1]) of length 373 after prefixing the suffix with 0 times the current s.m.p.Increase the value of the `max_smp_length` keyword argument to go further.\n",
      "\u001b[34m\u001b[1mNew candidate s.m.p. found\u001b[22m\u001b[39m because ⟨v_6*, v⟩ - 1 = 0.0004561630457391441 > 1.0e-9:\n",
      "\u001b[31m\u001b[1maborting\u001b[22m\u001b[39m with smp candidate PSW(1.409241485452876, [2, 1, 1, 2, 1, 1, 2, 1, 2, 1, 1, 2, 1, 1, 2, 1, 2, 1, 1, 2, 1, 2, 1, 1, 2, 1, 1, 2, 1, 2, 1, 1, 2, 1, 2, 1, 1, 2, 1, 1, 2, 1, 2, 1, 1, 2, 1, 2, 1, 1, 2, 1, 1, 2, 1, 2, 1, 1, 2, 1, 2, 1, 1, 2, 1, 1, 2, 1, 2, 1, 1, 2, 1, 2, 1, 1, 2, 1, 1, 2, 1, 2, 1, 1, 2, 1, 2, 1, 1, 2, 1, 1, 2, 1, 2, 1, 1, 2, 1, 2, 1, 1, 2, 1, 1, 2, 1, 2, 1, 1, 2, 1, 2, 1, 1, 2, 1, 1, 2, 1, 2, 1, 1, 2, 1, 2, 1, 1, 2, 1, 1, 2, 1, 2, 1, 1, 2, 1, 2, 1, 1, 2, 1, 1, 2, 1, 2, 1, 1, 2, 1, 2, 1, 1, 2, 1, 1, 2, 1, 2, 1, 1, 2, 1, 2, 1, 1, 2, 1, 1, 2, 1, 2, 1, 1, 2, 1, 2, 1, 1, 2, 1, 1, 2, 1, 2, 1, 1, 2, 1, 2, 1, 1, 2, 1, 1, 2, 1, 2, 1, 1, 2, 1, 2, 1, 1, 2, 1, 1, 2, 1, 2, 1, 1, 2, 1, 2, 1, 1, 2, 1, 1, 2, 1, 2, 1, 1, 2, 1, 2, 1, 1, 2, 1, 1, 2, 1, 2, 1, 1, 2, 1, 2, 1, 1, 2, 1, 1, 2, 1, 2, 1, 1, 2, 1, 2, 1, 1, 2, 1, 1, 2, 1, 2, 1, 1, 2, 1, 2, 1, 1, 2, 1, 1, 2, 1, 2, 1, 1, 2, 1, 2, 1, 1, 2, 1, 1, 2, 1, 2, 1, 1, 2, 1, 2, 1, 1, 2, 1, 1, 2, 1, 2, 1, 1, 2, 1, 2, 1, 1, 2, 1, 1, 2, 1, 2, 1, 1, 2, 1, 2, 1, 1, 2, 1, 1, 2, 1, 2, 1, 1, 2, 1, 2, 1, 1, 2, 1, 1, 2, 1, 2, 1, 1, 2, 1, 2, 1, 1, 2, 1, 1, 2, 1, 2, 1, 1, 2, 1, 2, 1, 1, 2, 1, 1, 2, 1, 2, 1, 1, 2, 1, 1]) of length 373 after prefixing the suffix with 0 times the current s.m.p.Increase the value of the `max_smp_length` keyword argument to go further.\n",
      "Depth 374: [2653] points, 8 living leaves...\n",
      "Depth 375: [2661] points, 8 living leaves...\n",
      "\u001b[34m\u001b[1mNew candidate s.m.p. found\u001b[22m\u001b[39m because ⟨v_6*, v⟩ - 1 = 2.5413562276810353e-7 > 1.0e-9:\n",
      "\u001b[31m\u001b[1maborting\u001b[22m\u001b[39m with smp candidate PSW(1.4092444698992794, [2, 1, 1, 2, 1, 1, 2, 1, 2, 1, 1, 2, 1, 2, 1, 1, 2, 1, 1, 2, 1, 2, 1, 1, 2, 1, 2, 1, 1, 2, 1, 1, 2, 1, 2, 1, 1, 2, 1, 2, 1, 1, 2, 1, 1, 2, 1, 2, 1, 1, 2, 1, 2, 1, 1, 2, 1, 1, 2, 1, 2, 1, 1, 2, 1, 2, 1, 1, 2, 1, 1, 2, 1, 2, 1, 1, 2, 1, 2, 1, 1, 2, 1, 1, 2, 1, 2, 1, 1, 2, 1, 2, 1, 1, 2, 1, 1, 2, 1, 2, 1, 1, 2, 1, 2, 1, 1, 2, 1, 1, 2, 1, 2, 1, 1, 2, 1, 2, 1, 1, 2, 1, 1, 2, 1, 2, 1, 1, 2, 1, 2, 1, 1, 2, 1, 1, 2, 1, 2, 1, 1, 2, 1, 2, 1, 1, 2, 1, 1, 2, 1, 2, 1, 1, 2, 1, 2, 1, 1, 2, 1, 1, 2, 1, 2, 1, 1, 2, 1, 2, 1, 1, 2, 1, 1, 2, 1, 2, 1, 1, 2, 1, 2, 1, 1, 2, 1, 1, 2, 1, 2, 1, 1, 2, 1, 2, 1, 1, 2, 1, 1, 2, 1, 2, 1, 1, 2, 1, 2, 1, 1, 2, 1, 1, 2, 1, 2, 1, 1, 2, 1, 2, 1, 1, 2, 1, 1, 2, 1, 2, 1, 1, 2, 1, 2, 1, 1, 2, 1, 1, 2, 1, 2, 1, 1, 2, 1, 2, 1, 1, 2, 1, 1, 2, 1, 2, 1, 1, 2, 1, 2, 1, 1, 2, 1, 1, 2, 1, 2, 1, 1, 2, 1, 2, 1, 1, 2, 1, 1, 2, 1, 2, 1, 1, 2, 1, 2, 1, 1, 2, 1, 1, 2, 1, 2, 1, 1, 2, 1, 2, 1, 1, 2, 1, 1, 2, 1, 2, 1, 1, 2, 1, 2, 1, 1, 2, 1, 1, 2, 1, 2, 1, 1, 2, 1, 2, 1, 1, 2, 1, 1, 2, 1, 2, 1, 1, 2, 1, 2, 1, 1, 2, 1, 1, 2, 1, 2, 1, 1, 2, 1, 2, 1, 1, 2, 1, 1, 2, 1, 2, 1, 1, 2, 1, 2, 1, 1, 2, 1, 1, 2, 1, 2, 1, 1]) of length 375 after prefixing the suffix with 0 times the current s.m.p.Increase the value of the `max_smp_length` keyword argument to go further.\n",
      "Depth 376: [2669] points, 8 living leaves...\n",
      "\u001b[34m\u001b[1mNew candidate s.m.p. found\u001b[22m\u001b[39m because ⟨v_6*, v⟩ - 1 = 2.582201605871859e-7 > 1.0e-9:\n",
      "\u001b[31m\u001b[1maborting\u001b[22m\u001b[39m with smp candidate PSW(1.4092444751677753, [2, 1, 1, 2, 1, 1, 2, 1, 2, 1, 1, 2, 1, 1, 2, 1, 2, 1, 1, 2, 1, 2, 1, 1, 2, 1, 1, 2, 1, 2, 1, 1, 2, 1, 1, 2, 1, 2, 1, 1, 2, 1, 2, 1, 1, 2, 1, 1, 2, 1, 2, 1, 1, 2, 1, 1, 2, 1, 2, 1, 1, 2, 1, 2, 1, 1, 2, 1, 1, 2, 1, 2, 1, 1, 2, 1, 1, 2, 1, 2, 1, 1, 2, 1, 2, 1, 1, 2, 1, 1, 2, 1, 2, 1, 1, 2, 1, 2, 1, 1, 2, 1, 1, 2, 1, 2, 1, 1, 2, 1, 2, 1, 1, 2, 1, 1, 2, 1, 2, 1, 1, 2, 1, 2, 1, 1, 2, 1, 1, 2, 1, 2, 1, 1, 2, 1, 2, 1, 1, 2, 1, 1, 2, 1, 2, 1, 1, 2, 1, 2, 1, 1, 2, 1, 1, 2, 1, 2, 1, 1, 2, 1, 2, 1, 1, 2, 1, 1, 2, 1, 2, 1, 1, 2, 1, 2, 1, 1, 2, 1, 1, 2, 1, 2, 1, 1, 2, 1, 2, 1, 1, 2, 1, 1, 2, 1, 2, 1, 1, 2, 1, 2, 1, 1, 2, 1, 1, 2, 1, 2, 1, 1, 2, 1, 2, 1, 1, 2, 1, 1, 2, 1, 2, 1, 1, 2, 1, 2, 1, 1, 2, 1, 1, 2, 1, 2, 1, 1, 2, 1, 2, 1, 1, 2, 1, 1, 2, 1, 2, 1, 1, 2, 1, 2, 1, 1, 2, 1, 1, 2, 1, 2, 1, 1, 2, 1, 2, 1, 1, 2, 1, 1, 2, 1, 2, 1, 1, 2, 1, 2, 1, 1, 2, 1, 1, 2, 1, 2, 1, 1, 2, 1, 2, 1, 1, 2, 1, 1, 2, 1, 2, 1, 1, 2, 1, 2, 1, 1, 2, 1, 1, 2, 1, 2, 1, 1, 2, 1, 2, 1, 1, 2, 1, 1, 2, 1, 2, 1, 1, 2, 1, 2, 1, 1, 2, 1, 1, 2, 1, 2, 1, 1, 2, 1, 2, 1, 1, 2, 1, 1, 2, 1, 2, 1, 1, 2, 1, 2, 1, 1, 2, 1, 1, 2, 1, 2, 1, 1, 2, 1, 1, 2, 1, 2, 1, 1]) of length 376 after prefixing the suffix with 0 times the current s.m.p.Increase the value of the `max_smp_length` keyword argument to go further.\n",
      "\u001b[34m\u001b[1mNew candidate s.m.p. found\u001b[22m\u001b[39m because ⟨v_6*, v⟩ - 1 = 0.0004558372878555872 > 1.0e-9:\n",
      "\u001b[31m\u001b[1maborting\u001b[22m\u001b[39m with smp candidate PSW(1.409241533396891, [2, 1, 1, 2, 1, 1, 2, 1, 2, 1, 1, 2, 1, 1, 2, 1, 2, 1, 1, 2, 1, 2, 1, 1, 2, 1, 1, 2, 1, 2, 1, 1, 2, 1, 1, 2, 1, 2, 1, 1, 2, 1, 2, 1, 1, 2, 1, 1, 2, 1, 2, 1, 1, 2, 1, 1, 2, 1, 2, 1, 1, 2, 1, 2, 1, 1, 2, 1, 1, 2, 1, 2, 1, 1, 2, 1, 1, 2, 1, 2, 1, 1, 2, 1, 2, 1, 1, 2, 1, 1, 2, 1, 2, 1, 1, 2, 1, 2, 1, 1, 2, 1, 1, 2, 1, 2, 1, 1, 2, 1, 2, 1, 1, 2, 1, 1, 2, 1, 2, 1, 1, 2, 1, 2, 1, 1, 2, 1, 1, 2, 1, 2, 1, 1, 2, 1, 2, 1, 1, 2, 1, 1, 2, 1, 2, 1, 1, 2, 1, 2, 1, 1, 2, 1, 1, 2, 1, 2, 1, 1, 2, 1, 2, 1, 1, 2, 1, 1, 2, 1, 2, 1, 1, 2, 1, 2, 1, 1, 2, 1, 1, 2, 1, 2, 1, 1, 2, 1, 2, 1, 1, 2, 1, 1, 2, 1, 2, 1, 1, 2, 1, 2, 1, 1, 2, 1, 1, 2, 1, 2, 1, 1, 2, 1, 2, 1, 1, 2, 1, 1, 2, 1, 2, 1, 1, 2, 1, 2, 1, 1, 2, 1, 1, 2, 1, 2, 1, 1, 2, 1, 2, 1, 1, 2, 1, 1, 2, 1, 2, 1, 1, 2, 1, 2, 1, 1, 2, 1, 1, 2, 1, 2, 1, 1, 2, 1, 2, 1, 1, 2, 1, 1, 2, 1, 2, 1, 1, 2, 1, 2, 1, 1, 2, 1, 1, 2, 1, 2, 1, 1, 2, 1, 2, 1, 1, 2, 1, 1, 2, 1, 2, 1, 1, 2, 1, 2, 1, 1, 2, 1, 1, 2, 1, 2, 1, 1, 2, 1, 2, 1, 1, 2, 1, 1, 2, 1, 2, 1, 1, 2, 1, 2, 1, 1, 2, 1, 1, 2, 1, 2, 1, 1, 2, 1, 2, 1, 1, 2, 1, 1, 2, 1, 2, 1, 1, 2, 1, 2, 1, 1, 2, 1, 1, 2, 1, 2, 1, 1, 2, 1, 2, 1, 1, 2, 1, 1]) of length 376 after prefixing the suffix with 0 times the current s.m.p.Increase the value of the `max_smp_length` keyword argument to go further.\n",
      "\u001b[34m\u001b[1mNew candidate s.m.p. found\u001b[22m\u001b[39m because ⟨v_6*, v⟩ - 1 = 0.00045616509619028633 > 1.0e-9:\n",
      "\u001b[31m\u001b[1maborting\u001b[22m\u001b[39m with smp candidate PSW(1.4092415312235722, [2, 1, 1, 2, 1, 1, 2, 1, 2, 1, 1, 2, 1, 1, 2, 1, 2, 1, 1, 2, 1, 2, 1, 1, 2, 1, 1, 2, 1, 2, 1, 1, 2, 1, 1, 2, 1, 2, 1, 1, 2, 1, 2, 1, 1, 2, 1, 1, 2, 1, 2, 1, 1, 2, 1, 1, 2, 1, 2, 1, 1, 2, 1, 2, 1, 1, 2, 1, 1, 2, 1, 2, 1, 1, 2, 1, 2, 1, 1, 2, 1, 1, 2, 1, 2, 1, 1, 2, 1, 2, 1, 1, 2, 1, 1, 2, 1, 2, 1, 1, 2, 1, 2, 1, 1, 2, 1, 1, 2, 1, 2, 1, 1, 2, 1, 2, 1, 1, 2, 1, 1, 2, 1, 2, 1, 1, 2, 1, 2, 1, 1, 2, 1, 1, 2, 1, 2, 1, 1, 2, 1, 2, 1, 1, 2, 1, 1, 2, 1, 2, 1, 1, 2, 1, 2, 1, 1, 2, 1, 1, 2, 1, 2, 1, 1, 2, 1, 2, 1, 1, 2, 1, 1, 2, 1, 2, 1, 1, 2, 1, 2, 1, 1, 2, 1, 1, 2, 1, 2, 1, 1, 2, 1, 2, 1, 1, 2, 1, 1, 2, 1, 2, 1, 1, 2, 1, 2, 1, 1, 2, 1, 1, 2, 1, 2, 1, 1, 2, 1, 2, 1, 1, 2, 1, 1, 2, 1, 2, 1, 1, 2, 1, 2, 1, 1, 2, 1, 1, 2, 1, 2, 1, 1, 2, 1, 2, 1, 1, 2, 1, 1, 2, 1, 2, 1, 1, 2, 1, 2, 1, 1, 2, 1, 1, 2, 1, 2, 1, 1, 2, 1, 2, 1, 1, 2, 1, 1, 2, 1, 2, 1, 1, 2, 1, 2, 1, 1, 2, 1, 1, 2, 1, 2, 1, 1, 2, 1, 2, 1, 1, 2, 1, 1, 2, 1, 2, 1, 1, 2, 1, 2, 1, 1, 2, 1, 1, 2, 1, 2, 1, 1, 2, 1, 2, 1, 1, 2, 1, 1, 2, 1, 2, 1, 1, 2, 1, 2, 1, 1, 2, 1, 1, 2, 1, 2, 1, 1, 2, 1, 2, 1, 1, 2, 1, 1, 2, 1, 2, 1, 1, 2, 1, 2, 1, 1, 2, 1, 1, 2, 1, 2, 1, 1, 2, 1, 1]) of length 376 after prefixing the suffix with 0 times the current s.m.p.Increase the value of the `max_smp_length` keyword argument to go further.\n"
     ]
    },
    {
     "name": "stdout",
     "output_type": "stream",
     "text": [
      "Depth 377: [2677] points, 8 living leaves...\n",
      "Depth 378: [2685] points, 8 living leaves...\n",
      "\u001b[34m\u001b[1mNew candidate s.m.p. found\u001b[22m\u001b[39m because ⟨v_6*, v⟩ - 1 = 2.561851406568394e-7 > 1.0e-9:\n",
      "\u001b[31m\u001b[1maborting\u001b[22m\u001b[39m with smp candidate PSW(1.4092444897234093, [2, 1, 1, 2, 1, 1, 2, 1, 2, 1, 1, 2, 1, 1, 2, 1, 2, 1, 1, 2, 1, 2, 1, 1, 2, 1, 1, 2, 1, 2, 1, 1, 2, 1, 1, 2, 1, 2, 1, 1, 2, 1, 2, 1, 1, 2, 1, 1, 2, 1, 2, 1, 1, 2, 1, 2, 1, 1, 2, 1, 1, 2, 1, 2, 1, 1, 2, 1, 2, 1, 1, 2, 1, 1, 2, 1, 2, 1, 1, 2, 1, 2, 1, 1, 2, 1, 1, 2, 1, 2, 1, 1, 2, 1, 2, 1, 1, 2, 1, 1, 2, 1, 2, 1, 1, 2, 1, 2, 1, 1, 2, 1, 1, 2, 1, 2, 1, 1, 2, 1, 2, 1, 1, 2, 1, 1, 2, 1, 2, 1, 1, 2, 1, 2, 1, 1, 2, 1, 1, 2, 1, 2, 1, 1, 2, 1, 2, 1, 1, 2, 1, 1, 2, 1, 2, 1, 1, 2, 1, 2, 1, 1, 2, 1, 1, 2, 1, 2, 1, 1, 2, 1, 2, 1, 1, 2, 1, 1, 2, 1, 2, 1, 1, 2, 1, 2, 1, 1, 2, 1, 1, 2, 1, 2, 1, 1, 2, 1, 2, 1, 1, 2, 1, 1, 2, 1, 2, 1, 1, 2, 1, 2, 1, 1, 2, 1, 1, 2, 1, 2, 1, 1, 2, 1, 2, 1, 1, 2, 1, 1, 2, 1, 2, 1, 1, 2, 1, 2, 1, 1, 2, 1, 1, 2, 1, 2, 1, 1, 2, 1, 2, 1, 1, 2, 1, 1, 2, 1, 2, 1, 1, 2, 1, 2, 1, 1, 2, 1, 1, 2, 1, 2, 1, 1, 2, 1, 2, 1, 1, 2, 1, 1, 2, 1, 2, 1, 1, 2, 1, 2, 1, 1, 2, 1, 1, 2, 1, 2, 1, 1, 2, 1, 2, 1, 1, 2, 1, 1, 2, 1, 2, 1, 1, 2, 1, 2, 1, 1, 2, 1, 1, 2, 1, 2, 1, 1, 2, 1, 2, 1, 1, 2, 1, 1, 2, 1, 2, 1, 1, 2, 1, 2, 1, 1, 2, 1, 1, 2, 1, 2, 1, 1, 2, 1, 2, 1, 1, 2, 1, 1, 2, 1, 2, 1, 1, 2, 1, 2, 1, 1, 2, 1, 1, 2, 1, 2, 1, 1]) of length 378 after prefixing the suffix with 0 times the current s.m.p.Increase the value of the `max_smp_length` keyword argument to go further.\n",
      "\u001b[34m\u001b[1mNew candidate s.m.p. found\u001b[22m\u001b[39m because ⟨v_6*, v⟩ - 1 = 2.595862163001783e-7 > 1.0e-9:\n",
      "\u001b[31m\u001b[1maborting\u001b[22m\u001b[39m with smp candidate PSW(1.409244489701573, [2, 1, 1, 2, 1, 1, 2, 1, 2, 1, 1, 2, 1, 1, 2, 1, 2, 1, 1, 2, 1, 2, 1, 1, 2, 1, 1, 2, 1, 2, 1, 1, 2, 1, 2, 1, 1, 2, 1, 1, 2, 1, 2, 1, 1, 2, 1, 2, 1, 1, 2, 1, 1, 2, 1, 2, 1, 1, 2, 1, 2, 1, 1, 2, 1, 1, 2, 1, 2, 1, 1, 2, 1, 2, 1, 1, 2, 1, 1, 2, 1, 2, 1, 1, 2, 1, 2, 1, 1, 2, 1, 1, 2, 1, 2, 1, 1, 2, 1, 2, 1, 1, 2, 1, 1, 2, 1, 2, 1, 1, 2, 1, 2, 1, 1, 2, 1, 1, 2, 1, 2, 1, 1, 2, 1, 2, 1, 1, 2, 1, 1, 2, 1, 2, 1, 1, 2, 1, 2, 1, 1, 2, 1, 1, 2, 1, 2, 1, 1, 2, 1, 2, 1, 1, 2, 1, 1, 2, 1, 2, 1, 1, 2, 1, 2, 1, 1, 2, 1, 1, 2, 1, 2, 1, 1, 2, 1, 2, 1, 1, 2, 1, 1, 2, 1, 2, 1, 1, 2, 1, 2, 1, 1, 2, 1, 1, 2, 1, 2, 1, 1, 2, 1, 2, 1, 1, 2, 1, 1, 2, 1, 2, 1, 1, 2, 1, 2, 1, 1, 2, 1, 1, 2, 1, 2, 1, 1, 2, 1, 2, 1, 1, 2, 1, 1, 2, 1, 2, 1, 1, 2, 1, 2, 1, 1, 2, 1, 1, 2, 1, 2, 1, 1, 2, 1, 2, 1, 1, 2, 1, 1, 2, 1, 2, 1, 1, 2, 1, 2, 1, 1, 2, 1, 1, 2, 1, 2, 1, 1, 2, 1, 2, 1, 1, 2, 1, 1, 2, 1, 2, 1, 1, 2, 1, 2, 1, 1, 2, 1, 1, 2, 1, 2, 1, 1, 2, 1, 2, 1, 1, 2, 1, 1, 2, 1, 2, 1, 1, 2, 1, 2, 1, 1, 2, 1, 1, 2, 1, 2, 1, 1, 2, 1, 2, 1, 1, 2, 1, 1, 2, 1, 2, 1, 1, 2, 1, 2, 1, 1, 2, 1, 1, 2, 1, 2, 1, 1, 2, 1, 2, 1, 1, 2, 1, 1, 2, 1, 2, 1, 1, 2, 1, 1, 2, 1, 2, 1, 1]) of length 378 after prefixing the suffix with 0 times the current s.m.p.Increase the value of the `max_smp_length` keyword argument to go further.\n",
      "\u001b[34m\u001b[1mNew candidate s.m.p. found\u001b[22m\u001b[39m because ⟨v_6*, v⟩ - 1 = 0.000455838654532581 > 1.0e-9:\n",
      "\u001b[31m\u001b[1maborting\u001b[22m\u001b[39m with smp candidate PSW(1.4092415634955677, [2, 1, 1, 2, 1, 1, 2, 1, 2, 1, 1, 2, 1, 1, 2, 1, 2, 1, 1, 2, 1, 2, 1, 1, 2, 1, 1, 2, 1, 2, 1, 1, 2, 1, 2, 1, 1, 2, 1, 1, 2, 1, 2, 1, 1, 2, 1, 2, 1, 1, 2, 1, 1, 2, 1, 2, 1, 1, 2, 1, 2, 1, 1, 2, 1, 1, 2, 1, 2, 1, 1, 2, 1, 2, 1, 1, 2, 1, 1, 2, 1, 2, 1, 1, 2, 1, 2, 1, 1, 2, 1, 1, 2, 1, 2, 1, 1, 2, 1, 2, 1, 1, 2, 1, 1, 2, 1, 2, 1, 1, 2, 1, 2, 1, 1, 2, 1, 1, 2, 1, 2, 1, 1, 2, 1, 2, 1, 1, 2, 1, 1, 2, 1, 2, 1, 1, 2, 1, 2, 1, 1, 2, 1, 1, 2, 1, 2, 1, 1, 2, 1, 2, 1, 1, 2, 1, 1, 2, 1, 2, 1, 1, 2, 1, 2, 1, 1, 2, 1, 1, 2, 1, 2, 1, 1, 2, 1, 2, 1, 1, 2, 1, 1, 2, 1, 2, 1, 1, 2, 1, 2, 1, 1, 2, 1, 1, 2, 1, 2, 1, 1, 2, 1, 2, 1, 1, 2, 1, 1, 2, 1, 2, 1, 1, 2, 1, 2, 1, 1, 2, 1, 1, 2, 1, 2, 1, 1, 2, 1, 2, 1, 1, 2, 1, 1, 2, 1, 2, 1, 1, 2, 1, 2, 1, 1, 2, 1, 1, 2, 1, 2, 1, 1, 2, 1, 2, 1, 1, 2, 1, 1, 2, 1, 2, 1, 1, 2, 1, 2, 1, 1, 2, 1, 1, 2, 1, 2, 1, 1, 2, 1, 2, 1, 1, 2, 1, 1, 2, 1, 2, 1, 1, 2, 1, 2, 1, 1, 2, 1, 1, 2, 1, 2, 1, 1, 2, 1, 2, 1, 1, 2, 1, 1, 2, 1, 2, 1, 1, 2, 1, 2, 1, 1, 2, 1, 1, 2, 1, 2, 1, 1, 2, 1, 2, 1, 1, 2, 1, 1, 2, 1, 2, 1, 1, 2, 1, 2, 1, 1, 2, 1, 1, 2, 1, 2, 1, 1, 2, 1, 2, 1, 1, 2, 1, 1, 2, 1, 2, 1, 1, 2, 1, 2, 1, 1, 2, 1, 1]) of length 378 after prefixing the suffix with 0 times the current s.m.p.Increase the value of the `max_smp_length` keyword argument to go further.\n",
      "\u001b[34m\u001b[1mNew candidate s.m.p. found\u001b[22m\u001b[39m because ⟨v_6*, v⟩ - 1 = 0.0004561664628686124 > 1.0e-9:\n",
      "\u001b[31m\u001b[1maborting\u001b[22m\u001b[39m with smp candidate PSW(1.4092415634955677, [2, 1, 1, 2, 1, 1, 2, 1, 2, 1, 1, 2, 1, 2, 1, 1, 2, 1, 1, 2, 1, 2, 1, 1, 2, 1, 2, 1, 1, 2, 1, 1, 2, 1, 2, 1, 1, 2, 1, 2, 1, 1, 2, 1, 1, 2, 1, 2, 1, 1, 2, 1, 2, 1, 1, 2, 1, 1, 2, 1, 2, 1, 1, 2, 1, 2, 1, 1, 2, 1, 1, 2, 1, 2, 1, 1, 2, 1, 2, 1, 1, 2, 1, 1, 2, 1, 2, 1, 1, 2, 1, 2, 1, 1, 2, 1, 1, 2, 1, 2, 1, 1, 2, 1, 2, 1, 1, 2, 1, 1, 2, 1, 2, 1, 1, 2, 1, 2, 1, 1, 2, 1, 1, 2, 1, 2, 1, 1, 2, 1, 2, 1, 1, 2, 1, 1, 2, 1, 2, 1, 1, 2, 1, 2, 1, 1, 2, 1, 1, 2, 1, 2, 1, 1, 2, 1, 2, 1, 1, 2, 1, 1, 2, 1, 2, 1, 1, 2, 1, 2, 1, 1, 2, 1, 1, 2, 1, 2, 1, 1, 2, 1, 2, 1, 1, 2, 1, 1, 2, 1, 2, 1, 1, 2, 1, 2, 1, 1, 2, 1, 1, 2, 1, 2, 1, 1, 2, 1, 2, 1, 1, 2, 1, 1, 2, 1, 2, 1, 1, 2, 1, 2, 1, 1, 2, 1, 1, 2, 1, 2, 1, 1, 2, 1, 2, 1, 1, 2, 1, 1, 2, 1, 2, 1, 1, 2, 1, 2, 1, 1, 2, 1, 1, 2, 1, 2, 1, 1, 2, 1, 2, 1, 1, 2, 1, 1, 2, 1, 2, 1, 1, 2, 1, 2, 1, 1, 2, 1, 1, 2, 1, 2, 1, 1, 2, 1, 2, 1, 1, 2, 1, 1, 2, 1, 2, 1, 1, 2, 1, 2, 1, 1, 2, 1, 1, 2, 1, 2, 1, 1, 2, 1, 2, 1, 1, 2, 1, 1, 2, 1, 2, 1, 1, 2, 1, 2, 1, 1, 2, 1, 1, 2, 1, 2, 1, 1, 2, 1, 2, 1, 1, 2, 1, 1, 2, 1, 2, 1, 1, 2, 1, 2, 1, 1, 2, 1, 1, 2, 1, 2, 1, 1, 2, 1, 2, 1, 1, 2, 1, 1, 2, 1, 2, 1, 1, 2, 1, 1]) of length 378 after prefixing the suffix with 0 times the current s.m.p.Increase the value of the `max_smp_length` keyword argument to go further.\n",
      "Depth 379: [2694] points, 9 living leaves...\n",
      "Depth 380: [2702] points, 8 living leaves...\n",
      "Depth 381: [2710] points, 8 living leaves...\n",
      "\u001b[34m\u001b[1mNew candidate s.m.p. found\u001b[22m\u001b[39m because ⟨v_6*, v⟩ - 1 = 2.58234656991263e-7 > 1.0e-9:\n",
      "\u001b[31m\u001b[1maborting\u001b[22m\u001b[39m with smp candidate PSW(1.4092445112378376, [2, 1, 1, 2, 1, 1, 2, 1, 2, 1, 1, 2, 1, 1, 2, 1, 2, 1, 1, 2, 1, 2, 1, 1, 2, 1, 1, 2, 1, 2, 1, 1, 2, 1, 1, 2, 1, 2, 1, 1, 2, 1, 2, 1, 1, 2, 1, 1, 2, 1, 2, 1, 1, 2, 1, 1, 2, 1, 2, 1, 1, 2, 1, 2, 1, 1, 2, 1, 1, 2, 1, 2, 1, 1, 2, 1, 1, 2, 1, 2, 1, 1, 2, 1, 2, 1, 1, 2, 1, 1, 2, 1, 2, 1, 1, 2, 1, 2, 1, 1, 2, 1, 1, 2, 1, 2, 1, 1, 2, 1, 2, 1, 1, 2, 1, 1, 2, 1, 2, 1, 1, 2, 1, 2, 1, 1, 2, 1, 1, 2, 1, 2, 1, 1, 2, 1, 2, 1, 1, 2, 1, 1, 2, 1, 2, 1, 1, 2, 1, 2, 1, 1, 2, 1, 1, 2, 1, 2, 1, 1, 2, 1, 2, 1, 1, 2, 1, 1, 2, 1, 2, 1, 1, 2, 1, 2, 1, 1, 2, 1, 1, 2, 1, 2, 1, 1, 2, 1, 2, 1, 1, 2, 1, 1, 2, 1, 2, 1, 1, 2, 1, 2, 1, 1, 2, 1, 1, 2, 1, 2, 1, 1, 2, 1, 2, 1, 1, 2, 1, 1, 2, 1, 2, 1, 1, 2, 1, 2, 1, 1, 2, 1, 1, 2, 1, 2, 1, 1, 2, 1, 2, 1, 1, 2, 1, 1, 2, 1, 2, 1, 1, 2, 1, 2, 1, 1, 2, 1, 1, 2, 1, 2, 1, 1, 2, 1, 2, 1, 1, 2, 1, 1, 2, 1, 2, 1, 1, 2, 1, 2, 1, 1, 2, 1, 1, 2, 1, 2, 1, 1, 2, 1, 2, 1, 1, 2, 1, 1, 2, 1, 2, 1, 1, 2, 1, 2, 1, 1, 2, 1, 1, 2, 1, 2, 1, 1, 2, 1, 2, 1, 1, 2, 1, 1, 2, 1, 2, 1, 1, 2, 1, 2, 1, 1, 2, 1, 1, 2, 1, 2, 1, 1, 2, 1, 2, 1, 1, 2, 1, 1, 2, 1, 2, 1, 1, 2, 1, 2, 1, 1, 2, 1, 1, 2, 1, 2, 1, 1, 2, 1, 2, 1, 1, 2, 1, 1, 2, 1, 2, 1, 1]) of length 381 after prefixing the suffix with 0 times the current s.m.p.Increase the value of the `max_smp_length` keyword argument to go further.\n",
      "\u001b[34m\u001b[1mNew candidate s.m.p. found\u001b[22m\u001b[39m because ⟨v_6*, v⟩ - 1 = 2.6163573285664654e-7 > 1.0e-9:\n",
      "\u001b[31m\u001b[1maborting\u001b[22m\u001b[39m with smp candidate PSW(1.4092445112161731, [2, 1, 1, 2, 1, 1, 2, 1, 2, 1, 1, 2, 1, 1, 2, 1, 2, 1, 1, 2, 1, 2, 1, 1, 2, 1, 1, 2, 1, 2, 1, 1, 2, 1, 1, 2, 1, 2, 1, 1, 2, 1, 2, 1, 1, 2, 1, 1, 2, 1, 2, 1, 1, 2, 1, 1, 2, 1, 2, 1, 1, 2, 1, 2, 1, 1, 2, 1, 1, 2, 1, 2, 1, 1, 2, 1, 2, 1, 1, 2, 1, 1, 2, 1, 2, 1, 1, 2, 1, 2, 1, 1, 2, 1, 1, 2, 1, 2, 1, 1, 2, 1, 2, 1, 1, 2, 1, 1, 2, 1, 2, 1, 1, 2, 1, 2, 1, 1, 2, 1, 1, 2, 1, 2, 1, 1, 2, 1, 2, 1, 1, 2, 1, 1, 2, 1, 2, 1, 1, 2, 1, 2, 1, 1, 2, 1, 1, 2, 1, 2, 1, 1, 2, 1, 2, 1, 1, 2, 1, 1, 2, 1, 2, 1, 1, 2, 1, 2, 1, 1, 2, 1, 1, 2, 1, 2, 1, 1, 2, 1, 2, 1, 1, 2, 1, 1, 2, 1, 2, 1, 1, 2, 1, 2, 1, 1, 2, 1, 1, 2, 1, 2, 1, 1, 2, 1, 2, 1, 1, 2, 1, 1, 2, 1, 2, 1, 1, 2, 1, 2, 1, 1, 2, 1, 1, 2, 1, 2, 1, 1, 2, 1, 2, 1, 1, 2, 1, 1, 2, 1, 2, 1, 1, 2, 1, 2, 1, 1, 2, 1, 1, 2, 1, 2, 1, 1, 2, 1, 2, 1, 1, 2, 1, 1, 2, 1, 2, 1, 1, 2, 1, 2, 1, 1, 2, 1, 1, 2, 1, 2, 1, 1, 2, 1, 2, 1, 1, 2, 1, 1, 2, 1, 2, 1, 1, 2, 1, 2, 1, 1, 2, 1, 1, 2, 1, 2, 1, 1, 2, 1, 2, 1, 1, 2, 1, 1, 2, 1, 2, 1, 1, 2, 1, 2, 1, 1, 2, 1, 1, 2, 1, 2, 1, 1, 2, 1, 2, 1, 1, 2, 1, 1, 2, 1, 2, 1, 1, 2, 1, 2, 1, 1, 2, 1, 1, 2, 1, 2, 1, 1, 2, 1, 2, 1, 1, 2, 1, 1, 2, 1, 2, 1, 1, 2, 1, 1, 2, 1, 2, 1, 1]) of length 381 after prefixing the suffix with 0 times the current s.m.p.Increase the value of the `max_smp_length` keyword argument to go further.\n"
     ]
    },
    {
     "name": "stdout",
     "output_type": "stream",
     "text": [
      "\u001b[34m\u001b[1mNew candidate s.m.p. found\u001b[22m\u001b[39m because ⟨v_6*, v⟩ - 1 = 0.00045584070498305707 > 1.0e-9:\n",
      "\u001b[31m\u001b[1maborting\u001b[22m\u001b[39m with smp candidate PSW(1.4092416080510919, [2, 1, 1, 2, 1, 1, 2, 1, 2, 1, 1, 2, 1, 1, 2, 1, 2, 1, 1, 2, 1, 2, 1, 1, 2, 1, 1, 2, 1, 2, 1, 1, 2, 1, 1, 2, 1, 2, 1, 1, 2, 1, 2, 1, 1, 2, 1, 1, 2, 1, 2, 1, 1, 2, 1, 1, 2, 1, 2, 1, 1, 2, 1, 2, 1, 1, 2, 1, 1, 2, 1, 2, 1, 1, 2, 1, 2, 1, 1, 2, 1, 1, 2, 1, 2, 1, 1, 2, 1, 2, 1, 1, 2, 1, 1, 2, 1, 2, 1, 1, 2, 1, 2, 1, 1, 2, 1, 1, 2, 1, 2, 1, 1, 2, 1, 2, 1, 1, 2, 1, 1, 2, 1, 2, 1, 1, 2, 1, 2, 1, 1, 2, 1, 1, 2, 1, 2, 1, 1, 2, 1, 2, 1, 1, 2, 1, 1, 2, 1, 2, 1, 1, 2, 1, 2, 1, 1, 2, 1, 1, 2, 1, 2, 1, 1, 2, 1, 2, 1, 1, 2, 1, 1, 2, 1, 2, 1, 1, 2, 1, 2, 1, 1, 2, 1, 1, 2, 1, 2, 1, 1, 2, 1, 2, 1, 1, 2, 1, 1, 2, 1, 2, 1, 1, 2, 1, 2, 1, 1, 2, 1, 1, 2, 1, 2, 1, 1, 2, 1, 2, 1, 1, 2, 1, 1, 2, 1, 2, 1, 1, 2, 1, 2, 1, 1, 2, 1, 1, 2, 1, 2, 1, 1, 2, 1, 2, 1, 1, 2, 1, 1, 2, 1, 2, 1, 1, 2, 1, 2, 1, 1, 2, 1, 1, 2, 1, 2, 1, 1, 2, 1, 2, 1, 1, 2, 1, 1, 2, 1, 2, 1, 1, 2, 1, 2, 1, 1, 2, 1, 1, 2, 1, 2, 1, 1, 2, 1, 2, 1, 1, 2, 1, 1, 2, 1, 2, 1, 1, 2, 1, 2, 1, 1, 2, 1, 1, 2, 1, 2, 1, 1, 2, 1, 2, 1, 1, 2, 1, 1, 2, 1, 2, 1, 1, 2, 1, 2, 1, 1, 2, 1, 1, 2, 1, 2, 1, 1, 2, 1, 2, 1, 1, 2, 1, 1, 2, 1, 2, 1, 1, 2, 1, 2, 1, 1, 2, 1, 1, 2, 1, 2, 1, 1, 2, 1, 2, 1, 1, 2, 1, 1]) of length 381 after prefixing the suffix with 0 times the current s.m.p.Increase the value of the `max_smp_length` keyword argument to go further.\n",
      "\u001b[34m\u001b[1mNew candidate s.m.p. found\u001b[22m\u001b[39m because ⟨v_6*, v⟩ - 1 = 0.00045616851332086483 > 1.0e-9:\n",
      "\u001b[31m\u001b[1maborting\u001b[22m\u001b[39m with smp candidate PSW(1.4092416059062942, [2, 1, 1, 2, 1, 1, 2, 1, 2, 1, 1, 2, 1, 1, 2, 1, 2, 1, 1, 2, 1, 2, 1, 1, 2, 1, 1, 2, 1, 2, 1, 1, 2, 1, 1, 2, 1, 2, 1, 1, 2, 1, 2, 1, 1, 2, 1, 1, 2, 1, 2, 1, 1, 2, 1, 2, 1, 1, 2, 1, 1, 2, 1, 2, 1, 1, 2, 1, 2, 1, 1, 2, 1, 1, 2, 1, 2, 1, 1, 2, 1, 2, 1, 1, 2, 1, 1, 2, 1, 2, 1, 1, 2, 1, 2, 1, 1, 2, 1, 1, 2, 1, 2, 1, 1, 2, 1, 2, 1, 1, 2, 1, 1, 2, 1, 2, 1, 1, 2, 1, 2, 1, 1, 2, 1, 1, 2, 1, 2, 1, 1, 2, 1, 2, 1, 1, 2, 1, 1, 2, 1, 2, 1, 1, 2, 1, 2, 1, 1, 2, 1, 1, 2, 1, 2, 1, 1, 2, 1, 2, 1, 1, 2, 1, 1, 2, 1, 2, 1, 1, 2, 1, 2, 1, 1, 2, 1, 1, 2, 1, 2, 1, 1, 2, 1, 2, 1, 1, 2, 1, 1, 2, 1, 2, 1, 1, 2, 1, 2, 1, 1, 2, 1, 1, 2, 1, 2, 1, 1, 2, 1, 2, 1, 1, 2, 1, 1, 2, 1, 2, 1, 1, 2, 1, 2, 1, 1, 2, 1, 1, 2, 1, 2, 1, 1, 2, 1, 2, 1, 1, 2, 1, 1, 2, 1, 2, 1, 1, 2, 1, 2, 1, 1, 2, 1, 1, 2, 1, 2, 1, 1, 2, 1, 2, 1, 1, 2, 1, 1, 2, 1, 2, 1, 1, 2, 1, 2, 1, 1, 2, 1, 1, 2, 1, 2, 1, 1, 2, 1, 2, 1, 1, 2, 1, 1, 2, 1, 2, 1, 1, 2, 1, 2, 1, 1, 2, 1, 1, 2, 1, 2, 1, 1, 2, 1, 2, 1, 1, 2, 1, 1, 2, 1, 2, 1, 1, 2, 1, 2, 1, 1, 2, 1, 1, 2, 1, 2, 1, 1, 2, 1, 2, 1, 1, 2, 1, 1, 2, 1, 2, 1, 1, 2, 1, 2, 1, 1, 2, 1, 1, 2, 1, 2, 1, 1, 2, 1, 2, 1, 1, 2, 1, 1, 2, 1, 2, 1, 1, 2, 1, 1]) of length 381 after prefixing the suffix with 0 times the current s.m.p.Increase the value of the `max_smp_length` keyword argument to go further.\n",
      "Depth 382: [2718] points, 8 living leaves...\n",
      "Depth 383: [2726] points, 8 living leaves...\n",
      "\u001b[34m\u001b[1mNew candidate s.m.p. found\u001b[22m\u001b[39m because ⟨v_6*, v⟩ - 1 = 2.59600711816077e-7 > 1.0e-9:\n",
      "\u001b[31m\u001b[1maborting\u001b[22m\u001b[39m with smp candidate PSW(1.409244525393544, [2, 1, 1, 2, 1, 1, 2, 1, 2, 1, 1, 2, 1, 1, 2, 1, 2, 1, 1, 2, 1, 2, 1, 1, 2, 1, 1, 2, 1, 2, 1, 1, 2, 1, 2, 1, 1, 2, 1, 1, 2, 1, 2, 1, 1, 2, 1, 2, 1, 1, 2, 1, 1, 2, 1, 2, 1, 1, 2, 1, 2, 1, 1, 2, 1, 1, 2, 1, 2, 1, 1, 2, 1, 2, 1, 1, 2, 1, 1, 2, 1, 2, 1, 1, 2, 1, 2, 1, 1, 2, 1, 1, 2, 1, 2, 1, 1, 2, 1, 2, 1, 1, 2, 1, 1, 2, 1, 2, 1, 1, 2, 1, 2, 1, 1, 2, 1, 1, 2, 1, 2, 1, 1, 2, 1, 2, 1, 1, 2, 1, 1, 2, 1, 2, 1, 1, 2, 1, 2, 1, 1, 2, 1, 1, 2, 1, 2, 1, 1, 2, 1, 2, 1, 1, 2, 1, 1, 2, 1, 2, 1, 1, 2, 1, 2, 1, 1, 2, 1, 1, 2, 1, 2, 1, 1, 2, 1, 2, 1, 1, 2, 1, 1, 2, 1, 2, 1, 1, 2, 1, 2, 1, 1, 2, 1, 1, 2, 1, 2, 1, 1, 2, 1, 2, 1, 1, 2, 1, 1, 2, 1, 2, 1, 1, 2, 1, 2, 1, 1, 2, 1, 1, 2, 1, 2, 1, 1, 2, 1, 2, 1, 1, 2, 1, 1, 2, 1, 2, 1, 1, 2, 1, 2, 1, 1, 2, 1, 1, 2, 1, 2, 1, 1, 2, 1, 2, 1, 1, 2, 1, 1, 2, 1, 2, 1, 1, 2, 1, 2, 1, 1, 2, 1, 1, 2, 1, 2, 1, 1, 2, 1, 2, 1, 1, 2, 1, 1, 2, 1, 2, 1, 1, 2, 1, 2, 1, 1, 2, 1, 1, 2, 1, 2, 1, 1, 2, 1, 2, 1, 1, 2, 1, 1, 2, 1, 2, 1, 1, 2, 1, 2, 1, 1, 2, 1, 1, 2, 1, 2, 1, 1, 2, 1, 2, 1, 1, 2, 1, 1, 2, 1, 2, 1, 1, 2, 1, 2, 1, 1, 2, 1, 1, 2, 1, 2, 1, 1, 2, 1, 2, 1, 1, 2, 1, 1, 2, 1, 2, 1, 1, 2, 1, 2, 1, 1, 2, 1, 1, 2, 1, 2, 1, 1]) of length 383 after prefixing the suffix with 0 times the current s.m.p.Increase the value of the `max_smp_length` keyword argument to go further.\n",
      "\u001b[34m\u001b[1mNew candidate s.m.p. found\u001b[22m\u001b[39m because ⟨v_6*, v⟩ - 1 = 2.6300178834759436e-7 > 1.0e-9:\n",
      "\u001b[31m\u001b[1maborting\u001b[22m\u001b[39m with smp candidate PSW(1.4092445273640257, [2, 1, 1, 2, 1, 1, 2, 1, 2, 1, 1, 2, 1, 2, 1, 1, 2, 1, 1, 2, 1, 2, 1, 1, 2, 1, 2, 1, 1, 2, 1, 1, 2, 1, 2, 1, 1, 2, 1, 2, 1, 1, 2, 1, 1, 2, 1, 2, 1, 1, 2, 1, 2, 1, 1, 2, 1, 1, 2, 1, 2, 1, 1, 2, 1, 2, 1, 1, 2, 1, 1, 2, 1, 2, 1, 1, 2, 1, 2, 1, 1, 2, 1, 1, 2, 1, 2, 1, 1, 2, 1, 2, 1, 1, 2, 1, 1, 2, 1, 2, 1, 1, 2, 1, 2, 1, 1, 2, 1, 1, 2, 1, 2, 1, 1, 2, 1, 2, 1, 1, 2, 1, 1, 2, 1, 2, 1, 1, 2, 1, 2, 1, 1, 2, 1, 1, 2, 1, 2, 1, 1, 2, 1, 2, 1, 1, 2, 1, 1, 2, 1, 2, 1, 1, 2, 1, 2, 1, 1, 2, 1, 1, 2, 1, 2, 1, 1, 2, 1, 2, 1, 1, 2, 1, 1, 2, 1, 2, 1, 1, 2, 1, 2, 1, 1, 2, 1, 1, 2, 1, 2, 1, 1, 2, 1, 2, 1, 1, 2, 1, 1, 2, 1, 2, 1, 1, 2, 1, 2, 1, 1, 2, 1, 1, 2, 1, 2, 1, 1, 2, 1, 2, 1, 1, 2, 1, 1, 2, 1, 2, 1, 1, 2, 1, 2, 1, 1, 2, 1, 1, 2, 1, 2, 1, 1, 2, 1, 2, 1, 1, 2, 1, 1, 2, 1, 2, 1, 1, 2, 1, 2, 1, 1, 2, 1, 1, 2, 1, 2, 1, 1, 2, 1, 2, 1, 1, 2, 1, 1, 2, 1, 2, 1, 1, 2, 1, 2, 1, 1, 2, 1, 1, 2, 1, 2, 1, 1, 2, 1, 2, 1, 1, 2, 1, 1, 2, 1, 2, 1, 1, 2, 1, 2, 1, 1, 2, 1, 1, 2, 1, 2, 1, 1, 2, 1, 2, 1, 1, 2, 1, 1, 2, 1, 2, 1, 1, 2, 1, 2, 1, 1, 2, 1, 1, 2, 1, 2, 1, 1, 2, 1, 2, 1, 1, 2, 1, 1, 2, 1, 2, 1, 1, 2, 1, 2, 1, 1, 2, 1, 1, 2, 1, 2, 1, 1, 2, 1, 1, 2, 1, 2, 1, 1]) of length 383 after prefixing the suffix with 0 times the current s.m.p.Increase the value of the `max_smp_length` keyword argument to go further.\n",
      "\u001b[34m\u001b[1mNew candidate s.m.p. found\u001b[22m\u001b[39m because ⟨v_6*, v⟩ - 1 = 0.0004558420716611611 > 1.0e-9:\n",
      "\u001b[31m\u001b[1maborting\u001b[22m\u001b[39m with smp candidate PSW(1.409241639500492, [2, 1, 1, 2, 1, 1, 2, 1, 2, 1, 1, 2, 1, 2, 1, 1, 2, 1, 1, 2, 1, 2, 1, 1, 2, 1, 2, 1, 1, 2, 1, 1, 2, 1, 2, 1, 1, 2, 1, 2, 1, 1, 2, 1, 1, 2, 1, 2, 1, 1, 2, 1, 2, 1, 1, 2, 1, 1, 2, 1, 2, 1, 1, 2, 1, 2, 1, 1, 2, 1, 1, 2, 1, 2, 1, 1, 2, 1, 2, 1, 1, 2, 1, 1, 2, 1, 2, 1, 1, 2, 1, 2, 1, 1, 2, 1, 1, 2, 1, 2, 1, 1, 2, 1, 2, 1, 1, 2, 1, 1, 2, 1, 2, 1, 1, 2, 1, 2, 1, 1, 2, 1, 1, 2, 1, 2, 1, 1, 2, 1, 2, 1, 1, 2, 1, 1, 2, 1, 2, 1, 1, 2, 1, 2, 1, 1, 2, 1, 1, 2, 1, 2, 1, 1, 2, 1, 2, 1, 1, 2, 1, 1, 2, 1, 2, 1, 1, 2, 1, 2, 1, 1, 2, 1, 1, 2, 1, 2, 1, 1, 2, 1, 2, 1, 1, 2, 1, 1, 2, 1, 2, 1, 1, 2, 1, 2, 1, 1, 2, 1, 1, 2, 1, 2, 1, 1, 2, 1, 2, 1, 1, 2, 1, 1, 2, 1, 2, 1, 1, 2, 1, 2, 1, 1, 2, 1, 1, 2, 1, 2, 1, 1, 2, 1, 2, 1, 1, 2, 1, 1, 2, 1, 2, 1, 1, 2, 1, 2, 1, 1, 2, 1, 1, 2, 1, 2, 1, 1, 2, 1, 2, 1, 1, 2, 1, 1, 2, 1, 2, 1, 1, 2, 1, 2, 1, 1, 2, 1, 1, 2, 1, 2, 1, 1, 2, 1, 2, 1, 1, 2, 1, 1, 2, 1, 2, 1, 1, 2, 1, 2, 1, 1, 2, 1, 1, 2, 1, 2, 1, 1, 2, 1, 2, 1, 1, 2, 1, 1, 2, 1, 2, 1, 1, 2, 1, 2, 1, 1, 2, 1, 1, 2, 1, 2, 1, 1, 2, 1, 2, 1, 1, 2, 1, 1, 2, 1, 2, 1, 1, 2, 1, 2, 1, 1, 2, 1, 1, 2, 1, 2, 1, 1, 2, 1, 2, 1, 1, 2, 1, 1, 2, 1, 2, 1, 1, 2, 1, 2, 1, 1, 2, 1, 1]) of length 383 after prefixing the suffix with 0 times the current s.m.p.Increase the value of the `max_smp_length` keyword argument to go further.\n",
      "Depth 384: [2734] points, 8 living leaves...\n",
      "\u001b[34m\u001b[1mNew candidate s.m.p. found\u001b[22m\u001b[39m because ⟨v_6*, v⟩ - 1 = 0.00045617056377200704 > 1.0e-9:\n",
      "\u001b[31m\u001b[1maborting\u001b[22m\u001b[39m with smp candidate PSW(1.4092416497823959, [2, 1, 1, 2, 1, 1, 2, 1, 2, 1, 1, 2, 1, 1, 2, 1, 2, 1, 1, 2, 1, 2, 1, 1, 2, 1, 1, 2, 1, 2, 1, 1, 2, 1, 1, 2, 1, 2, 1, 1, 2, 1, 2, 1, 1, 2, 1, 1, 2, 1, 2, 1, 1, 2, 1, 1, 2, 1, 2, 1, 1, 2, 1, 2, 1, 1, 2, 1, 1, 2, 1, 2, 1, 1, 2, 1, 1, 2, 1, 2, 1, 1, 2, 1, 2, 1, 1, 2, 1, 1, 2, 1, 2, 1, 1, 2, 1, 2, 1, 1, 2, 1, 1, 2, 1, 2, 1, 1, 2, 1, 2, 1, 1, 2, 1, 1, 2, 1, 2, 1, 1, 2, 1, 2, 1, 1, 2, 1, 1, 2, 1, 2, 1, 1, 2, 1, 2, 1, 1, 2, 1, 1, 2, 1, 2, 1, 1, 2, 1, 2, 1, 1, 2, 1, 1, 2, 1, 2, 1, 1, 2, 1, 2, 1, 1, 2, 1, 1, 2, 1, 2, 1, 1, 2, 1, 2, 1, 1, 2, 1, 1, 2, 1, 2, 1, 1, 2, 1, 2, 1, 1, 2, 1, 1, 2, 1, 2, 1, 1, 2, 1, 2, 1, 1, 2, 1, 1, 2, 1, 2, 1, 1, 2, 1, 2, 1, 1, 2, 1, 1, 2, 1, 2, 1, 1, 2, 1, 2, 1, 1, 2, 1, 1, 2, 1, 2, 1, 1, 2, 1, 2, 1, 1, 2, 1, 1, 2, 1, 2, 1, 1, 2, 1, 2, 1, 1, 2, 1, 1, 2, 1, 2, 1, 1, 2, 1, 2, 1, 1, 2, 1, 1, 2, 1, 2, 1, 1, 2, 1, 2, 1, 1, 2, 1, 1, 2, 1, 2, 1, 1, 2, 1, 2, 1, 1, 2, 1, 1, 2, 1, 2, 1, 1, 2, 1, 2, 1, 1, 2, 1, 1, 2, 1, 2, 1, 1, 2, 1, 2, 1, 1, 2, 1, 1, 2, 1, 2, 1, 1, 2, 1, 2, 1, 1, 2, 1, 1, 2, 1, 2, 1, 1, 2, 1, 2, 1, 1, 2, 1, 1, 2, 1, 2, 1, 1, 2, 1, 2, 1, 1, 2, 1, 1, 2, 1, 2, 1, 1, 2, 1, 2, 1, 1, 2, 1, 1, 2, 1, 2, 1, 1, 2, 1, 1]) of length 384 after prefixing the suffix with 0 times the current s.m.p.Increase the value of the `max_smp_length` keyword argument to go further.\n"
     ]
    },
    {
     "name": "stdout",
     "output_type": "stream",
     "text": [
      "Depth 385: [2742] points, 8 living leaves...\n",
      "Depth 386: [2750] points, 8 living leaves...\n",
      "\u001b[34m\u001b[1mNew candidate s.m.p. found\u001b[22m\u001b[39m"
     ]
    },
    {
     "name": "stderr",
     "output_type": "stream",
     "text": [
      "Excessive output truncated after 525381 bytes."
     ]
    },
    {
     "name": "stdout",
     "output_type": "stream",
     "text": [
      " because ⟨v_6*, v⟩ - 1 = 2.6165022859458986e-7 > 1.0e-9:\n"
     ]
    }
   ],
   "source": [
    "using JuMP, GLPK\n",
    "smp = strbin(s∞, \"0\")\n",
    "smp, done, polys = invariant_polytopes(s∞, with_optimizer(GLPK.Optimizer), smp, verbose=1, tol=1e-12,\n",
    "    new_candidate_tol=1e-9, max_cycles=5, max_length=1000);"
   ]
  },
  {
   "cell_type": "markdown",
   "metadata": {},
   "source": [
    "# Truncated $h$ functions\n",
    "\n",
    "In [BTV03], the authors introduce the function $h(\\beta) = \\sup_{w} h_w(\\beta)$ which is a convex continuous function.\n",
    "We consider here truncated version of the $h$ function: $h^K(\\beta) = \\sup_{|w| \\le K} h_w(\\beta)$,\n",
    "the functions $h^K$ are polyhedral function and the $J_w^K$ sets in $h^K$ are supersets of the real $J_w$ sets.\n",
    "Moreover, they are all strict supersets on both extremities (except for $J_0$ at $\\alpha=0$ or $\\beta = -\\infty$) as they cannot intersect.\n",
    "So we know that there will always be a $K' > K$ such that each vertex of $h_K$ is cut at $h_{K'}$."
   ]
  },
  {
   "cell_type": "code",
   "execution_count": 3,
   "metadata": {
    "collapsed": true
   },
   "outputs": [],
   "source": [
    "using SwitchOnSafety\n",
    "# Represents a function h_w(β)\n",
    "struct H{S}\n",
    "    smp::SwitchOnSafety.DiscretePeriodicSwitching{S, HybridSystems.OneStateTransition}\n",
    "    constant::Float64 # log(ρ(A_w))\n",
    "    coefficient::Int  # |w|_1\n",
    "    k::Int            # |w|\n",
    "end\n",
    "function H(w::Int, k)\n",
    "    smp = periodicswitching(s1, [HybridSystems.OneStateTransition(((w >> i) & 1) + 1) for i in 0:(k-1)])\n",
    "    constant = log(smp.growthrate) * k\n",
    "    coefficient = count(tr -> tr.σ == 2, smp.period)\n",
    "    H{typeof(s1)}(smp, constant, coefficient, k)\n",
    "end\n",
    "binstr(h::H) = binstr(h.smp)\n",
    "heval(h::H, β::Float64) = (h.constant + h.coefficient * β) / h.k\n",
    "# Computes the intersection point β of two functions h_{w_1} and h_{w_2},\n",
    "# that is, the β such that h_{w_1}(β) = h_{w_2}(β)\n",
    "function intersect(h1::H, h2::H)\n",
    "    if h1.coefficient/h1.k == h2.coefficient/h2.k\n",
    "        return -Inf\n",
    "    else\n",
    "        -(h1.constant/h1.k - h2.constant/h2.k) / (h1.coefficient/h1.k - h2.coefficient/h2.k)\n",
    "    end\n",
    "end\n",
    "# Returns a vector of all h_w function for |w| ≤ K\n",
    "function hs(K)\n",
    "    h = Vector{H{typeof(s1)}}(undef, (1 << (K+1)) - 2)\n",
    "    j = 0\n",
    "    for k in 1:K\n",
    "        for w in 0:((1 << k) - 1)\n",
    "            j += 1\n",
    "            h[j] = H(w, k)\n",
    "        end\n",
    "    end\n",
    "    return h\n",
    "end\n",
    "# Returns the intersection points β and the indices of active w for h^K\n",
    "function hs_β_smp(K)\n",
    "    hs = Main.hs(K)\n",
    "    smp0 = 1\n",
    "    for i in 2:length(hs)\n",
    "        if heval(hs[i], 0.0) ≈ heval(hs[smp0], 0.0)\n",
    "            if hs[i].coefficient / hs[i].k < hs[smp0].coefficient / hs[i].k\n",
    "                smp0 = i\n",
    "            end\n",
    "        else\n",
    "            if heval(hs[i], 0.0) > heval(hs[smp0], 0.0)\n",
    "                smp0 = i\n",
    "            end\n",
    "        end\n",
    "    end\n",
    "    smp = [smp0]\n",
    "    β = [0.0]\n",
    "    while smp[end] != 1\n",
    "        smpnext = 1\n",
    "        function obj(h::H)\n",
    "            i = intersect(h, hs[smp[end]])\n",
    "            if i > β[end] || i ≈ β[end]\n",
    "                return -Inf\n",
    "            end\n",
    "            return i\n",
    "        end\n",
    "        for i in 2:length(hs)\n",
    "            o = obj(hs[i])\n",
    "            if o ≈ obj(hs[smpnext])\n",
    "                if hs[i].coefficient / hs[i].k < hs[smp0].coefficient / hs[i].k\n",
    "                    smpnext = i\n",
    "                end\n",
    "            else\n",
    "                if o < obj(hs[smpnext])\n",
    "                    smpnext = i\n",
    "                end\n",
    "            end\n",
    "        end\n",
    "        j = argmax(obj.(hs))\n",
    "        push!(β, obj(hs[j]))\n",
    "        @assert β[end] < β[end-1]\n",
    "        push!(smp, j)\n",
    "    end\n",
    "    return hs, β, smp\n",
    "end\n",
    "# Represents a set J_w^k\n",
    "struct J{S}\n",
    "    h::H{S}\n",
    "    αmin::Float64\n",
    "    αmax::Float64\n",
    "end\n",
    "function js(K)\n",
    "    hs, β, smp = hs_β_smp(K)\n",
    "    @assert length(β) == length(smp)\n",
    "    return map(i -> begin\n",
    "        αmax = exp(β[i])\n",
    "        if i == length(β)\n",
    "            αmin = 0.0\n",
    "        else\n",
    "            αmin = exp(β[i+1])\n",
    "        end\n",
    "        return J(hs[smp[i]], αmin, αmax)\n",
    "    end, length(β):-1:1)\n",
    "end\n",
    "function Base.show(io::IO, j::J)\n",
    "    println(io, \" smp: \", binstr(j.h))\n",
    "    println(io, \"From: \", j.αmin)\n",
    "    println(io, \"  To: \", j.αmax)\n",
    "end"
   ]
  },
  {
   "cell_type": "code",
   "execution_count": 4,
   "metadata": {},
   "outputs": [
    {
     "data": {
      "text/plain": [
       "plot_hα (generic function with 1 method)"
      ]
     },
     "execution_count": 4,
     "metadata": {},
     "output_type": "execute_result"
    }
   ],
   "source": [
    "using Plots\n",
    "pyplot()\n",
    "# plots h^K(β)\n",
    "function plot_hβ(K)\n",
    "    hs, β, smp = hs_β_smp(K)\n",
    "    @show β\n",
    "    plot()\n",
    "    for i in 1:length(β)\n",
    "        βnext = i == length(β) ? β[i] - 1 : β[i + 1]\n",
    "        h = hs[smp[i]]\n",
    "        plot!([β[i], βnext], [heval(h, β[i]), heval(h, βnext)], label=binstr(h))\n",
    "    end\n",
    "    plot!()\n",
    "end\n",
    "# plots h^K(α)\n",
    "function plot_hα(K)\n",
    "    hs, β, smp = hs_β_smp(K)\n",
    "    @show exp.(β)\n",
    "    plot(xlim = (0.0, 1.0))\n",
    "    for i in 1:length(β)\n",
    "        βnext = i == length(β) ? β[i] - 1 : β[i + 1]\n",
    "        h = hs[smp[i]]\n",
    "        plot!([exp(β[i]), exp(βnext)], [heval(h, β[i]), heval(h, βnext)], label=binstr(h))\n",
    "    end\n",
    "    plot!()\n",
    "end"
   ]
  },
  {
   "cell_type": "markdown",
   "metadata": {},
   "source": [
    "We can see that the intervals are indeed supersets of the intervals given in [GZ05] and [GZ08]."
   ]
  },
  {
   "cell_type": "code",
   "execution_count": 8,
   "metadata": {},
   "outputs": [
    {
     "data": {
      "text/plain": [
       "6-element Array{J{HybridSystem{OneStateAutomaton,MathematicalSystems.DiscreteIdentitySystem,MathematicalSystems.LinearDiscreteSystem{Float64,SArray{Tuple{2,2},Float64,2,4}},AutonomousSwitching}},1}:\n",
       "  smp: 0\n",
       "From: 0.0\n",
       "  To: 0.1715728752538099\n",
       "                    \n",
       "  smp: 10000\n",
       "From: 0.1715728752538099\n",
       "  To: 0.45702943146534875\n",
       "\n",
       "  smp: 1000\n",
       "From: 0.45702943146534875\n",
       "  To: 0.5669785102410742\n",
       " \n",
       "  smp: 100\n",
       "From: 0.5669785102410742\n",
       "  To: 0.7463911219155626\n",
       "   \n",
       "  smp: 10100\n",
       "From: 0.7463911219155626\n",
       "  To: 0.7967176639288206\n",
       " \n",
       "  smp: 10\n",
       "From: 0.7967176639288206\n",
       "  To: 1.0\n",
       "                   "
      ]
     },
     "execution_count": 8,
     "metadata": {},
     "output_type": "execute_result"
    }
   ],
   "source": [
    "js(5)"
   ]
  },
  {
   "cell_type": "markdown",
   "metadata": {},
   "source": [
    "We can plot the function $h^K(\\beta)$ which is indeed convex and the function $h^K(\\alpha)$ which isn't."
   ]
  },
  {
   "cell_type": "code",
   "execution_count": 5,
   "metadata": {},
   "outputs": [
    {
     "name": "stdout",
     "output_type": "stream",
     "text": [
      "β = [0.0, -0.227255, -0.292506, -0.567434, -0.783007, -1.76275]\n"
     ]
    },
    {
     "data": {
      "image/png": "[encoded data removed]"
     },
     "execution_count": 5,
     "metadata": {},
     "output_type": "execute_result"
    }
   ],
   "source": [
    "plot_hβ(5)"
   ]
  },
  {
   "cell_type": "code",
   "execution_count": 7,
   "metadata": {},
   "outputs": [
    {
     "name": "stdout",
     "output_type": "stream",
     "text": [
      "exp.(β) = [1.0, 0.796718, 0.746391, 0.566979, 0.457029, 0.171573]\n"
     ]
    },
    {
     "data": {
      "image/png": "[encoded data removed]"
     },
     "execution_count": 7,
     "metadata": {},
     "output_type": "execute_result"
    }
   ],
   "source": [
    "plot_hα(5)"
   ]
  }
 ],
 "metadata": {
  "@webio": {
   "lastCommId": null,
   "lastKernelId": null
  },
  "kernelspec": {
   "display_name": "Julia 1.1.0",
   "language": "julia",
   "name": "julia-1.1"
  },
  "language_info": {
   "file_extension": ".jl",
   "mimetype": "application/julia",
   "name": "julia",
   "version": "1.1.0"
  }
 },
 "nbformat": 4,
 "nbformat_minor": 2
}
