{
 "cells": [
  {
   "cell_type": "markdown",
   "metadata": {},
   "source": [
    "This example was introduced in [BTV03] showing that there exists values of $\\alpha$ for which the finiteness conjecture does not hold, that is, there is no $w = \\sigma_1, \\ldots, \\sigma_k$ such that\n",
    "$\\sqrt[k]{\\rho(A_{\\sigma_k} \\cdots A_{\\sigma_1})}$ is equal to the JSR (such product is called a Spectral Maximizing Product (s.m.p.)).\n",
    "Let $J_w \\subseteq [0, 1]$ be the set of $\\alpha$ such that $w$ is a s.m.p.\n",
    "They show that for two words $u, v$ we have either $J_u = J_v$ (in which case $uuu\\cdots$ and $vvv\\cdots$ are identical up to a different prefix) or $J_u \\cap J_v = \\emptyset$.\n",
    "In fact, let $\\beta = \\log(\\alpha)$, since the function $h_w(\\beta) = \\log(\\sqrt[|w|]{\\rho(A_w)}) = \\frac{1}{|w|}(\\log(\\rho(A_w)) + |w|_1 \\beta)$ is affine in $\\beta$, $J_u$ and $J_v$ can only be either equal, with empty intersection or with intersection equal to one of their two boundary points.\n",
    "So [BTV03] excludes this last case.\n",
    "The authors also mention that\n",
    "$$ J_{0} = \\{0\\} \\quad \\text{ and } \\quad J_1 = \\emptyset. $$\n",
    "\n",
    "The, in [Section V, GZ05], the authors show that\n",
    "$$J_{10} = [4/5, 1] \\quad \\text{ and } \\quad J_{100} \\approx [0.5734, 0.7444] $$\n",
    "\n",
    "It was then shown in [Section 6, GZ08] that for\n",
    "$$J_{10010} =\n",
    "\\left[\\frac{222924 - 23339 \\sqrt{6}}{221184}, \\frac{36864(222924 - 23339 \\sqrt{6})}{7737809375} \\right]\n",
    "\\approx [0.74940031328298342722, 0.789681582229248583974]$$\n",
    "\n",
    "It was then proved in [HMST11] that the finiteness property does not hold for\n",
    "$$\\alpha = 0.749326546330367557943961948091344672091327370236064317358024...$$\n",
    "\n",
    "[BTV03] V. D. Blondel, J. Theys and A. A. Vladimirov,\n",
    "*An elementary counterexample to the finiteness conjecture*,\n",
    "SIAM Journal on Matrix Analysis and Applications, **2003**. 24, 963-970.\n",
    "\n",
    "[GZ05] N. Guglielmi and M. Zennaro.\n",
    "*Polytope norms and related algorithms for the computation of the joint spectral radius*.\n",
    "44th IEEE Conference on Decision and Control, and European Control Conference, **2005**, pp. 3007-3012.\n",
    "\n",
    "[GZ08] N. Guglielmi and M. Zennaro.\n",
    "*An algorithm for finding extremal polytope norms of matrix families*.\n",
    "Linear Algebra and its Applications, **2008**, 428(10), 2265-2282.\n",
    "\n",
    "[HMST11] K. G. Hare, I. D Morris, N. Sidorov and J. Theys,\n",
    "*An explicit counterexample to the Lagarias–Wang finiteness conjecture*.\n",
    "Advances in Mathematics, **2011**, 226(6), 4667-4701."
   ]
  },
  {
   "cell_type": "code",
   "execution_count": 1,
   "metadata": {},
   "outputs": [
    {
     "data": {
      "text/plain": [
       "Hybrid System with automaton OneStateAutomaton(2)"
      ]
     },
     "execution_count": 1,
     "metadata": {},
     "output_type": "execute_result"
    }
   ],
   "source": [
    "using HybridSystems\n",
    "using StaticArrays\n",
    "A0 = @SMatrix [1 1; 0 1]\n",
    "A1 = @SMatrix [1 0; 1 1]\n",
    "A(α) = discreteswitchedsystem([A0, α * A1])\n",
    "s1 = A(1.0)"
   ]
  },
  {
   "cell_type": "code",
   "execution_count": 9,
   "metadata": {},
   "outputs": [
    {
     "data": {
      "text/plain": [
       "hs (generic function with 1 method)"
      ]
     },
     "execution_count": 9,
     "metadata": {},
     "output_type": "execute_result"
    }
   ],
   "source": [
    "using SwitchOnSafety\n",
    "struct H{S}\n",
    "    smp::SwitchOnSafety.DiscretePeriodicSwitching{S, HybridSystems.OneStateTransition}\n",
    "    constant::Float64 # log(ρ(A_w))\n",
    "    coefficient::Int  # |w|_1\n",
    "    k::Int            # |w|\n",
    "end\n",
    "function H(w::Int, k)\n",
    "    smp = periodicswitching(s1, [HybridSystems.OneStateTransition(((w >> i) & 1) + 1) for i in 0:(k-1)])\n",
    "    constant = log(smp.growthrate) * k\n",
    "    coefficient = count(tr -> tr.σ == 2, smp.period)\n",
    "    H{typeof(s1)}(smp, constant, coefficient, k)\n",
    "end\n",
    "binstr(smp::SwitchOnSafety.DiscretePeriodicSwitching) = join(map(tr -> tr.σ - 1, smp.period))\n",
    "binstr(h::H) = binstr(h.smp)\n",
    "heval(h::H, β::Float64) = (h.constant + h.coefficient * β) / h.k\n",
    "function intersect(h1::H, h2::H)\n",
    "    if h1.coefficient/h1.k == h2.coefficient/h2.k\n",
    "        return -Inf\n",
    "    else\n",
    "        -(h1.constant/h1.k - h2.constant/h2.k) / (h1.coefficient/h1.k - h2.coefficient/h2.k)\n",
    "    end\n",
    "end\n",
    "function hs(K)\n",
    "    h = Vector{H{typeof(s1)}}(undef, (1 << (K+1)) - 2)\n",
    "    j = 0\n",
    "    for k in 1:K\n",
    "        for w in 0:((1 << k) - 1)\n",
    "            j += 1\n",
    "            h[j] = H(w, k)\n",
    "        end\n",
    "    end\n",
    "    return h\n",
    "end"
   ]
  },
  {
   "cell_type": "code",
   "execution_count": 10,
   "metadata": {},
   "outputs": [
    {
     "data": {
      "text/plain": [
       "2-element Array{H{HybridSystem{OneStateAutomaton,MathematicalSystems.DiscreteIdentitySystem,MathematicalSystems.LinearDiscreteSystem{Float64,SArray{Tuple{2,2},Float64,2,4}},AutonomousSwitching}},1}:\n",
       " H{HybridSystem{OneStateAutomaton,MathematicalSystems.DiscreteIdentitySystem,MathematicalSystems.LinearDiscreteSystem{Float64,SArray{Tuple{2,2},Float64,2,4}},AutonomousSwitching}}(PSW(1.0, [1]), 0.0, 0, 1)\n",
       " H{HybridSystem{OneStateAutomaton,MathematicalSystems.DiscreteIdentitySystem,MathematicalSystems.LinearDiscreteSystem{Float64,SArray{Tuple{2,2},Float64,2,4}},AutonomousSwitching}}(PSW(1.0, [2]), 0.0, 1, 1)"
      ]
     },
     "execution_count": 10,
     "metadata": {},
     "output_type": "execute_result"
    }
   ],
   "source": [
    "hs(1)"
   ]
  },
  {
   "cell_type": "code",
   "execution_count": 11,
   "metadata": {},
   "outputs": [
    {
     "data": {
      "text/plain": [
       "hs_β_smp (generic function with 1 method)"
      ]
     },
     "execution_count": 11,
     "metadata": {},
     "output_type": "execute_result"
    }
   ],
   "source": [
    "function hs_β_smp(K)\n",
    "    hs = Main.hs(K)\n",
    "    smp0 = 1\n",
    "    for i in 2:length(hs)\n",
    "        if heval(hs[i], 0.0) ≈ heval(hs[smp0], 0.0)\n",
    "            if hs[i].coefficient / hs[i].k < hs[smp0].coefficient / hs[i].k\n",
    "                smp0 = i\n",
    "            end\n",
    "        else\n",
    "            if heval(hs[i], 0.0) > heval(hs[smp0], 0.0)\n",
    "                smp0 = i\n",
    "            end\n",
    "        end\n",
    "    end\n",
    "    smp = [smp0]\n",
    "    β = [0.0]\n",
    "    while smp[end] != 1\n",
    "        smpnext = 1\n",
    "        function obj(h::H)\n",
    "            i = intersect(h, hs[smp[end]])\n",
    "            if i > β[end] || i ≈ β[end]\n",
    "                return -Inf\n",
    "            end\n",
    "            return i\n",
    "        end\n",
    "        for i in 2:length(hs)\n",
    "            o = obj(hs[i])\n",
    "            if o ≈ obj(hs[smpnext])\n",
    "                if hs[i].coefficient / hs[i].k < hs[smp0].coefficient / hs[i].k\n",
    "                    smpnext = i\n",
    "                end\n",
    "            else\n",
    "                if o < obj(hs[smpnext])\n",
    "                    smpnext = i\n",
    "                end\n",
    "            end\n",
    "        end\n",
    "        j = argmax(obj.(hs))\n",
    "        push!(β, obj(hs[j]))\n",
    "        @assert β[end] < β[end-1]\n",
    "        push!(smp, j)\n",
    "    end\n",
    "    return hs, β, smp\n",
    "end"
   ]
  },
  {
   "cell_type": "code",
   "execution_count": 12,
   "metadata": {},
   "outputs": [],
   "source": [
    "struct J{S}\n",
    "    h::H{S}\n",
    "    αmin::Float64\n",
    "    αmax::Float64\n",
    "end\n",
    "function js(K)\n",
    "    hs, β, smp = hs_β_smp(K)\n",
    "    @assert length(β) == length(smp)\n",
    "    return map(i -> begin\n",
    "        αmax = exp(β[i])\n",
    "        if i == length(β)\n",
    "            αmin = 0.0\n",
    "        else\n",
    "            αmin = exp(β[i+1])\n",
    "        end\n",
    "        return J(hs[smp[i]], αmin, αmax)\n",
    "    end, length(β):-1:1)\n",
    "end\n",
    "function Base.show(io::IO, j::J)\n",
    "    println(io, \" smp: \", binstr(j.h))\n",
    "    println(io, \"From: \", j.αmin)\n",
    "    println(io, \"  To: \", j.αmax)\n",
    "end"
   ]
  },
  {
   "cell_type": "code",
   "execution_count": 69,
   "metadata": {},
   "outputs": [
    {
     "data": {
      "text/plain": [
       "plot_he (generic function with 1 method)"
      ]
     },
     "execution_count": 69,
     "metadata": {},
     "output_type": "execute_result"
    }
   ],
   "source": [
    "using Plots\n",
    "pyplot()\n",
    "function plot_h(K)\n",
    "    hs, β, smp = hs_β_smp(K)\n",
    "    @show β\n",
    "    plot()\n",
    "    for i in 1:length(β)\n",
    "        βnext = i == length(β) ? β[i] - 1 : β[i + 1]\n",
    "        h = hs[smp[i]]\n",
    "        plot!([β[i], βnext], [heval(h, β[i]), heval(h, βnext)], label=binstr(h))\n",
    "    end\n",
    "    plot!()\n",
    "end\n",
    "function plot_he(K)\n",
    "    hs, β, smp = hs_β_smp(K)\n",
    "    @show exp.(β)\n",
    "    plot(xlim = (0.0, 1.0))\n",
    "    for i in 1:length(β)\n",
    "        βnext = i == length(β) ? β[i] - 1 : β[i + 1]\n",
    "        h = hs[smp[i]]\n",
    "        plot!([exp(β[i]), exp(βnext)], [heval(h, β[i]), heval(h, βnext)], label=binstr(h))\n",
    "    end\n",
    "    plot!()\n",
    "end"
   ]
  },
  {
   "cell_type": "code",
   "execution_count": 72,
   "metadata": {},
   "outputs": [
    {
     "name": "stdout",
     "output_type": "stream",
     "text": [
      "β = [0.0, -0.22323, -0.225514, -0.236048, -0.28852, -0.294897, -0.55617, -0.558579, -0.581489, -0.777487, -0.789908, -0.952247, -1.09331, -1.21499, -1.32234, -1.41858, -2.38953]\n"
     ]
    },
    {
     "data": {
      "image/png": "[encoded data removed]"
     },
     "execution_count": 72,
     "metadata": {},
     "output_type": "execute_result"
    }
   ],
   "source": [
    "plot_h(10)"
   ]
  },
  {
   "cell_type": "code",
   "execution_count": 92,
   "metadata": {},
   "outputs": [
    {
     "name": "stdout",
     "output_type": "stream",
     "text": [
      "exp.(β) = [1.0, 0.796718, 0.746391, 0.566979, 0.457029, 0.171573]\n",
      "  0.030320 seconds (38.72 k allocations: 1.984 MiB)\n"
     ]
    },
    {
     "data": {
      "image/png": "[encoded data removed]"
     },
     "execution_count": 92,
     "metadata": {},
     "output_type": "execute_result"
    }
   ],
   "source": [
    "@time plot_he(5)"
   ]
  },
  {
   "cell_type": "code",
   "execution_count": 25,
   "metadata": {},
   "outputs": [
    {
     "name": "stdout",
     "output_type": "stream",
     "text": [
      " 11.744915 seconds (221.02 M allocations: 4.333 GiB, 10.01% gc time)\n"
     ]
    },
    {
     "data": {
      "text/plain": [
       "49-element Array{J{HybridSystem{OneStateAutomaton,MathematicalSystems.DiscreteIdentitySystem,MathematicalSystems.LinearDiscreteSystem{Float64,Array{Float64,2}},AutonomousSwitching}},1}:\n",
       "  smp: 0\n",
       "From: 0.0\n",
       "  To: 0.055728090000841266\n",
       "                                \n",
       "  smp: 10000000000000000\n",
       "From: 0.055728090000841266\n",
       "  To: 0.14820476232456434\n",
       "\n",
       "  smp: 1000000000000000\n",
       "From: 0.14820476232456434\n",
       "  To: 0.15684071070742764\n",
       "  \n",
       "  smp: 100000000000000\n",
       "From: 0.15684071070742764\n",
       "  To: 0.16655893011101977\n",
       "   \n",
       "  smp: 10000000000000\n",
       "From: 0.16655893011101977\n",
       "  To: 0.1775797790180443\n",
       "     \n",
       "  smp: 1000000000000\n",
       "From: 0.1775797790180443\n",
       "  To: 0.19018895991311285\n",
       "      \n",
       "  smp: 100000000000\n",
       "From: 0.19018895991311285\n",
       "  To: 0.2047642388309615\n",
       "       \n",
       "  smp: 10000000000\n",
       "From: 0.2047642388309615\n",
       "  To: 0.2218167968034444\n",
       "         \n",
       "  smp: 1000000000\n",
       "From: 0.2218167968034444\n",
       "  To: 0.2420577888471559\n",
       "          \n",
       "  smp: 000001000\n",
       "From: 0.2420577888471559\n",
       "  To: 0.2661938350175111\n",
       "           \n",
       "  smp: 10000000100000000\n",
       "From: 0.2661938350175111\n",
       "  To: 0.2667927339261288\n",
       "   \n",
       "  smp: 10000000\n",
       "From: 0.2667927339261288\n",
       "  To: 0.2962143565428367\n",
       "            \n",
       "  smp: 100000010000000\n",
       "From: 0.2962143565428367\n",
       "  To: 0.2971499611139999\n",
       "     \n",
       " ⋮                                                                            \n",
       "  smp: 1010010100100\n",
       "From: 0.7493264930942595\n",
       "  To: 0.7494000219027658\n",
       "       \n",
       "  smp: 10100\n",
       "From: 0.7494000219027658\n",
       "  To: 0.7896815885842638\n",
       "               \n",
       "  smp: 10101001010010100\n",
       "From: 0.7896815885842638\n",
       "  To: 0.7896836842833034\n",
       "   \n",
       "  smp: 101010010100\n",
       "From: 0.7896836842833034\n",
       "  To: 0.7898273926866783\n",
       "        \n",
       "  smp: 1010100\n",
       "From: 0.7898273926866783\n",
       "  To: 0.7981040817803714\n",
       "             \n",
       "  smp: 1010101001010100\n",
       "From: 0.7981040817803714\n",
       "  To: 0.7981081878896908\n",
       "    \n",
       "  smp: 101010100\n",
       "From: 0.7981081878896908\n",
       "  To: 0.7996646777438438\n",
       "           \n",
       "  smp: 10101010100\n",
       "From: 0.7996646777438438\n",
       "  To: 0.7999424530716741\n",
       "         \n",
       "  smp: 1010101010100\n",
       "From: 0.7999424530716741\n",
       "  To: 0.799990345434545\n",
       "        \n",
       "  smp: 101010101010100\n",
       "From: 0.799990345434545\n",
       "  To: 0.7999984077889644\n",
       "      \n",
       "  smp: 10101010101010100\n",
       "From: 0.7999984077889644\n",
       "  To: 0.7999999686324748\n",
       "   \n",
       "  smp: 10\n",
       "From: 0.7999999686324748\n",
       "  To: 1.0\n",
       "                                 "
      ]
     },
     "execution_count": 25,
     "metadata": {},
     "output_type": "execute_result"
    }
   ],
   "source": [
    "@time jw = js(17)"
   ]
  },
  {
   "cell_type": "code",
   "execution_count": 29,
   "metadata": {},
   "outputs": [
    {
     "data": {
      "text/plain": [
       "PSW(1.574674, [2, 1, 2, 1, 1, 2, 1, 2, 1, 1, 2, 1, 1])"
      ]
     },
     "execution_count": 29,
     "metadata": {},
     "output_type": "execute_result"
    }
   ],
   "source": [
    "jw[38].h.smp"
   ]
  },
  {
   "cell_type": "code",
   "execution_count": 26,
   "metadata": {},
   "outputs": [
    {
     "data": {
      "text/plain": [
       " smp: 1010010100100\n",
       "From: 0.7493264930942595\n",
       "  To: 0.7494000219027658\n"
      ]
     },
     "execution_count": 26,
     "metadata": {},
     "output_type": "execute_result"
    }
   ],
   "source": [
    "jw[38]"
   ]
  },
  {
   "cell_type": "code",
   "execution_count": 2,
   "metadata": {},
   "outputs": [
    {
     "data": {
      "text/plain": [
       "Hybrid System with automaton OneStateAutomaton(2)"
      ]
     },
     "execution_count": 2,
     "metadata": {},
     "output_type": "execute_result"
    }
   ],
   "source": [
    "α∞ = 0.749326546330367557943961948091344672091327370236064317358024\n",
    "s∞ = A(α∞)"
   ]
  },
  {
   "cell_type": "code",
   "execution_count": 3,
   "metadata": {},
   "outputs": [
    {
     "data": {
      "text/plain": [
       "HybridSystem{OneStateAutomaton,MathematicalSystems.DiscreteIdentitySystem,MathematicalSystems.LinearDiscreteSystem{Float64,SArray{Tuple{2,2},Float64,2,4}},AutonomousSwitching}"
      ]
     },
     "execution_count": 3,
     "metadata": {},
     "output_type": "execute_result"
    }
   ],
   "source": [
    "typeof(s∞)"
   ]
  },
  {
   "cell_type": "code",
   "execution_count": 4,
   "metadata": {},
   "outputs": [
    {
     "data": {
      "text/plain": [
       "show_smp (generic function with 1 method)"
      ]
     },
     "execution_count": 4,
     "metadata": {},
     "output_type": "execute_result"
    }
   ],
   "source": [
    "function show_smp(smp)\n",
    "    println(\"   SMP: \", binstr(smp))\n",
    "    println(\"Length: \", length(smp.period))\n",
    "    println(\"Growth: \", smp.growthrate)\n",
    "end"
   ]
  },
  {
   "cell_type": "code",
   "execution_count": 44,
   "metadata": {},
   "outputs": [
    {
     "name": "stdout",
     "output_type": "stream",
     "text": [
      "   SMP: 1010010100100\n",
      "Length: 13\n",
      "Growth: 1.4092472220583443\n"
     ]
    }
   ],
   "source": [
    "show_smp(periodicswitching(s∞, jw[38].h.smp.period))"
   ]
  },
  {
   "cell_type": "code",
   "execution_count": 23,
   "metadata": {},
   "outputs": [
    {
     "name": "stdout",
     "output_type": "stream",
     "text": [
      " 19.799091 seconds (280.00 M allocations: 15.750 GiB, 16.70% gc time)\n",
      "   SMP: 0010010100101\n",
      "Length: 13\n",
      "Growth: 1.4092472220583443\n"
     ]
    }
   ],
   "source": [
    "using SwitchOnSafety\n",
    "sosdata(s∞).smp = nothing\n",
    "@time quicklb(s∞, 1:19)\n",
    "show_smp(sosdata(s∞).smp)"
   ]
  },
  {
   "cell_type": "code",
   "execution_count": 3,
   "metadata": {},
   "outputs": [],
   "source": [
    "using MathOptInterfaceMosek\n",
    "using JuMP\n",
    "factory = with_optimizer(MosekOptimizer, QUIET=true);"
   ]
  },
  {
   "cell_type": "code",
   "execution_count": 4,
   "metadata": {},
   "outputs": [
    {
     "name": "stderr",
     "output_type": "stream",
     "text": [
      "┌ Info: Recompiling stale cache file /home/blegat/.julia/compiled/v1.0/SwitchOnSafety/PA0qe.ji for SwitchOnSafety [4b7ae085-addf-5b2e-b0f2-71171a701510]\n",
      "└ @ Base loading.jl:1187\n"
     ]
    },
    {
     "name": "stdout",
     "output_type": "stream",
     "text": [
      "Lower bound: 1.4264934336122035\n",
      "Upper bound: 1.426493943766101\n",
      "Log-diff   : 3.576278687078549e-7 ≤ 4.0e-7\n",
      " 33.029037 seconds (79.62 M allocations: 3.894 GiB, 7.51% gc time)\n"
     ]
    },
    {
     "data": {
      "text/plain": [
       "(1.0086831802252711, 1.426493943766101)"
      ]
     },
     "execution_count": 4,
     "metadata": {},
     "output_type": "execute_result"
    }
   ],
   "source": [
    "using SwitchOnSafety\n",
    "sosdata(s∞).lb = 0.0\n",
    "@time lb2, ub2 = soslyapb(s∞, 1, factory=factory, tol=4e-7, step=0.5, verbose=1)"
   ]
  },
  {
   "cell_type": "code",
   "execution_count": 42,
   "metadata": {},
   "outputs": [
    {
     "name": "stdout",
     "output_type": "stream",
     "text": [
      "  0.020510 seconds (217.44 k allocations: 12.231 MiB, 36.55% gc time)\n",
      "  0.373782 seconds (6.29 M allocations: 266.325 MiB, 14.74% gc time)\n",
      "010100100101001001010\n",
      "21\n",
      "1.4092472220583487\n"
     ]
    }
   ],
   "source": [
    "@time seq = sosbuildsequence(s∞, 1, niter=100, l=4, p_0=:Primal)\n",
    "@time psw = findsmp(seq)\n",
    "println(binstr(psw))\n",
    "println(length(psw.period))\n",
    "println(psw.growthrate)"
   ]
  },
  {
   "cell_type": "code",
   "execution_count": null,
   "metadata": {
    "collapsed": true
   },
   "outputs": [],
   "source": []
  }
 ],
 "metadata": {
  "kernelspec": {
   "display_name": "Julia 1.0.1",
   "language": "julia",
   "name": "julia-1.0"
  },
  "language_info": {
   "file_extension": ".jl",
   "mimetype": "application/julia",
   "name": "julia",
   "version": "1.0.1"
  }
 },
 "nbformat": 4,
 "nbformat_minor": 2
}
