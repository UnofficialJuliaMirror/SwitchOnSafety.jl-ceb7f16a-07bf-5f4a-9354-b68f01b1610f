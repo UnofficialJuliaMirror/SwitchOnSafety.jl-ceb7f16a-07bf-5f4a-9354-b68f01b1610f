{
 "cells": [
  {
   "cell_type": "code",
   "execution_count": 1,
   "metadata": {},
   "outputs": [
    {
     "name": "stdout",
     "output_type": "stream",
     "text": [
      "P' * ones(5) = [0.0, 0.0, 0.0, 0.0]\n"
     ]
    },
    {
     "data": {
      "text/plain": [
       "4×4 Array{Float64,2}:\n",
       " 1.0   0.0   0.0   0.0\n",
       " 0.0   1.0   0.0  -0.0\n",
       " 0.0   0.0   1.0  -0.0\n",
       " 0.0  -0.0  -0.0   1.0"
      ]
     },
     "execution_count": 1,
     "metadata": {},
     "output_type": "execute_result"
    }
   ],
   "source": [
    "using LinearAlgebra\n",
    "P = [ 1.0  0.0  1.0  2.0\n",
    "     -1.0  0.0  1.0  2.0\n",
    "      0.0  1.0  0.0 -3.0\n",
    "      0.0 -1.0  0.0 -3.0\n",
    "      0.0  0.0 -2.0  2.0]\n",
    "for i in 1:4\n",
    "    P[:, i] /= norm(P[:, i])\n",
    "end\n",
    "@show P' * ones(5)\n",
    "round.(P' * P, digits=16)"
   ]
  },
  {
   "cell_type": "code",
   "execution_count": 2,
   "metadata": {},
   "outputs": [
    {
     "data": {
      "text/plain": [
       "ss (generic function with 1 method)"
      ]
     },
     "execution_count": 2,
     "metadata": {},
     "output_type": "execute_result"
    }
   ],
   "source": [
    "using HybridSystems\n",
    "H1 = [0.2 0.8 0   0   0\n",
    "      0   0.2 0.8 0   0\n",
    "      0   0   0.2 0.8 0\n",
    "      0   0   0   0.2 0.8\n",
    "      0.2 0   0   0   0.8]\n",
    "A1 = P' * H1 * P\n",
    "H2 = [1   0   0   0   0\n",
    "      0.8 0.2 0   0   0\n",
    "      0   0   1   0   0\n",
    "      0   0   0.8 0.2 0\n",
    "      0.2 0   0   0   1]\n",
    "A2 = P' * H2 * P\n",
    "H3 = [1   0   0   0   0\n",
    "      0   1   0   0   0\n",
    "      0   0.8 0.2 0   0\n",
    "      0   0   0   1   0\n",
    "      0   0   0   0.2 0.8]\n",
    "A3 = P' * H3 * P\n",
    "function automaton(N)\n",
    "    # See [P17, Figure 2.17] for what automaton(3) should be\n",
    "    a = LightAutomaton(N)\n",
    "    # Node i means, H1 was used i-1 steps ago\n",
    "    add_transition!(a, 1, 1, 1)\n",
    "    for i in 2:N\n",
    "        add_transition!(a, i-1, i, 2)\n",
    "        add_transition!(a, i-1, i, 3)\n",
    "        add_transition!(a, i, 1, 1)\n",
    "    end\n",
    "    display(a)\n",
    "    return a\n",
    "end\n",
    "ss(N) = discreteswitchedsystem([A1, A2, A3], automaton(N))"
   ]
  },
  {
   "cell_type": "code",
   "execution_count": 3,
   "metadata": {},
   "outputs": [
    {
     "data": {
      "text/plain": [
       "LightAutomaton{LightGraphs.SimpleGraphs.SimpleDiGraph{Int64},LightGraphs.SimpleGraphs.SimpleEdge{Int64}}({2, 3} directed simple Int64 graph, Dict(Edge 1 => 2=>Dict(2=>2,3=>3),Edge 2 => 1=>Dict(4=>1),Edge 1 => 1=>Dict(1=>1)), 4, 4)"
      ]
     },
     "metadata": {},
     "output_type": "display_data"
    },
    {
     "name": "stdout",
     "output_type": "stream",
     "text": [
      "t = HybridSystems.LightTransition{LightGraphs.SimpleGraphs.SimpleEdge{Int64}}(Edge 1 => 1, 1)\n",
      "t = HybridSystems.LightTransition{LightGraphs.SimpleGraphs.SimpleEdge{Int64}}(Edge 1 => 2, 2)\n",
      "t = HybridSystems.LightTransition{LightGraphs.SimpleGraphs.SimpleEdge{Int64}}(Edge 1 => 2, 3)\n",
      "t = HybridSystems.LightTransition{LightGraphs.SimpleGraphs.SimpleEdge{Int64}}(Edge 2 => 1, 4)\n"
     ]
    }
   ],
   "source": [
    "for t in transitions(automaton(2))\n",
    "    @show t\n",
    "end"
   ]
  },
  {
   "cell_type": "code",
   "execution_count": 4,
   "metadata": {},
   "outputs": [
    {
     "name": "stderr",
     "output_type": "stream",
     "text": [
      "┌ Info: Precompiling SwitchOnSafety [4b7ae085-addf-5b2e-b0f2-71171a701510]\n",
      "└ @ Base loading.jl:1189\n",
      "ERROR: LoadError: LoadError: TypeError: in Type{...} expression, expected UnionAll, got TypeVar\n",
      "Stacktrace:\n",
      " [1] top-level scope at none:0\n",
      " [2] include at ./boot.jl:317 [inlined]\n",
      " [3] include_relative(::Module, ::String) at ./loading.jl:1041\n",
      " [4] include at ./sysimg.jl:29 [inlined]\n",
      " [5] include(::String) at /home/blegat/.julia/dev/SwitchOnSafety/src/SwitchOnSafety.jl:1\n",
      " [6] top-level scope at none:0\n",
      " [7] top-level scope at none:2\n",
      "in expression starting at /home/blegat/.julia/dev/SwitchOnSafety/src/sosdata.jl:3\n",
      "in expression starting at /home/blegat/.julia/dev/SwitchOnSafety/src/SwitchOnSafety.jl:71\n"
     ]
    },
    {
     "ename": "ErrorException",
     "evalue": "Failed to precompile SwitchOnSafety [4b7ae085-addf-5b2e-b0f2-71171a701510] to /home/blegat/.julia/compiled/v1.0/SwitchOnSafety/PA0qe.ji.",
     "output_type": "error",
     "traceback": [
      "Failed to precompile SwitchOnSafety [4b7ae085-addf-5b2e-b0f2-71171a701510] to /home/blegat/.julia/compiled/v1.0/SwitchOnSafety/PA0qe.ji.",
      "",
      "Stacktrace:",
      " [1] macro expansion at ./logging.jl:313 [inlined]",
      " [2] compilecache(::Base.PkgId, ::String) at ./loading.jl:1187",
      " [3] macro expansion at ./logging.jl:311 [inlined]",
      " [4] _require(::Base.PkgId) at ./loading.jl:944",
      " [5] require(::Base.PkgId) at ./loading.jl:855",
      " [6] macro expansion at ./logging.jl:311 [inlined]",
      " [7] require(::Module, ::Symbol) at ./loading.jl:837",
      " [8] top-level scope at In[4]:1"
     ]
    }
   ],
   "source": [
    "using SwitchOnSafety\n",
    "ρ(A1)"
   ]
  },
  {
   "cell_type": "code",
   "execution_count": 5,
   "metadata": {},
   "outputs": [],
   "source": [
    "using MathOptInterfaceMosek\n",
    "using JuMP\n",
    "factory = with_optimizer(MosekOptimizer, QUIET=true);"
   ]
  },
  {
   "cell_type": "code",
   "execution_count": 6,
   "metadata": {},
   "outputs": [
    {
     "name": "stderr",
     "output_type": "stream",
     "text": [
      "┌ Info: Precompiling SwitchOnSafety [4b7ae085-addf-5b2e-b0f2-71171a701510]\n",
      "└ @ Base loading.jl:1189\n",
      "ERROR: LoadError: LoadError: TypeError: in Type{...} expression, expected UnionAll, got TypeVar\n",
      "Stacktrace:\n",
      " [1] top-level scope at none:0\n",
      " [2] include at ./boot.jl:317 [inlined]\n",
      " [3] include_relative(::Module, ::String) at ./loading.jl:1041\n",
      " [4] include at ./sysimg.jl:29 [inlined]\n",
      " [5] include(::String) at /home/blegat/.julia/dev/SwitchOnSafety/src/SwitchOnSafety.jl:1\n",
      " [6] top-level scope at none:0\n",
      " [7] top-level scope at none:2\n",
      "in expression starting at /home/blegat/.julia/dev/SwitchOnSafety/src/sosdata.jl:3\n",
      "in expression starting at /home/blegat/.julia/dev/SwitchOnSafety/src/SwitchOnSafety.jl:71\n"
     ]
    },
    {
     "ename": "ErrorException",
     "evalue": "Failed to precompile SwitchOnSafety [4b7ae085-addf-5b2e-b0f2-71171a701510] to /home/blegat/.julia/compiled/v1.0/SwitchOnSafety/PA0qe.ji.",
     "output_type": "error",
     "traceback": [
      "Failed to precompile SwitchOnSafety [4b7ae085-addf-5b2e-b0f2-71171a701510] to /home/blegat/.julia/compiled/v1.0/SwitchOnSafety/PA0qe.ji.",
      "",
      "Stacktrace:",
      " [1] macro expansion at ./logging.jl:313 [inlined]",
      " [2] compilecache(::Base.PkgId, ::String) at ./loading.jl:1187",
      " [3] macro expansion at ./logging.jl:311 [inlined]",
      " [4] _require(::Base.PkgId) at ./loading.jl:944",
      " [5] require(::Base.PkgId) at ./loading.jl:855",
      " [6] macro expansion at ./logging.jl:311 [inlined]",
      " [7] require(::Module, ::Symbol) at ./loading.jl:837",
      " [8] top-level scope at In[6]:1"
     ]
    }
   ],
   "source": [
    "using SwitchOnSafety\n",
    "soslyapb(ss(1), 1; factory=factory, tol=1e-7, verbose=1)"
   ]
  },
  {
   "cell_type": "code",
   "execution_count": 45,
   "metadata": {},
   "outputs": [
    {
     "data": {
      "text/plain": [
       "LightAutomaton{LightGraphs.SimpleGraphs.SimpleDiGraph{Int64},LightGraphs.SimpleGraphs.SimpleEdge{Int64}}({2, 3} directed simple Int64 graph, Dict(Edge 1 => 2=>3,Edge 2 => 1=>1,Edge 1 => 1=>1))"
      ]
     },
     "metadata": {},
     "output_type": "display_data"
    },
    {
     "name": "stdout",
     "output_type": "stream",
     "text": [
      "Lower bound: 0.9082094659721799\n",
      "Upper bound: 0.9082649003705496\n",
      "Log-diff   : 6.103515625002776e-5 ≤ 0.0001\n"
     ]
    },
    {
     "data": {
      "text/plain": [
       "(0.7139901229663629, 0.9082649003705496)"
      ]
     },
     "execution_count": 45,
     "metadata": {},
     "output_type": "execute_result"
    }
   ],
   "source": [
    "using SwitchOnSafety\n",
    "soslyapb(ss(2), 1; factory=factory, tol=1e-4, verbose=1)"
   ]
  },
  {
   "cell_type": "code",
   "execution_count": 42,
   "metadata": {},
   "outputs": [
    {
     "name": "stdout",
     "output_type": "stream",
     "text": [
      "Lower bound: 0.9652509577084115\n",
      "Upper bound: 0.9653098737493923\n",
      "Log-diff   : 6.103515624994449e-5 ≤ 0.0001\n"
     ]
    },
    {
     "data": {
      "text/plain": [
       "(0.7117304054040449, 0.9653098737493923)"
      ]
     },
     "execution_count": 42,
     "metadata": {},
     "output_type": "execute_result"
    }
   ],
   "source": [
    "using SwitchOnSafety\n",
    "soslyapb(ss(3), 1; factory=factory, tol=1e-4, verbose=1)"
   ]
  },
  {
   "cell_type": "code",
   "execution_count": 43,
   "metadata": {},
   "outputs": [
    {
     "name": "stdout",
     "output_type": "stream",
     "text": [
      "Lower bound: 0.981169815633469\n",
      "Upper bound: 0.9812297033140823\n",
      "Log-diff   : 6.103515625002776e-5 ≤ 0.0001\n"
     ]
    },
    {
     "data": {
      "text/plain": [
       "(0.7067079941582048, 0.9812297033140823)"
      ]
     },
     "execution_count": 43,
     "metadata": {},
     "output_type": "execute_result"
    }
   ],
   "source": [
    "using SwitchOnSafety\n",
    "soslyapb(ss(4), 1; factory=factory, tol=1e-4, verbose=1)"
   ]
  },
  {
   "cell_type": "code",
   "execution_count": null,
   "metadata": {},
   "outputs": [],
   "source": []
  }
 ],
 "metadata": {
  "kernelspec": {
   "display_name": "Julia 1.0.1",
   "language": "julia",
   "name": "julia-1.0"
  },
  "language_info": {
   "file_extension": ".jl",
   "mimetype": "application/julia",
   "name": "julia",
   "version": "1.0.1"
  }
 },
 "nbformat": 4,
 "nbformat_minor": 2
}
