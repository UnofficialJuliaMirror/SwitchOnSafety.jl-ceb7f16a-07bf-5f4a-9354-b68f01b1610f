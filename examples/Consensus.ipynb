{
 "cells": [
  {
   "cell_type": "code",
   "execution_count": 1,
   "metadata": {},
   "outputs": [
    {
     "name": "stdout",
     "output_type": "stream",
     "text": [
      "P' * ones(5) = [0.0, 0.0, 0.0, 0.0]\n"
     ]
    },
    {
     "data": {
      "text/plain": [
       "4×4 Array{Float64,2}:\n",
       " 1.0   0.0   0.0   0.0\n",
       " 0.0   1.0   0.0  -0.0\n",
       " 0.0   0.0   1.0  -0.0\n",
       " 0.0  -0.0  -0.0   1.0"
      ]
     },
     "execution_count": 1,
     "metadata": {},
     "output_type": "execute_result"
    }
   ],
   "source": [
    "using LinearAlgebra\n",
    "P = [ 1.0  0.0  1.0  2.0\n",
    "     -1.0  0.0  1.0  2.0\n",
    "      0.0  1.0  0.0 -3.0\n",
    "      0.0 -1.0  0.0 -3.0\n",
    "      0.0  0.0 -2.0  2.0]\n",
    "for i in 1:4\n",
    "    P[:, i] /= norm(P[:, i])\n",
    "end\n",
    "@show P' * ones(5)\n",
    "round.(P' * P, digits=16)"
   ]
  },
  {
   "cell_type": "code",
   "execution_count": 2,
   "metadata": {},
   "outputs": [
    {
     "data": {
      "text/plain": [
       "ss (generic function with 1 method)"
      ]
     },
     "execution_count": 2,
     "metadata": {},
     "output_type": "execute_result"
    }
   ],
   "source": [
    "using HybridSystems\n",
    "H1 = [0.2 0.8 0   0   0\n",
    "      0   0.2 0.8 0   0\n",
    "      0   0   0.2 0.8 0\n",
    "      0   0   0   0.2 0.8\n",
    "      0.2 0   0   0   0.8]\n",
    "A1 = P' * H1 * P\n",
    "H2 = [1   0   0   0   0\n",
    "      0.8 0.2 0   0   0\n",
    "      0   0   1   0   0\n",
    "      0   0   0.8 0.2 0\n",
    "      0.2 0   0   0   1]\n",
    "A2 = P' * H2 * P\n",
    "H3 = [1   0   0   0   0\n",
    "      0   1   0   0   0\n",
    "      0   0.8 0.2 0   0\n",
    "      0   0   0   1   0\n",
    "      0   0   0   0.2 0.8]\n",
    "A3 = P' * H3 * P\n",
    "function automaton(N)\n",
    "    # See [P17, Figure 2.17] for what automaton(3) should be\n",
    "    a = LightAutomaton(N)\n",
    "    # Node i means, H1 was used i-1 steps ago\n",
    "    add_transition!(a, 1, 1, 1)\n",
    "    for i in 2:N\n",
    "        add_transition!(a, i-1, i, 2)\n",
    "        add_transition!(a, i-1, i, 3)\n",
    "        add_transition!(a, i, 1, 1)\n",
    "    end\n",
    "    display(a)\n",
    "    return a\n",
    "end\n",
    "ss(N) = discreteswitchedsystem([A1, A2, A3], automaton(N))"
   ]
  },
  {
   "cell_type": "code",
   "execution_count": 3,
   "metadata": {},
   "outputs": [
    {
     "data": {
      "text/plain": [
       "LightAutomaton{LightGraphs.SimpleGraphs.SimpleDiGraph{Int64},LightGraphs.SimpleGraphs.SimpleEdge{Int64}}({2, 3} directed simple Int64 graph, Dict(Edge 1 => 1=>Dict(1=>1),Edge 1 => 2=>Dict(2=>2,3=>3),Edge 2 => 1=>Dict(4=>1)), 4, 4)"
      ]
     },
     "metadata": {},
     "output_type": "display_data"
    },
    {
     "name": "stdout",
     "output_type": "stream",
     "text": [
      "t = HybridSystems.LightTransition{LightGraphs.SimpleGraphs.SimpleEdge{Int64}}(Edge 1 => 1, 1)\n",
      "t = HybridSystems.LightTransition{LightGraphs.SimpleGraphs.SimpleEdge{Int64}}(Edge 1 => 2, 2)\n",
      "t = HybridSystems.LightTransition{LightGraphs.SimpleGraphs.SimpleEdge{Int64}}(Edge 1 => 2, 3)\n",
      "t = HybridSystems.LightTransition{LightGraphs.SimpleGraphs.SimpleEdge{Int64}}(Edge 2 => 1, 4)\n"
     ]
    }
   ],
   "source": [
    "for t in transitions(automaton(2))\n",
    "    @show t\n",
    "end"
   ]
  },
  {
   "cell_type": "code",
   "execution_count": 4,
   "metadata": {},
   "outputs": [
    {
     "data": {
      "text/plain": [
       "0.7273364816948462"
      ]
     },
     "execution_count": 4,
     "metadata": {},
     "output_type": "execute_result"
    }
   ],
   "source": [
    "using SwitchOnSafety\n",
    "ρ(A1)"
   ]
  },
  {
   "cell_type": "code",
   "execution_count": 5,
   "metadata": {
    "collapsed": true
   },
   "outputs": [],
   "source": [
    "using MathOptInterfaceMosek\n",
    "using JuMP\n",
    "factory = with_optimizer(MosekOptimizer, QUIET=true);"
   ]
  },
  {
   "cell_type": "code",
   "execution_count": 6,
   "metadata": {},
   "outputs": [
    {
     "data": {
      "text/plain": [
       "LightAutomaton{LightGraphs.SimpleGraphs.SimpleDiGraph{Int64},LightGraphs.SimpleGraphs.SimpleEdge{Int64}}({1, 1} directed simple Int64 graph, Dict(Edge 1 => 1=>Dict(1=>1)), 1, 1)"
      ]
     },
     "metadata": {},
     "output_type": "display_data"
    },
    {
     "name": "stdout",
     "output_type": "stream",
     "text": [
      "Lower bound: 0.7273364445083259\n",
      "Upper bound: 0.7273364878609576\n",
      "Log-diff   : 5.960464477539063e-8 ≤ 1.0e-7\n"
     ]
    },
    {
     "data": {
      "text/plain": [
       "(0.7273364445083259, 0.7273364878609576)"
      ]
     },
     "execution_count": 6,
     "metadata": {},
     "output_type": "execute_result"
    }
   ],
   "source": [
    "using SwitchOnSafety\n",
    "soslyapb(ss(1), 1; factory=factory, tol=1e-7, verbose=1)"
   ]
  },
  {
   "cell_type": "code",
   "execution_count": 12,
   "metadata": {},
   "outputs": [
    {
     "data": {
      "text/plain": [
       "LightAutomaton{LightGraphs.SimpleGraphs.SimpleDiGraph{Int64},LightGraphs.SimpleGraphs.SimpleEdge{Int64}}({2, 3} directed simple Int64 graph, Dict(Edge 1 => 1=>Dict(1=>1),Edge 1 => 2=>Dict(2=>2,3=>3),Edge 2 => 1=>Dict(4=>1)), 4, 4)"
      ]
     },
     "metadata": {},
     "output_type": "display_data"
    },
    {
     "name": "stdout",
     "output_type": "stream",
     "text": [
      "Lower bound: 1.0120936982417008\n",
      "Upper bound: 1.012101419933283\n",
      "Log-diff   : 7.629394531036629e-6 ≤ 1.0e-5\n"
     ]
    },
    {
     "data": {
      "text/plain": [
       "(0.795658855292319, 1.012101419933283)"
      ]
     },
     "execution_count": 12,
     "metadata": {},
     "output_type": "execute_result"
    }
   ],
   "source": [
    "using SwitchOnSafety\n",
    "soslyapb(ss(2), 1; factory=factory, tol=1e-5, verbose=1)"
   ]
  },
  {
   "cell_type": "code",
   "execution_count": 11,
   "metadata": {},
   "outputs": [
    {
     "data": {
      "text/plain": [
       "LightAutomaton{LightGraphs.SimpleGraphs.SimpleDiGraph{Int64},LightGraphs.SimpleGraphs.SimpleEdge{Int64}}({3, 5} directed simple Int64 graph, Dict(Edge 1 => 1=>Dict(1=>1),Edge 3 => 1=>Dict(7=>1),Edge 1 => 2=>Dict(2=>2,3=>3),Edge 2 => 3=>Dict(5=>2,6=>3),Edge 2 => 1=>Dict(4=>1)), 7, 7)"
      ]
     },
     "metadata": {},
     "output_type": "display_data"
    },
    {
     "name": "stdout",
     "output_type": "stream",
     "text": [
      "Lower bound: 1.0872521381151024\n",
      "Upper bound: 1.0872604332222622\n",
      "Log-diff   : 7.629394531166733e-6 ≤ 1.0e-5\n"
     ]
    },
    {
     "data": {
      "text/plain": [
       "(0.8016883058828722, 1.0872604332222622)"
      ]
     },
     "execution_count": 11,
     "metadata": {},
     "output_type": "execute_result"
    }
   ],
   "source": [
    "using SwitchOnSafety\n",
    "soslyapb(ss(3), 1; factory=factory, tol=1e-5, verbose=1)"
   ]
  },
  {
   "cell_type": "code",
   "execution_count": 10,
   "metadata": {},
   "outputs": [
    {
     "data": {
      "text/plain": [
       "LightAutomaton{LightGraphs.SimpleGraphs.SimpleDiGraph{Int64},LightGraphs.SimpleGraphs.SimpleEdge{Int64}}({4, 7} directed simple Int64 graph, Dict(Edge 1 => 1=>Dict(1=>1),Edge 3 => 1=>Dict(7=>1),Edge 1 => 2=>Dict(2=>2,3=>3),Edge 4 => 1=>Dict(10=>1),Edge 2 => 3=>Dict(5=>2,6=>3),Edge 2 => 1=>Dict(4=>1),Edge 3 => 4=>Dict(9=>3,8=>2)), 10, 10)"
      ]
     },
     "metadata": {},
     "output_type": "display_data"
    },
    {
     "name": "stdout",
     "output_type": "stream",
     "text": [
      "Lower bound: 1.1047868046212521\n",
      "Upper bound: 1.1047952335078113\n",
      "Log-diff   : 7.629394531402656e-6 ≤ 1.0e-5\n"
     ]
    },
    {
     "data": {
      "text/plain": [
       "(0.7957457050003699, 1.1047952335078113)"
      ]
     },
     "execution_count": 10,
     "metadata": {},
     "output_type": "execute_result"
    }
   ],
   "source": [
    "using SwitchOnSafety\n",
    "soslyapb(ss(4), 1; factory=factory, tol=1e-5, verbose=1)"
   ]
  },
  {
   "cell_type": "code",
   "execution_count": null,
   "metadata": {
    "collapsed": true
   },
   "outputs": [],
   "source": []
  }
 ],
 "metadata": {
  "kernelspec": {
   "display_name": "Julia 1.0.1",
   "language": "julia",
   "name": "julia-1.0"
  },
  "language_info": {
   "file_extension": ".jl",
   "mimetype": "application/julia",
   "name": "julia",
   "version": "1.0.1"
  }
 },
 "nbformat": 4,
 "nbformat_minor": 2
}
