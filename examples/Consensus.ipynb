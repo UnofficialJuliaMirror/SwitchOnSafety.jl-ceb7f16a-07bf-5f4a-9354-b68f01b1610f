{
 "cells": [
  {
   "cell_type": "markdown",
   "metadata": {},
   "source": [
    "In this notebook, we show how to apply the JSR theory to compute the rate of convergence of agents to consensus.\n",
    "This example is [Example 2.52, P17].\n",
    "\n",
    "[P17] M. Philippe.\n",
    "*Path-Complete Methods and Analysis of Constrained Switching Systems*\n",
    "Doctoral dissertation, UCLouvain, **2017**"
   ]
  },
  {
   "cell_type": "code",
   "execution_count": 1,
   "metadata": {},
   "outputs": [
    {
     "name": "stdout",
     "output_type": "stream",
     "text": [
      "P' * ones(5) = [0.0, 0.0, 0.0, 0.0]\n"
     ]
    },
    {
     "data": {
      "text/plain": [
       "4×4 Array{Float64,2}:\n",
       " 1.0   0.0   0.0   0.0\n",
       " 0.0   1.0   0.0  -0.0\n",
       " 0.0   0.0   1.0  -0.0\n",
       " 0.0  -0.0  -0.0   1.0"
      ]
     },
     "execution_count": 1,
     "metadata": {},
     "output_type": "execute_result"
    }
   ],
   "source": [
    "using LinearAlgebra\n",
    "P = [ 1.0  0.0  1.0  2.0\n",
    "     -1.0  0.0  1.0  2.0\n",
    "      0.0  1.0  0.0 -3.0\n",
    "      0.0 -1.0  0.0 -3.0\n",
    "      0.0  0.0 -2.0  2.0]\n",
    "for i in 1:4\n",
    "    P[:, i] /= norm(P[:, i])\n",
    "end\n",
    "@show P' * ones(5)\n",
    "round.(P' * P, digits=16)"
   ]
  },
  {
   "cell_type": "code",
   "execution_count": 2,
   "metadata": {},
   "outputs": [
    {
     "data": {
      "text/plain": [
       "ss (generic function with 1 method)"
      ]
     },
     "execution_count": 2,
     "metadata": {},
     "output_type": "execute_result"
    }
   ],
   "source": [
    "using HybridSystems\n",
    "H1 = [0.2 0.8 0   0   0\n",
    "      0   0.2 0.8 0   0\n",
    "      0   0   0.2 0.8 0\n",
    "      0   0   0   0.2 0.8\n",
    "      0.2 0   0   0   0.8]\n",
    "A1 = P' * H1 * P\n",
    "H2 = [1   0   0   0   0\n",
    "      0.8 0.2 0   0   0\n",
    "      0   0   1   0   0\n",
    "      0   0   0.8 0.2 0\n",
    "      0.2 0   0   0   1]\n",
    "A2 = P' * H2 * P\n",
    "H3 = [1   0   0   0   0\n",
    "      0   1   0   0   0\n",
    "      0   0.8 0.2 0   0\n",
    "      0   0   0   1   0\n",
    "      0   0   0   0.2 0.8]\n",
    "A3 = P' * H3 * P\n",
    "function automaton(N)\n",
    "    # See [P17, Figure 2.17] for what automaton(3) should be\n",
    "    a = LightAutomaton(N)\n",
    "    # Node i means, H1 was used i-1 steps ago\n",
    "    add_transition!(a, 1, 1, 1)\n",
    "    for i in 2:N\n",
    "        add_transition!(a, i-1, i, 2)\n",
    "        add_transition!(a, i-1, i, 3)\n",
    "        add_transition!(a, i, 1, 1)\n",
    "    end\n",
    "    return a\n",
    "end\n",
    "ss(N) = discreteswitchedsystem([A1, A2, A3], automaton(N))"
   ]
  },
  {
   "cell_type": "code",
   "execution_count": 3,
   "metadata": {},
   "outputs": [
    {
     "name": "stdout",
     "output_type": "stream",
     "text": [
      "t = HybridSystems.LightTransition{LightGraphs.SimpleGraphs.SimpleEdge{Int64}}(Edge 1 => 1, 1)\n",
      "t = HybridSystems.LightTransition{LightGraphs.SimpleGraphs.SimpleEdge{Int64}}(Edge 1 => 2, 2)\n",
      "t = HybridSystems.LightTransition{LightGraphs.SimpleGraphs.SimpleEdge{Int64}}(Edge 1 => 2, 3)\n",
      "t = HybridSystems.LightTransition{LightGraphs.SimpleGraphs.SimpleEdge{Int64}}(Edge 2 => 1, 4)\n"
     ]
    }
   ],
   "source": [
    "for t in transitions(automaton(2))\n",
    "    @show t\n",
    "end"
   ]
  },
  {
   "cell_type": "code",
   "execution_count": 4,
   "metadata": {
    "collapsed": true
   },
   "outputs": [],
   "source": [
    "using MathOptInterfaceMosek\n",
    "using JuMP\n",
    "factory = with_optimizer(MosekOptimizer, QUIET=true);"
   ]
  },
  {
   "cell_type": "markdown",
   "metadata": {},
   "source": [
    "# $N = 1$\n",
    "\n",
    "With $N = 1$, the system is not switched, there is only one matrix and the JSR is approximately $0.7273$."
   ]
  },
  {
   "cell_type": "code",
   "execution_count": 25,
   "metadata": {},
   "outputs": [
    {
     "data": {
      "text/plain": [
       "0.7273364816948462"
      ]
     },
     "execution_count": 25,
     "metadata": {},
     "output_type": "execute_result"
    }
   ],
   "source": [
    "using SwitchOnSafety\n",
    "ρ(A1)"
   ]
  },
  {
   "cell_type": "code",
   "execution_count": 6,
   "metadata": {},
   "outputs": [
    {
     "name": "stdout",
     "output_type": "stream",
     "text": [
      "Lower bound: 0.7273364445083259\n",
      "Upper bound: 0.7273364878609576\n",
      "Log-diff   : 5.960464477539063e-8 ≤ 1.0e-7\n"
     ]
    },
    {
     "data": {
      "text/plain": [
       "(0.7273364445083259, 0.7273364878609576)"
      ]
     },
     "execution_count": 6,
     "metadata": {},
     "output_type": "execute_result"
    }
   ],
   "source": [
    "using SwitchOnSafety\n",
    "soslyapb(ss(1), 1; factory=factory, tol=1e-7, verbose=1)"
   ]
  },
  {
   "cell_type": "markdown",
   "metadata": {},
   "source": [
    "# $N = 2$"
   ]
  },
  {
   "cell_type": "code",
   "execution_count": 7,
   "metadata": {
    "collapsed": true
   },
   "outputs": [],
   "source": [
    "ss2 = ss(2);"
   ]
  },
  {
   "cell_type": "markdown",
   "metadata": {},
   "source": [
    "We start with CQLF (Common Quadratic Lyapunov Function)"
   ]
  },
  {
   "cell_type": "code",
   "execution_count": 8,
   "metadata": {},
   "outputs": [
    {
     "name": "stdout",
     "output_type": "stream",
     "text": [
      "Lower bound: 1.012097813034241\n",
      "Upper bound: 1.0120978670343617\n",
      "Log-diff   : 5.3354644641637194e-8 ≤ 1.0e-7\n"
     ]
    },
    {
     "data": {
      "text/plain": [
       "(0.7956620901421436, 1.0120978670343617)"
      ]
     },
     "execution_count": 8,
     "metadata": {},
     "output_type": "execute_result"
    }
   ],
   "source": [
    "using SwitchOnSafety\n",
    "soslyapb(ss2, 1; factory=factory, tol=1e-7, verbose=1)"
   ]
  },
  {
   "cell_type": "code",
   "execution_count": 9,
   "metadata": {},
   "outputs": [
    {
     "name": "stdout",
     "output_type": "stream",
     "text": [
      "  1.668641 seconds (4.89 M allocations: 255.551 MiB, 9.12% gc time)\n",
      "  0.363072 seconds (774.72 k allocations: 45.280 MiB, 5.73% gc time)\n"
     ]
    },
    {
     "data": {
      "text/plain": [
       "PSW(0.939188, [1, 3, 1, 3, 1, 2, 1, 2, 1, 2, 1, 2, 1, 2, 1, 3, 1, 3, 1, 3, 1, 2, 1, 2, 1, 2, 1, 2, 1, 2])"
      ]
     },
     "execution_count": 9,
     "metadata": {},
     "output_type": "execute_result"
    }
   ],
   "source": [
    "@time seq = sosbuildsequence(ss2, 1, niter=100, l=1, p_0=:Primal)\n",
    "@time psw = findsmp(seq)"
   ]
  },
  {
   "cell_type": "code",
   "execution_count": 15,
   "metadata": {},
   "outputs": [
    {
     "name": "stdout",
     "output_type": "stream",
     "text": [
      "Lower bound: 0.9411674340908989\n",
      "Upper bound: 0.9411961566798672\n",
      "Log-diff   : 3.0517578125090206e-5 ≤ 0.0001\n"
     ]
    },
    {
     "data": {
      "text/plain": [
       "(0.8344877800673577, 0.9411961566798672)"
      ]
     },
     "execution_count": 15,
     "metadata": {},
     "output_type": "execute_result"
    }
   ],
   "source": [
    "using SwitchOnSafety\n",
    "soslyapb(ss2, 2; factory=factory, tol=1e-4, verbose=1)"
   ]
  },
  {
   "cell_type": "code",
   "execution_count": 17,
   "metadata": {},
   "outputs": [
    {
     "name": "stdout",
     "output_type": "stream",
     "text": [
      "  0.509611 seconds (3.84 M allocations: 330.906 MiB, 19.24% gc time)\n",
      "  0.019093 seconds (178.23 k allocations: 16.184 MiB)\n"
     ]
    },
    {
     "data": {
      "text/plain": [
       "PSW(0.939188, [3, 1, 3, 1, 3, 1, 2, 1, 2, 1, 2, 1, 2, 1, 2, 1, 3, 1, 3, 1, 2, 1, 2, 1, 2, 1, 2, 1, 2, 1])"
      ]
     },
     "execution_count": 17,
     "metadata": {},
     "output_type": "execute_result"
    }
   ],
   "source": [
    "@time seq = sosbuildsequence(ss2, 2, niter=100, l=2, p_0=:Primal)\n",
    "@time psw = findsmp(seq)"
   ]
  },
  {
   "cell_type": "code",
   "execution_count": 19,
   "metadata": {},
   "outputs": [
    {
     "name": "stdout",
     "output_type": "stream",
     "text": [
      "Lower bound: 0.939646390527466\n",
      "Upper bound: 0.9404209543616947\n",
      "Log-diff   : 0.0008239746093749722 ≤ 0.001\n"
     ]
    },
    {
     "data": {
      "text/plain": [
       "(0.8672277705057261, 0.9404209543616947)"
      ]
     },
     "execution_count": 19,
     "metadata": {},
     "output_type": "execute_result"
    }
   ],
   "source": [
    "using SwitchOnSafety\n",
    "soslyapb(ss2, 3; factory=factory, tol=1e-3, verbose=1)"
   ]
  },
  {
   "cell_type": "code",
   "execution_count": 24,
   "metadata": {},
   "outputs": [
    {
     "name": "stdout",
     "output_type": "stream",
     "text": [
      "  1.778828 seconds (13.32 M allocations: 1.151 GiB, 14.25% gc time)\n",
      "  0.002662 seconds (25.15 k allocations: 2.366 MiB)\n"
     ]
    },
    {
     "data": {
      "text/plain": [
       "PSW(0.939188, [3, 1, 2, 1, 2, 1, 2, 1, 2, 1, 2, 1, 3, 1, 3, 1, 2, 1, 2, 1, 2, 1, 2, 1, 2, 1, 3, 1, 3, 1])"
      ]
     },
     "execution_count": 24,
     "metadata": {},
     "output_type": "execute_result"
    }
   ],
   "source": [
    "@time seq = sosbuildsequence(ss2, 3, niter=45, l=1, p_0=:Primal)\n",
    "@time psw = findsmp(seq)"
   ]
  },
  {
   "cell_type": "markdown",
   "metadata": {},
   "source": [
    "# $N = 3$"
   ]
  },
  {
   "cell_type": "code",
   "execution_count": 18,
   "metadata": {},
   "outputs": [
    {
     "name": "stdout",
     "output_type": "stream",
     "text": [
      "Lower bound: 1.0872588130791716\n",
      "Upper bound: 1.087258910287689\n",
      "Log-diff   : 8.940696726023045e-8 ≤ 1.0e-7\n"
     ]
    },
    {
     "data": {
      "text/plain": [
       "(0.8016932276856896, 1.087258910287689)"
      ]
     },
     "execution_count": 18,
     "metadata": {},
     "output_type": "execute_result"
    }
   ],
   "source": [
    "using SwitchOnSafety\n",
    "soslyapb(ss(3), 1; factory=factory, tol=1e-7, verbose=1)"
   ]
  },
  {
   "cell_type": "markdown",
   "metadata": {},
   "source": [
    "# $N = 4$"
   ]
  },
  {
   "cell_type": "code",
   "execution_count": 19,
   "metadata": {},
   "outputs": [
    {
     "name": "stdout",
     "output_type": "stream",
     "text": [
      "Lower bound: 1.1047906239525065\n",
      "Upper bound: 1.1047906898031612\n",
      "Log-diff   : 5.960464481702399e-8 ≤ 1.0e-7\n"
     ]
    },
    {
     "data": {
      "text/plain": [
       "(0.7957484559532496, 1.1047906898031612)"
      ]
     },
     "execution_count": 19,
     "metadata": {},
     "output_type": "execute_result"
    }
   ],
   "source": [
    "using SwitchOnSafety\n",
    "soslyapb(ss(4), 1; factory=factory, tol=1e-7, verbose=1)"
   ]
  },
  {
   "cell_type": "code",
   "execution_count": null,
   "metadata": {
    "collapsed": true
   },
   "outputs": [],
   "source": []
  },
  {
   "cell_type": "markdown",
   "metadata": {},
   "source": []
  }
 ],
 "metadata": {
  "kernelspec": {
   "display_name": "Julia 1.0.1",
   "language": "julia",
   "name": "julia-1.0"
  },
  "language_info": {
   "file_extension": ".jl",
   "mimetype": "application/julia",
   "name": "julia",
   "version": "1.0.1"
  }
 },
 "nbformat": 4,
 "nbformat_minor": 2
}
