{
 "cells": [
  {
   "cell_type": "code",
   "execution_count": 3,
   "metadata": {},
   "outputs": [
    {
     "data": {
      "text/plain": [
       "Hybrid System with automaton OneStateAutomaton(3)"
      ]
     },
     "execution_count": 3,
     "metadata": {},
     "output_type": "execute_result"
    }
   ],
   "source": [
    "using HybridSystems\n",
    "A1 = [0.2 0.8 0   0   0\n",
    "      0   0.2 0.8 0   0\n",
    "      0   0   0.2 0.8 0\n",
    "      0   0   0   0.2 0.8\n",
    "      0.2 0   0   0   0.8]\n",
    "A2 = [1   0   0   0   0\n",
    "      0.8 0.2 0   0   0\n",
    "      0   0   1   0   0\n",
    "      0   0   0.8 0.2 0\n",
    "      0.2 0   0   0   1]\n",
    "A3 = [1   0   0   0   0\n",
    "      0   1   0   0   0\n",
    "      0   0.8 0.2 0   0\n",
    "      0   0   0   1   0\n",
    "      0   0   0   0.2 0.8]\n",
    "s = discreteswitchedsystem([A1, A2, A3])"
   ]
  },
  {
   "cell_type": "code",
   "execution_count": 2,
   "metadata": {},
   "outputs": [
    {
     "name": "stderr",
     "output_type": "stream",
     "text": [
      "┌ Info: Recompiling stale cache file /home/blegat/.julia/compiled/v1.0/MathOptInterfaceMosek/sqIeN.ji for MathOptInterfaceMosek [0087ddc6-3964-5e57-817f-9937aefb0357]\n",
      "└ @ Base loading.jl:1187\n",
      "┌ Info: Recompiling stale cache file /home/blegat/.julia/compiled/v1.0/JuMP/DmXqY.ji for JuMP [4076af6c-e467-56ae-b986-b466b2749572]\n",
      "└ @ Base loading.jl:1187\n"
     ]
    }
   ],
   "source": [
    "using MathOptInterfaceMosek\n",
    "using JuMP\n",
    "factory = with_optimizer(MosekOptimizer, QUIET=true);"
   ]
  },
  {
   "cell_type": "code",
   "execution_count": 4,
   "metadata": {},
   "outputs": [
    {
     "name": "stderr",
     "output_type": "stream",
     "text": [
      "┌ Info: Recompiling stale cache file /home/blegat/.julia/compiled/v1.0/SwitchOnSafety/PA0qe.ji for SwitchOnSafety [4b7ae085-addf-5b2e-b0f2-71171a701510]\n",
      "└ @ Base loading.jl:1187\n"
     ]
    },
    {
     "name": "stdout",
     "output_type": "stream",
     "text": [
      "Lower bound: 1.1268829229518906\n",
      "Upper bound: 1.126891520419097\n",
      "Log-diff   : 7.6293945312222444e-6 ≤ 1.0e-5\n"
     ]
    },
    {
     "data": {
      "text/plain": [
       "(0.6506061589114664, 1.126891520419097)"
      ]
     },
     "execution_count": 4,
     "metadata": {},
     "output_type": "execute_result"
    }
   ],
   "source": [
    "using SwitchOnSafety\n",
    "soslyapb(s, 1; factory=factory, tol=1e-5, verbose=1)"
   ]
  },
  {
   "cell_type": "code",
   "execution_count": null,
   "metadata": {},
   "outputs": [],
   "source": []
  }
 ],
 "metadata": {
  "kernelspec": {
   "display_name": "Julia 1.0.1",
   "language": "julia",
   "name": "julia-1.0"
  },
  "language_info": {
   "file_extension": ".jl",
   "mimetype": "application/julia",
   "name": "julia",
   "version": "1.0.1"
  }
 },
 "nbformat": 4,
 "nbformat_minor": 2
}
