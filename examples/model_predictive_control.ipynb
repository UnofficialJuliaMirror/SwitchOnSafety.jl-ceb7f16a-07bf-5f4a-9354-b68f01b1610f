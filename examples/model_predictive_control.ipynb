{
 "cells": [
  {
   "cell_type": "code",
   "execution_count": null,
   "metadata": {},
   "outputs": [],
   "source": [
    "include(Pkg.dir(\"HybridSystems\", \"examples\", \"cruise_control.jl\"));"
   ]
  },
  {
   "cell_type": "code",
   "execution_count": null,
   "metadata": {},
   "outputs": [],
   "source": [
    "const va = 15.6\n",
    "#const vb = 24.5\n",
    "#const vc = 29.5\n",
    "const v = (va, )\n",
    "const U = 4.\n",
    "const h = 0.4\n",
    "const M = 1\n",
    "const d = 4\n",
    "const m0 = 500"
   ]
  },
  {
   "cell_type": "code",
   "execution_count": null,
   "metadata": {
    "collapsed": true
   },
   "outputs": [],
   "source": [
    "using MathOptInterfaceMosek\n",
    "sdpsolver = MosekOptimizer(LOG=0);"
   ]
  },
  {
   "cell_type": "code",
   "execution_count": null,
   "metadata": {},
   "outputs": [],
   "source": [
    "using CSDP\n",
    "sdpsolver = CSDPOptimizer(printlevel=0);"
   ]
  },
  {
   "cell_type": "code",
   "execution_count": null,
   "metadata": {
    "collapsed": true
   },
   "outputs": [],
   "source": [
    "using SwitchOnSafety\n",
    "const SOS = SwitchOnSafety;"
   ]
  },
  {
   "cell_type": "code",
   "execution_count": null,
   "metadata": {
    "collapsed": true
   },
   "outputs": [],
   "source": [
    "using LightGraphs\n",
    "const MOI = MathOptInterface\n",
    "function fullsolve(T, M, H, oneshot = false, onlyone = false, detcone=MOI.RootDetConeTriangle)\n",
    "    N = 1 + (T+1) * length(v)\n",
    "    hs = cruise_control_example(N, M, vmin = 5., v=v, U=U, H=H, T=T, sym=false, m0 = m0)\n",
    "    function hv(v)\n",
    "        h = zeros(statedim(hs, 1))\n",
    "        for i in 1:M\n",
    "            h[2i] = (5.+v)/2\n",
    "        end\n",
    "        h[2M+1] = (5.+v)/2\n",
    "        h\n",
    "    end\n",
    "    habc = SOS.InteriorPoint.(hv.(v))\n",
    "    ha = habc[1]\n",
    "    hi = fill(ha, N)\n",
    "    if oneshot\n",
    "        λ = Dict(Edge(a, b) => 1. for a in 1:N, b in 1:N)\n",
    "    else\n",
    "        λ = Dict(Edge(a, a) => 1. for a in 1:N)\n",
    "    end\n",
    "    if oneshot\n",
    "        getis(hs, sdpsolver, hi, λ = λ, detcone=detcone);\n",
    "    else\n",
    "        p = Vector{SwitchOnSafety.Ellipsoid{Float64}}(N)\n",
    "        for i in (onlyone ? 1:1 : 1:N)\n",
    "            fillis!(p, i:i, hs, sdpsolver, hi, λ = λ, enabled=1:i, detcone=detcone)\n",
    "            @show inv(det(p[i].Q))\n",
    "        end\n",
    "        p\n",
    "    end\n",
    "end"
   ]
  },
  {
   "cell_type": "code",
   "execution_count": null,
   "metadata": {},
   "outputs": [],
   "source": [
    "import Plots\n",
    "Plots.pyplot()\n",
    "_savefig(name) = Plots.savefig(\"/home/blegat/Dropbox/Research/Images/CruiseControl$name.eps\");"
   ]
  },
  {
   "cell_type": "code",
   "execution_count": null,
   "metadata": {},
   "outputs": [],
   "source": [
    "using JuMP\n",
    "const MOI = MathOptInterface"
   ]
  },
  {
   "cell_type": "code",
   "execution_count": null,
   "metadata": {
    "collapsed": true
   },
   "outputs": [],
   "source": [
    "function elltosoc(p::SOS.Ellipsoid)\n",
    "    U, S, V = svd(p.Q)\n",
    "    L = diagm(sqrt.(S)) * V'\n",
    "    @show p.c\n",
    "    x -> L * (x - p.c)\n",
    "end"
   ]
  },
  {
   "cell_type": "code",
   "execution_count": null,
   "metadata": {},
   "outputs": [],
   "source": [
    "using JuMP\n",
    "const MOI = MathOptInterface\n",
    "\n",
    "function mpcstep(hs, modes, x0, y0, soc, usetol)\n",
    "    m = Model()\n",
    "    nt = length(modes)\n",
    "    y = @variable m [1:nt]\n",
    "    x = @variable m [1:nt, 1:d]\n",
    "    u = @variable m [1:(nt-1)]\n",
    "    @constraint m x[1, :] .== x0\n",
    "    @constraint m y[1] == y0\n",
    "    if usetol\n",
    "        tol = @variable m lowerbound=0\n",
    "    end\n",
    "    for i in 1:nt\n",
    "        q = modes[i]\n",
    "        @assert !Polyhedra.hashyperplanes(stateset(hs, q))\n",
    "        for h in halfspaces(stateset(hs, q))\n",
    "            # h.a[end] != 0 means that it is u <= 4 or u >= -4 for which we don't want to use tolerance\n",
    "            # It is a hard constraint\n",
    "            # Same for h.a[1] != 0\n",
    "            # @constraint m dot(x[i, :], h.a) <= h.β + (usetol && iszero(h.a[1]) && iszero(h.a[end])? tol : 0.)\n",
    "            @constraint m dot(x[i, :], h.a) <= h.β + (usetol ? tol : 0.)\n",
    "        end\n",
    "        if soc !== nothing\n",
    "            @constraint m [1; soc[q](x[i, :])] in MOI.SecondOrderCone(1+d)\n",
    "        end\n",
    "        if i < nt\n",
    "            s = modes[i+1]\n",
    "            σ = symbol(hs.automaton, LightGraphs.Edge(q, s))\n",
    "            r = hs.resetmaps[σ]\n",
    "            @constraint m x[i+1, :] .== r.A * x[i, :] + r.B .* u[i]\n",
    "            if σ == 1\n",
    "                @constraint m y[i+1] == y[i] + h * x[i, d-1]\n",
    "            else\n",
    "                @constraint m y[i+1] == y[i]\n",
    "            end\n",
    "        end\n",
    "    end\n",
    "    @objective m Max y[end] - (usetol ? 1000tol : 0.)\n",
    "    MOI.empty!(sdpsolver)\n",
    "    MOI.Utilities.resetoptimizer!(m, sdpsolver)\n",
    "    JuMP.optimize(m)\n",
    "\n",
    "    @assert JuMP.terminationstatus(m) == MOI.Success\n",
    "    JuMP.dualstatus(m), JuMP.resultvalue.(x)[2:end,:], JuMP.resultvalue.(y)[2:end]\n",
    "end"
   ]
  },
  {
   "cell_type": "code",
   "execution_count": null,
   "metadata": {},
   "outputs": [],
   "source": [
    "function solvempc(nt, nsteps, useellipsoids = false)\n",
    "    T = nsteps\n",
    "    na = div(nt,2)-1\n",
    "    @show nt\n",
    "    @show na\n",
    "    @show T\n",
    "    nN = nt-T-na\n",
    "    @show nN\n",
    "    N = 1 + (T+1) * length(v)\n",
    "    startstate = N\n",
    "    modes = [fill(startstate, nN); collect((T+1):-1:2); fill(1, na)]\n",
    "    @assert length(modes) == nt\n",
    "    y = Vector{Float64}(nt)\n",
    "    x = Matrix{Float64}(nt, d)\n",
    "    x[1, :] = [repmat([0., 10.], M); 10.; 0.]\n",
    "    y[1] = -10. * h\n",
    "    last = nt\n",
    "    if useellipsoids\n",
    "        soc = elltosoc.(fullsolve(T, M, h*T, false, false))\n",
    "    else\n",
    "        soc = nothing\n",
    "    end\n",
    "    hs = cruise_control_example(N, M, vmin = 5., v=v, U=U, H=h*T, T=T, sym=false, m0 = m0)\n",
    "    for i in 1:(nt-1)\n",
    "        j = min(nt, i + nsteps)\n",
    "        _step(usetol) = mpcstep(hs, modes[i:j], x[i, :], y[i], soc, usetol)\n",
    "        ds, X, Y = _step(false)\n",
    "        if ds == MOI.InfeasibilityCertificate\n",
    "            ds, X, Y = _step(true)\n",
    "        end\n",
    "        while ds == MOI.InfeasibilityCertificate && nsteps > 1\n",
    "            nsteps -= 1\n",
    "            ds, X, Y = _step(true)\n",
    "        end\n",
    "        x[i+1, :] = X[1, :]\n",
    "        y[i+1] = Y[1]\n",
    "        if last == nt && (ds == MOI.InfeasibilityCertificate || !(X[1, :] in stateset(hs, modes[i+1])))\n",
    "            @show X[1, :]\n",
    "            last = i+1\n",
    "            #break\n",
    "        end\n",
    "    end\n",
    "    if last < nt\n",
    "        warn(\"$last < $nt\")\n",
    "    end\n",
    "    take = last\n",
    "    #take = nt\n",
    "    if take > nN\n",
    "        @show y[nN]\n",
    "        @show y[nN+1]\n",
    "        @show y[nN+2]\n",
    "        [x[2:nN, :]; x[(nN+2):take, :]], [y[2:nN]; y[(nN+2):take]]\n",
    "    else\n",
    "        x[2:take, :], y[2:take]\n",
    "    end\n",
    "end"
   ]
  },
  {
   "cell_type": "code",
   "execution_count": null,
   "metadata": {},
   "outputs": [],
   "source": [
    "#nt = 77\n",
    "nt = 152\n",
    "tswitch = [30., 30.]\n",
    "t = [0.]\n",
    "for i in 2:(nt-2)\n",
    "    push!(t, t[end] + h)\n",
    "end\n",
    "minsafe = 24"
   ]
  },
  {
   "cell_type": "code",
   "execution_count": null,
   "metadata": {
    "collapsed": true
   },
   "outputs": [],
   "source": [
    "XYok = Dict{String, Tuple{Matrix{Float64}, Vector{Float64}}}()\n",
    "XYko = Dict{String, Tuple{Matrix{Float64}, Vector{Float64}}}();"
   ]
  },
  {
   "cell_type": "code",
   "execution_count": null,
   "metadata": {
    "collapsed": true
   },
   "outputs": [],
   "source": [
    "#XYok[\"unsafe optimal\"] = solvempc(nt, nt - div(nt,2));"
   ]
  },
  {
   "cell_type": "code",
   "execution_count": null,
   "metadata": {
    "collapsed": true
   },
   "outputs": [],
   "source": [
    "#XYok[\"unsafe $minsafe\"] = solvempc(nt, minsafe);"
   ]
  },
  {
   "cell_type": "code",
   "execution_count": null,
   "metadata": {},
   "outputs": [],
   "source": [
    "XYok[\"unsafe $(minsafe-1)\"] = solvempc(nt, minsafe-1);"
   ]
  },
  {
   "cell_type": "code",
   "execution_count": null,
   "metadata": {},
   "outputs": [],
   "source": [
    "length(XYok[\"unsafe $(minsafe-1)\"][2])"
   ]
  },
  {
   "cell_type": "code",
   "execution_count": null,
   "metadata": {
    "collapsed": true
   },
   "outputs": [],
   "source": [
    "#XYko[\"unsafe 8\"] = solvempc(nt, 8);"
   ]
  },
  {
   "cell_type": "code",
   "execution_count": null,
   "metadata": {
    "collapsed": true
   },
   "outputs": [],
   "source": [
    "#XYok[\"safe optimal\"] = solvempc(nt, div(nt,2), true);"
   ]
  },
  {
   "cell_type": "code",
   "execution_count": null,
   "metadata": {
    "collapsed": true
   },
   "outputs": [],
   "source": [
    "XYok[\"safe $(minsafe-1)\"] = solvempc(nt, minsafe-1, true);"
   ]
  },
  {
   "cell_type": "code",
   "execution_count": null,
   "metadata": {
    "collapsed": true
   },
   "outputs": [],
   "source": [
    "XYok[\"safe 3\"] = solvempc(nt, 3, true);"
   ]
  },
  {
   "cell_type": "code",
   "execution_count": null,
   "metadata": {},
   "outputs": [],
   "source": [
    "#XY = [(\"unsafe 8\", XYko[\"unsafe 8\"])];\n",
    "XY = XYok;\n",
    "plotsize = (800, 400);\n",
    "# colors taken from https://previews.123rf.com/images/capacitorphoto/capacitorphoto1410/capacitorphoto141000191/32438941-Graph-Icon-color-set-illustration--Stock-Vector.jpg\n",
    "red = Plots.RGBA(((0xf5, 0x92, 0x97) ./ 255)...)\n",
    "gre = Plots.RGBA(((0xcb, 0xdf, 0x80) ./ 255)...)\n",
    "blu = Plots.RGBA(((0x23, 0x94, 0xce) ./ 255)...)\n",
    "ora = Plots.RGBA(((0xfa, 0xcb, 0x95) ./ 255)...)\n",
    "yel = Plots.RGBA(((0xf2, 0xf0, 0x8b) ./ 255)...)\n",
    "colors = Dict(\"unsafe $(minsafe-1)\" => ora, \"safe $(minsafe-1)\" => blu, \"safe 3\" => gre)"
   ]
  },
  {
   "cell_type": "code",
   "execution_count": null,
   "metadata": {},
   "outputs": [],
   "source": [
    "Plots.plot(legendfont=Plots.font(13), guidefont=Plots.font(16), tickfont=Plots.font(10), grid=false, yticks=[10, 15.6, 35], size=plotsize, xlabel=\"Time [s]\", ylabel=\"Speed [m/s]\")\n",
    "Plots.plot!([t[1], tswitch[1]], [35, 35], linewidth=0.5, color=:black, label=\"\")\n",
    "Plots.plot!([tswitch[1], t[end]], [va, va], linewidth=0.5, color=:black, label=\"\")\n",
    "mini = Inf\n",
    "maxi = 35\n",
    "for (s, (x, y)) in XY\n",
    "    v1 = x[:,d-2]\n",
    "    v0 = x[:,d-1]\n",
    "    #:none,:auto,:circle,:rect,:star5,:diamond,:hexagon,:cross,:xcross,:utriangle,:dtriangle,:rtriangle,:ltriangle,:pentagon,:heptagon,:octagon,:star4,:star6,:star7,:star8,:vline,:hline,:+,:x].\n",
    "    issafe = s[1] == 's'\n",
    "    ms = 7 + (issafe ? 0 : 1)\n",
    "    #Plots.scatter!(t[1:end-1], v1[1:end], label=\"Trailer speed $s\", markersize=ms, markershape=issafe ? :diamond : :utriangle, markerstrokewidth=0)\n",
    "    v0 = v0[1:end-1]\n",
    "    Plots.scatter!(t[1:(length(v0))], v0, color = colors[s], label=\"Truck speed $s\", markersize=ms, markershape=issafe ? :circle : :rtriangle, markerstrokewidth=0)\n",
    "    mini = min(mini, minimum(v1), minimum(v0))\n",
    "    maxi = max(maxi, maximum(v1), maximum(v0))\n",
    "end\n",
    "#Plots.plot!(tswitch, [mini, maxi])\n",
    "#Plots.plot!(tswitch, [mini, maxi], linewidth=2, label=\"\")\n",
    "if length(XY) == 1\n",
    "    _savefig(\"UnsafeSpeed\")\n",
    "else\n",
    "    @assert length(XY) == 3\n",
    "    _savefig(\"Speed\")\n",
    "end\n",
    "Plots.plot!()"
   ]
  },
  {
   "cell_type": "code",
   "execution_count": null,
   "metadata": {},
   "outputs": [],
   "source": [
    "Plots.plot(legendfont=Plots.font(13), guidefont=Plots.font(16), tickfont=Plots.font(10), size=plotsize, grid=false, ylim=(-4.3, 4.3), xlabel=\"Time [s]\", ylabel=\"Acceleration [m/s²]\")\n",
    "Plots.plot!([0, 60], [-4, -4], linewidth=0.5, color=:black, label=\"\")\n",
    "Plots.plot!([0, 60], [4, 4], linewidth=0.5, color=:black, label=\"\")\n",
    "for (s, (x, y)) in XY\n",
    "    u = x[:, 4]\n",
    "    issafe = s[1] == 's'\n",
    "    u = u[1:end-2]\n",
    "    ms = 7 + (issafe ? 0 : 1)\n",
    "    if !issafe\n",
    "        # Choose from :none,:auto,:circle,:rect,:star5,:diamond,:hexagon,:cross,:xcross,:utriangle,:dtriangle,:rtriangle,:ltriangle,:pentagon,:heptagon,:octagon,:star4,:star6,:star7,:star8,:vline,:hline,:+,:x].\n",
    "\n",
    "        Plots.scatter!([t[length(u)]], [u[end]], markersize=ms+5, markerstrokewidth=3, markershape=:circle, markercolor=:white, markerstrokecolor = red, label=\"Constraint violation for $s\")\n",
    "    end\n",
    "    Plots.scatter!(t[1:length(u)], u, label=\"Truck acceleration $s\", color = colors[s], markersize=ms, markershape=issafe ? :circle : :rtriangle, markerstrokewidth=0)\n",
    "    Plots.scatter!()\n",
    "end\n",
    "#Plots.plot!(tswitch, [-U, U], label=\"\")\n",
    "if length(XY) == 1\n",
    "    _savefig(\"UnsafeAcceleration\")\n",
    "else\n",
    "    @assert length(XY) == 3\n",
    "    _savefig(\"Acceleration\")\n",
    "end\n",
    "Plots.plot!()"
   ]
  },
  {
   "cell_type": "code",
   "execution_count": null,
   "metadata": {
    "collapsed": true
   },
   "outputs": [],
   "source": [
    "Plots.plot(size=(800, 400), xlabel=\"Time [s]\", ylabel=\"Truck position [m]\")\n",
    "for (s, (x, y)) in XY\n",
    "    Plots.plot!(t, y, label=s)\n",
    "end\n",
    "Plots.plot!(tswitch, collect(extrema(XY[\"unsafe optimal\"][2])), label=\"\")\n",
    "#_savefig(\"Position\")"
   ]
  },
  {
   "cell_type": "code",
   "execution_count": null,
   "metadata": {
    "collapsed": true
   },
   "outputs": [],
   "source": [
    "Plots.plot(yticks = [-0.5, -0.25, 0.0, 0.25, 0.5], ylims=(-0.55, 0.55), size=plotsize, xlabel=\"Time [s]\", ylabel=\"Displacement [m]\")\n",
    "for (s, (x, y)) in XY\n",
    "    dist = x[:, 1]\n",
    "    Plots.plot!(t[1:length(dist)], dist, label=\"Spring displacement $s\")\n",
    "end\n",
    "Plots.plot!()\n",
    "#Plots.plot!(tswitch, [-.5, .5], label=\"\")\n",
    "#_savefig(\"Displacement\")"
   ]
  },
  {
   "cell_type": "code",
   "execution_count": null,
   "metadata": {
    "collapsed": true
   },
   "outputs": [],
   "source": []
  }
 ],
 "metadata": {
  "kernelspec": {
   "display_name": "Julia 0.6.2",
   "language": "julia",
   "name": "julia-0.6"
  },
  "language_info": {
   "file_extension": ".jl",
   "mimetype": "application/julia",
   "name": "julia",
   "version": "0.6.2"
  }
 },
 "nbformat": 4,
 "nbformat_minor": 2
}
