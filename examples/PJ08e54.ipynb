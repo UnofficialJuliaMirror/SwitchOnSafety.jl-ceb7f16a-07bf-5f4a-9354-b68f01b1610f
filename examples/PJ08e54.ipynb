{
 "cells": [
  {
   "cell_type": "markdown",
   "metadata": {},
   "source": [
    "Example 2.8 of:\n",
    "\n",
    "P. Parrilo and A. Jadbabaie, \n",
    "*Approximation of the joint spectral radius using sum of squares*.\n",
    "Linear Algebra and its Applications, Elsevier, 2008, 428, 2385-2402\n",
    "\n",
    "The JSR was conjectured to be 8.9149 = √ρ(A_1 * A_3)"
   ]
  },
  {
   "cell_type": "code",
   "execution_count": 3,
   "metadata": {},
   "outputs": [
    {
     "data": {
      "text/plain": [
       "Hybrid System with automaton OneStateAutomaton(3)"
      ]
     },
     "execution_count": 3,
     "metadata": {},
     "output_type": "execute_result"
    }
   ],
   "source": [
    "using HybridSystems\n",
    "A1 = [ 0  1  7  4;\n",
    "       1  6 -2 -3;\n",
    "      -1 -1 -2 -6;\n",
    "       3  0  9  1]\n",
    "A2 = [-3  3  0 -2;\n",
    "      -2  1  4  9;\n",
    "       4 -3  1  1;\n",
    "       1 -5 -1 -2]\n",
    "A3 = [ 1  4  5 10;\n",
    "       0  5  1 -4;\n",
    "       0 -1  4  6;\n",
    "      -1  5  0  1]\n",
    "s = discreteswitchedsystem([A1, A2, A3])"
   ]
  },
  {
   "cell_type": "code",
   "execution_count": 1,
   "metadata": {},
   "outputs": [
    {
     "name": "stderr",
     "output_type": "stream",
     "text": [
      "┌ Info: Recompiling stale cache file /home/blegat/.julia/compiled/v1.0/MathOptInterfaceMosek/sqIeN.ji for MathOptInterfaceMosek [0087ddc6-3964-5e57-817f-9937aefb0357]\n",
      "└ @ Base loading.jl:1187\n"
     ]
    }
   ],
   "source": [
    "using MathOptInterfaceMosek\n",
    "using JuMP\n",
    "factory = with_optimizer(MosekOptimizer, QUIET=false, LOG=1,\n",
    "                         INTPNT_MAX_ITERATIONS=10000,\n",
    "                         INTPNT_CO_TOL_MU_RED=1e-2,\n",
    "                         INTPNT_CO_TOL_REL_GAP=1e-2,\n",
    "                         INTPNT_CO_TOL_DFEAS=1e-2,\n",
    "                         INTPNT_CO_TOL_INFEAS=1e-2);"
   ]
  },
  {
   "cell_type": "code",
   "execution_count": 43,
   "metadata": {},
   "outputs": [
    {
     "name": "stderr",
     "output_type": "stream",
     "text": [
      "┌ Warning: Solver returned with status : (SlowProgress::TerminationStatusCode = 13, UnknownResultStatus::ResultStatusCode = 8, UnknownResultStatus::ResultStatusCode = 8) for γ=0.6065306597126334, (SlowProgress::TerminationStatusCode = 13, UnknownResultStatus::ResultStatusCode = 8, UnknownResultStatus::ResultStatusCode = 8) for γ=1.0 and (SlowProgress::TerminationStatusCode = 13, UnknownResultStatus::ResultStatusCode = 8, UnknownResultStatus::ResultStatusCode = 8) for γ=1.6487212707001282. Stopping bisection with Inf > 0.04 (= tol)\n",
      "└ @ SwitchOnSafety /home/blegat/.julia/dev/SwitchOnSafety/src/sos.jl:204\n"
     ]
    },
    {
     "ename": "ErrorException",
     "evalue": "Bisection ended with infinite sosub=Inf",
     "output_type": "error",
     "traceback": [
      "Bisection ended with infinite sosub=Inf",
      "",
      "Stacktrace:",
      " [1] #soslyapb#31(::JuMP.OptimizerFactory, ::Float64, ::Bool, ::Base.Iterators.Pairs{Union{},Union{},Tuple{},NamedTuple{(),Tuple{}}}, ::Function, ::HybridSystem{OneStateAutomaton,MathematicalSystems.DiscreteIdentitySystem,MathematicalSystems.LinearDiscreteSystem{Int64,Array{Int64,2}},AutonomousSwitching}, ::Int64) at /home/blegat/.julia/dev/SwitchOnSafety/src/sos.jl:221",
      " [2] (::getfield(SwitchOnSafety, Symbol(\"#kw##soslyapb\")))(::NamedTuple{(:factory, :tol),Tuple{JuMP.OptimizerFactory,Float64}}, ::typeof(soslyapb), ::HybridSystem{OneStateAutomaton,MathematicalSystems.DiscreteIdentitySystem,MathematicalSystems.LinearDiscreteSystem{Int64,Array{Int64,2}},AutonomousSwitching}, ::Int64) at ./none:0",
      " [3] top-level scope at In[43]:2"
     ]
    }
   ],
   "source": [
    "using SwitchOnSafety\n",
    "lb, ub = soslyapb(s, 3, factory=factory, tol=4e-2)"
   ]
  },
  {
   "cell_type": "code",
   "execution_count": 2,
   "metadata": {},
   "outputs": [
    {
     "name": "stdout",
     "output_type": "stream",
     "text": [
      "be_quiet = false\n",
      "be_quiet = false\n",
      "JuMP.termination_status(model) = Success::TerminationStatusCode = 0\n",
      "JuMP.result_value(x) = 0.0\n"
     ]
    },
    {
     "data": {
      "text/plain": [
       "0.0"
      ]
     },
     "execution_count": 2,
     "metadata": {},
     "output_type": "execute_result"
    }
   ],
   "source": [
    "model = Model(factory)\n",
    "@variable(model, x)\n",
    "@objective(model, Min, x)\n",
    "@constraint(model, x ≥ 0)\n",
    "JuMP.optimize!(model)\n",
    "@show JuMP.termination_status(model)\n",
    "@show JuMP.result_value(x)"
   ]
  },
  {
   "cell_type": "code",
   "execution_count": null,
   "metadata": {},
   "outputs": [],
   "source": []
  }
 ],
 "metadata": {
  "kernelspec": {
   "display_name": "Julia 1.0.1",
   "language": "julia",
   "name": "julia-1.0"
  },
  "language_info": {
   "file_extension": ".jl",
   "mimetype": "application/julia",
   "name": "julia",
   "version": "1.0.1"
  }
 },
 "nbformat": 4,
 "nbformat_minor": 2
}
