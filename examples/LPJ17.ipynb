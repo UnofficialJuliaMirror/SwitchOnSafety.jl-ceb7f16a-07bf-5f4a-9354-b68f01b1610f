{
 "cells": [
  {
   "cell_type": "markdown",
   "metadata": {},
   "source": [
    "Code to reproduce running example of\n",
    "\n",
    "B. Legat, R. M. Jungers, and P. A. Parrilo\n",
    "[**Certifying unstability of Switched Systems using Sum of Squares Programming**](https://arxiv.org/abs/1710.01814)"
   ]
  },
  {
   "cell_type": "code",
   "execution_count": null,
   "metadata": {
    "collapsed": true
   },
   "outputs": [],
   "source": [
    "Pkg.clone(\"https://github.com/blegat/HybridSystems.jl\")\n",
    "Pkg.clone(\"https://github.com/blegat/SwitchOnSafety.jl\")"
   ]
  },
  {
   "cell_type": "code",
   "execution_count": null,
   "metadata": {
    "collapsed": true
   },
   "outputs": [],
   "source": [
    "include(Pkg.dir(\"SwitchOnSafety\", \"test\", \"solvers.jl\"))\n",
    "@assert !isempty(sdp_solvers)\n",
    "solver = first(sdp_solvers)"
   ]
  },
  {
   "cell_type": "code",
   "execution_count": 1,
   "metadata": {},
   "outputs": [
    {
     "name": "stdout",
     "output_type": "stream",
     "text": [
      "\u001b[32m\u001b[1m Resolving\u001b[22m\u001b[39m package versions...\n",
      "\u001b[32m\u001b[1m  Updating\u001b[22m\u001b[39m `~/.julia/dev/SwitchOnSafety/Project.toml`\n",
      "\u001b[90m [no changes]\u001b[39m\n",
      "\u001b[32m\u001b[1m  Updating\u001b[22m\u001b[39m `~/.julia/dev/SwitchOnSafety/Manifest.toml`\n",
      "\u001b[90m [no changes]\u001b[39m\n",
      "\u001b[32m\u001b[1m Resolving\u001b[22m\u001b[39m package versions...\n"
     ]
    },
    {
     "name": "stderr",
     "output_type": "stream",
     "text": [
      "┌ Info: Assigning UUID fc078b4a-c1ae-5945-9d19-22107d1bf3e1 to SetProg\n",
      "└ @ Pkg.Types /build/julia/src/julia-1.1.0/usr/share/julia/stdlib/v1.1/Pkg/src/Types.jl:841\n"
     ]
    },
    {
     "name": "stdout",
     "output_type": "stream",
     "text": [
      "\u001b[32m\u001b[1m  Updating\u001b[22m\u001b[39m `~/.julia/dev/SwitchOnSafety/Project.toml`\n",
      "\u001b[90m [no changes]\u001b[39m\n",
      "\u001b[32m\u001b[1m  Updating\u001b[22m\u001b[39m `~/.julia/dev/SwitchOnSafety/Manifest.toml`\n",
      "\u001b[90m [no changes]\u001b[39m\n"
     ]
    }
   ],
   "source": [
    "import Pkg\n",
    "Pkg.develop(Pkg.PackageSpec(path=\"../../SumOfSquares\"))\n",
    "Pkg.develop(Pkg.PackageSpec(path=\"../../SetProg\"))"
   ]
  },
  {
   "cell_type": "code",
   "execution_count": 2,
   "metadata": {},
   "outputs": [
    {
     "name": "stdout",
     "output_type": "stream",
     "text": [
      "\u001b[36m\u001b[1mProject \u001b[22m\u001b[39mSwitchOnSafety v0.0.0\n",
      "\u001b[32m\u001b[1m    Status\u001b[22m\u001b[39m `~/.julia/dev/SwitchOnSafety/Project.toml`\n",
      " \u001b[90m [861a8166]\u001b[39m\u001b[92m + Combinatorics v0.7.0\u001b[39m\n",
      " \u001b[90m [7c1d4256]\u001b[39m\u001b[92m + DynamicPolynomials v0.2.0\u001b[39m\n",
      " \u001b[90m [1a297f60]\u001b[39m\u001b[92m + FillArrays v0.5.0\u001b[39m\n",
      " \u001b[90m [a2cc645c]\u001b[39m\u001b[92m + GraphPlot v0.3.1\u001b[39m\n",
      " \u001b[90m [2207ec0c]\u001b[39m\u001b[92m + HybridSystems v0.1.5\u001b[39m\n",
      " \u001b[90m [4076af6c]\u001b[39m\u001b[92m + JuMP v0.19.0\u001b[39m\n",
      " \u001b[90m [093fc24a]\u001b[39m\u001b[92m + LightGraphs v1.2.0\u001b[39m\n",
      " \u001b[90m [b8f27783]\u001b[39m\u001b[92m + MathOptInterface v0.8.4\u001b[39m\n",
      " \u001b[90m [d14a8603]\u001b[39m\u001b[92m + MathematicalSystems v0.6.4\u001b[39m\n",
      " \u001b[90m [f4abf1af]\u001b[39m\u001b[92m + MultivariateMoments v0.2.1\u001b[39m\n",
      " \u001b[90m [102ac46a]\u001b[39m\u001b[92m + MultivariatePolynomials v0.2.8\u001b[39m\n",
      " \u001b[90m [429524aa]\u001b[39m\u001b[92m + Optim v0.18.1\u001b[39m\n",
      " \u001b[90m [774612a8]\u001b[39m\u001b[92m + ParameterJuMP v0.1.0\u001b[39m\n",
      " \u001b[90m [67491407]\u001b[39m\u001b[92m + Polyhedra v0.5.0\u001b[39m\n",
      " \u001b[90m [c46f51b8]\u001b[39m\u001b[92m + ProfileView v0.4.0\u001b[39m\n",
      " \u001b[90m [3cdcf5f2]\u001b[39m\u001b[92m + RecipesBase v0.6.0\u001b[39m\n",
      " \u001b[90m [189a3867]\u001b[39m\u001b[92m + Reexport v0.2.0\u001b[39m\n",
      " \u001b[90m [8e049039]\u001b[39m\u001b[92m + SemialgebraicSets v0.1.0\u001b[39m\n",
      " \u001b[90m [fc078b4a]\u001b[39m\u001b[92m + SetProg v0.0.0 [`../SetProg`]\u001b[39m\n",
      " \u001b[90m [90137ffa]\u001b[39m\u001b[92m + StaticArrays v0.10.3\u001b[39m\n",
      " \u001b[90m [4b9e565b]\u001b[39m\u001b[92m + SumOfSquares v0.3.1 [`../SumOfSquares`]\u001b[39m\n",
      " \u001b[90m [37e2e46d]\u001b[39m\u001b[92m + LinearAlgebra \u001b[39m\n",
      " \u001b[90m [2f01184e]\u001b[39m\u001b[92m + SparseArrays \u001b[39m\n",
      " \u001b[90m [10745b16]\u001b[39m\u001b[92m + Statistics \u001b[39m\n"
     ]
    }
   ],
   "source": [
    "import Pkg\n",
    "Pkg.status()"
   ]
  },
  {
   "cell_type": "code",
   "execution_count": 3,
   "metadata": {},
   "outputs": [
    {
     "name": "stderr",
     "output_type": "stream",
     "text": [
      "┌ Info: Recompiling stale cache file /home/blegat/.julia/compiled/v1.1/SwitchOnSafety/EUPLd.ji for SwitchOnSafety [ceb7f16a-07bf-5f4a-9354-b68f01b1610f]\n",
      "└ @ Base loading.jl:1184\n"
     ]
    }
   ],
   "source": [
    "using HybridSystems\n",
    "include(joinpath(dirname(dirname(pathof(HybridSystems))), \"examples\", \"PEDJ16s4.jl\"))\n",
    "using SwitchOnSafety"
   ]
  },
  {
   "cell_type": "markdown",
   "metadata": {},
   "source": [
    "As showed in [Example 7, LJP16], the JSR is 0.9748171979372074 which is attained for the cycle\n",
    "$$(3, 1, 2), (1, 3, 1), (3, 1, 2), (1, 2, 3), (2, 3, 1), (3, 3, 1)^3$$\n",
    "which corresponds to the sequence of symbols: 21231111.\n",
    "\n",
    "[LJP16] B. Legat, R. M. Jungers and P. A. Parrilo,\n",
    "*Generating unstable trajectories for Switched Systems via Dual Sum-Of-Squares techniques.*\n",
    "Proceedings of the 19th International Conference on Hybrid Systems: Computation and Control,\n",
    "ACM, **2016**, 51-60."
   ]
  },
  {
   "cell_type": "code",
   "execution_count": 23,
   "metadata": {},
   "outputs": [
    {
     "data": {
      "text/plain": [
       "PSW(0.9748172, [2, 1, 2, 3, 1, 1, 1, 1])"
      ]
     },
     "execution_count": 23,
     "metadata": {},
     "output_type": "execute_result"
    }
   ],
   "source": [
    "function t(pair::Pair)\n",
    "    edge = HybridSystems.edge_object(hs.automaton, pair.first, pair.second)\n",
    "    # As there is no multiple edges, i.e. edges with same source and target but different label,\n",
    "    # we can get the transition as follows\n",
    "    @assert isone(length(hs.automaton.Σ[edge]))\n",
    "    id = first(keys(hs.automaton.Σ[edge]))\n",
    "    return HybridSystems.LightTransition(edge, id)\n",
    "end\n",
    "smp = periodicswitching(hs, t.([3 => 1, 1 => 3, 3 => 1, 1 => 2, 2 => 3, 3 => 3, 3 => 3, 3 => 3]))"
   ]
  },
  {
   "cell_type": "markdown",
   "metadata": {},
   "source": [
    "The matrix 1 can be repeated since it is part of the self-loop (3, 3, 1) so it also provides a lower bound but it is not an s.m.p."
   ]
  },
  {
   "cell_type": "code",
   "execution_count": 24,
   "metadata": {},
   "outputs": [
    {
     "data": {
      "text/plain": [
       "PSW(0.93925502, [1])"
      ]
     },
     "execution_count": 24,
     "metadata": {},
     "output_type": "execute_result"
    }
   ],
   "source": [
    "psw1 = periodicswitching(hs, t.([3 => 3]))"
   ]
  },
  {
   "cell_type": "markdown",
   "metadata": {},
   "source": [
    "The following periodic switchings have a high growth rates but are not s.m.p."
   ]
  },
  {
   "cell_type": "code",
   "execution_count": 25,
   "metadata": {},
   "outputs": [
    {
     "data": {
      "text/plain": [
       "PSW(0.96592844, [2, 1, 3, 1, 1, 1, 1])"
      ]
     },
     "execution_count": 25,
     "metadata": {},
     "output_type": "execute_result"
    }
   ],
   "source": [
    "psw2 = periodicswitching(hs, t.([3 => 1, 1 => 3, 3 => 2, 2 => 3, 3 => 3, 3 => 3, 3 => 3]))"
   ]
  },
  {
   "cell_type": "code",
   "execution_count": 26,
   "metadata": {},
   "outputs": [
    {
     "data": {
      "text/plain": [
       "PSW(0.97289401, [2, 1, 2, 1, 1, 1, 1, 1])"
      ]
     },
     "execution_count": 26,
     "metadata": {},
     "output_type": "execute_result"
    }
   ],
   "source": [
    "psw3 = periodicswitching(hs, t.([3 => 1, 1 => 3, 3 => 1, 1 => 3, 3 => 3, 3 => 3, 3 => 3, 3 => 3]))"
   ]
  },
  {
   "cell_type": "markdown",
   "metadata": {},
   "source": [
    "## Gripenberg\n",
    "\n",
    "With a maximum length of 6, the Gripenberg algorithm finds `psw1`."
   ]
  },
  {
   "cell_type": "code",
   "execution_count": 20,
   "metadata": {},
   "outputs": [
    {
     "name": "stdout",
     "output_type": "stream",
     "text": [
      "ρ evaluations   : 425 < 1000 = max_ρ_eval.\n",
      "norm evaluations: 1567 < 10000 = max_norm_eval.\n",
      "switch length   : \u001b[31m\u001b[1m6 ≥ 6\u001b[22m\u001b[39m = max_length.\n",
      "  0.011959 seconds (80.99 k allocations: 5.459 MiB)\n"
     ]
    },
    {
     "data": {
      "text/plain": [
       "(PSW(0.93925502, [1, 1, 1, 1, 1, 1]), 1.039593578184173)"
      ]
     },
     "execution_count": 20,
     "metadata": {},
     "output_type": "execute_result"
    }
   ],
   "source": [
    "@time psw, ub = gripenberg(hs, max_length = 6)"
   ]
  },
  {
   "cell_type": "markdown",
   "metadata": {},
   "source": [
    "With a maximum length of 7, the Gripenberg algorithm finds `psw2`."
   ]
  },
  {
   "cell_type": "code",
   "execution_count": 21,
   "metadata": {},
   "outputs": [
    {
     "name": "stdout",
     "output_type": "stream",
     "text": [
      "ρ evaluations   : 834 < 1000 = max_ρ_eval.\n",
      "norm evaluations: 3137 < 10000 = max_norm_eval.\n",
      "switch length   : \u001b[31m\u001b[1m7 ≥ 7\u001b[22m\u001b[39m = max_length.\n",
      "  0.022956 seconds (160.82 k allocations: 10.914 MiB)\n"
     ]
    },
    {
     "data": {
      "text/plain": [
       "(PSW(0.96592844, [1, 1, 1, 2, 1, 3, 1]), 1.0181518243613532)"
      ]
     },
     "execution_count": 21,
     "metadata": {},
     "output_type": "execute_result"
    }
   ],
   "source": [
    "@time psw, ub = gripenberg(hs, max_length = 7)"
   ]
  },
  {
   "cell_type": "code",
   "execution_count": 14,
   "metadata": {},
   "outputs": [
    {
     "name": "stdout",
     "output_type": "stream",
     "text": [
      "ρ evaluations   : 1196 < 2000 = max_ρ_eval.\n",
      "norm evaluations: 4544 < 10000 = max_norm_eval.\n",
      "switch length   : 9 < 50 = max_length.\n",
      "  0.043515 seconds (231.92 k allocations: 15.806 MiB, 20.31% gc time)\n"
     ]
    },
    {
     "data": {
      "text/plain": [
       "(PSW(0.9748172, [1, 1, 1, 2, 1, 2, 3, 1]), 0.9848171979372075)"
      ]
     },
     "execution_count": 14,
     "metadata": {},
     "output_type": "execute_result"
    }
   ],
   "source": [
    "@time psw, ub = gripenberg(hs, max_ρ_eval = 2000)"
   ]
  },
  {
   "cell_type": "code",
   "execution_count": 16,
   "metadata": {},
   "outputs": [
    {
     "name": "stdout",
     "output_type": "stream",
     "text": [
      "ρ evaluations   : \u001b[31m\u001b[1m1134 ≥ 1000\u001b[22m\u001b[39m = max_ρ_eval.\n",
      "norm evaluations: 4296 < 10000 = max_norm_eval.\n",
      "switch length   : \u001b[31m\u001b[1m8 ≥ 8\u001b[22m\u001b[39m = max_length.\n",
      "  0.032864 seconds (219.44 k allocations: 14.940 MiB)\n"
     ]
    },
    {
     "data": {
      "text/plain": [
       "(PSW(0.9748172, [1, 1, 1, 2, 1, 2, 3, 1]), 1.0011588099570934)"
      ]
     },
     "execution_count": 16,
     "metadata": {},
     "output_type": "execute_result"
    }
   ],
   "source": [
    "@time psw, ub = gripenberg(hs, max_length = 8)"
   ]
  },
  {
   "cell_type": "code",
   "execution_count": 17,
   "metadata": {},
   "outputs": [
    {
     "name": "stdout",
     "output_type": "stream",
     "text": [
      "ρ evaluations   : 834 < 1000 = max_ρ_eval.\n",
      "norm evaluations: 3137 < 10000 = max_norm_eval.\n",
      "switch length   : \u001b[31m\u001b[1m7 ≥ 7\u001b[22m\u001b[39m = max_length.\n",
      "  0.029557 seconds (160.82 k allocations: 10.914 MiB, 23.02% gc time)\n"
     ]
    },
    {
     "data": {
      "text/plain": [
       "(PSW(0.96592844, [1, 1, 1, 2, 1, 3, 1]), 1.0181518243613532)"
      ]
     },
     "execution_count": 17,
     "metadata": {},
     "output_type": "execute_result"
    }
   ],
   "source": []
  },
  {
   "cell_type": "code",
   "execution_count": 19,
   "metadata": {},
   "outputs": [
    {
     "name": "stdout",
     "output_type": "stream",
     "text": [
      "ρ evaluations   : 425 < 1000 = max_ρ_eval.\n",
      "norm evaluations: 1567 < 10000 = max_norm_eval.\n",
      "switch length   : \u001b[31m\u001b[1m6 ≥ 6\u001b[22m\u001b[39m = max_length.\n",
      "  0.018538 seconds (80.99 k allocations: 5.459 MiB, 33.67% gc time)\n"
     ]
    },
    {
     "data": {
      "text/plain": [
       "(PSW(0.93925502, [1, 1, 1, 1, 1, 1]), 1.039593578184173)"
      ]
     },
     "execution_count": 19,
     "metadata": {},
     "output_type": "execute_result"
    }
   ],
   "source": []
  },
  {
   "cell_type": "markdown",
   "metadata": {},
   "source": [
    "## SumOfSquares"
   ]
  },
  {
   "cell_type": "code",
   "execution_count": 4,
   "metadata": {},
   "outputs": [],
   "source": [
    "using MosekTools\n",
    "using JuMP\n",
    "factory = with_optimizer(Mosek.Optimizer, QUIET=true);"
   ]
  },
  {
   "cell_type": "markdown",
   "metadata": {},
   "source": [
    "## Example 3.6"
   ]
  },
  {
   "cell_type": "code",
   "execution_count": 9,
   "metadata": {},
   "outputs": [
    {
     "data": {
      "text/plain": [
       "plot_lyap (generic function with 1 method)"
      ]
     },
     "execution_count": 9,
     "metadata": {},
     "output_type": "execute_result"
    }
   ],
   "source": [
    "using MultivariatePolynomials\n",
    "function plot_lyap(p)\n",
    "    d = mindegree(p)\n",
    "    @assert d == maxdegree(p)\n",
    "    @assert nvariables(p) == 2\n",
    "    α = linspace(0., 2π, 1000)\n",
    "    X = cos.(α)\n",
    "    Y = sin.(α)\n",
    "    λ = map(x -> p(variables(p) => x), zip(X, Y))\n",
    "    λ = λ.^(1/d)\n",
    "    plot(X ./ λ, Y ./ λ, aspect_ratio=:equal, label=\"\", grid=false, border=nothing, ticks=nothing, linewidth=3)#, grid=false, label=\"\")\n",
    "    plot!(X, Y, label=\"\", linestyle=:dash, linecolor=:black, linewidth=2)\n",
    "end"
   ]
  },
  {
   "cell_type": "code",
   "execution_count": null,
   "metadata": {
    "collapsed": true
   },
   "outputs": [],
   "source": [
    "gr()\n",
    "for d in 1:6\n",
    "    for v in 1:4\n",
    "        plot_lyap(get(s.lyaps[d]).primal[v])\n",
    "        savefig(\"PEDJ_d\" * string(d) * \"_v\" * string(v) * \".png\")\n",
    "    end\n",
    "end"
   ]
  },
  {
   "cell_type": "markdown",
   "metadata": {},
   "source": [
    "## Example 4.3"
   ]
  },
  {
   "cell_type": "code",
   "execution_count": 14,
   "metadata": {},
   "outputs": [
    {
     "name": "stdout",
     "output_type": "stream",
     "text": [
      "μ_{131} = 1.0907033942729127 * δ_{[0.917, 0.399]}\n",
      "normalize(SwitchOnSafety.dynamicforσ(hs, σ) * y) = [0.999626, -0.027334]\n",
      "μ_{312} = 1.143222101937864 * δ_{[0.875, 0.485]}\n",
      "normalize(SwitchOnSafety.dynamicforσ(hs, σ) * y) = [0.916808, 0.399328]\n",
      "μ_{331} = 1.3210537518102323 * δ_{[0.757, -0.653]}\n",
      "normalize(SwitchOnSafety.dynamicforσ(hs, σ) * y) = [0.422686, -0.906276]\n"
     ]
    }
   ],
   "source": [
    "using LinearAlgebra\n",
    "using MultivariatePolynomials\n",
    "using MultivariateMoments\n",
    "d = 1\n",
    "tol = 1e-4\n",
    "lyap = getlyap(hs, d; factory=factory, tol=tol)\n",
    "for s in states(hs)\n",
    "    for t in out_transitions(hs, s)\n",
    "        σ = symbol(hs, t)\n",
    "        ν = lyap.dual[t]\n",
    "        a = extractatoms(ν, tol)\n",
    "        if a !== nothing\n",
    "            v = target(hs, t)\n",
    "            atom = a.atoms[1]\n",
    "            x = atom.center\n",
    "            nx = norm(x, 2)\n",
    "            y = round.(x / nx, digits=3)\n",
    "            println(\"μ_{$s$v$σ} = $nx * δ_{$y}\")\n",
    "            @show normalize(SwitchOnSafety.dynamicforσ(hs, σ) * y)\n",
    "        end\n",
    "    end\n",
    "end"
   ]
  },
  {
   "cell_type": "markdown",
   "metadata": {},
   "source": [
    "## Example 4.10"
   ]
  },
  {
   "cell_type": "code",
   "execution_count": 38,
   "metadata": {},
   "outputs": [
    {
     "data": {
      "text/plain": [
       "sequencelb (generic function with 3 methods)"
      ]
     },
     "execution_count": 38,
     "metadata": {},
     "output_type": "execute_result"
    }
   ],
   "source": [
    "function sequencelb(s, d, l, p_0s = [:Primal, :Random], v_0s = states(s))\n",
    "    best = 0.\n",
    "    for p_0 in p_0s\n",
    "        for v_0 in v_0s\n",
    "            println(\"d = $d, l = $l, p_0 = $p_0, v_0 = $v_0\")\n",
    "            println(\"Build sequence\")\n",
    "            @time seq = sosbuildsequence(s, d, p_0=p_0, v_0=v_0, l=l, niter=100)\n",
    "            println(\"Find smp\")\n",
    "            @time psw = findsmp(seq)\n",
    "            @show psw\n",
    "            @assert psw !== nothing\n",
    "            best = max(best, psw.growthrate)\n",
    "        end\n",
    "    end\n",
    "    return best\n",
    "end"
   ]
  },
  {
   "cell_type": "code",
   "execution_count": 34,
   "metadata": {
    "collapsed": true
   },
   "outputs": [],
   "source": [
    "soslb = zeros(6)\n",
    "sosub = zeros(6)\n",
    "sosex = zeros(6)\n",
    "seql = [zeros(6) for i in 1:3];"
   ]
  },
  {
   "cell_type": "code",
   "execution_count": 35,
   "metadata": {},
   "outputs": [
    {
     "data": {
      "text/plain": [
       "full_sos (generic function with 2 methods)"
      ]
     },
     "execution_count": 35,
     "metadata": {},
     "output_type": "execute_result"
    }
   ],
   "source": [
    "function full_sos(d; ls=1:3, tol=5e-4, reset=false)\n",
    "    sosdata(hs).lb = 0.\n",
    "    sosdata(hs).smp = nothing\n",
    "    if reset\n",
    "        sosdata(hs).lyaps[d] = nothing\n",
    "    end\n",
    "    @time soslb[d], sosub[d] = soslyapb(hs, d, factory=factory, tol=tol, ranktols=[], disttols=[])\n",
    "    if hassmp(hs)\n",
    "        sosex[d] = getsmp(hs).growthrate\n",
    "    end\n",
    "    for l in ls\n",
    "        @time seql[l][d] = sequencelb(hs, d, 1)\n",
    "    end\n",
    "end"
   ]
  },
  {
   "cell_type": "code",
   "execution_count": 39,
   "metadata": {},
   "outputs": [
    {
     "name": "stdout",
     "output_type": "stream",
     "text": [
      "  1.577425 seconds (626.39 k allocations: 30.855 MiB, 0.49% gc time)\n",
      "d = 1, l = 1, p_0 = Primal, v_0 = 1\n",
      "Build sequence\n",
      "  0.014735 seconds (35.40 k allocations: 2.133 MiB, 77.77% gc time)\n",
      "Find smp\n",
      "  0.019546 seconds (203.08 k allocations: 16.201 MiB)\n",
      "psw = PSW(0.97289401, [1, 1, 1, 1, 1, 2, 1, 2])\n",
      "d = 1, l = 1, p_0 = Primal, v_0 = 2\n",
      "Build sequence\n",
      "  0.002807 seconds (35.37 k allocations: 2.131 MiB)\n",
      "Find smp\n",
      "  0.030131 seconds (200.56 k allocations: 15.993 MiB, 29.94% gc time)\n",
      "psw = PSW(0.97289401, [1, 1, 1, 1, 1, 2, 1, 2])\n",
      "d = 1, l = 1, p_0 = Primal, v_0 = 3\n",
      "Build sequence\n",
      "  0.002072 seconds (35.40 k allocations: 2.133 MiB)\n",
      "Find smp\n",
      "  0.026911 seconds (205.99 k allocations: 16.450 MiB, 28.66% gc time)\n",
      "psw = PSW(0.97289401, [1, 1, 1, 1, 2, 1, 2, 1])\n",
      "d = 1, l = 1, p_0 = Primal, v_0 = 4\n",
      "Build sequence\n",
      "  0.002119 seconds (35.35 k allocations: 2.130 MiB)\n",
      "Find smp\n",
      "  0.024552 seconds (200.52 k allocations: 16.009 MiB, 28.29% gc time)\n",
      "psw = PSW(0.97289401, [1, 1, 1, 1, 2, 1, 2, 1])\n",
      "d = 1, l = 1, p_0 = Random, v_0 = 1\n",
      "Build sequence\n",
      "  0.002192 seconds (35.41 k allocations: 2.134 MiB)\n",
      "Find smp\n",
      "  0.024238 seconds (202.91 k allocations: 16.215 MiB, 28.35% gc time)\n",
      "psw = PSW(0.97289401, [1, 1, 1, 1, 2, 1, 2, 1])\n",
      "d = 1, l = 1, p_0 = Random, v_0 = 2\n",
      "Build sequence\n",
      "  0.003117 seconds (35.41 k allocations: 2.134 MiB)\n",
      "Find smp\n",
      "  0.030868 seconds (200.37 k allocations: 15.992 MiB, 32.24% gc time)\n",
      "psw = PSW(0.97289401, [1, 1, 1, 1, 2, 1, 2, 1])\n",
      "d = 1, l = 1, p_0 = Random, v_0 = 3\n",
      "Build sequence\n",
      "  0.002288 seconds (35.45 k allocations: 2.136 MiB)\n",
      "Find smp\n",
      "  0.019423 seconds (206.05 k allocations: 16.480 MiB)\n",
      "psw = PSW(0.97289401, [1, 1, 1, 1, 2, 1, 2, 1])\n",
      "d = 1, l = 1, p_0 = Random, v_0 = 4\n",
      "Build sequence\n",
      "  0.002086 seconds (35.43 k allocations: 2.135 MiB)\n",
      "Find smp\n",
      "  0.025104 seconds (200.49 k allocations: 15.990 MiB, 28.68% gc time)\n",
      "psw = PSW(0.97289401, [2, 1, 1, 1, 1, 1, 2, 1])\n",
      "  0.434322 seconds (2.42 M allocations: 172.233 MiB, 15.64% gc time)\n",
      "d = 1, l = 1, p_0 = Primal, v_0 = 1\n",
      "Build sequence\n",
      "  0.002063 seconds (35.40 k allocations: 2.133 MiB)\n",
      "Find smp\n",
      "  0.024478 seconds (203.08 k allocations: 16.201 MiB, 27.44% gc time)\n",
      "psw = PSW(0.97289401, [1, 1, 1, 1, 1, 2, 1, 2])\n",
      "d = 1, l = 1, p_0 = Primal, v_0 = 2\n",
      "Build sequence\n",
      "  0.002147 seconds (35.37 k allocations: 2.131 MiB)\n",
      "Find smp\n",
      "  0.025158 seconds (200.56 k allocations: 15.993 MiB, 28.40% gc time)\n",
      "psw = PSW(0.97289401, [1, 1, 1, 1, 1, 2, 1, 2])\n",
      "d = 1, l = 1, p_0 = Primal, v_0 = 3\n",
      "Build sequence\n",
      "  0.002143 seconds (35.40 k allocations: 2.133 MiB)\n",
      "Find smp\n",
      "  0.026685 seconds (205.99 k allocations: 16.450 MiB, 29.72% gc time)\n",
      "psw = PSW(0.97289401, [1, 1, 1, 1, 2, 1, 2, 1])\n",
      "d = 1, l = 1, p_0 = Primal, v_0 = 4\n",
      "Build sequence\n",
      "  0.002257 seconds (35.35 k allocations: 2.130 MiB)\n",
      "Find smp\n",
      "  0.024727 seconds (200.52 k allocations: 16.009 MiB, 29.13% gc time)\n",
      "psw = PSW(0.97289401, [1, 1, 1, 1, 2, 1, 2, 1])\n",
      "d = 1, l = 1, p_0 = Random, v_0 = 1\n",
      "Build sequence\n",
      "  0.002309 seconds (35.41 k allocations: 2.134 MiB)\n",
      "Find smp\n",
      "  0.017641 seconds (202.89 k allocations: 16.214 MiB)\n",
      "psw = PSW(0.97289401, [1, 1, 1, 1, 2, 1, 2, 1])\n",
      "d = 1, l = 1, p_0 = Random, v_0 = 2\n",
      "Build sequence\n",
      "  0.002049 seconds (35.41 k allocations: 2.134 MiB)\n",
      "Find smp\n",
      "  0.025630 seconds (200.37 k allocations: 15.992 MiB, 27.81% gc time)\n",
      "psw = PSW(0.97289401, [1, 1, 1, 1, 2, 1, 2, 1])\n",
      "d = 1, l = 1, p_0 = Random, v_0 = 3\n",
      "Build sequence\n",
      "  0.002378 seconds (35.45 k allocations: 2.136 MiB)\n",
      "Find smp\n",
      "  0.026540 seconds (205.68 k allocations: 16.441 MiB, 31.20% gc time)\n",
      "psw = PSW(0.97289401, [1, 1, 1, 1, 2, 1, 2, 1])\n",
      "d = 1, l = 1, p_0 = Random, v_0 = 4\n",
      "Build sequence\n",
      "  0.002126 seconds (35.40 k allocations: 2.133 MiB)\n",
      "Find smp\n",
      "  0.024547 seconds (200.42 k allocations: 16.018 MiB, 28.08% gc time)\n",
      "psw = PSW(0.97289401, [1, 1, 1, 1, 2, 1, 2, 1])\n",
      "  0.217117 seconds (1.91 M allocations: 146.552 MiB, 23.63% gc time)\n",
      "d = 1, l = 1, p_0 = Primal, v_0 = 1\n",
      "Build sequence\n",
      "  0.002142 seconds (35.40 k allocations: 2.133 MiB)\n",
      "Find smp\n",
      "  0.024172 seconds (203.08 k allocations: 16.201 MiB, 27.70% gc time)\n",
      "psw = PSW(0.97289401, [1, 1, 1, 1, 1, 2, 1, 2])\n",
      "d = 1, l = 1, p_0 = Primal, v_0 = 2\n",
      "Build sequence\n",
      "  0.002223 seconds (35.37 k allocations: 2.131 MiB)\n",
      "Find smp\n",
      "  0.025614 seconds (200.56 k allocations: 15.993 MiB, 32.09% gc time)\n",
      "psw = PSW(0.97289401, [1, 1, 1, 1, 1, 2, 1, 2])\n",
      "d = 1, l = 1, p_0 = Primal, v_0 = 3\n",
      "Build sequence\n",
      "  0.002434 seconds (35.40 k allocations: 2.133 MiB)\n",
      "Find smp\n",
      "  0.018802 seconds (205.99 k allocations: 16.450 MiB)\n",
      "psw = PSW(0.97289401, [1, 1, 1, 1, 2, 1, 2, 1])\n",
      "d = 1, l = 1, p_0 = Primal, v_0 = 4\n",
      "Build sequence\n",
      "  0.009070 seconds (35.35 k allocations: 2.130 MiB, 77.11% gc time)\n",
      "Find smp\n",
      "  0.017762 seconds (200.52 k allocations: 16.009 MiB)\n",
      "psw = PSW(0.97289401, [1, 1, 1, 1, 2, 1, 2, 1])\n",
      "d = 1, l = 1, p_0 = Random, v_0 = 1\n",
      "Build sequence\n",
      "  0.002068 seconds (35.45 k allocations: 2.136 MiB)\n",
      "Find smp\n",
      "  0.024695 seconds (202.86 k allocations: 16.187 MiB, 28.49% gc time)\n",
      "psw = PSW(0.97289401, [1, 2, 1, 1, 1, 1, 1, 2])\n",
      "d = 1, l = 1, p_0 = Random, v_0 = 2\n",
      "Build sequence\n",
      "  0.002129 seconds (35.41 k allocations: 2.134 MiB)\n",
      "Find smp\n",
      "  0.025683 seconds (197.32 k allocations: 15.730 MiB, 28.00% gc time)\n",
      "psw = PSW(0.97289401, [1, 1, 1, 1, 2, 1, 2, 1])\n",
      "d = 1, l = 1, p_0 = Random, v_0 = 3\n",
      "Build sequence\n",
      "  0.002159 seconds (35.45 k allocations: 2.136 MiB)\n",
      "Find smp\n",
      "  0.028814 seconds (206.28 k allocations: 16.466 MiB, 31.22% gc time)\n",
      "psw = PSW(0.97289401, [1, 1, 1, 1, 2, 1, 2, 1])\n",
      "d = 1, l = 1, p_0 = Random, v_0 = 4\n",
      "Build sequence\n",
      "  0.002424 seconds (35.43 k allocations: 2.135 MiB)\n",
      "Find smp\n",
      "  0.027487 seconds (200.78 k allocations: 16.006 MiB, 26.73% gc time)\n",
      "psw = PSW(0.97289401, [1, 1, 1, 1, 2, 1, 2, 1])\n",
      "  0.222077 seconds (1.91 M allocations: 146.280 MiB, 23.63% gc time)\n"
     ]
    }
   ],
   "source": [
    "full_sos(1, reset=true)"
   ]
  },
  {
   "cell_type": "code",
   "execution_count": 18,
   "metadata": {},
   "outputs": [
    {
     "name": "stdout",
     "output_type": "stream",
     "text": [
      "  3.246635 seconds (4.99 M allocations: 250.100 MiB, 3.89% gc time)\n",
      "l = 1\n",
      "p_0 = :Primal\n",
      "v_0 = 1\n",
      "Build sequence\n",
      "  0.037380 seconds (72.35 k allocations: 4.080 MiB)\n",
      "Find smp\n",
      "  0.404629 seconds (1.21 M allocations: 64.452 MiB, 7.91% gc time)\n",
      "v_0 = 2\n",
      "Build sequence\n",
      "  0.002203 seconds (35.37 k allocations: 2.131 MiB)\n",
      "Find smp\n",
      "  0.029623 seconds (200.56 k allocations: 15.993 MiB, 31.11% gc time)\n",
      "v_0 = 3\n",
      "Build sequence\n",
      "  0.002062 seconds (35.40 k allocations: 2.133 MiB)\n",
      "Find smp\n",
      "  0.026348 seconds (205.99 k allocations: 16.450 MiB, 29.87% gc time)\n",
      "v_0 = 4\n",
      "Build sequence\n",
      "  0.002076 seconds (35.35 k allocations: 2.130 MiB)\n",
      "Find smp\n",
      "  0.025045 seconds (200.52 k allocations: 16.009 MiB, 30.52% gc time)\n",
      "p_0 = :Random\n",
      "v_0 = 1\n",
      "Build sequence\n",
      "  0.002101 seconds (35.41 k allocations: 2.134 MiB)\n",
      "Find smp\n",
      "  0.023826 seconds (202.93 k allocations: 16.223 MiB, 27.62% gc time)\n",
      "v_0 = 2\n",
      "Build sequence\n",
      "  0.002268 seconds (35.41 k allocations: 2.134 MiB)\n",
      "Find smp\n",
      "  0.026322 seconds (197.60 k allocations: 15.757 MiB, 33.17% gc time)\n",
      "v_0 = 3\n",
      "Build sequence\n",
      "  0.002614 seconds (35.49 k allocations: 2.138 MiB)\n",
      "Find smp\n",
      "  0.019117 seconds (209.18 k allocations: 16.726 MiB)\n",
      "v_0 = 4\n",
      "Build sequence\n",
      "  0.009248 seconds (35.40 k allocations: 2.133 MiB, 76.83% gc time)\n",
      "Find smp\n",
      "  0.017397 seconds (200.26 k allocations: 16.011 MiB)\n",
      "  0.859155 seconds (3.56 M allocations: 226.321 MiB, 10.36% gc time)\n",
      "l = 2\n",
      "p_0 = :Primal\n",
      "v_0 = 1\n",
      "Build sequence\n",
      "  0.001476 seconds (26.53 k allocations: 1.571 MiB)\n",
      "Find smp\n",
      "  0.024215 seconds (212.08 k allocations: 16.643 MiB, 27.22% gc time)\n",
      "v_0 = 2\n",
      "Build sequence\n",
      "  0.001546 seconds (26.76 k allocations: 1.585 MiB)\n",
      "Find smp\n",
      "  0.027203 seconds (208.68 k allocations: 16.516 MiB, 30.47% gc time)\n",
      "v_0 = 3\n",
      "Build sequence\n",
      "  0.001627 seconds (26.53 k allocations: 1.571 MiB)\n",
      "Find smp\n",
      "  0.026087 seconds (215.25 k allocations: 16.927 MiB, 26.11% gc time)\n",
      "v_0 = 4\n",
      "Build sequence\n",
      "  0.001627 seconds (26.49 k allocations: 1.569 MiB)\n",
      "Find smp\n",
      "  0.024079 seconds (209.92 k allocations: 16.468 MiB, 28.07% gc time)\n",
      "p_0 = :Random\n",
      "v_0 = 1\n",
      "Build sequence\n",
      "  0.001620 seconds (26.58 k allocations: 1.574 MiB)\n",
      "Find smp\n",
      "  0.016901 seconds (212.30 k allocations: 16.652 MiB)\n",
      "v_0 = 2\n",
      "Build sequence\n",
      "  0.001399 seconds (26.75 k allocations: 1.585 MiB)\n",
      "Find smp\n",
      "  0.024101 seconds (208.72 k allocations: 16.499 MiB, 28.64% gc time)\n",
      "v_0 = 3\n",
      "Build sequence\n",
      "  0.001788 seconds (26.80 k allocations: 1.588 MiB)\n",
      "Find smp\n",
      "  0.029152 seconds (218.11 k allocations: 17.313 MiB, 33.13% gc time)\n",
      "v_0 = 4\n",
      "Build sequence\n",
      "  0.001538 seconds (26.54 k allocations: 1.572 MiB)\n",
      "Find smp\n",
      "  0.024746 seconds (209.92 k allocations: 16.468 MiB, 27.52% gc time)\n",
      "  0.212923 seconds (1.91 M allocations: 146.246 MiB, 24.34% gc time)\n",
      "l = 3\n",
      "p_0 = :Primal\n",
      "v_0 = 1\n",
      "Build sequence\n",
      "  0.002131 seconds (39.57 k allocations: 2.308 MiB)\n",
      "Find smp\n",
      "  0.024794 seconds (221.20 k allocations: 17.431 MiB, 26.65% gc time)\n",
      "v_0 = 2\n",
      "Build sequence\n",
      "  0.002212 seconds (39.57 k allocations: 2.308 MiB)\n",
      "Find smp\n",
      "  0.026515 seconds (215.56 k allocations: 16.966 MiB, 26.37% gc time)\n",
      "v_0 = 3\n",
      "Build sequence\n",
      "  0.002187 seconds (39.95 k allocations: 2.330 MiB)\n",
      "Find smp\n",
      "  0.026786 seconds (226.34 k allocations: 17.870 MiB, 25.86% gc time)\n",
      "v_0 = 4\n",
      "Build sequence\n",
      "  0.002234 seconds (39.65 k allocations: 2.313 MiB)\n",
      "Find smp\n",
      "  0.024185 seconds (213.64 k allocations: 16.814 MiB, 27.96% gc time)\n",
      "p_0 = :Random\n",
      "v_0 = 1\n",
      "Build sequence\n",
      "  0.002228 seconds (39.62 k allocations: 2.311 MiB)\n",
      "Find smp\n",
      "  0.016892 seconds (211.17 k allocations: 16.601 MiB)\n",
      "v_0 = 2\n",
      "Build sequence\n",
      "  0.001894 seconds (39.62 k allocations: 2.311 MiB)\n",
      "Find smp\n",
      "  0.025332 seconds (210.04 k allocations: 16.507 MiB, 27.76% gc time)\n",
      "v_0 = 3\n",
      "Build sequence\n",
      "  0.002206 seconds (39.81 k allocations: 2.322 MiB)\n",
      "Find smp\n",
      "  0.025845 seconds (215.45 k allocations: 16.949 MiB, 26.09% gc time)\n",
      "v_0 = 4\n",
      "Build sequence\n",
      "  0.002145 seconds (39.51 k allocations: 2.305 MiB)\n",
      "Find smp\n",
      "  0.026101 seconds (215.04 k allocations: 16.922 MiB, 29.19% gc time)\n",
      "  0.217503 seconds (2.05 M allocations: 154.714 MiB, 22.38% gc time)\n",
      "  1.764603 seconds (885.24 k allocations: 44.767 MiB, 0.89% gc time)\n",
      "l = 1\n",
      "p_0 = :Primal\n",
      "v_0 = 1\n",
      "Build sequence\n",
      "  0.003782 seconds (56.21 k allocations: 3.528 MiB)\n",
      "Find smp\n",
      "  0.032535 seconds (219.37 k allocations: 16.943 MiB, 32.30% gc time)\n",
      "v_0 = 2\n",
      "Build sequence\n",
      "  0.003467 seconds (56.10 k allocations: 3.520 MiB)\n",
      "Find smp\n",
      "  0.026298 seconds (209.84 k allocations: 16.104 MiB, 28.74% gc time)\n",
      "v_0 = 3\n",
      "Build sequence\n",
      "  0.003721 seconds (57.61 k allocations: 3.630 MiB)\n",
      "Find smp\n",
      "  0.028729 seconds (538.10 k allocations: 28.147 MiB, 26.42% gc time)\n",
      "v_0 = 4\n",
      "Build sequence\n",
      "  0.011625 seconds (56.13 k allocations: 3.522 MiB, 66.28% gc time)\n",
      "Find smp\n",
      "  0.019794 seconds (213.50 k allocations: 16.423 MiB)\n",
      "p_0 = :Random\n",
      "v_0 = 1\n",
      "Build sequence\n",
      "  0.003516 seconds (56.27 k allocations: 3.532 MiB)\n",
      "Find smp\n",
      "  0.030962 seconds (219.72 k allocations: 16.935 MiB, 33.99% gc time)\n",
      "v_0 = 2\n",
      "Build sequence\n",
      "  0.004029 seconds (56.15 k allocations: 3.524 MiB)\n",
      "Find smp\n",
      "  0.028577 seconds (209.84 k allocations: 16.104 MiB, 32.32% gc time)\n",
      "v_0 = 3\n",
      "Build sequence\n",
      "  0.004793 seconds (56.32 k allocations: 3.536 MiB)\n",
      "Find smp\n",
      "  0.033159 seconds (223.54 k allocations: 17.267 MiB, 34.20% gc time)\n",
      "v_0 = 4\n",
      "Build sequence\n",
      "  0.003949 seconds (56.18 k allocations: 3.526 MiB)\n",
      "Find smp\n",
      "  0.029642 seconds (213.51 k allocations: 16.493 MiB, 33.57% gc time)\n",
      "  0.272850 seconds (2.50 M allocations: 172.878 MiB, 27.27% gc time)\n",
      "l = 2\n",
      "p_0 = :Primal\n",
      "v_0 = 1\n",
      "Build sequence\n",
      "  0.003160 seconds (41.99 k allocations: 2.643 MiB)\n",
      "Find smp\n",
      "  0.031166 seconds (224.84 k allocations: 17.498 MiB, 32.10% gc time)\n",
      "v_0 = 2\n",
      "Build sequence\n",
      "  0.003457 seconds (41.82 k allocations: 2.631 MiB)\n",
      "Find smp\n",
      "  0.030805 seconds (213.29 k allocations: 16.459 MiB, 28.90% gc time)\n",
      "v_0 = 3\n",
      "Build sequence\n",
      "  0.003146 seconds (42.08 k allocations: 2.650 MiB)\n",
      "Find smp\n",
      "  0.029848 seconds (224.79 k allocations: 17.456 MiB, 31.95% gc time)\n",
      "v_0 = 4\n",
      "Build sequence\n",
      "  0.003387 seconds (41.68 k allocations: 2.621 MiB)\n",
      "Find smp\n",
      "  0.027579 seconds (213.50 k allocations: 16.423 MiB, 31.23% gc time)\n",
      "p_0 = :Random\n",
      "v_0 = 1\n",
      "Build sequence\n",
      "  0.004244 seconds (41.88 k allocations: 2.635 MiB)\n",
      "Find smp\n",
      "  0.022289 seconds (219.43 k allocations: 16.897 MiB)\n",
      "v_0 = 2\n",
      "Build sequence\n",
      "  0.011635 seconds (41.88 k allocations: 2.635 MiB, 76.26% gc time)\n",
      "Find smp\n",
      "  0.018415 seconds (213.29 k allocations: 16.459 MiB)\n",
      "v_0 = 3\n",
      "Build sequence\n",
      "  0.002455 seconds (41.96 k allocations: 2.641 MiB)\n",
      "Find smp\n",
      "  0.025796 seconds (219.89 k allocations: 16.918 MiB, 28.16% gc time)\n",
      "v_0 = 4\n",
      "Build sequence\n",
      "  0.002458 seconds (41.90 k allocations: 2.637 MiB)\n",
      "Find smp\n",
      "  0.025311 seconds (218.88 k allocations: 17.032 MiB, 27.71% gc time)\n",
      "  0.249903 seconds (2.09 M allocations: 156.392 MiB, 24.09% gc time)\n",
      "l = 3\n",
      "p_0 = :Primal\n",
      "v_0 = 1\n",
      "Build sequence\n",
      "  0.003290 seconds (60.61 k allocations: 3.836 MiB)\n",
      "Find smp\n",
      "  0.028739 seconds (239.66 k allocations: 19.172 MiB, 28.54% gc time)\n",
      "v_0 = 2\n",
      "Build sequence\n",
      "  0.003823 seconds (60.05 k allocations: 3.795 MiB)\n",
      "Find smp\n",
      "  0.027519 seconds (242.75 k allocations: 19.324 MiB, 24.90% gc time)\n",
      "v_0 = 3\n",
      "Build sequence\n",
      "  0.003264 seconds (60.33 k allocations: 3.815 MiB)\n",
      "Find smp\n",
      "  0.027698 seconds (249.46 k allocations: 19.888 MiB, 25.57% gc time)\n",
      "v_0 = 4\n",
      "Build sequence\n",
      "  0.002984 seconds (59.88 k allocations: 3.783 MiB)\n",
      "Find smp\n",
      "  0.029366 seconds (243.15 k allocations: 19.355 MiB, 24.01% gc time)\n",
      "p_0 = :Random\n",
      "v_0 = 1\n",
      "Build sequence\n",
      "  0.011640 seconds (60.10 k allocations: 3.799 MiB, 70.69% gc time)\n",
      "Find smp\n",
      "  0.020036 seconds (238.93 k allocations: 18.968 MiB)\n",
      "v_0 = 2\n",
      "Build sequence\n",
      "  0.010647 seconds (60.38 k allocations: 3.819 MiB, 66.45% gc time)\n",
      "Find smp\n",
      "  0.019223 seconds (233.08 k allocations: 18.635 MiB)\n",
      "v_0 = 3\n",
      "Build sequence\n",
      "  0.010238 seconds (60.10 k allocations: 3.799 MiB, 66.66% gc time)\n",
      "Find smp\n",
      "  0.022639 seconds (244.50 k allocations: 19.449 MiB)\n",
      "v_0 = 4\n",
      "Build sequence\n",
      "  0.011486 seconds (59.93 k allocations: 3.787 MiB, 63.48% gc time)\n",
      "Find smp\n",
      "  0.027611 seconds (243.15 k allocations: 19.355 MiB, 25.56% gc time)\n",
      "  0.264107 seconds (2.42 M allocations: 184.727 MiB, 24.86% gc time)\n",
      "  1.730087 seconds (749.97 k allocations: 42.184 MiB, 0.42% gc time)\n",
      "l = 1\n",
      "p_0 = :Primal\n",
      "v_0 = 1\n",
      "Build sequence\n",
      "  0.019853 seconds (80.78 k allocations: 5.187 MiB, 51.74% gc time)\n",
      "Find smp\n",
      "  0.031478 seconds (236.45 k allocations: 18.834 MiB, 26.51% gc time)\n",
      "v_0 = 2\n",
      "Build sequence\n",
      "  0.008240 seconds (80.62 k allocations: 5.173 MiB)\n",
      "Find smp\n",
      "  0.030606 seconds (226.14 k allocations: 17.973 MiB, 29.33% gc time)\n",
      "v_0 = 3\n",
      "Build sequence\n",
      "  0.005675 seconds (82.49 k allocations: 5.323 MiB)\n",
      "Find smp\n"
     ]
    },
    {
     "name": "stdout",
     "output_type": "stream",
     "text": [
      "  0.031791 seconds (538.10 k allocations: 28.147 MiB, 28.38% gc time)\n",
      "v_0 = 4\n",
      "Build sequence\n",
      "  0.008774 seconds (80.66 k allocations: 5.176 MiB)\n",
      "Find smp\n",
      "  0.036043 seconds (230.04 k allocations: 18.310 MiB, 29.76% gc time)\n",
      "p_0 = :Random\n",
      "v_0 = 1\n",
      "Build sequence\n",
      "  0.005042 seconds (80.75 k allocations: 5.183 MiB)\n",
      "Find smp\n",
      "  0.028476 seconds (232.00 k allocations: 18.463 MiB, 27.28% gc time)\n",
      "v_0 = 2\n",
      "Build sequence\n",
      "  0.012606 seconds (80.67 k allocations: 5.177 MiB, 57.91% gc time)\n",
      "Find smp\n",
      "  0.019097 seconds (226.14 k allocations: 17.973 MiB)\n",
      "v_0 = 3\n",
      "Build sequence\n",
      "  0.014419 seconds (80.75 k allocations: 5.183 MiB, 55.31% gc time)\n",
      "Find smp\n",
      "  0.021388 seconds (232.88 k allocations: 18.504 MiB)\n",
      "v_0 = 4\n",
      "Build sequence\n",
      "  0.016621 seconds (80.71 k allocations: 5.180 MiB, 51.13% gc time)\n",
      "Find smp\n",
      "  0.029839 seconds (230.66 k allocations: 18.344 MiB, 25.70% gc time)\n",
      "  0.324871 seconds (2.81 M allocations: 198.279 MiB, 26.64% gc time)\n",
      "l = 2\n",
      "p_0 = :Primal\n",
      "v_0 = 1\n",
      "Build sequence\n",
      "  0.004451 seconds (60.48 k allocations: 3.935 MiB)\n",
      "Find smp\n",
      "  0.032119 seconds (236.45 k allocations: 18.834 MiB, 30.51% gc time)\n",
      "v_0 = 2\n",
      "Build sequence\n",
      "  0.005948 seconds (60.48 k allocations: 3.935 MiB)\n",
      "Find smp\n",
      "  0.029849 seconds (230.39 k allocations: 18.340 MiB, 28.16% gc time)\n",
      "v_0 = 3\n",
      "Build sequence\n",
      "  0.005151 seconds (60.83 k allocations: 3.964 MiB)\n",
      "Find smp\n",
      "  0.030598 seconds (242.09 k allocations: 19.295 MiB, 27.18% gc time)\n",
      "v_0 = 4\n",
      "Build sequence\n",
      "  0.005056 seconds (60.28 k allocations: 3.920 MiB)\n",
      "Find smp\n",
      "  0.029789 seconds (230.04 k allocations: 18.310 MiB, 29.08% gc time)\n",
      "p_0 = :Random\n",
      "v_0 = 1\n",
      "Build sequence\n",
      "  0.004880 seconds (60.41 k allocations: 3.930 MiB)\n",
      "Find smp\n",
      "  0.029971 seconds (232.00 k allocations: 18.463 MiB, 28.31% gc time)\n",
      "v_0 = 2\n",
      "Build sequence\n",
      "  0.004950 seconds (60.65 k allocations: 3.949 MiB)\n",
      "Find smp\n",
      "  0.030540 seconds (230.76 k allocations: 18.366 MiB, 29.07% gc time)\n",
      "v_0 = 3\n",
      "Build sequence\n",
      "  0.004131 seconds (60.65 k allocations: 3.949 MiB)\n",
      "Find smp\n",
      "  0.029930 seconds (236.63 k allocations: 18.850 MiB, 26.80% gc time)\n",
      "v_0 = 4\n",
      "Build sequence\n",
      "  0.004144 seconds (60.34 k allocations: 3.924 MiB)\n",
      "Find smp\n",
      "  0.030049 seconds (230.04 k allocations: 18.310 MiB, 27.62% gc time)\n",
      "  0.286450 seconds (2.36 M allocations: 180.430 MiB, 24.04% gc time)\n",
      "l = 3\n",
      "p_0 = :Primal\n",
      "v_0 = 1\n",
      "Build sequence\n",
      "  0.005411 seconds (88.72 k allocations: 5.883 MiB)\n",
      "Find smp\n",
      "  0.028995 seconds (255.71 k allocations: 20.470 MiB, 25.29% gc time)\n",
      "v_0 = 2\n",
      "Build sequence\n",
      "  0.005213 seconds (88.33 k allocations: 5.852 MiB)\n",
      "Find smp\n",
      "  0.028594 seconds (254.38 k allocations: 20.372 MiB, 24.59% gc time)\n",
      "v_0 = 3\n",
      "Build sequence\n",
      "  0.005179 seconds (88.72 k allocations: 5.883 MiB)\n",
      "Find smp\n",
      "  0.029678 seconds (261.32 k allocations: 20.957 MiB, 23.90% gc time)\n",
      "v_0 = 4\n",
      "Build sequence\n",
      "  0.013621 seconds (88.09 k allocations: 5.833 MiB, 59.24% gc time)\n",
      "Find smp\n",
      "  0.028158 seconds (247.45 k allocations: 19.794 MiB, 25.61% gc time)\n",
      "p_0 = :Random\n",
      "v_0 = 1\n",
      "Build sequence\n",
      "  0.005440 seconds (88.38 k allocations: 5.856 MiB)\n",
      "Find smp\n",
      "  0.027639 seconds (248.50 k allocations: 19.878 MiB, 25.41% gc time)\n",
      "v_0 = 2\n",
      "Build sequence\n",
      "  0.005356 seconds (88.38 k allocations: 5.856 MiB)\n",
      "Find smp\n",
      "  0.030116 seconds (254.36 k allocations: 20.378 MiB, 25.81% gc time)\n",
      "v_0 = 3\n",
      "Build sequence\n",
      "  0.005196 seconds (88.77 k allocations: 5.887 MiB)\n",
      "Find smp\n",
      "  0.029099 seconds (254.90 k allocations: 20.439 MiB, 25.28% gc time)\n",
      "v_0 = 4\n",
      "Build sequence\n",
      "  0.005088 seconds (88.15 k allocations: 5.837 MiB)\n",
      "Find smp\n",
      "  0.028121 seconds (254.85 k allocations: 20.414 MiB, 25.05% gc time)\n",
      "  0.284960 seconds (2.75 M allocations: 209.746 MiB, 23.14% gc time)\n",
      "  1.783238 seconds (838.73 k allocations: 52.066 MiB, 1.18% gc time)\n",
      "l = 1\n",
      "p_0 = :Primal\n",
      "v_0 = 1\n",
      "Build sequence\n",
      "  0.008308 seconds (109.52 k allocations: 7.358 MiB)\n",
      "Find smp\n",
      "  0.026098 seconds (167.79 k allocations: 12.739 MiB, 41.59% gc time)\n",
      "v_0 = 2\n",
      "Build sequence\n",
      "  0.007031 seconds (109.32 k allocations: 7.339 MiB)\n",
      "Find smp\n",
      "  0.021168 seconds (160.86 k allocations: 12.154 MiB, 35.07% gc time)\n",
      "v_0 = 3\n",
      "Build sequence\n",
      "  0.007662 seconds (109.62 k allocations: 7.367 MiB)\n",
      "Find smp\n",
      "  0.022122 seconds (171.06 k allocations: 13.035 MiB, 33.74% gc time)\n",
      "v_0 = 4\n",
      "Build sequence\n",
      "  0.007577 seconds (109.37 k allocations: 7.343 MiB)\n",
      "Find smp\n",
      "  0.015373 seconds (162.74 k allocations: 12.343 MiB)\n",
      "p_0 = :Random\n",
      "v_0 = 1\n",
      "Build sequence\n",
      "  0.019492 seconds (109.48 k allocations: 7.353 MiB, 46.64% gc time)\n",
      "Find smp\n",
      "  0.015651 seconds (164.69 k allocations: 12.484 MiB)\n",
      "v_0 = 2\n",
      "Build sequence\n",
      "  0.017014 seconds (109.38 k allocations: 7.343 MiB, 56.98% gc time)\n",
      "Find smp\n",
      "  0.015247 seconds (160.86 k allocations: 12.154 MiB)\n",
      "v_0 = 3\n",
      "Build sequence\n",
      "  0.015893 seconds (109.48 k allocations: 7.353 MiB, 53.14% gc time)\n",
      "Find smp\n",
      "  0.015381 seconds (160.91 k allocations: 12.157 MiB)\n",
      "v_0 = 4\n",
      "Build sequence\n",
      "  0.006954 seconds (109.43 k allocations: 7.348 MiB)\n",
      "Find smp\n",
      "  0.024453 seconds (162.74 k allocations: 12.343 MiB, 37.16% gc time)\n",
      "  0.249742 seconds (2.19 M allocations: 158.355 MiB, 24.85% gc time)\n",
      "l = 2\n",
      "p_0 = :Primal\n",
      "v_0 = 1\n",
      "Build sequence\n",
      "  0.005167 seconds (81.85 k allocations: 5.645 MiB)\n",
      "Find smp\n",
      "  0.023145 seconds (167.79 k allocations: 12.739 MiB, 36.32% gc time)\n",
      "v_0 = 2\n",
      "Build sequence\n",
      "  0.006122 seconds (83.69 k allocations: 5.817 MiB)\n",
      "Find smp\n",
      "  0.021566 seconds (160.86 k allocations: 12.154 MiB, 35.76% gc time)\n",
      "v_0 = 3\n",
      "Build sequence\n",
      "  0.006000 seconds (83.84 k allocations: 5.832 MiB)\n",
      "Find smp\n",
      "  0.023233 seconds (168.47 k allocations: 12.843 MiB, 37.17% gc time)\n",
      "v_0 = 4\n",
      "Build sequence\n",
      "  0.005559 seconds (81.59 k allocations: 5.621 MiB)\n",
      "Find smp\n",
      "  0.014350 seconds (162.74 k allocations: 12.343 MiB)\n",
      "p_0 = :Random\n",
      "v_0 = 1\n",
      "Build sequence\n",
      "  0.014130 seconds (81.76 k allocations: 5.635 MiB, 59.99% gc time)\n",
      "Find smp\n",
      "  0.014735 seconds (164.69 k allocations: 12.484 MiB)\n",
      "v_0 = 2\n",
      "Build sequence\n",
      "  0.005080 seconds (83.75 k allocations: 5.822 MiB)\n",
      "Find smp\n",
      "  0.020988 seconds (160.86 k allocations: 12.154 MiB, 34.41% gc time)\n",
      "v_0 = 3\n",
      "Build sequence\n",
      "  0.005321 seconds (83.90 k allocations: 5.837 MiB)\n",
      "Find smp\n",
      "  0.021594 seconds (164.90 k allocations: 12.517 MiB, 34.71% gc time)\n",
      "v_0 = 4\n",
      "Build sequence\n",
      "  0.005540 seconds (81.65 k allocations: 5.626 MiB)\n",
      "Find smp\n",
      "  0.021170 seconds (162.74 k allocations: 12.343 MiB, 34.20% gc time)\n",
      "  0.217727 seconds (1.98 M allocations: 145.557 MiB, 25.35% gc time)\n",
      "l = 3\n",
      "p_0 = :Primal\n",
      "v_0 = 1\n",
      "Build sequence\n",
      "  0.007542 seconds (119.22 k allocations: 8.489 MiB)\n",
      "Find smp\n",
      "  0.023779 seconds (189.87 k allocations: 15.025 MiB, 29.98% gc time)\n",
      "v_0 = 2\n",
      "Build sequence\n",
      "  0.007059 seconds (118.71 k allocations: 8.441 MiB)\n",
      "Find smp\n",
      "  0.022644 seconds (182.55 k allocations: 14.491 MiB, 29.99% gc time)\n",
      "v_0 = 3\n",
      "Build sequence\n",
      "  0.007719 seconds (120.24 k allocations: 8.585 MiB)\n",
      "Find smp\n",
      "  0.024607 seconds (193.65 k allocations: 15.316 MiB, 29.74% gc time)\n",
      "v_0 = 4\n",
      "Build sequence\n",
      "  0.007557 seconds (119.42 k allocations: 8.508 MiB)\n",
      "Find smp\n",
      "  0.023389 seconds (183.91 k allocations: 14.476 MiB, 30.35% gc time)\n",
      "p_0 = :Random\n",
      "v_0 = 1\n",
      "Build sequence\n",
      "  0.007092 seconds (118.77 k allocations: 8.446 MiB)\n",
      "Find smp\n",
      "  0.022600 seconds (178.76 k allocations: 14.173 MiB, 31.02% gc time)\n",
      "v_0 = 2\n",
      "Build sequence\n",
      "  0.007043 seconds (118.77 k allocations: 8.446 MiB)\n",
      "Find smp\n",
      "  0.023413 seconds (181.89 k allocations: 14.383 MiB, 29.98% gc time)\n",
      "v_0 = 3\n",
      "Build sequence\n",
      "  0.007351 seconds (120.30 k allocations: 8.590 MiB)\n",
      "Find smp\n",
      "  0.024037 seconds (189.51 k allocations: 14.946 MiB, 28.56% gc time)\n",
      "v_0 = 4\n",
      "Build sequence\n",
      "  0.007279 seconds (119.48 k allocations: 8.513 MiB)\n",
      "Find smp\n",
      "  0.023639 seconds (183.91 k allocations: 14.476 MiB, 31.02% gc time)\n",
      "  0.250627 seconds (2.44 M allocations: 185.452 MiB, 22.57% gc time)\n",
      "  1.814145 seconds (942.56 k allocations: 64.989 MiB, 1.36% gc time)\n",
      "l = 1\n",
      "p_0 = :Primal\n",
      "v_0 = 1\n",
      "Build sequence\n",
      "  0.020317 seconds (143.23 k allocations: 9.823 MiB, 42.72% gc time)\n",
      "Find smp\n",
      "  0.015343 seconds (167.79 k allocations: 12.739 MiB)\n",
      "v_0 = 2\n",
      "Build sequence\n",
      "  0.015255 seconds (142.96 k allocations: 9.796 MiB, 46.26% gc time)\n",
      "Find smp\n",
      "  0.013422 seconds (160.86 k allocations: 12.154 MiB)\n",
      "v_0 = 3\n",
      "Build sequence\n",
      "  0.016287 seconds (143.36 k allocations: 9.836 MiB, 45.53% gc time)\n",
      "Find smp\n",
      "  0.013998 seconds (166.92 k allocations: 12.662 MiB)\n",
      "v_0 = 4\n",
      "Build sequence\n"
     ]
    },
    {
     "name": "stdout",
     "output_type": "stream",
     "text": [
      "  0.015801 seconds (143.03 k allocations: 9.802 MiB, 44.80% gc time)\n",
      "Find smp\n",
      "  0.013739 seconds (162.74 k allocations: 12.343 MiB)\n",
      "p_0 = :Random\n",
      "v_0 = 1\n",
      "Build sequence\n",
      "  0.016806 seconds (143.16 k allocations: 9.814 MiB, 45.48% gc time)\n",
      "Find smp\n",
      "  0.014634 seconds (164.69 k allocations: 12.484 MiB)\n",
      "v_0 = 2\n",
      "Build sequence\n",
      "  0.016658 seconds (143.02 k allocations: 9.801 MiB, 44.13% gc time)\n",
      "Find smp\n",
      "  0.013614 seconds (160.86 k allocations: 12.154 MiB)\n",
      "v_0 = 3\n",
      "Build sequence\n",
      "  0.016349 seconds (143.16 k allocations: 9.814 MiB, 44.98% gc time)\n",
      "Find smp\n",
      "  0.013791 seconds (164.90 k allocations: 12.517 MiB)\n",
      "v_0 = 4\n",
      "Build sequence\n",
      "  0.016907 seconds (143.09 k allocations: 9.808 MiB, 44.61% gc time)\n",
      "Find smp\n",
      "  0.013784 seconds (162.74 k allocations: 12.343 MiB)\n",
      "  0.250753 seconds (2.46 M allocations: 178.031 MiB, 23.98% gc time)\n",
      "l = 2\n",
      "p_0 = :Primal\n",
      "v_0 = 1\n",
      "Build sequence\n",
      "  0.014786 seconds (106.92 k allocations: 7.575 MiB, 52.09% gc time)\n",
      "Find smp\n",
      "  0.014386 seconds (167.79 k allocations: 12.739 MiB)\n",
      "v_0 = 2\n",
      "Build sequence\n",
      "  0.014148 seconds (109.30 k allocations: 7.815 MiB, 51.04% gc time)\n",
      "Find smp\n",
      "  0.013648 seconds (160.86 k allocations: 12.154 MiB)\n",
      "v_0 = 3\n",
      "Build sequence\n",
      "  0.006593 seconds (109.50 k allocations: 7.835 MiB)\n",
      "Find smp\n",
      "  0.021373 seconds (168.47 k allocations: 12.843 MiB, 33.05% gc time)\n",
      "v_0 = 4\n",
      "Build sequence\n",
      "  0.007046 seconds (106.59 k allocations: 7.542 MiB)\n",
      "Find smp\n",
      "  0.022115 seconds (162.74 k allocations: 12.343 MiB, 33.74% gc time)\n",
      "p_0 = :Random\n",
      "v_0 = 1\n",
      "Build sequence\n",
      "  0.007819 seconds (106.99 k allocations: 7.581 MiB)\n",
      "Find smp\n",
      "  0.023590 seconds (167.79 k allocations: 12.739 MiB, 30.91% gc time)\n",
      "v_0 = 2\n",
      "Build sequence\n",
      "  0.006995 seconds (106.99 k allocations: 7.581 MiB)\n",
      "Find smp\n",
      "  0.025058 seconds (163.68 k allocations: 12.470 MiB, 32.83% gc time)\n",
      "v_0 = 3\n",
      "Build sequence\n",
      "  0.007632 seconds (109.36 k allocations: 7.820 MiB)\n",
      "Find smp\n",
      "  0.025776 seconds (163.92 k allocations: 12.410 MiB, 36.41% gc time)\n",
      "v_0 = 4\n",
      "Build sequence\n",
      "  0.007860 seconds (106.66 k allocations: 7.548 MiB)\n",
      "Find smp\n",
      "  0.024553 seconds (162.74 k allocations: 12.343 MiB, 34.29% gc time)\n",
      "  0.247634 seconds (2.19 M allocations: 161.483 MiB, 25.35% gc time)\n",
      "l = 3\n",
      "p_0 = :Primal\n",
      "v_0 = 1\n",
      "Build sequence\n",
      "  0.011020 seconds (152.26 k allocations: 11.124 MiB)\n",
      "Find smp\n",
      "  0.025532 seconds (171.61 k allocations: 12.989 MiB, 33.29% gc time)\n",
      "v_0 = 2\n",
      "Build sequence\n",
      "  0.010963 seconds (152.26 k allocations: 11.124 MiB)\n",
      "Find smp\n",
      "  0.024654 seconds (171.69 k allocations: 13.047 MiB, 33.53% gc time)\n",
      "v_0 = 3\n",
      "Build sequence\n",
      "  0.011176 seconds (152.92 k allocations: 11.191 MiB)\n",
      "Find smp\n",
      "  0.025896 seconds (179.95 k allocations: 13.770 MiB, 34.96% gc time)\n",
      "v_0 = 4\n",
      "Build sequence\n",
      "  0.010350 seconds (151.86 k allocations: 11.084 MiB)\n",
      "Find smp\n",
      "  0.025706 seconds (173.81 k allocations: 13.199 MiB, 35.64% gc time)\n",
      "p_0 = :Random\n",
      "v_0 = 1\n",
      "Build sequence\n",
      "  0.019805 seconds (152.32 k allocations: 11.130 MiB, 46.38% gc time)\n",
      "Find smp\n",
      "  0.015987 seconds (172.83 k allocations: 13.141 MiB)\n",
      "v_0 = 2\n",
      "Build sequence\n",
      "  0.019159 seconds (151.66 k allocations: 11.063 MiB, 48.22% gc time)\n",
      "Find smp\n",
      "  0.015846 seconds (171.58 k allocations: 12.989 MiB)\n",
      "v_0 = 3\n",
      "Build sequence\n",
      "  0.019309 seconds (152.98 k allocations: 11.196 MiB, 44.04% gc time)\n",
      "Find smp\n",
      "  0.016760 seconds (176.07 k allocations: 13.409 MiB)\n",
      "v_0 = 4\n",
      "Build sequence\n",
      "  0.021396 seconds (151.92 k allocations: 11.090 MiB, 48.17% gc time)\n",
      "Find smp\n",
      "  0.025982 seconds (173.81 k allocations: 13.199 MiB, 34.90% gc time)\n",
      "  0.304139 seconds (2.62 M allocations: 194.903 MiB, 26.73% gc time)\n",
      "  0.115039 seconds (203.83 k allocations: 10.254 MiB)\n",
      "l = 1\n",
      "p_0 = :Primal\n",
      "v_0 = 1\n",
      "Build sequence\n",
      "  0.026348 seconds (181.60 k allocations: 13.001 MiB, 39.54% gc time)\n",
      "Find smp\n",
      "  0.015385 seconds (167.79 k allocations: 12.739 MiB)\n",
      "v_0 = 2\n",
      "Build sequence\n",
      "  0.022904 seconds (181.27 k allocations: 12.963 MiB, 39.95% gc time)\n",
      "Find smp\n",
      "  0.014410 seconds (160.86 k allocations: 12.154 MiB)\n",
      "v_0 = 3\n",
      "Build sequence\n",
      "  0.022564 seconds (181.76 k allocations: 13.020 MiB, 41.48% gc time)\n",
      "Find smp\n",
      "  0.024566 seconds (166.92 k allocations: 12.662 MiB, 38.16% gc time)\n",
      "v_0 = 4\n",
      "Build sequence\n",
      "  0.013902 seconds (181.35 k allocations: 12.973 MiB)\n",
      "Find smp\n",
      "  0.022404 seconds (162.74 k allocations: 12.343 MiB, 36.53% gc time)\n",
      "p_0 = :Random\n",
      "v_0 = 1\n",
      "Build sequence\n",
      "  0.013876 seconds (181.50 k allocations: 12.988 MiB)\n",
      "Find smp\n",
      "  0.024161 seconds (164.69 k allocations: 12.484 MiB, 40.44% gc time)\n",
      "v_0 = 2\n",
      "Build sequence\n",
      "  0.014393 seconds (181.34 k allocations: 12.969 MiB)\n",
      "Find smp\n",
      "  0.026908 seconds (160.86 k allocations: 12.154 MiB, 39.87% gc time)\n",
      "v_0 = 3\n",
      "Build sequence\n",
      "  0.023267 seconds (181.50 k allocations: 12.988 MiB, 41.56% gc time)\n",
      "Find smp\n",
      "  0.015838 seconds (163.93 k allocations: 12.463 MiB)\n",
      "v_0 = 4\n",
      "Build sequence\n",
      "  0.022571 seconds (181.42 k allocations: 12.979 MiB, 41.03% gc time)\n",
      "Find smp\n",
      "  0.015335 seconds (162.74 k allocations: 12.343 MiB)\n",
      "  0.323519 seconds (2.77 M allocations: 203.375 MiB, 26.56% gc time)\n",
      "l = 2\n",
      "p_0 = :Primal\n",
      "v_0 = 1\n",
      "Build sequence\n",
      "  0.019039 seconds (135.32 k allocations: 10.113 MiB, 44.53% gc time)\n",
      "Find smp\n",
      "  0.015845 seconds (167.79 k allocations: 12.739 MiB)\n",
      "v_0 = 2\n",
      "Build sequence\n",
      "  0.019815 seconds (138.28 k allocations: 10.452 MiB, 42.44% gc time)\n",
      "Find smp\n",
      "  0.014572 seconds (163.82 k allocations: 12.427 MiB)\n",
      "v_0 = 3\n",
      "Build sequence\n",
      "  0.018780 seconds (138.52 k allocations: 10.480 MiB, 44.83% gc time)\n",
      "Find smp\n",
      "  0.014815 seconds (168.47 k allocations: 12.843 MiB)\n",
      "v_0 = 4\n",
      "Build sequence\n",
      "  0.017604 seconds (134.91 k allocations: 10.066 MiB, 43.80% gc time)\n",
      "Find smp\n",
      "  0.014216 seconds (162.74 k allocations: 12.343 MiB)\n",
      "p_0 = :Random\n",
      "v_0 = 1\n",
      "Build sequence\n",
      "  0.017329 seconds (135.14 k allocations: 10.091 MiB, 42.21% gc time)\n",
      "Find smp\n",
      "  0.022355 seconds (164.69 k allocations: 12.484 MiB, 35.34% gc time)\n",
      "v_0 = 2\n",
      "Build sequence\n",
      "  0.010611 seconds (138.34 k allocations: 10.458 MiB)\n",
      "Find smp\n",
      "  0.021023 seconds (160.86 k allocations: 12.154 MiB, 34.34% gc time)\n",
      "v_0 = 3\n",
      "Build sequence\n",
      "  0.009880 seconds (138.59 k allocations: 10.486 MiB)\n",
      "Find smp\n",
      "  0.024536 seconds (164.90 k allocations: 12.517 MiB, 39.79% gc time)\n",
      "v_0 = 4\n",
      "Build sequence\n",
      "  0.010556 seconds (134.98 k allocations: 10.072 MiB)\n",
      "Find smp\n",
      "  0.024298 seconds (162.74 k allocations: 12.343 MiB, 41.14% gc time)\n",
      "  0.279663 seconds (2.42 M allocations: 182.215 MiB, 26.89% gc time)\n",
      "l = 3\n",
      "p_0 = :Primal\n",
      "v_0 = 1\n",
      "Build sequence\n",
      "  0.015732 seconds (192.36 k allocations: 14.967 MiB)\n",
      "Find smp\n",
      "  0.026225 seconds (171.61 k allocations: 12.989 MiB, 34.62% gc time)\n",
      "v_0 = 2\n",
      "Build sequence\n",
      "  0.023162 seconds (192.36 k allocations: 14.967 MiB, 38.93% gc time)\n",
      "Find smp\n",
      "  0.016917 seconds (171.69 k allocations: 13.047 MiB)\n",
      "v_0 = 3\n",
      "Build sequence\n",
      "  0.023926 seconds (193.18 k allocations: 15.061 MiB, 34.53% gc time)\n",
      "Find smp\n",
      "  0.024748 seconds (179.95 k allocations: 13.770 MiB, 30.45% gc time)\n",
      "v_0 = 4\n",
      "Build sequence\n",
      "  0.014555 seconds (191.86 k allocations: 14.911 MiB)\n",
      "Find smp\n",
      "  0.024787 seconds (173.81 k allocations: 13.199 MiB, 35.96% gc time)\n",
      "p_0 = :Random\n",
      "v_0 = 1\n",
      "Build sequence\n",
      "  0.014342 seconds (192.42 k allocations: 14.973 MiB)\n",
      "Find smp\n",
      "  0.027857 seconds (175.76 k allocations: 13.340 MiB, 37.47% gc time)\n",
      "v_0 = 2\n",
      "Build sequence\n",
      "  0.023634 seconds (191.60 k allocations: 14.879 MiB, 35.54% gc time)\n",
      "Find smp\n",
      "  0.015860 seconds (171.58 k allocations: 12.989 MiB)\n",
      "v_0 = 3\n",
      "Build sequence\n",
      "  0.023865 seconds (192.42 k allocations: 14.973 MiB, 34.88% gc time)\n",
      "Find smp\n",
      "  0.024262 seconds (175.89 k allocations: 13.375 MiB, 31.51% gc time)\n",
      "v_0 = 4\n",
      "Build sequence\n",
      "  0.013151 seconds (191.93 k allocations: 14.917 MiB)\n",
      "Find smp\n",
      "  0.028070 seconds (173.81 k allocations: 13.199 MiB, 32.64% gc time)\n",
      "  0.346244 seconds (2.94 M allocations: 225.715 MiB, 25.06% gc time)\n"
     ]
    }
   ],
   "source": [
    "for d in 1:6\n",
    "    full_sos(d)\n",
    "end"
   ]
  },
  {
   "cell_type": "code",
   "execution_count": null,
   "metadata": {
    "collapsed": true
   },
   "outputs": [],
   "source": [
    "using Plots\n",
    "plotlyjs()"
   ]
  },
  {
   "cell_type": "code",
   "execution_count": 7,
   "metadata": {},
   "outputs": [
    {
     "data": {
      "text/html": [
       "<div id=\"f388a597-6c0f-4c3a-9608-8d522540181d\" class=\"plotly-graph-div\"></div>\n",
       "\n",
       "<script>\n",
       "    window.PLOTLYENV=window.PLOTLYENV || {};\n",
       "    window.PLOTLYENV.BASE_URL=\"https://plot.ly\";\n",
       "    require(['plotly'], function(Plotly) {\n",
       "        Plotly.newPlot('f388a597-6c0f-4c3a-9608-8d522540181d', [{\"showlegend\":true,\"mode\":\"lines\",\"xaxis\":\"x\",\"colorbar\":{\"title\":\"\"},\"line\":{\"color\":\"rgba(0, 154, 250, 1.000)\",\"width\":3,\"dash\":\"solid\",\"shape\":\"linear\"},\"y\":[1.0039138893383477,0.9864211606099766,0.9773121116438532,0.9754051617877207,0.9754051617877207,0.9749290059944998],\"type\":\"scatter\",\"name\":\"SOS UB\",\"yaxis\":\"y\",\"x\":[1,2,3,4,5,6]},{\"showlegend\":true,\"mode\":\"lines\",\"xaxis\":\"x\",\"colorbar\":{\"title\":\"\"},\"line\":{\"color\":\"rgba(227, 111, 71, 1.000)\",\"width\":3,\"dash\":\"solid\",\"shape\":\"linear\"},\"y\":[0.9748171979372074,0.9748171979372074,0.9748171979372074,0.9748171979372074,0.9748171979372074,0.9748171979372074],\"type\":\"scatter\",\"name\":\"Algorithm 1, l=3\",\"yaxis\":\"y\",\"x\":[1,2,3,4,5,6]},{\"showlegend\":true,\"mode\":\"lines\",\"xaxis\":\"x\",\"colorbar\":{\"title\":\"\"},\"line\":{\"color\":\"rgba(62, 164, 78, 1.000)\",\"width\":3,\"dash\":\"solid\",\"shape\":\"linear\"},\"y\":[0.9728940109399586,0.9728940109399586,0.9728940109399586,0.9748171979372074,0.9748171979372074,0.9748171979372074],\"type\":\"scatter\",\"name\":\"Algorithm 1, l=1\",\"yaxis\":\"y\",\"x\":[1,2,3,4,5,6]},{\"showlegend\":true,\"mode\":\"lines\",\"xaxis\":\"x\",\"colorbar\":{\"title\":\"\"},\"line\":{\"color\":\"rgba(195, 113, 210, 1.000)\",\"width\":3,\"dash\":\"solid\",\"shape\":\"linear\"},\"y\":[0.9392550239418472,0.9392550239418472,0.9392550239418472,0.9392550239418472,0.9392550239418472,0.9392550239418472],\"type\":\"scatter\",\"name\":\"Atom extraction\",\"yaxis\":\"y\",\"x\":[1,2,3,4,5,6]},{\"showlegend\":true,\"mode\":\"lines\",\"xaxis\":\"x\",\"colorbar\":{\"title\":\"\"},\"line\":{\"color\":\"rgba(172, 142, 24, 1.000)\",\"width\":3,\"dash\":\"solid\",\"shape\":\"linear\"},\"y\":[0.7095277851685835,0.7750977963278481,0.8320677246229312,0.8644225378680609,0.8854732864152122,0.8993519081663106],\"type\":\"scatter\",\"name\":\"SOS LB\",\"yaxis\":\"y\",\"x\":[1,2,3,4,5,6]}],\n",
       "               {\"showlegend\":true,\"xaxis\":{\"gridwidth\":0.5,\"tickvals\":[1.0,2.0,3.0,4.0,5.0,6.0],\"ticks\":\"inside\",\"tickmode\":\"array\",\"domain\":[0.0658209390492855,0.9934383202099738],\"linecolor\":\"rgba(0, 0, 0, 1.000)\",\"showgrid\":true,\"title\":\"d\",\"tickangle\":0,\"gridcolor\":\"rgba(0, 0, 0, 0.100)\",\"titlefont\":{\"color\":\"rgba(0, 0, 0, 1.000)\",\"family\":\"sans-serif\",\"size\":15},\"tickcolor\":\"rgba(0, 0, 0, 1.000)\",\"ticktext\":[\"1\",\"2\",\"3\",\"4\",\"5\",\"6\"],\"zeroline\":false,\"type\":\"-\",\"tickfont\":{\"color\":\"rgba(0, 0, 0, 1.000)\",\"family\":\"sans-serif\",\"size\":11},\"anchor\":\"y\"},\"paper_bgcolor\":\"rgba(255, 255, 255, 1.000)\",\"annotations\":[],\"height\":400,\"margin\":{\"l\":0,\"b\":20,\"r\":0,\"t\":20},\"plot_bgcolor\":\"rgba(255, 255, 255, 1.000)\",\"yaxis\":{\"gridwidth\":0.5,\"tickvals\":[0.75,0.8,0.8500000000000001,0.9,0.9500000000000001,1.0],\"ticks\":\"inside\",\"tickmode\":\"array\",\"domain\":[0.07581474190726165,0.9901574803149606],\"linecolor\":\"rgba(0, 0, 0, 1.000)\",\"showgrid\":true,\"title\":\"\",\"tickangle\":0,\"gridcolor\":\"rgba(0, 0, 0, 0.100)\",\"titlefont\":{\"color\":\"rgba(0, 0, 0, 1.000)\",\"family\":\"sans-serif\",\"size\":15},\"tickcolor\":\"rgba(0, 0, 0, 1.000)\",\"ticktext\":[\"0.75\",\"0.80\",\"0.85\",\"0.90\",\"0.95\",\"1.00\"],\"zeroline\":false,\"type\":\"-\",\"tickfont\":{\"color\":\"rgba(0, 0, 0, 1.000)\",\"family\":\"sans-serif\",\"size\":11},\"anchor\":\"x\"},\"legend\":{\"bordercolor\":\"rgba(0, 0, 0, 1.000)\",\"bgcolor\":\"rgba(255, 255, 255, 1.000)\",\"font\":{\"color\":\"rgba(0, 0, 0, 1.000)\",\"family\":\"sans-serif\",\"size\":17},\"y\":1.0,\"x\":1.0},\"width\":600}, {showLink: false});\n",
       "\n",
       "    });\n",
       " </script>\n"
      ]
     },
     "execution_count": 7,
     "metadata": {},
     "output_type": "execute_result"
    }
   ],
   "source": [
    "font = Plots.Font(\"sans-serif\",12,:hcenter,:vcenter,0.0,RGB{FixedPointNumbers.Normed{UInt8, 8}}(0.0,0.0,0.0))\n",
    "plot(1:6, xlabel = \"d\", sosub, label=\"SOS UB\", legendfont=font, linewidth=3)\n",
    "plot!(1:6, seql3, label=\"Algorithm 1, l=3\", linewidth=3)\n",
    "plot!(1:6, seql1, label=\"Algorithm 1, l=1\", linewidth=3)\n",
    "#plot!(1:6, seql2, label=\"Algorithm 1, l=2\")\n",
    "plot!(1:6, sosex, label=\"Atom extraction\", linewidth=3)\n",
    "plot!(1:6, soslb, label=\"SOS LB\", linewidth=3)"
   ]
  },
  {
   "cell_type": "code",
   "execution_count": 8,
   "metadata": {
    "scrolled": true
   },
   "outputs": [
    {
     "data": {
      "text/html": [
       "<div id=\"25d092bf-0eb4-4233-9494-caf7c7240744\" class=\"plotly-graph-div\"></div>\n",
       "\n",
       "<script>\n",
       "    window.PLOTLYENV=window.PLOTLYENV || {};\n",
       "    window.PLOTLYENV.BASE_URL=\"https://plot.ly\";\n",
       "    require(['plotly'], function(Plotly) {\n",
       "        Plotly.newPlot('25d092bf-0eb4-4233-9494-caf7c7240744', [{\"showlegend\":false,\"mode\":\"lines\",\"xaxis\":\"x\",\"colorbar\":{\"title\":\"\"},\"line\":{\"color\":\"rgba(0, 154, 250, 1.000)\",\"width\":3,\"dash\":\"solid\",\"shape\":\"linear\"},\"y\":[0.9864211606099766,0.9773121116438532,0.9754051617877207,0.9754051617877207],\"type\":\"scatter\",\"name\":\"\",\"yaxis\":\"y\",\"x\":[2,3,4,5]},{\"showlegend\":false,\"mode\":\"lines\",\"xaxis\":\"x\",\"colorbar\":{\"title\":\"\"},\"line\":{\"color\":\"rgba(227, 111, 71, 1.000)\",\"width\":3,\"dash\":\"solid\",\"shape\":\"linear\"},\"y\":[0.9748171979372074,0.9748171979372074,0.9748171979372074,0.9748171979372074],\"type\":\"scatter\",\"name\":\"\",\"yaxis\":\"y\",\"x\":[2,3,4,5]},{\"showlegend\":false,\"mode\":\"lines\",\"xaxis\":\"x\",\"colorbar\":{\"title\":\"\"},\"line\":{\"color\":\"rgba(62, 164, 78, 1.000)\",\"width\":3,\"dash\":\"solid\",\"shape\":\"linear\"},\"y\":[0.9728940109399586,0.9728940109399586,0.9748171979372074,0.9748171979372074],\"type\":\"scatter\",\"name\":\"\",\"yaxis\":\"y\",\"x\":[2,3,4,5]}],\n",
       "               {\"showlegend\":true,\"xaxis\":{\"gridwidth\":0.5,\"tickvals\":[2.0,3.0,4.0,5.0],\"ticks\":\"inside\",\"tickmode\":\"array\",\"domain\":[0.09545056867891513,0.9934383202099738],\"linecolor\":\"rgba(0, 0, 0, 1.000)\",\"showgrid\":true,\"title\":\"d\",\"tickangle\":0,\"gridcolor\":\"rgba(0, 0, 0, 0.100)\",\"titlefont\":{\"color\":\"rgba(0, 0, 0, 1.000)\",\"family\":\"sans-serif\",\"size\":15},\"tickcolor\":\"rgba(0, 0, 0, 1.000)\",\"ticktext\":[\"2\",\"3\",\"4\",\"5\"],\"zeroline\":false,\"type\":\"-\",\"tickfont\":{\"color\":\"rgba(0, 0, 0, 1.000)\",\"family\":\"sans-serif\",\"size\":11},\"anchor\":\"y\"},\"paper_bgcolor\":\"rgba(255, 255, 255, 1.000)\",\"annotations\":[],\"height\":400,\"margin\":{\"l\":0,\"b\":20,\"r\":0,\"t\":20},\"plot_bgcolor\":\"rgba(255, 255, 255, 1.000)\",\"yaxis\":{\"gridwidth\":0.5,\"tickvals\":[0.975,0.9775,0.98,0.9825,0.985],\"ticks\":\"inside\",\"tickmode\":\"array\",\"domain\":[0.07581474190726165,0.9901574803149606],\"linecolor\":\"rgba(0, 0, 0, 1.000)\",\"showgrid\":true,\"title\":\"\",\"tickangle\":0,\"gridcolor\":\"rgba(0, 0, 0, 0.100)\",\"titlefont\":{\"color\":\"rgba(0, 0, 0, 1.000)\",\"family\":\"sans-serif\",\"size\":15},\"tickcolor\":\"rgba(0, 0, 0, 1.000)\",\"ticktext\":[\"0.9750\",\"0.9775\",\"0.9800\",\"0.9825\",\"0.9850\"],\"zeroline\":false,\"type\":\"-\",\"tickfont\":{\"color\":\"rgba(0, 0, 0, 1.000)\",\"family\":\"sans-serif\",\"size\":11},\"anchor\":\"x\"},\"legend\":{\"bordercolor\":\"rgba(0, 0, 0, 1.000)\",\"bgcolor\":\"rgba(255, 255, 255, 1.000)\",\"font\":{\"color\":\"rgba(0, 0, 0, 1.000)\",\"family\":\"sans-serif\",\"size\":11},\"y\":1.0,\"x\":1.0},\"width\":600}, {showLink: false});\n",
       "\n",
       "    });\n",
       " </script>\n"
      ]
     },
     "execution_count": 8,
     "metadata": {},
     "output_type": "execute_result"
    }
   ],
   "source": [
    "plot(2:5, xlabel = \"d\", xticks=2:5, sosub[2:5], label=\"\", linewidth=3)\n",
    "plot!(2:5, seql3[2:5], label=\"\", linewidth=3)\n",
    "plot!(2:5, seql1[2:5], label=\"\", linewidth=3)\n",
    "#plot!(1:6, seql2, label=\"Algorithm 1, l=2\")"
   ]
  }
 ],
 "metadata": {
  "kernelspec": {
   "display_name": "Julia 1.1.0",
   "language": "julia",
   "name": "julia-1.1"
  },
  "language_info": {
   "file_extension": ".jl",
   "mimetype": "application/julia",
   "name": "julia",
   "version": "1.1.0"
  }
 },
 "nbformat": 4,
 "nbformat_minor": 2
}
