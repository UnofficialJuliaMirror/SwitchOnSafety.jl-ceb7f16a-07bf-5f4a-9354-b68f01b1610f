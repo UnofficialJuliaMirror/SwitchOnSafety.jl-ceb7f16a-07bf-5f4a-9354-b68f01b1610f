{
 "cells": [
  {
   "cell_type": "markdown",
   "metadata": {},
   "source": [
    "Code to reproduce running example of\n",
    "\n",
    "B. Legat, R. M. Jungers, and P. A. Parrilo\n",
    "[**Certifying unstability of Switched Systems using Sum of Squares Programming**](https://arxiv.org/abs/1710.01814)"
   ]
  },
  {
   "cell_type": "code",
   "execution_count": null,
   "metadata": {
    "collapsed": true
   },
   "outputs": [],
   "source": [
    "Pkg.clone(\"https://github.com/blegat/HybridSystems.jl\")\n",
    "Pkg.clone(\"https://github.com/blegat/SwitchOnSafety.jl\")"
   ]
  },
  {
   "cell_type": "code",
   "execution_count": 27,
   "metadata": {
    "collapsed": true
   },
   "outputs": [],
   "source": [
    "include(Pkg.dir(\"SwitchOnSafety\", \"test\", \"solvers.jl\"))\n",
    "@assert !isempty(sdp_solvers)\n",
    "solver = first(sdp_solvers)\n",
    "include(Pkg.dir(\"HybridSystems\", \"examples\", \"PEDJ16s4.jl\"))\n",
    "using SwitchOnSafety"
   ]
  },
  {
   "cell_type": "code",
   "execution_count": 28,
   "metadata": {
    "collapsed": true
   },
   "outputs": [],
   "source": [
    "using Mosek\n",
    "solver = MosekSolver(LOG=0);"
   ]
  },
  {
   "cell_type": "markdown",
   "metadata": {},
   "source": [
    "## Example 3.6"
   ]
  },
  {
   "cell_type": "code",
   "execution_count": 9,
   "metadata": {},
   "outputs": [
    {
     "data": {
      "text/plain": [
       "plot_lyap (generic function with 1 method)"
      ]
     },
     "execution_count": 9,
     "metadata": {},
     "output_type": "execute_result"
    }
   ],
   "source": [
    "using MultivariatePolynomials\n",
    "function plot_lyap(p)\n",
    "    d = mindegree(p)\n",
    "    @assert d == maxdegree(p)\n",
    "    @assert nvariables(p) == 2\n",
    "    α = linspace(0., 2π, 1000)\n",
    "    X = cos.(α)\n",
    "    Y = sin.(α)\n",
    "    λ = map(x -> p(variables(p) => x), zip(X, Y))\n",
    "    λ = λ.^(1/d)\n",
    "    plot(X ./ λ, Y ./ λ, aspect_ratio=:equal, label=\"\", grid=false, border=nothing, ticks=nothing, linewidth=3)#, grid=false, label=\"\")\n",
    "    plot!(X, Y, label=\"\", linestyle=:dash, linecolor=:black, linewidth=2)\n",
    "end"
   ]
  },
  {
   "cell_type": "code",
   "execution_count": null,
   "metadata": {
    "collapsed": true
   },
   "outputs": [],
   "source": [
    "gr()\n",
    "for d in 1:6\n",
    "    for v in 1:4\n",
    "        plot_lyap(get(s.lyaps[d]).primal[v])\n",
    "        savefig(\"PEDJ_d\" * string(d) * \"_v\" * string(v) * \".png\")\n",
    "    end\n",
    "end"
   ]
  },
  {
   "cell_type": "markdown",
   "metadata": {},
   "source": [
    "## Example 4.3"
   ]
  },
  {
   "cell_type": "code",
   "execution_count": 26,
   "metadata": {},
   "outputs": [
    {
     "name": "stdout",
     "output_type": "stream",
     "text": [
      "μ_{131} = 1.090815554022926 * δ_{[0.917, 0.399]}\n",
      "normalize(SwitchOnSafety.dynamicforσ(hs, σ) * y) = [0.999626, -0.027334]\n",
      "μ_{312} = 1.1435640854730555 * δ_{[0.874, 0.485]}\n",
      "normalize(SwitchOnSafety.dynamicforσ(hs, σ) * y) = [0.916725, 0.399518]\n",
      "μ_{331} = 1.3211597229435221 * δ_{[0.757, -0.654]}\n",
      "normalize(SwitchOnSafety.dynamicforσ(hs, σ) * y) = [0.421783, -0.906697]\n"
     ]
    }
   ],
   "source": [
    "using MultivariatePolynomials\n",
    "using MultivariateMoments\n",
    "d = 1\n",
    "tol = 1e-4\n",
    "lyap = getlyap(hs, d, solver=solver, tol=tol)\n",
    "for s in states(hs)\n",
    "    for t in out_transitions(hs, s)\n",
    "        σ = symbol(hs, t)\n",
    "        μ = SwitchOnSafety.measurefor(lyap.dual, hs, t)\n",
    "        X = monomials(variables(μ), d)\n",
    "        ν = matmeasure(μ, X)\n",
    "        a = extractatoms(ν, tol)\n",
    "        if !isnull(a)\n",
    "            v = target(hs, t)\n",
    "            x = get(a).support[1]\n",
    "            nx = norm(x, 2)\n",
    "            y = round.(x / nx, 3)\n",
    "            println(\"μ_{$s$v$σ} = $nx * δ_{$y}\")\n",
    "            @show normalize(SwitchOnSafety.dynamicforσ(hs, σ) * y)\n",
    "        end\n",
    "    end\n",
    "end"
   ]
  },
  {
   "cell_type": "markdown",
   "metadata": {},
   "source": [
    "## Example 4.10"
   ]
  },
  {
   "cell_type": "code",
   "execution_count": 3,
   "metadata": {},
   "outputs": [
    {
     "data": {
      "text/plain": [
       "sequencelb (generic function with 1 method)"
      ]
     },
     "execution_count": 3,
     "metadata": {},
     "output_type": "execute_result"
    }
   ],
   "source": [
    "function sequencelb(s, d, l)\n",
    "    best = 0.\n",
    "    for p_0 in (:Primal, :Random)\n",
    "        for v_0 in states(s)\n",
    "            seq = sosbuildsequence(s, d, p_0=p_0, v_0=v_0, l=l, niter=100)\n",
    "            psw = findsmp(seq)\n",
    "            @assert !isnull(psw)\n",
    "            best = max(best, get(psw).growthrate)\n",
    "        end\n",
    "    end\n",
    "    best\n",
    "end"
   ]
  },
  {
   "cell_type": "code",
   "execution_count": 29,
   "metadata": {
    "collapsed": true
   },
   "outputs": [],
   "source": [
    "soslb = zeros(6)\n",
    "sosub = zeros(6)\n",
    "sosex = zeros(6)\n",
    "seql1 = zeros(6)\n",
    "seql2 = zeros(6)\n",
    "seql3 = zeros(6)\n",
    "seql4 = zeros(6)\n",
    "seql5 = zeros(6);"
   ]
  },
  {
   "cell_type": "code",
   "execution_count": null,
   "metadata": {
    "collapsed": true
   },
   "outputs": [],
   "source": [
    "tol = 5e-4\n",
    "\n",
    "for d in 1:6\n",
    "    sosdata(hs).lb = 0.\n",
    "    sosdata(hs).smp = nothing\n",
    "    soslb[d], sosub[d] = soslyapb(hs, d, solver=solver, tol=tol, ranktols=[1e-10, 1e-9, 1e-8, 1e-7, 1e-6, 1e-5, 1e-4, 1e-3, 1e-2, 1e-1], disttols=[1e-5, 1e-4, 1e-3, 1e-2, 5e-2, 1e-1])\n",
    "    if hassmp(hs)\n",
    "        sosex[d] = getsmp(hs).growthrate\n",
    "    end\n",
    "    seql1[d] = sequencelb(hs, d, 1)\n",
    "    seql2[d] = sequencelb(hs, d, 2)\n",
    "    seql3[d] = sequencelb(hs, d, 3)\n",
    "end"
   ]
  },
  {
   "cell_type": "code",
   "execution_count": null,
   "metadata": {
    "collapsed": true
   },
   "outputs": [],
   "source": [
    "using Plots\n",
    "plotlyjs()"
   ]
  },
  {
   "cell_type": "code",
   "execution_count": 7,
   "metadata": {},
   "outputs": [
    {
     "data": {
      "text/html": [
       "<div id=\"f388a597-6c0f-4c3a-9608-8d522540181d\" class=\"plotly-graph-div\"></div>\n",
       "\n",
       "<script>\n",
       "    window.PLOTLYENV=window.PLOTLYENV || {};\n",
       "    window.PLOTLYENV.BASE_URL=\"https://plot.ly\";\n",
       "    require(['plotly'], function(Plotly) {\n",
       "        Plotly.newPlot('f388a597-6c0f-4c3a-9608-8d522540181d', [{\"showlegend\":true,\"mode\":\"lines\",\"xaxis\":\"x\",\"colorbar\":{\"title\":\"\"},\"line\":{\"color\":\"rgba(0, 154, 250, 1.000)\",\"width\":3,\"dash\":\"solid\",\"shape\":\"linear\"},\"y\":[1.0039138893383477,0.9864211606099766,0.9773121116438532,0.9754051617877207,0.9754051617877207,0.9749290059944998],\"type\":\"scatter\",\"name\":\"SOS UB\",\"yaxis\":\"y\",\"x\":[1,2,3,4,5,6]},{\"showlegend\":true,\"mode\":\"lines\",\"xaxis\":\"x\",\"colorbar\":{\"title\":\"\"},\"line\":{\"color\":\"rgba(227, 111, 71, 1.000)\",\"width\":3,\"dash\":\"solid\",\"shape\":\"linear\"},\"y\":[0.9748171979372074,0.9748171979372074,0.9748171979372074,0.9748171979372074,0.9748171979372074,0.9748171979372074],\"type\":\"scatter\",\"name\":\"Algorithm 1, l=3\",\"yaxis\":\"y\",\"x\":[1,2,3,4,5,6]},{\"showlegend\":true,\"mode\":\"lines\",\"xaxis\":\"x\",\"colorbar\":{\"title\":\"\"},\"line\":{\"color\":\"rgba(62, 164, 78, 1.000)\",\"width\":3,\"dash\":\"solid\",\"shape\":\"linear\"},\"y\":[0.9728940109399586,0.9728940109399586,0.9728940109399586,0.9748171979372074,0.9748171979372074,0.9748171979372074],\"type\":\"scatter\",\"name\":\"Algorithm 1, l=1\",\"yaxis\":\"y\",\"x\":[1,2,3,4,5,6]},{\"showlegend\":true,\"mode\":\"lines\",\"xaxis\":\"x\",\"colorbar\":{\"title\":\"\"},\"line\":{\"color\":\"rgba(195, 113, 210, 1.000)\",\"width\":3,\"dash\":\"solid\",\"shape\":\"linear\"},\"y\":[0.9392550239418472,0.9392550239418472,0.9392550239418472,0.9392550239418472,0.9392550239418472,0.9392550239418472],\"type\":\"scatter\",\"name\":\"Atom extraction\",\"yaxis\":\"y\",\"x\":[1,2,3,4,5,6]},{\"showlegend\":true,\"mode\":\"lines\",\"xaxis\":\"x\",\"colorbar\":{\"title\":\"\"},\"line\":{\"color\":\"rgba(172, 142, 24, 1.000)\",\"width\":3,\"dash\":\"solid\",\"shape\":\"linear\"},\"y\":[0.7095277851685835,0.7750977963278481,0.8320677246229312,0.8644225378680609,0.8854732864152122,0.8993519081663106],\"type\":\"scatter\",\"name\":\"SOS LB\",\"yaxis\":\"y\",\"x\":[1,2,3,4,5,6]}],\n",
       "               {\"showlegend\":true,\"xaxis\":{\"gridwidth\":0.5,\"tickvals\":[1.0,2.0,3.0,4.0,5.0,6.0],\"ticks\":\"inside\",\"tickmode\":\"array\",\"domain\":[0.0658209390492855,0.9934383202099738],\"linecolor\":\"rgba(0, 0, 0, 1.000)\",\"showgrid\":true,\"title\":\"d\",\"tickangle\":0,\"gridcolor\":\"rgba(0, 0, 0, 0.100)\",\"titlefont\":{\"color\":\"rgba(0, 0, 0, 1.000)\",\"family\":\"sans-serif\",\"size\":15},\"tickcolor\":\"rgba(0, 0, 0, 1.000)\",\"ticktext\":[\"1\",\"2\",\"3\",\"4\",\"5\",\"6\"],\"zeroline\":false,\"type\":\"-\",\"tickfont\":{\"color\":\"rgba(0, 0, 0, 1.000)\",\"family\":\"sans-serif\",\"size\":11},\"anchor\":\"y\"},\"paper_bgcolor\":\"rgba(255, 255, 255, 1.000)\",\"annotations\":[],\"height\":400,\"margin\":{\"l\":0,\"b\":20,\"r\":0,\"t\":20},\"plot_bgcolor\":\"rgba(255, 255, 255, 1.000)\",\"yaxis\":{\"gridwidth\":0.5,\"tickvals\":[0.75,0.8,0.8500000000000001,0.9,0.9500000000000001,1.0],\"ticks\":\"inside\",\"tickmode\":\"array\",\"domain\":[0.07581474190726165,0.9901574803149606],\"linecolor\":\"rgba(0, 0, 0, 1.000)\",\"showgrid\":true,\"title\":\"\",\"tickangle\":0,\"gridcolor\":\"rgba(0, 0, 0, 0.100)\",\"titlefont\":{\"color\":\"rgba(0, 0, 0, 1.000)\",\"family\":\"sans-serif\",\"size\":15},\"tickcolor\":\"rgba(0, 0, 0, 1.000)\",\"ticktext\":[\"0.75\",\"0.80\",\"0.85\",\"0.90\",\"0.95\",\"1.00\"],\"zeroline\":false,\"type\":\"-\",\"tickfont\":{\"color\":\"rgba(0, 0, 0, 1.000)\",\"family\":\"sans-serif\",\"size\":11},\"anchor\":\"x\"},\"legend\":{\"bordercolor\":\"rgba(0, 0, 0, 1.000)\",\"bgcolor\":\"rgba(255, 255, 255, 1.000)\",\"font\":{\"color\":\"rgba(0, 0, 0, 1.000)\",\"family\":\"sans-serif\",\"size\":17},\"y\":1.0,\"x\":1.0},\"width\":600}, {showLink: false});\n",
       "\n",
       "    });\n",
       " </script>\n"
      ]
     },
     "execution_count": 7,
     "metadata": {},
     "output_type": "execute_result"
    }
   ],
   "source": [
    "font = Plots.Font(\"sans-serif\",12,:hcenter,:vcenter,0.0,RGB{FixedPointNumbers.Normed{UInt8, 8}}(0.0,0.0,0.0))\n",
    "plot(1:6, xlabel = \"d\", sosub, label=\"SOS UB\", legendfont=font, linewidth=3)\n",
    "plot!(1:6, seql3, label=\"Algorithm 1, l=3\", linewidth=3)\n",
    "plot!(1:6, seql1, label=\"Algorithm 1, l=1\", linewidth=3)\n",
    "#plot!(1:6, seql2, label=\"Algorithm 1, l=2\")\n",
    "plot!(1:6, sosex, label=\"Atom extraction\", linewidth=3)\n",
    "plot!(1:6, soslb, label=\"SOS LB\", linewidth=3)"
   ]
  },
  {
   "cell_type": "code",
   "execution_count": 8,
   "metadata": {
    "scrolled": true
   },
   "outputs": [
    {
     "data": {
      "text/html": [
       "<div id=\"25d092bf-0eb4-4233-9494-caf7c7240744\" class=\"plotly-graph-div\"></div>\n",
       "\n",
       "<script>\n",
       "    window.PLOTLYENV=window.PLOTLYENV || {};\n",
       "    window.PLOTLYENV.BASE_URL=\"https://plot.ly\";\n",
       "    require(['plotly'], function(Plotly) {\n",
       "        Plotly.newPlot('25d092bf-0eb4-4233-9494-caf7c7240744', [{\"showlegend\":false,\"mode\":\"lines\",\"xaxis\":\"x\",\"colorbar\":{\"title\":\"\"},\"line\":{\"color\":\"rgba(0, 154, 250, 1.000)\",\"width\":3,\"dash\":\"solid\",\"shape\":\"linear\"},\"y\":[0.9864211606099766,0.9773121116438532,0.9754051617877207,0.9754051617877207],\"type\":\"scatter\",\"name\":\"\",\"yaxis\":\"y\",\"x\":[2,3,4,5]},{\"showlegend\":false,\"mode\":\"lines\",\"xaxis\":\"x\",\"colorbar\":{\"title\":\"\"},\"line\":{\"color\":\"rgba(227, 111, 71, 1.000)\",\"width\":3,\"dash\":\"solid\",\"shape\":\"linear\"},\"y\":[0.9748171979372074,0.9748171979372074,0.9748171979372074,0.9748171979372074],\"type\":\"scatter\",\"name\":\"\",\"yaxis\":\"y\",\"x\":[2,3,4,5]},{\"showlegend\":false,\"mode\":\"lines\",\"xaxis\":\"x\",\"colorbar\":{\"title\":\"\"},\"line\":{\"color\":\"rgba(62, 164, 78, 1.000)\",\"width\":3,\"dash\":\"solid\",\"shape\":\"linear\"},\"y\":[0.9728940109399586,0.9728940109399586,0.9748171979372074,0.9748171979372074],\"type\":\"scatter\",\"name\":\"\",\"yaxis\":\"y\",\"x\":[2,3,4,5]}],\n",
       "               {\"showlegend\":true,\"xaxis\":{\"gridwidth\":0.5,\"tickvals\":[2.0,3.0,4.0,5.0],\"ticks\":\"inside\",\"tickmode\":\"array\",\"domain\":[0.09545056867891513,0.9934383202099738],\"linecolor\":\"rgba(0, 0, 0, 1.000)\",\"showgrid\":true,\"title\":\"d\",\"tickangle\":0,\"gridcolor\":\"rgba(0, 0, 0, 0.100)\",\"titlefont\":{\"color\":\"rgba(0, 0, 0, 1.000)\",\"family\":\"sans-serif\",\"size\":15},\"tickcolor\":\"rgba(0, 0, 0, 1.000)\",\"ticktext\":[\"2\",\"3\",\"4\",\"5\"],\"zeroline\":false,\"type\":\"-\",\"tickfont\":{\"color\":\"rgba(0, 0, 0, 1.000)\",\"family\":\"sans-serif\",\"size\":11},\"anchor\":\"y\"},\"paper_bgcolor\":\"rgba(255, 255, 255, 1.000)\",\"annotations\":[],\"height\":400,\"margin\":{\"l\":0,\"b\":20,\"r\":0,\"t\":20},\"plot_bgcolor\":\"rgba(255, 255, 255, 1.000)\",\"yaxis\":{\"gridwidth\":0.5,\"tickvals\":[0.975,0.9775,0.98,0.9825,0.985],\"ticks\":\"inside\",\"tickmode\":\"array\",\"domain\":[0.07581474190726165,0.9901574803149606],\"linecolor\":\"rgba(0, 0, 0, 1.000)\",\"showgrid\":true,\"title\":\"\",\"tickangle\":0,\"gridcolor\":\"rgba(0, 0, 0, 0.100)\",\"titlefont\":{\"color\":\"rgba(0, 0, 0, 1.000)\",\"family\":\"sans-serif\",\"size\":15},\"tickcolor\":\"rgba(0, 0, 0, 1.000)\",\"ticktext\":[\"0.9750\",\"0.9775\",\"0.9800\",\"0.9825\",\"0.9850\"],\"zeroline\":false,\"type\":\"-\",\"tickfont\":{\"color\":\"rgba(0, 0, 0, 1.000)\",\"family\":\"sans-serif\",\"size\":11},\"anchor\":\"x\"},\"legend\":{\"bordercolor\":\"rgba(0, 0, 0, 1.000)\",\"bgcolor\":\"rgba(255, 255, 255, 1.000)\",\"font\":{\"color\":\"rgba(0, 0, 0, 1.000)\",\"family\":\"sans-serif\",\"size\":11},\"y\":1.0,\"x\":1.0},\"width\":600}, {showLink: false});\n",
       "\n",
       "    });\n",
       " </script>\n"
      ]
     },
     "execution_count": 8,
     "metadata": {},
     "output_type": "execute_result"
    }
   ],
   "source": [
    "plot(2:5, xlabel = \"d\", xticks=2:5, sosub[2:5], label=\"\", linewidth=3)\n",
    "plot!(2:5, seql3[2:5], label=\"\", linewidth=3)\n",
    "plot!(2:5, seql1[2:5], label=\"\", linewidth=3)\n",
    "#plot!(1:6, seql2, label=\"Algorithm 1, l=2\")"
   ]
  }
 ],
 "metadata": {
  "kernelspec": {
   "display_name": "Julia 0.6.0",
   "language": "julia",
   "name": "julia-0.6"
  },
  "language_info": {
   "file_extension": ".jl",
   "mimetype": "application/julia",
   "name": "julia",
   "version": "0.6.0"
  }
 },
 "nbformat": 4,
 "nbformat_minor": 2
}
