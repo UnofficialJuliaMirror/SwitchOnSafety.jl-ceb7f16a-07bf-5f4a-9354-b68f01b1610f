{
 "cells": [
  {
   "cell_type": "code",
   "execution_count": 1,
   "metadata": {},
   "outputs": [
    {
     "name": "stdout",
     "output_type": "stream",
     "text": [
      "\u001b[32m\u001b[1m  Updating\u001b[22m\u001b[39m registry at `~/.julia/registries/General`\n",
      "\u001b[32m\u001b[1m  Updating\u001b[22m\u001b[39m git-repo `https://github.com/JuliaRegistries/General.git`\n",
      "\u001b[?25l\u001b[2K\u001b[?25h"
     ]
    }
   ],
   "source": [
    "import Pkg\n",
    "Pkg.activate(@__DIR__)\n",
    "Pkg.instantiate()"
   ]
  },
  {
   "cell_type": "markdown",
   "metadata": {},
   "source": [
    "This example was found in a previous collaboration with N. Guglielmi and A. Cicone (unpublished)"
   ]
  },
  {
   "cell_type": "code",
   "execution_count": 1,
   "metadata": {},
   "outputs": [
    {
     "data": {
      "text/plain": [
       "Hybrid System with automaton OneStateAutomaton(2)"
      ]
     },
     "execution_count": 1,
     "metadata": {},
     "output_type": "execute_result"
    }
   ],
   "source": [
    "A1 = [-1  1 -1\n",
    "      -1 -1  1\n",
    "       0  1  1]\n",
    " \n",
    "A2 = [-1  1 -1\n",
    "      -1 -1  0\n",
    "       0  1  1]\n",
    " \n",
    "using HybridSystems\n",
    "s = discreteswitchedsystem([A1, A2])"
   ]
  },
  {
   "cell_type": "code",
   "execution_count": 2,
   "metadata": {},
   "outputs": [
    {
     "data": {
      "text/plain": [
       "PSW(1.6841852824915513, [1, 1, 1, 2, 2, 1, 1, 2, 2, 1, 1, 2, 2, 1, 1, 2, 2, 1, 1, 2, 2, 1, 1, 2, 2, 1, 1, 2, 2, 1, 1, 2, 2, 1, 1, 2, 2, 1, 1, 1, 2])"
      ]
     },
     "execution_count": 2,
     "metadata": {},
     "output_type": "execute_result"
    }
   ],
   "source": [
    "using SwitchOnSafety\n",
    "smp = periodicswitching(s,\n",
    "[1, 1, 1, 2, 2,\n",
    " 1, 1, 2, 2,\n",
    " 1, 1, 2, 2,\n",
    " 1, 1, 2, 2,\n",
    " 1, 1, 2, 2,\n",
    " 1, 1, 2, 2,\n",
    " 1, 1, 2, 2,\n",
    " 1, 1, 2, 2,\n",
    " 1, 1, 2, 2,\n",
    " 1, 1, 1, 2])"
   ]
  },
  {
   "cell_type": "markdown",
   "metadata": {
    "collapsed": true
   },
   "source": [
    "## Gripenberg"
   ]
  },
  {
   "cell_type": "code",
   "execution_count": 5,
   "metadata": {},
   "outputs": [
    {
     "name": "stdout",
     "output_type": "stream",
     "text": [
      "ρ evaluations   : 356 < 1000 = max_ρ_eval.\n",
      "norm evaluations: 356 < 10000 = max_norm_eval.\n",
      "switch length   : 29 < 50 = max_length.\n",
      "  0.005067 seconds (21.49 k allocations: 2.085 MiB)\n",
      "ub = 1.6918582142440248\n"
     ]
    },
    {
     "data": {
      "text/plain": [
       "PSW(1.6821372240586803, [2, 1, 1, 2, 1, 1, 1, 2, 2, 1, 1, 2, 2, 1, 1, 2, 2, 1, 1, 2, 2, 1, 1, 2, 2, 1, 1, 1, 2])"
      ]
     },
     "execution_count": 5,
     "metadata": {},
     "output_type": "execute_result"
    }
   ],
   "source": [
    "@time smp, ub = gripenberg(s, δ=1e-2)\n",
    "@show ub\n",
    "smp"
   ]
  },
  {
   "cell_type": "code",
   "execution_count": 9,
   "metadata": {},
   "outputs": [
    {
     "name": "stdout",
     "output_type": "stream",
     "text": [
      "ρ evaluations   : 26766 < 1000000 = max_ρ_eval.\n",
      "norm evaluations: 26766 < 1000000 = max_norm_eval.\n",
      "switch length   : 85 < 100 = max_length.\n",
      "  0.279598 seconds (1.58 M allocations: 163.897 MiB, 8.07% gc time)\n",
      "ub = 1.6851852824915512\n",
      "length(smp.period) = 41\n"
     ]
    },
    {
     "data": {
      "text/plain": [
       "PSW(1.6841852824915513, [1, 1, 2, 1, 1, 1, 2, 2, 1, 1, 2, 2, 1, 1, 2, 2, 1, 1, 2, 2, 1, 1, 2, 2, 1, 1, 2, 2, 1, 1, 2, 2, 1, 1, 2, 2, 1, 1, 2, 2, 1])"
      ]
     },
     "execution_count": 9,
     "metadata": {},
     "output_type": "execute_result"
    }
   ],
   "source": [
    "MAX = 1000000\n",
    "@time smp, ub = gripenberg(s, δ=1e-3, max_ρ_eval=MAX, max_norm_eval=MAX, max_length = 100)\n",
    "@show ub\n",
    "@show length(smp.period)\n",
    "smp"
   ]
  },
  {
   "cell_type": "code",
   "execution_count": null,
   "metadata": {},
   "outputs": [],
   "source": []
  }
 ],
 "metadata": {
  "@webio": {
   "lastCommId": null,
   "lastKernelId": null
  },
  "kernelspec": {
   "display_name": "Julia 1.1.0",
   "language": "julia",
   "name": "julia-1.1"
  },
  "language_info": {
   "file_extension": ".jl",
   "mimetype": "application/julia",
   "name": "julia",
   "version": "1.1.0"
  }
 },
 "nbformat": 4,
 "nbformat_minor": 2
}
