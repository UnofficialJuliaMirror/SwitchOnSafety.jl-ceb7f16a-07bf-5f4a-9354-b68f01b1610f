{
 "cells": [
  {
   "cell_type": "code",
   "execution_count": 1,
   "metadata": {},
   "outputs": [
    {
     "name": "stdout",
     "output_type": "stream",
     "text": [
      "\u001b[32m\u001b[1m  Updating\u001b[22m\u001b[39m registry at `~/.julia/registries/General`\n",
      "\u001b[32m\u001b[1m  Updating\u001b[22m\u001b[39m git-repo `https://github.com/JuliaRegistries/General.git`\n",
      "\u001b[?25l\u001b[2K\u001b[?25h"
     ]
    }
   ],
   "source": [
    "import Pkg\n",
    "Pkg.activate(@__DIR__)\n",
    "Pkg.instantiate()"
   ]
  },
  {
   "cell_type": "markdown",
   "metadata": {},
   "source": [
    "This example was found in a previous collaboration with N. Guglielmi and A. Cicone (unpublished)"
   ]
  },
  {
   "cell_type": "code",
   "execution_count": 2,
   "metadata": {},
   "outputs": [
    {
     "data": {
      "text/plain": [
       "Hybrid System with automaton OneStateAutomaton(2)"
      ]
     },
     "execution_count": 2,
     "metadata": {},
     "output_type": "execute_result"
    }
   ],
   "source": [
    "A1 = [-1  1 -1\n",
    "      -1 -1  1\n",
    "       0  1  1]\n",
    " \n",
    "A2 = [-1  1 -1\n",
    "      -1 -1  0\n",
    "       0  1  1]\n",
    " \n",
    "using HybridSystems\n",
    "s = discreteswitchedsystem([A1, A2])"
   ]
  },
  {
   "cell_type": "code",
   "execution_count": 3,
   "metadata": {},
   "outputs": [
    {
     "name": "stderr",
     "output_type": "stream",
     "text": [
      "┌ Info: Recompiling stale cache file /home/blegat/.julia/compiled/v1.1/SwitchOnSafety/EUPLd.ji for SwitchOnSafety [ceb7f16a-07bf-5f4a-9354-b68f01b1610f]\n",
      "└ @ Base loading.jl:1184\n"
     ]
    },
    {
     "data": {
      "text/plain": [
       "PSW(1.6841852824915513, [1, 1, 1, 2, 2, 1, 1, 2, 2, 1, 1, 2, 2, 1, 1, 2, 2, 1, 1, 2, 2, 1, 1, 2, 2, 1, 1, 2, 2, 1, 1, 2, 2, 1, 1, 2, 2, 1, 1, 1, 2])"
      ]
     },
     "execution_count": 3,
     "metadata": {},
     "output_type": "execute_result"
    }
   ],
   "source": [
    "using SwitchOnSafety\n",
    "smp = periodicswitching(s,\n",
    "[1, 1, 1, 2, 2,\n",
    " 1, 1, 2, 2,\n",
    " 1, 1, 2, 2,\n",
    " 1, 1, 2, 2,\n",
    " 1, 1, 2, 2,\n",
    " 1, 1, 2, 2,\n",
    " 1, 1, 2, 2,\n",
    " 1, 1, 2, 2,\n",
    " 1, 1, 2, 2,\n",
    " 1, 1, 1, 2])"
   ]
  },
  {
   "cell_type": "markdown",
   "metadata": {
    "collapsed": true
   },
   "source": [
    "## Gripenberg"
   ]
  },
  {
   "cell_type": "code",
   "execution_count": 5,
   "metadata": {},
   "outputs": [
    {
     "name": "stdout",
     "output_type": "stream",
     "text": [
      "ρ evaluations   : 356 < 1000 = max_ρ_eval.\n",
      "norm evaluations: 356 < 10000 = max_norm_eval.\n",
      "switch length   : 29 < 50 = max_length.\n",
      "  0.005067 seconds (21.49 k allocations: 2.085 MiB)\n",
      "ub = 1.6918582142440248\n"
     ]
    },
    {
     "data": {
      "text/plain": [
       "PSW(1.6821372240586803, [2, 1, 1, 2, 1, 1, 1, 2, 2, 1, 1, 2, 2, 1, 1, 2, 2, 1, 1, 2, 2, 1, 1, 2, 2, 1, 1, 1, 2])"
      ]
     },
     "execution_count": 5,
     "metadata": {},
     "output_type": "execute_result"
    }
   ],
   "source": [
    "@time smp, ub = gripenberg(s, δ=1e-2)\n",
    "@show ub\n",
    "smp"
   ]
  },
  {
   "cell_type": "code",
   "execution_count": 9,
   "metadata": {},
   "outputs": [
    {
     "name": "stdout",
     "output_type": "stream",
     "text": [
      "ρ evaluations   : 26766 < 1000000 = max_ρ_eval.\n",
      "norm evaluations: 26766 < 1000000 = max_norm_eval.\n",
      "switch length   : 85 < 100 = max_length.\n",
      "  0.279598 seconds (1.58 M allocations: 163.897 MiB, 8.07% gc time)\n",
      "ub = 1.6851852824915512\n",
      "length(smp.period) = 41\n"
     ]
    },
    {
     "data": {
      "text/plain": [
       "PSW(1.6841852824915513, [1, 1, 2, 1, 1, 1, 2, 2, 1, 1, 2, 2, 1, 1, 2, 2, 1, 1, 2, 2, 1, 1, 2, 2, 1, 1, 2, 2, 1, 1, 2, 2, 1, 1, 2, 2, 1, 1, 2, 2, 1])"
      ]
     },
     "execution_count": 9,
     "metadata": {},
     "output_type": "execute_result"
    }
   ],
   "source": [
    "MAX = 1000000\n",
    "@time smp, ub = gripenberg(s, δ=1e-3, max_ρ_eval=MAX, max_norm_eval=MAX, max_length = 100)\n",
    "@show ub\n",
    "@show length(smp.period)\n",
    "smp"
   ]
  },
  {
   "cell_type": "markdown",
   "metadata": {},
   "source": [
    "## Polytopic proof of the s.m.p."
   ]
  },
  {
   "cell_type": "code",
   "execution_count": 9,
   "metadata": {},
   "outputs": [
    {
     "name": "stdout",
     "output_type": "stream",
     "text": [
      "Depth 1: [1] points, 1 living leaves...\n",
      "\u001b[34m\u001b[1mNew candidate s.m.p. found\u001b[22m\u001b[39m because ⟨v_1*, v⟩ - 1 = -7.485080498425577e15 + 2.2452343866386296e16im > 1.0e-6:\n",
      "PSW(1.6408972581721992, [1])\n",
      "Depth 1: [1] points, 1 living leaves...\n",
      "\u001b[34m\u001b[1mNew candidate s.m.p. found\u001b[22m\u001b[39m because ⟨v_1*, v⟩ - 1 = -1.4373761501713728e16 + 2.7152396265983616e16im > 1.0e-6:\n",
      "\u001b[31m\u001b[1maborting\u001b[22m\u001b[39m with smp candidate PSW(1.637656938495055, [1, 1, 1, 1, 1, 1, 1, 1, 1, 1, 2]) of length 11 after prefixing the suffix with 10 times the current s.m.p. Increase the value of the `max_cycles` keyword argument to go further.\n",
      "Depth 2: [2] points, 1 living leaves...\n",
      "\u001b[34m\u001b[1mNew candidate s.m.p. found\u001b[22m\u001b[39m because ⟨v_1*, v⟩ - 1 = 2.8616122154926736e16 - 1.117923054183351e16im > 1.0e-6:\n",
      "\u001b[31m\u001b[1maborting\u001b[22m\u001b[39m with smp candidate PSW(1.6363506091712026, [1, 1, 1, 1, 1, 1, 1, 1, 1, 1, 2, 1]) of length 12 after prefixing the suffix with 10 times the current s.m.p. Increase the value of the `max_cycles` keyword argument to go further.\n",
      "\u001b[34m\u001b[1mNew candidate s.m.p. found\u001b[22m\u001b[39m because ⟨v_1*, v⟩ - 1 = 2.1772960736767104e16 - 4.112966934493226e16im > 1.0e-6:\n",
      "PSW(1.681792830507429, [1, 1, 2, 2])\n",
      "Depth 1: [4] points, 4 living leaves...\n",
      "\u001b[34m\u001b[1mNew candidate s.m.p. found\u001b[22m\u001b[39m because ⟨v_1*, v⟩ - 1 = -2.000015073979561 > 1.0e-6:\n",
      "\u001b[31m\u001b[1maborting\u001b[22m\u001b[39m with smp candidate PSW(1.6802978975269656, [1, 1, 2, 2, 1, 1, 2, 2, 1, 1, 2, 2, 1, 1, 2, 2, 1, 1, 2, 2, 1, 1, 2, 2, 1, 1, 2, 2, 1, 1, 2, 2, 1, 1, 2, 2, 1, 1, 2, 2, 2]) of length 41 after prefixing the suffix with 10 times the current s.m.p. Increase the value of the `max_cycles` keyword argument to go further.\n",
      "Depth 2: [8] points, 4 living leaves...\n",
      "Depth 3: [13] points, 5 living leaves...\n",
      "Depth 4: [18] points, 5 living leaves...\n",
      "Depth 5: [23] points, 5 living leaves...\n",
      "Depth 6: [29] points, 6 living leaves...\n",
      "Depth 7: [37] points, 8 living leaves...\n",
      "Depth 8: [46] points, 9 living leaves...\n",
      "Depth 9: [55] points, 9 living leaves...\n",
      "Depth 10: [63] points, 8 living leaves...\n",
      "Depth 11: [70] points, 7 living leaves...\n",
      "Depth 12: [79] points, 9 living leaves...\n",
      "Depth 13: [88] points, 9 living leaves...\n",
      "Depth 14: [99] points, 11 living leaves...\n",
      "Depth 15: [112] points, 13 living leaves...\n",
      "Depth 16: [118] points, 6 living leaves...\n",
      "Depth 17: [125] points, 7 living leaves...\n",
      "Depth 18: [133] points, 8 living leaves...\n",
      "Depth 19: [143] points, 10 living leaves...\n",
      "Depth 20: [152] points, 9 living leaves...\n",
      "Depth 21: [163] points, 11 living leaves...\n",
      "\u001b[34m\u001b[1mNew candidate s.m.p. found\u001b[22m\u001b[39m because ⟨v_3*, v⟩ - 1 = 0.01601953261652289 > 1.0e-6:\n",
      "PSW(1.6821826549700005, [2, 2, 1, 1, 1, 2, 1, 1, 1, 2, 2, 1, 1, 2, 2, 1, 1, 2, 2, 1, 1, 2, 2, 1, 1])\n",
      "Depth 1: [25] points, 25 living leaves...\n",
      "\u001b[34m\u001b[1mNew candidate s.m.p. found\u001b[22m\u001b[39m because ⟨v_11*, v⟩ - 1 = -2.0089842197849195 > 1.0e-6:\n",
      "\u001b[31m\u001b[1maborting\u001b[22m\u001b[39m with smp candidate PSW(1.6232765668088314, [2, 1, 1, 2, 2, 1, 1, 2, 2, 1, 1, 2, 2, 1, 1, 2, 2, 1, 1, 1, 2, 1, 1, 1, 2, 1]) of length 26 after prefixing the suffix with 1 times the current s.m.p. Increase the value of the `max_smp_length` keyword argument to go further.\n",
      "Depth 2: [33] points, 8 living leaves...\n",
      "Depth 3: [41] points, 8 living leaves...\n",
      "Depth 4: [51] points, 10 living leaves...\n",
      "\u001b[34m\u001b[1mNew candidate s.m.p. found\u001b[22m\u001b[39m because ⟨v_5*, v⟩ - 1 = 0.035322824432211686 > 1.0e-6:\n",
      "PSW(1.6833545693183518, [1, 2, 1, 1, 1, 2, 2, 1, 1, 2, 2, 1, 1, 2, 2, 1, 1, 2, 2, 1, 1, 2, 2, 1, 1, 2, 2, 1, 1])\n",
      "Depth 1: [29] points, 29 living leaves...\n",
      "Depth 2: [48] points, 19 living leaves...\n",
      "Depth 3: [64] points, 16 living leaves...\n",
      "Depth 4: [78] points, 14 living leaves...\n",
      "\u001b[34m\u001b[1mNew candidate s.m.p. found\u001b[22m\u001b[39m because ⟨v_1*, v⟩ - 1 = -2.0111409253033043 > 1.0e-6:\n",
      "PSW(1.6838938954053915, [1, 2, 1, 1, 1, 2, 2, 1, 1, 2, 2, 1, 1, 2, 2, 1, 1, 2, 2, 1, 1, 2, 2, 1, 1, 2, 2, 1, 1, 2, 2, 1, 1])\n",
      "Depth 1: [33] points, 33 living leaves...\n",
      "Depth 2: [55] points, 22 living leaves...\n",
      "Depth 3: [76] points, 21 living leaves...\n",
      "Depth 4: [99] points, 23 living leaves...\n",
      "\u001b[34m\u001b[1mNew candidate s.m.p. found\u001b[22m\u001b[39m because ⟨v_1*, v⟩ - 1 = -2.0052375894648655 > 1.0e-6:\n",
      "PSW(1.6841203966117424, [1, 2, 1, 1, 1, 2, 2, 1, 1, 2, 2, 1, 1, 2, 2, 1, 1, 2, 2, 1, 1, 2, 2, 1, 1, 2, 2, 1, 1, 2, 2, 1, 1, 2, 2, 1, 1])\n",
      "Depth 1: [37] points, 37 living leaves...\n",
      "Depth 2: [61] points, 24 living leaves...\n",
      "Depth 3: [86] points, 25 living leaves...\n",
      "Depth 4: [116] points, 30 living leaves...\n",
      "\u001b[34m\u001b[1mNew candidate s.m.p. found\u001b[22m\u001b[39m because ⟨v_1*, v⟩ - 1 = -2.0017065188166017 > 1.0e-6:\n",
      "PSW(1.6841852824915513, [1, 2, 1, 1, 1, 2, 2, 1, 1, 2, 2, 1, 1, 2, 2, 1, 1, 2, 2, 1, 1, 2, 2, 1, 1, 2, 2, 1, 1, 2, 2, 1, 1, 2, 2, 1, 1, 2, 2, 1, 1])\n",
      "Depth 1: [41] points, 41 living leaves...\n",
      "Depth 2: [68] points, 27 living leaves...\n",
      "Depth 3: [96] points, 28 living leaves...\n",
      "Depth 4: [132] points, 36 living leaves...\n",
      "Depth 5: [170] points, 38 living leaves...\n",
      "Depth 6: [207] points, 37 living leaves...\n",
      "Depth 7: [244] points, 37 living leaves...\n",
      "Depth 8: [281] points, 37 living leaves...\n",
      "Depth 9: [314] points, 33 living leaves...\n",
      "Depth 10: [347] points, 33 living leaves...\n",
      "Depth 11: [365] points, 18 living leaves...\n",
      "Depth 12: [373] points, 8 living leaves...\n",
      "Depth 13: [381] points, 8 living leaves...\n",
      "Depth 14: [389] points, 8 living leaves...\n",
      "Depth 15: [397] points, 8 living leaves...\n",
      "0 living leaves, PSW(1.6841852824915513, [1, 2, 1, 1, 1, 2, 2, 1, 1, 2, 2, 1, 1, 2, 2, 1, 1, 2, 2, 1, 1, 2, 2, 1, 1, 2, 2, 1, 1, 2, 2, 1, 1, 2, 2, 1, 1, 2, 2, 1, 1]) is a \u001b[0m\u001b[1mspectral maximizing product\u001b[22m (s.m.p.)\n",
      "Use `tol` < -9.196059961213976e-5 to eliminate at least one more living leaf.\n",
      "Use `tol` > 0.0 to keep at least one more dead leaf.\n",
      "Use `new_candidate_tol` < -0.0003583593909899374 to consider at least one more candidate as s.m.p.\n",
      "Use `new_candidate_tol` > 1.5073979561019968e-5 to eliminate at least one s.m.p. candidate.\n",
      " 11.666290 seconds (55.69 M allocations: 8.782 GiB, 21.40% gc time)\n"
     ]
    }
   ],
   "source": [
    "using JuMP, MosekTools, SwitchOnSafety\n",
    "@time smp, done, polys = invariant_polytopes(s, with_optimizer(Mosek.Optimizer, QUIET=true),\n",
    "    periodicswitching(s, [2]), max_length=50, tol=0.0);"
   ]
  },
  {
   "cell_type": "code",
   "execution_count": 7,
   "metadata": {},
   "outputs": [
    {
     "name": "stdout",
     "output_type": "stream",
     "text": [
      "Depth 1: [1] points, 1 living leaves...\n",
      "\u001b[34m\u001b[1mNew candidate s.m.p. found\u001b[22m\u001b[39m because ⟨v_1*, v⟩ - 1 = -7.485080498425577e15 + 2.2452343866386296e16im > 1.0e-6:\n",
      "PSW(1.6408972581721992, [1])\n",
      "Depth 1: [1] points, 1 living leaves...\n",
      "\u001b[34m\u001b[1mNew candidate s.m.p. found\u001b[22m\u001b[39m because ⟨v_1*, v⟩ - 1 = -1.4373761501713728e16 + 2.7152396265983616e16im > 1.0e-6:\n",
      "\u001b[31m\u001b[1maborting\u001b[22m\u001b[39m with smp candidate PSW(1.637656938495055, [1, 1, 1, 1, 1, 1, 1, 1, 1, 1, 2]) of length 11 after prefixing the suffix with 10 times the current s.m.p. Increase the value of the `max_cycles` keyword argument to go further.\n",
      "Depth 2: [2] points, 1 living leaves...\n",
      "\u001b[34m\u001b[1mNew candidate s.m.p. found\u001b[22m\u001b[39m because ⟨v_1*, v⟩ - 1 = 2.8616122154926736e16 - 1.117923054183351e16im > 1.0e-6:\n",
      "\u001b[31m\u001b[1maborting\u001b[22m\u001b[39m with smp candidate PSW(1.6363506091712026, [1, 1, 1, 1, 1, 1, 1, 1, 1, 1, 2, 1]) of length 12 after prefixing the suffix with 10 times the current s.m.p. Increase the value of the `max_cycles` keyword argument to go further.\n",
      "\u001b[34m\u001b[1mNew candidate s.m.p. found\u001b[22m\u001b[39m because ⟨v_1*, v⟩ - 1 = 2.1772960736767104e16 - 4.112966934493226e16im > 1.0e-6:\n",
      "PSW(1.681792830507429, [1, 1, 2, 2])\n",
      "Depth 1: [4] points, 4 living leaves...\n",
      "\u001b[34m\u001b[1mNew candidate s.m.p. found\u001b[22m\u001b[39m because ⟨v_1*, v⟩ - 1 = -2.000015073979561 > 1.0e-6:\n",
      "\u001b[31m\u001b[1maborting\u001b[22m\u001b[39m with smp candidate PSW(1.6802978975269656, [1, 1, 2, 2, 1, 1, 2, 2, 1, 1, 2, 2, 1, 1, 2, 2, 1, 1, 2, 2, 1, 1, 2, 2, 1, 1, 2, 2, 1, 1, 2, 2, 1, 1, 2, 2, 1, 1, 2, 2, 2]) of length 41 after prefixing the suffix with 10 times the current s.m.p. Increase the value of the `max_cycles` keyword argument to go further.\n",
      "Depth 2: [8] points, 4 living leaves...\n",
      "Depth 3: [13] points, 5 living leaves...\n",
      "Depth 4: [18] points, 5 living leaves...\n",
      "Depth 5: [23] points, 5 living leaves...\n",
      "Depth 6: [29] points, 6 living leaves...\n",
      "Depth 7: [37] points, 8 living leaves...\n",
      "Depth 8: [46] points, 9 living leaves...\n",
      "Depth 9: [55] points, 9 living leaves...\n",
      "Depth 10: [63] points, 8 living leaves...\n",
      "Depth 11: [70] points, 7 living leaves...\n",
      "Depth 12: [79] points, 9 living leaves...\n",
      "Depth 13: [88] points, 9 living leaves...\n",
      "Depth 14: [99] points, 11 living leaves...\n",
      "Depth 15: [112] points, 13 living leaves...\n",
      "Depth 16: [118] points, 6 living leaves...\n",
      "Depth 17: [125] points, 7 living leaves...\n",
      "Depth 18: [133] points, 8 living leaves...\n",
      "Depth 19: [143] points, 10 living leaves...\n",
      "Depth 20: [152] points, 9 living leaves...\n",
      "Depth 21: [163] points, 11 living leaves...\n",
      "\u001b[34m\u001b[1mNew candidate s.m.p. found\u001b[22m\u001b[39m because ⟨v_3*, v⟩ - 1 = 0.01601953261652289 > 1.0e-6:\n",
      "PSW(1.6821826549700005, [2, 2, 1, 1, 1, 2, 1, 1, 1, 2, 2, 1, 1, 2, 2, 1, 1, 2, 2, 1, 1, 2, 2, 1, 1])\n",
      "Depth 1: [25] points, 25 living leaves...\n",
      "\u001b[34m\u001b[1mNew candidate s.m.p. found\u001b[22m\u001b[39m because ⟨v_11*, v⟩ - 1 = -2.0089842197849195 > 1.0e-6:\n",
      "\u001b[31m\u001b[1maborting\u001b[22m\u001b[39m with smp candidate PSW(1.6232765668088314, [2, 1, 1, 2, 2, 1, 1, 2, 2, 1, 1, 2, 2, 1, 1, 2, 2, 1, 1, 1, 2, 1, 1, 1, 2, 1]) of length 26 after prefixing the suffix with 1 times the current s.m.p. Increase the value of the `max_smp_length` keyword argument to go further.\n",
      "Depth 2: [33] points, 8 living leaves...\n",
      "Depth 3: [41] points, 8 living leaves...\n",
      "Depth 4: [51] points, 10 living leaves...\n",
      "\u001b[34m\u001b[1mNew candidate s.m.p. found\u001b[22m\u001b[39m because ⟨v_5*, v⟩ - 1 = 0.035322824432211686 > 1.0e-6:\n",
      "PSW(1.6833545693183518, [1, 2, 1, 1, 1, 2, 2, 1, 1, 2, 2, 1, 1, 2, 2, 1, 1, 2, 2, 1, 1, 2, 2, 1, 1, 2, 2, 1, 1])\n",
      "Depth 1: [29] points, 29 living leaves...\n",
      "Depth 2: [48] points, 19 living leaves...\n",
      "Depth 3: [64] points, 16 living leaves...\n",
      "Depth 4: [78] points, 14 living leaves...\n",
      "\u001b[34m\u001b[1mNew candidate s.m.p. found\u001b[22m\u001b[39m because ⟨v_1*, v⟩ - 1 = -2.0111409253033043 > 1.0e-6:\n",
      "PSW(1.6838938954053915, [1, 2, 1, 1, 1, 2, 2, 1, 1, 2, 2, 1, 1, 2, 2, 1, 1, 2, 2, 1, 1, 2, 2, 1, 1, 2, 2, 1, 1, 2, 2, 1, 1])\n",
      "Depth 1: [33] points, 33 living leaves...\n",
      "Depth 2: [55] points, 22 living leaves...\n",
      "Depth 3: [76] points, 21 living leaves...\n",
      "Depth 4: [99] points, 23 living leaves...\n",
      "\u001b[34m\u001b[1mNew candidate s.m.p. found\u001b[22m\u001b[39m because ⟨v_1*, v⟩ - 1 = -2.0052375894648655 > 1.0e-6:\n",
      "PSW(1.6841203966117424, [1, 2, 1, 1, 1, 2, 2, 1, 1, 2, 2, 1, 1, 2, 2, 1, 1, 2, 2, 1, 1, 2, 2, 1, 1, 2, 2, 1, 1, 2, 2, 1, 1, 2, 2, 1, 1])\n",
      "Depth 1: [37] points, 37 living leaves...\n",
      "Depth 2: [61] points, 24 living leaves...\n",
      "Depth 3: [86] points, 25 living leaves...\n",
      "Depth 4: [116] points, 30 living leaves...\n",
      "\u001b[34m\u001b[1mNew candidate s.m.p. found\u001b[22m\u001b[39m because ⟨v_1*, v⟩ - 1 = -2.0017065188166017 > 1.0e-6:\n",
      "PSW(1.6841852824915513, [1, 2, 1, 1, 1, 2, 2, 1, 1, 2, 2, 1, 1, 2, 2, 1, 1, 2, 2, 1, 1, 2, 2, 1, 1, 2, 2, 1, 1, 2, 2, 1, 1, 2, 2, 1, 1, 2, 2, 1, 1])\n",
      "Depth 1: [41] points, 41 living leaves...\n",
      "Depth 2: [68] points, 27 living leaves...\n",
      "Depth 3: [96] points, 28 living leaves...\n",
      "Depth 4: [132] points, 36 living leaves...\n",
      "Depth 5: [170] points, 38 living leaves...\n",
      "Depth 6: [207] points, 37 living leaves...\n",
      "Depth 7: [244] points, 37 living leaves...\n",
      "Depth 8: [281] points, 37 living leaves...\n",
      "Depth 9: [314] points, 33 living leaves...\n",
      "Depth 10: [347] points, 33 living leaves...\n",
      "Depth 11: [365] points, 18 living leaves...\n",
      "Depth 12: [373] points, 8 living leaves...\n",
      "Depth 13: [381] points, 8 living leaves...\n",
      "Depth 14: [389] points, 8 living leaves...\n",
      "Depth 15: [397] points, 8 living leaves...\n",
      "0 living leaves, PSW(1.6841852824915513, [1, 2, 1, 1, 1, 2, 2, 1, 1, 2, 2, 1, 1, 2, 2, 1, 1, 2, 2, 1, 1, 2, 2, 1, 1, 2, 2, 1, 1, 2, 2, 1, 1, 2, 2, 1, 1, 2, 2, 1, 1]) is a \u001b[0m\u001b[1mspectral maximizing product\u001b[22m (s.m.p.)\n",
      "Use the `tol` keyword argument to change the threshold to evaluate dead and living leaves.\n",
      "Use `new_candidate_tol` < -0.0003583593909899374 to consider at least one more candidate as s.m.p.\n",
      "Use `new_candidate_tol` > 1.5073979561019968e-5 to eliminate at least one s.m.p. candidate.\n",
      "  6.211879 seconds (25.81 M allocations: 3.882 GiB, 16.37% gc time)\n"
     ]
    }
   ],
   "source": [
    "using JuMP, MosekTools, SwitchOnSafety\n",
    "@time smp, done, polys = invariant_polytopes(s, with_optimizer(Mosek.Optimizer, QUIET=true),\n",
    "    periodicswitching(s, [2]), max_length=50);"
   ]
  },
  {
   "cell_type": "code",
   "execution_count": 10,
   "metadata": {},
   "outputs": [
    {
     "name": "stdout",
     "output_type": "stream",
     "text": [
      "Depth 1: [1] points, 1 living leaves...\n",
      "\u001b[34m\u001b[1mNew candidate s.m.p. found\u001b[22m\u001b[39m because ⟨v_1*, v⟩ - 1 = -1.4373761501713728e16 + 2.7152396265983616e16im > 1.0e-6:\n",
      "\u001b[31m\u001b[1maborting\u001b[22m\u001b[39m with smp candidate PSW(1.6376569384950546, [1, 1, 1, 1, 1, 1, 1, 1, 1, 1, 2]) of length 11 after prefixing the suffix with 10 times the current s.m.p. Increase the value of the `max_cycles` keyword argument to go further.\n",
      "Depth 2: [2] points, 1 living leaves...\n",
      "\u001b[34m\u001b[1mNew candidate s.m.p. found\u001b[22m\u001b[39m because ⟨v_1*, v⟩ - 1 = 2.8616122154926736e16 - 1.117923054183351e16im > 1.0e-6:\n",
      "\u001b[31m\u001b[1maborting\u001b[22m\u001b[39m with smp candidate PSW(1.6363506091712023, [1, 1, 1, 1, 1, 1, 1, 1, 1, 1, 2, 1]) of length 12 after prefixing the suffix with 10 times the current s.m.p. Increase the value of the `max_cycles` keyword argument to go further.\n",
      "\u001b[34m\u001b[1mNew candidate s.m.p. found\u001b[22m\u001b[39m because ⟨v_1*, v⟩ - 1 = 2.1772960736767104e16 - 4.112966934493226e16im > 1.0e-6:\n",
      "PSW(1.681792830507429, [1, 1, 2, 2])\n",
      "Depth 1: [4] points, 4 living leaves...\n",
      "\u001b[34m\u001b[1mNew candidate s.m.p. found\u001b[22m\u001b[39m because ⟨v_1*, v⟩ - 1 = -2.000015073979561 > 1.0e-6:\n",
      "\u001b[31m\u001b[1maborting\u001b[22m\u001b[39m with smp candidate PSW(1.6802978975269656, [1, 1, 2, 2, 1, 1, 2, 2, 1, 1, 2, 2, 1, 1, 2, 2, 1, 1, 2, 2, 1, 1, 2, 2, 1, 1, 2, 2, 1, 1, 2, 2, 1, 1, 2, 2, 1, 1, 2, 2, 2]) of length 41 after prefixing the suffix with 10 times the current s.m.p. Increase the value of the `max_cycles` keyword argument to go further.\n",
      "Depth 2: [8] points, 4 living leaves...\n",
      "Depth 3: [13] points, 5 living leaves...\n",
      "Depth 4: [18] points, 5 living leaves...\n",
      "Depth 5: [23] points, 5 living leaves...\n",
      "Depth 6: [29] points, 6 living leaves...\n",
      "Depth 7: [37] points, 8 living leaves...\n",
      "Depth 8: [46] points, 9 living leaves...\n",
      "Depth 9: [55] points, 9 living leaves...\n",
      "Depth 10: [63] points, 8 living leaves...\n",
      "Depth 11: [70] points, 7 living leaves...\n",
      "Depth 12: [79] points, 9 living leaves...\n",
      "Depth 13: [88] points, 9 living leaves...\n",
      "Depth 14: [99] points, 11 living leaves...\n",
      "Depth 15: [112] points, 13 living leaves...\n",
      "Depth 16: [118] points, 6 living leaves...\n",
      "Depth 17: [125] points, 7 living leaves...\n",
      "Depth 18: [133] points, 8 living leaves...\n",
      "Depth 19: [143] points, 10 living leaves...\n",
      "Depth 20: [152] points, 9 living leaves...\n",
      "Depth 21: [163] points, 11 living leaves...\n",
      "\u001b[34m\u001b[1mNew candidate s.m.p. found\u001b[22m\u001b[39m because ⟨v_3*, v⟩ - 1 = 0.01601953261652289 > 1.0e-6:\n",
      "PSW(1.6821826549700005, [2, 2, 1, 1, 1, 2, 1, 1, 1, 2, 2, 1, 1, 2, 2, 1, 1, 2, 2, 1, 1, 2, 2, 1, 1])\n",
      "Depth 1: [25] points, 25 living leaves...\n",
      "\u001b[34m\u001b[1mNew candidate s.m.p. found\u001b[22m\u001b[39m because ⟨v_11*, v⟩ - 1 = -2.0089842197849195 > 1.0e-6:\n",
      "\u001b[31m\u001b[1maborting\u001b[22m\u001b[39m with smp candidate PSW(1.6232765668088314, [2, 1, 1, 2, 2, 1, 1, 2, 2, 1, 1, 2, 2, 1, 1, 2, 2, 1, 1, 1, 2, 1, 1, 1, 2, 1]) of length 26 after prefixing the suffix with 1 times the current s.m.p. Increase the value of the `max_smp_length` keyword argument to go further.\n",
      "Depth 2: [33] points, 8 living leaves...\n",
      "Depth 3: [41] points, 8 living leaves...\n",
      "Depth 4: [51] points, 10 living leaves...\n",
      "\u001b[34m\u001b[1mNew candidate s.m.p. found\u001b[22m\u001b[39m because ⟨v_5*, v⟩ - 1 = 0.035322824432211686 > 1.0e-6:\n",
      "PSW(1.6833545693183518, [1, 2, 1, 1, 1, 2, 2, 1, 1, 2, 2, 1, 1, 2, 2, 1, 1, 2, 2, 1, 1, 2, 2, 1, 1, 2, 2, 1, 1])\n",
      "Depth 1: [29] points, 29 living leaves...\n",
      "Depth 2: [48] points, 19 living leaves...\n",
      "Depth 3: [64] points, 16 living leaves...\n",
      "Depth 4: [78] points, 14 living leaves...\n",
      "\u001b[34m\u001b[1mNew candidate s.m.p. found\u001b[22m\u001b[39m because ⟨v_1*, v⟩ - 1 = -2.0111409253033043 > 1.0e-6:\n",
      "PSW(1.6838938954053915, [1, 2, 1, 1, 1, 2, 2, 1, 1, 2, 2, 1, 1, 2, 2, 1, 1, 2, 2, 1, 1, 2, 2, 1, 1, 2, 2, 1, 1, 2, 2, 1, 1])\n",
      "Depth 1: [33] points, 33 living leaves...\n",
      "Depth 2: [55] points, 22 living leaves...\n",
      "Depth 3: [76] points, 21 living leaves...\n",
      "Depth 4: [99] points, 23 living leaves...\n",
      "\u001b[34m\u001b[1mNew candidate s.m.p. found\u001b[22m\u001b[39m because ⟨v_1*, v⟩ - 1 = -2.0052375894648655 > 1.0e-6:\n",
      "PSW(1.6841203966117424, [1, 2, 1, 1, 1, 2, 2, 1, 1, 2, 2, 1, 1, 2, 2, 1, 1, 2, 2, 1, 1, 2, 2, 1, 1, 2, 2, 1, 1, 2, 2, 1, 1, 2, 2, 1, 1])\n",
      "Depth 1: [37] points, 37 living leaves...\n",
      "Depth 2: [61] points, 24 living leaves...\n",
      "Depth 3: [86] points, 25 living leaves...\n",
      "Depth 4: [116] points, 30 living leaves...\n",
      "\u001b[34m\u001b[1mNew candidate s.m.p. found\u001b[22m\u001b[39m because ⟨v_1*, v⟩ - 1 = -2.0017065188166017 > 1.0e-6:\n",
      "PSW(1.6841852824915513, [1, 2, 1, 1, 1, 2, 2, 1, 1, 2, 2, 1, 1, 2, 2, 1, 1, 2, 2, 1, 1, 2, 2, 1, 1, 2, 2, 1, 1, 2, 2, 1, 1, 2, 2, 1, 1, 2, 2, 1, 1])\n",
      "Depth 1: [41] points, 41 living leaves...\n",
      "Depth 2: [68] points, 27 living leaves...\n",
      "Depth 3: [96] points, 28 living leaves...\n",
      "Depth 4: [132] points, 36 living leaves...\n",
      "Depth 5: [170] points, 38 living leaves...\n",
      "Depth 6: [207] points, 37 living leaves...\n",
      "Depth 7: [244] points, 37 living leaves...\n",
      "Depth 8: [281] points, 37 living leaves...\n",
      "Depth 9: [314] points, 33 living leaves...\n",
      "Depth 10: [347] points, 33 living leaves...\n",
      "Depth 11: [365] points, 18 living leaves...\n",
      "Depth 12: [373] points, 8 living leaves...\n",
      "Depth 13: [381] points, 8 living leaves...\n",
      "Depth 14: [389] points, 8 living leaves...\n",
      "Depth 15: [397] points, 8 living leaves...\n",
      "0 living leaves, PSW(1.6841852824915513, [1, 2, 1, 1, 1, 2, 2, 1, 1, 2, 2, 1, 1, 2, 2, 1, 1, 2, 2, 1, 1, 2, 2, 1, 1, 2, 2, 1, 1, 2, 2, 1, 1, 2, 2, 1, 1, 2, 2, 1, 1]) is a \u001b[0m\u001b[1mspectral maximizing product\u001b[22m (s.m.p.)\n",
      "Use the `tol` keyword argument to change the threshold to evaluate dead and living leaves.\n",
      "Use `new_candidate_tol` < -0.0003583593909899374 to consider at least one more candidate as s.m.p.\n",
      "Use `new_candidate_tol` > 1.5073979561019968e-5 to eliminate at least one s.m.p. candidate.\n",
      "  6.563546 seconds (25.98 M allocations: 3.888 GiB, 16.72% gc time)\n"
     ]
    }
   ],
   "source": [
    "using JuMP, MosekTools, SwitchOnSafety\n",
    "@time smp, done, polys = invariant_polytopes(s, with_optimizer(Mosek.Optimizer, QUIET=true),\n",
    "    periodicswitching(s, [1]), max_length=50);"
   ]
  },
  {
   "cell_type": "code",
   "execution_count": null,
   "metadata": {},
   "outputs": [],
   "source": []
  }
 ],
 "metadata": {
  "@webio": {
   "lastCommId": null,
   "lastKernelId": null
  },
  "kernelspec": {
   "display_name": "Julia 1.1.0",
   "language": "julia",
   "name": "julia-1.1"
  },
  "language_info": {
   "file_extension": ".jl",
   "mimetype": "application/julia",
   "name": "julia",
   "version": "1.1.0"
  }
 },
 "nbformat": 4,
 "nbformat_minor": 2
}
