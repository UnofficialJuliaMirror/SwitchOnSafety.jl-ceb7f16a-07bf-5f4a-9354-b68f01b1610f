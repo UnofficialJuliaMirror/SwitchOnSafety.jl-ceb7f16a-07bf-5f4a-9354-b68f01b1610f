{
 "cells": [
  {
   "cell_type": "code",
   "execution_count": null,
   "metadata": {},
   "outputs": [],
   "source": [
    "using HybridSystems\n",
    "include(joinpath(dirname(dirname(pathof(HybridSystems))), \"examples\", \"cruise_control.jl\"));"
   ]
  },
  {
   "cell_type": "code",
   "execution_count": null,
   "metadata": {
    "collapsed": true
   },
   "outputs": [],
   "source": [
    "const va = 15.6\n",
    "const vb = 24.5\n",
    "const vc = 29.5\n",
    "const v = (va, vb, vc)\n",
    "const U = 4.\n",
    "m0 = 500;\n",
    "const H = 0.8;"
   ]
  },
  {
   "cell_type": "code",
   "execution_count": null,
   "metadata": {},
   "outputs": [],
   "source": [
    "using SwitchOnSafety\n",
    "const SOS = SwitchOnSafety;"
   ]
  },
  {
   "cell_type": "code",
   "execution_count": null,
   "metadata": {
    "collapsed": true
   },
   "outputs": [],
   "source": [
    "using Plots"
   ]
  },
  {
   "cell_type": "code",
   "execution_count": null,
   "metadata": {},
   "outputs": [],
   "source": [
    "function proj(ell, I)\n",
    "    Qd = inv(ell.Q)\n",
    "    Qdproj = Qd[I, I]\n",
    "    Qproj = inv(Qdproj)\n",
    "    SOS.Ellipsoid(Qproj, ell.c[I])\n",
    "end\n",
    "\n",
    "function pli(hs, p, i, I = [statedim(hs, 1)-1, statedim(hs, 1)])\n",
    "    @assert length(I) == 2\n",
    "    Plots.plot(Polyhedra.project(hs.invariants[i], I))\n",
    "    Plots.plot!(proj(p[i], I))\n",
    "end"
   ]
  },
  {
   "cell_type": "code",
   "execution_count": null,
   "metadata": {
    "collapsed": true
   },
   "outputs": [],
   "source": [
    "using MathOptInterfaceMosek\n",
    "using JuMP\n",
    "sdp_factory = with_optimizer(MosekOptimizer, LOG=0);"
   ]
  },
  {
   "cell_type": "code",
   "execution_count": null,
   "metadata": {},
   "outputs": [],
   "source": [
    "using LightGraphs\n",
    "const MOI = JuMP.MathOptInterface\n",
    "function fullsolve(T, M, oneshot = false, onlyone = false, detcone=MOI.RootDetConeTriangle)\n",
    "    N = 1 + (T+1) * length(v)\n",
    "    hs = cruise_control_example(N, M, vmin = 5.0, v=(va, vb, vc), U=U, H=H, sym=false, m0=500);\n",
    "    function hv(v)\n",
    "        h = zeros(statedim(hs, 1))\n",
    "        for i in 1:M\n",
    "            h[2i] = (5 .+ v)/2\n",
    "        end\n",
    "        h[2M+1] = (5 .+ v)/2\n",
    "        h\n",
    "    end\n",
    "    habc = SOS.InteriorPoint.(hv.(v))\n",
    "    ha = habc[1]\n",
    "    hi = [ha, ha, ha, ha, ha, ha, ha, ha, ha, ha]\n",
    "    λ = Dict(t => 1. for t in transitions(hs))\n",
    "    if oneshot\n",
    "        getis(hs, sdp_factory, hi, λ = λ, detcone=detcone);\n",
    "    else\n",
    "        p = Vector{SwitchOnSafety.Ellipsoid{Float64}}(undef, N)\n",
    "        for i in (onlyone ? (1:1) : (1:N))\n",
    "            fillis!(p, i:i, hs, sdp_factory, hi, λ = λ, enabled=1:i, detcone=detcone)\n",
    "            @show inv(det(p[i].Q))\n",
    "        end\n",
    "        p\n",
    "    end\n",
    "end"
   ]
  },
  {
   "cell_type": "code",
   "execution_count": null,
   "metadata": {},
   "outputs": [],
   "source": [
    "P = Dict{Int, Vector{SwitchOnSafety.Ellipsoid{Float64}}}()"
   ]
  },
  {
   "cell_type": "code",
   "execution_count": null,
   "metadata": {},
   "outputs": [],
   "source": [
    "T = 2\n",
    "N = 1 + (T+1) * length(v)\n",
    "for M in 1:10\n",
    "    P[M] = fullsolve(T, M, false, true)\n",
    "end"
   ]
  },
  {
   "cell_type": "code",
   "execution_count": null,
   "metadata": {},
   "outputs": [],
   "source": [
    "N = 10\n",
    "T = 2\n",
    "M = 1\n",
    "hs = cruise_control_example(N, M, vmin = 5., v=(va, vb, vc), U=U, H=H, T=T, sym=false, m0 = m0);\n",
    "d = statedim(hs, 1);\n",
    "_savefig(name, ext=\"eps\") = Plots.savefig(\"/home/blegat/Dropbox/Research/Images/CruiseControl$name.$ext\")"
   ]
  },
  {
   "cell_type": "code",
   "execution_count": null,
   "metadata": {},
   "outputs": [],
   "source": [
    "Id(d) = [d-1, d]\n",
    "# Values taken from http://www.toutes-les-couleurs.com/code-couleur-rvb.php\n",
    "troyes = Plots.RGBA(0.9961, 0.9922, 0.9412)\n",
    "frambo = Plots.RGBA(0.7804, 0.1725, 0.2824)\n",
    "lichen = Plots.RGBA(0.5216, 0.7569, 0.4941)\n",
    "canard = Plots.RGBA(0.0157, 0.5451, 0.6039)\n",
    "aurore = Plots.RGBA(((255, 203, 96) ./ 255)...)\n",
    "# colors taken from https://previews.123rf.com/images/capacitorphoto/capacitorphoto1410/capacitorphoto141000191/32438941-Graph-Icon-color-set-illustration--Stock-Vector.jpg\n",
    "red = Plots.RGBA(((0xf5, 0x92, 0x97) ./ 255)...)\n",
    "gre = Plots.RGBA(((0xcb, 0xdf, 0x80) ./ 255)...)\n",
    "blu = Plots.RGBA(((0x23, 0x94, 0xce) ./ 255)...)\n",
    "ora = Plots.RGBA(((0xfa, 0xcb, 0x95) ./ 255)...)\n",
    "yel = Plots.RGBA(((0xf2, 0xf0, 0x8b) ./ 255)...)\n",
    "xmargin = 0.3\n",
    "ymargin = 0.3\n",
    "Plots.plot(guidefont=Plots.font(18), tickfont=Plots.font(16), size=(900, 600), grid=false, xlims=(5-xmargin, 15.6+xmargin), ylims=(-4-ymargin, 4+ymargin), xlabel=\"Truck speed [m/s]\", ylabel=\"Truck acceleration [m/s²]\", xticks = [5, 7, 9, 11, 13, 15.6])\n",
    "Plots.plot!(Polyhedra.project(stateset(hs, 1), Id(d)), color=:white)\n",
    "colors = [red, gre,\n",
    "          gre, gre,\n",
    "          blu, blu,\n",
    "          blu, blu,\n",
    "          ora, ora]\n",
    "alpha = fill(1., 10)\n",
    "for M in [1, 2, 6, 10]\n",
    "    @show inv(det(P[M][1].Q))\n",
    "    dd = 2M+2\n",
    "    Plots.plot!(proj(P[M][1], Id(dd)), fillalpha=alpha[M], color=colors[M])\n",
    "end\n",
    "fontsize = 24\n",
    "Plots.annotate!(5.4,  2.7, Plots.text(\"1\", fontsize, colors[1]))\n",
    "Plots.annotate!(5.2, -1.43, Plots.text(\"2\", fontsize, colors[2]))\n",
    "Plots.annotate!(6.3, -2.92, Plots.text(\"6\", fontsize, colors[6]))\n",
    "Plots.annotate!(7.45, -3.75, Plots.text(\"10\", fontsize, colors[10]))\n",
    "#@show inv(det(p[N].Q))\n",
    "#Plots.plot!(proj(p[N], I))\n",
    "#_savefig(\"Sets\")\n",
    "Plots.plot!()"
   ]
  },
  {
   "cell_type": "code",
   "execution_count": null,
   "metadata": {},
   "outputs": [],
   "source": [
    "MM = 1:10\n",
    "tell = [0.10468482971191406, 0.2330489158630371, 0.8677887916564941, 1.4519941806793213, 2.107150077819824, 3.5698659420013428, 4.80554986000061, 7.2393341064453125, 11.002917051315308, 15.073602199554443]\n",
    "# 0.115419   0.245829   0.699803\n",
    "# 1.41012    0.583312   1.60318 \n",
    "# 1.63905    1.34177    3.57714 \n",
    "# 2.93782    2.6325     5.64993 \n",
    "# 2.4405     3.54338    9.20356 \n",
    "# 3.57665    6.54242   16.2175  \n",
    "# 5.81741   11.6776    27.5883  \n",
    "# 6.79864   17.2622    45.1504  \n",
    "# 9.08597   29.3919    69.7584  \n",
    "# 0.0        0.0        0.0\n",
    "tpoly2 =[\n",
    " 0.13857    0.34833    0.885522\n",
    " 0.245551   0.613526   2.01404 \n",
    " 0.418676   1.16248    3.58055 \n",
    " 0.814852   2.05653    5.71168 \n",
    " 1.17044    2.95415    8.6016  \n",
    " 1.76629    4.74113   11.3175  \n",
    " 2.31273    6.6922    16.0757  \n",
    " 2.88756    8.71237   22.6182  \n",
    " 3.67838   11.8209    29.5     \n",
    " 4.8712    16.119     41.0898]\n",
    "tpoly = [ # H redundancy removal, CDDLib only, Dell laptop\n",
    "  0.13682    0.290317\n",
    "  0.424803   0.646405\n",
    "  0.637992   1.2339 \n",
    "  0.994851   2.28653 \n",
    "  2.59906    3.7554  \n",
    "  3.39291    6.78438 \n",
    "  4.60605   10.9812  \n",
    "  6.43151   17.4433  \n",
    "  8.70048   28.4263  \n",
    " 12.212     43.0176\n",
    "]\n",
    "# colors taken from https://previews.123rf.com/images/capacitorphoto/capacitorphoto1410/capacitorphoto141000191/32438941-Graph-Icon-color-set-illustration--Stock-Vector.jpg\n",
    "red = Plots.RGBA(((0xf5, 0x92, 0x97) ./ 255)...)\n",
    "gre = Plots.RGBA(((0xcb, 0xdf, 0x80) ./ 255)...)\n",
    "blu = Plots.RGBA(((0x23, 0x94, 0xce) ./ 255)...)\n",
    "ora = Plots.RGBA(((0xfa, 0xcb, 0x95) ./ 255)...)\n",
    "yel = Plots.RGBA(((0xf2, 0xf0, 0x8b) ./ 255)...)\n",
    "#font = (\"sans-serif\",12,:hcenter,:vcenter,0.0,Plots.RGB{Plots.U8}(0.0,0.0,0.0))\n",
    "w = 2\n",
    "ms = 6\n",
    "Plots.plot(xlabel = \"Number of trailers\", ylabel=\"Solve Time [s]\", xticks=1:10, tickfont=Plots.font(10), legendfont=Plots.font(12), guidefont=Plots.font(12))\n",
    "Plots.plot!(MM, tell, color=blu, label=\"\", linewidth=w)\n",
    "Plots.scatter!(MM, tell, color=blu, markersize=6, markerstrokewidth=0, label=\"Ellipsoidal : Full computation\")\n",
    "Plots.plot!(MM, sum(tpoly[:,1:2], dims=2), color=ora, label=\"\", linewidth=w)\n",
    "Plots.scatter!(MM, sum(tpoly[:,1:2], dims=2), color=ora, markersize=6, markerstrokewidth=0, label=\"Polyhedral : only 2 iterations\")\n",
    "#_savefig(\"Benchmark\", \"png\")\n",
    "Plots.plot!()"
   ]
  },
  {
   "cell_type": "code",
   "execution_count": null,
   "metadata": {
    "collapsed": true
   },
   "outputs": [],
   "source": [
    "using JuMP\n",
    "const MOI = MathOptInterface"
   ]
  },
  {
   "cell_type": "markdown",
   "metadata": {},
   "source": [
    "$(x-c)^T Q (x-c) \\le 1 \\Leftrightarrow \\lVert L(x-c) \\rVert \\le 1 \\Leftrightarrow (1, L(x-c)) \\text{ SOC}$"
   ]
  },
  {
   "cell_type": "code",
   "execution_count": null,
   "metadata": {
    "collapsed": true
   },
   "outputs": [],
   "source": [
    "function elltosoc(p::SOS.Ellipsoid)\n",
    "    U, S, V = svd(p.Q)\n",
    "    L = diagm(sqrt.(S)) * V'\n",
    "    @show p.c\n",
    "    x -> L * (x - p.c)\n",
    "end\n",
    "soc = elltosoc.(fullsolve(T, M, false, false))"
   ]
  },
  {
   "cell_type": "code",
   "execution_count": null,
   "metadata": {
    "collapsed": true
   },
   "outputs": [],
   "source": [
    "using JuMP\n",
    "const MOI = MathOptInterface\n",
    "\n",
    "function mpcstep(modes, x0, y0, usesoc, usetol)\n",
    "    m = Model()\n",
    "    nt = length(modes)\n",
    "    @variable m y[1:nt]\n",
    "    @variable m x[1:nt, 1:d]\n",
    "    @variable m u[1:(nt-1)]\n",
    "    @constraint m x[1, :] .== x0\n",
    "    @constraint m y[1] == y0\n",
    "    if usetol\n",
    "        @variable m tol >= 0\n",
    "    end\n",
    "\n",
    "    for i in 1:nt\n",
    "        q = modes[i]\n",
    "        for h in ineqs(hs.invariants[q])\n",
    "            @constraint m dot(x[i, :], h.a) <= h.β + (usetol ? tol : 0.)\n",
    "        end\n",
    "        if usesoc\n",
    "            @constraint m [1; soc[q](x[i, :])] in MOI.SecondOrderCone(1+d)\n",
    "        end\n",
    "        if i < nt\n",
    "            s = modes[i+1]\n",
    "            σ = symbol(hs.automaton, LightGraphs.Edge(q, s))\n",
    "            r = hs.resetmaps[σ]\n",
    "            @constraint m x[i+1, :] .== r.A * x[i, :] + r.B * u[i]\n",
    "            if σ == 1\n",
    "                @constraint m y[i+1] == y[i] + (H/T) * x[i, d-1]\n",
    "            else\n",
    "                @constraint m y[i+1] == y[i]\n",
    "            end\n",
    "        end\n",
    "    end\n",
    "    @objective m Max y[end] - (usetol ? 1000tol : 0.)\n",
    "    JuMP.attach(m, sdpsolver())\n",
    "    JuMP.solve(m)\n",
    "\n",
    "    @assert JuMP.terminationstatus(m) == MOI.Success\n",
    "\n",
    "    JuMP.dualstatus(m), JuMP.resultvalue.(x)[2:end,:], JuMP.resultvalue.(y)[2:end]\n",
    "end"
   ]
  },
  {
   "cell_type": "code",
   "execution_count": null,
   "metadata": {
    "collapsed": true
   },
   "outputs": [],
   "source": [
    "function solvempc(modes, nsteps = 1, useellipsoids = false)\n",
    "    nt = length(modes)\n",
    "    y = Vector{Float64}(nt)\n",
    "    x = Matrix{Float64}(nt, d)\n",
    "    x[1, :] = [repmat([0., 10.], M); 10.; 0.]\n",
    "    y[1] = -10. * (H/T)\n",
    "    last = nt\n",
    "    for i in 1:(nt-1)\n",
    "        j = min(nt, i + nsteps)\n",
    "        _step(usetol) = mpcstep(modes[i:j], x[i, :], y[i], useellipsoids, usetol)\n",
    "        ds, X, Y = _step(false)\n",
    "        if ds == MOI.InfeasibilityCertificate\n",
    "            ds, X, Y = _step(true)\n",
    "        end\n",
    "        while ds == MOI.InfeasibilityCertificate && nsteps > 1\n",
    "            nsteps -= 1\n",
    "            ds, X, Y = _step(true)\n",
    "        end\n",
    "        if ds == MOI.InfeasibilityCertificate || !(X[1, :] in hs.invariants[modes[i+1]])\n",
    "            last = i\n",
    "            break\n",
    "        else\n",
    "            x[i+1, :] = X[1, :]\n",
    "            y[i+1] = Y[1]\n",
    "        end\n",
    "    end\n",
    "    x[2:last, :], y[2:last]\n",
    "end"
   ]
  },
  {
   "cell_type": "code",
   "execution_count": null,
   "metadata": {
    "collapsed": true
   },
   "outputs": [],
   "source": [
    "nt = 77\n",
    "nN = div(nt, 2)\n",
    "modes = [fill(N, nN); 3; 2; fill(1, nt-2-nN)];\n",
    "t = [0.]\n",
    "tswitch = Float64[]\n",
    "for i in 2:(nt-1)\n",
    "    σ = symbol(hs.automaton, LightGraphs.Edge(modes[i], modes[i+1]))\n",
    "    if σ == 1\n",
    "        push!(t, t[end] + H/T)\n",
    "    else\n",
    "        push!(t, t[end])\n",
    "        tswitch = [t[end], t[end]]\n",
    "    end\n",
    "end"
   ]
  },
  {
   "cell_type": "code",
   "execution_count": null,
   "metadata": {
    "collapsed": true
   },
   "outputs": [],
   "source": [
    "t"
   ]
  },
  {
   "cell_type": "code",
   "execution_count": null,
   "metadata": {
    "collapsed": true
   },
   "outputs": [],
   "source": [
    "last = map(i -> length(solvempc(modes, i)[2]), 3:nt)"
   ]
  },
  {
   "cell_type": "code",
   "execution_count": null,
   "metadata": {
    "collapsed": true
   },
   "outputs": [],
   "source": [
    "Plots.plot(3:nt, last)"
   ]
  },
  {
   "cell_type": "code",
   "execution_count": null,
   "metadata": {
    "collapsed": true
   },
   "outputs": [],
   "source": [
    "XYok = Dict{String, Tuple{Matrix{Float64}, Vector{Float64}}}()\n",
    "XYko = Dict{String, Tuple{Matrix{Float64}, Vector{Float64}}}();"
   ]
  },
  {
   "cell_type": "code",
   "execution_count": null,
   "metadata": {
    "collapsed": true
   },
   "outputs": [],
   "source": [
    "XYok[\"unsafe optimal\"] = solvempc(modes, nt);"
   ]
  },
  {
   "cell_type": "code",
   "execution_count": null,
   "metadata": {
    "collapsed": true
   },
   "outputs": [],
   "source": [
    "XYok[\"unsafe 23\"] = solvempc(modes, 23);"
   ]
  },
  {
   "cell_type": "code",
   "execution_count": null,
   "metadata": {
    "collapsed": true
   },
   "outputs": [],
   "source": [
    "XYko[\"unsafe 22\"] = solvempc(modes, 22);"
   ]
  },
  {
   "cell_type": "code",
   "execution_count": null,
   "metadata": {
    "collapsed": true
   },
   "outputs": [],
   "source": [
    "XYko[\"unsafe 8\"] = solvempc(modes, 8);"
   ]
  },
  {
   "cell_type": "code",
   "execution_count": null,
   "metadata": {
    "collapsed": true
   },
   "outputs": [],
   "source": [
    "XYok[\"safe 8\"] = solvempc(modes, 8, true);"
   ]
  },
  {
   "cell_type": "code",
   "execution_count": null,
   "metadata": {
    "collapsed": true
   },
   "outputs": [],
   "source": [
    "XYok[\"safe 3\"] = solvempc(modes, 3, true);"
   ]
  },
  {
   "cell_type": "code",
   "execution_count": null,
   "metadata": {
    "collapsed": true
   },
   "outputs": [],
   "source": [
    "#XY = [(\"unsafe 8\", XYko[\"unsafe 8\"])];\n",
    "XY = XYok;\n",
    "plotsize = (800, 400);"
   ]
  },
  {
   "cell_type": "code",
   "execution_count": null,
   "metadata": {
    "collapsed": true
   },
   "outputs": [],
   "source": [
    "Plots.plot(size=(800, 400), xlabel=\"Time [s]\", ylabel=\"Truck position [m]\")\n",
    "for (s, (x, y)) in XY\n",
    "    Plots.plot!(t, y, label=s)\n",
    "end\n",
    "Plots.plot!(tswitch .+ H, collect(extrema(XY[\"unsafe optimal\"][2])), label=\"\")\n",
    "#_savefig(\"Position\")"
   ]
  },
  {
   "cell_type": "markdown",
   "metadata": {},
   "source": [
    "The last value of the speed does not impact `y[end]` so the value taken by the solver is arbitrary"
   ]
  },
  {
   "cell_type": "code",
   "execution_count": null,
   "metadata": {
    "collapsed": true
   },
   "outputs": [],
   "source": [
    "Plots.plot(size=(800, 400), [t[1], tswitch[1]+H], [35, 35], size=plotsize, label=\"\", xlabel=\"Time [s]\", ylabel=\"Speed [m/s]\")\n",
    "mini = Inf\n",
    "maxi = 35\n",
    "for (s, (x, y)) in XY\n",
    "    v1 = x[:,d-2]\n",
    "    v0 = x[:,d-1]\n",
    "    #:none,:auto,:circle,:rect,:star5,:diamond,:hexagon,:cross,:xcross,:utriangle,:dtriangle,:rtriangle,:ltriangle,:pentagon,:heptagon,:octagon,:star4,:star6,:star7,:star8,:vline,:hline,:+,:x].\n",
    "    issafe = s[1] == 's'\n",
    "    ms = 5\n",
    "    Plots.scatter!(t[1:end-1], v1[1:end-1], label=\"Trailer speed $s\", markersize=ms, markershape=issafe ? :diamond : :utriangle, markerstrokewidth=0)\n",
    "    Plots.scatter!(t[1:end-1], v0[1:end-1], label=\"Truck speed $s\", markersize=ms, markershape=issafe ? :circle : :rtriangle, markerstrokewidth=0)\n",
    "    mini = min(mini, minimum(v1), minimum(v0))\n",
    "    maxi = max(maxi, maximum(v1), maximum(v0))\n",
    "end\n",
    "#Plots.plot!(tswitch, [mini, maxi])\n",
    "Plots.plot!(tswitch .+ H, [mini, maxi], label=\"\")\n",
    "Plots.plot!([tswitch[1]+H, t[end]], [va, va], label=\"\")\n",
    "#_savefig(\"Speed\")"
   ]
  },
  {
   "cell_type": "markdown",
   "metadata": {},
   "source": [
    "The last two values of the acceleration does not impact `y[end]` so the values taken by the solver are arbitrary"
   ]
  },
  {
   "cell_type": "code",
   "execution_count": null,
   "metadata": {
    "collapsed": true
   },
   "outputs": [],
   "source": [
    "Plots.plot(size=plotsize, ylim=(-4.1, 4.1), xlabel=\"Time [s]\", ylabel=\"Acceleration [m/s²]\")\n",
    "for (s, (x, y)) in XY\n",
    "    u = x[:, 4]\n",
    "    issafe = s[1] == 's'\n",
    "    Plots.scatter!(t[1:end-2], u[1:end-2], label=\"Truck acceleration $s\", markersize=7, markershape=issafe ? :circle : :rtriangle, markerstrokewidth=0)\n",
    "end\n",
    "Plots.plot!(tswitch .+ H, [-U, U], label=\"\")\n",
    "#_savefig(\"Acceleration\")"
   ]
  },
  {
   "cell_type": "code",
   "execution_count": null,
   "metadata": {
    "collapsed": true
   },
   "outputs": [],
   "source": [
    "Plots.plot(yticks = [-0.5, -0.25, 0.0, 0.25, 0.5], ylims=(-0.55, 0.55), size=plotsize, xlabel=\"Time [s]\", ylabel=\"Displacement [m]\")\n",
    "for (s, (x, y)) in XY\n",
    "    dist = x[:, 1]\n",
    "    Plots.plot!(t[1:end-2], dist, label=\"Spring displacement $s\")\n",
    "end\n",
    "Plots.plot!(tswitch .+ H, [-.5, .5], label=\"\")\n",
    "#_savefig(\"Displacement\")"
   ]
  },
  {
   "cell_type": "code",
   "execution_count": null,
   "metadata": {
    "collapsed": true
   },
   "outputs": [],
   "source": []
  }
 ],
 "metadata": {
  "kernelspec": {
   "display_name": "Julia 1.0.3-pre",
   "language": "julia",
   "name": "julia-1.0"
  },
  "language_info": {
   "file_extension": ".jl",
   "mimetype": "application/julia",
   "name": "julia",
   "version": "1.0.3"
  }
 },
 "nbformat": 4,
 "nbformat_minor": 2
}
