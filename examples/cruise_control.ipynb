{
 "cells": [
  {
   "cell_type": "code",
   "execution_count": 1,
   "metadata": {},
   "outputs": [
    {
     "data": {
      "text/plain": [
       "fullsolve (generic function with 1 method)"
      ]
     },
     "execution_count": 1,
     "metadata": {},
     "output_type": "execute_result"
    }
   ],
   "source": [
    "include(\"cruise_control.jl\")"
   ]
  },
  {
   "cell_type": "code",
   "execution_count": 1,
   "metadata": {},
   "outputs": [],
   "source": [
    "using HybridSystems\n",
    "include(joinpath(dirname(dirname(pathof(HybridSystems))), \"examples\", \"cruise_control.jl\"));"
   ]
  },
  {
   "cell_type": "code",
   "execution_count": 33,
   "metadata": {},
   "outputs": [
    {
     "data": {
      "text/plain": [
       "sym_rect (generic function with 1 method)"
      ]
     },
     "execution_count": 33,
     "metadata": {},
     "output_type": "execute_result"
    }
   ],
   "source": [
    "function constant(scaling)\n",
    "    va = 15.6 * scaling\n",
    "    vb = 24.5 * scaling\n",
    "    vc = 29.5 * scaling\n",
    "    v = (va, vb, vc)\n",
    "    U = 4.0 * scaling\n",
    "    D = 0.5 * scaling\n",
    "    vmin = 5.0 * scaling\n",
    "    return D, U, vmin, v\n",
    "end\n",
    "D, U, vmin, v = constant(1.0)\n",
    "D = 1.0\n",
    "U = 1.0\n",
    "vmin = 1.0\n",
    "v = (3.0, 4.0, 5.0)\n",
    "T = 2\n",
    "N = 1 + (T+1) * length(v)\n",
    "m = 1.0\n",
    "m0 = 1.0 #500;\n",
    "H = 1.0 #0.8;\n",
    "function system(N, M; sym=false, vmax = 35., v=v)\n",
    "    #return cruise_control_example(N, M, vmin = vmin, vmax=vmax, v=v, U=U, H=H, D=D, T=T, sym=sym, m0 = m0);\n",
    "    return cruise_control_example(N, M, vmin = 1.0, vmax=vmax, v=v,\n",
    "        U=1.0, H=1.0, D=1.0, T=T, sym=sym, m0 = 1.0, ks=1.0, m=1.0, kd=1.0)\n",
    "end\n",
    "_vec(M, d, v, u) = [repeat([d, v], M); v; u]\n",
    "#Δv = (v[1] - vmin) / 2\n",
    "Δv = (15.6 - 5) / 2\n",
    "# |string_elongation| < D\n",
    "# |acceleration| < U\n",
    "sym_rect(M) = _vec(M, D, 1.0, U) # _vec(M, D, Δv, U)"
   ]
  },
  {
   "cell_type": "code",
   "execution_count": 3,
   "metadata": {},
   "outputs": [
    {
     "data": {
      "text/plain": [
       "ConstrainedDiscreteIdentitySystem{DefaultPolyhedron{Float64,Polyhedra.Intersection{Float64,Array{Float64,1},Int64},Polyhedra.Hull{Float64,Array{Float64,1},Int64}}}(4, HalfSpace([-1.0, 0.0, 0.0, 0.0], 1.0) ∩ HalfSpace([1.0, 0.0, 0.0, 0.0], 1.0) ∩ HalfSpace([0.0, 0.0, 0.0, -1.0], 1.0) ∩ HalfSpace([0.0, 0.0, 0.0, 1.0], 1.0) ∩ HalfSpace([0.0, 1.0, 0.0, 0.0], 3.0) ∩ HalfSpace([0.0, 0.0, 1.0, 0.0], 3.0) ∩ HalfSpace([0.0, -1.0, 0.0, 0.0], 3.0) ∩ HalfSpace([0.0, 0.0, -1.0, 0.0], 3.0))"
      ]
     },
     "execution_count": 3,
     "metadata": {},
     "output_type": "execute_result"
    }
   ],
   "source": [
    "system(1, 1; sym=true).modes[1]"
   ]
  },
  {
   "cell_type": "code",
   "execution_count": 4,
   "metadata": {},
   "outputs": [
    {
     "data": {
      "text/plain": [
       "4×4 Array{Float64,2}:\n",
       " 1.0  -0.5  0.5  0.0\n",
       " 0.5   0.5  0.5  0.0\n",
       " 0.5   0.5  0.5  0.5\n",
       " 0.0   0.0  0.0  0.0"
      ]
     },
     "execution_count": 4,
     "metadata": {},
     "output_type": "execute_result"
    }
   ],
   "source": [
    "system(1, 1; sym=true).resetmaps[1].A"
   ]
  },
  {
   "cell_type": "code",
   "execution_count": 5,
   "metadata": {},
   "outputs": [
    {
     "data": {
      "text/plain": [
       "4-element Array{Float64,1}:\n",
       " 1.0\n",
       " 5.3\n",
       " 5.3\n",
       " 1.0"
      ]
     },
     "execution_count": 5,
     "metadata": {},
     "output_type": "execute_result"
    }
   ],
   "source": [
    "sym_rect(1)"
   ]
  },
  {
   "cell_type": "code",
   "execution_count": 6,
   "metadata": {},
   "outputs": [
    {
     "name": "stderr",
     "output_type": "stream",
     "text": [
      "┌ Info: Recompiling stale cache file /home/blegat/.julia/compiled/v1.0/SwitchOnSafety/PA0qe.ji for SwitchOnSafety [4b7ae085-addf-5b2e-b0f2-71171a701510]\n",
      "└ @ Base loading.jl:1190\n"
     ]
    }
   ],
   "source": [
    "using SetProg\n",
    "using SwitchOnSafety\n",
    "const SOS = SwitchOnSafety;"
   ]
  },
  {
   "cell_type": "code",
   "execution_count": 4,
   "metadata": {},
   "outputs": [],
   "source": [
    "using CSDP\n",
    "sdp_factory = with_optimizer(CSDP.Optimizer);"
   ]
  },
  {
   "cell_type": "code",
   "execution_count": 5,
   "metadata": {
    "collapsed": true
   },
   "outputs": [],
   "source": [
    "using SCS\n",
    "sdp_factory = with_optimizer(SCS.Optimizer);"
   ]
  },
  {
   "cell_type": "code",
   "execution_count": 2,
   "metadata": {
    "collapsed": true
   },
   "outputs": [],
   "source": [
    "import Mosek\n",
    "using MathOptInterfaceMosek\n",
    "sdp_factory = with_optimizer(MosekOptimizer, QUIET=true, INTPNT_SCALING=3);"
   ]
  },
  {
   "cell_type": "code",
   "execution_count": 8,
   "metadata": {},
   "outputs": [
    {
     "data": {
      "text/plain": [
       "fullsolve (generic function with 1 method)"
      ]
     },
     "execution_count": 8,
     "metadata": {},
     "output_type": "execute_result"
    }
   ],
   "source": [
    "using LightGraphs\n",
    "const MOI = JuMP.MathOptInterface\n",
    "function symsolve(M, set_variable; volume_heuristic=set -> L1_heuristic(set, sym_rect(M)))\n",
    "    hs = system(M, T, N=1, sym=true, vmax = 1.0, v=(1.0,))\n",
    "    # Shift interval 5 <= v <= 15.6 -> -5.3 <= v <= 5.3\n",
    "    sets = invariant_sets(hs, sdp_factory, [set_variable], volume_heuristic=volume_heuristic)\n",
    "    [SOS.SetProg.Sets.Translation(set, _vec(M, 0, 2.0, 0)) for set in sets]\n",
    "end\n",
    "function fullsolve(T, M, setvar::Function;\n",
    "                   volume_heuristic=set -> L1_heuristic(set, sym_rect(M)),\n",
    "                   oneshot = false,\n",
    "                   onlyone = false)\n",
    "    hs = system(M, T);\n",
    "    function hv(v)\n",
    "        h = zeros(statedim(hs, 1))\n",
    "        for i in 1:M\n",
    "            h[2i] = (vmin .+ v) / 2\n",
    "        end\n",
    "        h[2M+1] = (vmin .+ v) / 2\n",
    "        h\n",
    "    end\n",
    "    habc = SOS.SetProg.InteriorPoint.(hv.(v))\n",
    "    ha = habc[1]\n",
    "    hi = [ha, ha, ha, ha, ha, ha, ha, ha, ha, ha]\n",
    "    set_variables = map(setvar, hi)\n",
    "    if oneshot\n",
    "        λ = Dict(t => 1.0 for t in transitions(hs))\n",
    "    else\n",
    "        λ = Dict(t => 1.0 for t in transitions(hs) if source(hs, t) == target(hs, t))\n",
    "    end\n",
    "    if oneshot\n",
    "        return invariant_sets(hs, sdp_factory, set_variables, λ = λ, volume_heuristic=volume_heuristic);\n",
    "    else\n",
    "        sets = Vector{SwitchOnSafety.SetProg.Sets.AbstractSet{Float64}}(undef, N)\n",
    "        for i in (onlyone ? (1:1) : (1:N))\n",
    "            invariant_sets!(sets, i:i, hs, sdp_factory, set_variables, λ = λ, enabled=1:i,\n",
    "                            volume_heuristic=volume_heuristic)\n",
    "        end\n",
    "        return sets\n",
    "    end\n",
    "end"
   ]
  },
  {
   "cell_type": "markdown",
   "metadata": {},
   "source": [
    "# Symmetric"
   ]
  },
  {
   "cell_type": "code",
   "execution_count": 3,
   "metadata": {},
   "outputs": [
    {
     "data": {
      "text/plain": [
       "Dict{Int64,Array{SetProg.Sets.AbstractSet{Float64},1}} with 0 entries"
      ]
     },
     "execution_count": 3,
     "metadata": {},
     "output_type": "execute_result"
    }
   ],
   "source": [
    "# M -> sets\n",
    "sym_ellipsoids_det = Dict{Int, Vector{SOS.SetProg.Sets.AbstractSet{Float64}}}()"
   ]
  },
  {
   "cell_type": "code",
   "execution_count": 4,
   "metadata": {},
   "outputs": [
    {
     "name": "stdout",
     "output_type": "stream",
     "text": [
      "MOI.get(model, MOI.SolveTime()) = 0.004478931427001953\n",
      "JuMP.termination_status(model) = OPTIMAL::TerminationStatusCode = 1\n",
      "JuMP.primal_status(model) = FEASIBLE_POINT::ResultStatusCode = 1\n",
      "JuMP.dual_status(model) = FEASIBLE_POINT::ResultStatusCode = 1\n",
      "JuMP.objective_value(model) = 0.6906961080519046\n",
      "MOI.get(model, MOI.SolveTime()) = 0.0058019161224365234\n",
      "JuMP.termination_status(model) = OPTIMAL::TerminationStatusCode = 1\n",
      "JuMP.primal_status(model) = FEASIBLE_POINT::ResultStatusCode = 1\n",
      "JuMP.dual_status(model) = FEASIBLE_POINT::ResultStatusCode = 1\n",
      "JuMP.objective_value(model) = 0.7542156649316701\n",
      "MOI.get(model, MOI.SolveTime()) = 0.010805130004882812\n",
      "JuMP.termination_status(model) = OPTIMAL::TerminationStatusCode = 1\n",
      "JuMP.primal_status(model) = FEASIBLE_POINT::ResultStatusCode = 1\n",
      "JuMP.dual_status(model) = FEASIBLE_POINT::ResultStatusCode = 1\n",
      "JuMP.objective_value(model) = 0.7898383564491525\n",
      "MOI.get(model, MOI.SolveTime()) = 0.023098230361938477\n",
      "JuMP.termination_status(model) = OPTIMAL::TerminationStatusCode = 1\n",
      "JuMP.primal_status(model) = FEASIBLE_POINT::ResultStatusCode = 1\n",
      "JuMP.dual_status(model) = FEASIBLE_POINT::ResultStatusCode = 1\n",
      "JuMP.objective_value(model) = 0.7730768333112639\n",
      "MOI.get(model, MOI.SolveTime()) = 0.04363679885864258\n",
      "JuMP.termination_status(model) = OPTIMAL::TerminationStatusCode = 1\n",
      "JuMP.primal_status(model) = FEASIBLE_POINT::ResultStatusCode = 1\n",
      "JuMP.dual_status(model) = FEASIBLE_POINT::ResultStatusCode = 1\n",
      "JuMP.objective_value(model) = 0.7889991029946097\n",
      "MOI.get(model, MOI.SolveTime()) = 0.06841683387756348\n",
      "JuMP.termination_status(model) = OPTIMAL::TerminationStatusCode = 1\n",
      "JuMP.primal_status(model) = FEASIBLE_POINT::ResultStatusCode = 1\n",
      "JuMP.dual_status(model) = FEASIBLE_POINT::ResultStatusCode = 1\n",
      "JuMP.objective_value(model) = 0.8381373683232132\n",
      "MOI.get(model, MOI.SolveTime()) = 0.11029291152954102\n",
      "JuMP.termination_status(model) = OPTIMAL::TerminationStatusCode = 1\n",
      "JuMP.primal_status(model) = FEASIBLE_POINT::ResultStatusCode = 1\n",
      "JuMP.dual_status(model) = FEASIBLE_POINT::ResultStatusCode = 1\n",
      "JuMP.objective_value(model) = 0.8458003223218492\n",
      "MOI.get(model, MOI.SolveTime()) = 0.17715692520141602\n",
      "JuMP.termination_status(model) = OPTIMAL::TerminationStatusCode = 1\n",
      "JuMP.primal_status(model) = FEASIBLE_POINT::ResultStatusCode = 1\n",
      "JuMP.dual_status(model) = FEASIBLE_POINT::ResultStatusCode = 1\n",
      "JuMP.objective_value(model) = 0.7623302165775108\n",
      "MOI.get(model, MOI.SolveTime()) = 0.2657630443572998\n",
      "JuMP.termination_status(model) = OPTIMAL::TerminationStatusCode = 1\n",
      "JuMP.primal_status(model) = FEASIBLE_POINT::ResultStatusCode = 1\n",
      "JuMP.dual_status(model) = FEASIBLE_POINT::ResultStatusCode = 1\n",
      "JuMP.objective_value(model) = 0.7695734046855478\n",
      "MOI.get(model, MOI.SolveTime()) = 0.3938100337982178\n",
      "JuMP.termination_status(model) = OPTIMAL::TerminationStatusCode = 1\n",
      "JuMP.primal_status(model) = FEASIBLE_POINT::ResultStatusCode = 1\n",
      "JuMP.dual_status(model) = FEASIBLE_POINT::ResultStatusCode = 1\n",
      "JuMP.objective_value(model) = 0.7644243932726458\n"
     ]
    }
   ],
   "source": [
    "for M in 1:10\n",
    "    sym_ellipsoids_det[M] = symsolve(M, Ellipsoid(symmetric=true),\n",
    "                                 volume_heuristic=nth_root)\n",
    "end"
   ]
  },
  {
   "cell_type": "code",
   "execution_count": 5,
   "metadata": {},
   "outputs": [
    {
     "data": {
      "text/plain": [
       "Dict{Int64,Array{SetProg.Sets.AbstractSet{Float64},1}} with 0 entries"
      ]
     },
     "execution_count": 5,
     "metadata": {},
     "output_type": "execute_result"
    }
   ],
   "source": [
    "# M -> sets\n",
    "sym_ellipsoids_tr = Dict{Int, Vector{SOS.SetProg.Sets.AbstractSet{Float64}}}()"
   ]
  },
  {
   "cell_type": "code",
   "execution_count": 6,
   "metadata": {},
   "outputs": [
    {
     "name": "stdout",
     "output_type": "stream",
     "text": [
      "MOI.get(model, MOI.SolveTime()) = 0.001093149185180664\n",
      "JuMP.termination_status(model) = OPTIMAL::TerminationStatusCode = 1\n",
      "JuMP.primal_status(model) = FEASIBLE_POINT::ResultStatusCode = 1\n",
      "JuMP.dual_status(model) = FEASIBLE_POINT::ResultStatusCode = 1\n",
      "JuMP.objective_value(model) = 2.6666666666666394\n",
      "MOI.get(model, MOI.SolveTime()) = 0.0014870166778564453\n",
      "JuMP.termination_status(model) = OPTIMAL::TerminationStatusCode = 1\n",
      "JuMP.primal_status(model) = FEASIBLE_POINT::ResultStatusCode = 1\n",
      "JuMP.dual_status(model) = FEASIBLE_POINT::ResultStatusCode = 1\n",
      "JuMP.objective_value(model) = 3.9999999999726006\n",
      "MOI.get(model, MOI.SolveTime()) = 0.0021049976348876953\n",
      "JuMP.termination_status(model) = OPTIMAL::TerminationStatusCode = 1\n",
      "JuMP.primal_status(model) = FEASIBLE_POINT::ResultStatusCode = 1\n",
      "JuMP.dual_status(model) = FEASIBLE_POINT::ResultStatusCode = 1\n",
      "JuMP.objective_value(model) = 5.333333333061911\n",
      "MOI.get(model, MOI.SolveTime()) = 0.003036022186279297\n",
      "JuMP.termination_status(model) = OPTIMAL::TerminationStatusCode = 1\n",
      "JuMP.primal_status(model) = FEASIBLE_POINT::ResultStatusCode = 1\n",
      "JuMP.dual_status(model) = FEASIBLE_POINT::ResultStatusCode = 1\n",
      "JuMP.objective_value(model) = 6.666666665626171\n",
      "MOI.get(model, MOI.SolveTime()) = 0.0053179264068603516\n",
      "JuMP.termination_status(model) = OPTIMAL::TerminationStatusCode = 1\n",
      "JuMP.primal_status(model) = FEASIBLE_POINT::ResultStatusCode = 1\n",
      "JuMP.dual_status(model) = FEASIBLE_POINT::ResultStatusCode = 1\n",
      "JuMP.objective_value(model) = 7.999999999182038\n",
      "MOI.get(model, MOI.SolveTime()) = 0.009859800338745117\n",
      "JuMP.termination_status(model) = OPTIMAL::TerminationStatusCode = 1\n",
      "JuMP.primal_status(model) = FEASIBLE_POINT::ResultStatusCode = 1\n",
      "JuMP.dual_status(model) = FEASIBLE_POINT::ResultStatusCode = 1\n",
      "JuMP.objective_value(model) = 9.333333333333295\n",
      "MOI.get(model, MOI.SolveTime()) = 0.013735055923461914\n",
      "JuMP.termination_status(model) = OPTIMAL::TerminationStatusCode = 1\n",
      "JuMP.primal_status(model) = FEASIBLE_POINT::ResultStatusCode = 1\n",
      "JuMP.dual_status(model) = FEASIBLE_POINT::ResultStatusCode = 1\n",
      "JuMP.objective_value(model) = 10.666666666666586\n",
      "MOI.get(model, MOI.SolveTime()) = 0.01996898651123047\n",
      "JuMP.termination_status(model) = OPTIMAL::TerminationStatusCode = 1\n",
      "JuMP.primal_status(model) = FEASIBLE_POINT::ResultStatusCode = 1\n",
      "JuMP.dual_status(model) = FEASIBLE_POINT::ResultStatusCode = 1\n",
      "JuMP.objective_value(model) = 11.999999999999963\n",
      "MOI.get(model, MOI.SolveTime()) = 0.027832984924316406\n",
      "JuMP.termination_status(model) = OPTIMAL::TerminationStatusCode = 1\n",
      "JuMP.primal_status(model) = FEASIBLE_POINT::ResultStatusCode = 1\n",
      "JuMP.dual_status(model) = FEASIBLE_POINT::ResultStatusCode = 1\n",
      "JuMP.objective_value(model) = 13.333333333333215\n",
      "MOI.get(model, MOI.SolveTime()) = 0.0350339412689209\n",
      "JuMP.termination_status(model) = OPTIMAL::TerminationStatusCode = 1\n",
      "JuMP.primal_status(model) = FEASIBLE_POINT::ResultStatusCode = 1\n",
      "JuMP.dual_status(model) = FEASIBLE_POINT::ResultStatusCode = 1\n",
      "JuMP.objective_value(model) = 14.66666666666515\n"
     ]
    }
   ],
   "source": [
    "for M in 1:10\n",
    "    sym_ellipsoids_tr[M] = symsolve(M, Ellipsoid(symmetric=true))\n",
    "end"
   ]
  },
  {
   "cell_type": "code",
   "execution_count": 7,
   "metadata": {},
   "outputs": [
    {
     "data": {
      "text/plain": [
       "poly (generic function with 1 method)"
      ]
     },
     "execution_count": 7,
     "metadata": {},
     "output_type": "execute_result"
    }
   ],
   "source": [
    "# (d, M) -> sets\n",
    "sym_polysets = Dict{Tuple{Int, Int}, Vector{SOS.SetProg.Sets.AbstractSet{Float64}}}()\n",
    "function poly(d, M)\n",
    "    sym_polysets[(d, M)] = symsolve(M, PolySet(convex=true, degree=d, symmetric=true))\n",
    "end"
   ]
  },
  {
   "cell_type": "code",
   "execution_count": 8,
   "metadata": {},
   "outputs": [
    {
     "name": "stdout",
     "output_type": "stream",
     "text": [
      "MOI.get(model, MOI.SolveTime()) = 0.0018889904022216797\n",
      "JuMP.termination_status(model) = OPTIMAL::TerminationStatusCode = 1\n",
      "JuMP.primal_status(model) = FEASIBLE_POINT::ResultStatusCode = 1\n",
      "JuMP.dual_status(model) = FEASIBLE_POINT::ResultStatusCode = 1\n",
      "JuMP.objective_value(model) = 21.333333333410017\n",
      "MOI.get(model, MOI.SolveTime()) = 0.0034689903259277344\n",
      "JuMP.termination_status(model) = OPTIMAL::TerminationStatusCode = 1\n",
      "JuMP.primal_status(model) = FEASIBLE_POINT::ResultStatusCode = 1\n",
      "JuMP.dual_status(model) = FEASIBLE_POINT::ResultStatusCode = 1\n",
      "JuMP.objective_value(model) = 128.0000000021801\n",
      "MOI.get(model, MOI.SolveTime()) = 0.0052759647369384766\n",
      "JuMP.termination_status(model) = OPTIMAL::TerminationStatusCode = 1\n",
      "JuMP.primal_status(model) = FEASIBLE_POINT::ResultStatusCode = 1\n",
      "JuMP.dual_status(model) = FEASIBLE_POINT::ResultStatusCode = 1\n",
      "JuMP.objective_value(model) = 682.6666666713763\n",
      "MOI.get(model, MOI.SolveTime()) = 0.010274887084960938\n",
      "JuMP.termination_status(model) = OPTIMAL::TerminationStatusCode = 1\n",
      "JuMP.primal_status(model) = FEASIBLE_POINT::ResultStatusCode = 1\n",
      "JuMP.dual_status(model) = FEASIBLE_POINT::ResultStatusCode = 1\n",
      "JuMP.objective_value(model) = 3413.333350208686\n",
      "MOI.get(model, MOI.SolveTime()) = 0.01944112777709961\n",
      "JuMP.termination_status(model) = OPTIMAL::TerminationStatusCode = 1\n",
      "JuMP.primal_status(model) = FEASIBLE_POINT::ResultStatusCode = 1\n",
      "JuMP.dual_status(model) = FEASIBLE_POINT::ResultStatusCode = 1\n",
      "JuMP.objective_value(model) = 16384.00000271237\n",
      "MOI.get(model, MOI.SolveTime()) = 0.03199887275695801\n",
      "JuMP.termination_status(model) = OPTIMAL::TerminationStatusCode = 1\n",
      "JuMP.primal_status(model) = FEASIBLE_POINT::ResultStatusCode = 1\n",
      "JuMP.dual_status(model) = FEASIBLE_POINT::ResultStatusCode = 1\n",
      "JuMP.objective_value(model) = 76458.66749270132\n",
      "MOI.get(model, MOI.SolveTime()) = 0.05203604698181152\n",
      "JuMP.termination_status(model) = OPTIMAL::TerminationStatusCode = 1\n",
      "JuMP.primal_status(model) = FEASIBLE_POINT::ResultStatusCode = 1\n",
      "JuMP.dual_status(model) = FEASIBLE_POINT::ResultStatusCode = 1\n",
      "JuMP.objective_value(model) = 349525.3333334644\n",
      "MOI.get(model, MOI.SolveTime()) = 0.0830538272857666\n",
      "JuMP.termination_status(model) = OPTIMAL::TerminationStatusCode = 1\n",
      "JuMP.primal_status(model) = FEASIBLE_POINT::ResultStatusCode = 1\n",
      "JuMP.dual_status(model) = FEASIBLE_POINT::ResultStatusCode = 1\n",
      "JuMP.objective_value(model) = 1.5728640000000014e6\n",
      "MOI.get(model, MOI.SolveTime()) = 0.10832500457763672\n",
      "JuMP.termination_status(model) = OPTIMAL::TerminationStatusCode = 1\n",
      "JuMP.primal_status(model) = FEASIBLE_POINT::ResultStatusCode = 1\n",
      "JuMP.dual_status(model) = FEASIBLE_POINT::ResultStatusCode = 1\n",
      "JuMP.objective_value(model) = 6.990506666883929e6\n",
      "MOI.get(model, MOI.SolveTime()) = 0.23605799674987793\n",
      "JuMP.termination_status(model) = OPTIMAL::TerminationStatusCode = 1\n",
      "JuMP.primal_status(model) = FEASIBLE_POINT::ResultStatusCode = 1\n",
      "JuMP.dual_status(model) = FEASIBLE_POINT::ResultStatusCode = 1\n",
      "JuMP.objective_value(model) = 3.075822933334472e7\n"
     ]
    }
   ],
   "source": [
    "for M in 1:10\n",
    "    poly(2, M)\n",
    "end"
   ]
  },
  {
   "cell_type": "code",
   "execution_count": 9,
   "metadata": {},
   "outputs": [
    {
     "name": "stdout",
     "output_type": "stream",
     "text": [
      "MOI.get(model, MOI.SolveTime()) = 0.03703594207763672\n",
      "JuMP.termination_status(model) = OPTIMAL::TerminationStatusCode = 1\n",
      "JuMP.primal_status(model) = FEASIBLE_POINT::ResultStatusCode = 1\n",
      "JuMP.dual_status(model) = FEASIBLE_POINT::ResultStatusCode = 1\n",
      "JuMP.objective_value(model) = 76.79999677466857\n",
      "  0.096362 seconds (162.69 k allocations: 9.514 MiB, 5.57% gc time)\n"
     ]
    }
   ],
   "source": [
    "@time poly(4, 1);"
   ]
  },
  {
   "cell_type": "code",
   "execution_count": 10,
   "metadata": {},
   "outputs": [
    {
     "name": "stdout",
     "output_type": "stream",
     "text": [
      "MOI.get(model, MOI.SolveTime()) = 0.6681869029998779\n",
      "STALL\n",
      "JuMP.termination_status(model) = SLOW_PROGRESS::TerminationStatusCode = 19\n",
      "JuMP.primal_status(model) = FEASIBLE_POINT::ResultStatusCode = 1\n",
      "JuMP.dual_status(model) = FEASIBLE_POINT::ResultStatusCode = 1\n",
      "JuMP.objective_value(model) = 414.5099078327513\n",
      "  0.724092 seconds (182.68 k allocations: 17.354 MiB, 1.74% gc time)\n"
     ]
    }
   ],
   "source": [
    "@time poly(6, 1);"
   ]
  },
  {
   "cell_type": "code",
   "execution_count": 11,
   "metadata": {},
   "outputs": [
    {
     "name": "stdout",
     "output_type": "stream",
     "text": [
      "MOI.get(model, MOI.SolveTime()) = 9.690335988998413\n",
      "STALL\n",
      "JuMP.termination_status(model) = SLOW_PROGRESS::TerminationStatusCode = 19\n",
      "JuMP.primal_status(model) = FEASIBLE_POINT::ResultStatusCode = 1\n",
      "JuMP.dual_status(model) = FEASIBLE_POINT::ResultStatusCode = 1\n",
      "JuMP.objective_value(model) = 2898.6558988665647\n",
      "  9.796740 seconds (491.35 k allocations: 68.389 MiB, 0.22% gc time)\n"
     ]
    }
   ],
   "source": [
    "@time poly(8, 1);"
   ]
  },
  {
   "cell_type": "markdown",
   "metadata": {},
   "source": [
    "# Non-homogeneous"
   ]
  },
  {
   "cell_type": "code",
   "execution_count": 7,
   "metadata": {},
   "outputs": [
    {
     "data": {
      "text/plain": [
       "Dict{Int64,Array{SetProg.Sets.AbstractSet{Float64},1}} with 0 entries"
      ]
     },
     "execution_count": 7,
     "metadata": {},
     "output_type": "execute_result"
    }
   ],
   "source": [
    "# M -> sets\n",
    "ellipsoids_det = Dict{Int, Vector{SOS.SetProg.Sets.AbstractSet{Float64}}}()"
   ]
  },
  {
   "cell_type": "code",
   "execution_count": 8,
   "metadata": {},
   "outputs": [
    {
     "name": "stdout",
     "output_type": "stream",
     "text": [
      "MOI.get(model, MOI.SolveTime()) = 0.007884979248046875\n",
      "JuMP.termination_status(model) = OPTIMAL::TerminationStatusCode = 1\n",
      "JuMP.primal_status(model) = FEASIBLE_POINT::ResultStatusCode = 1\n",
      "JuMP.dual_status(model) = FEASIBLE_POINT::ResultStatusCode = 1\n",
      "JuMP.objective_value(model) = 0.0007378441273952033\n",
      "MOI.get(model, MOI.SolveTime()) = 0.015391111373901367\n",
      "JuMP.termination_status(model) = OPTIMAL::TerminationStatusCode = 1\n",
      "JuMP.primal_status(model) = FEASIBLE_POINT::ResultStatusCode = 1\n",
      "JuMP.dual_status(model) = FEASIBLE_POINT::ResultStatusCode = 1\n",
      "JuMP.objective_value(model) = 0.00035270040967755\n",
      "MOI.get(model, MOI.SolveTime()) = 0.0436098575592041\n",
      "STALL\n",
      "JuMP.termination_status(model) = SLOW_PROGRESS::TerminationStatusCode = 19\n",
      "JuMP.primal_status(model) = FEASIBLE_POINT::ResultStatusCode = 1\n",
      "JuMP.dual_status(model) = FEASIBLE_POINT::ResultStatusCode = 1\n",
      "JuMP.objective_value(model) = 0.000178232388157923\n",
      "MOI.get(model, MOI.SolveTime()) = 0.07949018478393555\n",
      "STALL\n",
      "JuMP.termination_status(model) = SLOW_PROGRESS::TerminationStatusCode = 19\n",
      "JuMP.primal_status(model) = FEASIBLE_POINT::ResultStatusCode = 1\n",
      "JuMP.dual_status(model) = FEASIBLE_POINT::ResultStatusCode = 1\n",
      "JuMP.objective_value(model) = 8.80553559761127e-5\n",
      "MOI.get(model, MOI.SolveTime()) = 0.12968683242797852\n",
      "STALL\n",
      "JuMP.termination_status(model) = SLOW_PROGRESS::TerminationStatusCode = 19\n",
      "JuMP.primal_status(model) = FEASIBLE_POINT::ResultStatusCode = 1\n",
      "JuMP.dual_status(model) = FEASIBLE_POINT::ResultStatusCode = 1\n",
      "JuMP.objective_value(model) = 8.12442782628166e-5\n",
      "MOI.get(model, MOI.SolveTime()) = 0.24060797691345215\n",
      "STALL\n",
      "JuMP.termination_status(model) = SLOW_PROGRESS::TerminationStatusCode = 19\n",
      "JuMP.primal_status(model) = FEASIBLE_POINT::ResultStatusCode = 1\n",
      "JuMP.dual_status(model) = FEASIBLE_POINT::ResultStatusCode = 1\n",
      "JuMP.objective_value(model) = 5.350746190072951e-5\n",
      "MOI.get(model, MOI.SolveTime()) = 0.34505295753479004\n",
      "STALL\n",
      "JuMP.termination_status(model) = SLOW_PROGRESS::TerminationStatusCode = 19\n",
      "JuMP.primal_status(model) = FEASIBLE_POINT::ResultStatusCode = 1\n",
      "JuMP.dual_status(model) = FEASIBLE_POINT::ResultStatusCode = 1\n",
      "JuMP.objective_value(model) = 4.3618002808774265e-5\n",
      "MOI.get(model, MOI.SolveTime()) = 0.4465510845184326\n",
      "STALL\n",
      "JuMP.termination_status(model) = SLOW_PROGRESS::TerminationStatusCode = 19\n",
      "JuMP.primal_status(model) = FEASIBLE_POINT::ResultStatusCode = 1\n",
      "JuMP.dual_status(model) = FEASIBLE_POINT::ResultStatusCode = 1\n",
      "JuMP.objective_value(model) = 2.2531729919751118e-5\n",
      "MOI.get(model, MOI.SolveTime()) = 0.8661940097808838\n",
      "STALL\n",
      "JuMP.termination_status(model) = SLOW_PROGRESS::TerminationStatusCode = 19\n",
      "JuMP.primal_status(model) = FEASIBLE_POINT::ResultStatusCode = 1\n",
      "JuMP.dual_status(model) = FEASIBLE_POINT::ResultStatusCode = 1\n",
      "JuMP.objective_value(model) = 1.4324697557402742e-5\n",
      "MOI.get(model, MOI.SolveTime()) = 1.1332600116729736\n",
      "JuMP.termination_status(model) = OPTIMAL::TerminationStatusCode = 1\n",
      "JuMP.primal_status(model) = FEASIBLE_POINT::ResultStatusCode = 1\n",
      "JuMP.dual_status(model) = FEASIBLE_POINT::ResultStatusCode = 1\n",
      "JuMP.objective_value(model) = 1.6105389260482045e-5\n"
     ]
    }
   ],
   "source": [
    "for M in 1:10\n",
    "    ellipsoids_det[M] = fullsolve(T, M, h -> Ellipsoid(point=h),\n",
    "                     volume_heuristic=nth_root, oneshot=false, onlyone=true)\n",
    "end"
   ]
  },
  {
   "cell_type": "code",
   "execution_count": 8,
   "metadata": {},
   "outputs": [
    {
     "data": {
      "text/plain": [
       "Dict{Int64,Array{SetProg.Sets.AbstractSet{Float64},1}} with 0 entries"
      ]
     },
     "execution_count": 8,
     "metadata": {},
     "output_type": "execute_result"
    }
   ],
   "source": [
    "# M -> sets\n",
    "ellipsoids_tr = Dict{Int, Vector{SOS.SetProg.Sets.AbstractSet{Float64}}}()"
   ]
  },
  {
   "cell_type": "code",
   "execution_count": 9,
   "metadata": {},
   "outputs": [
    {
     "name": "stdout",
     "output_type": "stream",
     "text": [
      "MOI.get(model, MOI.SolveTime()) = 0.0036468505859375\n",
      "JuMP.termination_status(model) = OPTIMAL::TerminationStatusCode = 1\n",
      "JuMP.primal_status(model) = FEASIBLE_POINT::ResultStatusCode = 1\n",
      "JuMP.dual_status(model) = FEASIBLE_POINT::ResultStatusCode = 1\n",
      "JuMP.objective_value(model) = 0.0062879016788270885\n",
      "MOI.get(model, MOI.SolveTime()) = 0.006290912628173828\n",
      "JuMP.termination_status(model) = OPTIMAL::TerminationStatusCode = 1\n",
      "JuMP.primal_status(model) = FEASIBLE_POINT::ResultStatusCode = 1\n",
      "JuMP.dual_status(model) = FEASIBLE_POINT::ResultStatusCode = 1\n",
      "JuMP.objective_value(model) = 0.006348923400704833\n",
      "MOI.get(model, MOI.SolveTime()) = 0.015575885772705078\n",
      "JuMP.termination_status(model) = OPTIMAL::TerminationStatusCode = 1\n",
      "JuMP.primal_status(model) = FEASIBLE_POINT::ResultStatusCode = 1\n",
      "JuMP.dual_status(model) = FEASIBLE_POINT::ResultStatusCode = 1\n",
      "JuMP.objective_value(model) = 0.006815868635075748\n",
      "MOI.get(model, MOI.SolveTime()) = 0.02512192726135254\n",
      "JuMP.termination_status(model) = OPTIMAL::TerminationStatusCode = 1\n",
      "JuMP.primal_status(model) = FEASIBLE_POINT::ResultStatusCode = 1\n",
      "JuMP.dual_status(model) = FEASIBLE_POINT::ResultStatusCode = 1\n",
      "JuMP.objective_value(model) = 0.006715303526154322\n",
      "MOI.get(model, MOI.SolveTime()) = 0.03710293769836426\n",
      "JuMP.termination_status(model) = OPTIMAL::TerminationStatusCode = 1\n",
      "JuMP.primal_status(model) = FEASIBLE_POINT::ResultStatusCode = 1\n",
      "JuMP.dual_status(model) = FEASIBLE_POINT::ResultStatusCode = 1\n",
      "JuMP.objective_value(model) = 0.006948935568840053\n",
      "MOI.get(model, MOI.SolveTime()) = 0.07460594177246094\n",
      "JuMP.termination_status(model) = OPTIMAL::TerminationStatusCode = 1\n",
      "JuMP.primal_status(model) = FEASIBLE_POINT::ResultStatusCode = 1\n",
      "JuMP.dual_status(model) = FEASIBLE_POINT::ResultStatusCode = 1\n",
      "JuMP.objective_value(model) = 0.006916663444698179\n",
      "MOI.get(model, MOI.SolveTime()) = 0.09571194648742676\n",
      "STALL\n",
      "JuMP.termination_status(model) = SLOW_PROGRESS::TerminationStatusCode = 19\n",
      "JuMP.primal_status(model) = FEASIBLE_POINT::ResultStatusCode = 1\n",
      "JuMP.dual_status(model) = FEASIBLE_POINT::ResultStatusCode = 1\n",
      "JuMP.objective_value(model) = 0.006851597246257406\n",
      "MOI.get(model, MOI.SolveTime()) = 0.1370089054107666\n",
      "JuMP.termination_status(model) = OPTIMAL::TerminationStatusCode = 1\n",
      "JuMP.primal_status(model) = FEASIBLE_POINT::ResultStatusCode = 1\n",
      "JuMP.dual_status(model) = FEASIBLE_POINT::ResultStatusCode = 1\n",
      "JuMP.objective_value(model) = 0.007006706941811326\n",
      "MOI.get(model, MOI.SolveTime()) = 0.1787879467010498\n",
      "JuMP.termination_status(model) = OPTIMAL::TerminationStatusCode = 1\n",
      "JuMP.primal_status(model) = FEASIBLE_POINT::ResultStatusCode = 1\n",
      "JuMP.dual_status(model) = FEASIBLE_POINT::ResultStatusCode = 1\n",
      "JuMP.objective_value(model) = 0.006973358325188391\n",
      "MOI.get(model, MOI.SolveTime()) = 0.29727697372436523\n",
      "JuMP.termination_status(model) = OPTIMAL::TerminationStatusCode = 1\n",
      "JuMP.primal_status(model) = FEASIBLE_POINT::ResultStatusCode = 1\n",
      "JuMP.dual_status(model) = FEASIBLE_POINT::ResultStatusCode = 1\n",
      "JuMP.objective_value(model) = 0.007039629647507515\n"
     ]
    }
   ],
   "source": [
    "for M in 1:10\n",
    "    ellipsoids_tr[M] = fullsolve(T, M, h -> Ellipsoid(point=h),\n",
    "                                 oneshot=false, onlyone=true)\n",
    "end"
   ]
  },
  {
   "cell_type": "code",
   "execution_count": 43,
   "metadata": {},
   "outputs": [
    {
     "data": {
      "text/plain": [
       "poly (generic function with 1 method)"
      ]
     },
     "execution_count": 43,
     "metadata": {},
     "output_type": "execute_result"
    }
   ],
   "source": [
    "# (d, M) -> sets\n",
    "polysets = Dict{Tuple{Int, Int}, Vector{SOS.SetProg.Sets.AbstractSet{Float64}}}()\n",
    "function poly(d, M)\n",
    "    polysets[(d, M)] = fullsolve(T, M, h -> PolySet(convex=true, degree=d, point=h),\n",
    "                                 oneshot=false, onlyone=true)\n",
    "end"
   ]
  },
  {
   "cell_type": "code",
   "execution_count": 46,
   "metadata": {},
   "outputs": [
    {
     "name": "stdout",
     "output_type": "stream",
     "text": [
      "MOI.get(model, MOI.SolveTime()) = 0.0036978721618652344\n",
      "JuMP.termination_status(model) = OPTIMAL::TerminationStatusCode = 1\n",
      "JuMP.primal_status(model) = FEASIBLE_POINT::ResultStatusCode = 1\n",
      "JuMP.dual_status(model) = FEASIBLE_POINT::ResultStatusCode = 1\n",
      "JuMP.objective_value(model) = 0.0008953900538050838\n",
      "MOI.get(model, MOI.SolveTime()) = 0.007388114929199219\n",
      "JuMP.termination_status(model) = OPTIMAL::TerminationStatusCode = 1\n",
      "JuMP.primal_status(model) = FEASIBLE_POINT::ResultStatusCode = 1\n",
      "JuMP.dual_status(model) = FEASIBLE_POINT::ResultStatusCode = 1\n",
      "JuMP.objective_value(model) = 0.0013646256331211531\n",
      "MOI.get(model, MOI.SolveTime()) = 0.012610912322998047\n",
      "JuMP.termination_status(model) = OPTIMAL::TerminationStatusCode = 1\n",
      "JuMP.primal_status(model) = FEASIBLE_POINT::ResultStatusCode = 1\n",
      "JuMP.dual_status(model) = FEASIBLE_POINT::ResultStatusCode = 1\n",
      "JuMP.objective_value(model) = 0.0022112154748826496\n",
      "MOI.get(model, MOI.SolveTime()) = 0.0258939266204834\n",
      "JuMP.termination_status(model) = OPTIMAL::TerminationStatusCode = 1\n",
      "JuMP.primal_status(model) = FEASIBLE_POINT::ResultStatusCode = 1\n",
      "JuMP.dual_status(model) = FEASIBLE_POINT::ResultStatusCode = 1\n",
      "JuMP.objective_value(model) = 0.0032887894390524488\n",
      "MOI.get(model, MOI.SolveTime()) = 0.03072190284729004\n",
      "JuMP.termination_status(model) = OPTIMAL::TerminationStatusCode = 1\n",
      "JuMP.primal_status(model) = FEASIBLE_POINT::ResultStatusCode = 1\n",
      "JuMP.dual_status(model) = FEASIBLE_POINT::ResultStatusCode = 1\n",
      "JuMP.objective_value(model) = 0.005137007774556203\n",
      "MOI.get(model, MOI.SolveTime()) = 0.059947967529296875\n",
      "JuMP.termination_status(model) = OPTIMAL::TerminationStatusCode = 1\n",
      "JuMP.primal_status(model) = FEASIBLE_POINT::ResultStatusCode = 1\n",
      "JuMP.dual_status(model) = FEASIBLE_POINT::ResultStatusCode = 1\n",
      "JuMP.objective_value(model) = 0.007717039077729992\n",
      "MOI.get(model, MOI.SolveTime()) = 0.08774399757385254\n",
      "JuMP.termination_status(model) = OPTIMAL::TerminationStatusCode = 1\n",
      "JuMP.primal_status(model) = FEASIBLE_POINT::ResultStatusCode = 1\n",
      "JuMP.dual_status(model) = FEASIBLE_POINT::ResultStatusCode = 1\n",
      "JuMP.objective_value(model) = 0.011535049406666841\n",
      "MOI.get(model, MOI.SolveTime()) = 0.16605806350708008\n",
      "STALL\n",
      "JuMP.termination_status(model) = SLOW_PROGRESS::TerminationStatusCode = 19\n",
      "JuMP.primal_status(model) = FEASIBLE_POINT::ResultStatusCode = 1\n",
      "JuMP.dual_status(model) = FEASIBLE_POINT::ResultStatusCode = 1\n",
      "JuMP.objective_value(model) = 0.017812705593903543\n",
      "MOI.get(model, MOI.SolveTime()) = 0.2504911422729492\n",
      "JuMP.termination_status(model) = OPTIMAL::TerminationStatusCode = 1\n",
      "JuMP.primal_status(model) = FEASIBLE_POINT::ResultStatusCode = 1\n",
      "JuMP.dual_status(model) = FEASIBLE_POINT::ResultStatusCode = 1\n",
      "JuMP.objective_value(model) = 0.02675861721383324\n",
      "MOI.get(model, MOI.SolveTime()) = 0.7191109657287598\n",
      "STALL\n",
      "JuMP.termination_status(model) = SLOW_PROGRESS::TerminationStatusCode = 19\n",
      "JuMP.primal_status(model) = FEASIBLE_POINT::ResultStatusCode = 1\n",
      "JuMP.dual_status(model) = FEASIBLE_POINT::ResultStatusCode = 1\n",
      "JuMP.objective_value(model) = 0.040776904892208185\n"
     ]
    }
   ],
   "source": [
    "for M in 1:10\n",
    "    poly(2, M)\n",
    "end"
   ]
  },
  {
   "cell_type": "code",
   "execution_count": 44,
   "metadata": {},
   "outputs": [
    {
     "name": "stdout",
     "output_type": "stream",
     "text": [
      "MOI.get(model, MOI.SolveTime()) = 0.04555201530456543\n",
      "JuMP.termination_status(model) = OPTIMAL::TerminationStatusCode = 1\n",
      "JuMP.primal_status(model) = FEASIBLE_POINT::ResultStatusCode = 1\n",
      "JuMP.dual_status(model) = FEASIBLE_POINT::ResultStatusCode = 1\n",
      "JuMP.objective_value(model) = 6.772987696151774e-6\n",
      "  6.040348 seconds (14.91 M allocations: 761.452 MiB, 7.47% gc time)\n"
     ]
    }
   ],
   "source": [
    "@time poly(4, 1);"
   ]
  },
  {
   "cell_type": "code",
   "execution_count": 24,
   "metadata": {},
   "outputs": [
    {
     "name": "stdout",
     "output_type": "stream",
     "text": [
      "MOI.get(model, MOI.SolveTime()) = 1.6126079559326172\n",
      "JuMP.termination_status(model) = OPTIMAL::TerminationStatusCode = 1\n",
      "JuMP.primal_status(model) = FEASIBLE_POINT::ResultStatusCode = 1\n",
      "JuMP.dual_status(model) = FEASIBLE_POINT::ResultStatusCode = 1\n",
      "JuMP.objective_value(model) = 1.1507778118401987e-5\n",
      "  1.877606 seconds (879.51 k allocations: 144.101 MiB, 4.00% gc time)\n"
     ]
    }
   ],
   "source": [
    "@time poly(4, 2);"
   ]
  },
  {
   "cell_type": "code",
   "execution_count": 13,
   "metadata": {},
   "outputs": [
    {
     "name": "stdout",
     "output_type": "stream",
     "text": [
      "MOI.get(model, MOI.SolveTime()) = 6.242372989654541\n",
      "JuMP.termination_status(model) = Success::TerminationStatusCode = 1\n",
      "JuMP.primal_status(model) = FeasiblePoint::ResultStatusCode = 1\n",
      "JuMP.dual_status(model) = FeasiblePoint::ResultStatusCode = 1\n",
      "JuMP.objective_value(model) = 1.1500712388261522e-5\n",
      "  6.410467 seconds (983.38 k allocations: 157.858 MiB, 0.73% gc time)\n"
     ]
    }
   ],
   "source": [
    "@time poly(4, 2);"
   ]
  },
  {
   "cell_type": "code",
   "execution_count": 15,
   "metadata": {},
   "outputs": [
    {
     "name": "stdout",
     "output_type": "stream",
     "text": [
      "MOI.get(model, MOI.SolveTime()) = 3.108872890472412\n",
      "STALL\n",
      "JuMP.termination_status(model) = SLOW_PROGRESS::TerminationStatusCode = 19\n",
      "JuMP.primal_status(model) = FEASIBLE_POINT::ResultStatusCode = 1\n",
      "JuMP.dual_status(model) = FEASIBLE_POINT::ResultStatusCode = 1\n",
      "JuMP.objective_value(model) = 3.5122702706947064e-7\n",
      "  3.264221 seconds (916.49 k allocations: 164.066 MiB, 1.31% gc time)\n"
     ]
    }
   ],
   "source": [
    "@time poly(6, 1);"
   ]
  },
  {
   "cell_type": "code",
   "execution_count": 14,
   "metadata": {},
   "outputs": [
    {
     "name": "stdout",
     "output_type": "stream",
     "text": [
      "MOI.get(model, MOI.SolveTime()) = 52.67625093460083\n",
      "STALL\n",
      "JuMP.termination_status(model) = SlowProgress::TerminationStatusCode = 14\n",
      "JuMP.primal_status(model) = FeasiblePoint::ResultStatusCode = 1\n",
      "JuMP.dual_status(model) = FeasiblePoint::ResultStatusCode = 1\n",
      "JuMP.objective_value(model) = 9.996768542488537e-7\n",
      " 52.865089 seconds (1.23 M allocations: 193.334 MiB, 0.10% gc time)\n"
     ]
    }
   ],
   "source": [
    "@time poly(6, 1);"
   ]
  },
  {
   "cell_type": "code",
   "execution_count": 16,
   "metadata": {},
   "outputs": [
    {
     "ename": "UndefVarError",
     "evalue": "UndefVarError: hs not defined",
     "output_type": "error",
     "traceback": [
      "UndefVarError: hs not defined",
      "",
      "Stacktrace:",
      " [1] top-level scope at In[16]:1"
     ]
    }
   ],
   "source": [
    "hs.resetmaps[1]"
   ]
  },
  {
   "cell_type": "code",
   "execution_count": 27,
   "metadata": {},
   "outputs": [
    {
     "name": "stdout",
     "output_type": "stream",
     "text": [
      "hs = HalfSpace([-1.0, 0.0, 0.0, 0.0], 0.5)\n",
      "x = 8.331643470057758e-9\n",
      "x < 1.0e-7 = true\n",
      "hs = HalfSpace([1.0, 0.0, 0.0, 0.0], 0.5)\n",
      "x = 3.3089699437148976e-9\n",
      "x < 1.0e-7 = true\n",
      "hs = HalfSpace([0.0, 0.0, 0.0, -1.0], 4.0)\n",
      "x = -4.232171244320486e-5\n",
      "x < 1.0e-7 = true\n",
      "hs = HalfSpace([0.0, 0.0, 0.0, 1.0], 4.0)\n",
      "x = -3.7236041968422885e-5\n",
      "x < 1.0e-7 = true\n",
      "hs = HalfSpace([0.0, -1.0, 0.0, 0.0], -5.0)\n",
      "x = -0.0002939379554248167\n",
      "x < 1.0e-7 = true\n",
      "hs = HalfSpace([0.0, 0.0, -1.0, 0.0], -5.0)\n",
      "x = -0.00041380841537877466\n",
      "x < 1.0e-7 = true\n",
      "hs = HalfSpace([0.0, 1.0, 0.0, 0.0], 15.6)\n",
      "x = 0.37828705273760593\n",
      "x < 1.0e-7 = false\n",
      "hs = HalfSpace([0.0, 0.0, 1.0, 0.0], 15.6)\n",
      "x = 0.35481234408593015\n",
      "x < 1.0e-7 = false\n"
     ]
    }
   ],
   "source": [
    "set = polysets[(6, 1)][1]\n",
    "for hs in halfspaces(stateset(hs, 1))\n",
    "    @show hs\n",
    "    x = set.set.p(SetProg.Sets.perspective_variable(set) => -hs.β, SetProg.Sets.space_variables(set) => hs.a)\n",
    "    @show x\n",
    "    @show x < 1e-7\n",
    "end"
   ]
  },
  {
   "cell_type": "code",
   "execution_count": 18,
   "metadata": {},
   "outputs": [
    {
     "name": "stdout",
     "output_type": "stream",
     "text": [
      "hs = HalfSpace([-1.0, 0.0, 0.0, 0.0], 0.5)\n",
      "set.p(set.z => -(hs.β), set.x => hs.a) = 7.258554048221158e-8\n",
      "set.p(set.z => -(hs.β), set.x => hs.a) < 1.0e-7 = true\n",
      "hs = HalfSpace([1.0, 0.0, 0.0, 0.0], 0.5)\n",
      "set.p(set.z => -(hs.β), set.x => hs.a) = 9.356120268743195e-8\n",
      "set.p(set.z => -(hs.β), set.x => hs.a) < 1.0e-7 = true\n",
      "hs = HalfSpace([0.0, 0.0, 0.0, -1.0], 4.0)\n",
      "set.p(set.z => -(hs.β), set.x => hs.a) = -7.341635924066887e-6\n",
      "set.p(set.z => -(hs.β), set.x => hs.a) < 1.0e-7 = true\n",
      "hs = HalfSpace([0.0, 0.0, 0.0, 1.0], 4.0)\n",
      "set.p(set.z => -(hs.β), set.x => hs.a) = -1.400969402629937e-5\n",
      "set.p(set.z => -(hs.β), set.x => hs.a) < 1.0e-7 = true\n",
      "hs = HalfSpace([0.0, -1.0, 0.0, 0.0], -5.0)\n",
      "set.p(set.z => -(hs.β), set.x => hs.a) = -0.00015975016257570307\n",
      "set.p(set.z => -(hs.β), set.x => hs.a) < 1.0e-7 = true\n",
      "hs = HalfSpace([0.0, 0.0, -1.0, 0.0], -5.0)\n",
      "set.p(set.z => -(hs.β), set.x => hs.a) = -0.0003274353820358067\n",
      "set.p(set.z => -(hs.β), set.x => hs.a) < 1.0e-7 = true\n",
      "hs = HalfSpace([0.0, 1.0, 0.0, 0.0], 15.6)\n",
      "set.p(set.z => -(hs.β), set.x => hs.a) = 0.6889708998132245\n",
      "set.p(set.z => -(hs.β), set.x => hs.a) < 1.0e-7 = false\n",
      "hs = HalfSpace([0.0, 0.0, 1.0, 0.0], 15.6)\n",
      "set.p(set.z => -(hs.β), set.x => hs.a) = 0.6658991200196999\n",
      "set.p(set.z => -(hs.β), set.x => hs.a) < 1.0e-7 = false\n"
     ]
    }
   ],
   "source": [
    "set = polysets[(6, 1)][1]\n",
    "for hs in halfspaces(stateset(hs, 1))\n",
    "    @show hs\n",
    "    @show set.p(set.z => -hs.β, set.x => hs.a)\n",
    "    @show set.p(set.z => -hs.β, set.x => hs.a) < 1e-7\n",
    "end"
   ]
  },
  {
   "cell_type": "code",
   "execution_count": 25,
   "metadata": {},
   "outputs": [
    {
     "name": "stderr",
     "output_type": "stream",
     "text": [
      "┌ Warning: The addition operator has been used on JuMP expressions a large number of times. This warning is safe to ignore but may indicate that model generation is slower than necessary. For performance reasons, you should not add expressions in a loop. Instead of x += y, use add_to_expression!(x,y) to modify x in place. If y is a single variable, you may also use add_to_expression!(x, coef, y) for x += coef*y.\n",
      "└ @ JuMP /home/blegat/.julia/dev/JuMP/src/JuMP.jl:614\n"
     ]
    },
    {
     "name": "stdout",
     "output_type": "stream",
     "text": [
      "MOI.get(model, MOI.SolveTime()) = 255.13594102859497\n",
      "STALL\n",
      "JuMP.termination_status(model) = SLOW_PROGRESS::TerminationStatusCode = 19\n",
      "JuMP.primal_status(model) = FEASIBLE_POINT::ResultStatusCode = 1\n",
      "JuMP.dual_status(model) = FEASIBLE_POINT::ResultStatusCode = 1\n",
      "JuMP.objective_value(model) = 0.00013345920872077436\n"
     ]
    },
    {
     "data": {
      "text/plain": [
       "10-element Array{SetProg.Sets.AbstractSet{Float64},1}:\n",
       "    SetProg.Sets.PerspectiveDual{Float64,SetProg.Sets.PerspectiveConvexPolynomialSet{Float64,Float64}}(SetProg.Sets.PerspectiveConvexPolynomialSet{Float64,Float64}(8, SumOfSquares.MatPolynomial{Float64,DynamicPolynomials.Monomial{true},DynamicPolynomials.MonomialVector{true}}([216.401 30.8102 … 0.29016 0.153923; 30.8102 18.4382 … 0.0192266 0.034118; … ; 0.29016 0.0192266 … 0.0744437 0.0343486; 0.153923 0.034118 … 0.0343486 0.257669], DynamicPolynomials.Monomial{true}[z⁴, z³x₁, z³x₂, z³x₃, z³x₄, z²x₁², z²x₁x₂, z²x₁x₃, z²x₁x₄, z²x₂²  …  x₂²x₄², x₂x₃³, x₂x₃²x₄, x₂x₃x₄², x₂x₄³, x₃⁴, x₃³x₄, x₃²x₄², x₃x₄³, x₄⁴]), 4.452527457633574e-8z⁸ - 8.978286415066446e-7z⁷x₁ + 2.7775574404679854e-5z⁷x₂ + 2.6700707072982987e-5z⁷x₃ - 2.455591214078306e-7z⁷x₄ + 4.9688252937801655e-6z⁶x₁² - 6.704517050952472e-5z⁶x₁x₂ - 6.396219849934787e-5z⁶x₁x₃ - 2.26892238312428e-7z⁶x₁x₄ + 0.0008343186526858594z⁶x₂² + 0.0016510818111969354z⁶x₂x₃ - 3.300761338542634e-5z⁶x₂x₄ + 0.0008136349982324157z⁶x₃² - 3.28854349259756e-5z⁶x₃x₄ - 3.1294500931830917e-7z⁶x₄² - 6.6573972559098784e-6z⁵x₁³ + 0.0001433497958027769z⁵x₁²x₂ + 0.0001356591691749824z⁵x₁²x₃ + 2.6069563814276126e-6z⁵x₁²x₄ - 0.0015818648533019186z⁵x₁x₂² - 0.0030622724574487863z⁵x₁x₂x₃ - 2.9423405584948113e-5z⁵x₁x₂x₄ - 0.0014831143554069148z⁵x₁x₃² - 2.835991554902296e-5z⁵x₁x₃x₄ - 1.7335492933733327e-6z⁵x₁x₄² + 0.012556431494208226z⁵x₂³ + 0.03707465497414102z⁵x₂²x₃ - 0.0010916632799527666z⁵x₂²x₄ + 0.036521208764567305z⁵x₂x₃² - 0.00217241442241952z⁵x₂x₃x₄ + 6.901351363382946e-5z⁵x₂x₄² + 0.012000243297702856z⁵x₃³ - 0.0010781970593031702z⁵x₃²x₄ + 6.979418092722812e-5z⁵x₃x₄² + 3.908645293855843e-6z⁵x₄³ + 1.5937305337499723e-5z⁴x₁⁴ - 0.00035895752677788463z⁴x₁³x₂ - 0.0003419439581637987z⁴x₁³x₃ - 1.6255543223055842e-5z⁴x₁³x₄ + 0.0038917644960518557z⁴x₁²x₂² + 0.007442469391692896z⁴x₁²x₂x₃ + 0.00011756465826548926z⁴x₁²x₂x₄ + 0.0035649023496748967z⁴x₁²x₃² + 0.00012736352983155715z⁴x₁²x₃x₄ + 0.00013253717931980036z⁴x₁²x₄² - 0.026228104151290246z⁴x₁x₂³ - 0.07612273490322484z⁴x₁x₂²x₃ - 0.0009223428797061655z⁴x₁x₂²x₄ - 0.07372415379846942z⁴x₁x₂x₃² - 0.0018233356854680536z⁴x₁x₂x₃x₄ - 0.00033363336195548995z⁴x₁x₂x₄² - 0.023829765023637414z⁴x₁x₃³ - 0.0009028509387320484z⁴x₁x₃²x₄ - 0.00030600427659746517z⁴x₁x₃x₄² - 0.0001220394682052526z⁴x₁x₄³ + 0.13208840808857422z⁴x₂⁴ + 0.5188278168094095z⁴x₂³x₃ - 0.02018736199450218z⁴x₂³x₄ + 0.7647558790102833z⁴x₂²x₃² - 0.05987657320915204z⁴x₂²x₃x₄ + 0.005257689451681468z⁴x₂²x₄² + 0.5013661504097541z⁴x₂x₃³ - 0.05920517275001487z⁴x₂x₃²x₄ + 0.010370734439233581z⁴x₂x₃x₄² + 8.377794469983729e-5z⁴x₂x₄³ + 0.12334704186206406z⁴x₃⁴ - 0.019497074512057986z⁴x₃³x₄ + 0.005239664218218257z⁴x₃²x₄² + 0.00027203603816830296z⁴x₃x₄³ + 0.0007003137462397353z⁴x₄⁴ - 6.006934594322219e-6z³x₁⁵ + 0.0003163525382744419z³x₁⁴x₂ + 0.0003034435514855103z³x₁⁴x₃ + 1.6041845595417425e-5z³x₁⁴x₄ - 0.0051291427270504925z³x₁³x₂² - 0.00986990327918798z³x₁³x₂x₃ - 0.0004326401437297436z³x₁³x₂x₄ - 0.004741919111509522z³x₁³x₃² - 0.0004225925845455204z³x₁³x₃x₄ - 5.0329334010533484e-5z³x₁³x₄² + 0.03886632461953051z³x₁²x₂³ + 0.11176162828834375z³x₁²x₂²x₃ + 0.002580444939928392z³x₁²x₂²x₄ + 0.10713166017861912z³x₁²x₂x₃² + 0.0051037884665715095z³x₁²x₂x₃x₄ + 0.0015826380391648859z³x₁²x₂x₄² + 0.03423314218054927z³x₁²x₃³ + 0.0025207733557785204z³x₁²x₃²x₄ + 0.0015342647482484333z³x₁²x₃x₄² + 2.5671975851550288e-5z³x₁²x₄³ - 0.2169535650324178z³x₁x₂⁴ - 0.8419069478454185z³x₁x₂³x₃ - 0.01363661289725296z³x₁x₂³x₄ - 1.2261129844474983z³x₁x₂²x₃² - 0.039506780467964756z³x₁x₂²x₃x₄ + 0.0007493148023894435z³x₁x₂²x₄² - 0.7942867294908167z³x₁x₂x₃³ - 0.038174441612549424z³x₁x₂x₃²x₄ + 0.001419913847916009z³x₁x₂x₃x₄² - 0.003297495284272894z³x₁x₂x₄³ - 0.19312214212465034z³x₁x₃⁴ - 0.01230772124841884z³x₁x₃³x₄ + 0.0006499141181443231z³x₁x₃²x₄² - 0.003336589389050472z³x₁x₃x₄³ - 0.00015560544507352674z³x₁x₄⁴ + 0.8803647315549631z³x₂⁵ + 4.321473819882854z³x₂⁴x₃ - 0.1978344374263265z³x₂⁴x₄ + 8.48988781684646z³x₂³x₃² - 0.7885708166618325z³x₂³x₃x₄ + 0.032615015630454075z³x₂³x₄² + 8.344076139686015z³x₂²x₃³ - 1.17840905461561z³x₂²x₃²x₄ + 0.09830649936592863z³x₂²x₃x₄² + 0.0022700914685245465z³x₂²x₄³ + 4.10257906239384z³x₂x₃⁴ - 0.782283404821338z³x₂x₃³x₄ + 0.10019367848703596z³x₂x₃²x₄² + 0.009486438338919108z³x₂x₃x₄³ + 0.018535266733232903z³x₂x₄⁴ + 0.8072827249615064z³x₃⁵ - 0.19460808248485076z³x₃⁴x₄ + 0.0344940501793842z³x₃³x₄² + 0.0071738038356134355z³x₃²x₄³ + 0.01843897094713864z³x₃x₄⁴ - 9.596304350650061e-5z³x₄⁵ + 1.2217807664498891e-5z²x₁⁶ - 0.0003849476621421749z²x₁⁵x₂ - 0.00036917438293104603z²x₁⁵x₃ - 1.867682523598231e-5z²x₁⁵x₄ + 0.006800534519388671z²x₁⁴x₂² + 0.012956399572377236z²x₁⁴x₂x₃ + 0.0004656839664793322z²x₁⁴x₂x₄ + 0.006188593618156369z²x₁⁴x₃² + 0.00046333226109876826z²x₁⁴x₃x₄ + 0.00015038862182119924z²x₁⁴x₄² - 0.056391279456097884z²x₁³x₂³ - 0.160908370943554z²x₁³x₂²x₃ - 0.007118683387251926z²x₁³x₂²x₄ - 0.15311819258195547z²x₁³x₂x₃² - 0.014184157824905137z²x₁³x₂x₃x₄ - 0.002871701609031851z²x₁³x₂x₄² - 0.04859521444653483z²x₁³x₃³ - 0.007042008126331524z²x₁³x₃²x₄ - 0.0024463914122852784z²x₁³x₃x₄² + 0.0007896647384006z²x₁³x₄³ + 0.24900175886976883z²x₁²x₂⁴ + 0.9414190327735776z²x₁²x₂³x₃ + 0.02368444091003163z²x₁²x₂³x₄ + 1.3356390647765748z²x₁²x₂²x₃² + 0.07431601835809155z²x₁²x₂²x₃x₄ + 0.050918819779817534z²x₁²x₂²x₄² + 0.8427979622250406z²x₁²x₂x₃³ + 0.07731948101294563z²x₁²x₂x₃²x₄ + 0.09857012819884649z²x₁²x₂x₃x₄² - 0.0006265739224063493z²x₁²x₂x₄³ + 0.1995960641007528z²x₁²x₃⁴ + 0.026732082277315324z²x₁²x₃³x₄ + 0.04794232861115046z²x₁²x₃²x₄² - 0.0017969672336747703z²x₁²x₃x₄³ - 0.005280377022931116z²x₁²x₄⁴ - 1.0083979647025008z²x₁x₂⁵ - 4.871170180098706z²x₁x₂⁴x₃ - 0.11676159731332153z²x₁x₂⁴x₄ - 9.425515500572377z²x₁x₂³x₃² - 0.4674959766037031z²x₁x₂³x₃x₄ - 0.09141704811691537z²x₁x₂³x₄² - 9.132078705077001z²x₁x₂²x₃³ - 0.7012368109302423z²x₁x₂²x₃²x₄ - 0.2545439242126889z²x₁x₂²x₃x₄² - 0.027235846472138784z²x₁x₂²x₄³ - 4.430323862081754z²x₁x₂x₃⁴ - 0.4673410146544899z²x₁x₂x₃³x₄ - 0.23732080815653198z²x₁x₂x₃²x₄² - 0.053719416284958306z²x₁x₂x₃x₄³ + 0.004968310936711719z²x₁x₂x₄⁴ - 0.8609842259697107z²x₁x₃⁵ - 0.11682253476227655z²x₁x₃⁴x₄ - 0.07395871059581136z²x₁x₃³x₄² - 0.02616212335456049z²x₁x₃²x₄³ + 0.005128187980895443z²x₁x₃x₄⁴ + 0.005583235751826924z²x₁x₄⁵ + 3.47194484777257z²x₂⁶ + 20.42934880568065z²x₂⁵x₃ - 1.2265582925855216z²x₂⁵x₄ + 50.11878154236818z²x₂⁴x₃² - 6.056632629893548z²x₂⁴x₃x₄ + 0.5768660028693114z²x₂⁴x₄² + 65.61575394364914z²x₂³x₃³ - 11.97274597979854z²x₂³x₃²x₄ + 2.245743428353505z²x₂³x₃x₄² - 0.003485254451682011z²x₂³x₄³ + 48.34921811131967z²x₂²x₃⁴ - 11.838413934774563z²x₂²x₃³x₄ + 3.316364131896035z²x₂²x₃²x₄² + 0.04415559427641228z²x₂²x₃x₄³ + 0.1973602020617367z²x₂²x₄⁴ + 19.011211081196933z²x₂x₃⁵ - 5.8525526028804515z²x₂x₃⁴x₄ + 2.2020453309975028z²x₂x₃³x₄² + 0.10068111509690583z²x₂x₃²x₄³ + 0.4001088931619621z²x₂x₃x₄⁴ + 0.004479510116098812z²x₂x₄⁵ + 3.1163782376176075z²x₃⁶ - 1.1567766212126027z²x₃⁵x₄ + 0.5546868120576512z²x₃⁴x₄² + 0.051818303665150514z²x₃³x₄³ + 0.1974102093389222z²x₃²x₄⁴ - 0.004739941543548055z²x₃x₄⁵ - 0.0225506800349385z²x₄⁶ + 8.042648415300926e-7zx₁⁷ + 0.0002312938231673762zx₁⁶x₂ + 0.00021478069341067382zx₁⁶x₃ + 4.0233876968428925e-5zx₁⁶x₄ - 0.005296339907557559zx₁⁵x₂² - 0.010204268884915584zx₁⁵x₂x₃ - 0.0005958535547503169zx₁⁵x₂x₄ - 0.0048997898607873284zx₁⁵x₃² - 0.0005817514254438864zx₁⁵x₃x₄ - 0.000332672583856104zx₁⁵x₄² + 0.059722257519547316zx₁⁴x₂³ + 0.17159024573733567zx₁⁴x₂²x₃ + 0.008142976318552911zx₁⁴x₂²x₄ + 0.16428346592276838zx₁⁴x₂x₃² + 0.015381649753134715zx₁⁴x₂x₃x₄ - 0.0005035285465427276zx₁⁴x₂x₄² + 0.05240802496980162zx₁⁴x₃³ + 0.007219313152997602zx₁⁴x₃²x₄ - 0.0008692538855235774zx₁⁴x₃x₄² + 0.0006265426793601375zx₁⁴x₄³ - 0.3451303727051173zx₁³x₂⁴ - 1.3093142083673477zx₁³x₂³x₃ - 0.047619242431016916zx₁³x₂³x₄ - 1.8625108076138865zx₁³x₂²x₃² - 0.13794302381165566zx₁³x₂²x₃x₄ - 0.01184870071661349zx₁³x₂²x₄² - 1.177465278780603zx₁³x₂x₃³ - 0.13279515435313385zx₁³x₂x₃²x₄ - 0.019918942660962665zx₁³x₂x₃x₄² + 0.01224053187637116zx₁³x₂x₄³ - 0.2791340738652647zx₁³x₃⁴ - 0.04250365021562176zx₁³x₃³x₄ - 0.008411162710523652zx₁³x₃²x₄² + 0.012113978352098272zx₁³x₃x₄³ - 0.002388725875745095zx₁³x₄⁴ + 1.0731887353619378zx₁²x₂⁵ + 5.029972134981119zx₁²x₂⁴x₃ + 0.11297953346454742zx₁²x₂⁴x₄ + 9.43148091925921zx₁²x₂³x₃² + 0.4448710874108026zx₁²x₂³x₃x₄ + 0.14291650686024754zx₁²x₂³x₄² + 8.84455726473768zx₁²x₂²x₃³ + 0.6596750030223255zx₁²x₂²x₃²x₄ + 0.4307587762478919zx₁²x₂²x₃x₄² + 0.00411938843044167zx₁²x₂²x₄³ + 4.148576179759745zx₁²x₂x₃⁴ + 0.435928763795936zx₁²x₂x₃³x₄ + 0.4263609622187074zx₁²x₂x₃²x₄² - 0.018791930371623213zx₁²x₂x₃x₄³ - 0.1078905146358043zx₁²x₂x₄⁴ + 0.77871539200403zx₁²x₃⁵ + 0.10811513343406126zx₁²x₃⁴x₄ + 0.13827165755255338zx₁²x₃³x₄² - 0.02334761902072606zx₁²x₃²x₄³ - 0.11017010818491167zx₁²x₃x₄⁴ + 0.0004201359611410993zx₁²x₄⁵ - 3.0796778679165735zx₁x₂⁶ - 17.728370985624718zx₁x₂⁵x₃ - 0.42018213751874145zx₁x₂⁵x₄ - 42.59615997836485zx₁x₂⁴x₃² - 2.105980474438477zx₁x₂⁴x₃x₄ - 0.3348576845969953zx₁x₂⁴x₄² - 54.68173737441926zx₁x₂³x₃³ - 4.222757430044653zx₁x₂³x₃²x₄ - 1.2865788380763201zx₁x₂³x₃x₄² + 0.007185980013438534zx₁x₂³x₄³ - 39.55703051524976zx₁x₂²x₃⁴ - 4.233520196817637zx₁x₂²x₃³x₄ - 1.8430558459049156zx₁x₂²x₃²x₄² + 0.06451473152417068zx₁x₂²x₃x₄³ + 0.1981494802718609zx₁x₂²x₄⁴ - 15.289730812123052zx₁x₂x₃⁵ - 2.1214860163523834zx₁x₂x₃⁴x₄ - 1.1644112824538906zx₁x₂x₃³x₄² + 0.11319996982477426zx₁x₂x₃²x₄³ + 0.3810633765133041zx₁x₂x₃x₄⁴ + 0.06993379073095055zx₁x₂x₄⁵ - 2.466961756231431zx₁x₃⁶ - 0.4249363461636815zx₁x₃⁵x₄ - 0.27316262649453615zx₁x₃⁴x₄² + 0.05559219351003882zx₁x₃³x₄³ + 0.18218235545195532zx₁x₃²x₄⁴ + 0.07198490759194534zx₁x₃x₄⁵ + 0.003934103966654854zx₁x₄⁶ + 8.794497489322675zx₂⁷ + 60.257896586569274zx₂⁶x₃ - 4.748720297263179zx₂⁶x₄ + 177.07879792825145zx₂⁵x₃² - 28.00032925602415zx₂⁵x₃x₄ + 3.3355518005207876zx₂⁵x₄² + 289.3049244202984zx₂⁴x₃³ - 68.80292318695327zx₂⁴x₃²x₄ + 16.511941063964052zx₂⁴x₃x₄² - 0.0025460972259960923zx₂⁴x₄³ + 283.7843215769254zx₂³x₃⁴ - 90.17808805385397zx₂³x₃³x₄ + 32.728569272897666zx₂³x₃²x₄² - 0.06957075050572896zx₂³x₃x₄³ - 0.10583114422180195zx₂³x₄⁴ + 167.12753927417066zx₂²x₃⁵ - 66.48636471529937zx₂²x₃⁴x₄ + 32.491412131097924zx₂²x₃³x₄² - 0.11141039158011141zx₂²x₃²x₄³ - 0.12467313390187405zx₂²x₃x₄⁴ + 0.07377685590353836zx₂²x₄⁵ + 54.71368886914339zx₂x₃⁶ - 26.141545158881538zx₂x₃⁵x₄ + 16.16007113288015zx₂x₃⁴x₄² - 0.0569454639769292zx₂x₃³x₄³ - 0.05631627942246329zx₂x₃²x₄⁴ + 0.021010637697085735zx₂x₃x₄⁵ - 0.3067048059169247zx₂x₄⁶ + 7.680947520210457zx₃⁷ - 4.2819506099076206zx₃⁶x₄ + 3.2208407476090413zx₃⁵x₄² - 0.012569056472164929zx₃⁴x₄³ - 0.03741921126906833zx₃³x₄⁴ - 0.05157886572732677zx₃²x₄⁵ - 0.304806688889502zx₃x₄⁶ + 0.0011531548373837491zx₄⁷ + 7.095989005967039e-6x₁⁸ - 0.00021528076002125037x₁⁷x₂ - 0.00021186849858647328x₁⁷x₃ - 6.339684892261433e-5x₁⁷x₄ + 0.0048518536366394666x₁⁶x₂² + 0.009178281342317535x₁⁶x₂x₃ + 0.0013684890966676403x₁⁶x₂x₄ + 0.004361134805406231x₁⁶x₃² + 0.0013917596393361639x₁⁶x₃x₄ + 0.0009689567333621655x₁⁶x₄² - 0.055212294744858136x₁⁵x₂³ - 0.15713779231099695x₁⁵x₂²x₃ - 0.017209225865532057x₁⁵x₂²x₄ - 0.1491394003582879x₁⁵x₂x₃² - 0.03416515590797768x₁⁵x₂x₃x₄ - 0.014757260927972861x₁⁵x₂x₄² - 0.04720694338271652x₁⁵x₃³ - 0.01692801728295458x₁⁵x₃²x₄ - 0.013949741702499487x₁⁵x₃x₄² - 0.003435242018814689x₁⁵x₄³ + 0.36872502759554443x₁⁴x₂⁴ + 1.3950208529965642x₁⁴x₂³x₃ + 0.11874873799162522x₁⁴x₂³x₄ + 1.980022091321411x₁⁴x₂²x₃² + 0.3532126577721916x₁⁴x₂²x₃x₄ + 0.13511705478017993x₁⁴x₂²x₄² + 1.249499213262594x₁⁴x₂x₃³ + 0.3486973983468462x₁⁴x₂x₃²x₄ + 0.250595310695102x₁⁴x₂x₃x₄² + 0.024223696221334093x₁⁴x₂x₄³ + 0.29579929225988216x₁⁴x₃⁴ + 0.11445498540241494x₁⁴x₃³x₄ + 0.11771985351993253x₁⁴x₃²x₄² + 0.028404251735781993x₁⁴x₃x₄³ + 0.026126886808780943x₁⁴x₄⁴ - 1.4502033445751696x₁³x₂⁵ - 6.810866029488035x₁³x₂⁴x₃ - 0.45580684412081696x₁³x₂⁴x₄ - 12.800227821840082x₁³x₂³x₃² - 1.8084765612329665x₁³x₂³x₃x₄ - 0.7050956669585526x₁³x₂³x₄² - 12.033669128015125x₁³x₂²x₃³ - 2.6803831828702385x₁³x₂²x₃²x₄ - 1.975691588462887x₁³x₂²x₃x₄² - 0.15288965895411794x₁³x₂²x₄³ - 5.659259878474931x₁³x₂x₃⁴ - 1.760700904424594x₁³x₂x₃³x₄ - 1.8565989494332498x₁³x₂x₃²x₄² - 0.32423228047193575x₁³x₂x₃x₄³ - 0.16522807342759716x₁³x₂x₄⁴ - 1.0651536387903466x₁³x₃⁵ - 0.4329083957355028x₁³x₃⁴x₄ - 0.585147618883272x₁³x₃³x₄² - 0.17113380267681497x₁³x₃²x₄³ - 0.15481540727150353x₁³x₃x₄⁴ - 0.038181874396832974x₁³x₄⁵ + 3.359982796596918x₁²x₂⁶ + 18.772163591886834x₁²x₂⁵x₃ + 0.8725458500925988x₁²x₂⁵x₄ + 43.72790791796679x₁²x₂⁴x₃² + 4.383118547945963x₁²x₂⁴x₃x₄ + 2.254432262206789x₁²x₂⁴x₄² + 54.364806422043x₁²x₂³x₃³ + 8.758772787265368x₁²x₂³x₃²x₄ + 8.416058875073027x₁²x₂³x₃x₄² + 0.32496163920965815x₁²x₂³x₄³ + 38.05020965689086x₁²x₂²x₃⁴ + 8.717649414119181x₁²x₂²x₃³x₄ + 11.850687391852285x₁²x₂²x₃²x₄² + 1.1421837499676308x₁²x₂²x₃x₄³ + 0.882599112396527x₁²x₂²x₄⁴ + 14.21658126609995x₁²x₂x₃⁵ + 4.326754211124289x₁²x₂x₃⁴x₄ + 7.453943285424411x₁²x₂x₃³x₄² + 1.2644297604056585x₁²x₂x₃²x₄³ + 1.5824142184443646x₁²x₂x₃x₄⁴ + 0.028825194862437033x₁²x₂x₄⁵ + 2.215473067848645x₁²x₃⁶ + 0.8575059901368748x₁²x₃⁵x₄ + 1.767003389563977x₁²x₃⁴x₄² + 0.457509056013934x₁²x₃³x₄³ + 0.745853303239205x₁²x₃²x₄⁴ + 0.09172492516855493x₁²x₃x₄⁵ + 0.1799699055922051x₁²x₄⁶ - 6.39016738444238x₁x₂⁷ - 42.46915540190437x₁x₂⁶x₃ - 1.518945968978692x₁x₂⁶x₄ - 121.23108471242016x₁x₂⁵x₃² - 9.224692651900796x₁x₂⁵x₃x₄ - 3.289004227881467x₁x₂⁵x₄² - 192.691614536285x₁x₂⁴x₃³ - 23.22743994032238x₁x₂⁴x₃²x₄ - 15.271010187233399x₁x₂⁴x₃x₄² - 0.9004222790538977x₁x₂⁴x₄³ - 184.18885199805007x₁x₂³x₃⁴ - 31.0834010654583x₁x₂³x₃³x₄ - 28.53395279530357x₁x₂³x₃²x₄² - 3.8853093374560075x₁x₂³x₃x₄³ - 1.500812527423249x₁x₂³x₄⁴ - 105.88364960147786x₁x₂²x₃⁵ - 23.34207639453032x₁x₂²x₃⁴x₄ - 26.815705691779176x₁x₂²x₃³x₄² - 6.150313797339564x₁x₂²x₃²x₄³ - 4.082006900142419x₁x₂²x₃x₄⁴ - 0.3403792940261576x₁x₂²x₄⁵ - 33.895575998992456x₁x₂x₃⁶ - 9.334593784635825x₁x₂x₃⁵x₄ - 12.675390133424568x₁x₂x₃⁴x₄² - 4.27650818594804x₁x₂x₃³x₄³ - 3.7871375948669708x₁x₂x₃²x₄⁴ - 0.7656396439078393x₁x₂x₃x₄⁵ - 0.30409492284218487x₁x₂x₄⁶ - 4.661252286863957x₁x₃⁷ - 1.5542219613156423x₁x₃⁶x₄ - 2.41151494152927x₁x₃⁵x₄² - 1.1108657759970888x₁x₃⁴x₄³ - 1.201937074546663x₁x₃³x₄⁴ - 0.43587751390105733x₁x₃²x₄⁵ - 0.27591195993010675x₁x₃x₄⁶ - 0.08085848717604172x₁x₄⁷ + 14.480059457746165x₂⁸ + 113.2145796436241x₂⁷x₃ - 8.656978735826485x₂⁷x₄ + 387.69636736383825x₂⁶x₃² - 59.009724043887815x₂⁶x₃x₄ + 11.182803364201227x₂⁶x₄² + 759.4401997903994x₂⁵x₃³ - 172.50963394900498x₂⁵x₃²x₄ + 65.42245564370724x₂⁵x₃x₄² - 1.0802213057602914x₂⁵x₄³ + 930.6758481943747x₂⁴x₃⁴ - 280.3017609798204x₂⁴x₃³x₄ + 160.11816992754163x₂⁴x₃²x₄² - 3.8721828421662647x₂⁴x₃x₄³ + 5.002799309947461x₂⁴x₄⁴ + 730.6013180488011x₂³x₃⁵ - 273.32386739088713x₂³x₃⁴x₄ + 209.79159216878676x₂³x₃³x₄² - 5.041578672930355x₂³x₃²x₄³ + 18.992418656804876x₂³x₃x₄⁴ - 0.46535951616799914x₂³x₄⁵ + 358.769869686565x₂²x₃⁶ - 159.90531195691298x₂²x₃⁵x₄ + 155.17659640511192x₂²x₃⁴x₄² - 2.5336223964710785x₂²x₃³x₄³ + 27.545516950850175x₂²x₃²x₄⁴ - 0.6093470568469739x₂²x₃x₄⁵ + 1.6408475067262x₂²x₄⁶ + 100.7547732565745x₂x₃⁷ - 51.957940918856025x₂x₃⁶x₄ + 61.43030628067832x₂x₃⁵x₄² - 0.05841115634659521x₂x₃⁴x₄³ + 18.020871974286084x₂x₃³x₄⁴ - 0.008762266938711027x₂x₃²x₄⁵ + 2.975353115644157x₂x₃x₄⁶ - 0.10283207242861664x₂x₄⁷ + 12.388732011008448x₃⁸ - 7.231538811505105x₃⁷x₄ + 10.167742309308716x₃⁶x₄² + 0.23150804511730852x₃⁵x₄³ + 4.493393045564346x₃⁴x₄⁴ + 0.2094769699345981x₃³x₄⁵ + 1.5245808034128676x₃²x₄⁶ + 0.04046108529968833x₃x₄⁷ + 0.2576690157088672x₄⁸, [0.0, 10.3, 10.3, 0.0], [-0.0684899 -0.0 … -0.705446 -0.0; -0.0 1.0 … -0.0 -0.0; … ; -0.705446 -0.0 … 0.534245 -0.0; -0.0 -0.0 … -0.0 1.0], z, DynamicPolynomials.PolyVar{true}[x₁, x₂, x₃, x₄]))\n",
       " #undef                                                                                                                                                                                                                                                                                                                                                                                                                                                                                                                                                                                                                                                                                                                                                                                                                                                                                                                                                                                                                                                                                                                                                                                                                                                                                                                                                                                                                                                                                                                                                                                                                                                                                                                                                                                                                                                                                                                                                                                                                                                                                                                                                                                                                                                                                                                                                                                                                                                                                                                                                                                                                                                                                                                                                                                                                                                                                                                                                                                                                                                                                                                                                                                                                                                                                                                                                                                                                                                                                                                                                                                                                                                                                                                                                                                                                                                                                                                                                                                                                                                                                                                                                                                                                                                                                                                                                                                                                                                                                                                                                                                                                                                                                                                                                                                                                                                                                                                                                                                                                                                                                                                                                                                                                                                                                                                                                                                                                                                                                                                                                                                                                                                                                                                                                                                                                                                                                                                                                                                                                                                                                                                                                                                                                                                                                                                                                                                                                                                                                                                                                                                                                                                                                                                                                                                                                                                                                                                                                                                                                                                                                                                                                                                                                                                                                                                                                                                                                                                                                                                                                                                                                                                                                                                                                                                                                                                                                                                                                                                                                                                                                                                                                                                                                                                                                                                                                                                                                                                                                                                                                                                                                                                                                                                                                                                                                                                                                                                                                                                                                                                                                                                                                                                                                                                                                                                                                                                                                                                                                                                                                                                                                                                                                                                                                                                                                                                                                                                                                                                                                                                                                                                                                                                                                                                                                                                                                                                                                                                                                                                                                                                                                                                                                                                                                                                                                                                                                                                                                                                                                                                                                                                                                                                                                                                                                                                                                                                                                                                                                                                                                                                                                                                                                                                                                                                                                                                                                                                                                                                                                                                                                                                                                                                                                                                                                                                                                                                                                                                                                                                                                                                                                                                                                                                                                                                                                                                                                                                                                                                                                                                                                                                                                                                                                                                                                                                                                                                                                                                                                                                                                                                                                                                                                                                                                                                                                                                                                                                                                                                                                                                                                                                                                                                                                                                                                                                                                                                                                                                                                                                                                                                                                                                                                                                                                                                                                                                                                                                                                                                                                                                                                                                                                                                                                                                                                                                                                                                                                                                                                                                                                                                                                                                                                                                                                                                                                                                                                                                                                                                                                                                                                                                                                                                                                                                               \n",
       " #undef                                                                                                                                                                                                                                                                                                                                                                                                                                                                                                                                                                                                                                                                                                                                                                                                                                                                                                                                                                                                                                                                                                                                                                                                                                                                                                                                                                                                                                                                                                                                                                                                                                                                                                                                                                                                                                                                                                                                                                                                                                                                                                                                                                                                                                                                                                                                                                                                                                                                                                                                                                                                                                                                                                                                                                                                                                                                                                                                                                                                                                                                                                                                                                                                                                                                                                                                                                                                                                                                                                                                                                                                                                                                                                                                                                                                                                                                                                                                                                                                                                                                                                                                                                                                                                                                                                                                                                                                                                                                                                                                                                                                                                                                                                                                                                                                                                                                                                                                                                                                                                                                                                                                                                                                                                                                                                                                                                                                                                                                                                                                                                                                                                                                                                                                                                                                                                                                                                                                                                                                                                                                                                                                                                                                                                                                                                                                                                                                                                                                                                                                                                                                                                                                                                                                                                                                                                                                                                                                                                                                                                                                                                                                                                                                                                                                                                                                                                                                                                                                                                                                                                                                                                                                                                                                                                                                                                                                                                                                                                                                                                                                                                                                                                                                                                                                                                                                                                                                                                                                                                                                                                                                                                                                                                                                                                                                                                                                                                                                                                                                                                                                                                                                                                                                                                                                                                                                                                                                                                                                                                                                                                                                                                                                                                                                                                                                                                                                                                                                                                                                                                                                                                                                                                                                                                                                                                                                                                                                                                                                                                                                                                                                                                                                                                                                                                                                                                                                                                                                                                                                                                                                                                                                                                                                                                                                                                                                                                                                                                                                                                                                                                                                                                                                                                                                                                                                                                                                                                                                                                                                                                                                                                                                                                                                                                                                                                                                                                                                                                                                                                                                                                                                                                                                                                                                                                                                                                                                                                                                                                                                                                                                                                                                                                                                                                                                                                                                                                                                                                                                                                                                                                                                                                                                                                                                                                                                                                                                                                                                                                                                                                                                                                                                                                                                                                                                                                                                                                                                                                                                                                                                                                                                                                                                                                                                                                                                                                                                                                                                                                                                                                                                                                                                                                                                                                                                                                                                                                                                                                                                                                                                                                                                                                                                                                                                                                                                                                                                                                                                                                                                                                                                                                                                                                                                                                                               \n",
       " #undef                                                                                                                                                                                                                                                                                                                                                                                                                                                                                                                                                                                                                                                                                                                                                                                                                                                                                                                                                                                                                                                                                                                                                                                                                                                                                                                                                                                                                                                                                                                                                                                                                                                                                                                                                                                                                                                                                                                                                                                                                                                                                                                                                                                                                                                                                                                                                                                                                                                                                                                                                                                                                                                                                                                                                                                                                                                                                                                                                                                                                                                                                                                                                                                                                                                                                                                                                                                                                                                                                                                                                                                                                                                                                                                                                                                                                                                                                                                                                                                                                                                                                                                                                                                                                                                                                                                                                                                                                                                                                                                                                                                                                                                                                                                                                                                                                                                                                                                                                                                                                                                                                                                                                                                                                                                                                                                                                                                                                                                                                                                                                                                                                                                                                                                                                                                                                                                                                                                                                                                                                                                                                                                                                                                                                                                                                                                                                                                                                                                                                                                                                                                                                                                                                                                                                                                                                                                                                                                                                                                                                                                                                                                                                                                                                                                                                                                                                                                                                                                                                                                                                                                                                                                                                                                                                                                                                                                                                                                                                                                                                                                                                                                                                                                                                                                                                                                                                                                                                                                                                                                                                                                                                                                                                                                                                                                                                                                                                                                                                                                                                                                                                                                                                                                                                                                                                                                                                                                                                                                                                                                                                                                                                                                                                                                                                                                                                                                                                                                                                                                                                                                                                                                                                                                                                                                                                                                                                                                                                                                                                                                                                                                                                                                                                                                                                                                                                                                                                                                                                                                                                                                                                                                                                                                                                                                                                                                                                                                                                                                                                                                                                                                                                                                                                                                                                                                                                                                                                                                                                                                                                                                                                                                                                                                                                                                                                                                                                                                                                                                                                                                                                                                                                                                                                                                                                                                                                                                                                                                                                                                                                                                                                                                                                                                                                                                                                                                                                                                                                                                                                                                                                                                                                                                                                                                                                                                                                                                                                                                                                                                                                                                                                                                                                                                                                                                                                                                                                                                                                                                                                                                                                                                                                                                                                                                                                                                                                                                                                                                                                                                                                                                                                                                                                                                                                                                                                                                                                                                                                                                                                                                                                                                                                                                                                                                                                                                                                                                                                                                                                                                                                                                                                                                                                                                                                                                               \n",
       " #undef                                                                                                                                                                                                                                                                                                                                                                                                                                                                                                                                                                                                                                                                                                                                                                                                                                                                                                                                                                                                                                                                                                                                                                                                                                                                                                                                                                                                                                                                                                                                                                                                                                                                                                                                                                                                                                                                                                                                                                                                                                                                                                                                                                                                                                                                                                                                                                                                                                                                                                                                                                                                                                                                                                                                                                                                                                                                                                                                                                                                                                                                                                                                                                                                                                                                                                                                                                                                                                                                                                                                                                                                                                                                                                                                                                                                                                                                                                                                                                                                                                                                                                                                                                                                                                                                                                                                                                                                                                                                                                                                                                                                                                                                                                                                                                                                                                                                                                                                                                                                                                                                                                                                                                                                                                                                                                                                                                                                                                                                                                                                                                                                                                                                                                                                                                                                                                                                                                                                                                                                                                                                                                                                                                                                                                                                                                                                                                                                                                                                                                                                                                                                                                                                                                                                                                                                                                                                                                                                                                                                                                                                                                                                                                                                                                                                                                                                                                                                                                                                                                                                                                                                                                                                                                                                                                                                                                                                                                                                                                                                                                                                                                                                                                                                                                                                                                                                                                                                                                                                                                                                                                                                                                                                                                                                                                                                                                                                                                                                                                                                                                                                                                                                                                                                                                                                                                                                                                                                                                                                                                                                                                                                                                                                                                                                                                                                                                                                                                                                                                                                                                                                                                                                                                                                                                                                                                                                                                                                                                                                                                                                                                                                                                                                                                                                                                                                                                                                                                                                                                                                                                                                                                                                                                                                                                                                                                                                                                                                                                                                                                                                                                                                                                                                                                                                                                                                                                                                                                                                                                                                                                                                                                                                                                                                                                                                                                                                                                                                                                                                                                                                                                                                                                                                                                                                                                                                                                                                                                                                                                                                                                                                                                                                                                                                                                                                                                                                                                                                                                                                                                                                                                                                                                                                                                                                                                                                                                                                                                                                                                                                                                                                                                                                                                                                                                                                                                                                                                                                                                                                                                                                                                                                                                                                                                                                                                                                                                                                                                                                                                                                                                                                                                                                                                                                                                                                                                                                                                                                                                                                                                                                                                                                                                                                                                                                                                                                                                                                                                                                                                                                                                                                                                                                                                                                                                                               \n",
       " #undef                                                                                                                                                                                                                                                                                                                                                                                                                                                                                                                                                                                                                                                                                                                                                                                                                                                                                                                                                                                                                                                                                                                                                                                                                                                                                                                                                                                                                                                                                                                                                                                                                                                                                                                                                                                                                                                                                                                                                                                                                                                                                                                                                                                                                                                                                                                                                                                                                                                                                                                                                                                                                                                                                                                                                                                                                                                                                                                                                                                                                                                                                                                                                                                                                                                                                                                                                                                                                                                                                                                                                                                                                                                                                                                                                                                                                                                                                                                                                                                                                                                                                                                                                                                                                                                                                                                                                                                                                                                                                                                                                                                                                                                                                                                                                                                                                                                                                                                                                                                                                                                                                                                                                                                                                                                                                                                                                                                                                                                                                                                                                                                                                                                                                                                                                                                                                                                                                                                                                                                                                                                                                                                                                                                                                                                                                                                                                                                                                                                                                                                                                                                                                                                                                                                                                                                                                                                                                                                                                                                                                                                                                                                                                                                                                                                                                                                                                                                                                                                                                                                                                                                                                                                                                                                                                                                                                                                                                                                                                                                                                                                                                                                                                                                                                                                                                                                                                                                                                                                                                                                                                                                                                                                                                                                                                                                                                                                                                                                                                                                                                                                                                                                                                                                                                                                                                                                                                                                                                                                                                                                                                                                                                                                                                                                                                                                                                                                                                                                                                                                                                                                                                                                                                                                                                                                                                                                                                                                                                                                                                                                                                                                                                                                                                                                                                                                                                                                                                                                                                                                                                                                                                                                                                                                                                                                                                                                                                                                                                                                                                                                                                                                                                                                                                                                                                                                                                                                                                                                                                                                                                                                                                                                                                                                                                                                                                                                                                                                                                                                                                                                                                                                                                                                                                                                                                                                                                                                                                                                                                                                                                                                                                                                                                                                                                                                                                                                                                                                                                                                                                                                                                                                                                                                                                                                                                                                                                                                                                                                                                                                                                                                                                                                                                                                                                                                                                                                                                                                                                                                                                                                                                                                                                                                                                                                                                                                                                                                                                                                                                                                                                                                                                                                                                                                                                                                                                                                                                                                                                                                                                                                                                                                                                                                                                                                                                                                                                                                                                                                                                                                                                                                                                                                                                                                                                                                               \n",
       " #undef                                                                                                                                                                                                                                                                                                                                                                                                                                                                                                                                                                                                                                                                                                                                                                                                                                                                                                                                                                                                                                                                                                                                                                                                                                                                                                                                                                                                                                                                                                                                                                                                                                                                                                                                                                                                                                                                                                                                                                                                                                                                                                                                                                                                                                                                                                                                                                                                                                                                                                                                                                                                                                                                                                                                                                                                                                                                                                                                                                                                                                                                                                                                                                                                                                                                                                                                                                                                                                                                                                                                                                                                                                                                                                                                                                                                                                                                                                                                                                                                                                                                                                                                                                                                                                                                                                                                                                                                                                                                                                                                                                                                                                                                                                                                                                                                                                                                                                                                                                                                                                                                                                                                                                                                                                                                                                                                                                                                                                                                                                                                                                                                                                                                                                                                                                                                                                                                                                                                                                                                                                                                                                                                                                                                                                                                                                                                                                                                                                                                                                                                                                                                                                                                                                                                                                                                                                                                                                                                                                                                                                                                                                                                                                                                                                                                                                                                                                                                                                                                                                                                                                                                                                                                                                                                                                                                                                                                                                                                                                                                                                                                                                                                                                                                                                                                                                                                                                                                                                                                                                                                                                                                                                                                                                                                                                                                                                                                                                                                                                                                                                                                                                                                                                                                                                                                                                                                                                                                                                                                                                                                                                                                                                                                                                                                                                                                                                                                                                                                                                                                                                                                                                                                                                                                                                                                                                                                                                                                                                                                                                                                                                                                                                                                                                                                                                                                                                                                                                                                                                                                                                                                                                                                                                                                                                                                                                                                                                                                                                                                                                                                                                                                                                                                                                                                                                                                                                                                                                                                                                                                                                                                                                                                                                                                                                                                                                                                                                                                                                                                                                                                                                                                                                                                                                                                                                                                                                                                                                                                                                                                                                                                                                                                                                                                                                                                                                                                                                                                                                                                                                                                                                                                                                                                                                                                                                                                                                                                                                                                                                                                                                                                                                                                                                                                                                                                                                                                                                                                                                                                                                                                                                                                                                                                                                                                                                                                                                                                                                                                                                                                                                                                                                                                                                                                                                                                                                                                                                                                                                                                                                                                                                                                                                                                                                                                                                                                                                                                                                                                                                                                                                                                                                                                                                                                                                                               \n",
       " #undef                                                                                                                                                                                                                                                                                                                                                                                                                                                                                                                                                                                                                                                                                                                                                                                                                                                                                                                                                                                                                                                                                                                                                                                                                                                                                                                                                                                                                                                                                                                                                                                                                                                                                                                                                                                                                                                                                                                                                                                                                                                                                                                                                                                                                                                                                                                                                                                                                                                                                                                                                                                                                                                                                                                                                                                                                                                                                                                                                                                                                                                                                                                                                                                                                                                                                                                                                                                                                                                                                                                                                                                                                                                                                                                                                                                                                                                                                                                                                                                                                                                                                                                                                                                                                                                                                                                                                                                                                                                                                                                                                                                                                                                                                                                                                                                                                                                                                                                                                                                                                                                                                                                                                                                                                                                                                                                                                                                                                                                                                                                                                                                                                                                                                                                                                                                                                                                                                                                                                                                                                                                                                                                                                                                                                                                                                                                                                                                                                                                                                                                                                                                                                                                                                                                                                                                                                                                                                                                                                                                                                                                                                                                                                                                                                                                                                                                                                                                                                                                                                                                                                                                                                                                                                                                                                                                                                                                                                                                                                                                                                                                                                                                                                                                                                                                                                                                                                                                                                                                                                                                                                                                                                                                                                                                                                                                                                                                                                                                                                                                                                                                                                                                                                                                                                                                                                                                                                                                                                                                                                                                                                                                                                                                                                                                                                                                                                                                                                                                                                                                                                                                                                                                                                                                                                                                                                                                                                                                                                                                                                                                                                                                                                                                                                                                                                                                                                                                                                                                                                                                                                                                                                                                                                                                                                                                                                                                                                                                                                                                                                                                                                                                                                                                                                                                                                                                                                                                                                                                                                                                                                                                                                                                                                                                                                                                                                                                                                                                                                                                                                                                                                                                                                                                                                                                                                                                                                                                                                                                                                                                                                                                                                                                                                                                                                                                                                                                                                                                                                                                                                                                                                                                                                                                                                                                                                                                                                                                                                                                                                                                                                                                                                                                                                                                                                                                                                                                                                                                                                                                                                                                                                                                                                                                                                                                                                                                                                                                                                                                                                                                                                                                                                                                                                                                                                                                                                                                                                                                                                                                                                                                                                                                                                                                                                                                                                                                                                                                                                                                                                                                                                                                                                                                                                                                                                                                               \n",
       " #undef                                                                                                                                                                                                                                                                                                                                                                                                                                                                                                                                                                                                                                                                                                                                                                                                                                                                                                                                                                                                                                                                                                                                                                                                                                                                                                                                                                                                                                                                                                                                                                                                                                                                                                                                                                                                                                                                                                                                                                                                                                                                                                                                                                                                                                                                                                                                                                                                                                                                                                                                                                                                                                                                                                                                                                                                                                                                                                                                                                                                                                                                                                                                                                                                                                                                                                                                                                                                                                                                                                                                                                                                                                                                                                                                                                                                                                                                                                                                                                                                                                                                                                                                                                                                                                                                                                                                                                                                                                                                                                                                                                                                                                                                                                                                                                                                                                                                                                                                                                                                                                                                                                                                                                                                                                                                                                                                                                                                                                                                                                                                                                                                                                                                                                                                                                                                                                                                                                                                                                                                                                                                                                                                                                                                                                                                                                                                                                                                                                                                                                                                                                                                                                                                                                                                                                                                                                                                                                                                                                                                                                                                                                                                                                                                                                                                                                                                                                                                                                                                                                                                                                                                                                                                                                                                                                                                                                                                                                                                                                                                                                                                                                                                                                                                                                                                                                                                                                                                                                                                                                                                                                                                                                                                                                                                                                                                                                                                                                                                                                                                                                                                                                                                                                                                                                                                                                                                                                                                                                                                                                                                                                                                                                                                                                                                                                                                                                                                                                                                                                                                                                                                                                                                                                                                                                                                                                                                                                                                                                                                                                                                                                                                                                                                                                                                                                                                                                                                                                                                                                                                                                                                                                                                                                                                                                                                                                                                                                                                                                                                                                                                                                                                                                                                                                                                                                                                                                                                                                                                                                                                                                                                                                                                                                                                                                                                                                                                                                                                                                                                                                                                                                                                                                                                                                                                                                                                                                                                                                                                                                                                                                                                                                                                                                                                                                                                                                                                                                                                                                                                                                                                                                                                                                                                                                                                                                                                                                                                                                                                                                                                                                                                                                                                                                                                                                                                                                                                                                                                                                                                                                                                                                                                                                                                                                                                                                                                                                                                                                                                                                                                                                                                                                                                                                                                                                                                                                                                                                                                                                                                                                                                                                                                                                                                                                                                                                                                                                                                                                                                                                                                                                                                                                                                                                                                                                                               \n",
       " #undef                                                                                                                                                                                                                                                                                                                                                                                                                                                                                                                                                                                                                                                                                                                                                                                                                                                                                                                                                                                                                                                                                                                                                                                                                                                                                                                                                                                                                                                                                                                                                                                                                                                                                                                                                                                                                                                                                                                                                                                                                                                                                                                                                                                                                                                                                                                                                                                                                                                                                                                                                                                                                                                                                                                                                                                                                                                                                                                                                                                                                                                                                                                                                                                                                                                                                                                                                                                                                                                                                                                                                                                                                                                                                                                                                                                                                                                                                                                                                                                                                                                                                                                                                                                                                                                                                                                                                                                                                                                                                                                                                                                                                                                                                                                                                                                                                                                                                                                                                                                                                                                                                                                                                                                                                                                                                                                                                                                                                                                                                                                                                                                                                                                                                                                                                                                                                                                                                                                                                                                                                                                                                                                                                                                                                                                                                                                                                                                                                                                                                                                                                                                                                                                                                                                                                                                                                                                                                                                                                                                                                                                                                                                                                                                                                                                                                                                                                                                                                                                                                                                                                                                                                                                                                                                                                                                                                                                                                                                                                                                                                                                                                                                                                                                                                                                                                                                                                                                                                                                                                                                                                                                                                                                                                                                                                                                                                                                                                                                                                                                                                                                                                                                                                                                                                                                                                                                                                                                                                                                                                                                                                                                                                                                                                                                                                                                                                                                                                                                                                                                                                                                                                                                                                                                                                                                                                                                                                                                                                                                                                                                                                                                                                                                                                                                                                                                                                                                                                                                                                                                                                                                                                                                                                                                                                                                                                                                                                                                                                                                                                                                                                                                                                                                                                                                                                                                                                                                                                                                                                                                                                                                                                                                                                                                                                                                                                                                                                                                                                                                                                                                                                                                                                                                                                                                                                                                                                                                                                                                                                                                                                                                                                                                                                                                                                                                                                                                                                                                                                                                                                                                                                                                                                                                                                                                                                                                                                                                                                                                                                                                                                                                                                                                                                                                                                                                                                                                                                                                                                                                                                                                                                                                                                                                                                                                                                                                                                                                                                                                                                                                                                                                                                                                                                                                                                                                                                                                                                                                                                                                                                                                                                                                                                                                                                                                                                                                                                                                                                                                                                                                                                                                                                                                                                                                                                                                               "
      ]
     },
     "execution_count": 25,
     "metadata": {},
     "output_type": "execute_result"
    }
   ],
   "source": [
    "poly(8, 1)"
   ]
  },
  {
   "cell_type": "markdown",
   "metadata": {},
   "source": [
    "# Plots"
   ]
  },
  {
   "cell_type": "code",
   "execution_count": 12,
   "metadata": {},
   "outputs": [
    {
     "data": {
      "text/plain": [
       "Plots.GRBackend()"
      ]
     },
     "execution_count": 12,
     "metadata": {},
     "output_type": "execute_result"
    }
   ],
   "source": [
    "using Plots\n",
    "gr()"
   ]
  },
  {
   "cell_type": "code",
   "execution_count": 13,
   "metadata": {},
   "outputs": [
    {
     "data": {
      "text/plain": [
       "pli (generic function with 2 methods)"
      ]
     },
     "execution_count": 13,
     "metadata": {},
     "output_type": "execute_result"
    }
   ],
   "source": [
    "function pli(hs, p, i, I = [statedim(hs, 1)-1, statedim(hs, 1)])\n",
    "    @assert length(I) == 2\n",
    "    Plots.plot(Polyhedra.project(hs.invariants[i], I))\n",
    "    Plots.plot!(proj(p[i], I))\n",
    "end"
   ]
  },
  {
   "cell_type": "code",
   "execution_count": 14,
   "metadata": {},
   "outputs": [
    {
     "data": {
      "text/plain": [
       "_savefig (generic function with 2 methods)"
      ]
     },
     "execution_count": 14,
     "metadata": {},
     "output_type": "execute_result"
    }
   ],
   "source": [
    "hs = system(1, T);\n",
    "d = statedim(hs, 1);\n",
    "_savefig(name, ext=\"eps\") = Plots.savefig(\"/home/blegat/Dropbox/Research/Images/CruiseControl$name.$ext\")"
   ]
  },
  {
   "cell_type": "code",
   "execution_count": 25,
   "metadata": {},
   "outputs": [
    {
     "data": {
      "text/plain": [
       "set_plot (generic function with 2 methods)"
      ]
     },
     "execution_count": 25,
     "metadata": {},
     "output_type": "execute_result"
    }
   ],
   "source": [
    "Id(d) = [d-1, d]\n",
    "include(\"colors.jl\")\n",
    "function base_plot()\n",
    "    xmargin = 0.3\n",
    "    ymargin = 0.3\n",
    "    Plots.plot(guidefont=Plots.font(18), tickfont=Plots.font(16), size=(900, 600), grid=false,\n",
    "               #xlims=(vmin-xmargin, v[1]+xmargin), ylims=(-U-ymargin, U+ymargin),\n",
    "               xlabel=\"Truck speed [m/s]\", ylabel=\"Truck acceleration [m/s²]\")\n",
    "        #xticks = [5, 7, 9, 11, 13, 15.6])\n",
    "    Plots.plot!(Polyhedra.project(stateset(hs, 1), Id(d)), color=:white)\n",
    "end\n",
    "function set_plot(sets, M, color, alpha=1.0; kws...)\n",
    "    dd = 2M+2\n",
    "    Plots.plot!(project(sets[1], Id(dd)); kws..., fillalpha=alpha, color=color)\n",
    "end"
   ]
  },
  {
   "cell_type": "code",
   "execution_count": 22,
   "metadata": {},
   "outputs": [
    {
     "data": {
      "text/plain": [
       "fullplot (generic function with 2 methods)"
      ]
     },
     "execution_count": 22,
     "metadata": {},
     "output_type": "execute_result"
    }
   ],
   "source": [
    "function fullplot(sets, Ms = [1, 2, 6, 10])\n",
    "    base_plot()\n",
    "    colors = [re, gre,\n",
    "              gre, gre,\n",
    "              blu, blu,\n",
    "              blu, blu,\n",
    "              ora, ora]\n",
    "    alpha = fill(1., 10)\n",
    "    for M in Ms\n",
    "        set_plot(sets[M], M, colors[M], alpha[M])\n",
    "    end\n",
    "    fontsize = 24\n",
    "    Plots.annotate!(5.4,  2.7, Plots.text(\"1\", fontsize, colors[1]))\n",
    "    Plots.annotate!(5.2, -1.43, Plots.text(\"2\", fontsize, colors[2]))\n",
    "    Plots.annotate!(6.3, -2.92, Plots.text(\"6\", fontsize, colors[6]))\n",
    "    Plots.annotate!(7.45, -3.75, Plots.text(\"10\", fontsize, colors[10]))\n",
    "    #@show inv(det(p[N].Q))\n",
    "    #Plots.plot!(proj(p[N], I))\n",
    "    #_savefig(\"Sets\")\n",
    "    Plots.plot!()\n",
    "end"
   ]
  },
  {
   "cell_type": "code",
   "execution_count": 22,
   "metadata": {
    "scrolled": true
   },
   "outputs": [
    {
     "ename": "UndefVarError",
     "evalue": "UndefVarError: fullplot not defined",
     "output_type": "error",
     "traceback": [
      "UndefVarError: fullplot not defined",
      "",
      "Stacktrace:",
      " [1] top-level scope at In[22]:1"
     ]
    }
   ],
   "source": [
    "fullplot(ellipsoids_det, [1])"
   ]
  },
  {
   "cell_type": "code",
   "execution_count": 23,
   "metadata": {},
   "outputs": [
    {
     "ename": "UndefVarError",
     "evalue": "UndefVarError: fullplot not defined",
     "output_type": "error",
     "traceback": [
      "UndefVarError: fullplot not defined",
      "",
      "Stacktrace:",
      " [1] top-level scope at In[23]:1"
     ]
    }
   ],
   "source": [
    "fullplot(ellipsoids_tr, [1])"
   ]
  },
  {
   "cell_type": "code",
   "execution_count": 30,
   "metadata": {},
   "outputs": [
    {
     "name": "stdout",
     "output_type": "stream",
     "text": [
      "(set.p).x = DynamicPolynomials.Monomial{true}[x₁², x₁x₂, x₁x₃, x₁x₄, x₂², x₂x₃, x₂x₄, x₃², x₃x₄, x₄²]\n",
      "(set.p).x[K] = DynamicPolynomials.Monomial{true}[x₃², x₃x₄, x₄²]\n",
      "typeof((set.p).x[K]) = DynamicPolynomials.MonomialVector{true}\n",
      "polynomial(p) = 0.9999999999075738x₃⁴ + 3.9998683740124537x₃³x₄ + 5.999999754953199x₃²x₄² + 3.9998633400836563x₃x₄³ + 0.9999999999096877x₄⁴\n",
      "subs(set.p, vars => zeros(length(vars))) = 0.9999999999075738x₃⁴ + 3.9998683740124537x₃³x₄ + 5.999999754953199x₃²x₄² + 3.9998633400836563x₃x₄³ + 0.9999999999096877x₄⁴\n",
      "(set.p).x = DynamicPolynomials.Monomial{true}[x₁³, x₁²x₂, x₁²x₃, x₁²x₄, x₁x₂², x₁x₂x₃, x₁x₂x₄, x₁x₃², x₁x₃x₄, x₁x₄², x₂³, x₂²x₃, x₂²x₄, x₂x₃², x₂x₃x₄, x₂x₄², x₃³, x₃²x₄, x₃x₄², x₄³]\n",
      "(set.p).x[K] = DynamicPolynomials.Monomial{true}[x₃³, x₃²x₄, x₃x₄², x₄³]\n",
      "typeof((set.p).x[K]) = DynamicPolynomials.MonomialVector{true}\n",
      "polynomial(p) = 0.9999999622769065x₃⁶ + 5.974779875687406x₃⁵x₄ + 14.999565425160903x₃⁴x₄² + 19.916642923941254x₃³x₄³ + 14.998227487044433x₃²x₄⁴ + 5.975434960999202x₃x₄⁵ + 0.9999999624199427x₄⁶\n",
      "subs(set.p, vars => zeros(length(vars))) = 0.9999999622769065x₃⁶ + 5.974779875687406x₃⁵x₄ + 14.999565425160903x₃⁴x₄² + 19.916642923941254x₃³x₄³ + 14.998227487044433x₃²x₄⁴ + 5.975434960999202x₃x₄⁵ + 0.9999999624199427x₄⁶\n",
      "(set.p).x = DynamicPolynomials.Monomial{true}[x₁⁴, x₁³x₂, x₁³x₃, x₁³x₄, x₁²x₂², x₁²x₂x₃, x₁²x₂x₄, x₁²x₃², x₁²x₃x₄, x₁²x₄², x₁x₂³, x₁x₂²x₃, x₁x₂²x₄, x₁x₂x₃², x₁x₂x₃x₄, x₁x₂x₄², x₁x₃³, x₁x₃²x₄, x₁x₃x₄², x₁x₄³, x₂⁴, x₂³x₃, x₂³x₄, x₂²x₃², x₂²x₃x₄, x₂²x₄², x₂x₃³, x₂x₃²x₄, x₂x₃x₄², x₂x₄³, x₃⁴, x₃³x₄, x₃²x₄², x₃x₄³, x₄⁴]\n",
      "(set.p).x[K] = DynamicPolynomials.Monomial{true}[x₃⁴, x₃³x₄, x₃²x₄², x₃x₄³, x₄⁴]\n",
      "typeof((set.p).x[K]) = DynamicPolynomials.MonomialVector{true}\n",
      "polynomial(p) = 0.9999973361321915x₃⁸ + 6.48382872907032x₃⁷x₄ + 28.48506218911505x₃⁶x₄² + 45.59793544511877x₃⁵x₄³ + 69.87476524593983x₃⁴x₄⁴ + 46.16981221901477x₃³x₄⁵ + 28.420363781557374x₃²x₄⁶ + 6.752667106372023x₃x₄⁷ + 0.9999971604111713x₄⁸\n",
      "subs(set.p, vars => zeros(length(vars))) = 0.9999973361321915x₃⁸ + 6.48382872907032x₃⁷x₄ + 28.48506218911505x₃⁶x₄² + 45.59793544511877x₃⁵x₄³ + 69.87476524593983x₃⁴x₄⁴ + 46.16981221901477x₃³x₄⁵ + 28.420363781557374x₃²x₄⁶ + 6.752667106372023x₃x₄⁷ + 0.9999971604111713x₄⁸\n"
     ]
    },
    {
     "data": {
      "image/svg+xml": [
       "<?xml version=\"1.0\" encoding=\"utf-8\"?>\n",
       "<svg xmlns=\"http://www.w3.org/2000/svg\" xmlns:xlink=\"http://www.w3.org/1999/xlink\" width=\"900\" height=\"600\" viewBox=\"0 0 3600 2400\">\n",
       "<defs>\n",
       "  <clipPath id=\"clip5200\">\n",
       "    <rect x=\"0\" y=\"0\" width=\"2000\" height=\"2000\"/>\n",
       "  </clipPath>\n",
       "</defs>\n",
       "<defs>\n",
       "  <clipPath id=\"clip5201\">\n",
       "    <rect x=\"0\" y=\"0\" width=\"3600\" height=\"2400\"/>\n",
       "  </clipPath>\n",
       "</defs>\n",
       "<polygon clip-path=\"url(#clip5201)\" points=\"\n",
       "0,2400 3600,2400 3600,0 0,0 \n",
       "  \" fill=\"#ffffff\" fill-rule=\"evenodd\" fill-opacity=\"1\"/>\n",
       "<defs>\n",
       "  <clipPath id=\"clip5202\">\n",
       "    <rect x=\"720\" y=\"0\" width=\"2521\" height=\"2400\"/>\n",
       "  </clipPath>\n",
       "</defs>\n",
       "<polygon clip-path=\"url(#clip5201)\" points=\"\n",
       "347.512,2206.95 3521.26,2206.95 3521.26,47.2441 347.512,47.2441 \n",
       "  \" fill=\"#ffffff\" fill-rule=\"evenodd\" fill-opacity=\"1\"/>\n",
       "<defs>\n",
       "  <clipPath id=\"clip5203\">\n",
       "    <rect x=\"347\" y=\"47\" width=\"3175\" height=\"2161\"/>\n",
       "  </clipPath>\n",
       "</defs>\n",
       "<polyline clip-path=\"url(#clip5201)\" style=\"stroke:#000000; stroke-width:4; stroke-opacity:1; fill:none\" points=\"\n",
       "  347.512,2206.95 3521.26,2206.95 \n",
       "  \"/>\n",
       "<polyline clip-path=\"url(#clip5201)\" style=\"stroke:#000000; stroke-width:4; stroke-opacity:1; fill:none\" points=\"\n",
       "  347.512,2206.95 347.512,47.2441 \n",
       "  \"/>\n",
       "<polyline clip-path=\"url(#clip5201)\" style=\"stroke:#000000; stroke-width:4; stroke-opacity:1; fill:none\" points=\"\n",
       "  437.335,2206.95 437.335,2174.55 \n",
       "  \"/>\n",
       "<polyline clip-path=\"url(#clip5201)\" style=\"stroke:#000000; stroke-width:4; stroke-opacity:1; fill:none\" points=\"\n",
       "  1185.86,2206.95 1185.86,2174.55 \n",
       "  \"/>\n",
       "<polyline clip-path=\"url(#clip5201)\" style=\"stroke:#000000; stroke-width:4; stroke-opacity:1; fill:none\" points=\"\n",
       "  1934.39,2206.95 1934.39,2174.55 \n",
       "  \"/>\n",
       "<polyline clip-path=\"url(#clip5201)\" style=\"stroke:#000000; stroke-width:4; stroke-opacity:1; fill:none\" points=\"\n",
       "  2682.91,2206.95 2682.91,2174.55 \n",
       "  \"/>\n",
       "<polyline clip-path=\"url(#clip5201)\" style=\"stroke:#000000; stroke-width:4; stroke-opacity:1; fill:none\" points=\"\n",
       "  3431.44,2206.95 3431.44,2174.55 \n",
       "  \"/>\n",
       "<polyline clip-path=\"url(#clip5201)\" style=\"stroke:#000000; stroke-width:4; stroke-opacity:1; fill:none\" points=\"\n",
       "  347.512,2145.83 395.118,2145.83 \n",
       "  \"/>\n",
       "<polyline clip-path=\"url(#clip5201)\" style=\"stroke:#000000; stroke-width:4; stroke-opacity:1; fill:none\" points=\"\n",
       "  347.512,1636.46 395.118,1636.46 \n",
       "  \"/>\n",
       "<polyline clip-path=\"url(#clip5201)\" style=\"stroke:#000000; stroke-width:4; stroke-opacity:1; fill:none\" points=\"\n",
       "  347.512,1127.1 395.118,1127.1 \n",
       "  \"/>\n",
       "<polyline clip-path=\"url(#clip5201)\" style=\"stroke:#000000; stroke-width:4; stroke-opacity:1; fill:none\" points=\"\n",
       "  347.512,617.732 395.118,617.732 \n",
       "  \"/>\n",
       "<polyline clip-path=\"url(#clip5201)\" style=\"stroke:#000000; stroke-width:4; stroke-opacity:1; fill:none\" points=\"\n",
       "  347.512,108.368 395.118,108.368 \n",
       "  \"/>\n",
       "<g clip-path=\"url(#clip5201)\">\n",
       "<text style=\"fill:#000000; fill-opacity:1; font-family:Arial,Helvetica Neue,Helvetica,sans-serif; font-size:95px; text-anchor:middle;\" transform=\"rotate(0, 437.335, 2307.75)\" x=\"437.335\" y=\"2307.75\">1.0</text>\n",
       "</g>\n",
       "<g clip-path=\"url(#clip5201)\">\n",
       "<text style=\"fill:#000000; fill-opacity:1; font-family:Arial,Helvetica Neue,Helvetica,sans-serif; font-size:95px; text-anchor:middle;\" transform=\"rotate(0, 1185.86, 2307.75)\" x=\"1185.86\" y=\"2307.75\">1.5</text>\n",
       "</g>\n",
       "<g clip-path=\"url(#clip5201)\">\n",
       "<text style=\"fill:#000000; fill-opacity:1; font-family:Arial,Helvetica Neue,Helvetica,sans-serif; font-size:95px; text-anchor:middle;\" transform=\"rotate(0, 1934.39, 2307.75)\" x=\"1934.39\" y=\"2307.75\">2.0</text>\n",
       "</g>\n",
       "<g clip-path=\"url(#clip5201)\">\n",
       "<text style=\"fill:#000000; fill-opacity:1; font-family:Arial,Helvetica Neue,Helvetica,sans-serif; font-size:95px; text-anchor:middle;\" transform=\"rotate(0, 2682.91, 2307.75)\" x=\"2682.91\" y=\"2307.75\">2.5</text>\n",
       "</g>\n",
       "<g clip-path=\"url(#clip5201)\">\n",
       "<text style=\"fill:#000000; fill-opacity:1; font-family:Arial,Helvetica Neue,Helvetica,sans-serif; font-size:95px; text-anchor:middle;\" transform=\"rotate(0, 3431.44, 2307.75)\" x=\"3431.44\" y=\"2307.75\">3.0</text>\n",
       "</g>\n",
       "<g clip-path=\"url(#clip5201)\">\n",
       "<text style=\"fill:#000000; fill-opacity:1; font-family:Arial,Helvetica Neue,Helvetica,sans-serif; font-size:95px; text-anchor:end;\" transform=\"rotate(0, 311.512, 2180.33)\" x=\"311.512\" y=\"2180.33\">-1.0</text>\n",
       "</g>\n",
       "<g clip-path=\"url(#clip5201)\">\n",
       "<text style=\"fill:#000000; fill-opacity:1; font-family:Arial,Helvetica Neue,Helvetica,sans-serif; font-size:95px; text-anchor:end;\" transform=\"rotate(0, 311.512, 1670.96)\" x=\"311.512\" y=\"1670.96\">-0.5</text>\n",
       "</g>\n",
       "<g clip-path=\"url(#clip5201)\">\n",
       "<text style=\"fill:#000000; fill-opacity:1; font-family:Arial,Helvetica Neue,Helvetica,sans-serif; font-size:95px; text-anchor:end;\" transform=\"rotate(0, 311.512, 1161.6)\" x=\"311.512\" y=\"1161.6\">0.0</text>\n",
       "</g>\n",
       "<g clip-path=\"url(#clip5201)\">\n",
       "<text style=\"fill:#000000; fill-opacity:1; font-family:Arial,Helvetica Neue,Helvetica,sans-serif; font-size:95px; text-anchor:end;\" transform=\"rotate(0, 311.512, 652.232)\" x=\"311.512\" y=\"652.232\">0.5</text>\n",
       "</g>\n",
       "<g clip-path=\"url(#clip5201)\">\n",
       "<text style=\"fill:#000000; fill-opacity:1; font-family:Arial,Helvetica Neue,Helvetica,sans-serif; font-size:95px; text-anchor:end;\" transform=\"rotate(0, 311.512, 142.868)\" x=\"311.512\" y=\"142.868\">1.0</text>\n",
       "</g>\n",
       "<g clip-path=\"url(#clip5201)\">\n",
       "<text style=\"fill:#000000; fill-opacity:1; font-family:Arial,Helvetica Neue,Helvetica,sans-serif; font-size:107px; text-anchor:middle;\" transform=\"rotate(0, 1934.39, 2384.4)\" x=\"1934.39\" y=\"2384.4\">Truck speed [m/s]</text>\n",
       "</g>\n",
       "<g clip-path=\"url(#clip5201)\">\n",
       "<text style=\"fill:#000000; fill-opacity:1; font-family:Arial,Helvetica Neue,Helvetica,sans-serif; font-size:107px; text-anchor:middle;\" transform=\"rotate(-90, 93.6, 1127.1)\" x=\"93.6\" y=\"1127.1\">Truck acceleration [m/s²]</text>\n",
       "</g>\n",
       "<polygon clip-path=\"url(#clip5203)\" points=\"\n",
       "437.335,2145.83 437.335,108.368 3431.44,108.368 3431.44,2145.83 437.335,2145.83 437.335,2145.83 \n",
       "  \" fill=\"#ffffff\" fill-rule=\"evenodd\" fill-opacity=\"1\"/>\n",
       "<polyline clip-path=\"url(#clip5203)\" style=\"stroke:#000000; stroke-width:4; stroke-opacity:1; fill:none\" points=\"\n",
       "  437.335,2145.83 437.335,108.368 3431.44,108.368 3431.44,2145.83 437.335,2145.83 \n",
       "  \"/>\n",
       "<polygon clip-path=\"url(#clip5203)\" points=\"\n",
       "3403.72,1127.1 3370.07,1030.87 3325.41,938.811 3271.13,851.161 3208.34,768.009 3137.93,689.333 3060.51,615.06 2976.52,545.102 2886.2,479.397 2789.64,417.934 \n",
       "  2686.84,360.779 2577.69,308.099 2462.08,260.182 2339.88,217.458 2211.08,180.519 2075.79,150.129 1934.39,127.229 1787.6,112.915 1636.61,108.397 1483.18,114.915 \n",
       "  1329.66,133.616 1178.99,165.395 1034.58,210.713 900.048,269.444 778.872,340.781 674.042,423.24 587.734,514.789 521.138,613.056 474.438,715.584 446.956,820.055 \n",
       "  437.378,924.465 444.017,1027.21 465.052,1127.1 498.705,1223.32 543.363,1315.38 597.646,1403.03 660.43,1486.18 730.846,1564.86 808.261,1639.13 892.251,1709.09 \n",
       "  982.573,1774.8 1079.13,1836.26 1181.93,1893.41 1291.08,1946.09 1406.7,1994.01 1528.89,2036.74 1657.69,2073.67 1792.98,2104.06 1934.39,2126.96 2081.17,2141.28 \n",
       "  2232.16,2145.8 2385.59,2139.28 2539.12,2120.58 2689.78,2088.8 2834.19,2043.48 2968.72,1984.75 3089.9,1913.41 3194.73,1830.95 3281.04,1739.4 3347.63,1641.14 \n",
       "  3394.33,1538.61 3421.82,1434.14 3431.39,1329.73 3424.75,1226.98 3403.72,1127.1 \n",
       "  \" fill=\"#2394ce\" fill-rule=\"evenodd\" fill-opacity=\"0.5\"/>\n",
       "<polyline clip-path=\"url(#clip5203)\" style=\"stroke:#000000; stroke-width:4; stroke-opacity:1; fill:none\" points=\"\n",
       "  3403.72,1127.1 3370.07,1030.87 3325.41,938.811 3271.13,851.161 3208.34,768.009 3137.93,689.333 3060.51,615.06 2976.52,545.102 2886.2,479.397 2789.64,417.934 \n",
       "  2686.84,360.779 2577.69,308.099 2462.08,260.182 2339.88,217.458 2211.08,180.519 2075.79,150.129 1934.39,127.229 1787.6,112.915 1636.61,108.397 1483.18,114.915 \n",
       "  1329.66,133.616 1178.99,165.395 1034.58,210.713 900.048,269.444 778.872,340.781 674.042,423.24 587.734,514.789 521.138,613.056 474.438,715.584 446.956,820.055 \n",
       "  437.378,924.465 444.017,1027.21 465.052,1127.1 498.705,1223.32 543.363,1315.38 597.646,1403.03 660.43,1486.18 730.846,1564.86 808.261,1639.13 892.251,1709.09 \n",
       "  982.573,1774.8 1079.13,1836.26 1181.93,1893.41 1291.08,1946.09 1406.7,1994.01 1528.89,2036.74 1657.69,2073.67 1792.98,2104.06 1934.39,2126.96 2081.17,2141.28 \n",
       "  2232.16,2145.8 2385.59,2139.28 2539.12,2120.58 2689.78,2088.8 2834.19,2043.48 2968.72,1984.75 3089.9,1913.41 3194.73,1830.95 3281.04,1739.4 3347.63,1641.14 \n",
       "  3394.33,1538.61 3421.82,1434.14 3431.39,1329.73 3424.75,1226.98 3403.72,1127.1 \n",
       "  \"/>\n",
       "<polygon clip-path=\"url(#clip5203)\" points=\"\n",
       "3430.23,1127.1 3417.24,1027.71 3390.35,930.02 3350.13,834.853 3297.17,742.971 3232.13,655.067 3155.71,571.776 3068.59,493.685 2971.51,421.346 2865.2,355.282 \n",
       "  2750.45,296 2628.05,243.991 2498.87,199.735 2363.85,163.697 2224,136.324 2080.43,118.031 1934.39,109.188 1787.19,110.102 1640.29,120.993 1495.24,141.978 \n",
       "  1353.65,173.041 1217.18,214.022 1087.49,264.6 966.191,324.289 854.784,392.438 754.637,468.249 666.923,550.795 592.597,639.048 532.374,731.914 486.726,828.264 \n",
       "  455.889,926.97 439.883,1026.93 438.541,1127.1 451.536,1226.48 478.418,1324.17 518.643,1419.34 571.601,1511.22 636.637,1599.13 713.066,1682.42 800.183,1760.51 \n",
       "  897.265,1832.85 1003.57,1898.91 1118.33,1958.19 1240.72,2010.2 1369.9,2054.46 1504.93,2090.5 1644.78,2117.87 1788.34,2136.16 1934.39,2145.01 2081.58,2144.09 \n",
       "  2228.48,2133.2 2373.53,2112.22 2515.12,2081.15 2651.59,2040.17 2781.28,1989.59 2902.58,1929.91 3013.99,1861.76 3114.14,1785.94 3201.85,1703.4 3276.17,1615.15 \n",
       "  3336.4,1522.28 3382.05,1425.93 3412.88,1327.22 3428.89,1227.26 3430.23,1127.1 \n",
       "  \" fill=\"#f59297\" fill-rule=\"evenodd\" fill-opacity=\"0.5\"/>\n",
       "<polyline clip-path=\"url(#clip5203)\" style=\"stroke:#000000; stroke-width:4; stroke-opacity:1; fill:none\" points=\"\n",
       "  3430.23,1127.1 3417.24,1027.71 3390.35,930.02 3350.13,834.853 3297.17,742.971 3232.13,655.067 3155.71,571.776 3068.59,493.685 2971.51,421.346 2865.2,355.282 \n",
       "  2750.45,296 2628.05,243.991 2498.87,199.735 2363.85,163.697 2224,136.324 2080.43,118.031 1934.39,109.188 1787.19,110.102 1640.29,120.993 1495.24,141.978 \n",
       "  1353.65,173.041 1217.18,214.022 1087.49,264.6 966.191,324.289 854.784,392.438 754.637,468.249 666.923,550.795 592.597,639.048 532.374,731.914 486.726,828.264 \n",
       "  455.889,926.97 439.883,1026.93 438.541,1127.1 451.536,1226.48 478.418,1324.17 518.643,1419.34 571.601,1511.22 636.637,1599.13 713.066,1682.42 800.183,1760.51 \n",
       "  897.265,1832.85 1003.57,1898.91 1118.33,1958.19 1240.72,2010.2 1369.9,2054.46 1504.93,2090.5 1644.78,2117.87 1788.34,2136.16 1934.39,2145.01 2081.58,2144.09 \n",
       "  2228.48,2133.2 2373.53,2112.22 2515.12,2081.15 2651.59,2040.17 2781.28,1989.59 2902.58,1929.91 3013.99,1861.76 3114.14,1785.94 3201.85,1703.4 3276.17,1615.15 \n",
       "  3336.4,1522.28 3382.05,1425.93 3412.88,1327.22 3428.89,1227.26 3430.23,1127.1 \n",
       "  \"/>\n",
       "<polygon clip-path=\"url(#clip5203)\" points=\"\n",
       "437.335,2145.78 437.341,2145.74 437.37,2145.64 437.481,2145.39 437.968,2144.59 440.893,2140.87 479.279,2101.77 1251.62,1461.37 2426.03,662.185 3366.32,137.072 \n",
       "  3424.06,110.816 3429.59,108.805 3430.78,108.469 3431.16,108.392 3431.3,108.372 3431.3,108.372 3431.37,108.368 3431.4,108.368 3431.41,108.369 3431.42,108.37 \n",
       "  3431.42,108.37 3431.43,108.371 3431.43,108.372 3431.43,108.372 3431.43,108.372 3431.43,108.372 3431.43,108.372 3431.43,108.372 3431.43,108.372 3431.43,108.372 \n",
       "  3431.43,108.373 3431.43,108.373 3431.43,108.375 3431.43,108.377 3431.44,108.383 3431.44,108.393 3431.44,108.414 3431.43,108.457 3431.4,108.554 3431.29,108.804 \n",
       "  3430.8,109.604 3427.88,113.328 3389.49,152.421 2617.16,792.828 1442.74,1592.01 502.456,2117.12 444.712,2143.38 439.184,2145.39 437.992,2145.72 437.617,2145.8 \n",
       "  437.471,2145.82 437.47,2145.82 437.406,2145.83 437.374,2145.83 437.358,2145.82 437.35,2145.82 437.345,2145.82 437.343,2145.82 437.343,2145.82 437.342,2145.82 \n",
       "  437.342,2145.82 437.342,2145.82 437.342,2145.82 437.341,2145.82 437.341,2145.82 437.34,2145.82 437.34,2145.82 437.338,2145.82 437.337,2145.81 437.335,2145.8 \n",
       "  437.335,2145.78 437.335,2145.78 \n",
       "  \" fill=\"#f59297\" fill-rule=\"evenodd\" fill-opacity=\"0.5\"/>\n",
       "<polyline clip-path=\"url(#clip5203)\" style=\"stroke:#000000; stroke-width:4; stroke-opacity:1; fill:none\" points=\"\n",
       "  437.335,2145.78 437.341,2145.74 437.37,2145.64 437.481,2145.39 437.968,2144.59 440.893,2140.87 479.279,2101.77 1251.62,1461.37 2426.03,662.185 3366.32,137.072 \n",
       "  3424.06,110.816 3429.59,108.805 3430.78,108.469 3431.16,108.392 3431.3,108.372 3431.3,108.372 3431.37,108.368 3431.4,108.368 3431.41,108.369 3431.42,108.37 \n",
       "  3431.42,108.37 3431.43,108.371 3431.43,108.372 3431.43,108.372 3431.43,108.372 3431.43,108.372 3431.43,108.372 3431.43,108.372 3431.43,108.372 3431.43,108.372 \n",
       "  3431.43,108.373 3431.43,108.373 3431.43,108.375 3431.43,108.377 3431.44,108.383 3431.44,108.393 3431.44,108.414 3431.43,108.457 3431.4,108.554 3431.29,108.804 \n",
       "  3430.8,109.604 3427.88,113.328 3389.49,152.421 2617.16,792.828 1442.74,1592.01 502.456,2117.12 444.712,2143.38 439.184,2145.39 437.992,2145.72 437.617,2145.8 \n",
       "  437.471,2145.82 437.47,2145.82 437.406,2145.83 437.374,2145.83 437.358,2145.82 437.35,2145.82 437.345,2145.82 437.343,2145.82 437.343,2145.82 437.342,2145.82 \n",
       "  437.342,2145.82 437.342,2145.82 437.342,2145.82 437.341,2145.82 437.341,2145.82 437.34,2145.82 437.34,2145.82 437.338,2145.82 437.337,2145.81 437.335,2145.8 \n",
       "  437.335,2145.78 \n",
       "  \"/>\n",
       "<polygon clip-path=\"url(#clip5203)\" points=\"\n",
       "437.335,2138.43 439.377,2124.33 452.93,2077.96 523.815,1918.94 786.569,1487.28 1191.4,971.883 1374.07,785.851 1396.96,766.867 1397.9,766.229 1426.63,750.182 \n",
       "  1705.65,623.317 2472.69,344.32 3105.23,166.029 3334.62,118.677 3400.86,109.711 3420.9,108.368 3427.45,108.368 3429.71,108.519 3430.5,108.626 3430.77,108.683 \n",
       "  3430.86,108.709 3430.89,108.719 3430.9,108.724 3430.91,108.726 3430.91,108.728 3430.91,108.729 3430.91,108.733 3430.93,108.747 3430.96,108.805 3431.04,108.991 \n",
       "  3431.21,109.545 3431.44,111.137 3431.44,115.763 3429.4,129.868 3415.84,176.234 3344.96,335.249 3082.2,766.915 2677.37,1282.31 2494.7,1468.34 2471.81,1487.33 \n",
       "  2470.87,1487.96 2442.14,1504.01 2163.12,1630.88 1396.08,1909.87 763.544,2088.16 534.156,2135.52 467.912,2144.48 447.875,2145.83 441.323,2145.83 439.066,2145.67 \n",
       "  438.274,2145.57 437.999,2145.51 437.908,2145.48 437.879,2145.47 437.869,2145.47 437.865,2145.47 437.862,2145.47 437.86,2145.46 437.857,2145.46 437.846,2145.45 \n",
       "  437.811,2145.39 437.728,2145.2 437.566,2144.65 437.335,2143.06 437.335,2138.43 437.335,2138.43 \n",
       "  \" fill=\"#facb95\" fill-rule=\"evenodd\" fill-opacity=\"0.5\"/>\n",
       "<polyline clip-path=\"url(#clip5203)\" style=\"stroke:#000000; stroke-width:4; stroke-opacity:1; fill:none\" points=\"\n",
       "  437.335,2138.43 439.377,2124.33 452.93,2077.96 523.815,1918.94 786.569,1487.28 1191.4,971.883 1374.07,785.851 1396.96,766.867 1397.9,766.229 1426.63,750.182 \n",
       "  1705.65,623.317 2472.69,344.32 3105.23,166.029 3334.62,118.677 3400.86,109.711 3420.9,108.368 3427.45,108.368 3429.71,108.519 3430.5,108.626 3430.77,108.683 \n",
       "  3430.86,108.709 3430.89,108.719 3430.9,108.724 3430.91,108.726 3430.91,108.728 3430.91,108.729 3430.91,108.733 3430.93,108.747 3430.96,108.805 3431.04,108.991 \n",
       "  3431.21,109.545 3431.44,111.137 3431.44,115.763 3429.4,129.868 3415.84,176.234 3344.96,335.249 3082.2,766.915 2677.37,1282.31 2494.7,1468.34 2471.81,1487.33 \n",
       "  2470.87,1487.96 2442.14,1504.01 2163.12,1630.88 1396.08,1909.87 763.544,2088.16 534.156,2135.52 467.912,2144.48 447.875,2145.83 441.323,2145.83 439.066,2145.67 \n",
       "  438.274,2145.57 437.999,2145.51 437.908,2145.48 437.879,2145.47 437.869,2145.47 437.865,2145.47 437.862,2145.47 437.86,2145.46 437.857,2145.46 437.846,2145.45 \n",
       "  437.811,2145.39 437.728,2145.2 437.566,2144.65 437.335,2143.06 437.335,2138.43 \n",
       "  \"/>\n",
       "<polygon clip-path=\"url(#clip5203)\" points=\"\n",
       "437.336,1766.25 522.488,1177.92 680.713,636.624 772.592,430.513 797.754,389.176 801.195,384.795 801.682,384.299 803.256,382.995 805.657,381.361 807.694,380.223 \n",
       "  808.752,379.742 817.013,376.737 889.949,356.179 1245.96,282.689 2118.33,164.607 2957.43,108.368 3301.69,108.368 3389.78,114.272 3407.46,116.666 3409.92,117.173 \n",
       "  3410.08,117.217 3410.44,117.348 3411.18,117.688 3412.11,118.207 3413.02,118.821 3413.73,119.417 3414.16,119.849 3414.28,120.006 3414.4,120.202 3415.59,122.878 \n",
       "  3420.44,139.452 3431.44,215.439 3431.44,487.945 3346.28,1076.27 3188.06,1617.57 3096.18,1823.68 3071.02,1865.02 3067.58,1869.4 3067.09,1869.89 3065.52,1871.2 \n",
       "  3063.12,1872.83 3061.08,1873.97 3060.02,1874.45 3051.76,1877.46 2978.82,1898.01 2622.81,1971.5 1750.44,2089.59 911.339,2145.83 567.08,2145.83 478.995,2139.92 \n",
       "  461.31,2137.53 458.853,2137.02 458.696,2136.98 458.337,2136.85 457.588,2136.51 456.659,2135.99 455.756,2135.37 455.038,2134.78 454.614,2134.34 454.49,2134.19 \n",
       "  454.371,2133.99 453.178,2131.32 448.334,2114.74 437.336,2038.75 437.336,1766.25 437.336,1766.25 \n",
       "  \" fill=\"#facb95\" fill-rule=\"evenodd\" fill-opacity=\"0.5\"/>\n",
       "<polyline clip-path=\"url(#clip5203)\" style=\"stroke:#000000; stroke-width:4; stroke-opacity:1; fill:none\" points=\"\n",
       "  437.336,1766.25 522.488,1177.92 680.713,636.624 772.592,430.513 797.754,389.176 801.195,384.795 801.682,384.299 803.256,382.995 805.657,381.361 807.694,380.223 \n",
       "  808.752,379.742 817.013,376.737 889.949,356.179 1245.96,282.689 2118.33,164.607 2957.43,108.368 3301.69,108.368 3389.78,114.272 3407.46,116.666 3409.92,117.173 \n",
       "  3410.08,117.217 3410.44,117.348 3411.18,117.688 3412.11,118.207 3413.02,118.821 3413.73,119.417 3414.16,119.849 3414.28,120.006 3414.4,120.202 3415.59,122.878 \n",
       "  3420.44,139.452 3431.44,215.439 3431.44,487.945 3346.28,1076.27 3188.06,1617.57 3096.18,1823.68 3071.02,1865.02 3067.58,1869.4 3067.09,1869.89 3065.52,1871.2 \n",
       "  3063.12,1872.83 3061.08,1873.97 3060.02,1874.45 3051.76,1877.46 2978.82,1898.01 2622.81,1971.5 1750.44,2089.59 911.339,2145.83 567.08,2145.83 478.995,2139.92 \n",
       "  461.31,2137.53 458.853,2137.02 458.696,2136.98 458.337,2136.85 457.588,2136.51 456.659,2135.99 455.756,2135.37 455.038,2134.78 454.614,2134.34 454.49,2134.19 \n",
       "  454.371,2133.99 453.178,2131.32 448.334,2114.74 437.336,2038.75 437.336,1766.25 \n",
       "  \"/>\n",
       "</svg>\n"
      ]
     },
     "execution_count": 30,
     "metadata": {},
     "output_type": "execute_result"
    }
   ],
   "source": [
    "base_plot()\n",
    "set_plot(sym_ellipsoids_det[1], 1, blu, 0.5)\n",
    "set_plot(sym_ellipsoids_tr[1], 1, re, 0.5)\n",
    "set_plot(sym_polysets[(4, 1)], 1, re, 0.5)\n",
    "set_plot(sym_polysets[(6, 1)], 1, ora, 0.5)\n",
    "set_plot(sym_polysets[(8, 1)], 1, ora, 0.5)\n",
    "#Plots.savefig(\"/home/blegat/Dropbox/Research/Images/CruiseControlQuartic.png\")"
   ]
  },
  {
   "cell_type": "code",
   "execution_count": 46,
   "metadata": {},
   "outputs": [
    {
     "data": {
      "image/svg+xml": [
       "<?xml version=\"1.0\" encoding=\"utf-8\"?>\n",
       "<svg xmlns=\"http://www.w3.org/2000/svg\" xmlns:xlink=\"http://www.w3.org/1999/xlink\" width=\"900\" height=\"600\" viewBox=\"0 0 3600 2400\">\n",
       "<defs>\n",
       "  <clipPath id=\"clip5100\">\n",
       "    <rect x=\"0\" y=\"0\" width=\"2000\" height=\"2000\"/>\n",
       "  </clipPath>\n",
       "</defs>\n",
       "<defs>\n",
       "  <clipPath id=\"clip5101\">\n",
       "    <rect x=\"0\" y=\"0\" width=\"3600\" height=\"2400\"/>\n",
       "  </clipPath>\n",
       "</defs>\n",
       "<polygon clip-path=\"url(#clip5101)\" points=\"\n",
       "0,2400 3600,2400 3600,0 0,0 \n",
       "  \" fill=\"#ffffff\" fill-rule=\"evenodd\" fill-opacity=\"1\"/>\n",
       "<defs>\n",
       "  <clipPath id=\"clip5102\">\n",
       "    <rect x=\"720\" y=\"0\" width=\"2521\" height=\"2400\"/>\n",
       "  </clipPath>\n",
       "</defs>\n",
       "<polygon clip-path=\"url(#clip5101)\" points=\"\n",
       "347.512,2206.95 3521.26,2206.95 3521.26,47.2441 347.512,47.2441 \n",
       "  \" fill=\"#ffffff\" fill-rule=\"evenodd\" fill-opacity=\"1\"/>\n",
       "<defs>\n",
       "  <clipPath id=\"clip5103\">\n",
       "    <rect x=\"347\" y=\"47\" width=\"3175\" height=\"2161\"/>\n",
       "  </clipPath>\n",
       "</defs>\n",
       "<polyline clip-path=\"url(#clip5101)\" style=\"stroke:#000000; stroke-width:4; stroke-opacity:1; fill:none\" points=\"\n",
       "  347.512,2206.95 3521.26,2206.95 \n",
       "  \"/>\n",
       "<polyline clip-path=\"url(#clip5101)\" style=\"stroke:#000000; stroke-width:4; stroke-opacity:1; fill:none\" points=\"\n",
       "  347.512,2206.95 347.512,47.2441 \n",
       "  \"/>\n",
       "<polyline clip-path=\"url(#clip5101)\" style=\"stroke:#000000; stroke-width:4; stroke-opacity:1; fill:none\" points=\"\n",
       "  713.714,2206.95 713.714,2174.55 \n",
       "  \"/>\n",
       "<polyline clip-path=\"url(#clip5101)\" style=\"stroke:#000000; stroke-width:4; stroke-opacity:1; fill:none\" points=\"\n",
       "  1324.05,2206.95 1324.05,2174.55 \n",
       "  \"/>\n",
       "<polyline clip-path=\"url(#clip5101)\" style=\"stroke:#000000; stroke-width:4; stroke-opacity:1; fill:none\" points=\"\n",
       "  1934.39,2206.95 1934.39,2174.55 \n",
       "  \"/>\n",
       "<polyline clip-path=\"url(#clip5101)\" style=\"stroke:#000000; stroke-width:4; stroke-opacity:1; fill:none\" points=\"\n",
       "  2544.72,2206.95 2544.72,2174.55 \n",
       "  \"/>\n",
       "<polyline clip-path=\"url(#clip5101)\" style=\"stroke:#000000; stroke-width:4; stroke-opacity:1; fill:none\" points=\"\n",
       "  3155.06,2206.95 3155.06,2174.55 \n",
       "  \"/>\n",
       "<polyline clip-path=\"url(#clip5101)\" style=\"stroke:#000000; stroke-width:4; stroke-opacity:1; fill:none\" points=\"\n",
       "  347.512,1957.75 395.118,1957.75 \n",
       "  \"/>\n",
       "<polyline clip-path=\"url(#clip5101)\" style=\"stroke:#000000; stroke-width:4; stroke-opacity:1; fill:none\" points=\"\n",
       "  347.512,1542.42 395.118,1542.42 \n",
       "  \"/>\n",
       "<polyline clip-path=\"url(#clip5101)\" style=\"stroke:#000000; stroke-width:4; stroke-opacity:1; fill:none\" points=\"\n",
       "  347.512,1127.1 395.118,1127.1 \n",
       "  \"/>\n",
       "<polyline clip-path=\"url(#clip5101)\" style=\"stroke:#000000; stroke-width:4; stroke-opacity:1; fill:none\" points=\"\n",
       "  347.512,711.769 395.118,711.769 \n",
       "  \"/>\n",
       "<polyline clip-path=\"url(#clip5101)\" style=\"stroke:#000000; stroke-width:4; stroke-opacity:1; fill:none\" points=\"\n",
       "  347.512,296.441 395.118,296.441 \n",
       "  \"/>\n",
       "<g clip-path=\"url(#clip5101)\">\n",
       "<text style=\"fill:#000000; fill-opacity:1; font-family:Arial,Helvetica Neue,Helvetica,sans-serif; font-size:95px; text-anchor:middle;\" transform=\"rotate(0, 713.714, 2307.75)\" x=\"713.714\" y=\"2307.75\">1.0</text>\n",
       "</g>\n",
       "<g clip-path=\"url(#clip5101)\">\n",
       "<text style=\"fill:#000000; fill-opacity:1; font-family:Arial,Helvetica Neue,Helvetica,sans-serif; font-size:95px; text-anchor:middle;\" transform=\"rotate(0, 1324.05, 2307.75)\" x=\"1324.05\" y=\"2307.75\">1.5</text>\n",
       "</g>\n",
       "<g clip-path=\"url(#clip5101)\">\n",
       "<text style=\"fill:#000000; fill-opacity:1; font-family:Arial,Helvetica Neue,Helvetica,sans-serif; font-size:95px; text-anchor:middle;\" transform=\"rotate(0, 1934.39, 2307.75)\" x=\"1934.39\" y=\"2307.75\">2.0</text>\n",
       "</g>\n",
       "<g clip-path=\"url(#clip5101)\">\n",
       "<text style=\"fill:#000000; fill-opacity:1; font-family:Arial,Helvetica Neue,Helvetica,sans-serif; font-size:95px; text-anchor:middle;\" transform=\"rotate(0, 2544.72, 2307.75)\" x=\"2544.72\" y=\"2307.75\">2.5</text>\n",
       "</g>\n",
       "<g clip-path=\"url(#clip5101)\">\n",
       "<text style=\"fill:#000000; fill-opacity:1; font-family:Arial,Helvetica Neue,Helvetica,sans-serif; font-size:95px; text-anchor:middle;\" transform=\"rotate(0, 3155.06, 2307.75)\" x=\"3155.06\" y=\"2307.75\">3.0</text>\n",
       "</g>\n",
       "<g clip-path=\"url(#clip5101)\">\n",
       "<text style=\"fill:#000000; fill-opacity:1; font-family:Arial,Helvetica Neue,Helvetica,sans-serif; font-size:95px; text-anchor:end;\" transform=\"rotate(0, 311.512, 1992.25)\" x=\"311.512\" y=\"1992.25\">-1.0</text>\n",
       "</g>\n",
       "<g clip-path=\"url(#clip5101)\">\n",
       "<text style=\"fill:#000000; fill-opacity:1; font-family:Arial,Helvetica Neue,Helvetica,sans-serif; font-size:95px; text-anchor:end;\" transform=\"rotate(0, 311.512, 1576.92)\" x=\"311.512\" y=\"1576.92\">-0.5</text>\n",
       "</g>\n",
       "<g clip-path=\"url(#clip5101)\">\n",
       "<text style=\"fill:#000000; fill-opacity:1; font-family:Arial,Helvetica Neue,Helvetica,sans-serif; font-size:95px; text-anchor:end;\" transform=\"rotate(0, 311.512, 1161.6)\" x=\"311.512\" y=\"1161.6\">0.0</text>\n",
       "</g>\n",
       "<g clip-path=\"url(#clip5101)\">\n",
       "<text style=\"fill:#000000; fill-opacity:1; font-family:Arial,Helvetica Neue,Helvetica,sans-serif; font-size:95px; text-anchor:end;\" transform=\"rotate(0, 311.512, 746.269)\" x=\"311.512\" y=\"746.269\">0.5</text>\n",
       "</g>\n",
       "<g clip-path=\"url(#clip5101)\">\n",
       "<text style=\"fill:#000000; fill-opacity:1; font-family:Arial,Helvetica Neue,Helvetica,sans-serif; font-size:95px; text-anchor:end;\" transform=\"rotate(0, 311.512, 330.941)\" x=\"311.512\" y=\"330.941\">1.0</text>\n",
       "</g>\n",
       "<g clip-path=\"url(#clip5101)\">\n",
       "<text style=\"fill:#000000; fill-opacity:1; font-family:Arial,Helvetica Neue,Helvetica,sans-serif; font-size:107px; text-anchor:middle;\" transform=\"rotate(0, 1934.39, 2384.4)\" x=\"1934.39\" y=\"2384.4\">Truck speed [m/s]</text>\n",
       "</g>\n",
       "<g clip-path=\"url(#clip5101)\">\n",
       "<text style=\"fill:#000000; fill-opacity:1; font-family:Arial,Helvetica Neue,Helvetica,sans-serif; font-size:107px; text-anchor:middle;\" transform=\"rotate(-90, 93.6, 1127.1)\" x=\"93.6\" y=\"1127.1\">Truck acceleration [m/s²]</text>\n",
       "</g>\n",
       "<polygon clip-path=\"url(#clip5103)\" points=\"\n",
       "713.714,1957.75 713.714,296.441 3155.06,296.441 3155.06,1957.75 713.714,1957.75 713.714,1957.75 \n",
       "  \" fill=\"#ffffff\" fill-rule=\"evenodd\" fill-opacity=\"1\"/>\n",
       "<polyline clip-path=\"url(#clip5103)\" style=\"stroke:#000000; stroke-width:4; stroke-opacity:1; fill:none\" points=\"\n",
       "  713.714,1957.75 713.714,296.441 3155.06,296.441 3155.06,1957.75 713.714,1957.75 \n",
       "  \"/>\n",
       "<polygon clip-path=\"url(#clip5103)\" points=\"\n",
       "13264,1127.1 13236.6,1048.64 13200.2,973.571 13155.9,902.103 13104.7,834.302 13047.3,770.151 12984.2,709.59 12915.7,652.547 12842.1,598.972 12763.3,548.856 \n",
       "  12679.5,502.253 12590.5,459.299 12496.2,420.228 12396.6,385.391 12291.6,355.272 12181.3,330.493 12066,311.82 11946.3,300.148 11823.2,296.464 11698.1,301.779 \n",
       "  11572.9,317.028 11450,342.94 11332.3,379.891 11222.6,427.78 11123.8,485.947 11038.3,553.182 10967.9,627.83 10913.6,707.956 10875.5,791.555 10853.1,876.739 \n",
       "  10845.3,961.874 10850.7,1045.65 10867.9,1127.1 10895.3,1205.56 10931.7,1280.62 10976,1352.09 11027.2,1419.89 11084.6,1484.04 11147.7,1544.6 11216.2,1601.65 \n",
       "  11289.9,1655.22 11368.6,1705.34 11452.4,1751.94 11541.4,1794.89 11635.7,1833.97 11735.3,1868.8 11840.4,1898.92 11950.7,1923.7 12066,1942.37 12185.7,1954.05 \n",
       "  12308.8,1957.73 12433.9,1952.41 12559.1,1937.17 12681.9,1911.25 12799.7,1874.3 12909.3,1826.41 13008.2,1768.25 13093.6,1701.01 13164,1626.36 13218.3,1546.24 \n",
       "  13256.4,1462.64 13278.8,1377.45 13286.6,1292.32 13281.2,1208.54 13264,1127.1 \n",
       "  \" fill=\"#2394ce\" fill-rule=\"evenodd\" fill-opacity=\"0.5\"/>\n",
       "<polyline clip-path=\"url(#clip5103)\" style=\"stroke:#000000; stroke-width:4; stroke-opacity:1; fill:none\" points=\"\n",
       "  13264,1127.1 13236.6,1048.64 13200.2,973.571 13155.9,902.103 13104.7,834.302 13047.3,770.151 12984.2,709.59 12915.7,652.547 12842.1,598.972 12763.3,548.856 \n",
       "  12679.5,502.253 12590.5,459.299 12496.2,420.228 12396.6,385.391 12291.6,355.272 12181.3,330.493 12066,311.82 11946.3,300.148 11823.2,296.464 11698.1,301.779 \n",
       "  11572.9,317.028 11450,342.94 11332.3,379.891 11222.6,427.78 11123.8,485.947 11038.3,553.182 10967.9,627.83 10913.6,707.956 10875.5,791.555 10853.1,876.739 \n",
       "  10845.3,961.874 10850.7,1045.65 10867.9,1127.1 10895.3,1205.56 10931.7,1280.62 10976,1352.09 11027.2,1419.89 11084.6,1484.04 11147.7,1544.6 11216.2,1601.65 \n",
       "  11289.9,1655.22 11368.6,1705.34 11452.4,1751.94 11541.4,1794.89 11635.7,1833.97 11735.3,1868.8 11840.4,1898.92 11950.7,1923.7 12066,1942.37 12185.7,1954.05 \n",
       "  12308.8,1957.73 12433.9,1952.41 12559.1,1937.17 12681.9,1911.25 12799.7,1874.3 12909.3,1826.41 13008.2,1768.25 13093.6,1701.01 13164,1626.36 13218.3,1546.24 \n",
       "  13256.4,1462.64 13278.8,1377.45 13286.6,1292.32 13281.2,1208.54 13264,1127.1 \n",
       "  \"/>\n",
       "<polygon clip-path=\"url(#clip5103)\" points=\"\n",
       "13285.7,1127.1 13275.1,1046.06 13253.1,966.403 13220.3,888.805 13177.2,813.886 13124.1,742.211 13061.8,674.296 12990.8,610.622 12911.6,551.638 12824.9,497.771 \n",
       "  12731.4,449.433 12631.6,407.026 12526.2,370.94 12416.1,341.556 12302.1,319.236 12185.1,304.32 12066,297.11 11945.9,297.855 11826.2,306.735 11707.9,323.846 \n",
       "  11592.4,349.174 11481.2,382.59 11375.4,423.83 11276.5,472.499 11185.7,528.067 11104,589.883 11032.5,657.189 10971.9,729.149 10922.8,804.871 10885.6,883.433 \n",
       "  10860.4,963.917 10847.4,1045.42 10846.3,1127.1 10856.9,1208.13 10878.8,1287.79 10911.6,1365.39 10954.8,1440.31 11007.8,1511.98 11070.1,1579.9 11141.2,1643.57 \n",
       "  11220.3,1702.56 11307,1756.42 11400.6,1804.76 11500.4,1847.17 11605.7,1883.25 11715.8,1912.64 11829.8,1934.96 11946.9,1949.87 12066,1957.08 12186,1956.34 \n",
       "  12305.8,1947.46 12424,1930.35 12539.5,1905.02 12650.8,1871.6 12756.5,1830.36 12855.4,1781.69 12946.3,1726.13 13027.9,1664.31 13099.4,1597 13160,1525.04 \n",
       "  13209.1,1449.32 13246.4,1370.76 13271.5,1290.28 13284.6,1208.77 13285.7,1127.1 \n",
       "  \" fill=\"#f59297\" fill-rule=\"evenodd\" fill-opacity=\"0.5\"/>\n",
       "<polyline clip-path=\"url(#clip5103)\" style=\"stroke:#000000; stroke-width:4; stroke-opacity:1; fill:none\" points=\"\n",
       "  13285.7,1127.1 13275.1,1046.06 13253.1,966.403 13220.3,888.805 13177.2,813.886 13124.1,742.211 13061.8,674.296 12990.8,610.622 12911.6,551.638 12824.9,497.771 \n",
       "  12731.4,449.433 12631.6,407.026 12526.2,370.94 12416.1,341.556 12302.1,319.236 12185.1,304.32 12066,297.11 11945.9,297.855 11826.2,306.735 11707.9,323.846 \n",
       "  11592.4,349.174 11481.2,382.59 11375.4,423.83 11276.5,472.499 11185.7,528.067 11104,589.883 11032.5,657.189 10971.9,729.149 10922.8,804.871 10885.6,883.433 \n",
       "  10860.4,963.917 10847.4,1045.42 10846.3,1127.1 10856.9,1208.13 10878.8,1287.79 10911.6,1365.39 10954.8,1440.31 11007.8,1511.98 11070.1,1579.9 11141.2,1643.57 \n",
       "  11220.3,1702.56 11307,1756.42 11400.6,1804.76 11500.4,1847.17 11605.7,1883.25 11715.8,1912.64 11829.8,1934.96 11946.9,1949.87 12066,1957.08 12186,1956.34 \n",
       "  12305.8,1947.46 12424,1930.35 12539.5,1905.02 12650.8,1871.6 12756.5,1830.36 12855.4,1781.69 12946.3,1726.13 13027.9,1664.31 13099.4,1597 13160,1525.04 \n",
       "  13209.1,1449.32 13246.4,1370.76 13271.5,1290.28 13284.6,1208.77 13285.7,1127.1 \n",
       "  \"/>\n",
       "<polygon clip-path=\"url(#clip5103)\" points=\"\n",
       "13285.7,1127.1 13275.1,1046.06 13253.1,966.403 13220.3,888.805 13177.2,813.886 13124.1,742.211 13061.8,674.296 12990.8,610.622 12911.6,551.638 12824.9,497.771 \n",
       "  12731.4,449.433 12631.6,407.026 12526.2,370.94 12416.1,341.556 12302.1,319.236 12185.1,304.32 12066,297.11 11945.9,297.855 11826.2,306.735 11707.9,323.846 \n",
       "  11592.4,349.174 11481.2,382.59 11375.4,423.83 11276.5,472.499 11185.7,528.067 11104,589.883 11032.5,657.189 10971.9,729.149 10922.8,804.871 10885.6,883.433 \n",
       "  10860.4,963.917 10847.4,1045.42 10846.3,1127.1 10856.9,1208.13 10878.8,1287.79 10911.6,1365.39 10954.8,1440.31 11007.8,1511.98 11070.1,1579.9 11141.2,1643.57 \n",
       "  11220.3,1702.56 11307,1756.42 11400.6,1804.76 11500.4,1847.17 11605.7,1883.25 11715.8,1912.64 11829.8,1934.96 11946.9,1949.87 12066,1957.08 12186,1956.34 \n",
       "  12305.8,1947.46 12424,1930.35 12539.5,1905.02 12650.8,1871.6 12756.5,1830.36 12855.4,1781.69 12946.3,1726.13 13027.9,1664.31 13099.4,1597 13160,1525.04 \n",
       "  13209.1,1449.32 13246.4,1370.76 13271.5,1290.28 13284.6,1208.77 13285.7,1127.1 \n",
       "  \" fill=\"#f59297\" fill-rule=\"evenodd\" fill-opacity=\"0.5\"/>\n",
       "<polyline clip-path=\"url(#clip5103)\" style=\"stroke:#000000; stroke-width:4; stroke-opacity:1; fill:none\" points=\"\n",
       "  13285.7,1127.1 13275.1,1046.06 13253.1,966.403 13220.3,888.805 13177.2,813.886 13124.1,742.211 13061.8,674.296 12990.8,610.622 12911.6,551.638 12824.9,497.771 \n",
       "  12731.4,449.433 12631.6,407.026 12526.2,370.94 12416.1,341.556 12302.1,319.236 12185.1,304.32 12066,297.11 11945.9,297.855 11826.2,306.735 11707.9,323.846 \n",
       "  11592.4,349.174 11481.2,382.59 11375.4,423.83 11276.5,472.499 11185.7,528.067 11104,589.883 11032.5,657.189 10971.9,729.149 10922.8,804.871 10885.6,883.433 \n",
       "  10860.4,963.917 10847.4,1045.42 10846.3,1127.1 10856.9,1208.13 10878.8,1287.79 10911.6,1365.39 10954.8,1440.31 11007.8,1511.98 11070.1,1579.9 11141.2,1643.57 \n",
       "  11220.3,1702.56 11307,1756.42 11400.6,1804.76 11500.4,1847.17 11605.7,1883.25 11715.8,1912.64 11829.8,1934.96 11946.9,1949.87 12066,1957.08 12186,1956.34 \n",
       "  12305.8,1947.46 12424,1930.35 12539.5,1905.02 12650.8,1871.6 12756.5,1830.36 12855.4,1781.69 12946.3,1726.13 13027.9,1664.31 13099.4,1597 13160,1525.04 \n",
       "  13209.1,1449.32 13246.4,1370.76 13271.5,1290.28 13284.6,1208.77 13285.7,1127.1 \n",
       "  \"/>\n",
       "<polygon clip-path=\"url(#clip5103)\" points=\"\n",
       "3154.52,1127.1 3145.14,1045.95 3124.33,966.028 3092.47,888.04 3049.99,812.642 2997.41,740.444 2935.26,672.011 2864.12,607.872 2784.62,548.519 2697.4,494.419 \n",
       "  2603.15,446.014 2502.58,403.721 2396.49,367.936 2285.69,339.032 2171.08,317.348 2053.64,303.188 1934.39,296.807 1814.44,298.402 1694.99,308.095 1577.24,325.924 \n",
       "  1462.48,351.828 1351.99,385.638 1247.02,427.069 1148.82,475.721 1058.52,531.079 977.17,592.526 905.675,659.353 844.791,730.779 795.107,805.97 757.04,884.064 \n",
       "  730.84,964.187 716.595,1045.48 714.252,1127.1 723.628,1208.24 744.437,1288.17 776.302,1366.15 818.778,1441.55 871.364,1513.75 933.515,1582.18 1004.65,1646.32 \n",
       "  1084.15,1705.67 1171.37,1759.77 1265.63,1808.18 1366.19,1850.47 1472.29,1886.26 1583.09,1915.16 1697.69,1936.85 1815.14,1951.01 1934.39,1957.39 2054.33,1955.79 \n",
       "  2173.79,1946.1 2291.53,1928.27 2406.29,1902.37 2516.79,1868.56 2621.75,1827.12 2719.95,1778.47 2810.25,1723.11 2891.6,1661.67 2963.1,1594.84 3023.98,1523.41 \n",
       "  3073.66,1448.22 3111.73,1370.13 3137.93,1290.01 3152.18,1208.72 3154.52,1127.1 \n",
       "  \" fill=\"#f59297\" fill-rule=\"evenodd\" fill-opacity=\"0.5\"/>\n",
       "<polyline clip-path=\"url(#clip5103)\" style=\"stroke:#000000; stroke-width:4; stroke-opacity:1; fill:none\" points=\"\n",
       "  3154.52,1127.1 3145.14,1045.95 3124.33,966.028 3092.47,888.04 3049.99,812.642 2997.41,740.444 2935.26,672.011 2864.12,607.872 2784.62,548.519 2697.4,494.419 \n",
       "  2603.15,446.014 2502.58,403.721 2396.49,367.936 2285.69,339.032 2171.08,317.348 2053.64,303.188 1934.39,296.807 1814.44,298.402 1694.99,308.095 1577.24,325.924 \n",
       "  1462.48,351.828 1351.99,385.638 1247.02,427.069 1148.82,475.721 1058.52,531.079 977.17,592.526 905.675,659.353 844.791,730.779 795.107,805.97 757.04,884.064 \n",
       "  730.84,964.187 716.595,1045.48 714.252,1127.1 723.628,1208.24 744.437,1288.17 776.302,1366.15 818.778,1441.55 871.364,1513.75 933.515,1582.18 1004.65,1646.32 \n",
       "  1084.15,1705.67 1171.37,1759.77 1265.63,1808.18 1366.19,1850.47 1472.29,1886.26 1583.09,1915.16 1697.69,1936.85 1815.14,1951.01 1934.39,1957.39 2054.33,1955.79 \n",
       "  2173.79,1946.1 2291.53,1928.27 2406.29,1902.37 2516.79,1868.56 2621.75,1827.12 2719.95,1778.47 2810.25,1723.11 2891.6,1661.67 2963.1,1594.84 3023.98,1523.41 \n",
       "  3073.66,1448.22 3111.73,1370.13 3137.93,1290.01 3152.18,1208.72 3154.52,1127.1 \n",
       "  \"/>\n",
       "</svg>\n"
      ]
     },
     "execution_count": 46,
     "metadata": {},
     "output_type": "execute_result"
    }
   ],
   "source": [
    "set_plot(sym_ellipsoids_tr[1], 1, re, 0.5)"
   ]
  },
  {
   "cell_type": "code",
   "execution_count": 53,
   "metadata": {},
   "outputs": [
    {
     "ename": "UndefVarError",
     "evalue": "UndefVarError: ellipsoids_det not defined",
     "output_type": "error",
     "traceback": [
      "UndefVarError: ellipsoids_det not defined",
      "",
      "Stacktrace:",
      " [1] top-level scope at In[53]:2"
     ]
    }
   ],
   "source": [
    "base_plot()\n",
    "set_plot(ellipsoids_det[1], 1, blu, 0.5)\n",
    "set_plot(ellipsoids_tr[1], 1, re, 0.5)\n",
    "#set_plot(polysets[(4, 1)], 1, gre, 0.5)\n",
    "set_plot(polysets[(4, 1)], 1, gre, 0.5)\n",
    "#set_plot(polysets[(6, 1)], 1, ora, 0.5)\n",
    "#Plots.savefig(\"/home/blegat/Dropbox/Research/Images/CruiseControlQuartic.png\")"
   ]
  },
  {
   "cell_type": "code",
   "execution_count": 14,
   "metadata": {},
   "outputs": [
    {
     "ename": "UndefVarError",
     "evalue": "UndefVarError: fullplot not defined",
     "output_type": "error",
     "traceback": [
      "UndefVarError: fullplot not defined",
      "",
      "Stacktrace:",
      " [1] top-level scope at In[14]:1"
     ]
    }
   ],
   "source": [
    "fullplot(Dict(M => polysets[(4, M)] for M in 1:2), [1, 2])"
   ]
  },
  {
   "cell_type": "code",
   "execution_count": 12,
   "metadata": {},
   "outputs": [
    {
     "data": {
      "image/svg+xml": [
       "<?xml version=\"1.0\" encoding=\"utf-8\"?>\n",
       "<svg xmlns=\"http://www.w3.org/2000/svg\" xmlns:xlink=\"http://www.w3.org/1999/xlink\" width=\"600\" height=\"400\" viewBox=\"0 0 2400 1600\">\n",
       "<defs>\n",
       "  <clipPath id=\"clip5100\">\n",
       "    <rect x=\"0\" y=\"0\" width=\"2000\" height=\"2000\"/>\n",
       "  </clipPath>\n",
       "</defs>\n",
       "<defs>\n",
       "  <clipPath id=\"clip5101\">\n",
       "    <rect x=\"0\" y=\"0\" width=\"2400\" height=\"1600\"/>\n",
       "  </clipPath>\n",
       "</defs>\n",
       "<polygon clip-path=\"url(#clip5101)\" points=\"\n",
       "0,1600 2400,1600 2400,0 0,0 \n",
       "  \" fill=\"#ffffff\" fill-rule=\"evenodd\" fill-opacity=\"1\"/>\n",
       "<defs>\n",
       "  <clipPath id=\"clip5102\">\n",
       "    <rect x=\"480\" y=\"0\" width=\"1681\" height=\"1600\"/>\n",
       "  </clipPath>\n",
       "</defs>\n",
       "<polygon clip-path=\"url(#clip5101)\" points=\"\n",
       "224.386,1432.1 2321.26,1432.1 2321.26,47.2441 224.386,47.2441 \n",
       "  \" fill=\"#ffffff\" fill-rule=\"evenodd\" fill-opacity=\"1\"/>\n",
       "<defs>\n",
       "  <clipPath id=\"clip5103\">\n",
       "    <rect x=\"224\" y=\"47\" width=\"2098\" height=\"1386\"/>\n",
       "  </clipPath>\n",
       "</defs>\n",
       "<polyline clip-path=\"url(#clip5103)\" style=\"stroke:#000000; stroke-width:2; stroke-opacity:0.1; fill:none\" points=\"\n",
       "  283.732,1432.1 283.732,47.2441 \n",
       "  \"/>\n",
       "<polyline clip-path=\"url(#clip5103)\" style=\"stroke:#000000; stroke-width:2; stroke-opacity:0.1; fill:none\" points=\"\n",
       "  503.53,1432.1 503.53,47.2441 \n",
       "  \"/>\n",
       "<polyline clip-path=\"url(#clip5103)\" style=\"stroke:#000000; stroke-width:2; stroke-opacity:0.1; fill:none\" points=\"\n",
       "  723.328,1432.1 723.328,47.2441 \n",
       "  \"/>\n",
       "<polyline clip-path=\"url(#clip5103)\" style=\"stroke:#000000; stroke-width:2; stroke-opacity:0.1; fill:none\" points=\"\n",
       "  943.126,1432.1 943.126,47.2441 \n",
       "  \"/>\n",
       "<polyline clip-path=\"url(#clip5103)\" style=\"stroke:#000000; stroke-width:2; stroke-opacity:0.1; fill:none\" points=\"\n",
       "  1162.92,1432.1 1162.92,47.2441 \n",
       "  \"/>\n",
       "<polyline clip-path=\"url(#clip5103)\" style=\"stroke:#000000; stroke-width:2; stroke-opacity:0.1; fill:none\" points=\"\n",
       "  1382.72,1432.1 1382.72,47.2441 \n",
       "  \"/>\n",
       "<polyline clip-path=\"url(#clip5103)\" style=\"stroke:#000000; stroke-width:2; stroke-opacity:0.1; fill:none\" points=\"\n",
       "  1602.52,1432.1 1602.52,47.2441 \n",
       "  \"/>\n",
       "<polyline clip-path=\"url(#clip5103)\" style=\"stroke:#000000; stroke-width:2; stroke-opacity:0.1; fill:none\" points=\"\n",
       "  1822.32,1432.1 1822.32,47.2441 \n",
       "  \"/>\n",
       "<polyline clip-path=\"url(#clip5103)\" style=\"stroke:#000000; stroke-width:2; stroke-opacity:0.1; fill:none\" points=\"\n",
       "  2042.12,1432.1 2042.12,47.2441 \n",
       "  \"/>\n",
       "<polyline clip-path=\"url(#clip5103)\" style=\"stroke:#000000; stroke-width:2; stroke-opacity:0.1; fill:none\" points=\"\n",
       "  2261.91,1432.1 2261.91,47.2441 \n",
       "  \"/>\n",
       "<polyline clip-path=\"url(#clip5103)\" style=\"stroke:#000000; stroke-width:2; stroke-opacity:0.1; fill:none\" points=\"\n",
       "  224.386,1395.39 2321.26,1395.39 \n",
       "  \"/>\n",
       "<polyline clip-path=\"url(#clip5103)\" style=\"stroke:#000000; stroke-width:2; stroke-opacity:0.1; fill:none\" points=\"\n",
       "  224.386,1158.39 2321.26,1158.39 \n",
       "  \"/>\n",
       "<polyline clip-path=\"url(#clip5103)\" style=\"stroke:#000000; stroke-width:2; stroke-opacity:0.1; fill:none\" points=\"\n",
       "  224.386,921.384 2321.26,921.384 \n",
       "  \"/>\n",
       "<polyline clip-path=\"url(#clip5103)\" style=\"stroke:#000000; stroke-width:2; stroke-opacity:0.1; fill:none\" points=\"\n",
       "  224.386,684.383 2321.26,684.383 \n",
       "  \"/>\n",
       "<polyline clip-path=\"url(#clip5103)\" style=\"stroke:#000000; stroke-width:2; stroke-opacity:0.1; fill:none\" points=\"\n",
       "  224.386,447.381 2321.26,447.381 \n",
       "  \"/>\n",
       "<polyline clip-path=\"url(#clip5103)\" style=\"stroke:#000000; stroke-width:2; stroke-opacity:0.1; fill:none\" points=\"\n",
       "  224.386,210.38 2321.26,210.38 \n",
       "  \"/>\n",
       "<polyline clip-path=\"url(#clip5101)\" style=\"stroke:#000000; stroke-width:4; stroke-opacity:1; fill:none\" points=\"\n",
       "  224.386,1432.1 2321.26,1432.1 \n",
       "  \"/>\n",
       "<polyline clip-path=\"url(#clip5101)\" style=\"stroke:#000000; stroke-width:4; stroke-opacity:1; fill:none\" points=\"\n",
       "  224.386,1432.1 224.386,47.2441 \n",
       "  \"/>\n",
       "<polyline clip-path=\"url(#clip5101)\" style=\"stroke:#000000; stroke-width:4; stroke-opacity:1; fill:none\" points=\"\n",
       "  283.732,1432.1 283.732,1411.33 \n",
       "  \"/>\n",
       "<polyline clip-path=\"url(#clip5101)\" style=\"stroke:#000000; stroke-width:4; stroke-opacity:1; fill:none\" points=\"\n",
       "  503.53,1432.1 503.53,1411.33 \n",
       "  \"/>\n",
       "<polyline clip-path=\"url(#clip5101)\" style=\"stroke:#000000; stroke-width:4; stroke-opacity:1; fill:none\" points=\"\n",
       "  723.328,1432.1 723.328,1411.33 \n",
       "  \"/>\n",
       "<polyline clip-path=\"url(#clip5101)\" style=\"stroke:#000000; stroke-width:4; stroke-opacity:1; fill:none\" points=\"\n",
       "  943.126,1432.1 943.126,1411.33 \n",
       "  \"/>\n",
       "<polyline clip-path=\"url(#clip5101)\" style=\"stroke:#000000; stroke-width:4; stroke-opacity:1; fill:none\" points=\"\n",
       "  1162.92,1432.1 1162.92,1411.33 \n",
       "  \"/>\n",
       "<polyline clip-path=\"url(#clip5101)\" style=\"stroke:#000000; stroke-width:4; stroke-opacity:1; fill:none\" points=\"\n",
       "  1382.72,1432.1 1382.72,1411.33 \n",
       "  \"/>\n",
       "<polyline clip-path=\"url(#clip5101)\" style=\"stroke:#000000; stroke-width:4; stroke-opacity:1; fill:none\" points=\"\n",
       "  1602.52,1432.1 1602.52,1411.33 \n",
       "  \"/>\n",
       "<polyline clip-path=\"url(#clip5101)\" style=\"stroke:#000000; stroke-width:4; stroke-opacity:1; fill:none\" points=\"\n",
       "  1822.32,1432.1 1822.32,1411.33 \n",
       "  \"/>\n",
       "<polyline clip-path=\"url(#clip5101)\" style=\"stroke:#000000; stroke-width:4; stroke-opacity:1; fill:none\" points=\"\n",
       "  2042.12,1432.1 2042.12,1411.33 \n",
       "  \"/>\n",
       "<polyline clip-path=\"url(#clip5101)\" style=\"stroke:#000000; stroke-width:4; stroke-opacity:1; fill:none\" points=\"\n",
       "  2261.91,1432.1 2261.91,1411.33 \n",
       "  \"/>\n",
       "<polyline clip-path=\"url(#clip5101)\" style=\"stroke:#000000; stroke-width:4; stroke-opacity:1; fill:none\" points=\"\n",
       "  224.386,1395.39 255.839,1395.39 \n",
       "  \"/>\n",
       "<polyline clip-path=\"url(#clip5101)\" style=\"stroke:#000000; stroke-width:4; stroke-opacity:1; fill:none\" points=\"\n",
       "  224.386,1158.39 255.839,1158.39 \n",
       "  \"/>\n",
       "<polyline clip-path=\"url(#clip5101)\" style=\"stroke:#000000; stroke-width:4; stroke-opacity:1; fill:none\" points=\"\n",
       "  224.386,921.384 255.839,921.384 \n",
       "  \"/>\n",
       "<polyline clip-path=\"url(#clip5101)\" style=\"stroke:#000000; stroke-width:4; stroke-opacity:1; fill:none\" points=\"\n",
       "  224.386,684.383 255.839,684.383 \n",
       "  \"/>\n",
       "<polyline clip-path=\"url(#clip5101)\" style=\"stroke:#000000; stroke-width:4; stroke-opacity:1; fill:none\" points=\"\n",
       "  224.386,447.381 255.839,447.381 \n",
       "  \"/>\n",
       "<polyline clip-path=\"url(#clip5101)\" style=\"stroke:#000000; stroke-width:4; stroke-opacity:1; fill:none\" points=\"\n",
       "  224.386,210.38 255.839,210.38 \n",
       "  \"/>\n",
       "<g clip-path=\"url(#clip5101)\">\n",
       "<text style=\"fill:#000000; fill-opacity:1; font-family:Arial,Helvetica Neue,Helvetica,sans-serif; font-size:59px; text-anchor:middle;\" transform=\"rotate(0, 283.732, 1495.7)\" x=\"283.732\" y=\"1495.7\">1</text>\n",
       "</g>\n",
       "<g clip-path=\"url(#clip5101)\">\n",
       "<text style=\"fill:#000000; fill-opacity:1; font-family:Arial,Helvetica Neue,Helvetica,sans-serif; font-size:59px; text-anchor:middle;\" transform=\"rotate(0, 503.53, 1495.7)\" x=\"503.53\" y=\"1495.7\">2</text>\n",
       "</g>\n",
       "<g clip-path=\"url(#clip5101)\">\n",
       "<text style=\"fill:#000000; fill-opacity:1; font-family:Arial,Helvetica Neue,Helvetica,sans-serif; font-size:59px; text-anchor:middle;\" transform=\"rotate(0, 723.328, 1495.7)\" x=\"723.328\" y=\"1495.7\">3</text>\n",
       "</g>\n",
       "<g clip-path=\"url(#clip5101)\">\n",
       "<text style=\"fill:#000000; fill-opacity:1; font-family:Arial,Helvetica Neue,Helvetica,sans-serif; font-size:59px; text-anchor:middle;\" transform=\"rotate(0, 943.126, 1495.7)\" x=\"943.126\" y=\"1495.7\">4</text>\n",
       "</g>\n",
       "<g clip-path=\"url(#clip5101)\">\n",
       "<text style=\"fill:#000000; fill-opacity:1; font-family:Arial,Helvetica Neue,Helvetica,sans-serif; font-size:59px; text-anchor:middle;\" transform=\"rotate(0, 1162.92, 1495.7)\" x=\"1162.92\" y=\"1495.7\">5</text>\n",
       "</g>\n",
       "<g clip-path=\"url(#clip5101)\">\n",
       "<text style=\"fill:#000000; fill-opacity:1; font-family:Arial,Helvetica Neue,Helvetica,sans-serif; font-size:59px; text-anchor:middle;\" transform=\"rotate(0, 1382.72, 1495.7)\" x=\"1382.72\" y=\"1495.7\">6</text>\n",
       "</g>\n",
       "<g clip-path=\"url(#clip5101)\">\n",
       "<text style=\"fill:#000000; fill-opacity:1; font-family:Arial,Helvetica Neue,Helvetica,sans-serif; font-size:59px; text-anchor:middle;\" transform=\"rotate(0, 1602.52, 1495.7)\" x=\"1602.52\" y=\"1495.7\">7</text>\n",
       "</g>\n",
       "<g clip-path=\"url(#clip5101)\">\n",
       "<text style=\"fill:#000000; fill-opacity:1; font-family:Arial,Helvetica Neue,Helvetica,sans-serif; font-size:59px; text-anchor:middle;\" transform=\"rotate(0, 1822.32, 1495.7)\" x=\"1822.32\" y=\"1495.7\">8</text>\n",
       "</g>\n",
       "<g clip-path=\"url(#clip5101)\">\n",
       "<text style=\"fill:#000000; fill-opacity:1; font-family:Arial,Helvetica Neue,Helvetica,sans-serif; font-size:59px; text-anchor:middle;\" transform=\"rotate(0, 2042.12, 1495.7)\" x=\"2042.12\" y=\"1495.7\">9</text>\n",
       "</g>\n",
       "<g clip-path=\"url(#clip5101)\">\n",
       "<text style=\"fill:#000000; fill-opacity:1; font-family:Arial,Helvetica Neue,Helvetica,sans-serif; font-size:59px; text-anchor:middle;\" transform=\"rotate(0, 2261.91, 1495.7)\" x=\"2261.91\" y=\"1495.7\">10</text>\n",
       "</g>\n",
       "<g clip-path=\"url(#clip5101)\">\n",
       "<text style=\"fill:#000000; fill-opacity:1; font-family:Arial,Helvetica Neue,Helvetica,sans-serif; font-size:59px; text-anchor:end;\" transform=\"rotate(0, 200.386, 1416.89)\" x=\"200.386\" y=\"1416.89\">0</text>\n",
       "</g>\n",
       "<g clip-path=\"url(#clip5101)\">\n",
       "<text style=\"fill:#000000; fill-opacity:1; font-family:Arial,Helvetica Neue,Helvetica,sans-serif; font-size:59px; text-anchor:end;\" transform=\"rotate(0, 200.386, 1179.89)\" x=\"200.386\" y=\"1179.89\">10</text>\n",
       "</g>\n",
       "<g clip-path=\"url(#clip5101)\">\n",
       "<text style=\"fill:#000000; fill-opacity:1; font-family:Arial,Helvetica Neue,Helvetica,sans-serif; font-size:59px; text-anchor:end;\" transform=\"rotate(0, 200.386, 942.884)\" x=\"200.386\" y=\"942.884\">20</text>\n",
       "</g>\n",
       "<g clip-path=\"url(#clip5101)\">\n",
       "<text style=\"fill:#000000; fill-opacity:1; font-family:Arial,Helvetica Neue,Helvetica,sans-serif; font-size:59px; text-anchor:end;\" transform=\"rotate(0, 200.386, 705.883)\" x=\"200.386\" y=\"705.883\">30</text>\n",
       "</g>\n",
       "<g clip-path=\"url(#clip5101)\">\n",
       "<text style=\"fill:#000000; fill-opacity:1; font-family:Arial,Helvetica Neue,Helvetica,sans-serif; font-size:59px; text-anchor:end;\" transform=\"rotate(0, 200.386, 468.881)\" x=\"200.386\" y=\"468.881\">40</text>\n",
       "</g>\n",
       "<g clip-path=\"url(#clip5101)\">\n",
       "<text style=\"fill:#000000; fill-opacity:1; font-family:Arial,Helvetica Neue,Helvetica,sans-serif; font-size:59px; text-anchor:end;\" transform=\"rotate(0, 200.386, 231.88)\" x=\"200.386\" y=\"231.88\">50</text>\n",
       "</g>\n",
       "<g clip-path=\"url(#clip5101)\">\n",
       "<text style=\"fill:#000000; fill-opacity:1; font-family:Arial,Helvetica Neue,Helvetica,sans-serif; font-size:71px; text-anchor:middle;\" transform=\"rotate(0, 1272.82, 1589.6)\" x=\"1272.82\" y=\"1589.6\">Number of trailers</text>\n",
       "</g>\n",
       "<g clip-path=\"url(#clip5101)\">\n",
       "<text style=\"fill:#000000; fill-opacity:1; font-family:Arial,Helvetica Neue,Helvetica,sans-serif; font-size:71px; text-anchor:middle;\" transform=\"rotate(-90, 62.4, 739.672)\" x=\"62.4\" y=\"739.672\">Solve Time [s]</text>\n",
       "</g>\n",
       "<polyline clip-path=\"url(#clip5103)\" style=\"stroke:#2394ce; stroke-width:8; stroke-opacity:1; fill:none\" points=\"\n",
       "  283.732,1392.91 503.53,1389.86 723.328,1374.82 943.126,1360.97 1162.92,1345.45 1382.72,1310.78 1602.52,1281.49 1822.32,1223.81 2042.12,1134.62 2261.91,1038.14 \n",
       "  \n",
       "  \"/>\n",
       "<circle clip-path=\"url(#clip5103)\" style=\"fill:#2394ce; stroke:none; fill-opacity:1\" cx=\"283.732\" cy=\"1392.91\" r=\"21\"/>\n",
       "<circle clip-path=\"url(#clip5103)\" style=\"fill:#2394ce; stroke:none; fill-opacity:1\" cx=\"503.53\" cy=\"1389.86\" r=\"21\"/>\n",
       "<circle clip-path=\"url(#clip5103)\" style=\"fill:#2394ce; stroke:none; fill-opacity:1\" cx=\"723.328\" cy=\"1374.82\" r=\"21\"/>\n",
       "<circle clip-path=\"url(#clip5103)\" style=\"fill:#2394ce; stroke:none; fill-opacity:1\" cx=\"943.126\" cy=\"1360.97\" r=\"21\"/>\n",
       "<circle clip-path=\"url(#clip5103)\" style=\"fill:#2394ce; stroke:none; fill-opacity:1\" cx=\"1162.92\" cy=\"1345.45\" r=\"21\"/>\n",
       "<circle clip-path=\"url(#clip5103)\" style=\"fill:#2394ce; stroke:none; fill-opacity:1\" cx=\"1382.72\" cy=\"1310.78\" r=\"21\"/>\n",
       "<circle clip-path=\"url(#clip5103)\" style=\"fill:#2394ce; stroke:none; fill-opacity:1\" cx=\"1602.52\" cy=\"1281.49\" r=\"21\"/>\n",
       "<circle clip-path=\"url(#clip5103)\" style=\"fill:#2394ce; stroke:none; fill-opacity:1\" cx=\"1822.32\" cy=\"1223.81\" r=\"21\"/>\n",
       "<circle clip-path=\"url(#clip5103)\" style=\"fill:#2394ce; stroke:none; fill-opacity:1\" cx=\"2042.12\" cy=\"1134.62\" r=\"21\"/>\n",
       "<circle clip-path=\"url(#clip5103)\" style=\"fill:#2394ce; stroke:none; fill-opacity:1\" cx=\"2261.91\" cy=\"1038.14\" r=\"21\"/>\n",
       "<polyline clip-path=\"url(#clip5103)\" style=\"stroke:#facb95; stroke-width:8; stroke-opacity:1; fill:none\" points=\"\n",
       "  283.732,1385.26 503.53,1370 723.328,1351.02 943.126,1317.62 1162.92,1244.78 1382.72,1154.18 1602.52,1025.97 1822.32,829.55 2042.12,515.477 2261.91,86.4381 \n",
       "  \n",
       "  \"/>\n",
       "<circle clip-path=\"url(#clip5103)\" style=\"fill:#facb95; stroke:none; fill-opacity:1\" cx=\"283.732\" cy=\"1385.26\" r=\"21\"/>\n",
       "<circle clip-path=\"url(#clip5103)\" style=\"fill:#facb95; stroke:none; fill-opacity:1\" cx=\"503.53\" cy=\"1370\" r=\"21\"/>\n",
       "<circle clip-path=\"url(#clip5103)\" style=\"fill:#facb95; stroke:none; fill-opacity:1\" cx=\"723.328\" cy=\"1351.02\" r=\"21\"/>\n",
       "<circle clip-path=\"url(#clip5103)\" style=\"fill:#facb95; stroke:none; fill-opacity:1\" cx=\"943.126\" cy=\"1317.62\" r=\"21\"/>\n",
       "<circle clip-path=\"url(#clip5103)\" style=\"fill:#facb95; stroke:none; fill-opacity:1\" cx=\"1162.92\" cy=\"1244.78\" r=\"21\"/>\n",
       "<circle clip-path=\"url(#clip5103)\" style=\"fill:#facb95; stroke:none; fill-opacity:1\" cx=\"1382.72\" cy=\"1154.18\" r=\"21\"/>\n",
       "<circle clip-path=\"url(#clip5103)\" style=\"fill:#facb95; stroke:none; fill-opacity:1\" cx=\"1602.52\" cy=\"1025.97\" r=\"21\"/>\n",
       "<circle clip-path=\"url(#clip5103)\" style=\"fill:#facb95; stroke:none; fill-opacity:1\" cx=\"1822.32\" cy=\"829.55\" r=\"21\"/>\n",
       "<circle clip-path=\"url(#clip5103)\" style=\"fill:#facb95; stroke:none; fill-opacity:1\" cx=\"2042.12\" cy=\"515.477\" r=\"21\"/>\n",
       "<circle clip-path=\"url(#clip5103)\" style=\"fill:#facb95; stroke:none; fill-opacity:1\" cx=\"2261.91\" cy=\"86.4381\" r=\"21\"/>\n",
       "<polygon clip-path=\"url(#clip5101)\" points=\"\n",
       "1094.41,372.684 2249.26,372.684 2249.26,100.524 1094.41,100.524 \n",
       "  \" fill=\"#ffffff\" fill-rule=\"evenodd\" fill-opacity=\"1\"/>\n",
       "<polyline clip-path=\"url(#clip5101)\" style=\"stroke:#000000; stroke-width:4; stroke-opacity:1; fill:none\" points=\"\n",
       "  1094.41,372.684 2249.26,372.684 2249.26,100.524 1094.41,100.524 1094.41,372.684 \n",
       "  \"/>\n",
       "<circle clip-path=\"url(#clip5101)\" style=\"fill:#2394ce; stroke:none; fill-opacity:1\" cx=\"1202.41\" cy=\"191.244\" r=\"21\"/>\n",
       "<g clip-path=\"url(#clip5101)\">\n",
       "<text style=\"fill:#000000; fill-opacity:1; font-family:Arial,Helvetica Neue,Helvetica,sans-serif; font-size:71px; text-anchor:start;\" transform=\"rotate(0, 1286.41, 217.244)\" x=\"1286.41\" y=\"217.244\">Ellipsoidal : Full computation</text>\n",
       "</g>\n",
       "<circle clip-path=\"url(#clip5101)\" style=\"fill:#facb95; stroke:none; fill-opacity:1\" cx=\"1202.41\" cy=\"281.964\" r=\"21\"/>\n",
       "<g clip-path=\"url(#clip5101)\">\n",
       "<text style=\"fill:#000000; fill-opacity:1; font-family:Arial,Helvetica Neue,Helvetica,sans-serif; font-size:71px; text-anchor:start;\" transform=\"rotate(0, 1286.41, 307.964)\" x=\"1286.41\" y=\"307.964\">Polyhedral : only 2 iterations</text>\n",
       "</g>\n",
       "</svg>\n"
      ]
     },
     "execution_count": 12,
     "metadata": {},
     "output_type": "execute_result"
    }
   ],
   "source": [
    "MM = 1:10\n",
    "tell = [0.10468482971191406, 0.2330489158630371, 0.8677887916564941, 1.4519941806793213, 2.107150077819824, 3.5698659420013428, 4.80554986000061, 7.2393341064453125, 11.002917051315308, 15.073602199554443]\n",
    "# 0.115419   0.245829   0.699803\n",
    "# 1.41012    0.583312   1.60318 \n",
    "# 1.63905    1.34177    3.57714 \n",
    "# 2.93782    2.6325     5.64993 \n",
    "# 2.4405     3.54338    9.20356 \n",
    "# 3.57665    6.54242   16.2175  \n",
    "# 5.81741   11.6776    27.5883  \n",
    "# 6.79864   17.2622    45.1504  \n",
    "# 9.08597   29.3919    69.7584  \n",
    "# 0.0        0.0        0.0\n",
    "tpoly2 =[\n",
    " 0.13857    0.34833    0.885522\n",
    " 0.245551   0.613526   2.01404 \n",
    " 0.418676   1.16248    3.58055 \n",
    " 0.814852   2.05653    5.71168 \n",
    " 1.17044    2.95415    8.6016  \n",
    " 1.76629    4.74113   11.3175  \n",
    " 2.31273    6.6922    16.0757  \n",
    " 2.88756    8.71237   22.6182  \n",
    " 3.67838   11.8209    29.5     \n",
    " 4.8712    16.119     41.0898]\n",
    "tpoly = [ # H redundancy removal, CDDLib only, Dell laptop\n",
    "  0.13682    0.290317\n",
    "  0.424803   0.646405\n",
    "  0.637992   1.2339 \n",
    "  0.994851   2.28653 \n",
    "  2.59906    3.7554  \n",
    "  3.39291    6.78438 \n",
    "  4.60605   10.9812  \n",
    "  6.43151   17.4433  \n",
    "  8.70048   28.4263  \n",
    " 12.212     43.0176\n",
    "]\n",
    "# colors taken from https://previews.123rf.com/images/capacitorphoto/capacitorphoto1410/capacitorphoto141000191/32438941-Graph-Icon-color-set-illustration--Stock-Vector.jpg\n",
    "red = Plots.RGBA(((0xf5, 0x92, 0x97) ./ 255)...)\n",
    "gre = Plots.RGBA(((0xcb, 0xdf, 0x80) ./ 255)...)\n",
    "blu = Plots.RGBA(((0x23, 0x94, 0xce) ./ 255)...)\n",
    "ora = Plots.RGBA(((0xfa, 0xcb, 0x95) ./ 255)...)\n",
    "yel = Plots.RGBA(((0xf2, 0xf0, 0x8b) ./ 255)...)\n",
    "#font = (\"sans-serif\",12,:hcenter,:vcenter,0.0,Plots.RGB{Plots.U8}(0.0,0.0,0.0))\n",
    "w = 2\n",
    "ms = 6\n",
    "Plots.plot(xlabel = \"Number of trailers\", ylabel=\"Solve Time [s]\", xticks=1:10, tickfont=Plots.font(10), legendfont=Plots.font(12), guidefont=Plots.font(12))\n",
    "Plots.plot!(MM, tell, color=blu, label=\"\", linewidth=w)\n",
    "Plots.scatter!(MM, tell, color=blu, markersize=6, markerstrokewidth=0, label=\"Ellipsoidal : Full computation\")\n",
    "Plots.plot!(MM, sum(tpoly[:,1:2], dims=2), color=ora, label=\"\", linewidth=w)\n",
    "Plots.scatter!(MM, sum(tpoly[:,1:2], dims=2), color=ora, markersize=6, markerstrokewidth=0, label=\"Polyhedral : only 2 iterations\")\n",
    "#_savefig(\"Benchmark\", \"png\")\n",
    "Plots.plot!()"
   ]
  },
  {
   "cell_type": "code",
   "execution_count": null,
   "metadata": {
    "collapsed": true
   },
   "outputs": [],
   "source": [
    "using JuMP\n",
    "const MOI = MathOptInterface"
   ]
  },
  {
   "cell_type": "markdown",
   "metadata": {},
   "source": [
    "$(x-c)^T Q (x-c) \\le 1 \\Leftrightarrow \\lVert L(x-c) \\rVert \\le 1 \\Leftrightarrow (1, L(x-c)) \\text{ SOC}$"
   ]
  },
  {
   "cell_type": "code",
   "execution_count": null,
   "metadata": {
    "collapsed": true
   },
   "outputs": [],
   "source": [
    "function elltosoc(p::SOS.Ellipsoid)\n",
    "    U, S, V = svd(p.Q)\n",
    "    L = diagm(sqrt.(S)) * V'\n",
    "    @show p.c\n",
    "    x -> L * (x - p.c)\n",
    "end\n",
    "soc = elltosoc.(fullsolve(T, M, false, false))"
   ]
  },
  {
   "cell_type": "code",
   "execution_count": null,
   "metadata": {
    "collapsed": true
   },
   "outputs": [],
   "source": [
    "using JuMP\n",
    "const MOI = MathOptInterface\n",
    "\n",
    "function mpcstep(modes, x0, y0, usesoc, usetol)\n",
    "    m = Model()\n",
    "    nt = length(modes)\n",
    "    @variable m y[1:nt]\n",
    "    @variable m x[1:nt, 1:d]\n",
    "    @variable m u[1:(nt-1)]\n",
    "    @constraint m x[1, :] .== x0\n",
    "    @constraint m y[1] == y0\n",
    "    if usetol\n",
    "        @variable m tol >= 0\n",
    "    end\n",
    "\n",
    "    for i in 1:nt\n",
    "        q = modes[i]\n",
    "        for h in ineqs(hs.invariants[q])\n",
    "            @constraint m dot(x[i, :], h.a) <= h.β + (usetol ? tol : 0.)\n",
    "        end\n",
    "        if usesoc\n",
    "            @constraint m [1; soc[q](x[i, :])] in MOI.SecondOrderCone(1+d)\n",
    "        end\n",
    "        if i < nt\n",
    "            s = modes[i+1]\n",
    "            σ = symbol(hs.automaton, LightGraphs.Edge(q, s))\n",
    "            r = hs.resetmaps[σ]\n",
    "            @constraint m x[i+1, :] .== r.A * x[i, :] + r.B * u[i]\n",
    "            if σ == 1\n",
    "                @constraint m y[i+1] == y[i] + (H/T) * x[i, d-1]\n",
    "            else\n",
    "                @constraint m y[i+1] == y[i]\n",
    "            end\n",
    "        end\n",
    "    end\n",
    "    @objective m Max y[end] - (usetol ? 1000tol : 0.)\n",
    "    JuMP.attach(m, sdpsolver())\n",
    "    JuMP.solve(m)\n",
    "\n",
    "    @assert JuMP.terminationstatus(m) == MOI.Success\n",
    "\n",
    "    JuMP.dualstatus(m), JuMP.resultvalue.(x)[2:end,:], JuMP.resultvalue.(y)[2:end]\n",
    "end"
   ]
  },
  {
   "cell_type": "code",
   "execution_count": null,
   "metadata": {
    "collapsed": true
   },
   "outputs": [],
   "source": [
    "function solvempc(modes, nsteps = 1, useellipsoids = false)\n",
    "    nt = length(modes)\n",
    "    y = Vector{Float64}(nt)\n",
    "    x = Matrix{Float64}(nt, d)\n",
    "    x[1, :] = [repmat([0., 10.], M); 10.; 0.]\n",
    "    y[1] = -10. * (H/T)\n",
    "    last = nt\n",
    "    for i in 1:(nt-1)\n",
    "        j = min(nt, i + nsteps)\n",
    "        _step(usetol) = mpcstep(modes[i:j], x[i, :], y[i], useellipsoids, usetol)\n",
    "        ds, X, Y = _step(false)\n",
    "        if ds == MOI.InfeasibilityCertificate\n",
    "            ds, X, Y = _step(true)\n",
    "        end\n",
    "        while ds == MOI.InfeasibilityCertificate && nsteps > 1\n",
    "            nsteps -= 1\n",
    "            ds, X, Y = _step(true)\n",
    "        end\n",
    "        if ds == MOI.InfeasibilityCertificate || !(X[1, :] in hs.invariants[modes[i+1]])\n",
    "            last = i\n",
    "            break\n",
    "        else\n",
    "            x[i+1, :] = X[1, :]\n",
    "            y[i+1] = Y[1]\n",
    "        end\n",
    "    end\n",
    "    x[2:last, :], y[2:last]\n",
    "end"
   ]
  },
  {
   "cell_type": "code",
   "execution_count": null,
   "metadata": {
    "collapsed": true
   },
   "outputs": [],
   "source": [
    "nt = 77\n",
    "nN = div(nt, 2)\n",
    "modes = [fill(N, nN); 3; 2; fill(1, nt-2-nN)];\n",
    "t = [0.]\n",
    "tswitch = Float64[]\n",
    "for i in 2:(nt-1)\n",
    "    σ = symbol(hs.automaton, LightGraphs.Edge(modes[i], modes[i+1]))\n",
    "    if σ == 1\n",
    "        push!(t, t[end] + H/T)\n",
    "    else\n",
    "        push!(t, t[end])\n",
    "        tswitch = [t[end], t[end]]\n",
    "    end\n",
    "end"
   ]
  },
  {
   "cell_type": "code",
   "execution_count": null,
   "metadata": {
    "collapsed": true
   },
   "outputs": [],
   "source": [
    "t"
   ]
  },
  {
   "cell_type": "code",
   "execution_count": null,
   "metadata": {
    "collapsed": true
   },
   "outputs": [],
   "source": [
    "last = map(i -> length(solvempc(modes, i)[2]), 3:nt)"
   ]
  },
  {
   "cell_type": "code",
   "execution_count": null,
   "metadata": {
    "collapsed": true
   },
   "outputs": [],
   "source": [
    "Plots.plot(3:nt, last)"
   ]
  },
  {
   "cell_type": "code",
   "execution_count": null,
   "metadata": {
    "collapsed": true
   },
   "outputs": [],
   "source": [
    "XYok = Dict{String, Tuple{Matrix{Float64}, Vector{Float64}}}()\n",
    "XYko = Dict{String, Tuple{Matrix{Float64}, Vector{Float64}}}();"
   ]
  },
  {
   "cell_type": "code",
   "execution_count": null,
   "metadata": {
    "collapsed": true
   },
   "outputs": [],
   "source": [
    "XYok[\"unsafe optimal\"] = solvempc(modes, nt);"
   ]
  },
  {
   "cell_type": "code",
   "execution_count": null,
   "metadata": {
    "collapsed": true
   },
   "outputs": [],
   "source": [
    "XYok[\"unsafe 23\"] = solvempc(modes, 23);"
   ]
  },
  {
   "cell_type": "code",
   "execution_count": null,
   "metadata": {
    "collapsed": true
   },
   "outputs": [],
   "source": [
    "XYko[\"unsafe 22\"] = solvempc(modes, 22);"
   ]
  },
  {
   "cell_type": "code",
   "execution_count": null,
   "metadata": {
    "collapsed": true
   },
   "outputs": [],
   "source": [
    "XYko[\"unsafe 8\"] = solvempc(modes, 8);"
   ]
  },
  {
   "cell_type": "code",
   "execution_count": null,
   "metadata": {
    "collapsed": true
   },
   "outputs": [],
   "source": [
    "XYok[\"safe 8\"] = solvempc(modes, 8, true);"
   ]
  },
  {
   "cell_type": "code",
   "execution_count": null,
   "metadata": {
    "collapsed": true
   },
   "outputs": [],
   "source": [
    "XYok[\"safe 3\"] = solvempc(modes, 3, true);"
   ]
  },
  {
   "cell_type": "code",
   "execution_count": null,
   "metadata": {
    "collapsed": true
   },
   "outputs": [],
   "source": [
    "#XY = [(\"unsafe 8\", XYko[\"unsafe 8\"])];\n",
    "XY = XYok;\n",
    "plotsize = (800, 400);"
   ]
  },
  {
   "cell_type": "code",
   "execution_count": null,
   "metadata": {
    "collapsed": true
   },
   "outputs": [],
   "source": [
    "Plots.plot(size=(800, 400), xlabel=\"Time [s]\", ylabel=\"Truck position [m]\")\n",
    "for (s, (x, y)) in XY\n",
    "    Plots.plot!(t, y, label=s)\n",
    "end\n",
    "Plots.plot!(tswitch .+ H, collect(extrema(XY[\"unsafe optimal\"][2])), label=\"\")\n",
    "#_savefig(\"Position\")"
   ]
  },
  {
   "cell_type": "markdown",
   "metadata": {},
   "source": [
    "The last value of the speed does not impact `y[end]` so the value taken by the solver is arbitrary"
   ]
  },
  {
   "cell_type": "code",
   "execution_count": null,
   "metadata": {
    "collapsed": true
   },
   "outputs": [],
   "source": [
    "Plots.plot(size=(800, 400), [t[1], tswitch[1]+H], [35, 35], size=plotsize, label=\"\", xlabel=\"Time [s]\", ylabel=\"Speed [m/s]\")\n",
    "mini = Inf\n",
    "maxi = 35\n",
    "for (s, (x, y)) in XY\n",
    "    v1 = x[:,d-2]\n",
    "    v0 = x[:,d-1]\n",
    "    #:none,:auto,:circle,:rect,:star5,:diamond,:hexagon,:cross,:xcross,:utriangle,:dtriangle,:rtriangle,:ltriangle,:pentagon,:heptagon,:octagon,:star4,:star6,:star7,:star8,:vline,:hline,:+,:x].\n",
    "    issafe = s[1] == 's'\n",
    "    ms = 5\n",
    "    Plots.scatter!(t[1:end-1], v1[1:end-1], label=\"Trailer speed $s\", markersize=ms, markershape=issafe ? :diamond : :utriangle, markerstrokewidth=0)\n",
    "    Plots.scatter!(t[1:end-1], v0[1:end-1], label=\"Truck speed $s\", markersize=ms, markershape=issafe ? :circle : :rtriangle, markerstrokewidth=0)\n",
    "    mini = min(mini, minimum(v1), minimum(v0))\n",
    "    maxi = max(maxi, maximum(v1), maximum(v0))\n",
    "end\n",
    "#Plots.plot!(tswitch, [mini, maxi])\n",
    "Plots.plot!(tswitch .+ H, [mini, maxi], label=\"\")\n",
    "Plots.plot!([tswitch[1]+H, t[end]], [va, va], label=\"\")\n",
    "#_savefig(\"Speed\")"
   ]
  },
  {
   "cell_type": "markdown",
   "metadata": {},
   "source": [
    "The last two values of the acceleration does not impact `y[end]` so the values taken by the solver are arbitrary"
   ]
  },
  {
   "cell_type": "code",
   "execution_count": null,
   "metadata": {
    "collapsed": true
   },
   "outputs": [],
   "source": [
    "Plots.plot(size=plotsize, ylim=(-4.1, 4.1), xlabel=\"Time [s]\", ylabel=\"Acceleration [m/s²]\")\n",
    "for (s, (x, y)) in XY\n",
    "    u = x[:, 4]\n",
    "    issafe = s[1] == 's'\n",
    "    Plots.scatter!(t[1:end-2], u[1:end-2], label=\"Truck acceleration $s\", markersize=7, markershape=issafe ? :circle : :rtriangle, markerstrokewidth=0)\n",
    "end\n",
    "Plots.plot!(tswitch .+ H, [-U, U], label=\"\")\n",
    "#_savefig(\"Acceleration\")"
   ]
  },
  {
   "cell_type": "code",
   "execution_count": null,
   "metadata": {
    "collapsed": true
   },
   "outputs": [],
   "source": [
    "Plots.plot(yticks = [-0.5, -0.25, 0.0, 0.25, 0.5], ylims=(-0.55, 0.55), size=plotsize, xlabel=\"Time [s]\", ylabel=\"Displacement [m]\")\n",
    "for (s, (x, y)) in XY\n",
    "    dist = x[:, 1]\n",
    "    Plots.plot!(t[1:end-2], dist, label=\"Spring displacement $s\")\n",
    "end\n",
    "Plots.plot!(tswitch .+ H, [-.5, .5], label=\"\")\n",
    "#_savefig(\"Displacement\")"
   ]
  },
  {
   "cell_type": "code",
   "execution_count": null,
   "metadata": {
    "collapsed": true
   },
   "outputs": [],
   "source": []
  }
 ],
 "metadata": {
  "kernelspec": {
   "display_name": "Julia 1.0.3",
   "language": "julia",
   "name": "julia-1.0"
  },
  "language_info": {
   "file_extension": ".jl",
   "mimetype": "application/julia",
   "name": "julia",
   "version": "1.0.3"
  }
 },
 "nbformat": 4,
 "nbformat_minor": 2
}
